{
 "cells": [
  {
   "cell_type": "markdown",
   "metadata": {},
   "source": [
    "## Phase 3.31\n",
    "# Support Vector Machines\n",
    "\n",
    "## Objectives\n",
    "- . . ."
   ]
  },
  {
   "cell_type": "markdown",
   "metadata": {},
   "source": [
    "# Introduction\n",
    "> A Support Vector Machine (SVM) is a type of classifier which **modifies the loss function** for optimization to not only take into account overall accuracy metrics of the resulting predictions, but **also to maximize the decision boundary** between the data points. In essence, this further helps tune the classifier as a good balance between underfitting and overfitting.\n",
    "\n",
    "# Visual Walkthrough\n",
    "## Basic Example\n",
    "1. Two Classes\n",
    "<img src='./images/svm1.png' width='300'>\n",
    "\n",
    "2. Maximize the boundary between classes.\n",
    "<img src='./images/svm2.png' width='300'>\n",
    "\n",
    "***Simple Enough!*** *The detailed mathematics can be found in the curriculum.*\n",
    "\n",
    "## $C$-Value\n",
    "\n",
    "- **Left:** A *large* value for $C$. \n",
    "    - Misclassifications are heavily punished.\n",
    "        - Optimization prioritizes correct predictions over **size of margin**.\n",
    "        \n",
    "- **Right:** A *small* value for $C$.\n",
    "    - The largest possible margin is achieved, even at the expense of some misclassifications.\n",
    "        - A more generalized model is created.\n",
    "        - Helps with **overfitting**.\n",
    "    \n",
    "<img src='./images/svm3.png' width='600'>"
   ]
  },
  {
   "cell_type": "markdown",
   "metadata": {},
   "source": [
    "# Playing with Decision Boundaries"
   ]
  },
  {
   "cell_type": "code",
   "execution_count": null,
   "metadata": {
    "ExecuteTime": {
     "end_time": "2021-03-26T13:45:46.774624Z",
     "start_time": "2021-03-26T13:45:43.609488Z"
    }
   },
   "outputs": [],
   "source": [
    "from sklearn.datasets import make_blobs\n",
    "\n",
    "from sklearn.svm import SVC\n",
    "\n",
    "import numpy as np\n",
    "import pandas as pd\n",
    "import matplotlib.pyplot as plt\n",
    "import seaborn as sns\n",
    "%matplotlib inline"
   ]
  },
  {
   "cell_type": "code",
   "execution_count": null,
   "metadata": {
    "ExecuteTime": {
     "end_time": "2021-03-26T13:45:46.779539Z",
     "start_time": "2021-03-26T13:45:46.776917Z"
    }
   },
   "outputs": [],
   "source": [
    "# Setting style.\n",
    "plt.style.use(['ggplot', 'seaborn-talk'])"
   ]
  },
  {
   "cell_type": "code",
   "execution_count": null,
   "metadata": {
    "ExecuteTime": {
     "end_time": "2021-03-26T13:45:47.121014Z",
     "start_time": "2021-03-26T13:45:46.781981Z"
    }
   },
   "outputs": [],
   "source": [
    "# Make some simple data to look at.\n",
    "X, y = make_blobs(\n",
    "    n_features=2, \n",
    "    centers=2, \n",
    "    cluster_std=1.25, \n",
    "    random_state=51)\n",
    "\n",
    "# Transform to df for easy plotting.\n",
    "df = pd.DataFrame(X, columns=['x0', 'x1'])\n",
    "df['y'] = y\n",
    "\n",
    "# Plot data.\n",
    "fig, ax = plt.subplots()\n",
    "sns.scatterplot(x='x0', y='x1', hue='y', data=df, ax=ax)\n",
    "ax.set(title='Our Data!')\n",
    "fig.tight_layout()"
   ]
  },
  {
   "cell_type": "code",
   "execution_count": null,
   "metadata": {
    "ExecuteTime": {
     "end_time": "2021-03-26T13:45:47.139141Z",
     "start_time": "2021-03-26T13:45:47.123582Z"
    }
   },
   "outputs": [],
   "source": [
    "# Train a SVC on the data.\n",
    "svc = SVC(kernel='linear')\n",
    "svc.fit(X, y)"
   ]
  },
  {
   "cell_type": "code",
   "execution_count": null,
   "metadata": {
    "ExecuteTime": {
     "end_time": "2021-03-26T13:45:47.144100Z",
     "start_time": "2021-03-26T13:45:47.140811Z"
    }
   },
   "outputs": [],
   "source": [
    "# Coordinates of the points that determine the decision boundary.\n",
    "svc.support_vectors_"
   ]
  },
  {
   "cell_type": "code",
   "execution_count": null,
   "metadata": {
    "ExecuteTime": {
     "end_time": "2021-03-26T13:45:47.186854Z",
     "start_time": "2021-03-26T13:45:47.145688Z"
    }
   },
   "outputs": [],
   "source": [
    "# Function to find where the predictions change.\n",
    "def get_decision_barrier(X, svc):\n",
    "    \"\"\"Returns the coordinates where the predictions flip.\"\"\"\n",
    "    \n",
    "    X0_vals = np.arange(min(X[:,0].flatten()), max(X[:,0].flatten()), 0.1)\n",
    "    X1_vals = np.arange(min(X[:,1].flatten()), max(X[:,1].flatten()), 0.1)\n",
    "\n",
    "    # Iterate through coordinates to find the decision barrier.\n",
    "    barrier_lst = [] # coordinates where the prediction changes from one to the next.\n",
    "    for x0 in X0_vals:\n",
    "        last_pred = None\n",
    "\n",
    "        for x1 in X1_vals:\n",
    "            curr_pred = svc.predict(np.array([[x0, x1]]))\n",
    "\n",
    "            if last_pred is None: # Checking if this is the first point in the iteration.\n",
    "                last_pred = curr_pred\n",
    "\n",
    "            if curr_pred != last_pred:\n",
    "                barrier_lst.append((x0, x1)) # Append the coordinate where the prediction changes.\n",
    "\n",
    "            last_pred = curr_pred\n",
    "\n",
    "    barrier_lst = np.array(barrier_lst)\n",
    "    return barrier_lst"
   ]
  },
  {
   "cell_type": "code",
   "execution_count": null,
   "metadata": {
    "ExecuteTime": {
     "end_time": "2021-03-26T13:45:48.915627Z",
     "start_time": "2021-03-26T13:45:47.188898Z"
    }
   },
   "outputs": [],
   "source": [
    "# Show the decision boundary.\n",
    "barrier_lst = get_decision_barrier(X, svc)\n",
    "\n",
    "fig, ax = plt.subplots(figsize=(8, 6))\n",
    "sns.scatterplot(x='x0', y='x1', hue='y', data=df, ax=ax)\n",
    "ax.plot(barrier_lst[:,0], barrier_lst[:,1], color='orange', label='Boundary')\n",
    "\n",
    "# Show Support Vectors (points from which the boundaries are drawn)\n",
    "for sv_x, sv_y in svc.support_vectors_:\n",
    "    ax.annotate('SV', xy=(sv_x, sv_y), xytext=(sv_x+1, sv_y+1),\n",
    "                arrowprops=dict(facecolor='black', shrink=0.05),\n",
    "                )\n",
    "\n",
    "ax.set(title='Our Data\\n& Decision Boundary')\n",
    "ax.legend()\n",
    "fig.tight_layout()"
   ]
  },
  {
   "cell_type": "markdown",
   "metadata": {},
   "source": [
    "# Linear vs RBF\n",
    "\n",
    "*Code Inspiration*: \n",
    "- https://scikit-learn.org/stable/auto_examples/classification/plot_classifier_comparison.html#sphx-glr-auto-examples-classification-plot-classifier-comparison-py"
   ]
  },
  {
   "cell_type": "code",
   "execution_count": null,
   "metadata": {
    "ExecuteTime": {
     "end_time": "2021-03-26T13:51:52.793342Z",
     "start_time": "2021-03-26T13:51:52.790695Z"
    }
   },
   "outputs": [],
   "source": [
    "from sklearn.datasets import make_classification, make_moons, make_circles"
   ]
  },
  {
   "cell_type": "code",
   "execution_count": null,
   "metadata": {
    "ExecuteTime": {
     "end_time": "2021-03-26T14:40:59.492312Z",
     "start_time": "2021-03-26T14:40:59.129435Z"
    }
   },
   "outputs": [],
   "source": [
    "# Make datasets.\n",
    "X, y = make_classification(\n",
    "    n_features=2, n_redundant=0, n_informative=2,\n",
    "    random_state=51, n_clusters_per_class=1)\n",
    "rng = np.random.RandomState(51)\n",
    "X += 2 * rng.uniform(size=X.shape)\n",
    "linearly_separable = (X, y)\n",
    "\n",
    "datasets = [\n",
    "    ('Moons', make_moons(noise=0.1, random_state=51)),\n",
    "    ('Circles', make_circles(noise=0.2, factor=0.5, random_state=51)),\n",
    "    ('Linear', linearly_separable)\n",
    "]\n",
    "\n",
    "# Plot data.\n",
    "fig, ax_lst = plt.subplots(ncols=3, figsize=(12,4))\n",
    "for (title, data), ax in zip(datasets, ax_lst):\n",
    "    X, y = data\n",
    "    ax.scatter(X[:, 0], X[:, 1], c=y, cmap='bwr')\n",
    "    ax.set(title=title)\n",
    "fig.tight_layout()"
   ]
  },
  {
   "cell_type": "code",
   "execution_count": null,
   "metadata": {
    "ExecuteTime": {
     "end_time": "2021-03-26T14:41:05.340416Z",
     "start_time": "2021-03-26T14:41:05.336989Z"
    }
   },
   "outputs": [],
   "source": [
    "H = .02  # step size in the meshgrid\n",
    "\n",
    "names = [\"Linear SVM\", \"RBF SVM\"]\n",
    "\n",
    "classifiers = [\n",
    "    ('Linear SVC', SVC(kernel=\"linear\", C=0.025)),\n",
    "    ('RBF SVC', SVC(gamma=2, C=1))\n",
    "]"
   ]
  },
  {
   "cell_type": "code",
   "execution_count": null,
   "metadata": {
    "ExecuteTime": {
     "end_time": "2021-03-26T14:41:05.737502Z",
     "start_time": "2021-03-26T14:41:05.728040Z"
    }
   },
   "outputs": [],
   "source": [
    "def plot_on_meshgrid(datasets, classifiers, H=0.02):\n",
    "    \"\"\"\n",
    "    Datasets: list of tuples: (`title`, (X, y))\n",
    "    Classifiers: list of tuples: (`name`, `unfit_clf`)\n",
    "    H: default: 0.02: Step size to take in the meshgrid.\n",
    "    \"\"\"\n",
    "    \n",
    "    fig, ax_lst = plt.subplots(nrows=2, ncols=3, figsize=(12, 8))\n",
    "    for n, (title, data) in enumerate(datasets):\n",
    "        for ax, (name, clf) in zip(ax_lst[:, n], classifiers):\n",
    "            # Process data.\n",
    "            X, y = data\n",
    "            x_min, x_max = X[:, 0].min() - .5, X[:, 0].max() + .5\n",
    "            y_min, y_max = X[:, 1].min() - .5, X[:, 1].max() + .5\n",
    "            xx, yy = np.meshgrid(np.arange(x_min, x_max, H),\n",
    "                                 np.arange(y_min, y_max, H))\n",
    "\n",
    "            # Fit model.\n",
    "            clf.fit(X, y)\n",
    "\n",
    "            # Plot the decision boundary. For that, we will assign a color to each\n",
    "            # point in the mesh [x_min, x_max]x[y_min, y_max].\n",
    "            Z = clf.decision_function(np.c_[xx.ravel(), yy.ravel()])\n",
    "\n",
    "            # Put the result into a color plot\n",
    "            Z = Z.reshape(xx.shape)\n",
    "            ax.contourf(xx, yy, Z, cmap='viridis', alpha=.8)\n",
    "\n",
    "            # Plot the points.\n",
    "            ax.scatter(X[:, 0], X[:, 1], c=y, cmap='viridis')\n",
    "\n",
    "            ax.set_xlim(xx.min(), xx.max())\n",
    "            ax.set_ylim(yy.min(), yy.max())\n",
    "            ax.set_xticks(())\n",
    "            ax.set_yticks(())\n",
    "            ax.set(title=f'{name} - {title}')\n",
    "    fig.tight_layout()\n",
    "    plt.show()"
   ]
  },
  {
   "cell_type": "code",
   "execution_count": null,
   "metadata": {
    "ExecuteTime": {
     "end_time": "2021-03-26T14:41:07.525018Z",
     "start_time": "2021-03-26T14:41:06.133711Z"
    }
   },
   "outputs": [],
   "source": [
    "plot_on_meshgrid(datasets, classifiers)"
   ]
  },
  {
   "cell_type": "markdown",
   "metadata": {},
   "source": [
    "# Pros-Cons\n",
    "## Pros\n",
    "- No assumptions!\n",
    "- Good for datasets with high dimensionality.\n",
    "- Very good performance.\n",
    "    - Can approximate complex non-linear functions.\n",
    "\n",
    "## Cons\n",
    "- Long training time.\n",
    "- Lots of tuning required. (`Kernel` especially)"
   ]
  },
  {
   "cell_type": "code",
   "execution_count": null,
   "metadata": {},
   "outputs": [],
   "source": []
  }
 ],
 "metadata": {
  "kernelspec": {
   "display_name": "Python [conda env:learn-env] *",
   "language": "python",
   "name": "conda-env-learn-env-py"
  },
  "language_info": {
   "codemirror_mode": {
    "name": "ipython",
    "version": 3
   },
   "file_extension": ".py",
   "mimetype": "text/x-python",
   "name": "python",
   "nbconvert_exporter": "python",
   "pygments_lexer": "ipython3",
   "version": "3.6.9"
  },
  "toc": {
   "base_numbering": 1,
   "nav_menu": {},
   "number_sections": false,
   "sideBar": true,
   "skip_h1_title": false,
   "title_cell": "Table of Contents",
   "title_sidebar": "Contents",
   "toc_cell": false,
   "toc_position": {
    "height": "calc(100% - 180px)",
    "left": "10px",
    "top": "150px",
    "width": "277.391px"
   },
   "toc_section_display": true,
   "toc_window_display": true
  }
 },
 "nbformat": 4,
 "nbformat_minor": 2
}
