{
 "cells": [
  {
   "cell_type": "markdown",
   "metadata": {
    "id": "UaaUVS7xCjub"
   },
   "source": [
    "## Phase 3.23\n",
    "\n",
    "# Gradient Descent\n",
    "\n",
    "## Objectives\n",
    "* Understand the general process of gradient descent with respect to RSS(cost function) \n",
    "* Be able to define parameters, step size and learning rate\n",
    "* Use OOP to create and apply a gradient descent class with linear regression \n"
   ]
  },
  {
   "cell_type": "markdown",
   "metadata": {
    "id": "oExf0hvMCjuf"
   },
   "source": [
    "### Simple example of Gradient Descent"
   ]
  },
  {
   "cell_type": "code",
   "execution_count": 1,
   "metadata": {
    "ExecuteTime": {
     "end_time": "2021-09-01T19:25:57.164541Z",
     "start_time": "2021-09-01T19:25:56.549637Z"
    },
    "id": "zINQRbxdCjug",
    "outputId": "8f8859c2-01e3-4fc2-8f55-137171e8d49c"
   },
   "outputs": [],
   "source": [
    "import numpy as np\n",
    "import pandas as pd\n",
    "import matplotlib.pyplot as plt"
   ]
  },
  {
   "cell_type": "code",
   "execution_count": 2,
   "metadata": {
    "ExecuteTime": {
     "end_time": "2021-09-01T19:25:57.187384Z",
     "start_time": "2021-09-01T19:25:57.167743Z"
    },
    "id": "zINQRbxdCjug",
    "outputId": "8f8859c2-01e3-4fc2-8f55-137171e8d49c"
   },
   "outputs": [
    {
     "data": {
      "text/html": [
       "<div>\n",
       "<style scoped>\n",
       "    .dataframe tbody tr th:only-of-type {\n",
       "        vertical-align: middle;\n",
       "    }\n",
       "\n",
       "    .dataframe tbody tr th {\n",
       "        vertical-align: top;\n",
       "    }\n",
       "\n",
       "    .dataframe thead th {\n",
       "        text-align: right;\n",
       "    }\n",
       "</style>\n",
       "<table border=\"1\" class=\"dataframe\">\n",
       "  <thead>\n",
       "    <tr style=\"text-align: right;\">\n",
       "      <th></th>\n",
       "      <th>TV</th>\n",
       "      <th>Radio</th>\n",
       "      <th>Newspaper</th>\n",
       "      <th>Sales</th>\n",
       "    </tr>\n",
       "  </thead>\n",
       "  <tbody>\n",
       "    <tr>\n",
       "      <th>1</th>\n",
       "      <td>230.1</td>\n",
       "      <td>37.8</td>\n",
       "      <td>69.2</td>\n",
       "      <td>22.1</td>\n",
       "    </tr>\n",
       "    <tr>\n",
       "      <th>2</th>\n",
       "      <td>44.5</td>\n",
       "      <td>39.3</td>\n",
       "      <td>45.1</td>\n",
       "      <td>10.4</td>\n",
       "    </tr>\n",
       "    <tr>\n",
       "      <th>3</th>\n",
       "      <td>17.2</td>\n",
       "      <td>45.9</td>\n",
       "      <td>69.3</td>\n",
       "      <td>9.3</td>\n",
       "    </tr>\n",
       "    <tr>\n",
       "      <th>4</th>\n",
       "      <td>151.5</td>\n",
       "      <td>41.3</td>\n",
       "      <td>58.5</td>\n",
       "      <td>18.5</td>\n",
       "    </tr>\n",
       "    <tr>\n",
       "      <th>5</th>\n",
       "      <td>180.8</td>\n",
       "      <td>10.8</td>\n",
       "      <td>58.4</td>\n",
       "      <td>12.9</td>\n",
       "    </tr>\n",
       "  </tbody>\n",
       "</table>\n",
       "</div>"
      ],
      "text/plain": [
       "      TV  Radio  Newspaper  Sales\n",
       "1  230.1   37.8       69.2   22.1\n",
       "2   44.5   39.3       45.1   10.4\n",
       "3   17.2   45.9       69.3    9.3\n",
       "4  151.5   41.3       58.5   18.5\n",
       "5  180.8   10.8       58.4   12.9"
      ]
     },
     "execution_count": 2,
     "metadata": {},
     "output_type": "execute_result"
    }
   ],
   "source": [
    "data = pd.read_csv('data/advertising.csv', index_col=0)\n",
    "data.head()"
   ]
  },
  {
   "cell_type": "code",
   "execution_count": 3,
   "metadata": {
    "ExecuteTime": {
     "end_time": "2021-09-01T19:25:57.196751Z",
     "start_time": "2021-09-01T19:25:57.189909Z"
    },
    "id": "OuBt3JlmCjui",
    "outputId": "11584f78-5e47-4b39-aab3-3b51131c0ebf"
   },
   "outputs": [
    {
     "name": "stdout",
     "output_type": "stream",
     "text": [
      "        TV  Radio  Newspaper  Sales\n",
      "150   44.7   25.8       20.6   10.1\n",
      "32   112.9   17.4       38.6   11.9\n",
      "199  283.6   42.0       66.2   25.5\n",
      "55   262.7   28.8       15.9   20.2\n",
      "77    27.5    1.6       20.7    6.9\n"
     ]
    }
   ],
   "source": [
    "data = data.iloc[[149, 31, 198, 54, 76]]\n",
    "X = data['TV']\n",
    "y = data['Sales']\n",
    "print(data)"
   ]
  },
  {
   "cell_type": "code",
   "execution_count": 4,
   "metadata": {
    "ExecuteTime": {
     "end_time": "2021-09-01T19:25:57.372689Z",
     "start_time": "2021-09-01T19:25:57.199344Z"
    },
    "id": "ZWtED3yqCjuj",
    "outputId": "50b8310f-081d-40fb-f153-71e8b6e34a7f"
   },
   "outputs": [
    {
     "data": {
      "image/png": "[encoded data removed]",
      "text/plain": [
       "<Figure size 432x288 with 1 Axes>"
      ]
     },
     "metadata": {
      "needs_background": "light"
     },
     "output_type": "display_data"
    }
   ],
   "source": [
    "plt.scatter(X, y)\n",
    "plt.ylabel('Sales')\n",
    "plt.xlabel('Tv Advertising Dollars')\n",
    "plt.show()"
   ]
  },
  {
   "cell_type": "code",
   "execution_count": 5,
   "metadata": {
    "ExecuteTime": {
     "end_time": "2021-09-01T19:25:57.384415Z",
     "start_time": "2021-09-01T19:25:57.376430Z"
    },
    "id": "qZ0T6iXeCjuj",
    "outputId": "5d034e43-699b-4210-e455-837d297cb191",
    "scrolled": true
   },
   "outputs": [
    {
     "data": {
      "text/html": [
       "<div>\n",
       "<style scoped>\n",
       "    .dataframe tbody tr th:only-of-type {\n",
       "        vertical-align: middle;\n",
       "    }\n",
       "\n",
       "    .dataframe tbody tr th {\n",
       "        vertical-align: top;\n",
       "    }\n",
       "\n",
       "    .dataframe thead th {\n",
       "        text-align: right;\n",
       "    }\n",
       "</style>\n",
       "<table border=\"1\" class=\"dataframe\">\n",
       "  <thead>\n",
       "    <tr style=\"text-align: right;\">\n",
       "      <th></th>\n",
       "      <th>TV</th>\n",
       "      <th>Sales</th>\n",
       "    </tr>\n",
       "  </thead>\n",
       "  <tbody>\n",
       "    <tr>\n",
       "      <th>150</th>\n",
       "      <td>44.7</td>\n",
       "      <td>10.1</td>\n",
       "    </tr>\n",
       "    <tr>\n",
       "      <th>32</th>\n",
       "      <td>112.9</td>\n",
       "      <td>11.9</td>\n",
       "    </tr>\n",
       "    <tr>\n",
       "      <th>199</th>\n",
       "      <td>283.6</td>\n",
       "      <td>25.5</td>\n",
       "    </tr>\n",
       "    <tr>\n",
       "      <th>55</th>\n",
       "      <td>262.7</td>\n",
       "      <td>20.2</td>\n",
       "    </tr>\n",
       "    <tr>\n",
       "      <th>77</th>\n",
       "      <td>27.5</td>\n",
       "      <td>6.9</td>\n",
       "    </tr>\n",
       "  </tbody>\n",
       "</table>\n",
       "</div>"
      ],
      "text/plain": [
       "        TV  Sales\n",
       "150   44.7   10.1\n",
       "32   112.9   11.9\n",
       "199  283.6   25.5\n",
       "55   262.7   20.2\n",
       "77    27.5    6.9"
      ]
     },
     "execution_count": 5,
     "metadata": {},
     "output_type": "execute_result"
    }
   ],
   "source": [
    "data.drop(['Radio', 'Newspaper'], axis=1)"
   ]
  },
  {
   "cell_type": "code",
   "execution_count": 6,
   "metadata": {
    "ExecuteTime": {
     "end_time": "2021-09-01T19:25:57.389846Z",
     "start_time": "2021-09-01T19:25:57.387199Z"
    },
    "id": "MB_Li8omCjuk"
   },
   "outputs": [],
   "source": [
    "def regression_formula(x, slope, intercept):\n",
    "    return slope * x + intercept"
   ]
  },
  {
   "cell_type": "markdown",
   "metadata": {
    "id": "g1Zniw_0Cjul"
   },
   "source": [
    "Now, we need an initial starting point for gradient descent. Let's choose 0.1 as our initial slope and 0 for our intercept. "
   ]
  },
  {
   "cell_type": "code",
   "execution_count": 7,
   "metadata": {
    "ExecuteTime": {
     "end_time": "2021-09-01T19:25:57.394321Z",
     "start_time": "2021-09-01T19:25:57.392001Z"
    },
    "id": "ZxI39xwqCjum"
   },
   "outputs": [],
   "source": [
    "slope1 = 0.1\n",
    "intercept1 = 0"
   ]
  },
  {
   "cell_type": "code",
   "execution_count": 8,
   "metadata": {
    "ExecuteTime": {
     "end_time": "2021-09-01T19:25:57.621100Z",
     "start_time": "2021-09-01T19:25:57.397772Z"
    },
    "id": "-0ogO5eqCjun",
    "outputId": "c251a007-c2e0-4c25-aa0e-e661eb0bb4a6"
   },
   "outputs": [
    {
     "data": {
      "image/png": "[encoded data removed]",
      "text/plain": [
       "<Figure size 864x576 with 1 Axes>"
      ]
     },
     "metadata": {
      "needs_background": "light"
     },
     "output_type": "display_data"
    }
   ],
   "source": [
    "fig, ax = plt.subplots(figsize=(12, 8))\n",
    "ax.scatter(X, y, label='Raw Data')\n",
    "ax.set_ylim([0, 30])\n",
    "ax.plot(X, \n",
    "         regression_formula(X, slope1, intercept1), \n",
    "         color='k', \n",
    "         label='Regression')\n",
    "ax.legend()\n",
    "fig.tight_layout()"
   ]
  },
  {
   "cell_type": "code",
   "execution_count": 9,
   "metadata": {
    "ExecuteTime": {
     "end_time": "2021-09-01T19:25:57.627457Z",
     "start_time": "2021-09-01T19:25:57.623350Z"
    },
    "id": "Jo6qjSVvCjun",
    "outputId": "79cd3a07-f4fb-4607-d6e8-865d6cecba24"
   },
   "outputs": [
    {
     "name": "stdout",
     "output_type": "stream",
     "text": [
      "150     4.47\n",
      "32     11.29\n",
      "199    28.36\n",
      "55     26.27\n",
      "77      2.75\n",
      "Name: TV, dtype: float64\n"
     ]
    }
   ],
   "source": [
    "print(regression_formula(X, slope1, intercept1))"
   ]
  },
  {
   "cell_type": "markdown",
   "metadata": {
    "id": "7z33J4nSCjuo"
   },
   "source": [
    "**Arithmatically, our function looks like this:**\n",
    "\n",
    "$\\large \\text{Sales} = 0.1(\\text{TV} ) + 0 $\n",
    "    \n",
    "Now, let's calculate the Sum of Squared Error(Cost function) for this line by plugging in the predicted x-value into our formula and getting the predited y-value and substracting it from the actual y-value. \n",
    "\n",
    "![](https://github.com/justmarkham/DAT4/raw/068d887e4be2eedb1b958b345ae097153f762d75/notebooks/08_estimating_coefficients.png)"
   ]
  },
  {
   "cell_type": "markdown",
   "metadata": {
    "id": "KShUUiaZCjuo"
   },
   "source": [
    "## Steps to find the optimal slope and intercept of a line of best fit using RSS as our cost function \n",
    "\n",
    "1. Take the derivative of the loss function for each parameter(gradient).\n",
    "2. Pick random values for the parameters. \n",
    "3. Plug the parameter values into the derivatives. \n",
    "4. Calculate the step sizes (slope * learning rate) \n",
    "5. Calculate new parameters (old parameters - step size) \n",
    "6. Repeat steps 3-5 until max number of steps is reached or minimum step size is reached. \n",
    "\n",
    "<img src='images/convex_cost_function.jpeg'>"
   ]
  },
  {
   "cell_type": "markdown",
   "metadata": {
    "ExecuteTime": {
     "end_time": "2021-03-19T18:10:51.298800Z",
     "start_time": "2021-03-19T18:10:51.295142Z"
    },
    "id": "QiZC_FBcCjup"
   },
   "source": [
    "![](https://github.com/Amberlynnyandow/study-group-content/blob/master/module_3/week_2_PT/Intro-gradient-descent.jpg?raw=1)\n",
    "![](https://github.com/Amberlynnyandow/study-group-content/blob/master/module_3/week_2_PT/walk-thru-GD.jpg?raw=1)\n",
    "![](https://github.com/Amberlynnyandow/study-group-content/blob/master/module_3/week_2_PT/taking_partial_derivatives_GD.jpg?raw=1)"
   ]
  },
  {
   "cell_type": "markdown",
   "metadata": {
    "ExecuteTime": {
     "end_time": "2021-03-19T18:22:18.745884Z",
     "start_time": "2021-03-19T18:22:18.742838Z"
    },
    "id": "tpvGBKkyCjup"
   },
   "source": [
    "## Derivatives in gradient descent \n",
    "**A derivative tells us how a function is changing at any given point in time. They calculate the rate of change** \n",
    "\n"
   ]
  },
  {
   "cell_type": "markdown",
   "metadata": {
    "id": "G0DL55WuCjup"
   },
   "source": [
    "## Rules for taking Derivatives \n",
    "\n",
    "1. **Power Rule** - $$\\Large f(x) = x^r $$\n",
    "\n",
    "Then, the derivative is: \n",
    "$$\\Large f'(x) = r*x^{r-1} $$\n",
    "\n",
    "2. **Constant factor rule** - $$\\Large f(x) = 2x^2 $$\n",
    "\n",
    "\n",
    "$$\\Large f'(x) = 2*\\frac{\\Delta f}{\\Delta x} x^{2} = 2*2*x^{2-1} = 4x^1 = 4x $$\n",
    "\n",
    "3. **Addition Rule** - To take a derivative of a function that has multiple terms, simply take the derivative of each of the terms individually.  So for the function above, \n",
    "\n",
    "$$\\Large f(x) = 4x^3 - x^2 + 3x $$\n",
    "\n",
    "$$\\Large f'(x) = 12x^2 - 2x + 3  $$  \n",
    "\n",
    "4. **Chain Rule** - allows us to take partial derivatives of a function with respect to the other variables."
   ]
  },
  {
   "cell_type": "markdown",
   "metadata": {
    "id": "jHXZWq7iCjuq"
   },
   "source": [
    "## EXERCISE: \n",
    "**Use OOP to create a gradient descent class with Linear Regression using RSS as a Cost Function**"
   ]
  },
  {
   "cell_type": "markdown",
   "metadata": {
    "id": "VOfh62szCjuq"
   },
   "source": [
    "### Reminder: Steps to find the optimal slope and intercept of a line of best fit using SSR as our cost function \n",
    "1. Take the partial derivative of the loss function for each parameter(gradient).\n",
    "2. Pick random values for the parameters. \n",
    "3. Plug the parameter values into the derivatives. \n",
    "4. Calculate the step sizes (slope * learning rate) \n",
    "5. Calculate new parameters (old parameters - step size) \n",
    "6. Repeat steps 3-5 until max number of steps is reached or minimum step size is reached. \n",
    "\n"
   ]
  },
  {
   "cell_type": "code",
   "execution_count": 10,
   "metadata": {
    "ExecuteTime": {
     "end_time": "2021-09-01T19:25:57.636335Z",
     "start_time": "2021-09-01T19:25:57.629412Z"
    },
    "id": "1hKpn2ZoCjur"
   },
   "outputs": [],
   "source": [
    "class GradientDescentRSS:\n",
    "    def __init__(self, learning_rate=0.1, iterations=1000):\n",
    "        self.learning_rate = learning_rate\n",
    "        self.iterations = iterations\n",
    "        self.m = None\n",
    "        self.b = None\n",
    "    \n",
    "    def fit(self, X, y, m=0, b=0):\n",
    "        n = X.shape[0]\n",
    "        for _ in range(self.iterations):\n",
    "            # Calculate the gradients.\n",
    "            b_gradient = -2 * np.sum(y - (m*X + b))/n\n",
    "            m_gradient = -2 * np.sum(X*(y-(m*X + b)))/n\n",
    "            \n",
    "            # Take a step.\n",
    "            b = b -(self.learning_rate * b_gradient)\n",
    "            m = m -(self.learning_rate * m_gradient)\n",
    "            \n",
    "        self.m, self.b = m, b\n",
    "    \n",
    "    def predict(self, X):\n",
    "        return self.m*X + self.b"
   ]
  },
  {
   "cell_type": "code",
   "execution_count": 11,
   "metadata": {
    "ExecuteTime": {
     "end_time": "2021-09-01T19:25:57.643380Z",
     "start_time": "2021-09-01T19:25:57.639168Z"
    },
    "id": "Z044IGYvCjur"
   },
   "outputs": [],
   "source": [
    "# Create a cloud of points normally distributed around the line y=x \n",
    "np.random.seed(42)\n",
    "\n",
    "\n",
    "X = np.array(sorted(list(range(5))*20)) + np.random.normal(size=100, scale=0.5)\n",
    "y = np.array(sorted(list(range(5))*20)) + np.random.normal(size=100, scale=0.25)"
   ]
  },
  {
   "cell_type": "code",
   "execution_count": 12,
   "metadata": {
    "ExecuteTime": {
     "end_time": "2021-09-01T19:25:57.671768Z",
     "start_time": "2021-09-01T19:25:57.645125Z"
    },
    "id": "KmbsARu5Cjus"
   },
   "outputs": [],
   "source": [
    "# Instantiate and fit gradient descent to our data.\n",
    "lr = GradientDescentRSS()\n",
    "lr.fit(X, y)"
   ]
  },
  {
   "cell_type": "code",
   "execution_count": 13,
   "metadata": {
    "ExecuteTime": {
     "end_time": "2021-09-01T19:25:57.850755Z",
     "start_time": "2021-09-01T19:25:57.674111Z"
    },
    "id": "n7CUc318Cjus",
    "outputId": "0b32813c-4d76-4c87-d9e2-bd558cdf4b8a"
   },
   "outputs": [
    {
     "data": {
      "image/png": "[encoded data removed]",
      "text/plain": [
       "<Figure size 432x288 with 1 Axes>"
      ]
     },
     "metadata": {
      "needs_background": "light"
     },
     "output_type": "display_data"
    }
   ],
   "source": [
    "plt.scatter(X, y, color='black')\n",
    "plt.plot(X, lr.predict(X));"
   ]
  },
  {
   "cell_type": "code",
   "execution_count": 14,
   "metadata": {
    "ExecuteTime": {
     "end_time": "2021-09-01T19:25:57.858142Z",
     "start_time": "2021-09-01T19:25:57.853811Z"
    },
    "id": "s5X5tJElCjut",
    "outputId": "25a29921-efca-43cb-c571-353073dca32f"
   },
   "outputs": [
    {
     "name": "stdout",
     "output_type": "stream",
     "text": [
      "0.28875762105975056\n",
      "0.8812889601846241\n"
     ]
    }
   ],
   "source": [
    "# What are the values of our intercept and slope?\n",
    "print(lr.b)\n",
    "print(lr.m)"
   ]
  },
  {
   "cell_type": "code",
   "execution_count": null,
   "metadata": {
    "id": "sVh2dZ1mCjut"
   },
   "outputs": [],
   "source": []
  }
 ],
 "metadata": {
  "colab": {
   "name": "Gradient_Descent.ipynb",
   "provenance": []
  },
  "kernelspec": {
   "display_name": "Python [conda env:learn-env] *",
   "language": "python",
   "name": "conda-env-learn-env-py"
  },
  "language_info": {
   "codemirror_mode": {
    "name": "ipython",
    "version": 3
   },
   "file_extension": ".py",
   "mimetype": "text/x-python",
   "name": "python",
   "nbconvert_exporter": "python",
   "pygments_lexer": "ipython3",
   "version": "3.6.9"
  },
  "toc": {
   "base_numbering": 1,
   "nav_menu": {},
   "number_sections": true,
   "sideBar": true,
   "skip_h1_title": false,
   "title_cell": "Table of Contents",
   "title_sidebar": "Contents",
   "toc_cell": false,
   "toc_position": {
    "height": "calc(100% - 180px)",
    "left": "10px",
    "top": "150px",
    "width": "334px"
   },
   "toc_section_display": true,
   "toc_window_display": true
  }
 },
 "nbformat": 4,
 "nbformat_minor": 1
}
