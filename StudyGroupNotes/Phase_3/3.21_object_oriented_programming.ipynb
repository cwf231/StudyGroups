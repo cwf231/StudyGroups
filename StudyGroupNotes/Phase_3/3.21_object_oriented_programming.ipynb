{
 "cells": [
  {
   "cell_type": "code",
   "execution_count": 2,
   "id": "e555bb93",
   "metadata": {
    "ExecuteTime": {
     "end_time": "2021-08-30T18:42:10.845742Z",
     "start_time": "2021-08-30T18:42:10.843141Z"
    }
   },
   "outputs": [],
   "source": [
    "def my_function():\n",
    "    pass"
   ]
  },
  {
   "cell_type": "code",
   "execution_count": 7,
   "id": "e94ed30a",
   "metadata": {
    "ExecuteTime": {
     "end_time": "2021-08-30T18:44:54.716847Z",
     "start_time": "2021-08-30T18:44:54.714526Z"
    }
   },
   "outputs": [],
   "source": [
    "my_function()"
   ]
  },
  {
   "cell_type": "code",
   "execution_count": 3,
   "id": "27bd41c7",
   "metadata": {
    "ExecuteTime": {
     "end_time": "2021-08-30T18:42:10.991500Z",
     "start_time": "2021-08-30T18:42:10.988506Z"
    }
   },
   "outputs": [],
   "source": [
    "class MyClass:\n",
    "    pass"
   ]
  },
  {
   "cell_type": "code",
   "execution_count": 8,
   "id": "13a6439d",
   "metadata": {
    "ExecuteTime": {
     "end_time": "2021-08-30T18:46:31.409179Z",
     "start_time": "2021-08-30T18:46:31.405560Z"
    }
   },
   "outputs": [
    {
     "data": {
      "text/plain": [
       "<__main__.MyClass at 0x7fa1b70ba1d0>"
      ]
     },
     "execution_count": 8,
     "metadata": {},
     "output_type": "execute_result"
    }
   ],
   "source": [
    "test = MyClass()\n",
    "test"
   ]
  },
  {
   "cell_type": "code",
   "execution_count": 9,
   "id": "6bba3144",
   "metadata": {
    "ExecuteTime": {
     "end_time": "2021-08-30T18:46:44.387476Z",
     "start_time": "2021-08-30T18:46:44.380772Z"
    }
   },
   "outputs": [
    {
     "ename": "AttributeError",
     "evalue": "'MyClass' object has no attribute 'head'",
     "output_type": "error",
     "traceback": [
      "\u001b[0;31m---------------------------------------------------------------------------\u001b[0m",
      "\u001b[0;31mAttributeError\u001b[0m                            Traceback (most recent call last)",
      "\u001b[0;32m<ipython-input-9-ca7e793253ef>\u001b[0m in \u001b[0;36m<module>\u001b[0;34m\u001b[0m\n\u001b[0;32m----> 1\u001b[0;31m \u001b[0mtest\u001b[0m\u001b[0;34m.\u001b[0m\u001b[0mhead\u001b[0m\u001b[0;34m(\u001b[0m\u001b[0;34m)\u001b[0m\u001b[0;34m\u001b[0m\u001b[0;34m\u001b[0m\u001b[0m\n\u001b[0m",
      "\u001b[0;31mAttributeError\u001b[0m: 'MyClass' object has no attribute 'head'"
     ]
    }
   ],
   "source": [
    "test.head()"
   ]
  },
  {
   "cell_type": "code",
   "execution_count": 6,
   "id": "8231454c",
   "metadata": {
    "ExecuteTime": {
     "end_time": "2021-08-30T18:42:53.861467Z",
     "start_time": "2021-08-30T18:42:53.775193Z"
    }
   },
   "outputs": [
    {
     "ename": "NameError",
     "evalue": "name 'MyOtherClass' is not defined",
     "output_type": "error",
     "traceback": [
      "\u001b[0;31m---------------------------------------------------------------------------\u001b[0m",
      "\u001b[0;31mNameError\u001b[0m                                 Traceback (most recent call last)",
      "\u001b[0;32m<ipython-input-6-d626ba748882>\u001b[0m in \u001b[0;36m<module>\u001b[0;34m\u001b[0m\n\u001b[0;32m----> 1\u001b[0;31m \u001b[0mMyOtherClass\u001b[0m\u001b[0;34m\u001b[0m\u001b[0;34m\u001b[0m\u001b[0m\n\u001b[0m",
      "\u001b[0;31mNameError\u001b[0m: name 'MyOtherClass' is not defined"
     ]
    }
   ],
   "source": [
    "MyOtherClass"
   ]
  },
  {
   "cell_type": "markdown",
   "id": "7fd2059c",
   "metadata": {},
   "source": [
    "1. Function\n",
    "2. Method\n",
    "3. Attribute"
   ]
  },
  {
   "cell_type": "code",
   "execution_count": 44,
   "id": "2b52174a",
   "metadata": {
    "ExecuteTime": {
     "end_time": "2021-08-30T19:01:57.435871Z",
     "start_time": "2021-08-30T19:01:57.430642Z"
    }
   },
   "outputs": [],
   "source": [
    "class Card:\n",
    "    def __init__(self, name, suit):\n",
    "        value_dct = {\n",
    "            '2': 2,\n",
    "            '3': 3,\n",
    "            '4': 4,\n",
    "            '5': 5,\n",
    "            '6': 6,\n",
    "            '7': 7,\n",
    "            '8': 8,\n",
    "            '9': 9,\n",
    "            '10': 10,\n",
    "            'J': 11,\n",
    "            'Q': 12,\n",
    "            'K': 13,\n",
    "            'A': 14\n",
    "        }\n",
    "        # Name\n",
    "        self.name = name\n",
    "        # Value\n",
    "        self.value = value_dct.get(self.name, 0)\n",
    "        # Suit\n",
    "        self.suit = suit\n",
    "        \n",
    "    def show_the_card(self):\n",
    "        print(f'The {self.name} of {self.suit}.')\n",
    "        \n",
    "    def __str__(self):\n",
    "#         return 'STR Representation'\n",
    "        return 'A Card Face-Down'\n",
    "        \n",
    "    def __repr__(self):\n",
    "#         return 'REPR Representation'\n",
    "        return 'A Card'"
   ]
  },
  {
   "cell_type": "code",
   "execution_count": 45,
   "id": "46777b90",
   "metadata": {
    "ExecuteTime": {
     "end_time": "2021-08-30T19:01:57.787787Z",
     "start_time": "2021-08-30T19:01:57.782896Z"
    }
   },
   "outputs": [
    {
     "data": {
      "text/plain": [
       "A Card"
      ]
     },
     "execution_count": 45,
     "metadata": {},
     "output_type": "execute_result"
    }
   ],
   "source": [
    "Card('A', 'Clubs')"
   ]
  },
  {
   "cell_type": "code",
   "execution_count": 46,
   "id": "c94a710b",
   "metadata": {
    "ExecuteTime": {
     "end_time": "2021-08-30T19:01:58.625672Z",
     "start_time": "2021-08-30T19:01:58.622992Z"
    }
   },
   "outputs": [
    {
     "name": "stdout",
     "output_type": "stream",
     "text": [
      "A Card Face-Down\n"
     ]
    }
   ],
   "source": [
    "print(Card('A', 'Clubs'))"
   ]
  },
  {
   "cell_type": "code",
   "execution_count": 34,
   "id": "c2b1b3de",
   "metadata": {
    "ExecuteTime": {
     "end_time": "2021-08-30T18:58:10.218093Z",
     "start_time": "2021-08-30T18:58:10.213225Z"
    }
   },
   "outputs": [
    {
     "data": {
      "text/plain": [
       "('A', 'Spades', 14)"
      ]
     },
     "execution_count": 34,
     "metadata": {},
     "output_type": "execute_result"
    }
   ],
   "source": [
    "ace = Card('A', 'Spades')\n",
    "ace.name, ace.suit, ace.value"
   ]
  },
  {
   "cell_type": "code",
   "execution_count": 35,
   "id": "04d3a2b9",
   "metadata": {
    "ExecuteTime": {
     "end_time": "2021-08-30T18:58:10.667865Z",
     "start_time": "2021-08-30T18:58:10.664708Z"
    }
   },
   "outputs": [
    {
     "name": "stdout",
     "output_type": "stream",
     "text": [
      "The A of Spades.\n"
     ]
    }
   ],
   "source": [
    "ace.show_the_card()"
   ]
  },
  {
   "cell_type": "code",
   "execution_count": null,
   "id": "9958c5cc",
   "metadata": {},
   "outputs": [],
   "source": []
  },
  {
   "cell_type": "code",
   "execution_count": null,
   "id": "4d561ac9",
   "metadata": {},
   "outputs": [],
   "source": []
  },
  {
   "cell_type": "code",
   "execution_count": null,
   "id": "17353beb",
   "metadata": {},
   "outputs": [],
   "source": []
  },
  {
   "cell_type": "code",
   "execution_count": null,
   "id": "1c7ab038",
   "metadata": {},
   "outputs": [],
   "source": []
  }
 ],
 "metadata": {
  "kernelspec": {
   "display_name": "Python 3",
   "language": "python",
   "name": "python3"
  },
  "language_info": {
   "codemirror_mode": {
    "name": "ipython",
    "version": 3
   },
   "file_extension": ".py",
   "mimetype": "text/x-python",
   "name": "python",
   "nbconvert_exporter": "python",
   "pygments_lexer": "ipython3",
   "version": "3.6.9"
  },
  "toc": {
   "base_numbering": 1,
   "nav_menu": {},
   "number_sections": false,
   "sideBar": true,
   "skip_h1_title": false,
   "title_cell": "Table of Contents",
   "title_sidebar": "Contents",
   "toc_cell": false,
   "toc_position": {},
   "toc_section_display": true,
   "toc_window_display": false
  }
 },
 "nbformat": 4,
 "nbformat_minor": 5
}
