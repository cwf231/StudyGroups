{
 "cells": [
  {
   "cell_type": "markdown",
   "metadata": {},
   "source": [
    "## Phase 3.30\n",
    "# Ensemble Methods\n",
    "## Objectives\n",
    "- Introduce the <a href='#backbone'>backbone of Ensemble methods.</a>\n",
    "- Learn about <a href='#bagging'>Bagging</a> and <a href='#boosting'>Boosting</a> algorithms and some popular models.\n",
    "- <a href='#coding'>Code</a> through an example!\n"
   ]
  },
  {
   "cell_type": "markdown",
   "metadata": {},
   "source": [
    "<a id='backbone'></a>\n",
    "# Introduction\n",
    "*From the curriculum...*\n",
    "- An *ensemble* refers to an algorithm that uses more than one model to make a prediction.\n",
    "\n",
    "> **You are looking for investment advice. Instead of asking a single person, you ask three specialists.**\n",
    ">   - **Stock Broker** who is correct 80% of the time.\n",
    ">   - **Finance Professor** who is correct 65% of the time.\n",
    ">   - **Investment Expert** who is correct 85% of the time.\n",
    ">\n",
    "> *If all three experts predict that a given investment is good, what are the odds that all three are wrong?*\n",
    "> \n",
    "> . . ."
   ]
  },
  {
   "cell_type": "code",
   "execution_count": 1,
   "metadata": {
    "ExecuteTime": {
     "end_time": "2021-03-30T19:37:12.205998Z",
     "start_time": "2021-03-30T19:37:12.196549Z"
    }
   },
   "outputs": [
    {
     "data": {
      "text/plain": [
       "0.010499999999999999"
      ]
     },
     "execution_count": 1,
     "metadata": {},
     "output_type": "execute_result"
    }
   ],
   "source": [
    "# If all three experts predict that a given investment is good, \n",
    "# what is the probability that all three are wrong?\n",
    "0.2 * .35 * 0.15"
   ]
  },
  {
   "cell_type": "markdown",
   "metadata": {},
   "source": [
    "<a id='bagging'></a>\n",
    "# Bagging\n",
    "\n",
    "*Bootstrap Aggregation*\n",
    "\n",
    "<img src='./images/bagging.png' width='800'>\n",
    "\n",
    "**Training a *bagging classifier*:**\n",
    "- Split training data into a given number of *bags* (with replacement).\n",
    "- Train a classifier on each subset of data.\n",
    "\n",
    "**Predicting with a *bagging classifier*:**\n",
    "- Each classifier makes a prediction.\n",
    "- All predictions are aggregated into a single prediction.\n",
    "\n",
    "---\n",
    "\n",
    "## Random Forest\n",
    "- A ***Random Forest*** is an ensemble algorithm which uses $n$-*Decision Trees* as its internal classifiers.\n",
    "- Each *Decision Tree* is trained on **a subset of the data** (both rows *and* features).\n",
    "\n",
    "### Pros and Cons\n",
    "#### Pros\n",
    "- Interpretability.\n",
    "    - Accessible feature importances.\n",
    "- Less data preprocessing required.\n",
    "- Do not overfit (in theory).\n",
    "- Good performance /accuracy.\n",
    "- Robust to noise.\n",
    "\n",
    "#### Cons\n",
    "- Do not predict a continuous output (for regression).\n",
    "- It does not predict beyond the range of the response values in the training data.\n",
    "\n",
    "### Hyperparameters\n",
    "\n",
    "- **n_estimators:**\n",
    "\n",
    "    - It defines the number of decision trees to be created in a random forest.\n",
    "    - Generally, a higher number makes the predictions stronger and more stable, but a very large number can result in higher training time.\n",
    "\n",
    "\n",
    "- **criterion:**\n",
    "\n",
    "    - It defines the function that is to be used for splitting.\n",
    "    - The function measures the quality of a split for each feature and chooses the best split.\n",
    "\n",
    "\n",
    "- **max_features :**\n",
    "\n",
    "    - It defines the maximum number of features allowed for the split in each decision tree.\n",
    "    - Increasing max features usually improve performance but a very high number can decrease the diversity of each tree.\n",
    "\n",
    "\n",
    "- **max_depth:**\n",
    "\n",
    "    - Random forest has multiple decision trees. This parameter defines the maximum depth of the trees.\n",
    "\n",
    "\n",
    "- **min_samples_split:**\n",
    "\n",
    "    - Used to define the minimum number of samples required in a leaf node before a split is attempted.\n",
    "    - If the number of samples is less than the required number, the node is not split.\n",
    "\n",
    "\n",
    "- **min_samples_leaf:** \n",
    "\n",
    "    - This defines the minimum number of samples required to be at a leaf node.\n",
    "    - Smaller leaf size makes the model more prone to capturing noise in train data.\n",
    "\n",
    "\n",
    "- **max_leaf_nodes:** \n",
    "\n",
    "    - This parameter specifies the maximum number of leaf nodes for each tree.\n",
    "    - The tree stops splitting when the number of leaf nodes becomes equal to the max leaf node.\n",
    "\n",
    "---\n",
    "<a id='boosting'></a>\n",
    "# Boosting\n",
    "\n",
    "1. Train a single **weak learner**.\n",
    "    - ***Weak Learner:*** *A simple model that does only slightly better than random guessing.*\n",
    "    \n",
    "    \n",
    "2. Figure out **which examples** the weak learner got wrong.\n",
    "- Build another weak learner that **focuses on the areas the first weak learner got wrong**.\n",
    "- **Continue this process** until a predetermined stopping condition is met, such as until a set number of weak learners have been created, or the model's performance has plateaued.\n",
    "\n",
    "\n",
    "- Boosting is most common in **AdaBoost** and **XGBoost** algorithms.\n",
    "    - *Adaboost refits on misclassifications by adding class weights.*\n",
    "    - *XGBoost refits on residuals. (See below)*\n",
    "\n",
    "<img src='./images/new_gradient-boosting.png'>\n",
    "\n",
    "- *The weak learners are trained sequentially on the **residuals** or **misclassifications** of the prior weak learner.*\n",
    "- *Predictions are made where the predictions from each internal classifier are given a **weight of importance**.*\n",
    "\n",
    "## AdaBoost\n",
    "***Training on Misclassifications.***\n",
    "> *From documentation:*\n",
    ">\n",
    "> *[AdaBoost] begins by fitting a classifier on the original dataset and then fits additional copies of the classifier on the same dataset but where the weights of incorrectly classified instances are adjusted such that subsequent classifiers focus more on difficult cases.*\n",
    "\n",
    "### Pros and Cons\n",
    "#### Pros\n",
    "- Doesn't overfit easily.\n",
    "- Few parameters to tune.\n",
    "\n",
    "#### Cons\n",
    "- Can be sensitive to outliers.\n",
    "\n",
    "### Hyperparameters\n",
    "- **base_estimators:** \n",
    "    - It helps to specify the type of base estimator, that is, the machine learning algorithm to be used as base learner.\n",
    "    \n",
    "- **n_estimators:**\n",
    "    - It defines the number of base estimators.\n",
    "    - The default value is 10, but you should keep a higher value to get better performance.\n",
    "    \n",
    "- **learning_rate:** \n",
    "    - This parameter controls the contribution of the estimators in the final combination.\n",
    "    - There is a trade-off between learning_rate and n_estimators.\n",
    "    \n",
    "- **max_depth:**\n",
    "    - Defines the maximum depth of the individual estimator.\n",
    "    - Tune this parameter for best performance.\n",
    "\n",
    "## XGBoost\n",
    "> The boosting algorithm with the highest performance right now is **XGBoost**, which is short for eXtreme Gradient Boosting.\n",
    "> \n",
    "> XGBoost is a stand-alone library that implements popular gradient boosting algorithms in the fastest, most performant way possible. There are many under-the-hood optimizations that allow XGBoost to train more quickly than any other library implementations of gradient boosting algorithms. \n",
    "> For instance, XGBoost is configured in such a way that it parallelizes the construction of trees across all your computer's CPU cores during the training phase. It also allows for more advanced use cases, such as distributing training across a cluster of computers, which is often a technique used to speed up computation. The algorithm even automatically handles missing values!\n",
    "\n",
    "### Hyperparameters\n",
    "\n",
    "- **nthread**:\n",
    "\n",
    "    - Analogous to learning rate in GBM (*Gradient-Boosted Machine*).\n",
    "    - Makes the model more robust by shrinking the weights on each step.\n",
    "\n",
    "*This is used for parallel processing and the number of cores in the system should be entered..If you wish to run on all cores, do not input this value. The algorithm will detect it automatically.*\n",
    "\n",
    "\n",
    "- **min_child_weight**:\n",
    "\n",
    "    - Defines the minimum sum of weights of all observations required in a child.\n",
    "    - Used to control over-fitting. Higher values prevent a model from learning relations which might be highly specific to the particular sample selected for a tree.\n",
    "\n",
    "\n",
    "- **max_depth**:\n",
    "\n",
    "    - It is used to define the maximum depth.\n",
    "    - Higher depth will allow the model to learn relations very specific to a particular sample.\n",
    "\n",
    "\n",
    "- **max_leaf_nodes**:\n",
    "\n",
    "    - The maximum number of terminal nodes or leaves in a tree.\n",
    "    - Can be defined in place of max_depth. Since binary trees are created, a depth of $n$ would produce a maximum of $2^{n}$ leaves.\n",
    "    - If this is defined, GBM will ignore max_depth.\n",
    "\n",
    "\n",
    "- **gamma**:\n",
    "\n",
    "    - A node is split only when the resulting split gives a positive reduction in the loss function. Gamma specifies the minimum loss reduction required to make a split.\n",
    "    - Makes the algorithm conservative. The values can vary depending on the loss function and should be tuned.\n",
    "\n",
    "\n",
    "- **subsample**:\n",
    "\n",
    "    - Same as the subsample of GBM. Denotes the fraction of observations to be randomly sampled for each tree.\n",
    "    - Lower values make the algorithm more conservative and prevent overfitting but values that are too small might lead to under-fitting.\n",
    "\n",
    "\n",
    "- **colsample_bytree**:\n",
    "\n",
    "    - It is similar to max_features in GBM.\n",
    "    - Denotes the fraction of columns to be randomly sampled for each tree."
   ]
  },
  {
   "cell_type": "markdown",
   "metadata": {},
   "source": [
    "<a id='coding'></a>\n",
    "# Preparing Some Data"
   ]
  },
  {
   "cell_type": "code",
   "execution_count": 2,
   "metadata": {
    "ExecuteTime": {
     "end_time": "2021-03-30T19:37:13.986865Z",
     "start_time": "2021-03-30T19:37:12.208041Z"
    }
   },
   "outputs": [],
   "source": [
    "import pandas as pd\n",
    "import numpy as np\n",
    "import matplotlib.pyplot as plt\n",
    "import seaborn as sns"
   ]
  },
  {
   "cell_type": "code",
   "execution_count": 3,
   "metadata": {
    "ExecuteTime": {
     "end_time": "2021-03-30T19:37:14.022413Z",
     "start_time": "2021-03-30T19:37:13.989431Z"
    }
   },
   "outputs": [
    {
     "data": {
      "text/html": [
       "<div>\n",
       "<style scoped>\n",
       "    .dataframe tbody tr th:only-of-type {\n",
       "        vertical-align: middle;\n",
       "    }\n",
       "\n",
       "    .dataframe tbody tr th {\n",
       "        vertical-align: top;\n",
       "    }\n",
       "\n",
       "    .dataframe thead th {\n",
       "        text-align: right;\n",
       "    }\n",
       "</style>\n",
       "<table border=\"1\" class=\"dataframe\">\n",
       "  <thead>\n",
       "    <tr style=\"text-align: right;\">\n",
       "      <th></th>\n",
       "      <th>fixed acidity</th>\n",
       "      <th>volatile acidity</th>\n",
       "      <th>citric acid</th>\n",
       "      <th>residual sugar</th>\n",
       "      <th>chlorides</th>\n",
       "      <th>free sulfur dioxide</th>\n",
       "      <th>total sulfur dioxide</th>\n",
       "      <th>density</th>\n",
       "      <th>pH</th>\n",
       "      <th>sulphates</th>\n",
       "      <th>alcohol</th>\n",
       "      <th>quality</th>\n",
       "    </tr>\n",
       "  </thead>\n",
       "  <tbody>\n",
       "    <tr>\n",
       "      <th>0</th>\n",
       "      <td>7.4</td>\n",
       "      <td>0.700</td>\n",
       "      <td>0.00</td>\n",
       "      <td>1.9</td>\n",
       "      <td>0.076</td>\n",
       "      <td>11.0</td>\n",
       "      <td>34.0</td>\n",
       "      <td>0.99780</td>\n",
       "      <td>3.51</td>\n",
       "      <td>0.56</td>\n",
       "      <td>9.4</td>\n",
       "      <td>5</td>\n",
       "    </tr>\n",
       "    <tr>\n",
       "      <th>1</th>\n",
       "      <td>7.8</td>\n",
       "      <td>0.880</td>\n",
       "      <td>0.00</td>\n",
       "      <td>2.6</td>\n",
       "      <td>0.098</td>\n",
       "      <td>25.0</td>\n",
       "      <td>67.0</td>\n",
       "      <td>0.99680</td>\n",
       "      <td>3.20</td>\n",
       "      <td>0.68</td>\n",
       "      <td>9.8</td>\n",
       "      <td>5</td>\n",
       "    </tr>\n",
       "    <tr>\n",
       "      <th>2</th>\n",
       "      <td>7.8</td>\n",
       "      <td>0.760</td>\n",
       "      <td>0.04</td>\n",
       "      <td>2.3</td>\n",
       "      <td>0.092</td>\n",
       "      <td>15.0</td>\n",
       "      <td>54.0</td>\n",
       "      <td>0.99700</td>\n",
       "      <td>3.26</td>\n",
       "      <td>0.65</td>\n",
       "      <td>9.8</td>\n",
       "      <td>5</td>\n",
       "    </tr>\n",
       "    <tr>\n",
       "      <th>3</th>\n",
       "      <td>11.2</td>\n",
       "      <td>0.280</td>\n",
       "      <td>0.56</td>\n",
       "      <td>1.9</td>\n",
       "      <td>0.075</td>\n",
       "      <td>17.0</td>\n",
       "      <td>60.0</td>\n",
       "      <td>0.99800</td>\n",
       "      <td>3.16</td>\n",
       "      <td>0.58</td>\n",
       "      <td>9.8</td>\n",
       "      <td>6</td>\n",
       "    </tr>\n",
       "    <tr>\n",
       "      <th>4</th>\n",
       "      <td>7.4</td>\n",
       "      <td>0.700</td>\n",
       "      <td>0.00</td>\n",
       "      <td>1.9</td>\n",
       "      <td>0.076</td>\n",
       "      <td>11.0</td>\n",
       "      <td>34.0</td>\n",
       "      <td>0.99780</td>\n",
       "      <td>3.51</td>\n",
       "      <td>0.56</td>\n",
       "      <td>9.4</td>\n",
       "      <td>5</td>\n",
       "    </tr>\n",
       "    <tr>\n",
       "      <th>...</th>\n",
       "      <td>...</td>\n",
       "      <td>...</td>\n",
       "      <td>...</td>\n",
       "      <td>...</td>\n",
       "      <td>...</td>\n",
       "      <td>...</td>\n",
       "      <td>...</td>\n",
       "      <td>...</td>\n",
       "      <td>...</td>\n",
       "      <td>...</td>\n",
       "      <td>...</td>\n",
       "      <td>...</td>\n",
       "    </tr>\n",
       "    <tr>\n",
       "      <th>1594</th>\n",
       "      <td>6.2</td>\n",
       "      <td>0.600</td>\n",
       "      <td>0.08</td>\n",
       "      <td>2.0</td>\n",
       "      <td>0.090</td>\n",
       "      <td>32.0</td>\n",
       "      <td>44.0</td>\n",
       "      <td>0.99490</td>\n",
       "      <td>3.45</td>\n",
       "      <td>0.58</td>\n",
       "      <td>10.5</td>\n",
       "      <td>5</td>\n",
       "    </tr>\n",
       "    <tr>\n",
       "      <th>1595</th>\n",
       "      <td>5.9</td>\n",
       "      <td>0.550</td>\n",
       "      <td>0.10</td>\n",
       "      <td>2.2</td>\n",
       "      <td>0.062</td>\n",
       "      <td>39.0</td>\n",
       "      <td>51.0</td>\n",
       "      <td>0.99512</td>\n",
       "      <td>3.52</td>\n",
       "      <td>0.76</td>\n",
       "      <td>11.2</td>\n",
       "      <td>6</td>\n",
       "    </tr>\n",
       "    <tr>\n",
       "      <th>1596</th>\n",
       "      <td>6.3</td>\n",
       "      <td>0.510</td>\n",
       "      <td>0.13</td>\n",
       "      <td>2.3</td>\n",
       "      <td>0.076</td>\n",
       "      <td>29.0</td>\n",
       "      <td>40.0</td>\n",
       "      <td>0.99574</td>\n",
       "      <td>3.42</td>\n",
       "      <td>0.75</td>\n",
       "      <td>11.0</td>\n",
       "      <td>6</td>\n",
       "    </tr>\n",
       "    <tr>\n",
       "      <th>1597</th>\n",
       "      <td>5.9</td>\n",
       "      <td>0.645</td>\n",
       "      <td>0.12</td>\n",
       "      <td>2.0</td>\n",
       "      <td>0.075</td>\n",
       "      <td>32.0</td>\n",
       "      <td>44.0</td>\n",
       "      <td>0.99547</td>\n",
       "      <td>3.57</td>\n",
       "      <td>0.71</td>\n",
       "      <td>10.2</td>\n",
       "      <td>5</td>\n",
       "    </tr>\n",
       "    <tr>\n",
       "      <th>1598</th>\n",
       "      <td>6.0</td>\n",
       "      <td>0.310</td>\n",
       "      <td>0.47</td>\n",
       "      <td>3.6</td>\n",
       "      <td>0.067</td>\n",
       "      <td>18.0</td>\n",
       "      <td>42.0</td>\n",
       "      <td>0.99549</td>\n",
       "      <td>3.39</td>\n",
       "      <td>0.66</td>\n",
       "      <td>11.0</td>\n",
       "      <td>6</td>\n",
       "    </tr>\n",
       "  </tbody>\n",
       "</table>\n",
       "<p>1599 rows × 12 columns</p>\n",
       "</div>"
      ],
      "text/plain": [
       "      fixed acidity  volatile acidity  citric acid  residual sugar  chlorides  \\\n",
       "0               7.4             0.700         0.00             1.9      0.076   \n",
       "1               7.8             0.880         0.00             2.6      0.098   \n",
       "2               7.8             0.760         0.04             2.3      0.092   \n",
       "3              11.2             0.280         0.56             1.9      0.075   \n",
       "4               7.4             0.700         0.00             1.9      0.076   \n",
       "...             ...               ...          ...             ...        ...   \n",
       "1594            6.2             0.600         0.08             2.0      0.090   \n",
       "1595            5.9             0.550         0.10             2.2      0.062   \n",
       "1596            6.3             0.510         0.13             2.3      0.076   \n",
       "1597            5.9             0.645         0.12             2.0      0.075   \n",
       "1598            6.0             0.310         0.47             3.6      0.067   \n",
       "\n",
       "      free sulfur dioxide  total sulfur dioxide  density    pH  sulphates  \\\n",
       "0                    11.0                  34.0  0.99780  3.51       0.56   \n",
       "1                    25.0                  67.0  0.99680  3.20       0.68   \n",
       "2                    15.0                  54.0  0.99700  3.26       0.65   \n",
       "3                    17.0                  60.0  0.99800  3.16       0.58   \n",
       "4                    11.0                  34.0  0.99780  3.51       0.56   \n",
       "...                   ...                   ...      ...   ...        ...   \n",
       "1594                 32.0                  44.0  0.99490  3.45       0.58   \n",
       "1595                 39.0                  51.0  0.99512  3.52       0.76   \n",
       "1596                 29.0                  40.0  0.99574  3.42       0.75   \n",
       "1597                 32.0                  44.0  0.99547  3.57       0.71   \n",
       "1598                 18.0                  42.0  0.99549  3.39       0.66   \n",
       "\n",
       "      alcohol  quality  \n",
       "0         9.4        5  \n",
       "1         9.8        5  \n",
       "2         9.8        5  \n",
       "3         9.8        6  \n",
       "4         9.4        5  \n",
       "...       ...      ...  \n",
       "1594     10.5        5  \n",
       "1595     11.2        6  \n",
       "1596     11.0        6  \n",
       "1597     10.2        5  \n",
       "1598     11.0        6  \n",
       "\n",
       "[1599 rows x 12 columns]"
      ]
     },
     "execution_count": 3,
     "metadata": {},
     "output_type": "execute_result"
    }
   ],
   "source": [
    "df = pd.read_csv('./data/winequality-red.csv', index_col=0)\n",
    "df"
   ]
  },
  {
   "cell_type": "code",
   "execution_count": 4,
   "metadata": {
    "ExecuteTime": {
     "end_time": "2021-03-30T19:37:14.034050Z",
     "start_time": "2021-03-30T19:37:14.024768Z"
    },
    "scrolled": true
   },
   "outputs": [
    {
     "name": "stdout",
     "output_type": "stream",
     "text": [
      "<class 'pandas.core.frame.DataFrame'>\n",
      "Int64Index: 1599 entries, 0 to 1598\n",
      "Data columns (total 12 columns):\n",
      " #   Column                Non-Null Count  Dtype  \n",
      "---  ------                --------------  -----  \n",
      " 0   fixed acidity         1599 non-null   float64\n",
      " 1   volatile acidity      1599 non-null   float64\n",
      " 2   citric acid           1599 non-null   float64\n",
      " 3   residual sugar        1599 non-null   float64\n",
      " 4   chlorides             1599 non-null   float64\n",
      " 5   free sulfur dioxide   1599 non-null   float64\n",
      " 6   total sulfur dioxide  1599 non-null   float64\n",
      " 7   density               1599 non-null   float64\n",
      " 8   pH                    1599 non-null   float64\n",
      " 9   sulphates             1599 non-null   float64\n",
      " 10  alcohol               1599 non-null   float64\n",
      " 11  quality               1599 non-null   int64  \n",
      "dtypes: float64(11), int64(1)\n",
      "memory usage: 162.4 KB\n"
     ]
    }
   ],
   "source": [
    "df.info()"
   ]
  },
  {
   "cell_type": "code",
   "execution_count": 5,
   "metadata": {
    "ExecuteTime": {
     "end_time": "2021-03-30T19:37:14.041202Z",
     "start_time": "2021-03-30T19:37:14.035722Z"
    }
   },
   "outputs": [
    {
     "data": {
      "text/plain": [
       "5    681\n",
       "6    638\n",
       "7    199\n",
       "4     53\n",
       "8     18\n",
       "3     10\n",
       "Name: quality, dtype: int64"
      ]
     },
     "execution_count": 5,
     "metadata": {},
     "output_type": "execute_result"
    }
   ],
   "source": [
    "df['quality'].value_counts()"
   ]
  },
  {
   "cell_type": "markdown",
   "metadata": {},
   "source": [
    "# Modeling"
   ]
  },
  {
   "cell_type": "code",
   "execution_count": 6,
   "metadata": {
    "ExecuteTime": {
     "end_time": "2021-03-30T19:37:14.612494Z",
     "start_time": "2021-03-30T19:37:14.042898Z"
    }
   },
   "outputs": [],
   "source": [
    "from sklearn.model_selection import train_test_split\n",
    "from sklearn.metrics import plot_confusion_matrix, classification_report\n",
    "from sklearn.ensemble import RandomForestClassifier\n",
    "from xgboost import XGBClassifier"
   ]
  },
  {
   "cell_type": "code",
   "execution_count": 7,
   "metadata": {
    "ExecuteTime": {
     "end_time": "2021-03-30T19:37:14.623720Z",
     "start_time": "2021-03-30T19:37:14.614457Z"
    }
   },
   "outputs": [
    {
     "data": {
      "text/plain": [
       "((1199, 11), (400, 11), (1199,), (400,))"
      ]
     },
     "execution_count": 7,
     "metadata": {},
     "output_type": "execute_result"
    }
   ],
   "source": [
    "X_train, X_test, y_train, y_test = train_test_split(\n",
    "    df.drop('quality', axis=1),\n",
    "    df['quality'],\n",
    "    stratify=df['quality'],\n",
    "    random_state=51\n",
    "    )\n",
    "\n",
    "X_train.shape, X_test.shape, y_train.shape, y_test.shape"
   ]
  },
  {
   "cell_type": "code",
   "execution_count": 8,
   "metadata": {
    "ExecuteTime": {
     "end_time": "2021-03-30T19:37:14.637783Z",
     "start_time": "2021-03-30T19:37:14.627274Z"
    }
   },
   "outputs": [
    {
     "data": {
      "text/plain": [
       "5    0.426188\n",
       "6    0.398666\n",
       "7    0.124270\n",
       "4    0.033361\n",
       "8    0.010842\n",
       "3    0.006672\n",
       "Name: quality, dtype: float64"
      ]
     },
     "execution_count": 8,
     "metadata": {},
     "output_type": "execute_result"
    }
   ],
   "source": [
    "y_train.value_counts(normalize=True)"
   ]
  },
  {
   "cell_type": "code",
   "execution_count": 9,
   "metadata": {
    "ExecuteTime": {
     "end_time": "2021-03-30T19:37:14.645587Z",
     "start_time": "2021-03-30T19:37:14.640000Z"
    }
   },
   "outputs": [
    {
     "data": {
      "text/plain": [
       "5    0.4250\n",
       "6    0.4000\n",
       "7    0.1250\n",
       "4    0.0325\n",
       "8    0.0125\n",
       "3    0.0050\n",
       "Name: quality, dtype: float64"
      ]
     },
     "execution_count": 9,
     "metadata": {},
     "output_type": "execute_result"
    }
   ],
   "source": [
    "y_test.value_counts(normalize=True)"
   ]
  },
  {
   "cell_type": "code",
   "execution_count": 10,
   "metadata": {
    "ExecuteTime": {
     "end_time": "2021-03-30T19:37:14.894334Z",
     "start_time": "2021-03-30T19:37:14.647268Z"
    }
   },
   "outputs": [
    {
     "data": {
      "text/plain": [
       "RandomForestClassifier(random_state=51)"
      ]
     },
     "execution_count": 10,
     "metadata": {},
     "output_type": "execute_result"
    }
   ],
   "source": [
    "forest = RandomForestClassifier(random_state=51)\n",
    "forest.fit(X_train, y_train)"
   ]
  },
  {
   "cell_type": "code",
   "execution_count": 11,
   "metadata": {
    "ExecuteTime": {
     "end_time": "2021-03-30T19:37:15.103616Z",
     "start_time": "2021-03-30T19:37:14.896226Z"
    }
   },
   "outputs": [
    {
     "data": {
      "image/png": "[encoded data removed]",
      "text/plain": [
       "<Figure size 432x288 with 1 Axes>"
      ]
     },
     "metadata": {
      "needs_background": "light"
     },
     "output_type": "display_data"
    }
   ],
   "source": [
    "fig, ax = plt.subplots()\n",
    "\n",
    "ax.barh(width=forest.feature_importances_, y=X_train.columns)\n",
    "fig.tight_layout()"
   ]
  },
  {
   "cell_type": "code",
   "execution_count": 12,
   "metadata": {
    "ExecuteTime": {
     "end_time": "2021-03-30T19:37:15.373019Z",
     "start_time": "2021-03-30T19:37:15.105068Z"
    }
   },
   "outputs": [
    {
     "data": {
      "image/png": "[encoded data removed]",
      "text/plain": [
       "<Figure size 576x432 with 1 Axes>"
      ]
     },
     "metadata": {},
     "output_type": "display_data"
    }
   ],
   "source": [
    "# What I might do for a presentation...\n",
    "with plt.style.context(['fivethirtyeight', 'seaborn-poster']):\n",
    "    # Sorting and coloring.\n",
    "    formatted_data = list(\n",
    "        zip(forest.feature_importances_, \n",
    "            [x.title() for x in X_train.columns])\n",
    "    )\n",
    "    formatted_data.sort(key=lambda x: x[0])\n",
    "    colors=['#7f7f7f' if x[0]<=0.1 else '#1f77b4' for x in formatted_data]\n",
    "    \n",
    "    # Plotting.\n",
    "    fig, ax = plt.subplots(figsize=(8,6))\n",
    "    ax.barh(\n",
    "        width=[d[0] for d in formatted_data], \n",
    "        y=[d[1] for d in formatted_data],\n",
    "        color=colors)\n",
    "    ax.set(title='Random Forest: Feature Importance')\n",
    "    fig.tight_layout()"
   ]
  },
  {
   "cell_type": "code",
   "execution_count": 13,
   "metadata": {
    "ExecuteTime": {
     "end_time": "2021-03-30T19:37:15.418492Z",
     "start_time": "2021-03-30T19:37:15.374437Z"
    }
   },
   "outputs": [],
   "source": [
    "y_pred_test = forest.predict(X_test)\n",
    "y_pred_train = forest.predict(X_train)"
   ]
  },
  {
   "cell_type": "code",
   "execution_count": 14,
   "metadata": {
    "ExecuteTime": {
     "end_time": "2021-03-30T19:37:15.428087Z",
     "start_time": "2021-03-30T19:37:15.420489Z"
    }
   },
   "outputs": [
    {
     "name": "stdout",
     "output_type": "stream",
     "text": [
      "              precision    recall  f1-score   support\n",
      "\n",
      "           3       0.00      0.00      0.00         2\n",
      "           4       0.00      0.00      0.00        13\n",
      "           5       0.72      0.80      0.76       170\n",
      "           6       0.66      0.73      0.69       160\n",
      "           7       0.82      0.46      0.59        50\n",
      "           8       1.00      0.20      0.33         5\n",
      "\n",
      "    accuracy                           0.69       400\n",
      "   macro avg       0.53      0.37      0.40       400\n",
      "weighted avg       0.68      0.69      0.68       400\n",
      "\n"
     ]
    }
   ],
   "source": [
    "print(classification_report(y_test, y_pred_test))"
   ]
  },
  {
   "cell_type": "code",
   "execution_count": 15,
   "metadata": {
    "ExecuteTime": {
     "end_time": "2021-03-30T19:37:15.931310Z",
     "start_time": "2021-03-30T19:37:15.429768Z"
    }
   },
   "outputs": [
    {
     "data": {
      "text/plain": [
       "XGBClassifier(objective='multi:softprob')"
      ]
     },
     "execution_count": 15,
     "metadata": {},
     "output_type": "execute_result"
    }
   ],
   "source": [
    "xgb = XGBClassifier()\n",
    "xgb.fit(X_train, y_train)"
   ]
  },
  {
   "cell_type": "code",
   "execution_count": 16,
   "metadata": {
    "ExecuteTime": {
     "end_time": "2021-03-30T19:37:15.944279Z",
     "start_time": "2021-03-30T19:37:15.932787Z"
    }
   },
   "outputs": [],
   "source": [
    "y_test_pred_xbg = xgb.predict(X_test)"
   ]
  },
  {
   "cell_type": "code",
   "execution_count": 17,
   "metadata": {
    "ExecuteTime": {
     "end_time": "2021-03-30T19:37:15.955538Z",
     "start_time": "2021-03-30T19:37:15.946350Z"
    }
   },
   "outputs": [
    {
     "name": "stdout",
     "output_type": "stream",
     "text": [
      "              precision    recall  f1-score   support\n",
      "\n",
      "           3       0.00      0.00      0.00         2\n",
      "           4       0.00      0.00      0.00        13\n",
      "           5       0.69      0.77      0.73       170\n",
      "           6       0.62      0.68      0.64       160\n",
      "           7       0.72      0.42      0.53        50\n",
      "           8       0.00      0.00      0.00         5\n",
      "\n",
      "    accuracy                           0.65       400\n",
      "   macro avg       0.34      0.31      0.32       400\n",
      "weighted avg       0.63      0.65      0.63       400\n",
      "\n"
     ]
    },
    {
     "name": "stderr",
     "output_type": "stream",
     "text": [
      "/opt/anaconda3/envs/learn-env/lib/python3.6/site-packages/sklearn/metrics/_classification.py:1245: UndefinedMetricWarning: Precision and F-score are ill-defined and being set to 0.0 in labels with no predicted samples. Use `zero_division` parameter to control this behavior.\n",
      "  _warn_prf(average, modifier, msg_start, len(result))\n",
      "/opt/anaconda3/envs/learn-env/lib/python3.6/site-packages/sklearn/metrics/_classification.py:1245: UndefinedMetricWarning: Precision and F-score are ill-defined and being set to 0.0 in labels with no predicted samples. Use `zero_division` parameter to control this behavior.\n",
      "  _warn_prf(average, modifier, msg_start, len(result))\n",
      "/opt/anaconda3/envs/learn-env/lib/python3.6/site-packages/sklearn/metrics/_classification.py:1245: UndefinedMetricWarning: Precision and F-score are ill-defined and being set to 0.0 in labels with no predicted samples. Use `zero_division` parameter to control this behavior.\n",
      "  _warn_prf(average, modifier, msg_start, len(result))\n"
     ]
    }
   ],
   "source": [
    "print(classification_report(y_test, y_test_pred_xbg))"
   ]
  },
  {
   "cell_type": "markdown",
   "metadata": {},
   "source": [
    "<a id='make-your-own'></a>\n",
    "# Make-Your-Own Ensemble\n",
    "## BaggingClassifier\n",
    "- Uses the **Bagging** process with any classifier you choose!\n",
    "    - https://scikit-learn.org/stable/modules/generated/sklearn.ensemble.BaggingClassifier.html#sklearn.ensemble.BaggingClassifier\n",
    "    \n",
    "```python\n",
    ">>> bagging = BaggingClassifier(\n",
    "...     KNeighborsClassifier(), max_samples=0.5, max_features=0.5)\n",
    "```\n",
    "\n",
    "## VotingClassifier\n",
    "- Uses voting / majority-rule for classifiers. \n",
    "    - https://scikit-learn.org/stable/modules/generated/sklearn.ensemble.VotingClassifier.html#sklearn.ensemble.VotingClassifier\n",
    "    \n",
    "```python\n",
    ">>> clf1 = LogisticRegression()\n",
    ">>> clf2 = RandomForestClassifier(n_estimators=50)\n",
    ">>> clf3 = GaussianNB()\n",
    "\n",
    ">>> eclf = VotingClassifier(\n",
    "...     estimators=[('lr', clf1), ('rf', clf2), ('gnb', clf3)])\n",
    "```\n",
    "\n",
    "## StackingClassifier\n",
    "- Trains a **final estimator** on outputs of the given estimators.\n",
    "    - https://scikit-learn.org/stable/modules/generated/sklearn.ensemble.StackingClassifier.html#sklearn.ensemble.StackingClassifier\n",
    "    \n",
    "```python\n",
    ">>> clf1 = LogisticRegression()\n",
    ">>> clf2 = RandomForestClassifier(n_estimators=50)\n",
    ">>> clf3 = GaussianNB()\n",
    ">>> clf_final = KNeighborsClassifier()\n",
    "\n",
    ">>> reg = StackingRegressor(\n",
    "...     estimators=[clf1, clf2, clf3],\n",
    "...     final_estimator=clf_final)\n",
    "```\n",
    "\n",
    "# Scikit-Learn Ensembles Documentation \n",
    "- https://scikit-learn.org/stable/modules/ensemble.html"
   ]
  },
  {
   "cell_type": "code",
   "execution_count": null,
   "metadata": {},
   "outputs": [],
   "source": []
  }
 ],
 "metadata": {
  "kernelspec": {
   "display_name": "Python [conda env:learn-env] *",
   "language": "python",
   "name": "conda-env-learn-env-py"
  },
  "language_info": {
   "codemirror_mode": {
    "name": "ipython",
    "version": 3
   },
   "file_extension": ".py",
   "mimetype": "text/x-python",
   "name": "python",
   "nbconvert_exporter": "python",
   "pygments_lexer": "ipython3",
   "version": "3.6.9"
  },
  "toc": {
   "base_numbering": 1,
   "nav_menu": {},
   "number_sections": false,
   "sideBar": true,
   "skip_h1_title": false,
   "title_cell": "Table of Contents",
   "title_sidebar": "Contents",
   "toc_cell": false,
   "toc_position": {
    "height": "calc(100% - 180px)",
    "left": "10px",
    "top": "150px",
    "width": "301.094px"
   },
   "toc_section_display": true,
   "toc_window_display": true
  }
 },
 "nbformat": 4,
 "nbformat_minor": 2
}
