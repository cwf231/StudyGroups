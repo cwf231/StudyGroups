{
 "cells": [
  {
   "cell_type": "markdown",
   "metadata": {},
   "source": [
    "## Phase 3.27\n",
    "# K Nearest Neighbors (KNN)\n",
    "## Objectives\n",
    "- Get a high-level view of the <a href='#overview'>K-Nearest Neighbors</a> algorithm.\n",
    "- Look at different <a href='#distance_metrics'>Distance Metrics</a> used with different ML models.\n",
    "- <a href='#coding'>Code</a> through an example of KNN with a toy dataset.\n",
    "- <a href='#recap'>Recap</a> KNN by talking through the Pros and Cons."
   ]
  },
  {
   "cell_type": "markdown",
   "metadata": {},
   "source": [
    "<a id='overview'></a>\n",
    "# KNN - Overview\n",
    "\n",
    "> ***Classifier implementing the k-nearest neighbors vote.***\n",
    "\n",
    "---\n",
    "\n",
    "K-Nearest Neighbors is a **non-parametric**, **lazy** learning algorithm. \n",
    "- **Non-parametric**: the model makes no *underlying assumptions* about the distribution of data.\n",
    "- **Lazy learners** (or **instance-based** learning-methods) simply store the training examples and postpone the generalization until a new instance must be classified or prediction made.\n",
    "    - In other words, no training is necessary! This makes training super fast but testing is slower and costly.\n",
    "    \n",
    "---\n",
    "    \n",
    "***QUESTION!***\n",
    "\n",
    "> What color should the **gray point** be?\n",
    "\n",
    "<img src='./images/knn_intro.png' width=40%>\n",
    "\n",
    "---\n",
    "\n",
    "KNN is one of the more simple-to-visualize model-types.\n",
    "<img src='./images/knn-process.png'>\n",
    "    "
   ]
  },
  {
   "cell_type": "markdown",
   "metadata": {},
   "source": [
    "<a id='distance_metrics'></a>\n",
    "# Distance Metrics\n",
    "\n",
    "## Manhattan Distance\n",
    "The first (and easiest) distance metric you'll cover is Manhattan distance. Manhattan distance is aptly named, because it measures the distance from one point to another traveling along the axes of a grid.\n",
    "\n",
    "<img src='./images/manhattan_fs.png' width='300'>\n",
    "\n",
    "$$ \\large d(x,y) = \\sum_{i=1}^{n}|x_i - y_i | $$\n",
    "\n",
    "- For each dimension, you subtract one point's value from the other's, and add the absolute value to the running total.\n",
    "- The final running total is the Manhattan Distance."
   ]
  },
  {
   "cell_type": "code",
   "execution_count": 1,
   "metadata": {
    "ExecuteTime": {
     "end_time": "2021-03-22T12:42:59.047131Z",
     "start_time": "2021-03-22T12:42:59.037012Z"
    }
   },
   "outputs": [
    {
     "data": {
      "text/plain": [
       "12"
      ]
     },
     "execution_count": 1,
     "metadata": {},
     "output_type": "execute_result"
    }
   ],
   "source": [
    "# Manhattan Distance\n",
    "a = (0, 0)\n",
    "b = (6, 6)\n",
    "\n",
    "# # A short-version code:\n",
    "# sum([abs(a-b) for a, b in zip(a, b)])\n",
    "\n",
    "# A long-version code:\n",
    "distance = 0\n",
    "for a, b in zip(a, b):\n",
    "    distance += abs(a - b)\n",
    "distance"
   ]
  },
  {
   "cell_type": "markdown",
   "metadata": {},
   "source": [
    "## Euclidean Distance\n",
    "The equation at the heart of this one is probably familiar: $a^2 + b^2 = c^2$!\n",
    "\n",
    "<img src='./images/euclidean_fs.png' width='300'>\n",
    "\n",
    "$$ \\large d(x,y) = \\sqrt{\\sum_{i=1}^{n}(x_i - y_i)^2} $$\n",
    "\n",
    "- For each dimension, you subtract one point's value from the other's (to get the length of that \"side\" of the triangle in that dimension), square it, and add it to our running total. \n",
    "- The square root of that running total is our Euclidean distance."
   ]
  },
  {
   "cell_type": "code",
   "execution_count": 2,
   "metadata": {
    "ExecuteTime": {
     "end_time": "2021-03-22T12:42:59.142505Z",
     "start_time": "2021-03-22T12:42:59.049217Z"
    }
   },
   "outputs": [
    {
     "data": {
      "text/plain": [
       "8.48528137423857"
      ]
     },
     "execution_count": 2,
     "metadata": {},
     "output_type": "execute_result"
    }
   ],
   "source": [
    "import numpy as np\n",
    "\n",
    "# Euclidean Distance\n",
    "a = (0, 0)\n",
    "b = (6, 6)\n",
    "\n",
    "# # A short-version code:\n",
    "# np.sqrt(sum([(a - b)**2 for a, b in zip(a, b)]))\n",
    "\n",
    "# A long-version code:\n",
    "distance = 0\n",
    "for a, b in zip(a, b):\n",
    "    distance += (a - b)**2\n",
    "np.sqrt(distance)"
   ]
  },
  {
   "cell_type": "markdown",
   "metadata": {},
   "source": [
    "## Generalized Distance Function: Minkowski Distance\n",
    "\n",
    "The Minkowski Distance is the **generalized version of both of the above distance functions** with a customizable parameter: $c$.\n",
    "\n",
    "$$\\large d(x, y) = \\left(\\sum_{i=1}^{n}|x_i - y_i|^c\\right)^\\frac{1}{c}$$\n",
    "\n",
    "For example:\n",
    "\n",
    "> If: $c = 1$\n",
    "> \n",
    "> $ \\large d(x, y) = \\left(\\sum_{i=1}^{n}|x_i - y_i|^1\\right)^\\frac{1}{1}$\n",
    "> \n",
    "> $=$\n",
    ">\n",
    "> $ \\large d(x,y) = \\sum_{i=1}^{n}|x_i - y_i | $ \n",
    "\n",
    "***(Manhattan Distance)***\n",
    "\n",
    "> If: $c = 2$\n",
    "> \n",
    "> $ \\large d(x, y) = \\left(\\sum_{i=1}^{n}|x_i - y_i|^2\\right)^\\frac{1}{2}$\n",
    "> \n",
    "> $=$\n",
    ">\n",
    "> $ \\large d(x,y) = \\sqrt{\\sum_{i=1}^{n}(x_i - y_i)^2} $\n",
    "\n",
    "***(Euclidean Distance)***\n",
    "\n",
    "... and so on to *a Minkowski Distance with a value of 3*, *a Minkowski Distance with a value of 4*..."
   ]
  },
  {
   "cell_type": "markdown",
   "metadata": {},
   "source": [
    "<a id='coding'></a>\n",
    "# Coding! KNN\n",
    "\n",
    "1. Load `diabetes` dataset.\n",
    "2. Process data normally, including a train_test_split.\n",
    "3. Create several models, experimenting with different K-values.\n",
    "4. Track model performance with the training / test set.\n",
    "    - *What Metrics could we use?*"
   ]
  },
  {
   "cell_type": "code",
   "execution_count": 3,
   "metadata": {
    "ExecuteTime": {
     "end_time": "2021-03-22T12:42:59.333518Z",
     "start_time": "2021-03-22T12:42:59.144621Z"
    }
   },
   "outputs": [],
   "source": [
    "import pandas as pd"
   ]
  },
  {
   "cell_type": "code",
   "execution_count": 4,
   "metadata": {
    "ExecuteTime": {
     "end_time": "2021-03-22T12:42:59.353835Z",
     "start_time": "2021-03-22T12:42:59.335778Z"
    }
   },
   "outputs": [
    {
     "data": {
      "text/html": [
       "<div>\n",
       "<style scoped>\n",
       "    .dataframe tbody tr th:only-of-type {\n",
       "        vertical-align: middle;\n",
       "    }\n",
       "\n",
       "    .dataframe tbody tr th {\n",
       "        vertical-align: top;\n",
       "    }\n",
       "\n",
       "    .dataframe thead th {\n",
       "        text-align: right;\n",
       "    }\n",
       "</style>\n",
       "<table border=\"1\" class=\"dataframe\">\n",
       "  <thead>\n",
       "    <tr style=\"text-align: right;\">\n",
       "      <th></th>\n",
       "      <th>Pregnancies</th>\n",
       "      <th>Glucose</th>\n",
       "      <th>BloodPressure</th>\n",
       "      <th>SkinThickness</th>\n",
       "      <th>Insulin</th>\n",
       "      <th>BMI</th>\n",
       "      <th>DiabetesPedigreeFunction</th>\n",
       "      <th>Age</th>\n",
       "      <th>Outcome</th>\n",
       "    </tr>\n",
       "  </thead>\n",
       "  <tbody>\n",
       "    <tr>\n",
       "      <th>0</th>\n",
       "      <td>6</td>\n",
       "      <td>148</td>\n",
       "      <td>72</td>\n",
       "      <td>35</td>\n",
       "      <td>0</td>\n",
       "      <td>33.6</td>\n",
       "      <td>0.627</td>\n",
       "      <td>50</td>\n",
       "      <td>1</td>\n",
       "    </tr>\n",
       "    <tr>\n",
       "      <th>1</th>\n",
       "      <td>1</td>\n",
       "      <td>85</td>\n",
       "      <td>66</td>\n",
       "      <td>29</td>\n",
       "      <td>0</td>\n",
       "      <td>26.6</td>\n",
       "      <td>0.351</td>\n",
       "      <td>31</td>\n",
       "      <td>0</td>\n",
       "    </tr>\n",
       "    <tr>\n",
       "      <th>2</th>\n",
       "      <td>8</td>\n",
       "      <td>183</td>\n",
       "      <td>64</td>\n",
       "      <td>0</td>\n",
       "      <td>0</td>\n",
       "      <td>23.3</td>\n",
       "      <td>0.672</td>\n",
       "      <td>32</td>\n",
       "      <td>1</td>\n",
       "    </tr>\n",
       "    <tr>\n",
       "      <th>3</th>\n",
       "      <td>1</td>\n",
       "      <td>89</td>\n",
       "      <td>66</td>\n",
       "      <td>23</td>\n",
       "      <td>94</td>\n",
       "      <td>28.1</td>\n",
       "      <td>0.167</td>\n",
       "      <td>21</td>\n",
       "      <td>0</td>\n",
       "    </tr>\n",
       "    <tr>\n",
       "      <th>4</th>\n",
       "      <td>0</td>\n",
       "      <td>137</td>\n",
       "      <td>40</td>\n",
       "      <td>35</td>\n",
       "      <td>168</td>\n",
       "      <td>43.1</td>\n",
       "      <td>2.288</td>\n",
       "      <td>33</td>\n",
       "      <td>1</td>\n",
       "    </tr>\n",
       "  </tbody>\n",
       "</table>\n",
       "</div>"
      ],
      "text/plain": [
       "   Pregnancies  Glucose  BloodPressure  SkinThickness  Insulin   BMI  \\\n",
       "0            6      148             72             35        0  33.6   \n",
       "1            1       85             66             29        0  26.6   \n",
       "2            8      183             64              0        0  23.3   \n",
       "3            1       89             66             23       94  28.1   \n",
       "4            0      137             40             35      168  43.1   \n",
       "\n",
       "   DiabetesPedigreeFunction  Age  Outcome  \n",
       "0                     0.627   50        1  \n",
       "1                     0.351   31        0  \n",
       "2                     0.672   32        1  \n",
       "3                     0.167   21        0  \n",
       "4                     2.288   33        1  "
      ]
     },
     "execution_count": 4,
     "metadata": {},
     "output_type": "execute_result"
    }
   ],
   "source": [
    "df = pd.read_csv('./data/diabetes.csv')\n",
    "df.head()"
   ]
  },
  {
   "cell_type": "code",
   "execution_count": null,
   "metadata": {},
   "outputs": [],
   "source": []
  },
  {
   "cell_type": "code",
   "execution_count": null,
   "metadata": {},
   "outputs": [],
   "source": []
  },
  {
   "cell_type": "code",
   "execution_count": null,
   "metadata": {},
   "outputs": [],
   "source": []
  },
  {
   "cell_type": "code",
   "execution_count": null,
   "metadata": {},
   "outputs": [],
   "source": []
  },
  {
   "cell_type": "code",
   "execution_count": null,
   "metadata": {},
   "outputs": [],
   "source": []
  },
  {
   "cell_type": "code",
   "execution_count": null,
   "metadata": {},
   "outputs": [],
   "source": []
  },
  {
   "cell_type": "code",
   "execution_count": null,
   "metadata": {},
   "outputs": [],
   "source": []
  },
  {
   "cell_type": "code",
   "execution_count": null,
   "metadata": {},
   "outputs": [],
   "source": []
  },
  {
   "cell_type": "code",
   "execution_count": null,
   "metadata": {},
   "outputs": [],
   "source": []
  },
  {
   "cell_type": "code",
   "execution_count": null,
   "metadata": {},
   "outputs": [],
   "source": []
  },
  {
   "cell_type": "code",
   "execution_count": null,
   "metadata": {},
   "outputs": [],
   "source": []
  },
  {
   "cell_type": "code",
   "execution_count": null,
   "metadata": {},
   "outputs": [],
   "source": []
  },
  {
   "cell_type": "code",
   "execution_count": null,
   "metadata": {},
   "outputs": [],
   "source": []
  },
  {
   "cell_type": "code",
   "execution_count": null,
   "metadata": {},
   "outputs": [],
   "source": []
  },
  {
   "cell_type": "markdown",
   "metadata": {},
   "source": [
    "<a id='recap'></a>\n",
    "# Recap: Pros and Cons of KNNs \n",
    "\n",
    "**Pros:**\n",
    "- No assumptions about data. \n",
    "    - Useful for nonlinear data.\n",
    "- Simple algorithm to explain and understand/interpret.\n",
    "- High accuracy (relatively).\n",
    "    - It is pretty high but not competitive in comparison to better supervised learning models.\n",
    "- Versatile.\n",
    "    - Useful for classification or regression.\n",
    "\n",
    "**Cons:**\n",
    "- Computationally expensive.\n",
    "    - The algorithm stores all of the training data.\n",
    "    - High memory requirement.\n",
    "- Prediction stage might be slow (with big $n$).\n",
    "- Sensitive to irrelevant features and the scale of the data."
   ]
  },
  {
   "cell_type": "markdown",
   "metadata": {},
   "source": [
    "# Resources\n",
    "\n",
    "- KNN: https://scikit-learn.org/stable/modules/generated/sklearn.neighbors.KNeighborsClassifier.html\n",
    "- Distance Metrics: https://scikit-learn.org/stable/modules/generated/sklearn.metrics.pairwise.euclidean_distances.html"
   ]
  },
  {
   "cell_type": "code",
   "execution_count": null,
   "metadata": {},
   "outputs": [],
   "source": []
  }
 ],
 "metadata": {
  "kernelspec": {
   "display_name": "Python [conda env:learn-env] *",
   "language": "python",
   "name": "conda-env-learn-env-py"
  },
  "language_info": {
   "codemirror_mode": {
    "name": "ipython",
    "version": 3
   },
   "file_extension": ".py",
   "mimetype": "text/x-python",
   "name": "python",
   "nbconvert_exporter": "python",
   "pygments_lexer": "ipython3",
   "version": "3.6.9"
  },
  "toc": {
   "base_numbering": 1,
   "nav_menu": {},
   "number_sections": false,
   "sideBar": true,
   "skip_h1_title": false,
   "title_cell": "Table of Contents",
   "title_sidebar": "Contents",
   "toc_cell": false,
   "toc_position": {
    "height": "calc(100% - 180px)",
    "left": "10px",
    "top": "150px",
    "width": "384px"
   },
   "toc_section_display": true,
   "toc_window_display": true
  }
 },
 "nbformat": 4,
 "nbformat_minor": 2
}
