{
 "cells": [
  {
   "cell_type": "markdown",
   "metadata": {},
   "source": [
    "## Phase 3.27\n",
    "# K Nearest Neighbors (KNN)\n",
    "## Objectives\n",
    "- Get a high-level view of the <a href='#overview'>K-Nearest Neighbors</a> algorithm.\n",
    "- Look at different <a href='#distance_metrics'>Distance Metrics</a> used with different ML models.\n",
    "- <a href='#coding'>Code</a> through an example of KNN with a toy dataset.\n",
    "- <a href='#recap'>Recap</a> KNN by talking through the Pros and Cons."
   ]
  },
  {
   "cell_type": "markdown",
   "metadata": {},
   "source": [
    "<a id='overview'></a>\n",
    "# KNN - Overview\n",
    "\n",
    "> ***Classifier implementing the k-nearest neighbors vote.***\n",
    "\n",
    "---\n",
    "\n",
    "K-Nearest Neighbors is a **non-parametric**, **lazy** learning algorithm. \n",
    "- **Non-parametric**: the model makes no *underlying assumptions* about the distribution of data.\n",
    "- **Lazy learners** (or **instance-based** learning-methods) simply store the training examples and postpone the generalization until a new instance must be classified or prediction made.\n",
    "    - In other words, no training is necessary! This makes training super fast but testing is slower and costly.\n",
    "    \n",
    "---\n",
    "    \n",
    "***QUESTION!***\n",
    "\n",
    "> What color should the **gray point** be?\n",
    "\n",
    "<img src='./images/knn_intro.png' width=40%>\n",
    "\n",
    "---\n",
    "\n",
    "KNN is one of the more simple-to-visualize model-types.\n",
    "<img src='./images/knn-process.png'>\n",
    "    "
   ]
  },
  {
   "cell_type": "markdown",
   "metadata": {},
   "source": [
    "<a id='distance_metrics'></a>\n",
    "# Distance Metrics\n",
    "\n",
    "## Manhattan Distance\n",
    "The first (and easiest) distance metric you'll cover is Manhattan distance. Manhattan distance is aptly named, because it measures the distance from one point to another traveling along the axes of a grid.\n",
    "\n",
    "<img src='./images/manhattan_fs.png' width='300'>\n",
    "\n",
    "$$ \\large d(x,y) = \\sum_{i=1}^{n}|x_i - y_i | $$\n",
    "\n",
    "- For each dimension, you subtract one point's value from the other's, and add the absolute value to the running total.\n",
    "- The final running total is the Manhattan Distance."
   ]
  },
  {
   "cell_type": "code",
   "execution_count": 1,
   "metadata": {
    "ExecuteTime": {
     "end_time": "2021-09-08T20:05:07.575048Z",
     "start_time": "2021-09-08T20:05:07.556380Z"
    }
   },
   "outputs": [
    {
     "data": {
      "text/plain": [
       "12"
      ]
     },
     "execution_count": 1,
     "metadata": {},
     "output_type": "execute_result"
    }
   ],
   "source": [
    "# Manhattan Distance\n",
    "a = (0, 0)\n",
    "b = (6, 6)\n",
    "\n",
    "# # A short-version code:\n",
    "# sum([abs(a-b) for a, b in zip(a, b)])\n",
    "\n",
    "# A long-version code:\n",
    "distance = 0\n",
    "for a, b in zip(a, b):\n",
    "    distance += abs(a - b)\n",
    "distance"
   ]
  },
  {
   "cell_type": "markdown",
   "metadata": {},
   "source": [
    "## Euclidean Distance\n",
    "The equation at the heart of this one is probably familiar: $a^2 + b^2 = c^2$!\n",
    "\n",
    "<img src='./images/euclidean_fs.png' width='300'>\n",
    "\n",
    "$$ \\large d(x,y) = \\sqrt{\\sum_{i=1}^{n}(x_i - y_i)^2} $$\n",
    "\n",
    "- For each dimension, you subtract one point's value from the other's (to get the length of that \"side\" of the triangle in that dimension), square it, and add it to our running total. \n",
    "- The square root of that running total is our Euclidean distance."
   ]
  },
  {
   "cell_type": "code",
   "execution_count": 2,
   "metadata": {
    "ExecuteTime": {
     "end_time": "2021-09-08T20:05:07.751269Z",
     "start_time": "2021-09-08T20:05:07.580113Z"
    }
   },
   "outputs": [
    {
     "data": {
      "text/plain": [
       "8.48528137423857"
      ]
     },
     "execution_count": 2,
     "metadata": {},
     "output_type": "execute_result"
    }
   ],
   "source": [
    "import numpy as np\n",
    "\n",
    "# Euclidean Distance\n",
    "a = (0, 0)\n",
    "b = (6, 6)\n",
    "\n",
    "# # A short-version code:\n",
    "# np.sqrt(sum([(a - b)**2 for a, b in zip(a, b)]))\n",
    "\n",
    "# A long-version code:\n",
    "distance = 0\n",
    "for a, b in zip(a, b):\n",
    "    distance += (a - b)**2\n",
    "np.sqrt(distance)"
   ]
  },
  {
   "cell_type": "markdown",
   "metadata": {},
   "source": [
    "## Generalized Distance Function: Minkowski Distance\n",
    "\n",
    "The Minkowski Distance is the **generalized version of both of the above distance functions** with a customizable parameter: $c$.\n",
    "\n",
    "$$\\large d(x, y) = \\left(\\sum_{i=1}^{n}|x_i - y_i|^c\\right)^\\frac{1}{c}$$\n",
    "\n",
    "For example:\n",
    "\n",
    "> If: $c = 1$\n",
    "> \n",
    "> $ \\large d(x, y) = \\left(\\sum_{i=1}^{n}|x_i - y_i|^1\\right)^\\frac{1}{1}$\n",
    "> \n",
    "> $=$\n",
    ">\n",
    "> $ \\large d(x,y) = \\sum_{i=1}^{n}|x_i - y_i | $ \n",
    "\n",
    "***(Manhattan Distance)***\n",
    "\n",
    "> If: $c = 2$\n",
    "> \n",
    "> $ \\large d(x, y) = \\left(\\sum_{i=1}^{n}|x_i - y_i|^2\\right)^\\frac{1}{2}$\n",
    "> \n",
    "> $=$\n",
    ">\n",
    "> $ \\large d(x,y) = \\sqrt{\\sum_{i=1}^{n}(x_i - y_i)^2} $\n",
    "\n",
    "***(Euclidean Distance)***\n",
    "\n",
    "... and so on to *a Minkowski Distance with a value of 3*, *a Minkowski Distance with a value of 4*..."
   ]
  },
  {
   "cell_type": "markdown",
   "metadata": {},
   "source": [
    "<a id='coding'></a>\n",
    "# Coding! KNN\n",
    "\n",
    "1. Load `diabetes` dataset.\n",
    "2. Process data normally, including a train_test_split.\n",
    "3. Create several models, experimenting with different K-values.\n",
    "4. Track model performance with the training / test set.\n",
    "    - *What Metrics could we use?*"
   ]
  },
  {
   "cell_type": "code",
   "execution_count": 3,
   "metadata": {
    "ExecuteTime": {
     "end_time": "2021-09-08T20:05:08.132774Z",
     "start_time": "2021-09-08T20:05:07.753181Z"
    }
   },
   "outputs": [],
   "source": [
    "import pandas as pd"
   ]
  },
  {
   "cell_type": "code",
   "execution_count": 4,
   "metadata": {
    "ExecuteTime": {
     "end_time": "2021-09-08T20:05:08.155143Z",
     "start_time": "2021-09-08T20:05:08.134752Z"
    }
   },
   "outputs": [
    {
     "data": {
      "text/html": [
       "<div>\n",
       "<style scoped>\n",
       "    .dataframe tbody tr th:only-of-type {\n",
       "        vertical-align: middle;\n",
       "    }\n",
       "\n",
       "    .dataframe tbody tr th {\n",
       "        vertical-align: top;\n",
       "    }\n",
       "\n",
       "    .dataframe thead th {\n",
       "        text-align: right;\n",
       "    }\n",
       "</style>\n",
       "<table border=\"1\" class=\"dataframe\">\n",
       "  <thead>\n",
       "    <tr style=\"text-align: right;\">\n",
       "      <th></th>\n",
       "      <th>Pregnancies</th>\n",
       "      <th>Glucose</th>\n",
       "      <th>BloodPressure</th>\n",
       "      <th>SkinThickness</th>\n",
       "      <th>Insulin</th>\n",
       "      <th>BMI</th>\n",
       "      <th>DiabetesPedigreeFunction</th>\n",
       "      <th>Age</th>\n",
       "      <th>Outcome</th>\n",
       "    </tr>\n",
       "  </thead>\n",
       "  <tbody>\n",
       "    <tr>\n",
       "      <th>0</th>\n",
       "      <td>6</td>\n",
       "      <td>148</td>\n",
       "      <td>72</td>\n",
       "      <td>35</td>\n",
       "      <td>0</td>\n",
       "      <td>33.6</td>\n",
       "      <td>0.627</td>\n",
       "      <td>50</td>\n",
       "      <td>1</td>\n",
       "    </tr>\n",
       "    <tr>\n",
       "      <th>1</th>\n",
       "      <td>1</td>\n",
       "      <td>85</td>\n",
       "      <td>66</td>\n",
       "      <td>29</td>\n",
       "      <td>0</td>\n",
       "      <td>26.6</td>\n",
       "      <td>0.351</td>\n",
       "      <td>31</td>\n",
       "      <td>0</td>\n",
       "    </tr>\n",
       "    <tr>\n",
       "      <th>2</th>\n",
       "      <td>8</td>\n",
       "      <td>183</td>\n",
       "      <td>64</td>\n",
       "      <td>0</td>\n",
       "      <td>0</td>\n",
       "      <td>23.3</td>\n",
       "      <td>0.672</td>\n",
       "      <td>32</td>\n",
       "      <td>1</td>\n",
       "    </tr>\n",
       "    <tr>\n",
       "      <th>3</th>\n",
       "      <td>1</td>\n",
       "      <td>89</td>\n",
       "      <td>66</td>\n",
       "      <td>23</td>\n",
       "      <td>94</td>\n",
       "      <td>28.1</td>\n",
       "      <td>0.167</td>\n",
       "      <td>21</td>\n",
       "      <td>0</td>\n",
       "    </tr>\n",
       "    <tr>\n",
       "      <th>4</th>\n",
       "      <td>0</td>\n",
       "      <td>137</td>\n",
       "      <td>40</td>\n",
       "      <td>35</td>\n",
       "      <td>168</td>\n",
       "      <td>43.1</td>\n",
       "      <td>2.288</td>\n",
       "      <td>33</td>\n",
       "      <td>1</td>\n",
       "    </tr>\n",
       "  </tbody>\n",
       "</table>\n",
       "</div>"
      ],
      "text/plain": [
       "   Pregnancies  Glucose  BloodPressure  SkinThickness  Insulin   BMI  \\\n",
       "0            6      148             72             35        0  33.6   \n",
       "1            1       85             66             29        0  26.6   \n",
       "2            8      183             64              0        0  23.3   \n",
       "3            1       89             66             23       94  28.1   \n",
       "4            0      137             40             35      168  43.1   \n",
       "\n",
       "   DiabetesPedigreeFunction  Age  Outcome  \n",
       "0                     0.627   50        1  \n",
       "1                     0.351   31        0  \n",
       "2                     0.672   32        1  \n",
       "3                     0.167   21        0  \n",
       "4                     2.288   33        1  "
      ]
     },
     "execution_count": 4,
     "metadata": {},
     "output_type": "execute_result"
    }
   ],
   "source": [
    "df = pd.read_csv('./data/diabetes.csv')\n",
    "df.head()"
   ]
  },
  {
   "cell_type": "code",
   "execution_count": 5,
   "metadata": {
    "ExecuteTime": {
     "end_time": "2021-09-08T20:05:08.171058Z",
     "start_time": "2021-09-08T20:05:08.159724Z"
    }
   },
   "outputs": [
    {
     "name": "stdout",
     "output_type": "stream",
     "text": [
      "<class 'pandas.core.frame.DataFrame'>\n",
      "RangeIndex: 768 entries, 0 to 767\n",
      "Data columns (total 9 columns):\n",
      " #   Column                    Non-Null Count  Dtype  \n",
      "---  ------                    --------------  -----  \n",
      " 0   Pregnancies               768 non-null    int64  \n",
      " 1   Glucose                   768 non-null    int64  \n",
      " 2   BloodPressure             768 non-null    int64  \n",
      " 3   SkinThickness             768 non-null    int64  \n",
      " 4   Insulin                   768 non-null    int64  \n",
      " 5   BMI                       768 non-null    float64\n",
      " 6   DiabetesPedigreeFunction  768 non-null    float64\n",
      " 7   Age                       768 non-null    int64  \n",
      " 8   Outcome                   768 non-null    int64  \n",
      "dtypes: float64(2), int64(7)\n",
      "memory usage: 54.1 KB\n"
     ]
    }
   ],
   "source": [
    "df.info()"
   ]
  },
  {
   "cell_type": "code",
   "execution_count": 6,
   "metadata": {
    "ExecuteTime": {
     "end_time": "2021-09-08T20:05:08.180826Z",
     "start_time": "2021-09-08T20:05:08.174937Z"
    }
   },
   "outputs": [
    {
     "data": {
      "text/plain": [
       "0    500\n",
       "1    268\n",
       "Name: Outcome, dtype: int64"
      ]
     },
     "execution_count": 6,
     "metadata": {},
     "output_type": "execute_result"
    }
   ],
   "source": [
    "df['Outcome'].value_counts()"
   ]
  },
  {
   "cell_type": "code",
   "execution_count": 7,
   "metadata": {
    "ExecuteTime": {
     "end_time": "2021-09-08T20:05:09.045775Z",
     "start_time": "2021-09-08T20:05:08.184604Z"
    }
   },
   "outputs": [],
   "source": [
    "from sklearn.model_selection import train_test_split"
   ]
  },
  {
   "cell_type": "code",
   "execution_count": 8,
   "metadata": {
    "ExecuteTime": {
     "end_time": "2021-09-08T20:05:09.060808Z",
     "start_time": "2021-09-08T20:05:09.048113Z"
    }
   },
   "outputs": [
    {
     "data": {
      "text/plain": [
       "((576, 8), (192, 8), (576,), (192,))"
      ]
     },
     "execution_count": 8,
     "metadata": {},
     "output_type": "execute_result"
    }
   ],
   "source": [
    "X_train, X_test, y_train, y_test = train_test_split(\n",
    "    df.drop('Outcome', axis=1),\n",
    "    df['Outcome'],\n",
    "    stratify=df['Outcome'],\n",
    "    random_state=51)\n",
    "\n",
    "X_train.shape, X_test.shape, y_train.shape, y_test.shape"
   ]
  },
  {
   "cell_type": "code",
   "execution_count": 9,
   "metadata": {
    "ExecuteTime": {
     "end_time": "2021-09-08T20:05:09.183126Z",
     "start_time": "2021-09-08T20:05:09.062829Z"
    }
   },
   "outputs": [],
   "source": [
    "from sklearn.neighbors import KNeighborsClassifier"
   ]
  },
  {
   "cell_type": "code",
   "execution_count": 10,
   "metadata": {
    "ExecuteTime": {
     "end_time": "2021-09-08T20:05:09.193836Z",
     "start_time": "2021-09-08T20:05:09.184929Z"
    }
   },
   "outputs": [
    {
     "data": {
      "text/plain": [
       "KNeighborsClassifier()"
      ]
     },
     "execution_count": 10,
     "metadata": {},
     "output_type": "execute_result"
    }
   ],
   "source": [
    "knn = KNeighborsClassifier()\n",
    "knn.fit(X_train, y_train)"
   ]
  },
  {
   "cell_type": "code",
   "execution_count": 11,
   "metadata": {
    "ExecuteTime": {
     "end_time": "2021-09-08T20:05:09.204928Z",
     "start_time": "2021-09-08T20:05:09.195857Z"
    }
   },
   "outputs": [],
   "source": [
    "from sklearn.metrics import (\n",
    "    accuracy_score, \n",
    "    precision_score, \n",
    "    recall_score, \n",
    "    f1_score,\n",
    "    classification_report,\n",
    "    plot_confusion_matrix\n",
    ")"
   ]
  },
  {
   "cell_type": "code",
   "execution_count": 12,
   "metadata": {
    "ExecuteTime": {
     "end_time": "2021-09-08T20:05:09.571831Z",
     "start_time": "2021-09-08T20:05:09.207924Z"
    }
   },
   "outputs": [],
   "source": [
    "import matplotlib.pyplot as plt\n",
    "import seaborn as sns"
   ]
  },
  {
   "cell_type": "code",
   "execution_count": 13,
   "metadata": {
    "ExecuteTime": {
     "end_time": "2021-09-08T20:05:09.576461Z",
     "start_time": "2021-09-08T20:05:09.573637Z"
    }
   },
   "outputs": [],
   "source": [
    "plt.style.use(['ggplot', 'seaborn-talk'])"
   ]
  },
  {
   "cell_type": "code",
   "execution_count": 14,
   "metadata": {
    "ExecuteTime": {
     "end_time": "2021-09-08T20:05:09.589425Z",
     "start_time": "2021-09-08T20:05:09.578462Z"
    }
   },
   "outputs": [],
   "source": [
    "def get_metrics(clf, X, y):\n",
    "    y_pred = clf.predict(X)\n",
    "    \n",
    "    my_metrics = (\n",
    "        (accuracy_score, 'accuracy_score'),\n",
    "        (recall_score, 'recall_score'),\n",
    "        (precision_score, 'precision_score'),\n",
    "        (f1_score, 'f1_score')\n",
    "    )\n",
    "    \n",
    "    for f, name in my_metrics:\n",
    "        print(name.title())\n",
    "        print(f(y, y_pred))\n",
    "        print()\n",
    "        \n",
    "    plot_confusion_matrix(clf, X, y, normalize='true', cmap='Reds')\n",
    "    plt.grid(False)\n",
    "    plt.show()"
   ]
  },
  {
   "cell_type": "code",
   "execution_count": 15,
   "metadata": {
    "ExecuteTime": {
     "end_time": "2021-09-08T20:05:09.888770Z",
     "start_time": "2021-09-08T20:05:09.591614Z"
    }
   },
   "outputs": [
    {
     "name": "stdout",
     "output_type": "stream",
     "text": [
      "Accuracy_Score\n",
      "0.7760416666666666\n",
      "\n",
      "Recall_Score\n",
      "0.6019900497512438\n",
      "\n",
      "Precision_Score\n",
      "0.711764705882353\n",
      "\n",
      "F1_Score\n",
      "0.6522911051212937\n",
      "\n"
     ]
    },
    {
     "data": {
      "image/png": "[encoded data removed]",
      "text/plain": [
       "<Figure size 748.8x514.8 with 2 Axes>"
      ]
     },
     "metadata": {},
     "output_type": "display_data"
    }
   ],
   "source": [
    "get_metrics(knn, X_train, y_train)"
   ]
  },
  {
   "cell_type": "code",
   "execution_count": 16,
   "metadata": {
    "ExecuteTime": {
     "end_time": "2021-09-08T20:05:09.977599Z",
     "start_time": "2021-09-08T20:05:09.891414Z"
    }
   },
   "outputs": [],
   "source": [
    "# Try out different values of K. p=2.\n",
    "k_vals_lst = [1, 3, 5, 7, 9]\n",
    "\n",
    "all_metrics = []\n",
    "for k in k_vals_lst:\n",
    "    knn = KNeighborsClassifier(n_neighbors=k)\n",
    "    knn.fit(X_train, y_train)\n",
    "    \n",
    "    y_pred_test = knn.predict(X_test)\n",
    "    \n",
    "    acc = accuracy_score(y_test, y_pred_test)\n",
    "    recall = recall_score(y_test, y_pred_test)\n",
    "    prec = precision_score(y_test, y_pred_test)\n",
    "    f1 = f1_score(y_test, y_pred_test)\n",
    "    all_metrics.append([acc, recall, prec, f1])"
   ]
  },
  {
   "cell_type": "code",
   "execution_count": 17,
   "metadata": {
    "ExecuteTime": {
     "end_time": "2021-09-08T20:05:09.992283Z",
     "start_time": "2021-09-08T20:05:09.979397Z"
    }
   },
   "outputs": [
    {
     "data": {
      "text/html": [
       "<div>\n",
       "<style scoped>\n",
       "    .dataframe tbody tr th:only-of-type {\n",
       "        vertical-align: middle;\n",
       "    }\n",
       "\n",
       "    .dataframe tbody tr th {\n",
       "        vertical-align: top;\n",
       "    }\n",
       "\n",
       "    .dataframe thead th {\n",
       "        text-align: right;\n",
       "    }\n",
       "</style>\n",
       "<table border=\"1\" class=\"dataframe\">\n",
       "  <thead>\n",
       "    <tr style=\"text-align: right;\">\n",
       "      <th></th>\n",
       "      <th>Accuracy</th>\n",
       "      <th>Recall</th>\n",
       "      <th>Precision</th>\n",
       "      <th>F1-Score</th>\n",
       "    </tr>\n",
       "  </thead>\n",
       "  <tbody>\n",
       "    <tr>\n",
       "      <th>1</th>\n",
       "      <td>0.703125</td>\n",
       "      <td>0.582090</td>\n",
       "      <td>0.573529</td>\n",
       "      <td>0.577778</td>\n",
       "    </tr>\n",
       "    <tr>\n",
       "      <th>3</th>\n",
       "      <td>0.713542</td>\n",
       "      <td>0.567164</td>\n",
       "      <td>0.593750</td>\n",
       "      <td>0.580153</td>\n",
       "    </tr>\n",
       "    <tr>\n",
       "      <th>5</th>\n",
       "      <td>0.744792</td>\n",
       "      <td>0.552239</td>\n",
       "      <td>0.660714</td>\n",
       "      <td>0.601626</td>\n",
       "    </tr>\n",
       "    <tr>\n",
       "      <th>7</th>\n",
       "      <td>0.723958</td>\n",
       "      <td>0.507463</td>\n",
       "      <td>0.629630</td>\n",
       "      <td>0.561983</td>\n",
       "    </tr>\n",
       "    <tr>\n",
       "      <th>9</th>\n",
       "      <td>0.739583</td>\n",
       "      <td>0.552239</td>\n",
       "      <td>0.649123</td>\n",
       "      <td>0.596774</td>\n",
       "    </tr>\n",
       "  </tbody>\n",
       "</table>\n",
       "</div>"
      ],
      "text/plain": [
       "   Accuracy    Recall  Precision  F1-Score\n",
       "1  0.703125  0.582090   0.573529  0.577778\n",
       "3  0.713542  0.567164   0.593750  0.580153\n",
       "5  0.744792  0.552239   0.660714  0.601626\n",
       "7  0.723958  0.507463   0.629630  0.561983\n",
       "9  0.739583  0.552239   0.649123  0.596774"
      ]
     },
     "execution_count": 17,
     "metadata": {},
     "output_type": "execute_result"
    }
   ],
   "source": [
    "model_df_p2 = pd.DataFrame(\n",
    "    np.array(all_metrics), \n",
    "    columns=['Accuracy', 'Recall', 'Precision', 'F1-Score'],\n",
    "    index=k_vals_lst\n",
    ")\n",
    "model_df_p2"
   ]
  },
  {
   "cell_type": "code",
   "execution_count": 18,
   "metadata": {
    "ExecuteTime": {
     "end_time": "2021-09-08T20:05:10.571462Z",
     "start_time": "2021-09-08T20:05:09.995684Z"
    }
   },
   "outputs": [
    {
     "data": {
      "image/png": "[encoded data removed]",
      "text/plain": [
       "<Figure size 864x576 with 1 Axes>"
      ]
     },
     "metadata": {},
     "output_type": "display_data"
    }
   ],
   "source": [
    "fig, ax = plt.subplots(figsize=(12,8))\n",
    "ax.plot(model_df_p2)\n",
    "ax.set(\n",
    "    title='Metrics for KNN Models at Varying $k$\\n$p=2$',\n",
    "    xlabel='$k$-Value',\n",
    "    ylabel='Score'\n",
    "    )\n",
    "ax.legend(model_df_p2.columns)\n",
    "fig.tight_layout()"
   ]
  },
  {
   "cell_type": "code",
   "execution_count": 19,
   "metadata": {
    "ExecuteTime": {
     "end_time": "2021-09-08T20:05:10.672008Z",
     "start_time": "2021-09-08T20:05:10.573863Z"
    }
   },
   "outputs": [],
   "source": [
    "# p=3 in KNN model.\n",
    "k_vals_lst = [1, 3, 5, 7, 9]\n",
    "\n",
    "all_metrics = []\n",
    "for k in k_vals_lst:\n",
    "    knn = KNeighborsClassifier(n_neighbors=k, p=3)\n",
    "    knn.fit(X_train, y_train)\n",
    "    \n",
    "    y_pred_test = knn.predict(X_test)\n",
    "    \n",
    "    acc = accuracy_score(y_test, y_pred_test)\n",
    "    recall = recall_score(y_test, y_pred_test)\n",
    "    prec = precision_score(y_test, y_pred_test)\n",
    "    f1 = f1_score(y_test, y_pred_test)\n",
    "    all_metrics.append([acc, recall, prec, f1])"
   ]
  },
  {
   "cell_type": "code",
   "execution_count": 20,
   "metadata": {
    "ExecuteTime": {
     "end_time": "2021-09-08T20:05:10.683774Z",
     "start_time": "2021-09-08T20:05:10.674481Z"
    }
   },
   "outputs": [
    {
     "data": {
      "text/html": [
       "<div>\n",
       "<style scoped>\n",
       "    .dataframe tbody tr th:only-of-type {\n",
       "        vertical-align: middle;\n",
       "    }\n",
       "\n",
       "    .dataframe tbody tr th {\n",
       "        vertical-align: top;\n",
       "    }\n",
       "\n",
       "    .dataframe thead th {\n",
       "        text-align: right;\n",
       "    }\n",
       "</style>\n",
       "<table border=\"1\" class=\"dataframe\">\n",
       "  <thead>\n",
       "    <tr style=\"text-align: right;\">\n",
       "      <th></th>\n",
       "      <th>Accuracy</th>\n",
       "      <th>Recall</th>\n",
       "      <th>Precision</th>\n",
       "      <th>F1-Score</th>\n",
       "    </tr>\n",
       "  </thead>\n",
       "  <tbody>\n",
       "    <tr>\n",
       "      <th>1</th>\n",
       "      <td>0.687500</td>\n",
       "      <td>0.567164</td>\n",
       "      <td>0.550725</td>\n",
       "      <td>0.558824</td>\n",
       "    </tr>\n",
       "    <tr>\n",
       "      <th>3</th>\n",
       "      <td>0.708333</td>\n",
       "      <td>0.567164</td>\n",
       "      <td>0.584615</td>\n",
       "      <td>0.575758</td>\n",
       "    </tr>\n",
       "    <tr>\n",
       "      <th>5</th>\n",
       "      <td>0.729167</td>\n",
       "      <td>0.567164</td>\n",
       "      <td>0.622951</td>\n",
       "      <td>0.593750</td>\n",
       "    </tr>\n",
       "    <tr>\n",
       "      <th>7</th>\n",
       "      <td>0.718750</td>\n",
       "      <td>0.552239</td>\n",
       "      <td>0.606557</td>\n",
       "      <td>0.578125</td>\n",
       "    </tr>\n",
       "    <tr>\n",
       "      <th>9</th>\n",
       "      <td>0.750000</td>\n",
       "      <td>0.582090</td>\n",
       "      <td>0.661017</td>\n",
       "      <td>0.619048</td>\n",
       "    </tr>\n",
       "  </tbody>\n",
       "</table>\n",
       "</div>"
      ],
      "text/plain": [
       "   Accuracy    Recall  Precision  F1-Score\n",
       "1  0.687500  0.567164   0.550725  0.558824\n",
       "3  0.708333  0.567164   0.584615  0.575758\n",
       "5  0.729167  0.567164   0.622951  0.593750\n",
       "7  0.718750  0.552239   0.606557  0.578125\n",
       "9  0.750000  0.582090   0.661017  0.619048"
      ]
     },
     "execution_count": 20,
     "metadata": {},
     "output_type": "execute_result"
    }
   ],
   "source": [
    "model_df_p3 = pd.DataFrame(\n",
    "    np.array(all_metrics), \n",
    "    columns=['Accuracy', 'Recall', 'Precision', 'F1-Score'],\n",
    "    index=k_vals_lst\n",
    ")\n",
    "model_df_p3"
   ]
  },
  {
   "cell_type": "code",
   "execution_count": 21,
   "metadata": {
    "ExecuteTime": {
     "end_time": "2021-09-08T20:05:11.059907Z",
     "start_time": "2021-09-08T20:05:10.685520Z"
    }
   },
   "outputs": [
    {
     "data": {
      "image/png": "[encoded data removed]",
      "text/plain": [
       "<Figure size 864x576 with 1 Axes>"
      ]
     },
     "metadata": {},
     "output_type": "display_data"
    }
   ],
   "source": [
    "fig, ax = plt.subplots(figsize=(12,8))\n",
    "ax.plot(model_df_p3)\n",
    "ax.set(\n",
    "    title='Metrics for KNN Models at Varying $k$\\n$p=3$',\n",
    "    xlabel='K-Value',\n",
    "    ylabel='Score'\n",
    "    )\n",
    "ax.legend(model_df_p3.columns)\n",
    "fig.tight_layout()"
   ]
  },
  {
   "cell_type": "markdown",
   "metadata": {},
   "source": [
    "<a id='recap'></a>\n",
    "# Recap: Pros and Cons of KNNs \n",
    "\n",
    "**Pros:**\n",
    "- No assumptions about data. \n",
    "    - Useful for nonlinear data.\n",
    "- Simple algorithm to explain and understand/interpret.\n",
    "- High accuracy (relatively).\n",
    "    - It is pretty high but not competitive in comparison to better supervised learning models.\n",
    "- Versatile.\n",
    "    - Useful for classification or regression.\n",
    "\n",
    "**Cons:**\n",
    "- Computationally expensive.\n",
    "    - The algorithm stores all of the training data.\n",
    "    - High memory requirement.\n",
    "- Prediction stage might be slow (with big $n$).\n",
    "- Sensitive to irrelevant features and the scale of the data."
   ]
  },
  {
   "cell_type": "markdown",
   "metadata": {},
   "source": [
    "# Resources\n",
    "\n",
    "- KNN: https://scikit-learn.org/stable/modules/generated/sklearn.neighbors.KNeighborsClassifier.html\n",
    "- Distance Metrics: https://scikit-learn.org/stable/modules/generated/sklearn.metrics.pairwise.euclidean_distances.html"
   ]
  }
 ],
 "metadata": {
  "kernelspec": {
   "display_name": "Python [conda env:learn-env] *",
   "language": "python",
   "name": "conda-env-learn-env-py"
  },
  "language_info": {
   "codemirror_mode": {
    "name": "ipython",
    "version": 3
   },
   "file_extension": ".py",
   "mimetype": "text/x-python",
   "name": "python",
   "nbconvert_exporter": "python",
   "pygments_lexer": "ipython3",
   "version": "3.6.9"
  },
  "toc": {
   "base_numbering": 1,
   "nav_menu": {},
   "number_sections": false,
   "sideBar": true,
   "skip_h1_title": false,
   "title_cell": "Table of Contents",
   "title_sidebar": "Contents",
   "toc_cell": false,
   "toc_position": {
    "height": "calc(100% - 180px)",
    "left": "10px",
    "top": "150px",
    "width": "363.969px"
   },
   "toc_section_display": true,
   "toc_window_display": true
  }
 },
 "nbformat": 4,
 "nbformat_minor": 2
}
