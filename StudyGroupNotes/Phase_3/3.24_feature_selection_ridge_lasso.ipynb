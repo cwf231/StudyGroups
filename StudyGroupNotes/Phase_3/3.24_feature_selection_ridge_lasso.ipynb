{
 "cells": [
  {
   "cell_type": "markdown",
   "metadata": {},
   "source": [
    "## Phase 3.24\n",
    "# Feature Selection, Ridge and Lasso\n",
    "## Objectives\n",
    "- Take a high-level look at <a href='#regularization'>Regularization</a> and why why use it.\n",
    "- Explain <a href='#ridge_lasso'>Ridge & Lasso</a> Regression models and how they work.\n",
    "- Practice <a href='#modeling'>Modeling</a> through an example with Linear, Ridge, Lasso models.\n",
    "\n",
    "\n",
    "- Extra! <a href='#generating_data'>Generating Data</a> using scikit-learn."
   ]
  },
  {
   "cell_type": "markdown",
   "metadata": {},
   "source": [
    "<a id='regularization'></a>\n",
    "# Regularization\n",
    "- In an attempt to fit a good model to data, we often tend to *overfit* our models.\n",
    "- Regularization is a technique used to **avoid overfitting**.\n",
    "    - Regularization discourages overly complex models by penalizing the loss function.\n",
    "\n",
    "## Why Regularize?\n",
    "### Bias / Variance Trade-off\n",
    "\n",
    "<img src='./images/bias_variance_chart.png'>\n",
    "\n",
    "1. **High Bias** \n",
    "    - Bias is about the **strength of assumptions** the model makes.\n",
    "        - Systematic error in predictions (i.e. the average).\n",
    "        - *Underfit* models tend to have high bias.\n",
    "\n",
    "\n",
    "2. **High Variance**\n",
    "    - The model is highly sensitive to changes in the data.\n",
    "    - *Overfit* models tend to have low bias and high variance.\n",
    "    \n",
    "<img src='./images/bias_variance_targets.jpeg'>\n",
    "\n",
    "<img src='./images/overfitting_underfitting.png'>\n",
    "\n",
    "---\n",
    "\n",
    "- *Underfit models* are too generalized (fail to capture all of the information in the data).\n",
    "    - Ex: Using only **the mean**.\n",
    "- *Overfit models* are too specific (**fit to the noise** in the data and fail to generalize).\n",
    "\n",
    "### How would we know if our model is *overfit* or *underfit*?\n",
    "- ***`train_test_split()`***!\n",
    "    - Comparing scores from the `train` / `test` data.\n",
    "    \n",
    "*As model complexity increases so does the possibility for overfitting.*"
   ]
  },
  {
   "cell_type": "markdown",
   "metadata": {},
   "source": [
    "<a id='ridge_lasso'></a>\n",
    "# Ridge & Lasso\n",
    "\n",
    "- **Ridge** and **Lasso** regression are two examples of *penalized estimation*.\n",
    "    - *Penalized Estimation: Shrinks some (or all!) of the coefficients closer to zero.*\n",
    "- Some of the penalties have the property of performing both:\n",
    "    - **feature selection** (setting some coefficients exactly equal to zero) and,\n",
    "    - **shrinking** the other coefficients. \n",
    "\n",
    "---\n",
    "\n",
    "*Linear Regression: Equation Review*\n",
    "\n",
    "$ \\text{cost_function_linear}= \\sum_{i=1}^n(y_i - \\hat{y})^2 = \\sum_{i=1}^n(y_i - \\sum_{j=1}^k(m_jx_{ij} ) -b )^2 $\n",
    "\n",
    "---\n",
    "\n",
    "## **Ridge** Regression\n",
    "- The cost function is changed by adding a penalty term ($\\lambda$) to the square of the magnitude of the coefficients.\n",
    "\n",
    "$ \\text{cost_function_ridge}= \\sum_{i=1}^n(y_i - \\hat{y})^2 = \\sum_{i=1}^n(y_i - \\sum_{j=1}^k(m_jx_{ij})-b)^2 + \\lambda \\sum_{j=1}^p m_j^2 $\n",
    "\n",
    "- **By adding the penalty term $\\lambda$, ridge regression puts a constraint on the coefficients $m$.**\n",
    "- Therefore, large coefficients will penalize the optimization function. \n",
    "    - This shrinks the coefficients and helps to reduce model complexity and multicollinearity.\n",
    "\n",
    "Ridge Regression is often also referred to as **L2 Norm Regularization**.\n",
    "\n",
    "---\n",
    "\n",
    "## **Lasso** Regression\n",
    "***(Least Absolute Shrinkage and Selection Operator)***\n",
    "- Very similar to *Ridge Regression*, except that the magnitude of the coefficients are not squared in the penalty term.\n",
    "\n",
    "$ \\text{cost_function_lasso}= \\sum_{i=1}^n(y_i - \\hat{y})^2 = \\sum_{i=1}^n(y_i - \\sum_{j=1}^k(m_jx_{ij})-b)^2 + \\lambda \\sum_{j=1}^p \\mid m_j \\mid $\n",
    "\n",
    "- Lasso also helps with overfitting.\n",
    "- **Lasso shrinks the less important features' coefficients to zero**, removing them altogether. \n",
    "    - Therefore, Lasso regression can be used for **feature selection**\n",
    "\n",
    "Lasso Regression is often also referred to as **L1 Norm Regularization**.\n",
    "\n",
    "---\n",
    "\n",
    "## Standardization before Regularization\n",
    "***Important!***\n",
    "\n",
    "- An important step before using either Lasso or Ridge regularization is to first **standardize your data such that it is all on the same scale**. \n",
    "- Regularization is based on the concept of penalizing larger coefficients, so **if you have features that are on different scales, some will get unfairly penalized**.\n",
    "\n",
    "*A downside of standardization is that the value of the coefficients become less interpretable and must be transformed back to their original scale if you want to interpret how a one unit change in a feature impacts the target variable.*"
   ]
  },
  {
   "cell_type": "markdown",
   "metadata": {},
   "source": [
    "<a id='modeling'></a>\n",
    "# Modeling!\n",
    "***Working with `LinearRegression`, `Ridge`, `Lasso`***\n",
    "\n",
    "*Documentation:*\n",
    "- Linear Regression:\n",
    "    - https://scikit-learn.org/stable/modules/generated/sklearn.linear_model.LinearRegression.html\n",
    "- Ridge Regression:\n",
    "    - https://scikit-learn.org/stable/modules/generated/sklearn.linear_model.Ridge.html\n",
    "- Lasso Regression:\n",
    "    - https://scikit-learn.org/stable/modules/generated/sklearn.linear_model.Lasso.html"
   ]
  },
  {
   "cell_type": "code",
   "execution_count": 1,
   "metadata": {
    "ExecuteTime": {
     "end_time": "2021-03-20T16:00:23.209721Z",
     "start_time": "2021-03-20T16:00:21.738654Z"
    }
   },
   "outputs": [],
   "source": [
    "# Import basic libraries.\n",
    "import numpy as np\n",
    "import pandas as pd\n",
    "import matplotlib.pyplot as plt\n",
    "import seaborn as sns"
   ]
  },
  {
   "cell_type": "code",
   "execution_count": 2,
   "metadata": {
    "ExecuteTime": {
     "end_time": "2021-03-20T16:00:23.218302Z",
     "start_time": "2021-03-20T16:00:23.211819Z"
    }
   },
   "outputs": [],
   "source": [
    "# Setting plt style.\n",
    "%matplotlib inline\n",
    "plt.style.use(['ggplot', 'seaborn-talk'])"
   ]
  },
  {
   "cell_type": "code",
   "execution_count": 3,
   "metadata": {
    "ExecuteTime": {
     "end_time": "2021-03-20T16:00:23.223218Z",
     "start_time": "2021-03-20T16:00:23.220871Z"
    }
   },
   "outputs": [],
   "source": [
    "# Import data from seaborn: 'mpg'\n"
   ]
  },
  {
   "cell_type": "markdown",
   "metadata": {},
   "source": [
    "## Preparing Data"
   ]
  },
  {
   "cell_type": "code",
   "execution_count": 4,
   "metadata": {
    "ExecuteTime": {
     "end_time": "2021-03-20T16:00:23.228566Z",
     "start_time": "2021-03-20T16:00:23.226191Z"
    }
   },
   "outputs": [],
   "source": [
    "# Drop columns [`origin`, `name`].\n"
   ]
  },
  {
   "cell_type": "code",
   "execution_count": 5,
   "metadata": {
    "ExecuteTime": {
     "end_time": "2021-03-20T16:00:23.571465Z",
     "start_time": "2021-03-20T16:00:23.230481Z"
    }
   },
   "outputs": [],
   "source": [
    "from sklearn.model_selection import train_test_split"
   ]
  },
  {
   "cell_type": "code",
   "execution_count": 6,
   "metadata": {
    "ExecuteTime": {
     "end_time": "2021-03-20T16:00:23.575864Z",
     "start_time": "2021-03-20T16:00:23.573526Z"
    }
   },
   "outputs": [],
   "source": [
    "# Perform a train_test_split. (random_state=2021)\n"
   ]
  },
  {
   "cell_type": "code",
   "execution_count": 7,
   "metadata": {
    "ExecuteTime": {
     "end_time": "2021-03-20T16:00:23.688982Z",
     "start_time": "2021-03-20T16:00:23.577700Z"
    }
   },
   "outputs": [],
   "source": [
    "from sklearn.impute import SimpleImputer"
   ]
  },
  {
   "cell_type": "code",
   "execution_count": 8,
   "metadata": {
    "ExecuteTime": {
     "end_time": "2021-03-20T16:00:23.696151Z",
     "start_time": "2021-03-20T16:00:23.693639Z"
    }
   },
   "outputs": [],
   "source": [
    "# Fit Imputer of X-data. (missing_values=np.nan)\n"
   ]
  },
  {
   "cell_type": "code",
   "execution_count": 9,
   "metadata": {
    "ExecuteTime": {
     "end_time": "2021-03-20T16:00:23.701380Z",
     "start_time": "2021-03-20T16:00:23.698702Z"
    }
   },
   "outputs": [],
   "source": [
    "from sklearn.preprocessing import StandardScaler"
   ]
  },
  {
   "cell_type": "code",
   "execution_count": 10,
   "metadata": {
    "ExecuteTime": {
     "end_time": "2021-03-20T16:00:23.705611Z",
     "start_time": "2021-03-20T16:00:23.703327Z"
    }
   },
   "outputs": [],
   "source": [
    "# Scaling the data. (X & y)\n"
   ]
  },
  {
   "cell_type": "code",
   "execution_count": 11,
   "metadata": {
    "ExecuteTime": {
     "end_time": "2021-03-20T16:00:23.711659Z",
     "start_time": "2021-03-20T16:00:23.707793Z"
    }
   },
   "outputs": [],
   "source": [
    "from sklearn.linear_model import LinearRegression, RidgeCV, LassoCV\n",
    "from sklearn.metrics import mean_squared_error, r2_score"
   ]
  },
  {
   "cell_type": "code",
   "execution_count": 12,
   "metadata": {
    "ExecuteTime": {
     "end_time": "2021-03-20T16:00:23.716206Z",
     "start_time": "2021-03-20T16:00:23.713825Z"
    }
   },
   "outputs": [],
   "source": [
    "# Build and fit models.\n"
   ]
  },
  {
   "cell_type": "code",
   "execution_count": 13,
   "metadata": {
    "ExecuteTime": {
     "end_time": "2021-03-20T16:00:23.728427Z",
     "start_time": "2021-03-20T16:00:23.718482Z"
    }
   },
   "outputs": [],
   "source": [
    "# Helper function\n",
    "def show_as_title(s):\n",
    "    \"\"\"Print a title.\"\"\"\n",
    "    \n",
    "    stars = '*'*10\n",
    "    print(f'{stars}{s}{stars}')\n",
    "\n",
    "\n",
    "# Evaluation function.\n",
    "def show_evaluation(\n",
    "    y_train_true, \n",
    "    y_train_pred, \n",
    "    y_test_true, \n",
    "    y_test_pred,\n",
    "    title=''):\n",
    "    \"\"\"\n",
    "    Print metrics for predicted values.\n",
    "    r_2, mse, rmse\n",
    "    \n",
    "    Parameters:\n",
    "    -----------\n",
    "    y_train_true: ground truth data (pd.DataFrame)\n",
    "    y_train_pred: predicted values (pd.DataFrame)\n",
    "    y_test_true: ground truth data (pd.DataFrame)\n",
    "    y_test_pred: predicted values (pd.DataFrame)\n",
    "    title: str (Default: '')\n",
    "        If provided, the printout will include a title.\n",
    "    \"\"\"\n",
    "    \n",
    "    if title:\n",
    "        show_as_title(title)\n",
    "        \n",
    "    r2_train = r2_score(y_train_true, y_train_pred)\n",
    "    r2_test = r2_score(y_test_true, y_test_pred)\n",
    "    mse_train = mean_squared_error(y_train_true, y_train_pred)\n",
    "    mse_test = mean_squared_error(y_test_true, y_test_pred)\n",
    "    rmse_train = np.sqrt(mse_train)\n",
    "    rmse_test = np.sqrt(mse_test)\n",
    "    \n",
    "    print('R2')\n",
    "    print(f'\\tTrain:\\t{round(r2_train, 3)}\\n\\tTest:\\t{round(r2_test, 3)}')\n",
    "    print('MSE')\n",
    "    print(f'\\tTrain:\\t{round(mse_train, 3)}\\n\\tTest:\\t{round(mse_test, 3)}')\n",
    "    print('RMSE')\n",
    "    print(f'\\tTrain:\\t{round(rmse_train, 3)}\\n\\tTest:\\t{round(rmse_test, 3)}')\n",
    "    print()\n",
    "    \n",
    "    \n",
    "# Showing coefficients.\n",
    "def check_coefficients(model, title=''):\n",
    "    \"\"\"\n",
    "    Prints information about the fit models' coefficients.\n",
    "    \n",
    "    Parameters:\n",
    "    -----------\n",
    "    model: fit sklearn linear_model\n",
    "    title: str (Default: '')\n",
    "        If provided, the printout will include a title.\n",
    "    \"\"\"\n",
    "    \n",
    "    if title:\n",
    "        show_as_title(title)\n",
    "    \n",
    "    coef_array = model.coef_.reshape(-1,)\n",
    "    num_coef = len(coef_array)\n",
    "    close_to_zero = sum(abs(coef_array) < 10**(-10))\n",
    "    \n",
    "    print(f'Number of coefficients:              \\t{num_coef}')\n",
    "    print(f'Number of coefficients close to zero:\\t{close_to_zero}')\n",
    "    print()"
   ]
  },
  {
   "cell_type": "code",
   "execution_count": 14,
   "metadata": {
    "ExecuteTime": {
     "end_time": "2021-03-20T16:00:23.732765Z",
     "start_time": "2021-03-20T16:00:23.730352Z"
    }
   },
   "outputs": [],
   "source": [
    "# Use `check_coefficients()` for all models.\n"
   ]
  },
  {
   "cell_type": "code",
   "execution_count": 15,
   "metadata": {
    "ExecuteTime": {
     "end_time": "2021-03-20T16:00:23.737701Z",
     "start_time": "2021-03-20T16:00:23.735316Z"
    }
   },
   "outputs": [],
   "source": [
    "# Use `show_evaluation()` for all models\n"
   ]
  },
  {
   "cell_type": "code",
   "execution_count": 16,
   "metadata": {
    "ExecuteTime": {
     "end_time": "2021-03-20T16:00:23.742062Z",
     "start_time": "2021-03-20T16:00:23.739489Z"
    }
   },
   "outputs": [],
   "source": [
    "# Create a dataframe of coefficients.\n",
    "\n",
    "\n",
    "# Add a column for feature name.\n"
   ]
  },
  {
   "cell_type": "code",
   "execution_count": 17,
   "metadata": {
    "ExecuteTime": {
     "end_time": "2021-03-20T16:00:23.746933Z",
     "start_time": "2021-03-20T16:00:23.744311Z"
    }
   },
   "outputs": [],
   "source": [
    "# Melt dataframe for grouped bar chart. (`.melt(id_vars='feature')`)\n"
   ]
  },
  {
   "cell_type": "code",
   "execution_count": 18,
   "metadata": {
    "ExecuteTime": {
     "end_time": "2021-03-20T16:00:23.750925Z",
     "start_time": "2021-03-20T16:00:23.748797Z"
    }
   },
   "outputs": [],
   "source": [
    "# Plot a grouped bar chart showing the difference between coefficients.\n",
    "# x='feature', y='value', hue='variable'"
   ]
  },
  {
   "cell_type": "markdown",
   "metadata": {},
   "source": [
    "<a id='generating_data'></a>\n",
    "# Extra: Generating Data\n",
    "\n",
    "While there are some common \"toy\" datasets we can always use to test out models, we can also generate datasets from `sklearn.datasets`!\n",
    "\n",
    "*Documentation:*\n",
    "- Samples Generators (*`sklearn.datasets.make_{something}()`*)\n",
    "    - https://scikit-learn.org/stable/modules/classes.html#samples-generator"
   ]
  },
  {
   "cell_type": "code",
   "execution_count": 19,
   "metadata": {
    "ExecuteTime": {
     "end_time": "2021-03-20T16:00:23.814345Z",
     "start_time": "2021-03-20T16:00:23.752597Z"
    }
   },
   "outputs": [],
   "source": [
    "from sklearn.datasets import make_regression"
   ]
  },
  {
   "cell_type": "code",
   "execution_count": 20,
   "metadata": {
    "ExecuteTime": {
     "end_time": "2021-03-20T16:00:24.082140Z",
     "start_time": "2021-03-20T16:00:23.816091Z"
    }
   },
   "outputs": [
    {
     "name": "stdout",
     "output_type": "stream",
     "text": [
      "Datatype of X:\t<class 'numpy.ndarray'>\n",
      "Datatype of y:\t<class 'numpy.ndarray'>\n"
     ]
    },
    {
     "data": {
      "image/png": "[encoded data removed]",
      "text/plain": [
       "<Figure size 748.8x514.8 with 1 Axes>"
      ]
     },
     "metadata": {},
     "output_type": "display_data"
    }
   ],
   "source": [
    "# Let's try it out!\n",
    "X, y = make_regression(\n",
    "    n_features=1, # One feature to see it on a plane.\n",
    "    noise=4, # Adding some noise to the data.,\n",
    "    random_state=51\n",
    "    )\n",
    "\n",
    "# Explore output.\n",
    "print(f'Datatype of X:\\t{type(X)}\\nDatatype of y:\\t{type(y)}')\n",
    "\n",
    "# Plot.\n",
    "fig, ax = plt.subplots()\n",
    "ax.scatter(X, y)\n",
    "ax.set(\n",
    "    title='Make Regression\\nSingle Feature : Noise = 4',\n",
    "    xlabel='X_feature',\n",
    "    ylabel='Target'\n",
    "    )\n",
    "fig.tight_layout()"
   ]
  },
  {
   "cell_type": "code",
   "execution_count": 21,
   "metadata": {
    "ExecuteTime": {
     "end_time": "2021-03-20T16:00:24.085821Z",
     "start_time": "2021-03-20T16:00:24.083731Z"
    }
   },
   "outputs": [],
   "source": [
    "# Create a dataset with:\n",
    "## 1000 samples, \n",
    "## 30 features (10 of which are informative), \n",
    "## some noise, \n",
    "## some random state.\n"
   ]
  },
  {
   "cell_type": "markdown",
   "metadata": {},
   "source": [
    "# Resources\n",
    "- Ridge: https://scikit-learn.org/stable/modules/linear_model.html#ridge-regression-and-classification\n",
    "- Lasso: https://scikit-learn.org/stable/modules/linear_model.html#lasso\n",
    "- Elastic-Net: https://scikit-learn.org/stable/modules/linear_model.html#elastic-net\n",
    "\n",
    "\n",
    "- All samples-generators: https://scikit-learn.org/stable/modules/classes.html#samples-generator"
   ]
  }
 ],
 "metadata": {
  "kernelspec": {
   "display_name": "Python [conda env:learn-env] *",
   "language": "python",
   "name": "conda-env-learn-env-py"
  },
  "language_info": {
   "codemirror_mode": {
    "name": "ipython",
    "version": 3
   },
   "file_extension": ".py",
   "mimetype": "text/x-python",
   "name": "python",
   "nbconvert_exporter": "python",
   "pygments_lexer": "ipython3",
   "version": "3.6.9"
  },
  "toc": {
   "base_numbering": 1,
   "nav_menu": {},
   "number_sections": false,
   "sideBar": true,
   "skip_h1_title": false,
   "title_cell": "Table of Contents",
   "title_sidebar": "Contents",
   "toc_cell": false,
   "toc_position": {
    "height": "calc(100% - 180px)",
    "left": "10px",
    "top": "150px",
    "width": "386.391px"
   },
   "toc_section_display": true,
   "toc_window_display": true
  }
 },
 "nbformat": 4,
 "nbformat_minor": 2
}
