{
 "cells": [
  {
   "cell_type": "markdown",
   "metadata": {},
   "source": [
    "## Phase 3.24\n",
    "# Feature Selection, Ridge and Lasso\n",
    "## Objectives\n",
    "- Take a high-level look at <a href='#regularization'>Regularization</a> and why why use it.\n",
    "- Explain <a href='#ridge_lasso'>Ridge & Lasso</a> Regression models and how they work.\n",
    "- Practice <a href='#modeling'>Modeling</a> through an example with Linear, Ridge, Lasso models.\n",
    "\n",
    "\n",
    "- Extra! <a href='#generating_data'>Generating Data</a> using scikit-learn."
   ]
  },
  {
   "cell_type": "markdown",
   "metadata": {},
   "source": [
    "<a id='regularization'></a>\n",
    "# Regularization\n",
    "- In an attempt to fit a good model to data, we often tend to *overfit* our models.\n",
    "- Regularization is a technique used to **avoid overfitting**.\n",
    "    - Regularization discourages overly complex models by penalizing the loss function.\n",
    "\n",
    "## Why Regularize?\n",
    "### Bias / Variance Trade-off\n",
    "\n",
    "<img src='./images/bias_variance_chart.png'>\n",
    "\n",
    "1. **High Bias** \n",
    "    - Bias is about the **strength of assumptions** the model makes.\n",
    "        - Systematic error in predictions (i.e. the average).\n",
    "        - *Underfit* models tend to have high bias.\n",
    "\n",
    "\n",
    "2. **High Variance**\n",
    "    - The model is highly sensitive to changes in the data.\n",
    "    - *Overfit* models tend to have low bias and high variance.\n",
    "    \n",
    "<img src='./images/bias_variance_targets.jpeg'>\n",
    "\n",
    "<img src='./images/overfitting_underfitting.png'>\n",
    "\n",
    "---\n",
    "\n",
    "- *Underfit models* are too generalized (fail to capture all of the information in the data).\n",
    "    - Ex: Using only **the mean**.\n",
    "- *Overfit models* are too specific (**fit to the noise** in the data and fail to generalize).\n",
    "\n",
    "### How would we know if our model is *overfit* or *underfit*?\n",
    "- ***`train_test_split()`***!\n",
    "    - Comparing scores from the `train` / `test` data.\n",
    "    \n",
    "*As model complexity increases so does the possibility for overfitting.*"
   ]
  },
  {
   "cell_type": "markdown",
   "metadata": {},
   "source": [
    "<a id='ridge_lasso'></a>\n",
    "# Ridge & Lasso\n",
    "\n",
    "- **Ridge** and **Lasso** regression are two examples of *penalized estimation*.\n",
    "    - *Penalized Estimation: Shrinks some (or all!) of the coefficients closer to zero.*\n",
    "- Some of the penalties have the property of performing both:\n",
    "    - **feature selection** (setting some coefficients exactly equal to zero) and,\n",
    "    - **shrinking** the other coefficients. \n",
    "\n",
    "---\n",
    "\n",
    "*Linear Regression: Equation Review*\n",
    "\n",
    "$ \\text{cost_function_linear}= \\sum_{i=1}^n(y_i - \\hat{y})^2 = \\sum_{i=1}^n(y_i - \\sum_{j=1}^k(m_jx_{ij} ) -b )^2 $\n",
    "\n",
    "---\n",
    "\n",
    "## **Ridge** Regression\n",
    "- The cost function is changed by adding a penalty term ($\\lambda$) to the square of the magnitude of the coefficients.\n",
    "\n",
    "$ \\text{cost_function_ridge}= \\sum_{i=1}^n(y_i - \\hat{y})^2 = \\sum_{i=1}^n(y_i - \\sum_{j=1}^k(m_jx_{ij})-b)^2 + \\lambda \\sum_{j=1}^p m_j^2 $\n",
    "\n",
    "- **By adding the penalty term $\\lambda$, ridge regression puts a constraint on the coefficients $m$.**\n",
    "- Therefore, large coefficients will penalize the optimization function. \n",
    "    - This shrinks the coefficients and helps to reduce model complexity and multicollinearity.\n",
    "\n",
    "Ridge Regression is often also referred to as **L2 Norm Regularization**.\n",
    "\n",
    "---\n",
    "\n",
    "## **Lasso** Regression\n",
    "***(Least Absolute Shrinkage and Selection Operator)***\n",
    "- Very similar to *Ridge Regression*, except that the magnitude of the coefficients are not squared in the penalty term.\n",
    "\n",
    "$ \\text{cost_function_lasso}= \\sum_{i=1}^n(y_i - \\hat{y})^2 = \\sum_{i=1}^n(y_i - \\sum_{j=1}^k(m_jx_{ij})-b)^2 + \\lambda \\sum_{j=1}^p \\mid m_j \\mid $\n",
    "\n",
    "- Lasso also helps with overfitting.\n",
    "- **Lasso shrinks the less important features' coefficients to zero**, removing them altogether. \n",
    "    - Therefore, Lasso regression can be used for **feature selection**\n",
    "\n",
    "Lasso Regression is often also referred to as **L1 Norm Regularization**.\n",
    "\n",
    "---\n",
    "\n",
    "## Standardization before Regularization\n",
    "***Important!***\n",
    "\n",
    "- An important step before using either Lasso or Ridge regularization is to first **standardize your data such that it is all on the same scale**. \n",
    "- Regularization is based on the concept of penalizing larger coefficients, so **if you have features that are on different scales, some will get unfairly penalized**.\n",
    "\n",
    "*A downside of standardization is that the value of the coefficients become less interpretable and must be transformed back to their original scale if you want to interpret how a one unit change in a feature impacts the target variable.*"
   ]
  },
  {
   "cell_type": "markdown",
   "metadata": {},
   "source": [
    "<a id='modeling'></a>\n",
    "# Modeling!\n",
    "***Working with `LinearRegression`, `Ridge`, `Lasso`***\n",
    "\n",
    "*Documentation:*\n",
    "- Linear Regression:\n",
    "    - https://scikit-learn.org/stable/modules/generated/sklearn.linear_model.LinearRegression.html\n",
    "- Ridge Regression (CV):\n",
    "    - https://scikit-learn.org/stable/modules/generated/sklearn.linear_model.RidgeCV.html#sklearn.linear_model.RidgeCV\n",
    "- Lasso Regression (CV):\n",
    "    - https://scikit-learn.org/stable/modules/generated/sklearn.linear_model.LassoCV.html#sklearn.linear_model.LassoCV"
   ]
  },
  {
   "cell_type": "code",
   "execution_count": 1,
   "metadata": {
    "ExecuteTime": {
     "end_time": "2021-11-04T22:54:38.159358Z",
     "start_time": "2021-11-04T22:54:35.889720Z"
    }
   },
   "outputs": [],
   "source": [
    "# Import basic libraries.\n",
    "import numpy as np\n",
    "import pandas as pd\n",
    "import matplotlib.pyplot as plt\n",
    "import seaborn as sns"
   ]
  },
  {
   "cell_type": "code",
   "execution_count": 2,
   "metadata": {
    "ExecuteTime": {
     "end_time": "2021-11-04T22:54:38.357193Z",
     "start_time": "2021-11-04T22:54:38.347018Z"
    }
   },
   "outputs": [],
   "source": [
    "# Setting plt style.\n",
    "%matplotlib inline\n",
    "plt.style.use(['ggplot', 'seaborn-talk'])"
   ]
  },
  {
   "cell_type": "code",
   "execution_count": 3,
   "metadata": {
    "ExecuteTime": {
     "end_time": "2021-11-04T22:54:38.706582Z",
     "start_time": "2021-11-04T22:54:38.645425Z"
    }
   },
   "outputs": [
    {
     "data": {
      "text/html": [
       "<div>\n",
       "<style scoped>\n",
       "    .dataframe tbody tr th:only-of-type {\n",
       "        vertical-align: middle;\n",
       "    }\n",
       "\n",
       "    .dataframe tbody tr th {\n",
       "        vertical-align: top;\n",
       "    }\n",
       "\n",
       "    .dataframe thead th {\n",
       "        text-align: right;\n",
       "    }\n",
       "</style>\n",
       "<table border=\"1\" class=\"dataframe\">\n",
       "  <thead>\n",
       "    <tr style=\"text-align: right;\">\n",
       "      <th></th>\n",
       "      <th>mpg</th>\n",
       "      <th>cylinders</th>\n",
       "      <th>displacement</th>\n",
       "      <th>horsepower</th>\n",
       "      <th>weight</th>\n",
       "      <th>acceleration</th>\n",
       "      <th>model_year</th>\n",
       "      <th>origin</th>\n",
       "      <th>name</th>\n",
       "    </tr>\n",
       "  </thead>\n",
       "  <tbody>\n",
       "    <tr>\n",
       "      <th>0</th>\n",
       "      <td>18.0</td>\n",
       "      <td>8</td>\n",
       "      <td>307.0</td>\n",
       "      <td>130.0</td>\n",
       "      <td>3504</td>\n",
       "      <td>12.0</td>\n",
       "      <td>70</td>\n",
       "      <td>usa</td>\n",
       "      <td>chevrolet chevelle malibu</td>\n",
       "    </tr>\n",
       "    <tr>\n",
       "      <th>1</th>\n",
       "      <td>15.0</td>\n",
       "      <td>8</td>\n",
       "      <td>350.0</td>\n",
       "      <td>165.0</td>\n",
       "      <td>3693</td>\n",
       "      <td>11.5</td>\n",
       "      <td>70</td>\n",
       "      <td>usa</td>\n",
       "      <td>buick skylark 320</td>\n",
       "    </tr>\n",
       "    <tr>\n",
       "      <th>2</th>\n",
       "      <td>18.0</td>\n",
       "      <td>8</td>\n",
       "      <td>318.0</td>\n",
       "      <td>150.0</td>\n",
       "      <td>3436</td>\n",
       "      <td>11.0</td>\n",
       "      <td>70</td>\n",
       "      <td>usa</td>\n",
       "      <td>plymouth satellite</td>\n",
       "    </tr>\n",
       "    <tr>\n",
       "      <th>3</th>\n",
       "      <td>16.0</td>\n",
       "      <td>8</td>\n",
       "      <td>304.0</td>\n",
       "      <td>150.0</td>\n",
       "      <td>3433</td>\n",
       "      <td>12.0</td>\n",
       "      <td>70</td>\n",
       "      <td>usa</td>\n",
       "      <td>amc rebel sst</td>\n",
       "    </tr>\n",
       "    <tr>\n",
       "      <th>4</th>\n",
       "      <td>17.0</td>\n",
       "      <td>8</td>\n",
       "      <td>302.0</td>\n",
       "      <td>140.0</td>\n",
       "      <td>3449</td>\n",
       "      <td>10.5</td>\n",
       "      <td>70</td>\n",
       "      <td>usa</td>\n",
       "      <td>ford torino</td>\n",
       "    </tr>\n",
       "    <tr>\n",
       "      <th>...</th>\n",
       "      <td>...</td>\n",
       "      <td>...</td>\n",
       "      <td>...</td>\n",
       "      <td>...</td>\n",
       "      <td>...</td>\n",
       "      <td>...</td>\n",
       "      <td>...</td>\n",
       "      <td>...</td>\n",
       "      <td>...</td>\n",
       "    </tr>\n",
       "    <tr>\n",
       "      <th>393</th>\n",
       "      <td>27.0</td>\n",
       "      <td>4</td>\n",
       "      <td>140.0</td>\n",
       "      <td>86.0</td>\n",
       "      <td>2790</td>\n",
       "      <td>15.6</td>\n",
       "      <td>82</td>\n",
       "      <td>usa</td>\n",
       "      <td>ford mustang gl</td>\n",
       "    </tr>\n",
       "    <tr>\n",
       "      <th>394</th>\n",
       "      <td>44.0</td>\n",
       "      <td>4</td>\n",
       "      <td>97.0</td>\n",
       "      <td>52.0</td>\n",
       "      <td>2130</td>\n",
       "      <td>24.6</td>\n",
       "      <td>82</td>\n",
       "      <td>europe</td>\n",
       "      <td>vw pickup</td>\n",
       "    </tr>\n",
       "    <tr>\n",
       "      <th>395</th>\n",
       "      <td>32.0</td>\n",
       "      <td>4</td>\n",
       "      <td>135.0</td>\n",
       "      <td>84.0</td>\n",
       "      <td>2295</td>\n",
       "      <td>11.6</td>\n",
       "      <td>82</td>\n",
       "      <td>usa</td>\n",
       "      <td>dodge rampage</td>\n",
       "    </tr>\n",
       "    <tr>\n",
       "      <th>396</th>\n",
       "      <td>28.0</td>\n",
       "      <td>4</td>\n",
       "      <td>120.0</td>\n",
       "      <td>79.0</td>\n",
       "      <td>2625</td>\n",
       "      <td>18.6</td>\n",
       "      <td>82</td>\n",
       "      <td>usa</td>\n",
       "      <td>ford ranger</td>\n",
       "    </tr>\n",
       "    <tr>\n",
       "      <th>397</th>\n",
       "      <td>31.0</td>\n",
       "      <td>4</td>\n",
       "      <td>119.0</td>\n",
       "      <td>82.0</td>\n",
       "      <td>2720</td>\n",
       "      <td>19.4</td>\n",
       "      <td>82</td>\n",
       "      <td>usa</td>\n",
       "      <td>chevy s-10</td>\n",
       "    </tr>\n",
       "  </tbody>\n",
       "</table>\n",
       "<p>398 rows × 9 columns</p>\n",
       "</div>"
      ],
      "text/plain": [
       "      mpg  cylinders  displacement  horsepower  weight  acceleration  \\\n",
       "0    18.0          8         307.0       130.0    3504          12.0   \n",
       "1    15.0          8         350.0       165.0    3693          11.5   \n",
       "2    18.0          8         318.0       150.0    3436          11.0   \n",
       "3    16.0          8         304.0       150.0    3433          12.0   \n",
       "4    17.0          8         302.0       140.0    3449          10.5   \n",
       "..    ...        ...           ...         ...     ...           ...   \n",
       "393  27.0          4         140.0        86.0    2790          15.6   \n",
       "394  44.0          4          97.0        52.0    2130          24.6   \n",
       "395  32.0          4         135.0        84.0    2295          11.6   \n",
       "396  28.0          4         120.0        79.0    2625          18.6   \n",
       "397  31.0          4         119.0        82.0    2720          19.4   \n",
       "\n",
       "     model_year  origin                       name  \n",
       "0            70     usa  chevrolet chevelle malibu  \n",
       "1            70     usa          buick skylark 320  \n",
       "2            70     usa         plymouth satellite  \n",
       "3            70     usa              amc rebel sst  \n",
       "4            70     usa                ford torino  \n",
       "..          ...     ...                        ...  \n",
       "393          82     usa            ford mustang gl  \n",
       "394          82  europe                  vw pickup  \n",
       "395          82     usa              dodge rampage  \n",
       "396          82     usa                ford ranger  \n",
       "397          82     usa                 chevy s-10  \n",
       "\n",
       "[398 rows x 9 columns]"
      ]
     },
     "execution_count": 3,
     "metadata": {},
     "output_type": "execute_result"
    }
   ],
   "source": [
    "# Import data from seaborn: 'mpg'\n",
    "df = sns.load_dataset('mpg')\n",
    "df"
   ]
  },
  {
   "cell_type": "markdown",
   "metadata": {},
   "source": [
    "## Preparing Data"
   ]
  },
  {
   "cell_type": "code",
   "execution_count": 4,
   "metadata": {
    "ExecuteTime": {
     "end_time": "2021-11-04T22:55:02.512973Z",
     "start_time": "2021-11-04T22:55:02.509457Z"
    }
   },
   "outputs": [],
   "source": [
    "# Drop columns [`origin`, `name`].\n",
    "df.drop(columns=['origin', 'name'], inplace=True)"
   ]
  },
  {
   "cell_type": "code",
   "execution_count": 5,
   "metadata": {
    "ExecuteTime": {
     "end_time": "2021-11-04T22:55:07.419645Z",
     "start_time": "2021-11-04T22:55:06.761645Z"
    }
   },
   "outputs": [],
   "source": [
    "from sklearn.model_selection import train_test_split"
   ]
  },
  {
   "cell_type": "code",
   "execution_count": 6,
   "metadata": {
    "ExecuteTime": {
     "end_time": "2021-11-04T22:55:38.783601Z",
     "start_time": "2021-11-04T22:55:38.774401Z"
    }
   },
   "outputs": [
    {
     "data": {
      "text/plain": [
       "((298, 6), (100, 6), (298,), (100,))"
      ]
     },
     "execution_count": 6,
     "metadata": {},
     "output_type": "execute_result"
    }
   ],
   "source": [
    "# Perform a train_test_split. (random_state=2021)\n",
    "X_train, X_test, y_train, y_test = train_test_split(\n",
    "    df.drop('mpg', axis=1), df['mpg'], random_state=2021)\n",
    "\n",
    "X_train.shape, X_test.shape, y_train.shape, y_test.shape"
   ]
  },
  {
   "cell_type": "code",
   "execution_count": 7,
   "metadata": {
    "ExecuteTime": {
     "end_time": "2021-11-04T22:56:53.080350Z",
     "start_time": "2021-11-04T22:56:52.906610Z"
    }
   },
   "outputs": [],
   "source": [
    "from sklearn.impute import SimpleImputer"
   ]
  },
  {
   "cell_type": "code",
   "execution_count": 8,
   "metadata": {
    "ExecuteTime": {
     "end_time": "2021-11-04T22:58:20.311544Z",
     "start_time": "2021-11-04T22:58:20.239080Z"
    }
   },
   "outputs": [],
   "source": [
    "# Fit Imputer of X-data. (missing_values=np.nan)\n",
    "imputer = SimpleImputer(missing_values=np.nan)\n",
    "\n",
    "X_train_processed = imputer.fit_transform(X_train)\n",
    "X_test_processed = imputer.transform(X_test)"
   ]
  },
  {
   "cell_type": "code",
   "execution_count": 9,
   "metadata": {
    "ExecuteTime": {
     "end_time": "2021-11-04T22:58:27.422223Z",
     "start_time": "2021-11-04T22:58:27.419103Z"
    }
   },
   "outputs": [],
   "source": [
    "from sklearn.preprocessing import StandardScaler"
   ]
  },
  {
   "cell_type": "code",
   "execution_count": 10,
   "metadata": {
    "ExecuteTime": {
     "end_time": "2021-11-04T22:58:30.609543Z",
     "start_time": "2021-11-04T22:58:30.603603Z"
    }
   },
   "outputs": [],
   "source": [
    "# Scaling the data. (X & y)\n",
    "scaler = StandardScaler()\n",
    "\n",
    "X_train_processed = scaler.fit_transform(X_train_processed)\n",
    "X_test_processed = scaler.transform(X_test_processed)"
   ]
  },
  {
   "cell_type": "code",
   "execution_count": 11,
   "metadata": {
    "ExecuteTime": {
     "end_time": "2021-11-04T22:59:36.437120Z",
     "start_time": "2021-11-04T22:59:36.433889Z"
    }
   },
   "outputs": [],
   "source": [
    "from sklearn.linear_model import LinearRegression, RidgeCV, LassoCV\n",
    "from sklearn.metrics import mean_squared_error, r2_score"
   ]
  },
  {
   "cell_type": "code",
   "execution_count": 12,
   "metadata": {
    "ExecuteTime": {
     "end_time": "2021-11-04T23:00:00.629583Z",
     "start_time": "2021-11-04T23:00:00.543398Z"
    }
   },
   "outputs": [
    {
     "data": {
      "text/plain": [
       "LassoCV()"
      ]
     },
     "execution_count": 12,
     "metadata": {},
     "output_type": "execute_result"
    }
   ],
   "source": [
    "# Build and fit models.\n",
    "linreg = LinearRegression()\n",
    "ridge = RidgeCV()\n",
    "lasso = LassoCV()\n",
    "\n",
    "linreg.fit(X_train_processed, y_train)\n",
    "ridge.fit(X_train_processed, y_train)\n",
    "lasso.fit(X_train_processed, y_train)"
   ]
  },
  {
   "cell_type": "code",
   "execution_count": 13,
   "metadata": {
    "ExecuteTime": {
     "end_time": "2021-11-04T23:00:56.643326Z",
     "start_time": "2021-11-04T23:00:56.633126Z"
    }
   },
   "outputs": [],
   "source": [
    "# Helper function\n",
    "def show_as_title(s):\n",
    "    \"\"\"Print a title.\"\"\"\n",
    "    \n",
    "    stars = '*'*10\n",
    "    print(f'{stars}{s}{stars}')\n",
    "\n",
    "\n",
    "# Evaluation function.\n",
    "def show_evaluation(\n",
    "    y_train_true, \n",
    "    y_train_pred, \n",
    "    y_test_true, \n",
    "    y_test_pred,\n",
    "    title=''):\n",
    "    \"\"\"\n",
    "    Print metrics for predicted values.\n",
    "    r_2, mse, rmse\n",
    "    \n",
    "    Parameters:\n",
    "    -----------\n",
    "    y_train_true: ground truth data (pd.DataFrame)\n",
    "    y_train_pred: predicted values (pd.DataFrame)\n",
    "    y_test_true: ground truth data (pd.DataFrame)\n",
    "    y_test_pred: predicted values (pd.DataFrame)\n",
    "    title: str (Default: '')\n",
    "        If provided, the printout will include a title.\n",
    "    \"\"\"\n",
    "    \n",
    "    if title:\n",
    "        show_as_title(title)\n",
    "        \n",
    "    r2_train = r2_score(y_train_true, y_train_pred)\n",
    "    r2_test = r2_score(y_test_true, y_test_pred)\n",
    "    mse_train = mean_squared_error(y_train_true, y_train_pred)\n",
    "    mse_test = mean_squared_error(y_test_true, y_test_pred)\n",
    "    rmse_train = np.sqrt(mse_train)\n",
    "    rmse_test = np.sqrt(mse_test)\n",
    "    \n",
    "    print('R2')\n",
    "    print(f'\\tTrain:\\t{round(r2_train, 3)}\\n\\tTest:\\t{round(r2_test, 3)}')\n",
    "    print('MSE')\n",
    "    print(f'\\tTrain:\\t{round(mse_train, 3)}\\n\\tTest:\\t{round(mse_test, 3)}')\n",
    "    print('RMSE')\n",
    "    print(f'\\tTrain:\\t{round(rmse_train, 3)}\\n\\tTest:\\t{round(rmse_test, 3)}')\n",
    "    print()\n",
    "    \n",
    "    \n",
    "# Showing coefficients.\n",
    "def check_coefficients(model, title=''):\n",
    "    \"\"\"\n",
    "    Prints information about the fit models' coefficients.\n",
    "    \n",
    "    Parameters:\n",
    "    -----------\n",
    "    model: fit sklearn linear_model\n",
    "    title: str (Default: '')\n",
    "        If provided, the printout will include a title.\n",
    "    \"\"\"\n",
    "    \n",
    "    if title:\n",
    "        show_as_title(title)\n",
    "    \n",
    "    coef_array = model.coef_.reshape(-1,)\n",
    "    num_coef = len(coef_array)\n",
    "    close_to_zero = sum(abs(coef_array) < 10**(-10))\n",
    "    \n",
    "    print(f'Number of coefficients:              \\t{num_coef}')\n",
    "    print(f'Number of coefficients close to zero:\\t{close_to_zero}')\n",
    "    print()"
   ]
  },
  {
   "cell_type": "code",
   "execution_count": 14,
   "metadata": {
    "ExecuteTime": {
     "end_time": "2021-11-04T23:01:02.981725Z",
     "start_time": "2021-11-04T23:01:02.977682Z"
    }
   },
   "outputs": [
    {
     "name": "stdout",
     "output_type": "stream",
     "text": [
      "**********LinReg**********\n",
      "Number of coefficients:              \t6\n",
      "Number of coefficients close to zero:\t0\n",
      "\n",
      "**********Ridge**********\n",
      "Number of coefficients:              \t6\n",
      "Number of coefficients close to zero:\t0\n",
      "\n",
      "**********Lasso**********\n",
      "Number of coefficients:              \t6\n",
      "Number of coefficients close to zero:\t2\n",
      "\n"
     ]
    }
   ],
   "source": [
    "# Use `check_coefficients()` for all models.\n",
    "check_coefficients(linreg, 'LinReg')\n",
    "check_coefficients(ridge, 'Ridge')\n",
    "check_coefficients(lasso, 'Lasso')"
   ]
  },
  {
   "cell_type": "code",
   "execution_count": 15,
   "metadata": {
    "ExecuteTime": {
     "end_time": "2021-11-04T23:01:27.042175Z",
     "start_time": "2021-11-04T23:01:27.027277Z"
    }
   },
   "outputs": [
    {
     "name": "stdout",
     "output_type": "stream",
     "text": [
      "**********LinReg**********\n",
      "R2\n",
      "\tTrain:\t0.81\n",
      "\tTest:\t0.791\n",
      "MSE\n",
      "\tTrain:\t11.812\n",
      "\tTest:\t11.711\n",
      "RMSE\n",
      "\tTrain:\t3.437\n",
      "\tTest:\t3.422\n",
      "\n",
      "**********Ridge**********\n",
      "R2\n",
      "\tTrain:\t0.81\n",
      "\tTest:\t0.795\n",
      "MSE\n",
      "\tTrain:\t11.819\n",
      "\tTest:\t11.52\n",
      "RMSE\n",
      "\tTrain:\t3.438\n",
      "\tTest:\t3.394\n",
      "\n",
      "**********Lasso**********\n",
      "R2\n",
      "\tTrain:\t0.808\n",
      "\tTest:\t0.803\n",
      "MSE\n",
      "\tTrain:\t11.959\n",
      "\tTest:\t11.036\n",
      "RMSE\n",
      "\tTrain:\t3.458\n",
      "\tTest:\t3.322\n",
      "\n"
     ]
    }
   ],
   "source": [
    "# Use `show_evaluation()` for all models\n",
    "linreg_preds_train = linreg.predict(X_train_processed)\n",
    "ridge_preds_train = ridge.predict(X_train_processed)\n",
    "lasso_preds_train = lasso.predict(X_train_processed)\n",
    "\n",
    "linreg_preds_test = linreg.predict(X_test_processed)\n",
    "ridge_preds_test = ridge.predict(X_test_processed)\n",
    "lasso_preds_test = lasso.predict(X_test_processed)\n",
    "\n",
    "show_evaluation(\n",
    "    y_train, \n",
    "    linreg_preds_train,\n",
    "    y_test,\n",
    "    linreg_preds_test,\n",
    "    'LinReg')\n",
    "show_evaluation(\n",
    "    y_train, \n",
    "    ridge_preds_train,\n",
    "    y_test,\n",
    "    ridge_preds_test,\n",
    "    'Ridge')\n",
    "show_evaluation(\n",
    "    y_train, \n",
    "    lasso_preds_train,\n",
    "    y_test,\n",
    "    lasso_preds_test,\n",
    "    'Lasso')"
   ]
  },
  {
   "cell_type": "code",
   "execution_count": 16,
   "metadata": {
    "ExecuteTime": {
     "end_time": "2021-11-04T23:03:22.257119Z",
     "start_time": "2021-11-04T23:03:22.235147Z"
    }
   },
   "outputs": [
    {
     "data": {
      "text/html": [
       "<div>\n",
       "<style scoped>\n",
       "    .dataframe tbody tr th:only-of-type {\n",
       "        vertical-align: middle;\n",
       "    }\n",
       "\n",
       "    .dataframe tbody tr th {\n",
       "        vertical-align: top;\n",
       "    }\n",
       "\n",
       "    .dataframe thead th {\n",
       "        text-align: right;\n",
       "    }\n",
       "</style>\n",
       "<table border=\"1\" class=\"dataframe\">\n",
       "  <thead>\n",
       "    <tr style=\"text-align: right;\">\n",
       "      <th></th>\n",
       "      <th>linreg</th>\n",
       "      <th>ridge</th>\n",
       "      <th>lasso</th>\n",
       "      <th>feature</th>\n",
       "    </tr>\n",
       "  </thead>\n",
       "  <tbody>\n",
       "    <tr>\n",
       "      <th>0</th>\n",
       "      <td>-0.607733</td>\n",
       "      <td>-0.581693</td>\n",
       "      <td>-0.018285</td>\n",
       "      <td>cylinders</td>\n",
       "    </tr>\n",
       "    <tr>\n",
       "      <th>1</th>\n",
       "      <td>1.156869</td>\n",
       "      <td>0.920962</td>\n",
       "      <td>-0.000000</td>\n",
       "      <td>displacement</td>\n",
       "    </tr>\n",
       "    <tr>\n",
       "      <th>2</th>\n",
       "      <td>0.645830</td>\n",
       "      <td>0.520822</td>\n",
       "      <td>0.000000</td>\n",
       "      <td>horsepower</td>\n",
       "    </tr>\n",
       "    <tr>\n",
       "      <th>3</th>\n",
       "      <td>-6.640960</td>\n",
       "      <td>-6.352750</td>\n",
       "      <td>-5.661313</td>\n",
       "      <td>weight</td>\n",
       "    </tr>\n",
       "    <tr>\n",
       "      <th>4</th>\n",
       "      <td>0.541586</td>\n",
       "      <td>0.470407</td>\n",
       "      <td>0.150214</td>\n",
       "      <td>acceleration</td>\n",
       "    </tr>\n",
       "    <tr>\n",
       "      <th>5</th>\n",
       "      <td>2.867409</td>\n",
       "      <td>2.836947</td>\n",
       "      <td>2.718031</td>\n",
       "      <td>model_year</td>\n",
       "    </tr>\n",
       "  </tbody>\n",
       "</table>\n",
       "</div>"
      ],
      "text/plain": [
       "     linreg     ridge     lasso       feature\n",
       "0 -0.607733 -0.581693 -0.018285     cylinders\n",
       "1  1.156869  0.920962 -0.000000  displacement\n",
       "2  0.645830  0.520822  0.000000    horsepower\n",
       "3 -6.640960 -6.352750 -5.661313        weight\n",
       "4  0.541586  0.470407  0.150214  acceleration\n",
       "5  2.867409  2.836947  2.718031    model_year"
      ]
     },
     "execution_count": 16,
     "metadata": {},
     "output_type": "execute_result"
    }
   ],
   "source": [
    "# Create a dataframe of coefficients.\n",
    "df_coef = pd.DataFrame()\n",
    "df_coef['linreg'] = linreg.coef_\n",
    "df_coef['ridge'] = ridge.coef_\n",
    "df_coef['lasso'] = lasso.coef_\n",
    "\n",
    "# df_coef\n",
    "\n",
    "# Add a column for feature name.\n",
    "df_coef['feature'] = X_train.columns\n",
    "\n",
    "df_coef"
   ]
  },
  {
   "cell_type": "code",
   "execution_count": 17,
   "metadata": {
    "ExecuteTime": {
     "end_time": "2021-11-04T23:03:37.180042Z",
     "start_time": "2021-11-04T23:03:37.170301Z"
    }
   },
   "outputs": [],
   "source": [
    "# Melt dataframe for grouped bar chart. (`.melt(id_vars='feature')`)\n",
    "melted = df_coef.melt(id_vars='feature')"
   ]
  },
  {
   "cell_type": "code",
   "execution_count": 18,
   "metadata": {
    "ExecuteTime": {
     "end_time": "2021-11-04T23:03:40.021996Z",
     "start_time": "2021-11-04T23:03:39.653074Z"
    }
   },
   "outputs": [
    {
     "data": {
      "image/png": "[encoded data removed]",
      "text/plain": [
       "<Figure size 864x576 with 1 Axes>"
      ]
     },
     "metadata": {},
     "output_type": "display_data"
    }
   ],
   "source": [
    "# Plot a grouped bar chart showing the difference between coefficients.\n",
    "# x='feature', y='value', hue='variable'\n",
    "\n",
    "fig, ax = plt.subplots(figsize=(12,8))\n",
    "sns.barplot(x='feature', y='value', hue='variable', data=melted, ax=ax)\n",
    "\n",
    "fig.tight_layout()"
   ]
  },
  {
   "cell_type": "markdown",
   "metadata": {},
   "source": [
    "<a id='generating_data'></a>\n",
    "# Extra: Generating Data\n",
    "\n",
    "While there are some common \"toy\" datasets we can always use to test out models, we can also generate datasets from `sklearn.datasets`!\n",
    "\n",
    "*Documentation:*\n",
    "- Samples Generators (*`sklearn.datasets.make_{something}()`*)\n",
    "    - https://scikit-learn.org/stable/modules/classes.html#samples-generator"
   ]
  },
  {
   "cell_type": "code",
   "execution_count": 19,
   "metadata": {
    "ExecuteTime": {
     "end_time": "2021-11-04T23:06:45.701722Z",
     "start_time": "2021-11-04T23:06:45.610406Z"
    }
   },
   "outputs": [],
   "source": [
    "from sklearn.datasets import make_regression, make_blobs, make_moons"
   ]
  },
  {
   "cell_type": "code",
   "execution_count": 20,
   "metadata": {
    "ExecuteTime": {
     "end_time": "2021-11-04T23:06:45.868884Z",
     "start_time": "2021-11-04T23:06:45.858402Z"
    },
    "scrolled": true
   },
   "outputs": [
    {
     "data": {
      "text/plain": [
       "array([[ 5.18392568e-01,  8.55142763e-01],\n",
       "       [ 1.40478334e+00, -4.14412623e-01],\n",
       "       [-7.61445958e-01,  6.48228395e-01],\n",
       "       [ 4.04783343e-01,  9.14412623e-01],\n",
       "       [ 1.96729486e+00,  2.46345416e-01],\n",
       "       [-9.91790014e-01,  1.27877162e-01],\n",
       "       [-8.38088105e-01,  5.45534901e-01],\n",
       "       [-9.81559157e-01,  1.91158629e-01],\n",
       "       [ 9.49055747e-01,  3.15108218e-01],\n",
       "       [ 8.71318704e-01,  4.90717552e-01],\n",
       "       [ 1.71834935e+00, -1.95682551e-01],\n",
       "       [-5.18392568e-01,  8.55142763e-01],\n",
       "       [ 1.22252093e+00, -4.74927912e-01],\n",
       "       [-9.49055747e-01,  3.15108218e-01],\n",
       "       [ 8.38088105e-01,  5.45534901e-01],\n",
       "       [ 3.45365054e-01,  9.38468422e-01],\n",
       "       [ 1.03205158e+00, -4.99486216e-01],\n",
       "       [ 1.61911895e-01, -4.55349012e-02],\n",
       "       [ 9.81559157e-01,  1.91158629e-01],\n",
       "       [ 1.80141362e+00, -9.81105305e-02],\n",
       "       [ 6.72300890e-01,  7.40277997e-01],\n",
       "       [ 8.01413622e-01,  5.98110530e-01],\n",
       "       [ 6.54634946e-01, -4.38468422e-01],\n",
       "       [ 4.62538290e-01,  8.86599306e-01],\n",
       "       [ 9.60230259e-02,  9.95379113e-01],\n",
       "       [ 9.91790014e-01,  1.27877162e-01],\n",
       "       [ 2.84527587e-01,  9.58667853e-01],\n",
       "       [-9.26916757e-01,  3.75267005e-01],\n",
       "       [-6.23489802e-01,  7.81831482e-01],\n",
       "       [ 2.05460725e-03,  4.35929780e-01],\n",
       "       [ 1.09602303e+00, -4.95379113e-01],\n",
       "       [ 8.20998618e-03,  3.72122838e-01],\n",
       "       [ 1.46253829e+00, -3.86599306e-01],\n",
       "       [ 1.98155916e+00,  3.08841371e-01],\n",
       "       [ 1.28681296e-01,  9.28244800e-03],\n",
       "       [ 3.27051370e-02,  2.46345416e-01],\n",
       "       [ 9.90311321e-02,  6.61162609e-02],\n",
       "       [ 3.20515776e-02,  9.99486216e-01],\n",
       "       [ 1.94905575e+00,  1.84891782e-01],\n",
       "       [ 2.22520934e-01,  9.74927912e-01],\n",
       "       [-5.72116660e-01,  8.20172255e-01],\n",
       "       [ 1.76144596e+00, -1.48228395e-01],\n",
       "       [ 1.83808810e+00, -4.55349012e-02],\n",
       "       [ 7.18349350e-01,  6.95682551e-01],\n",
       "       [ 0.00000000e+00,  5.00000000e-01],\n",
       "       [-9.97945393e-01,  6.40702200e-02],\n",
       "       [ 1.51839257e+00, -3.55142763e-01],\n",
       "       [ 7.77479066e-01, -4.74927912e-01],\n",
       "       [ 5.95216657e-01, -4.14412623e-01],\n",
       "       [-1.59599895e-01,  9.87181783e-01],\n",
       "       [ 1.98586378e-01, -9.81105305e-02],\n",
       "       [ 4.27883340e-01, -3.20172255e-01],\n",
       "       [ 5.09442530e-02,  1.84891782e-01],\n",
       "       [ 1.84408430e-02,  3.08841371e-01],\n",
       "       [ 1.59599895e-01,  9.87181783e-01],\n",
       "       [ 4.81607432e-01, -3.55142763e-01],\n",
       "       [ 1.87131870e+00,  9.28244800e-03],\n",
       "       [ 2.00000000e+00,  5.00000000e-01],\n",
       "       [ 6.23489802e-01,  7.81831482e-01],\n",
       "       [ 1.00000000e+00,  0.00000000e+00],\n",
       "       [ 7.61445958e-01,  6.48228395e-01],\n",
       "       [ 9.26916757e-01,  3.75267005e-01],\n",
       "       [ 3.76510198e-01, -2.81831482e-01],\n",
       "       [ 5.37461710e-01, -3.86599306e-01],\n",
       "       [ 1.28452759e+00, -4.58667853e-01],\n",
       "       [ 9.00968868e-01,  4.33883739e-01],\n",
       "       [ 1.67230089e+00, -2.40277997e-01],\n",
       "       [-7.18349350e-01,  6.95682551e-01],\n",
       "       [-2.84527587e-01,  9.58667853e-01],\n",
       "       [ 1.62348980e+00, -2.81831482e-01],\n",
       "       [-4.62538290e-01,  8.86599306e-01],\n",
       "       [-9.00968868e-01,  4.33883739e-01],\n",
       "       [-9.60230259e-02,  9.95379113e-01],\n",
       "       [ 1.34536505e+00, -4.38468422e-01],\n",
       "       [ 7.30832427e-02,  1.24732995e-01],\n",
       "       [-3.20515776e-02,  9.99486216e-01],\n",
       "       [ 9.97945393e-01,  6.40702200e-02],\n",
       "       [ 9.67294863e-01,  2.53654584e-01],\n",
       "       [ 1.90096887e+00,  6.61162609e-02],\n",
       "       [ 7.15472413e-01, -4.58667853e-01],\n",
       "       [-1.00000000e+00,  1.22464680e-16],\n",
       "       [ 9.03976974e-01, -4.95379113e-01],\n",
       "       [ 5.72116660e-01,  8.20172255e-01],\n",
       "       [-8.71318704e-01,  4.90717552e-01],\n",
       "       [ 2.81650650e-01, -1.95682551e-01],\n",
       "       [-9.67294863e-01,  2.53654584e-01],\n",
       "       [ 1.15959990e+00, -4.87181783e-01],\n",
       "       [ 9.67948422e-01, -4.99486216e-01],\n",
       "       [ 1.99179001e+00,  3.72122838e-01],\n",
       "       [-6.72300890e-01,  7.40277997e-01],\n",
       "       [-8.01413622e-01,  5.98110530e-01],\n",
       "       [-4.04783343e-01,  9.14412623e-01],\n",
       "       [ 1.92691676e+00,  1.24732995e-01],\n",
       "       [-2.22520934e-01,  9.74927912e-01],\n",
       "       [ 1.57211666e+00, -3.20172255e-01],\n",
       "       [ 3.27699110e-01, -2.40277997e-01],\n",
       "       [ 8.40400105e-01, -4.87181783e-01],\n",
       "       [ 2.38554042e-01, -1.48228395e-01],\n",
       "       [-3.45365054e-01,  9.38468422e-01],\n",
       "       [ 1.99794539e+00,  4.35929780e-01]])"
      ]
     },
     "execution_count": 20,
     "metadata": {},
     "output_type": "execute_result"
    }
   ],
   "source": [
    "# Let's try it out!\n",
    "X, y = make_moons()\n",
    "X"
   ]
  },
  {
   "cell_type": "code",
   "execution_count": 21,
   "metadata": {
    "ExecuteTime": {
     "end_time": "2021-11-04T23:07:10.569924Z",
     "start_time": "2021-11-04T23:07:10.564938Z"
    }
   },
   "outputs": [
    {
     "data": {
      "text/plain": [
       "(100, 2)"
      ]
     },
     "execution_count": 21,
     "metadata": {},
     "output_type": "execute_result"
    }
   ],
   "source": [
    "X.shape"
   ]
  },
  {
   "cell_type": "code",
   "execution_count": 22,
   "metadata": {
    "ExecuteTime": {
     "end_time": "2021-11-04T23:07:13.120617Z",
     "start_time": "2021-11-04T23:07:12.846497Z"
    },
    "scrolled": false
   },
   "outputs": [
    {
     "data": {
      "image/png": "[encoded data removed]",
      "text/plain": [
       "<Figure size 748.8x514.8 with 1 Axes>"
      ]
     },
     "metadata": {},
     "output_type": "display_data"
    }
   ],
   "source": [
    "# X1 = [x[0] for x in X]\n",
    "# X2 = [x[1] for x in X]\n",
    "fig, ax = plt.subplots()\n",
    "ax.scatter(X[:, 0], X[:, 1])\n",
    "fig.tight_layout()"
   ]
  },
  {
   "cell_type": "code",
   "execution_count": 23,
   "metadata": {
    "ExecuteTime": {
     "end_time": "2021-11-04T23:07:21.607790Z",
     "start_time": "2021-11-04T23:07:21.342491Z"
    }
   },
   "outputs": [
    {
     "name": "stdout",
     "output_type": "stream",
     "text": [
      "Datatype of X:\t<class 'numpy.ndarray'>\n",
      "Datatype of y:\t<class 'numpy.ndarray'>\n"
     ]
    },
    {
     "data": {
      "image/png": "[encoded data removed]",
      "text/plain": [
       "<Figure size 748.8x514.8 with 1 Axes>"
      ]
     },
     "metadata": {},
     "output_type": "display_data"
    }
   ],
   "source": [
    "X, y = make_regression(\n",
    "    n_features=1, # One feature to see it on a plane.\n",
    "    noise=4,      # Adding some noise to the data.\n",
    "    random_state=51\n",
    "    )\n",
    "\n",
    "# Explore output.\n",
    "print(f'Datatype of X:\\t{type(X)}\\nDatatype of y:\\t{type(y)}')\n",
    "\n",
    "# Plot.\n",
    "fig, ax = plt.subplots()\n",
    "ax.scatter(X, y)\n",
    "ax.set(\n",
    "    title='Make Regression\\nSingle Feature : Noise = 4',\n",
    "    xlabel='X_feature',\n",
    "    ylabel='Target'\n",
    "    )\n",
    "fig.tight_layout()"
   ]
  },
  {
   "cell_type": "code",
   "execution_count": 24,
   "metadata": {
    "ExecuteTime": {
     "end_time": "2021-11-04T23:07:30.505451Z",
     "start_time": "2021-11-04T23:07:30.307874Z"
    }
   },
   "outputs": [
    {
     "data": {
      "image/png": "[encoded data removed]",
      "text/plain": [
       "<Figure size 748.8x514.8 with 1 Axes>"
      ]
     },
     "metadata": {},
     "output_type": "display_data"
    }
   ],
   "source": [
    "plt.hist(X);"
   ]
  },
  {
   "cell_type": "code",
   "execution_count": null,
   "metadata": {
    "ExecuteTime": {
     "end_time": "2021-09-02T19:14:38.507952Z",
     "start_time": "2021-09-02T19:14:38.505598Z"
    }
   },
   "outputs": [],
   "source": [
    "# Create a dataset with:\n",
    "## 1000 samples, \n",
    "## 30 features (10 of which are informative), \n",
    "## some noise, \n",
    "## some random state.\n"
   ]
  },
  {
   "cell_type": "markdown",
   "metadata": {},
   "source": [
    "# Resources\n",
    "- Ridge: https://scikit-learn.org/stable/modules/linear_model.html#ridge-regression-and-classification\n",
    "- Lasso: https://scikit-learn.org/stable/modules/linear_model.html#lasso\n",
    "- Elastic-Net: https://scikit-learn.org/stable/modules/linear_model.html#elastic-net\n",
    "\n",
    "\n",
    "- All samples-generators: https://scikit-learn.org/stable/modules/classes.html#samples-generator"
   ]
  }
 ],
 "metadata": {
  "kernelspec": {
   "display_name": "Python [conda env:learn-env] *",
   "language": "python",
   "name": "conda-env-learn-env-py"
  },
  "language_info": {
   "codemirror_mode": {
    "name": "ipython",
    "version": 3
   },
   "file_extension": ".py",
   "mimetype": "text/x-python",
   "name": "python",
   "nbconvert_exporter": "python",
   "pygments_lexer": "ipython3",
   "version": "3.6.9"
  },
  "toc": {
   "base_numbering": 1,
   "nav_menu": {},
   "number_sections": false,
   "sideBar": true,
   "skip_h1_title": false,
   "title_cell": "Table of Contents",
   "title_sidebar": "Contents",
   "toc_cell": false,
   "toc_position": {
    "height": "calc(100% - 180px)",
    "left": "10px",
    "top": "150px",
    "width": "313.375px"
   },
   "toc_section_display": true,
   "toc_window_display": true
  }
 },
 "nbformat": 4,
 "nbformat_minor": 2
}
