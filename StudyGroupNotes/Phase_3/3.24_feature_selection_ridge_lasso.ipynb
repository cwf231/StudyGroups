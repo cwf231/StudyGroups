{
 "cells": [
  {
   "cell_type": "markdown",
   "metadata": {},
   "source": [
    "## Phase 3.24\n",
    "# Feature Selection, Ridge and Lasso\n",
    "\n",
    "- <a href='#regularization'>Regularization</a>\n",
    "    - <a href='#ridge_lasso'>Ridge & Lasso</a>\n",
    "    - <a href='#modeling'>Modeling</a>\n",
    "    - <a href='#generating_data'>Generating Data</a>"
   ]
  },
  {
   "cell_type": "markdown",
   "metadata": {},
   "source": [
    "<a id='regularization'></a>\n",
    "# Regularization\n",
    "- In an attempt to fit a good model to data, we often tend to *overfit* our models.\n",
    "- Regularization is a technique used to **avoid overfitting**.\n",
    "    - Regularization discourages overly complex models by penalizing the loss function.\n",
    "\n",
    "## Why Regularize?\n",
    "### Bias / Variance Trade-off\n",
    "\n",
    "<img src='./images/bias_variance_chart.png'>\n",
    "\n",
    "1. **High Bias** \n",
    "    - Bias is about the **strength of assumptions** the model makes.\n",
    "        - Systematic error in predictions (i.e. the average).\n",
    "        - *Underfit* models tend to have high bias.\n",
    "\n",
    "\n",
    "2. **High Variance**\n",
    "    - The model is highly sensitive to changes in the data.\n",
    "    - *Overfit* models tend to have low bias and high variance.\n",
    "    \n",
    "<img src='./images/bias_variance_targets.jpeg'>\n",
    "\n",
    "<img src='./images/overfitting_underfitting.png'>\n",
    "\n",
    "---\n",
    "\n",
    "- *Underfit models* are too generalized (fail to capture all of the information in the data).\n",
    "    - Ex: Using only **the mean**.\n",
    "- *Overfit models* are too specific (**fit to the noise** in the data and fail to generalize).\n",
    "\n",
    "### How would we know if our model is *overfit* or *underfit*?\n",
    "- ***`train_test_split()`***!\n",
    "    - Comparing scores from the `train` / `test` data.\n",
    "    \n",
    "*As model complexity increases so does the possibility for overfitting.*"
   ]
  },
  {
   "cell_type": "markdown",
   "metadata": {},
   "source": [
    "<a id='ridge_lasso'></a>\n",
    "# Ridge & Lasso\n",
    "\n",
    "- **Ridge** and **Lasso** regression are two examples of *penalized estimation*.\n",
    "    - *Penalized Estimation: Shrinks some (or all!) of the coefficients closer to zero.*\n",
    "- Some of the penalties have the property of performing both:\n",
    "    - **feature selection** (setting some coefficients exactly equal to zero) and,\n",
    "    - **shrinking** the other coefficients. \n",
    "\n",
    "---\n",
    "\n",
    "*Linear Regression: Equation Review*\n",
    "\n",
    "$ \\text{cost_function_linear}= \\sum_{i=1}^n(y_i - \\hat{y})^2 = \\sum_{i=1}^n(y_i - \\sum_{j=1}^k(m_jx_{ij} ) -b )^2 $\n",
    "\n",
    "---\n",
    "\n",
    "**Ridge** Regression: \n",
    "- The cost function is changed by adding a penalty term ($\\lambda$) to the square of the magnitude of the coefficients.\n",
    "\n",
    "$ \\text{cost_function_ridge}= \\sum_{i=1}^n(y_i - \\hat{y})^2 = \\sum_{i=1}^n(y_i - \\sum_{j=1}^k(m_jx_{ij})-b)^2 + \\lambda \\sum_{j=1}^p m_j^2 $\n",
    "\n",
    "Remember that you want to minimize your cost function, so by adding the penalty term $\\lambda$, ridge regression puts a constraint on the coefficients $m$. **This means that large coefficients penalize the optimization function.** That's why ridge regression leads to a shrinkage of the coefficients and helps to reduce model complexity and multicollinearity.\n",
    "\n",
    "Ridge Regression is often also referred to as **L2 Norm Regularization**.\n",
    "\n",
    "---\n",
    "\n",
    "**Lasso** Regression (Least Absolute Shrinkage and Selection Operator): \n",
    "- Very similar to *Ridge Regression*, except that the magnitude of the coefficients are not squared in the penalty term.\n",
    "\n",
    "$ \\text{cost_function_lasso}= \\sum_{i=1}^n(y_i - \\hat{y})^2 = \\sum_{i=1}^n(y_i - \\sum_{j=1}^k(m_jx_{ij})-b)^2 + \\lambda \\sum_{j=1}^p \\mid m_j \\mid $\n",
    "\n",
    "While it may look similar to the definition of the Ridge estimator, the effect of the absolute values is that **some coefficients might be set exactly equal to zero**, while other coefficients are shrunk towards zero. Hence the Lasso method is attractive because it performs **estimation and selection simultaneously**. Especially for variable selection when the number of predictors is very high.\n",
    "\n",
    "Lasso Regression is often also referred to as **L1 Norm Regularization**.\n",
    "\n",
    "---\n",
    "\n",
    "### Standardization before Regularization\n",
    "***Important!***\n",
    "\n",
    "- An important step before using either Lasso or Ridge regularization is to first **standardize your data such that it is all on the same scale**. \n",
    "- Regularization is based on the concept of penalizing larger coefficients, so **if you have features that are on different scales, some will get unfairly penalized**.\n",
    "\n",
    "*A downside of standardization is that the value of the coefficients become less interpretable and must be transformed back to their original scale if you want to interpret how a one unit change in a feature impacts the target variable.*"
   ]
  },
  {
   "cell_type": "markdown",
   "metadata": {},
   "source": [
    "<a id='modeling'></a>\n",
    "# Modeling!\n",
    "***Working with `LinearRegression`, `Ridge`, `Lasso`***\n",
    "\n",
    "*Documentation:*\n",
    "- Linear Regression:\n",
    "    - https://scikit-learn.org/stable/modules/generated/sklearn.linear_model.LinearRegression.html\n",
    "- Ridge Regression:\n",
    "    - https://scikit-learn.org/stable/modules/generated/sklearn.linear_model.Ridge.html\n",
    "- Lasso Regression:\n",
    "    - https://scikit-learn.org/stable/modules/generated/sklearn.linear_model.Lasso.html"
   ]
  },
  {
   "cell_type": "code",
   "execution_count": 1,
   "metadata": {
    "ExecuteTime": {
     "end_time": "2021-03-19T13:03:23.004131Z",
     "start_time": "2021-03-19T13:03:22.304366Z"
    }
   },
   "outputs": [],
   "source": [
    "# Import basic libraries.\n",
    "import numpy as np\n",
    "import pandas as pd\n",
    "import matplotlib.pyplot as plt\n",
    "import seaborn as sns"
   ]
  },
  {
   "cell_type": "code",
   "execution_count": 2,
   "metadata": {
    "ExecuteTime": {
     "end_time": "2021-03-19T13:03:23.010745Z",
     "start_time": "2021-03-19T13:03:23.006231Z"
    }
   },
   "outputs": [],
   "source": [
    "# Setting plt style.\n",
    "%matplotlib inline\n",
    "plt.style.use(['ggplot', 'seaborn-talk'])"
   ]
  },
  {
   "cell_type": "code",
   "execution_count": 3,
   "metadata": {
    "ExecuteTime": {
     "end_time": "2021-03-19T13:03:23.043228Z",
     "start_time": "2021-03-19T13:03:23.012952Z"
    }
   },
   "outputs": [
    {
     "data": {
      "text/html": [
       "<div>\n",
       "<style scoped>\n",
       "    .dataframe tbody tr th:only-of-type {\n",
       "        vertical-align: middle;\n",
       "    }\n",
       "\n",
       "    .dataframe tbody tr th {\n",
       "        vertical-align: top;\n",
       "    }\n",
       "\n",
       "    .dataframe thead th {\n",
       "        text-align: right;\n",
       "    }\n",
       "</style>\n",
       "<table border=\"1\" class=\"dataframe\">\n",
       "  <thead>\n",
       "    <tr style=\"text-align: right;\">\n",
       "      <th></th>\n",
       "      <th>mpg</th>\n",
       "      <th>cylinders</th>\n",
       "      <th>displacement</th>\n",
       "      <th>horsepower</th>\n",
       "      <th>weight</th>\n",
       "      <th>acceleration</th>\n",
       "      <th>model_year</th>\n",
       "      <th>origin</th>\n",
       "      <th>name</th>\n",
       "    </tr>\n",
       "  </thead>\n",
       "  <tbody>\n",
       "    <tr>\n",
       "      <th>0</th>\n",
       "      <td>18.0</td>\n",
       "      <td>8</td>\n",
       "      <td>307.0</td>\n",
       "      <td>130.0</td>\n",
       "      <td>3504</td>\n",
       "      <td>12.0</td>\n",
       "      <td>70</td>\n",
       "      <td>usa</td>\n",
       "      <td>chevrolet chevelle malibu</td>\n",
       "    </tr>\n",
       "    <tr>\n",
       "      <th>1</th>\n",
       "      <td>15.0</td>\n",
       "      <td>8</td>\n",
       "      <td>350.0</td>\n",
       "      <td>165.0</td>\n",
       "      <td>3693</td>\n",
       "      <td>11.5</td>\n",
       "      <td>70</td>\n",
       "      <td>usa</td>\n",
       "      <td>buick skylark 320</td>\n",
       "    </tr>\n",
       "    <tr>\n",
       "      <th>2</th>\n",
       "      <td>18.0</td>\n",
       "      <td>8</td>\n",
       "      <td>318.0</td>\n",
       "      <td>150.0</td>\n",
       "      <td>3436</td>\n",
       "      <td>11.0</td>\n",
       "      <td>70</td>\n",
       "      <td>usa</td>\n",
       "      <td>plymouth satellite</td>\n",
       "    </tr>\n",
       "    <tr>\n",
       "      <th>3</th>\n",
       "      <td>16.0</td>\n",
       "      <td>8</td>\n",
       "      <td>304.0</td>\n",
       "      <td>150.0</td>\n",
       "      <td>3433</td>\n",
       "      <td>12.0</td>\n",
       "      <td>70</td>\n",
       "      <td>usa</td>\n",
       "      <td>amc rebel sst</td>\n",
       "    </tr>\n",
       "    <tr>\n",
       "      <th>4</th>\n",
       "      <td>17.0</td>\n",
       "      <td>8</td>\n",
       "      <td>302.0</td>\n",
       "      <td>140.0</td>\n",
       "      <td>3449</td>\n",
       "      <td>10.5</td>\n",
       "      <td>70</td>\n",
       "      <td>usa</td>\n",
       "      <td>ford torino</td>\n",
       "    </tr>\n",
       "    <tr>\n",
       "      <th>...</th>\n",
       "      <td>...</td>\n",
       "      <td>...</td>\n",
       "      <td>...</td>\n",
       "      <td>...</td>\n",
       "      <td>...</td>\n",
       "      <td>...</td>\n",
       "      <td>...</td>\n",
       "      <td>...</td>\n",
       "      <td>...</td>\n",
       "    </tr>\n",
       "    <tr>\n",
       "      <th>393</th>\n",
       "      <td>27.0</td>\n",
       "      <td>4</td>\n",
       "      <td>140.0</td>\n",
       "      <td>86.0</td>\n",
       "      <td>2790</td>\n",
       "      <td>15.6</td>\n",
       "      <td>82</td>\n",
       "      <td>usa</td>\n",
       "      <td>ford mustang gl</td>\n",
       "    </tr>\n",
       "    <tr>\n",
       "      <th>394</th>\n",
       "      <td>44.0</td>\n",
       "      <td>4</td>\n",
       "      <td>97.0</td>\n",
       "      <td>52.0</td>\n",
       "      <td>2130</td>\n",
       "      <td>24.6</td>\n",
       "      <td>82</td>\n",
       "      <td>europe</td>\n",
       "      <td>vw pickup</td>\n",
       "    </tr>\n",
       "    <tr>\n",
       "      <th>395</th>\n",
       "      <td>32.0</td>\n",
       "      <td>4</td>\n",
       "      <td>135.0</td>\n",
       "      <td>84.0</td>\n",
       "      <td>2295</td>\n",
       "      <td>11.6</td>\n",
       "      <td>82</td>\n",
       "      <td>usa</td>\n",
       "      <td>dodge rampage</td>\n",
       "    </tr>\n",
       "    <tr>\n",
       "      <th>396</th>\n",
       "      <td>28.0</td>\n",
       "      <td>4</td>\n",
       "      <td>120.0</td>\n",
       "      <td>79.0</td>\n",
       "      <td>2625</td>\n",
       "      <td>18.6</td>\n",
       "      <td>82</td>\n",
       "      <td>usa</td>\n",
       "      <td>ford ranger</td>\n",
       "    </tr>\n",
       "    <tr>\n",
       "      <th>397</th>\n",
       "      <td>31.0</td>\n",
       "      <td>4</td>\n",
       "      <td>119.0</td>\n",
       "      <td>82.0</td>\n",
       "      <td>2720</td>\n",
       "      <td>19.4</td>\n",
       "      <td>82</td>\n",
       "      <td>usa</td>\n",
       "      <td>chevy s-10</td>\n",
       "    </tr>\n",
       "  </tbody>\n",
       "</table>\n",
       "<p>398 rows × 9 columns</p>\n",
       "</div>"
      ],
      "text/plain": [
       "      mpg  cylinders  displacement  horsepower  weight  acceleration  \\\n",
       "0    18.0          8         307.0       130.0    3504          12.0   \n",
       "1    15.0          8         350.0       165.0    3693          11.5   \n",
       "2    18.0          8         318.0       150.0    3436          11.0   \n",
       "3    16.0          8         304.0       150.0    3433          12.0   \n",
       "4    17.0          8         302.0       140.0    3449          10.5   \n",
       "..    ...        ...           ...         ...     ...           ...   \n",
       "393  27.0          4         140.0        86.0    2790          15.6   \n",
       "394  44.0          4          97.0        52.0    2130          24.6   \n",
       "395  32.0          4         135.0        84.0    2295          11.6   \n",
       "396  28.0          4         120.0        79.0    2625          18.6   \n",
       "397  31.0          4         119.0        82.0    2720          19.4   \n",
       "\n",
       "     model_year  origin                       name  \n",
       "0            70     usa  chevrolet chevelle malibu  \n",
       "1            70     usa          buick skylark 320  \n",
       "2            70     usa         plymouth satellite  \n",
       "3            70     usa              amc rebel sst  \n",
       "4            70     usa                ford torino  \n",
       "..          ...     ...                        ...  \n",
       "393          82     usa            ford mustang gl  \n",
       "394          82  europe                  vw pickup  \n",
       "395          82     usa              dodge rampage  \n",
       "396          82     usa                ford ranger  \n",
       "397          82     usa                 chevy s-10  \n",
       "\n",
       "[398 rows x 9 columns]"
      ]
     },
     "execution_count": 3,
     "metadata": {},
     "output_type": "execute_result"
    }
   ],
   "source": [
    "# Import data from seaborn: 'mpg'\n",
    "df = sns.load_dataset('mpg')\n",
    "df"
   ]
  },
  {
   "cell_type": "markdown",
   "metadata": {},
   "source": [
    "## Preparing Data"
   ]
  },
  {
   "cell_type": "code",
   "execution_count": 4,
   "metadata": {
    "ExecuteTime": {
     "end_time": "2021-03-19T13:03:23.056754Z",
     "start_time": "2021-03-19T13:03:23.045379Z"
    }
   },
   "outputs": [
    {
     "data": {
      "text/html": [
       "<div>\n",
       "<style scoped>\n",
       "    .dataframe tbody tr th:only-of-type {\n",
       "        vertical-align: middle;\n",
       "    }\n",
       "\n",
       "    .dataframe tbody tr th {\n",
       "        vertical-align: top;\n",
       "    }\n",
       "\n",
       "    .dataframe thead th {\n",
       "        text-align: right;\n",
       "    }\n",
       "</style>\n",
       "<table border=\"1\" class=\"dataframe\">\n",
       "  <thead>\n",
       "    <tr style=\"text-align: right;\">\n",
       "      <th></th>\n",
       "      <th>mpg</th>\n",
       "      <th>cylinders</th>\n",
       "      <th>displacement</th>\n",
       "      <th>horsepower</th>\n",
       "      <th>weight</th>\n",
       "      <th>acceleration</th>\n",
       "      <th>model_year</th>\n",
       "    </tr>\n",
       "  </thead>\n",
       "  <tbody>\n",
       "    <tr>\n",
       "      <th>0</th>\n",
       "      <td>18.0</td>\n",
       "      <td>8</td>\n",
       "      <td>307.0</td>\n",
       "      <td>130.0</td>\n",
       "      <td>3504</td>\n",
       "      <td>12.0</td>\n",
       "      <td>70</td>\n",
       "    </tr>\n",
       "    <tr>\n",
       "      <th>1</th>\n",
       "      <td>15.0</td>\n",
       "      <td>8</td>\n",
       "      <td>350.0</td>\n",
       "      <td>165.0</td>\n",
       "      <td>3693</td>\n",
       "      <td>11.5</td>\n",
       "      <td>70</td>\n",
       "    </tr>\n",
       "    <tr>\n",
       "      <th>2</th>\n",
       "      <td>18.0</td>\n",
       "      <td>8</td>\n",
       "      <td>318.0</td>\n",
       "      <td>150.0</td>\n",
       "      <td>3436</td>\n",
       "      <td>11.0</td>\n",
       "      <td>70</td>\n",
       "    </tr>\n",
       "    <tr>\n",
       "      <th>3</th>\n",
       "      <td>16.0</td>\n",
       "      <td>8</td>\n",
       "      <td>304.0</td>\n",
       "      <td>150.0</td>\n",
       "      <td>3433</td>\n",
       "      <td>12.0</td>\n",
       "      <td>70</td>\n",
       "    </tr>\n",
       "    <tr>\n",
       "      <th>4</th>\n",
       "      <td>17.0</td>\n",
       "      <td>8</td>\n",
       "      <td>302.0</td>\n",
       "      <td>140.0</td>\n",
       "      <td>3449</td>\n",
       "      <td>10.5</td>\n",
       "      <td>70</td>\n",
       "    </tr>\n",
       "  </tbody>\n",
       "</table>\n",
       "</div>"
      ],
      "text/plain": [
       "    mpg  cylinders  displacement  horsepower  weight  acceleration  model_year\n",
       "0  18.0          8         307.0       130.0    3504          12.0          70\n",
       "1  15.0          8         350.0       165.0    3693          11.5          70\n",
       "2  18.0          8         318.0       150.0    3436          11.0          70\n",
       "3  16.0          8         304.0       150.0    3433          12.0          70\n",
       "4  17.0          8         302.0       140.0    3449          10.5          70"
      ]
     },
     "execution_count": 4,
     "metadata": {},
     "output_type": "execute_result"
    }
   ],
   "source": [
    "# Drop columns [`origin`, `name`].\n",
    "df.drop(columns=['origin', 'name'], inplace=True)\n",
    "df.head()"
   ]
  },
  {
   "cell_type": "code",
   "execution_count": 5,
   "metadata": {
    "ExecuteTime": {
     "end_time": "2021-03-19T13:03:23.211456Z",
     "start_time": "2021-03-19T13:03:23.058373Z"
    }
   },
   "outputs": [],
   "source": [
    "from sklearn.model_selection import train_test_split"
   ]
  },
  {
   "cell_type": "code",
   "execution_count": 6,
   "metadata": {
    "ExecuteTime": {
     "end_time": "2021-03-19T13:03:23.221677Z",
     "start_time": "2021-03-19T13:03:23.213280Z"
    }
   },
   "outputs": [
    {
     "data": {
      "text/plain": [
       "((298, 6), (100, 6), (298,), (100,))"
      ]
     },
     "execution_count": 6,
     "metadata": {},
     "output_type": "execute_result"
    }
   ],
   "source": [
    "# Perform a train_test_split. Don't forget random_state!\n",
    "X_train, X_test, y_train, y_test = train_test_split(\n",
    "    df.drop('mpg', axis=1), \n",
    "    df['mpg'],\n",
    "    random_state=2021)\n",
    "\n",
    "X_train.shape, X_test.shape, y_train.shape, y_test.shape"
   ]
  },
  {
   "cell_type": "code",
   "execution_count": 7,
   "metadata": {
    "ExecuteTime": {
     "end_time": "2021-03-19T13:03:23.227513Z",
     "start_time": "2021-03-19T13:03:23.223292Z"
    }
   },
   "outputs": [],
   "source": [
    "from sklearn.impute import SimpleImputer"
   ]
  },
  {
   "cell_type": "code",
   "execution_count": 8,
   "metadata": {
    "ExecuteTime": {
     "end_time": "2021-03-19T13:03:23.237559Z",
     "start_time": "2021-03-19T13:03:23.230984Z"
    }
   },
   "outputs": [],
   "source": [
    "# Fit Imputer.\n",
    "imputer = SimpleImputer(missing_values=np.nan, strategy='mean')\n",
    "X_train_processed = imputer.fit_transform(X_train)\n",
    "X_test_processed = imputer.transform(X_test)"
   ]
  },
  {
   "cell_type": "code",
   "execution_count": 9,
   "metadata": {
    "ExecuteTime": {
     "end_time": "2021-03-19T13:03:23.242235Z",
     "start_time": "2021-03-19T13:03:23.239786Z"
    }
   },
   "outputs": [],
   "source": [
    "from sklearn.preprocessing import StandardScaler"
   ]
  },
  {
   "cell_type": "code",
   "execution_count": 10,
   "metadata": {
    "ExecuteTime": {
     "end_time": "2021-03-19T13:03:23.251057Z",
     "start_time": "2021-03-19T13:03:23.244216Z"
    }
   },
   "outputs": [],
   "source": [
    "# Scaling the data.\n",
    "X_scaler = StandardScaler()\n",
    "y_scaler = StandardScaler()\n",
    "\n",
    "X_train_processed = X_scaler.fit_transform(X_train_processed)\n",
    "X_test_processed = X_scaler.transform(X_test_processed)\n",
    "y_train_processed = y_scaler.fit_transform(y_train.values.reshape(-1, 1))\n",
    "y_test_processed = y_scaler.transform(y_test.values.reshape(-1, 1))"
   ]
  },
  {
   "cell_type": "code",
   "execution_count": 11,
   "metadata": {
    "ExecuteTime": {
     "end_time": "2021-03-19T13:03:23.285688Z",
     "start_time": "2021-03-19T13:03:23.253126Z"
    }
   },
   "outputs": [],
   "source": [
    "from sklearn.linear_model import LinearRegression, RidgeCV, LassoCV\n",
    "from sklearn.metrics import mean_squared_error, r2_score"
   ]
  },
  {
   "cell_type": "code",
   "execution_count": 12,
   "metadata": {
    "ExecuteTime": {
     "end_time": "2021-03-19T13:03:23.593442Z",
     "start_time": "2021-03-19T13:03:23.287401Z"
    }
   },
   "outputs": [
    {
     "name": "stderr",
     "output_type": "stream",
     "text": [
      "/opt/anaconda3/envs/learn-env/lib/python3.6/site-packages/sklearn/linear_model/coordinate_descent.py:1100: DataConversionWarning: A column-vector y was passed when a 1d array was expected. Please change the shape of y to (n_samples, ), for example using ravel().\n",
      "  y = column_or_1d(y, warn=True)\n"
     ]
    },
    {
     "data": {
      "text/plain": [
       "LassoCV(alphas=None, copy_X=True, cv=3, eps=0.001, fit_intercept=True,\n",
       "        max_iter=1000, n_alphas=100, n_jobs=None, normalize=False,\n",
       "        positive=False, precompute='auto', random_state=None,\n",
       "        selection='cyclic', tol=0.0001, verbose=False)"
      ]
     },
     "execution_count": 12,
     "metadata": {},
     "output_type": "execute_result"
    }
   ],
   "source": [
    "# Build and fit models.\n",
    "linreg = LinearRegression()\n",
    "linreg.fit(X_train_processed, y_train_processed)\n",
    "\n",
    "ridge = RidgeCV(cv=3)\n",
    "ridge.fit(X_train_processed, y_train_processed)\n",
    "\n",
    "lasso = LassoCV(cv=3)\n",
    "lasso.fit(X_train_processed, y_train_processed)"
   ]
  },
  {
   "cell_type": "code",
   "execution_count": 13,
   "metadata": {
    "ExecuteTime": {
     "end_time": "2021-03-19T13:03:23.603443Z",
     "start_time": "2021-03-19T13:03:23.595259Z"
    }
   },
   "outputs": [],
   "source": [
    "# Helper function\n",
    "def show_as_title(s):\n",
    "    \"\"\"Print a title.\"\"\"\n",
    "    \n",
    "    stars = '*'*10\n",
    "    print(f'{stars}{s}{stars}')\n",
    "\n",
    "\n",
    "# Evaluation function.\n",
    "def show_evaluation(\n",
    "    y_train_true, \n",
    "    y_train_pred, \n",
    "    y_test_true, \n",
    "    y_test_pred,\n",
    "    title=''):\n",
    "    \"\"\"\n",
    "    Print metrics for predicted values.\n",
    "    r_2, mse, rmse\n",
    "    \n",
    "    Parameters:\n",
    "    -----------\n",
    "    y_train_true: ground truth data (pd.DataFrame)\n",
    "    y_train_pred: predicted values (pd.DataFrame)\n",
    "    y_test_true: ground truth data (pd.DataFrame)\n",
    "    y_test_pred: predicted values (pd.DataFrame)\n",
    "    title: str (Default: '')\n",
    "        If provided, the printout will include a title.\n",
    "    \"\"\"\n",
    "    \n",
    "    if title:\n",
    "        show_as_title(title)\n",
    "        \n",
    "    r2_train = r2_score(y_train_true, y_train_pred)\n",
    "    r2_test = r2_score(y_test_true, y_test_pred)\n",
    "    mse_train = mean_squared_error(y_train_true, y_train_pred)\n",
    "    mse_test = mean_squared_error(y_test_true, y_test_pred)\n",
    "    rmse_train = np.sqrt(mse_train)\n",
    "    rmse_test = np.sqrt(mse_test)\n",
    "    \n",
    "    print('R2')\n",
    "    print(f'\\tTrain:\\t{round(r2_train, 3)}\\n\\tTest:\\t{round(r2_test, 3)}')\n",
    "    print('MSE')\n",
    "    print(f'\\tTrain:\\t{round(mse_train, 3)}\\n\\tTest:\\t{round(mse_test, 3)}')\n",
    "    print('RMSE')\n",
    "    print(f'\\tTrain:\\t{round(rmse_train, 3)}\\n\\tTest:\\t{round(rmse_test, 3)}')\n",
    "    print()\n",
    "    \n",
    "    \n",
    "# Showing coefficients.\n",
    "def check_coefficients(model, title=''):\n",
    "    \"\"\"\n",
    "    Prints information about the fit models' coefficients.\n",
    "    \n",
    "    Parameters:\n",
    "    -----------\n",
    "    model: fit sklearn linear_model\n",
    "    title: str (Default: '')\n",
    "        If provided, the printout will include a title.\n",
    "    \"\"\"\n",
    "    \n",
    "    if title:\n",
    "        show_as_title(title)\n",
    "    \n",
    "    coef_array = model.coef_.reshape(-1,)\n",
    "    num_coef = len(coef_array)\n",
    "    close_to_zero = sum(abs(coef_array) < 10**(-10))\n",
    "    \n",
    "    print(f'Number of coefficients:              \\t{num_coef}')\n",
    "    print(f'Number of coefficients close to zero:\\t{close_to_zero}')\n",
    "    print()"
   ]
  },
  {
   "cell_type": "code",
   "execution_count": 14,
   "metadata": {
    "ExecuteTime": {
     "end_time": "2021-03-19T13:03:23.608421Z",
     "start_time": "2021-03-19T13:03:23.605129Z"
    }
   },
   "outputs": [
    {
     "name": "stdout",
     "output_type": "stream",
     "text": [
      "**********Linreg**********\n",
      "Number of coefficients:              \t6\n",
      "Number of coefficients close to zero:\t0\n",
      "\n",
      "**********Ridge**********\n",
      "Number of coefficients:              \t6\n",
      "Number of coefficients close to zero:\t0\n",
      "\n",
      "**********Lasso**********\n",
      "Number of coefficients:              \t6\n",
      "Number of coefficients close to zero:\t2\n",
      "\n"
     ]
    }
   ],
   "source": [
    "# Check coefficients.\n",
    "check_coefficients(linreg, title='Linreg')\n",
    "check_coefficients(ridge, title='Ridge')\n",
    "check_coefficients(lasso, title='Lasso')"
   ]
  },
  {
   "cell_type": "code",
   "execution_count": 15,
   "metadata": {
    "ExecuteTime": {
     "end_time": "2021-03-19T13:03:23.619625Z",
     "start_time": "2021-03-19T13:03:23.610901Z"
    }
   },
   "outputs": [
    {
     "name": "stdout",
     "output_type": "stream",
     "text": [
      "**********Linear Regression**********\n",
      "R2\n",
      "\tTrain:\t0.81\n",
      "\tTest:\t0.791\n",
      "MSE\n",
      "\tTrain:\t0.19\n",
      "\tTest:\t0.188\n",
      "RMSE\n",
      "\tTrain:\t0.435\n",
      "\tTest:\t0.433\n",
      "\n",
      "**********Ridge Regression**********\n",
      "R2\n",
      "\tTrain:\t0.81\n",
      "\tTest:\t0.792\n",
      "MSE\n",
      "\tTrain:\t0.19\n",
      "\tTest:\t0.188\n",
      "RMSE\n",
      "\tTrain:\t0.435\n",
      "\tTest:\t0.433\n",
      "\n",
      "**********Lasso Regression**********\n",
      "R2\n",
      "\tTrain:\t0.808\n",
      "\tTest:\t0.803\n",
      "MSE\n",
      "\tTrain:\t0.192\n",
      "\tTest:\t0.177\n",
      "RMSE\n",
      "\tTrain:\t0.438\n",
      "\tTest:\t0.421\n",
      "\n"
     ]
    }
   ],
   "source": [
    "# Get predictions for all models\n",
    "y_train_pred_linear = linreg.predict(X_train_processed)\n",
    "y_test_pred_linear = linreg.predict(X_test_processed)\n",
    "y_train_pred_ridge = ridge.predict(X_train_processed)\n",
    "y_test_pred_ridge = ridge.predict(X_test_processed)\n",
    "y_train_pred_lasso = lasso.predict(X_train_processed)\n",
    "y_test_pred_lasso = lasso.predict(X_test_processed)\n",
    "\n",
    "show_evaluation(\n",
    "    y_train_processed, \n",
    "    y_train_pred_linear, \n",
    "    y_test_processed, \n",
    "    y_test_pred_linear, \n",
    "    title='Linear Regression'\n",
    "    )\n",
    "\n",
    "show_evaluation(\n",
    "    y_train_processed, \n",
    "    y_train_pred_ridge, \n",
    "    y_test_processed, \n",
    "    y_test_pred_ridge, \n",
    "    title='Ridge Regression'\n",
    "    )\n",
    "\n",
    "show_evaluation(\n",
    "    y_train_processed, \n",
    "    y_train_pred_lasso, \n",
    "    y_test_processed, \n",
    "    y_test_pred_lasso, \n",
    "    title='Lasso Regression'\n",
    "    )"
   ]
  },
  {
   "cell_type": "code",
   "execution_count": 16,
   "metadata": {
    "ExecuteTime": {
     "end_time": "2021-03-19T13:03:23.636014Z",
     "start_time": "2021-03-19T13:03:23.621479Z"
    }
   },
   "outputs": [
    {
     "data": {
      "text/html": [
       "<div>\n",
       "<style scoped>\n",
       "    .dataframe tbody tr th:only-of-type {\n",
       "        vertical-align: middle;\n",
       "    }\n",
       "\n",
       "    .dataframe tbody tr th {\n",
       "        vertical-align: top;\n",
       "    }\n",
       "\n",
       "    .dataframe thead th {\n",
       "        text-align: right;\n",
       "    }\n",
       "</style>\n",
       "<table border=\"1\" class=\"dataframe\">\n",
       "  <thead>\n",
       "    <tr style=\"text-align: right;\">\n",
       "      <th></th>\n",
       "      <th>linreg</th>\n",
       "      <th>ridge</th>\n",
       "      <th>lasso</th>\n",
       "      <th>feature</th>\n",
       "    </tr>\n",
       "  </thead>\n",
       "  <tbody>\n",
       "    <tr>\n",
       "      <th>0</th>\n",
       "      <td>-0.076978</td>\n",
       "      <td>-0.076564</td>\n",
       "      <td>-0.002262</td>\n",
       "      <td>cylinders</td>\n",
       "    </tr>\n",
       "    <tr>\n",
       "      <th>1</th>\n",
       "      <td>0.146534</td>\n",
       "      <td>0.143284</td>\n",
       "      <td>-0.000000</td>\n",
       "      <td>displacement</td>\n",
       "    </tr>\n",
       "    <tr>\n",
       "      <th>2</th>\n",
       "      <td>0.081803</td>\n",
       "      <td>0.080137</td>\n",
       "      <td>0.000000</td>\n",
       "      <td>horsepower</td>\n",
       "    </tr>\n",
       "    <tr>\n",
       "      <th>3</th>\n",
       "      <td>-0.841172</td>\n",
       "      <td>-0.837299</td>\n",
       "      <td>-0.717504</td>\n",
       "      <td>weight</td>\n",
       "    </tr>\n",
       "    <tr>\n",
       "      <th>4</th>\n",
       "      <td>0.068600</td>\n",
       "      <td>0.067637</td>\n",
       "      <td>0.019385</td>\n",
       "      <td>acceleration</td>\n",
       "    </tr>\n",
       "  </tbody>\n",
       "</table>\n",
       "</div>"
      ],
      "text/plain": [
       "     linreg     ridge     lasso       feature\n",
       "0 -0.076978 -0.076564 -0.002262     cylinders\n",
       "1  0.146534  0.143284 -0.000000  displacement\n",
       "2  0.081803  0.080137  0.000000    horsepower\n",
       "3 -0.841172 -0.837299 -0.717504        weight\n",
       "4  0.068600  0.067637  0.019385  acceleration"
      ]
     },
     "execution_count": 16,
     "metadata": {},
     "output_type": "execute_result"
    }
   ],
   "source": [
    "# Create a dataframe of coefficients.\n",
    "coef_df = pd.DataFrame()\n",
    "\n",
    "coef_df['linreg'] = linreg.coef_.ravel()\n",
    "coef_df['ridge'] = ridge.coef_.ravel()\n",
    "coef_df['lasso'] = lasso.coef_.ravel()\n",
    "\n",
    "# Add a column for feature name.\n",
    "coef_df['feature'] = X_train.columns\n",
    "\n",
    "coef_df.head()"
   ]
  },
  {
   "cell_type": "code",
   "execution_count": 17,
   "metadata": {
    "ExecuteTime": {
     "end_time": "2021-03-19T13:03:23.650429Z",
     "start_time": "2021-03-19T13:03:23.638083Z"
    }
   },
   "outputs": [
    {
     "data": {
      "text/html": [
       "<div>\n",
       "<style scoped>\n",
       "    .dataframe tbody tr th:only-of-type {\n",
       "        vertical-align: middle;\n",
       "    }\n",
       "\n",
       "    .dataframe tbody tr th {\n",
       "        vertical-align: top;\n",
       "    }\n",
       "\n",
       "    .dataframe thead th {\n",
       "        text-align: right;\n",
       "    }\n",
       "</style>\n",
       "<table border=\"1\" class=\"dataframe\">\n",
       "  <thead>\n",
       "    <tr style=\"text-align: right;\">\n",
       "      <th></th>\n",
       "      <th>feature</th>\n",
       "      <th>variable</th>\n",
       "      <th>value</th>\n",
       "    </tr>\n",
       "  </thead>\n",
       "  <tbody>\n",
       "    <tr>\n",
       "      <th>0</th>\n",
       "      <td>cylinders</td>\n",
       "      <td>linreg</td>\n",
       "      <td>-0.076978</td>\n",
       "    </tr>\n",
       "    <tr>\n",
       "      <th>1</th>\n",
       "      <td>displacement</td>\n",
       "      <td>linreg</td>\n",
       "      <td>0.146534</td>\n",
       "    </tr>\n",
       "    <tr>\n",
       "      <th>2</th>\n",
       "      <td>horsepower</td>\n",
       "      <td>linreg</td>\n",
       "      <td>0.081803</td>\n",
       "    </tr>\n",
       "    <tr>\n",
       "      <th>3</th>\n",
       "      <td>weight</td>\n",
       "      <td>linreg</td>\n",
       "      <td>-0.841172</td>\n",
       "    </tr>\n",
       "    <tr>\n",
       "      <th>4</th>\n",
       "      <td>acceleration</td>\n",
       "      <td>linreg</td>\n",
       "      <td>0.068600</td>\n",
       "    </tr>\n",
       "  </tbody>\n",
       "</table>\n",
       "</div>"
      ],
      "text/plain": [
       "        feature variable     value\n",
       "0     cylinders   linreg -0.076978\n",
       "1  displacement   linreg  0.146534\n",
       "2    horsepower   linreg  0.081803\n",
       "3        weight   linreg -0.841172\n",
       "4  acceleration   linreg  0.068600"
      ]
     },
     "execution_count": 17,
     "metadata": {},
     "output_type": "execute_result"
    }
   ],
   "source": [
    "# Melt dataframe for grouped bar chart.\n",
    "melted_coef = coef_df.melt(id_vars='feature')\n",
    "melted_coef.head()"
   ]
  },
  {
   "cell_type": "code",
   "execution_count": 18,
   "metadata": {
    "ExecuteTime": {
     "end_time": "2021-03-19T13:03:24.013815Z",
     "start_time": "2021-03-19T13:03:23.652640Z"
    }
   },
   "outputs": [
    {
     "data": {
      "image/png": "[encoded data removed]",
      "text/plain": [
       "<Figure size 864x432 with 1 Axes>"
      ]
     },
     "metadata": {},
     "output_type": "display_data"
    }
   ],
   "source": [
    "# Show the difference between coefficients.\n",
    "fig, ax = plt.subplots(figsize=(12,6))\n",
    "sns.barplot(x='feature', y='value', hue='variable', data=melted_coef)\n",
    "fig.tight_layout()"
   ]
  },
  {
   "cell_type": "markdown",
   "metadata": {},
   "source": [
    "<a id='generating_data'></a>\n",
    "# Bonus: Generating Data\n",
    "\n",
    "While there are some common \"toy\" datasets we can always use to test out models, we can also generate datasets from `sklearn.datasets`!\n",
    "\n",
    "*Documentation:*\n",
    "- Samples Generators (*`sklearn.datasets.make_{something}()`*)\n",
    "    - https://scikit-learn.org/stable/modules/classes.html#samples-generator"
   ]
  },
  {
   "cell_type": "code",
   "execution_count": 19,
   "metadata": {
    "ExecuteTime": {
     "end_time": "2021-03-19T13:03:24.046769Z",
     "start_time": "2021-03-19T13:03:24.015632Z"
    }
   },
   "outputs": [],
   "source": [
    "from sklearn.datasets import make_regression"
   ]
  },
  {
   "cell_type": "code",
   "execution_count": 20,
   "metadata": {
    "ExecuteTime": {
     "end_time": "2021-03-19T13:03:24.257486Z",
     "start_time": "2021-03-19T13:03:24.048612Z"
    }
   },
   "outputs": [
    {
     "name": "stdout",
     "output_type": "stream",
     "text": [
      "Datatype of X:\t<class 'numpy.ndarray'>\n",
      "Datatype of y:\t<class 'numpy.ndarray'>\n"
     ]
    },
    {
     "data": {
      "image/png": "[encoded data removed]",
      "text/plain": [
       "<Figure size 748.8x514.8 with 1 Axes>"
      ]
     },
     "metadata": {},
     "output_type": "display_data"
    }
   ],
   "source": [
    "# Let's try it out!\n",
    "X, y = make_regression(\n",
    "    n_features=1, # One feature to see it on a plane.\n",
    "    noise=4, # Adding some noise to the data.,\n",
    "    random_state=51\n",
    "    )\n",
    "\n",
    "# Explore output.\n",
    "print(f'Datatype of X:\\t{type(X)}\\nDatatype of y:\\t{type(y)}')\n",
    "\n",
    "# Plot.\n",
    "fig, ax = plt.subplots()\n",
    "ax.scatter(X, y)\n",
    "ax.set(\n",
    "    title='Make Regression\\nSingle Feature : Noise = 4',\n",
    "    xlabel='X_feature',\n",
    "    ylabel='Target'\n",
    "    )\n",
    "fig.tight_layout()"
   ]
  },
  {
   "cell_type": "code",
   "execution_count": 21,
   "metadata": {
    "ExecuteTime": {
     "end_time": "2021-03-19T13:03:24.260993Z",
     "start_time": "2021-03-19T13:03:24.259151Z"
    }
   },
   "outputs": [],
   "source": [
    "# Create a dataset with:\n",
    "## 1000 samples, \n",
    "## 30 features (10 of which are informative), \n",
    "## some noise, \n",
    "## some random state.\n"
   ]
  }
 ],
 "metadata": {
  "kernelspec": {
   "display_name": "Python [conda env:learn-env] *",
   "language": "python",
   "name": "conda-env-learn-env-py"
  },
  "language_info": {
   "codemirror_mode": {
    "name": "ipython",
    "version": 3
   },
   "file_extension": ".py",
   "mimetype": "text/x-python",
   "name": "python",
   "nbconvert_exporter": "python",
   "pygments_lexer": "ipython3",
   "version": "3.6.9"
  },
  "toc": {
   "base_numbering": 1,
   "nav_menu": {},
   "number_sections": false,
   "sideBar": true,
   "skip_h1_title": false,
   "title_cell": "Table of Contents",
   "title_sidebar": "Contents",
   "toc_cell": false,
   "toc_position": {
    "height": "calc(100% - 180px)",
    "left": "10px",
    "top": "150px",
    "width": "386.391px"
   },
   "toc_section_display": true,
   "toc_window_display": true
  }
 },
 "nbformat": 4,
 "nbformat_minor": 2
}
