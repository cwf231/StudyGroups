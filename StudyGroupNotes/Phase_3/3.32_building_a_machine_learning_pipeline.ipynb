{
 "cells": [
  {
   "cell_type": "markdown",
   "metadata": {},
   "source": [
    "## Phase 3.32\n",
    "# Building a Machine Learning Pipeline"
   ]
  },
  {
   "cell_type": "markdown",
   "metadata": {},
   "source": [
    "## Common Preprocessing Tools\n",
    "\n",
    "- Scalers\n",
    "    - StandardScaler, MinMaxScaler\n",
    "- Encoders\n",
    "    - OneHotEncoder, LabelEncoder\n",
    "- Imputers\n",
    "    - SimpleImputer\n",
    "\n",
    "We use these tools all the time. Let's have a look at a common workflow using these tools individually."
   ]
  },
  {
   "cell_type": "code",
   "execution_count": 1,
   "metadata": {
    "ExecuteTime": {
     "end_time": "2021-09-16T19:34:43.359164Z",
     "start_time": "2021-09-16T19:34:41.367718Z"
    }
   },
   "outputs": [],
   "source": [
    "from sklearn.impute import SimpleImputer\n",
    "from sklearn.preprocessing import StandardScaler, OneHotEncoder\n",
    "from sklearn.ensemble import RandomForestRegressor\n",
    "from sklearn.model_selection import train_test_split\n",
    "from sklearn.metrics import mean_absolute_error\n",
    "import pandas as pd\n",
    "import numpy as np\n",
    "import seaborn as sns\n",
    "import matplotlib.pyplot as plt"
   ]
  },
  {
   "cell_type": "markdown",
   "metadata": {},
   "source": [
    "# Loading Data"
   ]
  },
  {
   "cell_type": "code",
   "execution_count": 2,
   "metadata": {
    "ExecuteTime": {
     "end_time": "2021-09-16T19:34:43.392287Z",
     "start_time": "2021-09-16T19:34:43.362120Z"
    }
   },
   "outputs": [
    {
     "data": {
      "text/html": [
       "<div>\n",
       "<style scoped>\n",
       "    .dataframe tbody tr th:only-of-type {\n",
       "        vertical-align: middle;\n",
       "    }\n",
       "\n",
       "    .dataframe tbody tr th {\n",
       "        vertical-align: top;\n",
       "    }\n",
       "\n",
       "    .dataframe thead th {\n",
       "        text-align: right;\n",
       "    }\n",
       "</style>\n",
       "<table border=\"1\" class=\"dataframe\">\n",
       "  <thead>\n",
       "    <tr style=\"text-align: right;\">\n",
       "      <th></th>\n",
       "      <th>mpg</th>\n",
       "      <th>cylinders</th>\n",
       "      <th>displacement</th>\n",
       "      <th>horsepower</th>\n",
       "      <th>weight</th>\n",
       "      <th>acceleration</th>\n",
       "      <th>model_year</th>\n",
       "      <th>origin</th>\n",
       "      <th>name</th>\n",
       "    </tr>\n",
       "  </thead>\n",
       "  <tbody>\n",
       "    <tr>\n",
       "      <th>0</th>\n",
       "      <td>18.0</td>\n",
       "      <td>8</td>\n",
       "      <td>307.0</td>\n",
       "      <td>130.0</td>\n",
       "      <td>3504</td>\n",
       "      <td>12.0</td>\n",
       "      <td>70</td>\n",
       "      <td>usa</td>\n",
       "      <td>chevrolet chevelle malibu</td>\n",
       "    </tr>\n",
       "    <tr>\n",
       "      <th>1</th>\n",
       "      <td>15.0</td>\n",
       "      <td>8</td>\n",
       "      <td>350.0</td>\n",
       "      <td>165.0</td>\n",
       "      <td>3693</td>\n",
       "      <td>11.5</td>\n",
       "      <td>70</td>\n",
       "      <td>usa</td>\n",
       "      <td>buick skylark 320</td>\n",
       "    </tr>\n",
       "    <tr>\n",
       "      <th>2</th>\n",
       "      <td>18.0</td>\n",
       "      <td>8</td>\n",
       "      <td>318.0</td>\n",
       "      <td>150.0</td>\n",
       "      <td>3436</td>\n",
       "      <td>11.0</td>\n",
       "      <td>70</td>\n",
       "      <td>usa</td>\n",
       "      <td>plymouth satellite</td>\n",
       "    </tr>\n",
       "    <tr>\n",
       "      <th>3</th>\n",
       "      <td>16.0</td>\n",
       "      <td>8</td>\n",
       "      <td>304.0</td>\n",
       "      <td>150.0</td>\n",
       "      <td>3433</td>\n",
       "      <td>12.0</td>\n",
       "      <td>70</td>\n",
       "      <td>usa</td>\n",
       "      <td>amc rebel sst</td>\n",
       "    </tr>\n",
       "    <tr>\n",
       "      <th>4</th>\n",
       "      <td>17.0</td>\n",
       "      <td>8</td>\n",
       "      <td>302.0</td>\n",
       "      <td>140.0</td>\n",
       "      <td>3449</td>\n",
       "      <td>10.5</td>\n",
       "      <td>70</td>\n",
       "      <td>usa</td>\n",
       "      <td>ford torino</td>\n",
       "    </tr>\n",
       "  </tbody>\n",
       "</table>\n",
       "</div>"
      ],
      "text/plain": [
       "    mpg  cylinders  displacement  horsepower  weight  acceleration  \\\n",
       "0  18.0          8         307.0       130.0    3504          12.0   \n",
       "1  15.0          8         350.0       165.0    3693          11.5   \n",
       "2  18.0          8         318.0       150.0    3436          11.0   \n",
       "3  16.0          8         304.0       150.0    3433          12.0   \n",
       "4  17.0          8         302.0       140.0    3449          10.5   \n",
       "\n",
       "   model_year origin                       name  \n",
       "0          70    usa  chevrolet chevelle malibu  \n",
       "1          70    usa          buick skylark 320  \n",
       "2          70    usa         plymouth satellite  \n",
       "3          70    usa              amc rebel sst  \n",
       "4          70    usa                ford torino  "
      ]
     },
     "execution_count": 2,
     "metadata": {},
     "output_type": "execute_result"
    }
   ],
   "source": [
    "# Loading data.\n",
    "df = sns.load_dataset('mpg')\n",
    "df.head()"
   ]
  },
  {
   "cell_type": "code",
   "execution_count": 3,
   "metadata": {
    "ExecuteTime": {
     "end_time": "2021-09-16T19:34:43.399316Z",
     "start_time": "2021-09-16T19:34:43.394878Z"
    }
   },
   "outputs": [],
   "source": [
    "# Dropping the unique identifier column.\n",
    "df.drop('name', axis=1, inplace=True)"
   ]
  },
  {
   "cell_type": "code",
   "execution_count": 4,
   "metadata": {
    "ExecuteTime": {
     "end_time": "2021-09-16T19:34:43.411480Z",
     "start_time": "2021-09-16T19:34:43.401740Z"
    }
   },
   "outputs": [
    {
     "name": "stdout",
     "output_type": "stream",
     "text": [
      "<class 'pandas.core.frame.DataFrame'>\n",
      "RangeIndex: 398 entries, 0 to 397\n",
      "Data columns (total 8 columns):\n",
      " #   Column        Non-Null Count  Dtype  \n",
      "---  ------        --------------  -----  \n",
      " 0   mpg           398 non-null    float64\n",
      " 1   cylinders     398 non-null    int64  \n",
      " 2   displacement  398 non-null    float64\n",
      " 3   horsepower    392 non-null    float64\n",
      " 4   weight        398 non-null    int64  \n",
      " 5   acceleration  398 non-null    float64\n",
      " 6   model_year    398 non-null    int64  \n",
      " 7   origin        398 non-null    object \n",
      "dtypes: float64(4), int64(3), object(1)\n",
      "memory usage: 25.0+ KB\n"
     ]
    }
   ],
   "source": [
    "df.info()"
   ]
  },
  {
   "cell_type": "code",
   "execution_count": 5,
   "metadata": {
    "ExecuteTime": {
     "end_time": "2021-09-16T19:34:43.425163Z",
     "start_time": "2021-09-16T19:34:43.417135Z"
    }
   },
   "outputs": [
    {
     "data": {
      "text/plain": [
       "((298, 7), (100, 7), (298,), (100,))"
      ]
     },
     "execution_count": 5,
     "metadata": {},
     "output_type": "execute_result"
    }
   ],
   "source": [
    "# Conduct train-test-split.\n",
    "X_train, X_test, y_train, y_test = train_test_split(\n",
    "    df.drop('mpg', axis=1),\n",
    "    df['mpg'],\n",
    "    random_state=51)\n",
    "\n",
    "X_train.shape, X_test.shape, y_train.shape, y_test.shape"
   ]
  },
  {
   "cell_type": "code",
   "execution_count": 6,
   "metadata": {
    "ExecuteTime": {
     "end_time": "2021-09-16T19:34:43.435478Z",
     "start_time": "2021-09-16T19:34:43.430922Z"
    }
   },
   "outputs": [],
   "source": [
    "def print_mae(y_train, y_test, y_pred_train, y_pred_test):\n",
    "    \"\"\"Print MAE for both train and test data.\"\"\"\n",
    "    \n",
    "    print(f'Train MAE:\\n\\t{mean_absolute_error(y_train, y_pred_train)}')\n",
    "    print(f'Test MAE:\\n\\t{mean_absolute_error(y_test, y_pred_test)}')"
   ]
  },
  {
   "cell_type": "markdown",
   "metadata": {},
   "source": [
    "# The most Basic Pipeline"
   ]
  },
  {
   "cell_type": "code",
   "execution_count": 7,
   "metadata": {
    "ExecuteTime": {
     "end_time": "2021-09-16T19:34:43.443671Z",
     "start_time": "2021-09-16T19:34:43.438725Z"
    }
   },
   "outputs": [],
   "source": [
    "from sklearn.pipeline import Pipeline\n",
    "from sklearn import set_config"
   ]
  },
  {
   "cell_type": "code",
   "execution_count": 8,
   "metadata": {
    "ExecuteTime": {
     "end_time": "2021-09-16T19:34:43.449267Z",
     "start_time": "2021-09-16T19:34:43.446650Z"
    }
   },
   "outputs": [],
   "source": [
    "# Pipeline()"
   ]
  },
  {
   "cell_type": "code",
   "execution_count": 9,
   "metadata": {
    "ExecuteTime": {
     "end_time": "2021-09-16T19:34:43.456154Z",
     "start_time": "2021-09-16T19:34:43.451553Z"
    }
   },
   "outputs": [],
   "source": [
    "# Get mini-example data.\n",
    "little_x_cols = ['cylinders', 'displacement']\n",
    "\n",
    "X_train_little = X_train[little_x_cols]\n",
    "X_test_little = X_test[little_x_cols]"
   ]
  },
  {
   "cell_type": "code",
   "execution_count": 10,
   "metadata": {
    "ExecuteTime": {
     "end_time": "2021-09-16T19:34:43.468817Z",
     "start_time": "2021-09-16T19:34:43.458352Z"
    }
   },
   "outputs": [
    {
     "data": {
      "text/plain": [
       "Pipeline(steps=[('scaler', StandardScaler()),\n",
       "                ('clf', RandomForestRegressor(random_state=51))])"
      ]
     },
     "execution_count": 10,
     "metadata": {},
     "output_type": "execute_result"
    }
   ],
   "source": [
    "# Create and fit a pipeline.\n",
    "little_pipeline = Pipeline(\n",
    "    steps=[\n",
    "        ('scaler', StandardScaler()),\n",
    "        ('clf', RandomForestRegressor(random_state=51))\n",
    "    ]\n",
    ")\n",
    "\n",
    "little_pipeline"
   ]
  },
  {
   "cell_type": "code",
   "execution_count": 11,
   "metadata": {
    "ExecuteTime": {
     "end_time": "2021-09-16T19:34:43.483621Z",
     "start_time": "2021-09-16T19:34:43.472092Z"
    }
   },
   "outputs": [
    {
     "data": {
      "text/html": [
       "<style>div.sk-top-container {color: black;background-color: white;}div.sk-toggleable {background-color: white;}label.sk-toggleable__label {cursor: pointer;display: block;width: 100%;margin-bottom: 0;padding: 0.2em 0.3em;box-sizing: border-box;text-align: center;}div.sk-toggleable__content {max-height: 0;max-width: 0;overflow: hidden;text-align: left;background-color: #f0f8ff;}div.sk-toggleable__content pre {margin: 0.2em;color: black;border-radius: 0.25em;background-color: #f0f8ff;}input.sk-toggleable__control:checked~div.sk-toggleable__content {max-height: 200px;max-width: 100%;overflow: auto;}div.sk-estimator input.sk-toggleable__control:checked~label.sk-toggleable__label {background-color: #d4ebff;}div.sk-label input.sk-toggleable__control:checked~label.sk-toggleable__label {background-color: #d4ebff;}input.sk-hidden--visually {border: 0;clip: rect(1px 1px 1px 1px);clip: rect(1px, 1px, 1px, 1px);height: 1px;margin: -1px;overflow: hidden;padding: 0;position: absolute;width: 1px;}div.sk-estimator {font-family: monospace;background-color: #f0f8ff;margin: 0.25em 0.25em;border: 1px dotted black;border-radius: 0.25em;box-sizing: border-box;}div.sk-estimator:hover {background-color: #d4ebff;}div.sk-parallel-item::after {content: \"\";width: 100%;border-bottom: 1px solid gray;flex-grow: 1;}div.sk-label:hover label.sk-toggleable__label {background-color: #d4ebff;}div.sk-serial::before {content: \"\";position: absolute;border-left: 1px solid gray;box-sizing: border-box;top: 2em;bottom: 0;left: 50%;}div.sk-serial {display: flex;flex-direction: column;align-items: center;background-color: white;}div.sk-item {z-index: 1;}div.sk-parallel {display: flex;align-items: stretch;justify-content: center;background-color: white;}div.sk-parallel-item {display: flex;flex-direction: column;position: relative;background-color: white;}div.sk-parallel-item:first-child::after {align-self: flex-end;width: 50%;}div.sk-parallel-item:last-child::after {align-self: flex-start;width: 50%;}div.sk-parallel-item:only-child::after {width: 0;}div.sk-dashed-wrapped {border: 1px dashed gray;margin: 0.2em;box-sizing: border-box;padding-bottom: 0.1em;background-color: white;position: relative;}div.sk-label label {font-family: monospace;font-weight: bold;background-color: white;display: inline-block;line-height: 1.2em;}div.sk-label-container {position: relative;z-index: 2;text-align: center;}div.sk-container {display: inline-block;position: relative;}</style><div class=\"sk-top-container\"><div class=\"sk-container\"><div class=\"sk-item sk-dashed-wrapped\"><div class=\"sk-label-container\"><div class=\"sk-label sk-toggleable\"><input class=\"sk-toggleable__control sk-hidden--visually\" id=\"6726328f-b804-4634-91c1-fb725b49212b\" type=\"checkbox\" ><label class=\"sk-toggleable__label\" for=\"6726328f-b804-4634-91c1-fb725b49212b\">Pipeline</label><div class=\"sk-toggleable__content\"><pre>Pipeline(steps=[('scaler', StandardScaler()),\n",
       "                ('clf', RandomForestRegressor(random_state=51))])</pre></div></div></div><div class=\"sk-serial\"><div class=\"sk-item\"><div class=\"sk-estimator sk-toggleable\"><input class=\"sk-toggleable__control sk-hidden--visually\" id=\"868ad7d8-cf2f-4840-a6a6-3a34a29f679a\" type=\"checkbox\" ><label class=\"sk-toggleable__label\" for=\"868ad7d8-cf2f-4840-a6a6-3a34a29f679a\">StandardScaler</label><div class=\"sk-toggleable__content\"><pre>StandardScaler()</pre></div></div></div><div class=\"sk-item\"><div class=\"sk-estimator sk-toggleable\"><input class=\"sk-toggleable__control sk-hidden--visually\" id=\"7a581a85-bf0a-4541-9a68-8fcf119b42f1\" type=\"checkbox\" ><label class=\"sk-toggleable__label\" for=\"7a581a85-bf0a-4541-9a68-8fcf119b42f1\">RandomForestRegressor</label><div class=\"sk-toggleable__content\"><pre>RandomForestRegressor(random_state=51)</pre></div></div></div></div></div></div></div>"
      ],
      "text/plain": [
       "Pipeline(steps=[('scaler', StandardScaler()),\n",
       "                ('clf', RandomForestRegressor(random_state=51))])"
      ]
     },
     "execution_count": 11,
     "metadata": {},
     "output_type": "execute_result"
    }
   ],
   "source": [
    "# Setting for visual.\n",
    "set_config(display='diagram')\n",
    "\n",
    "little_pipeline"
   ]
  },
  {
   "cell_type": "code",
   "execution_count": 12,
   "metadata": {
    "ExecuteTime": {
     "end_time": "2021-09-16T19:34:43.653046Z",
     "start_time": "2021-09-16T19:34:43.486046Z"
    }
   },
   "outputs": [],
   "source": [
    "# Fit and predict.\n",
    "little_pipeline.fit(X_train_little, y_train)\n",
    "\n",
    "y_pred_train_little = little_pipeline.predict(X_train_little)\n",
    "y_pred_test_little = little_pipeline.predict(X_test_little)"
   ]
  },
  {
   "cell_type": "code",
   "execution_count": 13,
   "metadata": {
    "ExecuteTime": {
     "end_time": "2021-09-16T19:34:43.658814Z",
     "start_time": "2021-09-16T19:34:43.655087Z"
    }
   },
   "outputs": [
    {
     "name": "stdout",
     "output_type": "stream",
     "text": [
      "Train MAE:\n",
      "\t2.3301444868433525\n",
      "Test MAE:\n",
      "\t3.080961193638119\n"
     ]
    }
   ],
   "source": [
    "# Get metrics.\n",
    "print_mae(y_train, y_test, y_pred_train_little, y_pred_test_little)"
   ]
  },
  {
   "cell_type": "code",
   "execution_count": 14,
   "metadata": {
    "ExecuteTime": {
     "end_time": "2021-09-16T19:34:43.671050Z",
     "start_time": "2021-09-16T19:34:43.661014Z"
    }
   },
   "outputs": [
    {
     "data": {
      "text/html": [
       "<div>\n",
       "<style scoped>\n",
       "    .dataframe tbody tr th:only-of-type {\n",
       "        vertical-align: middle;\n",
       "    }\n",
       "\n",
       "    .dataframe tbody tr th {\n",
       "        vertical-align: top;\n",
       "    }\n",
       "\n",
       "    .dataframe thead th {\n",
       "        text-align: right;\n",
       "    }\n",
       "</style>\n",
       "<table border=\"1\" class=\"dataframe\">\n",
       "  <thead>\n",
       "    <tr style=\"text-align: right;\">\n",
       "      <th></th>\n",
       "      <th>cylinders</th>\n",
       "      <th>displacement</th>\n",
       "    </tr>\n",
       "  </thead>\n",
       "  <tbody>\n",
       "    <tr>\n",
       "      <th>338</th>\n",
       "      <td>4</td>\n",
       "      <td>135.0</td>\n",
       "    </tr>\n",
       "    <tr>\n",
       "      <th>188</th>\n",
       "      <td>8</td>\n",
       "      <td>318.0</td>\n",
       "    </tr>\n",
       "    <tr>\n",
       "      <th>45</th>\n",
       "      <td>6</td>\n",
       "      <td>258.0</td>\n",
       "    </tr>\n",
       "    <tr>\n",
       "      <th>299</th>\n",
       "      <td>4</td>\n",
       "      <td>141.0</td>\n",
       "    </tr>\n",
       "    <tr>\n",
       "      <th>273</th>\n",
       "      <td>4</td>\n",
       "      <td>119.0</td>\n",
       "    </tr>\n",
       "    <tr>\n",
       "      <th>...</th>\n",
       "      <td>...</td>\n",
       "      <td>...</td>\n",
       "    </tr>\n",
       "    <tr>\n",
       "      <th>222</th>\n",
       "      <td>8</td>\n",
       "      <td>260.0</td>\n",
       "    </tr>\n",
       "    <tr>\n",
       "      <th>16</th>\n",
       "      <td>6</td>\n",
       "      <td>199.0</td>\n",
       "    </tr>\n",
       "    <tr>\n",
       "      <th>197</th>\n",
       "      <td>4</td>\n",
       "      <td>90.0</td>\n",
       "    </tr>\n",
       "    <tr>\n",
       "      <th>224</th>\n",
       "      <td>8</td>\n",
       "      <td>302.0</td>\n",
       "    </tr>\n",
       "    <tr>\n",
       "      <th>57</th>\n",
       "      <td>4</td>\n",
       "      <td>113.0</td>\n",
       "    </tr>\n",
       "  </tbody>\n",
       "</table>\n",
       "<p>298 rows × 2 columns</p>\n",
       "</div>"
      ],
      "text/plain": [
       "     cylinders  displacement\n",
       "338          4         135.0\n",
       "188          8         318.0\n",
       "45           6         258.0\n",
       "299          4         141.0\n",
       "273          4         119.0\n",
       "..         ...           ...\n",
       "222          8         260.0\n",
       "16           6         199.0\n",
       "197          4          90.0\n",
       "224          8         302.0\n",
       "57           4         113.0\n",
       "\n",
       "[298 rows x 2 columns]"
      ]
     },
     "execution_count": 14,
     "metadata": {},
     "output_type": "execute_result"
    }
   ],
   "source": [
    "X_train_little"
   ]
  },
  {
   "cell_type": "code",
   "execution_count": 15,
   "metadata": {
    "ExecuteTime": {
     "end_time": "2021-09-16T19:34:43.678510Z",
     "start_time": "2021-09-16T19:34:43.673042Z"
    }
   },
   "outputs": [
    {
     "data": {
      "text/plain": [
       "338    27.2\n",
       "188    16.0\n",
       "45     18.0\n",
       "299    27.2\n",
       "273    23.9\n",
       "       ... \n",
       "222    17.0\n",
       "16     18.0\n",
       "197    29.0\n",
       "224    15.0\n",
       "57     24.0\n",
       "Name: mpg, Length: 298, dtype: float64"
      ]
     },
     "execution_count": 15,
     "metadata": {},
     "output_type": "execute_result"
    }
   ],
   "source": [
    "y_train"
   ]
  },
  {
   "cell_type": "code",
   "execution_count": 16,
   "metadata": {
    "ExecuteTime": {
     "end_time": "2021-09-16T19:34:43.688569Z",
     "start_time": "2021-09-16T19:34:43.680752Z"
    },
    "scrolled": true
   },
   "outputs": [
    {
     "data": {
      "text/plain": [
       "array([30.63626551, 15.1240219 , 17.39391169, 25.73222942, 30.30647262,\n",
       "       15.69745493, 26.61218522, 13.72526407, 26.63136667, 29.73188095,\n",
       "       33.16469896, 29.66072626, 24.10812183, 20.9357896 , 30.86667212,\n",
       "       23.60014515, 23.60014515, 20.26333333, 26.61218522, 22.9505    ,\n",
       "       19.49207934, 29.66072626, 15.1240219 , 25.60965952, 14.33986544,\n",
       "       30.86667212, 15.47490497, 29.66072626, 12.18499134, 31.50028308,\n",
       "       20.52796548, 15.69745493, 20.52796548, 24.38709524, 23.7775    ,\n",
       "       13.72526407, 15.1240219 , 29.66072626, 22.24960925, 19.49207934,\n",
       "       17.9994381 , 34.70081825, 14.16384524, 23.45240041, 15.47490497,\n",
       "       13.72526407, 33.72020238, 13.35495238, 19.51708333, 30.86667212,\n",
       "       23.45240041, 18.5512275 , 20.03896905, 23.45240041, 23.45240041,\n",
       "       29.92063135, 14.63544838, 23.60014515, 13.571     , 16.90205528,\n",
       "       30.30647262, 15.69745493, 22.79566667, 23.60014515, 30.30647262,\n",
       "       19.49207934, 18.5512275 , 13.72526407, 24.38709524, 20.9357896 ,\n",
       "       24.10812183, 13.35495238, 31.02103571, 15.47490497, 22.24960925,\n",
       "       26.61218522, 34.92242827, 27.45644464, 15.1240219 , 22.24960925,\n",
       "       34.70081825, 14.16384524, 26.61218522, 16.90205528, 15.1240219 ,\n",
       "       14.80420448, 32.18945238, 18.5512275 , 15.69745493, 25.60965952,\n",
       "       15.1240219 , 15.1240219 , 15.47490497, 23.45240041, 34.70081825,\n",
       "       15.69745493, 29.73188095, 17.9994381 , 15.1240219 , 15.69745493,\n",
       "       29.73188095, 22.021     , 14.16384524, 22.24960925, 19.49207934,\n",
       "       34.92242827, 18.5512275 , 24.98672659, 31.36883333, 19.49207934,\n",
       "       30.86667212, 30.63626551, 30.63626551, 31.50028308, 12.18499134,\n",
       "       22.24960925, 15.1240219 , 20.9357896 , 31.50028308, 30.86667212,\n",
       "       34.70081825, 13.72526407, 34.92242827, 29.66072626, 16.90205528,\n",
       "       29.66072626, 28.98052698, 14.80420448, 14.80420448, 22.24960925,\n",
       "       15.69745493, 20.52796548, 25.59332698, 13.72526407, 30.86667212,\n",
       "       30.86667212, 15.1240219 , 20.03896905, 36.64805   , 34.92242827,\n",
       "       22.24960925, 35.8563158 , 14.80420448, 30.63626551, 25.83809008,\n",
       "       17.39391169, 30.86667212, 20.52796548, 24.98672659, 30.86667212,\n",
       "       34.92242827, 19.49207934, 31.52313333, 16.90205528, 18.5512275 ,\n",
       "       34.92242827, 28.93945833, 30.86667212, 18.5512275 , 20.9357896 ,\n",
       "       31.02103571, 30.86667212, 25.6925    , 19.49207934, 13.72526407,\n",
       "       15.69745493, 20.9357896 , 15.69745493, 30.86667212, 23.60014515,\n",
       "       28.90842619, 14.80420448, 23.45240041, 15.69745493, 19.49207934,\n",
       "       17.82989881, 33.82378571, 34.92242827, 25.83809008, 30.30647262,\n",
       "       17.39391169, 15.47490497, 35.52818048, 26.61218522, 15.47490497,\n",
       "       16.90205528, 14.80420448, 17.82989881, 16.90205528, 28.98052698,\n",
       "       13.571     , 15.69745493, 17.82989881, 15.1240219 , 35.8563158 ,\n",
       "       29.66072626, 15.1240219 , 25.83809008, 30.86667212, 33.82378571,\n",
       "       35.52818048, 14.33986544, 30.86667212, 29.73188095, 13.72526407,\n",
       "       23.60014515, 15.1240219 , 35.52818048, 35.8563158 , 29.66072626,\n",
       "       30.86667212, 13.72526407, 16.90205528, 14.33986544, 22.021     ,\n",
       "       34.92242827, 16.90205528, 35.52818048, 29.66072626, 15.47490497,\n",
       "       15.69745493, 28.98052698, 29.66072626, 29.66072626, 16.90205528,\n",
       "       35.52818048, 23.60014515, 30.86667212, 21.44933333, 29.66072626,\n",
       "       20.71316667, 19.91090678, 26.61218522, 23.60014515, 22.24960925,\n",
       "       22.94203333, 13.35495238, 28.90842619, 36.64805   , 12.18499134,\n",
       "       16.90205528, 33.82378571, 14.33986544, 24.10812183, 31.02103571,\n",
       "       31.37555   , 22.9505    , 15.69745493, 15.69745493, 30.63626551,\n",
       "       30.86667212, 36.64805   , 15.47490497, 23.60014515, 29.48663333,\n",
       "       30.72648312, 20.9357896 , 29.66072626, 15.1240219 , 14.80420448,\n",
       "       34.92242827, 14.33986544, 24.10812183, 20.9357896 , 30.8028881 ,\n",
       "       20.52796548, 35.8563158 , 15.1240219 , 18.5512275 , 21.34      ,\n",
       "       30.30647262, 35.52818048, 28.98052698, 31.50028308, 29.66072626,\n",
       "       33.40433333, 23.60014515, 19.68459725, 34.92242827, 20.9357896 ,\n",
       "       13.80557143, 26.61218522, 25.27916667, 18.5512275 , 20.52796548,\n",
       "       25.83809008, 14.33986544, 34.70081825, 23.60014515, 19.49207934,\n",
       "       18.5512275 , 22.24960925, 24.98672659, 20.03896905, 19.68459725,\n",
       "       35.52818048, 15.47490497, 24.38709524])"
      ]
     },
     "execution_count": 16,
     "metadata": {},
     "output_type": "execute_result"
    }
   ],
   "source": [
    "y_pred_train_little"
   ]
  },
  {
   "cell_type": "markdown",
   "metadata": {},
   "source": [
    "## Long-Hand Workflow"
   ]
  },
  {
   "cell_type": "code",
   "execution_count": 17,
   "metadata": {
    "ExecuteTime": {
     "end_time": "2021-09-16T19:34:43.703099Z",
     "start_time": "2021-09-16T19:34:43.691760Z"
    }
   },
   "outputs": [
    {
     "name": "stdout",
     "output_type": "stream",
     "text": [
      "<class 'pandas.core.frame.DataFrame'>\n",
      "Int64Index: 298 entries, 338 to 57\n",
      "Data columns (total 7 columns):\n",
      " #   Column        Non-Null Count  Dtype  \n",
      "---  ------        --------------  -----  \n",
      " 0   cylinders     298 non-null    int64  \n",
      " 1   displacement  298 non-null    float64\n",
      " 2   horsepower    293 non-null    float64\n",
      " 3   weight        298 non-null    int64  \n",
      " 4   acceleration  298 non-null    float64\n",
      " 5   model_year    298 non-null    int64  \n",
      " 6   origin        298 non-null    object \n",
      "dtypes: float64(3), int64(3), object(1)\n",
      "memory usage: 18.6+ KB\n"
     ]
    }
   ],
   "source": [
    "X_train.info()"
   ]
  },
  {
   "cell_type": "code",
   "execution_count": 18,
   "metadata": {
    "ExecuteTime": {
     "end_time": "2021-09-16T19:34:43.717091Z",
     "start_time": "2021-09-16T19:34:43.705919Z"
    }
   },
   "outputs": [
    {
     "name": "stdout",
     "output_type": "stream",
     "text": [
      "<class 'pandas.core.frame.DataFrame'>\n",
      "Int64Index: 298 entries, 338 to 57\n",
      "Data columns (total 7 columns):\n",
      " #   Column        Non-Null Count  Dtype  \n",
      "---  ------        --------------  -----  \n",
      " 0   cylinders     298 non-null    object \n",
      " 1   displacement  298 non-null    float64\n",
      " 2   horsepower    293 non-null    float64\n",
      " 3   weight        298 non-null    int64  \n",
      " 4   acceleration  298 non-null    float64\n",
      " 5   model_year    298 non-null    int64  \n",
      " 6   origin        298 non-null    object \n",
      "dtypes: float64(3), int64(2), object(2)\n",
      "memory usage: 18.6+ KB\n"
     ]
    }
   ],
   "source": [
    "X_train['cylinders'] = X_train['cylinders'].astype('object')\n",
    "X_test['cylinders'] = X_test['cylinders'].astype('object')\n",
    "X_train.info()"
   ]
  },
  {
   "cell_type": "code",
   "execution_count": 19,
   "metadata": {
    "ExecuteTime": {
     "end_time": "2021-09-16T19:34:43.730434Z",
     "start_time": "2021-09-16T19:34:43.720010Z"
    }
   },
   "outputs": [
    {
     "name": "stdout",
     "output_type": "stream",
     "text": [
      "Numerical Columns:\n",
      "\t['displacement', 'horsepower', 'weight', 'acceleration', 'model_year']\n",
      "Categorical Columns:\n",
      "\t['cylinders', 'origin']\n",
      "\n",
      "No overlap!\n"
     ]
    }
   ],
   "source": [
    "# Splitting data into feature-types.\n",
    "numerical_cols = X_train.select_dtypes('number').columns.tolist()\n",
    "categorical_cols = X_train.select_dtypes('object').columns.tolist()\n",
    "\n",
    "print(f'Numerical Columns:\\n\\t{numerical_cols}')\n",
    "print(f'Categorical Columns:\\n\\t{categorical_cols}')\n",
    "print()\n",
    "\n",
    "# Sanity check.\n",
    "if len(numerical_cols + categorical_cols) == \\\n",
    "   len(set(numerical_cols + categorical_cols)):\n",
    "    print('No overlap!')\n",
    "else:\n",
    "    print('Something is wrong...')"
   ]
  },
  {
   "cell_type": "code",
   "execution_count": 20,
   "metadata": {
    "ExecuteTime": {
     "end_time": "2021-09-16T19:34:43.761083Z",
     "start_time": "2021-09-16T19:34:43.734653Z"
    }
   },
   "outputs": [
    {
     "data": {
      "text/plain": [
       "((298, 13), (100, 13))"
      ]
     },
     "execution_count": 20,
     "metadata": {},
     "output_type": "execute_result"
    }
   ],
   "source": [
    "# Create objects. (Only processing X-data.)\n",
    "imputer = SimpleImputer(missing_values=np.nan)\n",
    "scaler = StandardScaler()\n",
    "ohe = OneHotEncoder(handle_unknown='ignore', sparse=False)\n",
    "\n",
    "\n",
    "# Process data.\n",
    "X_train_num_processed = imputer.fit_transform(X_train[numerical_cols])\n",
    "X_test_num_processed = imputer.transform(X_test[numerical_cols])\n",
    "\n",
    "X_train_num_processed = scaler.fit_transform(X_train_num_processed)\n",
    "X_test_num_processed = scaler.transform(X_test_num_processed)\n",
    "\n",
    "X_train_cat_processed = ohe.fit_transform(X_train[categorical_cols])\n",
    "X_test_cat_processed = ohe.transform(X_test[categorical_cols])\n",
    "\n",
    "# Join data back together to look at.\n",
    "X_train_processed_df = pd.DataFrame(\n",
    "    np.concatenate([X_train_num_processed, X_train_cat_processed], axis=1),\n",
    "    columns=numerical_cols + ohe.get_feature_names().tolist())\n",
    "X_test_processed_df = pd.DataFrame(\n",
    "    np.concatenate([X_test_num_processed, X_test_cat_processed], axis=1),\n",
    "    columns=numerical_cols + ohe.get_feature_names().tolist())\n",
    "\n",
    "# Sanity check.\n",
    "X_train_processed_df.shape, X_test_processed_df.shape"
   ]
  },
  {
   "cell_type": "code",
   "execution_count": 21,
   "metadata": {
    "ExecuteTime": {
     "end_time": "2021-09-16T19:34:43.780939Z",
     "start_time": "2021-09-16T19:34:43.764480Z"
    }
   },
   "outputs": [
    {
     "data": {
      "text/html": [
       "<div>\n",
       "<style scoped>\n",
       "    .dataframe tbody tr th:only-of-type {\n",
       "        vertical-align: middle;\n",
       "    }\n",
       "\n",
       "    .dataframe tbody tr th {\n",
       "        vertical-align: top;\n",
       "    }\n",
       "\n",
       "    .dataframe thead th {\n",
       "        text-align: right;\n",
       "    }\n",
       "</style>\n",
       "<table border=\"1\" class=\"dataframe\">\n",
       "  <thead>\n",
       "    <tr style=\"text-align: right;\">\n",
       "      <th></th>\n",
       "      <th>displacement</th>\n",
       "      <th>horsepower</th>\n",
       "      <th>weight</th>\n",
       "      <th>acceleration</th>\n",
       "      <th>model_year</th>\n",
       "      <th>x0_3</th>\n",
       "      <th>x0_4</th>\n",
       "      <th>x0_5</th>\n",
       "      <th>x0_6</th>\n",
       "      <th>x0_8</th>\n",
       "      <th>x1_europe</th>\n",
       "      <th>x1_japan</th>\n",
       "      <th>x1_usa</th>\n",
       "    </tr>\n",
       "  </thead>\n",
       "  <tbody>\n",
       "    <tr>\n",
       "      <th>0</th>\n",
       "      <td>-0.567179</td>\n",
       "      <td>-0.556096</td>\n",
       "      <td>-0.581727</td>\n",
       "      <td>0.050686</td>\n",
       "      <td>1.308270</td>\n",
       "      <td>0.0</td>\n",
       "      <td>1.0</td>\n",
       "      <td>0.0</td>\n",
       "      <td>0.0</td>\n",
       "      <td>0.0</td>\n",
       "      <td>0.0</td>\n",
       "      <td>0.0</td>\n",
       "      <td>1.0</td>\n",
       "    </tr>\n",
       "    <tr>\n",
       "      <th>1</th>\n",
       "      <td>1.211255</td>\n",
       "      <td>1.184281</td>\n",
       "      <td>1.437699</td>\n",
       "      <td>-0.946427</td>\n",
       "      <td>-0.017800</td>\n",
       "      <td>0.0</td>\n",
       "      <td>0.0</td>\n",
       "      <td>0.0</td>\n",
       "      <td>0.0</td>\n",
       "      <td>1.0</td>\n",
       "      <td>0.0</td>\n",
       "      <td>0.0</td>\n",
       "      <td>1.0</td>\n",
       "    </tr>\n",
       "    <tr>\n",
       "      <th>2</th>\n",
       "      <td>0.628162</td>\n",
       "      <td>0.129507</td>\n",
       "      <td>-0.021039</td>\n",
       "      <td>-0.761777</td>\n",
       "      <td>-1.343870</td>\n",
       "      <td>0.0</td>\n",
       "      <td>0.0</td>\n",
       "      <td>0.0</td>\n",
       "      <td>1.0</td>\n",
       "      <td>0.0</td>\n",
       "      <td>0.0</td>\n",
       "      <td>0.0</td>\n",
       "      <td>1.0</td>\n",
       "    </tr>\n",
       "    <tr>\n",
       "      <th>3</th>\n",
       "      <td>-0.508869</td>\n",
       "      <td>-0.898898</td>\n",
       "      <td>0.249801</td>\n",
       "      <td>3.411327</td>\n",
       "      <td>0.777842</td>\n",
       "      <td>0.0</td>\n",
       "      <td>1.0</td>\n",
       "      <td>0.0</td>\n",
       "      <td>0.0</td>\n",
       "      <td>0.0</td>\n",
       "      <td>1.0</td>\n",
       "      <td>0.0</td>\n",
       "      <td>0.0</td>\n",
       "    </tr>\n",
       "    <tr>\n",
       "      <th>4</th>\n",
       "      <td>-0.722670</td>\n",
       "      <td>-0.213295</td>\n",
       "      <td>-0.682698</td>\n",
       "      <td>-0.244755</td>\n",
       "      <td>0.512628</td>\n",
       "      <td>0.0</td>\n",
       "      <td>1.0</td>\n",
       "      <td>0.0</td>\n",
       "      <td>0.0</td>\n",
       "      <td>0.0</td>\n",
       "      <td>0.0</td>\n",
       "      <td>1.0</td>\n",
       "      <td>0.0</td>\n",
       "    </tr>\n",
       "  </tbody>\n",
       "</table>\n",
       "</div>"
      ],
      "text/plain": [
       "   displacement  horsepower    weight  acceleration  model_year  x0_3  x0_4  \\\n",
       "0     -0.567179   -0.556096 -0.581727      0.050686    1.308270   0.0   1.0   \n",
       "1      1.211255    1.184281  1.437699     -0.946427   -0.017800   0.0   0.0   \n",
       "2      0.628162    0.129507 -0.021039     -0.761777   -1.343870   0.0   0.0   \n",
       "3     -0.508869   -0.898898  0.249801      3.411327    0.777842   0.0   1.0   \n",
       "4     -0.722670   -0.213295 -0.682698     -0.244755    0.512628   0.0   1.0   \n",
       "\n",
       "   x0_5  x0_6  x0_8  x1_europe  x1_japan  x1_usa  \n",
       "0   0.0   0.0   0.0        0.0       0.0     1.0  \n",
       "1   0.0   0.0   1.0        0.0       0.0     1.0  \n",
       "2   0.0   1.0   0.0        0.0       0.0     1.0  \n",
       "3   0.0   0.0   0.0        1.0       0.0     0.0  \n",
       "4   0.0   0.0   0.0        0.0       1.0     0.0  "
      ]
     },
     "execution_count": 21,
     "metadata": {},
     "output_type": "execute_result"
    }
   ],
   "source": [
    "X_train_processed_df.head()"
   ]
  },
  {
   "cell_type": "code",
   "execution_count": 22,
   "metadata": {
    "ExecuteTime": {
     "end_time": "2021-09-16T19:34:43.981498Z",
     "start_time": "2021-09-16T19:34:43.784931Z"
    }
   },
   "outputs": [
    {
     "data": {
      "text/html": [
       "<style>div.sk-top-container {color: black;background-color: white;}div.sk-toggleable {background-color: white;}label.sk-toggleable__label {cursor: pointer;display: block;width: 100%;margin-bottom: 0;padding: 0.2em 0.3em;box-sizing: border-box;text-align: center;}div.sk-toggleable__content {max-height: 0;max-width: 0;overflow: hidden;text-align: left;background-color: #f0f8ff;}div.sk-toggleable__content pre {margin: 0.2em;color: black;border-radius: 0.25em;background-color: #f0f8ff;}input.sk-toggleable__control:checked~div.sk-toggleable__content {max-height: 200px;max-width: 100%;overflow: auto;}div.sk-estimator input.sk-toggleable__control:checked~label.sk-toggleable__label {background-color: #d4ebff;}div.sk-label input.sk-toggleable__control:checked~label.sk-toggleable__label {background-color: #d4ebff;}input.sk-hidden--visually {border: 0;clip: rect(1px 1px 1px 1px);clip: rect(1px, 1px, 1px, 1px);height: 1px;margin: -1px;overflow: hidden;padding: 0;position: absolute;width: 1px;}div.sk-estimator {font-family: monospace;background-color: #f0f8ff;margin: 0.25em 0.25em;border: 1px dotted black;border-radius: 0.25em;box-sizing: border-box;}div.sk-estimator:hover {background-color: #d4ebff;}div.sk-parallel-item::after {content: \"\";width: 100%;border-bottom: 1px solid gray;flex-grow: 1;}div.sk-label:hover label.sk-toggleable__label {background-color: #d4ebff;}div.sk-serial::before {content: \"\";position: absolute;border-left: 1px solid gray;box-sizing: border-box;top: 2em;bottom: 0;left: 50%;}div.sk-serial {display: flex;flex-direction: column;align-items: center;background-color: white;}div.sk-item {z-index: 1;}div.sk-parallel {display: flex;align-items: stretch;justify-content: center;background-color: white;}div.sk-parallel-item {display: flex;flex-direction: column;position: relative;background-color: white;}div.sk-parallel-item:first-child::after {align-self: flex-end;width: 50%;}div.sk-parallel-item:last-child::after {align-self: flex-start;width: 50%;}div.sk-parallel-item:only-child::after {width: 0;}div.sk-dashed-wrapped {border: 1px dashed gray;margin: 0.2em;box-sizing: border-box;padding-bottom: 0.1em;background-color: white;position: relative;}div.sk-label label {font-family: monospace;font-weight: bold;background-color: white;display: inline-block;line-height: 1.2em;}div.sk-label-container {position: relative;z-index: 2;text-align: center;}div.sk-container {display: inline-block;position: relative;}</style><div class=\"sk-top-container\"><div class=\"sk-container\"><div class=\"sk-item\"><div class=\"sk-estimator sk-toggleable\"><input class=\"sk-toggleable__control sk-hidden--visually\" id=\"b91f3a3d-c39f-46cc-8cfa-93bdbaf4ad80\" type=\"checkbox\" checked><label class=\"sk-toggleable__label\" for=\"b91f3a3d-c39f-46cc-8cfa-93bdbaf4ad80\">RandomForestRegressor</label><div class=\"sk-toggleable__content\"><pre>RandomForestRegressor(random_state=51)</pre></div></div></div></div></div>"
      ],
      "text/plain": [
       "RandomForestRegressor(random_state=51)"
      ]
     },
     "execution_count": 22,
     "metadata": {},
     "output_type": "execute_result"
    }
   ],
   "source": [
    "# Create and train model.\n",
    "clf = RandomForestRegressor(random_state=51)\n",
    "clf.fit(X_train_processed_df, y_train)"
   ]
  },
  {
   "cell_type": "code",
   "execution_count": 23,
   "metadata": {
    "ExecuteTime": {
     "end_time": "2021-09-16T19:34:44.010818Z",
     "start_time": "2021-09-16T19:34:43.983615Z"
    }
   },
   "outputs": [
    {
     "name": "stdout",
     "output_type": "stream",
     "text": [
      "Train MAE:\n",
      "\t0.7030771812080531\n",
      "Test MAE:\n",
      "\t1.9541100000000002\n"
     ]
    }
   ],
   "source": [
    "# Check scores.\n",
    "y_pred_train = clf.predict(X_train_processed_df)\n",
    "y_pred_test = clf.predict(X_test_processed_df)\n",
    "\n",
    "print(f'Train MAE:\\n\\t{mean_absolute_error(y_train, y_pred_train)}')\n",
    "print(f'Test MAE:\\n\\t{mean_absolute_error(y_test, y_pred_test)}')"
   ]
  },
  {
   "cell_type": "markdown",
   "metadata": {},
   "source": [
    "## Using a Pipeline"
   ]
  },
  {
   "cell_type": "code",
   "execution_count": 24,
   "metadata": {
    "ExecuteTime": {
     "end_time": "2021-09-16T19:34:44.020494Z",
     "start_time": "2021-09-16T19:34:44.013316Z"
    }
   },
   "outputs": [],
   "source": [
    "from sklearn.compose import ColumnTransformer"
   ]
  },
  {
   "cell_type": "code",
   "execution_count": 25,
   "metadata": {
    "ExecuteTime": {
     "end_time": "2021-09-16T19:34:44.082426Z",
     "start_time": "2021-09-16T19:34:44.022880Z"
    }
   },
   "outputs": [
    {
     "data": {
      "text/html": [
       "<style>div.sk-top-container {color: black;background-color: white;}div.sk-toggleable {background-color: white;}label.sk-toggleable__label {cursor: pointer;display: block;width: 100%;margin-bottom: 0;padding: 0.2em 0.3em;box-sizing: border-box;text-align: center;}div.sk-toggleable__content {max-height: 0;max-width: 0;overflow: hidden;text-align: left;background-color: #f0f8ff;}div.sk-toggleable__content pre {margin: 0.2em;color: black;border-radius: 0.25em;background-color: #f0f8ff;}input.sk-toggleable__control:checked~div.sk-toggleable__content {max-height: 200px;max-width: 100%;overflow: auto;}div.sk-estimator input.sk-toggleable__control:checked~label.sk-toggleable__label {background-color: #d4ebff;}div.sk-label input.sk-toggleable__control:checked~label.sk-toggleable__label {background-color: #d4ebff;}input.sk-hidden--visually {border: 0;clip: rect(1px 1px 1px 1px);clip: rect(1px, 1px, 1px, 1px);height: 1px;margin: -1px;overflow: hidden;padding: 0;position: absolute;width: 1px;}div.sk-estimator {font-family: monospace;background-color: #f0f8ff;margin: 0.25em 0.25em;border: 1px dotted black;border-radius: 0.25em;box-sizing: border-box;}div.sk-estimator:hover {background-color: #d4ebff;}div.sk-parallel-item::after {content: \"\";width: 100%;border-bottom: 1px solid gray;flex-grow: 1;}div.sk-label:hover label.sk-toggleable__label {background-color: #d4ebff;}div.sk-serial::before {content: \"\";position: absolute;border-left: 1px solid gray;box-sizing: border-box;top: 2em;bottom: 0;left: 50%;}div.sk-serial {display: flex;flex-direction: column;align-items: center;background-color: white;}div.sk-item {z-index: 1;}div.sk-parallel {display: flex;align-items: stretch;justify-content: center;background-color: white;}div.sk-parallel-item {display: flex;flex-direction: column;position: relative;background-color: white;}div.sk-parallel-item:first-child::after {align-self: flex-end;width: 50%;}div.sk-parallel-item:last-child::after {align-self: flex-start;width: 50%;}div.sk-parallel-item:only-child::after {width: 0;}div.sk-dashed-wrapped {border: 1px dashed gray;margin: 0.2em;box-sizing: border-box;padding-bottom: 0.1em;background-color: white;position: relative;}div.sk-label label {font-family: monospace;font-weight: bold;background-color: white;display: inline-block;line-height: 1.2em;}div.sk-label-container {position: relative;z-index: 2;text-align: center;}div.sk-container {display: inline-block;position: relative;}</style><div class=\"sk-top-container\"><div class=\"sk-container\"><div class=\"sk-item sk-dashed-wrapped\"><div class=\"sk-label-container\"><div class=\"sk-label sk-toggleable\"><input class=\"sk-toggleable__control sk-hidden--visually\" id=\"93440dff-0ca4-46cd-b687-0b0680c5ab30\" type=\"checkbox\" ><label class=\"sk-toggleable__label\" for=\"93440dff-0ca4-46cd-b687-0b0680c5ab30\">Pipeline</label><div class=\"sk-toggleable__content\"><pre>Pipeline(steps=[('ColumnTransformer',\n",
       "                 ColumnTransformer(transformers=[('num',\n",
       "                                                  Pipeline(steps=[('imputer',\n",
       "                                                                   SimpleImputer()),\n",
       "                                                                  ('scaler',\n",
       "                                                                   StandardScaler())]),\n",
       "                                                  ['displacement', 'horsepower',\n",
       "                                                   'weight', 'acceleration',\n",
       "                                                   'model_year']),\n",
       "                                                 ('cat',\n",
       "                                                  Pipeline(steps=[('ohe',\n",
       "                                                                   OneHotEncoder(handle_unknown='ignore'))]),\n",
       "                                                  ['cylinders', 'origin'])])),\n",
       "                ('Classifier', RandomForestRegressor(random_state=51))])</pre></div></div></div><div class=\"sk-serial\"><div class=\"sk-item sk-dashed-wrapped\"><div class=\"sk-label-container\"><div class=\"sk-label sk-toggleable\"><input class=\"sk-toggleable__control sk-hidden--visually\" id=\"5df08a7f-4561-428d-bc65-bf866d63b44e\" type=\"checkbox\" ><label class=\"sk-toggleable__label\" for=\"5df08a7f-4561-428d-bc65-bf866d63b44e\">ColumnTransformer: ColumnTransformer</label><div class=\"sk-toggleable__content\"><pre>ColumnTransformer(transformers=[('num',\n",
       "                                 Pipeline(steps=[('imputer', SimpleImputer()),\n",
       "                                                 ('scaler', StandardScaler())]),\n",
       "                                 ['displacement', 'horsepower', 'weight',\n",
       "                                  'acceleration', 'model_year']),\n",
       "                                ('cat',\n",
       "                                 Pipeline(steps=[('ohe',\n",
       "                                                  OneHotEncoder(handle_unknown='ignore'))]),\n",
       "                                 ['cylinders', 'origin'])])</pre></div></div></div><div class=\"sk-parallel\"><div class=\"sk-parallel-item\"><div class=\"sk-item\"><div class=\"sk-label-container\"><div class=\"sk-label sk-toggleable\"><input class=\"sk-toggleable__control sk-hidden--visually\" id=\"bad65a00-c5fe-4d39-b33c-e6804a96ff9a\" type=\"checkbox\" ><label class=\"sk-toggleable__label\" for=\"bad65a00-c5fe-4d39-b33c-e6804a96ff9a\">num</label><div class=\"sk-toggleable__content\"><pre>['displacement', 'horsepower', 'weight', 'acceleration', 'model_year']</pre></div></div></div><div class=\"sk-serial\"><div class=\"sk-item\"><div class=\"sk-serial\"><div class=\"sk-item\"><div class=\"sk-estimator sk-toggleable\"><input class=\"sk-toggleable__control sk-hidden--visually\" id=\"7770435b-fd1e-46cd-ae45-e1aff0aa2ae0\" type=\"checkbox\" ><label class=\"sk-toggleable__label\" for=\"7770435b-fd1e-46cd-ae45-e1aff0aa2ae0\">SimpleImputer</label><div class=\"sk-toggleable__content\"><pre>SimpleImputer()</pre></div></div></div><div class=\"sk-item\"><div class=\"sk-estimator sk-toggleable\"><input class=\"sk-toggleable__control sk-hidden--visually\" id=\"f6a10fc4-a8f4-4328-abe8-0cb701c2a92f\" type=\"checkbox\" ><label class=\"sk-toggleable__label\" for=\"f6a10fc4-a8f4-4328-abe8-0cb701c2a92f\">StandardScaler</label><div class=\"sk-toggleable__content\"><pre>StandardScaler()</pre></div></div></div></div></div></div></div></div><div class=\"sk-parallel-item\"><div class=\"sk-item\"><div class=\"sk-label-container\"><div class=\"sk-label sk-toggleable\"><input class=\"sk-toggleable__control sk-hidden--visually\" id=\"46f2c634-0090-4161-b4ec-81727fe79f10\" type=\"checkbox\" ><label class=\"sk-toggleable__label\" for=\"46f2c634-0090-4161-b4ec-81727fe79f10\">cat</label><div class=\"sk-toggleable__content\"><pre>['cylinders', 'origin']</pre></div></div></div><div class=\"sk-serial\"><div class=\"sk-item\"><div class=\"sk-serial\"><div class=\"sk-item\"><div class=\"sk-estimator sk-toggleable\"><input class=\"sk-toggleable__control sk-hidden--visually\" id=\"b8c056c3-b8cd-48b6-9627-f21908fbbd94\" type=\"checkbox\" ><label class=\"sk-toggleable__label\" for=\"b8c056c3-b8cd-48b6-9627-f21908fbbd94\">OneHotEncoder</label><div class=\"sk-toggleable__content\"><pre>OneHotEncoder(handle_unknown='ignore')</pre></div></div></div></div></div></div></div></div></div></div><div class=\"sk-item\"><div class=\"sk-estimator sk-toggleable\"><input class=\"sk-toggleable__control sk-hidden--visually\" id=\"9d98c93e-eb0d-46f7-a7d0-807a5d9a89ce\" type=\"checkbox\" ><label class=\"sk-toggleable__label\" for=\"9d98c93e-eb0d-46f7-a7d0-807a5d9a89ce\">RandomForestRegressor</label><div class=\"sk-toggleable__content\"><pre>RandomForestRegressor(random_state=51)</pre></div></div></div></div></div></div></div>"
      ],
      "text/plain": [
       "Pipeline(steps=[('ColumnTransformer',\n",
       "                 ColumnTransformer(transformers=[('num',\n",
       "                                                  Pipeline(steps=[('imputer',\n",
       "                                                                   SimpleImputer()),\n",
       "                                                                  ('scaler',\n",
       "                                                                   StandardScaler())]),\n",
       "                                                  ['displacement', 'horsepower',\n",
       "                                                   'weight', 'acceleration',\n",
       "                                                   'model_year']),\n",
       "                                                 ('cat',\n",
       "                                                  Pipeline(steps=[('ohe',\n",
       "                                                                   OneHotEncoder(handle_unknown='ignore'))]),\n",
       "                                                  ['cylinders', 'origin'])])),\n",
       "                ('Classifier', RandomForestRegressor(random_state=51))])"
      ]
     },
     "execution_count": 25,
     "metadata": {},
     "output_type": "execute_result"
    }
   ],
   "source": [
    "# Same process, using pipelines.\n",
    "num_pipe = Pipeline(steps=[\n",
    "    ('imputer', SimpleImputer(missing_values=np.nan)),\n",
    "    ('scaler', StandardScaler())\n",
    "])\n",
    "\n",
    "cat_pipe = Pipeline(steps=[\n",
    "    ('ohe', OneHotEncoder(handle_unknown='ignore'))\n",
    "])\n",
    "\n",
    "# Combine into ColumnTransformer\n",
    "transformer = ColumnTransformer(transformers=[\n",
    "    ('num', num_pipe, numerical_cols),\n",
    "    ('cat', cat_pipe, categorical_cols) # ('ohe', OneHotEncoder(handle_unknown='ignore'), categorical_cols)\n",
    "])\n",
    "\n",
    "# Master Pipeline\n",
    "master_pipe = Pipeline(steps=[\n",
    "    ('ColumnTransformer', transformer),\n",
    "    ('Classifier', RandomForestRegressor(random_state=51))\n",
    "])\n",
    "master_pipe"
   ]
  },
  {
   "cell_type": "code",
   "execution_count": 26,
   "metadata": {
    "ExecuteTime": {
     "end_time": "2021-09-16T19:34:44.301095Z",
     "start_time": "2021-09-16T19:34:44.084743Z"
    }
   },
   "outputs": [
    {
     "name": "stdout",
     "output_type": "stream",
     "text": [
      "Train MAE:\n",
      "\t0.7030771812080531\n",
      "Test MAE:\n",
      "\t1.9541100000000002\n"
     ]
    }
   ],
   "source": [
    "# Using the original, untransformed data!\n",
    "master_pipe.fit(X_train, y_train)\n",
    "\n",
    "print_mae(\n",
    "    y_train, \n",
    "    y_test, \n",
    "    master_pipe.predict(X_train), \n",
    "    master_pipe.predict(X_test)\n",
    "    )"
   ]
  },
  {
   "cell_type": "markdown",
   "metadata": {},
   "source": [
    "### Access Pipeline Stages"
   ]
  },
  {
   "cell_type": "code",
   "execution_count": 27,
   "metadata": {
    "ExecuteTime": {
     "end_time": "2021-09-16T19:34:44.355747Z",
     "start_time": "2021-09-16T19:34:44.302814Z"
    }
   },
   "outputs": [
    {
     "data": {
      "text/html": [
       "<style>div.sk-top-container {color: black;background-color: white;}div.sk-toggleable {background-color: white;}label.sk-toggleable__label {cursor: pointer;display: block;width: 100%;margin-bottom: 0;padding: 0.2em 0.3em;box-sizing: border-box;text-align: center;}div.sk-toggleable__content {max-height: 0;max-width: 0;overflow: hidden;text-align: left;background-color: #f0f8ff;}div.sk-toggleable__content pre {margin: 0.2em;color: black;border-radius: 0.25em;background-color: #f0f8ff;}input.sk-toggleable__control:checked~div.sk-toggleable__content {max-height: 200px;max-width: 100%;overflow: auto;}div.sk-estimator input.sk-toggleable__control:checked~label.sk-toggleable__label {background-color: #d4ebff;}div.sk-label input.sk-toggleable__control:checked~label.sk-toggleable__label {background-color: #d4ebff;}input.sk-hidden--visually {border: 0;clip: rect(1px 1px 1px 1px);clip: rect(1px, 1px, 1px, 1px);height: 1px;margin: -1px;overflow: hidden;padding: 0;position: absolute;width: 1px;}div.sk-estimator {font-family: monospace;background-color: #f0f8ff;margin: 0.25em 0.25em;border: 1px dotted black;border-radius: 0.25em;box-sizing: border-box;}div.sk-estimator:hover {background-color: #d4ebff;}div.sk-parallel-item::after {content: \"\";width: 100%;border-bottom: 1px solid gray;flex-grow: 1;}div.sk-label:hover label.sk-toggleable__label {background-color: #d4ebff;}div.sk-serial::before {content: \"\";position: absolute;border-left: 1px solid gray;box-sizing: border-box;top: 2em;bottom: 0;left: 50%;}div.sk-serial {display: flex;flex-direction: column;align-items: center;background-color: white;}div.sk-item {z-index: 1;}div.sk-parallel {display: flex;align-items: stretch;justify-content: center;background-color: white;}div.sk-parallel-item {display: flex;flex-direction: column;position: relative;background-color: white;}div.sk-parallel-item:first-child::after {align-self: flex-end;width: 50%;}div.sk-parallel-item:last-child::after {align-self: flex-start;width: 50%;}div.sk-parallel-item:only-child::after {width: 0;}div.sk-dashed-wrapped {border: 1px dashed gray;margin: 0.2em;box-sizing: border-box;padding-bottom: 0.1em;background-color: white;position: relative;}div.sk-label label {font-family: monospace;font-weight: bold;background-color: white;display: inline-block;line-height: 1.2em;}div.sk-label-container {position: relative;z-index: 2;text-align: center;}div.sk-container {display: inline-block;position: relative;}</style><div class=\"sk-top-container\"><div class=\"sk-container\"><div class=\"sk-item sk-dashed-wrapped\"><div class=\"sk-label-container\"><div class=\"sk-label sk-toggleable\"><input class=\"sk-toggleable__control sk-hidden--visually\" id=\"1853d8a9-fa46-41f7-af2a-f8c8bfeefb92\" type=\"checkbox\" ><label class=\"sk-toggleable__label\" for=\"1853d8a9-fa46-41f7-af2a-f8c8bfeefb92\">Pipeline</label><div class=\"sk-toggleable__content\"><pre>Pipeline(steps=[('ColumnTransformer',\n",
       "                 ColumnTransformer(transformers=[('num',\n",
       "                                                  Pipeline(steps=[('imputer',\n",
       "                                                                   SimpleImputer()),\n",
       "                                                                  ('scaler',\n",
       "                                                                   StandardScaler())]),\n",
       "                                                  ['displacement', 'horsepower',\n",
       "                                                   'weight', 'acceleration',\n",
       "                                                   'model_year']),\n",
       "                                                 ('cat',\n",
       "                                                  Pipeline(steps=[('ohe',\n",
       "                                                                   OneHotEncoder(handle_unknown='ignore'))]),\n",
       "                                                  ['cylinders', 'origin'])])),\n",
       "                ('Classifier', RandomForestRegressor(random_state=51))])</pre></div></div></div><div class=\"sk-serial\"><div class=\"sk-item sk-dashed-wrapped\"><div class=\"sk-label-container\"><div class=\"sk-label sk-toggleable\"><input class=\"sk-toggleable__control sk-hidden--visually\" id=\"741b7d47-d485-45fe-840a-da5b02067f01\" type=\"checkbox\" ><label class=\"sk-toggleable__label\" for=\"741b7d47-d485-45fe-840a-da5b02067f01\">ColumnTransformer: ColumnTransformer</label><div class=\"sk-toggleable__content\"><pre>ColumnTransformer(transformers=[('num',\n",
       "                                 Pipeline(steps=[('imputer', SimpleImputer()),\n",
       "                                                 ('scaler', StandardScaler())]),\n",
       "                                 ['displacement', 'horsepower', 'weight',\n",
       "                                  'acceleration', 'model_year']),\n",
       "                                ('cat',\n",
       "                                 Pipeline(steps=[('ohe',\n",
       "                                                  OneHotEncoder(handle_unknown='ignore'))]),\n",
       "                                 ['cylinders', 'origin'])])</pre></div></div></div><div class=\"sk-parallel\"><div class=\"sk-parallel-item\"><div class=\"sk-item\"><div class=\"sk-label-container\"><div class=\"sk-label sk-toggleable\"><input class=\"sk-toggleable__control sk-hidden--visually\" id=\"debf5dce-a772-4f74-b023-fab9eee24e05\" type=\"checkbox\" ><label class=\"sk-toggleable__label\" for=\"debf5dce-a772-4f74-b023-fab9eee24e05\">num</label><div class=\"sk-toggleable__content\"><pre>['displacement', 'horsepower', 'weight', 'acceleration', 'model_year']</pre></div></div></div><div class=\"sk-serial\"><div class=\"sk-item\"><div class=\"sk-serial\"><div class=\"sk-item\"><div class=\"sk-estimator sk-toggleable\"><input class=\"sk-toggleable__control sk-hidden--visually\" id=\"59465f4c-8429-4d21-9ebe-21d0f69677b0\" type=\"checkbox\" ><label class=\"sk-toggleable__label\" for=\"59465f4c-8429-4d21-9ebe-21d0f69677b0\">SimpleImputer</label><div class=\"sk-toggleable__content\"><pre>SimpleImputer()</pre></div></div></div><div class=\"sk-item\"><div class=\"sk-estimator sk-toggleable\"><input class=\"sk-toggleable__control sk-hidden--visually\" id=\"fb02ef59-ee48-4458-ae2a-dcd301bb5894\" type=\"checkbox\" ><label class=\"sk-toggleable__label\" for=\"fb02ef59-ee48-4458-ae2a-dcd301bb5894\">StandardScaler</label><div class=\"sk-toggleable__content\"><pre>StandardScaler()</pre></div></div></div></div></div></div></div></div><div class=\"sk-parallel-item\"><div class=\"sk-item\"><div class=\"sk-label-container\"><div class=\"sk-label sk-toggleable\"><input class=\"sk-toggleable__control sk-hidden--visually\" id=\"103bd9a6-3cff-468f-9c5c-72fff7f7ff46\" type=\"checkbox\" ><label class=\"sk-toggleable__label\" for=\"103bd9a6-3cff-468f-9c5c-72fff7f7ff46\">cat</label><div class=\"sk-toggleable__content\"><pre>['cylinders', 'origin']</pre></div></div></div><div class=\"sk-serial\"><div class=\"sk-item\"><div class=\"sk-serial\"><div class=\"sk-item\"><div class=\"sk-estimator sk-toggleable\"><input class=\"sk-toggleable__control sk-hidden--visually\" id=\"633fc70b-cb34-4e73-b794-1e819be79fe3\" type=\"checkbox\" ><label class=\"sk-toggleable__label\" for=\"633fc70b-cb34-4e73-b794-1e819be79fe3\">OneHotEncoder</label><div class=\"sk-toggleable__content\"><pre>OneHotEncoder(handle_unknown='ignore')</pre></div></div></div></div></div></div></div></div></div></div><div class=\"sk-item\"><div class=\"sk-estimator sk-toggleable\"><input class=\"sk-toggleable__control sk-hidden--visually\" id=\"8b61ea09-88a7-4d4b-8bed-d0ed4d162cde\" type=\"checkbox\" ><label class=\"sk-toggleable__label\" for=\"8b61ea09-88a7-4d4b-8bed-d0ed4d162cde\">RandomForestRegressor</label><div class=\"sk-toggleable__content\"><pre>RandomForestRegressor(random_state=51)</pre></div></div></div></div></div></div></div>"
      ],
      "text/plain": [
       "Pipeline(steps=[('ColumnTransformer',\n",
       "                 ColumnTransformer(transformers=[('num',\n",
       "                                                  Pipeline(steps=[('imputer',\n",
       "                                                                   SimpleImputer()),\n",
       "                                                                  ('scaler',\n",
       "                                                                   StandardScaler())]),\n",
       "                                                  ['displacement', 'horsepower',\n",
       "                                                   'weight', 'acceleration',\n",
       "                                                   'model_year']),\n",
       "                                                 ('cat',\n",
       "                                                  Pipeline(steps=[('ohe',\n",
       "                                                                   OneHotEncoder(handle_unknown='ignore'))]),\n",
       "                                                  ['cylinders', 'origin'])])),\n",
       "                ('Classifier', RandomForestRegressor(random_state=51))])"
      ]
     },
     "execution_count": 27,
     "metadata": {},
     "output_type": "execute_result"
    }
   ],
   "source": [
    "master_pipe"
   ]
  },
  {
   "cell_type": "code",
   "execution_count": 28,
   "metadata": {
    "ExecuteTime": {
     "end_time": "2021-09-16T19:34:44.368696Z",
     "start_time": "2021-09-16T19:34:44.357679Z"
    }
   },
   "outputs": [
    {
     "data": {
      "text/plain": [
       "{'ColumnTransformer': ColumnTransformer(transformers=[('num',\n",
       "                                  Pipeline(steps=[('imputer', SimpleImputer()),\n",
       "                                                  ('scaler', StandardScaler())]),\n",
       "                                  ['displacement', 'horsepower', 'weight',\n",
       "                                   'acceleration', 'model_year']),\n",
       "                                 ('cat',\n",
       "                                  Pipeline(steps=[('ohe',\n",
       "                                                   OneHotEncoder(handle_unknown='ignore'))]),\n",
       "                                  ['cylinders', 'origin'])]),\n",
       " 'Classifier': RandomForestRegressor(random_state=51)}"
      ]
     },
     "execution_count": 28,
     "metadata": {},
     "output_type": "execute_result"
    }
   ],
   "source": [
    "# Getting individual elements.\n",
    "master_pipe.named_steps"
   ]
  },
  {
   "cell_type": "code",
   "execution_count": 29,
   "metadata": {
    "ExecuteTime": {
     "end_time": "2021-09-16T19:34:44.375625Z",
     "start_time": "2021-09-16T19:34:44.370627Z"
    }
   },
   "outputs": [
    {
     "data": {
      "text/plain": [
       "{'num': Pipeline(steps=[('imputer', SimpleImputer()), ('scaler', StandardScaler())]),\n",
       " 'cat': Pipeline(steps=[('ohe', OneHotEncoder(handle_unknown='ignore'))])}"
      ]
     },
     "execution_count": 29,
     "metadata": {},
     "output_type": "execute_result"
    }
   ],
   "source": [
    "master_pipe.named_steps['ColumnTransformer'].named_transformers_"
   ]
  },
  {
   "cell_type": "code",
   "execution_count": 30,
   "metadata": {
    "ExecuteTime": {
     "end_time": "2021-09-16T19:34:44.383707Z",
     "start_time": "2021-09-16T19:34:44.378174Z"
    }
   },
   "outputs": [
    {
     "data": {
      "text/html": [
       "<style>div.sk-top-container {color: black;background-color: white;}div.sk-toggleable {background-color: white;}label.sk-toggleable__label {cursor: pointer;display: block;width: 100%;margin-bottom: 0;padding: 0.2em 0.3em;box-sizing: border-box;text-align: center;}div.sk-toggleable__content {max-height: 0;max-width: 0;overflow: hidden;text-align: left;background-color: #f0f8ff;}div.sk-toggleable__content pre {margin: 0.2em;color: black;border-radius: 0.25em;background-color: #f0f8ff;}input.sk-toggleable__control:checked~div.sk-toggleable__content {max-height: 200px;max-width: 100%;overflow: auto;}div.sk-estimator input.sk-toggleable__control:checked~label.sk-toggleable__label {background-color: #d4ebff;}div.sk-label input.sk-toggleable__control:checked~label.sk-toggleable__label {background-color: #d4ebff;}input.sk-hidden--visually {border: 0;clip: rect(1px 1px 1px 1px);clip: rect(1px, 1px, 1px, 1px);height: 1px;margin: -1px;overflow: hidden;padding: 0;position: absolute;width: 1px;}div.sk-estimator {font-family: monospace;background-color: #f0f8ff;margin: 0.25em 0.25em;border: 1px dotted black;border-radius: 0.25em;box-sizing: border-box;}div.sk-estimator:hover {background-color: #d4ebff;}div.sk-parallel-item::after {content: \"\";width: 100%;border-bottom: 1px solid gray;flex-grow: 1;}div.sk-label:hover label.sk-toggleable__label {background-color: #d4ebff;}div.sk-serial::before {content: \"\";position: absolute;border-left: 1px solid gray;box-sizing: border-box;top: 2em;bottom: 0;left: 50%;}div.sk-serial {display: flex;flex-direction: column;align-items: center;background-color: white;}div.sk-item {z-index: 1;}div.sk-parallel {display: flex;align-items: stretch;justify-content: center;background-color: white;}div.sk-parallel-item {display: flex;flex-direction: column;position: relative;background-color: white;}div.sk-parallel-item:first-child::after {align-self: flex-end;width: 50%;}div.sk-parallel-item:last-child::after {align-self: flex-start;width: 50%;}div.sk-parallel-item:only-child::after {width: 0;}div.sk-dashed-wrapped {border: 1px dashed gray;margin: 0.2em;box-sizing: border-box;padding-bottom: 0.1em;background-color: white;position: relative;}div.sk-label label {font-family: monospace;font-weight: bold;background-color: white;display: inline-block;line-height: 1.2em;}div.sk-label-container {position: relative;z-index: 2;text-align: center;}div.sk-container {display: inline-block;position: relative;}</style><div class=\"sk-top-container\"><div class=\"sk-container\"><div class=\"sk-item sk-dashed-wrapped\"><div class=\"sk-label-container\"><div class=\"sk-label sk-toggleable\"><input class=\"sk-toggleable__control sk-hidden--visually\" id=\"01b013b6-6c13-4fcb-9f86-63d6bb3d3ecb\" type=\"checkbox\" ><label class=\"sk-toggleable__label\" for=\"01b013b6-6c13-4fcb-9f86-63d6bb3d3ecb\">Pipeline</label><div class=\"sk-toggleable__content\"><pre>Pipeline(steps=[('ohe', OneHotEncoder(handle_unknown='ignore'))])</pre></div></div></div><div class=\"sk-serial\"><div class=\"sk-item\"><div class=\"sk-estimator sk-toggleable\"><input class=\"sk-toggleable__control sk-hidden--visually\" id=\"68630fc5-f31e-4f23-be32-04cfa27fb896\" type=\"checkbox\" ><label class=\"sk-toggleable__label\" for=\"68630fc5-f31e-4f23-be32-04cfa27fb896\">OneHotEncoder</label><div class=\"sk-toggleable__content\"><pre>OneHotEncoder(handle_unknown='ignore')</pre></div></div></div></div></div></div></div>"
      ],
      "text/plain": [
       "Pipeline(steps=[('ohe', OneHotEncoder(handle_unknown='ignore'))])"
      ]
     },
     "execution_count": 30,
     "metadata": {},
     "output_type": "execute_result"
    }
   ],
   "source": [
    "master_pipe.named_steps['ColumnTransformer'].named_transformers_['cat']"
   ]
  },
  {
   "cell_type": "code",
   "execution_count": 31,
   "metadata": {
    "ExecuteTime": {
     "end_time": "2021-09-16T19:34:44.390998Z",
     "start_time": "2021-09-16T19:34:44.385710Z"
    }
   },
   "outputs": [
    {
     "data": {
      "text/html": [
       "<style>div.sk-top-container {color: black;background-color: white;}div.sk-toggleable {background-color: white;}label.sk-toggleable__label {cursor: pointer;display: block;width: 100%;margin-bottom: 0;padding: 0.2em 0.3em;box-sizing: border-box;text-align: center;}div.sk-toggleable__content {max-height: 0;max-width: 0;overflow: hidden;text-align: left;background-color: #f0f8ff;}div.sk-toggleable__content pre {margin: 0.2em;color: black;border-radius: 0.25em;background-color: #f0f8ff;}input.sk-toggleable__control:checked~div.sk-toggleable__content {max-height: 200px;max-width: 100%;overflow: auto;}div.sk-estimator input.sk-toggleable__control:checked~label.sk-toggleable__label {background-color: #d4ebff;}div.sk-label input.sk-toggleable__control:checked~label.sk-toggleable__label {background-color: #d4ebff;}input.sk-hidden--visually {border: 0;clip: rect(1px 1px 1px 1px);clip: rect(1px, 1px, 1px, 1px);height: 1px;margin: -1px;overflow: hidden;padding: 0;position: absolute;width: 1px;}div.sk-estimator {font-family: monospace;background-color: #f0f8ff;margin: 0.25em 0.25em;border: 1px dotted black;border-radius: 0.25em;box-sizing: border-box;}div.sk-estimator:hover {background-color: #d4ebff;}div.sk-parallel-item::after {content: \"\";width: 100%;border-bottom: 1px solid gray;flex-grow: 1;}div.sk-label:hover label.sk-toggleable__label {background-color: #d4ebff;}div.sk-serial::before {content: \"\";position: absolute;border-left: 1px solid gray;box-sizing: border-box;top: 2em;bottom: 0;left: 50%;}div.sk-serial {display: flex;flex-direction: column;align-items: center;background-color: white;}div.sk-item {z-index: 1;}div.sk-parallel {display: flex;align-items: stretch;justify-content: center;background-color: white;}div.sk-parallel-item {display: flex;flex-direction: column;position: relative;background-color: white;}div.sk-parallel-item:first-child::after {align-self: flex-end;width: 50%;}div.sk-parallel-item:last-child::after {align-self: flex-start;width: 50%;}div.sk-parallel-item:only-child::after {width: 0;}div.sk-dashed-wrapped {border: 1px dashed gray;margin: 0.2em;box-sizing: border-box;padding-bottom: 0.1em;background-color: white;position: relative;}div.sk-label label {font-family: monospace;font-weight: bold;background-color: white;display: inline-block;line-height: 1.2em;}div.sk-label-container {position: relative;z-index: 2;text-align: center;}div.sk-container {display: inline-block;position: relative;}</style><div class=\"sk-top-container\"><div class=\"sk-container\"><div class=\"sk-item\"><div class=\"sk-estimator sk-toggleable\"><input class=\"sk-toggleable__control sk-hidden--visually\" id=\"516957f1-5f9a-4081-9054-a6500967e26c\" type=\"checkbox\" checked><label class=\"sk-toggleable__label\" for=\"516957f1-5f9a-4081-9054-a6500967e26c\">OneHotEncoder</label><div class=\"sk-toggleable__content\"><pre>OneHotEncoder(handle_unknown='ignore')</pre></div></div></div></div></div>"
      ],
      "text/plain": [
       "OneHotEncoder(handle_unknown='ignore')"
      ]
     },
     "execution_count": 31,
     "metadata": {},
     "output_type": "execute_result"
    }
   ],
   "source": [
    "master_pipe.named_steps['ColumnTransformer'].named_transformers_['cat'].named_steps['ohe']"
   ]
  },
  {
   "cell_type": "code",
   "execution_count": 32,
   "metadata": {
    "ExecuteTime": {
     "end_time": "2021-09-16T19:34:44.404766Z",
     "start_time": "2021-09-16T19:34:44.399716Z"
    }
   },
   "outputs": [
    {
     "data": {
      "text/html": [
       "<style>div.sk-top-container {color: black;background-color: white;}div.sk-toggleable {background-color: white;}label.sk-toggleable__label {cursor: pointer;display: block;width: 100%;margin-bottom: 0;padding: 0.2em 0.3em;box-sizing: border-box;text-align: center;}div.sk-toggleable__content {max-height: 0;max-width: 0;overflow: hidden;text-align: left;background-color: #f0f8ff;}div.sk-toggleable__content pre {margin: 0.2em;color: black;border-radius: 0.25em;background-color: #f0f8ff;}input.sk-toggleable__control:checked~div.sk-toggleable__content {max-height: 200px;max-width: 100%;overflow: auto;}div.sk-estimator input.sk-toggleable__control:checked~label.sk-toggleable__label {background-color: #d4ebff;}div.sk-label input.sk-toggleable__control:checked~label.sk-toggleable__label {background-color: #d4ebff;}input.sk-hidden--visually {border: 0;clip: rect(1px 1px 1px 1px);clip: rect(1px, 1px, 1px, 1px);height: 1px;margin: -1px;overflow: hidden;padding: 0;position: absolute;width: 1px;}div.sk-estimator {font-family: monospace;background-color: #f0f8ff;margin: 0.25em 0.25em;border: 1px dotted black;border-radius: 0.25em;box-sizing: border-box;}div.sk-estimator:hover {background-color: #d4ebff;}div.sk-parallel-item::after {content: \"\";width: 100%;border-bottom: 1px solid gray;flex-grow: 1;}div.sk-label:hover label.sk-toggleable__label {background-color: #d4ebff;}div.sk-serial::before {content: \"\";position: absolute;border-left: 1px solid gray;box-sizing: border-box;top: 2em;bottom: 0;left: 50%;}div.sk-serial {display: flex;flex-direction: column;align-items: center;background-color: white;}div.sk-item {z-index: 1;}div.sk-parallel {display: flex;align-items: stretch;justify-content: center;background-color: white;}div.sk-parallel-item {display: flex;flex-direction: column;position: relative;background-color: white;}div.sk-parallel-item:first-child::after {align-self: flex-end;width: 50%;}div.sk-parallel-item:last-child::after {align-self: flex-start;width: 50%;}div.sk-parallel-item:only-child::after {width: 0;}div.sk-dashed-wrapped {border: 1px dashed gray;margin: 0.2em;box-sizing: border-box;padding-bottom: 0.1em;background-color: white;position: relative;}div.sk-label label {font-family: monospace;font-weight: bold;background-color: white;display: inline-block;line-height: 1.2em;}div.sk-label-container {position: relative;z-index: 2;text-align: center;}div.sk-container {display: inline-block;position: relative;}</style><div class=\"sk-top-container\"><div class=\"sk-container\"><div class=\"sk-item\"><div class=\"sk-estimator sk-toggleable\"><input class=\"sk-toggleable__control sk-hidden--visually\" id=\"c06796b4-1984-49fe-9bbd-59ece661c25f\" type=\"checkbox\" checked><label class=\"sk-toggleable__label\" for=\"c06796b4-1984-49fe-9bbd-59ece661c25f\">OneHotEncoder</label><div class=\"sk-toggleable__content\"><pre>OneHotEncoder(handle_unknown='ignore')</pre></div></div></div></div></div>"
      ],
      "text/plain": [
       "OneHotEncoder(handle_unknown='ignore')"
      ]
     },
     "execution_count": 32,
     "metadata": {},
     "output_type": "execute_result"
    }
   ],
   "source": [
    "(master_pipe\n",
    " .named_steps['ColumnTransformer']\n",
    " .named_transformers_['cat']\n",
    " .named_steps['ohe'])"
   ]
  },
  {
   "cell_type": "markdown",
   "metadata": {},
   "source": [
    "# Time to practice!"
   ]
  }
 ],
 "metadata": {
  "kernelspec": {
   "display_name": "Python [conda env:learn-env] *",
   "language": "python",
   "name": "conda-env-learn-env-py"
  },
  "language_info": {
   "codemirror_mode": {
    "name": "ipython",
    "version": 3
   },
   "file_extension": ".py",
   "mimetype": "text/x-python",
   "name": "python",
   "nbconvert_exporter": "python",
   "pygments_lexer": "ipython3",
   "version": "3.6.9"
  },
  "toc": {
   "base_numbering": 1,
   "nav_menu": {},
   "number_sections": false,
   "sideBar": true,
   "skip_h1_title": false,
   "title_cell": "Table of Contents",
   "title_sidebar": "Contents",
   "toc_cell": false,
   "toc_position": {
    "height": "calc(100% - 180px)",
    "left": "10px",
    "top": "150px",
    "width": "259px"
   },
   "toc_section_display": true,
   "toc_window_display": true
  }
 },
 "nbformat": 4,
 "nbformat_minor": 2
}
