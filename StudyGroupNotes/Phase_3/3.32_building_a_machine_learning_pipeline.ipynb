{
 "cells": [
  {
   "cell_type": "markdown",
   "metadata": {},
   "source": [
    "## Phase 3.32\n",
    "# Building a Machine Learning Pipeline"
   ]
  },
  {
   "cell_type": "markdown",
   "metadata": {},
   "source": [
    "## Common Preprocessing Tools\n",
    "\n",
    "- Scalers\n",
    "    - StandardScaler, MinMaxScaler\n",
    "- Encoders\n",
    "    - OneHotEncoder, LabelEncoder\n",
    "- Imputers\n",
    "    - SimpleImputer\n",
    "\n",
    "We use these tools all the time. Let's have a look at a common workflow using these tools individually."
   ]
  },
  {
   "cell_type": "code",
   "execution_count": 1,
   "metadata": {
    "ExecuteTime": {
     "end_time": "2021-12-03T00:12:16.372702Z",
     "start_time": "2021-12-03T00:12:14.135220Z"
    }
   },
   "outputs": [],
   "source": [
    "from sklearn.impute import SimpleImputer\n",
    "from sklearn.preprocessing import StandardScaler, OneHotEncoder\n",
    "from sklearn.ensemble import RandomForestRegressor\n",
    "from sklearn.model_selection import train_test_split\n",
    "from sklearn.metrics import mean_absolute_error\n",
    "import pandas as pd\n",
    "import numpy as np\n",
    "import seaborn as sns\n",
    "import matplotlib.pyplot as plt"
   ]
  },
  {
   "cell_type": "markdown",
   "metadata": {},
   "source": [
    "# Loading Data"
   ]
  },
  {
   "cell_type": "code",
   "execution_count": 2,
   "metadata": {
    "ExecuteTime": {
     "end_time": "2021-12-03T00:12:23.618782Z",
     "start_time": "2021-12-03T00:12:23.576192Z"
    }
   },
   "outputs": [
    {
     "data": {
      "text/html": [
       "<div>\n",
       "<style scoped>\n",
       "    .dataframe tbody tr th:only-of-type {\n",
       "        vertical-align: middle;\n",
       "    }\n",
       "\n",
       "    .dataframe tbody tr th {\n",
       "        vertical-align: top;\n",
       "    }\n",
       "\n",
       "    .dataframe thead th {\n",
       "        text-align: right;\n",
       "    }\n",
       "</style>\n",
       "<table border=\"1\" class=\"dataframe\">\n",
       "  <thead>\n",
       "    <tr style=\"text-align: right;\">\n",
       "      <th></th>\n",
       "      <th>mpg</th>\n",
       "      <th>cylinders</th>\n",
       "      <th>displacement</th>\n",
       "      <th>horsepower</th>\n",
       "      <th>weight</th>\n",
       "      <th>acceleration</th>\n",
       "      <th>model_year</th>\n",
       "      <th>origin</th>\n",
       "      <th>name</th>\n",
       "    </tr>\n",
       "  </thead>\n",
       "  <tbody>\n",
       "    <tr>\n",
       "      <th>0</th>\n",
       "      <td>18.0</td>\n",
       "      <td>8</td>\n",
       "      <td>307.0</td>\n",
       "      <td>130.0</td>\n",
       "      <td>3504</td>\n",
       "      <td>12.0</td>\n",
       "      <td>70</td>\n",
       "      <td>usa</td>\n",
       "      <td>chevrolet chevelle malibu</td>\n",
       "    </tr>\n",
       "    <tr>\n",
       "      <th>1</th>\n",
       "      <td>15.0</td>\n",
       "      <td>8</td>\n",
       "      <td>350.0</td>\n",
       "      <td>165.0</td>\n",
       "      <td>3693</td>\n",
       "      <td>11.5</td>\n",
       "      <td>70</td>\n",
       "      <td>usa</td>\n",
       "      <td>buick skylark 320</td>\n",
       "    </tr>\n",
       "    <tr>\n",
       "      <th>2</th>\n",
       "      <td>18.0</td>\n",
       "      <td>8</td>\n",
       "      <td>318.0</td>\n",
       "      <td>150.0</td>\n",
       "      <td>3436</td>\n",
       "      <td>11.0</td>\n",
       "      <td>70</td>\n",
       "      <td>usa</td>\n",
       "      <td>plymouth satellite</td>\n",
       "    </tr>\n",
       "    <tr>\n",
       "      <th>3</th>\n",
       "      <td>16.0</td>\n",
       "      <td>8</td>\n",
       "      <td>304.0</td>\n",
       "      <td>150.0</td>\n",
       "      <td>3433</td>\n",
       "      <td>12.0</td>\n",
       "      <td>70</td>\n",
       "      <td>usa</td>\n",
       "      <td>amc rebel sst</td>\n",
       "    </tr>\n",
       "    <tr>\n",
       "      <th>4</th>\n",
       "      <td>17.0</td>\n",
       "      <td>8</td>\n",
       "      <td>302.0</td>\n",
       "      <td>140.0</td>\n",
       "      <td>3449</td>\n",
       "      <td>10.5</td>\n",
       "      <td>70</td>\n",
       "      <td>usa</td>\n",
       "      <td>ford torino</td>\n",
       "    </tr>\n",
       "  </tbody>\n",
       "</table>\n",
       "</div>"
      ],
      "text/plain": [
       "    mpg  cylinders  displacement  horsepower  weight  acceleration  \\\n",
       "0  18.0          8         307.0       130.0    3504          12.0   \n",
       "1  15.0          8         350.0       165.0    3693          11.5   \n",
       "2  18.0          8         318.0       150.0    3436          11.0   \n",
       "3  16.0          8         304.0       150.0    3433          12.0   \n",
       "4  17.0          8         302.0       140.0    3449          10.5   \n",
       "\n",
       "   model_year origin                       name  \n",
       "0          70    usa  chevrolet chevelle malibu  \n",
       "1          70    usa          buick skylark 320  \n",
       "2          70    usa         plymouth satellite  \n",
       "3          70    usa              amc rebel sst  \n",
       "4          70    usa                ford torino  "
      ]
     },
     "execution_count": 2,
     "metadata": {},
     "output_type": "execute_result"
    }
   ],
   "source": [
    "# Loading data.\n",
    "df = sns.load_dataset('mpg')\n",
    "df.head()"
   ]
  },
  {
   "cell_type": "code",
   "execution_count": 3,
   "metadata": {
    "ExecuteTime": {
     "end_time": "2021-12-03T00:12:30.031782Z",
     "start_time": "2021-12-03T00:12:30.027186Z"
    }
   },
   "outputs": [],
   "source": [
    "# Dropping the unique identifier column.\n",
    "df.drop('name', axis=1, inplace=True)"
   ]
  },
  {
   "cell_type": "code",
   "execution_count": 4,
   "metadata": {
    "ExecuteTime": {
     "end_time": "2021-12-03T00:12:34.007164Z",
     "start_time": "2021-12-03T00:12:33.990182Z"
    }
   },
   "outputs": [
    {
     "name": "stdout",
     "output_type": "stream",
     "text": [
      "<class 'pandas.core.frame.DataFrame'>\n",
      "RangeIndex: 398 entries, 0 to 397\n",
      "Data columns (total 8 columns):\n",
      " #   Column        Non-Null Count  Dtype  \n",
      "---  ------        --------------  -----  \n",
      " 0   mpg           398 non-null    float64\n",
      " 1   cylinders     398 non-null    int64  \n",
      " 2   displacement  398 non-null    float64\n",
      " 3   horsepower    392 non-null    float64\n",
      " 4   weight        398 non-null    int64  \n",
      " 5   acceleration  398 non-null    float64\n",
      " 6   model_year    398 non-null    int64  \n",
      " 7   origin        398 non-null    object \n",
      "dtypes: float64(4), int64(3), object(1)\n",
      "memory usage: 25.0+ KB\n"
     ]
    }
   ],
   "source": [
    "df.info()"
   ]
  },
  {
   "cell_type": "code",
   "execution_count": 5,
   "metadata": {
    "ExecuteTime": {
     "end_time": "2021-12-03T00:13:18.100486Z",
     "start_time": "2021-12-03T00:13:18.091097Z"
    }
   },
   "outputs": [
    {
     "data": {
      "text/plain": [
       "((298, 7), (100, 7), (298,), (100,))"
      ]
     },
     "execution_count": 5,
     "metadata": {},
     "output_type": "execute_result"
    }
   ],
   "source": [
    "# Conduct train-test-split.\n",
    "X_train, X_test, y_train, y_test = train_test_split(\n",
    "    df.drop('mpg', axis=1),\n",
    "    df['mpg'],\n",
    "    random_state=51)\n",
    "\n",
    "X_train.shape, X_test.shape, y_train.shape, y_test.shape"
   ]
  },
  {
   "cell_type": "code",
   "execution_count": 6,
   "metadata": {
    "ExecuteTime": {
     "end_time": "2021-12-03T00:13:25.025588Z",
     "start_time": "2021-12-03T00:13:25.021175Z"
    }
   },
   "outputs": [],
   "source": [
    "def print_mae(y_train, y_test, y_pred_train, y_pred_test):\n",
    "    \"\"\"Print MAE for both train and test data.\"\"\"\n",
    "    \n",
    "    print(f'Train MAE:\\n\\t{mean_absolute_error(y_train, y_pred_train)}')\n",
    "    print(f'Test MAE:\\n\\t{mean_absolute_error(y_test, y_pred_test)}')"
   ]
  },
  {
   "cell_type": "markdown",
   "metadata": {},
   "source": [
    "# The most Basic Pipeline"
   ]
  },
  {
   "cell_type": "code",
   "execution_count": 7,
   "metadata": {
    "ExecuteTime": {
     "end_time": "2021-12-03T00:13:33.553607Z",
     "start_time": "2021-12-03T00:13:33.548673Z"
    }
   },
   "outputs": [],
   "source": [
    "from sklearn.pipeline import Pipeline\n",
    "from sklearn import set_config"
   ]
  },
  {
   "cell_type": "code",
   "execution_count": null,
   "metadata": {
    "ExecuteTime": {
     "end_time": "2021-09-16T19:34:43.449267Z",
     "start_time": "2021-09-16T19:34:43.446650Z"
    }
   },
   "outputs": [],
   "source": [
    "# Pipeline()"
   ]
  },
  {
   "cell_type": "code",
   "execution_count": 8,
   "metadata": {
    "ExecuteTime": {
     "end_time": "2021-12-03T00:14:12.702918Z",
     "start_time": "2021-12-03T00:14:12.698197Z"
    }
   },
   "outputs": [],
   "source": [
    "# Get mini-example data.\n",
    "little_x_cols = ['cylinders', 'displacement']\n",
    "\n",
    "X_train_little = X_train[little_x_cols]\n",
    "X_test_little = X_test[little_x_cols]"
   ]
  },
  {
   "cell_type": "code",
   "execution_count": 9,
   "metadata": {
    "ExecuteTime": {
     "end_time": "2021-12-03T00:15:18.073429Z",
     "start_time": "2021-12-03T00:15:18.064618Z"
    }
   },
   "outputs": [
    {
     "data": {
      "text/plain": [
       "Pipeline(steps=[('scaler', StandardScaler()),\n",
       "                ('clf', RandomForestRegressor(random_state=51))])"
      ]
     },
     "execution_count": 9,
     "metadata": {},
     "output_type": "execute_result"
    }
   ],
   "source": [
    "# Create and fit a pipeline.\n",
    "little_pipeline = Pipeline(\n",
    "    steps=[\n",
    "        ('scaler', StandardScaler()),\n",
    "        ('clf', RandomForestRegressor(random_state=51))\n",
    "    ]\n",
    ")\n",
    "\n",
    "little_pipeline"
   ]
  },
  {
   "cell_type": "code",
   "execution_count": 10,
   "metadata": {
    "ExecuteTime": {
     "end_time": "2021-12-03T00:15:32.084661Z",
     "start_time": "2021-12-03T00:15:32.072000Z"
    }
   },
   "outputs": [
    {
     "data": {
      "text/html": [
       "<style>div.sk-top-container {color: black;background-color: white;}div.sk-toggleable {background-color: white;}label.sk-toggleable__label {cursor: pointer;display: block;width: 100%;margin-bottom: 0;padding: 0.2em 0.3em;box-sizing: border-box;text-align: center;}div.sk-toggleable__content {max-height: 0;max-width: 0;overflow: hidden;text-align: left;background-color: #f0f8ff;}div.sk-toggleable__content pre {margin: 0.2em;color: black;border-radius: 0.25em;background-color: #f0f8ff;}input.sk-toggleable__control:checked~div.sk-toggleable__content {max-height: 200px;max-width: 100%;overflow: auto;}div.sk-estimator input.sk-toggleable__control:checked~label.sk-toggleable__label {background-color: #d4ebff;}div.sk-label input.sk-toggleable__control:checked~label.sk-toggleable__label {background-color: #d4ebff;}input.sk-hidden--visually {border: 0;clip: rect(1px 1px 1px 1px);clip: rect(1px, 1px, 1px, 1px);height: 1px;margin: -1px;overflow: hidden;padding: 0;position: absolute;width: 1px;}div.sk-estimator {font-family: monospace;background-color: #f0f8ff;margin: 0.25em 0.25em;border: 1px dotted black;border-radius: 0.25em;box-sizing: border-box;}div.sk-estimator:hover {background-color: #d4ebff;}div.sk-parallel-item::after {content: \"\";width: 100%;border-bottom: 1px solid gray;flex-grow: 1;}div.sk-label:hover label.sk-toggleable__label {background-color: #d4ebff;}div.sk-serial::before {content: \"\";position: absolute;border-left: 1px solid gray;box-sizing: border-box;top: 2em;bottom: 0;left: 50%;}div.sk-serial {display: flex;flex-direction: column;align-items: center;background-color: white;}div.sk-item {z-index: 1;}div.sk-parallel {display: flex;align-items: stretch;justify-content: center;background-color: white;}div.sk-parallel-item {display: flex;flex-direction: column;position: relative;background-color: white;}div.sk-parallel-item:first-child::after {align-self: flex-end;width: 50%;}div.sk-parallel-item:last-child::after {align-self: flex-start;width: 50%;}div.sk-parallel-item:only-child::after {width: 0;}div.sk-dashed-wrapped {border: 1px dashed gray;margin: 0.2em;box-sizing: border-box;padding-bottom: 0.1em;background-color: white;position: relative;}div.sk-label label {font-family: monospace;font-weight: bold;background-color: white;display: inline-block;line-height: 1.2em;}div.sk-label-container {position: relative;z-index: 2;text-align: center;}div.sk-container {display: inline-block;position: relative;}</style><div class=\"sk-top-container\"><div class=\"sk-container\"><div class=\"sk-item sk-dashed-wrapped\"><div class=\"sk-label-container\"><div class=\"sk-label sk-toggleable\"><input class=\"sk-toggleable__control sk-hidden--visually\" id=\"55c91c93-968d-4fa7-9a9a-1c5368d7d164\" type=\"checkbox\" ><label class=\"sk-toggleable__label\" for=\"55c91c93-968d-4fa7-9a9a-1c5368d7d164\">Pipeline</label><div class=\"sk-toggleable__content\"><pre>Pipeline(steps=[('scaler', StandardScaler()),\n",
       "                ('clf', RandomForestRegressor(random_state=51))])</pre></div></div></div><div class=\"sk-serial\"><div class=\"sk-item\"><div class=\"sk-estimator sk-toggleable\"><input class=\"sk-toggleable__control sk-hidden--visually\" id=\"e55a896f-6c3b-405d-a592-caa20cb031b8\" type=\"checkbox\" ><label class=\"sk-toggleable__label\" for=\"e55a896f-6c3b-405d-a592-caa20cb031b8\">StandardScaler</label><div class=\"sk-toggleable__content\"><pre>StandardScaler()</pre></div></div></div><div class=\"sk-item\"><div class=\"sk-estimator sk-toggleable\"><input class=\"sk-toggleable__control sk-hidden--visually\" id=\"99405332-db92-4282-b1a0-739bdcfc00a6\" type=\"checkbox\" ><label class=\"sk-toggleable__label\" for=\"99405332-db92-4282-b1a0-739bdcfc00a6\">RandomForestRegressor</label><div class=\"sk-toggleable__content\"><pre>RandomForestRegressor(random_state=51)</pre></div></div></div></div></div></div></div>"
      ],
      "text/plain": [
       "Pipeline(steps=[('scaler', StandardScaler()),\n",
       "                ('clf', RandomForestRegressor(random_state=51))])"
      ]
     },
     "execution_count": 10,
     "metadata": {},
     "output_type": "execute_result"
    }
   ],
   "source": [
    "# Setting for visual.\n",
    "set_config(display='diagram')\n",
    "\n",
    "little_pipeline"
   ]
  },
  {
   "cell_type": "code",
   "execution_count": 11,
   "metadata": {
    "ExecuteTime": {
     "end_time": "2021-12-03T00:16:36.021725Z",
     "start_time": "2021-12-03T00:16:35.838245Z"
    }
   },
   "outputs": [],
   "source": [
    "# Fit and predict.\n",
    "little_pipeline.fit(X_train_little, y_train)\n",
    "\n",
    "y_pred_train_little = little_pipeline.predict(X_train_little)\n",
    "y_pred_test_little = little_pipeline.predict(X_test_little)"
   ]
  },
  {
   "cell_type": "code",
   "execution_count": 12,
   "metadata": {
    "ExecuteTime": {
     "end_time": "2021-12-03T00:16:38.755837Z",
     "start_time": "2021-12-03T00:16:38.751987Z"
    }
   },
   "outputs": [
    {
     "name": "stdout",
     "output_type": "stream",
     "text": [
      "Train MAE:\n",
      "\t2.3301444868433525\n",
      "Test MAE:\n",
      "\t3.080961193638119\n"
     ]
    }
   ],
   "source": [
    "# Get metrics.\n",
    "print_mae(y_train, y_test, y_pred_train_little, y_pred_test_little)"
   ]
  },
  {
   "cell_type": "code",
   "execution_count": 13,
   "metadata": {
    "ExecuteTime": {
     "end_time": "2021-12-03T00:16:43.604648Z",
     "start_time": "2021-12-03T00:16:43.592122Z"
    }
   },
   "outputs": [
    {
     "data": {
      "text/html": [
       "<div>\n",
       "<style scoped>\n",
       "    .dataframe tbody tr th:only-of-type {\n",
       "        vertical-align: middle;\n",
       "    }\n",
       "\n",
       "    .dataframe tbody tr th {\n",
       "        vertical-align: top;\n",
       "    }\n",
       "\n",
       "    .dataframe thead th {\n",
       "        text-align: right;\n",
       "    }\n",
       "</style>\n",
       "<table border=\"1\" class=\"dataframe\">\n",
       "  <thead>\n",
       "    <tr style=\"text-align: right;\">\n",
       "      <th></th>\n",
       "      <th>cylinders</th>\n",
       "      <th>displacement</th>\n",
       "    </tr>\n",
       "  </thead>\n",
       "  <tbody>\n",
       "    <tr>\n",
       "      <th>338</th>\n",
       "      <td>4</td>\n",
       "      <td>135.0</td>\n",
       "    </tr>\n",
       "    <tr>\n",
       "      <th>188</th>\n",
       "      <td>8</td>\n",
       "      <td>318.0</td>\n",
       "    </tr>\n",
       "    <tr>\n",
       "      <th>45</th>\n",
       "      <td>6</td>\n",
       "      <td>258.0</td>\n",
       "    </tr>\n",
       "    <tr>\n",
       "      <th>299</th>\n",
       "      <td>4</td>\n",
       "      <td>141.0</td>\n",
       "    </tr>\n",
       "    <tr>\n",
       "      <th>273</th>\n",
       "      <td>4</td>\n",
       "      <td>119.0</td>\n",
       "    </tr>\n",
       "    <tr>\n",
       "      <th>...</th>\n",
       "      <td>...</td>\n",
       "      <td>...</td>\n",
       "    </tr>\n",
       "    <tr>\n",
       "      <th>222</th>\n",
       "      <td>8</td>\n",
       "      <td>260.0</td>\n",
       "    </tr>\n",
       "    <tr>\n",
       "      <th>16</th>\n",
       "      <td>6</td>\n",
       "      <td>199.0</td>\n",
       "    </tr>\n",
       "    <tr>\n",
       "      <th>197</th>\n",
       "      <td>4</td>\n",
       "      <td>90.0</td>\n",
       "    </tr>\n",
       "    <tr>\n",
       "      <th>224</th>\n",
       "      <td>8</td>\n",
       "      <td>302.0</td>\n",
       "    </tr>\n",
       "    <tr>\n",
       "      <th>57</th>\n",
       "      <td>4</td>\n",
       "      <td>113.0</td>\n",
       "    </tr>\n",
       "  </tbody>\n",
       "</table>\n",
       "<p>298 rows × 2 columns</p>\n",
       "</div>"
      ],
      "text/plain": [
       "     cylinders  displacement\n",
       "338          4         135.0\n",
       "188          8         318.0\n",
       "45           6         258.0\n",
       "299          4         141.0\n",
       "273          4         119.0\n",
       "..         ...           ...\n",
       "222          8         260.0\n",
       "16           6         199.0\n",
       "197          4          90.0\n",
       "224          8         302.0\n",
       "57           4         113.0\n",
       "\n",
       "[298 rows x 2 columns]"
      ]
     },
     "execution_count": 13,
     "metadata": {},
     "output_type": "execute_result"
    }
   ],
   "source": [
    "X_train_little"
   ]
  },
  {
   "cell_type": "code",
   "execution_count": 14,
   "metadata": {
    "ExecuteTime": {
     "end_time": "2021-12-03T00:16:47.313197Z",
     "start_time": "2021-12-03T00:16:47.306907Z"
    }
   },
   "outputs": [
    {
     "data": {
      "text/plain": [
       "338    27.2\n",
       "188    16.0\n",
       "45     18.0\n",
       "299    27.2\n",
       "273    23.9\n",
       "       ... \n",
       "222    17.0\n",
       "16     18.0\n",
       "197    29.0\n",
       "224    15.0\n",
       "57     24.0\n",
       "Name: mpg, Length: 298, dtype: float64"
      ]
     },
     "execution_count": 14,
     "metadata": {},
     "output_type": "execute_result"
    }
   ],
   "source": [
    "y_train"
   ]
  },
  {
   "cell_type": "code",
   "execution_count": 15,
   "metadata": {
    "ExecuteTime": {
     "end_time": "2021-12-03T00:16:51.186615Z",
     "start_time": "2021-12-03T00:16:51.175140Z"
    },
    "scrolled": true
   },
   "outputs": [
    {
     "data": {
      "text/plain": [
       "array([30.63626551, 15.1240219 , 17.39391169, 25.73222942, 30.30647262,\n",
       "       15.69745493, 26.61218522, 13.72526407, 26.63136667, 29.73188095,\n",
       "       33.16469896, 29.66072626, 24.10812183, 20.9357896 , 30.86667212,\n",
       "       23.60014515, 23.60014515, 20.26333333, 26.61218522, 22.9505    ,\n",
       "       19.49207934, 29.66072626, 15.1240219 , 25.60965952, 14.33986544,\n",
       "       30.86667212, 15.47490497, 29.66072626, 12.18499134, 31.50028308,\n",
       "       20.52796548, 15.69745493, 20.52796548, 24.38709524, 23.7775    ,\n",
       "       13.72526407, 15.1240219 , 29.66072626, 22.24960925, 19.49207934,\n",
       "       17.9994381 , 34.70081825, 14.16384524, 23.45240041, 15.47490497,\n",
       "       13.72526407, 33.72020238, 13.35495238, 19.51708333, 30.86667212,\n",
       "       23.45240041, 18.5512275 , 20.03896905, 23.45240041, 23.45240041,\n",
       "       29.92063135, 14.63544838, 23.60014515, 13.571     , 16.90205528,\n",
       "       30.30647262, 15.69745493, 22.79566667, 23.60014515, 30.30647262,\n",
       "       19.49207934, 18.5512275 , 13.72526407, 24.38709524, 20.9357896 ,\n",
       "       24.10812183, 13.35495238, 31.02103571, 15.47490497, 22.24960925,\n",
       "       26.61218522, 34.92242827, 27.45644464, 15.1240219 , 22.24960925,\n",
       "       34.70081825, 14.16384524, 26.61218522, 16.90205528, 15.1240219 ,\n",
       "       14.80420448, 32.18945238, 18.5512275 , 15.69745493, 25.60965952,\n",
       "       15.1240219 , 15.1240219 , 15.47490497, 23.45240041, 34.70081825,\n",
       "       15.69745493, 29.73188095, 17.9994381 , 15.1240219 , 15.69745493,\n",
       "       29.73188095, 22.021     , 14.16384524, 22.24960925, 19.49207934,\n",
       "       34.92242827, 18.5512275 , 24.98672659, 31.36883333, 19.49207934,\n",
       "       30.86667212, 30.63626551, 30.63626551, 31.50028308, 12.18499134,\n",
       "       22.24960925, 15.1240219 , 20.9357896 , 31.50028308, 30.86667212,\n",
       "       34.70081825, 13.72526407, 34.92242827, 29.66072626, 16.90205528,\n",
       "       29.66072626, 28.98052698, 14.80420448, 14.80420448, 22.24960925,\n",
       "       15.69745493, 20.52796548, 25.59332698, 13.72526407, 30.86667212,\n",
       "       30.86667212, 15.1240219 , 20.03896905, 36.64805   , 34.92242827,\n",
       "       22.24960925, 35.8563158 , 14.80420448, 30.63626551, 25.83809008,\n",
       "       17.39391169, 30.86667212, 20.52796548, 24.98672659, 30.86667212,\n",
       "       34.92242827, 19.49207934, 31.52313333, 16.90205528, 18.5512275 ,\n",
       "       34.92242827, 28.93945833, 30.86667212, 18.5512275 , 20.9357896 ,\n",
       "       31.02103571, 30.86667212, 25.6925    , 19.49207934, 13.72526407,\n",
       "       15.69745493, 20.9357896 , 15.69745493, 30.86667212, 23.60014515,\n",
       "       28.90842619, 14.80420448, 23.45240041, 15.69745493, 19.49207934,\n",
       "       17.82989881, 33.82378571, 34.92242827, 25.83809008, 30.30647262,\n",
       "       17.39391169, 15.47490497, 35.52818048, 26.61218522, 15.47490497,\n",
       "       16.90205528, 14.80420448, 17.82989881, 16.90205528, 28.98052698,\n",
       "       13.571     , 15.69745493, 17.82989881, 15.1240219 , 35.8563158 ,\n",
       "       29.66072626, 15.1240219 , 25.83809008, 30.86667212, 33.82378571,\n",
       "       35.52818048, 14.33986544, 30.86667212, 29.73188095, 13.72526407,\n",
       "       23.60014515, 15.1240219 , 35.52818048, 35.8563158 , 29.66072626,\n",
       "       30.86667212, 13.72526407, 16.90205528, 14.33986544, 22.021     ,\n",
       "       34.92242827, 16.90205528, 35.52818048, 29.66072626, 15.47490497,\n",
       "       15.69745493, 28.98052698, 29.66072626, 29.66072626, 16.90205528,\n",
       "       35.52818048, 23.60014515, 30.86667212, 21.44933333, 29.66072626,\n",
       "       20.71316667, 19.91090678, 26.61218522, 23.60014515, 22.24960925,\n",
       "       22.94203333, 13.35495238, 28.90842619, 36.64805   , 12.18499134,\n",
       "       16.90205528, 33.82378571, 14.33986544, 24.10812183, 31.02103571,\n",
       "       31.37555   , 22.9505    , 15.69745493, 15.69745493, 30.63626551,\n",
       "       30.86667212, 36.64805   , 15.47490497, 23.60014515, 29.48663333,\n",
       "       30.72648312, 20.9357896 , 29.66072626, 15.1240219 , 14.80420448,\n",
       "       34.92242827, 14.33986544, 24.10812183, 20.9357896 , 30.8028881 ,\n",
       "       20.52796548, 35.8563158 , 15.1240219 , 18.5512275 , 21.34      ,\n",
       "       30.30647262, 35.52818048, 28.98052698, 31.50028308, 29.66072626,\n",
       "       33.40433333, 23.60014515, 19.68459725, 34.92242827, 20.9357896 ,\n",
       "       13.80557143, 26.61218522, 25.27916667, 18.5512275 , 20.52796548,\n",
       "       25.83809008, 14.33986544, 34.70081825, 23.60014515, 19.49207934,\n",
       "       18.5512275 , 22.24960925, 24.98672659, 20.03896905, 19.68459725,\n",
       "       35.52818048, 15.47490497, 24.38709524])"
      ]
     },
     "execution_count": 15,
     "metadata": {},
     "output_type": "execute_result"
    }
   ],
   "source": [
    "y_pred_train_little"
   ]
  },
  {
   "cell_type": "markdown",
   "metadata": {},
   "source": [
    "## Long-Hand Workflow"
   ]
  },
  {
   "cell_type": "code",
   "execution_count": 16,
   "metadata": {
    "ExecuteTime": {
     "end_time": "2021-12-03T00:18:23.196546Z",
     "start_time": "2021-12-03T00:18:23.186720Z"
    }
   },
   "outputs": [
    {
     "name": "stdout",
     "output_type": "stream",
     "text": [
      "<class 'pandas.core.frame.DataFrame'>\n",
      "Int64Index: 298 entries, 338 to 57\n",
      "Data columns (total 7 columns):\n",
      " #   Column        Non-Null Count  Dtype  \n",
      "---  ------        --------------  -----  \n",
      " 0   cylinders     298 non-null    int64  \n",
      " 1   displacement  298 non-null    float64\n",
      " 2   horsepower    293 non-null    float64\n",
      " 3   weight        298 non-null    int64  \n",
      " 4   acceleration  298 non-null    float64\n",
      " 5   model_year    298 non-null    int64  \n",
      " 6   origin        298 non-null    object \n",
      "dtypes: float64(3), int64(3), object(1)\n",
      "memory usage: 18.6+ KB\n"
     ]
    }
   ],
   "source": [
    "X_train.info()"
   ]
  },
  {
   "cell_type": "code",
   "execution_count": 17,
   "metadata": {
    "ExecuteTime": {
     "end_time": "2021-12-03T00:18:46.772166Z",
     "start_time": "2021-12-03T00:18:46.759307Z"
    }
   },
   "outputs": [
    {
     "name": "stdout",
     "output_type": "stream",
     "text": [
      "<class 'pandas.core.frame.DataFrame'>\n",
      "Int64Index: 298 entries, 338 to 57\n",
      "Data columns (total 7 columns):\n",
      " #   Column        Non-Null Count  Dtype  \n",
      "---  ------        --------------  -----  \n",
      " 0   cylinders     298 non-null    object \n",
      " 1   displacement  298 non-null    float64\n",
      " 2   horsepower    293 non-null    float64\n",
      " 3   weight        298 non-null    int64  \n",
      " 4   acceleration  298 non-null    float64\n",
      " 5   model_year    298 non-null    int64  \n",
      " 6   origin        298 non-null    object \n",
      "dtypes: float64(3), int64(2), object(2)\n",
      "memory usage: 18.6+ KB\n"
     ]
    }
   ],
   "source": [
    "X_train['cylinders'] = X_train['cylinders'].astype('object')\n",
    "X_test['cylinders'] = X_test['cylinders'].astype('object')\n",
    "X_train.info()"
   ]
  },
  {
   "cell_type": "code",
   "execution_count": 18,
   "metadata": {
    "ExecuteTime": {
     "end_time": "2021-12-03T00:19:15.671279Z",
     "start_time": "2021-12-03T00:19:15.658135Z"
    }
   },
   "outputs": [
    {
     "name": "stdout",
     "output_type": "stream",
     "text": [
      "Numerical Columns:\n",
      "\t['displacement', 'horsepower', 'weight', 'acceleration', 'model_year']\n",
      "Categorical Columns:\n",
      "\t['cylinders', 'origin']\n",
      "\n",
      "No overlap!\n"
     ]
    }
   ],
   "source": [
    "# Splitting data into feature-types.\n",
    "numerical_cols = X_train.select_dtypes('number').columns.tolist()\n",
    "categorical_cols = X_train.select_dtypes('object').columns.tolist()\n",
    "\n",
    "print(f'Numerical Columns:\\n\\t{numerical_cols}')\n",
    "print(f'Categorical Columns:\\n\\t{categorical_cols}')\n",
    "print()\n",
    "\n",
    "# Sanity check.\n",
    "if len(numerical_cols + categorical_cols) == \\\n",
    "   len(set(numerical_cols + categorical_cols)):\n",
    "    print('No overlap!')\n",
    "else:\n",
    "    print('Something is wrong...')"
   ]
  },
  {
   "cell_type": "code",
   "execution_count": 19,
   "metadata": {
    "ExecuteTime": {
     "end_time": "2021-12-03T00:20:33.576322Z",
     "start_time": "2021-12-03T00:20:33.545665Z"
    }
   },
   "outputs": [
    {
     "data": {
      "text/plain": [
       "((298, 13), (100, 13))"
      ]
     },
     "execution_count": 19,
     "metadata": {},
     "output_type": "execute_result"
    }
   ],
   "source": [
    "# Create objects. (Only processing X-data.)\n",
    "imputer = SimpleImputer(missing_values=np.nan)\n",
    "scaler = StandardScaler()\n",
    "ohe = OneHotEncoder(handle_unknown='ignore', sparse=False)\n",
    "\n",
    "# Process data.\n",
    "X_train_num_processed = imputer.fit_transform(X_train[numerical_cols])\n",
    "X_test_num_processed = imputer.transform(X_test[numerical_cols])\n",
    "\n",
    "X_train_num_processed = scaler.fit_transform(X_train_num_processed)\n",
    "X_test_num_processed = scaler.transform(X_test_num_processed)\n",
    "\n",
    "X_train_cat_processed = ohe.fit_transform(X_train[categorical_cols])\n",
    "X_test_cat_processed = ohe.transform(X_test[categorical_cols])\n",
    "\n",
    "# Join data back together to look at.\n",
    "X_train_processed_df = pd.DataFrame(\n",
    "    np.concatenate([X_train_num_processed, X_train_cat_processed], axis=1),\n",
    "    columns=numerical_cols + ohe.get_feature_names().tolist())\n",
    "X_test_processed_df = pd.DataFrame(\n",
    "    np.concatenate([X_test_num_processed, X_test_cat_processed], axis=1),\n",
    "    columns=numerical_cols + ohe.get_feature_names().tolist())\n",
    "\n",
    "# Sanity check.\n",
    "X_train_processed_df.shape, X_test_processed_df.shape"
   ]
  },
  {
   "cell_type": "code",
   "execution_count": 20,
   "metadata": {
    "ExecuteTime": {
     "end_time": "2021-12-03T00:20:39.985996Z",
     "start_time": "2021-12-03T00:20:39.963600Z"
    }
   },
   "outputs": [
    {
     "data": {
      "text/html": [
       "<div>\n",
       "<style scoped>\n",
       "    .dataframe tbody tr th:only-of-type {\n",
       "        vertical-align: middle;\n",
       "    }\n",
       "\n",
       "    .dataframe tbody tr th {\n",
       "        vertical-align: top;\n",
       "    }\n",
       "\n",
       "    .dataframe thead th {\n",
       "        text-align: right;\n",
       "    }\n",
       "</style>\n",
       "<table border=\"1\" class=\"dataframe\">\n",
       "  <thead>\n",
       "    <tr style=\"text-align: right;\">\n",
       "      <th></th>\n",
       "      <th>displacement</th>\n",
       "      <th>horsepower</th>\n",
       "      <th>weight</th>\n",
       "      <th>acceleration</th>\n",
       "      <th>model_year</th>\n",
       "      <th>x0_3</th>\n",
       "      <th>x0_4</th>\n",
       "      <th>x0_5</th>\n",
       "      <th>x0_6</th>\n",
       "      <th>x0_8</th>\n",
       "      <th>x1_europe</th>\n",
       "      <th>x1_japan</th>\n",
       "      <th>x1_usa</th>\n",
       "    </tr>\n",
       "  </thead>\n",
       "  <tbody>\n",
       "    <tr>\n",
       "      <th>0</th>\n",
       "      <td>-0.567179</td>\n",
       "      <td>-0.556096</td>\n",
       "      <td>-0.581727</td>\n",
       "      <td>0.050686</td>\n",
       "      <td>1.308270</td>\n",
       "      <td>0.0</td>\n",
       "      <td>1.0</td>\n",
       "      <td>0.0</td>\n",
       "      <td>0.0</td>\n",
       "      <td>0.0</td>\n",
       "      <td>0.0</td>\n",
       "      <td>0.0</td>\n",
       "      <td>1.0</td>\n",
       "    </tr>\n",
       "    <tr>\n",
       "      <th>1</th>\n",
       "      <td>1.211255</td>\n",
       "      <td>1.184281</td>\n",
       "      <td>1.437699</td>\n",
       "      <td>-0.946427</td>\n",
       "      <td>-0.017800</td>\n",
       "      <td>0.0</td>\n",
       "      <td>0.0</td>\n",
       "      <td>0.0</td>\n",
       "      <td>0.0</td>\n",
       "      <td>1.0</td>\n",
       "      <td>0.0</td>\n",
       "      <td>0.0</td>\n",
       "      <td>1.0</td>\n",
       "    </tr>\n",
       "    <tr>\n",
       "      <th>2</th>\n",
       "      <td>0.628162</td>\n",
       "      <td>0.129507</td>\n",
       "      <td>-0.021039</td>\n",
       "      <td>-0.761777</td>\n",
       "      <td>-1.343870</td>\n",
       "      <td>0.0</td>\n",
       "      <td>0.0</td>\n",
       "      <td>0.0</td>\n",
       "      <td>1.0</td>\n",
       "      <td>0.0</td>\n",
       "      <td>0.0</td>\n",
       "      <td>0.0</td>\n",
       "      <td>1.0</td>\n",
       "    </tr>\n",
       "    <tr>\n",
       "      <th>3</th>\n",
       "      <td>-0.508869</td>\n",
       "      <td>-0.898898</td>\n",
       "      <td>0.249801</td>\n",
       "      <td>3.411327</td>\n",
       "      <td>0.777842</td>\n",
       "      <td>0.0</td>\n",
       "      <td>1.0</td>\n",
       "      <td>0.0</td>\n",
       "      <td>0.0</td>\n",
       "      <td>0.0</td>\n",
       "      <td>1.0</td>\n",
       "      <td>0.0</td>\n",
       "      <td>0.0</td>\n",
       "    </tr>\n",
       "    <tr>\n",
       "      <th>4</th>\n",
       "      <td>-0.722670</td>\n",
       "      <td>-0.213295</td>\n",
       "      <td>-0.682698</td>\n",
       "      <td>-0.244755</td>\n",
       "      <td>0.512628</td>\n",
       "      <td>0.0</td>\n",
       "      <td>1.0</td>\n",
       "      <td>0.0</td>\n",
       "      <td>0.0</td>\n",
       "      <td>0.0</td>\n",
       "      <td>0.0</td>\n",
       "      <td>1.0</td>\n",
       "      <td>0.0</td>\n",
       "    </tr>\n",
       "  </tbody>\n",
       "</table>\n",
       "</div>"
      ],
      "text/plain": [
       "   displacement  horsepower    weight  acceleration  model_year  x0_3  x0_4  \\\n",
       "0     -0.567179   -0.556096 -0.581727      0.050686    1.308270   0.0   1.0   \n",
       "1      1.211255    1.184281  1.437699     -0.946427   -0.017800   0.0   0.0   \n",
       "2      0.628162    0.129507 -0.021039     -0.761777   -1.343870   0.0   0.0   \n",
       "3     -0.508869   -0.898898  0.249801      3.411327    0.777842   0.0   1.0   \n",
       "4     -0.722670   -0.213295 -0.682698     -0.244755    0.512628   0.0   1.0   \n",
       "\n",
       "   x0_5  x0_6  x0_8  x1_europe  x1_japan  x1_usa  \n",
       "0   0.0   0.0   0.0        0.0       0.0     1.0  \n",
       "1   0.0   0.0   1.0        0.0       0.0     1.0  \n",
       "2   0.0   1.0   0.0        0.0       0.0     1.0  \n",
       "3   0.0   0.0   0.0        1.0       0.0     0.0  \n",
       "4   0.0   0.0   0.0        0.0       1.0     0.0  "
      ]
     },
     "execution_count": 20,
     "metadata": {},
     "output_type": "execute_result"
    }
   ],
   "source": [
    "X_train_processed_df.head()"
   ]
  },
  {
   "cell_type": "code",
   "execution_count": 21,
   "metadata": {
    "ExecuteTime": {
     "end_time": "2021-12-03T00:22:42.850414Z",
     "start_time": "2021-12-03T00:22:42.628195Z"
    }
   },
   "outputs": [
    {
     "data": {
      "text/html": [
       "<style>div.sk-top-container {color: black;background-color: white;}div.sk-toggleable {background-color: white;}label.sk-toggleable__label {cursor: pointer;display: block;width: 100%;margin-bottom: 0;padding: 0.2em 0.3em;box-sizing: border-box;text-align: center;}div.sk-toggleable__content {max-height: 0;max-width: 0;overflow: hidden;text-align: left;background-color: #f0f8ff;}div.sk-toggleable__content pre {margin: 0.2em;color: black;border-radius: 0.25em;background-color: #f0f8ff;}input.sk-toggleable__control:checked~div.sk-toggleable__content {max-height: 200px;max-width: 100%;overflow: auto;}div.sk-estimator input.sk-toggleable__control:checked~label.sk-toggleable__label {background-color: #d4ebff;}div.sk-label input.sk-toggleable__control:checked~label.sk-toggleable__label {background-color: #d4ebff;}input.sk-hidden--visually {border: 0;clip: rect(1px 1px 1px 1px);clip: rect(1px, 1px, 1px, 1px);height: 1px;margin: -1px;overflow: hidden;padding: 0;position: absolute;width: 1px;}div.sk-estimator {font-family: monospace;background-color: #f0f8ff;margin: 0.25em 0.25em;border: 1px dotted black;border-radius: 0.25em;box-sizing: border-box;}div.sk-estimator:hover {background-color: #d4ebff;}div.sk-parallel-item::after {content: \"\";width: 100%;border-bottom: 1px solid gray;flex-grow: 1;}div.sk-label:hover label.sk-toggleable__label {background-color: #d4ebff;}div.sk-serial::before {content: \"\";position: absolute;border-left: 1px solid gray;box-sizing: border-box;top: 2em;bottom: 0;left: 50%;}div.sk-serial {display: flex;flex-direction: column;align-items: center;background-color: white;}div.sk-item {z-index: 1;}div.sk-parallel {display: flex;align-items: stretch;justify-content: center;background-color: white;}div.sk-parallel-item {display: flex;flex-direction: column;position: relative;background-color: white;}div.sk-parallel-item:first-child::after {align-self: flex-end;width: 50%;}div.sk-parallel-item:last-child::after {align-self: flex-start;width: 50%;}div.sk-parallel-item:only-child::after {width: 0;}div.sk-dashed-wrapped {border: 1px dashed gray;margin: 0.2em;box-sizing: border-box;padding-bottom: 0.1em;background-color: white;position: relative;}div.sk-label label {font-family: monospace;font-weight: bold;background-color: white;display: inline-block;line-height: 1.2em;}div.sk-label-container {position: relative;z-index: 2;text-align: center;}div.sk-container {display: inline-block;position: relative;}</style><div class=\"sk-top-container\"><div class=\"sk-container\"><div class=\"sk-item\"><div class=\"sk-estimator sk-toggleable\"><input class=\"sk-toggleable__control sk-hidden--visually\" id=\"0a195008-a21f-4272-afd2-e74941d32f58\" type=\"checkbox\" checked><label class=\"sk-toggleable__label\" for=\"0a195008-a21f-4272-afd2-e74941d32f58\">RandomForestRegressor</label><div class=\"sk-toggleable__content\"><pre>RandomForestRegressor(random_state=51)</pre></div></div></div></div></div>"
      ],
      "text/plain": [
       "RandomForestRegressor(random_state=51)"
      ]
     },
     "execution_count": 21,
     "metadata": {},
     "output_type": "execute_result"
    }
   ],
   "source": [
    "# Create and train model.\n",
    "clf = RandomForestRegressor(random_state=51)\n",
    "clf.fit(X_train_processed_df, y_train)"
   ]
  },
  {
   "cell_type": "code",
   "execution_count": 22,
   "metadata": {
    "ExecuteTime": {
     "end_time": "2021-12-03T00:22:47.612401Z",
     "start_time": "2021-12-03T00:22:47.578314Z"
    }
   },
   "outputs": [
    {
     "name": "stdout",
     "output_type": "stream",
     "text": [
      "Train MAE:\n",
      "\t0.7030771812080531\n",
      "Test MAE:\n",
      "\t1.9541100000000002\n"
     ]
    }
   ],
   "source": [
    "# Check scores.\n",
    "y_pred_train = clf.predict(X_train_processed_df)\n",
    "y_pred_test = clf.predict(X_test_processed_df)\n",
    "\n",
    "print(f'Train MAE:\\n\\t{mean_absolute_error(y_train, y_pred_train)}')\n",
    "print(f'Test MAE:\\n\\t{mean_absolute_error(y_test, y_pred_test)}')"
   ]
  },
  {
   "cell_type": "markdown",
   "metadata": {},
   "source": [
    "## Using a Pipeline"
   ]
  },
  {
   "cell_type": "code",
   "execution_count": 23,
   "metadata": {
    "ExecuteTime": {
     "end_time": "2021-12-03T00:25:06.868518Z",
     "start_time": "2021-12-03T00:25:06.860557Z"
    }
   },
   "outputs": [],
   "source": [
    "from sklearn.compose import ColumnTransformer"
   ]
  },
  {
   "cell_type": "code",
   "execution_count": 24,
   "metadata": {
    "ExecuteTime": {
     "end_time": "2021-12-03T00:27:30.778579Z",
     "start_time": "2021-12-03T00:27:30.710197Z"
    }
   },
   "outputs": [
    {
     "data": {
      "text/html": [
       "<style>div.sk-top-container {color: black;background-color: white;}div.sk-toggleable {background-color: white;}label.sk-toggleable__label {cursor: pointer;display: block;width: 100%;margin-bottom: 0;padding: 0.2em 0.3em;box-sizing: border-box;text-align: center;}div.sk-toggleable__content {max-height: 0;max-width: 0;overflow: hidden;text-align: left;background-color: #f0f8ff;}div.sk-toggleable__content pre {margin: 0.2em;color: black;border-radius: 0.25em;background-color: #f0f8ff;}input.sk-toggleable__control:checked~div.sk-toggleable__content {max-height: 200px;max-width: 100%;overflow: auto;}div.sk-estimator input.sk-toggleable__control:checked~label.sk-toggleable__label {background-color: #d4ebff;}div.sk-label input.sk-toggleable__control:checked~label.sk-toggleable__label {background-color: #d4ebff;}input.sk-hidden--visually {border: 0;clip: rect(1px 1px 1px 1px);clip: rect(1px, 1px, 1px, 1px);height: 1px;margin: -1px;overflow: hidden;padding: 0;position: absolute;width: 1px;}div.sk-estimator {font-family: monospace;background-color: #f0f8ff;margin: 0.25em 0.25em;border: 1px dotted black;border-radius: 0.25em;box-sizing: border-box;}div.sk-estimator:hover {background-color: #d4ebff;}div.sk-parallel-item::after {content: \"\";width: 100%;border-bottom: 1px solid gray;flex-grow: 1;}div.sk-label:hover label.sk-toggleable__label {background-color: #d4ebff;}div.sk-serial::before {content: \"\";position: absolute;border-left: 1px solid gray;box-sizing: border-box;top: 2em;bottom: 0;left: 50%;}div.sk-serial {display: flex;flex-direction: column;align-items: center;background-color: white;}div.sk-item {z-index: 1;}div.sk-parallel {display: flex;align-items: stretch;justify-content: center;background-color: white;}div.sk-parallel-item {display: flex;flex-direction: column;position: relative;background-color: white;}div.sk-parallel-item:first-child::after {align-self: flex-end;width: 50%;}div.sk-parallel-item:last-child::after {align-self: flex-start;width: 50%;}div.sk-parallel-item:only-child::after {width: 0;}div.sk-dashed-wrapped {border: 1px dashed gray;margin: 0.2em;box-sizing: border-box;padding-bottom: 0.1em;background-color: white;position: relative;}div.sk-label label {font-family: monospace;font-weight: bold;background-color: white;display: inline-block;line-height: 1.2em;}div.sk-label-container {position: relative;z-index: 2;text-align: center;}div.sk-container {display: inline-block;position: relative;}</style><div class=\"sk-top-container\"><div class=\"sk-container\"><div class=\"sk-item sk-dashed-wrapped\"><div class=\"sk-label-container\"><div class=\"sk-label sk-toggleable\"><input class=\"sk-toggleable__control sk-hidden--visually\" id=\"93483930-6e86-4e83-b770-edf12c6e9275\" type=\"checkbox\" ><label class=\"sk-toggleable__label\" for=\"93483930-6e86-4e83-b770-edf12c6e9275\">Pipeline</label><div class=\"sk-toggleable__content\"><pre>Pipeline(steps=[('ColumnTransformer',\n",
       "                 ColumnTransformer(transformers=[('num',\n",
       "                                                  Pipeline(steps=[('imputer',\n",
       "                                                                   SimpleImputer()),\n",
       "                                                                  ('scaler',\n",
       "                                                                   StandardScaler())]),\n",
       "                                                  ['displacement', 'horsepower',\n",
       "                                                   'weight', 'acceleration',\n",
       "                                                   'model_year']),\n",
       "                                                 ('cat',\n",
       "                                                  Pipeline(steps=[('ohe',\n",
       "                                                                   OneHotEncoder(handle_unknown='ignore'))]),\n",
       "                                                  ['cylinders', 'origin'])])),\n",
       "                ('Classifier', RandomForestRegressor(random_state=51))])</pre></div></div></div><div class=\"sk-serial\"><div class=\"sk-item sk-dashed-wrapped\"><div class=\"sk-label-container\"><div class=\"sk-label sk-toggleable\"><input class=\"sk-toggleable__control sk-hidden--visually\" id=\"28806a06-1a06-4370-ae7f-653b47d03800\" type=\"checkbox\" ><label class=\"sk-toggleable__label\" for=\"28806a06-1a06-4370-ae7f-653b47d03800\">ColumnTransformer: ColumnTransformer</label><div class=\"sk-toggleable__content\"><pre>ColumnTransformer(transformers=[('num',\n",
       "                                 Pipeline(steps=[('imputer', SimpleImputer()),\n",
       "                                                 ('scaler', StandardScaler())]),\n",
       "                                 ['displacement', 'horsepower', 'weight',\n",
       "                                  'acceleration', 'model_year']),\n",
       "                                ('cat',\n",
       "                                 Pipeline(steps=[('ohe',\n",
       "                                                  OneHotEncoder(handle_unknown='ignore'))]),\n",
       "                                 ['cylinders', 'origin'])])</pre></div></div></div><div class=\"sk-parallel\"><div class=\"sk-parallel-item\"><div class=\"sk-item\"><div class=\"sk-label-container\"><div class=\"sk-label sk-toggleable\"><input class=\"sk-toggleable__control sk-hidden--visually\" id=\"29afbb6f-2132-456d-ba8f-8156b3a4996c\" type=\"checkbox\" ><label class=\"sk-toggleable__label\" for=\"29afbb6f-2132-456d-ba8f-8156b3a4996c\">num</label><div class=\"sk-toggleable__content\"><pre>['displacement', 'horsepower', 'weight', 'acceleration', 'model_year']</pre></div></div></div><div class=\"sk-serial\"><div class=\"sk-item\"><div class=\"sk-serial\"><div class=\"sk-item\"><div class=\"sk-estimator sk-toggleable\"><input class=\"sk-toggleable__control sk-hidden--visually\" id=\"6d59b492-9362-4ffb-b614-323508a8b36e\" type=\"checkbox\" ><label class=\"sk-toggleable__label\" for=\"6d59b492-9362-4ffb-b614-323508a8b36e\">SimpleImputer</label><div class=\"sk-toggleable__content\"><pre>SimpleImputer()</pre></div></div></div><div class=\"sk-item\"><div class=\"sk-estimator sk-toggleable\"><input class=\"sk-toggleable__control sk-hidden--visually\" id=\"1665ec77-5890-47e4-b395-1b013cfdb94a\" type=\"checkbox\" ><label class=\"sk-toggleable__label\" for=\"1665ec77-5890-47e4-b395-1b013cfdb94a\">StandardScaler</label><div class=\"sk-toggleable__content\"><pre>StandardScaler()</pre></div></div></div></div></div></div></div></div><div class=\"sk-parallel-item\"><div class=\"sk-item\"><div class=\"sk-label-container\"><div class=\"sk-label sk-toggleable\"><input class=\"sk-toggleable__control sk-hidden--visually\" id=\"3b734993-329a-45b6-9954-f8aaca3a0f08\" type=\"checkbox\" ><label class=\"sk-toggleable__label\" for=\"3b734993-329a-45b6-9954-f8aaca3a0f08\">cat</label><div class=\"sk-toggleable__content\"><pre>['cylinders', 'origin']</pre></div></div></div><div class=\"sk-serial\"><div class=\"sk-item\"><div class=\"sk-serial\"><div class=\"sk-item\"><div class=\"sk-estimator sk-toggleable\"><input class=\"sk-toggleable__control sk-hidden--visually\" id=\"8e1df3d8-ceb6-45c2-90cb-7c1d6e7f356e\" type=\"checkbox\" ><label class=\"sk-toggleable__label\" for=\"8e1df3d8-ceb6-45c2-90cb-7c1d6e7f356e\">OneHotEncoder</label><div class=\"sk-toggleable__content\"><pre>OneHotEncoder(handle_unknown='ignore')</pre></div></div></div></div></div></div></div></div></div></div><div class=\"sk-item\"><div class=\"sk-estimator sk-toggleable\"><input class=\"sk-toggleable__control sk-hidden--visually\" id=\"b9933077-0e5c-4742-9bbd-7b529ac69b6e\" type=\"checkbox\" ><label class=\"sk-toggleable__label\" for=\"b9933077-0e5c-4742-9bbd-7b529ac69b6e\">RandomForestRegressor</label><div class=\"sk-toggleable__content\"><pre>RandomForestRegressor(random_state=51)</pre></div></div></div></div></div></div></div>"
      ],
      "text/plain": [
       "Pipeline(steps=[('ColumnTransformer',\n",
       "                 ColumnTransformer(transformers=[('num',\n",
       "                                                  Pipeline(steps=[('imputer',\n",
       "                                                                   SimpleImputer()),\n",
       "                                                                  ('scaler',\n",
       "                                                                   StandardScaler())]),\n",
       "                                                  ['displacement', 'horsepower',\n",
       "                                                   'weight', 'acceleration',\n",
       "                                                   'model_year']),\n",
       "                                                 ('cat',\n",
       "                                                  Pipeline(steps=[('ohe',\n",
       "                                                                   OneHotEncoder(handle_unknown='ignore'))]),\n",
       "                                                  ['cylinders', 'origin'])])),\n",
       "                ('Classifier', RandomForestRegressor(random_state=51))])"
      ]
     },
     "execution_count": 24,
     "metadata": {},
     "output_type": "execute_result"
    }
   ],
   "source": [
    "# Same process, using pipelines.\n",
    "num_pipe = Pipeline(steps=[\n",
    "    ('imputer', SimpleImputer(missing_values=np.nan)),\n",
    "    ('scaler', StandardScaler())\n",
    "])\n",
    "\n",
    "cat_pipe = Pipeline(steps=[\n",
    "    ('ohe', OneHotEncoder(handle_unknown='ignore'))\n",
    "])\n",
    "\n",
    "# Combine into ColumnTransformer\n",
    "transformer = ColumnTransformer(transformers=[\n",
    "    ('num', num_pipe, numerical_cols),\n",
    "    ('cat', cat_pipe, categorical_cols) # ('ohe', OneHotEncoder(handle_unknown='ignore'), categorical_cols)\n",
    "])\n",
    "\n",
    "# Master Pipeline\n",
    "master_pipe = Pipeline(steps=[\n",
    "    ('ColumnTransformer', transformer),\n",
    "    ('Classifier', RandomForestRegressor(random_state=51))\n",
    "])\n",
    "master_pipe"
   ]
  },
  {
   "cell_type": "code",
   "execution_count": 25,
   "metadata": {
    "ExecuteTime": {
     "end_time": "2021-12-03T00:29:36.237849Z",
     "start_time": "2021-12-03T00:29:35.982294Z"
    },
    "scrolled": true
   },
   "outputs": [
    {
     "data": {
      "text/plain": [
       "array([27.839, 15.58 , 18.434, 27.002, 25.135, 13.14 , 27.186, 12.12 ,\n",
       "       23.89 , 32.559, 34.012, 22.68 , 24.929, 20.293, 30.865, 22.94 ,\n",
       "       26.035, 20.88 , 24.287, 24.28 , 19.17 , 29.611, 14.63 , 27.769,\n",
       "       14.802, 25.68 , 19.529, 33.49 , 10.71 , 34.407, 17.92 , 14.99 ,\n",
       "       21.5  , 24.932, 23.376, 13.125, 18.92 , 26.791, 24.054, 19.654,\n",
       "       17.076, 37.494, 13.885, 22.442, 14.12 , 11.62 , 36.177, 14.652,\n",
       "       19.923, 25.815, 24.063, 19.641, 23.583, 20.048, 31.034, 29.001,\n",
       "       14.602, 24.704, 12.06 , 18.605, 27.529, 13.86 , 20.456, 24.9  ,\n",
       "       31.658, 21.265, 18.466, 13.57 , 24.187, 23.096, 22.485, 13.65 ,\n",
       "       27.49 , 19.013, 22.56 , 23.539, 36.521, 26.535, 11.57 , 23.582,\n",
       "       30.235, 17.041, 24.637, 16.325, 14.789, 14.005, 34.985, 19.101,\n",
       "       15.445, 24.656, 13.89 , 13.96 , 16.875, 20.828, 35.826, 20.828,\n",
       "       27.8  , 17.954, 13.702, 13.16 , 30.072, 20.665, 10.88 , 27.96 ,\n",
       "       18.23 , 32.725, 17.784, 28.714, 31.73 , 19.09 , 31.685, 32.491,\n",
       "       33.659, 33.204, 13.33 , 21.232, 17.077, 21.15 , 23.715, 35.829,\n",
       "       34.845, 15.814, 33.824, 42.786, 17.807, 26.65 , 25.108, 14.844,\n",
       "       15.832, 19.449, 25.257, 20.272, 24.413, 13.175, 31.885, 35.378,\n",
       "       17.615, 19.534, 36.676, 41.639, 18.576, 39.226, 14.105, 30.902,\n",
       "       27.183, 16.276, 32.637, 21.975, 17.219, 35.954, 35.574, 24.168,\n",
       "       31.565, 18.353, 17.036, 26.63 , 24.605, 30.557, 18.843, 20.7  ,\n",
       "       34.797, 31.649, 27.33 , 19.001, 12.59 , 13.4  , 20.65 , 12.72 ,\n",
       "       26.025, 24.837, 27.003, 13.07 , 22.995, 15.671, 18.37 , 16.775,\n",
       "       35.1  , 32.24 , 23.627, 34.605, 18.258, 13.935, 41.926, 26.021,\n",
       "       14.462, 18.155, 16.916, 17.544, 15.784, 32.621, 14.59 , 16.537,\n",
       "       18.849, 13.625, 38.705, 35.374, 17.12 , 27.777, 26.   , 37.566,\n",
       "       28.83 , 14.1  , 27.815, 28.492, 15.015, 21.75 , 14.1  , 28.2  ,\n",
       "       32.254, 28.915, 35.129, 15.135, 16.045, 16.11 , 25.906, 33.972,\n",
       "       16.179, 26.315, 30.275, 13.3  , 14.935, 23.155, 26.711, 27.29 ,\n",
       "       18.551, 40.732, 26.398, 39.198, 21.257, 30.477, 18.76 , 19.802,\n",
       "       31.676, 24.064, 22.403, 21.568, 12.05 , 29.697, 38.189, 12.94 ,\n",
       "       15.92 , 32.152, 16.31 , 24.57 , 30.295, 29.02 , 21.576, 12.29 ,\n",
       "       13.495, 28.751, 27.75 , 35.011, 15.27 , 21.385, 28.892, 30.719,\n",
       "       20.816, 27.15 , 15.095, 16.114, 35.711, 15.921, 25.811, 20.3  ,\n",
       "       31.334, 19.205, 28.365, 14.09 , 21.207, 20.655, 29.926, 43.673,\n",
       "       33.693, 35.611, 28.61 , 33.48 , 23.496, 20.745, 36.824, 21.031,\n",
       "       14.06 , 26.862, 25.613, 18.076, 20.303, 26.974,  9.78 , 34.873,\n",
       "       20.725, 18.24 , 19.313, 23.311, 25.615, 17.253, 19.002, 28.885,\n",
       "       15.456, 24.309])"
      ]
     },
     "execution_count": 25,
     "metadata": {},
     "output_type": "execute_result"
    }
   ],
   "source": [
    "# Using the original, untransformed data!\n",
    "master_pipe.fit(X_train, y_train)\n",
    "master_pipe.predict(X_train)"
   ]
  },
  {
   "cell_type": "code",
   "execution_count": 27,
   "metadata": {
    "ExecuteTime": {
     "end_time": "2021-12-03T00:30:30.652168Z",
     "start_time": "2021-12-03T00:30:30.627419Z"
    }
   },
   "outputs": [
    {
     "data": {
      "text/html": [
       "<div>\n",
       "<style scoped>\n",
       "    .dataframe tbody tr th:only-of-type {\n",
       "        vertical-align: middle;\n",
       "    }\n",
       "\n",
       "    .dataframe tbody tr th {\n",
       "        vertical-align: top;\n",
       "    }\n",
       "\n",
       "    .dataframe thead th {\n",
       "        text-align: right;\n",
       "    }\n",
       "</style>\n",
       "<table border=\"1\" class=\"dataframe\">\n",
       "  <thead>\n",
       "    <tr style=\"text-align: right;\">\n",
       "      <th></th>\n",
       "      <th>cylinders</th>\n",
       "      <th>displacement</th>\n",
       "      <th>horsepower</th>\n",
       "      <th>weight</th>\n",
       "      <th>acceleration</th>\n",
       "      <th>model_year</th>\n",
       "      <th>origin</th>\n",
       "    </tr>\n",
       "  </thead>\n",
       "  <tbody>\n",
       "    <tr>\n",
       "      <th>338</th>\n",
       "      <td>4</td>\n",
       "      <td>135.0</td>\n",
       "      <td>84.0</td>\n",
       "      <td>2490</td>\n",
       "      <td>15.7</td>\n",
       "      <td>81</td>\n",
       "      <td>usa</td>\n",
       "    </tr>\n",
       "    <tr>\n",
       "      <th>188</th>\n",
       "      <td>8</td>\n",
       "      <td>318.0</td>\n",
       "      <td>150.0</td>\n",
       "      <td>4190</td>\n",
       "      <td>13.0</td>\n",
       "      <td>76</td>\n",
       "      <td>usa</td>\n",
       "    </tr>\n",
       "    <tr>\n",
       "      <th>45</th>\n",
       "      <td>6</td>\n",
       "      <td>258.0</td>\n",
       "      <td>110.0</td>\n",
       "      <td>2962</td>\n",
       "      <td>13.5</td>\n",
       "      <td>71</td>\n",
       "      <td>usa</td>\n",
       "    </tr>\n",
       "    <tr>\n",
       "      <th>299</th>\n",
       "      <td>4</td>\n",
       "      <td>141.0</td>\n",
       "      <td>71.0</td>\n",
       "      <td>3190</td>\n",
       "      <td>24.8</td>\n",
       "      <td>79</td>\n",
       "      <td>europe</td>\n",
       "    </tr>\n",
       "    <tr>\n",
       "      <th>273</th>\n",
       "      <td>4</td>\n",
       "      <td>119.0</td>\n",
       "      <td>97.0</td>\n",
       "      <td>2405</td>\n",
       "      <td>14.9</td>\n",
       "      <td>78</td>\n",
       "      <td>japan</td>\n",
       "    </tr>\n",
       "    <tr>\n",
       "      <th>...</th>\n",
       "      <td>...</td>\n",
       "      <td>...</td>\n",
       "      <td>...</td>\n",
       "      <td>...</td>\n",
       "      <td>...</td>\n",
       "      <td>...</td>\n",
       "      <td>...</td>\n",
       "    </tr>\n",
       "    <tr>\n",
       "      <th>222</th>\n",
       "      <td>8</td>\n",
       "      <td>260.0</td>\n",
       "      <td>110.0</td>\n",
       "      <td>4060</td>\n",
       "      <td>19.0</td>\n",
       "      <td>77</td>\n",
       "      <td>usa</td>\n",
       "    </tr>\n",
       "    <tr>\n",
       "      <th>16</th>\n",
       "      <td>6</td>\n",
       "      <td>199.0</td>\n",
       "      <td>97.0</td>\n",
       "      <td>2774</td>\n",
       "      <td>15.5</td>\n",
       "      <td>70</td>\n",
       "      <td>usa</td>\n",
       "    </tr>\n",
       "    <tr>\n",
       "      <th>197</th>\n",
       "      <td>4</td>\n",
       "      <td>90.0</td>\n",
       "      <td>70.0</td>\n",
       "      <td>1937</td>\n",
       "      <td>14.2</td>\n",
       "      <td>76</td>\n",
       "      <td>europe</td>\n",
       "    </tr>\n",
       "    <tr>\n",
       "      <th>224</th>\n",
       "      <td>8</td>\n",
       "      <td>302.0</td>\n",
       "      <td>130.0</td>\n",
       "      <td>4295</td>\n",
       "      <td>14.9</td>\n",
       "      <td>77</td>\n",
       "      <td>usa</td>\n",
       "    </tr>\n",
       "    <tr>\n",
       "      <th>57</th>\n",
       "      <td>4</td>\n",
       "      <td>113.0</td>\n",
       "      <td>95.0</td>\n",
       "      <td>2278</td>\n",
       "      <td>15.5</td>\n",
       "      <td>72</td>\n",
       "      <td>japan</td>\n",
       "    </tr>\n",
       "  </tbody>\n",
       "</table>\n",
       "<p>298 rows × 7 columns</p>\n",
       "</div>"
      ],
      "text/plain": [
       "    cylinders  displacement  horsepower  weight  acceleration  model_year  \\\n",
       "338         4         135.0        84.0    2490          15.7          81   \n",
       "188         8         318.0       150.0    4190          13.0          76   \n",
       "45          6         258.0       110.0    2962          13.5          71   \n",
       "299         4         141.0        71.0    3190          24.8          79   \n",
       "273         4         119.0        97.0    2405          14.9          78   \n",
       "..        ...           ...         ...     ...           ...         ...   \n",
       "222         8         260.0       110.0    4060          19.0          77   \n",
       "16          6         199.0        97.0    2774          15.5          70   \n",
       "197         4          90.0        70.0    1937          14.2          76   \n",
       "224         8         302.0       130.0    4295          14.9          77   \n",
       "57          4         113.0        95.0    2278          15.5          72   \n",
       "\n",
       "     origin  \n",
       "338     usa  \n",
       "188     usa  \n",
       "45      usa  \n",
       "299  europe  \n",
       "273   japan  \n",
       "..      ...  \n",
       "222     usa  \n",
       "16      usa  \n",
       "197  europe  \n",
       "224     usa  \n",
       "57    japan  \n",
       "\n",
       "[298 rows x 7 columns]"
      ]
     },
     "execution_count": 27,
     "metadata": {},
     "output_type": "execute_result"
    }
   ],
   "source": [
    "X_train"
   ]
  },
  {
   "cell_type": "code",
   "execution_count": 26,
   "metadata": {
    "ExecuteTime": {
     "end_time": "2021-12-03T00:29:45.236566Z",
     "start_time": "2021-12-03T00:29:45.188831Z"
    }
   },
   "outputs": [
    {
     "name": "stdout",
     "output_type": "stream",
     "text": [
      "Train MAE:\n",
      "\t0.7030771812080531\n",
      "Test MAE:\n",
      "\t1.9541100000000002\n"
     ]
    }
   ],
   "source": [
    "print_mae(\n",
    "    y_train, \n",
    "    y_test, \n",
    "    master_pipe.predict(X_train), \n",
    "    master_pipe.predict(X_test)\n",
    "    )"
   ]
  },
  {
   "cell_type": "markdown",
   "metadata": {},
   "source": [
    "### Access Pipeline Stages"
   ]
  },
  {
   "cell_type": "code",
   "execution_count": 28,
   "metadata": {
    "ExecuteTime": {
     "end_time": "2021-12-03T00:31:31.773556Z",
     "start_time": "2021-12-03T00:31:31.706653Z"
    }
   },
   "outputs": [
    {
     "data": {
      "text/html": [
       "<style>div.sk-top-container {color: black;background-color: white;}div.sk-toggleable {background-color: white;}label.sk-toggleable__label {cursor: pointer;display: block;width: 100%;margin-bottom: 0;padding: 0.2em 0.3em;box-sizing: border-box;text-align: center;}div.sk-toggleable__content {max-height: 0;max-width: 0;overflow: hidden;text-align: left;background-color: #f0f8ff;}div.sk-toggleable__content pre {margin: 0.2em;color: black;border-radius: 0.25em;background-color: #f0f8ff;}input.sk-toggleable__control:checked~div.sk-toggleable__content {max-height: 200px;max-width: 100%;overflow: auto;}div.sk-estimator input.sk-toggleable__control:checked~label.sk-toggleable__label {background-color: #d4ebff;}div.sk-label input.sk-toggleable__control:checked~label.sk-toggleable__label {background-color: #d4ebff;}input.sk-hidden--visually {border: 0;clip: rect(1px 1px 1px 1px);clip: rect(1px, 1px, 1px, 1px);height: 1px;margin: -1px;overflow: hidden;padding: 0;position: absolute;width: 1px;}div.sk-estimator {font-family: monospace;background-color: #f0f8ff;margin: 0.25em 0.25em;border: 1px dotted black;border-radius: 0.25em;box-sizing: border-box;}div.sk-estimator:hover {background-color: #d4ebff;}div.sk-parallel-item::after {content: \"\";width: 100%;border-bottom: 1px solid gray;flex-grow: 1;}div.sk-label:hover label.sk-toggleable__label {background-color: #d4ebff;}div.sk-serial::before {content: \"\";position: absolute;border-left: 1px solid gray;box-sizing: border-box;top: 2em;bottom: 0;left: 50%;}div.sk-serial {display: flex;flex-direction: column;align-items: center;background-color: white;}div.sk-item {z-index: 1;}div.sk-parallel {display: flex;align-items: stretch;justify-content: center;background-color: white;}div.sk-parallel-item {display: flex;flex-direction: column;position: relative;background-color: white;}div.sk-parallel-item:first-child::after {align-self: flex-end;width: 50%;}div.sk-parallel-item:last-child::after {align-self: flex-start;width: 50%;}div.sk-parallel-item:only-child::after {width: 0;}div.sk-dashed-wrapped {border: 1px dashed gray;margin: 0.2em;box-sizing: border-box;padding-bottom: 0.1em;background-color: white;position: relative;}div.sk-label label {font-family: monospace;font-weight: bold;background-color: white;display: inline-block;line-height: 1.2em;}div.sk-label-container {position: relative;z-index: 2;text-align: center;}div.sk-container {display: inline-block;position: relative;}</style><div class=\"sk-top-container\"><div class=\"sk-container\"><div class=\"sk-item sk-dashed-wrapped\"><div class=\"sk-label-container\"><div class=\"sk-label sk-toggleable\"><input class=\"sk-toggleable__control sk-hidden--visually\" id=\"094bdb93-5ebb-4458-92f1-90fe6ca2041d\" type=\"checkbox\" ><label class=\"sk-toggleable__label\" for=\"094bdb93-5ebb-4458-92f1-90fe6ca2041d\">Pipeline</label><div class=\"sk-toggleable__content\"><pre>Pipeline(steps=[('ColumnTransformer',\n",
       "                 ColumnTransformer(transformers=[('num',\n",
       "                                                  Pipeline(steps=[('imputer',\n",
       "                                                                   SimpleImputer()),\n",
       "                                                                  ('scaler',\n",
       "                                                                   StandardScaler())]),\n",
       "                                                  ['displacement', 'horsepower',\n",
       "                                                   'weight', 'acceleration',\n",
       "                                                   'model_year']),\n",
       "                                                 ('cat',\n",
       "                                                  Pipeline(steps=[('ohe',\n",
       "                                                                   OneHotEncoder(handle_unknown='ignore'))]),\n",
       "                                                  ['cylinders', 'origin'])])),\n",
       "                ('Classifier', RandomForestRegressor(random_state=51))])</pre></div></div></div><div class=\"sk-serial\"><div class=\"sk-item sk-dashed-wrapped\"><div class=\"sk-label-container\"><div class=\"sk-label sk-toggleable\"><input class=\"sk-toggleable__control sk-hidden--visually\" id=\"01caa8b8-b32f-4c33-b604-cde75a3a3194\" type=\"checkbox\" ><label class=\"sk-toggleable__label\" for=\"01caa8b8-b32f-4c33-b604-cde75a3a3194\">ColumnTransformer: ColumnTransformer</label><div class=\"sk-toggleable__content\"><pre>ColumnTransformer(transformers=[('num',\n",
       "                                 Pipeline(steps=[('imputer', SimpleImputer()),\n",
       "                                                 ('scaler', StandardScaler())]),\n",
       "                                 ['displacement', 'horsepower', 'weight',\n",
       "                                  'acceleration', 'model_year']),\n",
       "                                ('cat',\n",
       "                                 Pipeline(steps=[('ohe',\n",
       "                                                  OneHotEncoder(handle_unknown='ignore'))]),\n",
       "                                 ['cylinders', 'origin'])])</pre></div></div></div><div class=\"sk-parallel\"><div class=\"sk-parallel-item\"><div class=\"sk-item\"><div class=\"sk-label-container\"><div class=\"sk-label sk-toggleable\"><input class=\"sk-toggleable__control sk-hidden--visually\" id=\"0730dda1-cc64-4ef4-9afb-2c3e32a61b2f\" type=\"checkbox\" ><label class=\"sk-toggleable__label\" for=\"0730dda1-cc64-4ef4-9afb-2c3e32a61b2f\">num</label><div class=\"sk-toggleable__content\"><pre>['displacement', 'horsepower', 'weight', 'acceleration', 'model_year']</pre></div></div></div><div class=\"sk-serial\"><div class=\"sk-item\"><div class=\"sk-serial\"><div class=\"sk-item\"><div class=\"sk-estimator sk-toggleable\"><input class=\"sk-toggleable__control sk-hidden--visually\" id=\"aa086d6c-c722-4673-9c6a-8f8d15c00d7e\" type=\"checkbox\" ><label class=\"sk-toggleable__label\" for=\"aa086d6c-c722-4673-9c6a-8f8d15c00d7e\">SimpleImputer</label><div class=\"sk-toggleable__content\"><pre>SimpleImputer()</pre></div></div></div><div class=\"sk-item\"><div class=\"sk-estimator sk-toggleable\"><input class=\"sk-toggleable__control sk-hidden--visually\" id=\"7533fea6-580b-4275-894c-7d1c6723f9e5\" type=\"checkbox\" ><label class=\"sk-toggleable__label\" for=\"7533fea6-580b-4275-894c-7d1c6723f9e5\">StandardScaler</label><div class=\"sk-toggleable__content\"><pre>StandardScaler()</pre></div></div></div></div></div></div></div></div><div class=\"sk-parallel-item\"><div class=\"sk-item\"><div class=\"sk-label-container\"><div class=\"sk-label sk-toggleable\"><input class=\"sk-toggleable__control sk-hidden--visually\" id=\"eaf47408-13e1-4655-ad37-0ae616afa6fe\" type=\"checkbox\" ><label class=\"sk-toggleable__label\" for=\"eaf47408-13e1-4655-ad37-0ae616afa6fe\">cat</label><div class=\"sk-toggleable__content\"><pre>['cylinders', 'origin']</pre></div></div></div><div class=\"sk-serial\"><div class=\"sk-item\"><div class=\"sk-serial\"><div class=\"sk-item\"><div class=\"sk-estimator sk-toggleable\"><input class=\"sk-toggleable__control sk-hidden--visually\" id=\"029504c6-987e-4403-a0a0-cf250f455f84\" type=\"checkbox\" ><label class=\"sk-toggleable__label\" for=\"029504c6-987e-4403-a0a0-cf250f455f84\">OneHotEncoder</label><div class=\"sk-toggleable__content\"><pre>OneHotEncoder(handle_unknown='ignore')</pre></div></div></div></div></div></div></div></div></div></div><div class=\"sk-item\"><div class=\"sk-estimator sk-toggleable\"><input class=\"sk-toggleable__control sk-hidden--visually\" id=\"e2e92f52-b115-435e-bccb-cb3ff55c8c88\" type=\"checkbox\" ><label class=\"sk-toggleable__label\" for=\"e2e92f52-b115-435e-bccb-cb3ff55c8c88\">RandomForestRegressor</label><div class=\"sk-toggleable__content\"><pre>RandomForestRegressor(random_state=51)</pre></div></div></div></div></div></div></div>"
      ],
      "text/plain": [
       "Pipeline(steps=[('ColumnTransformer',\n",
       "                 ColumnTransformer(transformers=[('num',\n",
       "                                                  Pipeline(steps=[('imputer',\n",
       "                                                                   SimpleImputer()),\n",
       "                                                                  ('scaler',\n",
       "                                                                   StandardScaler())]),\n",
       "                                                  ['displacement', 'horsepower',\n",
       "                                                   'weight', 'acceleration',\n",
       "                                                   'model_year']),\n",
       "                                                 ('cat',\n",
       "                                                  Pipeline(steps=[('ohe',\n",
       "                                                                   OneHotEncoder(handle_unknown='ignore'))]),\n",
       "                                                  ['cylinders', 'origin'])])),\n",
       "                ('Classifier', RandomForestRegressor(random_state=51))])"
      ]
     },
     "execution_count": 28,
     "metadata": {},
     "output_type": "execute_result"
    }
   ],
   "source": [
    "master_pipe"
   ]
  },
  {
   "cell_type": "code",
   "execution_count": 31,
   "metadata": {
    "ExecuteTime": {
     "end_time": "2021-12-03T00:32:08.774334Z",
     "start_time": "2021-12-03T00:32:08.761257Z"
    }
   },
   "outputs": [
    {
     "data": {
      "text/plain": [
       "{'ColumnTransformer': ColumnTransformer(transformers=[('num',\n",
       "                                  Pipeline(steps=[('imputer', SimpleImputer()),\n",
       "                                                  ('scaler', StandardScaler())]),\n",
       "                                  ['displacement', 'horsepower', 'weight',\n",
       "                                   'acceleration', 'model_year']),\n",
       "                                 ('cat',\n",
       "                                  Pipeline(steps=[('ohe',\n",
       "                                                   OneHotEncoder(handle_unknown='ignore'))]),\n",
       "                                  ['cylinders', 'origin'])]),\n",
       " 'Classifier': RandomForestRegressor(random_state=51)}"
      ]
     },
     "execution_count": 31,
     "metadata": {},
     "output_type": "execute_result"
    }
   ],
   "source": [
    "# Getting individual elements.\n",
    "master_pipe.named_steps"
   ]
  },
  {
   "cell_type": "code",
   "execution_count": 32,
   "metadata": {
    "ExecuteTime": {
     "end_time": "2021-12-03T00:32:16.807289Z",
     "start_time": "2021-12-03T00:32:16.800864Z"
    }
   },
   "outputs": [
    {
     "data": {
      "text/plain": [
       "{'num': Pipeline(steps=[('imputer', SimpleImputer()), ('scaler', StandardScaler())]),\n",
       " 'cat': Pipeline(steps=[('ohe', OneHotEncoder(handle_unknown='ignore'))])}"
      ]
     },
     "execution_count": 32,
     "metadata": {},
     "output_type": "execute_result"
    }
   ],
   "source": [
    "master_pipe.named_steps['ColumnTransformer'].named_transformers_"
   ]
  },
  {
   "cell_type": "code",
   "execution_count": 33,
   "metadata": {
    "ExecuteTime": {
     "end_time": "2021-12-03T00:32:42.442279Z",
     "start_time": "2021-12-03T00:32:42.436434Z"
    }
   },
   "outputs": [
    {
     "data": {
      "text/html": [
       "<style>div.sk-top-container {color: black;background-color: white;}div.sk-toggleable {background-color: white;}label.sk-toggleable__label {cursor: pointer;display: block;width: 100%;margin-bottom: 0;padding: 0.2em 0.3em;box-sizing: border-box;text-align: center;}div.sk-toggleable__content {max-height: 0;max-width: 0;overflow: hidden;text-align: left;background-color: #f0f8ff;}div.sk-toggleable__content pre {margin: 0.2em;color: black;border-radius: 0.25em;background-color: #f0f8ff;}input.sk-toggleable__control:checked~div.sk-toggleable__content {max-height: 200px;max-width: 100%;overflow: auto;}div.sk-estimator input.sk-toggleable__control:checked~label.sk-toggleable__label {background-color: #d4ebff;}div.sk-label input.sk-toggleable__control:checked~label.sk-toggleable__label {background-color: #d4ebff;}input.sk-hidden--visually {border: 0;clip: rect(1px 1px 1px 1px);clip: rect(1px, 1px, 1px, 1px);height: 1px;margin: -1px;overflow: hidden;padding: 0;position: absolute;width: 1px;}div.sk-estimator {font-family: monospace;background-color: #f0f8ff;margin: 0.25em 0.25em;border: 1px dotted black;border-radius: 0.25em;box-sizing: border-box;}div.sk-estimator:hover {background-color: #d4ebff;}div.sk-parallel-item::after {content: \"\";width: 100%;border-bottom: 1px solid gray;flex-grow: 1;}div.sk-label:hover label.sk-toggleable__label {background-color: #d4ebff;}div.sk-serial::before {content: \"\";position: absolute;border-left: 1px solid gray;box-sizing: border-box;top: 2em;bottom: 0;left: 50%;}div.sk-serial {display: flex;flex-direction: column;align-items: center;background-color: white;}div.sk-item {z-index: 1;}div.sk-parallel {display: flex;align-items: stretch;justify-content: center;background-color: white;}div.sk-parallel-item {display: flex;flex-direction: column;position: relative;background-color: white;}div.sk-parallel-item:first-child::after {align-self: flex-end;width: 50%;}div.sk-parallel-item:last-child::after {align-self: flex-start;width: 50%;}div.sk-parallel-item:only-child::after {width: 0;}div.sk-dashed-wrapped {border: 1px dashed gray;margin: 0.2em;box-sizing: border-box;padding-bottom: 0.1em;background-color: white;position: relative;}div.sk-label label {font-family: monospace;font-weight: bold;background-color: white;display: inline-block;line-height: 1.2em;}div.sk-label-container {position: relative;z-index: 2;text-align: center;}div.sk-container {display: inline-block;position: relative;}</style><div class=\"sk-top-container\"><div class=\"sk-container\"><div class=\"sk-item sk-dashed-wrapped\"><div class=\"sk-label-container\"><div class=\"sk-label sk-toggleable\"><input class=\"sk-toggleable__control sk-hidden--visually\" id=\"abe11bb3-f7be-49f4-b688-a941e2e77bc7\" type=\"checkbox\" ><label class=\"sk-toggleable__label\" for=\"abe11bb3-f7be-49f4-b688-a941e2e77bc7\">Pipeline</label><div class=\"sk-toggleable__content\"><pre>Pipeline(steps=[('ohe', OneHotEncoder(handle_unknown='ignore'))])</pre></div></div></div><div class=\"sk-serial\"><div class=\"sk-item\"><div class=\"sk-estimator sk-toggleable\"><input class=\"sk-toggleable__control sk-hidden--visually\" id=\"db0f3e9c-cec4-4690-9162-a320927e37dd\" type=\"checkbox\" ><label class=\"sk-toggleable__label\" for=\"db0f3e9c-cec4-4690-9162-a320927e37dd\">OneHotEncoder</label><div class=\"sk-toggleable__content\"><pre>OneHotEncoder(handle_unknown='ignore')</pre></div></div></div></div></div></div></div>"
      ],
      "text/plain": [
       "Pipeline(steps=[('ohe', OneHotEncoder(handle_unknown='ignore'))])"
      ]
     },
     "execution_count": 33,
     "metadata": {},
     "output_type": "execute_result"
    }
   ],
   "source": [
    "master_pipe.named_steps['ColumnTransformer'].named_transformers_['cat']"
   ]
  },
  {
   "cell_type": "code",
   "execution_count": 34,
   "metadata": {
    "ExecuteTime": {
     "end_time": "2021-12-03T00:32:49.216303Z",
     "start_time": "2021-12-03T00:32:49.211286Z"
    }
   },
   "outputs": [
    {
     "data": {
      "text/html": [
       "<style>div.sk-top-container {color: black;background-color: white;}div.sk-toggleable {background-color: white;}label.sk-toggleable__label {cursor: pointer;display: block;width: 100%;margin-bottom: 0;padding: 0.2em 0.3em;box-sizing: border-box;text-align: center;}div.sk-toggleable__content {max-height: 0;max-width: 0;overflow: hidden;text-align: left;background-color: #f0f8ff;}div.sk-toggleable__content pre {margin: 0.2em;color: black;border-radius: 0.25em;background-color: #f0f8ff;}input.sk-toggleable__control:checked~div.sk-toggleable__content {max-height: 200px;max-width: 100%;overflow: auto;}div.sk-estimator input.sk-toggleable__control:checked~label.sk-toggleable__label {background-color: #d4ebff;}div.sk-label input.sk-toggleable__control:checked~label.sk-toggleable__label {background-color: #d4ebff;}input.sk-hidden--visually {border: 0;clip: rect(1px 1px 1px 1px);clip: rect(1px, 1px, 1px, 1px);height: 1px;margin: -1px;overflow: hidden;padding: 0;position: absolute;width: 1px;}div.sk-estimator {font-family: monospace;background-color: #f0f8ff;margin: 0.25em 0.25em;border: 1px dotted black;border-radius: 0.25em;box-sizing: border-box;}div.sk-estimator:hover {background-color: #d4ebff;}div.sk-parallel-item::after {content: \"\";width: 100%;border-bottom: 1px solid gray;flex-grow: 1;}div.sk-label:hover label.sk-toggleable__label {background-color: #d4ebff;}div.sk-serial::before {content: \"\";position: absolute;border-left: 1px solid gray;box-sizing: border-box;top: 2em;bottom: 0;left: 50%;}div.sk-serial {display: flex;flex-direction: column;align-items: center;background-color: white;}div.sk-item {z-index: 1;}div.sk-parallel {display: flex;align-items: stretch;justify-content: center;background-color: white;}div.sk-parallel-item {display: flex;flex-direction: column;position: relative;background-color: white;}div.sk-parallel-item:first-child::after {align-self: flex-end;width: 50%;}div.sk-parallel-item:last-child::after {align-self: flex-start;width: 50%;}div.sk-parallel-item:only-child::after {width: 0;}div.sk-dashed-wrapped {border: 1px dashed gray;margin: 0.2em;box-sizing: border-box;padding-bottom: 0.1em;background-color: white;position: relative;}div.sk-label label {font-family: monospace;font-weight: bold;background-color: white;display: inline-block;line-height: 1.2em;}div.sk-label-container {position: relative;z-index: 2;text-align: center;}div.sk-container {display: inline-block;position: relative;}</style><div class=\"sk-top-container\"><div class=\"sk-container\"><div class=\"sk-item\"><div class=\"sk-estimator sk-toggleable\"><input class=\"sk-toggleable__control sk-hidden--visually\" id=\"0f3c009b-52ff-4484-8f15-24d133692ff5\" type=\"checkbox\" checked><label class=\"sk-toggleable__label\" for=\"0f3c009b-52ff-4484-8f15-24d133692ff5\">OneHotEncoder</label><div class=\"sk-toggleable__content\"><pre>OneHotEncoder(handle_unknown='ignore')</pre></div></div></div></div></div>"
      ],
      "text/plain": [
       "OneHotEncoder(handle_unknown='ignore')"
      ]
     },
     "execution_count": 34,
     "metadata": {},
     "output_type": "execute_result"
    }
   ],
   "source": [
    "master_pipe.named_steps['ColumnTransformer'].named_transformers_['cat'].named_steps['ohe']"
   ]
  },
  {
   "cell_type": "code",
   "execution_count": 35,
   "metadata": {
    "ExecuteTime": {
     "end_time": "2021-12-03T00:33:26.919959Z",
     "start_time": "2021-12-03T00:33:26.914543Z"
    }
   },
   "outputs": [
    {
     "data": {
      "text/html": [
       "<style>div.sk-top-container {color: black;background-color: white;}div.sk-toggleable {background-color: white;}label.sk-toggleable__label {cursor: pointer;display: block;width: 100%;margin-bottom: 0;padding: 0.2em 0.3em;box-sizing: border-box;text-align: center;}div.sk-toggleable__content {max-height: 0;max-width: 0;overflow: hidden;text-align: left;background-color: #f0f8ff;}div.sk-toggleable__content pre {margin: 0.2em;color: black;border-radius: 0.25em;background-color: #f0f8ff;}input.sk-toggleable__control:checked~div.sk-toggleable__content {max-height: 200px;max-width: 100%;overflow: auto;}div.sk-estimator input.sk-toggleable__control:checked~label.sk-toggleable__label {background-color: #d4ebff;}div.sk-label input.sk-toggleable__control:checked~label.sk-toggleable__label {background-color: #d4ebff;}input.sk-hidden--visually {border: 0;clip: rect(1px 1px 1px 1px);clip: rect(1px, 1px, 1px, 1px);height: 1px;margin: -1px;overflow: hidden;padding: 0;position: absolute;width: 1px;}div.sk-estimator {font-family: monospace;background-color: #f0f8ff;margin: 0.25em 0.25em;border: 1px dotted black;border-radius: 0.25em;box-sizing: border-box;}div.sk-estimator:hover {background-color: #d4ebff;}div.sk-parallel-item::after {content: \"\";width: 100%;border-bottom: 1px solid gray;flex-grow: 1;}div.sk-label:hover label.sk-toggleable__label {background-color: #d4ebff;}div.sk-serial::before {content: \"\";position: absolute;border-left: 1px solid gray;box-sizing: border-box;top: 2em;bottom: 0;left: 50%;}div.sk-serial {display: flex;flex-direction: column;align-items: center;background-color: white;}div.sk-item {z-index: 1;}div.sk-parallel {display: flex;align-items: stretch;justify-content: center;background-color: white;}div.sk-parallel-item {display: flex;flex-direction: column;position: relative;background-color: white;}div.sk-parallel-item:first-child::after {align-self: flex-end;width: 50%;}div.sk-parallel-item:last-child::after {align-self: flex-start;width: 50%;}div.sk-parallel-item:only-child::after {width: 0;}div.sk-dashed-wrapped {border: 1px dashed gray;margin: 0.2em;box-sizing: border-box;padding-bottom: 0.1em;background-color: white;position: relative;}div.sk-label label {font-family: monospace;font-weight: bold;background-color: white;display: inline-block;line-height: 1.2em;}div.sk-label-container {position: relative;z-index: 2;text-align: center;}div.sk-container {display: inline-block;position: relative;}</style><div class=\"sk-top-container\"><div class=\"sk-container\"><div class=\"sk-item\"><div class=\"sk-estimator sk-toggleable\"><input class=\"sk-toggleable__control sk-hidden--visually\" id=\"339d6474-a316-4abb-82af-a3950d30f2d8\" type=\"checkbox\" checked><label class=\"sk-toggleable__label\" for=\"339d6474-a316-4abb-82af-a3950d30f2d8\">OneHotEncoder</label><div class=\"sk-toggleable__content\"><pre>OneHotEncoder(handle_unknown='ignore')</pre></div></div></div></div></div>"
      ],
      "text/plain": [
       "OneHotEncoder(handle_unknown='ignore')"
      ]
     },
     "execution_count": 35,
     "metadata": {},
     "output_type": "execute_result"
    }
   ],
   "source": [
    "(master_pipe\n",
    " .named_steps['ColumnTransformer']\n",
    " .named_transformers_['cat']\n",
    " .named_steps['ohe'])"
   ]
  },
  {
   "cell_type": "markdown",
   "metadata": {},
   "source": [
    "# Time to practice!"
   ]
  }
 ],
 "metadata": {
  "kernelspec": {
   "display_name": "Python [conda env:learn-env] *",
   "language": "python",
   "name": "conda-env-learn-env-py"
  },
  "language_info": {
   "codemirror_mode": {
    "name": "ipython",
    "version": 3
   },
   "file_extension": ".py",
   "mimetype": "text/x-python",
   "name": "python",
   "nbconvert_exporter": "python",
   "pygments_lexer": "ipython3",
   "version": "3.6.9"
  },
  "toc": {
   "base_numbering": 1,
   "nav_menu": {},
   "number_sections": false,
   "sideBar": true,
   "skip_h1_title": false,
   "title_cell": "Table of Contents",
   "title_sidebar": "Contents",
   "toc_cell": false,
   "toc_position": {
    "height": "calc(100% - 180px)",
    "left": "10px",
    "top": "150px",
    "width": "259px"
   },
   "toc_section_display": true,
   "toc_window_display": true
  }
 },
 "nbformat": 4,
 "nbformat_minor": 2
}
