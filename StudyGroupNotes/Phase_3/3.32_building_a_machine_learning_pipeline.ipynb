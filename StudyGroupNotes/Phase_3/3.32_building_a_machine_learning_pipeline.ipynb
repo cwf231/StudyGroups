{
 "cells": [
  {
   "cell_type": "markdown",
   "metadata": {},
   "source": [
    "## Phase 3.32\n",
    "# Building a Machine Learning Pipeline"
   ]
  },
  {
   "cell_type": "markdown",
   "metadata": {},
   "source": [
    "## Common Preprocessing Tools\n",
    "\n",
    "- Scalers\n",
    "    - StandardScaler, MinMaxScaler\n",
    "- Encoders\n",
    "    - OneHotEncoder, LabelEncoder\n",
    "- Imputers\n",
    "    - SimpleImputer\n",
    "\n",
    "We use these tools all the time. Let's have a look at a common workflow using these tools individually."
   ]
  },
  {
   "cell_type": "code",
   "execution_count": 1,
   "metadata": {
    "ExecuteTime": {
     "end_time": "2021-03-28T18:31:23.524223Z",
     "start_time": "2021-03-28T18:31:20.628818Z"
    }
   },
   "outputs": [],
   "source": [
    "from sklearn.impute import SimpleImputer\n",
    "from sklearn.preprocessing import StandardScaler, OneHotEncoder\n",
    "from sklearn.ensemble import RandomForestRegressor\n",
    "from sklearn.model_selection import train_test_split\n",
    "from sklearn.metrics import mean_absolute_error\n",
    "import pandas as pd\n",
    "import numpy as np\n",
    "import seaborn as sns\n",
    "import matplotlib.pyplot as plt"
   ]
  },
  {
   "cell_type": "markdown",
   "metadata": {},
   "source": [
    "# Loading Data"
   ]
  },
  {
   "cell_type": "code",
   "execution_count": 2,
   "metadata": {
    "ExecuteTime": {
     "end_time": "2021-03-28T18:31:23.553966Z",
     "start_time": "2021-03-28T18:31:23.526447Z"
    }
   },
   "outputs": [
    {
     "data": {
      "text/html": [
       "<div>\n",
       "<style scoped>\n",
       "    .dataframe tbody tr th:only-of-type {\n",
       "        vertical-align: middle;\n",
       "    }\n",
       "\n",
       "    .dataframe tbody tr th {\n",
       "        vertical-align: top;\n",
       "    }\n",
       "\n",
       "    .dataframe thead th {\n",
       "        text-align: right;\n",
       "    }\n",
       "</style>\n",
       "<table border=\"1\" class=\"dataframe\">\n",
       "  <thead>\n",
       "    <tr style=\"text-align: right;\">\n",
       "      <th></th>\n",
       "      <th>mpg</th>\n",
       "      <th>cylinders</th>\n",
       "      <th>displacement</th>\n",
       "      <th>horsepower</th>\n",
       "      <th>weight</th>\n",
       "      <th>acceleration</th>\n",
       "      <th>model_year</th>\n",
       "      <th>origin</th>\n",
       "      <th>name</th>\n",
       "    </tr>\n",
       "  </thead>\n",
       "  <tbody>\n",
       "    <tr>\n",
       "      <th>0</th>\n",
       "      <td>18.0</td>\n",
       "      <td>8</td>\n",
       "      <td>307.0</td>\n",
       "      <td>130.0</td>\n",
       "      <td>3504</td>\n",
       "      <td>12.0</td>\n",
       "      <td>70</td>\n",
       "      <td>usa</td>\n",
       "      <td>chevrolet chevelle malibu</td>\n",
       "    </tr>\n",
       "    <tr>\n",
       "      <th>1</th>\n",
       "      <td>15.0</td>\n",
       "      <td>8</td>\n",
       "      <td>350.0</td>\n",
       "      <td>165.0</td>\n",
       "      <td>3693</td>\n",
       "      <td>11.5</td>\n",
       "      <td>70</td>\n",
       "      <td>usa</td>\n",
       "      <td>buick skylark 320</td>\n",
       "    </tr>\n",
       "    <tr>\n",
       "      <th>2</th>\n",
       "      <td>18.0</td>\n",
       "      <td>8</td>\n",
       "      <td>318.0</td>\n",
       "      <td>150.0</td>\n",
       "      <td>3436</td>\n",
       "      <td>11.0</td>\n",
       "      <td>70</td>\n",
       "      <td>usa</td>\n",
       "      <td>plymouth satellite</td>\n",
       "    </tr>\n",
       "    <tr>\n",
       "      <th>3</th>\n",
       "      <td>16.0</td>\n",
       "      <td>8</td>\n",
       "      <td>304.0</td>\n",
       "      <td>150.0</td>\n",
       "      <td>3433</td>\n",
       "      <td>12.0</td>\n",
       "      <td>70</td>\n",
       "      <td>usa</td>\n",
       "      <td>amc rebel sst</td>\n",
       "    </tr>\n",
       "    <tr>\n",
       "      <th>4</th>\n",
       "      <td>17.0</td>\n",
       "      <td>8</td>\n",
       "      <td>302.0</td>\n",
       "      <td>140.0</td>\n",
       "      <td>3449</td>\n",
       "      <td>10.5</td>\n",
       "      <td>70</td>\n",
       "      <td>usa</td>\n",
       "      <td>ford torino</td>\n",
       "    </tr>\n",
       "  </tbody>\n",
       "</table>\n",
       "</div>"
      ],
      "text/plain": [
       "    mpg  cylinders  displacement  horsepower  weight  acceleration  \\\n",
       "0  18.0          8         307.0       130.0    3504          12.0   \n",
       "1  15.0          8         350.0       165.0    3693          11.5   \n",
       "2  18.0          8         318.0       150.0    3436          11.0   \n",
       "3  16.0          8         304.0       150.0    3433          12.0   \n",
       "4  17.0          8         302.0       140.0    3449          10.5   \n",
       "\n",
       "   model_year origin                       name  \n",
       "0          70    usa  chevrolet chevelle malibu  \n",
       "1          70    usa          buick skylark 320  \n",
       "2          70    usa         plymouth satellite  \n",
       "3          70    usa              amc rebel sst  \n",
       "4          70    usa                ford torino  "
      ]
     },
     "execution_count": 2,
     "metadata": {},
     "output_type": "execute_result"
    }
   ],
   "source": [
    "# Loading data.\n",
    "df = sns.load_dataset('mpg')\n",
    "df.head()"
   ]
  },
  {
   "cell_type": "code",
   "execution_count": 3,
   "metadata": {
    "ExecuteTime": {
     "end_time": "2021-03-28T18:31:23.559662Z",
     "start_time": "2021-03-28T18:31:23.556378Z"
    }
   },
   "outputs": [],
   "source": [
    "# Dropping the unique identifier column.\n",
    "df.drop('name', axis=1, inplace=True)"
   ]
  },
  {
   "cell_type": "code",
   "execution_count": 4,
   "metadata": {
    "ExecuteTime": {
     "end_time": "2021-03-28T18:31:23.569300Z",
     "start_time": "2021-03-28T18:31:23.561770Z"
    }
   },
   "outputs": [
    {
     "name": "stdout",
     "output_type": "stream",
     "text": [
      "<class 'pandas.core.frame.DataFrame'>\n",
      "RangeIndex: 398 entries, 0 to 397\n",
      "Data columns (total 8 columns):\n",
      " #   Column        Non-Null Count  Dtype  \n",
      "---  ------        --------------  -----  \n",
      " 0   mpg           398 non-null    float64\n",
      " 1   cylinders     398 non-null    int64  \n",
      " 2   displacement  398 non-null    float64\n",
      " 3   horsepower    392 non-null    float64\n",
      " 4   weight        398 non-null    int64  \n",
      " 5   acceleration  398 non-null    float64\n",
      " 6   model_year    398 non-null    int64  \n",
      " 7   origin        398 non-null    object \n",
      "dtypes: float64(4), int64(3), object(1)\n",
      "memory usage: 25.0+ KB\n"
     ]
    }
   ],
   "source": [
    "df.info()"
   ]
  },
  {
   "cell_type": "code",
   "execution_count": 5,
   "metadata": {
    "ExecuteTime": {
     "end_time": "2021-03-28T18:31:23.579471Z",
     "start_time": "2021-03-28T18:31:23.571205Z"
    }
   },
   "outputs": [
    {
     "data": {
      "text/plain": [
       "((298, 7), (100, 7), (298,), (100,))"
      ]
     },
     "execution_count": 5,
     "metadata": {},
     "output_type": "execute_result"
    }
   ],
   "source": [
    "# Conduct train-test-split.\n",
    "X_train, X_test, y_train, y_test = train_test_split(\n",
    "    df.drop('mpg', axis=1),\n",
    "    df['mpg'],\n",
    "    random_state=51)\n",
    "\n",
    "X_train.shape, X_test.shape, y_train.shape, y_test.shape"
   ]
  },
  {
   "cell_type": "code",
   "execution_count": 6,
   "metadata": {
    "ExecuteTime": {
     "end_time": "2021-03-28T18:31:23.584597Z",
     "start_time": "2021-03-28T18:31:23.581413Z"
    }
   },
   "outputs": [],
   "source": [
    "def print_mae(y_train, y_test, y_pred_train, y_pred_test):\n",
    "    \"\"\"Print MAE for both train and test data.\"\"\"\n",
    "    \n",
    "    print(f'Train MAE:\\n\\t{mean_absolute_error(y_train, y_pred_train)}')\n",
    "    print(f'Test MAE:\\n\\t{mean_absolute_error(y_test, y_pred_test)}')"
   ]
  },
  {
   "cell_type": "markdown",
   "metadata": {},
   "source": [
    "# The most Basic Pipeline"
   ]
  },
  {
   "cell_type": "code",
   "execution_count": 7,
   "metadata": {
    "ExecuteTime": {
     "end_time": "2021-03-28T18:31:23.599248Z",
     "start_time": "2021-03-28T18:31:23.586815Z"
    }
   },
   "outputs": [],
   "source": [
    "from sklearn.pipeline import Pipeline\n",
    "from sklearn import set_config"
   ]
  },
  {
   "cell_type": "code",
   "execution_count": 8,
   "metadata": {
    "ExecuteTime": {
     "end_time": "2021-03-28T18:31:23.607838Z",
     "start_time": "2021-03-28T18:31:23.602732Z"
    }
   },
   "outputs": [],
   "source": [
    "# Get theoretical data.\n",
    "little_x_cols = ['cylinders', 'displacement']\n",
    "X_train_little = X_train[little_x_cols]\n",
    "X_test_little = X_test[little_x_cols]"
   ]
  },
  {
   "cell_type": "code",
   "execution_count": 9,
   "metadata": {
    "ExecuteTime": {
     "end_time": "2021-03-28T18:31:23.633440Z",
     "start_time": "2021-03-28T18:31:23.610956Z"
    }
   },
   "outputs": [
    {
     "data": {
      "text/plain": [
       "Pipeline(steps=[('scaler', StandardScaler()),\n",
       "                ('clf', RandomForestRegressor(random_state=51))])"
      ]
     },
     "execution_count": 9,
     "metadata": {},
     "output_type": "execute_result"
    }
   ],
   "source": [
    "# Create and fit a pipeline.\n",
    "little_pipeline = Pipeline(\n",
    "    steps=[\n",
    "        ('scaler', StandardScaler()),\n",
    "        ('clf', RandomForestRegressor(random_state=51))\n",
    "    ]\n",
    ")\n",
    "\n",
    "little_pipeline"
   ]
  },
  {
   "cell_type": "code",
   "execution_count": 10,
   "metadata": {
    "ExecuteTime": {
     "end_time": "2021-03-28T18:31:23.649708Z",
     "start_time": "2021-03-28T18:31:23.636627Z"
    }
   },
   "outputs": [
    {
     "data": {
      "text/html": [
       "<style>div.sk-top-container {color: black;background-color: white;}div.sk-toggleable {background-color: white;}label.sk-toggleable__label {cursor: pointer;display: block;width: 100%;margin-bottom: 0;padding: 0.2em 0.3em;box-sizing: border-box;text-align: center;}div.sk-toggleable__content {max-height: 0;max-width: 0;overflow: hidden;text-align: left;background-color: #f0f8ff;}div.sk-toggleable__content pre {margin: 0.2em;color: black;border-radius: 0.25em;background-color: #f0f8ff;}input.sk-toggleable__control:checked~div.sk-toggleable__content {max-height: 200px;max-width: 100%;overflow: auto;}div.sk-estimator input.sk-toggleable__control:checked~label.sk-toggleable__label {background-color: #d4ebff;}div.sk-label input.sk-toggleable__control:checked~label.sk-toggleable__label {background-color: #d4ebff;}input.sk-hidden--visually {border: 0;clip: rect(1px 1px 1px 1px);clip: rect(1px, 1px, 1px, 1px);height: 1px;margin: -1px;overflow: hidden;padding: 0;position: absolute;width: 1px;}div.sk-estimator {font-family: monospace;background-color: #f0f8ff;margin: 0.25em 0.25em;border: 1px dotted black;border-radius: 0.25em;box-sizing: border-box;}div.sk-estimator:hover {background-color: #d4ebff;}div.sk-parallel-item::after {content: \"\";width: 100%;border-bottom: 1px solid gray;flex-grow: 1;}div.sk-label:hover label.sk-toggleable__label {background-color: #d4ebff;}div.sk-serial::before {content: \"\";position: absolute;border-left: 1px solid gray;box-sizing: border-box;top: 2em;bottom: 0;left: 50%;}div.sk-serial {display: flex;flex-direction: column;align-items: center;background-color: white;}div.sk-item {z-index: 1;}div.sk-parallel {display: flex;align-items: stretch;justify-content: center;background-color: white;}div.sk-parallel-item {display: flex;flex-direction: column;position: relative;background-color: white;}div.sk-parallel-item:first-child::after {align-self: flex-end;width: 50%;}div.sk-parallel-item:last-child::after {align-self: flex-start;width: 50%;}div.sk-parallel-item:only-child::after {width: 0;}div.sk-dashed-wrapped {border: 1px dashed gray;margin: 0.2em;box-sizing: border-box;padding-bottom: 0.1em;background-color: white;position: relative;}div.sk-label label {font-family: monospace;font-weight: bold;background-color: white;display: inline-block;line-height: 1.2em;}div.sk-label-container {position: relative;z-index: 2;text-align: center;}div.sk-container {display: inline-block;position: relative;}</style><div class=\"sk-top-container\"><div class=\"sk-container\"><div class=\"sk-item sk-dashed-wrapped\"><div class=\"sk-label-container\"><div class=\"sk-label sk-toggleable\"><input class=\"sk-toggleable__control sk-hidden--visually\" id=\"12f6f093-ac05-499b-94ee-d63c5d028aab\" type=\"checkbox\" ><label class=\"sk-toggleable__label\" for=\"12f6f093-ac05-499b-94ee-d63c5d028aab\">Pipeline</label><div class=\"sk-toggleable__content\"><pre>Pipeline(steps=[('scaler', StandardScaler()),\n",
       "                ('clf', RandomForestRegressor(random_state=51))])</pre></div></div></div><div class=\"sk-serial\"><div class=\"sk-item\"><div class=\"sk-estimator sk-toggleable\"><input class=\"sk-toggleable__control sk-hidden--visually\" id=\"c1b04ab4-3eaf-4db4-ac10-5616d1c1e6ba\" type=\"checkbox\" ><label class=\"sk-toggleable__label\" for=\"c1b04ab4-3eaf-4db4-ac10-5616d1c1e6ba\">StandardScaler</label><div class=\"sk-toggleable__content\"><pre>StandardScaler()</pre></div></div></div><div class=\"sk-item\"><div class=\"sk-estimator sk-toggleable\"><input class=\"sk-toggleable__control sk-hidden--visually\" id=\"ec7887df-51f5-4530-b877-d0ce327270a1\" type=\"checkbox\" ><label class=\"sk-toggleable__label\" for=\"ec7887df-51f5-4530-b877-d0ce327270a1\">RandomForestRegressor</label><div class=\"sk-toggleable__content\"><pre>RandomForestRegressor(random_state=51)</pre></div></div></div></div></div></div></div>"
      ],
      "text/plain": [
       "Pipeline(steps=[('scaler', StandardScaler()),\n",
       "                ('clf', RandomForestRegressor(random_state=51))])"
      ]
     },
     "execution_count": 10,
     "metadata": {},
     "output_type": "execute_result"
    }
   ],
   "source": [
    "# Setting for visual.\n",
    "set_config(display='diagram')\n",
    "\n",
    "little_pipeline"
   ]
  },
  {
   "cell_type": "code",
   "execution_count": 11,
   "metadata": {
    "ExecuteTime": {
     "end_time": "2021-03-28T18:31:23.816257Z",
     "start_time": "2021-03-28T18:31:23.651872Z"
    }
   },
   "outputs": [
    {
     "name": "stdout",
     "output_type": "stream",
     "text": [
      "Train MAE:\n",
      "\t2.3301444868433525\n",
      "Test MAE:\n",
      "\t3.080961193638119\n"
     ]
    }
   ],
   "source": [
    "# Fit and predict.\n",
    "little_pipeline.fit(X_train_little, y_train)\n",
    "\n",
    "y_pred_train_little = little_pipeline.predict(X_train_little)\n",
    "y_pred_test_little = little_pipeline.predict(X_test_little)\n",
    "\n",
    "# Get metrics.\n",
    "print_mae(y_train, y_test, y_pred_train_little, y_pred_test_little)"
   ]
  },
  {
   "cell_type": "markdown",
   "metadata": {},
   "source": [
    "# Using tools individually."
   ]
  },
  {
   "cell_type": "code",
   "execution_count": 12,
   "metadata": {
    "ExecuteTime": {
     "end_time": "2021-03-28T18:31:23.826701Z",
     "start_time": "2021-03-28T18:31:23.818038Z"
    }
   },
   "outputs": [
    {
     "name": "stdout",
     "output_type": "stream",
     "text": [
      "Numerical Columns:\n",
      "\t['cylinders', 'displacement', 'horsepower', 'weight', 'acceleration', 'model_year']\n",
      "Categorical Columns:\n",
      "\t['origin']\n",
      "\n",
      "No overlap!\n"
     ]
    }
   ],
   "source": [
    "# Splitting data into feature-types.\n",
    "numerical_cols = X_train.select_dtypes('number').columns.tolist()\n",
    "categorical_cols = X_train.select_dtypes('object').columns.tolist()\n",
    "\n",
    "print(f'Numerical Columns:\\n\\t{numerical_cols}')\n",
    "print(f'Categorical Columns:\\n\\t{categorical_cols}')\n",
    "print()\n",
    "\n",
    "# Sanity check.\n",
    "if len(numerical_cols + categorical_cols) == \\\n",
    "   len(set(numerical_cols + categorical_cols)):\n",
    "    print('No overlap!')\n",
    "else:\n",
    "    print('Something is wrong...')"
   ]
  },
  {
   "cell_type": "code",
   "execution_count": 13,
   "metadata": {
    "ExecuteTime": {
     "end_time": "2021-03-28T18:31:23.852034Z",
     "start_time": "2021-03-28T18:31:23.828758Z"
    }
   },
   "outputs": [
    {
     "data": {
      "text/plain": [
       "((298, 9), (100, 9))"
      ]
     },
     "execution_count": 13,
     "metadata": {},
     "output_type": "execute_result"
    }
   ],
   "source": [
    "# Create objects. (Only processing X-data.)\n",
    "imputer = SimpleImputer(missing_values=np.nan)\n",
    "scaler = StandardScaler()\n",
    "ohe = OneHotEncoder(handle_unknown='ignore', sparse=False)\n",
    "\n",
    "\n",
    "# Process data.\n",
    "X_train_num_processed = imputer.fit_transform(X_train[numerical_cols])\n",
    "X_test_num_processed = imputer.transform(X_test[numerical_cols])\n",
    "\n",
    "X_train_num_processed = scaler.fit_transform(X_train_num_processed)\n",
    "X_test_num_processed = scaler.transform(X_test_num_processed)\n",
    "\n",
    "X_train_cat_processed = ohe.fit_transform(X_train[categorical_cols])\n",
    "X_test_cat_processed = ohe.transform(X_test[categorical_cols])\n",
    "\n",
    "# Join data back together to look at.\n",
    "X_train_processed_df = pd.DataFrame(\n",
    "    np.concatenate([X_train_num_processed, X_train_cat_processed], axis=1),\n",
    "    columns=numerical_cols + ohe.get_feature_names().tolist())\n",
    "X_test_processed_df = pd.DataFrame(\n",
    "    np.concatenate([X_test_num_processed, X_test_cat_processed], axis=1),\n",
    "    columns=numerical_cols + ohe.get_feature_names().tolist())\n",
    "\n",
    "# Sanity check.\n",
    "X_train_processed_df.shape, X_test_processed_df.shape"
   ]
  },
  {
   "cell_type": "code",
   "execution_count": 14,
   "metadata": {
    "ExecuteTime": {
     "end_time": "2021-03-28T18:31:23.867841Z",
     "start_time": "2021-03-28T18:31:23.854021Z"
    }
   },
   "outputs": [
    {
     "data": {
      "text/html": [
       "<div>\n",
       "<style scoped>\n",
       "    .dataframe tbody tr th:only-of-type {\n",
       "        vertical-align: middle;\n",
       "    }\n",
       "\n",
       "    .dataframe tbody tr th {\n",
       "        vertical-align: top;\n",
       "    }\n",
       "\n",
       "    .dataframe thead th {\n",
       "        text-align: right;\n",
       "    }\n",
       "</style>\n",
       "<table border=\"1\" class=\"dataframe\">\n",
       "  <thead>\n",
       "    <tr style=\"text-align: right;\">\n",
       "      <th></th>\n",
       "      <th>cylinders</th>\n",
       "      <th>displacement</th>\n",
       "      <th>horsepower</th>\n",
       "      <th>weight</th>\n",
       "      <th>acceleration</th>\n",
       "      <th>model_year</th>\n",
       "      <th>x0_europe</th>\n",
       "      <th>x0_japan</th>\n",
       "      <th>x0_usa</th>\n",
       "    </tr>\n",
       "  </thead>\n",
       "  <tbody>\n",
       "    <tr>\n",
       "      <th>0</th>\n",
       "      <td>-0.862036</td>\n",
       "      <td>-0.567179</td>\n",
       "      <td>-0.556096</td>\n",
       "      <td>-0.581727</td>\n",
       "      <td>0.050686</td>\n",
       "      <td>1.308270</td>\n",
       "      <td>0.0</td>\n",
       "      <td>0.0</td>\n",
       "      <td>1.0</td>\n",
       "    </tr>\n",
       "    <tr>\n",
       "      <th>1</th>\n",
       "      <td>1.478618</td>\n",
       "      <td>1.211255</td>\n",
       "      <td>1.184281</td>\n",
       "      <td>1.437699</td>\n",
       "      <td>-0.946427</td>\n",
       "      <td>-0.017800</td>\n",
       "      <td>0.0</td>\n",
       "      <td>0.0</td>\n",
       "      <td>1.0</td>\n",
       "    </tr>\n",
       "    <tr>\n",
       "      <th>2</th>\n",
       "      <td>0.308291</td>\n",
       "      <td>0.628162</td>\n",
       "      <td>0.129507</td>\n",
       "      <td>-0.021039</td>\n",
       "      <td>-0.761777</td>\n",
       "      <td>-1.343870</td>\n",
       "      <td>0.0</td>\n",
       "      <td>0.0</td>\n",
       "      <td>1.0</td>\n",
       "    </tr>\n",
       "    <tr>\n",
       "      <th>3</th>\n",
       "      <td>-0.862036</td>\n",
       "      <td>-0.508869</td>\n",
       "      <td>-0.898898</td>\n",
       "      <td>0.249801</td>\n",
       "      <td>3.411327</td>\n",
       "      <td>0.777842</td>\n",
       "      <td>1.0</td>\n",
       "      <td>0.0</td>\n",
       "      <td>0.0</td>\n",
       "    </tr>\n",
       "    <tr>\n",
       "      <th>4</th>\n",
       "      <td>-0.862036</td>\n",
       "      <td>-0.722670</td>\n",
       "      <td>-0.213295</td>\n",
       "      <td>-0.682698</td>\n",
       "      <td>-0.244755</td>\n",
       "      <td>0.512628</td>\n",
       "      <td>0.0</td>\n",
       "      <td>1.0</td>\n",
       "      <td>0.0</td>\n",
       "    </tr>\n",
       "  </tbody>\n",
       "</table>\n",
       "</div>"
      ],
      "text/plain": [
       "   cylinders  displacement  horsepower    weight  acceleration  model_year  \\\n",
       "0  -0.862036     -0.567179   -0.556096 -0.581727      0.050686    1.308270   \n",
       "1   1.478618      1.211255    1.184281  1.437699     -0.946427   -0.017800   \n",
       "2   0.308291      0.628162    0.129507 -0.021039     -0.761777   -1.343870   \n",
       "3  -0.862036     -0.508869   -0.898898  0.249801      3.411327    0.777842   \n",
       "4  -0.862036     -0.722670   -0.213295 -0.682698     -0.244755    0.512628   \n",
       "\n",
       "   x0_europe  x0_japan  x0_usa  \n",
       "0        0.0       0.0     1.0  \n",
       "1        0.0       0.0     1.0  \n",
       "2        0.0       0.0     1.0  \n",
       "3        1.0       0.0     0.0  \n",
       "4        0.0       1.0     0.0  "
      ]
     },
     "execution_count": 14,
     "metadata": {},
     "output_type": "execute_result"
    }
   ],
   "source": [
    "X_train_processed_df.head()"
   ]
  },
  {
   "cell_type": "code",
   "execution_count": 15,
   "metadata": {
    "ExecuteTime": {
     "end_time": "2021-03-28T18:31:24.039729Z",
     "start_time": "2021-03-28T18:31:23.869967Z"
    }
   },
   "outputs": [
    {
     "data": {
      "text/html": [
       "<style>div.sk-top-container {color: black;background-color: white;}div.sk-toggleable {background-color: white;}label.sk-toggleable__label {cursor: pointer;display: block;width: 100%;margin-bottom: 0;padding: 0.2em 0.3em;box-sizing: border-box;text-align: center;}div.sk-toggleable__content {max-height: 0;max-width: 0;overflow: hidden;text-align: left;background-color: #f0f8ff;}div.sk-toggleable__content pre {margin: 0.2em;color: black;border-radius: 0.25em;background-color: #f0f8ff;}input.sk-toggleable__control:checked~div.sk-toggleable__content {max-height: 200px;max-width: 100%;overflow: auto;}div.sk-estimator input.sk-toggleable__control:checked~label.sk-toggleable__label {background-color: #d4ebff;}div.sk-label input.sk-toggleable__control:checked~label.sk-toggleable__label {background-color: #d4ebff;}input.sk-hidden--visually {border: 0;clip: rect(1px 1px 1px 1px);clip: rect(1px, 1px, 1px, 1px);height: 1px;margin: -1px;overflow: hidden;padding: 0;position: absolute;width: 1px;}div.sk-estimator {font-family: monospace;background-color: #f0f8ff;margin: 0.25em 0.25em;border: 1px dotted black;border-radius: 0.25em;box-sizing: border-box;}div.sk-estimator:hover {background-color: #d4ebff;}div.sk-parallel-item::after {content: \"\";width: 100%;border-bottom: 1px solid gray;flex-grow: 1;}div.sk-label:hover label.sk-toggleable__label {background-color: #d4ebff;}div.sk-serial::before {content: \"\";position: absolute;border-left: 1px solid gray;box-sizing: border-box;top: 2em;bottom: 0;left: 50%;}div.sk-serial {display: flex;flex-direction: column;align-items: center;background-color: white;}div.sk-item {z-index: 1;}div.sk-parallel {display: flex;align-items: stretch;justify-content: center;background-color: white;}div.sk-parallel-item {display: flex;flex-direction: column;position: relative;background-color: white;}div.sk-parallel-item:first-child::after {align-self: flex-end;width: 50%;}div.sk-parallel-item:last-child::after {align-self: flex-start;width: 50%;}div.sk-parallel-item:only-child::after {width: 0;}div.sk-dashed-wrapped {border: 1px dashed gray;margin: 0.2em;box-sizing: border-box;padding-bottom: 0.1em;background-color: white;position: relative;}div.sk-label label {font-family: monospace;font-weight: bold;background-color: white;display: inline-block;line-height: 1.2em;}div.sk-label-container {position: relative;z-index: 2;text-align: center;}div.sk-container {display: inline-block;position: relative;}</style><div class=\"sk-top-container\"><div class=\"sk-container\"><div class=\"sk-item\"><div class=\"sk-estimator sk-toggleable\"><input class=\"sk-toggleable__control sk-hidden--visually\" id=\"8b2361f6-e248-4c57-acf4-61bd047cc1b6\" type=\"checkbox\" checked><label class=\"sk-toggleable__label\" for=\"8b2361f6-e248-4c57-acf4-61bd047cc1b6\">RandomForestRegressor</label><div class=\"sk-toggleable__content\"><pre>RandomForestRegressor(random_state=51)</pre></div></div></div></div></div>"
      ],
      "text/plain": [
       "RandomForestRegressor(random_state=51)"
      ]
     },
     "execution_count": 15,
     "metadata": {},
     "output_type": "execute_result"
    }
   ],
   "source": [
    "# Create and train model.\n",
    "clf = RandomForestRegressor(random_state=51)\n",
    "clf.fit(X_train_processed_df, y_train)"
   ]
  },
  {
   "cell_type": "code",
   "execution_count": 16,
   "metadata": {
    "ExecuteTime": {
     "end_time": "2021-03-28T18:31:24.063881Z",
     "start_time": "2021-03-28T18:31:24.041227Z"
    }
   },
   "outputs": [
    {
     "name": "stdout",
     "output_type": "stream",
     "text": [
      "Train MAE:\n",
      "\t0.7143657718120797\n",
      "Test MAE:\n",
      "\t1.9746400000000006\n"
     ]
    }
   ],
   "source": [
    "# Check scores.\n",
    "y_pred_train = clf.predict(X_train_processed_df)\n",
    "y_pred_test = clf.predict(X_test_processed_df)\n",
    "\n",
    "print(f'Train MAE:\\n\\t{mean_absolute_error(y_train, y_pred_train)}')\n",
    "print(f'Test MAE:\\n\\t{mean_absolute_error(y_test, y_pred_test)}')"
   ]
  },
  {
   "cell_type": "markdown",
   "metadata": {},
   "source": [
    "# Using a Pipeline"
   ]
  },
  {
   "cell_type": "code",
   "execution_count": 17,
   "metadata": {
    "ExecuteTime": {
     "end_time": "2021-03-28T18:31:24.071624Z",
     "start_time": "2021-03-28T18:31:24.065674Z"
    }
   },
   "outputs": [],
   "source": [
    "from sklearn.compose import ColumnTransformer"
   ]
  },
  {
   "cell_type": "code",
   "execution_count": 18,
   "metadata": {
    "ExecuteTime": {
     "end_time": "2021-03-28T18:31:24.124905Z",
     "start_time": "2021-03-28T18:31:24.073176Z"
    }
   },
   "outputs": [
    {
     "data": {
      "text/html": [
       "<style>div.sk-top-container {color: black;background-color: white;}div.sk-toggleable {background-color: white;}label.sk-toggleable__label {cursor: pointer;display: block;width: 100%;margin-bottom: 0;padding: 0.2em 0.3em;box-sizing: border-box;text-align: center;}div.sk-toggleable__content {max-height: 0;max-width: 0;overflow: hidden;text-align: left;background-color: #f0f8ff;}div.sk-toggleable__content pre {margin: 0.2em;color: black;border-radius: 0.25em;background-color: #f0f8ff;}input.sk-toggleable__control:checked~div.sk-toggleable__content {max-height: 200px;max-width: 100%;overflow: auto;}div.sk-estimator input.sk-toggleable__control:checked~label.sk-toggleable__label {background-color: #d4ebff;}div.sk-label input.sk-toggleable__control:checked~label.sk-toggleable__label {background-color: #d4ebff;}input.sk-hidden--visually {border: 0;clip: rect(1px 1px 1px 1px);clip: rect(1px, 1px, 1px, 1px);height: 1px;margin: -1px;overflow: hidden;padding: 0;position: absolute;width: 1px;}div.sk-estimator {font-family: monospace;background-color: #f0f8ff;margin: 0.25em 0.25em;border: 1px dotted black;border-radius: 0.25em;box-sizing: border-box;}div.sk-estimator:hover {background-color: #d4ebff;}div.sk-parallel-item::after {content: \"\";width: 100%;border-bottom: 1px solid gray;flex-grow: 1;}div.sk-label:hover label.sk-toggleable__label {background-color: #d4ebff;}div.sk-serial::before {content: \"\";position: absolute;border-left: 1px solid gray;box-sizing: border-box;top: 2em;bottom: 0;left: 50%;}div.sk-serial {display: flex;flex-direction: column;align-items: center;background-color: white;}div.sk-item {z-index: 1;}div.sk-parallel {display: flex;align-items: stretch;justify-content: center;background-color: white;}div.sk-parallel-item {display: flex;flex-direction: column;position: relative;background-color: white;}div.sk-parallel-item:first-child::after {align-self: flex-end;width: 50%;}div.sk-parallel-item:last-child::after {align-self: flex-start;width: 50%;}div.sk-parallel-item:only-child::after {width: 0;}div.sk-dashed-wrapped {border: 1px dashed gray;margin: 0.2em;box-sizing: border-box;padding-bottom: 0.1em;background-color: white;position: relative;}div.sk-label label {font-family: monospace;font-weight: bold;background-color: white;display: inline-block;line-height: 1.2em;}div.sk-label-container {position: relative;z-index: 2;text-align: center;}div.sk-container {display: inline-block;position: relative;}</style><div class=\"sk-top-container\"><div class=\"sk-container\"><div class=\"sk-item sk-dashed-wrapped\"><div class=\"sk-label-container\"><div class=\"sk-label sk-toggleable\"><input class=\"sk-toggleable__control sk-hidden--visually\" id=\"9e46b605-60ca-47ea-aef4-133af003cf19\" type=\"checkbox\" ><label class=\"sk-toggleable__label\" for=\"9e46b605-60ca-47ea-aef4-133af003cf19\">Pipeline</label><div class=\"sk-toggleable__content\"><pre>Pipeline(steps=[('ColumnTransformer',\n",
       "                 ColumnTransformer(transformers=[('num',\n",
       "                                                  Pipeline(steps=[('imputer',\n",
       "                                                                   SimpleImputer()),\n",
       "                                                                  ('scaler',\n",
       "                                                                   StandardScaler())]),\n",
       "                                                  ['cylinders', 'displacement',\n",
       "                                                   'horsepower', 'weight',\n",
       "                                                   'acceleration',\n",
       "                                                   'model_year']),\n",
       "                                                 ('cat',\n",
       "                                                  Pipeline(steps=[('ohe',\n",
       "                                                                   OneHotEncoder(handle_unknown='ignore'))]),\n",
       "                                                  ['origin'])])),\n",
       "                ('Classifier', RandomForestRegressor(random_state=51))])</pre></div></div></div><div class=\"sk-serial\"><div class=\"sk-item sk-dashed-wrapped\"><div class=\"sk-label-container\"><div class=\"sk-label sk-toggleable\"><input class=\"sk-toggleable__control sk-hidden--visually\" id=\"ca5fca86-bafa-4b22-865c-c339d0dbc987\" type=\"checkbox\" ><label class=\"sk-toggleable__label\" for=\"ca5fca86-bafa-4b22-865c-c339d0dbc987\">ColumnTransformer: ColumnTransformer</label><div class=\"sk-toggleable__content\"><pre>ColumnTransformer(transformers=[('num',\n",
       "                                 Pipeline(steps=[('imputer', SimpleImputer()),\n",
       "                                                 ('scaler', StandardScaler())]),\n",
       "                                 ['cylinders', 'displacement', 'horsepower',\n",
       "                                  'weight', 'acceleration', 'model_year']),\n",
       "                                ('cat',\n",
       "                                 Pipeline(steps=[('ohe',\n",
       "                                                  OneHotEncoder(handle_unknown='ignore'))]),\n",
       "                                 ['origin'])])</pre></div></div></div><div class=\"sk-parallel\"><div class=\"sk-parallel-item\"><div class=\"sk-item\"><div class=\"sk-label-container\"><div class=\"sk-label sk-toggleable\"><input class=\"sk-toggleable__control sk-hidden--visually\" id=\"e192a565-f4c8-4649-a62f-75503a233be3\" type=\"checkbox\" ><label class=\"sk-toggleable__label\" for=\"e192a565-f4c8-4649-a62f-75503a233be3\">num</label><div class=\"sk-toggleable__content\"><pre>['cylinders', 'displacement', 'horsepower', 'weight', 'acceleration', 'model_year']</pre></div></div></div><div class=\"sk-serial\"><div class=\"sk-item\"><div class=\"sk-serial\"><div class=\"sk-item\"><div class=\"sk-estimator sk-toggleable\"><input class=\"sk-toggleable__control sk-hidden--visually\" id=\"52e6f0a2-19c1-45e4-abe0-0cc572ba4bd0\" type=\"checkbox\" ><label class=\"sk-toggleable__label\" for=\"52e6f0a2-19c1-45e4-abe0-0cc572ba4bd0\">SimpleImputer</label><div class=\"sk-toggleable__content\"><pre>SimpleImputer()</pre></div></div></div><div class=\"sk-item\"><div class=\"sk-estimator sk-toggleable\"><input class=\"sk-toggleable__control sk-hidden--visually\" id=\"cbd23791-031e-4e7b-aa24-bda8c2a0be35\" type=\"checkbox\" ><label class=\"sk-toggleable__label\" for=\"cbd23791-031e-4e7b-aa24-bda8c2a0be35\">StandardScaler</label><div class=\"sk-toggleable__content\"><pre>StandardScaler()</pre></div></div></div></div></div></div></div></div><div class=\"sk-parallel-item\"><div class=\"sk-item\"><div class=\"sk-label-container\"><div class=\"sk-label sk-toggleable\"><input class=\"sk-toggleable__control sk-hidden--visually\" id=\"2bd9aded-105e-48b5-9cb8-fbf63732dfed\" type=\"checkbox\" ><label class=\"sk-toggleable__label\" for=\"2bd9aded-105e-48b5-9cb8-fbf63732dfed\">cat</label><div class=\"sk-toggleable__content\"><pre>['origin']</pre></div></div></div><div class=\"sk-serial\"><div class=\"sk-item\"><div class=\"sk-serial\"><div class=\"sk-item\"><div class=\"sk-estimator sk-toggleable\"><input class=\"sk-toggleable__control sk-hidden--visually\" id=\"38a727b2-30d3-45de-83f8-45cb76d11f4c\" type=\"checkbox\" ><label class=\"sk-toggleable__label\" for=\"38a727b2-30d3-45de-83f8-45cb76d11f4c\">OneHotEncoder</label><div class=\"sk-toggleable__content\"><pre>OneHotEncoder(handle_unknown='ignore')</pre></div></div></div></div></div></div></div></div></div></div><div class=\"sk-item\"><div class=\"sk-estimator sk-toggleable\"><input class=\"sk-toggleable__control sk-hidden--visually\" id=\"c8b0551d-8326-4517-ba7f-2cd9ce0b045f\" type=\"checkbox\" ><label class=\"sk-toggleable__label\" for=\"c8b0551d-8326-4517-ba7f-2cd9ce0b045f\">RandomForestRegressor</label><div class=\"sk-toggleable__content\"><pre>RandomForestRegressor(random_state=51)</pre></div></div></div></div></div></div></div>"
      ],
      "text/plain": [
       "Pipeline(steps=[('ColumnTransformer',\n",
       "                 ColumnTransformer(transformers=[('num',\n",
       "                                                  Pipeline(steps=[('imputer',\n",
       "                                                                   SimpleImputer()),\n",
       "                                                                  ('scaler',\n",
       "                                                                   StandardScaler())]),\n",
       "                                                  ['cylinders', 'displacement',\n",
       "                                                   'horsepower', 'weight',\n",
       "                                                   'acceleration',\n",
       "                                                   'model_year']),\n",
       "                                                 ('cat',\n",
       "                                                  Pipeline(steps=[('ohe',\n",
       "                                                                   OneHotEncoder(handle_unknown='ignore'))]),\n",
       "                                                  ['origin'])])),\n",
       "                ('Classifier', RandomForestRegressor(random_state=51))])"
      ]
     },
     "execution_count": 18,
     "metadata": {},
     "output_type": "execute_result"
    }
   ],
   "source": [
    "# Same process, using pipelines.\n",
    "num_pipe = Pipeline(steps=[\n",
    "    ('imputer', SimpleImputer(missing_values=np.nan)),\n",
    "    ('scaler', StandardScaler())\n",
    "])\n",
    "\n",
    "cat_pipe = Pipeline(steps=[\n",
    "    ('ohe', OneHotEncoder(handle_unknown='ignore'))\n",
    "])\n",
    "\n",
    "# Combine into ColumnTransformer\n",
    "transformer = ColumnTransformer(transformers=[\n",
    "    ('num', num_pipe, numerical_cols),\n",
    "    ('cat', cat_pipe, categorical_cols)\n",
    "])\n",
    "\n",
    "# Master Pipeline\n",
    "master_pipe = Pipeline(steps=[\n",
    "    ('ColumnTransformer', transformer),\n",
    "    ('Classifier', RandomForestRegressor(random_state=51))\n",
    "])\n",
    "master_pipe"
   ]
  },
  {
   "cell_type": "code",
   "execution_count": 19,
   "metadata": {
    "ExecuteTime": {
     "end_time": "2021-03-28T18:31:24.329111Z",
     "start_time": "2021-03-28T18:31:24.127004Z"
    }
   },
   "outputs": [
    {
     "name": "stdout",
     "output_type": "stream",
     "text": [
      "Train MAE:\n",
      "\t0.7143657718120797\n",
      "Test MAE:\n",
      "\t1.9746400000000006\n"
     ]
    }
   ],
   "source": [
    "# Using the original, untransformed data!\n",
    "master_pipe.fit(X_train, y_train)\n",
    "\n",
    "print_mae(\n",
    "    y_train, \n",
    "    y_test, \n",
    "    master_pipe.predict(X_train), \n",
    "    master_pipe.predict(X_test)\n",
    "    )"
   ]
  },
  {
   "cell_type": "markdown",
   "metadata": {},
   "source": [
    "# Time to practice!"
   ]
  },
  {
   "cell_type": "code",
   "execution_count": null,
   "metadata": {},
   "outputs": [],
   "source": []
  }
 ],
 "metadata": {
  "kernelspec": {
   "display_name": "Python [conda env:learn-env] *",
   "language": "python",
   "name": "conda-env-learn-env-py"
  },
  "language_info": {
   "codemirror_mode": {
    "name": "ipython",
    "version": 3
   },
   "file_extension": ".py",
   "mimetype": "text/x-python",
   "name": "python",
   "nbconvert_exporter": "python",
   "pygments_lexer": "ipython3",
   "version": "3.6.9"
  },
  "toc": {
   "base_numbering": 1,
   "nav_menu": {},
   "number_sections": false,
   "sideBar": true,
   "skip_h1_title": false,
   "title_cell": "Table of Contents",
   "title_sidebar": "Contents",
   "toc_cell": false,
   "toc_position": {},
   "toc_section_display": true,
   "toc_window_display": true
  }
 },
 "nbformat": 4,
 "nbformat_minor": 2
}
