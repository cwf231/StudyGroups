{
 "cells": [
  {
   "cell_type": "markdown",
   "metadata": {},
   "source": [
    "## Phase 3.28\n",
    "# Bayes Classification\n",
    "\n",
    "## Objectives\n",
    "- Revisit <a href='#bayes'>Bayes Theorem</a> and conceptualize building a model.\n",
    "- Understand the data processing method: <a href='#bow'>Bag of Words</a>.\n",
    "- Implement <a href='#nb-clf'>Naive Bayes Classifier</a> in scikit-learn.\n",
    "    - Compare Naive Bayes with <a href='#logreg'>another classification model</a>."
   ]
  },
  {
   "cell_type": "code",
   "execution_count": 1,
   "metadata": {
    "ExecuteTime": {
     "end_time": "2021-11-18T23:38:15.006999Z",
     "start_time": "2021-11-18T23:38:12.963234Z"
    }
   },
   "outputs": [],
   "source": [
    "import numpy as np\n",
    "import pandas as pd\n",
    "from sklearn.model_selection import train_test_split\n",
    "from sklearn.feature_extraction.text import CountVectorizer\n",
    "from sklearn.naive_bayes import GaussianNB\n",
    "from sklearn.metrics import classification_report, plot_confusion_matrix\n",
    "from sklearn.datasets import fetch_20newsgroups"
   ]
  },
  {
   "cell_type": "markdown",
   "metadata": {},
   "source": [
    "<a id='bayes'></a>\n",
    "# Bayes Classification: Introduction\n",
    "\n",
    "Naive Bayes algorithms extend Bayes' formula to multiple variables by assuming that these features are independent of one another, which may not be met, (hence its naivety) it can nonetheless provide strong results in scenarios with clean and well normalized datasets. \n",
    "\n",
    "This then allows you to estimate an overall probability by multiplying the conditional probabilities for each of the independent features.\n",
    "\n",
    "## Recap: Bayes Theorem\n",
    "\n",
    "$$ \\Large P(A|B) = \\frac{P(B|A)\\bullet P(A)}{P(B)}$$\n",
    "\n",
    "Expanding to multiple features, the multinomial Bayes' formula is:  \n",
    "\n",
    "$$ \\Large P(y|x_1, x_2, ..., x_n) = \\frac{P(y)\\prod_{i}^{n}P(x_i|y)}{P(x_1, x_2, ..., x_n)}$$"
   ]
  },
  {
   "cell_type": "markdown",
   "metadata": {},
   "source": [
    "---\n",
    "<a id='bow'></a>\n",
    "# How can we represent a text as a DataFrame?\n",
    "\n",
    " $$ P(\\text{Document | Word}) = \\dfrac{P(\\text{Word | Document})P(\\text{Document})}{P(\\text{Word})}$$  \n",
    "\n",
    "## Bag of Words\n",
    "\n",
    "A **Bag of Words** is a frequency-mapping for a given text or document.\n",
    "\n",
    "For example:\n",
    "\n",
    "> **Sentence**: `'My favorite food is pizza. My brother likes pizza too.'`\n",
    "> \n",
    "> **Bag of Words**: `{'My': 2, 'favorite': 1, 'food': 1, 'is': 1, 'pizza': 2, 'brother': 1, 'likes': 1, 'too': 1}`"
   ]
  },
  {
   "cell_type": "markdown",
   "metadata": {},
   "source": [
    "---\n",
    "## Transforming Text Data\n",
    "\n",
    "***Original Data***\n",
    "> **Sentence 1**: `'My favorite food is pizza. My brother likes pizza too.'`\n",
    "> \n",
    "> **Sentence 2**: `'My mom likes baseball. My dad likes painting.'`\n",
    ">\n",
    "\n",
    "***Processing***\n",
    "> **BoW 1**: `{'My': 2, 'favorite': 1, 'food': 1, 'is': 1, 'pizza': 2, 'brother': 1, 'likes': 1, 'too': 1}`\n",
    ">\n",
    "> **BoW 2**: `{'My': 2, 'mom': 1, 'likes': 2, 'baseball': 1, 'dad': 1, 'painting': 1}`\n",
    "\n",
    "***DataFrame Representation***\n",
    "> | mom | favorite | brother | pizza | painting | too | my | is | dad | food | baseball | likes |\n",
    "> | --- | ---      | ---     | ---   | ---      | --- | -- | -- | --- | ---  | ---      | ---   |\n",
    "> |   0 |   1      |   1     |   2   |   0      |   1 |  2 |  1 |   0 |   1  |   0      |   1   |\n",
    "> |   1 |   0      |   0     |   0   |   1      |   0 |  2 |  0 |   1 |   0  |   1      |   2   |"
   ]
  },
  {
   "cell_type": "markdown",
   "metadata": {},
   "source": [
    "### PRACTICE!\n",
    "#### Create BoW dictionaries for each sentence."
   ]
  },
  {
   "cell_type": "code",
   "execution_count": 2,
   "metadata": {
    "ExecuteTime": {
     "end_time": "2021-11-18T23:54:45.858864Z",
     "start_time": "2021-11-18T23:54:45.854616Z"
    }
   },
   "outputs": [],
   "source": [
    "# Coding a Bag of Words\n",
    "s1 = 'My favorite food is pizza. My brother likes pizza too.'\n",
    "s2 = 'My mom likes baseball. My dad likes painting.'"
   ]
  },
  {
   "cell_type": "code",
   "execution_count": 8,
   "metadata": {
    "ExecuteTime": {
     "end_time": "2021-11-19T00:00:05.452536Z",
     "start_time": "2021-11-19T00:00:05.445490Z"
    }
   },
   "outputs": [
    {
     "data": {
      "text/plain": [
       "{'My': 2,\n",
       " 'favorite': 1,\n",
       " 'food': 1,\n",
       " 'is': 1,\n",
       " 'pizza': 2,\n",
       " 'brother': 1,\n",
       " 'likes': 1,\n",
       " 'too': 1}"
      ]
     },
     "execution_count": 8,
     "metadata": {},
     "output_type": "execute_result"
    }
   ],
   "source": [
    "# John\n",
    "s1 = 'My favorite food is pizza. My brother likes pizza too.'\n",
    "\n",
    "s1_split = s1.replace('.', '').split()\n",
    "count = {}\n",
    "for word in s1_split:\n",
    "    if word in count:\n",
    "        count[word] += 1\n",
    "    else:\n",
    "        count[word] = 1\n",
    "count"
   ]
  },
  {
   "cell_type": "code",
   "execution_count": 5,
   "metadata": {
    "ExecuteTime": {
     "end_time": "2021-11-18T23:58:26.323349Z",
     "start_time": "2021-11-18T23:58:26.319194Z"
    },
    "scrolled": true
   },
   "outputs": [
    {
     "name": "stdout",
     "output_type": "stream",
     "text": [
      "My\n",
      "favorite\n",
      "food\n",
      "is\n",
      "pizza.\n",
      "My\n",
      "brother\n",
      "likes\n",
      "pizza\n",
      "too.\n"
     ]
    }
   ],
   "source": [
    "# Vi\n",
    "dict = {}\n",
    "\n",
    "for word in s1.split():\n",
    "    print(word)"
   ]
  },
  {
   "cell_type": "code",
   "execution_count": 6,
   "metadata": {
    "ExecuteTime": {
     "end_time": "2021-11-18T23:58:46.695510Z",
     "start_time": "2021-11-18T23:58:46.684826Z"
    }
   },
   "outputs": [
    {
     "data": {
      "text/plain": [
       "['My',\n",
       " 'favorite',\n",
       " 'food',\n",
       " 'is',\n",
       " 'pizza.',\n",
       " 'My',\n",
       " 'brother',\n",
       " 'likes',\n",
       " 'pizza',\n",
       " 'too.']"
      ]
     },
     "execution_count": 6,
     "metadata": {},
     "output_type": "execute_result"
    }
   ],
   "source": [
    "s1.split()"
   ]
  },
  {
   "cell_type": "code",
   "execution_count": null,
   "metadata": {},
   "outputs": [],
   "source": [
    "# Huseyin\n",
    "def f(s):\n",
    "    a={}\n",
    "    b = s.split()\n",
    "    count=0\n",
    "    for i in b:\n",
    "        pass # Not done yet"
   ]
  },
  {
   "cell_type": "code",
   "execution_count": 10,
   "metadata": {
    "ExecuteTime": {
     "end_time": "2021-11-19T00:01:57.748499Z",
     "start_time": "2021-11-19T00:01:57.743254Z"
    }
   },
   "outputs": [
    {
     "data": {
      "text/plain": [
       "{'My': 2,\n",
       " 'favorite': 1,\n",
       " 'food': 1,\n",
       " 'is': 1,\n",
       " 'pizza': 2,\n",
       " 'brother': 1,\n",
       " 'likes': 1,\n",
       " 'too': 1}"
      ]
     },
     "execution_count": 10,
     "metadata": {},
     "output_type": "execute_result"
    }
   ],
   "source": [
    "bow1 = {}\n",
    "# Code me!!\n",
    "for word in s1.replace('.', '').split():\n",
    "    bow1[word] = bow1.get(word, 0) + 1\n",
    "bow1"
   ]
  },
  {
   "cell_type": "code",
   "execution_count": 11,
   "metadata": {
    "ExecuteTime": {
     "end_time": "2021-11-19T00:02:43.391837Z",
     "start_time": "2021-11-19T00:02:43.386513Z"
    }
   },
   "outputs": [
    {
     "data": {
      "text/plain": [
       "{'My': 2, 'mom': 1, 'likes': 2, 'baseball': 1, 'dad': 1, 'painting': 1}"
      ]
     },
     "execution_count": 11,
     "metadata": {},
     "output_type": "execute_result"
    }
   ],
   "source": [
    "bow2 = {}\n",
    "# Code me!!\n",
    "for word in s2.replace('.', '').split():\n",
    "    bow2[word] = bow2.get(word, 0) + 1\n",
    "bow2"
   ]
  },
  {
   "cell_type": "code",
   "execution_count": 16,
   "metadata": {
    "ExecuteTime": {
     "end_time": "2021-11-19T00:03:57.797504Z",
     "start_time": "2021-11-19T00:03:57.792904Z"
    }
   },
   "outputs": [
    {
     "data": {
      "text/plain": [
       "'NOTHING HERE!!!!'"
      ]
     },
     "execution_count": 16,
     "metadata": {},
     "output_type": "execute_result"
    }
   ],
   "source": [
    "d = {'a': 1, 'b': 2, 'c': 3}\n",
    "d.get('x', 'NOTHING HERE!!!!')"
   ]
  },
  {
   "cell_type": "code",
   "execution_count": 17,
   "metadata": {
    "ExecuteTime": {
     "end_time": "2021-11-19T00:04:02.600476Z",
     "start_time": "2021-11-19T00:04:02.593355Z"
    }
   },
   "outputs": [
    {
     "ename": "KeyError",
     "evalue": "'x'",
     "output_type": "error",
     "traceback": [
      "\u001b[0;31m---------------------------------------------------------------------------\u001b[0m",
      "\u001b[0;31mKeyError\u001b[0m                                  Traceback (most recent call last)",
      "\u001b[0;32m<ipython-input-17-7657742692bd>\u001b[0m in \u001b[0;36m<module>\u001b[0;34m\u001b[0m\n\u001b[0;32m----> 1\u001b[0;31m \u001b[0md\u001b[0m\u001b[0;34m[\u001b[0m\u001b[0;34m'x'\u001b[0m\u001b[0;34m]\u001b[0m\u001b[0;34m\u001b[0m\u001b[0;34m\u001b[0m\u001b[0m\n\u001b[0m",
      "\u001b[0;31mKeyError\u001b[0m: 'x'"
     ]
    }
   ],
   "source": [
    "d['x']"
   ]
  },
  {
   "cell_type": "code",
   "execution_count": 18,
   "metadata": {
    "ExecuteTime": {
     "end_time": "2021-11-19T00:04:14.046579Z",
     "start_time": "2021-11-19T00:04:14.042130Z"
    }
   },
   "outputs": [
    {
     "data": {
      "text/plain": [
       "{'My': 2,\n",
       " 'favorite': 1,\n",
       " 'food': 1,\n",
       " 'is': 1,\n",
       " 'pizza': 2,\n",
       " 'brother': 1,\n",
       " 'likes': 1,\n",
       " 'too': 1}"
      ]
     },
     "execution_count": 18,
     "metadata": {},
     "output_type": "execute_result"
    }
   ],
   "source": [
    "bow1"
   ]
  },
  {
   "cell_type": "code",
   "execution_count": 19,
   "metadata": {
    "ExecuteTime": {
     "end_time": "2021-11-19T00:04:14.199440Z",
     "start_time": "2021-11-19T00:04:14.194137Z"
    }
   },
   "outputs": [
    {
     "data": {
      "text/plain": [
       "{'My': 2, 'mom': 1, 'likes': 2, 'baseball': 1, 'dad': 1, 'painting': 1}"
      ]
     },
     "execution_count": 19,
     "metadata": {},
     "output_type": "execute_result"
    }
   ],
   "source": [
    "bow2"
   ]
  },
  {
   "cell_type": "code",
   "execution_count": 20,
   "metadata": {
    "ExecuteTime": {
     "end_time": "2021-11-19T00:04:20.922723Z",
     "start_time": "2021-11-19T00:04:20.893060Z"
    }
   },
   "outputs": [
    {
     "data": {
      "text/html": [
       "<div>\n",
       "<style scoped>\n",
       "    .dataframe tbody tr th:only-of-type {\n",
       "        vertical-align: middle;\n",
       "    }\n",
       "\n",
       "    .dataframe tbody tr th {\n",
       "        vertical-align: top;\n",
       "    }\n",
       "\n",
       "    .dataframe thead th {\n",
       "        text-align: right;\n",
       "    }\n",
       "</style>\n",
       "<table border=\"1\" class=\"dataframe\">\n",
       "  <thead>\n",
       "    <tr style=\"text-align: right;\">\n",
       "      <th></th>\n",
       "      <th>My</th>\n",
       "      <th>favorite</th>\n",
       "      <th>food</th>\n",
       "      <th>is</th>\n",
       "      <th>pizza</th>\n",
       "      <th>brother</th>\n",
       "      <th>likes</th>\n",
       "      <th>too</th>\n",
       "      <th>mom</th>\n",
       "      <th>baseball</th>\n",
       "      <th>dad</th>\n",
       "      <th>painting</th>\n",
       "    </tr>\n",
       "  </thead>\n",
       "  <tbody>\n",
       "    <tr>\n",
       "      <th>0</th>\n",
       "      <td>2</td>\n",
       "      <td>1</td>\n",
       "      <td>1</td>\n",
       "      <td>1</td>\n",
       "      <td>2</td>\n",
       "      <td>1</td>\n",
       "      <td>1</td>\n",
       "      <td>1</td>\n",
       "      <td>0</td>\n",
       "      <td>0</td>\n",
       "      <td>0</td>\n",
       "      <td>0</td>\n",
       "    </tr>\n",
       "    <tr>\n",
       "      <th>1</th>\n",
       "      <td>2</td>\n",
       "      <td>0</td>\n",
       "      <td>0</td>\n",
       "      <td>0</td>\n",
       "      <td>0</td>\n",
       "      <td>0</td>\n",
       "      <td>2</td>\n",
       "      <td>0</td>\n",
       "      <td>1</td>\n",
       "      <td>1</td>\n",
       "      <td>1</td>\n",
       "      <td>1</td>\n",
       "    </tr>\n",
       "  </tbody>\n",
       "</table>\n",
       "</div>"
      ],
      "text/plain": [
       "   My  favorite  food  is  pizza  brother  likes  too  mom  baseball  dad  \\\n",
       "0   2         1     1   1      2        1      1    1    0         0    0   \n",
       "1   2         0     0   0      0        0      2    0    1         1    1   \n",
       "\n",
       "   painting  \n",
       "0         0  \n",
       "1         1  "
      ]
     },
     "execution_count": 20,
     "metadata": {},
     "output_type": "execute_result"
    }
   ],
   "source": [
    "pd.DataFrame([bow1, bow2]).fillna(0).astype(int)"
   ]
  },
  {
   "cell_type": "markdown",
   "metadata": {},
   "source": [
    "<a id='nb-clf'></a>\n",
    "# Classifying News\n",
    "## Implementing Bayes Classifier in Scikit-Learn\n",
    "\n",
    "**There are 3 available classifiers for Naive Bayes in sklearn.** \n",
    "\n",
    "1. Gaussian: Assumes that continuous features follow a normal distribution.\n",
    "\n",
    "2. Bernoulli: The binomial model is useful if your features are binary.\n",
    "\n",
    "3. Multinomial: It is useful if your features are discrete."
   ]
  },
  {
   "cell_type": "code",
   "execution_count": 21,
   "metadata": {
    "ExecuteTime": {
     "end_time": "2021-11-19T00:05:46.242345Z",
     "start_time": "2021-11-19T00:05:45.875192Z"
    }
   },
   "outputs": [
    {
     "data": {
      "text/plain": [
       "dict_keys(['data', 'filenames', 'target_names', 'target', 'DESCR'])"
      ]
     },
     "execution_count": 21,
     "metadata": {},
     "output_type": "execute_result"
    }
   ],
   "source": [
    "# Load data.\n",
    "news_data = fetch_20newsgroups(\n",
    "    subset='all',\n",
    "    categories=['rec.sport.baseball', 'talk.politics.misc']\n",
    "    )\n",
    "news_data.keys()"
   ]
  },
  {
   "cell_type": "code",
   "execution_count": 22,
   "metadata": {
    "ExecuteTime": {
     "end_time": "2021-11-19T00:06:06.346211Z",
     "start_time": "2021-11-19T00:06:06.333634Z"
    }
   },
   "outputs": [
    {
     "data": {
      "text/html": [
       "<div>\n",
       "<style scoped>\n",
       "    .dataframe tbody tr th:only-of-type {\n",
       "        vertical-align: middle;\n",
       "    }\n",
       "\n",
       "    .dataframe tbody tr th {\n",
       "        vertical-align: top;\n",
       "    }\n",
       "\n",
       "    .dataframe thead th {\n",
       "        text-align: right;\n",
       "    }\n",
       "</style>\n",
       "<table border=\"1\" class=\"dataframe\">\n",
       "  <thead>\n",
       "    <tr style=\"text-align: right;\">\n",
       "      <th></th>\n",
       "      <th>data</th>\n",
       "      <th>target</th>\n",
       "    </tr>\n",
       "  </thead>\n",
       "  <tbody>\n",
       "    <tr>\n",
       "      <th>0</th>\n",
       "      <td>From: paula@koufax.cv.hp.com (Paul Andresen)\\n...</td>\n",
       "      <td>0</td>\n",
       "    </tr>\n",
       "    <tr>\n",
       "      <th>1</th>\n",
       "      <td>From: garrett@Ingres.COM \\nSubject: Re: Limiti...</td>\n",
       "      <td>1</td>\n",
       "    </tr>\n",
       "    <tr>\n",
       "      <th>2</th>\n",
       "      <td>From: djs9683@ritvax.isc.rit.edu\\nSubject: Re:...</td>\n",
       "      <td>0</td>\n",
       "    </tr>\n",
       "    <tr>\n",
       "      <th>3</th>\n",
       "      <td>From: nickn@eskimo.com (Nick Nussbaum)\\nSubjec...</td>\n",
       "      <td>1</td>\n",
       "    </tr>\n",
       "    <tr>\n",
       "      <th>4</th>\n",
       "      <td>From: jerry@sheldev.shel.isc-br.com (Gerald La...</td>\n",
       "      <td>0</td>\n",
       "    </tr>\n",
       "  </tbody>\n",
       "</table>\n",
       "</div>"
      ],
      "text/plain": [
       "                                                data  target\n",
       "0  From: paula@koufax.cv.hp.com (Paul Andresen)\\n...       0\n",
       "1  From: garrett@Ingres.COM \\nSubject: Re: Limiti...       1\n",
       "2  From: djs9683@ritvax.isc.rit.edu\\nSubject: Re:...       0\n",
       "3  From: nickn@eskimo.com (Nick Nussbaum)\\nSubjec...       1\n",
       "4  From: jerry@sheldev.shel.isc-br.com (Gerald La...       0"
      ]
     },
     "execution_count": 22,
     "metadata": {},
     "output_type": "execute_result"
    }
   ],
   "source": [
    "# Create a dataframe from the loaded data.\n",
    "df = pd.DataFrame()\n",
    "df['data'] = news_data['data']\n",
    "df['target'] = news_data['target']\n",
    "df.head()"
   ]
  },
  {
   "cell_type": "code",
   "execution_count": 23,
   "metadata": {
    "ExecuteTime": {
     "end_time": "2021-11-19T00:06:20.079899Z",
     "start_time": "2021-11-19T00:06:20.074707Z"
    }
   },
   "outputs": [
    {
     "data": {
      "text/plain": [
       "'From: paula@koufax.cv.hp.com (Paul Andresen)\\nSubject: Re: Let it be Known\\nNntp-Posting-Host: koufax.cv.hp.com\\nOrganization: Hewlett-Packard Company, Corvallis, Oregon USA\\nLines: 15\\n\\nIn article <93104.233239ISSBTL@BYUVM.BITNET>, <ISSBTL@BYUVM.BITNET> writes:\\n|> I would like to make everyone aware that in winning the NL West the Atlanta\\n|> Braves did not lead wire-to-wire.  Through games of 4/14/93 the Houston\\n|> Astros are percentage points ahead of the \"unbeatable\" Braves.\\n\\nAnd they deserve to be, if for no other reason than salvaging a little of the\\nhonor of the NL West. The supposed strongest division in baseball lost 6 of 7\\nto the East yesterday, with only the Astros prevailing.\\n--------------------------------------------------------------------------------\\n           We will stretch no farm animal beyond its natural length\\n\\n  paula@koufax.cv.hp.com   Paul Andresen  Hewlett-Packard  (503)-750-3511\\n\\n    home: 3006 NW McKinley    Corvallis, OR 97330       (503)-752-8424\\n                            A SABR member since 1979\\n'"
      ]
     },
     "execution_count": 23,
     "metadata": {},
     "output_type": "execute_result"
    }
   ],
   "source": [
    "# Look at a row of the data.\n",
    "df.iloc[0]['data']"
   ]
  },
  {
   "cell_type": "code",
   "execution_count": 24,
   "metadata": {
    "ExecuteTime": {
     "end_time": "2021-11-19T00:07:20.927316Z",
     "start_time": "2021-11-19T00:07:20.917231Z"
    }
   },
   "outputs": [
    {
     "data": {
      "text/plain": [
       "0    0.561899\n",
       "1    0.438101\n",
       "Name: target, dtype: float64"
      ]
     },
     "execution_count": 24,
     "metadata": {},
     "output_type": "execute_result"
    }
   ],
   "source": [
    "df['target'].value_counts(normalize=True)"
   ]
  },
  {
   "cell_type": "code",
   "execution_count": 25,
   "metadata": {
    "ExecuteTime": {
     "end_time": "2021-11-19T00:07:37.225324Z",
     "start_time": "2021-11-19T00:07:37.218552Z"
    }
   },
   "outputs": [
    {
     "data": {
      "text/plain": [
       "((1326,), (443,), (1326,), (443,))"
      ]
     },
     "execution_count": 25,
     "metadata": {},
     "output_type": "execute_result"
    }
   ],
   "source": [
    "# Perform train test split (random_state=2021)\n",
    "X_train, X_test, y_train, y_test = train_test_split(\n",
    "    df['data'],\n",
    "    df['target'])\n",
    "\n",
    "X_train.shape, X_test.shape, y_train.shape, y_test.shape"
   ]
  },
  {
   "cell_type": "code",
   "execution_count": 26,
   "metadata": {
    "ExecuteTime": {
     "end_time": "2021-11-19T00:08:07.754569Z",
     "start_time": "2021-11-19T00:08:07.746267Z"
    }
   },
   "outputs": [],
   "source": [
    "# 'The' != 'the'\n",
    "X_train = X_train.apply(lambda x: x.lower())\n",
    "X_test = X_test.apply(lambda x: x.lower())"
   ]
  },
  {
   "cell_type": "code",
   "execution_count": 27,
   "metadata": {
    "ExecuteTime": {
     "end_time": "2021-11-19T00:08:09.346810Z",
     "start_time": "2021-11-19T00:08:09.343193Z"
    }
   },
   "outputs": [
    {
     "data": {
      "text/plain": [
       "'from: paula@koufax.cv.hp.com (paul andresen)\\nsubject: re: let it be known\\nnntp-posting-host: koufax.cv.hp.com\\norganization: hewlett-packard company, corvallis, oregon usa\\nlines: 15\\n\\nin article <93104.233239issbtl@byuvm.bitnet>, <issbtl@byuvm.bitnet> writes:\\n|> i would like to make everyone aware that in winning the nl west the atlanta\\n|> braves did not lead wire-to-wire.  through games of 4/14/93 the houston\\n|> astros are percentage points ahead of the \"unbeatable\" braves.\\n\\nand they deserve to be, if for no other reason than salvaging a little of the\\nhonor of the nl west. the supposed strongest division in baseball lost 6 of 7\\nto the east yesterday, with only the astros prevailing.\\n--------------------------------------------------------------------------------\\n           we will stretch no farm animal beyond its natural length\\n\\n  paula@koufax.cv.hp.com   paul andresen  hewlett-packard  (503)-750-3511\\n\\n    home: 3006 nw mckinley    corvallis, or 97330       (503)-752-8424\\n                            a sabr member since 1979\\n'"
      ]
     },
     "execution_count": 27,
     "metadata": {},
     "output_type": "execute_result"
    }
   ],
   "source": [
    "X_train[0]"
   ]
  },
  {
   "cell_type": "code",
   "execution_count": 28,
   "metadata": {
    "ExecuteTime": {
     "end_time": "2021-11-19T00:11:56.165425Z",
     "start_time": "2021-11-19T00:11:55.627898Z"
    }
   },
   "outputs": [],
   "source": [
    "# Use CountVectorizer to process text.\n",
    "count_vec = CountVectorizer()\n",
    "\n",
    "X_train_processed = count_vec.fit_transform(X_train)\n",
    "X_test_processed = count_vec.transform(X_test)"
   ]
  },
  {
   "cell_type": "code",
   "execution_count": 29,
   "metadata": {
    "ExecuteTime": {
     "end_time": "2021-11-19T00:11:59.617345Z",
     "start_time": "2021-11-19T00:11:59.611790Z"
    }
   },
   "outputs": [
    {
     "data": {
      "text/plain": [
       "<1326x23135 sparse matrix of type '<class 'numpy.int64'>'\n",
       "\twith 226455 stored elements in Compressed Sparse Row format>"
      ]
     },
     "execution_count": 29,
     "metadata": {},
     "output_type": "execute_result"
    }
   ],
   "source": [
    "X_train_processed"
   ]
  },
  {
   "cell_type": "code",
   "execution_count": 30,
   "metadata": {
    "ExecuteTime": {
     "end_time": "2021-11-19T00:13:44.223179Z",
     "start_time": "2021-11-19T00:13:44.180706Z"
    }
   },
   "outputs": [
    {
     "data": {
      "text/plain": [
       "['00',\n",
       " '000',\n",
       " '000007',\n",
       " '0000ahc',\n",
       " '000k',\n",
       " '000th',\n",
       " '001',\n",
       " '0010',\n",
       " '001116',\n",
       " '001211',\n",
       " '001338',\n",
       " '001815',\n",
       " '002',\n",
       " '002251w',\n",
       " '002302',\n",
       " '002339',\n",
       " '003',\n",
       " '003015',\n",
       " '003848',\n",
       " '004224',\n",
       " '005',\n",
       " '005314',\n",
       " '005634',\n",
       " '005756',\n",
       " '0059',\n",
       " '006',\n",
       " '0062',\n",
       " '007',\n",
       " '0084',\n",
       " '0096b0f0',\n",
       " '00bjgood',\n",
       " '00cgbabbitt',\n",
       " '00cmmiller',\n",
       " '00ecgillespi',\n",
       " '00ecgillespie',\n",
       " '00mbstultz',\n",
       " '00pm',\n",
       " '00pmlemen',\n",
       " '00x',\n",
       " '01',\n",
       " '0100',\n",
       " '010423',\n",
       " '010657',\n",
       " '010745',\n",
       " '010908',\n",
       " '011042',\n",
       " '0112',\n",
       " '0114',\n",
       " '011653',\n",
       " '012139',\n",
       " '012344',\n",
       " '013',\n",
       " '013559',\n",
       " '013651',\n",
       " '013653',\n",
       " '014',\n",
       " '015',\n",
       " '015442',\n",
       " '015908',\n",
       " '016',\n",
       " '0169',\n",
       " '017',\n",
       " '01810',\n",
       " '019',\n",
       " '01apr93',\n",
       " '02',\n",
       " '020',\n",
       " '0205',\n",
       " '020832',\n",
       " '02086551',\n",
       " '021',\n",
       " '021021',\n",
       " '02115',\n",
       " '021154',\n",
       " '02139',\n",
       " '02141',\n",
       " '02172',\n",
       " '022',\n",
       " '02215',\n",
       " '022222',\n",
       " '0223',\n",
       " '022425',\n",
       " '023',\n",
       " '023116',\n",
       " '023211',\n",
       " '024',\n",
       " '024222',\n",
       " '024646',\n",
       " '025',\n",
       " '025018',\n",
       " '025027',\n",
       " '025331',\n",
       " '025636',\n",
       " '027',\n",
       " '029',\n",
       " '03',\n",
       " '030234',\n",
       " '030412',\n",
       " '030703',\n",
       " '030713',\n",
       " '030934',\n",
       " '031404',\n",
       " '031616',\n",
       " '031648',\n",
       " '032345',\n",
       " '032427',\n",
       " '032554',\n",
       " '032616mbs110',\n",
       " '032930',\n",
       " '033050',\n",
       " '033313',\n",
       " '033504',\n",
       " '034558',\n",
       " '035220',\n",
       " '035406',\n",
       " '035607',\n",
       " '0357',\n",
       " '038',\n",
       " '039',\n",
       " '04',\n",
       " '040',\n",
       " '0400',\n",
       " '041',\n",
       " '04131972',\n",
       " '041620',\n",
       " '042',\n",
       " '043',\n",
       " '0430',\n",
       " '0434',\n",
       " '043704',\n",
       " '043935',\n",
       " '044',\n",
       " '044201',\n",
       " '044248',\n",
       " '0456',\n",
       " '045612',\n",
       " '045651',\n",
       " '047',\n",
       " '05',\n",
       " '050',\n",
       " '050127',\n",
       " '050311',\n",
       " '051540',\n",
       " '052',\n",
       " '052025',\n",
       " '052552',\n",
       " '052741',\n",
       " '053',\n",
       " '0533',\n",
       " '053553',\n",
       " '054843',\n",
       " '055109',\n",
       " '055654',\n",
       " '056',\n",
       " '059',\n",
       " '05pm',\n",
       " '06',\n",
       " '060',\n",
       " '0600',\n",
       " '060493114752',\n",
       " '060540',\n",
       " '061102',\n",
       " '061709',\n",
       " '062222',\n",
       " '062907',\n",
       " '063',\n",
       " '064',\n",
       " '064804',\n",
       " '065',\n",
       " '065059',\n",
       " '06520',\n",
       " '067',\n",
       " '06762',\n",
       " '0688',\n",
       " '069',\n",
       " '07',\n",
       " '070',\n",
       " '0700',\n",
       " '071',\n",
       " '071021',\n",
       " '072',\n",
       " '073051',\n",
       " '073457ripbc',\n",
       " '073813',\n",
       " '075',\n",
       " '077',\n",
       " '08',\n",
       " '081214',\n",
       " '083',\n",
       " '083029',\n",
       " '083449',\n",
       " '0845',\n",
       " '08520',\n",
       " '085508',\n",
       " '085907',\n",
       " '087',\n",
       " '088',\n",
       " '08903',\n",
       " '09',\n",
       " '090638',\n",
       " '090836',\n",
       " '091',\n",
       " '0930',\n",
       " '093231',\n",
       " '093826',\n",
       " '093952',\n",
       " '093957',\n",
       " '094001',\n",
       " '095',\n",
       " '099',\n",
       " '0b12',\n",
       " '0l2',\n",
       " '10',\n",
       " '100',\n",
       " '1000',\n",
       " '10010717',\n",
       " '10018',\n",
       " '1002',\n",
       " '1003',\n",
       " '100921rk0vsanu',\n",
       " '10098',\n",
       " '100k',\n",
       " '100th',\n",
       " '101',\n",
       " '101636',\n",
       " '10176',\n",
       " '102',\n",
       " '10219',\n",
       " '102200',\n",
       " '10274',\n",
       " '10280',\n",
       " '102857',\n",
       " '103',\n",
       " '1031',\n",
       " '10395',\n",
       " '104',\n",
       " '1040',\n",
       " '104122',\n",
       " '10416',\n",
       " '104744',\n",
       " '104856',\n",
       " '105',\n",
       " '1054',\n",
       " '105514',\n",
       " '1058',\n",
       " '10598',\n",
       " '106',\n",
       " '1060',\n",
       " '10610',\n",
       " '1064',\n",
       " '107',\n",
       " '10700',\n",
       " '108',\n",
       " '108109',\n",
       " '1088',\n",
       " '109',\n",
       " '10946',\n",
       " '1098',\n",
       " '10th',\n",
       " '11',\n",
       " '110',\n",
       " '1101',\n",
       " '1102',\n",
       " '1105',\n",
       " '11050',\n",
       " '111',\n",
       " '111054',\n",
       " '1111',\n",
       " '1115681383',\n",
       " '111713',\n",
       " '11181',\n",
       " '11197',\n",
       " '112',\n",
       " '11229',\n",
       " '1125',\n",
       " '113',\n",
       " '11319',\n",
       " '11322',\n",
       " '11331',\n",
       " '1135',\n",
       " '11353',\n",
       " '113567',\n",
       " '11395',\n",
       " '114',\n",
       " '1142',\n",
       " '1143',\n",
       " '11467',\n",
       " '1147',\n",
       " '11473',\n",
       " '114736',\n",
       " '1149',\n",
       " '114qs7',\n",
       " '115',\n",
       " '115219ior',\n",
       " '115298',\n",
       " '115313',\n",
       " '115993',\n",
       " '116',\n",
       " '116288',\n",
       " '1164',\n",
       " '11663',\n",
       " '11664',\n",
       " '116hr',\n",
       " '116tjt',\n",
       " '117',\n",
       " '11779',\n",
       " '118',\n",
       " '118466',\n",
       " '119',\n",
       " '11973',\n",
       " '11974',\n",
       " '119hvq',\n",
       " '11am',\n",
       " '11hfdf',\n",
       " '11hr',\n",
       " '11moqf',\n",
       " '11th',\n",
       " '12',\n",
       " '120',\n",
       " '1200',\n",
       " '120044',\n",
       " '120399',\n",
       " '120525',\n",
       " '12056',\n",
       " '120665',\n",
       " '1208',\n",
       " '120854',\n",
       " '121',\n",
       " '1210',\n",
       " '121055',\n",
       " '1213',\n",
       " '121692',\n",
       " '121706',\n",
       " '121720',\n",
       " '121723',\n",
       " '12176',\n",
       " '12180',\n",
       " '121823',\n",
       " '122',\n",
       " '122543',\n",
       " '122649',\n",
       " '122758',\n",
       " '123',\n",
       " '123208',\n",
       " '1234',\n",
       " '123404',\n",
       " '12353',\n",
       " '12367',\n",
       " '1238',\n",
       " '123803',\n",
       " '123904',\n",
       " '124',\n",
       " '12401',\n",
       " '124358',\n",
       " '12436',\n",
       " '12442',\n",
       " '124526',\n",
       " '124746',\n",
       " '124824',\n",
       " '125',\n",
       " '1251',\n",
       " '12516',\n",
       " '125205',\n",
       " '125526',\n",
       " '12578',\n",
       " '125825',\n",
       " '1259',\n",
       " '12598',\n",
       " '126',\n",
       " '127',\n",
       " '12718',\n",
       " '12787',\n",
       " '12799',\n",
       " '128',\n",
       " '12805',\n",
       " '129',\n",
       " '1298',\n",
       " '12kd',\n",
       " '12th',\n",
       " '13',\n",
       " '130',\n",
       " '13012',\n",
       " '13017',\n",
       " '13020',\n",
       " '130430',\n",
       " '13060',\n",
       " '130652',\n",
       " '130659',\n",
       " '131',\n",
       " '131041',\n",
       " '131452',\n",
       " '131508',\n",
       " '131615',\n",
       " '132',\n",
       " '132013',\n",
       " '1323',\n",
       " '13247',\n",
       " '132700',\n",
       " '132741',\n",
       " '133',\n",
       " '13322',\n",
       " '133620',\n",
       " '133703',\n",
       " '134',\n",
       " '13444',\n",
       " '135',\n",
       " '13512',\n",
       " '135139',\n",
       " '135227',\n",
       " '13555',\n",
       " '13557',\n",
       " '1358',\n",
       " '13581',\n",
       " '135819',\n",
       " '13586',\n",
       " '136',\n",
       " '13633',\n",
       " '13664',\n",
       " '1367',\n",
       " '13693',\n",
       " '137',\n",
       " '138',\n",
       " '1381',\n",
       " '139',\n",
       " '13901',\n",
       " '13966',\n",
       " '13th',\n",
       " '14',\n",
       " '140',\n",
       " '1400',\n",
       " '14049',\n",
       " '140493165729',\n",
       " '141',\n",
       " '14108',\n",
       " '141455',\n",
       " '141933',\n",
       " '141s',\n",
       " '142',\n",
       " '142032',\n",
       " '14228',\n",
       " '14229',\n",
       " '142325',\n",
       " '14257',\n",
       " '142816',\n",
       " '143',\n",
       " '1430',\n",
       " '14305',\n",
       " '14321',\n",
       " '143211',\n",
       " '143224',\n",
       " '143320',\n",
       " '14347',\n",
       " '14349',\n",
       " '144',\n",
       " '14400',\n",
       " '144240',\n",
       " '144327',\n",
       " '1444',\n",
       " '1446',\n",
       " '14473',\n",
       " '145',\n",
       " '14521',\n",
       " '14524',\n",
       " '145735',\n",
       " '145753',\n",
       " '145914',\n",
       " '145942io20456',\n",
       " '146',\n",
       " '14605',\n",
       " '14672',\n",
       " '14691229',\n",
       " '147',\n",
       " '147196',\n",
       " '1473',\n",
       " '14745',\n",
       " '148',\n",
       " '14817',\n",
       " '1483600108',\n",
       " '1483600109',\n",
       " '1485',\n",
       " '14853',\n",
       " '149',\n",
       " '14992',\n",
       " '14apr199316550695',\n",
       " '14th',\n",
       " '15',\n",
       " '150',\n",
       " '1500',\n",
       " '150058',\n",
       " '15033',\n",
       " '150800',\n",
       " '150904',\n",
       " '151',\n",
       " '151050',\n",
       " '151202',\n",
       " '15140',\n",
       " '15142',\n",
       " '15148',\n",
       " '15150',\n",
       " '151502',\n",
       " '15151474',\n",
       " '151753',\n",
       " '15177',\n",
       " '151834',\n",
       " '15196',\n",
       " '152',\n",
       " '15209',\n",
       " '1521',\n",
       " '15210',\n",
       " '15213',\n",
       " '15216',\n",
       " '15218',\n",
       " '15225',\n",
       " '15230',\n",
       " '15232',\n",
       " '152336',\n",
       " '15236',\n",
       " '15238',\n",
       " '152634',\n",
       " '15283',\n",
       " '153',\n",
       " '15307',\n",
       " '15313',\n",
       " '153137',\n",
       " '15320',\n",
       " '15325',\n",
       " '153407',\n",
       " '153450',\n",
       " '153725',\n",
       " '15377',\n",
       " '15378',\n",
       " '1539',\n",
       " '154',\n",
       " '15407',\n",
       " '15409',\n",
       " '15413',\n",
       " '15416',\n",
       " '154232',\n",
       " '154256',\n",
       " '15427',\n",
       " '15430',\n",
       " '15436',\n",
       " '15437',\n",
       " '15440',\n",
       " '15441',\n",
       " '15442',\n",
       " '15445',\n",
       " '15446',\n",
       " '15450',\n",
       " '15454',\n",
       " '154542',\n",
       " '15464',\n",
       " '15467',\n",
       " '154706',\n",
       " '15480',\n",
       " '155',\n",
       " '15501',\n",
       " '15511',\n",
       " '15557',\n",
       " '155955',\n",
       " '15627',\n",
       " '15639',\n",
       " '1564',\n",
       " '157',\n",
       " '15709',\n",
       " '15723',\n",
       " '1575',\n",
       " '1576',\n",
       " '15780004',\n",
       " '158',\n",
       " '1580',\n",
       " '15825',\n",
       " '1585',\n",
       " '1588',\n",
       " '159',\n",
       " '15959',\n",
       " '15978',\n",
       " '15apr199303031064',\n",
       " '15apr199312304021',\n",
       " '15apr199320293386',\n",
       " '15apr93',\n",
       " '15s',\n",
       " '15th',\n",
       " '16',\n",
       " '160',\n",
       " '160030',\n",
       " '16010',\n",
       " '160316',\n",
       " '160447',\n",
       " '160493090617',\n",
       " '160493111229',\n",
       " '160532',\n",
       " '1608',\n",
       " '161',\n",
       " '16116',\n",
       " '16128',\n",
       " '161551',\n",
       " '161720',\n",
       " '161730',\n",
       " '161946',\n",
       " '162',\n",
       " '16204',\n",
       " '162552',\n",
       " '162615',\n",
       " '162802',\n",
       " '16282',\n",
       " '1629',\n",
       " '163',\n",
       " '163712',\n",
       " '1638',\n",
       " '164',\n",
       " '164053',\n",
       " '16427',\n",
       " '1643',\n",
       " '16433',\n",
       " '164605',\n",
       " '164633',\n",
       " '164638',\n",
       " '164750',\n",
       " '164804',\n",
       " '164871',\n",
       " '164905',\n",
       " '164906',\n",
       " '16495',\n",
       " '165',\n",
       " '165122',\n",
       " '165139',\n",
       " '165155',\n",
       " '165206',\n",
       " '165218rvesterm',\n",
       " '165729',\n",
       " '165738',\n",
       " '16574',\n",
       " '165918',\n",
       " '166',\n",
       " '16613',\n",
       " '16619',\n",
       " '1665719586',\n",
       " '167',\n",
       " '168',\n",
       " '1682',\n",
       " '169',\n",
       " '1699',\n",
       " '16apr199317110543',\n",
       " '16apr199317391664',\n",
       " '16bb1b92b',\n",
       " '16bb1c589',\n",
       " '16bb713d1e',\n",
       " '16bb7a1de',\n",
       " '16bb87ef1',\n",
       " '16bb98b5a',\n",
       " '16billion',\n",
       " '16th',\n",
       " '17',\n",
       " '170',\n",
       " '1700',\n",
       " '1701',\n",
       " '170239',\n",
       " '170349',\n",
       " '170353',\n",
       " '170521',\n",
       " '170715',\n",
       " '170731',\n",
       " '171',\n",
       " '171354',\n",
       " '1715',\n",
       " '171548io20456',\n",
       " '17160985',\n",
       " '171819',\n",
       " '172',\n",
       " '172328',\n",
       " '172502',\n",
       " '172531',\n",
       " '172834io21087',\n",
       " '172841rvesterm',\n",
       " '172920',\n",
       " '173',\n",
       " '173130',\n",
       " '173236',\n",
       " '173252',\n",
       " '17331',\n",
       " '173428',\n",
       " '173432',\n",
       " '173500',\n",
       " '17391',\n",
       " '174',\n",
       " '17413',\n",
       " '174237',\n",
       " '1743',\n",
       " '174605',\n",
       " '174636',\n",
       " '174749',\n",
       " '174759',\n",
       " '174843',\n",
       " '175',\n",
       " '1751',\n",
       " '175131',\n",
       " '175312',\n",
       " '17543',\n",
       " '175545',\n",
       " '17577',\n",
       " '175829',\n",
       " '176',\n",
       " '17623',\n",
       " '177',\n",
       " '178',\n",
       " '17806',\n",
       " '1782',\n",
       " '17835',\n",
       " '1789',\n",
       " '17894',\n",
       " '179',\n",
       " '17986',\n",
       " '17i',\n",
       " '17th',\n",
       " '18',\n",
       " '180',\n",
       " '1800',\n",
       " '1800s',\n",
       " '18015',\n",
       " '18039',\n",
       " '18045',\n",
       " '1807',\n",
       " '180839',\n",
       " '181',\n",
       " '181131',\n",
       " '181245',\n",
       " '18191',\n",
       " '18197',\n",
       " '182',\n",
       " '1820',\n",
       " '18205',\n",
       " '182119',\n",
       " '182341',\n",
       " '182452',\n",
       " '1827',\n",
       " '182807',\n",
       " '182922',\n",
       " '182942',\n",
       " '183',\n",
       " '1830s',\n",
       " '1833',\n",
       " '183304',\n",
       " '18332',\n",
       " '183349',\n",
       " '18356',\n",
       " '18366',\n",
       " '183819',\n",
       " '18393',\n",
       " '184',\n",
       " '1840',\n",
       " '1841463321628',\n",
       " '184338',\n",
       " '184451rvesterm',\n",
       " '18457',\n",
       " '18469',\n",
       " '185',\n",
       " '1850',\n",
       " '185620nxm122',\n",
       " '185800',\n",
       " '185931',\n",
       " '185951',\n",
       " '185k',\n",
       " '186',\n",
       " '186042',\n",
       " '186209',\n",
       " '187',\n",
       " '18749',\n",
       " '188',\n",
       " '1880',\n",
       " '1883',\n",
       " '1888',\n",
       " '189',\n",
       " '18900',\n",
       " '18979',\n",
       " '18a',\n",
       " '18apr199314034390',\n",
       " '18apr199320091677',\n",
       " '18th',\n",
       " '19',\n",
       " '190',\n",
       " '1900',\n",
       " '190117rvesterm',\n",
       " '190141',\n",
       " '1903',\n",
       " '190341',\n",
       " '19043',\n",
       " '190534',\n",
       " '19058',\n",
       " '190735',\n",
       " '19101',\n",
       " '1912',\n",
       " '1914',\n",
       " '1915',\n",
       " '191538',\n",
       " '1916',\n",
       " '1917',\n",
       " '1919',\n",
       " '192',\n",
       " '1920',\n",
       " '192035',\n",
       " '1920s',\n",
       " '1922',\n",
       " '1923',\n",
       " '1925',\n",
       " '192508',\n",
       " '19272',\n",
       " '1928',\n",
       " '1929',\n",
       " '192905',\n",
       " '193',\n",
       " '1930',\n",
       " '193114',\n",
       " '1932',\n",
       " '1933',\n",
       " '1934',\n",
       " '193603',\n",
       " '193616',\n",
       " '1938',\n",
       " '1939',\n",
       " '194',\n",
       " '194025',\n",
       " '1940s',\n",
       " '194103',\n",
       " '1944',\n",
       " '1946',\n",
       " '1947',\n",
       " '1948',\n",
       " '1949',\n",
       " '195',\n",
       " '1950',\n",
       " '195139',\n",
       " '1952',\n",
       " '195216',\n",
       " '1953',\n",
       " '195301',\n",
       " '195452',\n",
       " '1955',\n",
       " '1957',\n",
       " '195730',\n",
       " '1958',\n",
       " '19584618',\n",
       " '1959',\n",
       " '195912',\n",
       " '196',\n",
       " '1960',\n",
       " '1960s',\n",
       " '1961',\n",
       " '1962',\n",
       " '1963',\n",
       " '1964',\n",
       " '1965',\n",
       " '1966',\n",
       " '1967',\n",
       " '1968',\n",
       " '19680',\n",
       " '1969',\n",
       " '197',\n",
       " '1970',\n",
       " '1970s',\n",
       " '1971',\n",
       " '1972',\n",
       " '1973',\n",
       " '1974',\n",
       " '1975',\n",
       " '1976',\n",
       " '1977',\n",
       " '1978',\n",
       " '1979',\n",
       " '198',\n",
       " '1980',\n",
       " '1980s',\n",
       " '1981',\n",
       " '19811',\n",
       " '1982',\n",
       " '1983',\n",
       " '1984',\n",
       " '1985',\n",
       " '1986',\n",
       " '19860',\n",
       " '19861',\n",
       " '1987',\n",
       " '19872',\n",
       " '1988',\n",
       " '19880',\n",
       " '1989',\n",
       " '199',\n",
       " '1990',\n",
       " '1990s',\n",
       " '1991',\n",
       " '1992',\n",
       " '1992jun25',\n",
       " '1993',\n",
       " '199304052036',\n",
       " '199304052150',\n",
       " '1993apr03',\n",
       " '1993apr06',\n",
       " '1993apr1',\n",
       " '1993apr10',\n",
       " '1993apr11',\n",
       " '1993apr12',\n",
       " '1993apr13',\n",
       " '1993apr14',\n",
       " '1993apr15',\n",
       " '1993apr16',\n",
       " '1993apr17',\n",
       " '1993apr18',\n",
       " '1993apr19',\n",
       " '1993apr2',\n",
       " '1993apr20',\n",
       " '1993apr21',\n",
       " '1993apr22',\n",
       " '1993apr23',\n",
       " '1993apr26',\n",
       " '1993apr3',\n",
       " '1993apr4',\n",
       " '1993apr5',\n",
       " '1993apr6',\n",
       " '1993apr8',\n",
       " '1993apr9',\n",
       " '1993mar18',\n",
       " '1993mar19',\n",
       " '1993mar20',\n",
       " '1993mar24',\n",
       " '1993mar29',\n",
       " '1993mar31',\n",
       " '1994',\n",
       " '1995',\n",
       " '1996',\n",
       " '1997',\n",
       " '1998',\n",
       " '1999',\n",
       " '19apr199319282297',\n",
       " '19n',\n",
       " '19th',\n",
       " '1__',\n",
       " '1_______1',\n",
       " '1a',\n",
       " '1a1',\n",
       " '1ah',\n",
       " '1b',\n",
       " '1cc',\n",
       " '1cl',\n",
       " '1d12',\n",
       " '1d17',\n",
       " '1d20',\n",
       " '1gig',\n",
       " '1hr',\n",
       " '1ht',\n",
       " '1pamhpinn7d3',\n",
       " '1phgakinn9pb',\n",
       " '1piisn',\n",
       " '1pklht',\n",
       " '1pkmo9inng7',\n",
       " '1pkvcl',\n",
       " '1plorlinnslt',\n",
       " '1ppi1ginng19',\n",
       " '1ppjruinnhnt',\n",
       " '1pprtvinnctl',\n",
       " '1pqf84',\n",
       " '1pqfbd',\n",
       " '1pqi26innl8j',\n",
       " '1pqiubinnmht',\n",
       " '1pqvusinnmjm',\n",
       " '1prvpu',\n",
       " '1ps77v',\n",
       " '1pserkinnltg',\n",
       " '1psf0dinnm4q',\n",
       " '1psgriinni1',\n",
       " '1psiepinnlj0',\n",
       " '1psmbr',\n",
       " '1pspp7inn3ea',\n",
       " '1psq90innh93',\n",
       " '1pt592',\n",
       " '1q4k3binne6k',\n",
       " '1q7sddinn5iq',\n",
       " '1qcdvbinn5ti',\n",
       " '1qd1sninnr79',\n",
       " '1qf2kqinnrkd',\n",
       " '1qgbljinnn4o',\n",
       " '1qhr73',\n",
       " '1qia48inngta',\n",
       " '1qjtmjinnq45',\n",
       " '1qkkodinn5f5',\n",
       " '1qkl3i',\n",
       " '1qkq0q',\n",
       " '1qksa4inni7m',\n",
       " '1qksooinnihu',\n",
       " '1ql6bginnklu',\n",
       " '1ql7tuinn8j8',\n",
       " '1ql93binn1s5',\n",
       " '1qlnkninn2sh',\n",
       " '1qmj6h',\n",
       " '1qmrciinnoin',\n",
       " '1qmtl1',\n",
       " '1qn252innot4',\n",
       " '1qn6tqinnmnf',\n",
       " '1qp1m9innfjg',\n",
       " '1qpakjinniq2',\n",
       " '1qpaujinnecq',\n",
       " ...]"
      ]
     },
     "execution_count": 30,
     "metadata": {},
     "output_type": "execute_result"
    }
   ],
   "source": [
    "count_vec.get_feature_names()"
   ]
  },
  {
   "cell_type": "code",
   "execution_count": 31,
   "metadata": {
    "ExecuteTime": {
     "end_time": "2021-11-19T00:14:19.280156Z",
     "start_time": "2021-11-19T00:14:19.129147Z"
    }
   },
   "outputs": [
    {
     "data": {
      "text/html": [
       "<div>\n",
       "<style scoped>\n",
       "    .dataframe tbody tr th:only-of-type {\n",
       "        vertical-align: middle;\n",
       "    }\n",
       "\n",
       "    .dataframe tbody tr th {\n",
       "        vertical-align: top;\n",
       "    }\n",
       "\n",
       "    .dataframe thead th {\n",
       "        text-align: right;\n",
       "    }\n",
       "</style>\n",
       "<table border=\"1\" class=\"dataframe\">\n",
       "  <thead>\n",
       "    <tr style=\"text-align: right;\">\n",
       "      <th></th>\n",
       "      <th>00</th>\n",
       "      <th>000</th>\n",
       "      <th>000007</th>\n",
       "      <th>0000ahc</th>\n",
       "      <th>000k</th>\n",
       "      <th>000th</th>\n",
       "      <th>001</th>\n",
       "      <th>0010</th>\n",
       "      <th>001116</th>\n",
       "      <th>001211</th>\n",
       "      <th>...</th>\n",
       "      <th>zoologists</th>\n",
       "      <th>zoology</th>\n",
       "      <th>zorba</th>\n",
       "      <th>zot</th>\n",
       "      <th>zumwalt</th>\n",
       "      <th>zupcic</th>\n",
       "      <th>zz</th>\n",
       "      <th>zzzzzz</th>\n",
       "      <th>zzzzzzt</th>\n",
       "      <th>ñaustin</th>\n",
       "    </tr>\n",
       "  </thead>\n",
       "  <tbody>\n",
       "    <tr>\n",
       "      <th>0</th>\n",
       "      <td>0</td>\n",
       "      <td>0</td>\n",
       "      <td>0</td>\n",
       "      <td>0</td>\n",
       "      <td>0</td>\n",
       "      <td>0</td>\n",
       "      <td>0</td>\n",
       "      <td>0</td>\n",
       "      <td>0</td>\n",
       "      <td>0</td>\n",
       "      <td>...</td>\n",
       "      <td>0</td>\n",
       "      <td>0</td>\n",
       "      <td>0</td>\n",
       "      <td>0</td>\n",
       "      <td>0</td>\n",
       "      <td>0</td>\n",
       "      <td>0</td>\n",
       "      <td>0</td>\n",
       "      <td>0</td>\n",
       "      <td>0</td>\n",
       "    </tr>\n",
       "    <tr>\n",
       "      <th>1</th>\n",
       "      <td>0</td>\n",
       "      <td>0</td>\n",
       "      <td>0</td>\n",
       "      <td>0</td>\n",
       "      <td>0</td>\n",
       "      <td>0</td>\n",
       "      <td>0</td>\n",
       "      <td>0</td>\n",
       "      <td>0</td>\n",
       "      <td>0</td>\n",
       "      <td>...</td>\n",
       "      <td>0</td>\n",
       "      <td>0</td>\n",
       "      <td>0</td>\n",
       "      <td>0</td>\n",
       "      <td>1</td>\n",
       "      <td>0</td>\n",
       "      <td>0</td>\n",
       "      <td>0</td>\n",
       "      <td>0</td>\n",
       "      <td>0</td>\n",
       "    </tr>\n",
       "    <tr>\n",
       "      <th>2</th>\n",
       "      <td>0</td>\n",
       "      <td>0</td>\n",
       "      <td>0</td>\n",
       "      <td>0</td>\n",
       "      <td>0</td>\n",
       "      <td>0</td>\n",
       "      <td>0</td>\n",
       "      <td>0</td>\n",
       "      <td>0</td>\n",
       "      <td>0</td>\n",
       "      <td>...</td>\n",
       "      <td>0</td>\n",
       "      <td>0</td>\n",
       "      <td>0</td>\n",
       "      <td>0</td>\n",
       "      <td>0</td>\n",
       "      <td>0</td>\n",
       "      <td>0</td>\n",
       "      <td>0</td>\n",
       "      <td>0</td>\n",
       "      <td>0</td>\n",
       "    </tr>\n",
       "    <tr>\n",
       "      <th>3</th>\n",
       "      <td>0</td>\n",
       "      <td>0</td>\n",
       "      <td>0</td>\n",
       "      <td>0</td>\n",
       "      <td>0</td>\n",
       "      <td>0</td>\n",
       "      <td>0</td>\n",
       "      <td>0</td>\n",
       "      <td>0</td>\n",
       "      <td>0</td>\n",
       "      <td>...</td>\n",
       "      <td>0</td>\n",
       "      <td>0</td>\n",
       "      <td>0</td>\n",
       "      <td>0</td>\n",
       "      <td>0</td>\n",
       "      <td>0</td>\n",
       "      <td>0</td>\n",
       "      <td>0</td>\n",
       "      <td>0</td>\n",
       "      <td>0</td>\n",
       "    </tr>\n",
       "    <tr>\n",
       "      <th>4</th>\n",
       "      <td>0</td>\n",
       "      <td>0</td>\n",
       "      <td>0</td>\n",
       "      <td>0</td>\n",
       "      <td>0</td>\n",
       "      <td>0</td>\n",
       "      <td>0</td>\n",
       "      <td>0</td>\n",
       "      <td>0</td>\n",
       "      <td>0</td>\n",
       "      <td>...</td>\n",
       "      <td>0</td>\n",
       "      <td>0</td>\n",
       "      <td>0</td>\n",
       "      <td>0</td>\n",
       "      <td>0</td>\n",
       "      <td>0</td>\n",
       "      <td>0</td>\n",
       "      <td>0</td>\n",
       "      <td>0</td>\n",
       "      <td>0</td>\n",
       "    </tr>\n",
       "    <tr>\n",
       "      <th>...</th>\n",
       "      <td>...</td>\n",
       "      <td>...</td>\n",
       "      <td>...</td>\n",
       "      <td>...</td>\n",
       "      <td>...</td>\n",
       "      <td>...</td>\n",
       "      <td>...</td>\n",
       "      <td>...</td>\n",
       "      <td>...</td>\n",
       "      <td>...</td>\n",
       "      <td>...</td>\n",
       "      <td>...</td>\n",
       "      <td>...</td>\n",
       "      <td>...</td>\n",
       "      <td>...</td>\n",
       "      <td>...</td>\n",
       "      <td>...</td>\n",
       "      <td>...</td>\n",
       "      <td>...</td>\n",
       "      <td>...</td>\n",
       "      <td>...</td>\n",
       "    </tr>\n",
       "    <tr>\n",
       "      <th>1321</th>\n",
       "      <td>0</td>\n",
       "      <td>0</td>\n",
       "      <td>0</td>\n",
       "      <td>0</td>\n",
       "      <td>0</td>\n",
       "      <td>0</td>\n",
       "      <td>0</td>\n",
       "      <td>0</td>\n",
       "      <td>0</td>\n",
       "      <td>0</td>\n",
       "      <td>...</td>\n",
       "      <td>0</td>\n",
       "      <td>0</td>\n",
       "      <td>0</td>\n",
       "      <td>0</td>\n",
       "      <td>0</td>\n",
       "      <td>0</td>\n",
       "      <td>0</td>\n",
       "      <td>0</td>\n",
       "      <td>0</td>\n",
       "      <td>0</td>\n",
       "    </tr>\n",
       "    <tr>\n",
       "      <th>1322</th>\n",
       "      <td>0</td>\n",
       "      <td>0</td>\n",
       "      <td>0</td>\n",
       "      <td>0</td>\n",
       "      <td>0</td>\n",
       "      <td>0</td>\n",
       "      <td>0</td>\n",
       "      <td>0</td>\n",
       "      <td>0</td>\n",
       "      <td>0</td>\n",
       "      <td>...</td>\n",
       "      <td>0</td>\n",
       "      <td>0</td>\n",
       "      <td>0</td>\n",
       "      <td>0</td>\n",
       "      <td>0</td>\n",
       "      <td>0</td>\n",
       "      <td>0</td>\n",
       "      <td>0</td>\n",
       "      <td>0</td>\n",
       "      <td>0</td>\n",
       "    </tr>\n",
       "    <tr>\n",
       "      <th>1323</th>\n",
       "      <td>0</td>\n",
       "      <td>0</td>\n",
       "      <td>0</td>\n",
       "      <td>0</td>\n",
       "      <td>0</td>\n",
       "      <td>0</td>\n",
       "      <td>0</td>\n",
       "      <td>0</td>\n",
       "      <td>0</td>\n",
       "      <td>0</td>\n",
       "      <td>...</td>\n",
       "      <td>0</td>\n",
       "      <td>0</td>\n",
       "      <td>0</td>\n",
       "      <td>0</td>\n",
       "      <td>0</td>\n",
       "      <td>0</td>\n",
       "      <td>0</td>\n",
       "      <td>0</td>\n",
       "      <td>0</td>\n",
       "      <td>0</td>\n",
       "    </tr>\n",
       "    <tr>\n",
       "      <th>1324</th>\n",
       "      <td>0</td>\n",
       "      <td>0</td>\n",
       "      <td>0</td>\n",
       "      <td>0</td>\n",
       "      <td>0</td>\n",
       "      <td>0</td>\n",
       "      <td>0</td>\n",
       "      <td>0</td>\n",
       "      <td>0</td>\n",
       "      <td>0</td>\n",
       "      <td>...</td>\n",
       "      <td>0</td>\n",
       "      <td>0</td>\n",
       "      <td>0</td>\n",
       "      <td>0</td>\n",
       "      <td>0</td>\n",
       "      <td>0</td>\n",
       "      <td>0</td>\n",
       "      <td>0</td>\n",
       "      <td>0</td>\n",
       "      <td>0</td>\n",
       "    </tr>\n",
       "    <tr>\n",
       "      <th>1325</th>\n",
       "      <td>0</td>\n",
       "      <td>0</td>\n",
       "      <td>0</td>\n",
       "      <td>0</td>\n",
       "      <td>0</td>\n",
       "      <td>0</td>\n",
       "      <td>0</td>\n",
       "      <td>0</td>\n",
       "      <td>0</td>\n",
       "      <td>0</td>\n",
       "      <td>...</td>\n",
       "      <td>0</td>\n",
       "      <td>0</td>\n",
       "      <td>0</td>\n",
       "      <td>0</td>\n",
       "      <td>0</td>\n",
       "      <td>0</td>\n",
       "      <td>0</td>\n",
       "      <td>0</td>\n",
       "      <td>0</td>\n",
       "      <td>0</td>\n",
       "    </tr>\n",
       "  </tbody>\n",
       "</table>\n",
       "<p>1326 rows × 23135 columns</p>\n",
       "</div>"
      ],
      "text/plain": [
       "      00  000  000007  0000ahc  000k  000th  001  0010  001116  001211  ...  \\\n",
       "0      0    0       0        0     0      0    0     0       0       0  ...   \n",
       "1      0    0       0        0     0      0    0     0       0       0  ...   \n",
       "2      0    0       0        0     0      0    0     0       0       0  ...   \n",
       "3      0    0       0        0     0      0    0     0       0       0  ...   \n",
       "4      0    0       0        0     0      0    0     0       0       0  ...   \n",
       "...   ..  ...     ...      ...   ...    ...  ...   ...     ...     ...  ...   \n",
       "1321   0    0       0        0     0      0    0     0       0       0  ...   \n",
       "1322   0    0       0        0     0      0    0     0       0       0  ...   \n",
       "1323   0    0       0        0     0      0    0     0       0       0  ...   \n",
       "1324   0    0       0        0     0      0    0     0       0       0  ...   \n",
       "1325   0    0       0        0     0      0    0     0       0       0  ...   \n",
       "\n",
       "      zoologists  zoology  zorba  zot  zumwalt  zupcic  zz  zzzzzz  zzzzzzt  \\\n",
       "0              0        0      0    0        0       0   0       0        0   \n",
       "1              0        0      0    0        1       0   0       0        0   \n",
       "2              0        0      0    0        0       0   0       0        0   \n",
       "3              0        0      0    0        0       0   0       0        0   \n",
       "4              0        0      0    0        0       0   0       0        0   \n",
       "...          ...      ...    ...  ...      ...     ...  ..     ...      ...   \n",
       "1321           0        0      0    0        0       0   0       0        0   \n",
       "1322           0        0      0    0        0       0   0       0        0   \n",
       "1323           0        0      0    0        0       0   0       0        0   \n",
       "1324           0        0      0    0        0       0   0       0        0   \n",
       "1325           0        0      0    0        0       0   0       0        0   \n",
       "\n",
       "      ñaustin  \n",
       "0           0  \n",
       "1           0  \n",
       "2           0  \n",
       "3           0  \n",
       "4           0  \n",
       "...       ...  \n",
       "1321        0  \n",
       "1322        0  \n",
       "1323        0  \n",
       "1324        0  \n",
       "1325        0  \n",
       "\n",
       "[1326 rows x 23135 columns]"
      ]
     },
     "execution_count": 31,
     "metadata": {},
     "output_type": "execute_result"
    }
   ],
   "source": [
    "# Show sparse matrix as DataFrame. (.toarray())\n",
    "pd.DataFrame(X_train_processed.toarray(), \n",
    "             columns=count_vec.get_feature_names())"
   ]
  },
  {
   "cell_type": "code",
   "execution_count": 32,
   "metadata": {
    "ExecuteTime": {
     "end_time": "2021-11-19T00:15:47.090980Z",
     "start_time": "2021-11-19T00:15:47.085904Z"
    }
   },
   "outputs": [
    {
     "data": {
      "text/plain": [
       "<1326x23135 sparse matrix of type '<class 'numpy.int64'>'\n",
       "\twith 226455 stored elements in Compressed Sparse Row format>"
      ]
     },
     "execution_count": 32,
     "metadata": {},
     "output_type": "execute_result"
    }
   ],
   "source": [
    "X_train_processed"
   ]
  },
  {
   "cell_type": "code",
   "execution_count": 35,
   "metadata": {
    "ExecuteTime": {
     "end_time": "2021-11-19T00:16:00.555358Z",
     "start_time": "2021-11-19T00:16:00.445526Z"
    }
   },
   "outputs": [
    {
     "data": {
      "text/plain": [
       "array([[0, 0, 0, ..., 0, 0, 0],\n",
       "       [0, 0, 0, ..., 0, 0, 0],\n",
       "       [0, 0, 0, ..., 0, 0, 0],\n",
       "       ...,\n",
       "       [0, 0, 0, ..., 0, 0, 0],\n",
       "       [0, 0, 0, ..., 0, 0, 0],\n",
       "       [0, 0, 0, ..., 0, 0, 0]])"
      ]
     },
     "execution_count": 35,
     "metadata": {},
     "output_type": "execute_result"
    }
   ],
   "source": [
    "X_train_processed.toarray()#.shape"
   ]
  },
  {
   "cell_type": "code",
   "execution_count": 36,
   "metadata": {
    "ExecuteTime": {
     "end_time": "2021-11-19T00:16:18.192250Z",
     "start_time": "2021-11-19T00:16:17.095078Z"
    }
   },
   "outputs": [
    {
     "data": {
      "text/plain": [
       "GaussianNB()"
      ]
     },
     "execution_count": 36,
     "metadata": {},
     "output_type": "execute_result"
    }
   ],
   "source": [
    "# Build a Gaussian Naive Bayes model.\n",
    "nb = GaussianNB()\n",
    "\n",
    "nb.fit(X_train_processed.toarray(), y_train)"
   ]
  },
  {
   "cell_type": "code",
   "execution_count": 37,
   "metadata": {
    "ExecuteTime": {
     "end_time": "2021-11-19T00:16:25.025449Z",
     "start_time": "2021-11-19T00:16:23.700267Z"
    }
   },
   "outputs": [],
   "source": [
    "# Make predictions and show scores.\n",
    "y_pred_train = nb.predict(X_train_processed.toarray())\n",
    "y_pred_test = nb.predict(X_test_processed.toarray())"
   ]
  },
  {
   "cell_type": "code",
   "execution_count": 38,
   "metadata": {
    "ExecuteTime": {
     "end_time": "2021-11-19T00:16:31.520899Z",
     "start_time": "2021-11-19T00:16:31.517564Z"
    }
   },
   "outputs": [],
   "source": [
    "from sklearn.metrics import classification_report"
   ]
  },
  {
   "cell_type": "code",
   "execution_count": 39,
   "metadata": {
    "ExecuteTime": {
     "end_time": "2021-11-19T00:16:34.244105Z",
     "start_time": "2021-11-19T00:16:34.232286Z"
    }
   },
   "outputs": [
    {
     "name": "stdout",
     "output_type": "stream",
     "text": [
      "              precision    recall  f1-score   support\n",
      "\n",
      "           0       1.00      1.00      1.00       733\n",
      "           1       1.00      1.00      1.00       593\n",
      "\n",
      "    accuracy                           1.00      1326\n",
      "   macro avg       1.00      1.00      1.00      1326\n",
      "weighted avg       1.00      1.00      1.00      1326\n",
      "\n"
     ]
    }
   ],
   "source": [
    "print(classification_report(y_train, y_pred_train))"
   ]
  },
  {
   "cell_type": "code",
   "execution_count": 40,
   "metadata": {
    "ExecuteTime": {
     "end_time": "2021-11-19T00:16:34.830466Z",
     "start_time": "2021-11-19T00:16:34.820548Z"
    }
   },
   "outputs": [
    {
     "name": "stdout",
     "output_type": "stream",
     "text": [
      "              precision    recall  f1-score   support\n",
      "\n",
      "           0       1.00      0.97      0.98       261\n",
      "           1       0.96      0.99      0.98       182\n",
      "\n",
      "    accuracy                           0.98       443\n",
      "   macro avg       0.98      0.98      0.98       443\n",
      "weighted avg       0.98      0.98      0.98       443\n",
      "\n"
     ]
    }
   ],
   "source": [
    "print(classification_report(y_test, y_pred_test))"
   ]
  },
  {
   "cell_type": "code",
   "execution_count": 41,
   "metadata": {
    "ExecuteTime": {
     "end_time": "2021-11-19T00:22:48.848375Z",
     "start_time": "2021-11-19T00:22:48.833603Z"
    }
   },
   "outputs": [
    {
     "data": {
      "text/html": [
       "<div>\n",
       "<style scoped>\n",
       "    .dataframe tbody tr th:only-of-type {\n",
       "        vertical-align: middle;\n",
       "    }\n",
       "\n",
       "    .dataframe tbody tr th {\n",
       "        vertical-align: top;\n",
       "    }\n",
       "\n",
       "    .dataframe thead th {\n",
       "        text-align: right;\n",
       "    }\n",
       "</style>\n",
       "<table border=\"1\" class=\"dataframe\">\n",
       "  <thead>\n",
       "    <tr style=\"text-align: right;\">\n",
       "      <th></th>\n",
       "      <th>Actual</th>\n",
       "      <th>Pred</th>\n",
       "    </tr>\n",
       "  </thead>\n",
       "  <tbody>\n",
       "    <tr>\n",
       "      <th>702</th>\n",
       "      <td>0</td>\n",
       "      <td>0</td>\n",
       "    </tr>\n",
       "    <tr>\n",
       "      <th>1255</th>\n",
       "      <td>0</td>\n",
       "      <td>0</td>\n",
       "    </tr>\n",
       "    <tr>\n",
       "      <th>1740</th>\n",
       "      <td>0</td>\n",
       "      <td>0</td>\n",
       "    </tr>\n",
       "    <tr>\n",
       "      <th>400</th>\n",
       "      <td>0</td>\n",
       "      <td>0</td>\n",
       "    </tr>\n",
       "    <tr>\n",
       "      <th>579</th>\n",
       "      <td>0</td>\n",
       "      <td>0</td>\n",
       "    </tr>\n",
       "    <tr>\n",
       "      <th>...</th>\n",
       "      <td>...</td>\n",
       "      <td>...</td>\n",
       "    </tr>\n",
       "    <tr>\n",
       "      <th>1655</th>\n",
       "      <td>1</td>\n",
       "      <td>1</td>\n",
       "    </tr>\n",
       "    <tr>\n",
       "      <th>682</th>\n",
       "      <td>0</td>\n",
       "      <td>1</td>\n",
       "    </tr>\n",
       "    <tr>\n",
       "      <th>1107</th>\n",
       "      <td>1</td>\n",
       "      <td>1</td>\n",
       "    </tr>\n",
       "    <tr>\n",
       "      <th>1427</th>\n",
       "      <td>1</td>\n",
       "      <td>1</td>\n",
       "    </tr>\n",
       "    <tr>\n",
       "      <th>396</th>\n",
       "      <td>1</td>\n",
       "      <td>1</td>\n",
       "    </tr>\n",
       "  </tbody>\n",
       "</table>\n",
       "<p>443 rows × 2 columns</p>\n",
       "</div>"
      ],
      "text/plain": [
       "      Actual  Pred\n",
       "702        0     0\n",
       "1255       0     0\n",
       "1740       0     0\n",
       "400        0     0\n",
       "579        0     0\n",
       "...      ...   ...\n",
       "1655       1     1\n",
       "682        0     1\n",
       "1107       1     1\n",
       "1427       1     1\n",
       "396        1     1\n",
       "\n",
       "[443 rows x 2 columns]"
      ]
     },
     "execution_count": 41,
     "metadata": {},
     "output_type": "execute_result"
    }
   ],
   "source": [
    "# How can we look at predictions where the classification was incorrect?\n",
    "# put them both in a df as 2 cols, filter out where they don't match\n",
    "df = pd.DataFrame()\n",
    "df['Actual'] = y_test\n",
    "df['Pred'] = y_pred_test\n",
    "df"
   ]
  },
  {
   "cell_type": "code",
   "execution_count": 42,
   "metadata": {
    "ExecuteTime": {
     "end_time": "2021-11-19T00:23:19.359927Z",
     "start_time": "2021-11-19T00:23:19.352139Z"
    }
   },
   "outputs": [
    {
     "data": {
      "text/plain": [
       "Int64Index([154, 824, 561, 791, 517, 257, 1121, 1033, 682], dtype='int64')"
      ]
     },
     "execution_count": 42,
     "metadata": {},
     "output_type": "execute_result"
    }
   ],
   "source": [
    "index_list_of_wrong_preds = (\n",
    "    df\n",
    "    .loc[df['Actual'] != df['Pred']]\n",
    "    .index\n",
    ")\n",
    "index_list_of_wrong_preds"
   ]
  },
  {
   "cell_type": "code",
   "execution_count": 44,
   "metadata": {
    "ExecuteTime": {
     "end_time": "2021-11-19T00:24:59.585261Z",
     "start_time": "2021-11-19T00:24:59.574688Z"
    }
   },
   "outputs": [
    {
     "data": {
      "text/html": [
       "<div>\n",
       "<style scoped>\n",
       "    .dataframe tbody tr th:only-of-type {\n",
       "        vertical-align: middle;\n",
       "    }\n",
       "\n",
       "    .dataframe tbody tr th {\n",
       "        vertical-align: top;\n",
       "    }\n",
       "\n",
       "    .dataframe thead th {\n",
       "        text-align: right;\n",
       "    }\n",
       "</style>\n",
       "<table border=\"1\" class=\"dataframe\">\n",
       "  <thead>\n",
       "    <tr style=\"text-align: right;\">\n",
       "      <th></th>\n",
       "      <th>Actual</th>\n",
       "      <th>Pred</th>\n",
       "    </tr>\n",
       "  </thead>\n",
       "  <tbody>\n",
       "    <tr>\n",
       "      <th>154</th>\n",
       "      <td>0</td>\n",
       "      <td>1</td>\n",
       "    </tr>\n",
       "    <tr>\n",
       "      <th>824</th>\n",
       "      <td>1</td>\n",
       "      <td>0</td>\n",
       "    </tr>\n",
       "    <tr>\n",
       "      <th>561</th>\n",
       "      <td>0</td>\n",
       "      <td>1</td>\n",
       "    </tr>\n",
       "    <tr>\n",
       "      <th>791</th>\n",
       "      <td>0</td>\n",
       "      <td>1</td>\n",
       "    </tr>\n",
       "    <tr>\n",
       "      <th>517</th>\n",
       "      <td>0</td>\n",
       "      <td>1</td>\n",
       "    </tr>\n",
       "    <tr>\n",
       "      <th>257</th>\n",
       "      <td>0</td>\n",
       "      <td>1</td>\n",
       "    </tr>\n",
       "    <tr>\n",
       "      <th>1121</th>\n",
       "      <td>0</td>\n",
       "      <td>1</td>\n",
       "    </tr>\n",
       "    <tr>\n",
       "      <th>1033</th>\n",
       "      <td>0</td>\n",
       "      <td>1</td>\n",
       "    </tr>\n",
       "    <tr>\n",
       "      <th>682</th>\n",
       "      <td>0</td>\n",
       "      <td>1</td>\n",
       "    </tr>\n",
       "  </tbody>\n",
       "</table>\n",
       "</div>"
      ],
      "text/plain": [
       "      Actual  Pred\n",
       "154        0     1\n",
       "824        1     0\n",
       "561        0     1\n",
       "791        0     1\n",
       "517        0     1\n",
       "257        0     1\n",
       "1121       0     1\n",
       "1033       0     1\n",
       "682        0     1"
      ]
     },
     "execution_count": 44,
     "metadata": {},
     "output_type": "execute_result"
    }
   ],
   "source": [
    "(df.loc[df['Actual'] != df['Pred']])"
   ]
  },
  {
   "cell_type": "code",
   "execution_count": 43,
   "metadata": {
    "ExecuteTime": {
     "end_time": "2021-11-19T00:23:28.865223Z",
     "start_time": "2021-11-19T00:23:28.858600Z"
    }
   },
   "outputs": [
    {
     "data": {
      "text/plain": [
       "array(['subject: chris webber chokes\\nfrom: krueger@argon.gas.uug.arizona.edu (theodore r krueger)\\norganization: university of arizona, tucson\\nlines: 11\\n\\nafter the marvelous \"time-out\" call by chris webber (which resulted in \\na technical foul, since his team had no time-outs left) perhaps webber \\nwill take the place of bill buckner as the master of choke.  at least \\nthis red sox fan hopes so.\\n\\nted\\n\\n--\\nwhen chelsea clinton\\'s secret service agent had to be replaced by an active \\nduty soldier she objected on the grounds that her family dislikes the military.\\n\\t\\t----- krueger@gas.uug.arizona.edu -----\\n',\n",
       "       \"from: jmann@vineland.pubs.stratus.com (jim mann)\\nsubject: re: celebrate liberty!  1993\\norganization: stratus computer inc, marlboro ma\\nlines: 12\\nreply-to: jmann@vineland.pubs.stratus.com\\nnntp-posting-host: gondolin.pubs.stratus.com\\n\\nin article <1993apr5.201051.15818@dsd.es.com>  \\nbob.waldrop@f418.n104.z1.fidonet.org (bob waldrop) writes:\\n\\nwhat did this have to do with sf?  and please don't answer\\nthat a number of libertarians are sf fans or vice versa. i know a \\nnumber of sf fans who are also baseball fans but i don't plan on \\nposting the red sox schedule.\\n\\n--\\njim mann            \\nstratus computer   jmann@vineland.pubs.stratus.com  \\n\\n\"],\n",
       "      dtype=object)"
      ]
     },
     "execution_count": 43,
     "metadata": {},
     "output_type": "execute_result"
    }
   ],
   "source": [
    "X_test[index_list_of_wrong_preds].values[:2]"
   ]
  },
  {
   "cell_type": "markdown",
   "metadata": {},
   "source": [
    "<a id='logreg'></a>\n",
    "## Train KNN Model"
   ]
  },
  {
   "cell_type": "code",
   "execution_count": 45,
   "metadata": {
    "ExecuteTime": {
     "end_time": "2021-11-19T00:27:21.433678Z",
     "start_time": "2021-11-19T00:27:21.270694Z"
    }
   },
   "outputs": [],
   "source": [
    "from sklearn.neighbors import KNeighborsClassifier"
   ]
  },
  {
   "cell_type": "code",
   "execution_count": 46,
   "metadata": {
    "ExecuteTime": {
     "end_time": "2021-11-19T00:27:25.232126Z",
     "start_time": "2021-11-19T00:27:25.221220Z"
    }
   },
   "outputs": [
    {
     "data": {
      "text/plain": [
       "KNeighborsClassifier()"
      ]
     },
     "execution_count": 46,
     "metadata": {},
     "output_type": "execute_result"
    }
   ],
   "source": [
    "# Let's compare with a KNN model!\n",
    "knn = KNeighborsClassifier()\n",
    "knn.fit(X_train_processed, y_train)"
   ]
  },
  {
   "cell_type": "code",
   "execution_count": 47,
   "metadata": {
    "ExecuteTime": {
     "end_time": "2021-11-19T00:27:27.182634Z",
     "start_time": "2021-11-19T00:27:26.762709Z"
    }
   },
   "outputs": [],
   "source": [
    "X_pred_train_knn = knn.predict(X_train_processed)\n",
    "X_pred_test_knn = knn.predict(X_test_processed)"
   ]
  },
  {
   "cell_type": "code",
   "execution_count": 48,
   "metadata": {
    "ExecuteTime": {
     "end_time": "2021-11-19T00:27:28.345888Z",
     "start_time": "2021-11-19T00:27:28.324221Z"
    }
   },
   "outputs": [
    {
     "name": "stdout",
     "output_type": "stream",
     "text": [
      "              precision    recall  f1-score   support\n",
      "\n",
      "           0       0.90      0.98      0.94       733\n",
      "           1       0.97      0.86      0.91       593\n",
      "\n",
      "    accuracy                           0.93      1326\n",
      "   macro avg       0.93      0.92      0.92      1326\n",
      "weighted avg       0.93      0.93      0.92      1326\n",
      "\n",
      "              precision    recall  f1-score   support\n",
      "\n",
      "           0       0.86      0.97      0.91       261\n",
      "           1       0.94      0.77      0.85       182\n",
      "\n",
      "    accuracy                           0.88       443\n",
      "   macro avg       0.90      0.87      0.88       443\n",
      "weighted avg       0.89      0.88      0.88       443\n",
      "\n"
     ]
    }
   ],
   "source": [
    "print(classification_report(y_train, X_pred_train_knn))\n",
    "print(classification_report(y_test, X_pred_test_knn))"
   ]
  },
  {
   "cell_type": "markdown",
   "metadata": {},
   "source": [
    "# Assumptions / Pros-Cons\n",
    "## Assumptions\n",
    "- Features are independent.\n",
    "\n",
    "## Pros\n",
    "- Performs very well with categorical variables (OHE).\n",
    "- Very fast training time.\n",
    "    - Can handle large datasets well.\n",
    "- Good when there are many features.\n",
    "- Robust to outliers.\n",
    "\n",
    "## Cons\n",
    "- Correlated features negatively impact performance.\n",
    "\n",
    "\n",
    "# Example Use Cases\n",
    "- Sentiment Analysis\n",
    "- Document Classification\n",
    "    - Spam Filtering"
   ]
  }
 ],
 "metadata": {
  "kernelspec": {
   "display_name": "Python [conda env:learn-env] *",
   "language": "python",
   "name": "conda-env-learn-env-py"
  },
  "language_info": {
   "codemirror_mode": {
    "name": "ipython",
    "version": 3
   },
   "file_extension": ".py",
   "mimetype": "text/x-python",
   "name": "python",
   "nbconvert_exporter": "python",
   "pygments_lexer": "ipython3",
   "version": "3.6.9"
  },
  "toc": {
   "base_numbering": 1,
   "nav_menu": {},
   "number_sections": false,
   "sideBar": true,
   "skip_h1_title": false,
   "title_cell": "Table of Contents",
   "title_sidebar": "Contents",
   "toc_cell": false,
   "toc_position": {},
   "toc_section_display": true,
   "toc_window_display": true
  }
 },
 "nbformat": 4,
 "nbformat_minor": 2
}
