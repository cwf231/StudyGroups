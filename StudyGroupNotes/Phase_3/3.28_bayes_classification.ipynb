{
 "cells": [
  {
   "cell_type": "markdown",
   "metadata": {},
   "source": [
    "## Phase 3.28\n",
    "# Bayes Classification\n",
    "\n",
    "## Objectives\n",
    "- Revisit <a href='#bayes'>Bayes Theorem</a> and conceptualize building a model.\n",
    "- Understand the data processing method: <a href='#bow'>Bag of Words</a>.\n",
    "- Implement <a href='#nb-clf'>Naive Bayes Classifier</a> in scikit-learn.\n",
    "    - Compare Naive Bayes with <a href='#logreg'>another classification model</a>."
   ]
  },
  {
   "cell_type": "markdown",
   "metadata": {},
   "source": [
    "<a id='bayes'></a>\n",
    "# Bayes Classification: Introduction\n",
    "\n",
    "Naive Bayes algorithms extend Bayes' formula to multiple variables by assuming that these features are independent of one another, which may not be met, (hence its naivety) it can nonetheless provide strong results in scenarios with clean and well normalized datasets. This then allows you to estimate an overall probability by multiplying the conditional probabilities for each of the independent features.\n",
    "\n",
    "## Recap: Bayes Theorem\n",
    "\n",
    "$$ \\Large P(A|B) = \\frac{P(B|A)\\bullet P(A)}{P(B)}$$\n",
    "\n",
    "Expanding to multiple features, the multinomial Bayes' formula is:  \n",
    "\n",
    "$$ \\Large P(y|x_1, x_2, ..., x_n) = \\frac{P(y)\\prod_{i}^{n}P(x_i|y)}{P(x_1, x_2, ..., x_n)}$$\n",
    "\n",
    "---\n",
    "<a id='bow'></a>\n",
    "# How can we represent a text with as a DataFrame?\n",
    "\n",
    " $$ P(\\text{Document | Word}) = \\dfrac{P(\\text{Word | Document})P(\\text{Document})}{P(\\text{Word})}$$  \n",
    "\n",
    "## Bag of Words\n",
    "\n",
    "A **Bag of Words** is a frequency-mapping for a given text or document.\n",
    "\n",
    "For example:\n",
    "\n",
    "> **Sentence**: `'My favorite food is pizza. My brother likes pizza too.'`\n",
    "> \n",
    "> **Bag of Words**: `{'My': 2, 'favorite': 1, 'food': 1, 'is': 1, 'pizza': 2, 'brother': 1, 'likes': 1, 'too': 1}`\n",
    "\n",
    "---\n",
    "## Transforming Text Data\n",
    "\n",
    "***Original Data***\n",
    "> **Sentence 1**: `'My favorite food is pizza. My brother likes pizza too.'`\n",
    "> \n",
    "> **Sentence 2**: `'My mom likes baseball. My dad likes painting.'`\n",
    ">\n",
    "\n",
    "***Processing***\n",
    "> **BoW 1**: `{'My': 2, 'favorite': 1, 'food': 1, 'is': 1, 'pizza': 2, 'brother': 1, 'likes': 1, 'too': 1}`\n",
    ">\n",
    "> **BoW 2**: `{'My': 2, 'mom': 1, 'likes': 2, 'baseball': 1, 'dad': 1, 'painting': 1}`\n",
    "\n",
    "***DataFrame Representation***\n",
    "> | mom | favorite | brother | pizza | painting | too | my | is | dad | food | baseball | likes |\n",
    "> | --- | ---      | ---     | ---   | ---      | --- | -- | -- | --- | ---  | ---      | ---   |\n",
    "> |   0 |   1      |   1     |   2   |   0      |   1 |  2 |  1 |   0 |   1  |   0      |   1   |\n",
    "> |   1 |   0      |   0     |   0   |   1      |   0 |  2 |  0 |   1 |   0  |   1      |   2   |"
   ]
  },
  {
   "cell_type": "code",
   "execution_count": 1,
   "metadata": {
    "ExecuteTime": {
     "end_time": "2021-03-22T12:45:13.911441Z",
     "start_time": "2021-03-22T12:45:13.908815Z"
    }
   },
   "outputs": [],
   "source": [
    "# Coding a Bag of Words\n",
    "s1 = 'My favorite food is pizza My brother likes pizza too'\n",
    "s2 = 'My mom likes baseball My dad likes painting'\n",
    "\n",
    "# PRACTICE!\n",
    "# Create BoW dictionaries for each sentence.\n"
   ]
  },
  {
   "cell_type": "markdown",
   "metadata": {},
   "source": [
    "<a id='nb-clf'></a>\n",
    "# Classifying News\n",
    "## Implementing Bayes Classifier in Scikit-Learn\n",
    "\n",
    "**There are 3 available classifiers for Naive Bayes in sklearn.** \n",
    "\n",
    "1. Gaussian: Assumes that continuous features follow a normal distribution.\n",
    "\n",
    "2. Bernoulli: The binomial model is useful if your features are binary.\n",
    "\n",
    "3. Multinomial: It is useful if your features are discrete."
   ]
  },
  {
   "cell_type": "code",
   "execution_count": 2,
   "metadata": {
    "ExecuteTime": {
     "end_time": "2021-03-22T12:45:14.617113Z",
     "start_time": "2021-03-22T12:45:13.913682Z"
    }
   },
   "outputs": [],
   "source": [
    "import numpy as np\n",
    "import pandas as pd\n",
    "from sklearn.model_selection import train_test_split\n",
    "from sklearn.feature_extraction.text import CountVectorizer\n",
    "from sklearn.naive_bayes import GaussianNB\n",
    "from sklearn.metrics import classification_report, plot_confusion_matrix\n",
    "from sklearn.datasets import fetch_20newsgroups"
   ]
  },
  {
   "cell_type": "code",
   "execution_count": 3,
   "metadata": {
    "ExecuteTime": {
     "end_time": "2021-03-22T12:45:14.899284Z",
     "start_time": "2021-03-22T12:45:14.619344Z"
    }
   },
   "outputs": [
    {
     "data": {
      "text/plain": [
       "dict_keys(['data', 'filenames', 'target_names', 'target', 'DESCR'])"
      ]
     },
     "execution_count": 3,
     "metadata": {},
     "output_type": "execute_result"
    }
   ],
   "source": [
    "# Load data.\n",
    "news_data = fetch_20newsgroups(\n",
    "    subset='all',\n",
    "    categories=['rec.sport.baseball', 'talk.politics.misc']\n",
    "    )\n",
    "news_data.keys()"
   ]
  },
  {
   "cell_type": "code",
   "execution_count": 4,
   "metadata": {
    "ExecuteTime": {
     "end_time": "2021-03-22T12:45:14.916770Z",
     "start_time": "2021-03-22T12:45:14.901728Z"
    }
   },
   "outputs": [
    {
     "data": {
      "text/html": [
       "<div>\n",
       "<style scoped>\n",
       "    .dataframe tbody tr th:only-of-type {\n",
       "        vertical-align: middle;\n",
       "    }\n",
       "\n",
       "    .dataframe tbody tr th {\n",
       "        vertical-align: top;\n",
       "    }\n",
       "\n",
       "    .dataframe thead th {\n",
       "        text-align: right;\n",
       "    }\n",
       "</style>\n",
       "<table border=\"1\" class=\"dataframe\">\n",
       "  <thead>\n",
       "    <tr style=\"text-align: right;\">\n",
       "      <th></th>\n",
       "      <th>data</th>\n",
       "      <th>target</th>\n",
       "    </tr>\n",
       "  </thead>\n",
       "  <tbody>\n",
       "    <tr>\n",
       "      <th>0</th>\n",
       "      <td>From: paula@koufax.cv.hp.com (Paul Andresen)\\n...</td>\n",
       "      <td>0</td>\n",
       "    </tr>\n",
       "    <tr>\n",
       "      <th>1</th>\n",
       "      <td>From: garrett@Ingres.COM \\nSubject: Re: Limiti...</td>\n",
       "      <td>1</td>\n",
       "    </tr>\n",
       "    <tr>\n",
       "      <th>2</th>\n",
       "      <td>From: djs9683@ritvax.isc.rit.edu\\nSubject: Re:...</td>\n",
       "      <td>0</td>\n",
       "    </tr>\n",
       "    <tr>\n",
       "      <th>3</th>\n",
       "      <td>From: nickn@eskimo.com (Nick Nussbaum)\\nSubjec...</td>\n",
       "      <td>1</td>\n",
       "    </tr>\n",
       "    <tr>\n",
       "      <th>4</th>\n",
       "      <td>From: jerry@sheldev.shel.isc-br.com (Gerald La...</td>\n",
       "      <td>0</td>\n",
       "    </tr>\n",
       "  </tbody>\n",
       "</table>\n",
       "</div>"
      ],
      "text/plain": [
       "                                                data  target\n",
       "0  From: paula@koufax.cv.hp.com (Paul Andresen)\\n...       0\n",
       "1  From: garrett@Ingres.COM \\nSubject: Re: Limiti...       1\n",
       "2  From: djs9683@ritvax.isc.rit.edu\\nSubject: Re:...       0\n",
       "3  From: nickn@eskimo.com (Nick Nussbaum)\\nSubjec...       1\n",
       "4  From: jerry@sheldev.shel.isc-br.com (Gerald La...       0"
      ]
     },
     "execution_count": 4,
     "metadata": {},
     "output_type": "execute_result"
    }
   ],
   "source": [
    "# Create a dataframe from the loaded data.\n",
    "df = pd.DataFrame()\n",
    "df['data'] = news_data['data']\n",
    "df['target'] = news_data['target']\n",
    "df.head()"
   ]
  },
  {
   "cell_type": "code",
   "execution_count": 5,
   "metadata": {
    "ExecuteTime": {
     "end_time": "2021-03-22T12:45:14.920906Z",
     "start_time": "2021-03-22T12:45:14.918655Z"
    }
   },
   "outputs": [],
   "source": [
    "# Look at a row of the data.\n"
   ]
  },
  {
   "cell_type": "code",
   "execution_count": 6,
   "metadata": {
    "ExecuteTime": {
     "end_time": "2021-03-22T12:45:14.924585Z",
     "start_time": "2021-03-22T12:45:14.922444Z"
    }
   },
   "outputs": [],
   "source": [
    "# Perform train test split (random_state=2021)\n"
   ]
  },
  {
   "cell_type": "code",
   "execution_count": 7,
   "metadata": {
    "ExecuteTime": {
     "end_time": "2021-03-22T12:45:14.928494Z",
     "start_time": "2021-03-22T12:45:14.926477Z"
    }
   },
   "outputs": [],
   "source": [
    "# Use CountVectorizer to process text.\n"
   ]
  },
  {
   "cell_type": "code",
   "execution_count": 8,
   "metadata": {
    "ExecuteTime": {
     "end_time": "2021-03-22T12:45:14.934750Z",
     "start_time": "2021-03-22T12:45:14.932362Z"
    }
   },
   "outputs": [],
   "source": [
    "# Show sparse matrix as DataFrame. (.toarray())\n"
   ]
  },
  {
   "cell_type": "code",
   "execution_count": 9,
   "metadata": {
    "ExecuteTime": {
     "end_time": "2021-03-22T12:45:14.939074Z",
     "start_time": "2021-03-22T12:45:14.936884Z"
    }
   },
   "outputs": [],
   "source": [
    "# Build a Gaussian Naive Bayes model.\n"
   ]
  },
  {
   "cell_type": "code",
   "execution_count": 10,
   "metadata": {
    "ExecuteTime": {
     "end_time": "2021-03-22T12:45:14.942671Z",
     "start_time": "2021-03-22T12:45:14.940601Z"
    }
   },
   "outputs": [],
   "source": [
    "# Make predictions and show scores.\n"
   ]
  },
  {
   "cell_type": "code",
   "execution_count": 11,
   "metadata": {
    "ExecuteTime": {
     "end_time": "2021-03-22T12:45:14.946840Z",
     "start_time": "2021-03-22T12:45:14.944509Z"
    }
   },
   "outputs": [],
   "source": [
    "# How can we look at predictions where the classification was incorrect?\n"
   ]
  },
  {
   "cell_type": "markdown",
   "metadata": {},
   "source": [
    "<a id='logreg'></a>\n",
    "## Train Logistic Regression Model"
   ]
  },
  {
   "cell_type": "code",
   "execution_count": 12,
   "metadata": {
    "ExecuteTime": {
     "end_time": "2021-03-22T12:45:14.951729Z",
     "start_time": "2021-03-22T12:45:14.948947Z"
    }
   },
   "outputs": [],
   "source": [
    "# Let's compare with a Logistic Regression model!\n"
   ]
  },
  {
   "cell_type": "markdown",
   "metadata": {},
   "source": [
    "# Resources\n",
    "\n"
   ]
  },
  {
   "cell_type": "code",
   "execution_count": null,
   "metadata": {},
   "outputs": [],
   "source": []
  }
 ],
 "metadata": {
  "kernelspec": {
   "display_name": "Python [conda env:learn-env] *",
   "language": "python",
   "name": "conda-env-learn-env-py"
  },
  "language_info": {
   "codemirror_mode": {
    "name": "ipython",
    "version": 3
   },
   "file_extension": ".py",
   "mimetype": "text/x-python",
   "name": "python",
   "nbconvert_exporter": "python",
   "pygments_lexer": "ipython3",
   "version": "3.6.9"
  },
  "toc": {
   "base_numbering": 1,
   "nav_menu": {},
   "number_sections": false,
   "sideBar": true,
   "skip_h1_title": false,
   "title_cell": "Table of Contents",
   "title_sidebar": "Contents",
   "toc_cell": false,
   "toc_position": {},
   "toc_section_display": true,
   "toc_window_display": true
  }
 },
 "nbformat": 4,
 "nbformat_minor": 2
}
