{
 "cells": [
  {
   "cell_type": "markdown",
   "metadata": {
    "cell_style": "center",
    "id": "rcLIl1jcGQ-S"
   },
   "source": [
    "## Phase 3.22\n",
    "\n",
    "# Linear Algebra\n",
    "\n",
    "## Objectives\n",
    "\n",
    "1. Why Linear Algebra?\n",
    "2. Data Types for Linear Algebra\n",
    "3. Operations on Vectors and Matrices\n",
    "    - Addition and Subtraction\n",
    "    - Broadcasting\n",
    "    - Multiplication (3 kinds)\n",
    "    - Division\n",
    "4. Systems of Linear Equations\n",
    "5. Linear Regression with Linear Algebra\n"
   ]
  },
  {
   "cell_type": "markdown",
   "metadata": {
    "id": "LDZZWYqmGQ-W"
   },
   "source": [
    "# Part 1. Why Linear Algebra?\n",
    "\n",
    "Linear Algebra is the basis of many machine learning models.\n",
    "\n",
    "Data is usually already set up into a matrix by default!\n",
    "\n",
    "<img src= \"https://raw.githubusercontent.com/yishuen/studygroups-092820ft/master/phase-3/resources/dataset.jpeg\">"
   ]
  },
  {
   "cell_type": "markdown",
   "metadata": {
    "id": "P57Jd9jrGQ-W"
   },
   "source": [
    "It can be used to model complicated things like language\n",
    "\n",
    "<img src = \"https://raw.githubusercontent.com/yishuen/studygroups-092820ft/master/phase-3/resources/Word-Vectors.png\">"
   ]
  },
  {
   "cell_type": "markdown",
   "metadata": {
    "id": "tJwu8ZzuGQ-W"
   },
   "source": [
    "Important for image compression and recognition\n",
    "\n",
    "<img src = \"https://raw.githubusercontent.com/yishuen/studygroups-092820ft/master/phase-3/resources//images.gif\">"
   ]
  },
  {
   "cell_type": "markdown",
   "metadata": {
    "id": "_er6JYobGQ-X"
   },
   "source": [
    "Recommendation engines are able to make much more sophisticated recommendations by using linear algebra in conjunction with user and content data.\n",
    "\n",
    "<img src = \"https://raw.githubusercontent.com/yishuen/studygroups-092820ft/master/phase-3/resources/netflix.png\">\n",
    "\n",
    "\n"
   ]
  },
  {
   "cell_type": "markdown",
   "metadata": {
    "id": "MiWJ1zX7GQ-X"
   },
   "source": [
    "\n",
    "<img src=\"https://github.com/yishuen/studygroups-092820ft/blob/master/phase-3/resources/linalgmeme.png?raw=1\" alt=\"drawing\" width=\"400\"/>"
   ]
  },
  {
   "cell_type": "markdown",
   "metadata": {
    "id": "Q6LNUbL8GQ-Y"
   },
   "source": [
    "# Part 2: Data Types for Linear Algebra\n",
    "\n",
    "<img src = \"https://raw.githubusercontent.com/yishuen/studygroups-092820ft/master/phase-3/resources/datadogs.jpg\">\n",
    "\n",
    "* Scalars only have magnitude.\n",
    "\n",
    "* A vector is an array with **magnitude and direction**. The coordinates of a vector represent where the tip of the vector would be if you travelled from the origin, and the magnitude of a vector would be its length in space.\n",
    "\n",
    "* Matrices can be interpreted differently in different contexts but it's often used to represent multiple simultaneous vectors. \n",
    "\n",
    "* A vector or matrix can be multiplied by a scalar to create a change in **scale** and/or direction.\n",
    "\n",
    "* Tensors are made up of matrices with the same dimensions.\n",
    "\n",
    "Vectors, matrices and tensors are represented by NumPy arrays. **Not lists!!!** We can use `np.array.shape` to explore the dimensions of these data structures.\n"
   ]
  },
  {
   "cell_type": "code",
   "execution_count": 1,
   "metadata": {
    "ExecuteTime": {
     "end_time": "2021-10-28T22:39:57.941251Z",
     "start_time": "2021-10-28T22:39:57.729851Z"
    },
    "id": "eaWX0_PZGQ-Z",
    "scrolled": true
   },
   "outputs": [
    {
     "name": "stdout",
     "output_type": "stream",
     "text": [
      "[1 2 3 4 5 6]\n",
      "vector shape: (6,) \n",
      "\n",
      "[[1 2 3]\n",
      " [4 5 6]]\n",
      "matrix1 shape: (2, 3) \n",
      "\n",
      "[[1 2]\n",
      " [3 4]\n",
      " [5 6]]\n",
      "matrix2 shape: (3, 2) \n",
      "\n",
      "[[[1 2]\n",
      "  [3 4]]\n",
      "\n",
      " [[5 6]\n",
      "  [7 8]]]\n",
      "tensor shape: (2, 2, 2) \n",
      "\n"
     ]
    }
   ],
   "source": [
    "import numpy as np\n",
    "\n",
    "vector = np.array([1, 2, 3, 4, 5, 6])\n",
    "matrix1 = np.array([[1, 2, 3], [4, 5, 6]])\n",
    "matrix2 = np.array([[1, 2], [3, 4], [5, 6]])\n",
    "tensor = np.array([[[1, 2], [3, 4]], [[5, 6], [7, 8]]])\n",
    "\n",
    "print(vector)\n",
    "print('vector shape:', vector.shape, '\\n')\n",
    "print(matrix1)\n",
    "print('matrix1 shape:', matrix1.shape, '\\n')\n",
    "print(matrix2)\n",
    "print('matrix2 shape:', matrix2.shape, '\\n')\n",
    "print(tensor)\n",
    "print('tensor shape:', tensor.shape, '\\n')"
   ]
  },
  {
   "cell_type": "code",
   "execution_count": 2,
   "metadata": {
    "ExecuteTime": {
     "end_time": "2021-10-28T22:42:28.985530Z",
     "start_time": "2021-10-28T22:42:28.972115Z"
    }
   },
   "outputs": [
    {
     "data": {
      "text/plain": [
       "array([[[1, 2],\n",
       "        [3, 4]],\n",
       "\n",
       "       [[5, 6],\n",
       "        [7, 8]]])"
      ]
     },
     "execution_count": 2,
     "metadata": {},
     "output_type": "execute_result"
    }
   ],
   "source": [
    "tensor"
   ]
  },
  {
   "cell_type": "code",
   "execution_count": 4,
   "metadata": {
    "ExecuteTime": {
     "end_time": "2021-10-28T22:42:54.890153Z",
     "start_time": "2021-10-28T22:42:54.884857Z"
    },
    "id": "fzCbopz_GQ-a"
   },
   "outputs": [
    {
     "data": {
      "text/plain": [
       "(array([[5, 6],\n",
       "        [7, 8]]),\n",
       " (2, 2))"
      ]
     },
     "execution_count": 4,
     "metadata": {},
     "output_type": "execute_result"
    }
   ],
   "source": [
    "tensor[1], tensor[1].shape"
   ]
  },
  {
   "cell_type": "code",
   "execution_count": 5,
   "metadata": {
    "ExecuteTime": {
     "end_time": "2021-10-28T22:43:21.059507Z",
     "start_time": "2021-10-28T22:43:21.055055Z"
    }
   },
   "outputs": [
    {
     "data": {
      "text/plain": [
       "2"
      ]
     },
     "execution_count": 5,
     "metadata": {},
     "output_type": "execute_result"
    }
   ],
   "source": [
    "tensor[0][0][1]"
   ]
  },
  {
   "cell_type": "code",
   "execution_count": 6,
   "metadata": {
    "ExecuteTime": {
     "end_time": "2021-10-28T22:44:00.033353Z",
     "start_time": "2021-10-28T22:44:00.028838Z"
    }
   },
   "outputs": [
    {
     "data": {
      "text/plain": [
       "2"
      ]
     },
     "execution_count": 6,
     "metadata": {},
     "output_type": "execute_result"
    }
   ],
   "source": [
    "tensor[0, 0, 1]"
   ]
  },
  {
   "cell_type": "markdown",
   "metadata": {
    "id": "kztEmiXYGQ-b"
   },
   "source": [
    "### Magnitude of a vector\n",
    "\n",
    "$length = \\|v \\| = \\sqrt{v \\cdot v} = (v_{1}^2 + v_{2}^2 + \\cdot \\cdot \\cdot \\cdot + v_{n}^2)$\n"
   ]
  },
  {
   "cell_type": "code",
   "execution_count": 7,
   "metadata": {
    "ExecuteTime": {
     "end_time": "2021-10-28T22:44:33.219745Z",
     "start_time": "2021-10-28T22:44:33.214500Z"
    },
    "id": "y3rcc4riGQ-c"
   },
   "outputs": [
    {
     "data": {
      "text/plain": [
       "9.539392014169456"
      ]
     },
     "execution_count": 7,
     "metadata": {},
     "output_type": "execute_result"
    }
   ],
   "source": [
    "np.linalg.norm(vector)"
   ]
  },
  {
   "cell_type": "markdown",
   "metadata": {
    "id": "EE8X_Z78GQ-c"
   },
   "source": [
    "### Transposing\n",
    "\n",
    "Calling `.transpose()` on an array **reverses** its shape order."
   ]
  },
  {
   "cell_type": "code",
   "execution_count": 8,
   "metadata": {
    "ExecuteTime": {
     "end_time": "2021-10-28T22:44:55.782337Z",
     "start_time": "2021-10-28T22:44:55.777967Z"
    },
    "id": "eWeSAJ7NGQ-c"
   },
   "outputs": [
    {
     "name": "stdout",
     "output_type": "stream",
     "text": [
      "[[1 2 3]\n",
      " [4 5 6]]\n",
      "matrix1 shape: (2, 3) \n",
      "\n",
      "[[1 4]\n",
      " [2 5]\n",
      " [3 6]] \n",
      "\n",
      "matrix1.transpose() shape: (3, 2)\n"
     ]
    }
   ],
   "source": [
    "print(matrix1)\n",
    "print('matrix1 shape:', matrix1.shape, '\\n')\n",
    "\n",
    "# transposed\n",
    "print(matrix1.transpose(), '\\n')\n",
    "print('matrix1.transpose() shape:', matrix1.transpose().shape)"
   ]
  },
  {
   "cell_type": "code",
   "execution_count": 9,
   "metadata": {
    "ExecuteTime": {
     "end_time": "2021-10-28T22:45:12.117414Z",
     "start_time": "2021-10-28T22:45:12.110623Z"
    },
    "id": "JHKgB3m0GQ-d"
   },
   "outputs": [
    {
     "name": "stdout",
     "output_type": "stream",
     "text": [
      "[[[ 1  2  3]\n",
      "  [ 4  5  6]\n",
      "  [ 7  8  9]\n",
      "  [10 11 12]]\n",
      "\n",
      " [[13 14 15]\n",
      "  [16 17 18]\n",
      "  [19 20 21]\n",
      "  [22 23 24]]] \n",
      "\n",
      "shape of tensor2:  (2, 4, 3) \n",
      "\n",
      "[[[ 1 13]\n",
      "  [ 4 16]\n",
      "  [ 7 19]\n",
      "  [10 22]]\n",
      "\n",
      " [[ 2 14]\n",
      "  [ 5 17]\n",
      "  [ 8 20]\n",
      "  [11 23]]\n",
      "\n",
      " [[ 3 15]\n",
      "  [ 6 18]\n",
      "  [ 9 21]\n",
      "  [12 24]]] \n",
      "\n",
      "shape of tensor2.transpose():  (3, 4, 2)\n"
     ]
    }
   ],
   "source": [
    "tensor2 = np.array([[[1, 2, 3], [4, 5, 6], [7, 8, 9], [10, 11, 12]], \n",
    "           [[13, 14, 15], [16, 17, 18], [19, 20, 21], [22, 23, 24]]])\n",
    "\n",
    "print(tensor2, '\\n')\n",
    "print('shape of tensor2: ', tensor2.shape, '\\n')\n",
    "\n",
    "# transposed\n",
    "print(tensor2.transpose(), '\\n')\n",
    "print('shape of tensor2.transpose(): ', tensor2.transpose().shape)\n"
   ]
  },
  {
   "cell_type": "markdown",
   "metadata": {
    "id": "453IXo5aGQ-d"
   },
   "source": [
    "# Part 3: Operations on Vectors and Matrices\n",
    "\n",
    "## a. Addition & Subtraction\n",
    "\n",
    "For addition and subtraction of vectors, matrices and even tensors, as long as the dimensions are equal the operation occurs **element-wise**. This means given two vectors `v` and `w`:\n",
    "\n",
    "$ \\vec{v} = \\begin{bmatrix}v_{1} \\\\v_{2}\\end{bmatrix} $\n",
    "\n",
    "\n",
    "$ \\vec{w} = \\begin{bmatrix}w_{1} \\\\w_{2}\\end{bmatrix} $\n",
    "\n",
    "$ \\vec{v} + \\vec{w} = \\begin{bmatrix}v_{1} + w_{1} \\\\v_{2} + w_{2}\\end{bmatrix} $"
   ]
  },
  {
   "cell_type": "code",
   "execution_count": 10,
   "metadata": {
    "ExecuteTime": {
     "end_time": "2021-10-28T22:46:34.515274Z",
     "start_time": "2021-10-28T22:46:34.510170Z"
    },
    "id": "wRMwJr-AGQ-d"
   },
   "outputs": [
    {
     "data": {
      "text/plain": [
       "array([-1,  2])"
      ]
     },
     "execution_count": 10,
     "metadata": {},
     "output_type": "execute_result"
    }
   ],
   "source": [
    "v = np.array([2, 4])\n",
    "w = np.array([3, 2])\n",
    "\n",
    "v - w"
   ]
  },
  {
   "cell_type": "markdown",
   "metadata": {
    "id": "yI4BZlqfGQ-e"
   },
   "source": [
    "## b. Broadcasting\n",
    "\n",
    "NumPy arrays allow for something known as **broadcasting**, which happens when you perform operations across arrays with different number of dimensions. NumPy makes duplicates of the lower-dimension array **as long as the higher-dimension array *contains* the same shape** in order to execute the operation. Order of the `.shape` tuple matters!"
   ]
  },
  {
   "cell_type": "code",
   "execution_count": 11,
   "metadata": {
    "ExecuteTime": {
     "end_time": "2021-10-28T22:47:27.635161Z",
     "start_time": "2021-10-28T22:47:27.631856Z"
    },
    "id": "C6xM5uf1GQ-e",
    "scrolled": false
   },
   "outputs": [
    {
     "name": "stdout",
     "output_type": "stream",
     "text": [
      "[1 2 3 4 5 6]\n",
      "[ 5  6  7  8  9 10]\n"
     ]
    }
   ],
   "source": [
    "scalar = 4\n",
    "print(vector)\n",
    "\n",
    "print(vector + scalar)"
   ]
  },
  {
   "cell_type": "code",
   "execution_count": 12,
   "metadata": {
    "ExecuteTime": {
     "end_time": "2021-10-28T22:47:48.463739Z",
     "start_time": "2021-10-28T22:47:48.332309Z"
    },
    "id": "Py0sEtfOGQ-e"
   },
   "outputs": [
    {
     "ename": "ValueError",
     "evalue": "operands could not be broadcast together with shapes (3,2) (3,) ",
     "output_type": "error",
     "traceback": [
      "\u001b[0;31m---------------------------------------------------------------------------\u001b[0m",
      "\u001b[0;31mValueError\u001b[0m                                Traceback (most recent call last)",
      "\u001b[0;32m<ipython-input-12-a6bc9ced67fd>\u001b[0m in \u001b[0;36m<module>\u001b[0;34m\u001b[0m\n\u001b[1;32m      1\u001b[0m \u001b[0mv1\u001b[0m \u001b[0;34m=\u001b[0m \u001b[0mnp\u001b[0m\u001b[0;34m.\u001b[0m\u001b[0marray\u001b[0m\u001b[0;34m(\u001b[0m\u001b[0;34m[\u001b[0m\u001b[0;36m1\u001b[0m\u001b[0;34m,\u001b[0m \u001b[0;36m0\u001b[0m\u001b[0;34m,\u001b[0m \u001b[0;36m1\u001b[0m\u001b[0;34m]\u001b[0m\u001b[0;34m)\u001b[0m\u001b[0;34m\u001b[0m\u001b[0;34m\u001b[0m\u001b[0m\n\u001b[1;32m      2\u001b[0m \u001b[0mm1\u001b[0m \u001b[0;34m=\u001b[0m \u001b[0mnp\u001b[0m\u001b[0;34m.\u001b[0m\u001b[0marray\u001b[0m\u001b[0;34m(\u001b[0m\u001b[0;34m[\u001b[0m\u001b[0;34m[\u001b[0m\u001b[0;36m1\u001b[0m\u001b[0;34m,\u001b[0m \u001b[0;36m2\u001b[0m\u001b[0;34m]\u001b[0m\u001b[0;34m,\u001b[0m \u001b[0;34m[\u001b[0m\u001b[0;36m3\u001b[0m\u001b[0;34m,\u001b[0m \u001b[0;36m4\u001b[0m\u001b[0;34m]\u001b[0m\u001b[0;34m,\u001b[0m \u001b[0;34m[\u001b[0m\u001b[0;36m5\u001b[0m\u001b[0;34m,\u001b[0m \u001b[0;36m6\u001b[0m\u001b[0;34m]\u001b[0m\u001b[0;34m]\u001b[0m\u001b[0;34m)\u001b[0m\u001b[0;34m\u001b[0m\u001b[0;34m\u001b[0m\u001b[0m\n\u001b[0;32m----> 3\u001b[0;31m \u001b[0mm1\u001b[0m \u001b[0;34m-\u001b[0m \u001b[0mv1\u001b[0m\u001b[0;34m\u001b[0m\u001b[0;34m\u001b[0m\u001b[0m\n\u001b[0m",
      "\u001b[0;31mValueError\u001b[0m: operands could not be broadcast together with shapes (3,2) (3,) "
     ]
    }
   ],
   "source": [
    "v1 = np.array([1, 0, 1])\n",
    "m1 = np.array([[1, 2], [3, 4], [5, 6]])\n",
    "m1 - v1"
   ]
  },
  {
   "cell_type": "code",
   "execution_count": 13,
   "metadata": {
    "ExecuteTime": {
     "end_time": "2021-10-28T22:48:59.768312Z",
     "start_time": "2021-10-28T22:48:59.761987Z"
    }
   },
   "outputs": [
    {
     "data": {
      "text/plain": [
       "array([[1, 3, 5],\n",
       "       [2, 4, 6]])"
      ]
     },
     "execution_count": 13,
     "metadata": {},
     "output_type": "execute_result"
    }
   ],
   "source": [
    "m1.T"
   ]
  },
  {
   "cell_type": "code",
   "execution_count": 14,
   "metadata": {
    "ExecuteTime": {
     "end_time": "2021-10-28T22:49:14.057872Z",
     "start_time": "2021-10-28T22:49:14.053141Z"
    }
   },
   "outputs": [
    {
     "data": {
      "text/plain": [
       "array([[0, 3, 4],\n",
       "       [1, 4, 5]])"
      ]
     },
     "execution_count": 14,
     "metadata": {},
     "output_type": "execute_result"
    }
   ],
   "source": [
    "m1.T - v1"
   ]
  },
  {
   "cell_type": "markdown",
   "metadata": {
    "id": "NzU2LR1HGQ-e"
   },
   "source": [
    "What shapes of matrices and vectors can be broadcast onto `tensor2`?"
   ]
  },
  {
   "cell_type": "code",
   "execution_count": 15,
   "metadata": {
    "ExecuteTime": {
     "end_time": "2021-10-28T22:49:45.349336Z",
     "start_time": "2021-10-28T22:49:45.345947Z"
    },
    "id": "HfBA8wakGQ-f"
   },
   "outputs": [
    {
     "name": "stdout",
     "output_type": "stream",
     "text": [
      "[[[ 1  2  3]\n",
      "  [ 4  5  6]\n",
      "  [ 7  8  9]\n",
      "  [10 11 12]]\n",
      "\n",
      " [[13 14 15]\n",
      "  [16 17 18]\n",
      "  [19 20 21]\n",
      "  [22 23 24]]]\n"
     ]
    }
   ],
   "source": [
    "print(tensor2)"
   ]
  },
  {
   "cell_type": "code",
   "execution_count": 16,
   "metadata": {
    "ExecuteTime": {
     "end_time": "2021-10-28T22:49:59.474368Z",
     "start_time": "2021-10-28T22:49:59.468981Z"
    }
   },
   "outputs": [
    {
     "data": {
      "text/plain": [
       "(2, 4, 3)"
      ]
     },
     "execution_count": 16,
     "metadata": {},
     "output_type": "execute_result"
    }
   ],
   "source": [
    "tensor2.shape"
   ]
  },
  {
   "cell_type": "code",
   "execution_count": 19,
   "metadata": {
    "ExecuteTime": {
     "end_time": "2021-10-28T22:52:45.793061Z",
     "start_time": "2021-10-28T22:52:45.787490Z"
    }
   },
   "outputs": [
    {
     "data": {
      "text/plain": [
       "(1,)"
      ]
     },
     "execution_count": 19,
     "metadata": {},
     "output_type": "execute_result"
    }
   ],
   "source": [
    "np.array([1]).shape\n",
    "# tensor2 + np.array([1])"
   ]
  },
  {
   "cell_type": "code",
   "execution_count": 30,
   "metadata": {
    "ExecuteTime": {
     "end_time": "2021-10-28T22:56:59.847802Z",
     "start_time": "2021-10-28T22:56:59.843372Z"
    }
   },
   "outputs": [
    {
     "data": {
      "text/plain": [
       "(3,)"
      ]
     },
     "execution_count": 30,
     "metadata": {},
     "output_type": "execute_result"
    }
   ],
   "source": [
    "np.array([1,2,3]).shape\n",
    "# print(tensor2)\n",
    "# tensor2 + np.array([1,2,3])"
   ]
  },
  {
   "cell_type": "code",
   "execution_count": 37,
   "metadata": {
    "ExecuteTime": {
     "end_time": "2021-10-28T23:01:31.719089Z",
     "start_time": "2021-10-28T23:01:31.716944Z"
    }
   },
   "outputs": [],
   "source": [
    "# Will not work!\n",
    "# np.array([1,2,3,4]).shape\n",
    "# tensor2 + np.array([1,2,3,4])"
   ]
  },
  {
   "cell_type": "code",
   "execution_count": 36,
   "metadata": {
    "ExecuteTime": {
     "end_time": "2021-10-28T23:01:13.623746Z",
     "start_time": "2021-10-28T23:01:13.617668Z"
    }
   },
   "outputs": [
    {
     "data": {
      "text/plain": [
       "array([[[ 2,  4,  6],\n",
       "        [ 8, 10, 12],\n",
       "        [14, 16, 18],\n",
       "        [20, 22, 24]],\n",
       "\n",
       "       [[14, 16, 18],\n",
       "        [20, 22, 24],\n",
       "        [26, 28, 30],\n",
       "        [32, 34, 36]]])"
      ]
     },
     "execution_count": 36,
     "metadata": {},
     "output_type": "execute_result"
    }
   ],
   "source": [
    "stamp = np.array([\n",
    "    [1,2,3],\n",
    "    [4,5,6],\n",
    "    [7,8,9],\n",
    "    [10,11,12]\n",
    "])\n",
    "tensor2 + stamp"
   ]
  },
  {
   "cell_type": "code",
   "execution_count": null,
   "metadata": {
    "ExecuteTime": {
     "end_time": "2021-08-31T19:02:14.046285Z",
     "start_time": "2021-08-31T19:02:14.037707Z"
    }
   },
   "outputs": [],
   "source": [
    "test = np.array([\n",
    "    [1,2,3],\n",
    "    [4,5,6]\n",
    "])\n",
    "\n",
    "test + tensor2"
   ]
  },
  {
   "cell_type": "markdown",
   "metadata": {
    "id": "l_y5WDSCGQ-f"
   },
   "source": [
    "## c. Multiplication\n",
    "\n",
    "### i. Hadamard Product\n",
    "\n",
    "Hadamard Multiplication occurs element-wise, and therefore can only occur between matrices of the same shape **OR** when broadcasting can occur. The Hadamard product is very easy in NumPy: just use `*`!\n",
    "\n",
    "\n",
    "\\begin{equation}\n",
    "\\begin{bmatrix}\n",
    "a_{1,1} & a_{1,2} \\\\\n",
    "a_{2,1} & a_{2,2}\n",
    "\\end{bmatrix}\n",
    "\\circ\n",
    "\\begin{bmatrix}\n",
    "b_{1,1} & b_{1,2} \\\\\n",
    "b_{2,1} & b_{2,2}\n",
    "\\end{bmatrix}\n",
    "=\n",
    "\\begin{bmatrix}\n",
    "a_{1,1}\\times b_{1,1} & a_{1,2}\\times b_{1,2} \\\\\n",
    "a_{2,1}\\times b_{2,1} & a_{2,2}\\times b_{2,2}\n",
    "\\end{bmatrix}\n",
    "\\end{equation}\n"
   ]
  },
  {
   "cell_type": "code",
   "execution_count": 38,
   "metadata": {
    "ExecuteTime": {
     "end_time": "2021-10-28T23:02:30.247423Z",
     "start_time": "2021-10-28T23:02:30.240657Z"
    },
    "id": "52dySyJkGQ-f"
   },
   "outputs": [
    {
     "data": {
      "text/plain": [
       "array([[ 3,  8],\n",
       "       [ 5, 18]])"
      ]
     },
     "execution_count": 38,
     "metadata": {},
     "output_type": "execute_result"
    }
   ],
   "source": [
    "# Use NumPy to calculate the Hadamard product of\n",
    "# [[1, 2], [1, 2]] and [[3, 4], [5, 9]]\n",
    "a = np.array([[1, 2], [1, 2]])\n",
    "b = np.array([[3, 4], [5, 9]])\n",
    "\n",
    "a * b"
   ]
  },
  {
   "cell_type": "markdown",
   "metadata": {
    "id": "oZ0aWIBjGQ-f"
   },
   "source": [
    "### ii. Dot Product\n",
    "\n",
    "Dot product is probably the most relevant kind of multiplication for our use cases. The dot product of matrices is also commonly known as **Matrix Multiplication**. Unless otherwise stated, _multiplication_ refers to this kind of multiplication.\n",
    "\n",
    "\n",
    "\\begin{equation}\n",
    "\\begin{bmatrix}\n",
    "a_{1,1} & a_{1,2} \\\\\n",
    "a_{2,1} & a_{2,2}\n",
    "\\end{bmatrix}\n",
    "\\times\n",
    "\\begin{bmatrix}\n",
    "b_{1,1} & b_{1,2} \\\\\n",
    "b_{2,1} & b_{2,2}\n",
    "\\end{bmatrix}\n",
    "=\n",
    "\\begin{bmatrix}\n",
    "a_{1,1}\\times b_{1,1} + a_{1,2}\\times b_{2,1} & a_{1,1}\\times b_{1,2} + a_{1,2}\\times b_{2,2} \\\\\n",
    "a_{2,1}\\times b_{1,1} + a_{2,2}\\times b_{2,1} & a_{2,1}\\times b_{1,2} + a_{2,2}\\times b_{2,2}\n",
    "\\end{bmatrix}\n",
    "\\end{equation}\n"
   ]
  },
  {
   "cell_type": "markdown",
   "metadata": {
    "id": "aSwa15RjGQ-g"
   },
   "source": [
    "We take the **rows** (horizontal) of the first matrix and do an element-wise product with the **columns** (vertical) of the second matrix. With this rule, what are the shape restrictions to doing matrix multiplication?\n",
    "\n",
    "i.e. if we want to multiply matrices $A$ and $B$ where the dimensions of $A$ and $B$ are $m \\times n$ and $p \\times q$ respectively."
   ]
  },
  {
   "cell_type": "markdown",
   "metadata": {
    "cell_style": "center",
    "id": "96uETptXGQ-g"
   },
   "source": [
    "Using NumPy arrays, dot-multiply the matrices\n",
    "\\begin{bmatrix}\n",
    "3 & 2 \\\\\n",
    "5 & 7\n",
    "\\end{bmatrix}\n",
    "\\begin{bmatrix}\n",
    "2 & 4 \\\\\n",
    "3 & 10\n",
    "\\end{bmatrix}\n",
    "\n",
    "in the code-cell below using `np.dot()`. Look up the documentation! Remember that you need square brackets around the whole array!"
   ]
  },
  {
   "cell_type": "code",
   "execution_count": 39,
   "metadata": {
    "ExecuteTime": {
     "end_time": "2021-10-28T23:05:45.743048Z",
     "start_time": "2021-10-28T23:05:45.734327Z"
    },
    "cell_style": "center",
    "id": "Km5tHReTGQ-g"
   },
   "outputs": [
    {
     "data": {
      "text/plain": [
       "array([[12, 32],\n",
       "       [31, 90]])"
      ]
     },
     "execution_count": 39,
     "metadata": {},
     "output_type": "execute_result"
    }
   ],
   "source": [
    "a = np.array([[3,2],[5,7]])\n",
    "b = np.array([[2,4],[3,10]])\n",
    "np.dot(a, b)"
   ]
  },
  {
   "cell_type": "code",
   "execution_count": 40,
   "metadata": {
    "ExecuteTime": {
     "end_time": "2021-10-28T23:05:57.178087Z",
     "start_time": "2021-10-28T23:05:57.172308Z"
    }
   },
   "outputs": [
    {
     "data": {
      "text/plain": [
       "array([[12, 32],\n",
       "       [31, 90]])"
      ]
     },
     "execution_count": 40,
     "metadata": {},
     "output_type": "execute_result"
    }
   ],
   "source": [
    "np.matmul(a, b)"
   ]
  },
  {
   "cell_type": "markdown",
   "metadata": {
    "id": "ligqBJaMGQ-h"
   },
   "source": [
    "Furthermore, $AB ≠ BA $  and $(AB)C ≠ A(BC)$."
   ]
  },
  {
   "cell_type": "code",
   "execution_count": 41,
   "metadata": {
    "ExecuteTime": {
     "end_time": "2021-10-28T23:06:29.306885Z",
     "start_time": "2021-10-28T23:06:29.302955Z"
    }
   },
   "outputs": [
    {
     "data": {
      "text/plain": [
       "array([[26, 32],\n",
       "       [59, 76]])"
      ]
     },
     "execution_count": 41,
     "metadata": {},
     "output_type": "execute_result"
    }
   ],
   "source": [
    "np.dot(b, a)"
   ]
  },
  {
   "cell_type": "markdown",
   "metadata": {
    "id": "TbbO5AgiGQ-h"
   },
   "source": [
    "### iii. Cross Product\n",
    "\n",
    "The cross product is used for more abstract applications of linear algebra and here we'll just define it for vectors.\n",
    "\n",
    "The result of the cross product of two vectors: $A \\times B = |A||B|sin( \\theta) n $\n",
    "- ($n$ is the unit vector perpendicular to the plane formed by the two vectors)\n",
    "- has a magnitude (length) equal to the area of the parallelogram formed by the two vectors\n",
    "- perpendicular to the plane formed by the two vectors\n",
    "- when you do a cross product, you lose a dimension\n"
   ]
  },
  {
   "cell_type": "markdown",
   "metadata": {
    "id": "7YhxBdLYGQ-h"
   },
   "source": [
    "## d. Division\n",
    "\n",
    "just kidding.\n",
    "\n",
    "### Inverses and the Identity Matrix\n",
    "\n",
    "It is **not** possible to divide by matrices (broadcasting still works element-wise). What we can do is find the **inverse** of a matrix. When a matrix is multiplied by its inverse, it results in the identity matrix. \n",
    "\n",
    "<img src = \"https://raw.githubusercontent.com/yishuen/studygroups-092820ft/master/phase-3/resources/inverse.webp\">\n",
    "\n",
    "The order of multiplication does not matter for a matrix and its inverse:\n",
    "\n",
    "$A \\cdot A^{-1} = A^{-1} \\cdot A $\n",
    "\n",
    "An identity matrix is a square with a diagonal of 1's moving from left to right and the remaining numbers 0. When a matrix is multiplied by an identity matrix, it will result in the same matrix (think of it as the operational equivalent to 1 for linear algebra).\n",
    "\n",
    "<img src = \"https://raw.githubusercontent.com/yishuen/studygroups-092820ft/master/phase-3/resources/identity_matrix.svg\">\n",
    "\n"
   ]
  },
  {
   "cell_type": "code",
   "execution_count": 42,
   "metadata": {
    "ExecuteTime": {
     "end_time": "2021-10-28T23:08:19.476588Z",
     "start_time": "2021-10-28T23:08:19.471415Z"
    },
    "id": "2guBVWqmGQ-h"
   },
   "outputs": [
    {
     "name": "stdout",
     "output_type": "stream",
     "text": [
      "[[ 4  8 10]\n",
      " [ 3  9 12]\n",
      " [ 5 10 15]] \n",
      "\n",
      "[[1. 0. 0.]\n",
      " [0. 1. 0.]\n",
      " [0. 0. 1.]] \n",
      "\n",
      "[[ 4.  8. 10.]\n",
      " [ 3.  9. 12.]\n",
      " [ 5. 10. 15.]]\n"
     ]
    }
   ],
   "source": [
    "# showing the effect of multiplying by the identity matrix\n",
    "\n",
    "x = np.array([[4,8,10],[3,9,12],[5,10,15]])\n",
    "i_3 = np.identity(3)\n",
    "\n",
    "print(x, '\\n')\n",
    "print(i_3, '\\n')\n",
    "print(x.dot(i_3))"
   ]
  },
  {
   "cell_type": "code",
   "execution_count": 43,
   "metadata": {
    "ExecuteTime": {
     "end_time": "2021-10-28T23:09:35.531878Z",
     "start_time": "2021-10-28T23:09:35.527431Z"
    },
    "id": "kbJ8gFWWGQ-h"
   },
   "outputs": [
    {
     "name": "stdout",
     "output_type": "stream",
     "text": [
      "[[ 0.5        -0.66666667  0.2       ]\n",
      " [ 0.5         0.33333333 -0.6       ]\n",
      " [-0.5        -0.          0.4       ]] \n",
      "\n",
      "[[ 1. -0.  0.]\n",
      " [-0.  1.  0.]\n",
      " [ 0. -0.  1.]]\n"
     ]
    }
   ],
   "source": [
    "# inverse of x and multiplying by x\n",
    "\n",
    "inv_x = np.linalg.inv(x)\n",
    "print(inv_x, '\\n')\n",
    "\n",
    "print(np.round(x.dot(inv_x)))"
   ]
  },
  {
   "cell_type": "markdown",
   "metadata": {
    "id": "hEzWRa0UGQ-i"
   },
   "source": [
    "# Part 4: Systems of Linear Equations\n",
    "\n",
    "One of the most common applications of matrix operations is in solving systems of linear equations. \n",
    "***\n",
    "### Sidebar: What are Linear Equations?\n",
    "\n",
    "Linear equations only have **linear variables**. This means our unknowns are only multiplied by a scalar and raised to a power of only **one**, such as:\n",
    "\n",
    "$ x - 2y = 1$\n",
    "\n",
    "$3ex + 2\\pi y = 0$\n",
    "\n",
    "**Not linear:**\n",
    "\n",
    "$ x^2 - 2\\ln{y} = 4$\n",
    "\n",
    "$0.5x + 2y^x = 11$\n",
    "\n",
    "$e^x + 2x=2$\n",
    "\n",
    "***\n",
    "\n",
    "To solve the system of linear equations to find `x` and `y`:\n",
    "\n",
    "`x - 2y = 1`\n",
    "\n",
    "`3x + 2y = 11`\n",
    "\n",
    "First, we need to represent these equations as matrices/vectors.\n",
    "\n",
    "$\\begin{pmatrix}1 & -2 \\\\3 & 2 \\end{pmatrix} \\cdot \\begin{pmatrix}x \\\\ y \\end{pmatrix} = \\begin{pmatrix}1 \\\\11\\end{pmatrix}$ "
   ]
  },
  {
   "cell_type": "code",
   "execution_count": 44,
   "metadata": {
    "ExecuteTime": {
     "end_time": "2021-10-28T23:13:07.640386Z",
     "start_time": "2021-10-28T23:13:07.637325Z"
    },
    "id": "Nce5kx7TGQ-i"
   },
   "outputs": [],
   "source": [
    "a = np.array([[1,-2],[3,2]])\n",
    "b = np.array([[1],[11]])"
   ]
  },
  {
   "cell_type": "markdown",
   "metadata": {
    "id": "kFpp-7pAGQ-i"
   },
   "source": [
    "*Isolate X!*\n",
    "\n",
    "$\\Large A \\cdot X = B $\n",
    "\n",
    "> *We'd like to divide, but that's not a thing!*\n",
    "> \n",
    ">> *$\\Large X = \\frac{B}{A}$*\n",
    "\n",
    "---\n",
    "\n",
    "*Use the Inverse!*\n",
    "\n",
    "$\\Large A^{-1} A X = A^{-1} \\cdot B  $\n",
    "\n",
    "---\n",
    "\n",
    "*$A^-1A$ always equals the Identity Matrix!*\n",
    "\n",
    "$\\Large I \\cdot X   = A^{-1} \\cdot B $"
   ]
  },
  {
   "cell_type": "code",
   "execution_count": 45,
   "metadata": {
    "ExecuteTime": {
     "end_time": "2021-10-28T23:14:18.900837Z",
     "start_time": "2021-10-28T23:14:18.893123Z"
    },
    "id": "H_2wkypQGQ-i"
   },
   "outputs": [
    {
     "data": {
      "text/plain": [
       "array([[3.],\n",
       "       [1.]])"
      ]
     },
     "execution_count": 45,
     "metadata": {},
     "output_type": "execute_result"
    }
   ],
   "source": [
    "a = np.array([\n",
    "    [1,-2],\n",
    "    [3, 2]\n",
    "])\n",
    "b = np.array([\n",
    "    [1],\n",
    "    [11]\n",
    "])\n",
    "\n",
    "inv_a = np.linalg.inv(a)\n",
    "\n",
    "inv_a.dot(b)"
   ]
  },
  {
   "cell_type": "markdown",
   "metadata": {
    "id": "Daf56LVKGQ-i"
   },
   "source": [
    "# Part 5: Linear Regression with Linear Algebra (OLS!)\n",
    "\n",
    "A linear regression can be interpreted as the solution to a system of linear equations: each observation just corresponds to a linear equation, and the **coefficients** are the linear unknowns we're solving for! \n",
    "\n",
    "We're representing each **observation** as a **linear combination of features**.\n",
    "\n",
    "Our prediction equation for a linear regression typically looks something like:\n",
    "\n",
    "$\\Large y_{pred} = \\beta_{0} + \\beta_{1}x_1 + \\beta_{2}x_2 + ... + \\beta_{n}x_n $\n",
    "\n",
    "Represented in matrix form:\n",
    "\n",
    "$\\Large y = Xb $, so we are solving for $b$.\n",
    "\n",
    "In this example, we'll work through a linear regression problem with the Auto dataset. We want to predict the **mpg** using *cylinders, displacement, horsepower, weight, acceleration and year*."
   ]
  },
  {
   "cell_type": "code",
   "execution_count": 46,
   "metadata": {
    "ExecuteTime": {
     "end_time": "2021-10-28T23:16:40.329996Z",
     "start_time": "2021-10-28T23:16:38.996012Z"
    },
    "id": "XrEBRxECGQ-j"
   },
   "outputs": [],
   "source": [
    "import pandas as pd\n",
    "import seaborn as sns"
   ]
  },
  {
   "cell_type": "code",
   "execution_count": 47,
   "metadata": {
    "ExecuteTime": {
     "end_time": "2021-10-28T23:16:40.375080Z",
     "start_time": "2021-10-28T23:16:40.333220Z"
    },
    "id": "XrEBRxECGQ-j"
   },
   "outputs": [
    {
     "data": {
      "text/html": [
       "<div>\n",
       "<style scoped>\n",
       "    .dataframe tbody tr th:only-of-type {\n",
       "        vertical-align: middle;\n",
       "    }\n",
       "\n",
       "    .dataframe tbody tr th {\n",
       "        vertical-align: top;\n",
       "    }\n",
       "\n",
       "    .dataframe thead th {\n",
       "        text-align: right;\n",
       "    }\n",
       "</style>\n",
       "<table border=\"1\" class=\"dataframe\">\n",
       "  <thead>\n",
       "    <tr style=\"text-align: right;\">\n",
       "      <th></th>\n",
       "      <th>mpg</th>\n",
       "      <th>cylinders</th>\n",
       "      <th>displacement</th>\n",
       "      <th>horsepower</th>\n",
       "      <th>weight</th>\n",
       "      <th>acceleration</th>\n",
       "      <th>model_year</th>\n",
       "      <th>origin</th>\n",
       "      <th>name</th>\n",
       "    </tr>\n",
       "  </thead>\n",
       "  <tbody>\n",
       "    <tr>\n",
       "      <th>0</th>\n",
       "      <td>18.0</td>\n",
       "      <td>8</td>\n",
       "      <td>307.0</td>\n",
       "      <td>130.0</td>\n",
       "      <td>3504</td>\n",
       "      <td>12.0</td>\n",
       "      <td>70</td>\n",
       "      <td>usa</td>\n",
       "      <td>chevrolet chevelle malibu</td>\n",
       "    </tr>\n",
       "    <tr>\n",
       "      <th>1</th>\n",
       "      <td>15.0</td>\n",
       "      <td>8</td>\n",
       "      <td>350.0</td>\n",
       "      <td>165.0</td>\n",
       "      <td>3693</td>\n",
       "      <td>11.5</td>\n",
       "      <td>70</td>\n",
       "      <td>usa</td>\n",
       "      <td>buick skylark 320</td>\n",
       "    </tr>\n",
       "    <tr>\n",
       "      <th>2</th>\n",
       "      <td>18.0</td>\n",
       "      <td>8</td>\n",
       "      <td>318.0</td>\n",
       "      <td>150.0</td>\n",
       "      <td>3436</td>\n",
       "      <td>11.0</td>\n",
       "      <td>70</td>\n",
       "      <td>usa</td>\n",
       "      <td>plymouth satellite</td>\n",
       "    </tr>\n",
       "    <tr>\n",
       "      <th>3</th>\n",
       "      <td>16.0</td>\n",
       "      <td>8</td>\n",
       "      <td>304.0</td>\n",
       "      <td>150.0</td>\n",
       "      <td>3433</td>\n",
       "      <td>12.0</td>\n",
       "      <td>70</td>\n",
       "      <td>usa</td>\n",
       "      <td>amc rebel sst</td>\n",
       "    </tr>\n",
       "    <tr>\n",
       "      <th>4</th>\n",
       "      <td>17.0</td>\n",
       "      <td>8</td>\n",
       "      <td>302.0</td>\n",
       "      <td>140.0</td>\n",
       "      <td>3449</td>\n",
       "      <td>10.5</td>\n",
       "      <td>70</td>\n",
       "      <td>usa</td>\n",
       "      <td>ford torino</td>\n",
       "    </tr>\n",
       "  </tbody>\n",
       "</table>\n",
       "</div>"
      ],
      "text/plain": [
       "    mpg  cylinders  displacement  horsepower  weight  acceleration  \\\n",
       "0  18.0          8         307.0       130.0    3504          12.0   \n",
       "1  15.0          8         350.0       165.0    3693          11.5   \n",
       "2  18.0          8         318.0       150.0    3436          11.0   \n",
       "3  16.0          8         304.0       150.0    3433          12.0   \n",
       "4  17.0          8         302.0       140.0    3449          10.5   \n",
       "\n",
       "   model_year origin                       name  \n",
       "0          70    usa  chevrolet chevelle malibu  \n",
       "1          70    usa          buick skylark 320  \n",
       "2          70    usa         plymouth satellite  \n",
       "3          70    usa              amc rebel sst  \n",
       "4          70    usa                ford torino  "
      ]
     },
     "execution_count": 47,
     "metadata": {},
     "output_type": "execute_result"
    }
   ],
   "source": [
    "car_df = sns.load_dataset('mpg').dropna()\n",
    "car_df.head()"
   ]
  },
  {
   "cell_type": "code",
   "execution_count": 48,
   "metadata": {
    "ExecuteTime": {
     "end_time": "2021-10-28T23:16:53.984771Z",
     "start_time": "2021-10-28T23:16:53.969605Z"
    },
    "id": "c19WLpZyGQ-j"
   },
   "outputs": [
    {
     "data": {
      "text/html": [
       "<div>\n",
       "<style scoped>\n",
       "    .dataframe tbody tr th:only-of-type {\n",
       "        vertical-align: middle;\n",
       "    }\n",
       "\n",
       "    .dataframe tbody tr th {\n",
       "        vertical-align: top;\n",
       "    }\n",
       "\n",
       "    .dataframe thead th {\n",
       "        text-align: right;\n",
       "    }\n",
       "</style>\n",
       "<table border=\"1\" class=\"dataframe\">\n",
       "  <thead>\n",
       "    <tr style=\"text-align: right;\">\n",
       "      <th></th>\n",
       "      <th>cylinders</th>\n",
       "      <th>displacement</th>\n",
       "      <th>horsepower</th>\n",
       "      <th>weight</th>\n",
       "      <th>acceleration</th>\n",
       "      <th>model_year</th>\n",
       "    </tr>\n",
       "  </thead>\n",
       "  <tbody>\n",
       "    <tr>\n",
       "      <th>0</th>\n",
       "      <td>8</td>\n",
       "      <td>307.0</td>\n",
       "      <td>130.0</td>\n",
       "      <td>3504</td>\n",
       "      <td>12.0</td>\n",
       "      <td>70</td>\n",
       "    </tr>\n",
       "    <tr>\n",
       "      <th>1</th>\n",
       "      <td>8</td>\n",
       "      <td>350.0</td>\n",
       "      <td>165.0</td>\n",
       "      <td>3693</td>\n",
       "      <td>11.5</td>\n",
       "      <td>70</td>\n",
       "    </tr>\n",
       "    <tr>\n",
       "      <th>2</th>\n",
       "      <td>8</td>\n",
       "      <td>318.0</td>\n",
       "      <td>150.0</td>\n",
       "      <td>3436</td>\n",
       "      <td>11.0</td>\n",
       "      <td>70</td>\n",
       "    </tr>\n",
       "    <tr>\n",
       "      <th>3</th>\n",
       "      <td>8</td>\n",
       "      <td>304.0</td>\n",
       "      <td>150.0</td>\n",
       "      <td>3433</td>\n",
       "      <td>12.0</td>\n",
       "      <td>70</td>\n",
       "    </tr>\n",
       "    <tr>\n",
       "      <th>4</th>\n",
       "      <td>8</td>\n",
       "      <td>302.0</td>\n",
       "      <td>140.0</td>\n",
       "      <td>3449</td>\n",
       "      <td>10.5</td>\n",
       "      <td>70</td>\n",
       "    </tr>\n",
       "  </tbody>\n",
       "</table>\n",
       "</div>"
      ],
      "text/plain": [
       "   cylinders  displacement  horsepower  weight  acceleration  model_year\n",
       "0          8         307.0       130.0    3504          12.0          70\n",
       "1          8         350.0       165.0    3693          11.5          70\n",
       "2          8         318.0       150.0    3436          11.0          70\n",
       "3          8         304.0       150.0    3433          12.0          70\n",
       "4          8         302.0       140.0    3449          10.5          70"
      ]
     },
     "execution_count": 48,
     "metadata": {},
     "output_type": "execute_result"
    }
   ],
   "source": [
    "X_cols = [\n",
    "    'cylinders',\n",
    "    'displacement',\n",
    "    'horsepower',\n",
    "    'weight',\n",
    "    'acceleration',\n",
    "    'model_year'\n",
    "]\n",
    "X_df = car_df.loc[:, X_cols]\n",
    "y = car_df['mpg']\n",
    "X_df.head()"
   ]
  },
  {
   "cell_type": "code",
   "execution_count": 49,
   "metadata": {
    "ExecuteTime": {
     "end_time": "2021-10-28T23:17:04.441086Z",
     "start_time": "2021-10-28T23:17:04.437827Z"
    },
    "id": "tQVLEo80GQ-j"
   },
   "outputs": [],
   "source": [
    "# to get the intercept term\n",
    "X_df['constant'] = 1"
   ]
  },
  {
   "cell_type": "code",
   "execution_count": 50,
   "metadata": {
    "ExecuteTime": {
     "end_time": "2021-10-28T23:17:06.676188Z",
     "start_time": "2021-10-28T23:17:06.664997Z"
    },
    "id": "5ruDW3HRGQ-j"
   },
   "outputs": [
    {
     "data": {
      "text/html": [
       "<div>\n",
       "<style scoped>\n",
       "    .dataframe tbody tr th:only-of-type {\n",
       "        vertical-align: middle;\n",
       "    }\n",
       "\n",
       "    .dataframe tbody tr th {\n",
       "        vertical-align: top;\n",
       "    }\n",
       "\n",
       "    .dataframe thead th {\n",
       "        text-align: right;\n",
       "    }\n",
       "</style>\n",
       "<table border=\"1\" class=\"dataframe\">\n",
       "  <thead>\n",
       "    <tr style=\"text-align: right;\">\n",
       "      <th></th>\n",
       "      <th>cylinders</th>\n",
       "      <th>displacement</th>\n",
       "      <th>horsepower</th>\n",
       "      <th>weight</th>\n",
       "      <th>acceleration</th>\n",
       "      <th>model_year</th>\n",
       "      <th>constant</th>\n",
       "    </tr>\n",
       "  </thead>\n",
       "  <tbody>\n",
       "    <tr>\n",
       "      <th>0</th>\n",
       "      <td>8</td>\n",
       "      <td>307.0</td>\n",
       "      <td>130.0</td>\n",
       "      <td>3504</td>\n",
       "      <td>12.0</td>\n",
       "      <td>70</td>\n",
       "      <td>1</td>\n",
       "    </tr>\n",
       "    <tr>\n",
       "      <th>1</th>\n",
       "      <td>8</td>\n",
       "      <td>350.0</td>\n",
       "      <td>165.0</td>\n",
       "      <td>3693</td>\n",
       "      <td>11.5</td>\n",
       "      <td>70</td>\n",
       "      <td>1</td>\n",
       "    </tr>\n",
       "    <tr>\n",
       "      <th>2</th>\n",
       "      <td>8</td>\n",
       "      <td>318.0</td>\n",
       "      <td>150.0</td>\n",
       "      <td>3436</td>\n",
       "      <td>11.0</td>\n",
       "      <td>70</td>\n",
       "      <td>1</td>\n",
       "    </tr>\n",
       "    <tr>\n",
       "      <th>3</th>\n",
       "      <td>8</td>\n",
       "      <td>304.0</td>\n",
       "      <td>150.0</td>\n",
       "      <td>3433</td>\n",
       "      <td>12.0</td>\n",
       "      <td>70</td>\n",
       "      <td>1</td>\n",
       "    </tr>\n",
       "    <tr>\n",
       "      <th>4</th>\n",
       "      <td>8</td>\n",
       "      <td>302.0</td>\n",
       "      <td>140.0</td>\n",
       "      <td>3449</td>\n",
       "      <td>10.5</td>\n",
       "      <td>70</td>\n",
       "      <td>1</td>\n",
       "    </tr>\n",
       "  </tbody>\n",
       "</table>\n",
       "</div>"
      ],
      "text/plain": [
       "   cylinders  displacement  horsepower  weight  acceleration  model_year  \\\n",
       "0          8         307.0       130.0    3504          12.0          70   \n",
       "1          8         350.0       165.0    3693          11.5          70   \n",
       "2          8         318.0       150.0    3436          11.0          70   \n",
       "3          8         304.0       150.0    3433          12.0          70   \n",
       "4          8         302.0       140.0    3449          10.5          70   \n",
       "\n",
       "   constant  \n",
       "0         1  \n",
       "1         1  \n",
       "2         1  \n",
       "3         1  \n",
       "4         1  "
      ]
     },
     "execution_count": 50,
     "metadata": {},
     "output_type": "execute_result"
    }
   ],
   "source": [
    "X_df.head()"
   ]
  },
  {
   "cell_type": "markdown",
   "metadata": {
    "id": "sbh_EuNKGQ-j"
   },
   "source": [
    "$ y = Xb + 0 $  --> $ y = Xb $\n",
    "\n",
    "We want to solve for $b$! As we did before, to solve for $b$ we need to multiply both sides by the inverse of $X$.\n",
    "\n",
    "Let's try to $ X^{-1} $\n"
   ]
  },
  {
   "cell_type": "code",
   "execution_count": 51,
   "metadata": {
    "ExecuteTime": {
     "end_time": "2021-10-28T23:17:48.021687Z",
     "start_time": "2021-10-28T23:17:47.879059Z"
    },
    "id": "wS8YTeNoGQ-j",
    "scrolled": false
   },
   "outputs": [
    {
     "ename": "LinAlgError",
     "evalue": "Last 2 dimensions of the array must be square",
     "output_type": "error",
     "traceback": [
      "\u001b[0;31m---------------------------------------------------------------------------\u001b[0m",
      "\u001b[0;31mLinAlgError\u001b[0m                               Traceback (most recent call last)",
      "\u001b[0;32m<ipython-input-51-8c0c695e2323>\u001b[0m in \u001b[0;36m<module>\u001b[0;34m\u001b[0m\n\u001b[0;32m----> 1\u001b[0;31m \u001b[0mnp\u001b[0m\u001b[0;34m.\u001b[0m\u001b[0mlinalg\u001b[0m\u001b[0;34m.\u001b[0m\u001b[0minv\u001b[0m\u001b[0;34m(\u001b[0m\u001b[0mX_df\u001b[0m\u001b[0;34m.\u001b[0m\u001b[0mvalues\u001b[0m\u001b[0;34m)\u001b[0m\u001b[0;34m\u001b[0m\u001b[0;34m\u001b[0m\u001b[0m\n\u001b[0m",
      "\u001b[0;32m<__array_function__ internals>\u001b[0m in \u001b[0;36minv\u001b[0;34m(*args, **kwargs)\u001b[0m\n",
      "\u001b[0;32m/opt/anaconda3/envs/learn-env/lib/python3.6/site-packages/numpy/linalg/linalg.py\u001b[0m in \u001b[0;36minv\u001b[0;34m(a)\u001b[0m\n\u001b[1;32m    539\u001b[0m     \u001b[0ma\u001b[0m\u001b[0;34m,\u001b[0m \u001b[0mwrap\u001b[0m \u001b[0;34m=\u001b[0m \u001b[0m_makearray\u001b[0m\u001b[0;34m(\u001b[0m\u001b[0ma\u001b[0m\u001b[0;34m)\u001b[0m\u001b[0;34m\u001b[0m\u001b[0;34m\u001b[0m\u001b[0m\n\u001b[1;32m    540\u001b[0m     \u001b[0m_assert_stacked_2d\u001b[0m\u001b[0;34m(\u001b[0m\u001b[0ma\u001b[0m\u001b[0;34m)\u001b[0m\u001b[0;34m\u001b[0m\u001b[0;34m\u001b[0m\u001b[0m\n\u001b[0;32m--> 541\u001b[0;31m     \u001b[0m_assert_stacked_square\u001b[0m\u001b[0;34m(\u001b[0m\u001b[0ma\u001b[0m\u001b[0;34m)\u001b[0m\u001b[0;34m\u001b[0m\u001b[0;34m\u001b[0m\u001b[0m\n\u001b[0m\u001b[1;32m    542\u001b[0m     \u001b[0mt\u001b[0m\u001b[0;34m,\u001b[0m \u001b[0mresult_t\u001b[0m \u001b[0;34m=\u001b[0m \u001b[0m_commonType\u001b[0m\u001b[0;34m(\u001b[0m\u001b[0ma\u001b[0m\u001b[0;34m)\u001b[0m\u001b[0;34m\u001b[0m\u001b[0;34m\u001b[0m\u001b[0m\n\u001b[1;32m    543\u001b[0m \u001b[0;34m\u001b[0m\u001b[0m\n",
      "\u001b[0;32m/opt/anaconda3/envs/learn-env/lib/python3.6/site-packages/numpy/linalg/linalg.py\u001b[0m in \u001b[0;36m_assert_stacked_square\u001b[0;34m(*arrays)\u001b[0m\n\u001b[1;32m    202\u001b[0m         \u001b[0mm\u001b[0m\u001b[0;34m,\u001b[0m \u001b[0mn\u001b[0m \u001b[0;34m=\u001b[0m \u001b[0ma\u001b[0m\u001b[0;34m.\u001b[0m\u001b[0mshape\u001b[0m\u001b[0;34m[\u001b[0m\u001b[0;34m-\u001b[0m\u001b[0;36m2\u001b[0m\u001b[0;34m:\u001b[0m\u001b[0;34m]\u001b[0m\u001b[0;34m\u001b[0m\u001b[0;34m\u001b[0m\u001b[0m\n\u001b[1;32m    203\u001b[0m         \u001b[0;32mif\u001b[0m \u001b[0mm\u001b[0m \u001b[0;34m!=\u001b[0m \u001b[0mn\u001b[0m\u001b[0;34m:\u001b[0m\u001b[0;34m\u001b[0m\u001b[0;34m\u001b[0m\u001b[0m\n\u001b[0;32m--> 204\u001b[0;31m             \u001b[0;32mraise\u001b[0m \u001b[0mLinAlgError\u001b[0m\u001b[0;34m(\u001b[0m\u001b[0;34m'Last 2 dimensions of the array must be square'\u001b[0m\u001b[0;34m)\u001b[0m\u001b[0;34m\u001b[0m\u001b[0;34m\u001b[0m\u001b[0m\n\u001b[0m\u001b[1;32m    205\u001b[0m \u001b[0;34m\u001b[0m\u001b[0m\n\u001b[1;32m    206\u001b[0m \u001b[0;32mdef\u001b[0m \u001b[0m_assert_finite\u001b[0m\u001b[0;34m(\u001b[0m\u001b[0;34m*\u001b[0m\u001b[0marrays\u001b[0m\u001b[0;34m)\u001b[0m\u001b[0;34m:\u001b[0m\u001b[0;34m\u001b[0m\u001b[0;34m\u001b[0m\u001b[0m\n",
      "\u001b[0;31mLinAlgError\u001b[0m: Last 2 dimensions of the array must be square"
     ]
    }
   ],
   "source": [
    "np.linalg.inv(X_df.values)"
   ]
  },
  {
   "cell_type": "markdown",
   "metadata": {
    "id": "lyzsuIz-GQ-j"
   },
   "source": [
    "We get: \n",
    "\n",
    "    LinAlgError: Last 2 dimensions of the array must be square.\n",
    "\n",
    "We can only calculate an inverse of a **square** matrix. Why?\n",
    "\n",
    "***\n",
    "\n",
    "### Sidebar (again): Some Linear Algebra Theory \n",
    "\n",
    "In Linear Algebra theory, we have something called an **invertible matrix** with a definition as follows:\n",
    "\n",
    "    An n-by-n square matrix A is called invertible if there exists an N by N square matrix B such that\n",
    "\n",
    "<div style=\"text-align:center\"><span style=\"color:blue; font-family:Georgia; font-size:1.5em;\">AB = BA = I</span></div>\n",
    "\n",
    "    where I is the identity matrix. A and B are inverses of each other.\n",
    "    \n",
    "***\n",
    "    \n",
    "\n",
    "By this definition, we can only find the inverse of square matrices. So with $b$ not being square, how can we solve this system using the data that we have? (No spoilers.)\n",
    "\n",
    "\n",
    "$$b = (X^{T}X)^{-1}X^{T}y$$ "
   ]
  },
  {
   "cell_type": "markdown",
   "metadata": {},
   "source": [
    "---\n",
    "\n",
    "1. Starting with $\\large y = Xb$, however $\\large X$ isn't a square, so we can't take the inverse of it.\n",
    "    - **We can *make it square* by multiplying it by its own transpose.**\n",
    "\n",
    "\n",
    "2. Left-multiply the transpose:\n",
    "> $\\large y = Xb$\n",
    ">\n",
    "> $\\large X^Ty = X^TXb$\n",
    "    - *Any time you multiply a matrix by its transpose, you are left with a square.*\n",
    "\n",
    "\n",
    "3. We can isolate $\\large b$ by multiplying $\\large (X^TX)$ by the inverse of $\\large (X^TX)$.\n",
    "> $\\large (X^TX)^{-1}X^Ty = (X^TX)^{-1}(X^TX)b$\n",
    "\n",
    "\n",
    "4. We cancel out the *inverse of the square matrix* and the *square matrix itself* and are left with the above:\n",
    "> $(X^{T}X)^{-1}X^Ty = b$\n",
    ">\n",
    "> $\\LARGE b = (X^{T}X)^{-1}X^Ty$"
   ]
  },
  {
   "cell_type": "markdown",
   "metadata": {
    "id": "lyzsuIz-GQ-j"
   },
   "source": [
    "Let's apply this to our data."
   ]
  },
  {
   "cell_type": "code",
   "execution_count": 52,
   "metadata": {
    "ExecuteTime": {
     "end_time": "2021-10-28T23:21:55.768760Z",
     "start_time": "2021-10-28T23:21:55.761668Z"
    },
    "id": "ks92FiAsGQ-k"
   },
   "outputs": [
    {
     "name": "stdout",
     "output_type": "stream",
     "text": [
      "[-3.29859089e-01  7.67843024e-03 -3.91355574e-04 -6.79461791e-03\n",
      "  8.52732469e-02  7.53367180e-01 -1.45352505e+01]\n"
     ]
    }
   ],
   "source": [
    "X = X_df.values\n",
    "Xt = X.T\n",
    "XtX = np.matmul(Xt, X)\n",
    "\n",
    "product = np.matmul(np.linalg.inv(XtX), Xt)\n",
    "\n",
    "b = np.matmul(product, y.values)\n",
    "print(b)"
   ]
  },
  {
   "cell_type": "markdown",
   "metadata": {
    "id": "YMmXySLQGQ-k"
   },
   "source": [
    "Now we have our coefficients! They correspond to each of the columns in `X_df` in order. Let's compare this to our `sklearn` model."
   ]
  },
  {
   "cell_type": "code",
   "execution_count": 53,
   "metadata": {
    "ExecuteTime": {
     "end_time": "2021-10-28T23:22:34.194790Z",
     "start_time": "2021-10-28T23:22:34.190262Z"
    },
    "id": "SABxvWnpGQ-k"
   },
   "outputs": [
    {
     "data": {
      "text/plain": [
       "[('cylinders', -0.32985908907374784),\n",
       " ('displacement', 0.007678430243923874),\n",
       " ('horsepower', -0.00039135557375254496),\n",
       " ('weight', -0.0067946179133755325),\n",
       " ('acceleration', 0.08527324694732916),\n",
       " ('model_year', 0.7533671797501557),\n",
       " ('constant', -14.53525048051179)]"
      ]
     },
     "execution_count": 53,
     "metadata": {},
     "output_type": "execute_result"
    }
   ],
   "source": [
    "list(zip(X_df.columns, b))"
   ]
  },
  {
   "cell_type": "code",
   "execution_count": 54,
   "metadata": {
    "ExecuteTime": {
     "end_time": "2021-10-28T23:22:42.597258Z",
     "start_time": "2021-10-28T23:22:41.970844Z"
    },
    "id": "vkCZHHxVGQ-k"
   },
   "outputs": [
    {
     "data": {
      "text/plain": [
       "LinearRegression()"
      ]
     },
     "execution_count": 54,
     "metadata": {},
     "output_type": "execute_result"
    }
   ],
   "source": [
    "# comparing sklearn\n",
    "from sklearn.linear_model import LinearRegression\n",
    "lr = LinearRegression()\n",
    "\n",
    "skl_X = X_df.drop(columns = 'constant')\n",
    "lr.fit(skl_X, y)"
   ]
  },
  {
   "cell_type": "code",
   "execution_count": 55,
   "metadata": {
    "ExecuteTime": {
     "end_time": "2021-10-28T23:22:44.602357Z",
     "start_time": "2021-10-28T23:22:44.597779Z"
    },
    "id": "-3rUPg8pGQ-k",
    "scrolled": true
   },
   "outputs": [
    {
     "name": "stdout",
     "output_type": "stream",
     "text": [
      "constant:  -14.535250480506175\n",
      "coefficients:  [-3.29859089e-01  7.67843024e-03 -3.91355574e-04 -6.79461791e-03\n",
      "  8.52732469e-02  7.53367180e-01]\n"
     ]
    }
   ],
   "source": [
    "print('constant: ', lr.intercept_)\n",
    "print('coefficients: ', lr.coef_)"
   ]
  },
  {
   "cell_type": "markdown",
   "metadata": {
    "id": "jzw-qaAUGQ-k"
   },
   "source": [
    "### Additional Resources\n",
    "* 3 Blue 1 Brown:  https://www.youtube.com/playlist?list=PLZHQObOWTQDPD3MizzM2xVFitgF8hE_a\n",
    "* Matrix approach to Linear Regression: http://www.stat.columbia.edu/~fwood/Teaching/w4315/Fall2009/lecture_11\n",
    "* [link to fun desmos interaction](https://www.desmos.com/calculator/yovo2ro9me)\n",
    "* [Link to good video on scalars and vectors](https://www.youtube.com/watch?v=fNk_zzaMoSs&list=PLZHQObOWTQDPD3MizzM2xVFitgF8hE_ab)\n",
    "* [What is X^T * X?](https://stats.stackexchange.com/questions/267948/intuitive-explanation-of-the-xtx-1-term-in-the-variance-of-least-square/267963)"
   ]
  },
  {
   "cell_type": "code",
   "execution_count": null,
   "metadata": {
    "id": "q8dpkP1NGQ-k"
   },
   "outputs": [],
   "source": []
  }
 ],
 "metadata": {
  "colab": {
   "name": "22-linear-algebra.ipynb",
   "provenance": []
  },
  "kernelspec": {
   "display_name": "Python 3",
   "language": "python",
   "name": "python3"
  },
  "language_info": {
   "codemirror_mode": {
    "name": "ipython",
    "version": 3
   },
   "file_extension": ".py",
   "mimetype": "text/x-python",
   "name": "python",
   "nbconvert_exporter": "python",
   "pygments_lexer": "ipython3",
   "version": "3.6.9"
  },
  "toc": {
   "base_numbering": 1,
   "nav_menu": {},
   "number_sections": false,
   "sideBar": true,
   "skip_h1_title": false,
   "title_cell": "Table of Contents",
   "title_sidebar": "Contents",
   "toc_cell": false,
   "toc_position": {},
   "toc_section_display": true,
   "toc_window_display": true
  }
 },
 "nbformat": 4,
 "nbformat_minor": 1
}
