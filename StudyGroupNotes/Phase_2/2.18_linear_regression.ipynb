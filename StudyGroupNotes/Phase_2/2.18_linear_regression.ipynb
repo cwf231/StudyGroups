{
 "cells": [
  {
   "cell_type": "markdown",
   "id": "7ace1aaf",
   "metadata": {},
   "source": [
    "## Phase 2.18\n",
    "\n",
    "# Linear Regression\n",
    "## Objectives\n",
    "- Understand the differences between variance, covariance and correlation.\n",
    "- Be able to explain each piece of the linear regression formula including terminology typically associated with regression.\n",
    "- Understand the assumptions of regression.\n",
    "- Use diabetes dataset to fit a simple linear regression model using `statsmodels` package."
   ]
  },
  {
   "cell_type": "markdown",
   "id": "3e1546d7",
   "metadata": {},
   "source": [
    "## What is linear regression? \n",
    "> Regression Analysis is a **parametric** technique, meaning **a set of parameters are used to predict the value of an unknown target** variable (or dependent variable) based on one or more of known input features (or independent variables, predictors)."
   ]
  },
  {
   "cell_type": "markdown",
   "id": "027f3fec",
   "metadata": {
    "id": "p4fT2k7IIpMf"
   },
   "source": [
    "## Covariance and Correlation\n",
    "\n",
    "The idea of _correlation_ is the simple idea that variables often change _together_. For a simple example, cities with more buses tend to have higher populations.\n",
    "\n",
    "We might observe that, as one variable X increases, so does another Y, OR that as X increases, Y decreases.\n",
    "\n",
    "The _covariance_ describes how two variables co-vary. Note the similarity in the definition to the definition of ordinary variance:\n"
   ]
  },
  {
   "cell_type": "markdown",
   "id": "fc2e1eb0",
   "metadata": {
    "id": "Rs0lIEfOIpMg"
   },
   "source": [
    "---\n",
    "\n",
    "**Variance**: Measure of dispersion from the mean for continuous random variables. How far a set of numbers are spread out from their overall average value.\n",
    "\n",
    "\n",
    "$n$ = # of data points\n",
    "\n",
    "$x_i$ = individuals data points\n",
    "\n",
    "$mu$ = mean \n",
    "\n",
    "$$\\large \\sigma^2 = \\sum_{i}^{n}\\frac{(x_i -\\mu )^2}{n}$$"
   ]
  },
  {
   "cell_type": "markdown",
   "id": "66639273",
   "metadata": {
    "id": "ZctNOwhxIpMg"
   },
   "source": [
    "**Covariance**: Measure of how variables differ/relate to one another\n",
    "$$\\large \\sigma_{xy} = \\frac{\\sum_{i,j}^{n} (x_i -\\mu_x )(y_j - \\mu_y)}{n}$$\n",
    "\n",
    "---\n",
    "\n",
    "* Positive covariance  --> correlates (together)\n",
    "* Negative covariance --> correlates inversely\n",
    "\n",
    "But ranges (-∞,∞) so what is a \"stronger\" relationship?\n",
    "\n",
    "So, we need: "
   ]
  },
  {
   "cell_type": "markdown",
   "id": "546a50e7",
   "metadata": {
    "id": "W0VnXLN2IpMh"
   },
   "source": [
    "## Correlation\n",
    "Pearson's Correlation: Normalizes covariance so relationships are now represented on a [-1, 1] scale\n",
    "\n",
    "$$\\large r = \\frac{\\sum_{i,j}^{n}(x_i -\\mu_x)(y_j - \\mu_y)} {\\sqrt{\\sum_{i,j}^{n}(x_i - \\mu_x)^2 (y_j-\\mu_y)^2}}$$"
   ]
  },
  {
   "cell_type": "markdown",
   "id": "93f26ddb",
   "metadata": {
    "id": "qcmBTvtpIpMh"
   },
   "source": [
    "<img src='https://raw.githubusercontent.com/learn-co-students/dsc-0-10-03-cov-corr-online-ds-sp-000/master/images/correlation.png' width=70%/>"
   ]
  },
  {
   "cell_type": "code",
   "execution_count": 1,
   "id": "daafa399",
   "metadata": {
    "ExecuteTime": {
     "end_time": "2021-08-05T20:05:26.306653Z",
     "start_time": "2021-08-05T20:05:25.410041Z"
    },
    "id": "tc_OhxPHIpMi",
    "outputId": "2ffec1bf-b135-4515-8318-91b0696a5329"
   },
   "outputs": [],
   "source": [
    "# Load libraries \n",
    "import numpy as np\n",
    "import pandas as pd\n",
    "import matplotlib.pyplot as plt\n",
    "\n",
    "%matplotlib inline \n",
    "plt.style.use('seaborn-talk')\n",
    "\n",
    "import seaborn as sns"
   ]
  },
  {
   "cell_type": "code",
   "execution_count": 2,
   "id": "c1ee4f34",
   "metadata": {
    "ExecuteTime": {
     "end_time": "2021-08-05T20:05:26.329618Z",
     "start_time": "2021-08-05T20:05:26.308809Z"
    },
    "id": "tc_OhxPHIpMi",
    "outputId": "2ffec1bf-b135-4515-8318-91b0696a5329"
   },
   "outputs": [
    {
     "data": {
      "text/html": [
       "<div>\n",
       "<style scoped>\n",
       "    .dataframe tbody tr th:only-of-type {\n",
       "        vertical-align: middle;\n",
       "    }\n",
       "\n",
       "    .dataframe tbody tr th {\n",
       "        vertical-align: top;\n",
       "    }\n",
       "\n",
       "    .dataframe thead th {\n",
       "        text-align: right;\n",
       "    }\n",
       "</style>\n",
       "<table border=\"1\" class=\"dataframe\">\n",
       "  <thead>\n",
       "    <tr style=\"text-align: right;\">\n",
       "      <th></th>\n",
       "      <th>Pregnancies</th>\n",
       "      <th>Glucose</th>\n",
       "      <th>BloodPressure</th>\n",
       "      <th>SkinThickness</th>\n",
       "      <th>Insulin</th>\n",
       "      <th>BMI</th>\n",
       "      <th>DiabetesPedigreeFunction</th>\n",
       "      <th>Age</th>\n",
       "      <th>Outcome</th>\n",
       "    </tr>\n",
       "  </thead>\n",
       "  <tbody>\n",
       "    <tr>\n",
       "      <th>0</th>\n",
       "      <td>6</td>\n",
       "      <td>148</td>\n",
       "      <td>72</td>\n",
       "      <td>35</td>\n",
       "      <td>0</td>\n",
       "      <td>33.6</td>\n",
       "      <td>0.627</td>\n",
       "      <td>50</td>\n",
       "      <td>1</td>\n",
       "    </tr>\n",
       "    <tr>\n",
       "      <th>1</th>\n",
       "      <td>1</td>\n",
       "      <td>85</td>\n",
       "      <td>66</td>\n",
       "      <td>29</td>\n",
       "      <td>0</td>\n",
       "      <td>26.6</td>\n",
       "      <td>0.351</td>\n",
       "      <td>31</td>\n",
       "      <td>0</td>\n",
       "    </tr>\n",
       "    <tr>\n",
       "      <th>2</th>\n",
       "      <td>8</td>\n",
       "      <td>183</td>\n",
       "      <td>64</td>\n",
       "      <td>0</td>\n",
       "      <td>0</td>\n",
       "      <td>23.3</td>\n",
       "      <td>0.672</td>\n",
       "      <td>32</td>\n",
       "      <td>1</td>\n",
       "    </tr>\n",
       "    <tr>\n",
       "      <th>3</th>\n",
       "      <td>1</td>\n",
       "      <td>89</td>\n",
       "      <td>66</td>\n",
       "      <td>23</td>\n",
       "      <td>94</td>\n",
       "      <td>28.1</td>\n",
       "      <td>0.167</td>\n",
       "      <td>21</td>\n",
       "      <td>0</td>\n",
       "    </tr>\n",
       "    <tr>\n",
       "      <th>4</th>\n",
       "      <td>0</td>\n",
       "      <td>137</td>\n",
       "      <td>40</td>\n",
       "      <td>35</td>\n",
       "      <td>168</td>\n",
       "      <td>43.1</td>\n",
       "      <td>2.288</td>\n",
       "      <td>33</td>\n",
       "      <td>1</td>\n",
       "    </tr>\n",
       "  </tbody>\n",
       "</table>\n",
       "</div>"
      ],
      "text/plain": [
       "   Pregnancies  Glucose  BloodPressure  SkinThickness  Insulin   BMI  \\\n",
       "0            6      148             72             35        0  33.6   \n",
       "1            1       85             66             29        0  26.6   \n",
       "2            8      183             64              0        0  23.3   \n",
       "3            1       89             66             23       94  28.1   \n",
       "4            0      137             40             35      168  43.1   \n",
       "\n",
       "   DiabetesPedigreeFunction  Age  Outcome  \n",
       "0                     0.627   50        1  \n",
       "1                     0.351   31        0  \n",
       "2                     0.672   32        1  \n",
       "3                     0.167   21        0  \n",
       "4                     2.288   33        1  "
      ]
     },
     "execution_count": 2,
     "metadata": {},
     "output_type": "execute_result"
    }
   ],
   "source": [
    "# Load the dataset\n",
    "df = pd.read_csv('data/diabetes.csv', index_col=0)\n",
    "\n",
    "df.head()"
   ]
  },
  {
   "cell_type": "markdown",
   "id": "61156969",
   "metadata": {
    "id": "cxfaAgSgIpMk"
   },
   "source": [
    "> *Note:* *Examples in this lecture use the Pima Indians Diabetes data which was taken from a larger collection of data, originally collected by the National Institute of Diabetes and Digestive Kidney Diseases. It provides diagnostic data on 768 females of Pima Indian heritage aged 21 years or older. The analyses presented in this post are intended to illustrate an approach to linear regression modeling and should not be used to draw substantive conclusions on biomedical pathologies.*"
   ]
  },
  {
   "cell_type": "code",
   "execution_count": 3,
   "id": "f4e7d674",
   "metadata": {
    "ExecuteTime": {
     "end_time": "2021-08-05T20:05:26.341329Z",
     "start_time": "2021-08-05T20:05:26.331544Z"
    },
    "id": "O-ue_ICjIpMk",
    "outputId": "b0c05c26-f688-4322-c534-d2fecfc51e51"
   },
   "outputs": [
    {
     "name": "stdout",
     "output_type": "stream",
     "text": [
      "<class 'pandas.core.frame.DataFrame'>\n",
      "Int64Index: 768 entries, 0 to 767\n",
      "Data columns (total 2 columns):\n",
      " #   Column   Non-Null Count  Dtype\n",
      "---  ------   --------------  -----\n",
      " 0   Age      768 non-null    int64\n",
      " 1   Glucose  768 non-null    int64\n",
      "dtypes: int64(2)\n",
      "memory usage: 18.0 KB\n"
     ]
    }
   ],
   "source": [
    "# Filter dataframe to Age (x) and Glucose (y).\n",
    "df = df.loc[:, [\"Age\", \"Glucose\"]]\n",
    "df.info()"
   ]
  },
  {
   "cell_type": "code",
   "execution_count": 4,
   "id": "62fd1b7e",
   "metadata": {
    "ExecuteTime": {
     "end_time": "2021-08-05T20:05:26.349546Z",
     "start_time": "2021-08-05T20:05:26.343219Z"
    }
   },
   "outputs": [
    {
     "data": {
      "text/html": [
       "<div>\n",
       "<style scoped>\n",
       "    .dataframe tbody tr th:only-of-type {\n",
       "        vertical-align: middle;\n",
       "    }\n",
       "\n",
       "    .dataframe tbody tr th {\n",
       "        vertical-align: top;\n",
       "    }\n",
       "\n",
       "    .dataframe thead th {\n",
       "        text-align: right;\n",
       "    }\n",
       "</style>\n",
       "<table border=\"1\" class=\"dataframe\">\n",
       "  <thead>\n",
       "    <tr style=\"text-align: right;\">\n",
       "      <th></th>\n",
       "      <th>Age</th>\n",
       "      <th>Glucose</th>\n",
       "    </tr>\n",
       "  </thead>\n",
       "  <tbody>\n",
       "    <tr>\n",
       "      <th>0</th>\n",
       "      <td>50</td>\n",
       "      <td>148</td>\n",
       "    </tr>\n",
       "    <tr>\n",
       "      <th>1</th>\n",
       "      <td>31</td>\n",
       "      <td>85</td>\n",
       "    </tr>\n",
       "    <tr>\n",
       "      <th>2</th>\n",
       "      <td>32</td>\n",
       "      <td>183</td>\n",
       "    </tr>\n",
       "    <tr>\n",
       "      <th>3</th>\n",
       "      <td>21</td>\n",
       "      <td>89</td>\n",
       "    </tr>\n",
       "    <tr>\n",
       "      <th>4</th>\n",
       "      <td>33</td>\n",
       "      <td>137</td>\n",
       "    </tr>\n",
       "  </tbody>\n",
       "</table>\n",
       "</div>"
      ],
      "text/plain": [
       "   Age  Glucose\n",
       "0   50      148\n",
       "1   31       85\n",
       "2   32      183\n",
       "3   21       89\n",
       "4   33      137"
      ]
     },
     "execution_count": 4,
     "metadata": {},
     "output_type": "execute_result"
    }
   ],
   "source": [
    "df.head()"
   ]
  },
  {
   "cell_type": "markdown",
   "id": "60bf50ec",
   "metadata": {
    "id": "Fhz4Y5cGIpMl"
   },
   "source": [
    "> The Age column provides each participant's age measured in years. Glucose is a measure of each participant's plasma glucose concentration at 2 hours from an oral glucose tolerance test. In the current analyses we will use age to predict participants' plasma glucose concentration."
   ]
  },
  {
   "cell_type": "markdown",
   "id": "ca3dd8db",
   "metadata": {
    "id": "yuivN13mIpMl"
   },
   "source": [
    "## Terminology \n"
   ]
  },
  {
   "cell_type": "markdown",
   "id": "0f8996e3",
   "metadata": {
    "id": "hXh58RZOIpMm"
   },
   "source": [
    "### Basics: \n",
    "**Independent Variable:** the data we are using to make a prediction. In this case: _Age_. <br/>\n",
    "AKA - predictor, feature, inputs. \n",
    "\n",
    "**Dependent Variable:** the data we are trying to predict. In this case: _glucose_. <br/>\n",
    "AKA - target, outcome or outputs. "
   ]
  },
  {
   "cell_type": "markdown",
   "id": "c9dc0709",
   "metadata": {
    "id": "hOHyChKSIpMm"
   },
   "source": [
    "For our first model:\n",
    "\n",
    "$\\LARGE y = mx + b $\n",
    "\n",
    "Here:\n",
    "\n",
    "- $x$: input column (just one for now)\n",
    "- $y$: output column (column we're trying to predict)\n",
    "\n",
    "Solving for the coefficients $m$ (our slope) and $b$ (y-intercept)  - based on the line that 'best' represents the relationship between $x$ and $y$, _assuming_ that relationship is a straight line.\n",
    "\n",
    "---\n",
    "\n",
    "The equivalent (and more generalized) formula that you may encounter more often is;\n",
    "\n",
    "$\\LARGE y = \\beta_0 + \\beta_1x_1$\n",
    "\n",
    "> *Or expanded,* $\\LARGE y = \\beta_0 + \\beta_1x_1 + \\beta_2x_2 \\dots \\beta_nx_n$\n",
    "\n",
    "where $\\beta_0$ is the coefficient associated with the intercept (a constant). \n",
    "> *In reality, the first term is $\\beta_0x_0$ where $x_0$ is the intercept. Since the intercept is a constant, we can leave it as just $\\beta_0$*"
   ]
  },
  {
   "cell_type": "markdown",
   "id": "6d9c2033",
   "metadata": {
    "id": "4l2ruk1MIpMm"
   },
   "source": [
    "**Let's pre-process our data and do a tiny bit of EDA.** "
   ]
  },
  {
   "cell_type": "code",
   "execution_count": 5,
   "id": "fa88794e",
   "metadata": {
    "ExecuteTime": {
     "end_time": "2021-08-05T20:05:26.371313Z",
     "start_time": "2021-08-05T20:05:26.354037Z"
    },
    "id": "PlHxtDWKIpMn",
    "outputId": "1952dcf1-88bb-4537-f37b-8123c074b84b"
   },
   "outputs": [
    {
     "data": {
      "text/html": [
       "<div>\n",
       "<style scoped>\n",
       "    .dataframe tbody tr th:only-of-type {\n",
       "        vertical-align: middle;\n",
       "    }\n",
       "\n",
       "    .dataframe tbody tr th {\n",
       "        vertical-align: top;\n",
       "    }\n",
       "\n",
       "    .dataframe thead th {\n",
       "        text-align: right;\n",
       "    }\n",
       "</style>\n",
       "<table border=\"1\" class=\"dataframe\">\n",
       "  <thead>\n",
       "    <tr style=\"text-align: right;\">\n",
       "      <th></th>\n",
       "      <th>Age</th>\n",
       "      <th>Glucose</th>\n",
       "    </tr>\n",
       "  </thead>\n",
       "  <tbody>\n",
       "    <tr>\n",
       "      <th>count</th>\n",
       "      <td>768.000000</td>\n",
       "      <td>768.000000</td>\n",
       "    </tr>\n",
       "    <tr>\n",
       "      <th>mean</th>\n",
       "      <td>33.240885</td>\n",
       "      <td>120.894531</td>\n",
       "    </tr>\n",
       "    <tr>\n",
       "      <th>std</th>\n",
       "      <td>11.760232</td>\n",
       "      <td>31.972618</td>\n",
       "    </tr>\n",
       "    <tr>\n",
       "      <th>min</th>\n",
       "      <td>21.000000</td>\n",
       "      <td>0.000000</td>\n",
       "    </tr>\n",
       "    <tr>\n",
       "      <th>25%</th>\n",
       "      <td>24.000000</td>\n",
       "      <td>99.000000</td>\n",
       "    </tr>\n",
       "    <tr>\n",
       "      <th>50%</th>\n",
       "      <td>29.000000</td>\n",
       "      <td>117.000000</td>\n",
       "    </tr>\n",
       "    <tr>\n",
       "      <th>75%</th>\n",
       "      <td>41.000000</td>\n",
       "      <td>140.250000</td>\n",
       "    </tr>\n",
       "    <tr>\n",
       "      <th>max</th>\n",
       "      <td>81.000000</td>\n",
       "      <td>199.000000</td>\n",
       "    </tr>\n",
       "  </tbody>\n",
       "</table>\n",
       "</div>"
      ],
      "text/plain": [
       "              Age     Glucose\n",
       "count  768.000000  768.000000\n",
       "mean    33.240885  120.894531\n",
       "std     11.760232   31.972618\n",
       "min     21.000000    0.000000\n",
       "25%     24.000000   99.000000\n",
       "50%     29.000000  117.000000\n",
       "75%     41.000000  140.250000\n",
       "max     81.000000  199.000000"
      ]
     },
     "execution_count": 5,
     "metadata": {},
     "output_type": "execute_result"
    }
   ],
   "source": [
    "# Describe.\n",
    "df.describe()"
   ]
  },
  {
   "cell_type": "code",
   "execution_count": 6,
   "id": "814f05b8",
   "metadata": {
    "ExecuteTime": {
     "end_time": "2021-08-05T20:05:26.378878Z",
     "start_time": "2021-08-05T20:05:26.373973Z"
    },
    "id": "9StiIqG0IpMn",
    "outputId": "3c0ad4d2-dd62-405b-8222-b0302af595b8"
   },
   "outputs": [
    {
     "data": {
      "text/plain": [
       "Age        0\n",
       "Glucose    0\n",
       "dtype: int64"
      ]
     },
     "execution_count": 6,
     "metadata": {},
     "output_type": "execute_result"
    }
   ],
   "source": [
    "# Check for missing values\n",
    "df.isna().sum()"
   ]
  },
  {
   "cell_type": "code",
   "execution_count": 7,
   "id": "2150c797",
   "metadata": {
    "ExecuteTime": {
     "end_time": "2021-08-05T20:05:26.746480Z",
     "start_time": "2021-08-05T20:05:26.380941Z"
    }
   },
   "outputs": [
    {
     "data": {
      "text/plain": [
       "<AxesSubplot:xlabel='Glucose', ylabel='Count'>"
      ]
     },
     "execution_count": 7,
     "metadata": {},
     "output_type": "execute_result"
    },
    {
     "data": {
      "image/png": "[encoded data removed]",
      "text/plain": [
       "<Figure size 864x432 with 2 Axes>"
      ]
     },
     "metadata": {
      "needs_background": "light"
     },
     "output_type": "display_data"
    }
   ],
   "source": [
    "# Visualize the two distributions.\n",
    "fig, (ax1, ax2) = plt.subplots(ncols=2, figsize=(12,6))\n",
    "sns.histplot(x='Age', data=df, ax=ax1)\n",
    "sns.histplot(x='Glucose', data=df, ax=ax2)"
   ]
  },
  {
   "cell_type": "code",
   "execution_count": 8,
   "id": "05c53163",
   "metadata": {
    "ExecuteTime": {
     "end_time": "2021-08-05T20:05:26.751659Z",
     "start_time": "2021-08-05T20:05:26.748132Z"
    }
   },
   "outputs": [
    {
     "data": {
      "text/plain": [
       "5"
      ]
     },
     "execution_count": 8,
     "metadata": {},
     "output_type": "execute_result"
    }
   ],
   "source": [
    "# Check for target values of 0.\n",
    "(df['Glucose'] == 0).sum()"
   ]
  },
  {
   "cell_type": "code",
   "execution_count": 9,
   "id": "cc1ac3f3",
   "metadata": {
    "ExecuteTime": {
     "end_time": "2021-08-05T20:05:26.756334Z",
     "start_time": "2021-08-05T20:05:26.753487Z"
    },
    "id": "w3rxdaiUIpMn"
   },
   "outputs": [],
   "source": [
    "# Drop rows where NaN or Glucose is 0.\n",
    "df = df.loc[df['Glucose'] != 0, :]"
   ]
  },
  {
   "cell_type": "code",
   "execution_count": 10,
   "id": "6083ef83",
   "metadata": {
    "ExecuteTime": {
     "end_time": "2021-08-05T20:05:26.764937Z",
     "start_time": "2021-08-05T20:05:26.758109Z"
    },
    "id": "7_Got2cCIpMn",
    "outputId": "f9a7a9bf-c59e-4dcb-e9f0-ad3a50f4c385"
   },
   "outputs": [
    {
     "name": "stdout",
     "output_type": "stream",
     "text": [
      "<class 'pandas.core.frame.DataFrame'>\n",
      "Int64Index: 763 entries, 0 to 767\n",
      "Data columns (total 2 columns):\n",
      " #   Column   Non-Null Count  Dtype\n",
      "---  ------   --------------  -----\n",
      " 0   Age      763 non-null    int64\n",
      " 1   Glucose  763 non-null    int64\n",
      "dtypes: int64(2)\n",
      "memory usage: 17.9 KB\n"
     ]
    }
   ],
   "source": [
    "df.info()"
   ]
  },
  {
   "cell_type": "code",
   "execution_count": 11,
   "id": "c511c04e",
   "metadata": {
    "ExecuteTime": {
     "end_time": "2021-08-05T20:05:26.773847Z",
     "start_time": "2021-08-05T20:05:26.766535Z"
    },
    "id": "qKfSEaReIpMo",
    "outputId": "34c737c6-c296-47f3-b51f-f74534df6d21"
   },
   "outputs": [
    {
     "data": {
      "text/html": [
       "<div>\n",
       "<style scoped>\n",
       "    .dataframe tbody tr th:only-of-type {\n",
       "        vertical-align: middle;\n",
       "    }\n",
       "\n",
       "    .dataframe tbody tr th {\n",
       "        vertical-align: top;\n",
       "    }\n",
       "\n",
       "    .dataframe thead th {\n",
       "        text-align: right;\n",
       "    }\n",
       "</style>\n",
       "<table border=\"1\" class=\"dataframe\">\n",
       "  <thead>\n",
       "    <tr style=\"text-align: right;\">\n",
       "      <th></th>\n",
       "      <th>Age</th>\n",
       "      <th>Glucose</th>\n",
       "    </tr>\n",
       "  </thead>\n",
       "  <tbody>\n",
       "    <tr>\n",
       "      <th>Age</th>\n",
       "      <td>1.000000</td>\n",
       "      <td>0.267136</td>\n",
       "    </tr>\n",
       "    <tr>\n",
       "      <th>Glucose</th>\n",
       "      <td>0.267136</td>\n",
       "      <td>1.000000</td>\n",
       "    </tr>\n",
       "  </tbody>\n",
       "</table>\n",
       "</div>"
      ],
      "text/plain": [
       "              Age   Glucose\n",
       "Age      1.000000  0.267136\n",
       "Glucose  0.267136  1.000000"
      ]
     },
     "execution_count": 11,
     "metadata": {},
     "output_type": "execute_result"
    }
   ],
   "source": [
    "# Checking correlation.\n",
    "df[[\"Age\", \"Glucose\"]].corr()"
   ]
  },
  {
   "cell_type": "markdown",
   "id": "0c4fe7cd",
   "metadata": {
    "id": "oZHjFUtLIpMo"
   },
   "source": [
    "We can visualize this relationship with a scatterplot to get a better idea of the observed relationship between age and glucose levels."
   ]
  },
  {
   "cell_type": "code",
   "execution_count": 12,
   "id": "51a72cf8",
   "metadata": {
    "ExecuteTime": {
     "end_time": "2021-08-05T20:05:26.959285Z",
     "start_time": "2021-08-05T20:05:26.775758Z"
    },
    "id": "WlqnxMJNIpMo",
    "outputId": "812434da-9a5f-4dc3-9ef9-48ed78ab446e"
   },
   "outputs": [
    {
     "data": {
      "image/png": "[encoded data removed]",
      "text/plain": [
       "<Figure size 576x576 with 1 Axes>"
      ]
     },
     "metadata": {
      "needs_background": "light"
     },
     "output_type": "display_data"
    }
   ],
   "source": [
    "# Scatterplot - comparing two variables.\n",
    "fig, ax = plt.subplots(figsize=(8,8))\n",
    "ax.scatter(df[\"Age\"], df[\"Glucose\"], color='r', alpha=0.2)\n",
    "ax.set(xlabel='Age', ylabel='Glucose');"
   ]
  },
  {
   "cell_type": "code",
   "execution_count": 13,
   "id": "865a1d6b",
   "metadata": {
    "ExecuteTime": {
     "end_time": "2021-08-05T20:05:27.287823Z",
     "start_time": "2021-08-05T20:05:26.960675Z"
    },
    "id": "18BQgLMjIpMp",
    "outputId": "700804d2-6a0d-4f08-b54d-74990840364c"
   },
   "outputs": [
    {
     "data": {
      "image/png": "[encoded data removed]",
      "text/plain": [
       "<Figure size 360x360 with 1 Axes>"
      ]
     },
     "metadata": {
      "needs_background": "light"
     },
     "output_type": "display_data"
    }
   ],
   "source": [
    "# Plot using sns.lmplot - including regression line.\n",
    "sns.lmplot(x='Age', y='Glucose', data=df)\n",
    "plt.show()"
   ]
  },
  {
   "cell_type": "markdown",
   "id": "d778abf4",
   "metadata": {
    "id": "gIMgqw4sIpMp"
   },
   "source": [
    "## Let's build a model using StatsModels "
   ]
  },
  {
   "cell_type": "code",
   "execution_count": 14,
   "id": "e4aaf3a9",
   "metadata": {
    "ExecuteTime": {
     "end_time": "2021-08-05T20:05:27.590197Z",
     "start_time": "2021-08-05T20:05:27.289821Z"
    },
    "id": "Rm8LFNa8IpMq"
   },
   "outputs": [
    {
     "name": "stderr",
     "output_type": "stream",
     "text": [
      "/opt/anaconda3/envs/learn-env/lib/python3.6/site-packages/statsmodels/tools/_testing.py:19: FutureWarning: pandas.util.testing is deprecated. Use the functions in the public API at pandas.testing instead.\n",
      "  import pandas.util.testing as tm\n"
     ]
    }
   ],
   "source": [
    "import statsmodels.api as sm # Method 1 below\n",
    "import statsmodels.formula.api as smf # Method 2 below"
   ]
  },
  {
   "cell_type": "markdown",
   "id": "d0bbc6f8",
   "metadata": {},
   "source": [
    "### Method 1"
   ]
  },
  {
   "cell_type": "code",
   "execution_count": 15,
   "id": "f832d2b7",
   "metadata": {
    "ExecuteTime": {
     "end_time": "2021-08-05T20:05:27.607408Z",
     "start_time": "2021-08-05T20:05:27.592295Z"
    }
   },
   "outputs": [
    {
     "data": {
      "text/html": [
       "<table class=\"simpletable\">\n",
       "<caption>OLS Regression Results</caption>\n",
       "<tr>\n",
       "  <th>Dep. Variable:</th>         <td>Glucose</td>     <th>  R-squared (uncentered):</th>      <td>   0.876</td>\n",
       "</tr>\n",
       "<tr>\n",
       "  <th>Model:</th>                   <td>OLS</td>       <th>  Adj. R-squared (uncentered):</th> <td>   0.876</td>\n",
       "</tr>\n",
       "<tr>\n",
       "  <th>Method:</th>             <td>Least Squares</td>  <th>  F-statistic:       </th>          <td>   5401.</td>\n",
       "</tr>\n",
       "<tr>\n",
       "  <th>Date:</th>             <td>Thu, 05 Aug 2021</td> <th>  Prob (F-statistic):</th>           <td>  0.00</td> \n",
       "</tr>\n",
       "<tr>\n",
       "  <th>Time:</th>                 <td>16:05:27</td>     <th>  Log-Likelihood:    </th>          <td> -3971.9</td>\n",
       "</tr>\n",
       "<tr>\n",
       "  <th>No. Observations:</th>      <td>   763</td>      <th>  AIC:               </th>          <td>   7946.</td>\n",
       "</tr>\n",
       "<tr>\n",
       "  <th>Df Residuals:</th>          <td>   762</td>      <th>  BIC:               </th>          <td>   7950.</td>\n",
       "</tr>\n",
       "<tr>\n",
       "  <th>Df Model:</th>              <td>     1</td>      <th>                     </th>              <td> </td>   \n",
       "</tr>\n",
       "<tr>\n",
       "  <th>Covariance Type:</th>      <td>nonrobust</td>    <th>                     </th>              <td> </td>   \n",
       "</tr>\n",
       "</table>\n",
       "<table class=\"simpletable\">\n",
       "<tr>\n",
       "   <td></td>      <th>coef</th>     <th>std err</th>      <th>t</th>      <th>P>|t|</th>  <th>[0.025</th>    <th>0.975]</th>  \n",
       "</tr>\n",
       "<tr>\n",
       "  <th>Age</th> <td>    3.3280</td> <td>    0.045</td> <td>   73.493</td> <td> 0.000</td> <td>    3.239</td> <td>    3.417</td>\n",
       "</tr>\n",
       "</table>\n",
       "<table class=\"simpletable\">\n",
       "<tr>\n",
       "  <th>Omnibus:</th>       <td>38.923</td> <th>  Durbin-Watson:     </th> <td>   1.884</td>\n",
       "</tr>\n",
       "<tr>\n",
       "  <th>Prob(Omnibus):</th> <td> 0.000</td> <th>  Jarque-Bera (JB):  </th> <td>  46.659</td>\n",
       "</tr>\n",
       "<tr>\n",
       "  <th>Skew:</th>          <td>-0.505</td> <th>  Prob(JB):          </th> <td>7.38e-11</td>\n",
       "</tr>\n",
       "<tr>\n",
       "  <th>Kurtosis:</th>      <td> 3.668</td> <th>  Cond. No.          </th> <td>    1.00</td>\n",
       "</tr>\n",
       "</table><br/><br/>Warnings:<br/>[1] Standard Errors assume that the covariance matrix of the errors is correctly specified."
      ],
      "text/plain": [
       "<class 'statsmodels.iolib.summary.Summary'>\n",
       "\"\"\"\n",
       "                                 OLS Regression Results                                \n",
       "=======================================================================================\n",
       "Dep. Variable:                Glucose   R-squared (uncentered):                   0.876\n",
       "Model:                            OLS   Adj. R-squared (uncentered):              0.876\n",
       "Method:                 Least Squares   F-statistic:                              5401.\n",
       "Date:                Thu, 05 Aug 2021   Prob (F-statistic):                        0.00\n",
       "Time:                        16:05:27   Log-Likelihood:                         -3971.9\n",
       "No. Observations:                 763   AIC:                                      7946.\n",
       "Df Residuals:                     762   BIC:                                      7950.\n",
       "Df Model:                           1                                                  \n",
       "Covariance Type:            nonrobust                                                  \n",
       "==============================================================================\n",
       "                 coef    std err          t      P>|t|      [0.025      0.975]\n",
       "------------------------------------------------------------------------------\n",
       "Age            3.3280      0.045     73.493      0.000       3.239       3.417\n",
       "==============================================================================\n",
       "Omnibus:                       38.923   Durbin-Watson:                   1.884\n",
       "Prob(Omnibus):                  0.000   Jarque-Bera (JB):               46.659\n",
       "Skew:                          -0.505   Prob(JB):                     7.38e-11\n",
       "Kurtosis:                       3.668   Cond. No.                         1.00\n",
       "==============================================================================\n",
       "\n",
       "Warnings:\n",
       "[1] Standard Errors assume that the covariance matrix of the errors is correctly specified.\n",
       "\"\"\""
      ]
     },
     "execution_count": 15,
     "metadata": {},
     "output_type": "execute_result"
    }
   ],
   "source": [
    "# Instantiate model.\n",
    "model = sm.OLS(df['Glucose'], df['Age'])\n",
    "\n",
    "# Fit model to data and return results.\n",
    "results = model.fit()\n",
    "\n",
    "# Look at the summary table.\n",
    "results.summary()"
   ]
  },
  {
   "cell_type": "markdown",
   "id": "4bf8e051",
   "metadata": {},
   "source": [
    "### Method 2"
   ]
  },
  {
   "cell_type": "code",
   "execution_count": 16,
   "id": "99df12a2",
   "metadata": {
    "ExecuteTime": {
     "end_time": "2021-08-05T20:05:27.634057Z",
     "start_time": "2021-08-05T20:05:27.609268Z"
    }
   },
   "outputs": [
    {
     "data": {
      "text/html": [
       "<table class=\"simpletable\">\n",
       "<caption>OLS Regression Results</caption>\n",
       "<tr>\n",
       "  <th>Dep. Variable:</th>         <td>Glucose</td>     <th>  R-squared:         </th> <td>   0.071</td>\n",
       "</tr>\n",
       "<tr>\n",
       "  <th>Model:</th>                   <td>OLS</td>       <th>  Adj. R-squared:    </th> <td>   0.070</td>\n",
       "</tr>\n",
       "<tr>\n",
       "  <th>Method:</th>             <td>Least Squares</td>  <th>  F-statistic:       </th> <td>   58.48</td>\n",
       "</tr>\n",
       "<tr>\n",
       "  <th>Date:</th>             <td>Thu, 05 Aug 2021</td> <th>  Prob (F-statistic):</th> <td>6.21e-14</td>\n",
       "</tr>\n",
       "<tr>\n",
       "  <th>Time:</th>                 <td>16:05:27</td>     <th>  Log-Likelihood:    </th> <td> -3662.5</td>\n",
       "</tr>\n",
       "<tr>\n",
       "  <th>No. Observations:</th>      <td>   763</td>      <th>  AIC:               </th> <td>   7329.</td>\n",
       "</tr>\n",
       "<tr>\n",
       "  <th>Df Residuals:</th>          <td>   761</td>      <th>  BIC:               </th> <td>   7338.</td>\n",
       "</tr>\n",
       "<tr>\n",
       "  <th>Df Model:</th>              <td>     1</td>      <th>                     </th>     <td> </td>   \n",
       "</tr>\n",
       "<tr>\n",
       "  <th>Covariance Type:</th>      <td>nonrobust</td>    <th>                     </th>     <td> </td>   \n",
       "</tr>\n",
       "</table>\n",
       "<table class=\"simpletable\">\n",
       "<tr>\n",
       "      <td></td>         <th>coef</th>     <th>std err</th>      <th>t</th>      <th>P>|t|</th>  <th>[0.025</th>    <th>0.975]</th>  \n",
       "</tr>\n",
       "<tr>\n",
       "  <th>Intercept</th> <td>   98.6324</td> <td>    3.198</td> <td>   30.845</td> <td> 0.000</td> <td>   92.355</td> <td>  104.910</td>\n",
       "</tr>\n",
       "<tr>\n",
       "  <th>Age</th>       <td>    0.6929</td> <td>    0.091</td> <td>    7.647</td> <td> 0.000</td> <td>    0.515</td> <td>    0.871</td>\n",
       "</tr>\n",
       "</table>\n",
       "<table class=\"simpletable\">\n",
       "<tr>\n",
       "  <th>Omnibus:</th>       <td>26.554</td> <th>  Durbin-Watson:     </th> <td>   1.935</td>\n",
       "</tr>\n",
       "<tr>\n",
       "  <th>Prob(Omnibus):</th> <td> 0.000</td> <th>  Jarque-Bera (JB):  </th> <td>  28.808</td>\n",
       "</tr>\n",
       "<tr>\n",
       "  <th>Skew:</th>          <td> 0.475</td> <th>  Prob(JB):          </th> <td>5.55e-07</td>\n",
       "</tr>\n",
       "<tr>\n",
       "  <th>Kurtosis:</th>      <td> 2.932</td> <th>  Cond. No.          </th> <td>    106.</td>\n",
       "</tr>\n",
       "</table><br/><br/>Warnings:<br/>[1] Standard Errors assume that the covariance matrix of the errors is correctly specified."
      ],
      "text/plain": [
       "<class 'statsmodels.iolib.summary.Summary'>\n",
       "\"\"\"\n",
       "                            OLS Regression Results                            \n",
       "==============================================================================\n",
       "Dep. Variable:                Glucose   R-squared:                       0.071\n",
       "Model:                            OLS   Adj. R-squared:                  0.070\n",
       "Method:                 Least Squares   F-statistic:                     58.48\n",
       "Date:                Thu, 05 Aug 2021   Prob (F-statistic):           6.21e-14\n",
       "Time:                        16:05:27   Log-Likelihood:                -3662.5\n",
       "No. Observations:                 763   AIC:                             7329.\n",
       "Df Residuals:                     761   BIC:                             7338.\n",
       "Df Model:                           1                                         \n",
       "Covariance Type:            nonrobust                                         \n",
       "==============================================================================\n",
       "                 coef    std err          t      P>|t|      [0.025      0.975]\n",
       "------------------------------------------------------------------------------\n",
       "Intercept     98.6324      3.198     30.845      0.000      92.355     104.910\n",
       "Age            0.6929      0.091      7.647      0.000       0.515       0.871\n",
       "==============================================================================\n",
       "Omnibus:                       26.554   Durbin-Watson:                   1.935\n",
       "Prob(Omnibus):                  0.000   Jarque-Bera (JB):               28.808\n",
       "Skew:                           0.475   Prob(JB):                     5.55e-07\n",
       "Kurtosis:                       2.932   Cond. No.                         106.\n",
       "==============================================================================\n",
       "\n",
       "Warnings:\n",
       "[1] Standard Errors assume that the covariance matrix of the errors is correctly specified.\n",
       "\"\"\""
      ]
     },
     "execution_count": 16,
     "metadata": {},
     "output_type": "execute_result"
    }
   ],
   "source": [
    "# Set variables\n",
    "target = 'Glucose'\n",
    "x_variables = ['Age'] # We can/will have many!\n",
    "\n",
    "# Set formula.\n",
    "formula = f'{target}~{\"+\".join(x_variables)}' \n",
    "# >>> 'Glucose~Age'\n",
    "\n",
    "# Show results (without storing as a variable).\n",
    "(smf.ols(formula, data=df)\n",
    " .fit()\n",
    " .summary())"
   ]
  },
  {
   "cell_type": "markdown",
   "id": "ed2a0246",
   "metadata": {},
   "source": [
    "### Points of Interest\n",
    "- $\\large R^2$: *Coefficient of Determination*\n",
    "    -  Proportion of variance explained by the regression. \n",
    "    - This value tells us that our model - with just one independent variable - accounts for roughly {$R^2 \\%$} of the variance in glucose levels.\n",
    "    \n",
    "    \n",
    "- $\\large \\text{Adjusted} R^2$\n",
    "    - Adjusted $R^2$ value that is weighted to potential noise in the model (the more features, the lower the Adjusted $R^2$.\n",
    "    \n",
    "    \n",
    "- `coef`: $\\large m$ or $\\large \\beta_{x_1}$\n",
    "\n",
    "\n",
    "- `P>|t|`: P-value regarding the variable's significance. \n",
    "    - $H_0$: The variable's impact on the target is by random chance.\n",
    "    \n",
    "    \n",
    "- `Omnibus` / `Prob(Omnibus)` and `Jarque-Bera (JB)` / `Prob(JB)`\n",
    "    - Tests for normal distribution of residuals.\n",
    "        - $H_0$ is the residuals come from a normal distribution.\n",
    "        \n",
    "        \n",
    "- `Durbin-Watson` \n",
    "    - Test for error homoskedasticity. We're looking for values between ~1.5 and ~2.5."
   ]
  },
  {
   "cell_type": "code",
   "execution_count": 17,
   "id": "64aa77cb",
   "metadata": {
    "ExecuteTime": {
     "end_time": "2021-08-05T20:05:27.658658Z",
     "start_time": "2021-08-05T20:05:27.636535Z"
    }
   },
   "outputs": [
    {
     "data": {
      "text/html": [
       "<div>\n",
       "<style scoped>\n",
       "    .dataframe tbody tr th:only-of-type {\n",
       "        vertical-align: middle;\n",
       "    }\n",
       "\n",
       "    .dataframe tbody tr th {\n",
       "        vertical-align: top;\n",
       "    }\n",
       "\n",
       "    .dataframe thead th {\n",
       "        text-align: right;\n",
       "    }\n",
       "</style>\n",
       "<table border=\"1\" class=\"dataframe\">\n",
       "  <thead>\n",
       "    <tr style=\"text-align: right;\">\n",
       "      <th></th>\n",
       "      <th>const</th>\n",
       "      <th>Age</th>\n",
       "    </tr>\n",
       "  </thead>\n",
       "  <tbody>\n",
       "    <tr>\n",
       "      <th>0</th>\n",
       "      <td>1.0</td>\n",
       "      <td>50</td>\n",
       "    </tr>\n",
       "    <tr>\n",
       "      <th>1</th>\n",
       "      <td>1.0</td>\n",
       "      <td>31</td>\n",
       "    </tr>\n",
       "    <tr>\n",
       "      <th>2</th>\n",
       "      <td>1.0</td>\n",
       "      <td>32</td>\n",
       "    </tr>\n",
       "    <tr>\n",
       "      <th>3</th>\n",
       "      <td>1.0</td>\n",
       "      <td>21</td>\n",
       "    </tr>\n",
       "    <tr>\n",
       "      <th>4</th>\n",
       "      <td>1.0</td>\n",
       "      <td>33</td>\n",
       "    </tr>\n",
       "    <tr>\n",
       "      <th>...</th>\n",
       "      <td>...</td>\n",
       "      <td>...</td>\n",
       "    </tr>\n",
       "    <tr>\n",
       "      <th>763</th>\n",
       "      <td>1.0</td>\n",
       "      <td>63</td>\n",
       "    </tr>\n",
       "    <tr>\n",
       "      <th>764</th>\n",
       "      <td>1.0</td>\n",
       "      <td>27</td>\n",
       "    </tr>\n",
       "    <tr>\n",
       "      <th>765</th>\n",
       "      <td>1.0</td>\n",
       "      <td>30</td>\n",
       "    </tr>\n",
       "    <tr>\n",
       "      <th>766</th>\n",
       "      <td>1.0</td>\n",
       "      <td>47</td>\n",
       "    </tr>\n",
       "    <tr>\n",
       "      <th>767</th>\n",
       "      <td>1.0</td>\n",
       "      <td>23</td>\n",
       "    </tr>\n",
       "  </tbody>\n",
       "</table>\n",
       "<p>763 rows × 2 columns</p>\n",
       "</div>"
      ],
      "text/plain": [
       "     const  Age\n",
       "0      1.0   50\n",
       "1      1.0   31\n",
       "2      1.0   32\n",
       "3      1.0   21\n",
       "4      1.0   33\n",
       "..     ...  ...\n",
       "763    1.0   63\n",
       "764    1.0   27\n",
       "765    1.0   30\n",
       "766    1.0   47\n",
       "767    1.0   23\n",
       "\n",
       "[763 rows x 2 columns]"
      ]
     },
     "execution_count": 17,
     "metadata": {},
     "output_type": "execute_result"
    }
   ],
   "source": [
    "# Adding a constant to our X.\n",
    "X = sm.add_constant(df['Age'])\n",
    "X"
   ]
  },
  {
   "cell_type": "code",
   "execution_count": 18,
   "id": "4f5327c5",
   "metadata": {
    "ExecuteTime": {
     "end_time": "2021-08-05T20:05:27.678088Z",
     "start_time": "2021-08-05T20:05:27.660578Z"
    },
    "id": "72DhwN3sIpMr",
    "outputId": "87bfa2b0-b821-4f00-f665-9ef4216e1ad6"
   },
   "outputs": [
    {
     "data": {
      "text/html": [
       "<table class=\"simpletable\">\n",
       "<caption>OLS Regression Results</caption>\n",
       "<tr>\n",
       "  <th>Dep. Variable:</th>         <td>Glucose</td>     <th>  R-squared:         </th> <td>   0.071</td>\n",
       "</tr>\n",
       "<tr>\n",
       "  <th>Model:</th>                   <td>OLS</td>       <th>  Adj. R-squared:    </th> <td>   0.070</td>\n",
       "</tr>\n",
       "<tr>\n",
       "  <th>Method:</th>             <td>Least Squares</td>  <th>  F-statistic:       </th> <td>   58.48</td>\n",
       "</tr>\n",
       "<tr>\n",
       "  <th>Date:</th>             <td>Thu, 05 Aug 2021</td> <th>  Prob (F-statistic):</th> <td>6.21e-14</td>\n",
       "</tr>\n",
       "<tr>\n",
       "  <th>Time:</th>                 <td>16:05:27</td>     <th>  Log-Likelihood:    </th> <td> -3662.5</td>\n",
       "</tr>\n",
       "<tr>\n",
       "  <th>No. Observations:</th>      <td>   763</td>      <th>  AIC:               </th> <td>   7329.</td>\n",
       "</tr>\n",
       "<tr>\n",
       "  <th>Df Residuals:</th>          <td>   761</td>      <th>  BIC:               </th> <td>   7338.</td>\n",
       "</tr>\n",
       "<tr>\n",
       "  <th>Df Model:</th>              <td>     1</td>      <th>                     </th>     <td> </td>   \n",
       "</tr>\n",
       "<tr>\n",
       "  <th>Covariance Type:</th>      <td>nonrobust</td>    <th>                     </th>     <td> </td>   \n",
       "</tr>\n",
       "</table>\n",
       "<table class=\"simpletable\">\n",
       "<tr>\n",
       "    <td></td>       <th>coef</th>     <th>std err</th>      <th>t</th>      <th>P>|t|</th>  <th>[0.025</th>    <th>0.975]</th>  \n",
       "</tr>\n",
       "<tr>\n",
       "  <th>const</th> <td>   98.6324</td> <td>    3.198</td> <td>   30.845</td> <td> 0.000</td> <td>   92.355</td> <td>  104.910</td>\n",
       "</tr>\n",
       "<tr>\n",
       "  <th>Age</th>   <td>    0.6929</td> <td>    0.091</td> <td>    7.647</td> <td> 0.000</td> <td>    0.515</td> <td>    0.871</td>\n",
       "</tr>\n",
       "</table>\n",
       "<table class=\"simpletable\">\n",
       "<tr>\n",
       "  <th>Omnibus:</th>       <td>26.554</td> <th>  Durbin-Watson:     </th> <td>   1.935</td>\n",
       "</tr>\n",
       "<tr>\n",
       "  <th>Prob(Omnibus):</th> <td> 0.000</td> <th>  Jarque-Bera (JB):  </th> <td>  28.808</td>\n",
       "</tr>\n",
       "<tr>\n",
       "  <th>Skew:</th>          <td> 0.475</td> <th>  Prob(JB):          </th> <td>5.55e-07</td>\n",
       "</tr>\n",
       "<tr>\n",
       "  <th>Kurtosis:</th>      <td> 2.932</td> <th>  Cond. No.          </th> <td>    106.</td>\n",
       "</tr>\n",
       "</table><br/><br/>Warnings:<br/>[1] Standard Errors assume that the covariance matrix of the errors is correctly specified."
      ],
      "text/plain": [
       "<class 'statsmodels.iolib.summary.Summary'>\n",
       "\"\"\"\n",
       "                            OLS Regression Results                            \n",
       "==============================================================================\n",
       "Dep. Variable:                Glucose   R-squared:                       0.071\n",
       "Model:                            OLS   Adj. R-squared:                  0.070\n",
       "Method:                 Least Squares   F-statistic:                     58.48\n",
       "Date:                Thu, 05 Aug 2021   Prob (F-statistic):           6.21e-14\n",
       "Time:                        16:05:27   Log-Likelihood:                -3662.5\n",
       "No. Observations:                 763   AIC:                             7329.\n",
       "Df Residuals:                     761   BIC:                             7338.\n",
       "Df Model:                           1                                         \n",
       "Covariance Type:            nonrobust                                         \n",
       "==============================================================================\n",
       "                 coef    std err          t      P>|t|      [0.025      0.975]\n",
       "------------------------------------------------------------------------------\n",
       "const         98.6324      3.198     30.845      0.000      92.355     104.910\n",
       "Age            0.6929      0.091      7.647      0.000       0.515       0.871\n",
       "==============================================================================\n",
       "Omnibus:                       26.554   Durbin-Watson:                   1.935\n",
       "Prob(Omnibus):                  0.000   Jarque-Bera (JB):               28.808\n",
       "Skew:                           0.475   Prob(JB):                     5.55e-07\n",
       "Kurtosis:                       2.932   Cond. No.                         106.\n",
       "==============================================================================\n",
       "\n",
       "Warnings:\n",
       "[1] Standard Errors assume that the covariance matrix of the errors is correctly specified.\n",
       "\"\"\""
      ]
     },
     "execution_count": 18,
     "metadata": {},
     "output_type": "execute_result"
    }
   ],
   "source": [
    "# Fit a new model with a constant included.\n",
    "model2 = sm.OLS(df[\"Glucose\"], X).fit()\n",
    "model2.summary()"
   ]
  },
  {
   "cell_type": "markdown",
   "id": "e9cb92b9",
   "metadata": {
    "id": "So0wEd43IpMr"
   },
   "source": [
    "The $R^2$ value in this output is  much smaller than the $R^2$ from the model excluding the intercept. The lesson here is that when the intercept is excluded from a linear regression model the $R^2$ is artificially inflated. (See below for technical description.) \n",
    "\n",
    "> *When you run the regression without a constant in the model, you are declaring that the expected value of Y when x is equal to 0 is 0. That is, $E(Y | x = 0) = 0$. If this is not the case, the values of $\\hat{y}$ will be different yielding different $SS_{model}$ and $SS_{residual}$ hence different $R^2$ and F values. Typically, the sum of squares of Y accounted for by the intercept are not included in the total sum of squares. That is, they are neither in $SS_{model}$ nor $SS_{residual}$. That is the model is predicting the sum of squares left over after taking out the intercept. When the intercept (or constant term) is left off and it does not have a true zero effect, the total sum of squares being modeled is increased. This tends to inflate both $SS_{model}$ and $SS_{residual}$; however, $SS_{model}$ increases relatively more than $SS_{residual}$ leading to the increase in $R^2$ values.*\n",
    ">\n",
    "> *https://stats.idre.ucla.edu/other/mult-pkg/faq/general/faq-why-are-r2-and-f-so-large-for-models-without-a-constant/*"
   ]
  },
  {
   "cell_type": "markdown",
   "id": "e18dadc7",
   "metadata": {
    "id": "So0wEd43IpMr"
   },
   "source": [
    "Moving to the middle of the output, we now have an additional set of results. \n",
    "\n",
    "Namely, the row labeled `const` , which provides the results for the intercept. \n",
    "- The `coef` value for `const` is the value at the intercept $x=0$.\n",
    "- The `coef` value of `Age` means that with each one-year increase in age, glucose concentration is predicted to increase by this value. \n",
    "\n",
    "---\n",
    "\n",
    "We can plug the intercept and regression weight estimates from the `statsmodels` output into the prediction equation.\n",
    "\n",
    "$\\large y = mx + b$ or $\\large y = \\beta_0(1) + \\beta_{1}x_1$\n",
    "\n",
    "$\\large \\text{Glucose} = \\text{const[coef]} + \\text{(Age[coef])(Age_value)}$"
   ]
  },
  {
   "cell_type": "markdown",
   "id": "cde4f883",
   "metadata": {
    "id": "NNx0W0rsIpMr"
   },
   "source": [
    "### The regression line and the associated error."
   ]
  },
  {
   "cell_type": "markdown",
   "id": "25e73858",
   "metadata": {
    "id": "rQ16Vb92IpMr"
   },
   "source": [
    "- Regression Line\n",
    "- Residuals (Error)\n",
    "    - A **residual** is the difference between the actual value and the predicted value for a point we tried to predict where we knew the actual correct answer.\n",
    "    - $\\large \\text{Squared Sum of Residuals} = \\sum\\limits_{i=1}^{n} (y_i - \\text{y_pred}_{i})^{2}$\n",
    "\n",
    "\n",
    "- **Intro to Modeling Metrics**\n",
    "    - *Mean Absolute Error*\n",
    "    - *Mean Squared Error*\n",
    "    - *Root Mean Squared Error*\n",
    "\n",
    "<img src='https://rasbt.github.io/mlxtend/user_guide/regressor/LinearRegression_files/simple_regression.png' />"
   ]
  },
  {
   "cell_type": "markdown",
   "id": "8770428f",
   "metadata": {
    "id": "UwtM7nmDIpMs"
   },
   "source": [
    "## Coefficient of Determination \n",
    "\n",
    "Very often a data scientist will calculate $R^2$, the *coefficient of determination*, as a measure of how well the model fits the data.\n",
    "\n",
    "$R^2$ for a model is ultimately a _relational_ notion. It's a measure of goodness of fit _relative_ to a (bad) baseline model. This bad baseline model is simply the horizontal line $\\large y = \\mu_Y$, for dependent variable $Y$.\n",
    "\n",
    "The actual calculation of $R^2$ is:\n",
    "\n",
    "$\\Large R^2\\equiv 1-\\frac{\\Sigma_i(y_i - \\hat{y}_i)^2}{\\Sigma_i(y_i - \\bar{y})^2}$.\n",
    "\n",
    "$R^2$ is a measure of how much variation in the dependent variable your model explains."
   ]
  },
  {
   "cell_type": "markdown",
   "id": "8a9b0bfc",
   "metadata": {
    "id": "TXuIZUpOIpMs"
   },
   "source": [
    "## Assumptions of Linear Regression \n",
    "\n"
   ]
  },
  {
   "cell_type": "markdown",
   "id": "7be6b2d3",
   "metadata": {
    "id": "Wkv5ViJ_IpMs"
   },
   "source": [
    "### 1. Linearity\n",
    "\n",
    "**The relationship between the target and predictor is linear.** Check this by drawing a scatter plot of your predictor and your target, and see if there is evidence that the relationship might not follow a straight line OR look at the correlation coefficient.\n",
    "\n",
    "**What can I do if it looks like I'm violating this assumption?**\n",
    "\n",
    "- Consider log-scaling your data.\n",
    "- Consider a different type of model!"
   ]
  },
  {
   "cell_type": "markdown",
   "id": "d2505087",
   "metadata": {
    "id": "bUO597XSIpMs"
   },
   "source": [
    "### 2. Normality\n",
    "The normality assumption states that the model _residuals_ should follow a normal distribution.\n",
    "**Note**: the normality assumption talks about the model residuals and not about the distributions of the variables!\n",
    "\n",
    "**How can I check for this?**\n",
    "* Check the Omnibus value (This is a test for error normality. The probability is the chance that the errors are normally distributed.)\n",
    "    - Normal Test *https://docs.scipy.org/doc/scipy/reference/generated/scipy.stats.normaltest.html*\n",
    "* Build a QQ-Plot.\n",
    "\n",
    "**What can I do if it looks like I'm violating this assumption?**\n",
    "* Drop outliers \n",
    "* Consider log-scaling your data "
   ]
  },
  {
   "cell_type": "markdown",
   "id": "4b049366",
   "metadata": {
    "id": "6YaWc5TfIpMs"
   },
   "source": [
    "#### Let's look at a qqplot of our residuals "
   ]
  },
  {
   "cell_type": "code",
   "execution_count": 19,
   "id": "4bde536b",
   "metadata": {
    "ExecuteTime": {
     "end_time": "2021-08-05T20:05:27.856087Z",
     "start_time": "2021-08-05T20:05:27.680071Z"
    },
    "id": "OuO5OPBSIpMs",
    "outputId": "8f7a0e95-a0b9-4bc3-e58d-3bb1baafe7e6"
   },
   "outputs": [
    {
     "data": {
      "image/png": "[encoded data removed]",
      "text/plain": [
       "<Figure size 748.8x514.8 with 1 Axes>"
      ]
     },
     "metadata": {
      "needs_background": "light"
     },
     "output_type": "display_data"
    }
   ],
   "source": [
    "residuals = results.resid\n",
    "fig = sm.graphics.qqplot(residuals, line='45', fit=True);"
   ]
  },
  {
   "cell_type": "markdown",
   "id": "9f87875a",
   "metadata": {
    "id": "HUYnM1fsIpMt"
   },
   "source": [
    "***Demo: Sample Residual Distributions and their QQ-plots.***\n",
    "\n",
    "<img src='https://github.com/learn-co-students/dsc-01-10-11-regression-assumptions-online-ds-ft-031119/raw/master/images/inhouse_qq_plots.png' width=700/>"
   ]
  },
  {
   "cell_type": "markdown",
   "id": "ea4d356d",
   "metadata": {
    "id": "0JOVkeh8IpMt"
   },
   "source": [
    "## 3. Homoskedasticity\n",
    "\n",
    "The errors should be homoskedastic. That is, the errors have the same variance.\n",
    "\n",
    "Basically if the residuals are evenly spread through range\n",
    "\n",
    "<img src='https://github.com/learn-co-students/dsc-01-10-11-regression-assumptions-online-ds-ft-031119/raw/master/images/homo_2.png' width=700/>\n",
    "\n",
    "The residual errors have the same variance.\n",
    "\n",
    "**How can I check for this?**\n",
    "\n",
    "* Check the Durbin-Watson score (This is a test for error homoskedasticity. We're looking for values between ~1.5 and ~2.5).\n",
    "    - Documentation: *https://www.statsmodels.org/stable/generated/statsmodels.stats.stattools.durbin_watson.html*\n",
    "    - Demonstration: *https://www.statology.org/durbin-watson-test-python/*\n",
    "* Build an error plot, i.e. a plot of errors for a particular predictor (vs. the values of that predictor).\n",
    "\n",
    "**What can I do if it looks like I'm violating this assumption?**\n",
    "\n",
    "* Consider dropping extreme values.\n",
    "* Consider log-scaling your target.\n",
    "* Consider a different type of model!"
   ]
  },
  {
   "cell_type": "markdown",
   "id": "3e1edfb2",
   "metadata": {
    "id": "LxpZt-IDIpMt"
   },
   "source": [
    "## Violations of Assumptions\n",
    "\n",
    "No model is perfect, and your assumptions will never hold perfectly. If the violations of assumptions are severe, you can try adjusting the data so the assumptions will hold, such as by... \n",
    "\n",
    "- Transforming your data with a non-linear function (e.g. log)\n",
    "- Only modeling a subset of your data\n",
    "- Dropping outliers\n",
    "\n",
    "These can make it harder to explain or interpret your model, but the trade-off may be worth it. Alternatively, you may be better of just using a different type of model (you will learn many)."
   ]
  },
  {
   "cell_type": "markdown",
   "id": "24763b95",
   "metadata": {
    "id": "Eza2e57bIpMt"
   },
   "source": [
    "### Recap\n",
    "* **Pearson correlation coefficient** measures the strength of a relationship between two variables ranging from -1(perfect negative relationship) to 1(perfect positive relationship)\n",
    "* A **loss function** calculates how well a given model represents the relationship between data values\n",
    "* A **linear regression** is simply a (straight) line of best fit for predicting a continuous value (y = mx + b)\n",
    "* The **Coefficient of Determination** (R Squared) can be used to determine how well a given line fits a given data set\n",
    "* Certain **assumptions** must hold true for a least squares linear regression to be useful - linearity, normality and homoskedasticity\n",
    "* **Q-Q plots** can check for normality in residual errors\n",
    "* The **omnibus-value** can be used to test for normality\n",
    "* **Durbin-watson** score and error plots can check for homoskedasticity"
   ]
  }
 ],
 "metadata": {
  "kernelspec": {
   "display_name": "Python 3",
   "language": "python",
   "name": "python3"
  },
  "language_info": {
   "codemirror_mode": {
    "name": "ipython",
    "version": 3
   },
   "file_extension": ".py",
   "mimetype": "text/x-python",
   "name": "python",
   "nbconvert_exporter": "python",
   "pygments_lexer": "ipython3",
   "version": "3.6.9"
  },
  "toc": {
   "base_numbering": 1,
   "nav_menu": {},
   "number_sections": false,
   "sideBar": true,
   "skip_h1_title": false,
   "title_cell": "Table of Contents",
   "title_sidebar": "Contents",
   "toc_cell": false,
   "toc_position": {
    "height": "calc(100% - 180px)",
    "left": "10px",
    "top": "150px",
    "width": "338px"
   },
   "toc_section_display": true,
   "toc_window_display": true
  }
 },
 "nbformat": 4,
 "nbformat_minor": 5
}
