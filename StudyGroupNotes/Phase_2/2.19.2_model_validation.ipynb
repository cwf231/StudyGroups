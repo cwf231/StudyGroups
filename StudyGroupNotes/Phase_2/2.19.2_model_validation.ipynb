{
 "cells": [
  {
   "cell_type": "markdown",
   "id": "21c1a092",
   "metadata": {},
   "source": [
    "## Phase 2.19.2\n",
    "\n",
    "# Model Validation\n",
    "\n",
    "## Objectives\n",
    "- What is validation?\n",
    "- Why do we validate?\n",
    "\n",
    "\n",
    "- Linear model performance metrics\n",
    "\n",
    "\n",
    "- Methods of validation\n",
    "    - Train-Test Split\n",
    "    - K-Fold Cross Validation"
   ]
  },
  {
   "cell_type": "markdown",
   "id": "dd333d0d",
   "metadata": {},
   "source": [
    "# Model Validation\n",
    "When creating any model, the hope is that **you can train a model on this data that can then be used to make predictions about new data that comes in.** \n",
    "\n",
    "You want your model to generalize well and work on this incoming data - not too complex from learning all the details/noise from the data, but also not so simple that the model is useless. \n",
    "\n",
    "<img src='images/new_overfit_underfit.png'>\n",
    "\n",
    "Building generalizable model that is also useful in its predictions is possible because of **model validation**."
   ]
  },
  {
   "cell_type": "markdown",
   "id": "053e1621",
   "metadata": {},
   "source": [
    "# Linear Regression Metrics\n",
    "<img src='images/residuals.png'>\n",
    "\n",
    "## Mean Absolute Error\n",
    "- **MAE** is defined as the absolute value of the mean of the residuals.\n",
    "    - MAE is useful because it speaks in concrete figures about the average error in easily understandable units.\n",
    "        - \"*On average, how wrong is my model on each prediction that it makes?*\"\n",
    "\n",
    "## Mean Squared Error\n",
    "- **MSE** is defined as the mean of the sum of squares of the residuals. \n",
    "    - MSE is useful because it penalizes large residuals more than small ones.\n",
    "    \n",
    "## Root Mean Squared Error\n",
    "- **RMSE** is defined as the square root of the MSE.\n",
    "     - RMSE is useful because it penalizes large errors, but returns the units back close to the original scale of the dependent variable."
   ]
  },
  {
   "cell_type": "markdown",
   "id": "6229548f",
   "metadata": {},
   "source": [
    "# Train-Test Split\n",
    "\n",
    "The idea behind a train-test split is to create a \"holdout\" dataset - one that your model does not see when training - that you can test against after you've trained.\n",
    "\n",
    "<img src='images/traintestsplit.png'>\n",
    "\n",
    "***Steps to a logical train-test split***\n",
    "1. Use `sklearn`'s `train_test_split()` function to return `(X_train, X_test, y_train, y_test)`\n",
    "    - Include a `random_state` for reproducibility.\n",
    "        - *If being used with a classifier, split data proportionately with `stratify` parameter.*\n",
    "2. Train your model with `X_train` and `y_train`.\n",
    "3. Measure your model's performance on the **train-set** with one or more metrics.\n",
    "4. Measure your model's performance on the **test-set** with the same metrics.\n",
    "5. Compare the training metrics with the test metrics.\n",
    "    - If the metrics are similar, you do not have a problem with ***overfitting***.\n",
    "    - If the metrics are much better for your training set than your test set, that implies that the model has overfit to the training data and was not able to generalize effectively."
   ]
  },
  {
   "cell_type": "markdown",
   "id": "3b2b5d29",
   "metadata": {},
   "source": [
    "### *Brief processing*"
   ]
  },
  {
   "cell_type": "code",
   "execution_count": 1,
   "id": "c5cc78ca",
   "metadata": {
    "ExecuteTime": {
     "end_time": "2021-09-23T23:34:28.775634Z",
     "start_time": "2021-09-23T23:34:27.028098Z"
    }
   },
   "outputs": [],
   "source": [
    "import pandas as pd\n",
    "import numpy as np\n",
    "import matplotlib.pyplot as plt\n",
    "import seaborn as sns\n",
    "\n",
    "from sklearn.model_selection import train_test_split"
   ]
  },
  {
   "cell_type": "code",
   "execution_count": 2,
   "id": "3fc82969",
   "metadata": {
    "ExecuteTime": {
     "end_time": "2021-09-23T23:34:28.811219Z",
     "start_time": "2021-09-23T23:34:28.778731Z"
    }
   },
   "outputs": [
    {
     "data": {
      "text/html": [
       "<div>\n",
       "<style scoped>\n",
       "    .dataframe tbody tr th:only-of-type {\n",
       "        vertical-align: middle;\n",
       "    }\n",
       "\n",
       "    .dataframe tbody tr th {\n",
       "        vertical-align: top;\n",
       "    }\n",
       "\n",
       "    .dataframe thead th {\n",
       "        text-align: right;\n",
       "    }\n",
       "</style>\n",
       "<table border=\"1\" class=\"dataframe\">\n",
       "  <thead>\n",
       "    <tr style=\"text-align: right;\">\n",
       "      <th></th>\n",
       "      <th>mpg</th>\n",
       "      <th>cylinders</th>\n",
       "      <th>displacement</th>\n",
       "      <th>horsepower</th>\n",
       "      <th>weight</th>\n",
       "      <th>acceleration</th>\n",
       "      <th>model_year</th>\n",
       "      <th>origin</th>\n",
       "      <th>name</th>\n",
       "    </tr>\n",
       "  </thead>\n",
       "  <tbody>\n",
       "    <tr>\n",
       "      <th>0</th>\n",
       "      <td>18.0</td>\n",
       "      <td>8</td>\n",
       "      <td>307.0</td>\n",
       "      <td>130.0</td>\n",
       "      <td>3504</td>\n",
       "      <td>12.0</td>\n",
       "      <td>70</td>\n",
       "      <td>usa</td>\n",
       "      <td>chevrolet chevelle malibu</td>\n",
       "    </tr>\n",
       "    <tr>\n",
       "      <th>1</th>\n",
       "      <td>15.0</td>\n",
       "      <td>8</td>\n",
       "      <td>350.0</td>\n",
       "      <td>165.0</td>\n",
       "      <td>3693</td>\n",
       "      <td>11.5</td>\n",
       "      <td>70</td>\n",
       "      <td>usa</td>\n",
       "      <td>buick skylark 320</td>\n",
       "    </tr>\n",
       "    <tr>\n",
       "      <th>2</th>\n",
       "      <td>18.0</td>\n",
       "      <td>8</td>\n",
       "      <td>318.0</td>\n",
       "      <td>150.0</td>\n",
       "      <td>3436</td>\n",
       "      <td>11.0</td>\n",
       "      <td>70</td>\n",
       "      <td>usa</td>\n",
       "      <td>plymouth satellite</td>\n",
       "    </tr>\n",
       "    <tr>\n",
       "      <th>3</th>\n",
       "      <td>16.0</td>\n",
       "      <td>8</td>\n",
       "      <td>304.0</td>\n",
       "      <td>150.0</td>\n",
       "      <td>3433</td>\n",
       "      <td>12.0</td>\n",
       "      <td>70</td>\n",
       "      <td>usa</td>\n",
       "      <td>amc rebel sst</td>\n",
       "    </tr>\n",
       "    <tr>\n",
       "      <th>4</th>\n",
       "      <td>17.0</td>\n",
       "      <td>8</td>\n",
       "      <td>302.0</td>\n",
       "      <td>140.0</td>\n",
       "      <td>3449</td>\n",
       "      <td>10.5</td>\n",
       "      <td>70</td>\n",
       "      <td>usa</td>\n",
       "      <td>ford torino</td>\n",
       "    </tr>\n",
       "  </tbody>\n",
       "</table>\n",
       "</div>"
      ],
      "text/plain": [
       "    mpg  cylinders  displacement  horsepower  weight  acceleration  \\\n",
       "0  18.0          8         307.0       130.0    3504          12.0   \n",
       "1  15.0          8         350.0       165.0    3693          11.5   \n",
       "2  18.0          8         318.0       150.0    3436          11.0   \n",
       "3  16.0          8         304.0       150.0    3433          12.0   \n",
       "4  17.0          8         302.0       140.0    3449          10.5   \n",
       "\n",
       "   model_year origin                       name  \n",
       "0          70    usa  chevrolet chevelle malibu  \n",
       "1          70    usa          buick skylark 320  \n",
       "2          70    usa         plymouth satellite  \n",
       "3          70    usa              amc rebel sst  \n",
       "4          70    usa                ford torino  "
      ]
     },
     "execution_count": 2,
     "metadata": {},
     "output_type": "execute_result"
    }
   ],
   "source": [
    "# Load in data.\n",
    "df = sns.load_dataset('mpg')\n",
    "df.head()"
   ]
  },
  {
   "cell_type": "code",
   "execution_count": 3,
   "id": "a6ec17a9",
   "metadata": {
    "ExecuteTime": {
     "end_time": "2021-09-23T23:34:28.823956Z",
     "start_time": "2021-09-23T23:34:28.813398Z"
    }
   },
   "outputs": [
    {
     "name": "stdout",
     "output_type": "stream",
     "text": [
      "<class 'pandas.core.frame.DataFrame'>\n",
      "RangeIndex: 398 entries, 0 to 397\n",
      "Data columns (total 9 columns):\n",
      " #   Column        Non-Null Count  Dtype  \n",
      "---  ------        --------------  -----  \n",
      " 0   mpg           398 non-null    float64\n",
      " 1   cylinders     398 non-null    int64  \n",
      " 2   displacement  398 non-null    float64\n",
      " 3   horsepower    392 non-null    float64\n",
      " 4   weight        398 non-null    int64  \n",
      " 5   acceleration  398 non-null    float64\n",
      " 6   model_year    398 non-null    int64  \n",
      " 7   origin        398 non-null    object \n",
      " 8   name          398 non-null    object \n",
      "dtypes: float64(4), int64(3), object(2)\n",
      "memory usage: 28.1+ KB\n"
     ]
    }
   ],
   "source": [
    "df.info()"
   ]
  },
  {
   "cell_type": "code",
   "execution_count": 4,
   "id": "1b9be44a",
   "metadata": {
    "ExecuteTime": {
     "end_time": "2021-09-23T23:34:28.839293Z",
     "start_time": "2021-09-23T23:34:28.825700Z"
    }
   },
   "outputs": [
    {
     "name": "stdout",
     "output_type": "stream",
     "text": [
      "<class 'pandas.core.frame.DataFrame'>\n",
      "Int64Index: 392 entries, 0 to 397\n",
      "Data columns (total 9 columns):\n",
      " #   Column        Non-Null Count  Dtype  \n",
      "---  ------        --------------  -----  \n",
      " 0   mpg           392 non-null    float64\n",
      " 1   cylinders     392 non-null    int64  \n",
      " 2   displacement  392 non-null    float64\n",
      " 3   horsepower    392 non-null    float64\n",
      " 4   weight        392 non-null    int64  \n",
      " 5   acceleration  392 non-null    float64\n",
      " 6   model_year    392 non-null    int64  \n",
      " 7   origin        392 non-null    object \n",
      " 8   name          392 non-null    object \n",
      "dtypes: float64(4), int64(3), object(2)\n",
      "memory usage: 30.6+ KB\n"
     ]
    }
   ],
   "source": [
    "# Remove missing values. (Quick and dirty for demo.)\n",
    "df.dropna(inplace=True)\n",
    "df.reset_index(drop=True)\n",
    "df.info()"
   ]
  },
  {
   "cell_type": "code",
   "execution_count": 5,
   "id": "7734beb8",
   "metadata": {
    "ExecuteTime": {
     "end_time": "2021-09-23T23:34:28.859836Z",
     "start_time": "2021-09-23T23:34:28.844033Z"
    }
   },
   "outputs": [
    {
     "data": {
      "text/html": [
       "<div>\n",
       "<style scoped>\n",
       "    .dataframe tbody tr th:only-of-type {\n",
       "        vertical-align: middle;\n",
       "    }\n",
       "\n",
       "    .dataframe tbody tr th {\n",
       "        vertical-align: top;\n",
       "    }\n",
       "\n",
       "    .dataframe thead th {\n",
       "        text-align: right;\n",
       "    }\n",
       "</style>\n",
       "<table border=\"1\" class=\"dataframe\">\n",
       "  <thead>\n",
       "    <tr style=\"text-align: right;\">\n",
       "      <th></th>\n",
       "      <th>mpg</th>\n",
       "      <th>cylinders</th>\n",
       "      <th>displacement</th>\n",
       "      <th>horsepower</th>\n",
       "      <th>weight</th>\n",
       "      <th>acceleration</th>\n",
       "      <th>model_year</th>\n",
       "      <th>origin</th>\n",
       "    </tr>\n",
       "  </thead>\n",
       "  <tbody>\n",
       "    <tr>\n",
       "      <th>0</th>\n",
       "      <td>18.0</td>\n",
       "      <td>8</td>\n",
       "      <td>307.0</td>\n",
       "      <td>130.0</td>\n",
       "      <td>3504</td>\n",
       "      <td>12.0</td>\n",
       "      <td>70</td>\n",
       "      <td>usa</td>\n",
       "    </tr>\n",
       "    <tr>\n",
       "      <th>1</th>\n",
       "      <td>15.0</td>\n",
       "      <td>8</td>\n",
       "      <td>350.0</td>\n",
       "      <td>165.0</td>\n",
       "      <td>3693</td>\n",
       "      <td>11.5</td>\n",
       "      <td>70</td>\n",
       "      <td>usa</td>\n",
       "    </tr>\n",
       "    <tr>\n",
       "      <th>2</th>\n",
       "      <td>18.0</td>\n",
       "      <td>8</td>\n",
       "      <td>318.0</td>\n",
       "      <td>150.0</td>\n",
       "      <td>3436</td>\n",
       "      <td>11.0</td>\n",
       "      <td>70</td>\n",
       "      <td>usa</td>\n",
       "    </tr>\n",
       "    <tr>\n",
       "      <th>3</th>\n",
       "      <td>16.0</td>\n",
       "      <td>8</td>\n",
       "      <td>304.0</td>\n",
       "      <td>150.0</td>\n",
       "      <td>3433</td>\n",
       "      <td>12.0</td>\n",
       "      <td>70</td>\n",
       "      <td>usa</td>\n",
       "    </tr>\n",
       "    <tr>\n",
       "      <th>4</th>\n",
       "      <td>17.0</td>\n",
       "      <td>8</td>\n",
       "      <td>302.0</td>\n",
       "      <td>140.0</td>\n",
       "      <td>3449</td>\n",
       "      <td>10.5</td>\n",
       "      <td>70</td>\n",
       "      <td>usa</td>\n",
       "    </tr>\n",
       "  </tbody>\n",
       "</table>\n",
       "</div>"
      ],
      "text/plain": [
       "    mpg  cylinders  displacement  horsepower  weight  acceleration  \\\n",
       "0  18.0          8         307.0       130.0    3504          12.0   \n",
       "1  15.0          8         350.0       165.0    3693          11.5   \n",
       "2  18.0          8         318.0       150.0    3436          11.0   \n",
       "3  16.0          8         304.0       150.0    3433          12.0   \n",
       "4  17.0          8         302.0       140.0    3449          10.5   \n",
       "\n",
       "   model_year origin  \n",
       "0          70    usa  \n",
       "1          70    usa  \n",
       "2          70    usa  \n",
       "3          70    usa  \n",
       "4          70    usa  "
      ]
     },
     "execution_count": 5,
     "metadata": {},
     "output_type": "execute_result"
    }
   ],
   "source": [
    "# Remove `name` column.\n",
    "if 'name' in df.columns:\n",
    "    df.drop('name', axis=1, inplace=True)\n",
    "df.head()"
   ]
  },
  {
   "cell_type": "code",
   "execution_count": 6,
   "id": "e9299a8d",
   "metadata": {
    "ExecuteTime": {
     "end_time": "2021-09-23T23:34:28.870768Z",
     "start_time": "2021-09-23T23:34:28.863989Z"
    }
   },
   "outputs": [
    {
     "data": {
      "text/plain": [
       "((392, 7), (392,))"
      ]
     },
     "execution_count": 6,
     "metadata": {},
     "output_type": "execute_result"
    }
   ],
   "source": [
    "# Separate independant variables from dependant variable.\n",
    "X = df.drop('mpg', axis=1)\n",
    "y = df['mpg']\n",
    "X.shape, y.shape"
   ]
  },
  {
   "cell_type": "markdown",
   "id": "19c6de95",
   "metadata": {},
   "source": [
    "## 1. Use `sklearn.model_selection.train_test_split`"
   ]
  },
  {
   "cell_type": "code",
   "execution_count": 7,
   "id": "c53cfd9e",
   "metadata": {
    "ExecuteTime": {
     "end_time": "2021-09-23T23:34:28.880424Z",
     "start_time": "2021-09-23T23:34:28.873191Z"
    }
   },
   "outputs": [
    {
     "data": {
      "text/plain": [
       "((294, 7), (98, 7), (294,), (98,))"
      ]
     },
     "execution_count": 7,
     "metadata": {},
     "output_type": "execute_result"
    }
   ],
   "source": [
    "X_train, X_test, y_train, y_test = train_test_split(X, y, random_state=51)\n",
    "\n",
    "X_train.shape, X_test.shape, y_train.shape, y_test.shape"
   ]
  },
  {
   "cell_type": "code",
   "execution_count": 8,
   "id": "d1007e5f",
   "metadata": {
    "ExecuteTime": {
     "end_time": "2021-09-23T23:34:28.899319Z",
     "start_time": "2021-09-23T23:34:28.883665Z"
    }
   },
   "outputs": [
    {
     "data": {
      "text/html": [
       "<div>\n",
       "<style scoped>\n",
       "    .dataframe tbody tr th:only-of-type {\n",
       "        vertical-align: middle;\n",
       "    }\n",
       "\n",
       "    .dataframe tbody tr th {\n",
       "        vertical-align: top;\n",
       "    }\n",
       "\n",
       "    .dataframe thead th {\n",
       "        text-align: right;\n",
       "    }\n",
       "</style>\n",
       "<table border=\"1\" class=\"dataframe\">\n",
       "  <thead>\n",
       "    <tr style=\"text-align: right;\">\n",
       "      <th></th>\n",
       "      <th>cylinders</th>\n",
       "      <th>displacement</th>\n",
       "      <th>horsepower</th>\n",
       "      <th>weight</th>\n",
       "      <th>acceleration</th>\n",
       "      <th>model_year</th>\n",
       "      <th>origin</th>\n",
       "    </tr>\n",
       "  </thead>\n",
       "  <tbody>\n",
       "    <tr>\n",
       "      <th>262</th>\n",
       "      <td>8</td>\n",
       "      <td>305.0</td>\n",
       "      <td>145.0</td>\n",
       "      <td>3425</td>\n",
       "      <td>13.2</td>\n",
       "      <td>78</td>\n",
       "      <td>usa</td>\n",
       "    </tr>\n",
       "    <tr>\n",
       "      <th>225</th>\n",
       "      <td>6</td>\n",
       "      <td>250.0</td>\n",
       "      <td>110.0</td>\n",
       "      <td>3520</td>\n",
       "      <td>16.4</td>\n",
       "      <td>77</td>\n",
       "      <td>usa</td>\n",
       "    </tr>\n",
       "    <tr>\n",
       "      <th>196</th>\n",
       "      <td>4</td>\n",
       "      <td>98.0</td>\n",
       "      <td>60.0</td>\n",
       "      <td>2164</td>\n",
       "      <td>22.1</td>\n",
       "      <td>76</td>\n",
       "      <td>usa</td>\n",
       "    </tr>\n",
       "    <tr>\n",
       "      <th>46</th>\n",
       "      <td>4</td>\n",
       "      <td>140.0</td>\n",
       "      <td>72.0</td>\n",
       "      <td>2408</td>\n",
       "      <td>19.0</td>\n",
       "      <td>71</td>\n",
       "      <td>usa</td>\n",
       "    </tr>\n",
       "    <tr>\n",
       "      <th>291</th>\n",
       "      <td>8</td>\n",
       "      <td>267.0</td>\n",
       "      <td>125.0</td>\n",
       "      <td>3605</td>\n",
       "      <td>15.0</td>\n",
       "      <td>79</td>\n",
       "      <td>usa</td>\n",
       "    </tr>\n",
       "  </tbody>\n",
       "</table>\n",
       "</div>"
      ],
      "text/plain": [
       "     cylinders  displacement  horsepower  weight  acceleration  model_year  \\\n",
       "262          8         305.0       145.0    3425          13.2          78   \n",
       "225          6         250.0       110.0    3520          16.4          77   \n",
       "196          4          98.0        60.0    2164          22.1          76   \n",
       "46           4         140.0        72.0    2408          19.0          71   \n",
       "291          8         267.0       125.0    3605          15.0          79   \n",
       "\n",
       "    origin  \n",
       "262    usa  \n",
       "225    usa  \n",
       "196    usa  \n",
       "46     usa  \n",
       "291    usa  "
      ]
     },
     "execution_count": 8,
     "metadata": {},
     "output_type": "execute_result"
    }
   ],
   "source": [
    "X_train.head()"
   ]
  },
  {
   "cell_type": "code",
   "execution_count": 9,
   "id": "4b196035",
   "metadata": {
    "ExecuteTime": {
     "end_time": "2021-09-23T23:34:28.908271Z",
     "start_time": "2021-09-23T23:34:28.901791Z"
    }
   },
   "outputs": [
    {
     "data": {
      "text/plain": [
       "262    19.2\n",
       "225    17.5\n",
       "196    24.5\n",
       "46     22.0\n",
       "291    19.2\n",
       "Name: mpg, dtype: float64"
      ]
     },
     "execution_count": 9,
     "metadata": {},
     "output_type": "execute_result"
    }
   ],
   "source": [
    "y_train.head()"
   ]
  },
  {
   "cell_type": "markdown",
   "id": "8e0ea89c",
   "metadata": {},
   "source": [
    "### 1.a OHE / StandardScaler at THIS step"
   ]
  },
  {
   "cell_type": "code",
   "execution_count": 10,
   "id": "8f1cdd65",
   "metadata": {
    "ExecuteTime": {
     "end_time": "2021-09-23T23:34:28.914321Z",
     "start_time": "2021-09-23T23:34:28.911204Z"
    }
   },
   "outputs": [],
   "source": [
    "from sklearn.preprocessing import StandardScaler, OneHotEncoder"
   ]
  },
  {
   "cell_type": "code",
   "execution_count": 11,
   "id": "6c1b5ee5",
   "metadata": {
    "ExecuteTime": {
     "end_time": "2021-09-23T23:34:28.926462Z",
     "start_time": "2021-09-23T23:34:28.917020Z"
    }
   },
   "outputs": [
    {
     "data": {
      "text/plain": [
       "(Index(['cylinders', 'displacement', 'horsepower', 'weight', 'acceleration',\n",
       "        'model_year'],\n",
       "       dtype='object'),\n",
       " Index(['origin'], dtype='object'))"
      ]
     },
     "execution_count": 11,
     "metadata": {},
     "output_type": "execute_result"
    }
   ],
   "source": [
    "# Splitting out numeric / categorical columns.\n",
    "### Eventually we will learn to do this type of processing in a Pipeline.\n",
    "num_cols = X_train.select_dtypes('number').columns\n",
    "cat_cols = X_train.select_dtypes('object').columns\n",
    "num_cols, cat_cols"
   ]
  },
  {
   "cell_type": "markdown",
   "id": "e5c1a132",
   "metadata": {},
   "source": [
    "#### OHE"
   ]
  },
  {
   "cell_type": "code",
   "execution_count": 12,
   "id": "67c8a956",
   "metadata": {
    "ExecuteTime": {
     "end_time": "2021-09-23T23:34:28.932297Z",
     "start_time": "2021-09-23T23:34:28.928877Z"
    }
   },
   "outputs": [],
   "source": [
    "# One-hot-encode `origin`.\n",
    "ohe = OneHotEncoder(drop='first', sparse=False)"
   ]
  },
  {
   "cell_type": "code",
   "execution_count": 13,
   "id": "b5337ab1",
   "metadata": {
    "ExecuteTime": {
     "end_time": "2021-09-23T23:34:28.949776Z",
     "start_time": "2021-09-23T23:34:28.935107Z"
    }
   },
   "outputs": [
    {
     "data": {
      "text/plain": [
       "array([[0., 1.],\n",
       "       [0., 1.],\n",
       "       [0., 1.],\n",
       "       [0., 1.],\n",
       "       [0., 1.],\n",
       "       [1., 0.],\n",
       "       [1., 0.],\n",
       "       [0., 1.],\n",
       "       [0., 0.],\n",
       "       [0., 0.],\n",
       "       [0., 1.],\n",
       "       [0., 1.],\n",
       "       [0., 1.],\n",
       "       [1., 0.],\n",
       "       [0., 0.],\n",
       "       [1., 0.],\n",
       "       [0., 0.],\n",
       "       [0., 0.],\n",
       "       [1., 0.],\n",
       "       [0., 1.],\n",
       "       [0., 1.],\n",
       "       [0., 1.],\n",
       "       [0., 1.],\n",
       "       [1., 0.],\n",
       "       [0., 1.],\n",
       "       [0., 1.],\n",
       "       [0., 0.],\n",
       "       [1., 0.],\n",
       "       [0., 1.],\n",
       "       [0., 1.],\n",
       "       [0., 1.],\n",
       "       [0., 1.],\n",
       "       [0., 1.],\n",
       "       [1., 0.],\n",
       "       [1., 0.],\n",
       "       [1., 0.],\n",
       "       [1., 0.],\n",
       "       [0., 0.],\n",
       "       [0., 1.],\n",
       "       [0., 1.],\n",
       "       [0., 0.],\n",
       "       [0., 1.],\n",
       "       [0., 1.],\n",
       "       [0., 0.],\n",
       "       [0., 1.],\n",
       "       [0., 1.],\n",
       "       [1., 0.],\n",
       "       [0., 1.],\n",
       "       [1., 0.],\n",
       "       [0., 1.],\n",
       "       [1., 0.],\n",
       "       [0., 0.],\n",
       "       [0., 1.],\n",
       "       [0., 1.],\n",
       "       [0., 0.],\n",
       "       [0., 1.],\n",
       "       [0., 0.],\n",
       "       [0., 1.],\n",
       "       [0., 1.],\n",
       "       [1., 0.],\n",
       "       [0., 1.],\n",
       "       [0., 0.],\n",
       "       [0., 1.],\n",
       "       [1., 0.],\n",
       "       [0., 1.],\n",
       "       [0., 1.],\n",
       "       [0., 1.],\n",
       "       [1., 0.],\n",
       "       [0., 1.],\n",
       "       [1., 0.],\n",
       "       [0., 1.],\n",
       "       [1., 0.],\n",
       "       [0., 1.],\n",
       "       [0., 0.],\n",
       "       [0., 1.],\n",
       "       [1., 0.],\n",
       "       [0., 1.],\n",
       "       [0., 1.],\n",
       "       [1., 0.],\n",
       "       [0., 1.],\n",
       "       [0., 1.],\n",
       "       [0., 0.],\n",
       "       [0., 1.],\n",
       "       [0., 1.],\n",
       "       [0., 1.],\n",
       "       [0., 1.],\n",
       "       [0., 1.],\n",
       "       [0., 0.],\n",
       "       [0., 1.],\n",
       "       [0., 1.],\n",
       "       [0., 1.],\n",
       "       [0., 1.],\n",
       "       [0., 0.],\n",
       "       [0., 0.],\n",
       "       [0., 1.],\n",
       "       [0., 1.],\n",
       "       [0., 1.],\n",
       "       [0., 1.],\n",
       "       [0., 1.],\n",
       "       [0., 1.],\n",
       "       [0., 1.],\n",
       "       [0., 1.],\n",
       "       [0., 0.],\n",
       "       [0., 1.],\n",
       "       [1., 0.],\n",
       "       [0., 1.],\n",
       "       [1., 0.],\n",
       "       [0., 1.],\n",
       "       [1., 0.],\n",
       "       [0., 1.],\n",
       "       [0., 1.],\n",
       "       [0., 1.],\n",
       "       [1., 0.],\n",
       "       [0., 1.],\n",
       "       [1., 0.],\n",
       "       [0., 1.],\n",
       "       [0., 1.],\n",
       "       [0., 0.],\n",
       "       [0., 0.],\n",
       "       [0., 0.],\n",
       "       [0., 1.],\n",
       "       [1., 0.],\n",
       "       [0., 0.],\n",
       "       [0., 1.],\n",
       "       [1., 0.],\n",
       "       [0., 1.],\n",
       "       [0., 1.],\n",
       "       [0., 1.],\n",
       "       [0., 1.],\n",
       "       [1., 0.],\n",
       "       [0., 1.],\n",
       "       [1., 0.],\n",
       "       [0., 1.],\n",
       "       [0., 1.],\n",
       "       [0., 1.],\n",
       "       [0., 1.],\n",
       "       [1., 0.],\n",
       "       [0., 0.],\n",
       "       [1., 0.],\n",
       "       [0., 0.],\n",
       "       [1., 0.],\n",
       "       [0., 1.],\n",
       "       [0., 1.],\n",
       "       [0., 0.],\n",
       "       [0., 1.],\n",
       "       [0., 0.],\n",
       "       [0., 1.],\n",
       "       [0., 1.],\n",
       "       [0., 0.],\n",
       "       [1., 0.],\n",
       "       [0., 1.],\n",
       "       [1., 0.],\n",
       "       [0., 1.],\n",
       "       [0., 1.],\n",
       "       [1., 0.],\n",
       "       [0., 0.],\n",
       "       [0., 1.],\n",
       "       [0., 1.],\n",
       "       [0., 1.],\n",
       "       [0., 1.],\n",
       "       [1., 0.],\n",
       "       [0., 0.],\n",
       "       [0., 0.],\n",
       "       [0., 0.],\n",
       "       [0., 1.],\n",
       "       [0., 1.],\n",
       "       [0., 1.],\n",
       "       [0., 1.],\n",
       "       [0., 1.],\n",
       "       [0., 1.],\n",
       "       [0., 1.],\n",
       "       [0., 1.],\n",
       "       [0., 1.],\n",
       "       [0., 1.],\n",
       "       [1., 0.],\n",
       "       [0., 1.],\n",
       "       [0., 1.],\n",
       "       [0., 0.],\n",
       "       [1., 0.],\n",
       "       [0., 0.],\n",
       "       [0., 1.],\n",
       "       [0., 0.],\n",
       "       [0., 1.],\n",
       "       [1., 0.],\n",
       "       [0., 1.],\n",
       "       [0., 0.],\n",
       "       [0., 1.],\n",
       "       [1., 0.],\n",
       "       [0., 1.],\n",
       "       [0., 1.],\n",
       "       [1., 0.],\n",
       "       [1., 0.],\n",
       "       [0., 1.],\n",
       "       [0., 1.],\n",
       "       [0., 1.],\n",
       "       [0., 1.],\n",
       "       [0., 1.],\n",
       "       [0., 0.],\n",
       "       [0., 0.],\n",
       "       [1., 0.],\n",
       "       [0., 1.],\n",
       "       [0., 0.],\n",
       "       [0., 1.],\n",
       "       [0., 1.],\n",
       "       [0., 0.],\n",
       "       [0., 1.],\n",
       "       [0., 1.],\n",
       "       [0., 1.],\n",
       "       [0., 1.],\n",
       "       [0., 1.],\n",
       "       [0., 1.],\n",
       "       [0., 0.],\n",
       "       [1., 0.],\n",
       "       [0., 1.],\n",
       "       [0., 1.],\n",
       "       [1., 0.],\n",
       "       [0., 1.],\n",
       "       [0., 1.],\n",
       "       [1., 0.],\n",
       "       [0., 1.],\n",
       "       [0., 1.],\n",
       "       [0., 1.],\n",
       "       [1., 0.],\n",
       "       [0., 1.],\n",
       "       [0., 1.],\n",
       "       [0., 0.],\n",
       "       [0., 0.],\n",
       "       [0., 1.],\n",
       "       [0., 1.],\n",
       "       [1., 0.],\n",
       "       [0., 1.],\n",
       "       [0., 0.],\n",
       "       [0., 1.],\n",
       "       [0., 1.],\n",
       "       [1., 0.],\n",
       "       [1., 0.],\n",
       "       [0., 1.],\n",
       "       [0., 1.],\n",
       "       [0., 1.],\n",
       "       [0., 1.],\n",
       "       [0., 0.],\n",
       "       [1., 0.],\n",
       "       [1., 0.],\n",
       "       [1., 0.],\n",
       "       [0., 1.],\n",
       "       [0., 1.],\n",
       "       [1., 0.],\n",
       "       [0., 0.],\n",
       "       [0., 1.],\n",
       "       [0., 1.],\n",
       "       [1., 0.],\n",
       "       [0., 0.],\n",
       "       [0., 1.],\n",
       "       [0., 1.],\n",
       "       [0., 1.],\n",
       "       [0., 1.],\n",
       "       [0., 1.],\n",
       "       [0., 1.],\n",
       "       [0., 1.],\n",
       "       [0., 1.],\n",
       "       [0., 1.],\n",
       "       [0., 1.],\n",
       "       [0., 1.],\n",
       "       [0., 0.],\n",
       "       [0., 0.],\n",
       "       [0., 1.],\n",
       "       [0., 0.],\n",
       "       [0., 1.],\n",
       "       [0., 0.],\n",
       "       [1., 0.],\n",
       "       [0., 0.],\n",
       "       [0., 0.],\n",
       "       [0., 1.],\n",
       "       [0., 1.],\n",
       "       [0., 1.],\n",
       "       [0., 1.],\n",
       "       [0., 1.],\n",
       "       [0., 1.],\n",
       "       [0., 1.],\n",
       "       [0., 1.],\n",
       "       [0., 1.],\n",
       "       [0., 1.],\n",
       "       [0., 1.],\n",
       "       [1., 0.],\n",
       "       [0., 1.],\n",
       "       [0., 1.],\n",
       "       [0., 1.],\n",
       "       [1., 0.],\n",
       "       [0., 1.],\n",
       "       [0., 1.],\n",
       "       [0., 1.],\n",
       "       [0., 1.],\n",
       "       [0., 1.],\n",
       "       [0., 1.]])"
      ]
     },
     "execution_count": 13,
     "metadata": {},
     "output_type": "execute_result"
    }
   ],
   "source": [
    "# Fit and transform the train-data.\n",
    "X_train_cat_processed = ohe.fit_transform(X_train[cat_cols])\n",
    "X_train_cat_processed"
   ]
  },
  {
   "cell_type": "code",
   "execution_count": 14,
   "id": "bbd2019d",
   "metadata": {
    "ExecuteTime": {
     "end_time": "2021-09-23T23:34:28.956767Z",
     "start_time": "2021-09-23T23:34:28.951880Z"
    }
   },
   "outputs": [],
   "source": [
    "# ONLY *transform* the test data.\n",
    "X_test_cat_processed = ohe.transform(X_test[cat_cols])"
   ]
  },
  {
   "cell_type": "code",
   "execution_count": 15,
   "id": "be3c1dd0",
   "metadata": {
    "ExecuteTime": {
     "end_time": "2021-09-23T23:34:28.963246Z",
     "start_time": "2021-09-23T23:34:28.959226Z"
    }
   },
   "outputs": [
    {
     "data": {
      "text/plain": [
       "array([[0., 1.],\n",
       "       [0., 1.],\n",
       "       [0., 1.],\n",
       "       [0., 1.],\n",
       "       [0., 1.]])"
      ]
     },
     "execution_count": 15,
     "metadata": {},
     "output_type": "execute_result"
    }
   ],
   "source": [
    "X_train_cat_processed[:5]"
   ]
  },
  {
   "cell_type": "code",
   "execution_count": 16,
   "id": "26bc1e72",
   "metadata": {
    "ExecuteTime": {
     "end_time": "2021-09-23T23:34:28.970278Z",
     "start_time": "2021-09-23T23:34:28.965439Z"
    }
   },
   "outputs": [
    {
     "data": {
      "text/plain": [
       "array(['origin_japan', 'origin_usa'], dtype=object)"
      ]
     },
     "execution_count": 16,
     "metadata": {},
     "output_type": "execute_result"
    }
   ],
   "source": [
    "# Get names of features.\n",
    "ohe_feature_names = ohe.get_feature_names(cat_cols)\n",
    "ohe_feature_names"
   ]
  },
  {
   "cell_type": "code",
   "execution_count": 17,
   "id": "18242cf8",
   "metadata": {
    "ExecuteTime": {
     "end_time": "2021-09-23T23:34:28.982537Z",
     "start_time": "2021-09-23T23:34:28.972175Z"
    }
   },
   "outputs": [
    {
     "data": {
      "text/html": [
       "<div>\n",
       "<style scoped>\n",
       "    .dataframe tbody tr th:only-of-type {\n",
       "        vertical-align: middle;\n",
       "    }\n",
       "\n",
       "    .dataframe tbody tr th {\n",
       "        vertical-align: top;\n",
       "    }\n",
       "\n",
       "    .dataframe thead th {\n",
       "        text-align: right;\n",
       "    }\n",
       "</style>\n",
       "<table border=\"1\" class=\"dataframe\">\n",
       "  <thead>\n",
       "    <tr style=\"text-align: right;\">\n",
       "      <th></th>\n",
       "      <th>origin_japan</th>\n",
       "      <th>origin_usa</th>\n",
       "    </tr>\n",
       "  </thead>\n",
       "  <tbody>\n",
       "    <tr>\n",
       "      <th>0</th>\n",
       "      <td>0.0</td>\n",
       "      <td>1.0</td>\n",
       "    </tr>\n",
       "    <tr>\n",
       "      <th>1</th>\n",
       "      <td>0.0</td>\n",
       "      <td>1.0</td>\n",
       "    </tr>\n",
       "    <tr>\n",
       "      <th>2</th>\n",
       "      <td>0.0</td>\n",
       "      <td>1.0</td>\n",
       "    </tr>\n",
       "    <tr>\n",
       "      <th>3</th>\n",
       "      <td>0.0</td>\n",
       "      <td>1.0</td>\n",
       "    </tr>\n",
       "    <tr>\n",
       "      <th>4</th>\n",
       "      <td>0.0</td>\n",
       "      <td>1.0</td>\n",
       "    </tr>\n",
       "  </tbody>\n",
       "</table>\n",
       "</div>"
      ],
      "text/plain": [
       "   origin_japan  origin_usa\n",
       "0           0.0         1.0\n",
       "1           0.0         1.0\n",
       "2           0.0         1.0\n",
       "3           0.0         1.0\n",
       "4           0.0         1.0"
      ]
     },
     "execution_count": 17,
     "metadata": {},
     "output_type": "execute_result"
    }
   ],
   "source": [
    "# Transform to dataframes.\n",
    "X_train_cat_processed = pd.DataFrame(\n",
    "    X_train_cat_processed, \n",
    "    columns=ohe_feature_names\n",
    "    )\n",
    "X_test_cat_processed = pd.DataFrame(\n",
    "    X_test_cat_processed, \n",
    "    columns=ohe_feature_names\n",
    "    )\n",
    "\n",
    "X_train_cat_processed.head()"
   ]
  },
  {
   "cell_type": "markdown",
   "id": "1494d5b2",
   "metadata": {},
   "source": [
    "#### StandardScaler"
   ]
  },
  {
   "cell_type": "code",
   "execution_count": 18,
   "id": "36b30880",
   "metadata": {
    "ExecuteTime": {
     "end_time": "2021-09-23T23:34:29.008433Z",
     "start_time": "2021-09-23T23:34:28.985495Z"
    }
   },
   "outputs": [
    {
     "data": {
      "text/html": [
       "<div>\n",
       "<style scoped>\n",
       "    .dataframe tbody tr th:only-of-type {\n",
       "        vertical-align: middle;\n",
       "    }\n",
       "\n",
       "    .dataframe tbody tr th {\n",
       "        vertical-align: top;\n",
       "    }\n",
       "\n",
       "    .dataframe thead th {\n",
       "        text-align: right;\n",
       "    }\n",
       "</style>\n",
       "<table border=\"1\" class=\"dataframe\">\n",
       "  <thead>\n",
       "    <tr style=\"text-align: right;\">\n",
       "      <th></th>\n",
       "      <th>cylinders</th>\n",
       "      <th>displacement</th>\n",
       "      <th>horsepower</th>\n",
       "      <th>weight</th>\n",
       "      <th>acceleration</th>\n",
       "      <th>model_year</th>\n",
       "    </tr>\n",
       "  </thead>\n",
       "  <tbody>\n",
       "    <tr>\n",
       "      <th>0</th>\n",
       "      <td>1.471000</td>\n",
       "      <td>1.062604</td>\n",
       "      <td>1.045298</td>\n",
       "      <td>0.506526</td>\n",
       "      <td>-0.855822</td>\n",
       "      <td>0.575584</td>\n",
       "    </tr>\n",
       "    <tr>\n",
       "      <th>1</th>\n",
       "      <td>0.295799</td>\n",
       "      <td>0.534105</td>\n",
       "      <td>0.126286</td>\n",
       "      <td>0.617699</td>\n",
       "      <td>0.328407</td>\n",
       "      <td>0.303085</td>\n",
       "    </tr>\n",
       "    <tr>\n",
       "      <th>2</th>\n",
       "      <td>-0.879402</td>\n",
       "      <td>-0.926475</td>\n",
       "      <td>-1.186588</td>\n",
       "      <td>-0.969156</td>\n",
       "      <td>2.437814</td>\n",
       "      <td>0.030587</td>\n",
       "    </tr>\n",
       "    <tr>\n",
       "      <th>3</th>\n",
       "      <td>-0.879402</td>\n",
       "      <td>-0.522894</td>\n",
       "      <td>-0.871499</td>\n",
       "      <td>-0.683615</td>\n",
       "      <td>1.290593</td>\n",
       "      <td>-1.331908</td>\n",
       "    </tr>\n",
       "    <tr>\n",
       "      <th>4</th>\n",
       "      <td>1.471000</td>\n",
       "      <td>0.697459</td>\n",
       "      <td>0.520148</td>\n",
       "      <td>0.717170</td>\n",
       "      <td>-0.189693</td>\n",
       "      <td>0.848083</td>\n",
       "    </tr>\n",
       "  </tbody>\n",
       "</table>\n",
       "</div>"
      ],
      "text/plain": [
       "   cylinders  displacement  horsepower    weight  acceleration  model_year\n",
       "0   1.471000      1.062604    1.045298  0.506526     -0.855822    0.575584\n",
       "1   0.295799      0.534105    0.126286  0.617699      0.328407    0.303085\n",
       "2  -0.879402     -0.926475   -1.186588 -0.969156      2.437814    0.030587\n",
       "3  -0.879402     -0.522894   -0.871499 -0.683615      1.290593   -1.331908\n",
       "4   1.471000      0.697459    0.520148  0.717170     -0.189693    0.848083"
      ]
     },
     "execution_count": 18,
     "metadata": {},
     "output_type": "execute_result"
    }
   ],
   "source": [
    "# Scale numeric features.\n",
    "scaler = StandardScaler()\n",
    "X_train_num_processed = scaler.fit_transform(X_train[num_cols])\n",
    "X_test_num_processed = scaler.transform(X_test[num_cols])\n",
    "\n",
    "# Transform to dataframes.\n",
    "X_train_num_processed = pd.DataFrame(X_train_num_processed, columns=num_cols)\n",
    "X_test_num_processed = pd.DataFrame(X_test_num_processed, columns=num_cols)\n",
    "\n",
    "# Sanity check.\n",
    "X_train_num_processed.head()"
   ]
  },
  {
   "cell_type": "code",
   "execution_count": 19,
   "id": "68016e55",
   "metadata": {
    "ExecuteTime": {
     "end_time": "2021-09-23T23:34:29.016327Z",
     "start_time": "2021-09-23T23:34:29.010428Z"
    }
   },
   "outputs": [
    {
     "data": {
      "text/plain": [
       "((294, 8), (98, 8))"
      ]
     },
     "execution_count": 19,
     "metadata": {},
     "output_type": "execute_result"
    }
   ],
   "source": [
    "# Combine processed data.\n",
    "X_train_processed = pd.concat(\n",
    "    [X_train_num_processed, X_train_cat_processed], \n",
    "    axis=1\n",
    "    )\n",
    "X_test_processed = pd.concat(\n",
    "    [X_test_num_processed, X_test_cat_processed], \n",
    "    axis=1\n",
    "    )\n",
    "\n",
    "X_train_processed.shape, X_test_processed.shape"
   ]
  },
  {
   "cell_type": "code",
   "execution_count": 20,
   "id": "fb7a9045",
   "metadata": {
    "ExecuteTime": {
     "end_time": "2021-09-23T23:34:29.032422Z",
     "start_time": "2021-09-23T23:34:29.018771Z"
    }
   },
   "outputs": [
    {
     "data": {
      "text/html": [
       "<div>\n",
       "<style scoped>\n",
       "    .dataframe tbody tr th:only-of-type {\n",
       "        vertical-align: middle;\n",
       "    }\n",
       "\n",
       "    .dataframe tbody tr th {\n",
       "        vertical-align: top;\n",
       "    }\n",
       "\n",
       "    .dataframe thead th {\n",
       "        text-align: right;\n",
       "    }\n",
       "</style>\n",
       "<table border=\"1\" class=\"dataframe\">\n",
       "  <thead>\n",
       "    <tr style=\"text-align: right;\">\n",
       "      <th></th>\n",
       "      <th>cylinders</th>\n",
       "      <th>displacement</th>\n",
       "      <th>horsepower</th>\n",
       "      <th>weight</th>\n",
       "      <th>acceleration</th>\n",
       "      <th>model_year</th>\n",
       "      <th>origin_japan</th>\n",
       "      <th>origin_usa</th>\n",
       "    </tr>\n",
       "  </thead>\n",
       "  <tbody>\n",
       "    <tr>\n",
       "      <th>0</th>\n",
       "      <td>1.471000</td>\n",
       "      <td>1.062604</td>\n",
       "      <td>1.045298</td>\n",
       "      <td>0.506526</td>\n",
       "      <td>-0.855822</td>\n",
       "      <td>0.575584</td>\n",
       "      <td>0.0</td>\n",
       "      <td>1.0</td>\n",
       "    </tr>\n",
       "    <tr>\n",
       "      <th>1</th>\n",
       "      <td>0.295799</td>\n",
       "      <td>0.534105</td>\n",
       "      <td>0.126286</td>\n",
       "      <td>0.617699</td>\n",
       "      <td>0.328407</td>\n",
       "      <td>0.303085</td>\n",
       "      <td>0.0</td>\n",
       "      <td>1.0</td>\n",
       "    </tr>\n",
       "    <tr>\n",
       "      <th>2</th>\n",
       "      <td>-0.879402</td>\n",
       "      <td>-0.926475</td>\n",
       "      <td>-1.186588</td>\n",
       "      <td>-0.969156</td>\n",
       "      <td>2.437814</td>\n",
       "      <td>0.030587</td>\n",
       "      <td>0.0</td>\n",
       "      <td>1.0</td>\n",
       "    </tr>\n",
       "    <tr>\n",
       "      <th>3</th>\n",
       "      <td>-0.879402</td>\n",
       "      <td>-0.522894</td>\n",
       "      <td>-0.871499</td>\n",
       "      <td>-0.683615</td>\n",
       "      <td>1.290593</td>\n",
       "      <td>-1.331908</td>\n",
       "      <td>0.0</td>\n",
       "      <td>1.0</td>\n",
       "    </tr>\n",
       "    <tr>\n",
       "      <th>4</th>\n",
       "      <td>1.471000</td>\n",
       "      <td>0.697459</td>\n",
       "      <td>0.520148</td>\n",
       "      <td>0.717170</td>\n",
       "      <td>-0.189693</td>\n",
       "      <td>0.848083</td>\n",
       "      <td>0.0</td>\n",
       "      <td>1.0</td>\n",
       "    </tr>\n",
       "  </tbody>\n",
       "</table>\n",
       "</div>"
      ],
      "text/plain": [
       "   cylinders  displacement  horsepower    weight  acceleration  model_year  \\\n",
       "0   1.471000      1.062604    1.045298  0.506526     -0.855822    0.575584   \n",
       "1   0.295799      0.534105    0.126286  0.617699      0.328407    0.303085   \n",
       "2  -0.879402     -0.926475   -1.186588 -0.969156      2.437814    0.030587   \n",
       "3  -0.879402     -0.522894   -0.871499 -0.683615      1.290593   -1.331908   \n",
       "4   1.471000      0.697459    0.520148  0.717170     -0.189693    0.848083   \n",
       "\n",
       "   origin_japan  origin_usa  \n",
       "0           0.0         1.0  \n",
       "1           0.0         1.0  \n",
       "2           0.0         1.0  \n",
       "3           0.0         1.0  \n",
       "4           0.0         1.0  "
      ]
     },
     "execution_count": 20,
     "metadata": {},
     "output_type": "execute_result"
    }
   ],
   "source": [
    "X_train_processed.head()"
   ]
  },
  {
   "cell_type": "markdown",
   "id": "e364b99d",
   "metadata": {},
   "source": [
    "## 2. Train the model with the training data."
   ]
  },
  {
   "cell_type": "code",
   "execution_count": 21,
   "id": "451f548a",
   "metadata": {
    "ExecuteTime": {
     "end_time": "2021-09-23T23:34:29.080241Z",
     "start_time": "2021-09-23T23:34:29.034399Z"
    }
   },
   "outputs": [],
   "source": [
    "from sklearn.linear_model import LinearRegression"
   ]
  },
  {
   "cell_type": "code",
   "execution_count": 22,
   "id": "43a30dd3",
   "metadata": {
    "ExecuteTime": {
     "end_time": "2021-09-23T23:34:29.095298Z",
     "start_time": "2021-09-23T23:34:29.082162Z"
    }
   },
   "outputs": [
    {
     "data": {
      "text/plain": [
       "LinearRegression()"
      ]
     },
     "execution_count": 22,
     "metadata": {},
     "output_type": "execute_result"
    }
   ],
   "source": [
    "# Fit model with training data.\n",
    "linreg = LinearRegression()\n",
    "linreg.fit(X_train_processed, y_train)"
   ]
  },
  {
   "cell_type": "markdown",
   "id": "1f896fa7",
   "metadata": {},
   "source": [
    "## 3-4. Measure the metrics."
   ]
  },
  {
   "cell_type": "code",
   "execution_count": 23,
   "id": "a0b04f86",
   "metadata": {
    "ExecuteTime": {
     "end_time": "2021-09-23T23:34:29.101913Z",
     "start_time": "2021-09-23T23:34:29.098079Z"
    }
   },
   "outputs": [],
   "source": [
    "from sklearn.metrics import mean_absolute_error, mean_squared_error"
   ]
  },
  {
   "cell_type": "code",
   "execution_count": 24,
   "id": "75ef3118",
   "metadata": {
    "ExecuteTime": {
     "end_time": "2021-09-23T23:34:29.116312Z",
     "start_time": "2021-09-23T23:34:29.104993Z"
    },
    "scrolled": true
   },
   "outputs": [
    {
     "data": {
      "text/plain": [
       "array([21.42256543, 20.6776687 , 27.63855555, 22.64347483, 20.66848785,\n",
       "       25.74260592, 29.6292496 , 10.06006715, 21.64151512, 26.39958955,\n",
       "       24.00430516, 24.29825014, 27.53066682, 28.77581384, 23.51801407,\n",
       "       34.13164847, 32.10112502, 26.16800941, 30.59182401, 17.9049382 ,\n",
       "       15.91000026, 22.79621032, 12.99929159, 33.04584661, 12.73091908,\n",
       "       15.57843842, 27.44648953, 26.27634358,  6.82928281, 24.63216115,\n",
       "       18.11023053, 13.87986276, 17.91792526, 24.92316534, 26.75235768,\n",
       "       24.27277698, 28.70720159, 28.21235967, 19.61892422, 23.11081129,\n",
       "       24.81671991, 29.00859337, 11.16918493, 24.90161252, 15.3031023 ,\n",
       "        9.48222119, 35.4511456 , 18.99726819, 25.39217359, 14.28709491,\n",
       "       32.5402959 , 22.92593391, 16.62269204, 24.00741677, 34.24625134,\n",
       "       14.04920816, 22.08328612, 12.85416159, 17.23879848, 30.09767313,\n",
       "       10.57416453, 27.54146909, 28.8324349 , 30.2767007 , 28.37753371,\n",
       "       19.54040537, 12.20100132, 23.25042399, 29.08451269, 25.18706783,\n",
       "       10.05375159, 31.50631891, 20.73426317, 21.57618306, 24.9939579 ,\n",
       "       35.56216534, 22.43813368,  7.36769465, 25.61825607, 25.62798369,\n",
       "       14.97867619, 31.70187806, 17.26997329,  9.03715229, 11.63886561,\n",
       "       28.71829721, 16.96257355, 18.32319138, 25.25681599, 12.73417837,\n",
       "       10.28440137, 14.83280709, 26.58776466, 35.74115058, 30.5469109 ,\n",
       "       28.5300283 , 16.0831732 , 17.33708929, 15.55828666, 28.86610122,\n",
       "       13.37792226,  7.49622986, 33.31139189, 21.46782428, 35.69549854,\n",
       "       10.92869326, 27.32137479, 25.1467556 , 29.35848464, 24.34290787,\n",
       "       31.03123655, 30.6345435 , 33.23010813, 19.67925493, 31.76234831,\n",
       "       17.56440811, 20.50591849, 22.87421811, 33.32849529, 27.0468564 ,\n",
       "       21.16042969, 35.61429071, 35.810741  , 25.15057346, 24.0210381 ,\n",
       "       20.52646843, 21.00062164, 15.86388428, 17.71616182, 34.690772  ,\n",
       "       21.98346207, 33.07510164, 12.08734571, 23.83564098, 25.26707232,\n",
       "       20.56949821, 33.81506956, 32.79069224, 31.76514876, 24.91259281,\n",
       "       34.46160331, 16.87957448, 26.80208613, 30.75726848, 13.6129688 ,\n",
       "       30.00227947, 21.2013586 , 16.74915209, 27.78091779, 35.37281865,\n",
       "       28.52171326, 28.93915087, 22.67267884, 17.4428134 , 25.48629411,\n",
       "       23.25093201, 31.78661904, 14.91494447, 20.30270652, 21.72885752,\n",
       "       31.6628914 , 32.83501463, 26.20398639, 23.86626769,  6.09622351,\n",
       "       11.92445181, 22.04456957, 20.14354907, 21.42086636, 27.93850269,\n",
       "       27.98523073, 12.37957664, 23.43069787, 15.76954979, 26.28902103,\n",
       "       16.2438637 , 19.39046782, 29.64878439, 29.41124477, 32.49841038,\n",
       "       19.75785162, 27.52326725, 26.28897628, 28.123967  , 23.79754493,\n",
       "       31.70148215, 12.48756899, 32.57558013, 10.65029499, 22.82470127,\n",
       "       24.10902343, 32.23877866, 26.1291244 , 15.11284733, 29.65267758,\n",
       "       14.69467162, 25.28622339, 25.15308751, 29.08434336, 26.51305079,\n",
       "       28.83826689, 29.42981157, 17.71950577,  6.70894098, 27.84966212,\n",
       "       16.57384975, 22.91564692, 30.79393636, 15.00733053, 17.17845769,\n",
       "       10.07641616, 34.96984182, 33.15985188, 23.83339056, 20.79761068,\n",
       "       29.81396277, 12.62563026, 12.00045718, 26.62225011,  9.44305063,\n",
       "       13.3604966 , 18.95995493, 32.67271098, 28.10184868, 30.31376049,\n",
       "       22.1596862 , 26.94400478, 21.2751649 , 22.21708311, 34.38936313,\n",
       "       22.66832965, 32.15886486, 30.90593749, 15.340558  , 30.93017644,\n",
       "       36.24423246, 10.52384788, 13.54117615, 23.37197846, 14.83567775,\n",
       "       25.91184182, 30.11022288, 28.02590381, 25.51089192, 11.31136604,\n",
       "       13.60669013, 31.43233042, 26.94116561, 26.15935981, 11.62107076,\n",
       "       25.56568769, 27.76373932, 27.34427064, 20.72644107, 24.53377819,\n",
       "       16.3601365 , 20.07899775, 19.83151717, 21.33984508, 17.54598695,\n",
       "       25.35916885, 29.01289217, 24.46994396, 30.9433787 , 20.86567602,\n",
       "       22.82678394, 26.50849765, 28.40237054, 28.16889294, 34.20413731,\n",
       "       23.1549354 , 28.51642893, 24.35756224, 20.08359866, 25.86840101,\n",
       "       24.14541944, 10.56136086, 32.16557003, 26.61339545, 20.25049243,\n",
       "       21.03733452, 32.64528754,  5.48755288, 33.30541166, 23.60415945,\n",
       "       11.25599591, 29.82265409, 22.04915257, 24.20977298, 15.27635536,\n",
       "       19.09109206, 18.71918739, 20.97941302, 23.82016502])"
      ]
     },
     "execution_count": 24,
     "metadata": {},
     "output_type": "execute_result"
    }
   ],
   "source": [
    "linreg.predict(X_train_processed)"
   ]
  },
  {
   "cell_type": "code",
   "execution_count": 25,
   "id": "9502c00e",
   "metadata": {
    "ExecuteTime": {
     "end_time": "2021-09-23T23:34:29.128035Z",
     "start_time": "2021-09-23T23:34:29.118987Z"
    }
   },
   "outputs": [
    {
     "data": {
      "text/plain": [
       "2.471271144554307"
      ]
     },
     "execution_count": 25,
     "metadata": {},
     "output_type": "execute_result"
    }
   ],
   "source": [
    "# Single operation example.\n",
    "mean_absolute_error(y_train, linreg.predict(X_train_processed))"
   ]
  },
  {
   "cell_type": "code",
   "execution_count": 26,
   "id": "9b514c87",
   "metadata": {
    "ExecuteTime": {
     "end_time": "2021-09-23T23:34:29.137567Z",
     "start_time": "2021-09-23T23:34:29.130360Z"
    }
   },
   "outputs": [
    {
     "data": {
      "text/plain": [
       "0.8328560918186806"
      ]
     },
     "execution_count": 26,
     "metadata": {},
     "output_type": "execute_result"
    }
   ],
   "source": [
    "linreg.score(X_train_processed, y_train)"
   ]
  },
  {
   "cell_type": "code",
   "execution_count": 27,
   "id": "15b63192",
   "metadata": {
    "ExecuteTime": {
     "end_time": "2021-09-23T23:34:29.146334Z",
     "start_time": "2021-09-23T23:34:29.139802Z"
    }
   },
   "outputs": [
    {
     "data": {
      "text/plain": [
       "0.7923853265201815"
      ]
     },
     "execution_count": 27,
     "metadata": {},
     "output_type": "execute_result"
    }
   ],
   "source": [
    "linreg.score(X_test_processed, y_test)"
   ]
  },
  {
   "cell_type": "code",
   "execution_count": 28,
   "id": "7f8244f3",
   "metadata": {
    "ExecuteTime": {
     "end_time": "2021-09-23T23:34:29.160792Z",
     "start_time": "2021-09-23T23:34:29.148416Z"
    }
   },
   "outputs": [
    {
     "data": {
      "text/plain": [
       "{'train': {'mse': 10.322534571868092,\n",
       "  'mae': 2.471271144554307,\n",
       "  'rmse': 3.212870145503564},\n",
       " 'test': {'mse': 11.881078708555085,\n",
       "  'mae': 2.67803664857758,\n",
       "  'rmse': 3.4468940669180834}}"
      ]
     },
     "execution_count": 28,
     "metadata": {},
     "output_type": "execute_result"
    }
   ],
   "source": [
    "# Get predictions.\n",
    "y_train_pred = linreg.predict(X_train_processed)\n",
    "y_test_pred = linreg.predict(X_test_processed)\n",
    "\n",
    "# Get metrics. Store in a dictionary.\n",
    "metrics_dct = {}\n",
    "\n",
    "# Iterate over training and test predictions.\n",
    "for split, y_pred in [('train', y_train_pred), ('test', y_test_pred)]:\n",
    "    # Get appropriate y-values to compare to.\n",
    "    y_true = y_train.copy() if split == 'train' else y_test.copy()\n",
    "    \n",
    "    # Get metrics by comparing the true values to the predicted values.\n",
    "    mse = mean_squared_error(y_true, y_pred)\n",
    "    mae = mean_absolute_error(y_true, y_pred)\n",
    "    split_dct = {\n",
    "        'mse': mse,\n",
    "        'mae': mae,\n",
    "        'rmse': np.sqrt(mse)\n",
    "    }\n",
    "    metrics_dct[split] = split_dct\n",
    "    \n",
    "# Show results.\n",
    "metrics_dct"
   ]
  },
  {
   "cell_type": "markdown",
   "id": "8c77d712",
   "metadata": {},
   "source": [
    "## 5. Compare metrics."
   ]
  },
  {
   "cell_type": "code",
   "execution_count": 29,
   "id": "c6aebd75",
   "metadata": {
    "ExecuteTime": {
     "end_time": "2021-09-23T23:34:29.174257Z",
     "start_time": "2021-09-23T23:34:29.163737Z"
    }
   },
   "outputs": [
    {
     "data": {
      "text/html": [
       "<div>\n",
       "<style scoped>\n",
       "    .dataframe tbody tr th:only-of-type {\n",
       "        vertical-align: middle;\n",
       "    }\n",
       "\n",
       "    .dataframe tbody tr th {\n",
       "        vertical-align: top;\n",
       "    }\n",
       "\n",
       "    .dataframe thead th {\n",
       "        text-align: right;\n",
       "    }\n",
       "</style>\n",
       "<table border=\"1\" class=\"dataframe\">\n",
       "  <thead>\n",
       "    <tr style=\"text-align: right;\">\n",
       "      <th></th>\n",
       "      <th>train</th>\n",
       "      <th>test</th>\n",
       "    </tr>\n",
       "  </thead>\n",
       "  <tbody>\n",
       "    <tr>\n",
       "      <th>mse</th>\n",
       "      <td>10.322535</td>\n",
       "      <td>11.881079</td>\n",
       "    </tr>\n",
       "    <tr>\n",
       "      <th>mae</th>\n",
       "      <td>2.471271</td>\n",
       "      <td>2.678037</td>\n",
       "    </tr>\n",
       "    <tr>\n",
       "      <th>rmse</th>\n",
       "      <td>3.212870</td>\n",
       "      <td>3.446894</td>\n",
       "    </tr>\n",
       "  </tbody>\n",
       "</table>\n",
       "</div>"
      ],
      "text/plain": [
       "          train       test\n",
       "mse   10.322535  11.881079\n",
       "mae    2.471271   2.678037\n",
       "rmse   3.212870   3.446894"
      ]
     },
     "execution_count": 29,
     "metadata": {},
     "output_type": "execute_result"
    }
   ],
   "source": [
    "pd.DataFrame(metrics_dct)"
   ]
  },
  {
   "cell_type": "markdown",
   "id": "426991dd",
   "metadata": {},
   "source": [
    "# KFold Cross Validation\n",
    "<img src='images/kfold.png'>\n",
    "KFolds-CV is built on the same concept of the train-test-split (and performs the same cross-validation check), but folds the data $k$-times in order to achieve a more robust result to combat overfitting."
   ]
  },
  {
   "cell_type": "markdown",
   "id": "1539a514",
   "metadata": {},
   "source": [
    "## Practical Use"
   ]
  },
  {
   "cell_type": "code",
   "execution_count": 30,
   "id": "c28fc622",
   "metadata": {
    "ExecuteTime": {
     "end_time": "2021-09-23T23:34:29.179900Z",
     "start_time": "2021-09-23T23:34:29.176923Z"
    }
   },
   "outputs": [],
   "source": [
    "from sklearn.model_selection import cross_validate"
   ]
  },
  {
   "cell_type": "code",
   "execution_count": 31,
   "id": "19da56a7",
   "metadata": {
    "ExecuteTime": {
     "end_time": "2021-09-23T23:34:29.221818Z",
     "start_time": "2021-09-23T23:34:29.182614Z"
    }
   },
   "outputs": [
    {
     "data": {
      "text/plain": [
       "{'fit_time': array([0.00413108, 0.00305414, 0.00361609, 0.00281334, 0.00264692]),\n",
       " 'score_time': array([0.00406575, 0.00265694, 0.00250196, 0.00252867, 0.00279498]),\n",
       " 'test_r2': array([0.80268185, 0.87307597, 0.80070871, 0.7810437 , 0.7938275 ]),\n",
       " 'test_neg_mean_squared_error': array([-11.69724911,  -7.80836967, -14.34231814, -13.60523721,\n",
       "        -10.30720635])}"
      ]
     },
     "execution_count": 31,
     "metadata": {},
     "output_type": "execute_result"
    }
   ],
   "source": [
    "# Create model.\n",
    "linreg = LinearRegression()\n",
    "\n",
    "# Get CV scores.\n",
    "scores = cross_validate(\n",
    "    linreg, \n",
    "    X_train_processed, \n",
    "    y_train, \n",
    "    cv=5,\n",
    "    scoring=('r2', 'neg_mean_squared_error')\n",
    "    )\n",
    "scores"
   ]
  },
  {
   "cell_type": "code",
   "execution_count": 32,
   "id": "e9f9de51",
   "metadata": {
    "ExecuteTime": {
     "end_time": "2021-09-23T23:34:29.236101Z",
     "start_time": "2021-09-23T23:34:29.231057Z"
    }
   },
   "outputs": [
    {
     "data": {
      "text/plain": [
       "array([0.80268185, 0.87307597, 0.80070871, 0.7810437 , 0.7938275 ])"
      ]
     },
     "execution_count": 32,
     "metadata": {},
     "output_type": "execute_result"
    }
   ],
   "source": [
    "test_r2_score = scores['test_r2']\n",
    "test_r2_score"
   ]
  },
  {
   "cell_type": "code",
   "execution_count": 33,
   "id": "47002de9",
   "metadata": {
    "ExecuteTime": {
     "end_time": "2021-09-23T23:34:29.244518Z",
     "start_time": "2021-09-23T23:34:29.240171Z"
    }
   },
   "outputs": [
    {
     "data": {
      "text/plain": [
       "array([-11.69724911,  -7.80836967, -14.34231814, -13.60523721,\n",
       "       -10.30720635])"
      ]
     },
     "execution_count": 33,
     "metadata": {},
     "output_type": "execute_result"
    }
   ],
   "source": [
    "# Isolate scores.\n",
    "test_scores = scores['test_neg_mean_squared_error']\n",
    "test_scores"
   ]
  },
  {
   "cell_type": "code",
   "execution_count": null,
   "id": "6dc16655",
   "metadata": {},
   "outputs": [],
   "source": []
  }
 ],
 "metadata": {
  "kernelspec": {
   "display_name": "Python 3",
   "language": "python",
   "name": "python3"
  },
  "language_info": {
   "codemirror_mode": {
    "name": "ipython",
    "version": 3
   },
   "file_extension": ".py",
   "mimetype": "text/x-python",
   "name": "python",
   "nbconvert_exporter": "python",
   "pygments_lexer": "ipython3",
   "version": "3.6.9"
  },
  "toc": {
   "base_numbering": 1,
   "nav_menu": {},
   "number_sections": false,
   "sideBar": true,
   "skip_h1_title": false,
   "title_cell": "Table of Contents",
   "title_sidebar": "Contents",
   "toc_cell": false,
   "toc_position": {
    "height": "calc(100% - 180px)",
    "left": "10px",
    "top": "150px",
    "width": "256.094px"
   },
   "toc_section_display": true,
   "toc_window_display": true
  }
 },
 "nbformat": 4,
 "nbformat_minor": 5
}
