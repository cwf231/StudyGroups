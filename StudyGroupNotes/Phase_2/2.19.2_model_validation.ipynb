{
 "cells": [
  {
   "cell_type": "markdown",
   "id": "667cefdd",
   "metadata": {},
   "source": [
    "## Phase 2.19.2\n",
    "\n",
    "# Model Validation\n",
    "\n",
    "## Objectives\n",
    "- What is validation?\n",
    "- Why do we validate?\n",
    "\n",
    "\n",
    "- Linear model performance metrics\n",
    "\n",
    "\n",
    "- Methods of validation\n",
    "    - Train-Test Split\n",
    "    - K-Fold Cross Validation"
   ]
  },
  {
   "cell_type": "markdown",
   "id": "ee617192",
   "metadata": {},
   "source": [
    "# Model Validation\n",
    "When creating any model, the hope is that **you can train a model on this data that can then be used to make predictions about new data that comes in.** \n",
    "\n",
    "You want your model to generalize well and work on this incoming data - not too complex from learning all the details/noise from the data, but also not so simple that the model is useless. \n",
    "\n",
    "<img src='images/new_overfit_underfit.png'>\n",
    "\n",
    "Building generalizable model that is also useful in its predictions is possible because of **model validation**."
   ]
  },
  {
   "cell_type": "markdown",
   "id": "5ff6f147",
   "metadata": {},
   "source": [
    "# Linear Regression Metrics\n",
    "<img src='images/residuals.png'>\n",
    "\n",
    "## Mean Absolute Error\n",
    "- **MAE** is defined as the absolute value of the mean of the residuals.\n",
    "    - MAE is useful because it speaks in concrete figures about the average error in easily understandable units.\n",
    "        - \"*On average, how wrong is my model on each prediction that it makes?*\"\n",
    "\n",
    "## Mean Squared Error\n",
    "- **MSE** is defined as the mean of the sum of squares of the residuals. \n",
    "    - MSE is useful because it penalizes large residuals more than small ones.\n",
    "    \n",
    "## Root Mean Squared Error\n",
    "- **RMSE** is defined as the square root of the MSE.\n",
    "     - RMSE is useful because it penalizes large errors, but returns the units back close to the original scale of the dependent variable."
   ]
  },
  {
   "cell_type": "markdown",
   "id": "bf7c9697",
   "metadata": {},
   "source": [
    "# Train-Test Split\n",
    "\n",
    "The idea behind a train-test split is to create a \"holdout\" dataset - one that your model does not see when training - that you can test against after you've trained.\n",
    "\n",
    "<img src='images/traintestsplit.png'>\n",
    "\n",
    "***Steps to a logical train-test split***\n",
    "1. Use `sklearn`'s `train_test_split()` function to return `(X_train, X_test, y_train, y_test)`\n",
    "    - Include a `random_state` for reproducibility.\n",
    "        - *If being used with a classifier, split data proportionately with `stratify` parameter.*\n",
    "2. Train your model with `X_train` and `y_train`.\n",
    "3. Measure your model's performance on the **train-set** with one or more metrics.\n",
    "4. Measure your model's performance on the **test-set** with the same metrics.\n",
    "5. Compare the training metrics with the test metrics.\n",
    "    - If the metrics are similar, you do not have a problem with ***overfitting***.\n",
    "    - If the metrics are much better for your training set than your test set, that implies that the model has overfit to the training data and was not able to generalize effectively."
   ]
  },
  {
   "cell_type": "markdown",
   "id": "6d86076d",
   "metadata": {},
   "source": [
    "### *Brief processing*"
   ]
  },
  {
   "cell_type": "code",
   "execution_count": 1,
   "id": "e2531ea1",
   "metadata": {
    "ExecuteTime": {
     "end_time": "2021-08-10T19:40:00.735018Z",
     "start_time": "2021-08-10T19:39:58.834677Z"
    }
   },
   "outputs": [],
   "source": [
    "import pandas as pd\n",
    "import numpy as np\n",
    "import matplotlib.pyplot as plt\n",
    "import seaborn as sns\n",
    "\n",
    "from sklearn.model_selection import train_test_split"
   ]
  },
  {
   "cell_type": "code",
   "execution_count": 2,
   "id": "786efa48",
   "metadata": {
    "ExecuteTime": {
     "end_time": "2021-08-10T19:40:00.766726Z",
     "start_time": "2021-08-10T19:40:00.737945Z"
    }
   },
   "outputs": [
    {
     "data": {
      "text/html": [
       "<div>\n",
       "<style scoped>\n",
       "    .dataframe tbody tr th:only-of-type {\n",
       "        vertical-align: middle;\n",
       "    }\n",
       "\n",
       "    .dataframe tbody tr th {\n",
       "        vertical-align: top;\n",
       "    }\n",
       "\n",
       "    .dataframe thead th {\n",
       "        text-align: right;\n",
       "    }\n",
       "</style>\n",
       "<table border=\"1\" class=\"dataframe\">\n",
       "  <thead>\n",
       "    <tr style=\"text-align: right;\">\n",
       "      <th></th>\n",
       "      <th>mpg</th>\n",
       "      <th>cylinders</th>\n",
       "      <th>displacement</th>\n",
       "      <th>horsepower</th>\n",
       "      <th>weight</th>\n",
       "      <th>acceleration</th>\n",
       "      <th>model_year</th>\n",
       "      <th>origin</th>\n",
       "      <th>name</th>\n",
       "    </tr>\n",
       "  </thead>\n",
       "  <tbody>\n",
       "    <tr>\n",
       "      <th>0</th>\n",
       "      <td>18.0</td>\n",
       "      <td>8</td>\n",
       "      <td>307.0</td>\n",
       "      <td>130.0</td>\n",
       "      <td>3504</td>\n",
       "      <td>12.0</td>\n",
       "      <td>70</td>\n",
       "      <td>usa</td>\n",
       "      <td>chevrolet chevelle malibu</td>\n",
       "    </tr>\n",
       "    <tr>\n",
       "      <th>1</th>\n",
       "      <td>15.0</td>\n",
       "      <td>8</td>\n",
       "      <td>350.0</td>\n",
       "      <td>165.0</td>\n",
       "      <td>3693</td>\n",
       "      <td>11.5</td>\n",
       "      <td>70</td>\n",
       "      <td>usa</td>\n",
       "      <td>buick skylark 320</td>\n",
       "    </tr>\n",
       "    <tr>\n",
       "      <th>2</th>\n",
       "      <td>18.0</td>\n",
       "      <td>8</td>\n",
       "      <td>318.0</td>\n",
       "      <td>150.0</td>\n",
       "      <td>3436</td>\n",
       "      <td>11.0</td>\n",
       "      <td>70</td>\n",
       "      <td>usa</td>\n",
       "      <td>plymouth satellite</td>\n",
       "    </tr>\n",
       "    <tr>\n",
       "      <th>3</th>\n",
       "      <td>16.0</td>\n",
       "      <td>8</td>\n",
       "      <td>304.0</td>\n",
       "      <td>150.0</td>\n",
       "      <td>3433</td>\n",
       "      <td>12.0</td>\n",
       "      <td>70</td>\n",
       "      <td>usa</td>\n",
       "      <td>amc rebel sst</td>\n",
       "    </tr>\n",
       "    <tr>\n",
       "      <th>4</th>\n",
       "      <td>17.0</td>\n",
       "      <td>8</td>\n",
       "      <td>302.0</td>\n",
       "      <td>140.0</td>\n",
       "      <td>3449</td>\n",
       "      <td>10.5</td>\n",
       "      <td>70</td>\n",
       "      <td>usa</td>\n",
       "      <td>ford torino</td>\n",
       "    </tr>\n",
       "  </tbody>\n",
       "</table>\n",
       "</div>"
      ],
      "text/plain": [
       "    mpg  cylinders  displacement  horsepower  weight  acceleration  \\\n",
       "0  18.0          8         307.0       130.0    3504          12.0   \n",
       "1  15.0          8         350.0       165.0    3693          11.5   \n",
       "2  18.0          8         318.0       150.0    3436          11.0   \n",
       "3  16.0          8         304.0       150.0    3433          12.0   \n",
       "4  17.0          8         302.0       140.0    3449          10.5   \n",
       "\n",
       "   model_year origin                       name  \n",
       "0          70    usa  chevrolet chevelle malibu  \n",
       "1          70    usa          buick skylark 320  \n",
       "2          70    usa         plymouth satellite  \n",
       "3          70    usa              amc rebel sst  \n",
       "4          70    usa                ford torino  "
      ]
     },
     "execution_count": 2,
     "metadata": {},
     "output_type": "execute_result"
    }
   ],
   "source": [
    "# Load in data.\n",
    "df = sns.load_dataset('mpg')\n",
    "df.head()"
   ]
  },
  {
   "cell_type": "code",
   "execution_count": 3,
   "id": "fbed8c0f",
   "metadata": {
    "ExecuteTime": {
     "end_time": "2021-08-10T19:40:00.779573Z",
     "start_time": "2021-08-10T19:40:00.768707Z"
    }
   },
   "outputs": [
    {
     "name": "stdout",
     "output_type": "stream",
     "text": [
      "<class 'pandas.core.frame.DataFrame'>\n",
      "RangeIndex: 398 entries, 0 to 397\n",
      "Data columns (total 9 columns):\n",
      " #   Column        Non-Null Count  Dtype  \n",
      "---  ------        --------------  -----  \n",
      " 0   mpg           398 non-null    float64\n",
      " 1   cylinders     398 non-null    int64  \n",
      " 2   displacement  398 non-null    float64\n",
      " 3   horsepower    392 non-null    float64\n",
      " 4   weight        398 non-null    int64  \n",
      " 5   acceleration  398 non-null    float64\n",
      " 6   model_year    398 non-null    int64  \n",
      " 7   origin        398 non-null    object \n",
      " 8   name          398 non-null    object \n",
      "dtypes: float64(4), int64(3), object(2)\n",
      "memory usage: 28.1+ KB\n"
     ]
    }
   ],
   "source": [
    "df.info()"
   ]
  },
  {
   "cell_type": "code",
   "execution_count": 4,
   "id": "4cdc9c4a",
   "metadata": {
    "ExecuteTime": {
     "end_time": "2021-08-10T19:40:00.798606Z",
     "start_time": "2021-08-10T19:40:00.782430Z"
    }
   },
   "outputs": [
    {
     "name": "stdout",
     "output_type": "stream",
     "text": [
      "<class 'pandas.core.frame.DataFrame'>\n",
      "Int64Index: 392 entries, 0 to 397\n",
      "Data columns (total 9 columns):\n",
      " #   Column        Non-Null Count  Dtype  \n",
      "---  ------        --------------  -----  \n",
      " 0   mpg           392 non-null    float64\n",
      " 1   cylinders     392 non-null    int64  \n",
      " 2   displacement  392 non-null    float64\n",
      " 3   horsepower    392 non-null    float64\n",
      " 4   weight        392 non-null    int64  \n",
      " 5   acceleration  392 non-null    float64\n",
      " 6   model_year    392 non-null    int64  \n",
      " 7   origin        392 non-null    object \n",
      " 8   name          392 non-null    object \n",
      "dtypes: float64(4), int64(3), object(2)\n",
      "memory usage: 30.6+ KB\n"
     ]
    }
   ],
   "source": [
    "# Remove missing values. (Quick and dirty for demo.)\n",
    "df.dropna(inplace=True)\n",
    "df.reset_index(drop=True)\n",
    "df.info()"
   ]
  },
  {
   "cell_type": "code",
   "execution_count": 5,
   "id": "32754ba7",
   "metadata": {
    "ExecuteTime": {
     "end_time": "2021-08-10T19:40:00.824433Z",
     "start_time": "2021-08-10T19:40:00.805312Z"
    }
   },
   "outputs": [
    {
     "data": {
      "text/html": [
       "<div>\n",
       "<style scoped>\n",
       "    .dataframe tbody tr th:only-of-type {\n",
       "        vertical-align: middle;\n",
       "    }\n",
       "\n",
       "    .dataframe tbody tr th {\n",
       "        vertical-align: top;\n",
       "    }\n",
       "\n",
       "    .dataframe thead th {\n",
       "        text-align: right;\n",
       "    }\n",
       "</style>\n",
       "<table border=\"1\" class=\"dataframe\">\n",
       "  <thead>\n",
       "    <tr style=\"text-align: right;\">\n",
       "      <th></th>\n",
       "      <th>mpg</th>\n",
       "      <th>cylinders</th>\n",
       "      <th>displacement</th>\n",
       "      <th>horsepower</th>\n",
       "      <th>weight</th>\n",
       "      <th>acceleration</th>\n",
       "      <th>model_year</th>\n",
       "      <th>origin</th>\n",
       "    </tr>\n",
       "  </thead>\n",
       "  <tbody>\n",
       "    <tr>\n",
       "      <th>0</th>\n",
       "      <td>18.0</td>\n",
       "      <td>8</td>\n",
       "      <td>307.0</td>\n",
       "      <td>130.0</td>\n",
       "      <td>3504</td>\n",
       "      <td>12.0</td>\n",
       "      <td>70</td>\n",
       "      <td>usa</td>\n",
       "    </tr>\n",
       "    <tr>\n",
       "      <th>1</th>\n",
       "      <td>15.0</td>\n",
       "      <td>8</td>\n",
       "      <td>350.0</td>\n",
       "      <td>165.0</td>\n",
       "      <td>3693</td>\n",
       "      <td>11.5</td>\n",
       "      <td>70</td>\n",
       "      <td>usa</td>\n",
       "    </tr>\n",
       "    <tr>\n",
       "      <th>2</th>\n",
       "      <td>18.0</td>\n",
       "      <td>8</td>\n",
       "      <td>318.0</td>\n",
       "      <td>150.0</td>\n",
       "      <td>3436</td>\n",
       "      <td>11.0</td>\n",
       "      <td>70</td>\n",
       "      <td>usa</td>\n",
       "    </tr>\n",
       "    <tr>\n",
       "      <th>3</th>\n",
       "      <td>16.0</td>\n",
       "      <td>8</td>\n",
       "      <td>304.0</td>\n",
       "      <td>150.0</td>\n",
       "      <td>3433</td>\n",
       "      <td>12.0</td>\n",
       "      <td>70</td>\n",
       "      <td>usa</td>\n",
       "    </tr>\n",
       "    <tr>\n",
       "      <th>4</th>\n",
       "      <td>17.0</td>\n",
       "      <td>8</td>\n",
       "      <td>302.0</td>\n",
       "      <td>140.0</td>\n",
       "      <td>3449</td>\n",
       "      <td>10.5</td>\n",
       "      <td>70</td>\n",
       "      <td>usa</td>\n",
       "    </tr>\n",
       "  </tbody>\n",
       "</table>\n",
       "</div>"
      ],
      "text/plain": [
       "    mpg  cylinders  displacement  horsepower  weight  acceleration  \\\n",
       "0  18.0          8         307.0       130.0    3504          12.0   \n",
       "1  15.0          8         350.0       165.0    3693          11.5   \n",
       "2  18.0          8         318.0       150.0    3436          11.0   \n",
       "3  16.0          8         304.0       150.0    3433          12.0   \n",
       "4  17.0          8         302.0       140.0    3449          10.5   \n",
       "\n",
       "   model_year origin  \n",
       "0          70    usa  \n",
       "1          70    usa  \n",
       "2          70    usa  \n",
       "3          70    usa  \n",
       "4          70    usa  "
      ]
     },
     "execution_count": 5,
     "metadata": {},
     "output_type": "execute_result"
    }
   ],
   "source": [
    "# Remove `name` column.\n",
    "if 'name' in df.columns:\n",
    "    df.drop('name', axis=1, inplace=True)\n",
    "df.head()"
   ]
  },
  {
   "cell_type": "code",
   "execution_count": 6,
   "id": "f31f3c14",
   "metadata": {
    "ExecuteTime": {
     "end_time": "2021-08-10T19:40:00.835997Z",
     "start_time": "2021-08-10T19:40:00.829393Z"
    }
   },
   "outputs": [
    {
     "data": {
      "text/plain": [
       "((392, 7), (392,))"
      ]
     },
     "execution_count": 6,
     "metadata": {},
     "output_type": "execute_result"
    }
   ],
   "source": [
    "# Separate independant variables from dependant variable.\n",
    "X = df.drop('mpg', axis=1)\n",
    "y = df['mpg']\n",
    "X.shape, y.shape"
   ]
  },
  {
   "cell_type": "markdown",
   "id": "798c52c3",
   "metadata": {},
   "source": [
    "## 1. Use `sklearn.model_selection.train_test_split`"
   ]
  },
  {
   "cell_type": "code",
   "execution_count": 7,
   "id": "538536bf",
   "metadata": {
    "ExecuteTime": {
     "end_time": "2021-08-10T19:40:00.849349Z",
     "start_time": "2021-08-10T19:40:00.839397Z"
    }
   },
   "outputs": [
    {
     "data": {
      "text/plain": [
       "((294, 7), (98, 7), (294,), (98,))"
      ]
     },
     "execution_count": 7,
     "metadata": {},
     "output_type": "execute_result"
    }
   ],
   "source": [
    "X_train, X_test, y_train, y_test = train_test_split(X, y, random_state=51)\n",
    "X_train.shape, X_test.shape, y_train.shape, y_test.shape"
   ]
  },
  {
   "cell_type": "code",
   "execution_count": 8,
   "id": "7499a6c4",
   "metadata": {
    "ExecuteTime": {
     "end_time": "2021-08-10T19:40:00.863560Z",
     "start_time": "2021-08-10T19:40:00.852234Z"
    }
   },
   "outputs": [
    {
     "data": {
      "text/html": [
       "<div>\n",
       "<style scoped>\n",
       "    .dataframe tbody tr th:only-of-type {\n",
       "        vertical-align: middle;\n",
       "    }\n",
       "\n",
       "    .dataframe tbody tr th {\n",
       "        vertical-align: top;\n",
       "    }\n",
       "\n",
       "    .dataframe thead th {\n",
       "        text-align: right;\n",
       "    }\n",
       "</style>\n",
       "<table border=\"1\" class=\"dataframe\">\n",
       "  <thead>\n",
       "    <tr style=\"text-align: right;\">\n",
       "      <th></th>\n",
       "      <th>cylinders</th>\n",
       "      <th>displacement</th>\n",
       "      <th>horsepower</th>\n",
       "      <th>weight</th>\n",
       "      <th>acceleration</th>\n",
       "      <th>model_year</th>\n",
       "      <th>origin</th>\n",
       "    </tr>\n",
       "  </thead>\n",
       "  <tbody>\n",
       "    <tr>\n",
       "      <th>262</th>\n",
       "      <td>8</td>\n",
       "      <td>305.0</td>\n",
       "      <td>145.0</td>\n",
       "      <td>3425</td>\n",
       "      <td>13.2</td>\n",
       "      <td>78</td>\n",
       "      <td>usa</td>\n",
       "    </tr>\n",
       "    <tr>\n",
       "      <th>225</th>\n",
       "      <td>6</td>\n",
       "      <td>250.0</td>\n",
       "      <td>110.0</td>\n",
       "      <td>3520</td>\n",
       "      <td>16.4</td>\n",
       "      <td>77</td>\n",
       "      <td>usa</td>\n",
       "    </tr>\n",
       "    <tr>\n",
       "      <th>196</th>\n",
       "      <td>4</td>\n",
       "      <td>98.0</td>\n",
       "      <td>60.0</td>\n",
       "      <td>2164</td>\n",
       "      <td>22.1</td>\n",
       "      <td>76</td>\n",
       "      <td>usa</td>\n",
       "    </tr>\n",
       "    <tr>\n",
       "      <th>46</th>\n",
       "      <td>4</td>\n",
       "      <td>140.0</td>\n",
       "      <td>72.0</td>\n",
       "      <td>2408</td>\n",
       "      <td>19.0</td>\n",
       "      <td>71</td>\n",
       "      <td>usa</td>\n",
       "    </tr>\n",
       "    <tr>\n",
       "      <th>291</th>\n",
       "      <td>8</td>\n",
       "      <td>267.0</td>\n",
       "      <td>125.0</td>\n",
       "      <td>3605</td>\n",
       "      <td>15.0</td>\n",
       "      <td>79</td>\n",
       "      <td>usa</td>\n",
       "    </tr>\n",
       "  </tbody>\n",
       "</table>\n",
       "</div>"
      ],
      "text/plain": [
       "     cylinders  displacement  horsepower  weight  acceleration  model_year  \\\n",
       "262          8         305.0       145.0    3425          13.2          78   \n",
       "225          6         250.0       110.0    3520          16.4          77   \n",
       "196          4          98.0        60.0    2164          22.1          76   \n",
       "46           4         140.0        72.0    2408          19.0          71   \n",
       "291          8         267.0       125.0    3605          15.0          79   \n",
       "\n",
       "    origin  \n",
       "262    usa  \n",
       "225    usa  \n",
       "196    usa  \n",
       "46     usa  \n",
       "291    usa  "
      ]
     },
     "execution_count": 8,
     "metadata": {},
     "output_type": "execute_result"
    }
   ],
   "source": [
    "X_train.head()"
   ]
  },
  {
   "cell_type": "code",
   "execution_count": 9,
   "id": "5ab0c987",
   "metadata": {
    "ExecuteTime": {
     "end_time": "2021-08-10T19:40:00.872158Z",
     "start_time": "2021-08-10T19:40:00.866890Z"
    }
   },
   "outputs": [
    {
     "data": {
      "text/plain": [
       "262    19.2\n",
       "225    17.5\n",
       "196    24.5\n",
       "46     22.0\n",
       "291    19.2\n",
       "Name: mpg, dtype: float64"
      ]
     },
     "execution_count": 9,
     "metadata": {},
     "output_type": "execute_result"
    }
   ],
   "source": [
    "y_train.head()"
   ]
  },
  {
   "cell_type": "markdown",
   "id": "461545ce",
   "metadata": {},
   "source": [
    "### 1.a OHE / StandardScaler at THIS step"
   ]
  },
  {
   "cell_type": "code",
   "execution_count": 10,
   "id": "aaad1fa3",
   "metadata": {
    "ExecuteTime": {
     "end_time": "2021-08-10T19:40:00.877716Z",
     "start_time": "2021-08-10T19:40:00.874651Z"
    }
   },
   "outputs": [],
   "source": [
    "from sklearn.preprocessing import StandardScaler, OneHotEncoder"
   ]
  },
  {
   "cell_type": "code",
   "execution_count": 11,
   "id": "5d17cd08",
   "metadata": {
    "ExecuteTime": {
     "end_time": "2021-08-10T19:40:00.893080Z",
     "start_time": "2021-08-10T19:40:00.880993Z"
    }
   },
   "outputs": [
    {
     "data": {
      "text/plain": [
       "(Index(['cylinders', 'displacement', 'horsepower', 'weight', 'acceleration',\n",
       "        'model_year'],\n",
       "       dtype='object'),\n",
       " Index(['origin'], dtype='object'))"
      ]
     },
     "execution_count": 11,
     "metadata": {},
     "output_type": "execute_result"
    }
   ],
   "source": [
    "# Splitting out numeric / categorical columns.\n",
    "### Eventually we will learn to do this type of processing in a Pipeline.\n",
    "num_cols = X_train.select_dtypes('number').columns\n",
    "cat_cols = X_train.select_dtypes('object').columns\n",
    "num_cols, cat_cols"
   ]
  },
  {
   "cell_type": "code",
   "execution_count": 12,
   "id": "5b7e2640",
   "metadata": {
    "ExecuteTime": {
     "end_time": "2021-08-10T19:40:00.903543Z",
     "start_time": "2021-08-10T19:40:00.896245Z"
    }
   },
   "outputs": [
    {
     "data": {
      "text/plain": [
       "Index(['cylinders', 'displacement', 'horsepower', 'weight', 'acceleration',\n",
       "       'model_year'],\n",
       "      dtype='object')"
      ]
     },
     "execution_count": 12,
     "metadata": {},
     "output_type": "execute_result"
    }
   ],
   "source": [
    "X_train.select_dtypes('number').columns"
   ]
  },
  {
   "cell_type": "markdown",
   "id": "2fc532a3",
   "metadata": {},
   "source": [
    "#### OHE"
   ]
  },
  {
   "cell_type": "code",
   "execution_count": 13,
   "id": "f8c44396",
   "metadata": {
    "ExecuteTime": {
     "end_time": "2021-08-10T19:40:00.909497Z",
     "start_time": "2021-08-10T19:40:00.906267Z"
    }
   },
   "outputs": [],
   "source": [
    "# One-hot-encode `origin`.\n",
    "ohe = OneHotEncoder(drop='first', sparse=False)"
   ]
  },
  {
   "cell_type": "code",
   "execution_count": 14,
   "id": "ddba3021",
   "metadata": {
    "ExecuteTime": {
     "end_time": "2021-08-10T19:40:00.919144Z",
     "start_time": "2021-08-10T19:40:00.913611Z"
    }
   },
   "outputs": [],
   "source": [
    "# Fit and transform the train-data.\n",
    "X_train_cat_processed = ohe.fit_transform(X_train[cat_cols])"
   ]
  },
  {
   "cell_type": "code",
   "execution_count": 15,
   "id": "eae6c22b",
   "metadata": {
    "ExecuteTime": {
     "end_time": "2021-08-10T19:40:00.925867Z",
     "start_time": "2021-08-10T19:40:00.921750Z"
    }
   },
   "outputs": [],
   "source": [
    "# ONLY *transform* the test data.\n",
    "X_test_cat_processed = ohe.transform(X_test[cat_cols])"
   ]
  },
  {
   "cell_type": "code",
   "execution_count": 16,
   "id": "fffafc64",
   "metadata": {
    "ExecuteTime": {
     "end_time": "2021-08-10T19:40:00.935340Z",
     "start_time": "2021-08-10T19:40:00.928758Z"
    }
   },
   "outputs": [
    {
     "data": {
      "text/plain": [
       "array([[0., 1.],\n",
       "       [0., 1.],\n",
       "       [0., 1.],\n",
       "       [0., 1.],\n",
       "       [0., 1.]])"
      ]
     },
     "execution_count": 16,
     "metadata": {},
     "output_type": "execute_result"
    }
   ],
   "source": [
    "X_train_cat_processed[:5]"
   ]
  },
  {
   "cell_type": "code",
   "execution_count": 17,
   "id": "0b375753",
   "metadata": {
    "ExecuteTime": {
     "end_time": "2021-08-10T19:40:00.945183Z",
     "start_time": "2021-08-10T19:40:00.938206Z"
    }
   },
   "outputs": [
    {
     "data": {
      "text/plain": [
       "array(['origin_japan', 'origin_usa'], dtype=object)"
      ]
     },
     "execution_count": 17,
     "metadata": {},
     "output_type": "execute_result"
    }
   ],
   "source": [
    "# Get names of features.\n",
    "ohe_feature_names = ohe.get_feature_names(cat_cols)\n",
    "ohe_feature_names"
   ]
  },
  {
   "cell_type": "code",
   "execution_count": 18,
   "id": "a2803647",
   "metadata": {
    "ExecuteTime": {
     "end_time": "2021-08-10T19:40:00.964073Z",
     "start_time": "2021-08-10T19:40:00.948998Z"
    }
   },
   "outputs": [
    {
     "data": {
      "text/html": [
       "<div>\n",
       "<style scoped>\n",
       "    .dataframe tbody tr th:only-of-type {\n",
       "        vertical-align: middle;\n",
       "    }\n",
       "\n",
       "    .dataframe tbody tr th {\n",
       "        vertical-align: top;\n",
       "    }\n",
       "\n",
       "    .dataframe thead th {\n",
       "        text-align: right;\n",
       "    }\n",
       "</style>\n",
       "<table border=\"1\" class=\"dataframe\">\n",
       "  <thead>\n",
       "    <tr style=\"text-align: right;\">\n",
       "      <th></th>\n",
       "      <th>origin_japan</th>\n",
       "      <th>origin_usa</th>\n",
       "    </tr>\n",
       "  </thead>\n",
       "  <tbody>\n",
       "    <tr>\n",
       "      <th>0</th>\n",
       "      <td>0.0</td>\n",
       "      <td>1.0</td>\n",
       "    </tr>\n",
       "    <tr>\n",
       "      <th>1</th>\n",
       "      <td>0.0</td>\n",
       "      <td>1.0</td>\n",
       "    </tr>\n",
       "    <tr>\n",
       "      <th>2</th>\n",
       "      <td>0.0</td>\n",
       "      <td>1.0</td>\n",
       "    </tr>\n",
       "    <tr>\n",
       "      <th>3</th>\n",
       "      <td>0.0</td>\n",
       "      <td>1.0</td>\n",
       "    </tr>\n",
       "    <tr>\n",
       "      <th>4</th>\n",
       "      <td>0.0</td>\n",
       "      <td>1.0</td>\n",
       "    </tr>\n",
       "  </tbody>\n",
       "</table>\n",
       "</div>"
      ],
      "text/plain": [
       "   origin_japan  origin_usa\n",
       "0           0.0         1.0\n",
       "1           0.0         1.0\n",
       "2           0.0         1.0\n",
       "3           0.0         1.0\n",
       "4           0.0         1.0"
      ]
     },
     "execution_count": 18,
     "metadata": {},
     "output_type": "execute_result"
    }
   ],
   "source": [
    "# Transform to dataframes.\n",
    "X_train_cat_processed = pd.DataFrame(\n",
    "    X_train_cat_processed, \n",
    "    columns=ohe_feature_names\n",
    "    )\n",
    "X_test_cat_processed = pd.DataFrame(\n",
    "    X_test_cat_processed, \n",
    "    columns=ohe_feature_names\n",
    "    )\n",
    "\n",
    "X_train_cat_processed.head()"
   ]
  },
  {
   "cell_type": "markdown",
   "id": "c314e8a2",
   "metadata": {},
   "source": [
    "#### StandardScaler"
   ]
  },
  {
   "cell_type": "code",
   "execution_count": 19,
   "id": "cbe4ae3e",
   "metadata": {
    "ExecuteTime": {
     "end_time": "2021-08-10T19:40:00.992112Z",
     "start_time": "2021-08-10T19:40:00.967478Z"
    }
   },
   "outputs": [
    {
     "data": {
      "text/html": [
       "<div>\n",
       "<style scoped>\n",
       "    .dataframe tbody tr th:only-of-type {\n",
       "        vertical-align: middle;\n",
       "    }\n",
       "\n",
       "    .dataframe tbody tr th {\n",
       "        vertical-align: top;\n",
       "    }\n",
       "\n",
       "    .dataframe thead th {\n",
       "        text-align: right;\n",
       "    }\n",
       "</style>\n",
       "<table border=\"1\" class=\"dataframe\">\n",
       "  <thead>\n",
       "    <tr style=\"text-align: right;\">\n",
       "      <th></th>\n",
       "      <th>cylinders</th>\n",
       "      <th>displacement</th>\n",
       "      <th>horsepower</th>\n",
       "      <th>weight</th>\n",
       "      <th>acceleration</th>\n",
       "      <th>model_year</th>\n",
       "    </tr>\n",
       "  </thead>\n",
       "  <tbody>\n",
       "    <tr>\n",
       "      <th>0</th>\n",
       "      <td>1.471000</td>\n",
       "      <td>1.062604</td>\n",
       "      <td>1.045298</td>\n",
       "      <td>0.506526</td>\n",
       "      <td>-0.855822</td>\n",
       "      <td>0.575584</td>\n",
       "    </tr>\n",
       "    <tr>\n",
       "      <th>1</th>\n",
       "      <td>0.295799</td>\n",
       "      <td>0.534105</td>\n",
       "      <td>0.126286</td>\n",
       "      <td>0.617699</td>\n",
       "      <td>0.328407</td>\n",
       "      <td>0.303085</td>\n",
       "    </tr>\n",
       "    <tr>\n",
       "      <th>2</th>\n",
       "      <td>-0.879402</td>\n",
       "      <td>-0.926475</td>\n",
       "      <td>-1.186588</td>\n",
       "      <td>-0.969156</td>\n",
       "      <td>2.437814</td>\n",
       "      <td>0.030587</td>\n",
       "    </tr>\n",
       "    <tr>\n",
       "      <th>3</th>\n",
       "      <td>-0.879402</td>\n",
       "      <td>-0.522894</td>\n",
       "      <td>-0.871499</td>\n",
       "      <td>-0.683615</td>\n",
       "      <td>1.290593</td>\n",
       "      <td>-1.331908</td>\n",
       "    </tr>\n",
       "    <tr>\n",
       "      <th>4</th>\n",
       "      <td>1.471000</td>\n",
       "      <td>0.697459</td>\n",
       "      <td>0.520148</td>\n",
       "      <td>0.717170</td>\n",
       "      <td>-0.189693</td>\n",
       "      <td>0.848083</td>\n",
       "    </tr>\n",
       "  </tbody>\n",
       "</table>\n",
       "</div>"
      ],
      "text/plain": [
       "   cylinders  displacement  horsepower    weight  acceleration  model_year\n",
       "0   1.471000      1.062604    1.045298  0.506526     -0.855822    0.575584\n",
       "1   0.295799      0.534105    0.126286  0.617699      0.328407    0.303085\n",
       "2  -0.879402     -0.926475   -1.186588 -0.969156      2.437814    0.030587\n",
       "3  -0.879402     -0.522894   -0.871499 -0.683615      1.290593   -1.331908\n",
       "4   1.471000      0.697459    0.520148  0.717170     -0.189693    0.848083"
      ]
     },
     "execution_count": 19,
     "metadata": {},
     "output_type": "execute_result"
    }
   ],
   "source": [
    "# Scale numeric features.\n",
    "scaler = StandardScaler()\n",
    "X_train_num_processed = scaler.fit_transform(X_train[num_cols])\n",
    "X_test_num_processed = scaler.transform(X_test[num_cols])\n",
    "\n",
    "# Transform to dataframes.\n",
    "X_train_num_processed = pd.DataFrame(X_train_num_processed, columns=num_cols)\n",
    "X_test_num_processed = pd.DataFrame(X_test_num_processed, columns=num_cols)\n",
    "\n",
    "# Sanity check.\n",
    "X_train_num_processed.head()"
   ]
  },
  {
   "cell_type": "code",
   "execution_count": 20,
   "id": "d25dfa55",
   "metadata": {
    "ExecuteTime": {
     "end_time": "2021-08-10T19:40:01.002100Z",
     "start_time": "2021-08-10T19:40:00.994552Z"
    }
   },
   "outputs": [
    {
     "data": {
      "text/plain": [
       "((294, 8), (98, 8))"
      ]
     },
     "execution_count": 20,
     "metadata": {},
     "output_type": "execute_result"
    }
   ],
   "source": [
    "# Combine processed data.\n",
    "X_train_processed = pd.concat(\n",
    "    [X_train_num_processed, X_train_cat_processed], \n",
    "    axis=1\n",
    "    )\n",
    "X_test_processed = pd.concat(\n",
    "    [X_test_num_processed, X_test_cat_processed], \n",
    "    axis=1\n",
    "    )\n",
    "\n",
    "X_train_processed.shape, X_test_processed.shape"
   ]
  },
  {
   "cell_type": "code",
   "execution_count": 21,
   "id": "b79deb13",
   "metadata": {
    "ExecuteTime": {
     "end_time": "2021-08-10T19:40:01.020073Z",
     "start_time": "2021-08-10T19:40:01.004585Z"
    }
   },
   "outputs": [
    {
     "data": {
      "text/html": [
       "<div>\n",
       "<style scoped>\n",
       "    .dataframe tbody tr th:only-of-type {\n",
       "        vertical-align: middle;\n",
       "    }\n",
       "\n",
       "    .dataframe tbody tr th {\n",
       "        vertical-align: top;\n",
       "    }\n",
       "\n",
       "    .dataframe thead th {\n",
       "        text-align: right;\n",
       "    }\n",
       "</style>\n",
       "<table border=\"1\" class=\"dataframe\">\n",
       "  <thead>\n",
       "    <tr style=\"text-align: right;\">\n",
       "      <th></th>\n",
       "      <th>cylinders</th>\n",
       "      <th>displacement</th>\n",
       "      <th>horsepower</th>\n",
       "      <th>weight</th>\n",
       "      <th>acceleration</th>\n",
       "      <th>model_year</th>\n",
       "      <th>origin_japan</th>\n",
       "      <th>origin_usa</th>\n",
       "    </tr>\n",
       "  </thead>\n",
       "  <tbody>\n",
       "    <tr>\n",
       "      <th>0</th>\n",
       "      <td>1.471000</td>\n",
       "      <td>1.062604</td>\n",
       "      <td>1.045298</td>\n",
       "      <td>0.506526</td>\n",
       "      <td>-0.855822</td>\n",
       "      <td>0.575584</td>\n",
       "      <td>0.0</td>\n",
       "      <td>1.0</td>\n",
       "    </tr>\n",
       "    <tr>\n",
       "      <th>1</th>\n",
       "      <td>0.295799</td>\n",
       "      <td>0.534105</td>\n",
       "      <td>0.126286</td>\n",
       "      <td>0.617699</td>\n",
       "      <td>0.328407</td>\n",
       "      <td>0.303085</td>\n",
       "      <td>0.0</td>\n",
       "      <td>1.0</td>\n",
       "    </tr>\n",
       "    <tr>\n",
       "      <th>2</th>\n",
       "      <td>-0.879402</td>\n",
       "      <td>-0.926475</td>\n",
       "      <td>-1.186588</td>\n",
       "      <td>-0.969156</td>\n",
       "      <td>2.437814</td>\n",
       "      <td>0.030587</td>\n",
       "      <td>0.0</td>\n",
       "      <td>1.0</td>\n",
       "    </tr>\n",
       "    <tr>\n",
       "      <th>3</th>\n",
       "      <td>-0.879402</td>\n",
       "      <td>-0.522894</td>\n",
       "      <td>-0.871499</td>\n",
       "      <td>-0.683615</td>\n",
       "      <td>1.290593</td>\n",
       "      <td>-1.331908</td>\n",
       "      <td>0.0</td>\n",
       "      <td>1.0</td>\n",
       "    </tr>\n",
       "    <tr>\n",
       "      <th>4</th>\n",
       "      <td>1.471000</td>\n",
       "      <td>0.697459</td>\n",
       "      <td>0.520148</td>\n",
       "      <td>0.717170</td>\n",
       "      <td>-0.189693</td>\n",
       "      <td>0.848083</td>\n",
       "      <td>0.0</td>\n",
       "      <td>1.0</td>\n",
       "    </tr>\n",
       "  </tbody>\n",
       "</table>\n",
       "</div>"
      ],
      "text/plain": [
       "   cylinders  displacement  horsepower    weight  acceleration  model_year  \\\n",
       "0   1.471000      1.062604    1.045298  0.506526     -0.855822    0.575584   \n",
       "1   0.295799      0.534105    0.126286  0.617699      0.328407    0.303085   \n",
       "2  -0.879402     -0.926475   -1.186588 -0.969156      2.437814    0.030587   \n",
       "3  -0.879402     -0.522894   -0.871499 -0.683615      1.290593   -1.331908   \n",
       "4   1.471000      0.697459    0.520148  0.717170     -0.189693    0.848083   \n",
       "\n",
       "   origin_japan  origin_usa  \n",
       "0           0.0         1.0  \n",
       "1           0.0         1.0  \n",
       "2           0.0         1.0  \n",
       "3           0.0         1.0  \n",
       "4           0.0         1.0  "
      ]
     },
     "execution_count": 21,
     "metadata": {},
     "output_type": "execute_result"
    }
   ],
   "source": [
    "X_train_processed.head()"
   ]
  },
  {
   "cell_type": "markdown",
   "id": "4e65aaca",
   "metadata": {},
   "source": [
    "## 2. Train the model with the training data."
   ]
  },
  {
   "cell_type": "code",
   "execution_count": 22,
   "id": "794c7f2d",
   "metadata": {
    "ExecuteTime": {
     "end_time": "2021-08-10T19:40:01.080474Z",
     "start_time": "2021-08-10T19:40:01.023395Z"
    }
   },
   "outputs": [],
   "source": [
    "from sklearn.linear_model import LinearRegression"
   ]
  },
  {
   "cell_type": "code",
   "execution_count": 23,
   "id": "252a8c76",
   "metadata": {
    "ExecuteTime": {
     "end_time": "2021-08-10T19:40:01.095455Z",
     "start_time": "2021-08-10T19:40:01.083893Z"
    }
   },
   "outputs": [
    {
     "data": {
      "text/plain": [
       "LinearRegression()"
      ]
     },
     "execution_count": 23,
     "metadata": {},
     "output_type": "execute_result"
    }
   ],
   "source": [
    "# Fit model with training data.\n",
    "linreg = LinearRegression()\n",
    "linreg.fit(X_train_processed, y_train)"
   ]
  },
  {
   "cell_type": "markdown",
   "id": "bd997e09",
   "metadata": {},
   "source": [
    "## 3-4. Measure the metrics."
   ]
  },
  {
   "cell_type": "code",
   "execution_count": 24,
   "id": "7ff3e595",
   "metadata": {
    "ExecuteTime": {
     "end_time": "2021-08-10T19:40:01.100977Z",
     "start_time": "2021-08-10T19:40:01.097989Z"
    }
   },
   "outputs": [],
   "source": [
    "from sklearn.metrics import mean_absolute_error, mean_squared_error"
   ]
  },
  {
   "cell_type": "code",
   "execution_count": 25,
   "id": "94a8df23",
   "metadata": {
    "ExecuteTime": {
     "end_time": "2021-08-10T19:40:01.113648Z",
     "start_time": "2021-08-10T19:40:01.105180Z"
    }
   },
   "outputs": [
    {
     "data": {
      "text/plain": [
       "2.471271144554307"
      ]
     },
     "execution_count": 25,
     "metadata": {},
     "output_type": "execute_result"
    }
   ],
   "source": [
    "# Single operation example.\n",
    "mean_absolute_error(y_train, linreg.predict(X_train_processed))"
   ]
  },
  {
   "cell_type": "code",
   "execution_count": 26,
   "id": "0a8452e0",
   "metadata": {
    "ExecuteTime": {
     "end_time": "2021-08-10T19:40:01.126301Z",
     "start_time": "2021-08-10T19:40:01.117101Z"
    }
   },
   "outputs": [
    {
     "data": {
      "text/plain": [
       "0.8328560918186806"
      ]
     },
     "execution_count": 26,
     "metadata": {},
     "output_type": "execute_result"
    }
   ],
   "source": [
    "linreg.score(X_train_processed, y_train)"
   ]
  },
  {
   "cell_type": "code",
   "execution_count": 27,
   "id": "786b3058",
   "metadata": {
    "ExecuteTime": {
     "end_time": "2021-08-10T19:40:01.141465Z",
     "start_time": "2021-08-10T19:40:01.130330Z"
    }
   },
   "outputs": [
    {
     "data": {
      "text/plain": [
       "0.7923853265201815"
      ]
     },
     "execution_count": 27,
     "metadata": {},
     "output_type": "execute_result"
    }
   ],
   "source": [
    "linreg.score(X_test_processed, y_test)"
   ]
  },
  {
   "cell_type": "code",
   "execution_count": 28,
   "id": "1c1e0ae5",
   "metadata": {
    "ExecuteTime": {
     "end_time": "2021-08-10T19:40:01.159864Z",
     "start_time": "2021-08-10T19:40:01.144195Z"
    }
   },
   "outputs": [
    {
     "data": {
      "text/plain": [
       "{'train': {'mse': 10.322534571868092,\n",
       "  'mae': 2.471271144554307,\n",
       "  'rmse': 3.212870145503564},\n",
       " 'test': {'mse': 11.881078708555085,\n",
       "  'mae': 2.67803664857758,\n",
       "  'rmse': 3.4468940669180834}}"
      ]
     },
     "execution_count": 28,
     "metadata": {},
     "output_type": "execute_result"
    }
   ],
   "source": [
    "# Get predictions.\n",
    "y_train_pred = linreg.predict(X_train_processed)\n",
    "y_test_pred = linreg.predict(X_test_processed)\n",
    "\n",
    "# Get metrics. Store in a dictionary.\n",
    "metrics_dct = {}\n",
    "\n",
    "# Iterate over training and test predictions.\n",
    "for split, y_pred in [('train', y_train_pred), ('test', y_test_pred)]:\n",
    "    # Get appropriate y-values to compare to.\n",
    "    y_true = y_train.copy() if split == 'train' else y_test.copy()\n",
    "    \n",
    "    # Get metrics by comparing the true values to the predicted values.\n",
    "    mse = mean_squared_error(y_true, y_pred)\n",
    "    mae = mean_absolute_error(y_true, y_pred)\n",
    "    split_dct = {\n",
    "        'mse': mse,\n",
    "        'mae': mae,\n",
    "        'rmse': np.sqrt(mse)\n",
    "    }\n",
    "    metrics_dct[split] = split_dct\n",
    "    \n",
    "# Show results.\n",
    "metrics_dct"
   ]
  },
  {
   "cell_type": "markdown",
   "id": "e5d0bb67",
   "metadata": {},
   "source": [
    "## 5. Compare metrics."
   ]
  },
  {
   "cell_type": "code",
   "execution_count": 29,
   "id": "c2f1f281",
   "metadata": {
    "ExecuteTime": {
     "end_time": "2021-08-10T19:40:01.171870Z",
     "start_time": "2021-08-10T19:40:01.162217Z"
    }
   },
   "outputs": [
    {
     "data": {
      "text/html": [
       "<div>\n",
       "<style scoped>\n",
       "    .dataframe tbody tr th:only-of-type {\n",
       "        vertical-align: middle;\n",
       "    }\n",
       "\n",
       "    .dataframe tbody tr th {\n",
       "        vertical-align: top;\n",
       "    }\n",
       "\n",
       "    .dataframe thead th {\n",
       "        text-align: right;\n",
       "    }\n",
       "</style>\n",
       "<table border=\"1\" class=\"dataframe\">\n",
       "  <thead>\n",
       "    <tr style=\"text-align: right;\">\n",
       "      <th></th>\n",
       "      <th>train</th>\n",
       "      <th>test</th>\n",
       "    </tr>\n",
       "  </thead>\n",
       "  <tbody>\n",
       "    <tr>\n",
       "      <th>mse</th>\n",
       "      <td>10.322535</td>\n",
       "      <td>11.881079</td>\n",
       "    </tr>\n",
       "    <tr>\n",
       "      <th>mae</th>\n",
       "      <td>2.471271</td>\n",
       "      <td>2.678037</td>\n",
       "    </tr>\n",
       "    <tr>\n",
       "      <th>rmse</th>\n",
       "      <td>3.212870</td>\n",
       "      <td>3.446894</td>\n",
       "    </tr>\n",
       "  </tbody>\n",
       "</table>\n",
       "</div>"
      ],
      "text/plain": [
       "          train       test\n",
       "mse   10.322535  11.881079\n",
       "mae    2.471271   2.678037\n",
       "rmse   3.212870   3.446894"
      ]
     },
     "execution_count": 29,
     "metadata": {},
     "output_type": "execute_result"
    }
   ],
   "source": [
    "pd.DataFrame(metrics_dct)"
   ]
  },
  {
   "cell_type": "markdown",
   "id": "32c2bea8",
   "metadata": {},
   "source": [
    "# KFold Cross Validation\n",
    "<img src='images/kfold.png'>\n",
    "KFolds-CV is built on the same concept of the train-test-split (and performs the same cross-validation check), but folds the data $k$-times in order to achieve a more robust result to combat overfitting."
   ]
  },
  {
   "cell_type": "markdown",
   "id": "b22d0c6b",
   "metadata": {},
   "source": [
    "## Practical Use"
   ]
  },
  {
   "cell_type": "code",
   "execution_count": 30,
   "id": "0e50726c",
   "metadata": {
    "ExecuteTime": {
     "end_time": "2021-08-10T19:40:01.177538Z",
     "start_time": "2021-08-10T19:40:01.174537Z"
    }
   },
   "outputs": [],
   "source": [
    "from sklearn.model_selection import cross_validate"
   ]
  },
  {
   "cell_type": "code",
   "execution_count": 31,
   "id": "b93bc416",
   "metadata": {
    "ExecuteTime": {
     "end_time": "2021-08-10T19:40:01.219963Z",
     "start_time": "2021-08-10T19:40:01.181506Z"
    }
   },
   "outputs": [
    {
     "data": {
      "text/plain": [
       "{'fit_time': array([0.00318694, 0.00286889, 0.00279188, 0.00276303, 0.00346184]),\n",
       " 'score_time': array([0.00268412, 0.00238013, 0.00229692, 0.00224614, 0.00349903]),\n",
       " 'test_r2': array([0.80268185, 0.87307597, 0.80070871, 0.7810437 , 0.7938275 ]),\n",
       " 'test_neg_mean_squared_error': array([-11.69724911,  -7.80836967, -14.34231814, -13.60523721,\n",
       "        -10.30720635])}"
      ]
     },
     "execution_count": 31,
     "metadata": {},
     "output_type": "execute_result"
    }
   ],
   "source": [
    "# Create model.\n",
    "linreg = LinearRegression()\n",
    "\n",
    "# Get CV scores.\n",
    "scores = cross_validate(\n",
    "    linreg, \n",
    "    X_train_processed, \n",
    "    y_train, \n",
    "    cv=5,\n",
    "    scoring=('r2', 'neg_mean_squared_error')\n",
    "    )\n",
    "scores"
   ]
  },
  {
   "cell_type": "code",
   "execution_count": 32,
   "id": "74d92413",
   "metadata": {
    "ExecuteTime": {
     "end_time": "2021-08-10T19:40:01.234338Z",
     "start_time": "2021-08-10T19:40:01.228193Z"
    }
   },
   "outputs": [
    {
     "data": {
      "text/plain": [
       "array([0.80268185, 0.87307597, 0.80070871, 0.7810437 , 0.7938275 ])"
      ]
     },
     "execution_count": 32,
     "metadata": {},
     "output_type": "execute_result"
    }
   ],
   "source": [
    "test_r2_score = scores['test_r2']\n",
    "test_r2_score"
   ]
  },
  {
   "cell_type": "code",
   "execution_count": 33,
   "id": "38c6fa8c",
   "metadata": {
    "ExecuteTime": {
     "end_time": "2021-08-10T19:40:01.242147Z",
     "start_time": "2021-08-10T19:40:01.237336Z"
    }
   },
   "outputs": [
    {
     "data": {
      "text/plain": [
       "array([-11.69724911,  -7.80836967, -14.34231814, -13.60523721,\n",
       "       -10.30720635])"
      ]
     },
     "execution_count": 33,
     "metadata": {},
     "output_type": "execute_result"
    }
   ],
   "source": [
    "# Isolate scores.\n",
    "test_scores = scores['test_neg_mean_squared_error']\n",
    "test_scores"
   ]
  },
  {
   "cell_type": "code",
   "execution_count": null,
   "id": "82fb7ea1",
   "metadata": {},
   "outputs": [],
   "source": []
  }
 ],
 "metadata": {
  "kernelspec": {
   "display_name": "Python 3",
   "language": "python",
   "name": "python3"
  },
  "language_info": {
   "codemirror_mode": {
    "name": "ipython",
    "version": 3
   },
   "file_extension": ".py",
   "mimetype": "text/x-python",
   "name": "python",
   "nbconvert_exporter": "python",
   "pygments_lexer": "ipython3",
   "version": "3.6.9"
  },
  "toc": {
   "base_numbering": 1,
   "nav_menu": {},
   "number_sections": false,
   "sideBar": true,
   "skip_h1_title": false,
   "title_cell": "Table of Contents",
   "title_sidebar": "Contents",
   "toc_cell": false,
   "toc_position": {
    "height": "calc(100% - 180px)",
    "left": "10px",
    "top": "150px",
    "width": "390.1px"
   },
   "toc_section_display": true,
   "toc_window_display": true
  }
 },
 "nbformat": 4,
 "nbformat_minor": 5
}
