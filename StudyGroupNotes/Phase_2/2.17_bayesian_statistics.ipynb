{
 "cells": [
  {
   "cell_type": "markdown",
   "id": "41181903",
   "metadata": {},
   "source": [
    "## Phase 2.17\n",
    "\n",
    "# Bayesian Statistics"
   ]
  },
  {
   "cell_type": "markdown",
   "id": "516cf436",
   "metadata": {
    "id": "ymeZLlfY0oci"
   },
   "source": [
    "## Objectives\n",
    "- Contrast Bayesian and Frequentist philosophies of probability.\n",
    "- Use Bayes' Theorem to update a prior belief."
   ]
  },
  {
   "cell_type": "markdown",
   "id": "f311881e",
   "metadata": {
    "id": "B3pdp7xd0ock"
   },
   "source": [
    "# *Frequentists vs Bayesians*: \n",
    "\n",
    "<img src='images/freq_bayes.png'>\n",
    "\n",
    "**Frequentists** interpretation of probability: the limit of frequency after many, many trials.\n",
    "\n",
    "Basically, the Bayesians assign a probability to a hypothesis but Frequentists test a hypothesis and determine probability with repeated trials.\n",
    "\n",
    "Some days you're a Frequentist, other days you're a Bayesian."
   ]
  },
  {
   "cell_type": "markdown",
   "id": "a4993c07",
   "metadata": {
    "id": "tBcxVG_i0ocl"
   },
   "source": [
    "# Thomas Bayes\n",
    "\n",
    "- Bayesian inference calculates the probability of an outcome using prior knowledge or belief."
   ]
  },
  {
   "cell_type": "markdown",
   "id": "fba9accf",
   "metadata": {
    "id": "a95pJHIv0ocn"
   },
   "source": [
    "## Bayes' Theorem\n",
    "\n",
    "Fun fact: Bayes never published. He felt it was so obvious. \n",
    "\n",
    "Richard Price (friend of Mr. Bayes) went through papers after Bayes' death to see if anything was worth publishing.\n",
    "\n",
    "$\\LARGE P(A|B) =  \\frac{P(B|A)P(A)}{P(B)}$\n",
    "\n",
    "Each part (note, depending how you approach this, you might group different parts together):\n",
    "\n",
    "- $\\large P(A)$: the probability of event A, aka. *prior*\n",
    "- $\\large P(A|B)$: *posterior*\n",
    "- $\\large P(B|A)$: *likelihood*\n",
    "- $\\large \\frac{1}{P(B)}$: the probability of event B"
   ]
  },
  {
   "cell_type": "markdown",
   "id": "8c077f1d",
   "metadata": {
    "id": "0z-YnYYd0oco"
   },
   "source": [
    "## The Example: Fan of a Movie \n",
    "\n",
    "Based on my experience, I found about 1 in 5 people (or 20%) also are fans of the vampire-werewolf saga, Twilight. \n",
    "\n",
    "When I met my friend, Rory, they told me they just watched _The Twilight Saga: New Moon_ (the second movie) at a friend's house!\n",
    "\n",
    "There are two possible scenarios here:\n",
    "\n",
    "1. Rory is a fan and watched the beloved sequel to _Twilight_. I estimate that if you're a fan, the chances of you watching one the five awe-inspiring movies is about 60%. (It would be more, but we fans get busy.)\n",
    "\n",
    "2. Rory isn't a fan and watched the sequel because it was just on. I estimate that if you're not a fan, there's only a 5% chance of you watching one of the movies (about 10x less likely)."
   ]
  },
  {
   "cell_type": "markdown",
   "id": "855be465",
   "metadata": {
    "id": "w_Yh3OgY0ocp"
   },
   "source": [
    "Let's define two events:\n",
    "\n",
    "* $A$ = 🌙 fan\n",
    "* $B$ = watched 🌙\n",
    "\n",
    "Reviewing Bayes' Theorem, we get:"
   ]
  },
  {
   "cell_type": "markdown",
   "id": "f7cf8e06",
   "metadata": {
    "id": "ui8ryLcn0ocp"
   },
   "source": [
    "$P(A) = P(\\text{🌙 fan}) = 0.20$\n",
    "\n",
    "$P(B|A) = P(\\text{watched 🌙, given you are a 🌙 fan}) = 0.60$\n",
    "\n",
    "$P(B|\\neg A) = P(\\text{watched 🌙, given you are NOT a 🌙 fan}) = 0.05$\n",
    "\n",
    "$\\Large \\begin{aligned}\n",
    "P(B) &= P(\\text{watched 🌙})  \\\\\n",
    "     &= P(B|A)\\cdot P(A) + P(B|\\neg A)\\cdot P(\\neg A) \\\\\n",
    "     &= 0.60\\cdot 0.20 + 0.05\\cdot 0.80 \\\\\n",
    "     &= 0.16 \n",
    "\\end{aligned}$"
   ]
  },
  {
   "cell_type": "markdown",
   "id": "e3c207f7",
   "metadata": {
    "id": "2cfJiudJ0ocq"
   },
   "source": [
    "So we get that the chances of someone like Rory is a _Twilight_ fan is:\n",
    "\n",
    "$$\\Large \\begin{aligned}\n",
    "P(A|B) &= P(\\text{🌙 fan, given you watched 🌙}) \\\\ \n",
    "       &= \\frac{P(B|A)P(A)}{P(B)} \\\\\n",
    "       &= \\frac{0.60 \\cdot 0.20}{0.16} \\\\\n",
    "       &= 0.75\n",
    "\\end{aligned}$$"
   ]
  },
  {
   "cell_type": "markdown",
   "id": "161cf701",
   "metadata": {
    "id": "CKX4CxfV0ocq"
   },
   "source": [
    "So there's a $75\\%$ chance Rory is a fan too!"
   ]
  },
  {
   "cell_type": "markdown",
   "id": "90f97169",
   "metadata": {
    "id": "kgURSf1x0ocq"
   },
   "source": [
    "## Visualizing Probabilities & Bayes"
   ]
  },
  {
   "cell_type": "markdown",
   "id": "026069f9",
   "metadata": {
    "id": "ah-CLCa40ocq"
   },
   "source": [
    "Imagine we have a population of $50$ people. We'd get:\n",
    "\n",
    "-  $0.2\\cdot 50 = 10$ are _Twilight_ fans\n",
    "    - 4 haven't watched: 🌙\n",
    "    - 6 have watched: 🧛\n",
    "-  $0.8\\cdot 50 = 40$ are not _Twilight_ fans: \n",
    "    - 38 haven't watched: 🙂\n",
    "    - 2 have watched: 👁\n",
    "\n",
    "<pre>\n",
    "\n",
    "🧛🧛👁👁🙂🙂🙂🙂🙂🙂\n",
    "🧛🧛🙂🙂🙂🙂🙂🙂🙂🙂\n",
    "🧛🧛🙂🙂🙂🙂🙂🙂🙂🙂\n",
    "🌙🌙🙂🙂🙂🙂🙂🙂🙂🙂\n",
    "🌙🌙🙂🙂🙂🙂🙂🙂🙂🙂\n",
    "\n",
    "</pre>"
   ]
  },
  {
   "cell_type": "markdown",
   "id": "78c2084e",
   "metadata": {
    "id": "ARVcjhms0ocr"
   },
   "source": [
    "But we only care about those who watched (🧛 & 👁). So given that Rory watched one of the movies, we only care about this subset:\n",
    "\n",
    "<pre>\n",
    "\n",
    "🧛🧛👁👁\n",
    "🧛🧛\n",
    "🧛🧛\n",
    "\n",
    "</pre>\n",
    "\n",
    "Thus there is a $6$ out of $8$ chance Rory also is a _Twilight_ fan or simply $75\\%$"
   ]
  },
  {
   "cell_type": "markdown",
   "id": "1c9ba6e9",
   "metadata": {
    "id": "UeFeApf50ocr"
   },
   "source": [
    "# Bayes' Theorem Examples "
   ]
  },
  {
   "cell_type": "markdown",
   "id": "6b1ca0a9",
   "metadata": {
    "id": "MNuqiI6r0ocr"
   },
   "source": [
    "## Scenario: Diagnostic Testing 🤢\n",
    "\n",
    "Pretend we test positive for a rare disease. What are the chances that we actually have the disease?"
   ]
  },
  {
   "cell_type": "markdown",
   "id": "85b3862c",
   "metadata": {
    "id": "xfVGlu0I0ocr"
   },
   "source": [
    "- The disease is rare: only 0.01% of the population has it\n",
    "- The test will be correct 99% of the time, whether or not you have the disease "
   ]
  },
  {
   "cell_type": "markdown",
   "id": "027ea4cb",
   "metadata": {
    "id": "vOm7UIlM0ocs"
   },
   "source": [
    "## Defining Events & Probabilities"
   ]
  },
  {
   "cell_type": "markdown",
   "id": "145d6ac7",
   "metadata": {
    "id": "Wdh91mzt0ocs"
   },
   "source": [
    "$A$ → I have the disease\n",
    "\n",
    "$B$ → I test positive\n",
    "\n",
    "----------\n",
    "\n",
    "$P(A) = P(\\text{have the disease}) = 0.0001$\n",
    "\n",
    "$P(B)$ = $P(\\text{test positive})$\n",
    "\n",
    "$P(A|B)$ = $P(\\text{having the disease given that test positive})$\n"
   ]
  },
  {
   "cell_type": "markdown",
   "id": "9e350b11",
   "metadata": {
    "id": "I5xkzF6j0ocs"
   },
   "source": [
    "## Use Bayes' Theorem"
   ]
  },
  {
   "cell_type": "markdown",
   "id": "0587d7f9",
   "metadata": {
    "id": "rhQ3HnMP0oct"
   },
   "source": [
    "$\\LARGE P(sick | positive) =  \\frac{P(positive | sick)\\ P(sick)}{P(positive)}$"
   ]
  },
  {
   "cell_type": "markdown",
   "id": "24c8382b",
   "metadata": {
    "id": "SDI9Vxn30oct"
   },
   "source": [
    "But we can be more specific by knowing the probability of testing positive for each case"
   ]
  },
  {
   "cell_type": "markdown",
   "id": "627541f4",
   "metadata": {
    "id": "sb7ANCAp0oct"
   },
   "source": [
    "$\\LARGE P(positive) = P(sick)\\ P(positive | sick) + P(not\\ sick)\\ P(positive|not\\ sick)$"
   ]
  },
  {
   "cell_type": "markdown",
   "id": "489a84fd",
   "metadata": {
    "id": "lldLWTRI0oct"
   },
   "source": [
    "This leads to our ultimate equation"
   ]
  },
  {
   "cell_type": "markdown",
   "id": "8eb3346c",
   "metadata": {
    "id": "Mtue1gY70oct"
   },
   "source": [
    "$\\LARGE P(sick | positive) =  \\frac{P(positive | sick)\\ P(sick)}{P(sick)\\ P(positive | sick) + P(not\\ sick)\\ P(positive|not\\ sick)}$"
   ]
  },
  {
   "cell_type": "markdown",
   "id": "477ff066",
   "metadata": {
    "id": "tDR_Ab9D0oct"
   },
   "source": [
    "## Calculate Posterior Probability"
   ]
  },
  {
   "cell_type": "code",
   "execution_count": 1,
   "id": "1af21ee8",
   "metadata": {
    "ExecuteTime": {
     "end_time": "2021-08-04T19:16:59.165324Z",
     "start_time": "2021-08-04T19:16:59.153660Z"
    },
    "id": "_zSUecWe0oct"
   },
   "outputs": [],
   "source": [
    "# probability of sick & healthy\n",
    "p_sick = 0.0001\n",
    "p_not_sick = 1 - p_sick\n",
    "\n",
    "# probability of test being correct (accuracy)\n",
    "p_positive_sick = 0.99\n",
    "p_positive_not_sick = 1 - p_positive_sick\n",
    "\n",
    "# probability of positive test (whether or not you are sick)\n",
    "p_positive = p_sick*p_positive_sick + p_not_sick*p_positive_not_sick"
   ]
  },
  {
   "cell_type": "markdown",
   "id": "156989d7",
   "metadata": {
    "id": "6xZ_40K50ocu"
   },
   "source": [
    "Next, we're defining the parts for Bayes' Theorem"
   ]
  },
  {
   "cell_type": "code",
   "execution_count": 2,
   "id": "9151b6af",
   "metadata": {
    "ExecuteTime": {
     "end_time": "2021-08-04T19:16:59.174983Z",
     "start_time": "2021-08-04T19:16:59.171159Z"
    },
    "id": "tvHPeM_h0ocu"
   },
   "outputs": [],
   "source": [
    "# belief before hand\n",
    "sick_prior = p_sick\n",
    "\n",
    "# how likely are we to test positive and be sick\n",
    "pos_sick_likelihood = p_positive_sick \n",
    "\n",
    "# Add normalization\n",
    "pos_norm = p_positive"
   ]
  },
  {
   "cell_type": "code",
   "execution_count": 3,
   "id": "b15a5be4",
   "metadata": {
    "ExecuteTime": {
     "end_time": "2021-08-04T19:16:59.180925Z",
     "start_time": "2021-08-04T19:16:59.178207Z"
    },
    "id": "l7UXgwEv0ocu"
   },
   "outputs": [],
   "source": [
    "#finish the find_posterior function \n",
    "def find_posterior(prior, likelihood, norm):\n",
    "    return (likelihood * prior)/ norm"
   ]
  },
  {
   "cell_type": "markdown",
   "id": "bd23bfe5",
   "metadata": {
    "id": "EQpkLw000ocu"
   },
   "source": [
    "Lastly, we use the function to calculate our result"
   ]
  },
  {
   "cell_type": "code",
   "execution_count": 4,
   "id": "a26929ef",
   "metadata": {
    "ExecuteTime": {
     "end_time": "2021-08-04T19:16:59.188637Z",
     "start_time": "2021-08-04T19:16:59.184052Z"
    },
    "id": "T8Suy3Z-0ocv",
    "outputId": "bda4a059-d94d-4009-b1d7-ca81fb61e2ea"
   },
   "outputs": [
    {
     "name": "stdout",
     "output_type": "stream",
     "text": [
      "You have a 0.98% chance of actually being sick\n"
     ]
    }
   ],
   "source": [
    "prob_youre_sick = find_posterior(sick_prior, pos_sick_likelihood, pos_norm)\n",
    "\n",
    "print(f'You have a {prob_youre_sick*100:.2f}% chance of actually being sick')"
   ]
  },
  {
   "cell_type": "markdown",
   "id": "dca8fcfb",
   "metadata": {
    "id": "64JFFHVz0ocv"
   },
   "source": [
    "## The Monty Hall Problem \n",
    "Bayesian reasoning applies naturally and neatly to the famous Monty Hall Problem. - [video](https://www.khanacademy.org/partner-content/wi-phi/wiphi-metaphysics-epistemology/probability-philosophy/v/the-monty-hall-problem)"
   ]
  },
  {
   "cell_type": "markdown",
   "id": "b6b2f175",
   "metadata": {
    "id": "CtYWmsvd0ocw"
   },
   "source": [
    "### Posterior Probability that the Prize Is Behind Your Door\n",
    "Let's calculate the posterior probability that the prize is behind Door #1, given the evidence that Hall shows you that it is not behind Door #2:\n",
    "\n",
    "What is the prior probability that the prize is behind Door #1?"
   ]
  },
  {
   "cell_type": "code",
   "execution_count": 5,
   "id": "6049d590",
   "metadata": {
    "ExecuteTime": {
     "end_time": "2021-08-04T19:16:59.210750Z",
     "start_time": "2021-08-04T19:16:59.194930Z"
    },
    "id": "mukxxYW50ocw",
    "outputId": "be35c3d2-8722-4b0c-f6fd-f6055ea71c76"
   },
   "outputs": [
    {
     "data": {
      "text/plain": [
       "0.3333333333333333"
      ]
     },
     "execution_count": 5,
     "metadata": {},
     "output_type": "execute_result"
    }
   ],
   "source": [
    "prior_1 = 1/3\n",
    "prior_1"
   ]
  },
  {
   "cell_type": "markdown",
   "id": "6ac5b25a",
   "metadata": {
    "id": "4pSOmRmr0ocw"
   },
   "source": [
    "Now let's consider the likelihood of the evidence: What is the probability that Hall would show you that it is not behind Door #2, given the hypothesis that the prize is behind Door #1?"
   ]
  },
  {
   "cell_type": "code",
   "execution_count": 6,
   "id": "f7adcd3d",
   "metadata": {
    "ExecuteTime": {
     "end_time": "2021-08-04T19:16:59.219096Z",
     "start_time": "2021-08-04T19:16:59.213803Z"
    },
    "id": "TeCMSgQA0ocw",
    "outputId": "e5256dce-f636-4a14-88b1-37fb0097e235"
   },
   "outputs": [
    {
     "data": {
      "text/plain": [
       "0.5"
      ]
     },
     "execution_count": 6,
     "metadata": {},
     "output_type": "execute_result"
    }
   ],
   "source": [
    "likelihood_1 = 1/2\n",
    "likelihood_1"
   ]
  },
  {
   "cell_type": "markdown",
   "id": "3f997149",
   "metadata": {
    "id": "NciRDue10ocw"
   },
   "source": [
    "Finally, let's calculate the probability of the evidence itself:\n",
    "\n",
    "There are three salient hypotheses to consider:\n",
    "\n",
    "$h_1$: The prize is behind Door #1.<br/>\n",
    "$h_2$: The prize is behind Door #2.<br/>\n",
    "$h_3$: The prize is behind Door #3.\n",
    "And our evidence is:\n",
    "\n",
    "$e$: Hall shows you that the prize is not behind Door #2.\n",
    "We can calculate the probability as follows:\n",
    "\n",
    "$P(e) = P(e | h_1)\\times P(h_1) + P(e | h_2)\\times P(h_2) + P(e | h_3)\\times P(h_3)$.\n",
    "\n",
    "We've already made the calculation for the first term:\n",
    "\n",
    "$P(e | h_1)\\times P(h_1) = \\frac{1}{2}\\times\\frac{1}{3} = \\frac{1}{6}$.\n",
    "\n",
    "Now:\n",
    "\n",
    "The probability that Hall would show you Door #2, given that the prize is behind Door #2, is zero. (This is by the rules of the game.)\n",
    "\n",
    "The probability that Hall would show you Door #2, given that the prize is behind Door #3, is one. (Here Hall's hand would be forced, since he can, by the rules, show you neither the door that you chose (#1) nor the door with the prize (#3).)\n",
    "\n",
    "So we have:\n",
    "\n",
    "$P(e) = \\frac{1}{2}\\times\\frac{1}{3} + (0)\\times\\frac{1}{3} + (1)\\times\\frac{1}{3} = \\frac{1}{2}$.\n",
    "\n",
    "We are finally in a position to calculate the posterior! We have:\n",
    "\n",
    "$\\large P(h_1 | e) = \\frac{P(e | h_1)\\times P(h)}{P(e)} = \\frac{1 / 6}{1 / 2} = \\frac{1}{3}$.\n",
    "\n",
    "That is, our updated probability that the prize is behind Door #1 is just the same as the prior. It's still just $\\frac{1}{3}$"
   ]
  },
  {
   "cell_type": "markdown",
   "id": "8ff3b0e1",
   "metadata": {
    "id": "Fc_slM3r0ocx"
   },
   "source": [
    "The posterior probability that the prize is behind Door #3, given the evidence that Hall has shown you what's behind Door #2, ought to work out to $\\frac{2}{3}$. Let's verify this:\n",
    "\n",
    "What is the prior probability that the prize is behind Door #3?"
   ]
  },
  {
   "cell_type": "code",
   "execution_count": 7,
   "id": "895bd481",
   "metadata": {
    "ExecuteTime": {
     "end_time": "2021-08-04T19:16:59.227439Z",
     "start_time": "2021-08-04T19:16:59.222534Z"
    },
    "id": "FbeLaeTL0ocx",
    "outputId": "3b676102-dae8-4ad0-8895-4d7d04c836c4"
   },
   "outputs": [
    {
     "data": {
      "text/plain": [
       "0.3333333333333333"
      ]
     },
     "execution_count": 7,
     "metadata": {},
     "output_type": "execute_result"
    }
   ],
   "source": [
    "prior_1"
   ]
  },
  {
   "cell_type": "markdown",
   "id": "8006a0a2",
   "metadata": {
    "id": "qWbHTJ3b0ocx"
   },
   "source": [
    "Now the likelihood: What's the probability that Hall would show you Door #2, given that the prize is behind Door #3?"
   ]
  },
  {
   "cell_type": "code",
   "execution_count": 8,
   "id": "f985bd49",
   "metadata": {
    "ExecuteTime": {
     "end_time": "2021-08-04T19:16:59.233383Z",
     "start_time": "2021-08-04T19:16:59.229248Z"
    },
    "id": "eJDMz4CB0ocx",
    "outputId": "b6fdf98b-a4bf-4b16-be36-1337a856542e"
   },
   "outputs": [
    {
     "data": {
      "text/plain": [
       "0.5"
      ]
     },
     "execution_count": 8,
     "metadata": {},
     "output_type": "execute_result"
    }
   ],
   "source": [
    "likelihood_1"
   ]
  },
  {
   "cell_type": "markdown",
   "id": "8fbb9e22",
   "metadata": {
    "id": "ds4HUt0t0ocx"
   },
   "source": [
    "We've already made our calculation of the evidence. From before we had:\n",
    "\n",
    "$P(e) = \\frac{1}{2}\\times\\frac{1}{3} + (0)\\times\\frac{1}{3} + (1)\\times\\frac{1}{3} = \\frac{1}{2}$.\n",
    "\n",
    "So now we are in a position to calculate the posterior probability that the prize is behind Door #3. We have:\n",
    "\n",
    "$\\large P(h_3 | e) = \\frac{P(e | h_3)\\times P(h1)}{P(e)} = \\frac{1 / 3}{1 / 2} = \\frac{2}{3}$.\n",
    "\n",
    "Given that Hall shows us what's behind Door #2, we should now update our degree of belief that the prize is behind Door #3 to $\\frac{2}{3}$!"
   ]
  },
  {
   "cell_type": "markdown",
   "id": "b24203d4",
   "metadata": {
    "id": "q8w8XJDV0ocm"
   },
   "source": [
    "# Additional Resources \n",
    "\n",
    "> ***3Blue1Brown***\n",
    ">\n",
    "> *Bayes Theorem Demonstration https://www.youtube.com/watch?v=HZGCoVF3YvM*\n",
    "\n",
    "---\n",
    "\n",
    "> *Why C3P0 is Wrong & Han Solo is a Badass*\n",
    "> \n",
    "> *\"Never tell me the odds!\" https://www.countbayesie.com/blog/2015/2/18/hans-solo-and-bayesian-priors*\n",
    "> \n",
    "> *Han is a one great pilot, so he likely will get through the asteroid field even if others will fail (crash and blow-up)*\n",
    "\n",
    "---\n",
    "\n",
    "> *Sidebar: Bayes' Original Thought Experiment*\n",
    "> \n",
    "> *Good explanation & demo of Bayes' first thought experiment: https://www.youtube.com/watch?v=7GgLSnQ48os*\n",
    ">\n",
    "> - *Sit facing away a table*\n",
    "> - *Place an initial ball on table*\n",
    "> - *Toss another ball & assistant says where in relation the 1st ball lies*\n",
    "> - *Repeat & continuously update the belief where the ball is*\n",
    "\n",
    "---\n",
    "\n",
    "> ***MLE***\n",
    ">\n",
    "> *I have a love-hate relationship with StatQuest (as intended, I suppose): https://youtu.be/XepXtl9YKwc*\n",
    ">\n",
    "> *A very good explanation nonetheless.*"
   ]
  }
 ],
 "metadata": {
  "kernelspec": {
   "display_name": "Python 3",
   "language": "python",
   "name": "python3"
  },
  "language_info": {
   "codemirror_mode": {
    "name": "ipython",
    "version": 3
   },
   "file_extension": ".py",
   "mimetype": "text/x-python",
   "name": "python",
   "nbconvert_exporter": "python",
   "pygments_lexer": "ipython3",
   "version": "3.6.9"
  },
  "toc": {
   "base_numbering": 1,
   "nav_menu": {},
   "number_sections": false,
   "sideBar": true,
   "skip_h1_title": false,
   "title_cell": "Table of Contents",
   "title_sidebar": "Contents",
   "toc_cell": false,
   "toc_position": {
    "height": "calc(100% - 180px)",
    "left": "10px",
    "top": "150px",
    "width": "256.388px"
   },
   "toc_section_display": true,
   "toc_window_display": true
  }
 },
 "nbformat": 4,
 "nbformat_minor": 5
}
