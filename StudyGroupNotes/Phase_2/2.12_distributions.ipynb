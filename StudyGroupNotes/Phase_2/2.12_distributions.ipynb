{
 "cells": [
  {
   "cell_type": "markdown",
   "id": "4c6bb54a",
   "metadata": {},
   "source": [
    "## Phase 2.12\n",
    "\n",
    "# Distributions\n",
    "\n",
    "## Objectives\n",
    "- Relate the concepts of distributions and normality back to data we are familiar with.\n",
    "- Discuss outliers, ways to detect them and remove them.\n",
    "- Discuss Z-scores and the ways we can calculate them.\n",
    "- Discuss normality and how to asses it."
   ]
  },
  {
   "cell_type": "markdown",
   "id": "2992e81e",
   "metadata": {},
   "source": [
    "#### Loading Data"
   ]
  },
  {
   "cell_type": "code",
   "execution_count": 1,
   "id": "8c5620a0",
   "metadata": {
    "ExecuteTime": {
     "end_time": "2021-07-27T18:37:47.962871Z",
     "start_time": "2021-07-27T18:37:47.425642Z"
    }
   },
   "outputs": [],
   "source": [
    "import pandas as pd"
   ]
  },
  {
   "cell_type": "code",
   "execution_count": 2,
   "id": "5162c696",
   "metadata": {
    "ExecuteTime": {
     "end_time": "2021-07-27T18:37:48.527762Z",
     "start_time": "2021-07-27T18:37:48.476952Z"
    }
   },
   "outputs": [
    {
     "data": {
      "text/html": [
       "<div>\n",
       "<style scoped>\n",
       "    .dataframe tbody tr th:only-of-type {\n",
       "        vertical-align: middle;\n",
       "    }\n",
       "\n",
       "    .dataframe tbody tr th {\n",
       "        vertical-align: top;\n",
       "    }\n",
       "\n",
       "    .dataframe thead th {\n",
       "        text-align: right;\n",
       "    }\n",
       "</style>\n",
       "<table border=\"1\" class=\"dataframe\">\n",
       "  <thead>\n",
       "    <tr style=\"text-align: right;\">\n",
       "      <th></th>\n",
       "      <th>id</th>\n",
       "      <th>release_date</th>\n",
       "      <th>movie</th>\n",
       "      <th>production_budget</th>\n",
       "      <th>domestic_gross</th>\n",
       "      <th>worldwide_gross</th>\n",
       "      <th>tconst</th>\n",
       "      <th>primary_title</th>\n",
       "      <th>original_title</th>\n",
       "      <th>start_year</th>\n",
       "      <th>runtime_minutes</th>\n",
       "      <th>genres</th>\n",
       "      <th>revenue-domestic</th>\n",
       "      <th>revenue-worldwide</th>\n",
       "      <th>lost_money</th>\n",
       "      <th>roi-domestic</th>\n",
       "      <th>roi-worldwide</th>\n",
       "      <th>release_month</th>\n",
       "    </tr>\n",
       "  </thead>\n",
       "  <tbody>\n",
       "    <tr>\n",
       "      <th>0</th>\n",
       "      <td>2</td>\n",
       "      <td>2011-05-20</td>\n",
       "      <td>Pirates of the Caribbean: On Stranger Tides</td>\n",
       "      <td>410600000.0</td>\n",
       "      <td>241063875.0</td>\n",
       "      <td>1.045664e+09</td>\n",
       "      <td>tt1298650</td>\n",
       "      <td>Pirates of the Caribbean: On Stranger Tides</td>\n",
       "      <td>Pirates of the Caribbean: On Stranger Tides</td>\n",
       "      <td>2011</td>\n",
       "      <td>136.0</td>\n",
       "      <td>Action,Adventure,Fantasy</td>\n",
       "      <td>-169536125.0</td>\n",
       "      <td>6.350639e+08</td>\n",
       "      <td>True</td>\n",
       "      <td>-41.289850</td>\n",
       "      <td>154.667286</td>\n",
       "      <td>5</td>\n",
       "    </tr>\n",
       "    <tr>\n",
       "      <th>1</th>\n",
       "      <td>3</td>\n",
       "      <td>2019-06-07</td>\n",
       "      <td>Dark Phoenix</td>\n",
       "      <td>350000000.0</td>\n",
       "      <td>42762350.0</td>\n",
       "      <td>1.497624e+08</td>\n",
       "      <td>tt6565702</td>\n",
       "      <td>Dark Phoenix</td>\n",
       "      <td>Dark Phoenix</td>\n",
       "      <td>2019</td>\n",
       "      <td>113.0</td>\n",
       "      <td>Action,Adventure,Sci-Fi</td>\n",
       "      <td>-307237650.0</td>\n",
       "      <td>-2.002376e+08</td>\n",
       "      <td>True</td>\n",
       "      <td>-87.782186</td>\n",
       "      <td>-57.210757</td>\n",
       "      <td>6</td>\n",
       "    </tr>\n",
       "    <tr>\n",
       "      <th>2</th>\n",
       "      <td>4</td>\n",
       "      <td>2015-05-01</td>\n",
       "      <td>Avengers: Age of Ultron</td>\n",
       "      <td>330600000.0</td>\n",
       "      <td>459005868.0</td>\n",
       "      <td>1.403014e+09</td>\n",
       "      <td>tt2395427</td>\n",
       "      <td>Avengers: Age of Ultron</td>\n",
       "      <td>Avengers: Age of Ultron</td>\n",
       "      <td>2015</td>\n",
       "      <td>141.0</td>\n",
       "      <td>Action,Adventure,Sci-Fi</td>\n",
       "      <td>128405868.0</td>\n",
       "      <td>1.072414e+09</td>\n",
       "      <td>False</td>\n",
       "      <td>38.840250</td>\n",
       "      <td>324.384139</td>\n",
       "      <td>5</td>\n",
       "    </tr>\n",
       "    <tr>\n",
       "      <th>3</th>\n",
       "      <td>7</td>\n",
       "      <td>2018-04-27</td>\n",
       "      <td>Avengers: Infinity War</td>\n",
       "      <td>300000000.0</td>\n",
       "      <td>678815482.0</td>\n",
       "      <td>2.048134e+09</td>\n",
       "      <td>tt4154756</td>\n",
       "      <td>Avengers: Infinity War</td>\n",
       "      <td>Avengers: Infinity War</td>\n",
       "      <td>2018</td>\n",
       "      <td>149.0</td>\n",
       "      <td>Action,Adventure,Sci-Fi</td>\n",
       "      <td>378815482.0</td>\n",
       "      <td>1.748134e+09</td>\n",
       "      <td>False</td>\n",
       "      <td>126.271827</td>\n",
       "      <td>582.711400</td>\n",
       "      <td>4</td>\n",
       "    </tr>\n",
       "    <tr>\n",
       "      <th>4</th>\n",
       "      <td>9</td>\n",
       "      <td>2017-11-17</td>\n",
       "      <td>Justice League</td>\n",
       "      <td>300000000.0</td>\n",
       "      <td>229024295.0</td>\n",
       "      <td>6.559452e+08</td>\n",
       "      <td>tt0974015</td>\n",
       "      <td>Justice League</td>\n",
       "      <td>Justice League</td>\n",
       "      <td>2017</td>\n",
       "      <td>120.0</td>\n",
       "      <td>Action,Adventure,Fantasy</td>\n",
       "      <td>-70975705.0</td>\n",
       "      <td>3.559452e+08</td>\n",
       "      <td>True</td>\n",
       "      <td>-23.658568</td>\n",
       "      <td>118.648403</td>\n",
       "      <td>11</td>\n",
       "    </tr>\n",
       "  </tbody>\n",
       "</table>\n",
       "</div>"
      ],
      "text/plain": [
       "   id release_date                                        movie  \\\n",
       "0   2   2011-05-20  Pirates of the Caribbean: On Stranger Tides   \n",
       "1   3   2019-06-07                                 Dark Phoenix   \n",
       "2   4   2015-05-01                      Avengers: Age of Ultron   \n",
       "3   7   2018-04-27                       Avengers: Infinity War   \n",
       "4   9   2017-11-17                               Justice League   \n",
       "\n",
       "   production_budget  domestic_gross  worldwide_gross     tconst  \\\n",
       "0        410600000.0     241063875.0     1.045664e+09  tt1298650   \n",
       "1        350000000.0      42762350.0     1.497624e+08  tt6565702   \n",
       "2        330600000.0     459005868.0     1.403014e+09  tt2395427   \n",
       "3        300000000.0     678815482.0     2.048134e+09  tt4154756   \n",
       "4        300000000.0     229024295.0     6.559452e+08  tt0974015   \n",
       "\n",
       "                                 primary_title  \\\n",
       "0  Pirates of the Caribbean: On Stranger Tides   \n",
       "1                                 Dark Phoenix   \n",
       "2                      Avengers: Age of Ultron   \n",
       "3                       Avengers: Infinity War   \n",
       "4                               Justice League   \n",
       "\n",
       "                                original_title  start_year  runtime_minutes  \\\n",
       "0  Pirates of the Caribbean: On Stranger Tides        2011            136.0   \n",
       "1                                 Dark Phoenix        2019            113.0   \n",
       "2                      Avengers: Age of Ultron        2015            141.0   \n",
       "3                       Avengers: Infinity War        2018            149.0   \n",
       "4                               Justice League        2017            120.0   \n",
       "\n",
       "                     genres  revenue-domestic  revenue-worldwide  lost_money  \\\n",
       "0  Action,Adventure,Fantasy      -169536125.0       6.350639e+08        True   \n",
       "1   Action,Adventure,Sci-Fi      -307237650.0      -2.002376e+08        True   \n",
       "2   Action,Adventure,Sci-Fi       128405868.0       1.072414e+09       False   \n",
       "3   Action,Adventure,Sci-Fi       378815482.0       1.748134e+09       False   \n",
       "4  Action,Adventure,Fantasy       -70975705.0       3.559452e+08        True   \n",
       "\n",
       "   roi-domestic  roi-worldwide  release_month  \n",
       "0    -41.289850     154.667286              5  \n",
       "1    -87.782186     -57.210757              6  \n",
       "2     38.840250     324.384139              5  \n",
       "3    126.271827     582.711400              4  \n",
       "4    -23.658568     118.648403             11  "
      ]
     },
     "execution_count": 2,
     "metadata": {},
     "output_type": "execute_result"
    }
   ],
   "source": [
    "df = pd.read_csv('data/movies.csv', index_col=0)\n",
    "df.head()"
   ]
  },
  {
   "cell_type": "code",
   "execution_count": 3,
   "id": "f3038f17",
   "metadata": {
    "ExecuteTime": {
     "end_time": "2021-07-27T18:37:48.707299Z",
     "start_time": "2021-07-27T18:37:48.692963Z"
    }
   },
   "outputs": [
    {
     "name": "stdout",
     "output_type": "stream",
     "text": [
      "<class 'pandas.core.frame.DataFrame'>\n",
      "Int64Index: 3467 entries, 0 to 3466\n",
      "Data columns (total 18 columns):\n",
      " #   Column             Non-Null Count  Dtype  \n",
      "---  ------             --------------  -----  \n",
      " 0   id                 3467 non-null   int64  \n",
      " 1   release_date       3467 non-null   object \n",
      " 2   movie              3467 non-null   object \n",
      " 3   production_budget  3467 non-null   float64\n",
      " 4   domestic_gross     3467 non-null   float64\n",
      " 5   worldwide_gross    3467 non-null   float64\n",
      " 6   tconst             3467 non-null   object \n",
      " 7   primary_title      3467 non-null   object \n",
      " 8   original_title     3467 non-null   object \n",
      " 9   start_year         3467 non-null   int64  \n",
      " 10  runtime_minutes    3056 non-null   float64\n",
      " 11  genres             3467 non-null   object \n",
      " 12  revenue-domestic   3467 non-null   float64\n",
      " 13  revenue-worldwide  3467 non-null   float64\n",
      " 14  lost_money         3467 non-null   bool   \n",
      " 15  roi-domestic       3467 non-null   float64\n",
      " 16  roi-worldwide      3467 non-null   float64\n",
      " 17  release_month      3467 non-null   int64  \n",
      "dtypes: bool(1), float64(8), int64(3), object(6)\n",
      "memory usage: 490.9+ KB\n"
     ]
    }
   ],
   "source": [
    "df.info()"
   ]
  },
  {
   "cell_type": "markdown",
   "id": "07056872",
   "metadata": {},
   "source": [
    "# Visualizing Distributions"
   ]
  },
  {
   "cell_type": "code",
   "execution_count": 4,
   "id": "807310e9",
   "metadata": {
    "ExecuteTime": {
     "end_time": "2021-07-27T18:38:20.567270Z",
     "start_time": "2021-07-27T18:38:19.733917Z"
    }
   },
   "outputs": [],
   "source": [
    "import seaborn as sns\n",
    "import matplotlib.pyplot as plt\n",
    "plt.style.use('seaborn-talk')"
   ]
  },
  {
   "cell_type": "markdown",
   "id": "19b2f67e",
   "metadata": {},
   "source": [
    "## Normal Distribution\n",
    "> *AKA: Gaussian / Bell Curve*\n",
    "\n",
    "<img src='images/standard-normal-distribution-with-probabilities.png'>\n",
    "\n",
    "\n",
    "- Normal Distributions are symmetric around the mean.\n",
    "- The mean, median, mode of a normal distribution are equal.\n",
    "- The area under the bell curve is $1.0$.\n",
    "- Normal distributions are dense in the center and less dense in the tails.\n",
    "- Normal distributions are defined by two parameters: $\\mu$ (mean) and $\\sigma$ (standard deviation).\n",
    "- Approximately $68\\%$ of the area of a normal distribution is within one standard deviation of the mean.\n",
    "    - $\\pm1\\sigma$\n",
    "- Approximately $95\\%$ of the area of a normal distribution is within two standard deviations of the mean.\n",
    "    - $\\pm2\\sigma$"
   ]
  },
  {
   "cell_type": "markdown",
   "id": "194ed934",
   "metadata": {},
   "source": [
    "### Probability Mass Function (PMF)\n",
    "\n",
    "- The **Probability Mass Function** associates *probabilities with **discrete** variables.*\n",
    "    - *Discrete:* a number of known possible outcomes."
   ]
  },
  {
   "cell_type": "code",
   "execution_count": 5,
   "id": "29c27703",
   "metadata": {
    "ExecuteTime": {
     "end_time": "2021-07-27T18:47:17.748952Z",
     "start_time": "2021-07-27T18:47:17.510958Z"
    }
   },
   "outputs": [
    {
     "data": {
      "image/png": "[encoded data removed]",
      "text/plain": [
       "<Figure size 748.8x514.8 with 1 Axes>"
      ]
     },
     "metadata": {
      "needs_background": "light"
     },
     "output_type": "display_data"
    }
   ],
   "source": [
    "# PMF\n",
    "a = (\n",
    "    pd.Series(\n",
    "        ['a','a','a','a',\n",
    "         'b','b','b','b',\n",
    "         'c','c',\n",
    "         'd',\n",
    "         'e','e']\n",
    "    )\n",
    "    .value_counts(normalize=True)\n",
    "    .sort_index()\n",
    ")\n",
    "fig, ax = plt.subplots()\n",
    "ax.bar(a.index, a)\n",
    "ax.set(title='PMF', xlabel='Discrete Variable', ylabel='Probability')\n",
    "fig.tight_layout()"
   ]
  },
  {
   "cell_type": "markdown",
   "id": "9d21ef72",
   "metadata": {},
   "source": [
    "### Probability Density Function (PDF)\n",
    "- The **Probability Density Function** associates probabilities with **continuous** variables.\n",
    "    - *Continuous:* A possibly-infinite number of outcomes.\n",
    "\n",
    "<img src='images/pdf_demo.png'>"
   ]
  },
  {
   "cell_type": "markdown",
   "id": "0b6c983c",
   "metadata": {},
   "source": [
    "### Cumulative Distribution Function (CDF)\n",
    "- The **Cumulative Distribution Function** shows $P(X \\leq x)$ for and x within the sample space.\n",
    "\n",
    "<img src='images/cdf.png'>"
   ]
  },
  {
   "cell_type": "markdown",
   "id": "15ff815d",
   "metadata": {},
   "source": [
    "## Visualizing our Dataset"
   ]
  },
  {
   "cell_type": "code",
   "execution_count": 14,
   "id": "ac0ec433",
   "metadata": {
    "ExecuteTime": {
     "end_time": "2021-07-27T18:58:17.369387Z",
     "start_time": "2021-07-27T18:58:17.018000Z"
    }
   },
   "outputs": [
    {
     "data": {
      "image/png": "[encoded data removed]",
      "text/plain": [
       "<Figure size 748.8x514.8 with 1 Axes>"
      ]
     },
     "metadata": {
      "needs_background": "light"
     },
     "output_type": "display_data"
    }
   ],
   "source": [
    "# Domestic Gross - Histogram\n",
    "fig, ax = plt.subplots()\n",
    "ax.hist(df['domestic_gross'], bins=100);"
   ]
  },
  {
   "cell_type": "code",
   "execution_count": 15,
   "id": "977ce41c",
   "metadata": {
    "ExecuteTime": {
     "end_time": "2021-07-27T19:00:54.180912Z",
     "start_time": "2021-07-27T19:00:53.832455Z"
    }
   },
   "outputs": [
    {
     "name": "stderr",
     "output_type": "stream",
     "text": [
      "/opt/anaconda3/envs/learn-env/lib/python3.6/site-packages/seaborn/distributions.py:2557: FutureWarning: `distplot` is a deprecated function and will be removed in a future version. Please adapt your code to use either `displot` (a figure-level function with similar flexibility) or `histplot` (an axes-level function for histograms).\n",
      "  warnings.warn(msg, FutureWarning)\n"
     ]
    },
    {
     "data": {
      "text/plain": [
       "<AxesSubplot:xlabel='domestic_gross', ylabel='Density'>"
      ]
     },
     "execution_count": 15,
     "metadata": {},
     "output_type": "execute_result"
    },
    {
     "data": {
      "image/png": "[encoded data removed]",
      "text/plain": [
       "<Figure size 748.8x514.8 with 1 Axes>"
      ]
     },
     "metadata": {
      "needs_background": "light"
     },
     "output_type": "display_data"
    }
   ],
   "source": [
    "# Domestic Gross - KDE\n",
    "sns.distplot(df['domestic_gross'])"
   ]
  },
  {
   "cell_type": "code",
   "execution_count": 17,
   "id": "ff4d0381",
   "metadata": {
    "ExecuteTime": {
     "end_time": "2021-07-27T19:03:21.040712Z",
     "start_time": "2021-07-27T19:03:20.882927Z"
    }
   },
   "outputs": [
    {
     "data": {
      "image/png": "[encoded data removed]",
      "text/plain": [
       "<Figure size 748.8x514.8 with 1 Axes>"
      ]
     },
     "metadata": {
      "needs_background": "light"
     },
     "output_type": "display_data"
    }
   ],
   "source": [
    "# Domestic Gross - Boxplot\n",
    "fig, ax = plt.subplots()\n",
    "ax.boxplot(df['domestic_gross']);"
   ]
  },
  {
   "cell_type": "markdown",
   "id": "c662898a",
   "metadata": {},
   "source": [
    "# Skew / Kurtosis"
   ]
  },
  {
   "cell_type": "code",
   "execution_count": 18,
   "id": "b2f0710f",
   "metadata": {
    "ExecuteTime": {
     "end_time": "2021-07-27T19:05:12.803581Z",
     "start_time": "2021-07-27T19:05:12.801021Z"
    }
   },
   "outputs": [],
   "source": [
    "from scipy import stats"
   ]
  },
  {
   "cell_type": "code",
   "execution_count": 19,
   "id": "60401216",
   "metadata": {
    "ExecuteTime": {
     "end_time": "2021-07-27T19:05:48.087422Z",
     "start_time": "2021-07-27T19:05:48.080772Z"
    }
   },
   "outputs": [
    {
     "data": {
      "text/plain": [
       "3.735313634734876"
      ]
     },
     "execution_count": 19,
     "metadata": {},
     "output_type": "execute_result"
    }
   ],
   "source": [
    "# Domestic Gross - Skew\n",
    "stats.skew(df['domestic_gross'])"
   ]
  },
  {
   "cell_type": "code",
   "execution_count": 20,
   "id": "8c823da4",
   "metadata": {
    "ExecuteTime": {
     "end_time": "2021-07-27T19:08:26.424262Z",
     "start_time": "2021-07-27T19:08:26.418352Z"
    }
   },
   "outputs": [
    {
     "data": {
      "text/plain": [
       "19.933980131434488"
      ]
     },
     "execution_count": 20,
     "metadata": {},
     "output_type": "execute_result"
    }
   ],
   "source": [
    "# Domestic Gross - Kurtosis\n",
    "stats.kurtosis(df['domestic_gross'])"
   ]
  },
  {
   "cell_type": "markdown",
   "id": "1fd2bf47",
   "metadata": {},
   "source": [
    "# Z-Score\n",
    "- A *Z-Score* tells us how many standard deviations away from the mean a point would be in a *Standard Normal Distribution*.\n",
    "\n",
    "$ \\LARGE z = \\frac{(x - \\mu)}{\\sigma} $\n",
    "> - *$z$: z-score*\n",
    "> - *$\\mu$ (mu): population mean*\n",
    "> - *$\\sigma$ (sigma): population standard deviation*\n",
    "\n",
    "---\n",
    "\n",
    "- *Z-Scores* are associated with cumulative probabilities (retrieved from a *z-table*).\n",
    "<img src='images/z-table.png' width=500>\n",
    "\n",
    "> <a src='https://www.chegg.com/homework-help/questions-and-answers/usage-z-table-1-assuming-normal-distribution-using-z-tables-find-z-score-corresponding--75-q19507214'>*Chegg.com - Usage of Z-Table*</a>"
   ]
  },
  {
   "cell_type": "code",
   "execution_count": 38,
   "id": "40a5300e",
   "metadata": {
    "ExecuteTime": {
     "end_time": "2021-07-27T19:23:38.409923Z",
     "start_time": "2021-07-27T19:23:38.387874Z"
    }
   },
   "outputs": [
    {
     "data": {
      "text/html": [
       "<div>\n",
       "<style scoped>\n",
       "    .dataframe tbody tr th:only-of-type {\n",
       "        vertical-align: middle;\n",
       "    }\n",
       "\n",
       "    .dataframe tbody tr th {\n",
       "        vertical-align: top;\n",
       "    }\n",
       "\n",
       "    .dataframe thead th {\n",
       "        text-align: right;\n",
       "    }\n",
       "</style>\n",
       "<table border=\"1\" class=\"dataframe\">\n",
       "  <thead>\n",
       "    <tr style=\"text-align: right;\">\n",
       "      <th></th>\n",
       "      <th>revenue-domestic</th>\n",
       "    </tr>\n",
       "  </thead>\n",
       "  <tbody>\n",
       "    <tr>\n",
       "      <th>0</th>\n",
       "      <td>-169536125.0</td>\n",
       "    </tr>\n",
       "    <tr>\n",
       "      <th>1</th>\n",
       "      <td>-307237650.0</td>\n",
       "    </tr>\n",
       "    <tr>\n",
       "      <th>2</th>\n",
       "      <td>128405868.0</td>\n",
       "    </tr>\n",
       "    <tr>\n",
       "      <th>3</th>\n",
       "      <td>378815482.0</td>\n",
       "    </tr>\n",
       "    <tr>\n",
       "      <th>4</th>\n",
       "      <td>-70975705.0</td>\n",
       "    </tr>\n",
       "    <tr>\n",
       "      <th>...</th>\n",
       "      <td>...</td>\n",
       "    </tr>\n",
       "    <tr>\n",
       "      <th>3462</th>\n",
       "      <td>128711.0</td>\n",
       "    </tr>\n",
       "    <tr>\n",
       "      <th>3463</th>\n",
       "      <td>84596.0</td>\n",
       "    </tr>\n",
       "    <tr>\n",
       "      <th>3464</th>\n",
       "      <td>-4416.0</td>\n",
       "    </tr>\n",
       "    <tr>\n",
       "      <th>3465</th>\n",
       "      <td>-7000.0</td>\n",
       "    </tr>\n",
       "    <tr>\n",
       "      <th>3466</th>\n",
       "      <td>-1400.0</td>\n",
       "    </tr>\n",
       "  </tbody>\n",
       "</table>\n",
       "<p>3467 rows × 1 columns</p>\n",
       "</div>"
      ],
      "text/plain": [
       "      revenue-domestic\n",
       "0         -169536125.0\n",
       "1         -307237650.0\n",
       "2          128405868.0\n",
       "3          378815482.0\n",
       "4          -70975705.0\n",
       "...                ...\n",
       "3462          128711.0\n",
       "3463           84596.0\n",
       "3464           -4416.0\n",
       "3465           -7000.0\n",
       "3466           -1400.0\n",
       "\n",
       "[3467 rows x 1 columns]"
      ]
     },
     "execution_count": 38,
     "metadata": {},
     "output_type": "execute_result"
    }
   ],
   "source": [
    "# Calculating z-score by hand.\n",
    "## Revenue - Domestic\n",
    "## Recall: z = (x - mean) / std\n",
    "my_col = df[['revenue-domestic']].copy()\n",
    "mean = my_col.mean()\n",
    "std = my_col.std()\n",
    "my_col"
   ]
  },
  {
   "cell_type": "code",
   "execution_count": 39,
   "id": "5e02eee6",
   "metadata": {
    "ExecuteTime": {
     "end_time": "2021-07-27T19:23:41.437702Z",
     "start_time": "2021-07-27T19:23:41.427316Z"
    }
   },
   "outputs": [
    {
     "data": {
      "text/html": [
       "<div>\n",
       "<style scoped>\n",
       "    .dataframe tbody tr th:only-of-type {\n",
       "        vertical-align: middle;\n",
       "    }\n",
       "\n",
       "    .dataframe tbody tr th {\n",
       "        vertical-align: top;\n",
       "    }\n",
       "\n",
       "    .dataframe thead th {\n",
       "        text-align: right;\n",
       "    }\n",
       "</style>\n",
       "<table border=\"1\" class=\"dataframe\">\n",
       "  <thead>\n",
       "    <tr style=\"text-align: right;\">\n",
       "      <th></th>\n",
       "      <th>revenue-domestic</th>\n",
       "    </tr>\n",
       "  </thead>\n",
       "  <tbody>\n",
       "    <tr>\n",
       "      <th>0</th>\n",
       "      <td>-3.550764</td>\n",
       "    </tr>\n",
       "    <tr>\n",
       "      <th>1</th>\n",
       "      <td>-6.315685</td>\n",
       "    </tr>\n",
       "    <tr>\n",
       "      <th>2</th>\n",
       "      <td>2.431640</td>\n",
       "    </tr>\n",
       "    <tr>\n",
       "      <th>3</th>\n",
       "      <td>7.459636</td>\n",
       "    </tr>\n",
       "    <tr>\n",
       "      <th>4</th>\n",
       "      <td>-1.571760</td>\n",
       "    </tr>\n",
       "    <tr>\n",
       "      <th>...</th>\n",
       "      <td>...</td>\n",
       "    </tr>\n",
       "    <tr>\n",
       "      <th>3462</th>\n",
       "      <td>-0.144049</td>\n",
       "    </tr>\n",
       "    <tr>\n",
       "      <th>3463</th>\n",
       "      <td>-0.144934</td>\n",
       "    </tr>\n",
       "    <tr>\n",
       "      <th>3464</th>\n",
       "      <td>-0.146722</td>\n",
       "    </tr>\n",
       "    <tr>\n",
       "      <th>3465</th>\n",
       "      <td>-0.146773</td>\n",
       "    </tr>\n",
       "    <tr>\n",
       "      <th>3466</th>\n",
       "      <td>-0.146661</td>\n",
       "    </tr>\n",
       "  </tbody>\n",
       "</table>\n",
       "<p>3467 rows × 1 columns</p>\n",
       "</div>"
      ],
      "text/plain": [
       "      revenue-domestic\n",
       "0            -3.550764\n",
       "1            -6.315685\n",
       "2             2.431640\n",
       "3             7.459636\n",
       "4            -1.571760\n",
       "...                ...\n",
       "3462         -0.144049\n",
       "3463         -0.144934\n",
       "3464         -0.146722\n",
       "3465         -0.146773\n",
       "3466         -0.146661\n",
       "\n",
       "[3467 rows x 1 columns]"
      ]
     },
     "execution_count": 39,
     "metadata": {},
     "output_type": "execute_result"
    }
   ],
   "source": [
    "z_score = (my_col - mean) / std\n",
    "z_score"
   ]
  },
  {
   "cell_type": "code",
   "execution_count": 40,
   "id": "653b9a25",
   "metadata": {
    "ExecuteTime": {
     "end_time": "2021-07-27T19:23:43.295437Z",
     "start_time": "2021-07-27T19:23:43.293109Z"
    }
   },
   "outputs": [],
   "source": [
    "from sklearn.preprocessing import StandardScaler"
   ]
  },
  {
   "cell_type": "code",
   "execution_count": 41,
   "id": "c74b413f",
   "metadata": {
    "ExecuteTime": {
     "end_time": "2021-07-27T19:23:43.524481Z",
     "start_time": "2021-07-27T19:23:43.520120Z"
    }
   },
   "outputs": [
    {
     "data": {
      "text/plain": [
       "StandardScaler()"
      ]
     },
     "execution_count": 41,
     "metadata": {},
     "output_type": "execute_result"
    }
   ],
   "source": [
    "# Using StandardScaler\n",
    "\n",
    "# Instantiate the Object.\n",
    "scaler = StandardScaler()\n",
    "scaler"
   ]
  },
  {
   "cell_type": "code",
   "execution_count": 42,
   "id": "256e1fc5",
   "metadata": {
    "ExecuteTime": {
     "end_time": "2021-07-27T19:23:46.215737Z",
     "start_time": "2021-07-27T19:23:46.207513Z"
    }
   },
   "outputs": [
    {
     "data": {
      "text/plain": [
       "StandardScaler()"
      ]
     },
     "execution_count": 42,
     "metadata": {},
     "output_type": "execute_result"
    }
   ],
   "source": [
    "# Fit the object.\n",
    "scaler.fit(my_col)"
   ]
  },
  {
   "cell_type": "code",
   "execution_count": 43,
   "id": "b28e253c",
   "metadata": {
    "ExecuteTime": {
     "end_time": "2021-07-27T19:24:40.229036Z",
     "start_time": "2021-07-27T19:24:40.224685Z"
    }
   },
   "outputs": [
    {
     "data": {
      "text/plain": [
       "array([7302768.41620998])"
      ]
     },
     "execution_count": 43,
     "metadata": {},
     "output_type": "execute_result"
    }
   ],
   "source": [
    "scaler.mean_"
   ]
  },
  {
   "cell_type": "code",
   "execution_count": 44,
   "id": "c7f67dd2",
   "metadata": {
    "ExecuteTime": {
     "end_time": "2021-07-27T19:24:55.473718Z",
     "start_time": "2021-07-27T19:24:55.469848Z"
    }
   },
   "outputs": [
    {
     "data": {
      "text/plain": [
       "array([2.47962928e+15])"
      ]
     },
     "execution_count": 44,
     "metadata": {},
     "output_type": "execute_result"
    }
   ],
   "source": [
    "scaler.var_"
   ]
  },
  {
   "cell_type": "code",
   "execution_count": 46,
   "id": "05a38624",
   "metadata": {
    "ExecuteTime": {
     "end_time": "2021-07-27T19:25:48.306078Z",
     "start_time": "2021-07-27T19:25:48.298394Z"
    }
   },
   "outputs": [
    {
     "data": {
      "text/plain": [
       "array([[-3.55127587],\n",
       "       [-6.31659573],\n",
       "       [ 2.43199054],\n",
       "       ...,\n",
       "       [-0.14674276],\n",
       "       [-0.14679465],\n",
       "       [-0.1466822 ]])"
      ]
     },
     "execution_count": 46,
     "metadata": {},
     "output_type": "execute_result"
    }
   ],
   "source": [
    "# Transform column\n",
    "scaler_transformed = scaler.transform(my_col)\n",
    "scaler_transformed"
   ]
  },
  {
   "cell_type": "code",
   "execution_count": 47,
   "id": "b54a3f36",
   "metadata": {
    "ExecuteTime": {
     "end_time": "2021-07-27T19:26:21.354235Z",
     "start_time": "2021-07-27T19:26:21.348585Z"
    }
   },
   "outputs": [
    {
     "data": {
      "text/plain": [
       "array([[-1.69536125e+08],\n",
       "       [-3.07237650e+08],\n",
       "       [ 1.28405868e+08],\n",
       "       ...,\n",
       "       [-4.41600000e+03],\n",
       "       [-7.00000000e+03],\n",
       "       [-1.40000000e+03]])"
      ]
     },
     "execution_count": 47,
     "metadata": {},
     "output_type": "execute_result"
    }
   ],
   "source": [
    "# Revert column back to original values.\n",
    "scaler.inverse_transform(scaler_transformed)"
   ]
  },
  {
   "cell_type": "code",
   "execution_count": 48,
   "id": "30007d68",
   "metadata": {
    "ExecuteTime": {
     "end_time": "2021-07-27T19:27:21.284887Z",
     "start_time": "2021-07-27T19:27:21.275023Z"
    }
   },
   "outputs": [
    {
     "data": {
      "text/plain": [
       "array([[-3.55127587],\n",
       "       [-6.31659573],\n",
       "       [ 2.43199054],\n",
       "       ...,\n",
       "       [-0.14674276],\n",
       "       [-0.14679465],\n",
       "       [-0.1466822 ]])"
      ]
     },
     "execution_count": 48,
     "metadata": {},
     "output_type": "execute_result"
    }
   ],
   "source": [
    "# Shorthand\n",
    "scaler = StandardScaler()\n",
    "my_shorthand_col = scaler.fit_transform(my_col)\n",
    "my_shorthand_col"
   ]
  },
  {
   "cell_type": "code",
   "execution_count": 50,
   "id": "a61275f2",
   "metadata": {
    "ExecuteTime": {
     "end_time": "2021-07-27T19:29:00.237289Z",
     "start_time": "2021-07-27T19:28:59.944315Z"
    }
   },
   "outputs": [
    {
     "data": {
      "text/plain": [
       "array([[<AxesSubplot:title={'center':'revenue-domestic'}>]], dtype=object)"
      ]
     },
     "execution_count": 50,
     "metadata": {},
     "output_type": "execute_result"
    },
    {
     "data": {
      "image/png": "[encoded data removed]",
      "text/plain": [
       "<Figure size 748.8x514.8 with 1 Axes>"
      ]
     },
     "metadata": {
      "needs_background": "light"
     },
     "output_type": "display_data"
    }
   ],
   "source": [
    "my_col.hist()"
   ]
  },
  {
   "cell_type": "code",
   "execution_count": 53,
   "id": "68bf7e81",
   "metadata": {
    "ExecuteTime": {
     "end_time": "2021-07-27T19:29:53.065834Z",
     "start_time": "2021-07-27T19:29:52.848282Z"
    }
   },
   "outputs": [
    {
     "data": {
      "text/plain": [
       "(array([1.000e+00, 4.000e+00, 8.700e+01, 2.529e+03, 6.950e+02, 9.900e+01,\n",
       "        2.700e+01, 1.300e+01, 8.000e+00, 4.000e+00]),\n",
       " array([-6.31659573, -4.69538273, -3.07416973, -1.45295674,  0.16825626,\n",
       "         1.78946926,  3.41068226,  5.03189526,  6.65310825,  8.27432125,\n",
       "         9.89553425]),\n",
       " <BarContainer object of 10 artists>)"
      ]
     },
     "execution_count": 53,
     "metadata": {},
     "output_type": "execute_result"
    },
    {
     "data": {
      "image/png": "[encoded data removed]",
      "text/plain": [
       "<Figure size 748.8x514.8 with 1 Axes>"
      ]
     },
     "metadata": {
      "needs_background": "light"
     },
     "output_type": "display_data"
    }
   ],
   "source": [
    "plt.hist(my_shorthand_col)"
   ]
  },
  {
   "cell_type": "code",
   "execution_count": 54,
   "id": "8cd5231d",
   "metadata": {
    "ExecuteTime": {
     "end_time": "2021-07-27T19:30:53.141091Z",
     "start_time": "2021-07-27T19:30:52.800224Z"
    }
   },
   "outputs": [
    {
     "data": {
      "text/plain": [
       "(array([1.000e+00, 4.000e+00, 8.700e+01, 2.529e+03, 6.950e+02, 9.900e+01,\n",
       "        2.700e+01, 1.300e+01, 8.000e+00, 4.000e+00]),\n",
       " array([-6.31659573, -4.69538273, -3.07416973, -1.45295674,  0.16825626,\n",
       "         1.78946926,  3.41068226,  5.03189526,  6.65310825,  8.27432125,\n",
       "         9.89553425]),\n",
       " <BarContainer object of 10 artists>)"
      ]
     },
     "execution_count": 54,
     "metadata": {},
     "output_type": "execute_result"
    },
    {
     "data": {
      "image/png": "[encoded data removed]",
      "text/plain": [
       "<Figure size 864x576 with 2 Axes>"
      ]
     },
     "metadata": {
      "needs_background": "light"
     },
     "output_type": "display_data"
    }
   ],
   "source": [
    "fig, (ax1, ax2) = plt.subplots(figsize=(12,8), nrows=2)\n",
    "ax1.hist(my_col)\n",
    "ax2.hist(my_shorthand_col)"
   ]
  },
  {
   "cell_type": "code",
   "execution_count": null,
   "id": "8ac46b22",
   "metadata": {},
   "outputs": [],
   "source": []
  }
 ],
 "metadata": {
  "kernelspec": {
   "display_name": "Python 3",
   "language": "python",
   "name": "python3"
  },
  "language_info": {
   "codemirror_mode": {
    "name": "ipython",
    "version": 3
   },
   "file_extension": ".py",
   "mimetype": "text/x-python",
   "name": "python",
   "nbconvert_exporter": "python",
   "pygments_lexer": "ipython3",
   "version": "3.6.9"
  },
  "toc": {
   "base_numbering": 1,
   "nav_menu": {},
   "number_sections": false,
   "sideBar": true,
   "skip_h1_title": false,
   "title_cell": "Table of Contents",
   "title_sidebar": "Contents",
   "toc_cell": false,
   "toc_position": {
    "height": "calc(100% - 180px)",
    "left": "10px",
    "top": "150px",
    "width": "317.003px"
   },
   "toc_section_display": true,
   "toc_window_display": true
  }
 },
 "nbformat": 4,
 "nbformat_minor": 5
}
