{
 "cells": [
  {
   "cell_type": "markdown",
   "id": "792576d4",
   "metadata": {},
   "source": [
    "## Phase 2.12\n",
    "\n",
    "# Distributions\n",
    "\n",
    "## Objectives\n",
    "- Relate the concepts of distributions and normality back to data we are familiar with.\n",
    "- Discuss outliers, ways to detect them and remove them.\n",
    "- Discuss Z-scores and the ways we can calculate them.\n",
    "- Discuss normality and how to asses it."
   ]
  },
  {
   "cell_type": "markdown",
   "id": "779db926",
   "metadata": {},
   "source": [
    "#### Loading Data"
   ]
  },
  {
   "cell_type": "code",
   "execution_count": 1,
   "id": "ea1247cb",
   "metadata": {
    "ExecuteTime": {
     "end_time": "2021-08-26T23:36:39.350649Z",
     "start_time": "2021-08-26T23:36:38.827712Z"
    }
   },
   "outputs": [],
   "source": [
    "import pandas as pd"
   ]
  },
  {
   "cell_type": "code",
   "execution_count": 2,
   "id": "33944d5a",
   "metadata": {
    "ExecuteTime": {
     "end_time": "2021-08-26T23:36:39.400653Z",
     "start_time": "2021-08-26T23:36:39.353050Z"
    }
   },
   "outputs": [
    {
     "data": {
      "text/html": [
       "<div>\n",
       "<style scoped>\n",
       "    .dataframe tbody tr th:only-of-type {\n",
       "        vertical-align: middle;\n",
       "    }\n",
       "\n",
       "    .dataframe tbody tr th {\n",
       "        vertical-align: top;\n",
       "    }\n",
       "\n",
       "    .dataframe thead th {\n",
       "        text-align: right;\n",
       "    }\n",
       "</style>\n",
       "<table border=\"1\" class=\"dataframe\">\n",
       "  <thead>\n",
       "    <tr style=\"text-align: right;\">\n",
       "      <th></th>\n",
       "      <th>id</th>\n",
       "      <th>release_date</th>\n",
       "      <th>movie</th>\n",
       "      <th>production_budget</th>\n",
       "      <th>domestic_gross</th>\n",
       "      <th>worldwide_gross</th>\n",
       "      <th>tconst</th>\n",
       "      <th>primary_title</th>\n",
       "      <th>original_title</th>\n",
       "      <th>start_year</th>\n",
       "      <th>runtime_minutes</th>\n",
       "      <th>genres</th>\n",
       "      <th>revenue-domestic</th>\n",
       "      <th>revenue-worldwide</th>\n",
       "      <th>lost_money</th>\n",
       "      <th>roi-domestic</th>\n",
       "      <th>roi-worldwide</th>\n",
       "      <th>release_month</th>\n",
       "    </tr>\n",
       "  </thead>\n",
       "  <tbody>\n",
       "    <tr>\n",
       "      <th>0</th>\n",
       "      <td>2</td>\n",
       "      <td>2011-05-20</td>\n",
       "      <td>Pirates of the Caribbean: On Stranger Tides</td>\n",
       "      <td>410600000.0</td>\n",
       "      <td>241063875.0</td>\n",
       "      <td>1.045664e+09</td>\n",
       "      <td>tt1298650</td>\n",
       "      <td>Pirates of the Caribbean: On Stranger Tides</td>\n",
       "      <td>Pirates of the Caribbean: On Stranger Tides</td>\n",
       "      <td>2011</td>\n",
       "      <td>136.0</td>\n",
       "      <td>Action,Adventure,Fantasy</td>\n",
       "      <td>-169536125.0</td>\n",
       "      <td>6.350639e+08</td>\n",
       "      <td>True</td>\n",
       "      <td>-41.289850</td>\n",
       "      <td>154.667286</td>\n",
       "      <td>5</td>\n",
       "    </tr>\n",
       "    <tr>\n",
       "      <th>1</th>\n",
       "      <td>3</td>\n",
       "      <td>2019-06-07</td>\n",
       "      <td>Dark Phoenix</td>\n",
       "      <td>350000000.0</td>\n",
       "      <td>42762350.0</td>\n",
       "      <td>1.497624e+08</td>\n",
       "      <td>tt6565702</td>\n",
       "      <td>Dark Phoenix</td>\n",
       "      <td>Dark Phoenix</td>\n",
       "      <td>2019</td>\n",
       "      <td>113.0</td>\n",
       "      <td>Action,Adventure,Sci-Fi</td>\n",
       "      <td>-307237650.0</td>\n",
       "      <td>-2.002376e+08</td>\n",
       "      <td>True</td>\n",
       "      <td>-87.782186</td>\n",
       "      <td>-57.210757</td>\n",
       "      <td>6</td>\n",
       "    </tr>\n",
       "    <tr>\n",
       "      <th>2</th>\n",
       "      <td>4</td>\n",
       "      <td>2015-05-01</td>\n",
       "      <td>Avengers: Age of Ultron</td>\n",
       "      <td>330600000.0</td>\n",
       "      <td>459005868.0</td>\n",
       "      <td>1.403014e+09</td>\n",
       "      <td>tt2395427</td>\n",
       "      <td>Avengers: Age of Ultron</td>\n",
       "      <td>Avengers: Age of Ultron</td>\n",
       "      <td>2015</td>\n",
       "      <td>141.0</td>\n",
       "      <td>Action,Adventure,Sci-Fi</td>\n",
       "      <td>128405868.0</td>\n",
       "      <td>1.072414e+09</td>\n",
       "      <td>False</td>\n",
       "      <td>38.840250</td>\n",
       "      <td>324.384139</td>\n",
       "      <td>5</td>\n",
       "    </tr>\n",
       "    <tr>\n",
       "      <th>3</th>\n",
       "      <td>7</td>\n",
       "      <td>2018-04-27</td>\n",
       "      <td>Avengers: Infinity War</td>\n",
       "      <td>300000000.0</td>\n",
       "      <td>678815482.0</td>\n",
       "      <td>2.048134e+09</td>\n",
       "      <td>tt4154756</td>\n",
       "      <td>Avengers: Infinity War</td>\n",
       "      <td>Avengers: Infinity War</td>\n",
       "      <td>2018</td>\n",
       "      <td>149.0</td>\n",
       "      <td>Action,Adventure,Sci-Fi</td>\n",
       "      <td>378815482.0</td>\n",
       "      <td>1.748134e+09</td>\n",
       "      <td>False</td>\n",
       "      <td>126.271827</td>\n",
       "      <td>582.711400</td>\n",
       "      <td>4</td>\n",
       "    </tr>\n",
       "    <tr>\n",
       "      <th>4</th>\n",
       "      <td>9</td>\n",
       "      <td>2017-11-17</td>\n",
       "      <td>Justice League</td>\n",
       "      <td>300000000.0</td>\n",
       "      <td>229024295.0</td>\n",
       "      <td>6.559452e+08</td>\n",
       "      <td>tt0974015</td>\n",
       "      <td>Justice League</td>\n",
       "      <td>Justice League</td>\n",
       "      <td>2017</td>\n",
       "      <td>120.0</td>\n",
       "      <td>Action,Adventure,Fantasy</td>\n",
       "      <td>-70975705.0</td>\n",
       "      <td>3.559452e+08</td>\n",
       "      <td>True</td>\n",
       "      <td>-23.658568</td>\n",
       "      <td>118.648403</td>\n",
       "      <td>11</td>\n",
       "    </tr>\n",
       "  </tbody>\n",
       "</table>\n",
       "</div>"
      ],
      "text/plain": [
       "   id release_date                                        movie  \\\n",
       "0   2   2011-05-20  Pirates of the Caribbean: On Stranger Tides   \n",
       "1   3   2019-06-07                                 Dark Phoenix   \n",
       "2   4   2015-05-01                      Avengers: Age of Ultron   \n",
       "3   7   2018-04-27                       Avengers: Infinity War   \n",
       "4   9   2017-11-17                               Justice League   \n",
       "\n",
       "   production_budget  domestic_gross  worldwide_gross     tconst  \\\n",
       "0        410600000.0     241063875.0     1.045664e+09  tt1298650   \n",
       "1        350000000.0      42762350.0     1.497624e+08  tt6565702   \n",
       "2        330600000.0     459005868.0     1.403014e+09  tt2395427   \n",
       "3        300000000.0     678815482.0     2.048134e+09  tt4154756   \n",
       "4        300000000.0     229024295.0     6.559452e+08  tt0974015   \n",
       "\n",
       "                                 primary_title  \\\n",
       "0  Pirates of the Caribbean: On Stranger Tides   \n",
       "1                                 Dark Phoenix   \n",
       "2                      Avengers: Age of Ultron   \n",
       "3                       Avengers: Infinity War   \n",
       "4                               Justice League   \n",
       "\n",
       "                                original_title  start_year  runtime_minutes  \\\n",
       "0  Pirates of the Caribbean: On Stranger Tides        2011            136.0   \n",
       "1                                 Dark Phoenix        2019            113.0   \n",
       "2                      Avengers: Age of Ultron        2015            141.0   \n",
       "3                       Avengers: Infinity War        2018            149.0   \n",
       "4                               Justice League        2017            120.0   \n",
       "\n",
       "                     genres  revenue-domestic  revenue-worldwide  lost_money  \\\n",
       "0  Action,Adventure,Fantasy      -169536125.0       6.350639e+08        True   \n",
       "1   Action,Adventure,Sci-Fi      -307237650.0      -2.002376e+08        True   \n",
       "2   Action,Adventure,Sci-Fi       128405868.0       1.072414e+09       False   \n",
       "3   Action,Adventure,Sci-Fi       378815482.0       1.748134e+09       False   \n",
       "4  Action,Adventure,Fantasy       -70975705.0       3.559452e+08        True   \n",
       "\n",
       "   roi-domestic  roi-worldwide  release_month  \n",
       "0    -41.289850     154.667286              5  \n",
       "1    -87.782186     -57.210757              6  \n",
       "2     38.840250     324.384139              5  \n",
       "3    126.271827     582.711400              4  \n",
       "4    -23.658568     118.648403             11  "
      ]
     },
     "execution_count": 2,
     "metadata": {},
     "output_type": "execute_result"
    }
   ],
   "source": [
    "df = pd.read_csv('data/movies.csv', index_col=0)\n",
    "df.head()"
   ]
  },
  {
   "cell_type": "code",
   "execution_count": 3,
   "id": "37e97a03",
   "metadata": {
    "ExecuteTime": {
     "end_time": "2021-08-26T23:36:39.415534Z",
     "start_time": "2021-08-26T23:36:39.402913Z"
    }
   },
   "outputs": [
    {
     "name": "stdout",
     "output_type": "stream",
     "text": [
      "<class 'pandas.core.frame.DataFrame'>\n",
      "Int64Index: 3467 entries, 0 to 3466\n",
      "Data columns (total 18 columns):\n",
      " #   Column             Non-Null Count  Dtype  \n",
      "---  ------             --------------  -----  \n",
      " 0   id                 3467 non-null   int64  \n",
      " 1   release_date       3467 non-null   object \n",
      " 2   movie              3467 non-null   object \n",
      " 3   production_budget  3467 non-null   float64\n",
      " 4   domestic_gross     3467 non-null   float64\n",
      " 5   worldwide_gross    3467 non-null   float64\n",
      " 6   tconst             3467 non-null   object \n",
      " 7   primary_title      3467 non-null   object \n",
      " 8   original_title     3467 non-null   object \n",
      " 9   start_year         3467 non-null   int64  \n",
      " 10  runtime_minutes    3056 non-null   float64\n",
      " 11  genres             3467 non-null   object \n",
      " 12  revenue-domestic   3467 non-null   float64\n",
      " 13  revenue-worldwide  3467 non-null   float64\n",
      " 14  lost_money         3467 non-null   bool   \n",
      " 15  roi-domestic       3467 non-null   float64\n",
      " 16  roi-worldwide      3467 non-null   float64\n",
      " 17  release_month      3467 non-null   int64  \n",
      "dtypes: bool(1), float64(8), int64(3), object(6)\n",
      "memory usage: 490.9+ KB\n"
     ]
    }
   ],
   "source": [
    "df.info()"
   ]
  },
  {
   "cell_type": "code",
   "execution_count": 4,
   "id": "0bd45640",
   "metadata": {
    "ExecuteTime": {
     "end_time": "2021-08-26T23:36:39.421442Z",
     "start_time": "2021-08-26T23:36:39.417430Z"
    }
   },
   "outputs": [
    {
     "data": {
      "text/plain": [
       "pandas.core.frame.DataFrame"
      ]
     },
     "execution_count": 4,
     "metadata": {},
     "output_type": "execute_result"
    }
   ],
   "source": [
    "type(df)"
   ]
  },
  {
   "cell_type": "code",
   "execution_count": 5,
   "id": "b79efc1f",
   "metadata": {
    "ExecuteTime": {
     "end_time": "2021-08-26T23:36:39.432693Z",
     "start_time": "2021-08-26T23:36:39.427980Z"
    }
   },
   "outputs": [
    {
     "data": {
      "text/plain": [
       "(3467, 18)"
      ]
     },
     "execution_count": 5,
     "metadata": {},
     "output_type": "execute_result"
    }
   ],
   "source": [
    "df.shape"
   ]
  },
  {
   "cell_type": "code",
   "execution_count": 6,
   "id": "31ef4d90",
   "metadata": {
    "ExecuteTime": {
     "end_time": "2021-08-26T23:36:39.445175Z",
     "start_time": "2021-08-26T23:36:39.439502Z"
    }
   },
   "outputs": [
    {
     "data": {
      "text/plain": [
       "pandas.core.series.Series"
      ]
     },
     "execution_count": 6,
     "metadata": {},
     "output_type": "execute_result"
    }
   ],
   "source": [
    "type(df['start_year'])"
   ]
  },
  {
   "cell_type": "code",
   "execution_count": 7,
   "id": "68377cb5",
   "metadata": {
    "ExecuteTime": {
     "end_time": "2021-08-26T23:36:39.453600Z",
     "start_time": "2021-08-26T23:36:39.448593Z"
    }
   },
   "outputs": [
    {
     "data": {
      "text/plain": [
       "(3467,)"
      ]
     },
     "execution_count": 7,
     "metadata": {},
     "output_type": "execute_result"
    }
   ],
   "source": [
    "df['start_year'].shape"
   ]
  },
  {
   "cell_type": "markdown",
   "id": "393d475d",
   "metadata": {},
   "source": [
    "# Visualizing Distributions"
   ]
  },
  {
   "cell_type": "code",
   "execution_count": 8,
   "id": "2a526bad",
   "metadata": {
    "ExecuteTime": {
     "end_time": "2021-08-26T23:36:40.179250Z",
     "start_time": "2021-08-26T23:36:39.456071Z"
    }
   },
   "outputs": [],
   "source": [
    "import seaborn as sns\n",
    "import matplotlib.pyplot as plt\n",
    "plt.style.use('seaborn-talk')"
   ]
  },
  {
   "cell_type": "markdown",
   "id": "ab1e39c7",
   "metadata": {},
   "source": [
    "## Normal Distribution\n",
    "> *AKA: Gaussian / Bell Curve*\n",
    "\n",
    "<img src='images/standard-normal-distribution-with-probabilities.png'>\n",
    "\n",
    "\n",
    "- Normal Distributions are symmetric around the mean.\n",
    "- The mean, median, mode of a normal distribution are equal.\n",
    "- The area under the bell curve is $1.0$.\n",
    "- Normal distributions are dense in the center and less dense in the tails.\n",
    "- Normal distributions are defined by two parameters: $\\mu$ (mean) and $\\sigma$ (standard deviation).\n",
    "- Approximately $68\\%$ of the area of a normal distribution is within one standard deviation of the mean.\n",
    "    - $\\pm1\\sigma$\n",
    "- Approximately $95\\%$ of the area of a normal distribution is within two standard deviations of the mean.\n",
    "    - $\\pm2\\sigma$"
   ]
  },
  {
   "cell_type": "markdown",
   "id": "f39134fc",
   "metadata": {},
   "source": [
    "### Probability Mass Function (PMF)\n",
    "\n",
    "- The **Probability Mass Function** associates *probabilities with **discrete** variables.*\n",
    "    - *Discrete:* a number of known possible outcomes."
   ]
  },
  {
   "cell_type": "code",
   "execution_count": 9,
   "id": "52605f53",
   "metadata": {
    "ExecuteTime": {
     "end_time": "2021-08-26T23:36:40.372375Z",
     "start_time": "2021-08-26T23:36:40.181120Z"
    }
   },
   "outputs": [
    {
     "data": {
      "image/png": "[encoded data removed]",
      "text/plain": [
       "<Figure size 748.8x514.8 with 1 Axes>"
      ]
     },
     "metadata": {
      "needs_background": "light"
     },
     "output_type": "display_data"
    }
   ],
   "source": [
    "# PMF\n",
    "a = (\n",
    "    pd.Series(\n",
    "        ['a','a','a','a',\n",
    "         'b','b','b','b',\n",
    "         'c','c',\n",
    "         'd',\n",
    "         'e','e']\n",
    "    )\n",
    "    .value_counts(normalize=True)\n",
    "    .sort_index()\n",
    ")\n",
    "\n",
    "fig, ax = plt.subplots()\n",
    "ax.bar(a.index, a)\n",
    "ax.set(title='PMF', xlabel='Discrete Variable', ylabel='Probability')\n",
    "fig.tight_layout()"
   ]
  },
  {
   "cell_type": "markdown",
   "id": "82268993",
   "metadata": {},
   "source": [
    "### Probability Density Function (PDF)\n",
    "- The **Probability Density Function** associates probabilities with **continuous** variables.\n",
    "    - *Continuous:* A possibly-infinite number of outcomes.\n",
    "\n",
    "<img src='images/pdf_demo.png'>"
   ]
  },
  {
   "cell_type": "markdown",
   "id": "0ece473f",
   "metadata": {},
   "source": [
    "### Cumulative Distribution Function (CDF)\n",
    "- The **Cumulative Distribution Function** shows $P(X \\leq x)$ for an x within the sample space.\n",
    "\n",
    "<img src='images/cdf.png'>"
   ]
  },
  {
   "cell_type": "markdown",
   "id": "2f77ea95",
   "metadata": {},
   "source": [
    "## Visualizing our Dataset"
   ]
  },
  {
   "cell_type": "code",
   "execution_count": 10,
   "id": "4c313896",
   "metadata": {
    "ExecuteTime": {
     "end_time": "2021-08-26T23:36:40.681829Z",
     "start_time": "2021-08-26T23:36:40.374109Z"
    }
   },
   "outputs": [
    {
     "data": {
      "image/png": "[encoded data removed]",
      "text/plain": [
       "<Figure size 748.8x514.8 with 1 Axes>"
      ]
     },
     "metadata": {
      "needs_background": "light"
     },
     "output_type": "display_data"
    }
   ],
   "source": [
    "# Domestic Gross - Histogram\n",
    "fig, ax = plt.subplots()\n",
    "ax.hist(df['domestic_gross'], bins=100);"
   ]
  },
  {
   "cell_type": "code",
   "execution_count": 11,
   "id": "a7c94b95",
   "metadata": {
    "ExecuteTime": {
     "end_time": "2021-08-26T23:36:41.020390Z",
     "start_time": "2021-08-26T23:36:40.683941Z"
    }
   },
   "outputs": [
    {
     "name": "stderr",
     "output_type": "stream",
     "text": [
      "/opt/anaconda3/envs/learn-env/lib/python3.6/site-packages/seaborn/distributions.py:2557: FutureWarning: `distplot` is a deprecated function and will be removed in a future version. Please adapt your code to use either `displot` (a figure-level function with similar flexibility) or `histplot` (an axes-level function for histograms).\n",
      "  warnings.warn(msg, FutureWarning)\n"
     ]
    },
    {
     "data": {
      "text/plain": [
       "<matplotlib.legend.Legend at 0x7f8a98a35668>"
      ]
     },
     "execution_count": 11,
     "metadata": {},
     "output_type": "execute_result"
    },
    {
     "data": {
      "image/png": "[encoded data removed]",
      "text/plain": [
       "<Figure size 748.8x514.8 with 1 Axes>"
      ]
     },
     "metadata": {
      "needs_background": "light"
     },
     "output_type": "display_data"
    }
   ],
   "source": [
    "# Domestic Gross - KDE\n",
    "fig, ax = plt.subplots()\n",
    "sns.distplot(df['domestic_gross'], ax=ax)\n",
    "ax.axvline(df['domestic_gross'].mean(), ls=':', color='tab:red', label='Mean')\n",
    "ax.axvline(df['domestic_gross'].median(), ls=':', color='tab:orange', label='Median')\n",
    "ax.legend()"
   ]
  },
  {
   "cell_type": "code",
   "execution_count": 12,
   "id": "c1a88a20",
   "metadata": {
    "ExecuteTime": {
     "end_time": "2021-08-26T23:36:41.153926Z",
     "start_time": "2021-08-26T23:36:41.022589Z"
    }
   },
   "outputs": [
    {
     "data": {
      "image/png": "[encoded data removed]",
      "text/plain": [
       "<Figure size 748.8x514.8 with 1 Axes>"
      ]
     },
     "metadata": {
      "needs_background": "light"
     },
     "output_type": "display_data"
    }
   ],
   "source": [
    "# Domestic Gross - Boxplot\n",
    "fig, ax = plt.subplots()\n",
    "ax.boxplot(df['domestic_gross']);"
   ]
  },
  {
   "cell_type": "markdown",
   "id": "0a421e36",
   "metadata": {},
   "source": [
    "# Skew / Kurtosis"
   ]
  },
  {
   "cell_type": "code",
   "execution_count": 13,
   "id": "ef97e84c",
   "metadata": {
    "ExecuteTime": {
     "end_time": "2021-08-26T23:36:41.158081Z",
     "start_time": "2021-08-26T23:36:41.155734Z"
    }
   },
   "outputs": [],
   "source": [
    "from scipy import stats"
   ]
  },
  {
   "cell_type": "markdown",
   "id": "04b06f96",
   "metadata": {},
   "source": [
    "***Skew***\n",
    "<img src='images/skew.png' width=75%>"
   ]
  },
  {
   "cell_type": "code",
   "execution_count": 14,
   "id": "d02c7197",
   "metadata": {
    "ExecuteTime": {
     "end_time": "2021-08-26T23:36:41.165638Z",
     "start_time": "2021-08-26T23:36:41.160552Z"
    }
   },
   "outputs": [
    {
     "data": {
      "text/plain": [
       "3.735313634734876"
      ]
     },
     "execution_count": 14,
     "metadata": {},
     "output_type": "execute_result"
    }
   ],
   "source": [
    "# Domestic Gross - Skew\n",
    "stats.skew(df['domestic_gross'])"
   ]
  },
  {
   "cell_type": "markdown",
   "id": "22ae0735",
   "metadata": {},
   "source": [
    "***Kurtosis***\n",
    "<img src='images/kurtosis.png'>\n",
    "> *https://analystprep.com/cfa-level-1-exam/quantitative-methods/kurtosis-and-skewness-types-of-distributions/*"
   ]
  },
  {
   "cell_type": "code",
   "execution_count": 15,
   "id": "67b37792",
   "metadata": {
    "ExecuteTime": {
     "end_time": "2021-08-26T23:36:41.171953Z",
     "start_time": "2021-08-26T23:36:41.167495Z"
    }
   },
   "outputs": [
    {
     "data": {
      "text/plain": [
       "19.933980131434488"
      ]
     },
     "execution_count": 15,
     "metadata": {},
     "output_type": "execute_result"
    }
   ],
   "source": [
    "# Domestic Gross - Kurtosis\n",
    "stats.kurtosis(df['domestic_gross'])"
   ]
  },
  {
   "cell_type": "markdown",
   "id": "f39bb15e",
   "metadata": {},
   "source": [
    "# Z-Score\n",
    "- A *Z-Score* tells us how many standard deviations away from the mean a point would be in a *Standard Normal Distribution*.\n",
    "\n",
    "$ \\LARGE z = \\frac{(x - \\mu)}{\\sigma} $\n",
    "> - *$z$: z-score*\n",
    "> - *$\\mu$ (mu): population mean*\n",
    "> - *$\\sigma$ (sigma): population standard deviation*\n",
    "\n",
    "---\n",
    "\n",
    "- *Z-Scores* are associated with cumulative probabilities (retrieved from a *z-table*).\n",
    "<img src='images/z-table.png' width=500>\n",
    "\n",
    "> <a src='https://www.chegg.com/homework-help/questions-and-answers/usage-z-table-1-assuming-normal-distribution-using-z-tables-find-z-score-corresponding--75-q19507214'>*Chegg.com - Usage of Z-Table*</a>"
   ]
  },
  {
   "cell_type": "markdown",
   "id": "49929049",
   "metadata": {},
   "source": [
    "### By Hand - Don't do this!"
   ]
  },
  {
   "cell_type": "code",
   "execution_count": 16,
   "id": "649ce95f",
   "metadata": {
    "ExecuteTime": {
     "end_time": "2021-08-26T23:36:41.188340Z",
     "start_time": "2021-08-26T23:36:41.173531Z"
    }
   },
   "outputs": [
    {
     "data": {
      "text/html": [
       "<div>\n",
       "<style scoped>\n",
       "    .dataframe tbody tr th:only-of-type {\n",
       "        vertical-align: middle;\n",
       "    }\n",
       "\n",
       "    .dataframe tbody tr th {\n",
       "        vertical-align: top;\n",
       "    }\n",
       "\n",
       "    .dataframe thead th {\n",
       "        text-align: right;\n",
       "    }\n",
       "</style>\n",
       "<table border=\"1\" class=\"dataframe\">\n",
       "  <thead>\n",
       "    <tr style=\"text-align: right;\">\n",
       "      <th></th>\n",
       "      <th>runtime_minutes</th>\n",
       "    </tr>\n",
       "  </thead>\n",
       "  <tbody>\n",
       "    <tr>\n",
       "      <th>0</th>\n",
       "      <td>136.0</td>\n",
       "    </tr>\n",
       "    <tr>\n",
       "      <th>1</th>\n",
       "      <td>113.0</td>\n",
       "    </tr>\n",
       "    <tr>\n",
       "      <th>2</th>\n",
       "      <td>141.0</td>\n",
       "    </tr>\n",
       "    <tr>\n",
       "      <th>3</th>\n",
       "      <td>149.0</td>\n",
       "    </tr>\n",
       "    <tr>\n",
       "      <th>4</th>\n",
       "      <td>120.0</td>\n",
       "    </tr>\n",
       "    <tr>\n",
       "      <th>...</th>\n",
       "      <td>...</td>\n",
       "    </tr>\n",
       "    <tr>\n",
       "      <th>3462</th>\n",
       "      <td>70.0</td>\n",
       "    </tr>\n",
       "    <tr>\n",
       "      <th>3463</th>\n",
       "      <td>93.0</td>\n",
       "    </tr>\n",
       "    <tr>\n",
       "      <th>3464</th>\n",
       "      <td>95.0</td>\n",
       "    </tr>\n",
       "    <tr>\n",
       "      <th>3465</th>\n",
       "      <td>77.0</td>\n",
       "    </tr>\n",
       "    <tr>\n",
       "      <th>3466</th>\n",
       "      <td>76.0</td>\n",
       "    </tr>\n",
       "  </tbody>\n",
       "</table>\n",
       "<p>3467 rows × 1 columns</p>\n",
       "</div>"
      ],
      "text/plain": [
       "      runtime_minutes\n",
       "0               136.0\n",
       "1               113.0\n",
       "2               141.0\n",
       "3               149.0\n",
       "4               120.0\n",
       "...               ...\n",
       "3462             70.0\n",
       "3463             93.0\n",
       "3464             95.0\n",
       "3465             77.0\n",
       "3466             76.0\n",
       "\n",
       "[3467 rows x 1 columns]"
      ]
     },
     "execution_count": 16,
     "metadata": {},
     "output_type": "execute_result"
    }
   ],
   "source": [
    "# Calculating z-score by hand.\n",
    "## revenue-domestic\n",
    "## Recall: z = (x - mean) / std\n",
    "my_col = df[['runtime_minutes']].copy()\n",
    "mean = my_col.mean()\n",
    "std = my_col.std()\n",
    "my_col"
   ]
  },
  {
   "cell_type": "code",
   "execution_count": 17,
   "id": "1b050393",
   "metadata": {
    "ExecuteTime": {
     "end_time": "2021-08-26T23:36:41.200674Z",
     "start_time": "2021-08-26T23:36:41.191017Z"
    }
   },
   "outputs": [
    {
     "data": {
      "text/html": [
       "<div>\n",
       "<style scoped>\n",
       "    .dataframe tbody tr th:only-of-type {\n",
       "        vertical-align: middle;\n",
       "    }\n",
       "\n",
       "    .dataframe tbody tr th {\n",
       "        vertical-align: top;\n",
       "    }\n",
       "\n",
       "    .dataframe thead th {\n",
       "        text-align: right;\n",
       "    }\n",
       "</style>\n",
       "<table border=\"1\" class=\"dataframe\">\n",
       "  <thead>\n",
       "    <tr style=\"text-align: right;\">\n",
       "      <th></th>\n",
       "      <th>runtime_minutes</th>\n",
       "    </tr>\n",
       "  </thead>\n",
       "  <tbody>\n",
       "    <tr>\n",
       "      <th>0</th>\n",
       "      <td>1.410466</td>\n",
       "    </tr>\n",
       "    <tr>\n",
       "      <th>1</th>\n",
       "      <td>0.572862</td>\n",
       "    </tr>\n",
       "    <tr>\n",
       "      <th>2</th>\n",
       "      <td>1.592554</td>\n",
       "    </tr>\n",
       "    <tr>\n",
       "      <th>3</th>\n",
       "      <td>1.883894</td>\n",
       "    </tr>\n",
       "    <tr>\n",
       "      <th>4</th>\n",
       "      <td>0.827785</td>\n",
       "    </tr>\n",
       "  </tbody>\n",
       "</table>\n",
       "</div>"
      ],
      "text/plain": [
       "   runtime_minutes\n",
       "0         1.410466\n",
       "1         0.572862\n",
       "2         1.592554\n",
       "3         1.883894\n",
       "4         0.827785"
      ]
     },
     "execution_count": 17,
     "metadata": {},
     "output_type": "execute_result"
    }
   ],
   "source": [
    "z_score = (my_col - mean) / std\n",
    "z_score.head()"
   ]
  },
  {
   "cell_type": "code",
   "execution_count": 18,
   "id": "803ade56",
   "metadata": {
    "ExecuteTime": {
     "end_time": "2021-08-26T23:36:41.205172Z",
     "start_time": "2021-08-26T23:36:41.202698Z"
    }
   },
   "outputs": [],
   "source": [
    "# z_scores = []\n",
    "# for v in my_col['runtime_minutes'].values:\n",
    "#     z = (v - mean) / std\n",
    "#     z_scores.append(z)\n",
    "# z_scores[:5]"
   ]
  },
  {
   "cell_type": "markdown",
   "id": "b179c834",
   "metadata": {},
   "source": [
    "### Using `sklearn` and `StandardScaler`"
   ]
  },
  {
   "cell_type": "code",
   "execution_count": 19,
   "id": "4ff5ba75",
   "metadata": {
    "ExecuteTime": {
     "end_time": "2021-08-26T23:36:41.644406Z",
     "start_time": "2021-08-26T23:36:41.207788Z"
    }
   },
   "outputs": [],
   "source": [
    "from sklearn.preprocessing import StandardScaler"
   ]
  },
  {
   "cell_type": "code",
   "execution_count": 20,
   "id": "64041fb3",
   "metadata": {
    "ExecuteTime": {
     "end_time": "2021-08-26T23:36:41.652432Z",
     "start_time": "2021-08-26T23:36:41.646578Z"
    }
   },
   "outputs": [
    {
     "data": {
      "text/plain": [
       "StandardScaler()"
      ]
     },
     "execution_count": 20,
     "metadata": {},
     "output_type": "execute_result"
    }
   ],
   "source": [
    "# Instantiate the Object.\n",
    "scaler = StandardScaler()\n",
    "scaler"
   ]
  },
  {
   "cell_type": "code",
   "execution_count": 21,
   "id": "6d5dba41",
   "metadata": {
    "ExecuteTime": {
     "end_time": "2021-08-26T23:36:41.662151Z",
     "start_time": "2021-08-26T23:36:41.654546Z"
    }
   },
   "outputs": [
    {
     "data": {
      "text/plain": [
       "StandardScaler()"
      ]
     },
     "execution_count": 21,
     "metadata": {},
     "output_type": "execute_result"
    }
   ],
   "source": [
    "# Fit the object.\n",
    "scaler.fit(my_col)"
   ]
  },
  {
   "cell_type": "code",
   "execution_count": 22,
   "id": "8e6a708a",
   "metadata": {
    "ExecuteTime": {
     "end_time": "2021-08-26T23:36:41.668580Z",
     "start_time": "2021-08-26T23:36:41.664283Z"
    }
   },
   "outputs": [
    {
     "data": {
      "text/plain": [
       "array([97.26963351])"
      ]
     },
     "execution_count": 22,
     "metadata": {},
     "output_type": "execute_result"
    }
   ],
   "source": [
    "scaler.mean_"
   ]
  },
  {
   "cell_type": "code",
   "execution_count": 23,
   "id": "36161f41",
   "metadata": {
    "ExecuteTime": {
     "end_time": "2021-08-26T23:36:41.675058Z",
     "start_time": "2021-08-26T23:36:41.670854Z"
    }
   },
   "outputs": [
    {
     "data": {
      "text/plain": [
       "array([753.76499411])"
      ]
     },
     "execution_count": 23,
     "metadata": {},
     "output_type": "execute_result"
    }
   ],
   "source": [
    "scaler.var_"
   ]
  },
  {
   "cell_type": "code",
   "execution_count": 24,
   "id": "a23fc557",
   "metadata": {
    "ExecuteTime": {
     "end_time": "2021-08-26T23:36:41.684396Z",
     "start_time": "2021-08-26T23:36:41.677845Z"
    }
   },
   "outputs": [
    {
     "data": {
      "text/plain": [
       "array([[ 1.41069662],\n",
       "       [ 0.57295546],\n",
       "       [ 1.59281426],\n",
       "       ...,\n",
       "       [-0.08266806],\n",
       "       [-0.73829158],\n",
       "       [-0.77471511]])"
      ]
     },
     "execution_count": 24,
     "metadata": {},
     "output_type": "execute_result"
    }
   ],
   "source": [
    "# Transform column\n",
    "scaler_transformed = scaler.transform(my_col)\n",
    "scaler_transformed"
   ]
  },
  {
   "cell_type": "code",
   "execution_count": 25,
   "id": "30f7293d",
   "metadata": {
    "ExecuteTime": {
     "end_time": "2021-08-26T23:36:41.693431Z",
     "start_time": "2021-08-26T23:36:41.687553Z"
    }
   },
   "outputs": [
    {
     "data": {
      "text/plain": [
       "array([[136.],\n",
       "       [113.],\n",
       "       [141.],\n",
       "       ...,\n",
       "       [ 95.],\n",
       "       [ 77.],\n",
       "       [ 76.]])"
      ]
     },
     "execution_count": 25,
     "metadata": {},
     "output_type": "execute_result"
    }
   ],
   "source": [
    "# Revert column back to original values.\n",
    "scaler.inverse_transform(scaler_transformed)"
   ]
  },
  {
   "cell_type": "code",
   "execution_count": 26,
   "id": "10c7d447",
   "metadata": {
    "ExecuteTime": {
     "end_time": "2021-08-26T23:36:41.706190Z",
     "start_time": "2021-08-26T23:36:41.696601Z"
    }
   },
   "outputs": [
    {
     "data": {
      "text/plain": [
       "array([[ 1.41069662],\n",
       "       [ 0.57295546],\n",
       "       [ 1.59281426],\n",
       "       ...,\n",
       "       [-0.08266806],\n",
       "       [-0.73829158],\n",
       "       [-0.77471511]])"
      ]
     },
     "execution_count": 26,
     "metadata": {},
     "output_type": "execute_result"
    }
   ],
   "source": [
    "# Shorthand\n",
    "scaler = StandardScaler()\n",
    "my_shorthand_col = scaler.fit_transform(my_col)\n",
    "my_shorthand_col"
   ]
  },
  {
   "cell_type": "code",
   "execution_count": 27,
   "id": "e260c4ab",
   "metadata": {
    "ExecuteTime": {
     "end_time": "2021-08-26T23:36:41.917170Z",
     "start_time": "2021-08-26T23:36:41.708537Z"
    }
   },
   "outputs": [
    {
     "data": {
      "image/png": "[encoded data removed]",
      "text/plain": [
       "<Figure size 748.8x514.8 with 1 Axes>"
      ]
     },
     "metadata": {
      "needs_background": "light"
     },
     "output_type": "display_data"
    }
   ],
   "source": [
    "plt.hist(my_col);"
   ]
  },
  {
   "cell_type": "code",
   "execution_count": 28,
   "id": "6defd273",
   "metadata": {
    "ExecuteTime": {
     "end_time": "2021-08-26T23:36:42.123050Z",
     "start_time": "2021-08-26T23:36:41.919297Z"
    }
   },
   "outputs": [
    {
     "data": {
      "image/png": "[encoded data removed]",
      "text/plain": [
       "<Figure size 748.8x514.8 with 1 Axes>"
      ]
     },
     "metadata": {
      "needs_background": "light"
     },
     "output_type": "display_data"
    }
   ],
   "source": [
    "plt.hist(my_shorthand_col);"
   ]
  },
  {
   "cell_type": "code",
   "execution_count": 29,
   "id": "52acbc02",
   "metadata": {
    "ExecuteTime": {
     "end_time": "2021-08-26T23:36:42.772757Z",
     "start_time": "2021-08-26T23:36:42.125372Z"
    }
   },
   "outputs": [
    {
     "data": {
      "image/png": "[encoded data removed]",
      "text/plain": [
       "<Figure size 864x432 with 2 Axes>"
      ]
     },
     "metadata": {
      "needs_background": "light"
     },
     "output_type": "display_data"
    }
   ],
   "source": [
    "fig, (ax1, ax2) = plt.subplots(figsize=(12,6), ncols=2)\n",
    "ax1.hist(my_col)\n",
    "ax1.axvline(my_col['runtime_minutes'].mean(), \n",
    "            color='tab:red', \n",
    "            ls=':', \n",
    "            label=f\"$\\mu$ = {round(my_col['runtime_minutes'].mean(), 3)}\")\n",
    "ax1.legend()\n",
    "ax2.hist(my_shorthand_col)\n",
    "ax2.axvline(0, \n",
    "            color='tab:red', \n",
    "            ls=':',\n",
    "            label='$\\mu$ = 0')\n",
    "ax2.legend()\n",
    "fig.tight_layout()"
   ]
  },
  {
   "cell_type": "code",
   "execution_count": null,
   "id": "4c2d42a8",
   "metadata": {},
   "outputs": [],
   "source": []
  }
 ],
 "metadata": {
  "kernelspec": {
   "display_name": "Python 3",
   "language": "python",
   "name": "python3"
  },
  "language_info": {
   "codemirror_mode": {
    "name": "ipython",
    "version": 3
   },
   "file_extension": ".py",
   "mimetype": "text/x-python",
   "name": "python",
   "nbconvert_exporter": "python",
   "pygments_lexer": "ipython3",
   "version": "3.6.9"
  },
  "toc": {
   "base_numbering": 1,
   "nav_menu": {},
   "number_sections": false,
   "sideBar": true,
   "skip_h1_title": false,
   "title_cell": "Table of Contents",
   "title_sidebar": "Contents",
   "toc_cell": false,
   "toc_position": {
    "height": "calc(100% - 180px)",
    "left": "10px",
    "top": "150px",
    "width": "296px"
   },
   "toc_section_display": true,
   "toc_window_display": true
  }
 },
 "nbformat": 4,
 "nbformat_minor": 5
}
