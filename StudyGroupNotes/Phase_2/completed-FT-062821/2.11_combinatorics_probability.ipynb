{
 "cells": [
  {
   "cell_type": "markdown",
   "id": "69dbe123",
   "metadata": {},
   "source": [
    "## Phase 2.11\n",
    "\n",
    "# Combinatorics & Probability\n",
    "\n",
    "## Objectives\n",
    "- Understand the foundations of probability and combinatorics.\n",
    "- Give a gentle introduction to several concepts related to probability."
   ]
  },
  {
   "cell_type": "markdown",
   "id": "b6876d21",
   "metadata": {},
   "source": [
    "# Probability\n",
    "- Probability is the chance that a certain event will happen, in other words, how \"likely\" it is that some event will happen.\n",
    "- We use *statistical inference* to analyze certain events or trends.\n",
    "\n",
    "- Probability helps us answer questions like:\n",
    "    - *If you throw 5 dice, what is the probability of throwing a \"full house\"?*\n",
    "    - *What is the probability of drawing 2 consecutive aces from a standard deck of cards?*"
   ]
  },
  {
   "cell_type": "markdown",
   "id": "b173e8ca",
   "metadata": {},
   "source": [
    "## Sets\n",
    "\n",
    "### Sets In Stats\n",
    "- A set in probability theory is *a well-defined collection of objects.*\n",
    "- Mathematically, you can denote a set by $S$. \n",
    "    - If an element $x$ belongs to a set $S$, then you'd write $\\LARGE x \\in S$. \n",
    "    - If $x$ does not belong to a set $S$, then you'd write $\\LARGE x \\notin S$.\n",
    "    \n",
    "#### Notation\n",
    "<img src='../images/setnotation.jpeg'>\n",
    "\n",
    "> *https://slideplayer.com/slide/10502152/*"
   ]
  },
  {
   "cell_type": "markdown",
   "id": "7c9bc7f2",
   "metadata": {},
   "source": [
    "### Sets in Python\n",
    "- A set in Python is a collection of ***unordered, unique*** values.\n",
    "- The syntax for writing a set is either:\n",
    "    - `set()`\n",
    "    - `{0, 2, 4, 6, 8}`\n",
    "    \n",
    "*Using sets in Python is extremely valuable when we are trying to see if an element is **in** a group of objects.*"
   ]
  },
  {
   "cell_type": "code",
   "execution_count": 1,
   "id": "db3435f8",
   "metadata": {
    "ExecuteTime": {
     "end_time": "2021-07-26T18:49:53.332116Z",
     "start_time": "2021-07-26T18:49:53.320607Z"
    }
   },
   "outputs": [
    {
     "name": "stdout",
     "output_type": "stream",
     "text": [
      "Set:\t{0, 2, 4, 6, 8, 10, 12, 14, 16, 18, 20, 22, 24, 26, 28, 30, 32, 34, 36, 38, 40, 42, 44, 46, 48, 50, 52, 54, 56, 58, 60, 62, 64, 66, 68, 70, 72, 74, 76, 78, 80, 82, 84, 86, 88, 90, 92, 94, 96, 98, 100}\n",
      "\n",
      "List:\t[0, 2, 4, 6, 8, 10, 12, 14, 16, 18, 20, 22, 24, 26, 28, 30, 32, 34, 36, 38, 40, 42, 44, 46, 48, 50, 52, 54, 56, 58, 60, 62, 64, 66, 68, 70, 72, 74, 76, 78, 80, 82, 84, 86, 88, 90, 92, 94, 96, 98, 100]\n",
      "\n",
      "Tuple:\t(0, 2, 4, 6, 8, 10, 12, 14, 16, 18, 20, 22, 24, 26, 28, 30, 32, 34, 36, 38, 40, 42, 44, 46, 48, 50, 52, 54, 56, 58, 60, 62, 64, 66, 68, 70, 72, 74, 76, 78, 80, 82, 84, 86, 88, 90, 92, 94, 96, 98, 100)\n"
     ]
    }
   ],
   "source": [
    "# Create a set, a list, a tuple.\n",
    "my_set = {x for x in range(0, 100+1, 2)}\n",
    "my_lst = list(my_set)\n",
    "my_tup = tuple(my_set)\n",
    "\n",
    "print(f'Set:\\t{my_set}\\n\\nList:\\t{my_lst}\\n\\nTuple:\\t{my_tup}')"
   ]
  },
  {
   "cell_type": "markdown",
   "id": "ee86cd17",
   "metadata": {},
   "source": [
    "#### The Power of Sets"
   ]
  },
  {
   "cell_type": "code",
   "execution_count": 2,
   "id": "4c78461d",
   "metadata": {
    "ExecuteTime": {
     "end_time": "2021-07-26T18:51:20.373331Z",
     "start_time": "2021-07-26T18:51:20.369873Z"
    }
   },
   "outputs": [],
   "source": [
    "def check_if_in(collection, r=100_000):\n",
    "    \"\"\"Running a conditional check.\"\"\"\n",
    "    \n",
    "    for x in range(r):\n",
    "        if x in collection: # We want Python to check if the element is `in` the collection.\n",
    "            pass # We don't care what it does after it checks, we are just testing the `in` conditional."
   ]
  },
  {
   "cell_type": "code",
   "execution_count": 3,
   "id": "944fb451",
   "metadata": {
    "ExecuteTime": {
     "end_time": "2021-07-26T18:51:28.064960Z",
     "start_time": "2021-07-26T18:51:23.698252Z"
    }
   },
   "outputs": [
    {
     "name": "stdout",
     "output_type": "stream",
     "text": [
      "53.4 ms ± 4.14 ms per loop (mean ± std. dev. of 7 runs, 10 loops each)\n"
     ]
    }
   ],
   "source": [
    "%timeit check_if_in(my_lst)"
   ]
  },
  {
   "cell_type": "code",
   "execution_count": 4,
   "id": "0ac56436",
   "metadata": {
    "ExecuteTime": {
     "end_time": "2021-07-26T18:51:32.692130Z",
     "start_time": "2021-07-26T18:51:28.067057Z"
    }
   },
   "outputs": [
    {
     "name": "stdout",
     "output_type": "stream",
     "text": [
      "55.9 ms ± 2.39 ms per loop (mean ± std. dev. of 7 runs, 10 loops each)\n"
     ]
    }
   ],
   "source": [
    "%timeit check_if_in(my_tup)"
   ]
  },
  {
   "cell_type": "code",
   "execution_count": 5,
   "id": "49642973",
   "metadata": {
    "ExecuteTime": {
     "end_time": "2021-07-26T18:51:36.139884Z",
     "start_time": "2021-07-26T18:51:32.693990Z"
    }
   },
   "outputs": [
    {
     "name": "stdout",
     "output_type": "stream",
     "text": [
      "4.13 ms ± 156 µs per loop (mean ± std. dev. of 7 runs, 100 loops each)\n"
     ]
    }
   ],
   "source": [
    "%timeit check_if_in(my_set)"
   ]
  },
  {
   "cell_type": "markdown",
   "id": "115e7cc8",
   "metadata": {},
   "source": [
    "***Computationally***\n",
    "- *Checking if something is `in` a Python `list` or `tuple`:*\n",
    "    - $\\LARGE O(n)$\n",
    "    - *$n$ is the number of elements in the collection.*\n",
    "    \n",
    "    \n",
    "- *Checking if something is `in` a Python `set` or `dict`:*\n",
    "    - $\\LARGE O(1)$\n",
    "    - *The complexity is a constant - it doesn't matter how large the collection is.*\n",
    "    \n",
    "---\n",
    "\n",
    "***SIDE-NOTE***\n",
    "- Iterating over collections is a different story."
   ]
  },
  {
   "cell_type": "code",
   "execution_count": 6,
   "id": "508b2109",
   "metadata": {
    "ExecuteTime": {
     "end_time": "2021-07-26T18:55:34.030493Z",
     "start_time": "2021-07-26T18:55:30.322519Z"
    }
   },
   "outputs": [
    {
     "name": "stdout",
     "output_type": "stream",
     "text": [
      "448 ns ± 26.8 ns per loop (mean ± std. dev. of 7 runs, 1000000 loops each)\n"
     ]
    }
   ],
   "source": [
    "# Iterating over collections\n",
    "%timeit for x in my_lst: pass"
   ]
  },
  {
   "cell_type": "code",
   "execution_count": 7,
   "id": "ffa20261",
   "metadata": {
    "ExecuteTime": {
     "end_time": "2021-07-26T18:55:38.768399Z",
     "start_time": "2021-07-26T18:55:34.033382Z"
    }
   },
   "outputs": [
    {
     "name": "stdout",
     "output_type": "stream",
     "text": [
      "571 ns ± 15.6 ns per loop (mean ± std. dev. of 7 runs, 1000000 loops each)\n"
     ]
    }
   ],
   "source": [
    "%timeit for x in my_set: pass"
   ]
  },
  {
   "cell_type": "markdown",
   "id": "49bbc233",
   "metadata": {},
   "source": [
    "#### Notation\n",
    "\n",
    "| Method                      |\tEquivalent |\tResult |\n",
    "| ------                      | ------     | ------    |\n",
    "| `s.issubset(t)`             |\ts <= t     | test whether every element in s is in t\n",
    "| `s.issuperset(t)`           |\ts >= t     | test whether every element in t is in s\n",
    "| `s.union(t)`                |\ts $\\mid$ t | new set with elements from both s and t\n",
    "| `s.intersection(t)`         |\ts & t      | new set with elements common to s and t\n",
    "| `s.difference(t)`           |\ts - t \t   | new set with elements in s but not in t\n",
    "| `s.symmetric_difference(t)` |\ts ^ t      | new set with elements in either s or t but not both"
   ]
  },
  {
   "cell_type": "code",
   "execution_count": 14,
   "id": "9e039e47",
   "metadata": {
    "ExecuteTime": {
     "end_time": "2021-07-26T18:59:22.361114Z",
     "start_time": "2021-07-26T18:59:22.356398Z"
    },
    "scrolled": true
   },
   "outputs": [
    {
     "data": {
      "text/plain": [
       "{0,\n",
       " 8,\n",
       " 10,\n",
       " 12,\n",
       " 14,\n",
       " 16,\n",
       " 18,\n",
       " 20,\n",
       " 22,\n",
       " 24,\n",
       " 26,\n",
       " 28,\n",
       " 30,\n",
       " 32,\n",
       " 34,\n",
       " 36,\n",
       " 38,\n",
       " 40,\n",
       " 42,\n",
       " 44,\n",
       " 46,\n",
       " 48,\n",
       " 50,\n",
       " 52,\n",
       " 54,\n",
       " 56,\n",
       " 58,\n",
       " 60,\n",
       " 62,\n",
       " 64,\n",
       " 66,\n",
       " 68,\n",
       " 70,\n",
       " 72,\n",
       " 74,\n",
       " 76,\n",
       " 78,\n",
       " 80,\n",
       " 82,\n",
       " 84,\n",
       " 86,\n",
       " 88,\n",
       " 90,\n",
       " 92,\n",
       " 94,\n",
       " 96,\n",
       " 98,\n",
       " 100}"
      ]
     },
     "execution_count": 14,
     "metadata": {},
     "output_type": "execute_result"
    }
   ],
   "source": [
    "# my_set.difference({2,3,4,5,6})\n",
    "my_set - {2,3,4,5,6}"
   ]
  },
  {
   "cell_type": "markdown",
   "id": "5e07cb97",
   "metadata": {},
   "source": [
    "# Permutations / Combinations"
   ]
  },
  {
   "cell_type": "code",
   "execution_count": 15,
   "id": "4f269777",
   "metadata": {
    "ExecuteTime": {
     "end_time": "2021-07-26T19:00:20.816292Z",
     "start_time": "2021-07-26T19:00:20.813855Z"
    }
   },
   "outputs": [],
   "source": [
    "from itertools import permutations, combinations"
   ]
  },
  {
   "cell_type": "markdown",
   "id": "021f6fc3",
   "metadata": {},
   "source": [
    "## Permutation\n",
    "- A permutation is a grouping of elements from a collection where **order matters**.\n",
    "    \n",
    "---\n",
    "\n",
    "**Basic Permutation**\n",
    "> *How many ways to arrange $n$ elements?*\n",
    "\n",
    "$\\LARGE P(n) = n!$\n",
    "> *$\\large 4 * 3 * 2 * 1 = 4! = 24$*\n",
    "\n",
    "---\n",
    "\n",
    "**Permutation with Replacement**\n",
    "> *How many ways to select $j$ elements out of a pool of $n$ objects?*\n",
    "\n",
    "$\\LARGE {P}_{j}^{n} = n^j$\n",
    "> *$\\large 4*4*4*4 = 4^4 = 256$*\n",
    "\n",
    "---\n",
    "\n",
    "**Permutation without Replacement**\n",
    "> *How many ways to select $k$ elements out of a pool of $n$ objects?*\n",
    "\n",
    "$\\LARGE P_{k}^{n}= \\dfrac{n!}{(n-k)!}$\n",
    "> *$\\large \\frac{4!}{(4-2)!} = \\frac{24}{2} = 12$*\n",
    "\n",
    "---\n",
    "\n",
    "**Permutation with Repetition**\n",
    "> *How many ways to arrange $n$ elements where some are repeated?*\n",
    "\n",
    "$\\LARGE \\frac{n!}{n_1!n_2!...n_j!}$\n",
    "- where $n_j$ stands for identical objects of type $j$\n",
    "\n",
    "> Looking at the word **TENNESSEE**, you can swap the 3rd and the 4th letter and have the same word. So the total number is less than $9!$\n",
    ">\n",
    "> ```python\n",
    "> {'E': 4, 'N': 2, 'S': 2}\n",
    "> ```\n",
    ">\n",
    "> $\\large \\frac{9!}{4!2!2!} = 3780$"
   ]
  },
  {
   "cell_type": "code",
   "execution_count": 19,
   "id": "903d88a9",
   "metadata": {
    "ExecuteTime": {
     "end_time": "2021-07-26T19:08:20.152949Z",
     "start_time": "2021-07-26T19:08:20.148625Z"
    }
   },
   "outputs": [
    {
     "data": {
      "text/plain": [
       "<itertools.permutations at 0x7fde300b7f10>"
      ]
     },
     "execution_count": 19,
     "metadata": {},
     "output_type": "execute_result"
    }
   ],
   "source": [
    "permutations([0,1,2])"
   ]
  },
  {
   "cell_type": "code",
   "execution_count": 20,
   "id": "30e235f6",
   "metadata": {
    "ExecuteTime": {
     "end_time": "2021-07-26T19:08:41.827875Z",
     "start_time": "2021-07-26T19:08:41.824937Z"
    }
   },
   "outputs": [],
   "source": [
    "def show_permutations(n, k=None):\n",
    "    return list(permutations(range(n), k))"
   ]
  },
  {
   "cell_type": "code",
   "execution_count": 21,
   "id": "cecb3872",
   "metadata": {
    "ExecuteTime": {
     "end_time": "2021-07-26T19:08:43.335704Z",
     "start_time": "2021-07-26T19:08:43.330071Z"
    }
   },
   "outputs": [
    {
     "data": {
      "text/plain": [
       "[(0, 1, 2, 3),\n",
       " (0, 1, 3, 2),\n",
       " (0, 2, 1, 3),\n",
       " (0, 2, 3, 1),\n",
       " (0, 3, 1, 2),\n",
       " (0, 3, 2, 1),\n",
       " (1, 0, 2, 3),\n",
       " (1, 0, 3, 2),\n",
       " (1, 2, 0, 3),\n",
       " (1, 2, 3, 0),\n",
       " (1, 3, 0, 2),\n",
       " (1, 3, 2, 0),\n",
       " (2, 0, 1, 3),\n",
       " (2, 0, 3, 1),\n",
       " (2, 1, 0, 3),\n",
       " (2, 1, 3, 0),\n",
       " (2, 3, 0, 1),\n",
       " (2, 3, 1, 0),\n",
       " (3, 0, 1, 2),\n",
       " (3, 0, 2, 1),\n",
       " (3, 1, 0, 2),\n",
       " (3, 1, 2, 0),\n",
       " (3, 2, 0, 1),\n",
       " (3, 2, 1, 0)]"
      ]
     },
     "execution_count": 21,
     "metadata": {},
     "output_type": "execute_result"
    }
   ],
   "source": [
    "# Pure Permutation.\n",
    "show_permutations(4)"
   ]
  },
  {
   "cell_type": "code",
   "execution_count": 22,
   "id": "c2b4336c",
   "metadata": {
    "ExecuteTime": {
     "end_time": "2021-07-26T19:09:41.345849Z",
     "start_time": "2021-07-26T19:09:41.340774Z"
    }
   },
   "outputs": [
    {
     "name": "stdout",
     "output_type": "stream",
     "text": [
      "(1, 1, 1)\n",
      "(1, 1, 2)\n",
      "(1, 1, 3)\n",
      "(1, 2, 1)\n",
      "(1, 2, 2)\n",
      "(1, 2, 3)\n",
      "(1, 3, 1)\n",
      "(1, 3, 2)\n",
      "(1, 3, 3)\n",
      "(2, 1, 1)\n",
      "(2, 1, 2)\n",
      "(2, 1, 3)\n",
      "(2, 2, 1)\n",
      "(2, 2, 2)\n",
      "(2, 2, 3)\n",
      "(2, 3, 1)\n",
      "(2, 3, 2)\n",
      "(2, 3, 3)\n",
      "(3, 1, 1)\n",
      "(3, 1, 2)\n",
      "(3, 1, 3)\n",
      "(3, 2, 1)\n",
      "(3, 2, 2)\n",
      "(3, 2, 3)\n",
      "(3, 3, 1)\n",
      "(3, 3, 2)\n",
      "(3, 3, 3)\n"
     ]
    }
   ],
   "source": [
    "# Permutation with Replacement\n",
    "a = [1,2,3]\n",
    "for x in a:\n",
    "    for y in a:\n",
    "        for z in a:\n",
    "            print((x,y,z))"
   ]
  },
  {
   "cell_type": "code",
   "execution_count": 23,
   "id": "dce25fb9",
   "metadata": {
    "ExecuteTime": {
     "end_time": "2021-07-26T19:10:06.673427Z",
     "start_time": "2021-07-26T19:10:06.668616Z"
    }
   },
   "outputs": [
    {
     "data": {
      "text/plain": [
       "[(0, 1),\n",
       " (0, 2),\n",
       " (0, 3),\n",
       " (1, 0),\n",
       " (1, 2),\n",
       " (1, 3),\n",
       " (2, 0),\n",
       " (2, 1),\n",
       " (2, 3),\n",
       " (3, 0),\n",
       " (3, 1),\n",
       " (3, 2)]"
      ]
     },
     "execution_count": 23,
     "metadata": {},
     "output_type": "execute_result"
    }
   ],
   "source": [
    "# Permutations of a Subset\n",
    "show_permutations(4, 2)"
   ]
  },
  {
   "cell_type": "markdown",
   "id": "eb12e2e2",
   "metadata": {},
   "source": [
    "## Combination\n",
    "- A combination is a grouping of elements from a collection where **order does not matter**.\n",
    "\n",
    "---\n",
    "\n",
    "***Combination***\n",
    "> *How many ways can we create a subset $k$ out of $n$ objects, when order is not important?*\n",
    "\n",
    "$\\LARGE C_{k}^{n} = \\displaystyle\\binom{n}{k} = \\dfrac{P_{k}^{n}}{k!}=\\dfrac{ \\dfrac{n!}{(n-k)!}}{k!} = \\dfrac{n!}{(n-k)!k!}$\n",
    "\n",
    "*Simplified combination equation*\n",
    "\n",
    "$\\large C_{k}^{n} = \\dfrac{n!}{(n-k)!k!}$\n",
    "\n",
    "> $\\large C_{2}^{4} = \\frac{P_{2}^{4}}{2!} = \\frac{\\frac{4!}{(4-2)!}}{2!} = \\frac{4!}{(4-2)!2!}$\n",
    ">\n",
    "> $\\large \\frac{24}{4} = 6$"
   ]
  },
  {
   "cell_type": "code",
   "execution_count": 24,
   "id": "dd768a41",
   "metadata": {
    "ExecuteTime": {
     "end_time": "2021-07-26T19:12:52.956680Z",
     "start_time": "2021-07-26T19:12:52.950064Z"
    }
   },
   "outputs": [
    {
     "data": {
      "text/plain": [
       "[(1, 2), (1, 3), (1, 4), (2, 3), (2, 4), (3, 4)]"
      ]
     },
     "execution_count": 24,
     "metadata": {},
     "output_type": "execute_result"
    }
   ],
   "source": [
    "list(combinations([1,2,3,4], 2))"
   ]
  },
  {
   "cell_type": "markdown",
   "id": "84b2b525",
   "metadata": {},
   "source": [
    "# Practice\n",
    "1. *What is the question asking for? Permutation? Combination?*\n",
    "2. *Which equation should we use?*\n",
    "\n",
    "***Given a standard padlock (40 numbers, 3 options), how many possible codes are possible?***\n",
    "\n",
    "***How many 3-topping pizzas can you make given a choice of 8 ingredients?***"
   ]
  },
  {
   "cell_type": "code",
   "execution_count": null,
   "id": "4f6af4b9",
   "metadata": {},
   "outputs": [],
   "source": [
    "# Permutation / Combination: \n",
    "# Equation:\n",
    "#####\n",
    "# Permutation / Combination: \n",
    "# Equation:"
   ]
  },
  {
   "cell_type": "markdown",
   "id": "d0698b94",
   "metadata": {},
   "source": [
    "#### Importing Example DataFrame"
   ]
  },
  {
   "cell_type": "code",
   "execution_count": 25,
   "id": "36df75da",
   "metadata": {
    "ExecuteTime": {
     "end_time": "2021-07-26T19:18:28.582712Z",
     "start_time": "2021-07-26T19:18:27.981456Z"
    }
   },
   "outputs": [],
   "source": [
    "import pandas as pd"
   ]
  },
  {
   "cell_type": "code",
   "execution_count": 26,
   "id": "e9550a6d",
   "metadata": {
    "ExecuteTime": {
     "end_time": "2021-07-26T19:18:36.815514Z",
     "start_time": "2021-07-26T19:18:35.310364Z"
    }
   },
   "outputs": [
    {
     "data": {
      "text/html": [
       "<div>\n",
       "<style scoped>\n",
       "    .dataframe tbody tr th:only-of-type {\n",
       "        vertical-align: middle;\n",
       "    }\n",
       "\n",
       "    .dataframe tbody tr th {\n",
       "        vertical-align: top;\n",
       "    }\n",
       "\n",
       "    .dataframe thead th {\n",
       "        text-align: right;\n",
       "    }\n",
       "</style>\n",
       "<table border=\"1\" class=\"dataframe\">\n",
       "  <thead>\n",
       "    <tr style=\"text-align: right;\">\n",
       "      <th></th>\n",
       "      <th>artist</th>\n",
       "      <th>track</th>\n",
       "      <th>requested_by</th>\n",
       "    </tr>\n",
       "  </thead>\n",
       "  <tbody>\n",
       "    <tr>\n",
       "      <th>0</th>\n",
       "      <td>Smashing Pumpkins</td>\n",
       "      <td>Tonight, Tonight</td>\n",
       "      <td>Anne</td>\n",
       "    </tr>\n",
       "    <tr>\n",
       "      <th>1</th>\n",
       "      <td>Black Eyed Peas</td>\n",
       "      <td>Let's Get it Started</td>\n",
       "      <td>Anne</td>\n",
       "    </tr>\n",
       "    <tr>\n",
       "      <th>2</th>\n",
       "      <td>Green Day</td>\n",
       "      <td>Time of your Life</td>\n",
       "      <td>Anne</td>\n",
       "    </tr>\n",
       "    <tr>\n",
       "      <th>3</th>\n",
       "      <td>Cartman (South Park)</td>\n",
       "      <td>Poker Face</td>\n",
       "      <td>Carla</td>\n",
       "    </tr>\n",
       "    <tr>\n",
       "      <th>4</th>\n",
       "      <td>Nicki Minaj</td>\n",
       "      <td>Right By My Side</td>\n",
       "      <td>Carla</td>\n",
       "    </tr>\n",
       "    <tr>\n",
       "      <th>5</th>\n",
       "      <td>Kelly Clarkson</td>\n",
       "      <td>Since You've Been Gone</td>\n",
       "      <td>Carla</td>\n",
       "    </tr>\n",
       "    <tr>\n",
       "      <th>6</th>\n",
       "      <td>Nicki Minaj</td>\n",
       "      <td>Marilyn Monroe</td>\n",
       "      <td>Carla</td>\n",
       "    </tr>\n",
       "    <tr>\n",
       "      <th>7</th>\n",
       "      <td>Kelly Clarkson</td>\n",
       "      <td>Never Again</td>\n",
       "      <td>Carla</td>\n",
       "    </tr>\n",
       "    <tr>\n",
       "      <th>8</th>\n",
       "      <td>Green Day</td>\n",
       "      <td>Minority</td>\n",
       "      <td>Carla</td>\n",
       "    </tr>\n",
       "    <tr>\n",
       "      <th>9</th>\n",
       "      <td>Eve 6</td>\n",
       "      <td>Here's to the Night</td>\n",
       "      <td>James</td>\n",
       "    </tr>\n",
       "    <tr>\n",
       "      <th>10</th>\n",
       "      <td>Neutral Milk Hotel</td>\n",
       "      <td>Into the Aeroplane Over the Sea</td>\n",
       "      <td>James</td>\n",
       "    </tr>\n",
       "    <tr>\n",
       "      <th>11</th>\n",
       "      <td>Rilo Kiley</td>\n",
       "      <td>With Arms Outstretched</td>\n",
       "      <td>James</td>\n",
       "    </tr>\n",
       "    <tr>\n",
       "      <th>12</th>\n",
       "      <td>Red Hot Chili Peppers</td>\n",
       "      <td>Otherside</td>\n",
       "      <td>James</td>\n",
       "    </tr>\n",
       "    <tr>\n",
       "      <th>13</th>\n",
       "      <td>Green Day</td>\n",
       "      <td>Time of your Life</td>\n",
       "      <td>Joe</td>\n",
       "    </tr>\n",
       "    <tr>\n",
       "      <th>14</th>\n",
       "      <td>B-52s</td>\n",
       "      <td>Rock Lobster</td>\n",
       "      <td>Joe</td>\n",
       "    </tr>\n",
       "    <tr>\n",
       "      <th>15</th>\n",
       "      <td>Lady GaGa</td>\n",
       "      <td>Poker Face</td>\n",
       "      <td>Joe</td>\n",
       "    </tr>\n",
       "    <tr>\n",
       "      <th>16</th>\n",
       "      <td>John Lennon</td>\n",
       "      <td>Imagine</td>\n",
       "      <td>Joe</td>\n",
       "    </tr>\n",
       "    <tr>\n",
       "      <th>17</th>\n",
       "      <td>Black Eyed Peas</td>\n",
       "      <td>Let's Get it Started</td>\n",
       "      <td>John</td>\n",
       "    </tr>\n",
       "    <tr>\n",
       "      <th>18</th>\n",
       "      <td>Lady GaGa</td>\n",
       "      <td>Poker Face</td>\n",
       "      <td>John</td>\n",
       "    </tr>\n",
       "    <tr>\n",
       "      <th>19</th>\n",
       "      <td>Lady GaGa</td>\n",
       "      <td>Bad Romance</td>\n",
       "      <td>John</td>\n",
       "    </tr>\n",
       "    <tr>\n",
       "      <th>20</th>\n",
       "      <td>Lady GaGa</td>\n",
       "      <td>Just Dance</td>\n",
       "      <td>John</td>\n",
       "    </tr>\n",
       "    <tr>\n",
       "      <th>21</th>\n",
       "      <td>Black Eyed Peas</td>\n",
       "      <td>Let's Get it Started</td>\n",
       "      <td>Samantha</td>\n",
       "    </tr>\n",
       "    <tr>\n",
       "      <th>22</th>\n",
       "      <td>Panic at the Disco</td>\n",
       "      <td>Hallelujah</td>\n",
       "      <td>Samantha</td>\n",
       "    </tr>\n",
       "    <tr>\n",
       "      <th>23</th>\n",
       "      <td>Adele</td>\n",
       "      <td>Set Fire to the Rain</td>\n",
       "      <td>Samantha</td>\n",
       "    </tr>\n",
       "  </tbody>\n",
       "</table>\n",
       "</div>"
      ],
      "text/plain": [
       "                   artist                            track requested_by\n",
       "0       Smashing Pumpkins                 Tonight, Tonight         Anne\n",
       "1         Black Eyed Peas             Let's Get it Started         Anne\n",
       "2               Green Day                Time of your Life         Anne\n",
       "3    Cartman (South Park)                       Poker Face        Carla\n",
       "4             Nicki Minaj                 Right By My Side        Carla\n",
       "5          Kelly Clarkson           Since You've Been Gone        Carla\n",
       "6             Nicki Minaj                   Marilyn Monroe        Carla\n",
       "7          Kelly Clarkson                      Never Again        Carla\n",
       "8               Green Day                         Minority        Carla\n",
       "9                   Eve 6              Here's to the Night        James\n",
       "10     Neutral Milk Hotel  Into the Aeroplane Over the Sea        James\n",
       "11             Rilo Kiley           With Arms Outstretched        James\n",
       "12  Red Hot Chili Peppers                        Otherside        James\n",
       "13              Green Day                Time of your Life          Joe\n",
       "14                  B-52s                     Rock Lobster          Joe\n",
       "15              Lady GaGa                       Poker Face          Joe\n",
       "16            John Lennon                          Imagine          Joe\n",
       "17        Black Eyed Peas             Let's Get it Started         John\n",
       "18              Lady GaGa                       Poker Face         John\n",
       "19              Lady GaGa                      Bad Romance         John\n",
       "20              Lady GaGa                       Just Dance         John\n",
       "21        Black Eyed Peas             Let's Get it Started     Samantha\n",
       "22     Panic at the Disco                       Hallelujah     Samantha\n",
       "23                  Adele             Set Fire to the Rain     Samantha"
      ]
     },
     "execution_count": 26,
     "metadata": {},
     "output_type": "execute_result"
    }
   ],
   "source": [
    "# Read file-paths.\n",
    "with open('data/playlist_paths.txt') as f:\n",
    "    f_path_lst = [x.strip() for x in f.readlines()]\n",
    "\n",
    "    \n",
    "# Create individual dfs.\n",
    "df_lst = [(p.split('/')[-1].replace('_recs.csv', ''), # Name of the person from path\n",
    "           pd.read_csv(p))                            # Dataframe loaded from path\n",
    "          for p in f_path_lst]\n",
    "for name, df in df_lst:\n",
    "    df.loc[:, 'requested_by'] = name.title()\n",
    "    \n",
    "# Create dataframe\n",
    "df = pd.concat([d for n, d in df_lst]).reset_index(drop=True)\n",
    "df"
   ]
  },
  {
   "cell_type": "markdown",
   "id": "08671526",
   "metadata": {},
   "source": [
    "# Practice\n",
    "\n",
    "***Given the above playlist (if played on shuffle), what is the probability of hearing a song by `Lady GaGa`?***"
   ]
  },
  {
   "cell_type": "code",
   "execution_count": 30,
   "id": "78e84c47",
   "metadata": {
    "ExecuteTime": {
     "end_time": "2021-07-26T19:23:54.089262Z",
     "start_time": "2021-07-26T19:23:54.083929Z"
    }
   },
   "outputs": [
    {
     "data": {
      "text/plain": [
       "0.16666666666666666"
      ]
     },
     "execution_count": 30,
     "metadata": {},
     "output_type": "execute_result"
    }
   ],
   "source": [
    "GAGA = 'Lady GaGa'\n",
    "\n",
    "num_gaga = df.loc[df['artist'] == GAGA].shape[0]\n",
    "len_of_df = df.shape[0] # len(df)\n",
    "\n",
    "num_gaga / len_of_df"
   ]
  },
  {
   "cell_type": "markdown",
   "id": "3688d3d0",
   "metadata": {},
   "source": [
    "# Conditional Probability\n",
    "\n",
    "**Conditional probability emerges when the outcome a trial may influence the results of the upcoming trials (when we have dependent events)**\n",
    "\n",
    "\n",
    "<img src=\"https://raw.githubusercontent.com/jirvingphd/dsc-conditional-probability-online-ds-ft-100719/master/images/Image_71_TreeDiag.png\" width = 500>\n",
    "\n",
    "$ P (A|B) = \\dfrac{P(A \\cap B)}{P(B)}$\n",
    "\n",
    "$P(A|B)$, is the probability A **given** that $B$ has just happened.\n",
    "\n",
    "## Independent Events\n",
    "\n",
    "**Events $A$ and $B$ are independent when the occurrence of $A$ has no effect on whether $B$ will occur (or not).**\n",
    "\n",
    "\n",
    "## Disjoint Events\n",
    "**Events $A$ and $B$ are disjoint if $A$ occurring means that $B$ cannot occur.**\n",
    "\n",
    "Disjoint events are **mutually exclusive**. $P (A \\cap B)$ is **empty**.\n",
    "\n",
    "\n",
    "## Dependent Events\n",
    "\n",
    "**Events $A$ and $B$ are dependent when the occurrence of $A$ somehow has an effect on whether $B$ will occur (or not).**\n",
    "\n",
    "<img src=\"https://raw.githubusercontent.com/learn-co-students/dsc-conditional-probability-onl01-dtsc-ft-070620/master/images/Image_69_Marb.png\" width=50%>\n",
    "\n",
    "---\n",
    "\n",
    "# Practice\n",
    "\n",
    "***Given the above playlist, what is the probability that the song playing is `Poker Face`, given the song is by `Lady GaGa`?***"
   ]
  },
  {
   "cell_type": "code",
   "execution_count": null,
   "id": "2f529d5c",
   "metadata": {},
   "outputs": [],
   "source": []
  },
  {
   "cell_type": "markdown",
   "id": "3a835e8e",
   "metadata": {},
   "source": [
    "# Law of Total Probability\n",
    "\n",
    "\n",
    "<img src=\"https://raw.githubusercontent.com/jirvingphd/dsc-law-of-total-probability-online-ds-ft-100719/master/images/Image_55_TotProb.png\" width=50%>\n",
    "\n",
    "- *The probabilities of $B$ can be calculated if the know the individual conditional probabilities:*\n",
    "\n",
    "$\\LARGE P(B|A_1)$, $\\LARGE P(B|A_2)$, $\\LARGE P(B|A_3)$\n",
    "\n",
    "The Law of Total Probability says that $P(B)$ is the sum of the individual conditional probabilities, given that each $A$ segment is **disjoint** and there is no part of $B$ that isn't part of an $A$ segment."
   ]
  },
  {
   "cell_type": "code",
   "execution_count": null,
   "id": "437a5f47",
   "metadata": {},
   "outputs": [],
   "source": []
  }
 ],
 "metadata": {
  "kernelspec": {
   "display_name": "Python 3",
   "language": "python",
   "name": "python3"
  },
  "language_info": {
   "codemirror_mode": {
    "name": "ipython",
    "version": 3
   },
   "file_extension": ".py",
   "mimetype": "text/x-python",
   "name": "python",
   "nbconvert_exporter": "python",
   "pygments_lexer": "ipython3",
   "version": "3.6.9"
  },
  "toc": {
   "base_numbering": 1,
   "nav_menu": {},
   "number_sections": false,
   "sideBar": true,
   "skip_h1_title": false,
   "title_cell": "Table of Contents",
   "title_sidebar": "Contents",
   "toc_cell": false,
   "toc_position": {
    "height": "calc(100% - 180px)",
    "left": "10px",
    "top": "150px",
    "width": "268px"
   },
   "toc_section_display": true,
   "toc_window_display": true
  }
 },
 "nbformat": 4,
 "nbformat_minor": 5
}
