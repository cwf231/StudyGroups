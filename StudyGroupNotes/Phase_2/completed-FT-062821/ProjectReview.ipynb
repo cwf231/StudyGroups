{
 "cells": [
  {
   "cell_type": "markdown",
   "id": "d9a327c6",
   "metadata": {},
   "source": [
    "# One-Hour Linear Regression Project!\n",
    "\n",
    "### Procedural Cheat Sheet\n",
    "#### OESMN\n",
    "- **O**btain\n",
    "- **E**xplore\n",
    "- **S**crub\n",
    "- **M**odel\n",
    "- I**N**terpret\n",
    "\n",
    "\n",
    "### Checklist\n",
    "- [ ] Have we handled missing data?\n",
    "- [ ] Have we included feature engineering?\n",
    "- [ ] Are we checking for overfitting?\n",
    "- [ ] Are we avoiding data leakage?\n",
    "- [ ] Is our model interpretable?\n",
    "- [ ] Are we meeting the assumptions of the model?\n",
    "    1. *There is a **linear relationship**.*\n",
    "    - *Residuals are **distributed normally**.*\n",
    "    - *Residuals are **homoskedastic**.*\n",
    "    - *There is no **multicolinearity** between independent variables.*\n",
    "    \n",
    "---\n",
    "\n",
    "#### Linear Regression - Assumptions\n",
    "- Dependent / Independent Variable **Linearity**\n",
    "    - *Check **scatterplot**.*\n",
    "    - *Check **Correlation Coefficients**.*\n",
    "- Residual **Normality**\n",
    "    - *Check **Omnibus**-Value.*\n",
    "    - *Check a **QQ**-plot.*\n",
    "- Residual **Homoskedasticity**.\n",
    "    - *Check **Durbin-Watson** Score.*\n",
    "        - *~1.5 - ~2.5 is good.*\n",
    "- Independent Variable **Multicolinearity**\n",
    "    - *Check **Variance Inflation Factor**.*\n",
    "    - *Check **Correlation Coefficients**.*"
   ]
  },
  {
   "cell_type": "code",
   "execution_count": 1,
   "id": "95f87cde",
   "metadata": {
    "ExecuteTime": {
     "end_time": "2021-08-12T20:51:17.213504Z",
     "start_time": "2021-08-12T20:51:14.925317Z"
    }
   },
   "outputs": [
    {
     "name": "stderr",
     "output_type": "stream",
     "text": [
      "/opt/anaconda3/envs/learn-env/lib/python3.6/site-packages/statsmodels/tools/_testing.py:19: FutureWarning: pandas.util.testing is deprecated. Use the functions in the public API at pandas.testing instead.\n",
      "  import pandas.util.testing as tm\n"
     ]
    }
   ],
   "source": [
    "import pandas as pd\n",
    "import numpy as np\n",
    "import matplotlib.pyplot as plt\n",
    "import seaborn as sns\n",
    "\n",
    "import statsmodels.api as sm\n",
    "import statsmodels.formula.api as smf\n",
    "\n",
    "from sklearn.preprocessing import StandardScaler, OneHotEncoder\n",
    "from sklearn.linear_model import LinearRegression\n",
    "from sklearn.model_selection import train_test_split, cross_val_score\n",
    "\n",
    "from statsmodels.stats.outliers_influence import variance_inflation_factor"
   ]
  },
  {
   "cell_type": "markdown",
   "id": "e0cfda9c",
   "metadata": {},
   "source": [
    "# Obtain\n",
    "\n",
    "> *https://www.kaggle.com/nehalbirla/vehicle-dataset-from-cardekho?select=car+data.csv*"
   ]
  },
  {
   "cell_type": "code",
   "execution_count": 2,
   "id": "4b334969",
   "metadata": {
    "ExecuteTime": {
     "end_time": "2021-08-12T20:51:17.247284Z",
     "start_time": "2021-08-12T20:51:17.216980Z"
    }
   },
   "outputs": [
    {
     "data": {
      "text/html": [
       "<div>\n",
       "<style scoped>\n",
       "    .dataframe tbody tr th:only-of-type {\n",
       "        vertical-align: middle;\n",
       "    }\n",
       "\n",
       "    .dataframe tbody tr th {\n",
       "        vertical-align: top;\n",
       "    }\n",
       "\n",
       "    .dataframe thead th {\n",
       "        text-align: right;\n",
       "    }\n",
       "</style>\n",
       "<table border=\"1\" class=\"dataframe\">\n",
       "  <thead>\n",
       "    <tr style=\"text-align: right;\">\n",
       "      <th></th>\n",
       "      <th>name</th>\n",
       "      <th>year</th>\n",
       "      <th>selling_price</th>\n",
       "      <th>km_driven</th>\n",
       "      <th>fuel</th>\n",
       "      <th>seller_type</th>\n",
       "      <th>transmission</th>\n",
       "      <th>owner</th>\n",
       "    </tr>\n",
       "  </thead>\n",
       "  <tbody>\n",
       "    <tr>\n",
       "      <th>0</th>\n",
       "      <td>Maruti 800 AC</td>\n",
       "      <td>2007</td>\n",
       "      <td>60000</td>\n",
       "      <td>70000</td>\n",
       "      <td>Petrol</td>\n",
       "      <td>Individual</td>\n",
       "      <td>Manual</td>\n",
       "      <td>First Owner</td>\n",
       "    </tr>\n",
       "    <tr>\n",
       "      <th>1</th>\n",
       "      <td>Maruti Wagon R LXI Minor</td>\n",
       "      <td>2007</td>\n",
       "      <td>135000</td>\n",
       "      <td>50000</td>\n",
       "      <td>Petrol</td>\n",
       "      <td>Individual</td>\n",
       "      <td>Manual</td>\n",
       "      <td>First Owner</td>\n",
       "    </tr>\n",
       "    <tr>\n",
       "      <th>2</th>\n",
       "      <td>Hyundai Verna 1.6 SX</td>\n",
       "      <td>2012</td>\n",
       "      <td>600000</td>\n",
       "      <td>100000</td>\n",
       "      <td>Diesel</td>\n",
       "      <td>Individual</td>\n",
       "      <td>Manual</td>\n",
       "      <td>First Owner</td>\n",
       "    </tr>\n",
       "    <tr>\n",
       "      <th>3</th>\n",
       "      <td>Datsun RediGO T Option</td>\n",
       "      <td>2017</td>\n",
       "      <td>250000</td>\n",
       "      <td>46000</td>\n",
       "      <td>Petrol</td>\n",
       "      <td>Individual</td>\n",
       "      <td>Manual</td>\n",
       "      <td>First Owner</td>\n",
       "    </tr>\n",
       "    <tr>\n",
       "      <th>4</th>\n",
       "      <td>Honda Amaze VX i-DTEC</td>\n",
       "      <td>2014</td>\n",
       "      <td>450000</td>\n",
       "      <td>141000</td>\n",
       "      <td>Diesel</td>\n",
       "      <td>Individual</td>\n",
       "      <td>Manual</td>\n",
       "      <td>Second Owner</td>\n",
       "    </tr>\n",
       "    <tr>\n",
       "      <th>...</th>\n",
       "      <td>...</td>\n",
       "      <td>...</td>\n",
       "      <td>...</td>\n",
       "      <td>...</td>\n",
       "      <td>...</td>\n",
       "      <td>...</td>\n",
       "      <td>...</td>\n",
       "      <td>...</td>\n",
       "    </tr>\n",
       "    <tr>\n",
       "      <th>4335</th>\n",
       "      <td>Hyundai i20 Magna 1.4 CRDi (Diesel)</td>\n",
       "      <td>2014</td>\n",
       "      <td>409999</td>\n",
       "      <td>80000</td>\n",
       "      <td>Diesel</td>\n",
       "      <td>Individual</td>\n",
       "      <td>Manual</td>\n",
       "      <td>Second Owner</td>\n",
       "    </tr>\n",
       "    <tr>\n",
       "      <th>4336</th>\n",
       "      <td>Hyundai i20 Magna 1.4 CRDi</td>\n",
       "      <td>2014</td>\n",
       "      <td>409999</td>\n",
       "      <td>80000</td>\n",
       "      <td>Diesel</td>\n",
       "      <td>Individual</td>\n",
       "      <td>Manual</td>\n",
       "      <td>Second Owner</td>\n",
       "    </tr>\n",
       "    <tr>\n",
       "      <th>4337</th>\n",
       "      <td>Maruti 800 AC BSIII</td>\n",
       "      <td>2009</td>\n",
       "      <td>110000</td>\n",
       "      <td>83000</td>\n",
       "      <td>Petrol</td>\n",
       "      <td>Individual</td>\n",
       "      <td>Manual</td>\n",
       "      <td>Second Owner</td>\n",
       "    </tr>\n",
       "    <tr>\n",
       "      <th>4338</th>\n",
       "      <td>Hyundai Creta 1.6 CRDi SX Option</td>\n",
       "      <td>2016</td>\n",
       "      <td>865000</td>\n",
       "      <td>90000</td>\n",
       "      <td>Diesel</td>\n",
       "      <td>Individual</td>\n",
       "      <td>Manual</td>\n",
       "      <td>First Owner</td>\n",
       "    </tr>\n",
       "    <tr>\n",
       "      <th>4339</th>\n",
       "      <td>Renault KWID RXT</td>\n",
       "      <td>2016</td>\n",
       "      <td>225000</td>\n",
       "      <td>40000</td>\n",
       "      <td>Petrol</td>\n",
       "      <td>Individual</td>\n",
       "      <td>Manual</td>\n",
       "      <td>First Owner</td>\n",
       "    </tr>\n",
       "  </tbody>\n",
       "</table>\n",
       "<p>4340 rows × 8 columns</p>\n",
       "</div>"
      ],
      "text/plain": [
       "                                     name  year  selling_price  km_driven  \\\n",
       "0                           Maruti 800 AC  2007          60000      70000   \n",
       "1                Maruti Wagon R LXI Minor  2007         135000      50000   \n",
       "2                    Hyundai Verna 1.6 SX  2012         600000     100000   \n",
       "3                  Datsun RediGO T Option  2017         250000      46000   \n",
       "4                   Honda Amaze VX i-DTEC  2014         450000     141000   \n",
       "...                                   ...   ...            ...        ...   \n",
       "4335  Hyundai i20 Magna 1.4 CRDi (Diesel)  2014         409999      80000   \n",
       "4336           Hyundai i20 Magna 1.4 CRDi  2014         409999      80000   \n",
       "4337                  Maruti 800 AC BSIII  2009         110000      83000   \n",
       "4338     Hyundai Creta 1.6 CRDi SX Option  2016         865000      90000   \n",
       "4339                     Renault KWID RXT  2016         225000      40000   \n",
       "\n",
       "        fuel seller_type transmission         owner  \n",
       "0     Petrol  Individual       Manual   First Owner  \n",
       "1     Petrol  Individual       Manual   First Owner  \n",
       "2     Diesel  Individual       Manual   First Owner  \n",
       "3     Petrol  Individual       Manual   First Owner  \n",
       "4     Diesel  Individual       Manual  Second Owner  \n",
       "...      ...         ...          ...           ...  \n",
       "4335  Diesel  Individual       Manual  Second Owner  \n",
       "4336  Diesel  Individual       Manual  Second Owner  \n",
       "4337  Petrol  Individual       Manual  Second Owner  \n",
       "4338  Diesel  Individual       Manual   First Owner  \n",
       "4339  Petrol  Individual       Manual   First Owner  \n",
       "\n",
       "[4340 rows x 8 columns]"
      ]
     },
     "execution_count": 2,
     "metadata": {},
     "output_type": "execute_result"
    }
   ],
   "source": [
    "# Let's model car sales!\n",
    "df = pd.read_csv('../data/car_data.csv')\n",
    "df"
   ]
  },
  {
   "cell_type": "code",
   "execution_count": 3,
   "id": "24a36000",
   "metadata": {
    "ExecuteTime": {
     "end_time": "2021-08-12T20:51:17.257956Z",
     "start_time": "2021-08-12T20:51:17.249343Z"
    }
   },
   "outputs": [
    {
     "name": "stdout",
     "output_type": "stream",
     "text": [
      "<class 'pandas.core.frame.DataFrame'>\n",
      "RangeIndex: 4340 entries, 0 to 4339\n",
      "Data columns (total 8 columns):\n",
      " #   Column         Non-Null Count  Dtype \n",
      "---  ------         --------------  ----- \n",
      " 0   name           4340 non-null   object\n",
      " 1   year           4340 non-null   int64 \n",
      " 2   selling_price  4340 non-null   int64 \n",
      " 3   km_driven      4340 non-null   int64 \n",
      " 4   fuel           4340 non-null   object\n",
      " 5   seller_type    4340 non-null   object\n",
      " 6   transmission   4340 non-null   object\n",
      " 7   owner          4340 non-null   object\n",
      "dtypes: int64(3), object(5)\n",
      "memory usage: 271.4+ KB\n"
     ]
    }
   ],
   "source": [
    "df.info()"
   ]
  },
  {
   "cell_type": "code",
   "execution_count": 4,
   "id": "5a5b1dc8",
   "metadata": {
    "ExecuteTime": {
     "end_time": "2021-08-12T20:51:17.275277Z",
     "start_time": "2021-08-12T20:51:17.259417Z"
    }
   },
   "outputs": [
    {
     "data": {
      "text/html": [
       "<div>\n",
       "<style scoped>\n",
       "    .dataframe tbody tr th:only-of-type {\n",
       "        vertical-align: middle;\n",
       "    }\n",
       "\n",
       "    .dataframe tbody tr th {\n",
       "        vertical-align: top;\n",
       "    }\n",
       "\n",
       "    .dataframe thead th {\n",
       "        text-align: right;\n",
       "    }\n",
       "</style>\n",
       "<table border=\"1\" class=\"dataframe\">\n",
       "  <thead>\n",
       "    <tr style=\"text-align: right;\">\n",
       "      <th></th>\n",
       "      <th>year</th>\n",
       "      <th>selling_price</th>\n",
       "      <th>km_driven</th>\n",
       "    </tr>\n",
       "  </thead>\n",
       "  <tbody>\n",
       "    <tr>\n",
       "      <th>count</th>\n",
       "      <td>4340.000000</td>\n",
       "      <td>4.340000e+03</td>\n",
       "      <td>4340.000000</td>\n",
       "    </tr>\n",
       "    <tr>\n",
       "      <th>mean</th>\n",
       "      <td>2013.090783</td>\n",
       "      <td>5.041273e+05</td>\n",
       "      <td>66215.777419</td>\n",
       "    </tr>\n",
       "    <tr>\n",
       "      <th>std</th>\n",
       "      <td>4.215344</td>\n",
       "      <td>5.785487e+05</td>\n",
       "      <td>46644.102194</td>\n",
       "    </tr>\n",
       "    <tr>\n",
       "      <th>min</th>\n",
       "      <td>1992.000000</td>\n",
       "      <td>2.000000e+04</td>\n",
       "      <td>1.000000</td>\n",
       "    </tr>\n",
       "    <tr>\n",
       "      <th>25%</th>\n",
       "      <td>2011.000000</td>\n",
       "      <td>2.087498e+05</td>\n",
       "      <td>35000.000000</td>\n",
       "    </tr>\n",
       "    <tr>\n",
       "      <th>50%</th>\n",
       "      <td>2014.000000</td>\n",
       "      <td>3.500000e+05</td>\n",
       "      <td>60000.000000</td>\n",
       "    </tr>\n",
       "    <tr>\n",
       "      <th>75%</th>\n",
       "      <td>2016.000000</td>\n",
       "      <td>6.000000e+05</td>\n",
       "      <td>90000.000000</td>\n",
       "    </tr>\n",
       "    <tr>\n",
       "      <th>max</th>\n",
       "      <td>2020.000000</td>\n",
       "      <td>8.900000e+06</td>\n",
       "      <td>806599.000000</td>\n",
       "    </tr>\n",
       "  </tbody>\n",
       "</table>\n",
       "</div>"
      ],
      "text/plain": [
       "              year  selling_price      km_driven\n",
       "count  4340.000000   4.340000e+03    4340.000000\n",
       "mean   2013.090783   5.041273e+05   66215.777419\n",
       "std       4.215344   5.785487e+05   46644.102194\n",
       "min    1992.000000   2.000000e+04       1.000000\n",
       "25%    2011.000000   2.087498e+05   35000.000000\n",
       "50%    2014.000000   3.500000e+05   60000.000000\n",
       "75%    2016.000000   6.000000e+05   90000.000000\n",
       "max    2020.000000   8.900000e+06  806599.000000"
      ]
     },
     "execution_count": 4,
     "metadata": {},
     "output_type": "execute_result"
    }
   ],
   "source": [
    "df.describe()"
   ]
  },
  {
   "cell_type": "markdown",
   "id": "74987fed",
   "metadata": {},
   "source": [
    "# Explore"
   ]
  },
  {
   "cell_type": "code",
   "execution_count": 5,
   "id": "b8acb822",
   "metadata": {
    "ExecuteTime": {
     "end_time": "2021-08-12T20:51:17.285717Z",
     "start_time": "2021-08-12T20:51:17.279276Z"
    }
   },
   "outputs": [
    {
     "data": {
      "text/plain": [
       "(Index(['year', 'selling_price', 'km_driven'], dtype='object'),\n",
       " Index(['name', 'fuel', 'seller_type', 'transmission', 'owner'], dtype='object'))"
      ]
     },
     "execution_count": 5,
     "metadata": {},
     "output_type": "execute_result"
    }
   ],
   "source": [
    "num_cols = df.select_dtypes('number').columns\n",
    "cat_cols = df.select_dtypes('object').columns\n",
    "\n",
    "num_cols, cat_cols"
   ]
  },
  {
   "cell_type": "code",
   "execution_count": 6,
   "id": "85ad78b6",
   "metadata": {
    "ExecuteTime": {
     "end_time": "2021-08-12T20:51:17.781048Z",
     "start_time": "2021-08-12T20:51:17.289905Z"
    }
   },
   "outputs": [
    {
     "data": {
      "image/png": "[encoded data removed]",
      "text/plain": [
       "<Figure size 432x288 with 1 Axes>"
      ]
     },
     "metadata": {
      "needs_background": "light"
     },
     "output_type": "display_data"
    },
    {
     "data": {
      "image/png": "[encoded data removed]",
      "text/plain": [
       "<Figure size 432x288 with 1 Axes>"
      ]
     },
     "metadata": {
      "needs_background": "light"
     },
     "output_type": "display_data"
    },
    {
     "data": {
      "image/png": "[encoded data removed]",
      "text/plain": [
       "<Figure size 432x288 with 1 Axes>"
      ]
     },
     "metadata": {
      "needs_background": "light"
     },
     "output_type": "display_data"
    }
   ],
   "source": [
    "for c in num_cols:\n",
    "    sns.scatterplot(x=c, y='selling_price', data=df)\n",
    "    plt.show()"
   ]
  },
  {
   "cell_type": "code",
   "execution_count": 7,
   "id": "50d7cdb1",
   "metadata": {
    "ExecuteTime": {
     "end_time": "2021-08-12T20:51:18.037573Z",
     "start_time": "2021-08-12T20:51:17.782837Z"
    }
   },
   "outputs": [
    {
     "data": {
      "image/png": "[encoded data removed]",
      "text/plain": [
       "<Figure size 864x576 with 2 Axes>"
      ]
     },
     "metadata": {
      "needs_background": "light"
     },
     "output_type": "display_data"
    }
   ],
   "source": [
    "fig, (ax1, ax2) = plt.subplots(ncols=2, figsize=(12,8))\n",
    "ax1.boxplot(df['selling_price'])\n",
    "ax2.hist(np.log(df['selling_price']))\n",
    "ax2.set(title='Log transformed')\n",
    "fig.tight_layout()"
   ]
  },
  {
   "cell_type": "code",
   "execution_count": 8,
   "id": "cef50191",
   "metadata": {
    "ExecuteTime": {
     "end_time": "2021-08-12T20:51:18.048992Z",
     "start_time": "2021-08-12T20:51:18.040016Z"
    }
   },
   "outputs": [
    {
     "name": "stdout",
     "output_type": "stream",
     "text": [
      "Diesel      0.496083\n",
      "Petrol      0.489171\n",
      "CNG         0.009217\n",
      "LPG         0.005300\n",
      "Electric    0.000230\n",
      "Name: fuel, dtype: float64\n",
      "########\n",
      "\n",
      "Individual          0.747465\n",
      "Dealer              0.229032\n",
      "Trustmark Dealer    0.023502\n",
      "Name: seller_type, dtype: float64\n",
      "########\n",
      "\n",
      "Manual       0.896774\n",
      "Automatic    0.103226\n",
      "Name: transmission, dtype: float64\n",
      "########\n",
      "\n",
      "First Owner             0.652535\n",
      "Second Owner            0.254839\n",
      "Third Owner             0.070046\n",
      "Fourth & Above Owner    0.018664\n",
      "Test Drive Car          0.003917\n",
      "Name: owner, dtype: float64\n",
      "########\n",
      "\n"
     ]
    }
   ],
   "source": [
    "for c in cat_cols[1:]:\n",
    "    print(df[c].value_counts(normalize=True).head(10))\n",
    "    print('#' * 8)\n",
    "    print()"
   ]
  },
  {
   "cell_type": "code",
   "execution_count": 9,
   "id": "5d43a3d5",
   "metadata": {
    "ExecuteTime": {
     "end_time": "2021-08-12T20:51:18.741069Z",
     "start_time": "2021-08-12T20:51:18.052355Z"
    }
   },
   "outputs": [
    {
     "data": {
      "image/png": "[encoded data removed]",
      "text/plain": [
       "<Figure size 432x288 with 1 Axes>"
      ]
     },
     "metadata": {
      "needs_background": "light"
     },
     "output_type": "display_data"
    },
    {
     "data": {
      "image/png": "[encoded data removed]",
      "text/plain": [
       "<Figure size 432x288 with 1 Axes>"
      ]
     },
     "metadata": {
      "needs_background": "light"
     },
     "output_type": "display_data"
    },
    {
     "data": {
      "image/png": "[encoded data removed]",
      "text/plain": [
       "<Figure size 432x288 with 1 Axes>"
      ]
     },
     "metadata": {
      "needs_background": "light"
     },
     "output_type": "display_data"
    },
    {
     "data": {
      "image/png": "[encoded data removed]",
      "text/plain": [
       "<Figure size 432x288 with 1 Axes>"
      ]
     },
     "metadata": {
      "needs_background": "light"
     },
     "output_type": "display_data"
    }
   ],
   "source": [
    "for c in cat_cols[1:]:\n",
    "    sns.boxplot(x=c, y='selling_price', data=df, whis=10)\n",
    "    plt.show()"
   ]
  },
  {
   "cell_type": "markdown",
   "id": "3415f6bc",
   "metadata": {},
   "source": [
    "## TODO\n",
    "- Maybe log transform target.\n",
    "- Include polynomial expansion of year?\n",
    "\n",
    "\n",
    "- Encode `fuel` with `'other'`"
   ]
  },
  {
   "cell_type": "markdown",
   "id": "4d52e387",
   "metadata": {},
   "source": [
    "# Scrub"
   ]
  },
  {
   "cell_type": "code",
   "execution_count": 10,
   "id": "cc6b036a",
   "metadata": {
    "ExecuteTime": {
     "end_time": "2021-08-12T20:51:18.773976Z",
     "start_time": "2021-08-12T20:51:18.743298Z"
    }
   },
   "outputs": [
    {
     "data": {
      "text/plain": [
       "Maruti_Swift_Dzire_VDI              69\n",
       "Maruti_Alto_800_LXI                 59\n",
       "Maruti_Alto_LXi                     47\n",
       "Maruti_Alto_LX                      35\n",
       "Hyundai_EON_Era_Plus                35\n",
       "                                    ..\n",
       "Mahindra_Scorpio_VLX_2WD_AT_BSIV     1\n",
       "Tata_Indica_V2_DLS_BSII              1\n",
       "MG_Hector_Sharp_Diesel_MT_BSIV       1\n",
       "Mahindra_Supro_VX_8_Str              1\n",
       "Ford_Ikon_1.4_ZXi                    1\n",
       "Name: name, Length: 1491, dtype: int64"
      ]
     },
     "metadata": {},
     "output_type": "display_data"
    },
    {
     "data": {
      "text/plain": [
       "Diesel      2153\n",
       "Petrol      2123\n",
       "CNG           40\n",
       "LPG           23\n",
       "Electric       1\n",
       "Name: fuel, dtype: int64"
      ]
     },
     "metadata": {},
     "output_type": "display_data"
    },
    {
     "data": {
      "text/plain": [
       "Individual          3244\n",
       "Dealer               994\n",
       "Trustmark_Dealer     102\n",
       "Name: seller_type, dtype: int64"
      ]
     },
     "metadata": {},
     "output_type": "display_data"
    },
    {
     "data": {
      "text/plain": [
       "Manual       3892\n",
       "Automatic     448\n",
       "Name: transmission, dtype: int64"
      ]
     },
     "metadata": {},
     "output_type": "display_data"
    },
    {
     "data": {
      "text/plain": [
       "First_Owner               2832\n",
       "Second_Owner              1106\n",
       "Third_Owner                304\n",
       "Fourth_and_Above_Owner      81\n",
       "Test_Drive_Car              17\n",
       "Name: owner, dtype: int64"
      ]
     },
     "metadata": {},
     "output_type": "display_data"
    }
   ],
   "source": [
    "# For statsmodels formula.\n",
    "for c in cat_cols:\n",
    "    df[c] = df[c].apply(lambda x: x.replace('&', 'and').replace(' ', '_'))\n",
    "    display(df[c].value_counts())"
   ]
  },
  {
   "cell_type": "code",
   "execution_count": 11,
   "id": "8f119cf1",
   "metadata": {
    "ExecuteTime": {
     "end_time": "2021-08-12T20:51:18.786928Z",
     "start_time": "2021-08-12T20:51:18.775837Z"
    }
   },
   "outputs": [
    {
     "data": {
      "text/plain": [
       "{'Ford', 'Honda', 'Hyundai', 'Mahindra', 'Maruti', 'Tata'}"
      ]
     },
     "execution_count": 11,
     "metadata": {},
     "output_type": "execute_result"
    }
   ],
   "source": [
    "# Feature engineering - extract manufacturer from `name` column.\n",
    "maker_counts = (\n",
    "    df['name']\n",
    "    .apply(lambda x: x.split('_')[0])\n",
    "    .value_counts(normalize=True)\n",
    ")\n",
    "TOP_MAKERS = set(maker_counts[maker_counts > 0.05].index)\n",
    "TOP_MAKERS"
   ]
  },
  {
   "cell_type": "code",
   "execution_count": 12,
   "id": "cdb7e7ce",
   "metadata": {
    "ExecuteTime": {
     "end_time": "2021-08-12T20:51:18.793687Z",
     "start_time": "2021-08-12T20:51:18.789723Z"
    }
   },
   "outputs": [],
   "source": [
    "def encode_maker(s):\n",
    "    \"\"\"Docstring\"\"\"\n",
    "    \n",
    "    maker = s.split()[0]\n",
    "    if maker in TOP_MAKERS:\n",
    "        return maker\n",
    "    return 'Other'"
   ]
  },
  {
   "cell_type": "code",
   "execution_count": 13,
   "id": "fa10f256",
   "metadata": {
    "ExecuteTime": {
     "end_time": "2021-08-12T20:51:18.825549Z",
     "start_time": "2021-08-12T20:51:18.795969Z"
    }
   },
   "outputs": [
    {
     "data": {
      "text/html": [
       "<div>\n",
       "<style scoped>\n",
       "    .dataframe tbody tr th:only-of-type {\n",
       "        vertical-align: middle;\n",
       "    }\n",
       "\n",
       "    .dataframe tbody tr th {\n",
       "        vertical-align: top;\n",
       "    }\n",
       "\n",
       "    .dataframe thead th {\n",
       "        text-align: right;\n",
       "    }\n",
       "</style>\n",
       "<table border=\"1\" class=\"dataframe\">\n",
       "  <thead>\n",
       "    <tr style=\"text-align: right;\">\n",
       "      <th></th>\n",
       "      <th>name</th>\n",
       "      <th>year</th>\n",
       "      <th>selling_price</th>\n",
       "      <th>km_driven</th>\n",
       "      <th>fuel</th>\n",
       "      <th>seller_type</th>\n",
       "      <th>transmission</th>\n",
       "      <th>owner</th>\n",
       "      <th>maker</th>\n",
       "    </tr>\n",
       "  </thead>\n",
       "  <tbody>\n",
       "    <tr>\n",
       "      <th>0</th>\n",
       "      <td>Maruti_800_AC</td>\n",
       "      <td>2007</td>\n",
       "      <td>60000</td>\n",
       "      <td>70000</td>\n",
       "      <td>Petrol</td>\n",
       "      <td>Individual</td>\n",
       "      <td>Manual</td>\n",
       "      <td>First_Owner</td>\n",
       "      <td>Other</td>\n",
       "    </tr>\n",
       "    <tr>\n",
       "      <th>1</th>\n",
       "      <td>Maruti_Wagon_R_LXI_Minor</td>\n",
       "      <td>2007</td>\n",
       "      <td>135000</td>\n",
       "      <td>50000</td>\n",
       "      <td>Petrol</td>\n",
       "      <td>Individual</td>\n",
       "      <td>Manual</td>\n",
       "      <td>First_Owner</td>\n",
       "      <td>Other</td>\n",
       "    </tr>\n",
       "    <tr>\n",
       "      <th>2</th>\n",
       "      <td>Hyundai_Verna_1.6_SX</td>\n",
       "      <td>2012</td>\n",
       "      <td>600000</td>\n",
       "      <td>100000</td>\n",
       "      <td>Diesel</td>\n",
       "      <td>Individual</td>\n",
       "      <td>Manual</td>\n",
       "      <td>First_Owner</td>\n",
       "      <td>Other</td>\n",
       "    </tr>\n",
       "    <tr>\n",
       "      <th>3</th>\n",
       "      <td>Datsun_RediGO_T_Option</td>\n",
       "      <td>2017</td>\n",
       "      <td>250000</td>\n",
       "      <td>46000</td>\n",
       "      <td>Petrol</td>\n",
       "      <td>Individual</td>\n",
       "      <td>Manual</td>\n",
       "      <td>First_Owner</td>\n",
       "      <td>Other</td>\n",
       "    </tr>\n",
       "    <tr>\n",
       "      <th>4</th>\n",
       "      <td>Honda_Amaze_VX_i-DTEC</td>\n",
       "      <td>2014</td>\n",
       "      <td>450000</td>\n",
       "      <td>141000</td>\n",
       "      <td>Diesel</td>\n",
       "      <td>Individual</td>\n",
       "      <td>Manual</td>\n",
       "      <td>Second_Owner</td>\n",
       "      <td>Other</td>\n",
       "    </tr>\n",
       "    <tr>\n",
       "      <th>...</th>\n",
       "      <td>...</td>\n",
       "      <td>...</td>\n",
       "      <td>...</td>\n",
       "      <td>...</td>\n",
       "      <td>...</td>\n",
       "      <td>...</td>\n",
       "      <td>...</td>\n",
       "      <td>...</td>\n",
       "      <td>...</td>\n",
       "    </tr>\n",
       "    <tr>\n",
       "      <th>4335</th>\n",
       "      <td>Hyundai_i20_Magna_1.4_CRDi_(Diesel)</td>\n",
       "      <td>2014</td>\n",
       "      <td>409999</td>\n",
       "      <td>80000</td>\n",
       "      <td>Diesel</td>\n",
       "      <td>Individual</td>\n",
       "      <td>Manual</td>\n",
       "      <td>Second_Owner</td>\n",
       "      <td>Other</td>\n",
       "    </tr>\n",
       "    <tr>\n",
       "      <th>4336</th>\n",
       "      <td>Hyundai_i20_Magna_1.4_CRDi</td>\n",
       "      <td>2014</td>\n",
       "      <td>409999</td>\n",
       "      <td>80000</td>\n",
       "      <td>Diesel</td>\n",
       "      <td>Individual</td>\n",
       "      <td>Manual</td>\n",
       "      <td>Second_Owner</td>\n",
       "      <td>Other</td>\n",
       "    </tr>\n",
       "    <tr>\n",
       "      <th>4337</th>\n",
       "      <td>Maruti_800_AC_BSIII</td>\n",
       "      <td>2009</td>\n",
       "      <td>110000</td>\n",
       "      <td>83000</td>\n",
       "      <td>Petrol</td>\n",
       "      <td>Individual</td>\n",
       "      <td>Manual</td>\n",
       "      <td>Second_Owner</td>\n",
       "      <td>Other</td>\n",
       "    </tr>\n",
       "    <tr>\n",
       "      <th>4338</th>\n",
       "      <td>Hyundai_Creta_1.6_CRDi_SX_Option</td>\n",
       "      <td>2016</td>\n",
       "      <td>865000</td>\n",
       "      <td>90000</td>\n",
       "      <td>Diesel</td>\n",
       "      <td>Individual</td>\n",
       "      <td>Manual</td>\n",
       "      <td>First_Owner</td>\n",
       "      <td>Other</td>\n",
       "    </tr>\n",
       "    <tr>\n",
       "      <th>4339</th>\n",
       "      <td>Renault_KWID_RXT</td>\n",
       "      <td>2016</td>\n",
       "      <td>225000</td>\n",
       "      <td>40000</td>\n",
       "      <td>Petrol</td>\n",
       "      <td>Individual</td>\n",
       "      <td>Manual</td>\n",
       "      <td>First_Owner</td>\n",
       "      <td>Other</td>\n",
       "    </tr>\n",
       "  </tbody>\n",
       "</table>\n",
       "<p>4340 rows × 9 columns</p>\n",
       "</div>"
      ],
      "text/plain": [
       "                                     name  year  selling_price  km_driven  \\\n",
       "0                           Maruti_800_AC  2007          60000      70000   \n",
       "1                Maruti_Wagon_R_LXI_Minor  2007         135000      50000   \n",
       "2                    Hyundai_Verna_1.6_SX  2012         600000     100000   \n",
       "3                  Datsun_RediGO_T_Option  2017         250000      46000   \n",
       "4                   Honda_Amaze_VX_i-DTEC  2014         450000     141000   \n",
       "...                                   ...   ...            ...        ...   \n",
       "4335  Hyundai_i20_Magna_1.4_CRDi_(Diesel)  2014         409999      80000   \n",
       "4336           Hyundai_i20_Magna_1.4_CRDi  2014         409999      80000   \n",
       "4337                  Maruti_800_AC_BSIII  2009         110000      83000   \n",
       "4338     Hyundai_Creta_1.6_CRDi_SX_Option  2016         865000      90000   \n",
       "4339                     Renault_KWID_RXT  2016         225000      40000   \n",
       "\n",
       "        fuel seller_type transmission         owner  maker  \n",
       "0     Petrol  Individual       Manual   First_Owner  Other  \n",
       "1     Petrol  Individual       Manual   First_Owner  Other  \n",
       "2     Diesel  Individual       Manual   First_Owner  Other  \n",
       "3     Petrol  Individual       Manual   First_Owner  Other  \n",
       "4     Diesel  Individual       Manual  Second_Owner  Other  \n",
       "...      ...         ...          ...           ...    ...  \n",
       "4335  Diesel  Individual       Manual  Second_Owner  Other  \n",
       "4336  Diesel  Individual       Manual  Second_Owner  Other  \n",
       "4337  Petrol  Individual       Manual  Second_Owner  Other  \n",
       "4338  Diesel  Individual       Manual   First_Owner  Other  \n",
       "4339  Petrol  Individual       Manual   First_Owner  Other  \n",
       "\n",
       "[4340 rows x 9 columns]"
      ]
     },
     "execution_count": 13,
     "metadata": {},
     "output_type": "execute_result"
    }
   ],
   "source": [
    "df['maker'] = df['name'].apply(encode_maker)\n",
    "df"
   ]
  },
  {
   "cell_type": "code",
   "execution_count": 14,
   "id": "66f215f0",
   "metadata": {
    "ExecuteTime": {
     "end_time": "2021-08-12T20:51:18.836757Z",
     "start_time": "2021-08-12T20:51:18.829701Z"
    }
   },
   "outputs": [],
   "source": [
    "if 'name' in df.columns:\n",
    "    df.drop('name', axis=1, inplace=True)"
   ]
  },
  {
   "cell_type": "markdown",
   "id": "272857c5",
   "metadata": {},
   "source": [
    "## Transform Target"
   ]
  },
  {
   "cell_type": "code",
   "execution_count": 15,
   "id": "489e645d",
   "metadata": {
    "ExecuteTime": {
     "end_time": "2021-08-12T20:51:19.088503Z",
     "start_time": "2021-08-12T20:51:18.840271Z"
    }
   },
   "outputs": [
    {
     "data": {
      "text/plain": [
       "<AxesSubplot:>"
      ]
     },
     "execution_count": 15,
     "metadata": {},
     "output_type": "execute_result"
    },
    {
     "data": {
      "image/png": "[encoded data removed]",
      "text/plain": [
       "<Figure size 432x288 with 1 Axes>"
      ]
     },
     "metadata": {
      "needs_background": "light"
     },
     "output_type": "display_data"
    }
   ],
   "source": [
    "df['log_price'] = np.log(df['selling_price'])\n",
    "df['log_price'].hist()"
   ]
  },
  {
   "cell_type": "code",
   "execution_count": 16,
   "id": "416000b2",
   "metadata": {
    "ExecuteTime": {
     "end_time": "2021-08-12T20:51:19.553371Z",
     "start_time": "2021-08-12T20:51:19.090393Z"
    }
   },
   "outputs": [
    {
     "data": {
      "image/png": "[encoded data removed]",
      "text/plain": [
       "<Figure size 432x288 with 1 Axes>"
      ]
     },
     "metadata": {
      "needs_background": "light"
     },
     "output_type": "display_data"
    },
    {
     "data": {
      "image/png": "[encoded data removed]",
      "text/plain": [
       "<Figure size 432x288 with 1 Axes>"
      ]
     },
     "metadata": {
      "needs_background": "light"
     },
     "output_type": "display_data"
    },
    {
     "data": {
      "image/png": "[encoded data removed]",
      "text/plain": [
       "<Figure size 432x288 with 1 Axes>"
      ]
     },
     "metadata": {
      "needs_background": "light"
     },
     "output_type": "display_data"
    }
   ],
   "source": [
    "for c in num_cols:\n",
    "    sns.scatterplot(x=c, y='log_price', data=df)\n",
    "    plt.show()"
   ]
  },
  {
   "cell_type": "markdown",
   "id": "2c80fd06",
   "metadata": {},
   "source": [
    "## $\\text{year}^2$"
   ]
  },
  {
   "cell_type": "code",
   "execution_count": 17,
   "id": "328287bd",
   "metadata": {
    "ExecuteTime": {
     "end_time": "2021-08-12T20:51:19.571217Z",
     "start_time": "2021-08-12T20:51:19.555074Z"
    }
   },
   "outputs": [
    {
     "data": {
      "text/html": [
       "<div>\n",
       "<style scoped>\n",
       "    .dataframe tbody tr th:only-of-type {\n",
       "        vertical-align: middle;\n",
       "    }\n",
       "\n",
       "    .dataframe tbody tr th {\n",
       "        vertical-align: top;\n",
       "    }\n",
       "\n",
       "    .dataframe thead th {\n",
       "        text-align: right;\n",
       "    }\n",
       "</style>\n",
       "<table border=\"1\" class=\"dataframe\">\n",
       "  <thead>\n",
       "    <tr style=\"text-align: right;\">\n",
       "      <th></th>\n",
       "      <th>year</th>\n",
       "      <th>selling_price</th>\n",
       "      <th>km_driven</th>\n",
       "      <th>fuel</th>\n",
       "      <th>seller_type</th>\n",
       "      <th>transmission</th>\n",
       "      <th>owner</th>\n",
       "      <th>maker</th>\n",
       "      <th>log_price</th>\n",
       "      <th>year_squared</th>\n",
       "    </tr>\n",
       "  </thead>\n",
       "  <tbody>\n",
       "    <tr>\n",
       "      <th>0</th>\n",
       "      <td>2007</td>\n",
       "      <td>60000</td>\n",
       "      <td>70000</td>\n",
       "      <td>Petrol</td>\n",
       "      <td>Individual</td>\n",
       "      <td>Manual</td>\n",
       "      <td>First_Owner</td>\n",
       "      <td>Other</td>\n",
       "      <td>11.002100</td>\n",
       "      <td>4028049</td>\n",
       "    </tr>\n",
       "    <tr>\n",
       "      <th>1</th>\n",
       "      <td>2007</td>\n",
       "      <td>135000</td>\n",
       "      <td>50000</td>\n",
       "      <td>Petrol</td>\n",
       "      <td>Individual</td>\n",
       "      <td>Manual</td>\n",
       "      <td>First_Owner</td>\n",
       "      <td>Other</td>\n",
       "      <td>11.813030</td>\n",
       "      <td>4028049</td>\n",
       "    </tr>\n",
       "    <tr>\n",
       "      <th>2</th>\n",
       "      <td>2012</td>\n",
       "      <td>600000</td>\n",
       "      <td>100000</td>\n",
       "      <td>Diesel</td>\n",
       "      <td>Individual</td>\n",
       "      <td>Manual</td>\n",
       "      <td>First_Owner</td>\n",
       "      <td>Other</td>\n",
       "      <td>13.304685</td>\n",
       "      <td>4048144</td>\n",
       "    </tr>\n",
       "    <tr>\n",
       "      <th>3</th>\n",
       "      <td>2017</td>\n",
       "      <td>250000</td>\n",
       "      <td>46000</td>\n",
       "      <td>Petrol</td>\n",
       "      <td>Individual</td>\n",
       "      <td>Manual</td>\n",
       "      <td>First_Owner</td>\n",
       "      <td>Other</td>\n",
       "      <td>12.429216</td>\n",
       "      <td>4068289</td>\n",
       "    </tr>\n",
       "    <tr>\n",
       "      <th>4</th>\n",
       "      <td>2014</td>\n",
       "      <td>450000</td>\n",
       "      <td>141000</td>\n",
       "      <td>Diesel</td>\n",
       "      <td>Individual</td>\n",
       "      <td>Manual</td>\n",
       "      <td>Second_Owner</td>\n",
       "      <td>Other</td>\n",
       "      <td>13.017003</td>\n",
       "      <td>4056196</td>\n",
       "    </tr>\n",
       "    <tr>\n",
       "      <th>...</th>\n",
       "      <td>...</td>\n",
       "      <td>...</td>\n",
       "      <td>...</td>\n",
       "      <td>...</td>\n",
       "      <td>...</td>\n",
       "      <td>...</td>\n",
       "      <td>...</td>\n",
       "      <td>...</td>\n",
       "      <td>...</td>\n",
       "      <td>...</td>\n",
       "    </tr>\n",
       "    <tr>\n",
       "      <th>4335</th>\n",
       "      <td>2014</td>\n",
       "      <td>409999</td>\n",
       "      <td>80000</td>\n",
       "      <td>Diesel</td>\n",
       "      <td>Individual</td>\n",
       "      <td>Manual</td>\n",
       "      <td>Second_Owner</td>\n",
       "      <td>Other</td>\n",
       "      <td>12.923910</td>\n",
       "      <td>4056196</td>\n",
       "    </tr>\n",
       "    <tr>\n",
       "      <th>4336</th>\n",
       "      <td>2014</td>\n",
       "      <td>409999</td>\n",
       "      <td>80000</td>\n",
       "      <td>Diesel</td>\n",
       "      <td>Individual</td>\n",
       "      <td>Manual</td>\n",
       "      <td>Second_Owner</td>\n",
       "      <td>Other</td>\n",
       "      <td>12.923910</td>\n",
       "      <td>4056196</td>\n",
       "    </tr>\n",
       "    <tr>\n",
       "      <th>4337</th>\n",
       "      <td>2009</td>\n",
       "      <td>110000</td>\n",
       "      <td>83000</td>\n",
       "      <td>Petrol</td>\n",
       "      <td>Individual</td>\n",
       "      <td>Manual</td>\n",
       "      <td>Second_Owner</td>\n",
       "      <td>Other</td>\n",
       "      <td>11.608236</td>\n",
       "      <td>4036081</td>\n",
       "    </tr>\n",
       "    <tr>\n",
       "      <th>4338</th>\n",
       "      <td>2016</td>\n",
       "      <td>865000</td>\n",
       "      <td>90000</td>\n",
       "      <td>Diesel</td>\n",
       "      <td>Individual</td>\n",
       "      <td>Manual</td>\n",
       "      <td>First_Owner</td>\n",
       "      <td>Other</td>\n",
       "      <td>13.670485</td>\n",
       "      <td>4064256</td>\n",
       "    </tr>\n",
       "    <tr>\n",
       "      <th>4339</th>\n",
       "      <td>2016</td>\n",
       "      <td>225000</td>\n",
       "      <td>40000</td>\n",
       "      <td>Petrol</td>\n",
       "      <td>Individual</td>\n",
       "      <td>Manual</td>\n",
       "      <td>First_Owner</td>\n",
       "      <td>Other</td>\n",
       "      <td>12.323856</td>\n",
       "      <td>4064256</td>\n",
       "    </tr>\n",
       "  </tbody>\n",
       "</table>\n",
       "<p>4340 rows × 10 columns</p>\n",
       "</div>"
      ],
      "text/plain": [
       "      year  selling_price  km_driven    fuel seller_type transmission  \\\n",
       "0     2007          60000      70000  Petrol  Individual       Manual   \n",
       "1     2007         135000      50000  Petrol  Individual       Manual   \n",
       "2     2012         600000     100000  Diesel  Individual       Manual   \n",
       "3     2017         250000      46000  Petrol  Individual       Manual   \n",
       "4     2014         450000     141000  Diesel  Individual       Manual   \n",
       "...    ...            ...        ...     ...         ...          ...   \n",
       "4335  2014         409999      80000  Diesel  Individual       Manual   \n",
       "4336  2014         409999      80000  Diesel  Individual       Manual   \n",
       "4337  2009         110000      83000  Petrol  Individual       Manual   \n",
       "4338  2016         865000      90000  Diesel  Individual       Manual   \n",
       "4339  2016         225000      40000  Petrol  Individual       Manual   \n",
       "\n",
       "             owner  maker  log_price  year_squared  \n",
       "0      First_Owner  Other  11.002100       4028049  \n",
       "1      First_Owner  Other  11.813030       4028049  \n",
       "2      First_Owner  Other  13.304685       4048144  \n",
       "3      First_Owner  Other  12.429216       4068289  \n",
       "4     Second_Owner  Other  13.017003       4056196  \n",
       "...            ...    ...        ...           ...  \n",
       "4335  Second_Owner  Other  12.923910       4056196  \n",
       "4336  Second_Owner  Other  12.923910       4056196  \n",
       "4337  Second_Owner  Other  11.608236       4036081  \n",
       "4338   First_Owner  Other  13.670485       4064256  \n",
       "4339   First_Owner  Other  12.323856       4064256  \n",
       "\n",
       "[4340 rows x 10 columns]"
      ]
     },
     "execution_count": 17,
     "metadata": {},
     "output_type": "execute_result"
    }
   ],
   "source": [
    "df['year_squared'] = df['year'] ** 2\n",
    "df"
   ]
  },
  {
   "cell_type": "markdown",
   "id": "bfc76525",
   "metadata": {},
   "source": [
    "# Train-Test-Split"
   ]
  },
  {
   "cell_type": "code",
   "execution_count": 18,
   "id": "47b57d19",
   "metadata": {
    "ExecuteTime": {
     "end_time": "2021-08-12T20:51:19.583844Z",
     "start_time": "2021-08-12T20:51:19.573701Z"
    }
   },
   "outputs": [
    {
     "data": {
      "text/plain": [
       "((3255, 8), (1085, 8), (3255,), (1085,))"
      ]
     },
     "execution_count": 18,
     "metadata": {},
     "output_type": "execute_result"
    }
   ],
   "source": [
    "X = df.drop(columns=['selling_price', 'log_price'])\n",
    "y = df['log_price']\n",
    "\n",
    "X_train, X_test, y_train, y_test = train_test_split(X, y, random_state=51)\n",
    "X_train.shape, X_test.shape, y_train.shape, y_test.shape"
   ]
  },
  {
   "cell_type": "code",
   "execution_count": 19,
   "id": "58bf32e4",
   "metadata": {
    "ExecuteTime": {
     "end_time": "2021-08-12T20:51:19.592165Z",
     "start_time": "2021-08-12T20:51:19.586000Z"
    }
   },
   "outputs": [],
   "source": [
    "num_cols = X_train.select_dtypes('number').columns\n",
    "cat_cols = X_train.select_dtypes('object').columns"
   ]
  },
  {
   "cell_type": "markdown",
   "id": "8b21b056",
   "metadata": {},
   "source": [
    "## OHE"
   ]
  },
  {
   "cell_type": "code",
   "execution_count": 20,
   "id": "aebeaceb",
   "metadata": {
    "ExecuteTime": {
     "end_time": "2021-08-12T20:51:19.630856Z",
     "start_time": "2021-08-12T20:51:19.594255Z"
    }
   },
   "outputs": [
    {
     "data": {
      "text/html": [
       "<div>\n",
       "<style scoped>\n",
       "    .dataframe tbody tr th:only-of-type {\n",
       "        vertical-align: middle;\n",
       "    }\n",
       "\n",
       "    .dataframe tbody tr th {\n",
       "        vertical-align: top;\n",
       "    }\n",
       "\n",
       "    .dataframe thead th {\n",
       "        text-align: right;\n",
       "    }\n",
       "</style>\n",
       "<table border=\"1\" class=\"dataframe\">\n",
       "  <thead>\n",
       "    <tr style=\"text-align: right;\">\n",
       "      <th></th>\n",
       "      <th>fuel_Diesel</th>\n",
       "      <th>fuel_Electric</th>\n",
       "      <th>fuel_LPG</th>\n",
       "      <th>fuel_Petrol</th>\n",
       "      <th>seller_type_Individual</th>\n",
       "      <th>seller_type_Trustmark_Dealer</th>\n",
       "      <th>transmission_Manual</th>\n",
       "      <th>owner_Fourth_and_Above_Owner</th>\n",
       "      <th>owner_Second_Owner</th>\n",
       "      <th>owner_Test_Drive_Car</th>\n",
       "      <th>owner_Third_Owner</th>\n",
       "    </tr>\n",
       "  </thead>\n",
       "  <tbody>\n",
       "    <tr>\n",
       "      <th>0</th>\n",
       "      <td>1.0</td>\n",
       "      <td>0.0</td>\n",
       "      <td>0.0</td>\n",
       "      <td>0.0</td>\n",
       "      <td>0.0</td>\n",
       "      <td>0.0</td>\n",
       "      <td>1.0</td>\n",
       "      <td>0.0</td>\n",
       "      <td>1.0</td>\n",
       "      <td>0.0</td>\n",
       "      <td>0.0</td>\n",
       "    </tr>\n",
       "    <tr>\n",
       "      <th>1</th>\n",
       "      <td>1.0</td>\n",
       "      <td>0.0</td>\n",
       "      <td>0.0</td>\n",
       "      <td>0.0</td>\n",
       "      <td>1.0</td>\n",
       "      <td>0.0</td>\n",
       "      <td>1.0</td>\n",
       "      <td>1.0</td>\n",
       "      <td>0.0</td>\n",
       "      <td>0.0</td>\n",
       "      <td>0.0</td>\n",
       "    </tr>\n",
       "    <tr>\n",
       "      <th>2</th>\n",
       "      <td>0.0</td>\n",
       "      <td>0.0</td>\n",
       "      <td>0.0</td>\n",
       "      <td>1.0</td>\n",
       "      <td>1.0</td>\n",
       "      <td>0.0</td>\n",
       "      <td>1.0</td>\n",
       "      <td>0.0</td>\n",
       "      <td>0.0</td>\n",
       "      <td>0.0</td>\n",
       "      <td>0.0</td>\n",
       "    </tr>\n",
       "    <tr>\n",
       "      <th>3</th>\n",
       "      <td>1.0</td>\n",
       "      <td>0.0</td>\n",
       "      <td>0.0</td>\n",
       "      <td>0.0</td>\n",
       "      <td>1.0</td>\n",
       "      <td>0.0</td>\n",
       "      <td>1.0</td>\n",
       "      <td>0.0</td>\n",
       "      <td>0.0</td>\n",
       "      <td>0.0</td>\n",
       "      <td>0.0</td>\n",
       "    </tr>\n",
       "    <tr>\n",
       "      <th>4</th>\n",
       "      <td>0.0</td>\n",
       "      <td>0.0</td>\n",
       "      <td>0.0</td>\n",
       "      <td>1.0</td>\n",
       "      <td>1.0</td>\n",
       "      <td>0.0</td>\n",
       "      <td>1.0</td>\n",
       "      <td>0.0</td>\n",
       "      <td>0.0</td>\n",
       "      <td>0.0</td>\n",
       "      <td>0.0</td>\n",
       "    </tr>\n",
       "    <tr>\n",
       "      <th>...</th>\n",
       "      <td>...</td>\n",
       "      <td>...</td>\n",
       "      <td>...</td>\n",
       "      <td>...</td>\n",
       "      <td>...</td>\n",
       "      <td>...</td>\n",
       "      <td>...</td>\n",
       "      <td>...</td>\n",
       "      <td>...</td>\n",
       "      <td>...</td>\n",
       "      <td>...</td>\n",
       "    </tr>\n",
       "    <tr>\n",
       "      <th>3250</th>\n",
       "      <td>0.0</td>\n",
       "      <td>0.0</td>\n",
       "      <td>0.0</td>\n",
       "      <td>1.0</td>\n",
       "      <td>1.0</td>\n",
       "      <td>0.0</td>\n",
       "      <td>1.0</td>\n",
       "      <td>0.0</td>\n",
       "      <td>1.0</td>\n",
       "      <td>0.0</td>\n",
       "      <td>0.0</td>\n",
       "    </tr>\n",
       "    <tr>\n",
       "      <th>3251</th>\n",
       "      <td>1.0</td>\n",
       "      <td>0.0</td>\n",
       "      <td>0.0</td>\n",
       "      <td>0.0</td>\n",
       "      <td>1.0</td>\n",
       "      <td>0.0</td>\n",
       "      <td>1.0</td>\n",
       "      <td>0.0</td>\n",
       "      <td>0.0</td>\n",
       "      <td>0.0</td>\n",
       "      <td>1.0</td>\n",
       "    </tr>\n",
       "    <tr>\n",
       "      <th>3252</th>\n",
       "      <td>1.0</td>\n",
       "      <td>0.0</td>\n",
       "      <td>0.0</td>\n",
       "      <td>0.0</td>\n",
       "      <td>0.0</td>\n",
       "      <td>0.0</td>\n",
       "      <td>1.0</td>\n",
       "      <td>0.0</td>\n",
       "      <td>0.0</td>\n",
       "      <td>0.0</td>\n",
       "      <td>0.0</td>\n",
       "    </tr>\n",
       "    <tr>\n",
       "      <th>3253</th>\n",
       "      <td>1.0</td>\n",
       "      <td>0.0</td>\n",
       "      <td>0.0</td>\n",
       "      <td>0.0</td>\n",
       "      <td>1.0</td>\n",
       "      <td>0.0</td>\n",
       "      <td>1.0</td>\n",
       "      <td>0.0</td>\n",
       "      <td>1.0</td>\n",
       "      <td>0.0</td>\n",
       "      <td>0.0</td>\n",
       "    </tr>\n",
       "    <tr>\n",
       "      <th>3254</th>\n",
       "      <td>1.0</td>\n",
       "      <td>0.0</td>\n",
       "      <td>0.0</td>\n",
       "      <td>0.0</td>\n",
       "      <td>1.0</td>\n",
       "      <td>0.0</td>\n",
       "      <td>1.0</td>\n",
       "      <td>0.0</td>\n",
       "      <td>0.0</td>\n",
       "      <td>0.0</td>\n",
       "      <td>0.0</td>\n",
       "    </tr>\n",
       "  </tbody>\n",
       "</table>\n",
       "<p>3255 rows × 11 columns</p>\n",
       "</div>"
      ],
      "text/plain": [
       "      fuel_Diesel  fuel_Electric  fuel_LPG  fuel_Petrol  \\\n",
       "0             1.0            0.0       0.0          0.0   \n",
       "1             1.0            0.0       0.0          0.0   \n",
       "2             0.0            0.0       0.0          1.0   \n",
       "3             1.0            0.0       0.0          0.0   \n",
       "4             0.0            0.0       0.0          1.0   \n",
       "...           ...            ...       ...          ...   \n",
       "3250          0.0            0.0       0.0          1.0   \n",
       "3251          1.0            0.0       0.0          0.0   \n",
       "3252          1.0            0.0       0.0          0.0   \n",
       "3253          1.0            0.0       0.0          0.0   \n",
       "3254          1.0            0.0       0.0          0.0   \n",
       "\n",
       "      seller_type_Individual  seller_type_Trustmark_Dealer  \\\n",
       "0                        0.0                           0.0   \n",
       "1                        1.0                           0.0   \n",
       "2                        1.0                           0.0   \n",
       "3                        1.0                           0.0   \n",
       "4                        1.0                           0.0   \n",
       "...                      ...                           ...   \n",
       "3250                     1.0                           0.0   \n",
       "3251                     1.0                           0.0   \n",
       "3252                     0.0                           0.0   \n",
       "3253                     1.0                           0.0   \n",
       "3254                     1.0                           0.0   \n",
       "\n",
       "      transmission_Manual  owner_Fourth_and_Above_Owner  owner_Second_Owner  \\\n",
       "0                     1.0                           0.0                 1.0   \n",
       "1                     1.0                           1.0                 0.0   \n",
       "2                     1.0                           0.0                 0.0   \n",
       "3                     1.0                           0.0                 0.0   \n",
       "4                     1.0                           0.0                 0.0   \n",
       "...                   ...                           ...                 ...   \n",
       "3250                  1.0                           0.0                 1.0   \n",
       "3251                  1.0                           0.0                 0.0   \n",
       "3252                  1.0                           0.0                 0.0   \n",
       "3253                  1.0                           0.0                 1.0   \n",
       "3254                  1.0                           0.0                 0.0   \n",
       "\n",
       "      owner_Test_Drive_Car  owner_Third_Owner  \n",
       "0                      0.0                0.0  \n",
       "1                      0.0                0.0  \n",
       "2                      0.0                0.0  \n",
       "3                      0.0                0.0  \n",
       "4                      0.0                0.0  \n",
       "...                    ...                ...  \n",
       "3250                   0.0                0.0  \n",
       "3251                   0.0                1.0  \n",
       "3252                   0.0                0.0  \n",
       "3253                   0.0                0.0  \n",
       "3254                   0.0                0.0  \n",
       "\n",
       "[3255 rows x 11 columns]"
      ]
     },
     "execution_count": 20,
     "metadata": {},
     "output_type": "execute_result"
    }
   ],
   "source": [
    "ohe = OneHotEncoder(drop='first', sparse=False)\n",
    "X_train_cat = ohe.fit_transform(X_train[cat_cols])\n",
    "X_test_cat = ohe.transform(X_test[cat_cols])\n",
    "\n",
    "# Recreate DFs\n",
    "X_train_cat = pd.DataFrame(X_train_cat, columns=ohe.get_feature_names(cat_cols))\n",
    "X_test_cat = pd.DataFrame(X_test_cat, columns=ohe.get_feature_names(cat_cols))\n",
    "\n",
    "X_train_cat"
   ]
  },
  {
   "cell_type": "markdown",
   "id": "1de62257",
   "metadata": {},
   "source": [
    "## Scale"
   ]
  },
  {
   "cell_type": "code",
   "execution_count": 21,
   "id": "be10f2fd",
   "metadata": {
    "ExecuteTime": {
     "end_time": "2021-08-12T20:51:19.654019Z",
     "start_time": "2021-08-12T20:51:19.632924Z"
    }
   },
   "outputs": [
    {
     "data": {
      "text/html": [
       "<div>\n",
       "<style scoped>\n",
       "    .dataframe tbody tr th:only-of-type {\n",
       "        vertical-align: middle;\n",
       "    }\n",
       "\n",
       "    .dataframe tbody tr th {\n",
       "        vertical-align: top;\n",
       "    }\n",
       "\n",
       "    .dataframe thead th {\n",
       "        text-align: right;\n",
       "    }\n",
       "</style>\n",
       "<table border=\"1\" class=\"dataframe\">\n",
       "  <thead>\n",
       "    <tr style=\"text-align: right;\">\n",
       "      <th></th>\n",
       "      <th>year</th>\n",
       "      <th>km_driven</th>\n",
       "      <th>year_squared</th>\n",
       "    </tr>\n",
       "  </thead>\n",
       "  <tbody>\n",
       "    <tr>\n",
       "      <th>0</th>\n",
       "      <td>-0.982530</td>\n",
       "      <td>-0.197789</td>\n",
       "      <td>-0.983420</td>\n",
       "    </tr>\n",
       "    <tr>\n",
       "      <th>1</th>\n",
       "      <td>-0.030492</td>\n",
       "      <td>0.278443</td>\n",
       "      <td>-0.031562</td>\n",
       "    </tr>\n",
       "    <tr>\n",
       "      <th>2</th>\n",
       "      <td>0.445527</td>\n",
       "      <td>-0.860373</td>\n",
       "      <td>0.445078</td>\n",
       "    </tr>\n",
       "    <tr>\n",
       "      <th>3</th>\n",
       "      <td>0.445527</td>\n",
       "      <td>2.141961</td>\n",
       "      <td>0.445078</td>\n",
       "    </tr>\n",
       "    <tr>\n",
       "      <th>4</th>\n",
       "      <td>0.445527</td>\n",
       "      <td>0.071386</td>\n",
       "      <td>0.445078</td>\n",
       "    </tr>\n",
       "    <tr>\n",
       "      <th>...</th>\n",
       "      <td>...</td>\n",
       "      <td>...</td>\n",
       "      <td>...</td>\n",
       "    </tr>\n",
       "    <tr>\n",
       "      <th>3250</th>\n",
       "      <td>-0.030492</td>\n",
       "      <td>-0.135672</td>\n",
       "      <td>-0.031562</td>\n",
       "    </tr>\n",
       "    <tr>\n",
       "      <th>3251</th>\n",
       "      <td>-0.030492</td>\n",
       "      <td>2.349019</td>\n",
       "      <td>-0.031562</td>\n",
       "    </tr>\n",
       "    <tr>\n",
       "      <th>3252</th>\n",
       "      <td>-0.506511</td>\n",
       "      <td>-0.485020</td>\n",
       "      <td>-0.507727</td>\n",
       "    </tr>\n",
       "    <tr>\n",
       "      <th>3253</th>\n",
       "      <td>-0.506511</td>\n",
       "      <td>-0.032143</td>\n",
       "      <td>-0.507727</td>\n",
       "    </tr>\n",
       "    <tr>\n",
       "      <th>3254</th>\n",
       "      <td>0.683537</td>\n",
       "      <td>-0.549787</td>\n",
       "      <td>0.683575</td>\n",
       "    </tr>\n",
       "  </tbody>\n",
       "</table>\n",
       "<p>3255 rows × 3 columns</p>\n",
       "</div>"
      ],
      "text/plain": [
       "          year  km_driven  year_squared\n",
       "0    -0.982530  -0.197789     -0.983420\n",
       "1    -0.030492   0.278443     -0.031562\n",
       "2     0.445527  -0.860373      0.445078\n",
       "3     0.445527   2.141961      0.445078\n",
       "4     0.445527   0.071386      0.445078\n",
       "...        ...        ...           ...\n",
       "3250 -0.030492  -0.135672     -0.031562\n",
       "3251 -0.030492   2.349019     -0.031562\n",
       "3252 -0.506511  -0.485020     -0.507727\n",
       "3253 -0.506511  -0.032143     -0.507727\n",
       "3254  0.683537  -0.549787      0.683575\n",
       "\n",
       "[3255 rows x 3 columns]"
      ]
     },
     "execution_count": 21,
     "metadata": {},
     "output_type": "execute_result"
    }
   ],
   "source": [
    "scaler = StandardScaler()\n",
    "X_train_scaled = scaler.fit_transform(X_train[num_cols])\n",
    "X_test_scaled = scaler.transform(X_test[num_cols])\n",
    "\n",
    "# Recreate DFs\n",
    "X_train_scaled = pd.DataFrame(X_train_scaled, columns=num_cols)\n",
    "X_test_scaled = pd.DataFrame(X_test_scaled, columns=num_cols)\n",
    "\n",
    "X_train_scaled"
   ]
  },
  {
   "cell_type": "markdown",
   "id": "ca1b9d3a",
   "metadata": {},
   "source": [
    "## Combine Data"
   ]
  },
  {
   "cell_type": "code",
   "execution_count": 22,
   "id": "a86e7e9d",
   "metadata": {
    "ExecuteTime": {
     "end_time": "2021-08-12T20:51:19.662531Z",
     "start_time": "2021-08-12T20:51:19.656551Z"
    }
   },
   "outputs": [
    {
     "data": {
      "text/plain": [
       "((3255, 14), (1085, 14))"
      ]
     },
     "execution_count": 22,
     "metadata": {},
     "output_type": "execute_result"
    }
   ],
   "source": [
    "X_train_processed = pd.concat([X_train_scaled, X_train_cat], axis=1)\n",
    "X_test_processed = pd.concat([X_test_scaled, X_test_cat], axis=1)\n",
    "\n",
    "X_train_processed.shape, X_test_processed.shape"
   ]
  },
  {
   "cell_type": "code",
   "execution_count": 23,
   "id": "c139cf68",
   "metadata": {
    "ExecuteTime": {
     "end_time": "2021-08-12T20:51:19.689339Z",
     "start_time": "2021-08-12T20:51:19.664851Z"
    }
   },
   "outputs": [
    {
     "data": {
      "text/html": [
       "<div>\n",
       "<style scoped>\n",
       "    .dataframe tbody tr th:only-of-type {\n",
       "        vertical-align: middle;\n",
       "    }\n",
       "\n",
       "    .dataframe tbody tr th {\n",
       "        vertical-align: top;\n",
       "    }\n",
       "\n",
       "    .dataframe thead th {\n",
       "        text-align: right;\n",
       "    }\n",
       "</style>\n",
       "<table border=\"1\" class=\"dataframe\">\n",
       "  <thead>\n",
       "    <tr style=\"text-align: right;\">\n",
       "      <th></th>\n",
       "      <th>year</th>\n",
       "      <th>km_driven</th>\n",
       "      <th>year_squared</th>\n",
       "      <th>fuel_Diesel</th>\n",
       "      <th>fuel_Electric</th>\n",
       "      <th>fuel_LPG</th>\n",
       "      <th>fuel_Petrol</th>\n",
       "      <th>seller_type_Individual</th>\n",
       "      <th>seller_type_Trustmark_Dealer</th>\n",
       "      <th>transmission_Manual</th>\n",
       "      <th>owner_Fourth_and_Above_Owner</th>\n",
       "      <th>owner_Second_Owner</th>\n",
       "      <th>owner_Test_Drive_Car</th>\n",
       "      <th>owner_Third_Owner</th>\n",
       "    </tr>\n",
       "  </thead>\n",
       "  <tbody>\n",
       "    <tr>\n",
       "      <th>0</th>\n",
       "      <td>-0.982530</td>\n",
       "      <td>-0.197789</td>\n",
       "      <td>-0.983420</td>\n",
       "      <td>1.0</td>\n",
       "      <td>0.0</td>\n",
       "      <td>0.0</td>\n",
       "      <td>0.0</td>\n",
       "      <td>0.0</td>\n",
       "      <td>0.0</td>\n",
       "      <td>1.0</td>\n",
       "      <td>0.0</td>\n",
       "      <td>1.0</td>\n",
       "      <td>0.0</td>\n",
       "      <td>0.0</td>\n",
       "    </tr>\n",
       "    <tr>\n",
       "      <th>1</th>\n",
       "      <td>-0.030492</td>\n",
       "      <td>0.278443</td>\n",
       "      <td>-0.031562</td>\n",
       "      <td>1.0</td>\n",
       "      <td>0.0</td>\n",
       "      <td>0.0</td>\n",
       "      <td>0.0</td>\n",
       "      <td>1.0</td>\n",
       "      <td>0.0</td>\n",
       "      <td>1.0</td>\n",
       "      <td>1.0</td>\n",
       "      <td>0.0</td>\n",
       "      <td>0.0</td>\n",
       "      <td>0.0</td>\n",
       "    </tr>\n",
       "    <tr>\n",
       "      <th>2</th>\n",
       "      <td>0.445527</td>\n",
       "      <td>-0.860373</td>\n",
       "      <td>0.445078</td>\n",
       "      <td>0.0</td>\n",
       "      <td>0.0</td>\n",
       "      <td>0.0</td>\n",
       "      <td>1.0</td>\n",
       "      <td>1.0</td>\n",
       "      <td>0.0</td>\n",
       "      <td>1.0</td>\n",
       "      <td>0.0</td>\n",
       "      <td>0.0</td>\n",
       "      <td>0.0</td>\n",
       "      <td>0.0</td>\n",
       "    </tr>\n",
       "    <tr>\n",
       "      <th>3</th>\n",
       "      <td>0.445527</td>\n",
       "      <td>2.141961</td>\n",
       "      <td>0.445078</td>\n",
       "      <td>1.0</td>\n",
       "      <td>0.0</td>\n",
       "      <td>0.0</td>\n",
       "      <td>0.0</td>\n",
       "      <td>1.0</td>\n",
       "      <td>0.0</td>\n",
       "      <td>1.0</td>\n",
       "      <td>0.0</td>\n",
       "      <td>0.0</td>\n",
       "      <td>0.0</td>\n",
       "      <td>0.0</td>\n",
       "    </tr>\n",
       "    <tr>\n",
       "      <th>4</th>\n",
       "      <td>0.445527</td>\n",
       "      <td>0.071386</td>\n",
       "      <td>0.445078</td>\n",
       "      <td>0.0</td>\n",
       "      <td>0.0</td>\n",
       "      <td>0.0</td>\n",
       "      <td>1.0</td>\n",
       "      <td>1.0</td>\n",
       "      <td>0.0</td>\n",
       "      <td>1.0</td>\n",
       "      <td>0.0</td>\n",
       "      <td>0.0</td>\n",
       "      <td>0.0</td>\n",
       "      <td>0.0</td>\n",
       "    </tr>\n",
       "    <tr>\n",
       "      <th>...</th>\n",
       "      <td>...</td>\n",
       "      <td>...</td>\n",
       "      <td>...</td>\n",
       "      <td>...</td>\n",
       "      <td>...</td>\n",
       "      <td>...</td>\n",
       "      <td>...</td>\n",
       "      <td>...</td>\n",
       "      <td>...</td>\n",
       "      <td>...</td>\n",
       "      <td>...</td>\n",
       "      <td>...</td>\n",
       "      <td>...</td>\n",
       "      <td>...</td>\n",
       "    </tr>\n",
       "    <tr>\n",
       "      <th>3250</th>\n",
       "      <td>-0.030492</td>\n",
       "      <td>-0.135672</td>\n",
       "      <td>-0.031562</td>\n",
       "      <td>0.0</td>\n",
       "      <td>0.0</td>\n",
       "      <td>0.0</td>\n",
       "      <td>1.0</td>\n",
       "      <td>1.0</td>\n",
       "      <td>0.0</td>\n",
       "      <td>1.0</td>\n",
       "      <td>0.0</td>\n",
       "      <td>1.0</td>\n",
       "      <td>0.0</td>\n",
       "      <td>0.0</td>\n",
       "    </tr>\n",
       "    <tr>\n",
       "      <th>3251</th>\n",
       "      <td>-0.030492</td>\n",
       "      <td>2.349019</td>\n",
       "      <td>-0.031562</td>\n",
       "      <td>1.0</td>\n",
       "      <td>0.0</td>\n",
       "      <td>0.0</td>\n",
       "      <td>0.0</td>\n",
       "      <td>1.0</td>\n",
       "      <td>0.0</td>\n",
       "      <td>1.0</td>\n",
       "      <td>0.0</td>\n",
       "      <td>0.0</td>\n",
       "      <td>0.0</td>\n",
       "      <td>1.0</td>\n",
       "    </tr>\n",
       "    <tr>\n",
       "      <th>3252</th>\n",
       "      <td>-0.506511</td>\n",
       "      <td>-0.485020</td>\n",
       "      <td>-0.507727</td>\n",
       "      <td>1.0</td>\n",
       "      <td>0.0</td>\n",
       "      <td>0.0</td>\n",
       "      <td>0.0</td>\n",
       "      <td>0.0</td>\n",
       "      <td>0.0</td>\n",
       "      <td>1.0</td>\n",
       "      <td>0.0</td>\n",
       "      <td>0.0</td>\n",
       "      <td>0.0</td>\n",
       "      <td>0.0</td>\n",
       "    </tr>\n",
       "    <tr>\n",
       "      <th>3253</th>\n",
       "      <td>-0.506511</td>\n",
       "      <td>-0.032143</td>\n",
       "      <td>-0.507727</td>\n",
       "      <td>1.0</td>\n",
       "      <td>0.0</td>\n",
       "      <td>0.0</td>\n",
       "      <td>0.0</td>\n",
       "      <td>1.0</td>\n",
       "      <td>0.0</td>\n",
       "      <td>1.0</td>\n",
       "      <td>0.0</td>\n",
       "      <td>1.0</td>\n",
       "      <td>0.0</td>\n",
       "      <td>0.0</td>\n",
       "    </tr>\n",
       "    <tr>\n",
       "      <th>3254</th>\n",
       "      <td>0.683537</td>\n",
       "      <td>-0.549787</td>\n",
       "      <td>0.683575</td>\n",
       "      <td>1.0</td>\n",
       "      <td>0.0</td>\n",
       "      <td>0.0</td>\n",
       "      <td>0.0</td>\n",
       "      <td>1.0</td>\n",
       "      <td>0.0</td>\n",
       "      <td>1.0</td>\n",
       "      <td>0.0</td>\n",
       "      <td>0.0</td>\n",
       "      <td>0.0</td>\n",
       "      <td>0.0</td>\n",
       "    </tr>\n",
       "  </tbody>\n",
       "</table>\n",
       "<p>3255 rows × 14 columns</p>\n",
       "</div>"
      ],
      "text/plain": [
       "          year  km_driven  year_squared  fuel_Diesel  fuel_Electric  fuel_LPG  \\\n",
       "0    -0.982530  -0.197789     -0.983420          1.0            0.0       0.0   \n",
       "1    -0.030492   0.278443     -0.031562          1.0            0.0       0.0   \n",
       "2     0.445527  -0.860373      0.445078          0.0            0.0       0.0   \n",
       "3     0.445527   2.141961      0.445078          1.0            0.0       0.0   \n",
       "4     0.445527   0.071386      0.445078          0.0            0.0       0.0   \n",
       "...        ...        ...           ...          ...            ...       ...   \n",
       "3250 -0.030492  -0.135672     -0.031562          0.0            0.0       0.0   \n",
       "3251 -0.030492   2.349019     -0.031562          1.0            0.0       0.0   \n",
       "3252 -0.506511  -0.485020     -0.507727          1.0            0.0       0.0   \n",
       "3253 -0.506511  -0.032143     -0.507727          1.0            0.0       0.0   \n",
       "3254  0.683537  -0.549787      0.683575          1.0            0.0       0.0   \n",
       "\n",
       "      fuel_Petrol  seller_type_Individual  seller_type_Trustmark_Dealer  \\\n",
       "0             0.0                     0.0                           0.0   \n",
       "1             0.0                     1.0                           0.0   \n",
       "2             1.0                     1.0                           0.0   \n",
       "3             0.0                     1.0                           0.0   \n",
       "4             1.0                     1.0                           0.0   \n",
       "...           ...                     ...                           ...   \n",
       "3250          1.0                     1.0                           0.0   \n",
       "3251          0.0                     1.0                           0.0   \n",
       "3252          0.0                     0.0                           0.0   \n",
       "3253          0.0                     1.0                           0.0   \n",
       "3254          0.0                     1.0                           0.0   \n",
       "\n",
       "      transmission_Manual  owner_Fourth_and_Above_Owner  owner_Second_Owner  \\\n",
       "0                     1.0                           0.0                 1.0   \n",
       "1                     1.0                           1.0                 0.0   \n",
       "2                     1.0                           0.0                 0.0   \n",
       "3                     1.0                           0.0                 0.0   \n",
       "4                     1.0                           0.0                 0.0   \n",
       "...                   ...                           ...                 ...   \n",
       "3250                  1.0                           0.0                 1.0   \n",
       "3251                  1.0                           0.0                 0.0   \n",
       "3252                  1.0                           0.0                 0.0   \n",
       "3253                  1.0                           0.0                 1.0   \n",
       "3254                  1.0                           0.0                 0.0   \n",
       "\n",
       "      owner_Test_Drive_Car  owner_Third_Owner  \n",
       "0                      0.0                0.0  \n",
       "1                      0.0                0.0  \n",
       "2                      0.0                0.0  \n",
       "3                      0.0                0.0  \n",
       "4                      0.0                0.0  \n",
       "...                    ...                ...  \n",
       "3250                   0.0                0.0  \n",
       "3251                   0.0                1.0  \n",
       "3252                   0.0                0.0  \n",
       "3253                   0.0                0.0  \n",
       "3254                   0.0                0.0  \n",
       "\n",
       "[3255 rows x 14 columns]"
      ]
     },
     "execution_count": 23,
     "metadata": {},
     "output_type": "execute_result"
    }
   ],
   "source": [
    "X_train_processed"
   ]
  },
  {
   "cell_type": "markdown",
   "id": "25565c4a",
   "metadata": {},
   "source": [
    "# Model"
   ]
  },
  {
   "cell_type": "code",
   "execution_count": 24,
   "id": "e7269086",
   "metadata": {
    "ExecuteTime": {
     "end_time": "2021-08-12T20:51:19.693326Z",
     "start_time": "2021-08-12T20:51:19.691179Z"
    }
   },
   "outputs": [],
   "source": [
    "# f = f'{y_train.name}~{\"+\".join(X_train_processed.columns)}'\n",
    "# f"
   ]
  },
  {
   "cell_type": "code",
   "execution_count": 25,
   "id": "cd39ead8",
   "metadata": {
    "ExecuteTime": {
     "end_time": "2021-08-12T20:51:19.731746Z",
     "start_time": "2021-08-12T20:51:19.695247Z"
    }
   },
   "outputs": [
    {
     "data": {
      "text/html": [
       "<table class=\"simpletable\">\n",
       "<caption>OLS Regression Results</caption>\n",
       "<tr>\n",
       "  <th>Dep. Variable:</th>        <td>log_price</td>    <th>  R-squared:         </th> <td>   0.688</td>\n",
       "</tr>\n",
       "<tr>\n",
       "  <th>Model:</th>                   <td>OLS</td>       <th>  Adj. R-squared:    </th> <td>   0.687</td>\n",
       "</tr>\n",
       "<tr>\n",
       "  <th>Method:</th>             <td>Least Squares</td>  <th>  F-statistic:       </th> <td>   510.2</td>\n",
       "</tr>\n",
       "<tr>\n",
       "  <th>Date:</th>             <td>Thu, 12 Aug 2021</td> <th>  Prob (F-statistic):</th>  <td>  0.00</td> \n",
       "</tr>\n",
       "<tr>\n",
       "  <th>Time:</th>                 <td>16:51:19</td>     <th>  Log-Likelihood:    </th> <td> -2149.7</td>\n",
       "</tr>\n",
       "<tr>\n",
       "  <th>No. Observations:</th>      <td>  3255</td>      <th>  AIC:               </th> <td>   4329.</td>\n",
       "</tr>\n",
       "<tr>\n",
       "  <th>Df Residuals:</th>          <td>  3240</td>      <th>  BIC:               </th> <td>   4421.</td>\n",
       "</tr>\n",
       "<tr>\n",
       "  <th>Df Model:</th>              <td>    14</td>      <th>                     </th>     <td> </td>   \n",
       "</tr>\n",
       "<tr>\n",
       "  <th>Covariance Type:</th>      <td>nonrobust</td>    <th>                     </th>     <td> </td>   \n",
       "</tr>\n",
       "</table>\n",
       "<table class=\"simpletable\">\n",
       "<tr>\n",
       "                <td></td>                  <th>coef</th>     <th>std err</th>      <th>t</th>      <th>P>|t|</th>  <th>[0.025</th>    <th>0.975]</th>  \n",
       "</tr>\n",
       "<tr>\n",
       "  <th>const</th>                        <td>   13.3135</td> <td>    0.087</td> <td>  152.662</td> <td> 0.000</td> <td>   13.142</td> <td>   13.484</td>\n",
       "</tr>\n",
       "<tr>\n",
       "  <th>year</th>                         <td>  -36.4596</td> <td>    6.045</td> <td>   -6.031</td> <td> 0.000</td> <td>  -48.312</td> <td>  -24.607</td>\n",
       "</tr>\n",
       "<tr>\n",
       "  <th>km_driven</th>                    <td>    0.0051</td> <td>    0.010</td> <td>    0.504</td> <td> 0.614</td> <td>   -0.015</td> <td>    0.025</td>\n",
       "</tr>\n",
       "<tr>\n",
       "  <th>year_squared</th>                 <td>   36.9387</td> <td>    6.046</td> <td>    6.109</td> <td> 0.000</td> <td>   25.084</td> <td>   48.794</td>\n",
       "</tr>\n",
       "<tr>\n",
       "  <th>fuel_Diesel</th>                  <td>    0.5771</td> <td>    0.083</td> <td>    6.971</td> <td> 0.000</td> <td>    0.415</td> <td>    0.739</td>\n",
       "</tr>\n",
       "<tr>\n",
       "  <th>fuel_Electric</th>                <td>    0.1861</td> <td>    0.478</td> <td>    0.389</td> <td> 0.697</td> <td>   -0.751</td> <td>    1.123</td>\n",
       "</tr>\n",
       "<tr>\n",
       "  <th>fuel_LPG</th>                     <td>   -0.0145</td> <td>    0.140</td> <td>   -0.103</td> <td> 0.918</td> <td>   -0.290</td> <td>    0.261</td>\n",
       "</tr>\n",
       "<tr>\n",
       "  <th>fuel_Petrol</th>                  <td>    0.0643</td> <td>    0.083</td> <td>    0.776</td> <td> 0.438</td> <td>   -0.098</td> <td>    0.227</td>\n",
       "</tr>\n",
       "<tr>\n",
       "  <th>seller_type_Individual</th>       <td>   -0.1678</td> <td>    0.021</td> <td>   -7.950</td> <td> 0.000</td> <td>   -0.209</td> <td>   -0.126</td>\n",
       "</tr>\n",
       "<tr>\n",
       "  <th>seller_type_Trustmark_Dealer</th> <td>    0.3141</td> <td>    0.055</td> <td>    5.666</td> <td> 0.000</td> <td>    0.205</td> <td>    0.423</td>\n",
       "</tr>\n",
       "<tr>\n",
       "  <th>transmission_Manual</th>          <td>   -0.7980</td> <td>    0.028</td> <td>  -28.943</td> <td> 0.000</td> <td>   -0.852</td> <td>   -0.744</td>\n",
       "</tr>\n",
       "<tr>\n",
       "  <th>owner_Fourth_and_Above_Owner</th> <td>   -0.1924</td> <td>    0.060</td> <td>   -3.184</td> <td> 0.001</td> <td>   -0.311</td> <td>   -0.074</td>\n",
       "</tr>\n",
       "<tr>\n",
       "  <th>owner_Second_Owner</th>           <td>   -0.0598</td> <td>    0.022</td> <td>   -2.766</td> <td> 0.006</td> <td>   -0.102</td> <td>   -0.017</td>\n",
       "</tr>\n",
       "<tr>\n",
       "  <th>owner_Test_Drive_Car</th>         <td>    0.0591</td> <td>    0.133</td> <td>    0.444</td> <td> 0.657</td> <td>   -0.202</td> <td>    0.320</td>\n",
       "</tr>\n",
       "<tr>\n",
       "  <th>owner_Third_Owner</th>            <td>   -0.1012</td> <td>    0.036</td> <td>   -2.849</td> <td> 0.004</td> <td>   -0.171</td> <td>   -0.032</td>\n",
       "</tr>\n",
       "</table>\n",
       "<table class=\"simpletable\">\n",
       "<tr>\n",
       "  <th>Omnibus:</th>       <td>36.536</td> <th>  Durbin-Watson:     </th> <td>   2.044</td>\n",
       "</tr>\n",
       "<tr>\n",
       "  <th>Prob(Omnibus):</th> <td> 0.000</td> <th>  Jarque-Bera (JB):  </th> <td>  58.240</td>\n",
       "</tr>\n",
       "<tr>\n",
       "  <th>Skew:</th>          <td> 0.076</td> <th>  Prob(JB):          </th> <td>2.26e-13</td>\n",
       "</tr>\n",
       "<tr>\n",
       "  <th>Kurtosis:</th>      <td> 3.638</td> <th>  Cond. No.          </th> <td>1.81e+03</td>\n",
       "</tr>\n",
       "</table><br/><br/>Warnings:<br/>[1] Standard Errors assume that the covariance matrix of the errors is correctly specified.<br/>[2] The condition number is large, 1.81e+03. This might indicate that there are<br/>strong multicollinearity or other numerical problems."
      ],
      "text/plain": [
       "<class 'statsmodels.iolib.summary.Summary'>\n",
       "\"\"\"\n",
       "                            OLS Regression Results                            \n",
       "==============================================================================\n",
       "Dep. Variable:              log_price   R-squared:                       0.688\n",
       "Model:                            OLS   Adj. R-squared:                  0.687\n",
       "Method:                 Least Squares   F-statistic:                     510.2\n",
       "Date:                Thu, 12 Aug 2021   Prob (F-statistic):               0.00\n",
       "Time:                        16:51:19   Log-Likelihood:                -2149.7\n",
       "No. Observations:                3255   AIC:                             4329.\n",
       "Df Residuals:                    3240   BIC:                             4421.\n",
       "Df Model:                          14                                         \n",
       "Covariance Type:            nonrobust                                         \n",
       "================================================================================================\n",
       "                                   coef    std err          t      P>|t|      [0.025      0.975]\n",
       "------------------------------------------------------------------------------------------------\n",
       "const                           13.3135      0.087    152.662      0.000      13.142      13.484\n",
       "year                           -36.4596      6.045     -6.031      0.000     -48.312     -24.607\n",
       "km_driven                        0.0051      0.010      0.504      0.614      -0.015       0.025\n",
       "year_squared                    36.9387      6.046      6.109      0.000      25.084      48.794\n",
       "fuel_Diesel                      0.5771      0.083      6.971      0.000       0.415       0.739\n",
       "fuel_Electric                    0.1861      0.478      0.389      0.697      -0.751       1.123\n",
       "fuel_LPG                        -0.0145      0.140     -0.103      0.918      -0.290       0.261\n",
       "fuel_Petrol                      0.0643      0.083      0.776      0.438      -0.098       0.227\n",
       "seller_type_Individual          -0.1678      0.021     -7.950      0.000      -0.209      -0.126\n",
       "seller_type_Trustmark_Dealer     0.3141      0.055      5.666      0.000       0.205       0.423\n",
       "transmission_Manual             -0.7980      0.028    -28.943      0.000      -0.852      -0.744\n",
       "owner_Fourth_and_Above_Owner    -0.1924      0.060     -3.184      0.001      -0.311      -0.074\n",
       "owner_Second_Owner              -0.0598      0.022     -2.766      0.006      -0.102      -0.017\n",
       "owner_Test_Drive_Car             0.0591      0.133      0.444      0.657      -0.202       0.320\n",
       "owner_Third_Owner               -0.1012      0.036     -2.849      0.004      -0.171      -0.032\n",
       "==============================================================================\n",
       "Omnibus:                       36.536   Durbin-Watson:                   2.044\n",
       "Prob(Omnibus):                  0.000   Jarque-Bera (JB):               58.240\n",
       "Skew:                           0.076   Prob(JB):                     2.26e-13\n",
       "Kurtosis:                       3.638   Cond. No.                     1.81e+03\n",
       "==============================================================================\n",
       "\n",
       "Warnings:\n",
       "[1] Standard Errors assume that the covariance matrix of the errors is correctly specified.\n",
       "[2] The condition number is large, 1.81e+03. This might indicate that there are\n",
       "strong multicollinearity or other numerical problems.\n",
       "\"\"\""
      ]
     },
     "execution_count": 25,
     "metadata": {},
     "output_type": "execute_result"
    }
   ],
   "source": [
    "model = sm.OLS(y_train.reset_index(drop=True), \n",
    "               sm.add_constant(X_train_processed)).fit()\n",
    "model.summary()"
   ]
  },
  {
   "cell_type": "code",
   "execution_count": 26,
   "id": "4e2b4ce8",
   "metadata": {
    "ExecuteTime": {
     "end_time": "2021-08-12T20:51:19.902661Z",
     "start_time": "2021-08-12T20:51:19.733774Z"
    }
   },
   "outputs": [
    {
     "data": {
      "image/png": "[encoded data removed]",
      "text/plain": [
       "<Figure size 432x288 with 1 Axes>"
      ]
     },
     "metadata": {
      "needs_background": "light"
     },
     "output_type": "display_data"
    }
   ],
   "source": [
    "sm.graphics.qqplot(model.resid, line='45');"
   ]
  },
  {
   "cell_type": "code",
   "execution_count": 27,
   "id": "8616fd5d",
   "metadata": {
    "ExecuteTime": {
     "end_time": "2021-08-12T20:51:20.059184Z",
     "start_time": "2021-08-12T20:51:19.904409Z"
    }
   },
   "outputs": [
    {
     "data": {
      "text/plain": [
       "<AxesSubplot:>"
      ]
     },
     "execution_count": 27,
     "metadata": {},
     "output_type": "execute_result"
    },
    {
     "data": {
      "image/png": "[encoded data removed]",
      "text/plain": [
       "<Figure size 432x288 with 1 Axes>"
      ]
     },
     "metadata": {
      "needs_background": "light"
     },
     "output_type": "display_data"
    }
   ],
   "source": [
    "scaled_resid = StandardScaler().fit_transform(pd.DataFrame(model.resid))\n",
    "pd.DataFrame(scaled_resid)[0].hist()"
   ]
  },
  {
   "cell_type": "code",
   "execution_count": 28,
   "id": "18ece33c",
   "metadata": {
    "ExecuteTime": {
     "end_time": "2021-08-12T20:51:20.071024Z",
     "start_time": "2021-08-12T20:51:20.061135Z"
    }
   },
   "outputs": [
    {
     "data": {
      "text/plain": [
       "LinearRegression()"
      ]
     },
     "execution_count": 28,
     "metadata": {},
     "output_type": "execute_result"
    }
   ],
   "source": [
    "linreg = LinearRegression()\n",
    "linreg.fit(X_train_processed, y_train)"
   ]
  },
  {
   "cell_type": "code",
   "execution_count": 29,
   "id": "a2dcc6c1",
   "metadata": {
    "ExecuteTime": {
     "end_time": "2021-08-12T20:51:20.082184Z",
     "start_time": "2021-08-12T20:51:20.073100Z"
    }
   },
   "outputs": [],
   "source": [
    "y_pred_train = linreg.predict(X_train_processed)\n",
    "y_pred_test = linreg.predict(X_test_processed)"
   ]
  },
  {
   "cell_type": "code",
   "execution_count": 30,
   "id": "606ac299",
   "metadata": {
    "ExecuteTime": {
     "end_time": "2021-08-12T20:51:20.088080Z",
     "start_time": "2021-08-12T20:51:20.084889Z"
    }
   },
   "outputs": [],
   "source": [
    "from sklearn.metrics import mean_squared_error, mean_absolute_error"
   ]
  },
  {
   "cell_type": "code",
   "execution_count": 31,
   "id": "55d1bbef",
   "metadata": {
    "ExecuteTime": {
     "end_time": "2021-08-12T20:51:20.097569Z",
     "start_time": "2021-08-12T20:51:20.090901Z"
    }
   },
   "outputs": [
    {
     "name": "stdout",
     "output_type": "stream",
     "text": [
      "\n",
      "MSE Train: 0.21936281141044192\n",
      "MSE Test:  0.21473002397001892\n",
      "\n",
      "MAE Train: 0.36278605473380343\n",
      "MAE Test:  0.35735291185907037\n",
      "\n"
     ]
    }
   ],
   "source": [
    "print(f\"\"\"\n",
    "MSE Train: {mean_squared_error(y_train, y_pred_train)}\n",
    "MSE Test:  {mean_squared_error(y_test, y_pred_test)}\n",
    "\n",
    "MAE Train: {mean_absolute_error(y_train, y_pred_train)}\n",
    "MAE Test:  {mean_absolute_error(y_test, y_pred_test)}\n",
    "\"\"\")"
   ]
  },
  {
   "cell_type": "markdown",
   "id": "e914bf79",
   "metadata": {},
   "source": [
    "# Interpret"
   ]
  },
  {
   "cell_type": "code",
   "execution_count": null,
   "id": "1cbcefaf",
   "metadata": {},
   "outputs": [],
   "source": []
  }
 ],
 "metadata": {
  "kernelspec": {
   "display_name": "Python 3",
   "language": "python",
   "name": "python3"
  },
  "language_info": {
   "codemirror_mode": {
    "name": "ipython",
    "version": 3
   },
   "file_extension": ".py",
   "mimetype": "text/x-python",
   "name": "python",
   "nbconvert_exporter": "python",
   "pygments_lexer": "ipython3",
   "version": "3.6.9"
  },
  "toc": {
   "base_numbering": 1,
   "nav_menu": {},
   "number_sections": false,
   "sideBar": true,
   "skip_h1_title": false,
   "title_cell": "Table of Contents",
   "title_sidebar": "Contents",
   "toc_cell": false,
   "toc_position": {
    "height": "calc(100% - 180px)",
    "left": "10px",
    "top": "150px",
    "width": "309px"
   },
   "toc_section_display": true,
   "toc_window_display": true
  }
 },
 "nbformat": 4,
 "nbformat_minor": 5
}
