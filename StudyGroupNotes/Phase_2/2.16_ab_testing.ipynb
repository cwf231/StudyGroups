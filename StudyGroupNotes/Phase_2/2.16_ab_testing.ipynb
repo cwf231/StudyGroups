{
 "cells": [
  {
   "cell_type": "markdown",
   "id": "1f47b737",
   "metadata": {},
   "source": [
    "## Phase 2.16\n",
    "\n",
    "# A/B Testing"
   ]
  },
  {
   "cell_type": "markdown",
   "id": "33d9d3dd",
   "metadata": {
    "id": "1y5ChsITYx30"
   },
   "source": [
    "## Objectives\n",
    "\n",
    "- Explain how A/B testing relates to hypothesis testing.\n",
    "- Describe the considerations in designing an A/B test.\n",
    "- Explain how to conduct an A/B test."
   ]
  },
  {
   "cell_type": "code",
   "execution_count": 1,
   "id": "db929f6a",
   "metadata": {
    "ExecuteTime": {
     "end_time": "2021-08-03T18:38:27.690869Z",
     "start_time": "2021-08-03T18:38:26.322282Z"
    },
    "id": "I72BTSUyYx33"
   },
   "outputs": [],
   "source": [
    "import pandas as pd\n",
    "import numpy as np\n",
    "\n",
    "import seaborn as sns\n",
    "import matplotlib.pyplot as plt\n",
    "\n",
    "import scipy.stats as stats"
   ]
  },
  {
   "cell_type": "markdown",
   "id": "b4e99a73",
   "metadata": {
    "id": "CPvjs-6vYx34"
   },
   "source": [
    "# Introduction to A/B Testing\n",
    "### Optimizing your website's funnel \n",
    "\n",
    "> **A/B testing** is a general methodology when you want to test a new feature and/or product (especially for online products)."
   ]
  },
  {
   "cell_type": "markdown",
   "id": "44cb5b32",
   "metadata": {
    "id": "PauMfQM1Yx34"
   },
   "source": [
    "## What Is It Exactly?\n",
    "![](https://acquire.io/wp-content/uploads/2019/11/21_11_19_What-is-Conversion-Rate-in-Business_-07.png)\n",
    "\n",
    "In the online world, the number of visitors on your website equals the number of opportunities you have to expand your business by acquiring new customers and build relationships by catering to existing ones. It is your conversion funnel that decides whether your website gets good traffic and converts more visitors.\n",
    "\n",
    "Businesses want visitors to take action (also called a conversion) on their website, and the rate at which a site can drive this is called its “conversion rate.” The more optimized your funnel, the higher is the conversion rate. One of the most important ways to optimize your website’s funnel in digital marketing is A/B testing.\n",
    "\n",
    "![](https://static.wingify.com/gcp/uploads/2019/12/Why-Should-You-A-B-Test-1024x352.png?tr=w-1024)"
   ]
  },
  {
   "cell_type": "markdown",
   "id": "2651c314",
   "metadata": {
    "id": "WAudlClpYx35"
   },
   "source": [
    "Rolling out new features and products can be exciting but also nerve-wracking! An organization hopes that new features, updates, etc. are going to be useful to their customers/users but there's the possibility they weren't as great as they hoped.\n",
    "\n",
    "A lot of times, we can make smaller, iterative improvements to a product before committing fully to making the change for all users or dedicating time committing to the new changes.\n",
    "\n",
    "What we can do is give out these changes to a relatively small group in order to gain insights on how we might want to proceed in making changes.\n",
    "\n",
    "These changes can include changes to the user-interface (UI) of a website, new recommendation models, new features, etc.\n",
    "![](https://github.com/Amberlynnyandow/bsc-lecture-material/blob/main/phase_2/images/mountains.png?raw=1)"
   ]
  },
  {
   "cell_type": "markdown",
   "id": "a8d72580",
   "metadata": {
    "id": "_lxm6ykuYx35"
   },
   "source": [
    "> A/B testing is best suited for informing us what improvements we can make on something we already have. It's not really meant to tell us what _new direction_ we should go.\n",
    ">\n",
    "> An analogy: A/B testing is meant to tell us how to climb up the mountain we're already on, but not necessarily _what_ mountain we should be on."
   ]
  },
  {
   "cell_type": "markdown",
   "id": "060339c1",
   "metadata": {
    "id": "YDAXyUwWYx36"
   },
   "source": [
    "## How Does It Relate to What We've Learned?"
   ]
  },
  {
   "cell_type": "markdown",
   "id": "98532f41",
   "metadata": {
    "id": "iFFZJ8LaYx37"
   },
   "source": [
    "At this point, you probably realized this is related to hypothesis testing! In fact, A/B testing is essentially **hypothesis testing** but applied to a business problem!\n",
    "\n",
    "We typically will carry out _experiments_ by comparing different groups to some control group. The simplest case is comparing a group exposed to the new changes to a group where no changes were made. But you can also have _many_ different groups each with slight variations!\n",
    "\n",
    "![](https://images.ctfassets.net/zw48pl1isxmc/4QYN7VubAAgEAGs0EuWguw/165749ef2fa01c1c004b6a167fd27835/ab-testing.png)\n",
    "> *Image source from [Optimizely](https://www.optimizely.com/optimization-glossary/ab-testing/)*"
   ]
  },
  {
   "cell_type": "markdown",
   "id": "b65c90f7",
   "metadata": {
    "id": "KTbj4ICrYx38"
   },
   "source": [
    "When we have these groups, we can use an appropriate hypothesis test to determine if it is _significant_ enough to warrant making the change. "
   ]
  },
  {
   "cell_type": "markdown",
   "id": "fb476232",
   "metadata": {
    "id": "Ku0mbNmZYx38"
   },
   "source": [
    "![](https://github.com/Amberlynnyandow/bsc-lecture-material/blob/main/phase_2/images/huh.png?raw=1)"
   ]
  },
  {
   "cell_type": "markdown",
   "id": "d89dbeb7",
   "metadata": {
    "id": "RgtRkM4iYx39"
   },
   "source": [
    "And this is where your skills of a data scientist can shine. It's not just doing the technical stuff correctly (though it is important!), but also how you communicate your findings to stakeholders who likely have limited knowledge of statistics."
   ]
  },
  {
   "cell_type": "markdown",
   "id": "55336302",
   "metadata": {
    "id": "2vnHw8tEYx39"
   },
   "source": [
    "# Designing an Experiment"
   ]
  },
  {
   "cell_type": "markdown",
   "id": "f3689c7f",
   "metadata": {
    "id": "RdOzVf3jYx39"
   },
   "source": [
    "## Consider Whom You're Testing\n",
    "It's important to consider _whom_ you're testing! You want to ensure that the participants in your experiment will be useful when drawing conclusions as the experiment concludes.\n",
    "\n",
    "Sometimes it's not feasible or worth the time to segment the population."
   ]
  },
  {
   "cell_type": "markdown",
   "id": "9fedd753",
   "metadata": {
    "id": "7GRHffcuYx39"
   },
   "source": [
    "## Be Aware of Initial Launch"
   ]
  },
  {
   "cell_type": "markdown",
   "id": "d2f7e46b",
   "metadata": {
    "id": "YrxQZwFjYx3-"
   },
   "source": [
    "### Novelty Effect\n",
    "\n",
    "> When users love the newest and latest but eventually the \"newness\" wears off"
   ]
  },
  {
   "cell_type": "markdown",
   "id": "824d696b",
   "metadata": {
    "id": "N94GJOcRYx3-"
   },
   "source": [
    "## Determining Size of Experiment\n",
    "\n",
    "When talking about hypothesis tests, *typically the larger the sample the better!* Does the same apply for A/B testing?\n",
    "\n",
    "Well in an A/B test, there's likely more to consider beyond getting a significant result. \n",
    "\n",
    "> *For example, if it takes a long time to collect data from an individual then it might be a better idea to limit the number of participants in an experiment.*\n",
    "\n",
    "It also might not be worth experimenting with many individuals since it might cost the business. \n",
    "\n",
    "> *For example, imagine if we test on a substantial number of participants but it turns out the users react **negatively** to that change and they quit using the product completely!*\n",
    "\n",
    "So we really want to ensure we determine the size of the experiment so we can still observe a significant difference without any negative effects!"
   ]
  },
  {
   "cell_type": "markdown",
   "id": "6e628a41",
   "metadata": {
    "id": "5vLLW_ZoYx3_"
   },
   "source": [
    "### We Need More Power!\n",
    "\n",
    "We really need to figure out a **sample size** but still keep the integrity of our hypothesis test to identify a signal in our experiment.\n",
    "\n",
    "We can probably think of the opposite based on what we learned; *what things change as we increase/decrease our sample size?*\n",
    "\n",
    "You might've thought of **confidence level** (related to $\\large \\alpha$) but the sample size can also affect $\\large \\beta$ (related to the probability of a type 2 error) and **effect size**!"
   ]
  },
  {
   "cell_type": "markdown",
   "id": "c44cf78b",
   "metadata": {
    "id": "3aGSuEWGYx3_"
   },
   "source": [
    "> **Remember:**\n",
    ">\n",
    "> $\\beta$ is the probability of a type II error occurring and is generally set to $20\\%$, similar to how $\\alpha$ is the probability of a type I error occurring and generally set to $5\\%$.\n",
    ">\n",
    "> Typically, we talk about **statistical power** which is simply $1-\\beta$."
   ]
  },
  {
   "cell_type": "markdown",
   "id": "f295f6f3",
   "metadata": {
    "id": "OGSFbVtGYx3_"
   },
   "source": [
    "*As we've seen before...* \n",
    "\n",
    "https://rpsychologist.com/d3/nhst/"
   ]
  },
  {
   "cell_type": "markdown",
   "id": "f367cbef",
   "metadata": {
    "id": "j7d_fj2OYx4A"
   },
   "source": [
    "For A/B tests, we can specify what confidence/significance level we want ($\\alpha$), the statistical power, and what effect we want to detect to determine the sample size. Sometimes we may need to limit the number of samples because of some constraint of the test and can sacrifice one of the other values like our confidence or effect size we hope to detect.\n",
    "\n",
    "Finding one of the parameters by setting the other three is called a **power analysis**. This can sometimes be a complicated process because we have to consider what kind of statistical test we'll use."
   ]
  },
  {
   "cell_type": "markdown",
   "id": "bbeb84ed",
   "metadata": {
    "id": "nG6oOdkZYx4A"
   },
   "source": [
    "# Example A/B Test\n",
    "## The Scenario"
   ]
  },
  {
   "cell_type": "markdown",
   "id": "1f8eb263",
   "metadata": {
    "id": "GilGEwyBYx4A"
   },
   "source": [
    "We've been hired on by a company looking to see if they can change out their UI to get more website visitors to create an account. \n",
    "\n",
    "*Their innovative idea? **Modify their sign-up button from pink to slightly more pink**!*"
   ]
  },
  {
   "cell_type": "markdown",
   "id": "3c22595c",
   "metadata": {
    "id": "moNSZx_kYx4A"
   },
   "source": [
    "## What's Our Goal?\n",
    "\n",
    "They've tasked us to figure out if it's worth them making the change. They say their developers really don't want to put in the effort unless we're confident it has an effect.\n",
    "\n",
    "***What information do we need before designing our experiment?***"
   ]
  },
  {
   "cell_type": "markdown",
   "id": "bb3df987",
   "metadata": {
    "id": "MRjoGAPKYx4A"
   },
   "source": [
    "### Here's What We Asked & This Is What They Said:"
   ]
  },
  {
   "cell_type": "markdown",
   "id": "b6378c74",
   "metadata": {
    "id": "6nXWyfplYx4B"
   },
   "source": [
    "* _How much of an increase in sign-ups is \"worth\" the change?_\n",
    "> The company says if they have an absolute increase in the conversion rate of **just $2\\%$**, it'd be worth making the change for the whole site!"
   ]
  },
  {
   "cell_type": "markdown",
   "id": "a6477071",
   "metadata": {
    "id": "GyTVaKrJYx4B"
   },
   "source": [
    "* _What's the time frame for this experiment?_\n",
    "> The company says we really can afford running the experiment for **a month** since they need to make a decision soon so they can focus on the next UI updates. (*I hear they're thinking of making the button a circle next!!*)"
   ]
  },
  {
   "cell_type": "markdown",
   "id": "6479c1b0",
   "metadata": {
    "id": "ygvSctOJYx4B"
   },
   "source": [
    "* _How many users visit the site per day?_\n",
    "> The company says they have about **$40,000$ unique visitors per day**."
   ]
  },
  {
   "cell_type": "markdown",
   "id": "4066a5e3",
   "metadata": {
    "id": "fIpuY5NNYx4B"
   },
   "source": [
    "* _As a baseline, about how many visitors actually end up signing-up?_\n",
    "> Turns out it was easier to look this up ourselves, and we find there's an **$8\\%$ chance** a visitor viewing the page will sign-up."
   ]
  },
  {
   "cell_type": "markdown",
   "id": "265922ec",
   "metadata": {
    "id": "_yAPuO3CYx4B"
   },
   "source": [
    "## Design the Experiment \n",
    "Obviously we won't be designing the experiment before the data are collected but we should still consider what has to go into this."
   ]
  },
  {
   "cell_type": "markdown",
   "id": "4d8112cc",
   "metadata": {
    "id": "PKPxI5ZLYx4B"
   },
   "source": [
    "***What would you consider before running the experiment?***"
   ]
  },
  {
   "cell_type": "markdown",
   "id": "c459c406",
   "metadata": {
    "id": "igN1OnyFYx4B"
   },
   "source": [
    "### What We Decided:\n",
    "\n",
    "- If we want to see an increase of $2\\%$ from $8\\%$ and we choose a typical power $0.8$ and a conservative $\\alpha=0.01$, we can do a _power analysis_ to find the minimum number of samples needed is about $4,700$ samples.\n",
    "- Since we're running for just a month and we have about $40,000$ visitors per day, we probably can sample a decent number of visitors without changing a lot of visitor's UI.\n",
    "- We'll have two groups; a control group that will have no change and an experiment group that will have the updated sign-up button."
   ]
  },
  {
   "cell_type": "markdown",
   "id": "87c9508a",
   "metadata": {
    "id": "3muczxkBYx4B"
   },
   "source": [
    "## Experiment Time!\n",
    "Let's pretend we already collected about a month's worth of data for the control and experiment groups.\n",
    "\n",
    "We have the data aggregated in separate files for the two groups. \n",
    "\n",
    "The grain of the data is one row per day's record. We recorded the number of pageviews (for the visitors assigned to a group) and the number of conversions (sign-ups)."
   ]
  },
  {
   "cell_type": "code",
   "execution_count": 2,
   "id": "d12ef8ec",
   "metadata": {
    "ExecuteTime": {
     "end_time": "2021-08-03T18:59:55.903051Z",
     "start_time": "2021-08-03T18:59:55.875616Z"
    },
    "id": "K26qLTTmYx4C"
   },
   "outputs": [],
   "source": [
    "# Load the data\n",
    "df_control = pd.read_csv('data/ab_control.csv', index_col=0)\n",
    "df_experiment = pd.read_csv('data/ab_experiment.csv', index_col=0)"
   ]
  },
  {
   "cell_type": "code",
   "execution_count": 3,
   "id": "f0dfffff",
   "metadata": {
    "ExecuteTime": {
     "end_time": "2021-08-03T18:59:56.836056Z",
     "start_time": "2021-08-03T18:59:56.819342Z"
    },
    "id": "PT5aObQrYx4C",
    "outputId": "1568e025-e302-4346-8585-eaf6797e77b7"
   },
   "outputs": [
    {
     "data": {
      "text/html": [
       "<div>\n",
       "<style scoped>\n",
       "    .dataframe tbody tr th:only-of-type {\n",
       "        vertical-align: middle;\n",
       "    }\n",
       "\n",
       "    .dataframe tbody tr th {\n",
       "        vertical-align: top;\n",
       "    }\n",
       "\n",
       "    .dataframe thead th {\n",
       "        text-align: right;\n",
       "    }\n",
       "</style>\n",
       "<table border=\"1\" class=\"dataframe\">\n",
       "  <thead>\n",
       "    <tr style=\"text-align: right;\">\n",
       "      <th></th>\n",
       "      <th>views</th>\n",
       "      <th>conversions</th>\n",
       "    </tr>\n",
       "  </thead>\n",
       "  <tbody>\n",
       "    <tr>\n",
       "      <th>0</th>\n",
       "      <td>7779</td>\n",
       "      <td>696</td>\n",
       "    </tr>\n",
       "    <tr>\n",
       "      <th>1</th>\n",
       "      <td>9150</td>\n",
       "      <td>790</td>\n",
       "    </tr>\n",
       "    <tr>\n",
       "      <th>2</th>\n",
       "      <td>10564</td>\n",
       "      <td>917</td>\n",
       "    </tr>\n",
       "    <tr>\n",
       "      <th>3</th>\n",
       "      <td>9923</td>\n",
       "      <td>847</td>\n",
       "    </tr>\n",
       "    <tr>\n",
       "      <th>4</th>\n",
       "      <td>10065</td>\n",
       "      <td>842</td>\n",
       "    </tr>\n",
       "    <tr>\n",
       "      <th>5</th>\n",
       "      <td>9720</td>\n",
       "      <td>834</td>\n",
       "    </tr>\n",
       "    <tr>\n",
       "      <th>6</th>\n",
       "      <td>9057</td>\n",
       "      <td>756</td>\n",
       "    </tr>\n",
       "    <tr>\n",
       "      <th>7</th>\n",
       "      <td>7485</td>\n",
       "      <td>642</td>\n",
       "    </tr>\n",
       "    <tr>\n",
       "      <th>8</th>\n",
       "      <td>8513</td>\n",
       "      <td>704</td>\n",
       "    </tr>\n",
       "    <tr>\n",
       "      <th>9</th>\n",
       "      <td>10723</td>\n",
       "      <td>876</td>\n",
       "    </tr>\n",
       "    <tr>\n",
       "      <th>10</th>\n",
       "      <td>10713</td>\n",
       "      <td>877</td>\n",
       "    </tr>\n",
       "    <tr>\n",
       "      <th>11</th>\n",
       "      <td>9999</td>\n",
       "      <td>848</td>\n",
       "    </tr>\n",
       "    <tr>\n",
       "      <th>12</th>\n",
       "      <td>8371</td>\n",
       "      <td>676</td>\n",
       "    </tr>\n",
       "    <tr>\n",
       "      <th>13</th>\n",
       "      <td>9479</td>\n",
       "      <td>681</td>\n",
       "    </tr>\n",
       "    <tr>\n",
       "      <th>14</th>\n",
       "      <td>8743</td>\n",
       "      <td>704</td>\n",
       "    </tr>\n",
       "    <tr>\n",
       "      <th>15</th>\n",
       "      <td>8943</td>\n",
       "      <td>719</td>\n",
       "    </tr>\n",
       "    <tr>\n",
       "      <th>16</th>\n",
       "      <td>9584</td>\n",
       "      <td>769</td>\n",
       "    </tr>\n",
       "    <tr>\n",
       "      <th>17</th>\n",
       "      <td>9412</td>\n",
       "      <td>748</td>\n",
       "    </tr>\n",
       "    <tr>\n",
       "      <th>18</th>\n",
       "      <td>9376</td>\n",
       "      <td>747</td>\n",
       "    </tr>\n",
       "    <tr>\n",
       "      <th>19</th>\n",
       "      <td>9392</td>\n",
       "      <td>746</td>\n",
       "    </tr>\n",
       "    <tr>\n",
       "      <th>20</th>\n",
       "      <td>8937</td>\n",
       "      <td>716</td>\n",
       "    </tr>\n",
       "    <tr>\n",
       "      <th>21</th>\n",
       "      <td>8512</td>\n",
       "      <td>691</td>\n",
       "    </tr>\n",
       "    <tr>\n",
       "      <th>22</th>\n",
       "      <td>8887</td>\n",
       "      <td>705</td>\n",
       "    </tr>\n",
       "  </tbody>\n",
       "</table>\n",
       "</div>"
      ],
      "text/plain": [
       "    views  conversions\n",
       "0    7779          696\n",
       "1    9150          790\n",
       "2   10564          917\n",
       "3    9923          847\n",
       "4   10065          842\n",
       "5    9720          834\n",
       "6    9057          756\n",
       "7    7485          642\n",
       "8    8513          704\n",
       "9   10723          876\n",
       "10  10713          877\n",
       "11   9999          848\n",
       "12   8371          676\n",
       "13   9479          681\n",
       "14   8743          704\n",
       "15   8943          719\n",
       "16   9584          769\n",
       "17   9412          748\n",
       "18   9376          747\n",
       "19   9392          746\n",
       "20   8937          716\n",
       "21   8512          691\n",
       "22   8887          705"
      ]
     },
     "execution_count": 3,
     "metadata": {},
     "output_type": "execute_result"
    }
   ],
   "source": [
    "df_control"
   ]
  },
  {
   "cell_type": "markdown",
   "id": "42ff9a9a",
   "metadata": {
    "id": "gbRyELQ7Yx4D"
   },
   "source": [
    "### Visualize Our Data\n",
    "Let's look at the data and see if we can notice anything visually"
   ]
  },
  {
   "cell_type": "code",
   "execution_count": 4,
   "id": "ddbef0f3",
   "metadata": {
    "ExecuteTime": {
     "end_time": "2021-08-03T19:00:34.899935Z",
     "start_time": "2021-08-03T19:00:34.437480Z"
    },
    "id": "T6dzYpvaYx4D",
    "outputId": "7d061364-362b-49b4-baec-fcc3619490b1"
   },
   "outputs": [
    {
     "data": {
      "image/png": "[encoded data removed]",
      "text/plain": [
       "<Figure size 720x432 with 2 Axes>"
      ]
     },
     "metadata": {
      "needs_background": "light"
     },
     "output_type": "display_data"
    }
   ],
   "source": [
    "fig, (ax0, ax1) = plt.subplots(nrows=2, figsize=(10,6))\n",
    "\n",
    "# Views\n",
    "ax0.set(title='Views')\n",
    "sns.kdeplot(data=df_control.views, ax=ax0, label='Control')\n",
    "sns.kdeplot(data=df_experiment.views, ax=ax0, label='Experiment')\n",
    "ax0.legend()\n",
    "\n",
    "# Conversions\n",
    "ax1.set(title='Conversions')\n",
    "sns.kdeplot(data=df_control.conversions, ax=ax1, label='Control')\n",
    "sns.kdeplot(data=df_experiment.conversions, ax=ax1, label='Experiment')\n",
    "ax1.legend()\n",
    "\n",
    "fig.tight_layout()"
   ]
  },
  {
   "cell_type": "markdown",
   "id": "34afd9c0",
   "metadata": {
    "id": "7cafbnqyYx4D"
   },
   "source": [
    "### Perform Statistical Test\n",
    "Since we are looking at the **frequency of conversions from views**, we can use the Chi-Square goodness-of-fit test.\n",
    "\n",
    "> *Pearson's chi-squared test is used to determine whether there is a statistically significant difference between the expected frequencies and the observed frequencies in one or more categories of a contingency table.*\n",
    "\n",
    "Chi-Square goodness of fit test is used to find out how the observed value of a given phenomena is significantly different from the expected value. \n",
    "\n",
    "So the first step is to get our data into a format of \"observed\" (experiment) vs \"expected\" (control)."
   ]
  },
  {
   "cell_type": "code",
   "execution_count": 5,
   "id": "911000cd",
   "metadata": {
    "ExecuteTime": {
     "end_time": "2021-08-03T19:03:23.754435Z",
     "start_time": "2021-08-03T19:03:23.750135Z"
    },
    "id": "XjlW2aRiYx4E"
   },
   "outputs": [],
   "source": [
    "# We'll just sum all the days together to see an overall change\n",
    "control_views = df_control['views'].sum()\n",
    "control_conv = df_control['conversions'].sum()\n",
    "\n",
    "experiment_views = df_experiment['views'].sum()\n",
    "experiment_conv = df_experiment['conversions'].sum()"
   ]
  },
  {
   "cell_type": "code",
   "execution_count": 6,
   "id": "f2494bdb",
   "metadata": {
    "ExecuteTime": {
     "end_time": "2021-08-03T19:04:22.658767Z",
     "start_time": "2021-08-03T19:04:22.653267Z"
    },
    "id": "DSU_JTKZYx4E",
    "outputId": "9b9ac6b8-4c38-41e0-e32d-1701e75a9e15"
   },
   "outputs": [
    {
     "name": "stdout",
     "output_type": "stream",
     "text": [
      "OBSERVED (expermiment):\n",
      "\t[ 17950 194564]\n",
      "EXPECTED (control):\n",
      "\t[ 17531 195796]\n"
     ]
    }
   ],
   "source": [
    "observations = np.array([\n",
    "    experiment_conv, \n",
    "    experiment_views - experiment_conv\n",
    "])\n",
    "expectations = np.array([\n",
    "    control_conv, \n",
    "    control_views - control_conv\n",
    "])\n",
    "\n",
    "print(f'OBSERVED (expermiment):\\n\\t{observations}')\n",
    "print(f'EXPECTED (control):\\n\\t{expectations}')"
   ]
  },
  {
   "cell_type": "code",
   "execution_count": 7,
   "id": "50b178e2",
   "metadata": {
    "ExecuteTime": {
     "end_time": "2021-08-03T19:05:06.419298Z",
     "start_time": "2021-08-03T19:05:06.411938Z"
    },
    "id": "G5-AXvw8Yx4E"
   },
   "outputs": [
    {
     "data": {
      "text/plain": [
       "Power_divergenceResult(statistic=17.766385974161416, pvalue=2.4975705608443254e-05)"
      ]
     },
     "execution_count": 7,
     "metadata": {},
     "output_type": "execute_result"
    }
   ],
   "source": [
    "stats.chisquare(f_obs=observations, f_exp=expectations)"
   ]
  },
  {
   "cell_type": "markdown",
   "id": "5f08fc40",
   "metadata": {},
   "source": [
    "> *Documentation:*\n",
    ">\n",
    "> *The chi-square test tests the null hypothesis that the categorical data\n",
    "has the given frequencies.*"
   ]
  },
  {
   "cell_type": "code",
   "execution_count": 10,
   "id": "390f328c",
   "metadata": {
    "ExecuteTime": {
     "end_time": "2021-08-03T19:09:04.769766Z",
     "start_time": "2021-08-03T19:09:04.764960Z"
    },
    "id": "3cCa5K9zYx4E",
    "outputId": "875ecb02-4c99-494e-9009-04142559d787"
   },
   "outputs": [
    {
     "name": "stdout",
     "output_type": "stream",
     "text": [
      "Percent Experiment Converted: 8.447%\n",
      "Percent Control Converted: 8.218%\n",
      "Difference between experiment & control 0.229%\n"
     ]
    }
   ],
   "source": [
    "experiment_percent = (experiment_conv/experiment_views)*100\n",
    "print(f'Percent Experiment Converted: {round(experiment_percent, 3)}%')\n",
    "\n",
    "control_percent = (control_conv/control_views)*100\n",
    "print(f'Percent Control Converted: {round(control_percent, 3)}%')\n",
    "\n",
    "diff = experiment_percent - control_percent\n",
    "print(f'Difference between experiment & control {round(diff, 3)}%')"
   ]
  },
  {
   "cell_type": "markdown",
   "id": "d232493e",
   "metadata": {
    "id": "lExlNcauYx4E"
   },
   "source": [
    "## Conclusion?\n",
    "\n",
    "We got a significant result! But although we're certain the effect isn't large enough for the company to make the change (at least based on what they told us).\n",
    "\n",
    "We might break the news like this:\n",
    "\n",
    "> _We're very confident that there was an observable effect in conversions by changing the buttons color. However, the observed effect was smaller than what was stated to make the change site-wide valuable._ \n",
    ">\n",
    "> _The difference in button color was observed to increase sign-ups by an absolute amount of about $0.2\\%$. Perhaps this change can still be made valuable since we are confident that the effect was real._"
   ]
  }
 ],
 "metadata": {
  "kernelspec": {
   "display_name": "Python 3",
   "language": "python",
   "name": "python3"
  },
  "language_info": {
   "codemirror_mode": {
    "name": "ipython",
    "version": 3
   },
   "file_extension": ".py",
   "mimetype": "text/x-python",
   "name": "python",
   "nbconvert_exporter": "python",
   "pygments_lexer": "ipython3",
   "version": "3.6.9"
  },
  "toc": {
   "base_numbering": 1,
   "nav_menu": {},
   "number_sections": false,
   "sideBar": true,
   "skip_h1_title": false,
   "title_cell": "Table of Contents",
   "title_sidebar": "Contents",
   "toc_cell": false,
   "toc_position": {
    "height": "calc(100% - 180px)",
    "left": "10px",
    "top": "150px",
    "width": "316.075px"
   },
   "toc_section_display": true,
   "toc_window_display": true
  }
 },
 "nbformat": 4,
 "nbformat_minor": 5
}
