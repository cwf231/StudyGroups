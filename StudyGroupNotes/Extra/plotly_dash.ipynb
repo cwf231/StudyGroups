{
 "cells": [
  {
   "cell_type": "markdown",
   "id": "5e153268",
   "metadata": {
    "slideshow": {
     "slide_type": "slide"
    }
   },
   "source": [
    "# Making Dashboards in Python"
   ]
  },
  {
   "cell_type": "markdown",
   "id": "5c74cce6",
   "metadata": {
    "slideshow": {
     "slide_type": "slide"
    }
   },
   "source": [
    "## Introduction to Dash\n",
    "- Dash Introduction: *https://dash.plotly.com/introduction*\n",
    "> *Dash is a productive Python framework for building web analytic applications.*\n",
    "> \n",
    "> *Written on top of Flask, Plotly.js, and React.js, Dash is ideal for building data visualization apps with highly custom user interfaces in pure Python. It's particularly suited for anyone who works with data in Python.*\n",
    "> \n",
    "> *Through a couple of simple patterns, Dash abstracts away all of the technologies and protocols that are required to build an interactive web-based application. Dash is simple enough that you can bind a user interface around your Python code in an afternoon.*"
   ]
  },
  {
   "cell_type": "markdown",
   "id": "affd84d9",
   "metadata": {
    "slideshow": {
     "slide_type": "slide"
    }
   },
   "source": [
    "### Resources\n",
    "- Homepage\n",
    "    - *https://plotly.com/dash/*\n",
    "- Dash Core Components\n",
    "    - *https://dash.plotly.com/dash-core-components*\n",
    "- Dash HTML Components\n",
    "    - *https://dash.plotly.com/dash-html-components*"
   ]
  },
  {
   "cell_type": "markdown",
   "id": "0180cdb1",
   "metadata": {
    "slideshow": {
     "slide_type": "slide"
    }
   },
   "source": [
    "# The Basics\n",
    "## Writing a `.py` file.\n",
    "\n",
    "- A `.py` file is a python file which can be run from your computer.\n",
    "- The code in the file is run, line-by-line, from top to bottom until the code is complete."
   ]
  },
  {
   "cell_type": "markdown",
   "id": "ae9d3380",
   "metadata": {
    "slideshow": {
     "slide_type": "slide"
    }
   },
   "source": [
    "***Basic Example***\n",
    "```python\n",
    "# Making a basic password generator.\n",
    "import pyperclip\n",
    "import random\n",
    "import string\n",
    "\n",
    "\n",
    "def copy_password_to_clipboard():\n",
    "    \"\"\"Copies a randomly generated password to the clipboard.\"\"\"\n",
    "    \n",
    "    # Getting characters to select from.\n",
    "    letters = string.ascii_letters\n",
    "    digits = string.digits\n",
    "    punct = string.punctuation\n",
    "    choices = list(letters + digits + punct)\n",
    "\n",
    "    # Get the user input for how long the password should be.\n",
    "    n_characters = input('Number of characters (default: 20):')\n",
    "    if not n_characters:\n",
    "        n_characters = 20\n",
    "    try:\n",
    "        n_characters = int(n_characters)\n",
    "    except:\n",
    "        print(f'{n_characters} is not a valid number of characters.')\n",
    "        quit()\n",
    "\n",
    "    # Select a the given number of characters.\n",
    "    password = ''.join([random.choice(choices) for _ in range(n_characters)])\n",
    "\n",
    "    # Copy to clipboard.\n",
    "    pyperclip.copy(password)\n",
    "\n",
    "    # Success!\n",
    "    print('Password successfully copied to clipboard!')\n",
    "    \n",
    "\n",
    "# The part of the file that runs.\n",
    "if __name__ == '__main__':\n",
    "    copy_password_to_clipboard()\n",
    "```"
   ]
  },
  {
   "cell_type": "markdown",
   "id": "fc11d288",
   "metadata": {
    "slideshow": {
     "slide_type": "slide"
    }
   },
   "source": [
    "# Making a Dashboard using Dash\n",
    "\n",
    "## Step 1: Building an App - Local Server"
   ]
  },
  {
   "cell_type": "markdown",
   "id": "e3046d20",
   "metadata": {
    "slideshow": {
     "slide_type": "subslide"
    }
   },
   "source": [
    "```python\n",
    "# Import libraries\n",
    "import dash\n",
    "import dash_core_components as dcc\n",
    "import dash_html_components as html\n",
    "```"
   ]
  },
  {
   "cell_type": "markdown",
   "id": "57dca0d7",
   "metadata": {
    "slideshow": {
     "slide_type": "subslide"
    }
   },
   "source": [
    "```python\n",
    "# Create an app.\n",
    "app = dash.Dash()\n",
    "app.title = 'My App'\n",
    "\n",
    "# Setup a simple html `div`.\n",
    "my_heading = html.H1('This is an <h1> text!')\n",
    "\n",
    "# Set the layout of the app.\n",
    "app.layout = html.Div(\n",
    "    id='main_div',\n",
    "    children=my_heading,\n",
    "    style={'width': '90%', 'margin': 'auto', 'padding': '30px'}\n",
    ")\n",
    "```"
   ]
  },
  {
   "cell_type": "markdown",
   "id": "3bc42391",
   "metadata": {
    "slideshow": {
     "slide_type": "subslide"
    }
   },
   "source": [
    "```python\n",
    "# Run the app.\n",
    "if __name__ == '__main__':\n",
    "    app.run_server(debug=True)\n",
    "```"
   ]
  },
  {
   "cell_type": "markdown",
   "id": "0dfaead2",
   "metadata": {},
   "source": [
    "> ```\n",
    "> Dash is running on http://127.0.0.1:8050/\n",
    "> \n",
    ">  * Serving Flask app 'dashboards' (lazy loading)\n",
    ">  * Environment: production\n",
    ">    WARNING: This is a development server. Do not use it in a production deployment.\n",
    ">    Use a production WSGI server instead.\n",
    ">  * Debug mode: on\n",
    ">\n",
    "> ```"
   ]
  },
  {
   "cell_type": "markdown",
   "id": "e20df843",
   "metadata": {
    "slideshow": {
     "slide_type": "slide"
    }
   },
   "source": [
    "## Step 2: Adding Elements"
   ]
  },
  {
   "cell_type": "markdown",
   "id": "9887b91f",
   "metadata": {
    "slideshow": {
     "slide_type": "subslide"
    }
   },
   "source": [
    "```python\n",
    "# Creating a graph.\n",
    "graph = dcc.Graph(id='graph')\n",
    "\n",
    "# Creating a dropdown.\n",
    "menu_items = [\n",
    "    dict(label='Height', value='Height'),\n",
    "    dict(label='Weight', value='Weight')\n",
    "]\n",
    "dropdown_menu = dcc.Dropdown(\n",
    "    id='dropdown',\n",
    "    options=menu_items,\n",
    "    value=None\n",
    ")\n",
    "\n",
    "# Creating a Graph / Dropdown Div\n",
    "graph_div = html.Div(\n",
    "    children=[graph, dropdown_menu],\n",
    "    style={\n",
    "        'margin-top': '100px',\n",
    "        'margin-bottom': '100px',\n",
    "        'margin-right': '15%',\n",
    "        'margin-left': '15%'\n",
    "    }\n",
    ")\n",
    "```"
   ]
  },
  {
   "cell_type": "markdown",
   "id": "54207899",
   "metadata": {
    "slideshow": {
     "slide_type": "subslide"
    }
   },
   "source": [
    "```python\n",
    "# Add this div to the layout.\n",
    "app.layout = html.Div(\n",
    "    id='main_div',\n",
    "    children=[my_heading, graph_div],\n",
    "    style={'width': '90%', 'margin': 'auto', 'padding': '30px'}\n",
    ")\n",
    "```"
   ]
  },
  {
   "cell_type": "markdown",
   "id": "790752eb",
   "metadata": {
    "slideshow": {
     "slide_type": "slide"
    }
   },
   "source": [
    "## Step 3: Adding Data / Interactivity"
   ]
  },
  {
   "cell_type": "markdown",
   "id": "ef490003",
   "metadata": {
    "slideshow": {
     "slide_type": "subslide"
    }
   },
   "source": [
    "```python\n",
    "# Add some imports.\n",
    "import pandas as pd\n",
    "import plotly.graph_objs as go\n",
    "from dash.dependencies import Input, Output\n",
    "from dash.exceptions import PreventUpdate\n",
    "\n",
    "# Load data at the start of the file.\n",
    "df = pd.read_csv('weight-height.csv')\n",
    "```"
   ]
  },
  {
   "cell_type": "markdown",
   "id": "be76d90c",
   "metadata": {
    "slideshow": {
     "slide_type": "slide"
    }
   },
   "source": [
    "### Adding a Callback\n",
    "\n",
    "- Dash Callbacks: *https://dash.plotly.com/basic-callbacks*"
   ]
  },
  {
   "cell_type": "markdown",
   "id": "4058a920",
   "metadata": {
    "slideshow": {
     "slide_type": "subslide"
    }
   },
   "source": [
    "```python\n",
    "# Callback\n",
    "@app.callback(Output('graph', 'figure'), Input('dropdown', 'value'))\n",
    "def update_figure(string):\n",
    "    \"\"\"\n",
    "    Input: string from dropdown which updates\n",
    "        the paramaters of the graph.\n",
    "    Output: graph_object.\n",
    "    \"\"\"\n",
    "    \n",
    "    # By default, the `Input` is None.\n",
    "    if not string:\n",
    "        raise PreventUpdate\n",
    "        \n",
    "    traces = []\n",
    "    traces.append(\n",
    "        go.Histogram(x=df[string][df.Gender=='Male'], name='Male')\n",
    "        )\n",
    "    traces.append(\n",
    "        go.Histogram(x=df[string][df.Gender=='Female'], name='Female')\n",
    "        )\n",
    "    \n",
    "    return dict(\n",
    "        data=traces,\n",
    "        layout=go.Layout(\n",
    "            title=f'{string} Distribution')\n",
    "    )\n",
    "```"
   ]
  },
  {
   "cell_type": "markdown",
   "id": "e009fede",
   "metadata": {
    "slideshow": {
     "slide_type": "slide"
    }
   },
   "source": [
    "## Step 4: Styling\n",
    "\n",
    "- Dash Bootstrap Components - Themes: *https://dash-bootstrap-components.opensource.faculty.ai/docs/themes/explorer/*"
   ]
  },
  {
   "cell_type": "markdown",
   "id": "b2de698d",
   "metadata": {
    "slideshow": {
     "slide_type": "subslide"
    }
   },
   "source": [
    "```python\n",
    "# Add import.\n",
    "import dash_bootstrap_components as dbc\n",
    "\n",
    "# Adjust app.\n",
    "app = dash.Dash(__name__, external_stylesheets=[dbc.themes.SOLAR])\n",
    "```"
   ]
  },
  {
   "cell_type": "markdown",
   "id": "b4efcea1",
   "metadata": {},
   "source": [
    "- Dash Bootstrap Components: *https://dash-bootstrap-components.opensource.faculty.ai/docs/components/alert/*"
   ]
  }
 ],
 "metadata": {
  "kernelspec": {
   "display_name": "Python [conda env:learn-env] *",
   "language": "python",
   "name": "conda-env-learn-env-py"
  },
  "language_info": {
   "codemirror_mode": {
    "name": "ipython",
    "version": 3
   },
   "file_extension": ".py",
   "mimetype": "text/x-python",
   "name": "python",
   "nbconvert_exporter": "python",
   "pygments_lexer": "ipython3",
   "version": "3.6.9"
  },
  "toc": {
   "base_numbering": 1,
   "nav_menu": {},
   "number_sections": false,
   "sideBar": true,
   "skip_h1_title": false,
   "title_cell": "Table of Contents",
   "title_sidebar": "Contents",
   "toc_cell": false,
   "toc_position": {
    "height": "calc(100% - 180px)",
    "left": "10px",
    "top": "150px",
    "width": "278px"
   },
   "toc_section_display": true,
   "toc_window_display": true
  }
 },
 "nbformat": 4,
 "nbformat_minor": 5
}
