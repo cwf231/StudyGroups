{
 "cells": [
  {
   "cell_type": "markdown",
   "id": "530406c8",
   "metadata": {},
   "source": [
    "## Phase 1.09\n",
    "\n",
    "# APIs"
   ]
  },
  {
   "cell_type": "markdown",
   "id": "9869cae7",
   "metadata": {},
   "source": [
    "## What is an API?\n",
    "An ***Application Programming Interfaces*** *(API)* is a communication protocol between 2 software systems. \n",
    "\n",
    "It describes the mechanism through which if one system requests some information using a predefined format, a remote system responds with an outcome that gets sent back to the first system.\n",
    "\n",
    "### Request / Response Cycle\n",
    "<img src='../images/new_client-server-illustration.png' width=600>"
   ]
  },
  {
   "cell_type": "markdown",
   "id": "2c2f6ae6",
   "metadata": {},
   "source": [
    "## API Keys\n",
    "### What is an API Key?\n",
    "- An application programming interface key (API key) is a unique identifier used to authenticate a user, developer, or calling program to an API.\n",
    "\n",
    "- API Keys are used to track activity from the Server-side and sometimes limit / charge based on a criteria.\n",
    "    - *Ex: Some APIs allow a daily request-limit before you need to pay for a subscription.*\n",
    "    \n",
    "> *Yelp - Rate Limiting:* *https://www.yelp.com/developers/documentation/v3/rate_limiting*\n",
    "\n",
    "---\n",
    "\n",
    "- An API key should be treated like a password. These keys should never be shared or published in notebooks / `.py` files.\n",
    "- If using an API Key in a project, it should never be printed or displayed."
   ]
  },
  {
   "cell_type": "markdown",
   "id": "7d95087b",
   "metadata": {},
   "source": [
    "### Using API Keys in Jupyter Notebooks\n",
    "#### Secret Files / Directories\n",
    "1. Create a *dot-directory* (ex: `Desktop/.secret/`)\n",
    "2. Inside this directory, create a `json` file with the password stored.\n",
    "    - `{\"api_key\": \"x01x01x01x01\"}`\n",
    "3. Load this file manually.\n",
    "\n",
    "> ```python\n",
    "> import json\n",
    "> \n",
    "> F_PATH = 'Desktop/.secret/my_secrets.json'\n",
    "> with open(F_PATH) as f:\n",
    ">     SECRET =  json.load(f).get('api_key')\n",
    "> ```"
   ]
  },
  {
   "cell_type": "markdown",
   "id": "6fa17a3a",
   "metadata": {},
   "source": [
    "#### Environment Variables ***(Preferred)***\n",
    "- `.bash_profile` *(or `.zshrc`)*\n",
    "\n",
    "```bash\n",
    "# >>> conda initialize >>>\n",
    "# !! Contents within this block are managed by 'conda init' !!\n",
    "[...]\n",
    "# <<< conda initialize <<<\n",
    "\n",
    "export MY_SECRET=\"a super secret code\"\n",
    "export [...]\n",
    "\n",
    "alias jnb=\"jupyter notebook\"\n",
    "alias [...]\n",
    "```"
   ]
  },
  {
   "cell_type": "code",
   "execution_count": 1,
   "id": "de9ac993",
   "metadata": {
    "ExecuteTime": {
     "end_time": "2021-07-29T23:33:28.022404Z",
     "start_time": "2021-07-29T23:33:28.013102Z"
    }
   },
   "outputs": [],
   "source": [
    "import os"
   ]
  },
  {
   "cell_type": "code",
   "execution_count": 2,
   "id": "c2e739a7",
   "metadata": {
    "ExecuteTime": {
     "end_time": "2021-07-29T23:33:28.036915Z",
     "start_time": "2021-07-29T23:33:28.025511Z"
    }
   },
   "outputs": [
    {
     "data": {
      "text/plain": [
       "'a super secret code'"
      ]
     },
     "execution_count": 2,
     "metadata": {},
     "output_type": "execute_result"
    }
   ],
   "source": [
    "os.environ.get('MY_SECRET', 'No environment variable found.')"
   ]
  },
  {
   "cell_type": "markdown",
   "id": "02cbe023",
   "metadata": {},
   "source": [
    "# Using Requests\n",
    "> *Official Documentation: https://docs.python-requests.org/en/master/*"
   ]
  },
  {
   "cell_type": "code",
   "execution_count": 3,
   "id": "dbcc9984",
   "metadata": {
    "ExecuteTime": {
     "end_time": "2021-07-29T23:33:28.227846Z",
     "start_time": "2021-07-29T23:33:28.040713Z"
    }
   },
   "outputs": [],
   "source": [
    "import requests"
   ]
  },
  {
   "cell_type": "markdown",
   "id": "4a1025c4",
   "metadata": {},
   "source": [
    "> *URL: https://en.wikipedia.org/wiki/Red-bellied_black_snake*"
   ]
  },
  {
   "cell_type": "code",
   "execution_count": 4,
   "id": "18cfd664",
   "metadata": {
    "ExecuteTime": {
     "end_time": "2021-07-29T23:33:28.638761Z",
     "start_time": "2021-07-29T23:33:28.230577Z"
    }
   },
   "outputs": [],
   "source": [
    "URL = 'https://en.wikipedia.org/wiki/Red-bellied_black_snake'\n",
    "r = requests.get(URL)"
   ]
  },
  {
   "cell_type": "code",
   "execution_count": 5,
   "id": "70437e2a",
   "metadata": {
    "ExecuteTime": {
     "end_time": "2021-07-29T23:33:28.648194Z",
     "start_time": "2021-07-29T23:33:28.644285Z"
    }
   },
   "outputs": [
    {
     "data": {
      "text/plain": [
       "<Response [200]>"
      ]
     },
     "execution_count": 5,
     "metadata": {},
     "output_type": "execute_result"
    }
   ],
   "source": [
    "r"
   ]
  },
  {
   "cell_type": "code",
   "execution_count": 6,
   "id": "6e9666a7",
   "metadata": {
    "ExecuteTime": {
     "end_time": "2021-07-29T23:33:28.654417Z",
     "start_time": "2021-07-29T23:33:28.650847Z"
    }
   },
   "outputs": [
    {
     "name": "stdout",
     "output_type": "stream",
     "text": [
      "It worked!\n",
      "\tStatus Code: 200\n"
     ]
    }
   ],
   "source": [
    "if r.ok:\n",
    "    print(f'It worked!\\n\\tStatus Code: {r.status_code}')\n",
    "else:\n",
    "    print(f'Not ok!\\n\\tStatus Code: {r.status_code}')"
   ]
  },
  {
   "cell_type": "code",
   "execution_count": 7,
   "id": "bd846455",
   "metadata": {
    "ExecuteTime": {
     "end_time": "2021-07-29T23:33:28.660966Z",
     "start_time": "2021-07-29T23:33:28.657009Z"
    }
   },
   "outputs": [
    {
     "data": {
      "text/plain": [
       "{'Date': 'Thu, 29 Jul 2021 00:51:54 GMT', 'Server': 'mw2367.codfw.wmnet', 'X-Content-Type-Options': 'nosniff', 'P3p': 'CP=\"See https://en.wikipedia.org/wiki/Special:CentralAutoLogin/P3P for more info.\"', 'Content-Language': 'en', 'Vary': 'Accept-Encoding,Cookie,Authorization', 'Last-Modified': 'Thu, 29 Jul 2021 00:47:23 GMT', 'Content-Type': 'text/html; charset=UTF-8', 'Content-Encoding': 'gzip', 'Age': '81696', 'X-Cache': 'cp1077 hit, cp1083 hit/5', 'X-Cache-Status': 'hit-front', 'Server-Timing': 'cache;desc=\"hit-front\", host;desc=\"cp1083\"', 'Strict-Transport-Security': 'max-age=106384710; includeSubDomains; preload', 'Report-To': '{ \"group\": \"wm_nel\", \"max_age\": 86400, \"endpoints\": [{ \"url\": \"https://intake-logging.wikimedia.org/v1/events?stream=w3c.reportingapi.network_error&schema_uri=/w3c/reportingapi/network_error/1.0.0\" }] }', 'NEL': '{ \"report_to\": \"wm_nel\", \"max_age\": 86400, \"failure_fraction\": 0.05, \"success_fraction\": 0.0}', 'Permissions-Policy': 'interest-cohort=()', 'Set-Cookie': 'WMF-Last-Access=29-Jul-2021;Path=/;HttpOnly;secure;Expires=Mon, 30 Aug 2021 12:00:00 GMT, WMF-Last-Access-Global=29-Jul-2021;Path=/;Domain=.wikipedia.org;HttpOnly;secure;Expires=Mon, 30 Aug 2021 12:00:00 GMT, GeoIP=US:NH:Dover:43.19:-70.89:v4; Path=/; secure; Domain=.wikipedia.org', 'X-Client-IP': '24.61.111.57', 'Cache-Control': 'private, s-maxage=0, max-age=0, must-revalidate', 'Accept-Ranges': 'bytes', 'Content-Length': '39040', 'Connection': 'keep-alive'}"
      ]
     },
     "execution_count": 7,
     "metadata": {},
     "output_type": "execute_result"
    }
   ],
   "source": [
    "r.headers"
   ]
  },
  {
   "cell_type": "code",
   "execution_count": 8,
   "id": "02b69cae",
   "metadata": {
    "ExecuteTime": {
     "end_time": "2021-07-29T23:33:28.667883Z",
     "start_time": "2021-07-29T23:33:28.663267Z"
    }
   },
   "outputs": [
    {
     "data": {
      "text/plain": [
       "'text/html; charset=UTF-8'"
      ]
     },
     "execution_count": 8,
     "metadata": {},
     "output_type": "execute_result"
    }
   ],
   "source": [
    "r.headers.get('content-type')"
   ]
  },
  {
   "cell_type": "code",
   "execution_count": 9,
   "id": "04a0bb39",
   "metadata": {
    "ExecuteTime": {
     "end_time": "2021-07-29T23:33:28.676968Z",
     "start_time": "2021-07-29T23:33:28.670941Z"
    }
   },
   "outputs": [
    {
     "data": {
      "text/plain": [
       "'UTF-8'"
      ]
     },
     "execution_count": 9,
     "metadata": {},
     "output_type": "execute_result"
    }
   ],
   "source": [
    "r.encoding"
   ]
  },
  {
   "cell_type": "code",
   "execution_count": 10,
   "id": "8089d959",
   "metadata": {
    "ExecuteTime": {
     "end_time": "2021-07-29T23:33:28.686615Z",
     "start_time": "2021-07-29T23:33:28.680581Z"
    },
    "scrolled": false
   },
   "outputs": [
    {
     "data": {
      "text/plain": [
       "'<!DOCTYPE html>\\n<html class=\"client-nojs\" lang=\"en\" dir=\"ltr\">\\n<head>\\n<meta charset=\"UTF-8\"/>\\n<title>Red-bellied black snake - Wikipedia</title>\\n<script>document.documentElement.className=\"client-js\";RLCONF={\"wgBreakFrames\":!1,\"wgSeparatorTransformTable\":[\"\",\"\"],\"wgDigitTransformTable\":[\"\",\"\"],\"wgDe'"
      ]
     },
     "execution_count": 10,
     "metadata": {},
     "output_type": "execute_result"
    }
   ],
   "source": [
    "r.text[:300]"
   ]
  },
  {
   "cell_type": "markdown",
   "id": "14d54402",
   "metadata": {},
   "source": [
    "# APIs: Yelp Demo from Curriculum\n",
    "\n",
    "> - *Getting started: https://www.yelp.com/developers/documentation/v3/get_started*\n",
    "> - *Authentication: https://www.yelp.com/developers/documentation/v3/authentication*\n",
    "> - *Search Parameters: https://www.yelp.com/developers/documentation/v3/business_search*\n",
    "\n",
    "---\n",
    "\n",
    "```python\n",
    "term = 'Mexican'\n",
    "location = 'Astoria NY'\n",
    "SEARCH_LIMIT = 10\n",
    "\n",
    "url = 'https://api.yelp.com/v3/businesses/search'\n",
    "\n",
    "headers = {\n",
    "        'Authorization': f'Bearer {api_key}',\n",
    "    }\n",
    "\n",
    "url_params = {\n",
    "                'term': term.replace(' ', '+'),\n",
    "                'location': location.replace(' ', '+'),\n",
    "                'limit': SEARCH_LIMIT\n",
    "            }\n",
    "response = requests.get(url, headers=headers, params=url_params)\n",
    "```"
   ]
  },
  {
   "cell_type": "markdown",
   "id": "6d8e9771",
   "metadata": {},
   "source": [
    "# Practice: Using an API\n",
    "\n",
    "We'll be experimenting with using an API by accessing a free API for *Formula One*.\n",
    "> *http://ergast.com/mrd/*"
   ]
  },
  {
   "cell_type": "code",
   "execution_count": 11,
   "id": "91811c20",
   "metadata": {
    "ExecuteTime": {
     "end_time": "2021-07-29T23:33:29.092639Z",
     "start_time": "2021-07-29T23:33:28.689221Z"
    }
   },
   "outputs": [
    {
     "data": {
      "text/plain": [
       "True"
      ]
     },
     "execution_count": 11,
     "metadata": {},
     "output_type": "execute_result"
    }
   ],
   "source": [
    "# Request for json of Race Results from 2021.\n",
    "URL = 'http://ergast.com/api/f1/2021/1/results.json'\n",
    "r = requests.get(URL)\n",
    "r.ok"
   ]
  },
  {
   "cell_type": "code",
   "execution_count": 12,
   "id": "a1ef09f9",
   "metadata": {
    "ExecuteTime": {
     "end_time": "2021-07-29T23:33:29.097160Z",
     "start_time": "2021-07-29T23:33:29.094679Z"
    }
   },
   "outputs": [],
   "source": [
    "import json"
   ]
  },
  {
   "cell_type": "code",
   "execution_count": 13,
   "id": "830fa630",
   "metadata": {
    "ExecuteTime": {
     "end_time": "2021-07-29T23:33:29.105208Z",
     "start_time": "2021-07-29T23:33:29.099879Z"
    },
    "scrolled": true
   },
   "outputs": [
    {
     "data": {
      "text/plain": [
       "dict"
      ]
     },
     "execution_count": 13,
     "metadata": {},
     "output_type": "execute_result"
    }
   ],
   "source": [
    "# Save data into json format.\n",
    "data = json.loads(r.content)\n",
    "type(data)"
   ]
  },
  {
   "cell_type": "code",
   "execution_count": 14,
   "id": "980c6fe2",
   "metadata": {
    "ExecuteTime": {
     "end_time": "2021-07-29T23:33:29.112299Z",
     "start_time": "2021-07-29T23:33:29.107583Z"
    }
   },
   "outputs": [
    {
     "data": {
      "text/plain": [
       "dict_keys(['MRData'])"
      ]
     },
     "execution_count": 14,
     "metadata": {},
     "output_type": "execute_result"
    }
   ],
   "source": [
    "# Explore!\n",
    "data.keys()"
   ]
  },
  {
   "cell_type": "code",
   "execution_count": 15,
   "id": "8e5feccf",
   "metadata": {
    "ExecuteTime": {
     "end_time": "2021-07-29T23:33:29.119367Z",
     "start_time": "2021-07-29T23:33:29.114872Z"
    }
   },
   "outputs": [
    {
     "data": {
      "text/plain": [
       "dict_keys(['xmlns', 'series', 'url', 'limit', 'offset', 'total', 'RaceTable'])"
      ]
     },
     "execution_count": 15,
     "metadata": {},
     "output_type": "execute_result"
    }
   ],
   "source": [
    "data['MRData'].keys()"
   ]
  },
  {
   "cell_type": "code",
   "execution_count": 16,
   "id": "783f69d7",
   "metadata": {
    "ExecuteTime": {
     "end_time": "2021-07-29T23:33:29.128929Z",
     "start_time": "2021-07-29T23:33:29.122776Z"
    },
    "scrolled": true
   },
   "outputs": [
    {
     "data": {
      "text/plain": [
       "dict_keys(['season', 'round', 'url', 'raceName', 'Circuit', 'date', 'time', 'Results'])"
      ]
     },
     "execution_count": 16,
     "metadata": {},
     "output_type": "execute_result"
    }
   ],
   "source": [
    "races = data['MRData']['RaceTable']['Races'][0]\n",
    "races.keys()"
   ]
  },
  {
   "cell_type": "code",
   "execution_count": 17,
   "id": "6a92f996",
   "metadata": {
    "ExecuteTime": {
     "end_time": "2021-07-29T23:33:29.138096Z",
     "start_time": "2021-07-29T23:33:29.131700Z"
    },
    "scrolled": false
   },
   "outputs": [
    {
     "data": {
      "text/plain": [
       "{'number': '44',\n",
       " 'position': '1',\n",
       " 'positionText': '1',\n",
       " 'points': '25',\n",
       " 'Driver': {'driverId': 'hamilton',\n",
       "  'permanentNumber': '44',\n",
       "  'code': 'HAM',\n",
       "  'url': 'http://en.wikipedia.org/wiki/Lewis_Hamilton',\n",
       "  'givenName': 'Lewis',\n",
       "  'familyName': 'Hamilton',\n",
       "  'dateOfBirth': '1985-01-07',\n",
       "  'nationality': 'British'},\n",
       " 'Constructor': {'constructorId': 'mercedes',\n",
       "  'url': 'http://en.wikipedia.org/wiki/Mercedes-Benz_in_Formula_One',\n",
       "  'name': 'Mercedes',\n",
       "  'nationality': 'German'},\n",
       " 'grid': '2',\n",
       " 'laps': '56',\n",
       " 'status': 'Finished',\n",
       " 'Time': {'millis': '5523897', 'time': '1:32:03.897'},\n",
       " 'FastestLap': {'rank': '4',\n",
       "  'lap': '44',\n",
       "  'Time': {'time': '1:34.015'},\n",
       "  'AverageSpeed': {'units': 'kph', 'speed': '207.235'}}}"
      ]
     },
     "execution_count": 17,
     "metadata": {},
     "output_type": "execute_result"
    }
   ],
   "source": [
    "races['Results'][0]"
   ]
  },
  {
   "cell_type": "markdown",
   "id": "b3fdbdd5",
   "metadata": {},
   "source": [
    "*If you were wondering when you'd use the skills from the **JSON Lab**...here we go!*\n",
    "\n",
    "*Let's come up with some questions we can answer.*"
   ]
  },
  {
   "cell_type": "code",
   "execution_count": 18,
   "id": "de27af1b",
   "metadata": {
    "ExecuteTime": {
     "end_time": "2021-07-29T23:33:29.145563Z",
     "start_time": "2021-07-29T23:33:29.141631Z"
    },
    "scrolled": false
   },
   "outputs": [],
   "source": [
    "# Print the finishers for race#1 this season.\n",
    "race_1 = races['Results']"
   ]
  },
  {
   "cell_type": "code",
   "execution_count": 19,
   "id": "2b780d14",
   "metadata": {
    "ExecuteTime": {
     "end_time": "2021-07-29T23:33:29.154088Z",
     "start_time": "2021-07-29T23:33:29.148648Z"
    }
   },
   "outputs": [
    {
     "data": {
      "text/plain": [
       "{'number': '9',\n",
       " 'position': '20',\n",
       " 'positionText': 'R',\n",
       " 'points': '0',\n",
       " 'Driver': {'driverId': 'mazepin',\n",
       "  'permanentNumber': '9',\n",
       "  'code': 'MAZ',\n",
       "  'url': 'http://en.wikipedia.org/wiki/Nikita_Mazepin',\n",
       "  'givenName': 'Nikita',\n",
       "  'familyName': 'Mazepin',\n",
       "  'dateOfBirth': '1999-03-02',\n",
       "  'nationality': 'Russian'},\n",
       " 'Constructor': {'constructorId': 'haas',\n",
       "  'url': 'http://en.wikipedia.org/wiki/Haas_F1_Team',\n",
       "  'name': 'Haas F1 Team',\n",
       "  'nationality': 'American'},\n",
       " 'grid': '19',\n",
       " 'laps': '0',\n",
       " 'status': 'Accident'}"
      ]
     },
     "execution_count": 19,
     "metadata": {},
     "output_type": "execute_result"
    }
   ],
   "source": [
    "race_1[-1]"
   ]
  },
  {
   "cell_type": "code",
   "execution_count": 20,
   "id": "c3152c3e",
   "metadata": {
    "ExecuteTime": {
     "end_time": "2021-07-29T23:33:29.163797Z",
     "start_time": "2021-07-29T23:33:29.157163Z"
    }
   },
   "outputs": [
    {
     "name": "stdout",
     "output_type": "stream",
     "text": [
      "1. Lewis Hamilton\n",
      "2. Max Verstappen\n",
      "3. Valtteri Bottas\n",
      "4. Lando Norris\n",
      "5. Sergio Pérez\n",
      "6. Charles Leclerc\n",
      "7. Daniel Ricciardo\n",
      "8. Carlos Sainz\n",
      "9. Yuki Tsunoda\n",
      "10. Lance Stroll\n",
      "11. Kimi Räikkönen\n",
      "12. Antonio Giovinazzi\n",
      "13. Esteban Ocon\n",
      "14. George Russell\n",
      "15. Sebastian Vettel\n",
      "16. Mick Schumacher\n",
      "17. Pierre Gasly\n",
      "18. Nicholas Latifi\n",
      "19. Fernando Alonso\n",
      "20. Nikita Mazepin\n"
     ]
    }
   ],
   "source": [
    "for driver_dct in race_1:\n",
    "    P = driver_dct['position']\n",
    "    FIRST = driver_dct['Driver']['givenName']\n",
    "    LAST = driver_dct['Driver']['familyName']\n",
    "    print(f'{P}. {FIRST} {LAST}')"
   ]
  },
  {
   "cell_type": "code",
   "execution_count": null,
   "id": "2138e12d",
   "metadata": {},
   "outputs": [],
   "source": []
  }
 ],
 "metadata": {
  "kernelspec": {
   "display_name": "Python 3",
   "language": "python",
   "name": "python3"
  },
  "language_info": {
   "codemirror_mode": {
    "name": "ipython",
    "version": 3
   },
   "file_extension": ".py",
   "mimetype": "text/x-python",
   "name": "python",
   "nbconvert_exporter": "python",
   "pygments_lexer": "ipython3",
   "version": "3.6.9"
  },
  "toc": {
   "base_numbering": 1,
   "nav_menu": {},
   "number_sections": false,
   "sideBar": true,
   "skip_h1_title": false,
   "title_cell": "Table of Contents",
   "title_sidebar": "Contents",
   "toc_cell": false,
   "toc_position": {
    "height": "calc(100% - 180px)",
    "left": "10px",
    "top": "150px",
    "width": "237px"
   },
   "toc_section_display": true,
   "toc_window_display": true
  }
 },
 "nbformat": 4,
 "nbformat_minor": 5
}
