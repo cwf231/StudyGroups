{
 "cells": [
  {
   "cell_type": "markdown",
   "id": "8ffc6aab",
   "metadata": {},
   "source": [
    "## Phase 1.06 - 1.07\n",
    "\n",
    "# SQL and Relational Databases"
   ]
  },
  {
   "cell_type": "markdown",
   "id": "bba668e9",
   "metadata": {},
   "source": [
    "---\n",
    "\n",
    "# Day 1\n",
    "## What is a Database?\n",
    "- In general, databases store sets of data that can be queried for use in other applications. \n",
    "- A database management system supports the development, administration and use of database platforms."
   ]
  },
  {
   "cell_type": "markdown",
   "id": "3e366678",
   "metadata": {
    "id": "bAXMam2mXlUm"
   },
   "source": [
    "\n",
    "### What is a Relational Database? \n",
    "- A *relational database management system* (**RDBMS**) is a type of DBMS with a row-based table structure that connects related data elements and includes functions that maintain the security, accuracy, integrity and consistency of the data.\n",
    "- The most basic **RDBMS** functions are related to *create, read, update and delete* operations, collectively known as **CRUD**."
   ]
  },
  {
   "cell_type": "markdown",
   "id": "e9297698",
   "metadata": {
    "id": "EHQmpZ0-XlUn"
   },
   "source": [
    "### What is SQL?\n",
    "\n",
    "- **SQL** (usually pronounced like the word “sequel”) stands for Structured Query Language.\n",
    "- A programming language used to communicate with data stored in a **RDBMS** (relational database management system).\n",
    "- SQL syntax is similar to the English language, which makes it relatively easy to write, read, and interpret."
   ]
  },
  {
   "cell_type": "markdown",
   "id": "114108de",
   "metadata": {
    "id": "yZRDCYBXXlUn"
   },
   "source": [
    "### Schema\n",
    "A relational database schema helps you to organize and understand the structure of a database by showing how all of the tables are related to each other.\n",
    "<img src='https://github.com/yishuen/studygroups-070620pt/blob/master/mod-1/images/employees-schema.png?raw=1'>"
   ]
  },
  {
   "cell_type": "markdown",
   "id": "2370f7ea",
   "metadata": {},
   "source": [
    "### Relationships\n",
    "\n",
    "The logical association among entities is called relationship. Relationships are mapped between entities in various ways. \n",
    "\n",
    "**Relationship Mappings**\n",
    "\n",
    "- one to one\n",
    "- one to many\n",
    "- many to many\n"
   ]
  },
  {
   "cell_type": "markdown",
   "id": "ada5ade2",
   "metadata": {
    "id": "C2_Kz8wpXlUo"
   },
   "source": [
    "### One to One Relationship\n",
    "<img src=\"https://github.com/yishuen/studygroups-070620pt/blob/master/mod-1/images/one-to-one.png?raw=1\" >\n"
   ]
  },
  {
   "cell_type": "markdown",
   "id": "76cf00d8",
   "metadata": {
    "id": "VYndQH3rXlUp"
   },
   "source": [
    "### One to Many Relationship\n",
    "\n",
    "This is the most commonly used type of relationship. Consider an e-commerce website, with the following:\n",
    "\n",
    "Customers can make many orders.\n",
    "Orders can contain many items.\n",
    "Items can have descriptions in many languages.\n",
    "<img src=\"https://github.com/yishuen/studygroups-070620pt/blob/master/mod-1/images/one-to-many.png?raw=1\" >"
   ]
  },
  {
   "cell_type": "markdown",
   "id": "33642974",
   "metadata": {
    "id": "j4MezWTyXlUp"
   },
   "source": [
    "### Many to Many Relationship\n",
    "\n",
    "In some cases, you may need multiple instances on both sides of the relationship. For example, each order can contain multiple items. And each item can also be in multiple orders.\n",
    "<img src=\"https://github.com/yishuen/studygroups-070620pt/blob/master/mod-1/images/many-to-many.png?raw=1\" >"
   ]
  },
  {
   "cell_type": "markdown",
   "id": "abf685e7",
   "metadata": {},
   "source": [
    "***For these relationships, we need to create an extra table to track the relationships:***\n",
    "\n",
    "<img src=\"https://github.com/yishuen/studygroups-070620pt/blob/master/mod-1/images/many-to-many-junction.png?raw=1\" >"
   ]
  },
  {
   "cell_type": "markdown",
   "id": "bbc9fbaa",
   "metadata": {},
   "source": [
    "### SQL Data Types\n",
    "\n",
    "SQL data types can be broadly divided into following categories.\n",
    "\n",
    "- Numeric data types such as int, tinyint, bigint, float, real etc.\n",
    "- Date and Time data types such as Date, Time, Datetime etc.\n",
    "- Character and String data types such as char, varchar, text etc.\n",
    "- Unicode character string data types, for example nchar, nvarchar, ntext etc.\n",
    "- Binary data types such as binary, varbinary etc.\n",
    "- Miscellaneous data types – clob, blob, xml, cursor, table etc.\n",
    "\n",
    "<img src=\"https://github.com/yishuen/studygroups-070620pt/blob/master/mod-1/images/data-type-mapping.png?raw=1\" >"
   ]
  },
  {
   "cell_type": "markdown",
   "id": "8b5475be",
   "metadata": {},
   "source": [
    "#### SQLite Data Types\n",
    "\n",
    "Any column declared in an SQLite database is assigned a type affinity depending on its declared data type. Here the list of type affinities in SQLite:\n",
    "\n",
    "- TEXT\n",
    "- NUMERIC\n",
    "- INTEGER\n",
    "- REAL\n",
    "- BLOB"
   ]
  },
  {
   "cell_type": "markdown",
   "id": "38e06cf8",
   "metadata": {},
   "source": [
    "## Using SQL in Python\n",
    "\n",
    "\n",
    "We're going to play around with this Pokemon database!\n",
    "\n",
    "<img src='https://raw.githubusercontent.com/yishuen/studygroups-070620pt/master/mod-1/images/pokemon_db.png'>"
   ]
  },
  {
   "cell_type": "code",
   "execution_count": 1,
   "id": "ca41d4e1",
   "metadata": {
    "ExecuteTime": {
     "end_time": "2021-07-22T22:37:05.886766Z",
     "start_time": "2021-07-22T22:37:05.472586Z"
    }
   },
   "outputs": [],
   "source": [
    "import pandas as pd\n",
    "import sqlite3"
   ]
  },
  {
   "cell_type": "code",
   "execution_count": 2,
   "id": "927a7ba5",
   "metadata": {
    "ExecuteTime": {
     "end_time": "2021-07-22T22:37:05.900085Z",
     "start_time": "2021-07-22T22:37:05.889660Z"
    }
   },
   "outputs": [
    {
     "data": {
      "text/plain": [
       "<sqlite3.Connection at 0x7fc9a2991c70>"
      ]
     },
     "execution_count": 2,
     "metadata": {},
     "output_type": "execute_result"
    }
   ],
   "source": [
    "# Connecting to the database.\n",
    "conn = sqlite3.connect('../data/pokemon.db')\n",
    "conn"
   ]
  },
  {
   "cell_type": "code",
   "execution_count": 3,
   "id": "3f3d2799",
   "metadata": {
    "ExecuteTime": {
     "end_time": "2021-07-22T22:37:06.271940Z",
     "start_time": "2021-07-22T22:37:06.267829Z"
    }
   },
   "outputs": [
    {
     "data": {
      "text/plain": [
       "<sqlite3.Cursor at 0x7fc9a39559d0>"
      ]
     },
     "execution_count": 3,
     "metadata": {},
     "output_type": "execute_result"
    }
   ],
   "source": [
    "# Look at the cursor.\n",
    "cur = conn.cursor()\n",
    "cur"
   ]
  },
  {
   "cell_type": "code",
   "execution_count": 4,
   "id": "29e09664",
   "metadata": {
    "ExecuteTime": {
     "end_time": "2021-07-22T22:37:06.743667Z",
     "start_time": "2021-07-22T22:37:06.739377Z"
    }
   },
   "outputs": [
    {
     "data": {
      "text/plain": [
       "<sqlite3.Cursor at 0x7fc9a39559d0>"
      ]
     },
     "execution_count": 4,
     "metadata": {},
     "output_type": "execute_result"
    }
   ],
   "source": [
    "# Executing a query.\n",
    "cur.execute('SELECT * FROM pokemon')"
   ]
  },
  {
   "cell_type": "code",
   "execution_count": 5,
   "id": "a22926fe",
   "metadata": {
    "ExecuteTime": {
     "end_time": "2021-07-22T22:37:07.110044Z",
     "start_time": "2021-07-22T22:37:07.104621Z"
    }
   },
   "outputs": [
    {
     "data": {
      "text/plain": [
       "(('id', None, None, None, None, None, None),\n",
       " ('name', None, None, None, None, None, None),\n",
       " ('base_experience', None, None, None, None, None, None),\n",
       " ('weight', None, None, None, None, None, None),\n",
       " ('height', None, None, None, None, None, None))"
      ]
     },
     "execution_count": 5,
     "metadata": {},
     "output_type": "execute_result"
    }
   ],
   "source": [
    "# Showing the description.\n",
    "cur.description"
   ]
  },
  {
   "cell_type": "code",
   "execution_count": 6,
   "id": "0752c3f9",
   "metadata": {
    "ExecuteTime": {
     "end_time": "2021-07-22T22:37:07.907978Z",
     "start_time": "2021-07-22T22:37:07.903848Z"
    }
   },
   "outputs": [
    {
     "data": {
      "text/plain": [
       "['id', 'name', 'base_experience', 'weight', 'height']"
      ]
     },
     "execution_count": 6,
     "metadata": {},
     "output_type": "execute_result"
    }
   ],
   "source": [
    "# Get column names - longhand.\n",
    "my_lst = []\n",
    "for x in cur.description:\n",
    "    my_lst.append(x[0])\n",
    "my_lst"
   ]
  },
  {
   "cell_type": "code",
   "execution_count": 7,
   "id": "5117f3e2",
   "metadata": {
    "ExecuteTime": {
     "end_time": "2021-07-22T22:37:08.288767Z",
     "start_time": "2021-07-22T22:37:08.283912Z"
    }
   },
   "outputs": [
    {
     "data": {
      "text/plain": [
       "['id', 'name', 'base_experience', 'weight', 'height']"
      ]
     },
     "execution_count": 7,
     "metadata": {},
     "output_type": "execute_result"
    }
   ],
   "source": [
    "# Get column names - shorthand.\n",
    "[x[0] for x in cur.description]"
   ]
  },
  {
   "cell_type": "code",
   "execution_count": 8,
   "id": "6322df68",
   "metadata": {
    "ExecuteTime": {
     "end_time": "2021-07-22T22:37:08.719070Z",
     "start_time": "2021-07-22T22:37:08.696379Z"
    }
   },
   "outputs": [
    {
     "data": {
      "text/plain": [
       "[(1, 'bulbasaur', 64, 69, 7),\n",
       " (2, 'ivysaur', 142, 130, 10),\n",
       " (3, 'venusaur', 236, 1000, 20),\n",
       " (4, 'charmander', 62, 85, 6),\n",
       " (5, 'charmeleon', 142, 190, 11),\n",
       " (6, 'charizard', 240, 905, 17),\n",
       " (7, 'squirtle', 63, 90, 5),\n",
       " (8, 'wartortle', 142, 225, 10),\n",
       " (9, 'blastoise', 239, 855, 16),\n",
       " (10, 'caterpie', 39, 29, 3),\n",
       " (11, 'metapod', 72, 99, 7),\n",
       " (12, 'butterfree', 178, 320, 11),\n",
       " (13, 'weedle', 39, 32, 3),\n",
       " (14, 'kakuna', 72, 100, 6),\n",
       " (15, 'beedrill', 178, 295, 10),\n",
       " (16, 'pidgey', 50, 18, 3),\n",
       " (17, 'pidgeotto', 122, 300, 11),\n",
       " (18, 'pidgeot', 216, 395, 15),\n",
       " (19, 'rattata', 51, 35, 3),\n",
       " (20, 'raticate', 145, 185, 7),\n",
       " (21, 'spearow', 52, 20, 3),\n",
       " (22, 'fearow', 155, 380, 12),\n",
       " (23, 'ekans', 58, 69, 20),\n",
       " (24, 'arbok', 157, 650, 35),\n",
       " (25, 'pikachu', 112, 60, 4),\n",
       " (26, 'raichu', 218, 300, 8),\n",
       " (27, 'sandshrew', 60, 120, 6),\n",
       " (28, 'sandslash', 158, 295, 10),\n",
       " (29, 'nidoran-f', 55, 70, 4),\n",
       " (30, 'nidorina', 128, 200, 8),\n",
       " (31, 'nidoqueen', 227, 600, 13),\n",
       " (32, 'nidoran-m', 55, 90, 5),\n",
       " (33, 'nidorino', 128, 195, 9),\n",
       " (34, 'nidoking', 227, 620, 14),\n",
       " (35, 'clefairy', 113, 75, 6),\n",
       " (36, 'clefable', 217, 400, 13),\n",
       " (37, 'vulpix', 60, 99, 6),\n",
       " (38, 'ninetales', 177, 199, 11),\n",
       " (39, 'jigglypuff', 95, 55, 5),\n",
       " (40, 'wigglytuff', 196, 120, 10),\n",
       " (41, 'zubat', 49, 75, 8),\n",
       " (42, 'golbat', 159, 550, 16),\n",
       " (43, 'oddish', 64, 54, 5),\n",
       " (44, 'gloom', 138, 86, 8),\n",
       " (45, 'vileplume', 221, 186, 12),\n",
       " (46, 'paras', 57, 54, 3),\n",
       " (47, 'parasect', 142, 295, 10),\n",
       " (48, 'venonat', 61, 300, 10),\n",
       " (49, 'venomoth', 158, 125, 15),\n",
       " (50, 'diglett', 53, 8, 2),\n",
       " (51, 'dugtrio', 149, 333, 7),\n",
       " (52, 'meowth', 58, 42, 4),\n",
       " (53, 'persian', 154, 320, 10),\n",
       " (54, 'psyduck', 64, 196, 8),\n",
       " (55, 'golduck', 175, 766, 17),\n",
       " (56, 'mankey', 61, 280, 5),\n",
       " (57, 'primeape', 159, 320, 10),\n",
       " (58, 'growlithe', 70, 190, 7),\n",
       " (59, 'arcanine', 194, 1550, 19),\n",
       " (60, 'poliwag', 60, 124, 6),\n",
       " (61, 'poliwhirl', 135, 200, 10),\n",
       " (62, 'poliwrath', 230, 540, 13),\n",
       " (63, 'abra', 62, 195, 9),\n",
       " (64, 'kadabra', 140, 565, 13),\n",
       " (65, 'alakazam', 225, 480, 15),\n",
       " (66, 'machop', 61, 195, 8),\n",
       " (67, 'machoke', 142, 705, 15),\n",
       " (68, 'machamp', 227, 1300, 16),\n",
       " (69, 'bellsprout', 60, 40, 7),\n",
       " (70, 'weepinbell', 137, 64, 10),\n",
       " (71, 'victreebel', 221, 155, 17),\n",
       " (72, 'tentacool', 67, 455, 9),\n",
       " (73, 'tentacruel', 180, 550, 16),\n",
       " (74, 'geodude', 60, 200, 4),\n",
       " (75, 'graveler', 137, 1050, 10),\n",
       " (76, 'golem', 223, 3000, 14),\n",
       " (77, 'ponyta', 82, 300, 10),\n",
       " (78, 'rapidash', 175, 950, 17),\n",
       " (79, 'slowpoke', 63, 360, 12),\n",
       " (80, 'slowbro', 172, 785, 16),\n",
       " (81, 'magnemite', 65, 60, 3),\n",
       " (82, 'magneton', 163, 600, 10),\n",
       " (83, 'farfetchd', 132, 150, 8),\n",
       " (84, 'doduo', 62, 392, 14),\n",
       " (85, 'dodrio', 165, 852, 18),\n",
       " (86, 'seel', 65, 900, 11),\n",
       " (87, 'dewgong', 166, 1200, 17),\n",
       " (88, 'grimer', 65, 300, 9),\n",
       " (89, 'muk', 175, 300, 12),\n",
       " (90, 'shellder', 61, 40, 3),\n",
       " (91, 'cloyster', 184, 1325, 15),\n",
       " (92, 'gastly', 62, 1, 13),\n",
       " (93, 'haunter', 142, 1, 16),\n",
       " (94, 'gengar', 225, 405, 15),\n",
       " (95, 'onix', 77, 2100, 88),\n",
       " (96, 'drowzee', 66, 324, 10),\n",
       " (97, 'hypno', 169, 756, 16),\n",
       " (98, 'krabby', 65, 65, 4),\n",
       " (99, 'kingler', 166, 600, 13),\n",
       " (100, 'voltorb', 66, 104, 5),\n",
       " (101, 'electrode', 172, 666, 12),\n",
       " (102, 'exeggcute', 65, 25, 4),\n",
       " (103, 'exeggutor', 186, 1200, 20),\n",
       " (104, 'cubone', 64, 65, 4),\n",
       " (105, 'marowak', 149, 450, 10),\n",
       " (106, 'hitmonlee', 159, 498, 15),\n",
       " (107, 'hitmonchan', 159, 502, 14),\n",
       " (108, 'lickitung', 77, 655, 12),\n",
       " (109, 'koffing', 68, 10, 6),\n",
       " (110, 'weezing', 172, 95, 12),\n",
       " (111, 'rhyhorn', 69, 1150, 10),\n",
       " (112, 'rhydon', 170, 1200, 19),\n",
       " (113, 'chansey', 395, 346, 11),\n",
       " (114, 'tangela', 87, 350, 10),\n",
       " (115, 'kangaskhan', 172, 800, 22),\n",
       " (116, 'horsea', 59, 80, 4),\n",
       " (117, 'seadra', 154, 250, 12),\n",
       " (118, 'goldeen', 64, 150, 6),\n",
       " (119, 'seaking', 158, 390, 13),\n",
       " (120, 'staryu', 68, 345, 8),\n",
       " (121, 'starmie', 182, 800, 11),\n",
       " (122, 'mr-mime', 161, 545, 13),\n",
       " (123, 'scyther', 100, 560, 15),\n",
       " (124, 'jynx', 159, 406, 14),\n",
       " (125, 'electabuzz', 172, 300, 11),\n",
       " (126, 'magmar', 173, 445, 13),\n",
       " (127, 'pinsir', 175, 550, 15),\n",
       " (128, 'tauros', 172, 884, 14),\n",
       " (129, 'magikarp', 40, 100, 9),\n",
       " (130, 'gyarados', 189, 2350, 65),\n",
       " (131, 'lapras', 187, 2200, 25),\n",
       " (132, 'ditto', 101, 40, 3),\n",
       " (133, 'eevee', 65, 65, 3),\n",
       " (134, 'vaporeon', 184, 290, 10),\n",
       " (135, 'jolteon', 184, 245, 8),\n",
       " (136, 'flareon', 184, 250, 9),\n",
       " (137, 'porygon', 79, 365, 8),\n",
       " (138, 'omanyte', 71, 75, 4),\n",
       " (139, 'omastar', 173, 350, 10),\n",
       " (140, 'kabuto', 71, 115, 5),\n",
       " (141, 'kabutops', 173, 405, 13),\n",
       " (142, 'aerodactyl', 180, 590, 18),\n",
       " (143, 'snorlax', 189, 4600, 21),\n",
       " (144, 'articuno', 261, 554, 17),\n",
       " (145, 'zapdos', 261, 526, 16),\n",
       " (146, 'moltres', 261, 600, 20),\n",
       " (147, 'dratini', 60, 33, 18),\n",
       " (148, 'dragonair', 147, 165, 40),\n",
       " (149, 'dragonite', 270, 2100, 22),\n",
       " (150, 'mewtwo', 306, 1220, 20),\n",
       " (151, 'mew', 270, 40, 4)]"
      ]
     },
     "execution_count": 8,
     "metadata": {},
     "output_type": "execute_result"
    }
   ],
   "source": [
    "# Return the query.\n",
    "cur.fetchall()"
   ]
  },
  {
   "cell_type": "code",
   "execution_count": 9,
   "id": "b1cf5ea2",
   "metadata": {
    "ExecuteTime": {
     "end_time": "2021-07-22T22:37:09.971752Z",
     "start_time": "2021-07-22T22:37:09.967528Z"
    }
   },
   "outputs": [
    {
     "data": {
      "text/plain": [
       "[]"
      ]
     },
     "execution_count": 9,
     "metadata": {},
     "output_type": "execute_result"
    }
   ],
   "source": [
    "# Try to return the query again!\n",
    "cur.fetchall()"
   ]
  },
  {
   "cell_type": "code",
   "execution_count": 10,
   "id": "b34f0e2a",
   "metadata": {
    "ExecuteTime": {
     "end_time": "2021-07-22T22:37:11.574330Z",
     "start_time": "2021-07-22T22:37:11.450866Z"
    }
   },
   "outputs": [
    {
     "data": {
      "text/html": [
       "<div>\n",
       "<style scoped>\n",
       "    .dataframe tbody tr th:only-of-type {\n",
       "        vertical-align: middle;\n",
       "    }\n",
       "\n",
       "    .dataframe tbody tr th {\n",
       "        vertical-align: top;\n",
       "    }\n",
       "\n",
       "    .dataframe thead th {\n",
       "        text-align: right;\n",
       "    }\n",
       "</style>\n",
       "<table border=\"1\" class=\"dataframe\">\n",
       "  <thead>\n",
       "    <tr style=\"text-align: right;\">\n",
       "      <th></th>\n",
       "      <th>id</th>\n",
       "      <th>name</th>\n",
       "      <th>base_experience</th>\n",
       "      <th>weight</th>\n",
       "      <th>height</th>\n",
       "    </tr>\n",
       "  </thead>\n",
       "  <tbody>\n",
       "    <tr>\n",
       "      <th>0</th>\n",
       "      <td>1</td>\n",
       "      <td>bulbasaur</td>\n",
       "      <td>64</td>\n",
       "      <td>69</td>\n",
       "      <td>7</td>\n",
       "    </tr>\n",
       "    <tr>\n",
       "      <th>1</th>\n",
       "      <td>2</td>\n",
       "      <td>ivysaur</td>\n",
       "      <td>142</td>\n",
       "      <td>130</td>\n",
       "      <td>10</td>\n",
       "    </tr>\n",
       "    <tr>\n",
       "      <th>2</th>\n",
       "      <td>3</td>\n",
       "      <td>venusaur</td>\n",
       "      <td>236</td>\n",
       "      <td>1000</td>\n",
       "      <td>20</td>\n",
       "    </tr>\n",
       "    <tr>\n",
       "      <th>3</th>\n",
       "      <td>4</td>\n",
       "      <td>charmander</td>\n",
       "      <td>62</td>\n",
       "      <td>85</td>\n",
       "      <td>6</td>\n",
       "    </tr>\n",
       "    <tr>\n",
       "      <th>4</th>\n",
       "      <td>5</td>\n",
       "      <td>charmeleon</td>\n",
       "      <td>142</td>\n",
       "      <td>190</td>\n",
       "      <td>11</td>\n",
       "    </tr>\n",
       "    <tr>\n",
       "      <th>...</th>\n",
       "      <td>...</td>\n",
       "      <td>...</td>\n",
       "      <td>...</td>\n",
       "      <td>...</td>\n",
       "      <td>...</td>\n",
       "    </tr>\n",
       "    <tr>\n",
       "      <th>146</th>\n",
       "      <td>147</td>\n",
       "      <td>dratini</td>\n",
       "      <td>60</td>\n",
       "      <td>33</td>\n",
       "      <td>18</td>\n",
       "    </tr>\n",
       "    <tr>\n",
       "      <th>147</th>\n",
       "      <td>148</td>\n",
       "      <td>dragonair</td>\n",
       "      <td>147</td>\n",
       "      <td>165</td>\n",
       "      <td>40</td>\n",
       "    </tr>\n",
       "    <tr>\n",
       "      <th>148</th>\n",
       "      <td>149</td>\n",
       "      <td>dragonite</td>\n",
       "      <td>270</td>\n",
       "      <td>2100</td>\n",
       "      <td>22</td>\n",
       "    </tr>\n",
       "    <tr>\n",
       "      <th>149</th>\n",
       "      <td>150</td>\n",
       "      <td>mewtwo</td>\n",
       "      <td>306</td>\n",
       "      <td>1220</td>\n",
       "      <td>20</td>\n",
       "    </tr>\n",
       "    <tr>\n",
       "      <th>150</th>\n",
       "      <td>151</td>\n",
       "      <td>mew</td>\n",
       "      <td>270</td>\n",
       "      <td>40</td>\n",
       "      <td>4</td>\n",
       "    </tr>\n",
       "  </tbody>\n",
       "</table>\n",
       "<p>151 rows × 5 columns</p>\n",
       "</div>"
      ],
      "text/plain": [
       "      id        name  base_experience  weight  height\n",
       "0      1   bulbasaur               64      69       7\n",
       "1      2     ivysaur              142     130      10\n",
       "2      3    venusaur              236    1000      20\n",
       "3      4  charmander               62      85       6\n",
       "4      5  charmeleon              142     190      11\n",
       "..   ...         ...              ...     ...     ...\n",
       "146  147     dratini               60      33      18\n",
       "147  148   dragonair              147     165      40\n",
       "148  149   dragonite              270    2100      22\n",
       "149  150      mewtwo              306    1220      20\n",
       "150  151         mew              270      40       4\n",
       "\n",
       "[151 rows x 5 columns]"
      ]
     },
     "execution_count": 10,
     "metadata": {},
     "output_type": "execute_result"
    }
   ],
   "source": [
    "pd.read_sql('SELECT * FROM pokemon', conn)"
   ]
  },
  {
   "cell_type": "markdown",
   "id": "d96a084f",
   "metadata": {
    "id": "TnZ2e4qrXlUt"
   },
   "source": [
    "### Parts of a SQL Query\n",
    "* `SELECT ... FROM ...`: Which columns from which table\n",
    "* `WHERE`: Conditions to filter your query by\n",
    "* `JOIN`: Put tables together\n",
    "* `GROUP BY`: Group and aggregate data\n",
    "* `HAVING`: Filtering after a `GROUP BY`\n",
    "* `ORDER BY`: How to sort the table\n",
    "* `LIMIT`: How many rows to query"
   ]
  },
  {
   "cell_type": "markdown",
   "id": "5481a608",
   "metadata": {},
   "source": [
    "#### Q1"
   ]
  },
  {
   "cell_type": "code",
   "execution_count": 11,
   "id": "a40db238",
   "metadata": {
    "ExecuteTime": {
     "end_time": "2021-07-22T22:37:37.043335Z",
     "start_time": "2021-07-22T22:37:37.023937Z"
    }
   },
   "outputs": [
    {
     "data": {
      "text/html": [
       "<div>\n",
       "<style scoped>\n",
       "    .dataframe tbody tr th:only-of-type {\n",
       "        vertical-align: middle;\n",
       "    }\n",
       "\n",
       "    .dataframe tbody tr th {\n",
       "        vertical-align: top;\n",
       "    }\n",
       "\n",
       "    .dataframe thead th {\n",
       "        text-align: right;\n",
       "    }\n",
       "</style>\n",
       "<table border=\"1\" class=\"dataframe\">\n",
       "  <thead>\n",
       "    <tr style=\"text-align: right;\">\n",
       "      <th></th>\n",
       "      <th>id</th>\n",
       "      <th>name</th>\n",
       "      <th>base_experience</th>\n",
       "      <th>weight</th>\n",
       "      <th>height</th>\n",
       "    </tr>\n",
       "  </thead>\n",
       "  <tbody>\n",
       "    <tr>\n",
       "      <th>0</th>\n",
       "      <td>1</td>\n",
       "      <td>bulbasaur</td>\n",
       "      <td>64</td>\n",
       "      <td>69</td>\n",
       "      <td>7</td>\n",
       "    </tr>\n",
       "    <tr>\n",
       "      <th>1</th>\n",
       "      <td>2</td>\n",
       "      <td>ivysaur</td>\n",
       "      <td>142</td>\n",
       "      <td>130</td>\n",
       "      <td>10</td>\n",
       "    </tr>\n",
       "    <tr>\n",
       "      <th>2</th>\n",
       "      <td>3</td>\n",
       "      <td>venusaur</td>\n",
       "      <td>236</td>\n",
       "      <td>1000</td>\n",
       "      <td>20</td>\n",
       "    </tr>\n",
       "    <tr>\n",
       "      <th>3</th>\n",
       "      <td>4</td>\n",
       "      <td>charmander</td>\n",
       "      <td>62</td>\n",
       "      <td>85</td>\n",
       "      <td>6</td>\n",
       "    </tr>\n",
       "    <tr>\n",
       "      <th>4</th>\n",
       "      <td>5</td>\n",
       "      <td>charmeleon</td>\n",
       "      <td>142</td>\n",
       "      <td>190</td>\n",
       "      <td>11</td>\n",
       "    </tr>\n",
       "    <tr>\n",
       "      <th>...</th>\n",
       "      <td>...</td>\n",
       "      <td>...</td>\n",
       "      <td>...</td>\n",
       "      <td>...</td>\n",
       "      <td>...</td>\n",
       "    </tr>\n",
       "    <tr>\n",
       "      <th>146</th>\n",
       "      <td>147</td>\n",
       "      <td>dratini</td>\n",
       "      <td>60</td>\n",
       "      <td>33</td>\n",
       "      <td>18</td>\n",
       "    </tr>\n",
       "    <tr>\n",
       "      <th>147</th>\n",
       "      <td>148</td>\n",
       "      <td>dragonair</td>\n",
       "      <td>147</td>\n",
       "      <td>165</td>\n",
       "      <td>40</td>\n",
       "    </tr>\n",
       "    <tr>\n",
       "      <th>148</th>\n",
       "      <td>149</td>\n",
       "      <td>dragonite</td>\n",
       "      <td>270</td>\n",
       "      <td>2100</td>\n",
       "      <td>22</td>\n",
       "    </tr>\n",
       "    <tr>\n",
       "      <th>149</th>\n",
       "      <td>150</td>\n",
       "      <td>mewtwo</td>\n",
       "      <td>306</td>\n",
       "      <td>1220</td>\n",
       "      <td>20</td>\n",
       "    </tr>\n",
       "    <tr>\n",
       "      <th>150</th>\n",
       "      <td>151</td>\n",
       "      <td>mew</td>\n",
       "      <td>270</td>\n",
       "      <td>40</td>\n",
       "      <td>4</td>\n",
       "    </tr>\n",
       "  </tbody>\n",
       "</table>\n",
       "<p>151 rows × 5 columns</p>\n",
       "</div>"
      ],
      "text/plain": [
       "      id        name  base_experience  weight  height\n",
       "0      1   bulbasaur               64      69       7\n",
       "1      2     ivysaur              142     130      10\n",
       "2      3    venusaur              236    1000      20\n",
       "3      4  charmander               62      85       6\n",
       "4      5  charmeleon              142     190      11\n",
       "..   ...         ...              ...     ...     ...\n",
       "146  147     dratini               60      33      18\n",
       "147  148   dragonair              147     165      40\n",
       "148  149   dragonite              270    2100      22\n",
       "149  150      mewtwo              306    1220      20\n",
       "150  151         mew              270      40       4\n",
       "\n",
       "[151 rows x 5 columns]"
      ]
     },
     "execution_count": 11,
     "metadata": {},
     "output_type": "execute_result"
    }
   ],
   "source": [
    "# Select all pokemon from the pokemon table.\n",
    "q1 = '''\n",
    "SELECT *\n",
    "    FROM pokemon;\n",
    "'''\n",
    "\n",
    "# Show results in a pandas dataframe.\n",
    "pd.read_sql(q1, conn)"
   ]
  },
  {
   "cell_type": "markdown",
   "id": "5542d20a",
   "metadata": {},
   "source": [
    "#### Q2"
   ]
  },
  {
   "cell_type": "code",
   "execution_count": 12,
   "id": "1e9b4843",
   "metadata": {
    "ExecuteTime": {
     "end_time": "2021-07-22T22:37:52.909654Z",
     "start_time": "2021-07-22T22:37:52.898165Z"
    }
   },
   "outputs": [
    {
     "data": {
      "text/html": [
       "<div>\n",
       "<style scoped>\n",
       "    .dataframe tbody tr th:only-of-type {\n",
       "        vertical-align: middle;\n",
       "    }\n",
       "\n",
       "    .dataframe tbody tr th {\n",
       "        vertical-align: top;\n",
       "    }\n",
       "\n",
       "    .dataframe thead th {\n",
       "        text-align: right;\n",
       "    }\n",
       "</style>\n",
       "<table border=\"1\" class=\"dataframe\">\n",
       "  <thead>\n",
       "    <tr style=\"text-align: right;\">\n",
       "      <th></th>\n",
       "      <th>id</th>\n",
       "      <th>pokemon_id</th>\n",
       "      <th>type_id</th>\n",
       "    </tr>\n",
       "  </thead>\n",
       "  <tbody>\n",
       "    <tr>\n",
       "      <th>0</th>\n",
       "      <td>10</td>\n",
       "      <td>6</td>\n",
       "      <td>3</td>\n",
       "    </tr>\n",
       "    <tr>\n",
       "      <th>1</th>\n",
       "      <td>17</td>\n",
       "      <td>12</td>\n",
       "      <td>3</td>\n",
       "    </tr>\n",
       "    <tr>\n",
       "      <th>2</th>\n",
       "      <td>25</td>\n",
       "      <td>16</td>\n",
       "      <td>3</td>\n",
       "    </tr>\n",
       "    <tr>\n",
       "      <th>3</th>\n",
       "      <td>27</td>\n",
       "      <td>17</td>\n",
       "      <td>3</td>\n",
       "    </tr>\n",
       "    <tr>\n",
       "      <th>4</th>\n",
       "      <td>29</td>\n",
       "      <td>18</td>\n",
       "      <td>3</td>\n",
       "    </tr>\n",
       "    <tr>\n",
       "      <th>5</th>\n",
       "      <td>33</td>\n",
       "      <td>21</td>\n",
       "      <td>3</td>\n",
       "    </tr>\n",
       "    <tr>\n",
       "      <th>6</th>\n",
       "      <td>35</td>\n",
       "      <td>22</td>\n",
       "      <td>3</td>\n",
       "    </tr>\n",
       "    <tr>\n",
       "      <th>7</th>\n",
       "      <td>59</td>\n",
       "      <td>41</td>\n",
       "      <td>3</td>\n",
       "    </tr>\n",
       "    <tr>\n",
       "      <th>8</th>\n",
       "      <td>61</td>\n",
       "      <td>42</td>\n",
       "      <td>3</td>\n",
       "    </tr>\n",
       "    <tr>\n",
       "      <th>9</th>\n",
       "      <td>123</td>\n",
       "      <td>83</td>\n",
       "      <td>3</td>\n",
       "    </tr>\n",
       "    <tr>\n",
       "      <th>10</th>\n",
       "      <td>125</td>\n",
       "      <td>84</td>\n",
       "      <td>3</td>\n",
       "    </tr>\n",
       "    <tr>\n",
       "      <th>11</th>\n",
       "      <td>127</td>\n",
       "      <td>85</td>\n",
       "      <td>3</td>\n",
       "    </tr>\n",
       "    <tr>\n",
       "      <th>12</th>\n",
       "      <td>178</td>\n",
       "      <td>123</td>\n",
       "      <td>3</td>\n",
       "    </tr>\n",
       "    <tr>\n",
       "      <th>13</th>\n",
       "      <td>187</td>\n",
       "      <td>130</td>\n",
       "      <td>3</td>\n",
       "    </tr>\n",
       "    <tr>\n",
       "      <th>14</th>\n",
       "      <td>205</td>\n",
       "      <td>142</td>\n",
       "      <td>3</td>\n",
       "    </tr>\n",
       "    <tr>\n",
       "      <th>15</th>\n",
       "      <td>208</td>\n",
       "      <td>144</td>\n",
       "      <td>3</td>\n",
       "    </tr>\n",
       "    <tr>\n",
       "      <th>16</th>\n",
       "      <td>210</td>\n",
       "      <td>145</td>\n",
       "      <td>3</td>\n",
       "    </tr>\n",
       "    <tr>\n",
       "      <th>17</th>\n",
       "      <td>212</td>\n",
       "      <td>146</td>\n",
       "      <td>3</td>\n",
       "    </tr>\n",
       "    <tr>\n",
       "      <th>18</th>\n",
       "      <td>216</td>\n",
       "      <td>149</td>\n",
       "      <td>3</td>\n",
       "    </tr>\n",
       "  </tbody>\n",
       "</table>\n",
       "</div>"
      ],
      "text/plain": [
       "     id  pokemon_id  type_id\n",
       "0    10           6        3\n",
       "1    17          12        3\n",
       "2    25          16        3\n",
       "3    27          17        3\n",
       "4    29          18        3\n",
       "5    33          21        3\n",
       "6    35          22        3\n",
       "7    59          41        3\n",
       "8    61          42        3\n",
       "9   123          83        3\n",
       "10  125          84        3\n",
       "11  127          85        3\n",
       "12  178         123        3\n",
       "13  187         130        3\n",
       "14  205         142        3\n",
       "15  208         144        3\n",
       "16  210         145        3\n",
       "17  212         146        3\n",
       "18  216         149        3"
      ]
     },
     "execution_count": 12,
     "metadata": {},
     "output_type": "execute_result"
    }
   ],
   "source": [
    "# Select all the rows from pokemon_types where the type_id is 3.\n",
    "q2 = '''\n",
    "SELECT *\n",
    "    FROM pokemon_types\n",
    "    WHERE type_id = 3\n",
    "'''\n",
    "\n",
    "pd.read_sql(q2, conn)"
   ]
  },
  {
   "cell_type": "markdown",
   "id": "146f115a",
   "metadata": {},
   "source": [
    "#### Q3"
   ]
  },
  {
   "cell_type": "code",
   "execution_count": 13,
   "id": "14e6f8e1",
   "metadata": {
    "ExecuteTime": {
     "end_time": "2021-07-22T22:38:21.584424Z",
     "start_time": "2021-07-22T22:38:21.570703Z"
    }
   },
   "outputs": [
    {
     "data": {
      "text/html": [
       "<div>\n",
       "<style scoped>\n",
       "    .dataframe tbody tr th:only-of-type {\n",
       "        vertical-align: middle;\n",
       "    }\n",
       "\n",
       "    .dataframe tbody tr th {\n",
       "        vertical-align: top;\n",
       "    }\n",
       "\n",
       "    .dataframe thead th {\n",
       "        text-align: right;\n",
       "    }\n",
       "</style>\n",
       "<table border=\"1\" class=\"dataframe\">\n",
       "  <thead>\n",
       "    <tr style=\"text-align: right;\">\n",
       "      <th></th>\n",
       "      <th>PokemonName</th>\n",
       "      <th>TypeName</th>\n",
       "    </tr>\n",
       "  </thead>\n",
       "  <tbody>\n",
       "    <tr>\n",
       "      <th>0</th>\n",
       "      <td>squirtle</td>\n",
       "      <td>water</td>\n",
       "    </tr>\n",
       "    <tr>\n",
       "      <th>1</th>\n",
       "      <td>wartortle</td>\n",
       "      <td>water</td>\n",
       "    </tr>\n",
       "    <tr>\n",
       "      <th>2</th>\n",
       "      <td>blastoise</td>\n",
       "      <td>water</td>\n",
       "    </tr>\n",
       "    <tr>\n",
       "      <th>3</th>\n",
       "      <td>psyduck</td>\n",
       "      <td>water</td>\n",
       "    </tr>\n",
       "    <tr>\n",
       "      <th>4</th>\n",
       "      <td>golduck</td>\n",
       "      <td>water</td>\n",
       "    </tr>\n",
       "    <tr>\n",
       "      <th>5</th>\n",
       "      <td>poliwag</td>\n",
       "      <td>water</td>\n",
       "    </tr>\n",
       "    <tr>\n",
       "      <th>6</th>\n",
       "      <td>poliwhirl</td>\n",
       "      <td>water</td>\n",
       "    </tr>\n",
       "    <tr>\n",
       "      <th>7</th>\n",
       "      <td>poliwrath</td>\n",
       "      <td>water</td>\n",
       "    </tr>\n",
       "    <tr>\n",
       "      <th>8</th>\n",
       "      <td>tentacool</td>\n",
       "      <td>water</td>\n",
       "    </tr>\n",
       "    <tr>\n",
       "      <th>9</th>\n",
       "      <td>tentacruel</td>\n",
       "      <td>water</td>\n",
       "    </tr>\n",
       "    <tr>\n",
       "      <th>10</th>\n",
       "      <td>slowpoke</td>\n",
       "      <td>water</td>\n",
       "    </tr>\n",
       "    <tr>\n",
       "      <th>11</th>\n",
       "      <td>slowbro</td>\n",
       "      <td>water</td>\n",
       "    </tr>\n",
       "    <tr>\n",
       "      <th>12</th>\n",
       "      <td>seel</td>\n",
       "      <td>water</td>\n",
       "    </tr>\n",
       "    <tr>\n",
       "      <th>13</th>\n",
       "      <td>dewgong</td>\n",
       "      <td>water</td>\n",
       "    </tr>\n",
       "    <tr>\n",
       "      <th>14</th>\n",
       "      <td>shellder</td>\n",
       "      <td>water</td>\n",
       "    </tr>\n",
       "    <tr>\n",
       "      <th>15</th>\n",
       "      <td>cloyster</td>\n",
       "      <td>water</td>\n",
       "    </tr>\n",
       "    <tr>\n",
       "      <th>16</th>\n",
       "      <td>krabby</td>\n",
       "      <td>water</td>\n",
       "    </tr>\n",
       "    <tr>\n",
       "      <th>17</th>\n",
       "      <td>kingler</td>\n",
       "      <td>water</td>\n",
       "    </tr>\n",
       "    <tr>\n",
       "      <th>18</th>\n",
       "      <td>horsea</td>\n",
       "      <td>water</td>\n",
       "    </tr>\n",
       "    <tr>\n",
       "      <th>19</th>\n",
       "      <td>seadra</td>\n",
       "      <td>water</td>\n",
       "    </tr>\n",
       "    <tr>\n",
       "      <th>20</th>\n",
       "      <td>goldeen</td>\n",
       "      <td>water</td>\n",
       "    </tr>\n",
       "    <tr>\n",
       "      <th>21</th>\n",
       "      <td>seaking</td>\n",
       "      <td>water</td>\n",
       "    </tr>\n",
       "    <tr>\n",
       "      <th>22</th>\n",
       "      <td>staryu</td>\n",
       "      <td>water</td>\n",
       "    </tr>\n",
       "    <tr>\n",
       "      <th>23</th>\n",
       "      <td>starmie</td>\n",
       "      <td>water</td>\n",
       "    </tr>\n",
       "    <tr>\n",
       "      <th>24</th>\n",
       "      <td>magikarp</td>\n",
       "      <td>water</td>\n",
       "    </tr>\n",
       "    <tr>\n",
       "      <th>25</th>\n",
       "      <td>gyarados</td>\n",
       "      <td>water</td>\n",
       "    </tr>\n",
       "    <tr>\n",
       "      <th>26</th>\n",
       "      <td>lapras</td>\n",
       "      <td>water</td>\n",
       "    </tr>\n",
       "    <tr>\n",
       "      <th>27</th>\n",
       "      <td>vaporeon</td>\n",
       "      <td>water</td>\n",
       "    </tr>\n",
       "    <tr>\n",
       "      <th>28</th>\n",
       "      <td>omanyte</td>\n",
       "      <td>water</td>\n",
       "    </tr>\n",
       "    <tr>\n",
       "      <th>29</th>\n",
       "      <td>omastar</td>\n",
       "      <td>water</td>\n",
       "    </tr>\n",
       "    <tr>\n",
       "      <th>30</th>\n",
       "      <td>kabuto</td>\n",
       "      <td>water</td>\n",
       "    </tr>\n",
       "    <tr>\n",
       "      <th>31</th>\n",
       "      <td>kabutops</td>\n",
       "      <td>water</td>\n",
       "    </tr>\n",
       "  </tbody>\n",
       "</table>\n",
       "</div>"
      ],
      "text/plain": [
       "   PokemonName TypeName\n",
       "0     squirtle    water\n",
       "1    wartortle    water\n",
       "2    blastoise    water\n",
       "3      psyduck    water\n",
       "4      golduck    water\n",
       "5      poliwag    water\n",
       "6    poliwhirl    water\n",
       "7    poliwrath    water\n",
       "8    tentacool    water\n",
       "9   tentacruel    water\n",
       "10    slowpoke    water\n",
       "11     slowbro    water\n",
       "12        seel    water\n",
       "13     dewgong    water\n",
       "14    shellder    water\n",
       "15    cloyster    water\n",
       "16      krabby    water\n",
       "17     kingler    water\n",
       "18      horsea    water\n",
       "19      seadra    water\n",
       "20     goldeen    water\n",
       "21     seaking    water\n",
       "22      staryu    water\n",
       "23     starmie    water\n",
       "24    magikarp    water\n",
       "25    gyarados    water\n",
       "26      lapras    water\n",
       "27    vaporeon    water\n",
       "28     omanyte    water\n",
       "29     omastar    water\n",
       "30      kabuto    water\n",
       "31    kabutops    water"
      ]
     },
     "execution_count": 13,
     "metadata": {},
     "output_type": "execute_result"
    }
   ],
   "source": [
    "# Select the rows from pokemon_types where the associated type is \"water\".\n",
    "q3 = '''\n",
    "SELECT pokemon.name as PokemonName, types.name as TypeName\n",
    "    FROM pokemon_types\n",
    "    JOIN(types)\n",
    "        ON pokemon_types.type_id = types.id\n",
    "    JOIN(pokemon)\n",
    "        ON pokemon.id = pokemon_types.pokemon_id\n",
    "    WHERE TypeName = \"water\"\n",
    "'''\n",
    "\n",
    "pd.read_sql(q3, conn)"
   ]
  },
  {
   "cell_type": "markdown",
   "id": "0a02af8d",
   "metadata": {},
   "source": [
    "---\n",
    "\n",
    "# Day 2\n",
    "#### Q4"
   ]
  },
  {
   "cell_type": "code",
   "execution_count": 29,
   "id": "d99864e5",
   "metadata": {
    "ExecuteTime": {
     "end_time": "2021-07-22T23:06:34.366918Z",
     "start_time": "2021-07-22T23:06:34.354378Z"
    }
   },
   "outputs": [
    {
     "data": {
      "text/html": [
       "<div>\n",
       "<style scoped>\n",
       "    .dataframe tbody tr th:only-of-type {\n",
       "        vertical-align: middle;\n",
       "    }\n",
       "\n",
       "    .dataframe tbody tr th {\n",
       "        vertical-align: top;\n",
       "    }\n",
       "\n",
       "    .dataframe thead th {\n",
       "        text-align: right;\n",
       "    }\n",
       "</style>\n",
       "<table border=\"1\" class=\"dataframe\">\n",
       "  <thead>\n",
       "    <tr style=\"text-align: right;\">\n",
       "      <th></th>\n",
       "      <th>Name</th>\n",
       "      <th>AverageWeight</th>\n",
       "    </tr>\n",
       "  </thead>\n",
       "  <tbody>\n",
       "    <tr>\n",
       "      <th>0</th>\n",
       "      <td>ice</td>\n",
       "      <td>1137.000000</td>\n",
       "    </tr>\n",
       "    <tr>\n",
       "      <th>1</th>\n",
       "      <td>rock</td>\n",
       "      <td>930.454545</td>\n",
       "    </tr>\n",
       "    <tr>\n",
       "      <th>2</th>\n",
       "      <td>ground</td>\n",
       "      <td>799.357143</td>\n",
       "    </tr>\n",
       "    <tr>\n",
       "      <th>3</th>\n",
       "      <td>dragon</td>\n",
       "      <td>766.000000</td>\n",
       "    </tr>\n",
       "    <tr>\n",
       "      <th>4</th>\n",
       "      <td>flying</td>\n",
       "      <td>612.473684</td>\n",
       "    </tr>\n",
       "    <tr>\n",
       "      <th>5</th>\n",
       "      <td>psychic</td>\n",
       "      <td>550.071429</td>\n",
       "    </tr>\n",
       "    <tr>\n",
       "      <th>6</th>\n",
       "      <td>fighting</td>\n",
       "      <td>542.500000</td>\n",
       "    </tr>\n",
       "    <tr>\n",
       "      <th>7</th>\n",
       "      <td>water</td>\n",
       "      <td>536.750000</td>\n",
       "    </tr>\n",
       "    <tr>\n",
       "      <th>8</th>\n",
       "      <td>normal</td>\n",
       "      <td>500.863636</td>\n",
       "    </tr>\n",
       "    <tr>\n",
       "      <th>9</th>\n",
       "      <td>fire</td>\n",
       "      <td>480.250000</td>\n",
       "    </tr>\n",
       "    <tr>\n",
       "      <th>10</th>\n",
       "      <td>steel</td>\n",
       "      <td>330.000000</td>\n",
       "    </tr>\n",
       "    <tr>\n",
       "      <th>11</th>\n",
       "      <td>electric</td>\n",
       "      <td>317.888889</td>\n",
       "    </tr>\n",
       "    <tr>\n",
       "      <th>12</th>\n",
       "      <td>grass</td>\n",
       "      <td>264.857143</td>\n",
       "    </tr>\n",
       "    <tr>\n",
       "      <th>13</th>\n",
       "      <td>fairy</td>\n",
       "      <td>239.000000</td>\n",
       "    </tr>\n",
       "    <tr>\n",
       "      <th>14</th>\n",
       "      <td>poison</td>\n",
       "      <td>238.545455</td>\n",
       "    </tr>\n",
       "    <tr>\n",
       "      <th>15</th>\n",
       "      <td>bug</td>\n",
       "      <td>229.916667</td>\n",
       "    </tr>\n",
       "    <tr>\n",
       "      <th>16</th>\n",
       "      <td>ghost</td>\n",
       "      <td>135.666667</td>\n",
       "    </tr>\n",
       "  </tbody>\n",
       "</table>\n",
       "</div>"
      ],
      "text/plain": [
       "        Name  AverageWeight\n",
       "0        ice    1137.000000\n",
       "1       rock     930.454545\n",
       "2     ground     799.357143\n",
       "3     dragon     766.000000\n",
       "4     flying     612.473684\n",
       "5    psychic     550.071429\n",
       "6   fighting     542.500000\n",
       "7      water     536.750000\n",
       "8     normal     500.863636\n",
       "9       fire     480.250000\n",
       "10     steel     330.000000\n",
       "11  electric     317.888889\n",
       "12     grass     264.857143\n",
       "13     fairy     239.000000\n",
       "14    poison     238.545455\n",
       "15       bug     229.916667\n",
       "16     ghost     135.666667"
      ]
     },
     "execution_count": 29,
     "metadata": {},
     "output_type": "execute_result"
    }
   ],
   "source": [
    "# Find the average weight for each type.\n",
    "### Order the results from highest weight to lowest weight.\n",
    "### Display the type name next to the average weight.\n",
    "q4 = '''\n",
    "SELECT types.name as Name, AVG(weight) as AverageWeight\n",
    "    FROM pokemon\n",
    "    JOIN pokemon_types\n",
    "        ON pokemon.id = pokemon_types.pokemon_id\n",
    "    JOIN types\n",
    "        ON pokemon_types.type_id = types.id\n",
    "    GROUP BY types.name\n",
    "    ORDER BY AverageWeight DESC;\n",
    "'''\n",
    "\n",
    "pd.read_sql(q4, conn)"
   ]
  },
  {
   "cell_type": "markdown",
   "id": "84113078",
   "metadata": {
    "slideshow": {
     "slide_type": "subslide"
    }
   },
   "source": [
    "#### Q5"
   ]
  },
  {
   "cell_type": "code",
   "execution_count": 52,
   "id": "dcadb8c8",
   "metadata": {
    "ExecuteTime": {
     "end_time": "2021-07-22T23:17:58.453237Z",
     "start_time": "2021-07-22T23:17:58.439255Z"
    }
   },
   "outputs": [
    {
     "data": {
      "text/html": [
       "<div>\n",
       "<style scoped>\n",
       "    .dataframe tbody tr th:only-of-type {\n",
       "        vertical-align: middle;\n",
       "    }\n",
       "\n",
       "    .dataframe tbody tr th {\n",
       "        vertical-align: top;\n",
       "    }\n",
       "\n",
       "    .dataframe thead th {\n",
       "        text-align: right;\n",
       "    }\n",
       "</style>\n",
       "<table border=\"1\" class=\"dataframe\">\n",
       "  <thead>\n",
       "    <tr style=\"text-align: right;\">\n",
       "      <th></th>\n",
       "      <th>Name</th>\n",
       "      <th>ID</th>\n",
       "    </tr>\n",
       "  </thead>\n",
       "  <tbody>\n",
       "    <tr>\n",
       "      <th>0</th>\n",
       "      <td>bulbasaur</td>\n",
       "      <td>1</td>\n",
       "    </tr>\n",
       "    <tr>\n",
       "      <th>1</th>\n",
       "      <td>ivysaur</td>\n",
       "      <td>2</td>\n",
       "    </tr>\n",
       "    <tr>\n",
       "      <th>2</th>\n",
       "      <td>venusaur</td>\n",
       "      <td>3</td>\n",
       "    </tr>\n",
       "    <tr>\n",
       "      <th>3</th>\n",
       "      <td>charizard</td>\n",
       "      <td>6</td>\n",
       "    </tr>\n",
       "    <tr>\n",
       "      <th>4</th>\n",
       "      <td>butterfree</td>\n",
       "      <td>12</td>\n",
       "    </tr>\n",
       "    <tr>\n",
       "      <th>...</th>\n",
       "      <td>...</td>\n",
       "      <td>...</td>\n",
       "    </tr>\n",
       "    <tr>\n",
       "      <th>62</th>\n",
       "      <td>aerodactyl</td>\n",
       "      <td>142</td>\n",
       "    </tr>\n",
       "    <tr>\n",
       "      <th>63</th>\n",
       "      <td>articuno</td>\n",
       "      <td>144</td>\n",
       "    </tr>\n",
       "    <tr>\n",
       "      <th>64</th>\n",
       "      <td>zapdos</td>\n",
       "      <td>145</td>\n",
       "    </tr>\n",
       "    <tr>\n",
       "      <th>65</th>\n",
       "      <td>moltres</td>\n",
       "      <td>146</td>\n",
       "    </tr>\n",
       "    <tr>\n",
       "      <th>66</th>\n",
       "      <td>dragonite</td>\n",
       "      <td>149</td>\n",
       "    </tr>\n",
       "  </tbody>\n",
       "</table>\n",
       "<p>67 rows × 2 columns</p>\n",
       "</div>"
      ],
      "text/plain": [
       "          Name   ID\n",
       "0    bulbasaur    1\n",
       "1      ivysaur    2\n",
       "2     venusaur    3\n",
       "3    charizard    6\n",
       "4   butterfree   12\n",
       "..         ...  ...\n",
       "62  aerodactyl  142\n",
       "63    articuno  144\n",
       "64      zapdos  145\n",
       "65     moltres  146\n",
       "66   dragonite  149\n",
       "\n",
       "[67 rows x 2 columns]"
      ]
     },
     "execution_count": 52,
     "metadata": {},
     "output_type": "execute_result"
    }
   ],
   "source": [
    "# Find the names and ids of the pokemon that have more than 1 type.\n",
    "q5 = '''\n",
    "SELECT pokemon.name as Name, pokemon.id as ID\n",
    "    FROM pokemon\n",
    "    JOIN pokemon_types\n",
    "        ON pokemon.id = pokemon_types.pokemon_id\n",
    "    GROUP BY name\n",
    "    HAVING COUNT(name) > 1\n",
    "    ORDER BY pokemon.id\n",
    "'''\n",
    "\n",
    "pd.read_sql(q5, conn)"
   ]
  },
  {
   "cell_type": "markdown",
   "id": "936369ab",
   "metadata": {},
   "source": [
    "#### Q6"
   ]
  },
  {
   "cell_type": "code",
   "execution_count": 64,
   "id": "b5f683c5",
   "metadata": {
    "ExecuteTime": {
     "end_time": "2021-07-22T23:28:28.337382Z",
     "start_time": "2021-07-22T23:28:28.328588Z"
    }
   },
   "outputs": [
    {
     "data": {
      "text/html": [
       "<div>\n",
       "<style scoped>\n",
       "    .dataframe tbody tr th:only-of-type {\n",
       "        vertical-align: middle;\n",
       "    }\n",
       "\n",
       "    .dataframe tbody tr th {\n",
       "        vertical-align: top;\n",
       "    }\n",
       "\n",
       "    .dataframe thead th {\n",
       "        text-align: right;\n",
       "    }\n",
       "</style>\n",
       "<table border=\"1\" class=\"dataframe\">\n",
       "  <thead>\n",
       "    <tr style=\"text-align: right;\">\n",
       "      <th></th>\n",
       "      <th>Name</th>\n",
       "      <th>TypeID</th>\n",
       "      <th>NumPokemon</th>\n",
       "    </tr>\n",
       "  </thead>\n",
       "  <tbody>\n",
       "    <tr>\n",
       "      <th>0</th>\n",
       "      <td>poison</td>\n",
       "      <td>4</td>\n",
       "      <td>33</td>\n",
       "    </tr>\n",
       "  </tbody>\n",
       "</table>\n",
       "</div>"
      ],
      "text/plain": [
       "     Name  TypeID  NumPokemon\n",
       "0  poison       4          33"
      ]
     },
     "execution_count": 64,
     "metadata": {},
     "output_type": "execute_result"
    }
   ],
   "source": [
    "# Find the id of the type that has the most pokemon. \n",
    "### Display type_id next to the number of pokemon having that type.\n",
    "q6 = '''\n",
    "SELECT types.name as Name, type_id as TypeID, COUNT(pokemon_id) as NumPokemon\n",
    "    FROM pokemon\n",
    "    JOIN pokemon_types\n",
    "        ON pokemon.id = pokemon_types.pokemon_id\n",
    "    JOIN types\n",
    "        ON types.id = pokemon_types.type_id\n",
    "    GROUP BY type_id\n",
    "    ORDER BY NumPokemon DESC\n",
    "    LIMIT 1\n",
    "'''\n",
    "\n",
    "pd.read_sql(q6, conn)"
   ]
  },
  {
   "cell_type": "code",
   "execution_count": null,
   "id": "4bc1fa50",
   "metadata": {},
   "outputs": [],
   "source": []
  }
 ],
 "metadata": {
  "kernelspec": {
   "display_name": "Python 3",
   "language": "python",
   "name": "python3"
  },
  "language_info": {
   "codemirror_mode": {
    "name": "ipython",
    "version": 3
   },
   "file_extension": ".py",
   "mimetype": "text/x-python",
   "name": "python",
   "nbconvert_exporter": "python",
   "pygments_lexer": "ipython3",
   "version": "3.6.9"
  },
  "toc": {
   "base_numbering": 1,
   "nav_menu": {},
   "number_sections": false,
   "sideBar": true,
   "skip_h1_title": false,
   "title_cell": "Table of Contents",
   "title_sidebar": "Contents",
   "toc_cell": false,
   "toc_position": {},
   "toc_section_display": true,
   "toc_window_display": true
  }
 },
 "nbformat": 4,
 "nbformat_minor": 5
}
