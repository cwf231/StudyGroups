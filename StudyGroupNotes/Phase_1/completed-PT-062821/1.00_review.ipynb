{
 "cells": [
  {
   "cell_type": "markdown",
   "id": "7232d1f1",
   "metadata": {},
   "source": [
    "# Thurs, 05 Aug - Python / Pandas Review\n",
    "\n",
    "***To prepare for today, please either clone this notebook locally or create a blank notebook that you can work in!***\n",
    "\n",
    "---\n",
    "\n",
    "- Our Phase 1 project will ask you to demonstrate:\n",
    "    - The workflow of the <a href='https://learning.flatironschool.com/courses/3567/pages/the-data-science-process?module_item_id=262598'>***Data Science Process***</a>\n",
    "    - <a href='https://github.com/cwf231/StudyGroups/blob/main/StudyGroupNotes/Phase_1/1.99_data_visualizations.ipynb'>***Making compelling visualizations***</a> \n",
    "    - Creativity in *asking* and *answering* questions\n",
    "    - Presentation-skills\n",
    "\n",
    "\n",
    "- It will also require you to demonstrate the skills you've been building in Python and Pandas.\n",
    "    - Reading csvs into Pandas\n",
    "    - Merging DataFrames\n",
    "    - Cleaning Data\n",
    "    - Filtering / Grouping Data\n",
    "    - Feature Engineering\n",
    "    - Using Python visualization tools \n",
    "        - *(Matplotlib / Seaborn / Plotly)*\n",
    "        \n",
    "        \n",
    "*Below is a Checklist for you to keep on hand as you're starting to look at the project assignment (released tomorrow!).*\n",
    "\n",
    "---"
   ]
  },
  {
   "cell_type": "markdown",
   "id": "d32b048b",
   "metadata": {},
   "source": [
    "## Phase 1 Project Checklist\n",
    "### Business Understanding: \n",
    "***Notebook clearly explains the project’s value for helping a specific stakeholder solve a real-world problem.***\n",
    "- Introduction explains the real-world problem the project aims to solve\n",
    "- Introduction identifies stakeholders who could use the project and how they would use it\n",
    "- Conclusion summarizes implications of the project for the real-world problem and stakeholders \n",
    "\n",
    "### Data Understanding: \n",
    "***Notebook clearly describes the source and properties of the data to show how useful the data are for solving the problem of - interest.***\n",
    "- Describe the data sources and explain why the data are suitable for the project\n",
    "- Present the size of the dataset and descriptive statistics for all features used in the analysis\n",
    "- Justify the inclusion of features based on their properties and relevance for the project\n",
    "- Identify any limitations of the data that have implications for the project\n",
    " \n",
    "### Data Preparation: \n",
    "***Notebook shows how you prepare your data and explains why by including…***\n",
    "- Instructions or code needed to get and prepare the raw data for analysis\n",
    "- Code comments and text to explain what your data preparation code does\n",
    "- Valid justifications for why the steps you took are appropriate for the problem you are solving\n",
    "\n",
    "### Data Analysis: \n",
    "***Notebook promotes three recommendations for choosing films to produce.***\n",
    "- Uses three or more findings from data analyses to support recommendations\n",
    "- Explains why the findings support the recommendations\n",
    "- Explains how the recommendations would help the new movie studio succeed\n",
    "\n",
    "### Visualization: \n",
    "***Notebook includes three relevant and polished visualizations of findings that…***\n",
    "- Help the project stakeholder understand the value or success of the project\n",
    "- Have text and marks to aid reader interpretation, such as graph and axis titles, axis ticks and labels, or legend - (varies by visualization type)\n",
    "- Use color, size, and/or location to appropriately facilitate comparisons\n",
    "- Are not cluttered, dense, or illegible\n",
    " \n",
    "### Code Quality: \n",
    "***Code in notebook and related files meets professional standards (e.g. PEP 8)***\n",
    "- Code is easy to read, using comments, spacing, variable names, and function docstrings\n",
    "- All code runs and no code or comments are included that are not needed for the project \n",
    "- Code minimizes repetition, using loops, functions, and classes\n",
    "- Code adapted from others is properly cited with author names and location of the cited material\n",
    " \n",
    "### GitHub Repository: \n",
    "***Project repository demonstrates professional “best practices”:***\n",
    "- README.md includes concise summary of project with all data science steps\n",
    "- README.md links to presentation and sources\n",
    "- README.md includes instructions for navigating the repository\n",
    "- Files and folders are named briefly and descriptively, with consistent naming conventions\n",
    "- Files and folders are organized logically and consistently\n",
    "- Commit history includes regular commits with informative commit messages\n",
    "- Large or sensitive files are listed in .gitignore and not pushed to GitHub\n",
    " \n",
    "### Presentation Content: \n",
    "***Presentation clearly demonstrates the value of the project to stakeholders by…***\n",
    "- Using plain language and clear visuals accessible to non-technical stakeholders\n",
    "- Describing the project goals, data, methods, and results\n",
    "- Explicitly connecting the descriptions of the project to stakeholder needs\n",
    "\n",
    "### Slide Style: \n",
    "***Slides have a professional style, such that...***\n",
    "- Slides use a professional template\n",
    "- Slides are not cluttered\n",
    "- Slides are light on text\n",
    "- Slide text is easily readable\n",
    "- Visuals are easy to understand\n",
    " \n",
    "### Presentation Delivery: \n",
    "***Deliver your presentation clearly and engagingly by...***\n",
    "- Speaking at a moderate volume and pace\n",
    "- Describing your project simply and succinctly in about 5 minutes\n",
    "- Using pauses, emphasis, or other variation in your speaking throughout the presentation\n",
    "- Having a distinct introduction and conclusion\n",
    " \n",
    "### Answers to Questions: \n",
    "***Answer questions clearly and appropriately by...***\n",
    "- Directly addressing all aspects of the question that was asked \n",
    "- Responding accurately, succinctly, and in plain language\n",
    "- Being sensitive to the knowledge level and interests of the asker\n",
    "- Explaining any reasons why you cannot fully answer a question\n"
   ]
  },
  {
   "cell_type": "code",
   "execution_count": 1,
   "id": "172cd080",
   "metadata": {
    "ExecuteTime": {
     "end_time": "2021-08-05T23:39:20.921123Z",
     "start_time": "2021-08-05T23:39:20.781342Z"
    }
   },
   "outputs": [],
   "source": [
    "import numpy as np"
   ]
  },
  {
   "cell_type": "code",
   "execution_count": 2,
   "id": "acb27f64",
   "metadata": {
    "ExecuteTime": {
     "end_time": "2021-08-05T23:39:20.926073Z",
     "start_time": "2021-08-05T23:39:20.923640Z"
    }
   },
   "outputs": [],
   "source": [
    "def pick_random_student():\n",
    "    return np.random.choice(['Lauren', 'Grace', 'John', 'Huseyin'])"
   ]
  },
  {
   "cell_type": "markdown",
   "id": "3e421c76",
   "metadata": {},
   "source": [
    "# Practice!\n",
    "### 0. Load Data - Together\n",
    "\n",
    "<a href='https://matplotlib.org/stable/gallery/style_sheets/style_sheets_reference.html'>*Matplotlib Style Options*</a>"
   ]
  },
  {
   "cell_type": "code",
   "execution_count": 3,
   "id": "9aa02fdd",
   "metadata": {
    "ExecuteTime": {
     "end_time": "2021-08-05T23:39:21.924213Z",
     "start_time": "2021-08-05T23:39:20.928271Z"
    }
   },
   "outputs": [],
   "source": [
    "# Imports!\n",
    "import pandas as pd\n",
    "import matplotlib.pyplot as plt\n",
    "import seaborn as sns\n",
    "\n",
    "%matplotlib inline\n",
    "plt.style.use(['tableau-colorblind10', 'seaborn-talk']) # Choose your favorite!"
   ]
  },
  {
   "cell_type": "code",
   "execution_count": 4,
   "id": "51f7026e",
   "metadata": {
    "ExecuteTime": {
     "end_time": "2021-08-05T23:39:21.952988Z",
     "start_time": "2021-08-05T23:39:21.926780Z"
    }
   },
   "outputs": [
    {
     "data": {
      "text/html": [
       "<div>\n",
       "<style scoped>\n",
       "    .dataframe tbody tr th:only-of-type {\n",
       "        vertical-align: middle;\n",
       "    }\n",
       "\n",
       "    .dataframe tbody tr th {\n",
       "        vertical-align: top;\n",
       "    }\n",
       "\n",
       "    .dataframe thead th {\n",
       "        text-align: right;\n",
       "    }\n",
       "</style>\n",
       "<table border=\"1\" class=\"dataframe\">\n",
       "  <thead>\n",
       "    <tr style=\"text-align: right;\">\n",
       "      <th></th>\n",
       "      <th>mpg</th>\n",
       "      <th>cylinders</th>\n",
       "      <th>displacement</th>\n",
       "      <th>horsepower</th>\n",
       "      <th>weight</th>\n",
       "      <th>acceleration</th>\n",
       "      <th>model_year</th>\n",
       "      <th>origin</th>\n",
       "      <th>name</th>\n",
       "    </tr>\n",
       "  </thead>\n",
       "  <tbody>\n",
       "    <tr>\n",
       "      <th>0</th>\n",
       "      <td>18.0</td>\n",
       "      <td>8</td>\n",
       "      <td>307.0</td>\n",
       "      <td>130.0</td>\n",
       "      <td>3504</td>\n",
       "      <td>12.0</td>\n",
       "      <td>70</td>\n",
       "      <td>usa</td>\n",
       "      <td>chevrolet chevelle malibu</td>\n",
       "    </tr>\n",
       "    <tr>\n",
       "      <th>1</th>\n",
       "      <td>15.0</td>\n",
       "      <td>8</td>\n",
       "      <td>350.0</td>\n",
       "      <td>165.0</td>\n",
       "      <td>3693</td>\n",
       "      <td>11.5</td>\n",
       "      <td>70</td>\n",
       "      <td>usa</td>\n",
       "      <td>buick skylark 320</td>\n",
       "    </tr>\n",
       "    <tr>\n",
       "      <th>2</th>\n",
       "      <td>18.0</td>\n",
       "      <td>8</td>\n",
       "      <td>318.0</td>\n",
       "      <td>150.0</td>\n",
       "      <td>3436</td>\n",
       "      <td>11.0</td>\n",
       "      <td>70</td>\n",
       "      <td>usa</td>\n",
       "      <td>plymouth satellite</td>\n",
       "    </tr>\n",
       "    <tr>\n",
       "      <th>3</th>\n",
       "      <td>16.0</td>\n",
       "      <td>8</td>\n",
       "      <td>304.0</td>\n",
       "      <td>150.0</td>\n",
       "      <td>3433</td>\n",
       "      <td>12.0</td>\n",
       "      <td>70</td>\n",
       "      <td>usa</td>\n",
       "      <td>amc rebel sst</td>\n",
       "    </tr>\n",
       "    <tr>\n",
       "      <th>4</th>\n",
       "      <td>17.0</td>\n",
       "      <td>8</td>\n",
       "      <td>302.0</td>\n",
       "      <td>140.0</td>\n",
       "      <td>3449</td>\n",
       "      <td>10.5</td>\n",
       "      <td>70</td>\n",
       "      <td>usa</td>\n",
       "      <td>ford torino</td>\n",
       "    </tr>\n",
       "  </tbody>\n",
       "</table>\n",
       "</div>"
      ],
      "text/plain": [
       "    mpg  cylinders  displacement  horsepower  weight  acceleration  \\\n",
       "0  18.0          8         307.0       130.0    3504          12.0   \n",
       "1  15.0          8         350.0       165.0    3693          11.5   \n",
       "2  18.0          8         318.0       150.0    3436          11.0   \n",
       "3  16.0          8         304.0       150.0    3433          12.0   \n",
       "4  17.0          8         302.0       140.0    3449          10.5   \n",
       "\n",
       "   model_year origin                       name  \n",
       "0          70    usa  chevrolet chevelle malibu  \n",
       "1          70    usa          buick skylark 320  \n",
       "2          70    usa         plymouth satellite  \n",
       "3          70    usa              amc rebel sst  \n",
       "4          70    usa                ford torino  "
      ]
     },
     "execution_count": 4,
     "metadata": {},
     "output_type": "execute_result"
    }
   ],
   "source": [
    "# Load data - let's play with the mpg dataset.\n",
    "df = sns.load_dataset('mpg')\n",
    "df.head()"
   ]
  },
  {
   "cell_type": "code",
   "execution_count": 5,
   "id": "5fbb04b3",
   "metadata": {
    "ExecuteTime": {
     "end_time": "2021-08-05T23:39:21.967765Z",
     "start_time": "2021-08-05T23:39:21.956139Z"
    }
   },
   "outputs": [
    {
     "name": "stdout",
     "output_type": "stream",
     "text": [
      "<class 'pandas.core.frame.DataFrame'>\n",
      "RangeIndex: 398 entries, 0 to 397\n",
      "Data columns (total 9 columns):\n",
      " #   Column        Non-Null Count  Dtype  \n",
      "---  ------        --------------  -----  \n",
      " 0   mpg           398 non-null    float64\n",
      " 1   cylinders     398 non-null    int64  \n",
      " 2   displacement  398 non-null    float64\n",
      " 3   horsepower    392 non-null    float64\n",
      " 4   weight        398 non-null    int64  \n",
      " 5   acceleration  398 non-null    float64\n",
      " 6   model_year    398 non-null    int64  \n",
      " 7   origin        398 non-null    object \n",
      " 8   name          398 non-null    object \n",
      "dtypes: float64(4), int64(3), object(2)\n",
      "memory usage: 28.1+ KB\n"
     ]
    }
   ],
   "source": [
    "df.info()"
   ]
  },
  {
   "cell_type": "markdown",
   "id": "75aca22c",
   "metadata": {},
   "source": [
    "### 1. Missing Values\n",
    "- *Are there missing values? If so, how many and where?*\n",
    "\n",
    "**Drop missing values**"
   ]
  },
  {
   "cell_type": "markdown",
   "id": "a1d43948",
   "metadata": {},
   "source": [
    "### 2. Create a visualization\n",
    "***Show how `weight` impacts `mpg`.***\n",
    "\n",
    "> (Hint: **continuous variable** compared to another **continuous variable**.)\n",
    "> - Include a title and axis-labels.\n",
    "> \n",
    "**Comment on what the visualization shows.**"
   ]
  },
  {
   "cell_type": "markdown",
   "id": "3ae92e4e",
   "metadata": {},
   "source": [
    "### 3. Create a visualization\n",
    "\n",
    "***Show how `origin` impacts `mpg`.***\n",
    "> (Hint: **Categorical variable** compared to **continuous variable**.)\n",
    "> \n",
    "> - *There are two simple ways to visualize this relationship. What are two ways to show the distribution of a population?*\n",
    "\n",
    "**Comment on what the visualization shows.**"
   ]
  },
  {
   "cell_type": "markdown",
   "id": "b006e86c",
   "metadata": {},
   "source": [
    "### 4. Filter the DataFrame.\n",
    "***Create a new DataFrame with only cars made in the USA. Store it in a variable.***"
   ]
  },
  {
   "cell_type": "markdown",
   "id": "5ff900cc",
   "metadata": {},
   "source": [
    "### 5. Write a function in Python.\n",
    "\n",
    "***The function should take a year-abbreviation (as in the column `model_year`) and return the decade the model was made in.***\n",
    "\n",
    "> - *You decide how to format the output specifically, however the output should be* ***formatted as a string.***\n",
    "> - *Test your function manually with a couple different `model_year` inputs.*"
   ]
  },
  {
   "cell_type": "markdown",
   "id": "122a88bc",
   "metadata": {},
   "source": [
    "### 6. Use the function!\n",
    "\n",
    "***Use the function to create a new column for your DataFrame.***\n",
    "\n",
    "*Call the new column `model_decade` and add it to the existing DataFrame.*"
   ]
  },
  {
   "cell_type": "markdown",
   "id": "ec86d01e",
   "metadata": {},
   "source": [
    "### 7. Aggregate your data.\n",
    "***Show the $\\LARGE mean$ and $\\LARGE count$ of each column for the different categories of `model_decade`.***"
   ]
  }
 ],
 "metadata": {
  "kernelspec": {
   "display_name": "Python [conda env:learn-env] *",
   "language": "python",
   "name": "conda-env-learn-env-py"
  },
  "language_info": {
   "codemirror_mode": {
    "name": "ipython",
    "version": 3
   },
   "file_extension": ".py",
   "mimetype": "text/x-python",
   "name": "python",
   "nbconvert_exporter": "python",
   "pygments_lexer": "ipython3",
   "version": "3.6.9"
  },
  "toc": {
   "base_numbering": 1,
   "nav_menu": {},
   "number_sections": false,
   "sideBar": true,
   "skip_h1_title": false,
   "title_cell": "Table of Contents",
   "title_sidebar": "Contents",
   "toc_cell": false,
   "toc_position": {
    "height": "calc(100% - 180px)",
    "left": "10px",
    "top": "150px",
    "width": "313px"
   },
   "toc_section_display": true,
   "toc_window_display": true
  }
 },
 "nbformat": 4,
 "nbformat_minor": 5
}
