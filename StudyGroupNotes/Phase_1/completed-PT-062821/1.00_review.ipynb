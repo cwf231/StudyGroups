{
 "cells": [
  {
   "cell_type": "markdown",
   "id": "c35ff4eb",
   "metadata": {},
   "source": [
    "# Thurs, 05 Aug - Python / Pandas Review\n",
    "\n",
    "***To prepare for today, please either clone this notebook locally or create a blank notebook that you can work in!***\n",
    "\n",
    "---\n",
    "\n",
    "- Our Phase 1 project will ask you to demonstrate:\n",
    "    - The workflow of the <a href='https://learning.flatironschool.com/courses/3567/pages/the-data-science-process?module_item_id=262598'>***Data Science Process***</a>\n",
    "    - <a href='https://github.com/cwf231/StudyGroups/blob/main/StudyGroupNotes/Phase_1/1.99_data_visualizations.ipynb'>***Making compelling visualizations***</a> \n",
    "    - Creativity in *asking* and *answering* questions\n",
    "    - Presentation-skills\n",
    "\n",
    "\n",
    "- It will also require you to demonstrate the skills you've been building in Python and Pandas.\n",
    "    - Reading csvs into Pandas\n",
    "    - Merging DataFrames\n",
    "    - Cleaning Data\n",
    "    - Filtering / Grouping Data\n",
    "    - Feature Engineering\n",
    "    - Using Python visualization tools \n",
    "        - *(Matplotlib / Seaborn / Plotly)*\n",
    "        \n",
    "        \n",
    "*Below is a Checklist for you to keep on hand as you're starting to look at the project assignment (released tomorrow!).*\n",
    "\n",
    "---"
   ]
  },
  {
   "cell_type": "markdown",
   "id": "cd424d18",
   "metadata": {},
   "source": [
    "## Phase 1 Project Checklist\n",
    "### Business Understanding: \n",
    "***Notebook clearly explains the project’s value for helping a specific stakeholder solve a real-world problem.***\n",
    "- Introduction explains the real-world problem the project aims to solve\n",
    "- Introduction identifies stakeholders who could use the project and how they would use it\n",
    "- Conclusion summarizes implications of the project for the real-world problem and stakeholders \n",
    "\n",
    "### Data Understanding: \n",
    "***Notebook clearly describes the source and properties of the data to show how useful the data are for solving the problem of - interest.***\n",
    "- Describe the data sources and explain why the data are suitable for the project\n",
    "- Present the size of the dataset and descriptive statistics for all features used in the analysis\n",
    "- Justify the inclusion of features based on their properties and relevance for the project\n",
    "- Identify any limitations of the data that have implications for the project\n",
    " \n",
    "### Data Preparation: \n",
    "***Notebook shows how you prepare your data and explains why by including…***\n",
    "- Instructions or code needed to get and prepare the raw data for analysis\n",
    "- Code comments and text to explain what your data preparation code does\n",
    "- Valid justifications for why the steps you took are appropriate for the problem you are solving\n",
    "\n",
    "### Data Analysis: \n",
    "***Notebook promotes three recommendations for choosing films to produce.***\n",
    "- Uses three or more findings from data analyses to support recommendations\n",
    "- Explains why the findings support the recommendations\n",
    "- Explains how the recommendations would help the new movie studio succeed\n",
    "\n",
    "### Visualization: \n",
    "***Notebook includes three relevant and polished visualizations of findings that…***\n",
    "- Help the project stakeholder understand the value or success of the project\n",
    "- Have text and marks to aid reader interpretation, such as graph and axis titles, axis ticks and labels, or legend - (varies by visualization type)\n",
    "- Use color, size, and/or location to appropriately facilitate comparisons\n",
    "- Are not cluttered, dense, or illegible\n",
    " \n",
    "### Code Quality: \n",
    "***Code in notebook and related files meets professional standards (e.g. PEP 8)***\n",
    "- Code is easy to read, using comments, spacing, variable names, and function docstrings\n",
    "- All code runs and no code or comments are included that are not needed for the project \n",
    "- Code minimizes repetition, using loops, functions, and classes\n",
    "- Code adapted from others is properly cited with author names and location of the cited material\n",
    " \n",
    "### GitHub Repository: \n",
    "***Project repository demonstrates professional “best practices”:***\n",
    "- README.md includes concise summary of project with all data science steps\n",
    "- README.md links to presentation and sources\n",
    "- README.md includes instructions for navigating the repository\n",
    "- Files and folders are named briefly and descriptively, with consistent naming conventions\n",
    "- Files and folders are organized logically and consistently\n",
    "- Commit history includes regular commits with informative commit messages\n",
    "- Large or sensitive files are listed in .gitignore and not pushed to GitHub\n",
    " \n",
    "### Presentation Content: \n",
    "***Presentation clearly demonstrates the value of the project to stakeholders by…***\n",
    "- Using plain language and clear visuals accessible to non-technical stakeholders\n",
    "- Describing the project goals, data, methods, and results\n",
    "- Explicitly connecting the descriptions of the project to stakeholder needs\n",
    "\n",
    "### Slide Style: \n",
    "***Slides have a professional style, such that...***\n",
    "- Slides use a professional template\n",
    "- Slides are not cluttered\n",
    "- Slides are light on text\n",
    "- Slide text is easily readable\n",
    "- Visuals are easy to understand\n",
    " \n",
    "### Presentation Delivery: \n",
    "***Deliver your presentation clearly and engagingly by...***\n",
    "- Speaking at a moderate volume and pace\n",
    "- Describing your project simply and succinctly in about 5 minutes\n",
    "- Using pauses, emphasis, or other variation in your speaking throughout the presentation\n",
    "- Having a distinct introduction and conclusion\n",
    " \n",
    "### Answers to Questions: \n",
    "***Answer questions clearly and appropriately by...***\n",
    "- Directly addressing all aspects of the question that was asked \n",
    "- Responding accurately, succinctly, and in plain language\n",
    "- Being sensitive to the knowledge level and interests of the asker\n",
    "- Explaining any reasons why you cannot fully answer a question\n"
   ]
  },
  {
   "cell_type": "markdown",
   "id": "0081d2bb",
   "metadata": {},
   "source": [
    "# Practice!\n",
    "### 0. Load Data - Together"
   ]
  },
  {
   "cell_type": "code",
   "execution_count": null,
   "id": "28330f66",
   "metadata": {
    "ExecuteTime": {
     "end_time": "2021-08-05T12:44:22.799302Z",
     "start_time": "2021-08-05T12:44:21.427690Z"
    }
   },
   "outputs": [],
   "source": [
    "# Imports!\n",
    "import pandas as pd\n",
    "import matplotlib.pyplot as plt\n",
    "import seaborn as sns"
   ]
  },
  {
   "cell_type": "code",
   "execution_count": null,
   "id": "cb1b4454",
   "metadata": {
    "ExecuteTime": {
     "end_time": "2021-08-05T12:48:53.209362Z",
     "start_time": "2021-08-05T12:48:53.191283Z"
    }
   },
   "outputs": [],
   "source": [
    "# Load data - let's play with the mpg dataset.\n",
    "df = sns.load_dataset('mpg')\n",
    "df.head()"
   ]
  },
  {
   "cell_type": "code",
   "execution_count": null,
   "id": "7f0e56ca",
   "metadata": {
    "ExecuteTime": {
     "end_time": "2021-08-05T12:48:57.477901Z",
     "start_time": "2021-08-05T12:48:57.468093Z"
    }
   },
   "outputs": [],
   "source": [
    "df.info()"
   ]
  },
  {
   "cell_type": "markdown",
   "id": "aa15f227",
   "metadata": {},
   "source": [
    "### 1. Missing Values\n",
    "- *Are there missing values? If so, how many and where?*\n",
    "\n",
    "**Drop missing values**"
   ]
  },
  {
   "cell_type": "markdown",
   "id": "d53fd78b",
   "metadata": {},
   "source": [
    "### 2. Create a visualization\n",
    "***Show how `weight` impacts `mpg`.***\n",
    "\n",
    "> (Hint: **continuous variable** compared to another **continuous variable**.)\n",
    "> - Include a title and axis-labels.\n",
    "> \n",
    "**Comment on what the visualization shows.**"
   ]
  },
  {
   "cell_type": "markdown",
   "id": "28760686",
   "metadata": {},
   "source": [
    "### 3. Create a visualization\n",
    "\n",
    "***Show how `origin` impacts `mpg`.***\n",
    "> (Hint: **Categorical variable** compared to **continuous variable**.)\n",
    "> \n",
    "> - *There are two simple ways to visualize this relationship. What are two ways to show the distribution of a population?*\n",
    "\n",
    "**Comment on what the visualization shows.**"
   ]
  },
  {
   "cell_type": "markdown",
   "id": "3815c9ba",
   "metadata": {},
   "source": [
    "### 4. Filter the DataFrame.\n",
    "***Create a new DataFrame with only cars made in the USA. Store it in a variable.***"
   ]
  },
  {
   "cell_type": "markdown",
   "id": "5712167a",
   "metadata": {},
   "source": [
    "### 5. Write a function in Python.\n",
    "\n",
    "***The function should take a year-abbreviation (as in the column `model_year`) and return the decade the model was made in.***\n",
    "\n",
    "> - *You decide how to format the output specifically, however the output should be* ***formatted as a string.***\n",
    "> - *Test your function manually with a couple different `model_year` inputs.*"
   ]
  },
  {
   "cell_type": "markdown",
   "id": "f751a99a",
   "metadata": {},
   "source": [
    "### 6. Use the function!\n",
    "\n",
    "***Use the function to create a new column for your DataFrame.***\n",
    "\n",
    "*Call the new column `model_decade` and add it to the existing DataFrame.*"
   ]
  },
  {
   "cell_type": "markdown",
   "id": "f5a87367",
   "metadata": {},
   "source": [
    "### 7. Aggregate your data.\n",
    "***Show the $\\LARGE mean$ and $\\LARGE count$ of each column for the different categories of `model_decade`.***"
   ]
  }
 ],
 "metadata": {
  "kernelspec": {
   "display_name": "Python [conda env:learn-env] *",
   "language": "python",
   "name": "conda-env-learn-env-py"
  },
  "language_info": {
   "codemirror_mode": {
    "name": "ipython",
    "version": 3
   },
   "file_extension": ".py",
   "mimetype": "text/x-python",
   "name": "python",
   "nbconvert_exporter": "python",
   "pygments_lexer": "ipython3",
   "version": "3.6.9"
  },
  "toc": {
   "base_numbering": 1,
   "nav_menu": {},
   "number_sections": false,
   "sideBar": true,
   "skip_h1_title": false,
   "title_cell": "Table of Contents",
   "title_sidebar": "Contents",
   "toc_cell": false,
   "toc_position": {
    "height": "calc(100% - 180px)",
    "left": "10px",
    "top": "150px",
    "width": "260px"
   },
   "toc_section_display": true,
   "toc_window_display": true
  }
 },
 "nbformat": 4,
 "nbformat_minor": 5
}
