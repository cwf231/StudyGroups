{
 "cells": [
  {
   "cell_type": "markdown",
   "id": "dabd178c",
   "metadata": {},
   "source": [
    "## Phase 1.03\n",
    "\n",
    "# Python Review\n",
    "\n",
    "## Objectives\n",
    "\n",
    "The purpose of this notebook is for you to review some of the Python covered in Bootcamp Prep, including the following: \n",
    "\n",
    "- Assigning variables\n",
    "- Classifying and explaining data types (integers, floats, strings, booleans, lists, dictionaries, and tuples)\n",
    "- Identifying comparators and boolean operators to create conditional code\n",
    "- Making use of lists: indexing, appending, and joining them\n",
    "- Making use of dictionaries: identifying, creating, and navigating them\n",
    "- Moving between lists and dictionaries (zipping lists together to make dictionaries, or pulling relevant data from a dictionary into a list)\n",
    "- Applying for loops to lists and dictionaries\n",
    "\n",
    "Some new things we're bringing up that weren't covered in Bootcamp Prep:\n",
    "\n",
    "- Using f-strings to print readable code with variables\n",
    "- Using `.zip()` to combine two iterables"
   ]
  },
  {
   "cell_type": "markdown",
   "id": "c1ec1bc2",
   "metadata": {},
   "source": [
    "### Leveling Up!\n",
    "Everyone is at a different stage of their Python journey. If you're feeling comfortable with all the topics covered in this notebook, I challenge you to check out the <a href='#level-up'>***leveling up challenge***</a> at the bottom of this notebook!\n",
    "\n",
    "It isn't strictly necessary, but being able to code Python challenges is going to speed up your development, boost your confidence, and prepare you for live-coding at interviews!\n",
    "\n",
    "Above all else though, it's just plain fun."
   ]
  },
  {
   "cell_type": "markdown",
   "id": "529966a8",
   "metadata": {},
   "source": [
    "# Coding Burritos!\n",
    "\n",
    "- Burritos can have multiple ingredients and choices!\n",
    "\n",
    "\n",
    "- By the end, we want to combine multiple burritos into one data collection, and print each item for the restaurant. "
   ]
  },
  {
   "cell_type": "markdown",
   "id": "e3a18230",
   "metadata": {},
   "source": [
    "## Variable assignment \n",
    "\n",
    "Let's start with our first burrito order:"
   ]
  },
  {
   "cell_type": "code",
   "execution_count": 1,
   "id": "5958f916",
   "metadata": {
    "ExecuteTime": {
     "end_time": "2021-07-09T00:08:41.986602Z",
     "start_time": "2021-07-09T00:08:41.975841Z"
    }
   },
   "outputs": [],
   "source": [
    "# Run this cell without changes\n",
    "protein = 'chicken'\n",
    "oz_of_protein = 3.5\n",
    "rice = 'white'\n",
    "double_wrap = True\n",
    "beans = 'pinto'\n",
    "tbs_of_guac = 4\n",
    "\n",
    "great_burrito = True"
   ]
  },
  {
   "cell_type": "code",
   "execution_count": 2,
   "id": "d8e3d874",
   "metadata": {
    "ExecuteTime": {
     "end_time": "2021-07-09T00:08:42.005626Z",
     "start_time": "2021-07-09T00:08:41.990583Z"
    }
   },
   "outputs": [
    {
     "data": {
      "text/plain": [
       "'chicken'"
      ]
     },
     "execution_count": 2,
     "metadata": {},
     "output_type": "execute_result"
    }
   ],
   "source": [
    "protein"
   ]
  },
  {
   "cell_type": "code",
   "execution_count": 3,
   "id": "33761fda",
   "metadata": {
    "ExecuteTime": {
     "end_time": "2021-07-09T00:08:42.016353Z",
     "start_time": "2021-07-09T00:08:42.010215Z"
    }
   },
   "outputs": [
    {
     "data": {
      "text/plain": [
       "str"
      ]
     },
     "execution_count": 3,
     "metadata": {},
     "output_type": "execute_result"
    }
   ],
   "source": [
    "type(protein)"
   ]
  },
  {
   "cell_type": "code",
   "execution_count": 4,
   "id": "fe40de05",
   "metadata": {
    "ExecuteTime": {
     "end_time": "2021-07-09T00:08:42.023737Z",
     "start_time": "2021-07-09T00:08:42.019900Z"
    }
   },
   "outputs": [
    {
     "data": {
      "text/plain": [
       "'5'"
      ]
     },
     "execution_count": 4,
     "metadata": {},
     "output_type": "execute_result"
    }
   ],
   "source": [
    "str(5)"
   ]
  },
  {
   "cell_type": "markdown",
   "id": "5fb350a0",
   "metadata": {},
   "source": [
    "Changing some variables..."
   ]
  },
  {
   "cell_type": "code",
   "execution_count": 5,
   "id": "5d850694",
   "metadata": {
    "ExecuteTime": {
     "end_time": "2021-07-09T00:08:42.031773Z",
     "start_time": "2021-07-09T00:08:42.026244Z"
    }
   },
   "outputs": [
    {
     "data": {
      "text/plain": [
       "'steak'"
      ]
     },
     "execution_count": 5,
     "metadata": {},
     "output_type": "execute_result"
    }
   ],
   "source": [
    "# Change protein to steak!\n",
    "protein = 'steak'\n",
    "protein"
   ]
  },
  {
   "cell_type": "code",
   "execution_count": 6,
   "id": "cef70fd9",
   "metadata": {
    "ExecuteTime": {
     "end_time": "2021-07-09T00:08:42.040371Z",
     "start_time": "2021-07-09T00:08:42.034509Z"
    }
   },
   "outputs": [
    {
     "data": {
      "text/plain": [
       "4.5"
      ]
     },
     "execution_count": 6,
     "metadata": {},
     "output_type": "execute_result"
    }
   ],
   "source": [
    "# Change the amount of protein to 4.5!\n",
    "oz_of_protein = 4.5\n",
    "oz_of_protein"
   ]
  },
  {
   "cell_type": "code",
   "execution_count": 7,
   "id": "0d8a6eaa",
   "metadata": {
    "ExecuteTime": {
     "end_time": "2021-07-09T00:08:42.047059Z",
     "start_time": "2021-07-09T00:08:42.043190Z"
    }
   },
   "outputs": [
    {
     "name": "stdout",
     "output_type": "stream",
     "text": [
      "brown\n",
      "black\n"
     ]
    }
   ],
   "source": [
    "# Change both variables ``rice`` & ``beans`` to \n",
    "# ``brown`` & ``black`` on the same line!\n",
    "rice, beans = 'brown', 'black'\n",
    "print(rice)\n",
    "print(beans)"
   ]
  },
  {
   "cell_type": "code",
   "execution_count": 8,
   "id": "e9bfc7aa",
   "metadata": {
    "ExecuteTime": {
     "end_time": "2021-07-09T00:08:42.058947Z",
     "start_time": "2021-07-09T00:08:42.055443Z"
    }
   },
   "outputs": [],
   "source": [
    "# What are the data types of these variables?\n"
   ]
  },
  {
   "cell_type": "markdown",
   "id": "3657a7e5",
   "metadata": {},
   "source": [
    "# Control Flow Operators, If Statements and Conditionals\n",
    "\n",
    "Now what if you have food allergies, or want to be able to evaluate a variable before changing it for any other reason?\n",
    "\n",
    "Well you're in luck, cause we have control flow operators and if statements and conditionals!\n",
    "\n",
    "Control flow operators include:\n",
    "\n",
    "```python\n",
    "== # Is equal to?\n",
    "!= # Is not equal to? \n",
    ">  # Is greater than?\n",
    "<  # Is less than?\n",
    "<= # Is less than or equal to?\n",
    ">= # Is greater than or equal to?\n",
    "```"
   ]
  },
  {
   "cell_type": "code",
   "execution_count": 9,
   "id": "8d1fc4fa",
   "metadata": {
    "ExecuteTime": {
     "end_time": "2021-07-09T00:08:42.067594Z",
     "start_time": "2021-07-09T00:08:42.063084Z"
    }
   },
   "outputs": [
    {
     "name": "stdout",
     "output_type": "stream",
     "text": [
      "Ok - looks delicious!\n"
     ]
    }
   ],
   "source": [
    "# Example of conditionals.\n",
    "if protein == 'salmon':\n",
    "    print(\"I'm allergic to fish!\")\n",
    "    \n",
    "elif oz_of_protein > 5:\n",
    "    print(\"I'm not *that* hungry!\")\n",
    "    \n",
    "else:\n",
    "    print('Ok - looks delicious!')"
   ]
  },
  {
   "cell_type": "code",
   "execution_count": 10,
   "id": "8aa8f6e4",
   "metadata": {
    "ExecuteTime": {
     "end_time": "2021-07-09T00:08:42.073527Z",
     "start_time": "2021-07-09T00:08:42.070290Z"
    }
   },
   "outputs": [],
   "source": [
    "# Changing the outcome of the conditionals.\n",
    "if protein == 'salmon':\n",
    "    great_burrito = False\n",
    "    \n",
    "elif oz_of_protein > 5:\n",
    "    great_burrito = False\n",
    "    \n",
    "else:\n",
    "    great_burrito = True"
   ]
  },
  {
   "cell_type": "code",
   "execution_count": 11,
   "id": "7f7acaf7",
   "metadata": {
    "ExecuteTime": {
     "end_time": "2021-07-09T00:08:42.080196Z",
     "start_time": "2021-07-09T00:08:42.076255Z"
    }
   },
   "outputs": [
    {
     "data": {
      "text/plain": [
       "True"
      ]
     },
     "execution_count": 11,
     "metadata": {},
     "output_type": "execute_result"
    }
   ],
   "source": [
    "# Checking: Is this a great burrito now?\n",
    "great_burrito"
   ]
  },
  {
   "cell_type": "markdown",
   "id": "da7df4f4",
   "metadata": {},
   "source": [
    "# Lists: Indexing, Appending, Joining"
   ]
  },
  {
   "cell_type": "markdown",
   "id": "9df14660",
   "metadata": {},
   "source": [
    "```python\n",
    "[] # list\n",
    "list()\n",
    "\n",
    "() # tuple\n",
    "tuple()\n",
    "\n",
    "{} # dictionary\n",
    "dict()\n",
    "```"
   ]
  },
  {
   "cell_type": "code",
   "execution_count": 12,
   "id": "2fa7f81b",
   "metadata": {
    "ExecuteTime": {
     "end_time": "2021-07-09T00:08:42.085765Z",
     "start_time": "2021-07-09T00:08:42.082916Z"
    }
   },
   "outputs": [],
   "source": [
    "# Create a list of possible proteins.\n",
    "burrito_proteins = ['chicken', 'steak', 'pork', 'tofu', 'beans']"
   ]
  },
  {
   "cell_type": "code",
   "execution_count": 13,
   "id": "987cad07",
   "metadata": {
    "ExecuteTime": {
     "end_time": "2021-07-09T00:08:42.092467Z",
     "start_time": "2021-07-09T00:08:42.088381Z"
    }
   },
   "outputs": [
    {
     "data": {
      "text/plain": [
       "'steak'"
      ]
     },
     "execution_count": 13,
     "metadata": {},
     "output_type": "execute_result"
    }
   ],
   "source": [
    "# Access the second element from the list (Indexing)\n",
    "burrito_proteins[1]"
   ]
  },
  {
   "cell_type": "code",
   "execution_count": 14,
   "id": "c3b42455",
   "metadata": {
    "ExecuteTime": {
     "end_time": "2021-07-09T00:08:42.100295Z",
     "start_time": "2021-07-09T00:08:42.095105Z"
    }
   },
   "outputs": [
    {
     "data": {
      "text/plain": [
       "['chicken', 'steak']"
      ]
     },
     "execution_count": 14,
     "metadata": {},
     "output_type": "execute_result"
    }
   ],
   "source": [
    "# Access the first two elements from the list (Slicing)\n",
    "burrito_proteins[:2]"
   ]
  },
  {
   "cell_type": "code",
   "execution_count": 15,
   "id": "7fbe05b0",
   "metadata": {
    "ExecuteTime": {
     "end_time": "2021-07-09T00:08:42.106788Z",
     "start_time": "2021-07-09T00:08:42.102704Z"
    }
   },
   "outputs": [
    {
     "data": {
      "text/plain": [
       "['tofu', 'beans']"
      ]
     },
     "execution_count": 15,
     "metadata": {},
     "output_type": "execute_result"
    }
   ],
   "source": [
    "# Access the last two elements from the list (Slicing)\n",
    "burrito_proteins[-2:]"
   ]
  },
  {
   "cell_type": "code",
   "execution_count": 16,
   "id": "14494d95",
   "metadata": {
    "ExecuteTime": {
     "end_time": "2021-07-09T00:08:42.116493Z",
     "start_time": "2021-07-09T00:08:42.108774Z"
    }
   },
   "outputs": [
    {
     "data": {
      "text/plain": [
       "['chicken', 'steak', 'pork', 'tofu', 'beans', 'beyond_meat']"
      ]
     },
     "execution_count": 16,
     "metadata": {},
     "output_type": "execute_result"
    }
   ],
   "source": [
    "# Add a protein to the list! (Appending)\n",
    "burrito_proteins.append('beyond_meat')\n",
    "burrito_proteins"
   ]
  },
  {
   "cell_type": "markdown",
   "id": "50c8882b",
   "metadata": {},
   "source": [
    "The list method `.pop()` is a very useful one, but can be tricky to understand!\n",
    "\n",
    "`my_lst.pop()` does two things:\n",
    "1. ***Returns*** the last element of `my_lst`.\n",
    "2. ***Removes*** the last element of `my_lst`."
   ]
  },
  {
   "cell_type": "code",
   "execution_count": 17,
   "id": "82c6e162",
   "metadata": {
    "ExecuteTime": {
     "end_time": "2021-07-09T00:08:42.125077Z",
     "start_time": "2021-07-09T00:08:42.119647Z"
    }
   },
   "outputs": [
    {
     "data": {
      "text/plain": [
       "'beyond_meat'"
      ]
     },
     "execution_count": 17,
     "metadata": {},
     "output_type": "execute_result"
    }
   ],
   "source": [
    "last_thing = burrito_proteins[-1]\n",
    "last_thing"
   ]
  },
  {
   "cell_type": "code",
   "execution_count": 18,
   "id": "ad2a80e1",
   "metadata": {
    "ExecuteTime": {
     "end_time": "2021-07-09T00:08:42.130889Z",
     "start_time": "2021-07-09T00:08:42.127501Z"
    }
   },
   "outputs": [],
   "source": [
    "# Using and understanding `.pop()`\n",
    "beyond = burrito_proteins.pop()"
   ]
  },
  {
   "cell_type": "code",
   "execution_count": 19,
   "id": "c626f63a",
   "metadata": {
    "ExecuteTime": {
     "end_time": "2021-07-09T00:08:42.141558Z",
     "start_time": "2021-07-09T00:08:42.135416Z"
    }
   },
   "outputs": [
    {
     "data": {
      "text/plain": [
       "['chicken', 'steak', 'pork', 'tofu', 'beans']"
      ]
     },
     "execution_count": 19,
     "metadata": {},
     "output_type": "execute_result"
    }
   ],
   "source": [
    "burrito_proteins"
   ]
  },
  {
   "cell_type": "code",
   "execution_count": 20,
   "id": "927e0ee6",
   "metadata": {
    "ExecuteTime": {
     "end_time": "2021-07-09T00:08:42.148188Z",
     "start_time": "2021-07-09T00:08:42.144177Z"
    }
   },
   "outputs": [
    {
     "data": {
      "text/plain": [
       "'beyond_meat'"
      ]
     },
     "execution_count": 20,
     "metadata": {},
     "output_type": "execute_result"
    }
   ],
   "source": [
    "beyond"
   ]
  },
  {
   "cell_type": "markdown",
   "id": "3b6a4c01",
   "metadata": {},
   "source": [
    "The string method `.join()` is used very often and is often confused as a list method!\n",
    "\n",
    "`my_string.join()` is applied to a string and joins together the elements of the list to `my_string`."
   ]
  },
  {
   "cell_type": "code",
   "execution_count": 21,
   "id": "b1fc72b4",
   "metadata": {
    "ExecuteTime": {
     "end_time": "2021-07-09T00:08:42.156734Z",
     "start_time": "2021-07-09T00:08:42.150898Z"
    }
   },
   "outputs": [
    {
     "data": {
      "text/plain": [
       "'chicken/////steak/////pork/////tofu/////beans'"
      ]
     },
     "execution_count": 21,
     "metadata": {},
     "output_type": "execute_result"
    }
   ],
   "source": [
    "# Print a list of proteins separated by a comma.\n",
    "'/////'.join(burrito_proteins)"
   ]
  },
  {
   "cell_type": "code",
   "execution_count": 22,
   "id": "f597b2a0",
   "metadata": {
    "ExecuteTime": {
     "end_time": "2021-07-09T00:08:42.164531Z",
     "start_time": "2021-07-09T00:08:42.159465Z"
    }
   },
   "outputs": [
    {
     "data": {
      "text/plain": [
       "'My protein is steak'"
      ]
     },
     "execution_count": 22,
     "metadata": {},
     "output_type": "execute_result"
    }
   ],
   "source": [
    "# Print the first element in the list using an f-string.\n",
    "# '{}'.format()\n",
    "f'My protein is {protein}'"
   ]
  },
  {
   "cell_type": "code",
   "execution_count": 23,
   "id": "7bd6136e",
   "metadata": {
    "ExecuteTime": {
     "end_time": "2021-07-09T00:08:42.179291Z",
     "start_time": "2021-07-09T00:08:42.175406Z"
    }
   },
   "outputs": [
    {
     "name": "stdout",
     "output_type": "stream",
     "text": [
      "My favorite is chicken.\n",
      "My favorite is steak.\n",
      "My favorite is pork.\n",
      "My favorite is tofu.\n",
      "My favorite is beans.\n"
     ]
    }
   ],
   "source": [
    "for p in burrito_proteins:\n",
    "    print(f'My favorite is {p}.')"
   ]
  },
  {
   "cell_type": "code",
   "execution_count": 24,
   "id": "22e2ed01",
   "metadata": {
    "ExecuteTime": {
     "end_time": "2021-07-09T00:08:42.190583Z",
     "start_time": "2021-07-09T00:08:42.183869Z"
    }
   },
   "outputs": [
    {
     "data": {
      "text/plain": [
       "'My favorite is chicken'"
      ]
     },
     "execution_count": 24,
     "metadata": {},
     "output_type": "execute_result"
    }
   ],
   "source": [
    "f'My favorite is {burrito_proteins[0]}'"
   ]
  },
  {
   "cell_type": "code",
   "execution_count": 25,
   "id": "8bef63a6",
   "metadata": {
    "ExecuteTime": {
     "end_time": "2021-07-09T00:08:42.197548Z",
     "start_time": "2021-07-09T00:08:42.193974Z"
    }
   },
   "outputs": [
    {
     "name": "stdout",
     "output_type": "stream",
     "text": [
      "chicken\n",
      "steak\n",
      "pork\n"
     ]
    }
   ],
   "source": [
    "print(burrito_proteins[0])\n",
    "print(burrito_proteins[1])\n",
    "print(burrito_proteins[2])"
   ]
  },
  {
   "cell_type": "markdown",
   "id": "eba58e3a",
   "metadata": {},
   "source": [
    "# Dictionaries\n",
    "\n",
    "With your list above, someone would need to tell you that \"pinto\" is the bean selection and \"chicken\" is the protein. \n",
    "\n",
    "Dictionaries let you assign **key** and **value** pairs, which connects a key like \"beans\" to a value like \"pinto\". Rather than using **indexing**, you use **keys** to return values."
   ]
  },
  {
   "cell_type": "code",
   "execution_count": 26,
   "id": "d9bd78b8",
   "metadata": {
    "ExecuteTime": {
     "end_time": "2021-07-09T00:08:42.208420Z",
     "start_time": "2021-07-09T00:08:42.200266Z"
    }
   },
   "outputs": [
    {
     "data": {
      "text/plain": [
       "{'protein': 'chicken',\n",
       " 'oz_of_protein': 3.5,\n",
       " 'rice': 'white',\n",
       " 'double_wrap': True,\n",
       " 'beans': 'pinto',\n",
       " 'tbs_of_guac': 4}"
      ]
     },
     "execution_count": 26,
     "metadata": {},
     "output_type": "execute_result"
    }
   ],
   "source": [
    "# Update the burrito to be a dictionary.\n",
    "### Use curly brackets.\n",
    "dct1 = {\n",
    "    'protein': 'chicken',\n",
    "    'oz_of_protein': 3.5,\n",
    "    'rice': 'white',\n",
    "    'double_wrap': True,\n",
    "    'beans': 'pinto',\n",
    "    'tbs_of_guac': 4,\n",
    "}\n",
    "dct1"
   ]
  },
  {
   "cell_type": "code",
   "execution_count": 27,
   "id": "1bf82e4a",
   "metadata": {
    "ExecuteTime": {
     "end_time": "2021-07-09T00:08:42.216732Z",
     "start_time": "2021-07-09T00:08:42.211193Z"
    }
   },
   "outputs": [
    {
     "data": {
      "text/plain": [
       "True"
      ]
     },
     "execution_count": 27,
     "metadata": {},
     "output_type": "execute_result"
    }
   ],
   "source": [
    "# Access one of the keys in the dictionary.\n",
    "dct1['double_wrap']"
   ]
  },
  {
   "cell_type": "code",
   "execution_count": 28,
   "id": "c9972ca6",
   "metadata": {
    "ExecuteTime": {
     "end_time": "2021-07-09T00:08:42.225177Z",
     "start_time": "2021-07-09T00:08:42.219187Z"
    }
   },
   "outputs": [
    {
     "data": {
      "text/plain": [
       "True"
      ]
     },
     "execution_count": 28,
     "metadata": {},
     "output_type": "execute_result"
    }
   ],
   "source": [
    "dct1.get('double_wrap')"
   ]
  },
  {
   "cell_type": "code",
   "execution_count": 29,
   "id": "466f43ef",
   "metadata": {
    "ExecuteTime": {
     "end_time": "2021-07-09T00:08:42.230855Z",
     "start_time": "2021-07-09T00:08:42.228173Z"
    }
   },
   "outputs": [],
   "source": [
    "# dct1['kind_of_rice']"
   ]
  },
  {
   "cell_type": "code",
   "execution_count": 30,
   "id": "e134e1c8",
   "metadata": {
    "ExecuteTime": {
     "end_time": "2021-07-09T00:08:42.238849Z",
     "start_time": "2021-07-09T00:08:42.233749Z"
    }
   },
   "outputs": [
    {
     "data": {
      "text/plain": [
       "\"It doesn't exist.\""
      ]
     },
     "execution_count": 30,
     "metadata": {},
     "output_type": "execute_result"
    }
   ],
   "source": [
    "dct1.get('kind_of_rice', \"It doesn't exist.\")"
   ]
  },
  {
   "cell_type": "code",
   "execution_count": 31,
   "id": "3b206ca7",
   "metadata": {
    "ExecuteTime": {
     "end_time": "2021-07-09T00:08:42.249995Z",
     "start_time": "2021-07-09T00:08:42.242893Z"
    }
   },
   "outputs": [
    {
     "data": {
      "text/plain": [
       "{'protein': 'chicken',\n",
       " 'oz_of_protein': 3.5,\n",
       " 'rice': 'white',\n",
       " 'double_wrap': True,\n",
       " 'beans': 'pinto',\n",
       " 'tbs_of_guac': 4}"
      ]
     },
     "execution_count": 31,
     "metadata": {},
     "output_type": "execute_result"
    }
   ],
   "source": [
    "### Use dict()\n",
    "dct2 = dict(\n",
    "    protein = 'chicken',\n",
    "    oz_of_protein = 3.5,\n",
    "    rice = 'white',\n",
    "    double_wrap = True,\n",
    "    beans = 'pinto',\n",
    "    tbs_of_guac = 4,\n",
    ")\n",
    "dct2"
   ]
  },
  {
   "cell_type": "code",
   "execution_count": 32,
   "id": "254d02e0",
   "metadata": {
    "ExecuteTime": {
     "end_time": "2021-07-09T00:08:42.255280Z",
     "start_time": "2021-07-09T00:08:42.252657Z"
    }
   },
   "outputs": [],
   "source": [
    "# Access one of the keys in the dictionary using .get().\n"
   ]
  },
  {
   "cell_type": "code",
   "execution_count": 33,
   "id": "70ed239f",
   "metadata": {
    "ExecuteTime": {
     "end_time": "2021-07-09T00:08:42.265914Z",
     "start_time": "2021-07-09T00:08:42.259703Z"
    }
   },
   "outputs": [
    {
     "data": {
      "text/plain": [
       "[('protein', 'chicken'), ('oz_of_protein', 10.0)]"
      ]
     },
     "execution_count": 33,
     "metadata": {},
     "output_type": "execute_result"
    }
   ],
   "source": [
    "### Use zip() with two lists and only two keys.\n",
    "lst1 = ['protein', 'oz_of_protein']\n",
    "lst2 = ['chicken', 10.0]\n",
    "\n",
    "list(zip(lst1, lst2))"
   ]
  },
  {
   "cell_type": "code",
   "execution_count": 34,
   "id": "4e0f8c54",
   "metadata": {
    "ExecuteTime": {
     "end_time": "2021-07-09T00:08:42.272289Z",
     "start_time": "2021-07-09T00:08:42.268113Z"
    }
   },
   "outputs": [
    {
     "data": {
      "text/plain": [
       "{'protein': 'chicken', 'oz_of_protein': 10.0}"
      ]
     },
     "execution_count": 34,
     "metadata": {},
     "output_type": "execute_result"
    }
   ],
   "source": [
    "dct3 = dict(zip(lst1, lst2))\n",
    "dct3"
   ]
  },
  {
   "cell_type": "code",
   "execution_count": 35,
   "id": "466c9cd0",
   "metadata": {
    "ExecuteTime": {
     "end_time": "2021-07-09T00:08:42.281159Z",
     "start_time": "2021-07-09T00:08:42.275012Z"
    }
   },
   "outputs": [
    {
     "data": {
      "text/plain": [
       "[(1, 4), (2, 5)]"
      ]
     },
     "execution_count": 35,
     "metadata": {},
     "output_type": "execute_result"
    }
   ],
   "source": [
    "list(zip([1,2,3], [4,5]))"
   ]
  },
  {
   "cell_type": "code",
   "execution_count": 36,
   "id": "98d67d8a",
   "metadata": {
    "ExecuteTime": {
     "end_time": "2021-07-09T00:08:42.290398Z",
     "start_time": "2021-07-09T00:08:42.284221Z"
    }
   },
   "outputs": [
    {
     "data": {
      "text/plain": [
       "[(1, 2), (2, 3), (3, 4), (4, 5), (5, 6)]"
      ]
     },
     "execution_count": 36,
     "metadata": {},
     "output_type": "execute_result"
    }
   ],
   "source": [
    "# Consecutive pairs.\n",
    "n_lst = [1,2,3,4,5,6]\n",
    "list(zip(n_lst, n_lst[1:]))"
   ]
  },
  {
   "cell_type": "code",
   "execution_count": 37,
   "id": "54e00202",
   "metadata": {
    "ExecuteTime": {
     "end_time": "2021-07-09T00:08:42.308682Z",
     "start_time": "2021-07-09T00:08:42.292780Z"
    }
   },
   "outputs": [
    {
     "data": {
      "text/plain": [
       "[{'protein': 'chicken',\n",
       "  'oz_of_protein': 3.5,\n",
       "  'rice': 'white',\n",
       "  'double_wrap': True,\n",
       "  'beans': 'pinto',\n",
       "  'tbs_of_guac': 4},\n",
       " {'protein': 'chicken',\n",
       "  'oz_of_protein': 3.5,\n",
       "  'rice': 'white',\n",
       "  'double_wrap': True,\n",
       "  'beans': 'pinto',\n",
       "  'tbs_of_guac': 4},\n",
       " {'protein': 'chicken', 'oz_of_protein': 10.0}]"
      ]
     },
     "execution_count": 37,
     "metadata": {},
     "output_type": "execute_result"
    }
   ],
   "source": [
    "# Compile the three above dictionaries into a list.\n",
    "lst_of_dcts = [\n",
    "    dct1,\n",
    "    dct2,\n",
    "    dct3\n",
    "]\n",
    "lst_of_dcts"
   ]
  },
  {
   "cell_type": "code",
   "execution_count": 38,
   "id": "7df01d1f",
   "metadata": {
    "ExecuteTime": {
     "end_time": "2021-07-09T00:08:42.321057Z",
     "start_time": "2021-07-09T00:08:42.312358Z"
    }
   },
   "outputs": [
    {
     "data": {
      "text/plain": [
       "{'bob': {'protein': 'chicken',\n",
       "  'oz_of_protein': 3.5,\n",
       "  'rice': 'white',\n",
       "  'double_wrap': True,\n",
       "  'beans': 'pinto',\n",
       "  'tbs_of_guac': 4},\n",
       " 'mary': {'protein': 'chicken',\n",
       "  'oz_of_protein': 3.5,\n",
       "  'rice': 'white',\n",
       "  'double_wrap': True,\n",
       "  'beans': 'pinto',\n",
       "  'tbs_of_guac': 4},\n",
       " 'jake': {'protein': 'chicken', 'oz_of_protein': 10.0}}"
      ]
     },
     "execution_count": 38,
     "metadata": {},
     "output_type": "execute_result"
    }
   ],
   "source": [
    "# Compile the three above dictionaries into a dictionary {`person`: `burrito`}\n",
    "people = ['bob', 'mary', 'jake']\n",
    "\n",
    "new_dct = {}\n",
    "for p, burrito in zip(people, lst_of_dcts):\n",
    "    new_dct[p] = burrito\n",
    "new_dct    "
   ]
  },
  {
   "cell_type": "code",
   "execution_count": 39,
   "id": "7882da01",
   "metadata": {
    "ExecuteTime": {
     "end_time": "2021-07-09T00:08:42.330065Z",
     "start_time": "2021-07-09T00:08:42.324130Z"
    }
   },
   "outputs": [
    {
     "data": {
      "text/plain": [
       "'chicken'"
      ]
     },
     "execution_count": 39,
     "metadata": {},
     "output_type": "execute_result"
    }
   ],
   "source": [
    "new_dct['bob']['protein']"
   ]
  },
  {
   "cell_type": "markdown",
   "id": "a90b97b4",
   "metadata": {},
   "source": [
    "# For loops"
   ]
  },
  {
   "cell_type": "code",
   "execution_count": 40,
   "id": "4925731b",
   "metadata": {
    "ExecuteTime": {
     "end_time": "2021-07-09T00:08:42.339119Z",
     "start_time": "2021-07-09T00:08:42.332877Z"
    }
   },
   "outputs": [
    {
     "name": "stdout",
     "output_type": "stream",
     "text": [
      "('bob', {'protein': 'chicken', 'oz_of_protein': 3.5, 'rice': 'white', 'double_wrap': True, 'beans': 'pinto', 'tbs_of_guac': 4})\n",
      "('mary', {'protein': 'chicken', 'oz_of_protein': 3.5, 'rice': 'white', 'double_wrap': True, 'beans': 'pinto', 'tbs_of_guac': 4})\n",
      "('jake', {'protein': 'chicken', 'oz_of_protein': 10.0})\n"
     ]
    }
   ],
   "source": [
    "# Iterate over the \"master dictionary\" and print each person's order.\n",
    "\n",
    "# `new_dct` prints only keys\n",
    "# `new_dct.values()` prints only values\n",
    "for x in new_dct.items(): # prints both (keys, values)\n",
    "    print(x)"
   ]
  },
  {
   "cell_type": "code",
   "execution_count": 41,
   "id": "7832ae18",
   "metadata": {
    "ExecuteTime": {
     "end_time": "2021-07-09T00:08:42.348712Z",
     "start_time": "2021-07-09T00:08:42.342250Z"
    }
   },
   "outputs": [
    {
     "data": {
      "text/plain": [
       "{'bob': {'protein': 'chicken',\n",
       "  'oz_of_protein': 3.5,\n",
       "  'rice': 'white',\n",
       "  'double_wrap': True,\n",
       "  'beans': 'pinto',\n",
       "  'tbs_of_guac': 4},\n",
       " 'mary': {'protein': 'chicken',\n",
       "  'oz_of_protein': 3.5,\n",
       "  'rice': 'white',\n",
       "  'double_wrap': True,\n",
       "  'beans': 'pinto',\n",
       "  'tbs_of_guac': 4},\n",
       " 'jake': {'protein': 'chicken', 'oz_of_protein': 10.0}}"
      ]
     },
     "execution_count": 41,
     "metadata": {},
     "output_type": "execute_result"
    }
   ],
   "source": [
    "new_dct"
   ]
  },
  {
   "cell_type": "code",
   "execution_count": 42,
   "id": "0c38e36b",
   "metadata": {
    "ExecuteTime": {
     "end_time": "2021-07-09T00:08:42.356946Z",
     "start_time": "2021-07-09T00:08:42.351488Z"
    }
   },
   "outputs": [
    {
     "name": "stdout",
     "output_type": "stream",
     "text": [
      "bob\n",
      "{'protein': 'chicken', 'oz_of_protein': 3.5, 'rice': 'white', 'double_wrap': True, 'beans': 'pinto', 'tbs_of_guac': 4}\n",
      "\n",
      "mary\n",
      "{'protein': 'chicken', 'oz_of_protein': 3.5, 'rice': 'white', 'double_wrap': True, 'beans': 'pinto', 'tbs_of_guac': 4}\n",
      "\n",
      "jake\n",
      "{'protein': 'chicken', 'oz_of_protein': 10.0}\n",
      "\n"
     ]
    }
   ],
   "source": [
    "for name in new_dct:\n",
    "    print(name)\n",
    "    print(new_dct[name])\n",
    "    print() #adds new line"
   ]
  },
  {
   "cell_type": "code",
   "execution_count": 43,
   "id": "9c27e6f7",
   "metadata": {
    "ExecuteTime": {
     "end_time": "2021-07-09T00:08:42.364730Z",
     "start_time": "2021-07-09T00:08:42.360354Z"
    }
   },
   "outputs": [
    {
     "name": "stdout",
     "output_type": "stream",
     "text": [
      "bob\n",
      "mary\n",
      "jake\n"
     ]
    }
   ],
   "source": [
    "for x in new_dct:#.keys():\n",
    "    print(x)"
   ]
  },
  {
   "cell_type": "code",
   "execution_count": 44,
   "id": "3ebf2488",
   "metadata": {
    "ExecuteTime": {
     "end_time": "2021-07-09T00:08:42.372170Z",
     "start_time": "2021-07-09T00:08:42.368125Z"
    }
   },
   "outputs": [
    {
     "name": "stdout",
     "output_type": "stream",
     "text": [
      "4\n",
      "4\n",
      "Missing\n"
     ]
    }
   ],
   "source": [
    "# Iterate over each dictionary using .get() to show an ingredient.\n",
    "for name in new_dct:\n",
    "    print(new_dct[name].get('tbs_of_guac', 'Missing'))"
   ]
  },
  {
   "cell_type": "code",
   "execution_count": 45,
   "id": "7aed3e01",
   "metadata": {
    "ExecuteTime": {
     "end_time": "2021-07-09T00:08:42.380112Z",
     "start_time": "2021-07-09T00:08:42.374659Z"
    }
   },
   "outputs": [
    {
     "data": {
      "text/plain": [
       "[('bob', 'chicken'), ('mary', 'chicken'), ('jake', 'chicken')]"
      ]
     },
     "execution_count": 45,
     "metadata": {},
     "output_type": "execute_result"
    }
   ],
   "source": [
    "# Create a new list of tuples: `(person, protein)`\n",
    "tup_lst = []\n",
    "for name in new_dct:\n",
    "    pro = new_dct[name]['protein']\n",
    "    tup_lst.append((name, pro))\n",
    "    \n",
    "tup_lst"
   ]
  },
  {
   "cell_type": "markdown",
   "id": "44ce713e",
   "metadata": {},
   "source": [
    "---\n",
    "---\n",
    "---"
   ]
  },
  {
   "cell_type": "markdown",
   "id": "f80e3686",
   "metadata": {},
   "source": [
    "<a id='level-up'></a>\n",
    "# Level-Up!\n",
    "\n",
    "---\n",
    "\n",
    "***The Guessing Game***\n",
    "\n",
    "*Your challenge is to write a program called Guessing Game. Your solution should be in the form of a function or a `.py` file.*\n",
    "\n",
    "***How it works.***\n",
    "1. *The program prompts the user to think of a number between 1 and 100 (inclusive).*\n",
    "2. *The computer should ask questions (`'Is your number greater than (>), less than (<), or equal to (=) {COMPUTER_GUESS}?'`) and wait for the user's response.*\n",
    "3. *Based on the information given by the user, the computer makes another guess of the number.*\n",
    "4. *Repeat steps 2 & 3 until the number is guessed.*\n",
    "5. *Return a statement showing how many steps / questions were needed to guess the number.*\n",
    "\n",
    "***Notes:***\n",
    "- *Your program should not accept any invalid input.*\n",
    "    - *If user enters an invalid value, user should be asked again to enter a valid answer.*\n",
    "- *Your program should know if the user is cheating and send an error message.*\n",
    "- *The computer should take as few steps as possible to guess the number.*\n",
    "\n",
    "---\n",
    "\n",
    "*If you've never used `input()` before, try*\n",
    "\n",
    "```python\n",
    "my_variable = input('Type something and hit enter!')\n",
    "```\n",
    "\n",
    "*...in a cell below!*\n",
    "\n",
    "---\n",
    "\n",
    "*Define the function below, or try using `!touch guessing_game.py` in the cell below to create a new python file to work in!*"
   ]
  },
  {
   "cell_type": "code",
   "execution_count": 46,
   "id": "25364bc1",
   "metadata": {
    "ExecuteTime": {
     "end_time": "2021-07-09T00:08:42.386137Z",
     "start_time": "2021-07-09T00:08:42.382804Z"
    }
   },
   "outputs": [],
   "source": [
    "def guessing_game(n_min=1, n_max=100):\n",
    "    \"\"\"The computer will guess the user's secret number!\"\"\"\n",
    "    \n",
    "    # Your code here.\n",
    "    pass"
   ]
  }
 ],
 "metadata": {
  "kernelspec": {
   "display_name": "Python 3",
   "language": "python",
   "name": "python3"
  },
  "language_info": {
   "codemirror_mode": {
    "name": "ipython",
    "version": 3
   },
   "file_extension": ".py",
   "mimetype": "text/x-python",
   "name": "python",
   "nbconvert_exporter": "python",
   "pygments_lexer": "ipython3",
   "version": "3.6.9"
  },
  "toc": {
   "base_numbering": 1,
   "nav_menu": {},
   "number_sections": false,
   "sideBar": true,
   "skip_h1_title": false,
   "title_cell": "Table of Contents",
   "title_sidebar": "Contents",
   "toc_cell": false,
   "toc_position": {
    "height": "calc(100% - 180px)",
    "left": "10px",
    "top": "150px",
    "width": "342px"
   },
   "toc_section_display": true,
   "toc_window_display": true
  }
 },
 "nbformat": 4,
 "nbformat_minor": 5
}
