{
 "cells": [
  {
   "cell_type": "markdown",
   "id": "005ca267",
   "metadata": {},
   "source": [
    "## Phase 1.09\n",
    "\n",
    "# APIs"
   ]
  },
  {
   "cell_type": "markdown",
   "id": "22521a5d",
   "metadata": {},
   "source": [
    "## What is an API?\n",
    "An ***Application Programming Interfaces*** *(API)* is a communication protocol between 2 software systems. \n",
    "\n",
    "It describes the mechanism through which if one system requests some information using a predefined format, a remote system responds with an outcome that gets sent back to the first system.\n",
    "\n",
    "### Request / Response Cycle\n",
    "<img src='images/new_client-server-illustration.png' width=600>"
   ]
  },
  {
   "cell_type": "markdown",
   "id": "5e05b576",
   "metadata": {},
   "source": [
    "## API Keys\n",
    "### What is an API Key?\n",
    "- An application programming interface key (API key) is a unique identifier used to authenticate a user, developer, or calling program to an API.\n",
    "\n",
    "- API Keys are used to track activity from the Server-side and sometimes limit / charge based on a criteria.\n",
    "    - *Ex: Some APIs allow a daily request-limit before you need to pay for a subscription.*\n",
    "    \n",
    "> *Yelp - Rate Limiting:* *https://www.yelp.com/developers/documentation/v3/rate_limiting*\n",
    "\n",
    "---\n",
    "\n",
    "- An API key should be treated like a password. These keys should never be shared or published in notebooks / `.py` files.\n",
    "- If using an API Key in a project, it should never be printed or displayed."
   ]
  },
  {
   "cell_type": "markdown",
   "id": "3dcc2034",
   "metadata": {},
   "source": [
    "### Using API Keys in Jupyter Notebooks\n",
    "#### Secret Files / Directories\n",
    "1. Create a *dot-directory* (ex: `Desktop/.secret/`)\n",
    "2. Inside this directory, create a `json` file with the password stored.\n",
    "    - `{\"api_key\": \"x01x01x01x01\"}`\n",
    "3. Load this file manually.\n",
    "\n",
    "> ```python\n",
    "> import json\n",
    "> \n",
    "> F_PATH = 'Desktop/.secret/my_secrets.json'\n",
    "> with open(F_PATH) as f:\n",
    ">     SECRET =  json.load(f).get('api_key')\n",
    "> ```"
   ]
  },
  {
   "cell_type": "markdown",
   "id": "143bc5bb",
   "metadata": {},
   "source": [
    "#### Environment Variables ***(Preferred)***\n",
    "- `.bash_profile` *(or `.zshrc`)*\n",
    "\n",
    "```bash\n",
    "# >>> conda initialize >>>\n",
    "# !! Contents within this block are managed by 'conda init' !!\n",
    "[...]\n",
    "# <<< conda initialize <<<\n",
    "\n",
    "export MY_SECRET=\"a super secret code\"\n",
    "export [...]\n",
    "\n",
    "alias jnb=\"jupyter notebook\"\n",
    "alias [...]\n",
    "```"
   ]
  },
  {
   "cell_type": "code",
   "execution_count": null,
   "id": "6cdc1ee3",
   "metadata": {
    "ExecuteTime": {
     "end_time": "2021-07-12T12:04:19.752052Z",
     "start_time": "2021-07-12T12:04:19.734918Z"
    }
   },
   "outputs": [],
   "source": [
    "import os"
   ]
  },
  {
   "cell_type": "code",
   "execution_count": null,
   "id": "6236f1ec",
   "metadata": {
    "ExecuteTime": {
     "end_time": "2021-07-12T12:04:19.752052Z",
     "start_time": "2021-07-12T12:04:19.734918Z"
    }
   },
   "outputs": [],
   "source": [
    "os.environ.get('MY_SECRET', 'No environment variable found.')"
   ]
  },
  {
   "cell_type": "markdown",
   "id": "07bd2bd8",
   "metadata": {},
   "source": [
    "# Using Requests\n",
    "> *Official Documentation: https://docs.python-requests.org/en/master/*"
   ]
  },
  {
   "cell_type": "code",
   "execution_count": null,
   "id": "6654a3cb",
   "metadata": {
    "ExecuteTime": {
     "end_time": "2021-07-09T12:53:17.917045Z",
     "start_time": "2021-07-09T12:53:17.734573Z"
    }
   },
   "outputs": [],
   "source": [
    "import requests"
   ]
  },
  {
   "cell_type": "markdown",
   "id": "3d3b3e38",
   "metadata": {},
   "source": [
    "> *URL: https://en.wikipedia.org/wiki/Red-bellied_black_snake*"
   ]
  },
  {
   "cell_type": "code",
   "execution_count": null,
   "id": "f5f812de",
   "metadata": {
    "ExecuteTime": {
     "end_time": "2021-07-09T13:20:18.552094Z",
     "start_time": "2021-07-09T13:20:18.053898Z"
    }
   },
   "outputs": [],
   "source": [
    "URL = 'https://en.wikipedia.org/wiki/Red-bellied_black_snake'\n",
    "r = requests.get(URL)\n",
    "if r.ok:\n",
    "    print(f'It worked!\\n\\tStatus Code: {r.status_code}')\n",
    "else:\n",
    "    print(f'Not ok!\\n\\tStatus Code: {r.status_code}')"
   ]
  },
  {
   "cell_type": "code",
   "execution_count": null,
   "id": "788f62d1",
   "metadata": {
    "ExecuteTime": {
     "end_time": "2021-07-09T13:05:41.891948Z",
     "start_time": "2021-07-09T13:05:41.888197Z"
    }
   },
   "outputs": [],
   "source": [
    "r.headers"
   ]
  },
  {
   "cell_type": "code",
   "execution_count": null,
   "id": "fd69386f",
   "metadata": {
    "ExecuteTime": {
     "end_time": "2021-07-09T13:06:02.848641Z",
     "start_time": "2021-07-09T13:06:02.843783Z"
    }
   },
   "outputs": [],
   "source": [
    "r.headers.get('content-type')"
   ]
  },
  {
   "cell_type": "code",
   "execution_count": null,
   "id": "ffc955d3",
   "metadata": {
    "ExecuteTime": {
     "end_time": "2021-07-09T13:05:10.605693Z",
     "start_time": "2021-07-09T13:05:10.602245Z"
    }
   },
   "outputs": [],
   "source": [
    "r.encoding"
   ]
  },
  {
   "cell_type": "code",
   "execution_count": null,
   "id": "06e0c8d5",
   "metadata": {
    "ExecuteTime": {
     "end_time": "2021-07-09T13:08:00.285065Z",
     "start_time": "2021-07-09T13:08:00.277191Z"
    }
   },
   "outputs": [],
   "source": [
    "r.text"
   ]
  },
  {
   "cell_type": "markdown",
   "id": "1f0968e3",
   "metadata": {},
   "source": [
    "# APIs: Yelp Demo from Curriculum\n",
    "\n",
    "> - *Getting started: https://www.yelp.com/developers/documentation/v3/get_started*\n",
    "> - *Authentication: https://www.yelp.com/developers/documentation/v3/authentication*\n",
    "> - *Search Parameters: https://www.yelp.com/developers/documentation/v3/business_search*\n",
    "\n",
    "---\n",
    "\n",
    "```python\n",
    "term = 'Mexican'\n",
    "location = 'Astoria NY'\n",
    "SEARCH_LIMIT = 10\n",
    "\n",
    "url = 'https://api.yelp.com/v3/businesses/search'\n",
    "\n",
    "headers = {\n",
    "        'Authorization': f'Bearer {api_key}',\n",
    "    }\n",
    "\n",
    "url_params = {\n",
    "                'term': term.replace(' ', '+'),\n",
    "                'location': location.replace(' ', '+'),\n",
    "                'limit': SEARCH_LIMIT\n",
    "            }\n",
    "response = requests.get(url, headers=headers, params=url_params)\n",
    "```"
   ]
  },
  {
   "cell_type": "markdown",
   "id": "9e8d79ef",
   "metadata": {},
   "source": [
    "# Practice: Using an API\n",
    "\n",
    "We'll be experimenting with using an API by accessing a free API for *Formula One*.\n",
    "> *http://ergast.com/mrd/*"
   ]
  },
  {
   "cell_type": "code",
   "execution_count": null,
   "id": "3c7486c0",
   "metadata": {
    "ExecuteTime": {
     "end_time": "2021-07-09T13:17:18.097407Z",
     "start_time": "2021-07-09T13:17:18.095263Z"
    }
   },
   "outputs": [],
   "source": [
    "# Request for json of Race Results from 2021.\n"
   ]
  },
  {
   "cell_type": "code",
   "execution_count": null,
   "id": "0b26eff3",
   "metadata": {
    "ExecuteTime": {
     "end_time": "2021-07-09T13:13:27.955816Z",
     "start_time": "2021-07-09T13:13:27.953494Z"
    }
   },
   "outputs": [],
   "source": [
    "import json"
   ]
  },
  {
   "cell_type": "code",
   "execution_count": null,
   "id": "51bb2a37",
   "metadata": {
    "ExecuteTime": {
     "end_time": "2021-07-09T13:17:22.864576Z",
     "start_time": "2021-07-09T13:17:22.862423Z"
    },
    "scrolled": true
   },
   "outputs": [],
   "source": [
    "# Save data into json format.\n"
   ]
  },
  {
   "cell_type": "code",
   "execution_count": null,
   "id": "40d05ed1",
   "metadata": {
    "ExecuteTime": {
     "end_time": "2021-07-09T13:14:48.119594Z",
     "start_time": "2021-07-09T13:14:48.117502Z"
    }
   },
   "outputs": [],
   "source": [
    "# Explore!\n"
   ]
  },
  {
   "cell_type": "code",
   "execution_count": null,
   "id": "4c803f5e",
   "metadata": {},
   "outputs": [],
   "source": []
  },
  {
   "cell_type": "code",
   "execution_count": null,
   "id": "a33f9366",
   "metadata": {},
   "outputs": [],
   "source": []
  },
  {
   "cell_type": "markdown",
   "id": "d2a04d6d",
   "metadata": {},
   "source": [
    "*If you were wondering when you'd use the skills from the **JSON Lab**...here we go!*\n",
    "\n",
    "*Let's come up with some questions we can answer.*"
   ]
  },
  {
   "cell_type": "code",
   "execution_count": null,
   "id": "fca510a4",
   "metadata": {},
   "outputs": [],
   "source": [
    "# Print the first-place finishers for each race this season.\n"
   ]
  },
  {
   "cell_type": "code",
   "execution_count": null,
   "id": "5c6ba44f",
   "metadata": {},
   "outputs": [],
   "source": []
  }
 ],
 "metadata": {
  "kernelspec": {
   "display_name": "Python 3",
   "language": "python",
   "name": "python3"
  },
  "language_info": {
   "codemirror_mode": {
    "name": "ipython",
    "version": 3
   },
   "file_extension": ".py",
   "mimetype": "text/x-python",
   "name": "python",
   "nbconvert_exporter": "python",
   "pygments_lexer": "ipython3",
   "version": "3.6.9"
  },
  "toc": {
   "base_numbering": 1,
   "nav_menu": {},
   "number_sections": false,
   "sideBar": true,
   "skip_h1_title": false,
   "title_cell": "Table of Contents",
   "title_sidebar": "Contents",
   "toc_cell": false,
   "toc_position": {
    "height": "calc(100% - 180px)",
    "left": "10px",
    "top": "150px",
    "width": "379px"
   },
   "toc_section_display": true,
   "toc_window_display": true
  }
 },
 "nbformat": 4,
 "nbformat_minor": 5
}
