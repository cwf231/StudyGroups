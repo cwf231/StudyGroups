{
 "cells": [
  {
   "cell_type": "markdown",
   "id": "d98cad7d",
   "metadata": {
    "slideshow": {
     "slide_type": "slide"
    }
   },
   "source": [
    "## Phase 1\n",
    "\n",
    "# Data Visualizations: A Primer\n",
    "\n",
    "## Why do we visualize data?"
   ]
  },
  {
   "cell_type": "code",
   "execution_count": null,
   "id": "91257075",
   "metadata": {
    "ExecuteTime": {
     "end_time": "2021-07-07T14:53:04.557449Z",
     "start_time": "2021-07-07T14:53:03.056101Z"
    },
    "slideshow": {
     "slide_type": "skip"
    }
   },
   "outputs": [],
   "source": [
    "import pandas as pd\n",
    "import numpy as np\n",
    "import seaborn as sns\n",
    "import matplotlib.pyplot as plt"
   ]
  },
  {
   "cell_type": "code",
   "execution_count": null,
   "id": "d39b75b1",
   "metadata": {
    "ExecuteTime": {
     "end_time": "2021-07-07T14:53:04.569334Z",
     "start_time": "2021-07-07T14:53:04.559420Z"
    },
    "slideshow": {
     "slide_type": "skip"
    }
   },
   "outputs": [],
   "source": [
    "plt.style.use('seaborn-talk')\n",
    "np.random.seed(2021)\n",
    "pd.set_option(\"display.max_columns\", None)\n",
    "\n",
    "df = pd.read_csv('data/anscombes_quartet.csv', index_col=0)"
   ]
  },
  {
   "cell_type": "markdown",
   "id": "99a00984",
   "metadata": {
    "slideshow": {
     "slide_type": "slide"
    }
   },
   "source": [
    "### Looking at the Tables\n",
    "*Below we see four datasets, each with two dimensions.*\n",
    "\n",
    "> *`(x_I, y_I), (x_II, y_II), ...`, etc*\n",
    "\n",
    "*Let's look at the raw data. Can we make any insights?*"
   ]
  },
  {
   "cell_type": "code",
   "execution_count": null,
   "id": "cc348257",
   "metadata": {
    "ExecuteTime": {
     "end_time": "2021-07-07T14:53:04.599027Z",
     "start_time": "2021-07-07T14:53:04.572275Z"
    },
    "slideshow": {
     "slide_type": "slide"
    }
   },
   "outputs": [],
   "source": [
    "# Look at the table(s).\n",
    "df"
   ]
  },
  {
   "cell_type": "markdown",
   "id": "8d0651d8",
   "metadata": {
    "slideshow": {
     "slide_type": "slide"
    }
   },
   "source": [
    "### Looking at the descriptive statistics.\n",
    "*Perhaps more insight can be gained by reading into the descriptive statistics.*"
   ]
  },
  {
   "cell_type": "code",
   "execution_count": null,
   "id": "46273455",
   "metadata": {
    "ExecuteTime": {
     "end_time": "2021-07-07T14:53:04.608965Z",
     "start_time": "2021-07-07T14:53:04.602285Z"
    },
    "slideshow": {
     "slide_type": "skip"
    }
   },
   "outputs": [],
   "source": [
    "# Compare descriptive statistics.\n",
    "def compare_stats(df):\n",
    "    for xidx, yidx in zip(df.columns, df.columns[1:]):\n",
    "        if xidx.startswith('y'):\n",
    "            continue\n",
    "        print(xidx)\n",
    "        print(f'Mean of x:\\t\\t{df[xidx].mean()}')\n",
    "        print(f'Variance of x:\\t\\t{df[xidx].var()}')\n",
    "        print(f'Mean of y:\\t\\t{round(df[yidx].mean(), 2)}')\n",
    "        print(f'Variance of y:\\t\\t{round(df[yidx].var(), 3)}')\n",
    "        corr_value = round(df[[xidx, yidx]].corr().iloc[0, 1], 3)\n",
    "        print(f'Correlation of x, y:\\t{corr_value}')\n",
    "        print('*'*40)\n",
    "        print()"
   ]
  },
  {
   "cell_type": "code",
   "execution_count": null,
   "id": "b9b78007",
   "metadata": {
    "ExecuteTime": {
     "end_time": "2021-07-07T14:53:04.623022Z",
     "start_time": "2021-07-07T14:53:04.611019Z"
    },
    "slideshow": {
     "slide_type": "slide"
    }
   },
   "outputs": [],
   "source": [
    "# Look at the stats.\n",
    "compare_stats(df)"
   ]
  },
  {
   "cell_type": "markdown",
   "id": "c55c594d",
   "metadata": {
    "slideshow": {
     "slide_type": "slide"
    }
   },
   "source": [
    "### Plotting the datasets.\n",
    "*We should now attempt to see this dataset geographically.*"
   ]
  },
  {
   "cell_type": "code",
   "execution_count": null,
   "id": "45ff235a",
   "metadata": {
    "ExecuteTime": {
     "end_time": "2021-07-07T14:53:04.631621Z",
     "start_time": "2021-07-07T14:53:04.624726Z"
    },
    "slideshow": {
     "slide_type": "skip"
    }
   },
   "outputs": [],
   "source": [
    "def plot_anscombe(df):\n",
    "    with plt.style.context('seaborn-talk'):\n",
    "        fig, ax_lst = plt.subplots(\n",
    "            ncols=2, nrows=2, figsize=(10, 10), sharex=True, sharey=True)\n",
    "        for ax, label in zip(ax_lst.flatten(), ['I', 'II', 'III', 'IV']):\n",
    "            x_col = f'x_{label}'\n",
    "            y_col = f'y_{label}'\n",
    "            ax.scatter(x=df[x_col], y=df[y_col])\n",
    "            ax.set(title=label)\n",
    "        plt.tight_layout()\n",
    "        plt.show()"
   ]
  },
  {
   "cell_type": "code",
   "execution_count": null,
   "id": "f7474f74",
   "metadata": {
    "ExecuteTime": {
     "end_time": "2021-07-07T14:53:05.168272Z",
     "start_time": "2021-07-07T14:53:04.634912Z"
    },
    "slideshow": {
     "slide_type": "slide"
    }
   },
   "outputs": [],
   "source": [
    "# Look at the plots.\n",
    "plot_anscombe(df)"
   ]
  },
  {
   "cell_type": "markdown",
   "id": "99ffbb95",
   "metadata": {
    "slideshow": {
     "slide_type": "slide"
    }
   },
   "source": [
    "### Anscombe's Quartet: Background\n",
    "> *https://en.wikipedia.org/wiki/Anscombe%27s_quartet*"
   ]
  },
  {
   "cell_type": "markdown",
   "id": "94453289",
   "metadata": {
    "slideshow": {
     "slide_type": "subslide"
    }
   },
   "source": [
    "- The above example is a demonstration created by statistician **Francis Anscombe** in 1973. \n",
    "- There was a famous idea (from fellow statisticians) that \"*numerical calculations are exact, but graphs are rough.*\""
   ]
  },
  {
   "cell_type": "markdown",
   "id": "d1f3fa61",
   "metadata": {
    "slideshow": {
     "slide_type": "subslide"
    }
   },
   "source": [
    "- The demonstration above is a very clear refutation to this concept. \n",
    "- With the given datasets, the exact opposite is shown: *numerical calculations can be **misleading**, while graphs can be **insightful**.*"
   ]
  },
  {
   "cell_type": "markdown",
   "id": "95918489",
   "metadata": {
    "slideshow": {
     "slide_type": "subslide"
    }
   },
   "source": [
    "- There is even more to note about the datasets beyond the descriptive statistics:\n",
    "    - All linear regression lines have the same slope and intercept.\n",
    "        $$\\large y = 3.00 + 0.500x$$\n",
    "    - All linear regression *coefficient of determinations* *($R^2$)* are the same. \n",
    "        $$\\large R^2 = 0.67 $$"
   ]
  },
  {
   "cell_type": "markdown",
   "id": "b983fd64",
   "metadata": {
    "slideshow": {
     "slide_type": "slide"
    }
   },
   "source": [
    "## How do we visualize data?\n",
    "\n",
    "### Pre-attentive Attributes\n",
    "> **Pre-attentive processing** is the subconscious accumulation of information from the environment. All available information is pre-attentively processed. Then, the brain filters and processes what is important. Information that has the highest salience (a stimulus that stands out the most) or relevance to what a person is thinking about is selected for further and more complete analysis by conscious (attentive) processing. Understanding how pre-attentive processing works is useful in advertising, in education, and for prediction of cognitive ability.\n",
    ">\n",
    "> - <a href='https://en.wikipedia.org/wiki/Pre-attentive_processing'>*Pre-attentive_processing - Wiki*</a>"
   ]
  },
  {
   "cell_type": "markdown",
   "id": "d2f25696",
   "metadata": {
    "slideshow": {
     "slide_type": "subslide"
    }
   },
   "source": [
    "- Simply put, *pre-attentive attributes* are attributes our brain processes before we consciously pay attention to them."
   ]
  },
  {
   "cell_type": "code",
   "execution_count": null,
   "id": "51759108",
   "metadata": {
    "ExecuteTime": {
     "end_time": "2021-07-07T14:53:05.174414Z",
     "start_time": "2021-07-07T14:53:05.171852Z"
    },
    "slideshow": {
     "slide_type": "skip"
    }
   },
   "outputs": [],
   "source": [
    "# Create a number grid for demo.\n",
    "NUMBER_GRID = np.random.randint(1, 10, size=(10, 10))"
   ]
  },
  {
   "cell_type": "code",
   "execution_count": null,
   "id": "4845aa01",
   "metadata": {
    "ExecuteTime": {
     "end_time": "2021-07-07T14:53:05.186846Z",
     "start_time": "2021-07-07T14:53:05.177524Z"
    },
    "slideshow": {
     "slide_type": "slide"
    }
   },
   "outputs": [],
   "source": [
    "# Count the number of `9`s in this matrix.\n",
    "pd.DataFrame(NUMBER_GRID)"
   ]
  },
  {
   "cell_type": "code",
   "execution_count": null,
   "id": "94d01018",
   "metadata": {
    "ExecuteTime": {
     "end_time": "2021-07-07T14:53:05.327581Z",
     "start_time": "2021-07-07T14:53:05.189302Z"
    },
    "slideshow": {
     "slide_type": "slide"
    }
   },
   "outputs": [],
   "source": [
    "# Count the number of `9`s in the matrix now!\n",
    "(pd.DataFrame(NUMBER_GRID)\n",
    " .style\n",
    " .applymap(lambda x: 'background-color: yellow' if x == 9 else ''))"
   ]
  },
  {
   "cell_type": "code",
   "execution_count": null,
   "id": "d4901221",
   "metadata": {
    "ExecuteTime": {
     "end_time": "2021-07-07T14:53:05.333783Z",
     "start_time": "2021-07-07T14:53:05.330113Z"
    },
    "slideshow": {
     "slide_type": "skip"
    }
   },
   "outputs": [],
   "source": [
    "NUMBER_GRID_LARGE = np.random.randint(1, 9, size=(10, 40))\n",
    "NUMBER_GRID_LARGE[3, 31] = 9"
   ]
  },
  {
   "cell_type": "code",
   "execution_count": null,
   "id": "efaee5d6",
   "metadata": {
    "ExecuteTime": {
     "end_time": "2021-07-07T14:53:05.418000Z",
     "start_time": "2021-07-07T14:53:05.335819Z"
    },
    "slideshow": {
     "slide_type": "slide"
    }
   },
   "outputs": [],
   "source": [
    "# How about now?\n",
    "(pd.DataFrame(NUMBER_GRID_LARGE)\n",
    " .style\n",
    " .applymap(lambda x: 'background-color: yellow' if x == 9 else ''))"
   ]
  },
  {
   "cell_type": "code",
   "execution_count": null,
   "id": "1b745a6b",
   "metadata": {
    "ExecuteTime": {
     "end_time": "2021-07-07T14:53:05.440070Z",
     "start_time": "2021-07-07T14:53:05.420267Z"
    },
    "slideshow": {
     "slide_type": "skip"
    }
   },
   "outputs": [],
   "source": [
    "def plot_features():\n",
    "    \"\"\"\n",
    "    Demonstrate some pre-attentive attributes, namely:\n",
    "    \n",
    "    - Length\n",
    "    - Width\n",
    "    - Size\n",
    "    - Shape\n",
    "    - Color\n",
    "        - Hue\n",
    "        - Value\n",
    "    - Position\n",
    "    - Marks\n",
    "    \"\"\"\n",
    "    \n",
    "    labels = [\n",
    "        ('Length', 'bar', \n",
    "         dict(x=[1,2,3,4], \n",
    "              height=[2,5,2,2],\n",
    "              width=0.2,\n",
    "              color='lightgrey')),\n",
    "        ('Width', 'bar', \n",
    "         dict(x=[1,2,3,4], \n",
    "              height=[2,2,2,2], \n",
    "              width=[0.2, 0.8, 0.2, 0.2],\n",
    "              color='lightgrey')),\n",
    "        ('Size', 'scatter', \n",
    "         dict(x=[1,1,1,2,2,2,3,3,3], \n",
    "              y=[1,2,3,1,2,3,1,2,3], \n",
    "              s=[200,200,200,200,200,200,200,1200,200],\n",
    "              color='lightgrey')),\n",
    "        ('Shape', 'shape-scatter', \n",
    "         dict(x=[1,1,1,2,2,2,3,3,3], \n",
    "              y=[1,2,3,1,2,3,1,2,3], \n",
    "              s=200,\n",
    "              color='lightgrey')),\n",
    "        ('Color - Hue', 'scatter', \n",
    "         dict(x=[1,1,1,2,2,2,3,3,3], \n",
    "              y=[1,2,3,1,2,3,1,2,3], \n",
    "              s=200, \n",
    "              color=['lightgrey','lightgrey','lightgrey',\n",
    "                     'lightgrey','lightgrey','lightgrey',\n",
    "                     'lightgrey','tab:red','lightgrey'])),\n",
    "        ('Color - Value', 'scatter',\n",
    "         dict(x=[1,1,1,2,2,2,3,3,3], \n",
    "              y=[1,2,3,1,2,3,1,2,3], \n",
    "              s=200, \n",
    "              color=['lightgrey','lightgrey','lightgrey',\n",
    "                     'lightgrey','lightgrey','lightgrey',\n",
    "                     'lightgrey','black','lightgrey'])),\n",
    "        ('Position', 'scatter',  \n",
    "         dict(x=[1,1,1,2,2,2,3,4,3], \n",
    "              y=[1,2,3,1,2,3,1,2,3], \n",
    "              s=200, \n",
    "              color='lightgrey')),\n",
    "        ('Label', 'label-scatter', \n",
    "         dict(x=[1,1,1,2,2,2,3,3,3], \n",
    "              y=[1,2,3,1,2,3,1,2,3], \n",
    "              s=200, \n",
    "              color='lightgrey'))\n",
    "    ]\n",
    "    \n",
    "    # Make plot.\n",
    "    with plt.style.context('seaborn-talk'):\n",
    "        fig, ax_lst = plt.subplots(ncols=4, nrows=2, figsize=(16, 8))\n",
    "        for (label, plot_type, kwargs), ax in zip(labels, \n",
    "                                                  ax_lst.flatten()):\n",
    "            if plot_type == 'bar':\n",
    "                ax.bar(**kwargs)\n",
    "            elif plot_type == 'scatter':\n",
    "                ax.scatter(**kwargs)\n",
    "            elif plot_type == 'label-scatter':\n",
    "                ax.scatter(**kwargs)\n",
    "                ax.annotate(\n",
    "                    'Look!', \n",
    "                    (3, 2), \n",
    "                    xytext=(2.5, 1.5), \n",
    "                    arrowprops=dict(arrowstyle='simple')\n",
    "                    )\n",
    "            elif plot_type == 'shape-scatter':\n",
    "                # No functionality to have different marker types on the same scatter.\n",
    "                for idx, (x, y) in enumerate(zip(kwargs['x'], kwargs['y'])):\n",
    "                    if idx == 4:\n",
    "                        marker = 'x'\n",
    "                    else:\n",
    "                        marker = 'o'\n",
    "                    ax.scatter(\n",
    "                        x, y, \n",
    "                        s=kwargs['s'], \n",
    "                        color=kwargs['color'], \n",
    "                        marker=marker)\n",
    "            ax.set(title=label)\n",
    "            ax.set_xlim(-0.5, 4.5)\n",
    "            ax.set_ylim(0, 4)\n",
    "            ax.spines['right'].set_visible(False)\n",
    "            ax.spines['top'].set_visible(False)\n",
    "            ax.get_xaxis().set_visible(False)\n",
    "            ax.get_yaxis().set_visible(False)\n",
    "        plt.tight_layout()\n",
    "        plt.show()"
   ]
  },
  {
   "cell_type": "code",
   "execution_count": null,
   "id": "2852aad8",
   "metadata": {
    "ExecuteTime": {
     "end_time": "2021-07-07T14:53:06.026734Z",
     "start_time": "2021-07-07T14:53:05.442684Z"
    },
    "slideshow": {
     "slide_type": "slide"
    }
   },
   "outputs": [],
   "source": [
    "# Demonstration of different pre-attentive features.\n",
    "plot_features()"
   ]
  },
  {
   "cell_type": "markdown",
   "id": "09f722ff",
   "metadata": {
    "slideshow": {
     "slide_type": "slide"
    }
   },
   "source": [
    "## A Note on Color\n",
    "\n",
    "- Color is often used recklessly. Many times, people will try to add \"excitement\" to a visualization by using color."
   ]
  },
  {
   "cell_type": "code",
   "execution_count": null,
   "id": "6627916c",
   "metadata": {
    "ExecuteTime": {
     "end_time": "2021-07-07T14:53:06.031203Z",
     "start_time": "2021-07-07T14:53:06.028398Z"
    },
    "slideshow": {
     "slide_type": "skip"
    }
   },
   "outputs": [],
   "source": [
    "def apply_bg_colormap(n):\n",
    "    dct = {\n",
    "        0: 'red',\n",
    "        1: 'orange',\n",
    "        2: 'yellow',\n",
    "        3: 'green',\n",
    "        4: 'blue',\n",
    "        5: 'magenta',\n",
    "        6: 'violet',\n",
    "        7: 'olive',\n",
    "        8: 'firebrick',\n",
    "        9: 'lightcyan'\n",
    "    }\n",
    "    return f'background-color: {dct[n]}'"
   ]
  },
  {
   "cell_type": "code",
   "execution_count": null,
   "id": "0078380f",
   "metadata": {
    "ExecuteTime": {
     "end_time": "2021-07-07T14:53:06.056871Z",
     "start_time": "2021-07-07T14:53:06.032787Z"
    },
    "slideshow": {
     "slide_type": "skip"
    }
   },
   "outputs": [],
   "source": [
    "### Not a good use of color!\n",
    "# Adding colors can be more distracting than helpful!\n",
    "(pd.DataFrame(NUMBER_GRID)\n",
    " .style\n",
    " .applymap(apply_bg_colormap))"
   ]
  },
  {
   "cell_type": "code",
   "execution_count": null,
   "id": "8c977b57",
   "metadata": {
    "ExecuteTime": {
     "end_time": "2021-07-07T14:53:06.398494Z",
     "start_time": "2021-07-07T14:53:06.059202Z"
    },
    "slideshow": {
     "slide_type": "slide"
    }
   },
   "outputs": [],
   "source": [
    "### Not a good use of color!\n",
    "# Color in this plot is redundant to the x-axis.\n",
    "fig, ax = plt.subplots(figsize=(12, 6))\n",
    "sns.barplot(data=NUMBER_GRID, ax=ax)\n",
    "ax.axis('off')\n",
    "fig.tight_layout()"
   ]
  },
  {
   "cell_type": "markdown",
   "id": "dfdd0402",
   "metadata": {
    "slideshow": {
     "slide_type": "slide"
    }
   },
   "source": [
    "### Using Color Effectively"
   ]
  },
  {
   "cell_type": "markdown",
   "id": "1aeb792f",
   "metadata": {
    "slideshow": {
     "slide_type": "subslide"
    }
   },
   "source": [
    "#### *Sequential Colors*\n",
    "<img src='images/irish-american.jpeg' width=500>"
   ]
  },
  {
   "cell_type": "markdown",
   "id": "c8d2d044",
   "metadata": {
    "slideshow": {
     "slide_type": "subslide"
    }
   },
   "source": [
    "#### *Diverging Colors*\n",
    "\n",
    "<img src='images/1times.png' width=500>"
   ]
  },
  {
   "cell_type": "markdown",
   "id": "626802dd",
   "metadata": {
    "slideshow": {
     "slide_type": "subslide"
    }
   },
   "source": [
    "#### *Categorical Colors*"
   ]
  },
  {
   "cell_type": "code",
   "execution_count": null,
   "id": "62e24d70",
   "metadata": {
    "ExecuteTime": {
     "end_time": "2021-07-07T14:53:06.706340Z",
     "start_time": "2021-07-07T14:53:06.400198Z"
    },
    "slideshow": {
     "slide_type": "fragment"
    }
   },
   "outputs": [],
   "source": [
    "fig, ax = plt.subplots(figsize=(12,6))\n",
    "sns.scatterplot(\n",
    "    x='sepal_length', y='sepal_width', hue='species', \n",
    "    data=sns.load_dataset('iris'), s=150, ax=ax\n",
    "    )\n",
    "fig.tight_layout()"
   ]
  },
  {
   "cell_type": "code",
   "execution_count": null,
   "id": "28b34423",
   "metadata": {
    "ExecuteTime": {
     "end_time": "2021-07-07T14:53:06.711001Z",
     "start_time": "2021-07-07T14:53:06.708006Z"
    },
    "slideshow": {
     "slide_type": "skip"
    }
   },
   "outputs": [],
   "source": [
    "highest_mean_idx = np.argmax(NUMBER_GRID.mean(axis=0))\n",
    "lowest_mean_idx = np.argmin(NUMBER_GRID.mean(axis=0))\n",
    "colors = ['tab:blue' if c == highest_mean_idx \n",
    "          else 'tab:red' if c == lowest_mean_idx\n",
    "          else 'lightgrey'\n",
    "          for c in range(NUMBER_GRID.shape[0])]"
   ]
  },
  {
   "cell_type": "markdown",
   "id": "25304c56",
   "metadata": {
    "slideshow": {
     "slide_type": "slide"
    }
   },
   "source": [
    "### Highlight / Alert"
   ]
  },
  {
   "cell_type": "code",
   "execution_count": null,
   "id": "bba03ccf",
   "metadata": {
    "ExecuteTime": {
     "end_time": "2021-07-07T14:53:06.799851Z",
     "start_time": "2021-07-07T14:53:06.712610Z"
    },
    "slideshow": {
     "slide_type": "fragment"
    }
   },
   "outputs": [],
   "source": [
    "# The color in this plot is used to highlight a certain value.\n",
    "# Blue is a highlight, Red is an alert.\n",
    "fig, ax = plt.subplots(figsize=(12, 6))\n",
    "ax.bar(x=range(10), height=NUMBER_GRID.mean(axis=0), color=colors)\n",
    "ax.axis('off')\n",
    "fig.tight_layout()"
   ]
  },
  {
   "cell_type": "markdown",
   "id": "2d40ffe2",
   "metadata": {
    "slideshow": {
     "slide_type": "slide"
    }
   },
   "source": [
    "# Common Chart Types"
   ]
  },
  {
   "cell_type": "code",
   "execution_count": null,
   "id": "b9de9282",
   "metadata": {
    "ExecuteTime": {
     "end_time": "2021-07-07T14:53:06.929218Z",
     "start_time": "2021-07-07T14:53:06.801417Z"
    },
    "slideshow": {
     "slide_type": "subslide"
    }
   },
   "outputs": [],
   "source": [
    "# Bar\n",
    "fig, ax = plt.subplots(figsize=(12,6))\n",
    "ax.bar(x=['NORTH', 'SOUTH', 'EAST', 'WEST'], height=[2,3,6,4], color='tab:blue')\n",
    "ax.set(title='Bar Chart')\n",
    "fig.tight_layout()"
   ]
  },
  {
   "cell_type": "code",
   "execution_count": null,
   "id": "64f9d5b9",
   "metadata": {
    "ExecuteTime": {
     "end_time": "2021-07-07T14:53:07.099027Z",
     "start_time": "2021-07-07T14:53:06.930770Z"
    },
    "slideshow": {
     "slide_type": "subslide"
    }
   },
   "outputs": [],
   "source": [
    "# Line\n",
    "fig, ax = plt.subplots(figsize=(12,6))\n",
    "ax.plot([f'Day: {x}' for x in range(1, 11)], \n",
    "        [10,13,14,11,15,16,19,19,18,20], \n",
    "        color='tab:green')\n",
    "ax.set(title='Line Chart')\n",
    "fig.tight_layout()"
   ]
  },
  {
   "cell_type": "code",
   "execution_count": null,
   "id": "9029d34f",
   "metadata": {
    "ExecuteTime": {
     "end_time": "2021-07-07T14:53:07.318828Z",
     "start_time": "2021-07-07T14:53:07.103972Z"
    },
    "slideshow": {
     "slide_type": "subslide"
    }
   },
   "outputs": [],
   "source": [
    "# Scatter\n",
    "fig, ax = plt.subplots(figsize=(12,6))\n",
    "sns.scatterplot(x='weight', y='mpg', data=sns.load_dataset('mpg'), alpha=0.6)\n",
    "ax.set(title='Scatter Chart')\n",
    "fig.tight_layout()"
   ]
  },
  {
   "cell_type": "code",
   "execution_count": null,
   "id": "8bf49fa9",
   "metadata": {
    "ExecuteTime": {
     "end_time": "2021-07-07T14:53:07.528500Z",
     "start_time": "2021-07-07T14:53:07.320380Z"
    },
    "slideshow": {
     "slide_type": "subslide"
    }
   },
   "outputs": [],
   "source": [
    "# Histogram\n",
    "fig, ax = plt.subplots(figsize=(12,6))\n",
    "sns.histplot(x='pulse',\n",
    "             data=sns.load_dataset('exercise'),\n",
    "             ax=ax)\n",
    "ax.set(title='Histogram')\n",
    "fig.tight_layout()"
   ]
  },
  {
   "cell_type": "markdown",
   "id": "252c369a",
   "metadata": {
    "slideshow": {
     "slide_type": "slide"
    }
   },
   "source": [
    "# Recommended Strategy\n",
    "\n",
    "Importantly, choosing the right visualization should almost always begin with asking \"***What do I want to show?***\" rather than \"*What chart should I use?*\".\n",
    "\n",
    "- Comparison\n",
    "- Proportion\n",
    "- Relationship\n",
    "- Part of a Whole\n",
    "- Distribution\n",
    "- Patterns\n",
    "- Range\n",
    "- Data Over Time\n",
    "\n",
    "---\n",
    "\n",
    "Once this is established, thinking about ***how*** to show this becomes much simpler."
   ]
  },
  {
   "cell_type": "markdown",
   "id": "0ad403e0",
   "metadata": {
    "slideshow": {
     "slide_type": "slide"
    }
   },
   "source": [
    "# Visualization Checklist\n",
    "> ***TDWI*** *(Transforming Data with Intelligence)*\n",
    ">\n",
    "> *...a checklist of criteria to evaluate the overall impact that can be achieved with a visual design.*\n",
    "\n",
    "- Know the *Intent*\n",
    "- Know the *Messaging*\n",
    "- Know the *Audience*"
   ]
  },
  {
   "cell_type": "markdown",
   "id": "80298588",
   "metadata": {
    "slideshow": {
     "slide_type": "subslide"
    }
   },
   "source": [
    "- Fitted to audience\n",
    "- Fitted to purpose\n",
    "- Accurate\n",
    "- Distortion free\n",
    "- Precise\n",
    "- Clear\n",
    "- Understandable\n",
    "- Visually appealing\n",
    "- Communicates knowledge\n",
    "- Encourages comparisons\n",
    "- Tells a story\n",
    "- Inspires conversations"
   ]
  },
  {
   "cell_type": "markdown",
   "id": "87edf7c1",
   "metadata": {
    "slideshow": {
     "slide_type": "slide"
    }
   },
   "source": [
    "# Recommended Readings\n",
    "\n",
    "- <a href='https://matplotlib.org/stable/tutorials/colors/colormaps.html'>*Matplotlib - Colormaps*</a>\n",
    "\n",
    "---\n",
    "\n",
    "- <a href='https://datavizcatalogue.com/'>*Data Viz Catalogue - Search Charts by Function or Type*</a>\n",
    "- <a href='https://drive.google.com/file/d/1_lDSciPz9s_hidr0imPg-3moj5hRCoEH/view?usp=sharing'>*Chart Suggestions - A Thought-Starter*</a>\n",
    "- <a href='https://www.tableau.com/learn/articles/data-visualization-tips'>*Tableau - Data Visualization Tips*</a>\n",
    "- <a href='https://www.tableau.com/iron-viz/gallery'>*Tableau - Iron Viz Gallery*</a>\n",
    "> *Iron Viz—the world’s largest virtual data visualization competition—ignites and showcases the power of the Tableau Community, giving you the opportunity to interact with data rockstars worldwide. Three finalists will advance to the 2021 Iron Viz Championship this November.*\n",
    "> - *https://www.tableau.com/community/iron-viz*\n",
    "- <a href='https://www.bigbookofdashboards.com/'>*Big Book of Dashboards*</a>\n",
    "- <a href='https://tdwi.org/Home.aspx'>*Transforming Data with Intelligence (TDWI)*</a>\n",
    "- <a href='https://www.gooddata.com/blog/8-ways-turn-good-data-great-visualizations/'>*Good Data - 8 Ways to Turn Good Data into Great Visualizations*</a>"
   ]
  }
 ],
 "metadata": {
  "celltoolbar": "Slideshow",
  "kernelspec": {
   "display_name": "Python 3",
   "language": "python",
   "name": "python3"
  },
  "language_info": {
   "codemirror_mode": {
    "name": "ipython",
    "version": 3
   },
   "file_extension": ".py",
   "mimetype": "text/x-python",
   "name": "python",
   "nbconvert_exporter": "python",
   "pygments_lexer": "ipython3",
   "version": "3.6.9"
  },
  "toc": {
   "base_numbering": 1,
   "nav_menu": {},
   "number_sections": false,
   "sideBar": true,
   "skip_h1_title": false,
   "title_cell": "Table of Contents",
   "title_sidebar": "Contents",
   "toc_cell": false,
   "toc_position": {
    "height": "calc(100% - 180px)",
    "left": "10px",
    "top": "150px",
    "width": "298px"
   },
   "toc_section_display": true,
   "toc_window_display": false
  }
 },
 "nbformat": 4,
 "nbformat_minor": 5
}
