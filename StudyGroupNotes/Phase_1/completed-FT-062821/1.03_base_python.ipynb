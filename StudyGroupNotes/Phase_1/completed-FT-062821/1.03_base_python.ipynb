{
 "cells": [
  {
   "cell_type": "markdown",
   "id": "dabd178c",
   "metadata": {},
   "source": [
    "## Phase 1.03\n",
    "\n",
    "# Python Review\n",
    "\n",
    "## Objectives\n",
    "\n",
    "The purpose of this notebook is for you to review some of the Python covered in Bootcamp Prep, including the following: \n",
    "\n",
    "- Assigning variables\n",
    "- Classifying and explaining data types (integers, floats, strings, booleans, lists, dictionaries, and tuples)\n",
    "- Identifying comparators and boolean operators to create conditional code\n",
    "- Making use of lists: indexing, appending, and joining them\n",
    "- Making use of dictionaries: identifying, creating, and navigating them\n",
    "- Moving between lists and dictionaries (zipping lists together to make dictionaries, or pulling relevant data from a dictionary into a list)\n",
    "- Applying for loops to lists and dictionaries\n",
    "\n",
    "Some new things we're bringing up that weren't covered in Bootcamp Prep:\n",
    "\n",
    "- Using f-strings to print readable code with variables\n",
    "- Using `.zip()` to combine two iterables"
   ]
  },
  {
   "cell_type": "markdown",
   "id": "c1ec1bc2",
   "metadata": {},
   "source": [
    "### Leveling Up!\n",
    "Everyone is at a different stage of their Python journey. If you're feeling comfortable with all the topics covered in this notebook, I challenge you to check out the <a href='#level-up'>***leveling up challenge***</a> at the bottom of this notebook!\n",
    "\n",
    "It isn't strictly necessary, but being able to code Python challenges is going to speed up your development, boost your confidence, and prepare you for live-coding at interviews!\n",
    "\n",
    "Above all else though, it's just plain fun."
   ]
  },
  {
   "cell_type": "markdown",
   "id": "529966a8",
   "metadata": {},
   "source": [
    "# Coding Burritos!\n",
    "\n",
    "- Burritos can have multiple ingredients and choices!\n",
    "\n",
    "\n",
    "- By the end, we want to combine multiple burritos into one data collection, and print each item for the restaurant. "
   ]
  },
  {
   "cell_type": "markdown",
   "id": "e3a18230",
   "metadata": {},
   "source": [
    "## Variable assignment \n",
    "\n",
    "Let's start with our first burrito order:"
   ]
  },
  {
   "cell_type": "code",
   "execution_count": 8,
   "id": "5958f916",
   "metadata": {
    "ExecuteTime": {
     "end_time": "2021-07-01T18:56:45.812444Z",
     "start_time": "2021-07-01T18:56:45.809379Z"
    }
   },
   "outputs": [],
   "source": [
    "# Run this cell without changes\n",
    "protein = 'chicken'\n",
    "oz_of_protein = 3.5\n",
    "rice = 'white'\n",
    "double_wrap = True\n",
    "beans = 'pinto'\n",
    "tbs_of_guac = 4\n",
    "\n",
    "great_burrito = True"
   ]
  },
  {
   "cell_type": "code",
   "execution_count": 9,
   "id": "cbc3dbf5",
   "metadata": {
    "ExecuteTime": {
     "end_time": "2021-07-01T18:57:06.721099Z",
     "start_time": "2021-07-01T18:57:06.717198Z"
    }
   },
   "outputs": [
    {
     "data": {
      "text/plain": [
       "3.5"
      ]
     },
     "execution_count": 9,
     "metadata": {},
     "output_type": "execute_result"
    }
   ],
   "source": [
    "oz_of_protein"
   ]
  },
  {
   "cell_type": "code",
   "execution_count": 10,
   "id": "3e7cea17",
   "metadata": {
    "ExecuteTime": {
     "end_time": "2021-07-01T18:58:33.134712Z",
     "start_time": "2021-07-01T18:58:33.130044Z"
    }
   },
   "outputs": [
    {
     "data": {
      "text/plain": [
       "'chicken'"
      ]
     },
     "execution_count": 10,
     "metadata": {},
     "output_type": "execute_result"
    }
   ],
   "source": [
    "protein"
   ]
  },
  {
   "cell_type": "markdown",
   "id": "5fb350a0",
   "metadata": {},
   "source": [
    "Changing some variables..."
   ]
  },
  {
   "cell_type": "code",
   "execution_count": 11,
   "id": "5d850694",
   "metadata": {
    "ExecuteTime": {
     "end_time": "2021-07-01T18:58:47.954195Z",
     "start_time": "2021-07-01T18:58:47.950845Z"
    }
   },
   "outputs": [
    {
     "data": {
      "text/plain": [
       "'steak'"
      ]
     },
     "execution_count": 11,
     "metadata": {},
     "output_type": "execute_result"
    }
   ],
   "source": [
    "# Change protein to steak!\n",
    "protein = 'steak'\n",
    "protein"
   ]
  },
  {
   "cell_type": "code",
   "execution_count": 12,
   "id": "cef70fd9",
   "metadata": {
    "ExecuteTime": {
     "end_time": "2021-07-01T18:59:12.342750Z",
     "start_time": "2021-07-01T18:59:12.338992Z"
    }
   },
   "outputs": [
    {
     "data": {
      "text/plain": [
       "4.5"
      ]
     },
     "execution_count": 12,
     "metadata": {},
     "output_type": "execute_result"
    }
   ],
   "source": [
    "# Change the amount of protein to 4.5!\n",
    "oz_of_protein = 4.5\n",
    "oz_of_protein"
   ]
  },
  {
   "cell_type": "code",
   "execution_count": 13,
   "id": "0d8a6eaa",
   "metadata": {
    "ExecuteTime": {
     "end_time": "2021-07-01T19:00:29.562263Z",
     "start_time": "2021-07-01T19:00:29.557048Z"
    }
   },
   "outputs": [
    {
     "data": {
      "text/plain": [
       "('brown', 'black')"
      ]
     },
     "execution_count": 13,
     "metadata": {},
     "output_type": "execute_result"
    }
   ],
   "source": [
    "# Change both variables ``rice`` & ``beans`` to \n",
    "# ``brown`` & ``black`` on the same line!\n",
    "rice, beans = 'brown', 'black'\n",
    "rice, beans"
   ]
  },
  {
   "cell_type": "code",
   "execution_count": 14,
   "id": "e9bfc7aa",
   "metadata": {
    "ExecuteTime": {
     "end_time": "2021-07-01T19:00:57.019018Z",
     "start_time": "2021-07-01T19:00:57.015452Z"
    }
   },
   "outputs": [
    {
     "data": {
      "text/plain": [
       "str"
      ]
     },
     "execution_count": 14,
     "metadata": {},
     "output_type": "execute_result"
    }
   ],
   "source": [
    "# What are the data types of these variables?\n",
    "type(rice)"
   ]
  },
  {
   "cell_type": "code",
   "execution_count": 15,
   "id": "0c4f2997",
   "metadata": {
    "ExecuteTime": {
     "end_time": "2021-07-01T19:01:08.196463Z",
     "start_time": "2021-07-01T19:01:08.192500Z"
    }
   },
   "outputs": [
    {
     "data": {
      "text/plain": [
       "bool"
      ]
     },
     "execution_count": 15,
     "metadata": {},
     "output_type": "execute_result"
    }
   ],
   "source": [
    "type(great_burrito)"
   ]
  },
  {
   "cell_type": "code",
   "execution_count": 17,
   "id": "51f58f11",
   "metadata": {
    "ExecuteTime": {
     "end_time": "2021-07-01T19:02:11.432170Z",
     "start_time": "2021-07-01T19:02:11.429009Z"
    }
   },
   "outputs": [
    {
     "name": "stdout",
     "output_type": "stream",
     "text": [
      "It is a string\n"
     ]
    }
   ],
   "source": [
    "# if type(rice) == str:\n",
    "if isinstance(rice, str):\n",
    "    print('It is a string')"
   ]
  },
  {
   "cell_type": "markdown",
   "id": "3657a7e5",
   "metadata": {},
   "source": [
    "# Control Flow Operators, If Statements and Conditionals\n",
    "\n",
    "Now what if you have food allergies, or want to be able to evaluate a variable before changing it for any other reason?\n",
    "\n",
    "Well you're in luck, cause we have control flow operators and if statements and conditionals!\n",
    "\n",
    "Control flow operators include:\n",
    "\n",
    "```python\n",
    "== # Is equal to?\n",
    "!= # Is not equal to? \n",
    ">  # Is greater than?\n",
    "<  # Is less than?\n",
    "<= # Is less than or equal to?\n",
    ">= # Is greater than or equal to?\n",
    "```"
   ]
  },
  {
   "cell_type": "code",
   "execution_count": 18,
   "id": "8d1fc4fa",
   "metadata": {
    "ExecuteTime": {
     "end_time": "2021-07-01T19:05:53.131628Z",
     "start_time": "2021-07-01T19:05:53.128087Z"
    }
   },
   "outputs": [
    {
     "name": "stdout",
     "output_type": "stream",
     "text": [
      "Ok - looks delicious!\n"
     ]
    }
   ],
   "source": [
    "# Example of conditionals.\n",
    "if protein == 'salmon':\n",
    "    print(\"I'm allergic to fish!\")\n",
    "    \n",
    "elif oz_of_protein > 5:\n",
    "    print(\"I'm not *that* hungry!\")\n",
    "    \n",
    "else:\n",
    "    print('Ok - looks delicious!')"
   ]
  },
  {
   "cell_type": "code",
   "execution_count": 19,
   "id": "8aa8f6e4",
   "metadata": {
    "ExecuteTime": {
     "end_time": "2021-07-01T19:06:39.071255Z",
     "start_time": "2021-07-01T19:06:39.067047Z"
    }
   },
   "outputs": [],
   "source": [
    "# Changing the outcome of the conditionals.\n",
    "if protein == 'salmon':\n",
    "    great_burrito = False\n",
    "    \n",
    "elif oz_of_protein > 5:\n",
    "    great_burrito = False\n",
    "    \n",
    "else:\n",
    "    great_burrito = True"
   ]
  },
  {
   "cell_type": "code",
   "execution_count": 20,
   "id": "7f7acaf7",
   "metadata": {
    "ExecuteTime": {
     "end_time": "2021-07-01T19:06:45.446367Z",
     "start_time": "2021-07-01T19:06:45.443059Z"
    }
   },
   "outputs": [
    {
     "data": {
      "text/plain": [
       "True"
      ]
     },
     "execution_count": 20,
     "metadata": {},
     "output_type": "execute_result"
    }
   ],
   "source": [
    "# Checking: Is this a great burrito now?\n",
    "great_burrito"
   ]
  },
  {
   "cell_type": "markdown",
   "id": "da7df4f4",
   "metadata": {},
   "source": [
    "# Lists: Indexing, Appending, Joining"
   ]
  },
  {
   "cell_type": "markdown",
   "id": "f0a473de",
   "metadata": {},
   "source": [
    "```python\n",
    "[] # list\n",
    "list()\n",
    "\n",
    "() # tuple\n",
    "tuple()\n",
    "\n",
    "{} # dictionary\n",
    "dict()\n",
    "```"
   ]
  },
  {
   "cell_type": "code",
   "execution_count": 21,
   "id": "2fa7f81b",
   "metadata": {
    "ExecuteTime": {
     "end_time": "2021-07-01T19:09:36.356154Z",
     "start_time": "2021-07-01T19:09:36.353768Z"
    }
   },
   "outputs": [],
   "source": [
    "# Create a list of possible proteins.\n",
    "burrito_proteins = [\n",
    "    'chicken',\n",
    "    'chick pea',\n",
    "    'tempeh',\n",
    "    'tofu'\n",
    "]"
   ]
  },
  {
   "cell_type": "code",
   "execution_count": 22,
   "id": "987cad07",
   "metadata": {
    "ExecuteTime": {
     "end_time": "2021-07-01T19:11:19.016092Z",
     "start_time": "2021-07-01T19:11:19.012298Z"
    }
   },
   "outputs": [
    {
     "data": {
      "text/plain": [
       "'chick pea'"
      ]
     },
     "execution_count": 22,
     "metadata": {},
     "output_type": "execute_result"
    }
   ],
   "source": [
    "# Access the second element from the list (Indexing)\n",
    "burrito_proteins[1]"
   ]
  },
  {
   "cell_type": "code",
   "execution_count": 23,
   "id": "c3b42455",
   "metadata": {
    "ExecuteTime": {
     "end_time": "2021-07-01T19:13:00.652031Z",
     "start_time": "2021-07-01T19:13:00.648444Z"
    }
   },
   "outputs": [
    {
     "data": {
      "text/plain": [
       "['chicken', 'chick pea']"
      ]
     },
     "execution_count": 23,
     "metadata": {},
     "output_type": "execute_result"
    }
   ],
   "source": [
    "# Access the first two elements from the list (Slicing)\n",
    "burrito_proteins[:2]"
   ]
  },
  {
   "cell_type": "code",
   "execution_count": 24,
   "id": "7fbe05b0",
   "metadata": {
    "ExecuteTime": {
     "end_time": "2021-07-01T19:13:34.879846Z",
     "start_time": "2021-07-01T19:13:34.876308Z"
    }
   },
   "outputs": [
    {
     "data": {
      "text/plain": [
       "['tempeh', 'tofu']"
      ]
     },
     "execution_count": 24,
     "metadata": {},
     "output_type": "execute_result"
    }
   ],
   "source": [
    "# Access the last two elements from the list (Slicing)\n",
    "burrito_proteins[-2:]"
   ]
  },
  {
   "cell_type": "code",
   "execution_count": 25,
   "id": "14494d95",
   "metadata": {
    "ExecuteTime": {
     "end_time": "2021-07-01T19:15:07.352306Z",
     "start_time": "2021-07-01T19:15:07.347707Z"
    }
   },
   "outputs": [
    {
     "data": {
      "text/plain": [
       "['chicken', 'chick pea', 'tempeh', 'tofu', 'pork']"
      ]
     },
     "execution_count": 25,
     "metadata": {},
     "output_type": "execute_result"
    }
   ],
   "source": [
    "# Add a protein to the list! (Appending)\n",
    "burrito_proteins.append('pork')\n",
    "burrito_proteins"
   ]
  },
  {
   "cell_type": "code",
   "execution_count": 26,
   "id": "d0b6e077",
   "metadata": {
    "ExecuteTime": {
     "end_time": "2021-07-01T19:15:46.541064Z",
     "start_time": "2021-07-01T19:15:46.538549Z"
    }
   },
   "outputs": [],
   "source": [
    "burrito_proteins.extend([1,2,3])"
   ]
  },
  {
   "cell_type": "code",
   "execution_count": 27,
   "id": "f09434b9",
   "metadata": {
    "ExecuteTime": {
     "end_time": "2021-07-01T19:15:50.650172Z",
     "start_time": "2021-07-01T19:15:50.646443Z"
    }
   },
   "outputs": [
    {
     "data": {
      "text/plain": [
       "['chicken', 'chick pea', 'tempeh', 'tofu', 'pork', 1, 2, 3]"
      ]
     },
     "execution_count": 27,
     "metadata": {},
     "output_type": "execute_result"
    }
   ],
   "source": [
    "burrito_proteins"
   ]
  },
  {
   "cell_type": "code",
   "execution_count": 28,
   "id": "2c2c9760",
   "metadata": {
    "ExecuteTime": {
     "end_time": "2021-07-01T19:16:07.312712Z",
     "start_time": "2021-07-01T19:16:07.309883Z"
    }
   },
   "outputs": [],
   "source": [
    "burrito_proteins.append([1,2,3])"
   ]
  },
  {
   "cell_type": "code",
   "execution_count": 29,
   "id": "5f7a84a8",
   "metadata": {
    "ExecuteTime": {
     "end_time": "2021-07-01T19:16:10.517934Z",
     "start_time": "2021-07-01T19:16:10.513603Z"
    }
   },
   "outputs": [
    {
     "data": {
      "text/plain": [
       "['chicken', 'chick pea', 'tempeh', 'tofu', 'pork', 1, 2, 3, [1, 2, 3]]"
      ]
     },
     "execution_count": 29,
     "metadata": {},
     "output_type": "execute_result"
    }
   ],
   "source": [
    "burrito_proteins"
   ]
  },
  {
   "cell_type": "markdown",
   "id": "50c8882b",
   "metadata": {},
   "source": [
    "The list method `.pop()` is a very useful one, but can be tricky to understand!\n",
    "\n",
    "`my_lst.pop()` does two things:\n",
    "1. ***Returns*** the last element of `my_lst`.\n",
    "2. ***Removes*** the last element of `my_lst`."
   ]
  },
  {
   "cell_type": "code",
   "execution_count": 34,
   "id": "ad2a80e1",
   "metadata": {
    "ExecuteTime": {
     "end_time": "2021-07-01T19:18:27.207387Z",
     "start_time": "2021-07-01T19:18:27.203361Z"
    }
   },
   "outputs": [
    {
     "data": {
      "text/plain": [
       "[1, 2, 3]"
      ]
     },
     "execution_count": 34,
     "metadata": {},
     "output_type": "execute_result"
    }
   ],
   "source": [
    "# Using and understanding `.pop()`\n",
    "p = burrito_proteins.pop()\n",
    "p"
   ]
  },
  {
   "cell_type": "code",
   "execution_count": 35,
   "id": "33f0f63c",
   "metadata": {
    "ExecuteTime": {
     "end_time": "2021-07-01T19:18:41.270140Z",
     "start_time": "2021-07-01T19:18:41.266364Z"
    }
   },
   "outputs": [
    {
     "data": {
      "text/plain": [
       "['chicken', 'chick pea', 'tempeh', 'tofu', 'pork', 1, 2, 3]"
      ]
     },
     "execution_count": 35,
     "metadata": {},
     "output_type": "execute_result"
    }
   ],
   "source": [
    "burrito_proteins"
   ]
  },
  {
   "cell_type": "code",
   "execution_count": 36,
   "id": "7670678e",
   "metadata": {
    "ExecuteTime": {
     "end_time": "2021-07-01T19:18:59.249779Z",
     "start_time": "2021-07-01T19:18:59.245491Z"
    }
   },
   "outputs": [
    {
     "data": {
      "text/plain": [
       "3"
      ]
     },
     "execution_count": 36,
     "metadata": {},
     "output_type": "execute_result"
    }
   ],
   "source": [
    "q = burrito_proteins.pop()\n",
    "q"
   ]
  },
  {
   "cell_type": "code",
   "execution_count": 37,
   "id": "5d15ff98",
   "metadata": {
    "ExecuteTime": {
     "end_time": "2021-07-01T19:19:03.061544Z",
     "start_time": "2021-07-01T19:19:03.057701Z"
    }
   },
   "outputs": [
    {
     "data": {
      "text/plain": [
       "['chicken', 'chick pea', 'tempeh', 'tofu', 'pork', 1, 2]"
      ]
     },
     "execution_count": 37,
     "metadata": {},
     "output_type": "execute_result"
    }
   ],
   "source": [
    "burrito_proteins"
   ]
  },
  {
   "cell_type": "code",
   "execution_count": 38,
   "id": "9ce3c107",
   "metadata": {
    "ExecuteTime": {
     "end_time": "2021-07-01T19:19:49.614786Z",
     "start_time": "2021-07-01T19:19:49.610571Z"
    }
   },
   "outputs": [
    {
     "data": {
      "text/plain": [
       "'tofu'"
      ]
     },
     "execution_count": 38,
     "metadata": {},
     "output_type": "execute_result"
    }
   ],
   "source": [
    "burrito_proteins.pop(3)"
   ]
  },
  {
   "cell_type": "code",
   "execution_count": 39,
   "id": "08a13374",
   "metadata": {
    "ExecuteTime": {
     "end_time": "2021-07-01T19:19:53.263488Z",
     "start_time": "2021-07-01T19:19:53.258484Z"
    }
   },
   "outputs": [
    {
     "data": {
      "text/plain": [
       "['chicken', 'chick pea', 'tempeh', 'pork', 1, 2]"
      ]
     },
     "execution_count": 39,
     "metadata": {},
     "output_type": "execute_result"
    }
   ],
   "source": [
    "burrito_proteins"
   ]
  },
  {
   "cell_type": "code",
   "execution_count": 41,
   "id": "222464a6",
   "metadata": {
    "ExecuteTime": {
     "end_time": "2021-07-01T19:21:07.101852Z",
     "start_time": "2021-07-01T19:21:07.098206Z"
    }
   },
   "outputs": [],
   "source": [
    "# burrito_proteins.pop([4, 5])"
   ]
  },
  {
   "cell_type": "code",
   "execution_count": 42,
   "id": "4f903ae7",
   "metadata": {
    "ExecuteTime": {
     "end_time": "2021-07-01T19:22:14.997812Z",
     "start_time": "2021-07-01T19:22:14.992806Z"
    }
   },
   "outputs": [
    {
     "data": {
      "text/plain": [
       "['chicken', 'chick pea', 'tempeh', 'pork']"
      ]
     },
     "execution_count": 42,
     "metadata": {},
     "output_type": "execute_result"
    }
   ],
   "source": [
    "burrito_proteins = burrito_proteins[:-2]\n",
    "burrito_proteins"
   ]
  },
  {
   "cell_type": "markdown",
   "id": "3b6a4c01",
   "metadata": {},
   "source": [
    "The string method `.join()` is used very often and is often confused as a list method!\n",
    "\n",
    "`my_string.join()` is applied to a string and joins together the elements of the list to `my_string`."
   ]
  },
  {
   "cell_type": "code",
   "execution_count": 53,
   "id": "b1fc72b4",
   "metadata": {
    "ExecuteTime": {
     "end_time": "2021-07-01T19:26:11.608601Z",
     "start_time": "2021-07-01T19:26:11.605073Z"
    }
   },
   "outputs": [
    {
     "data": {
      "text/plain": [
       "'chicken, chick pea, tempeh, pork'"
      ]
     },
     "execution_count": 53,
     "metadata": {},
     "output_type": "execute_result"
    }
   ],
   "source": [
    "# Print a list of proteins separated by a comma.\n",
    "', '.join(burrito_proteins)"
   ]
  },
  {
   "cell_type": "code",
   "execution_count": 60,
   "id": "f597b2a0",
   "metadata": {
    "ExecuteTime": {
     "end_time": "2021-07-01T19:28:31.220787Z",
     "start_time": "2021-07-01T19:28:31.218168Z"
    }
   },
   "outputs": [
    {
     "name": "stdout",
     "output_type": "stream",
     "text": [
      "I am a string.\n",
      "\tHere is my first element: chicken\n"
     ]
    }
   ],
   "source": [
    "# Print the first element in the list using an f-string.\n",
    "print(f'I am a string.\\n\\tHere is my first element: {burrito_proteins[0]}')"
   ]
  },
  {
   "cell_type": "markdown",
   "id": "eba58e3a",
   "metadata": {},
   "source": [
    "# Dictionaries\n",
    "\n",
    "With your list above, someone would need to tell you that \"pinto\" is the bean selection and \"chicken\" is the protein. \n",
    "\n",
    "Dictionaries let you assign **key** and **value** pairs, which connects a key like \"beans\" to a value like \"pinto\". Rather than using **indexing**, you use **keys** to return values."
   ]
  },
  {
   "cell_type": "code",
   "execution_count": 61,
   "id": "d9bd78b8",
   "metadata": {
    "ExecuteTime": {
     "end_time": "2021-07-01T19:30:42.314689Z",
     "start_time": "2021-07-01T19:30:42.312003Z"
    }
   },
   "outputs": [],
   "source": [
    "# Update the burrito to be a dictionary.\n",
    "### Use curly brackets.\n",
    "burrito_dct_1 = {\n",
    "    'protein': 'black beans',\n",
    "    'oz': 3,\n",
    "    'guac': True\n",
    "}"
   ]
  },
  {
   "cell_type": "code",
   "execution_count": 63,
   "id": "1bf82e4a",
   "metadata": {
    "ExecuteTime": {
     "end_time": "2021-07-01T19:31:02.367558Z",
     "start_time": "2021-07-01T19:31:02.363122Z"
    }
   },
   "outputs": [
    {
     "data": {
      "text/plain": [
       "'black beans'"
      ]
     },
     "execution_count": 63,
     "metadata": {},
     "output_type": "execute_result"
    }
   ],
   "source": [
    "# Access one of the keys in the dictionary.\n",
    "# burrito_dct_1['protein']\n",
    "burrito_dct_1.get('protein')"
   ]
  },
  {
   "cell_type": "code",
   "execution_count": 64,
   "id": "3b206ca7",
   "metadata": {
    "ExecuteTime": {
     "end_time": "2021-07-01T19:32:13.511809Z",
     "start_time": "2021-07-01T19:32:13.509113Z"
    }
   },
   "outputs": [],
   "source": [
    "### Use dict().\n",
    "burrito_dct_2 = dict(\n",
    "    protein='beyond meat',\n",
    "    oz=4,\n",
    "    guac=True\n",
    ")"
   ]
  },
  {
   "cell_type": "code",
   "execution_count": 65,
   "id": "254d02e0",
   "metadata": {
    "ExecuteTime": {
     "end_time": "2021-07-01T19:32:26.584942Z",
     "start_time": "2021-07-01T19:32:26.581094Z"
    }
   },
   "outputs": [
    {
     "data": {
      "text/plain": [
       "True"
      ]
     },
     "execution_count": 65,
     "metadata": {},
     "output_type": "execute_result"
    }
   ],
   "source": [
    "# Access one of the keys in the dictionary using .get().\n",
    "burrito_dct_2.get('guac')"
   ]
  },
  {
   "cell_type": "code",
   "execution_count": 69,
   "id": "70ed239f",
   "metadata": {
    "ExecuteTime": {
     "end_time": "2021-07-01T19:34:24.577497Z",
     "start_time": "2021-07-01T19:34:24.574452Z"
    }
   },
   "outputs": [],
   "source": [
    "### Use zip() with two lists and only three keys.\n",
    "lst_1 = ['protein', 'oz']\n",
    "lst_2 = ['chicken', 16]\n",
    "\n",
    "burrito_dct_3 = dict(zip(lst_1, lst_2))"
   ]
  },
  {
   "cell_type": "code",
   "execution_count": 71,
   "id": "54e00202",
   "metadata": {
    "ExecuteTime": {
     "end_time": "2021-07-01T19:34:51.285601Z",
     "start_time": "2021-07-01T19:34:51.281627Z"
    }
   },
   "outputs": [
    {
     "data": {
      "text/plain": [
       "[{'protein': 'black beans', 'oz': 3, 'guac': True},\n",
       " {'protein': 'beyond meat', 'oz': 4, 'guac': True},\n",
       " {'protein': 'chicken', 'oz': 16}]"
      ]
     },
     "execution_count": 71,
     "metadata": {},
     "output_type": "execute_result"
    }
   ],
   "source": [
    "# Compile the three above dictionaries into a list.\n",
    "burrito_lst = [\n",
    "    burrito_dct_1,\n",
    "    burrito_dct_2,\n",
    "    burrito_dct_3\n",
    "]\n",
    "burrito_lst"
   ]
  },
  {
   "cell_type": "code",
   "execution_count": 73,
   "id": "7df01d1f",
   "metadata": {
    "ExecuteTime": {
     "end_time": "2021-07-01T19:35:42.259390Z",
     "start_time": "2021-07-01T19:35:42.254351Z"
    }
   },
   "outputs": [
    {
     "data": {
      "text/plain": [
       "{'Lisa': {'protein': 'black beans', 'oz': 3, 'guac': True},\n",
       " 'Vincent': {'protein': 'beyond meat', 'oz': 4, 'guac': True},\n",
       " 'Matthew': {'protein': 'chicken', 'oz': 16}}"
      ]
     },
     "execution_count": 73,
     "metadata": {},
     "output_type": "execute_result"
    }
   ],
   "source": [
    "# Compile the three above dictionaries into a dictionary {`person`: `burrito`}\n",
    "orders = {\n",
    "    'Lisa': burrito_dct_1,\n",
    "    'Vincent': burrito_dct_2,\n",
    "    'Matthew': burrito_dct_3\n",
    "}\n",
    "orders"
   ]
  },
  {
   "cell_type": "markdown",
   "id": "a90b97b4",
   "metadata": {},
   "source": [
    "# For loops"
   ]
  },
  {
   "cell_type": "code",
   "execution_count": 84,
   "id": "4925731b",
   "metadata": {
    "ExecuteTime": {
     "end_time": "2021-07-01T19:39:40.752247Z",
     "start_time": "2021-07-01T19:39:40.747756Z"
    }
   },
   "outputs": [
    {
     "name": "stdout",
     "output_type": "stream",
     "text": [
      "Lisa has a burrito with:\n",
      "protein:\n",
      "\tblack beans\n",
      "oz:\n",
      "\t3\n",
      "guac:\n",
      "\tTrue\n",
      "\n",
      "Vincent has a burrito with:\n",
      "protein:\n",
      "\tbeyond meat\n",
      "oz:\n",
      "\t4\n",
      "guac:\n",
      "\tTrue\n",
      "\n",
      "Matthew has a burrito with:\n",
      "protein:\n",
      "\tchicken\n",
      "oz:\n",
      "\t16\n",
      "\n"
     ]
    }
   ],
   "source": [
    "# Iterate over the \"master dictionary\" and print each person's order.\n",
    "for person in orders:\n",
    "    print(f'{person} has a burrito with:')\n",
    "    for d in orders.get(person):\n",
    "        print(f'{d}:\\n\\t{orders.get(person).get(d)}')\n",
    "    print()"
   ]
  },
  {
   "cell_type": "code",
   "execution_count": 86,
   "id": "7aed3e01",
   "metadata": {
    "ExecuteTime": {
     "end_time": "2021-07-01T19:41:43.128405Z",
     "start_time": "2021-07-01T19:41:43.123314Z"
    }
   },
   "outputs": [
    {
     "data": {
      "text/plain": [
       "[('Lisa', 'black beans'), ('Vincent', 'beyond meat'), ('Matthew', 'chicken')]"
      ]
     },
     "execution_count": 86,
     "metadata": {},
     "output_type": "execute_result"
    }
   ],
   "source": [
    "# Create a new list of tuples: `(person, protein)`\n",
    "[(person, orders[person]['protein']) for person in orders]"
   ]
  },
  {
   "cell_type": "markdown",
   "id": "f80e3686",
   "metadata": {},
   "source": [
    "<a id='level-up'></a>\n",
    "# Level-Up!\n",
    "\n",
    "---\n",
    "\n",
    "***The Guessing Game***\n",
    "\n",
    "*Your challenge is to write a program called Guessing Game. Your solution should be in the form of a function or a `.py` file.*\n",
    "\n",
    "***How it works.***\n",
    "1. *The program prompts the user to think of a number between 1 and 100 (inclusive).*\n",
    "2. *The computer should ask questions (`'Is your number greater than (>), less than (<), or equal to (=) {COMPUTER_GUESS}?'`) and wait for the user's response.*\n",
    "3. *Based on the information given by the user, the computer makes another guess of the number.*\n",
    "4. *Repeat steps 2 & 3 until the number is guessed.*\n",
    "5. *Return a statement showing how many steps / questions were needed to guess the number.*\n",
    "\n",
    "***Notes:***\n",
    "- *Your program should not accept any invalid input.*\n",
    "    - *If user enters an invalid value, user should be asked again to enter a valid answer.*\n",
    "- *Your program should know if the user is cheating and send an error message.*\n",
    "- *The computer should take as few steps as possible to guess the number.*\n",
    "\n",
    "---\n",
    "\n",
    "*If you've never used `input()` before, try*\n",
    "\n",
    "```python\n",
    "my_variable = input('Type something and hit enter!')\n",
    "```\n",
    "\n",
    "*...in a cell below!*\n",
    "\n",
    "---\n",
    "\n",
    "*Define the function below, or try using `!touch guessing_game.py` in the cell below to create a new python file to work in!*"
   ]
  },
  {
   "cell_type": "code",
   "execution_count": null,
   "id": "25364bc1",
   "metadata": {},
   "outputs": [],
   "source": [
    "def guessing_game(n_min=1, n_max=100):\n",
    "    \"\"\"The computer will guess the user's secret number!\"\"\"\n",
    "    \n",
    "    # Your code here.\n",
    "    pass"
   ]
  }
 ],
 "metadata": {
  "kernelspec": {
   "display_name": "Python 3",
   "language": "python",
   "name": "python3"
  },
  "language_info": {
   "codemirror_mode": {
    "name": "ipython",
    "version": 3
   },
   "file_extension": ".py",
   "mimetype": "text/x-python",
   "name": "python",
   "nbconvert_exporter": "python",
   "pygments_lexer": "ipython3",
   "version": "3.6.9"
  },
  "toc": {
   "base_numbering": 1,
   "nav_menu": {},
   "number_sections": false,
   "sideBar": true,
   "skip_h1_title": false,
   "title_cell": "Table of Contents",
   "title_sidebar": "Contents",
   "toc_cell": false,
   "toc_position": {
    "height": "calc(100% - 180px)",
    "left": "10px",
    "top": "150px",
    "width": "375px"
   },
   "toc_section_display": true,
   "toc_window_display": true
  }
 },
 "nbformat": 4,
 "nbformat_minor": 5
}
