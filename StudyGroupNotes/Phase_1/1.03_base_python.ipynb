{
 "cells": [
  {
   "cell_type": "markdown",
   "id": "dabd178c",
   "metadata": {},
   "source": [
    "# Python Review\n",
    "\n",
    "## Objectives\n",
    "\n",
    "The purpose of this notebook is for you to review some of the Python covered in Bootcamp Prep, including the following: \n",
    "\n",
    "- Assigning variables\n",
    "- Classifying and explaining data types (integers, floats, strings, booleans, lists, dictionaries, and tuples)\n",
    "- Identifying comparators and boolean operators to create conditional code\n",
    "- Making use of lists: indexing, appending, and joining them\n",
    "- Making use of dictionaries: identifying, creating, and navigating them\n",
    "- Moving between lists and dictionaries (zipping lists together to make dictionaries, or pulling relevant data from a dictionary into a list)\n",
    "- Applying for loops to lists and dictionaries\n",
    "\n",
    "Some new things we're bringing up that weren't covered in Bootcamp Prep:\n",
    "\n",
    "- Using f-strings to print readable code with variables\n",
    "- Using `.zip()` to combine two iterables"
   ]
  },
  {
   "cell_type": "markdown",
   "id": "c1ec1bc2",
   "metadata": {},
   "source": [
    "### Leveling Up!\n",
    "Everyone is at a different stage of their Python journey. If you're feeling comfortable with all the topics covered in this notebook, I challenge you to check out the <a href='#level-up'>***leveling up challenge***</a> at the bottom of this notebook!\n",
    "\n",
    "It isn't strictly necessary, but being able to code Python challenges is going to speed up your development, boost your confidence, and prepare you for live-coding at interviews!\n",
    "\n",
    "Above all else though, it's just plain fun."
   ]
  },
  {
   "cell_type": "markdown",
   "id": "529966a8",
   "metadata": {},
   "source": [
    "# Coding Burritos!\n",
    "\n",
    "- Burritos can have multiple ingredients and choices!\n",
    "\n",
    "\n",
    "- By the end, we want to combine multiple burritos into one data collection, and print each item for the restaurant. "
   ]
  },
  {
   "cell_type": "markdown",
   "id": "e3a18230",
   "metadata": {},
   "source": [
    "## Variable assignment \n",
    "\n",
    "Let's start with our first burrito order:"
   ]
  },
  {
   "cell_type": "code",
   "execution_count": null,
   "id": "5958f916",
   "metadata": {},
   "outputs": [],
   "source": [
    "# Run this cell without changes\n",
    "protein = 'chicken'\n",
    "oz_of_protein = 3.5\n",
    "rice = 'white'\n",
    "double_wrap = True\n",
    "beans = 'pinto'\n",
    "tbs_of_guac = 4\n",
    "\n",
    "great_burrito = True"
   ]
  },
  {
   "cell_type": "markdown",
   "id": "5fb350a0",
   "metadata": {},
   "source": [
    "Changing some variables..."
   ]
  },
  {
   "cell_type": "code",
   "execution_count": null,
   "id": "5d850694",
   "metadata": {},
   "outputs": [],
   "source": [
    "# Change protein to steak!\n"
   ]
  },
  {
   "cell_type": "code",
   "execution_count": null,
   "id": "cef70fd9",
   "metadata": {},
   "outputs": [],
   "source": [
    "# Change the amount of protein to 4.5!\n"
   ]
  },
  {
   "cell_type": "code",
   "execution_count": null,
   "id": "0d8a6eaa",
   "metadata": {},
   "outputs": [],
   "source": [
    "# Change both variables ``rice`` & ``beans`` to \n",
    "# ``brown`` & ``black`` on the same line!\n"
   ]
  },
  {
   "cell_type": "code",
   "execution_count": null,
   "id": "e9bfc7aa",
   "metadata": {},
   "outputs": [],
   "source": [
    "# What are the data types of these variables?\n"
   ]
  },
  {
   "cell_type": "markdown",
   "id": "3657a7e5",
   "metadata": {},
   "source": [
    "# Control Flow Operators, If Statements and Conditionals\n",
    "\n",
    "Now what if you have food allergies, or want to be able to evaluate a variable before changing it for any other reason?\n",
    "\n",
    "Well you're in luck, cause we have control flow operators and if statements and conditionals!\n",
    "\n",
    "Control flow operators include:\n",
    "\n",
    "```python\n",
    "== # Is equal to?\n",
    "!= # Is not equal to? \n",
    ">  # Is greater than?\n",
    "<  # Is less than?\n",
    "<= # Is less than or equal to?\n",
    ">= # Is greater than or equal to?\n",
    "```"
   ]
  },
  {
   "cell_type": "code",
   "execution_count": null,
   "id": "8d1fc4fa",
   "metadata": {},
   "outputs": [],
   "source": [
    "# Example of conditionals.\n",
    "if protein == 'salmon':\n",
    "    print(\"I'm allergic to fish!\")\n",
    "elif oz_of_protein > 5:\n",
    "    print(\"I'm not *that* hungry!\")\n",
    "else:\n",
    "    print('Ok - looks delicious!')"
   ]
  },
  {
   "cell_type": "code",
   "execution_count": null,
   "id": "8aa8f6e4",
   "metadata": {},
   "outputs": [],
   "source": [
    "# Changing the outcome of the conditionals.\n",
    "if protein == 'salmon':\n",
    "    great_burrito = False\n",
    "elif oz_of_protein > 5:\n",
    "    great_burrito = False\n",
    "else:\n",
    "    great_burrito = True"
   ]
  },
  {
   "cell_type": "code",
   "execution_count": null,
   "id": "7f7acaf7",
   "metadata": {},
   "outputs": [],
   "source": [
    "# Checking: Is this a great burrito now?\n"
   ]
  },
  {
   "cell_type": "markdown",
   "id": "da7df4f4",
   "metadata": {},
   "source": [
    "# Lists: Indexing, Appending, Joining"
   ]
  },
  {
   "cell_type": "code",
   "execution_count": null,
   "id": "2fa7f81b",
   "metadata": {},
   "outputs": [],
   "source": [
    "# Create a list of possible proteins.\n",
    "burrito_proteins = None"
   ]
  },
  {
   "cell_type": "code",
   "execution_count": null,
   "id": "987cad07",
   "metadata": {},
   "outputs": [],
   "source": [
    "# Access the second element from the list (Indexing)\n"
   ]
  },
  {
   "cell_type": "code",
   "execution_count": null,
   "id": "c3b42455",
   "metadata": {},
   "outputs": [],
   "source": [
    "# Access the first two elements from the list (Slicing)\n"
   ]
  },
  {
   "cell_type": "code",
   "execution_count": null,
   "id": "7fbe05b0",
   "metadata": {},
   "outputs": [],
   "source": [
    "# Access the last two elements from the list (Slicing)\n"
   ]
  },
  {
   "cell_type": "code",
   "execution_count": null,
   "id": "14494d95",
   "metadata": {},
   "outputs": [],
   "source": [
    "# Add a protein to the list! (Appending)\n"
   ]
  },
  {
   "cell_type": "markdown",
   "id": "50c8882b",
   "metadata": {},
   "source": [
    "The list method `.pop()` is a very useful one, but can be tricky to understand!\n",
    "\n",
    "`my_lst.pop()` does two things:\n",
    "1. ***Returns*** the last element of `my_lst`.\n",
    "2. ***Removes*** the last element of `my_lst`."
   ]
  },
  {
   "cell_type": "code",
   "execution_count": null,
   "id": "ad2a80e1",
   "metadata": {},
   "outputs": [],
   "source": [
    "# Using and understanding `.pop()`\n"
   ]
  },
  {
   "cell_type": "markdown",
   "id": "3b6a4c01",
   "metadata": {},
   "source": [
    "The string method `.join()` is used very often and is often confused as a list method!\n",
    "\n",
    "`my_string.join()` is applied to a string and joins together the elements of the list to `my_string`."
   ]
  },
  {
   "cell_type": "code",
   "execution_count": null,
   "id": "b1fc72b4",
   "metadata": {},
   "outputs": [],
   "source": [
    "# Print a list of proteins separated by a comma.\n"
   ]
  },
  {
   "cell_type": "code",
   "execution_count": null,
   "id": "f597b2a0",
   "metadata": {},
   "outputs": [],
   "source": [
    "# Print the first element in the list using an f-string.\n"
   ]
  },
  {
   "cell_type": "markdown",
   "id": "eba58e3a",
   "metadata": {},
   "source": [
    "# Dictionaries\n",
    "\n",
    "With your list above, someone would need to tell you that \"pinto\" is the bean selection and \"chicken\" is the protein. \n",
    "\n",
    "Dictionaries let you assign **key** and **value** pairs, which connects a key like \"beans\" to a value like \"pinto\". Rather than using **indexing**, you use **keys** to return values."
   ]
  },
  {
   "cell_type": "code",
   "execution_count": null,
   "id": "d9bd78b8",
   "metadata": {},
   "outputs": [],
   "source": [
    "# Update the burrito to be a dictionary.\n",
    "### Use curly brackets.\n"
   ]
  },
  {
   "cell_type": "code",
   "execution_count": null,
   "id": "1bf82e4a",
   "metadata": {},
   "outputs": [],
   "source": [
    "# Access one of the keys in the dictionary.\n"
   ]
  },
  {
   "cell_type": "code",
   "execution_count": null,
   "id": "3b206ca7",
   "metadata": {},
   "outputs": [],
   "source": [
    "### Use dict().\n"
   ]
  },
  {
   "cell_type": "code",
   "execution_count": null,
   "id": "254d02e0",
   "metadata": {},
   "outputs": [],
   "source": [
    "# Access one of the keys in the dictionary using .get().\n"
   ]
  },
  {
   "cell_type": "code",
   "execution_count": null,
   "id": "70ed239f",
   "metadata": {},
   "outputs": [],
   "source": [
    "### Use .zip() with two lists and only three keys.\n"
   ]
  },
  {
   "cell_type": "code",
   "execution_count": null,
   "id": "54e00202",
   "metadata": {},
   "outputs": [],
   "source": [
    "# Compile the three above dictionaries into a list.\n"
   ]
  },
  {
   "cell_type": "code",
   "execution_count": null,
   "id": "7df01d1f",
   "metadata": {},
   "outputs": [],
   "source": [
    "# Compile the three above dictionaries into a dictionary {`person`: `burrito`}\n"
   ]
  },
  {
   "cell_type": "markdown",
   "id": "a90b97b4",
   "metadata": {},
   "source": [
    "# For loops"
   ]
  },
  {
   "cell_type": "code",
   "execution_count": null,
   "id": "4925731b",
   "metadata": {},
   "outputs": [],
   "source": [
    "# Iterate over the \"master dictionary\" and print each person's order.\n"
   ]
  },
  {
   "cell_type": "code",
   "execution_count": null,
   "id": "3ebf2488",
   "metadata": {},
   "outputs": [],
   "source": [
    "# Iterate over each dictionary using .get() to show an ingredient.\n"
   ]
  },
  {
   "cell_type": "code",
   "execution_count": null,
   "id": "7aed3e01",
   "metadata": {},
   "outputs": [],
   "source": [
    "# Create a new list of tuples: `(person, protein)`\n"
   ]
  },
  {
   "cell_type": "markdown",
   "id": "f80e3686",
   "metadata": {},
   "source": [
    "<a id='level-up'></a>\n",
    "# Level-Up!\n",
    "\n",
    "---\n",
    "\n",
    "***The Guessing Game***\n",
    "\n",
    "*Your challenge is to write a program called Guessing Game. Your solution should be in the form of a function or a `.py` file.*\n",
    "\n",
    "***How it works.***\n",
    "1. *The program prompts the user to think of a number between 1 and 100 (inclusive).*\n",
    "2. *The computer should ask questions (`'Is your number greater than (>), less than (<), or equal to (=) {COMPUTER_GUESS}?'`) and wait for the user's response.*\n",
    "3. *Based on the information given by the user, the computer makes another guess of the number.*\n",
    "4. *Repeat steps 2 & 3 until the number is guessed.*\n",
    "5. *Return a statement showing how many steps / questions were needed to guess the number.*\n",
    "\n",
    "***Notes:***\n",
    "- *Your program should not accept any invalid input.*\n",
    "    - *If user enters an invalid value, user should be asked again to enter a valid answer.*\n",
    "- *Your program should know if the user is cheating and send an error message.*\n",
    "- *The computer should take as few steps as possible to guess the number.*\n",
    "\n",
    "---\n",
    "\n",
    "*If you've never used `input()` before, try*\n",
    "\n",
    "```python\n",
    "my_variable = input('Type something and hit enter!')\n",
    "```\n",
    "\n",
    "*...in a cell below!*\n",
    "\n",
    "---\n",
    "\n",
    "*Define the function below, or try using `!touch guessing_game.py` in the cell below to create a new python file to work in!*"
   ]
  },
  {
   "cell_type": "code",
   "execution_count": null,
   "id": "25364bc1",
   "metadata": {},
   "outputs": [],
   "source": [
    "def guessing_game(n_min=1, n_max=100):\n",
    "    \"\"\"The computer will guess the user's secret number!\"\"\"\n",
    "    \n",
    "    # Your code here.\n",
    "    pass"
   ]
  }
 ],
 "metadata": {
  "kernelspec": {
   "display_name": "Python 3",
   "language": "python",
   "name": "python3"
  },
  "language_info": {
   "codemirror_mode": {
    "name": "ipython",
    "version": 3
   },
   "file_extension": ".py",
   "mimetype": "text/x-python",
   "name": "python",
   "nbconvert_exporter": "python",
   "pygments_lexer": "ipython3",
   "version": "3.6.9"
  },
  "toc": {
   "base_numbering": 1,
   "nav_menu": {},
   "number_sections": false,
   "sideBar": true,
   "skip_h1_title": false,
   "title_cell": "Table of Contents",
   "title_sidebar": "Contents",
   "toc_cell": false,
   "toc_position": {
    "height": "calc(100% - 180px)",
    "left": "10px",
    "top": "150px",
    "width": "375px"
   },
   "toc_section_display": true,
   "toc_window_display": true
  }
 },
 "nbformat": 4,
 "nbformat_minor": 5
}
