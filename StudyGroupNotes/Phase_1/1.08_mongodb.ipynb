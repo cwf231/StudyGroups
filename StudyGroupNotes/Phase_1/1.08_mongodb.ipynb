{
 "cells": [
  {
   "cell_type": "markdown",
   "id": "efd8c92c",
   "metadata": {},
   "source": [
    "## Phase 1.08\n",
    "\n",
    "#  MongoDB (NoSQL)"
   ]
  },
  {
   "cell_type": "markdown",
   "id": "2d3bf960",
   "metadata": {
    "id": "U_MiAHbFmKbL"
   },
   "source": [
    "### MongoDB UPDATED INSTALLATION INSTRUCTIONS"
   ]
  },
  {
   "cell_type": "markdown",
   "id": "d794c123",
   "metadata": {
    "id": "WwGhne6tmKbL"
   },
   "source": [
    "#### Instructions for Windows Users"
   ]
  },
  {
   "cell_type": "markdown",
   "id": "13955140",
   "metadata": {
    "id": "nOxfon_amKbL"
   },
   "source": [
    "##### RESOURCES FOR WINDOWS:\n",
    "- [Video on installing MongoDB by Downloading from Mongo](https://youtu.be/UmP_X4UuGos) **updated url**\n",
    "- [Article on Getting MongoDB Working in GitBash](https://teamtreehouse.com/community/how-to-setup-mongodb-on-windows-cmd-or-gitbash-with-shortcuts)\n",
    "\n",
    "##### Installation Steps\n",
    "1. Download and install MongoDB from  https://www.mongodb.com/download-center/community \n",
    "    - Watch the video above to instructions on what options to select.\n",
    "2. After installation is complete, open a GitBash Terminal As Administrator\n",
    "    - In the Start Menu find and right click on GitBash > Run as Administrator. \n",
    "\n",
    "3. You must add the bin folder inside of MongoDB's Program Files to your system path.\n",
    "    - To edit system path (see above article) type the following in GitBash:\n",
    "    ```shell\n",
    "    rundll32 sysdm.cpl,EditEnvironmentVariables```\n",
    "    - In the window that pops-up, edit Path and Add `C:/Programs Files/MongoDB/<whatever version is install>/bin` to the Path variable.\n",
    "    - Close the settings window when complete.\n",
    "    \n",
    "4. You must manually create the `c:/data` and `c:/data/db` folders SEPERATELY\n",
    "    - Use gitbash to create c:/data FIRST, cd into data and then mkdir db  \n",
    "    - This replaces the official step in the notebook below (`sudo mkdir -p /data/db`)\n",
    "\n",
    "5. Give the directory the correct permission: \n",
    "```bash\n",
    "sudo chown -R `id -un` /data/db\n",
    "```\n",
    "\n",
    "5. (You may still need to run `conda install mongodb` even though we installed it directly.\n",
    "\n",
    "6. Finall, make sure that pymongo is installed \n",
    "```bash\n",
    "conda install pymongo\n",
    "```\n",
    "\n",
    "7. Now you should be all set and `mongod`should work!"
   ]
  },
  {
   "cell_type": "markdown",
   "id": "c7870c81",
   "metadata": {
    "id": "xLGywTIBmKbM"
   },
   "source": [
    "#### Instructions for MacOS Catalina\n",
    "- Follow the instructions from these 2 links:\n",
    "    1. https://zellwk.com/blog/install-mongodb/\n",
    "    2. https://zellwk.com/blog/local-mongodb/"
   ]
  },
  {
   "cell_type": "markdown",
   "id": "81700692",
   "metadata": {
    "id": "tMgqHm0XmKbN"
   },
   "source": [
    "# Introduction - MongoDB\n",
    "\n",
    "In this lesson, we'll learn about the popular NoSQL database **_MongoDB_**, including how to install it on our machine, connect to a mongo database, add how to use it to **_C_**reate / **_R_**ead / **_U_**pdate / **_D_**elete (**CRUD**) data!\n",
    "\n",
    "## Objectives\n",
    "\n",
    "- Create a MongoDB database   \n",
    "- Insert data into a MongoDB database   \n",
    "- Read data from a MongoDB database   \n",
    "- Update data in a MongoDB database   "
   ]
  },
  {
   "cell_type": "markdown",
   "id": "3c3bd63b",
   "metadata": {
    "id": "4QYWDuCgmKbN"
   },
   "source": [
    "## Examining a Sample MongoDB Record"
   ]
  },
  {
   "cell_type": "markdown",
   "id": "eab9f795",
   "metadata": {
    "id": "9D2bo2emmKbO"
   },
   "source": [
    "As we learned in the previous lesson on NoSQL databases, MongoDB is a **_Document Store_**. Each record is a JSON document, which can in turn contain other JSON documents in a nested format. \n",
    "\n",
    "For intance, here's an example record we might see in a MongoDB database: \n",
    "\n",
    "```\n",
    "{\n",
    "   _id: ObjectId(8af37bd7891c)\n",
    "   title: 'MongoDB Lab', \n",
    "   description: 'Introductory lab on how to use MongoDB',\n",
    "   by: 'Flatiron School',\n",
    "   topics: ['mongodb', 'database', 'NoSQL', 'JSON'], \n",
    "   sections: [\t\n",
    "      {\n",
    "         section:'Introduction',\n",
    "         dateCreated: new Date(2019,3,1),\n",
    "         reading_time_minutes: 1 \n",
    "      },\n",
    "      {\n",
    "         user:'Installing and Running MongoDB',\n",
    "         dateCreated: new Date(2019,3,1),\n",
    "         reading_time_minutes: 5\n",
    "      }\n",
    "      {\n",
    "         user:'Examining a Sample MongoDB Record',\n",
    "         dateCreated: new Date(2019,3,1),\n",
    "         reading_time_minutes: 8\n",
    "      }\n",
    "   ]\n",
    "}\n",
    "```\n",
    "\n",
    "> This is more common than you might realize -- if you open this file, `index.ipynb`, in a text editor, you'll see that each Jupyter Notebook is structured the exact same way, with each cell and everything it contains being embedded in the larger overall document!\n",
    "\n",
    "Since we already have experience working with JSON, we'll see that it will actually be quite easy to work with data in mongoDB! Let's explore how to execute _CRUD_ operations in MongoDB."
   ]
  },
  {
   "cell_type": "markdown",
   "id": "4a3578a4",
   "metadata": {
    "id": "8pZoex36mKbO"
   },
   "source": [
    "___"
   ]
  },
  {
   "cell_type": "markdown",
   "id": "56f9fd90",
   "metadata": {
    "id": "doYuNffnmKbO"
   },
   "source": [
    "# USING MONGODB"
   ]
  },
  {
   "cell_type": "markdown",
   "id": "8b403d06",
   "metadata": {
    "id": "T__Ozp-3mKbO"
   },
   "source": [
    "## 📓Initializing Mongodb"
   ]
  },
  {
   "cell_type": "markdown",
   "id": "17ec7357",
   "metadata": {
    "id": "o6_WgxLkmKbO"
   },
   "source": [
    "- In a terminal window, enter `mongod` to initialize the server. \n",
    "    - Just like running a jupyter notebook, the terminal window will remain busy running the server. (LEAVE IT RUNNING)\n",
    "    \n",
    "    \n",
    "- Note to MacOS Catalina users who followed the article above for installation, your mongod server is always running and you will receive an error if you try to run `mongod`"
   ]
  },
  {
   "cell_type": "markdown",
   "id": "912e09f0",
   "metadata": {
    "id": "brkqKXFimKbP"
   },
   "source": [
    "### Working with MongoDB via Terminal:"
   ]
  },
  {
   "cell_type": "markdown",
   "id": "e2feac52",
   "metadata": {
    "id": "-mF8PFElmKbP"
   },
   "source": [
    "- Start the server in your terminal using`mongod`\n",
    "- Start a **second terminal** and enter `mongo` to connect to server.\n",
    "- The Normal `$` command prompt will become `>`"
   ]
  },
  {
   "cell_type": "markdown",
   "id": "11368fda",
   "metadata": {
    "id": "-7NCgJ6rmKbP"
   },
   "source": [
    "- Use the `db` command to test if connection working (will see \"test\" if it is)\n",
    "\n",
    "- use `db.help()` to get list of avialable commands.\n",
    "- `db.test.help()`"
   ]
  },
  {
   "cell_type": "markdown",
   "id": "ea1edfb3",
   "metadata": {
    "id": "RgbAibW3mKbP"
   },
   "source": [
    "#### Creating, Reading, Updating, and Deleting Information in MongoDB"
   ]
  },
  {
   "cell_type": "markdown",
   "id": "2706fe52",
   "metadata": {
    "id": "wwVUd1oCmKbP"
   },
   "source": [
    "Type the following in the terminal running the mongo instance: \n",
    "\n",
    "`db.test.save( { a: 1 } )`\n",
    "- the spacing is important\n",
    "- there should be a space between the different brackets, as well as the key and value.\n",
    "- Note that the key is directly touching the `:`, but the value is not."
   ]
  },
  {
   "cell_type": "markdown",
   "id": "2df1a33c",
   "metadata": {
    "id": "0QTEZXXYmKbP"
   },
   "source": [
    "- the key:value pair with `_id` wil appear after runing `db.test.find()`\n",
    "\n",
    "\n",
    " Let's take a look at how we can write queries or do CRUD operations in Python with the `pymongo` library!"
   ]
  },
  {
   "cell_type": "markdown",
   "id": "5d6cb77b",
   "metadata": {
    "id": "b7rrk-4ymKbP"
   },
   "source": [
    "## Working with Mongodb through Python with `pymongo`"
   ]
  },
  {
   "cell_type": "markdown",
   "id": "43864af4",
   "metadata": {
    "id": "CfxN13w1mKbP"
   },
   "source": [
    "Connecting to mongodb through a python library is going to feel very similar to the boilerplate code we had to use to connect to a SQLite database. To connect to our mongo server through python, we have to:\n",
    "\n",
    "1. Import the `pymongo` library. \n",
    "(if does not exist run `%conda install pymongo` in your notebook.)\n",
    "\n",
    "2. Create a client that is connected to our running mongodb server by using the `pymongo` library's `MongoClient` object and passing it the URL for the server (which the mongo server told us as output when we started it up at the very beginning).\n",
    "\n",
    "3. Get the database that we'll be working with from the `myclient` object -- this can include creating a new database by passing in it's name as a key, just as if we were trying to get it from a Python dictionary.  \n",
    "\n",
    "We'll do this now in the cells below as an example. "
   ]
  },
  {
   "cell_type": "code",
   "execution_count": 1,
   "id": "30312a01",
   "metadata": {
    "ExecuteTime": {
     "end_time": "2021-07-27T22:57:46.642616Z",
     "start_time": "2021-07-27T22:57:46.529587Z"
    },
    "id": "p5jx_PlCmKbQ"
   },
   "outputs": [],
   "source": [
    "import pymongo"
   ]
  },
  {
   "cell_type": "code",
   "execution_count": 2,
   "id": "0382e70c",
   "metadata": {
    "ExecuteTime": {
     "end_time": "2021-07-27T22:58:08.090945Z",
     "start_time": "2021-07-27T22:58:08.074785Z"
    },
    "id": "ZMmCZmDymKbQ",
    "outputId": "a51418b3-8341-4762-ad6e-364a18772c67"
   },
   "outputs": [
    {
     "data": {
      "text/plain": [
       "MongoClient(host=['localhost:27017'], document_class=dict, tz_aware=False, connect=True)"
      ]
     },
     "execution_count": 2,
     "metadata": {},
     "output_type": "execute_result"
    }
   ],
   "source": [
    "myclient = pymongo.MongoClient()\n",
    "myclient"
   ]
  },
  {
   "cell_type": "markdown",
   "id": "5b4ca9d5",
   "metadata": {
    "id": "lxrRWhwEmKbR"
   },
   "source": [
    "Note that we can get a full list of the names of every database we have by running our clients object's `.list_database_names()` method. However, if we run this method in the cell below, we'll see that the database does not yet exist. "
   ]
  },
  {
   "cell_type": "code",
   "execution_count": 3,
   "id": "b1d5fdd7",
   "metadata": {
    "ExecuteTime": {
     "end_time": "2021-07-27T22:58:22.902941Z",
     "start_time": "2021-07-27T22:58:22.825851Z"
    }
   },
   "outputs": [
    {
     "name": "stdout",
     "output_type": "stream",
     "text": [
      "Databases cleaned up.\n"
     ]
    }
   ],
   "source": [
    "# Cleanup step for future Study Groups!\n",
    "if 'pythondb' in myclient.list_database_names():\n",
    "    myclient.drop_database('pythondb')\n",
    "    print('Databases cleaned up.')"
   ]
  },
  {
   "cell_type": "code",
   "execution_count": 4,
   "id": "762dcec8",
   "metadata": {
    "ExecuteTime": {
     "end_time": "2021-07-27T22:58:28.003726Z",
     "start_time": "2021-07-27T22:58:27.982078Z"
    },
    "id": "0zmo9TjLmKbR",
    "outputId": "81b4bbd6-d53c-45ec-bb99-7e3acc27231a"
   },
   "outputs": [
    {
     "data": {
      "text/plain": [
       "['admin', 'config', 'example_database', 'local', 'test']"
      ]
     },
     "execution_count": 4,
     "metadata": {},
     "output_type": "execute_result"
    }
   ],
   "source": [
    "myclient.list_database_names()"
   ]
  },
  {
   "cell_type": "markdown",
   "id": "07127491",
   "metadata": {
    "id": "fAhq5X4bmKbR"
   },
   "source": [
    "In the cell below, we create a sample collection. "
   ]
  },
  {
   "cell_type": "code",
   "execution_count": 5,
   "id": "e368c483",
   "metadata": {
    "ExecuteTime": {
     "end_time": "2021-07-27T22:59:01.083510Z",
     "start_time": "2021-07-27T22:59:01.078626Z"
    },
    "id": "yGBTat7hmKbR",
    "outputId": "77355f83-9ef6-4eff-a3a1-e0eef2f0ba95"
   },
   "outputs": [
    {
     "data": {
      "text/plain": [
       "Database(MongoClient(host=['localhost:27017'], document_class=dict, tz_aware=False, connect=True), 'pythondb')"
      ]
     },
     "execution_count": 5,
     "metadata": {},
     "output_type": "execute_result"
    }
   ],
   "source": [
    "mydb = myclient['pythondb']\n",
    "mydb"
   ]
  },
  {
   "cell_type": "markdown",
   "id": "2e565a1b",
   "metadata": {
    "id": "c6ObHbWMmKbS"
   },
   "source": [
    "Now we have a mongo database that contains a collection, but we still haven't added any data to it yet. We can get collection names by using `mydb.list_collection_names()`, but since we haven't added any data to it yet, we'll see that that hasn't been created yet either. \n",
    "\n",
    "Let's add some data to our database and see what we can do with it. "
   ]
  },
  {
   "cell_type": "code",
   "execution_count": 6,
   "id": "ed34c078",
   "metadata": {
    "ExecuteTime": {
     "end_time": "2021-07-27T22:59:45.934955Z",
     "start_time": "2021-07-27T22:59:45.929376Z"
    },
    "id": "Z75KCKnjmKbS",
    "outputId": "892e9b06-c8dc-451b-b7c9-6d7dcca5d810"
   },
   "outputs": [
    {
     "data": {
      "text/plain": [
       "[]"
      ]
     },
     "execution_count": 6,
     "metadata": {},
     "output_type": "execute_result"
    }
   ],
   "source": [
    "mydb.list_collection_names()"
   ]
  },
  {
   "cell_type": "code",
   "execution_count": 7,
   "id": "a44a1865",
   "metadata": {
    "ExecuteTime": {
     "end_time": "2021-07-27T23:00:05.302557Z",
     "start_time": "2021-07-27T23:00:05.298266Z"
    },
    "id": "VmxwxxkhmKbS",
    "outputId": "d2d129f2-6bda-41c6-e0e1-287a9f22066f"
   },
   "outputs": [
    {
     "data": {
      "text/plain": [
       "Collection(Database(MongoClient(host=['localhost:27017'], document_class=dict, tz_aware=False, connect=True), 'pythondb'), 'pythondb')"
      ]
     },
     "execution_count": 7,
     "metadata": {},
     "output_type": "execute_result"
    }
   ],
   "source": [
    "mycollection = mydb['pythondb']\n",
    "mycollection"
   ]
  },
  {
   "cell_type": "markdown",
   "id": "7319b856",
   "metadata": {
    "id": "Uy-K7sYjmKbS"
   },
   "source": [
    "### CRUD Operations with `pymongo`\n",
    "\n",
    "To insert a document (in SQL, we would call this a *record*) into a mongoDB collection, we make use of the collection's `.insert_one()` method, and pass in the information we want saved as a Python dictionary. "
   ]
  },
  {
   "cell_type": "code",
   "execution_count": 8,
   "id": "cc5f1f7c",
   "metadata": {
    "ExecuteTime": {
     "end_time": "2021-07-27T23:01:14.954162Z",
     "start_time": "2021-07-27T23:01:14.817072Z"
    },
    "id": "3LOpEF22mKbS",
    "outputId": "3c8ec19f-344b-49d7-a33d-32ab065ca89c"
   },
   "outputs": [
    {
     "data": {
      "text/plain": [
       "<pymongo.results.InsertOneResult at 0x7f9705d4bac8>"
      ]
     },
     "execution_count": 8,
     "metadata": {},
     "output_type": "execute_result"
    }
   ],
   "source": [
    "example_customer_data = {\n",
    "    'name': 'John Doe', \n",
    "    'address': '123 elm street', \n",
    "    'age': 28\n",
    "}\n",
    "\n",
    "results = mycollection.insert_one(example_customer_data)\n",
    "results"
   ]
  },
  {
   "cell_type": "markdown",
   "id": "6414ed10",
   "metadata": {
    "id": "51ihO_gCmKbT"
   },
   "source": [
    "When we insert something into mongo, we get back a `results` object. This object contains the unique `_id` of the object we just inserted inside its `.inserted_id` attribute. "
   ]
  },
  {
   "cell_type": "code",
   "execution_count": 9,
   "id": "66590f2a",
   "metadata": {
    "ExecuteTime": {
     "end_time": "2021-07-27T23:01:22.759490Z",
     "start_time": "2021-07-27T23:01:22.755153Z"
    },
    "id": "m4qb-s6gmKbT",
    "outputId": "22925e77-a8cc-4664-bdb6-2d5f03263fd0"
   },
   "outputs": [
    {
     "data": {
      "text/plain": [
       "ObjectId('6100903a946f447b27a05a2d')"
      ]
     },
     "execution_count": 9,
     "metadata": {},
     "output_type": "execute_result"
    }
   ],
   "source": [
    "results.inserted_id"
   ]
  },
  {
   "cell_type": "code",
   "execution_count": 10,
   "id": "44c0a9cd",
   "metadata": {
    "ExecuteTime": {
     "end_time": "2021-07-27T23:01:33.902428Z",
     "start_time": "2021-07-27T23:01:33.881720Z"
    }
   },
   "outputs": [
    {
     "data": {
      "text/plain": [
       "['pythondb']"
      ]
     },
     "execution_count": 10,
     "metadata": {},
     "output_type": "execute_result"
    }
   ],
   "source": [
    "# The database is only created when an item is added.\n",
    "mydb.list_collection_names()"
   ]
  },
  {
   "cell_type": "code",
   "execution_count": 11,
   "id": "d74dd8a2",
   "metadata": {
    "ExecuteTime": {
     "end_time": "2021-07-27T23:02:47.630431Z",
     "start_time": "2021-07-27T23:02:47.625273Z"
    }
   },
   "outputs": [
    {
     "data": {
      "text/plain": [
       "['admin', 'config', 'example_database', 'local', 'pythondb', 'test']"
      ]
     },
     "execution_count": 11,
     "metadata": {},
     "output_type": "execute_result"
    }
   ],
   "source": [
    "myclient.list_database_names()"
   ]
  },
  {
   "cell_type": "markdown",
   "id": "9117ddaa",
   "metadata": {
    "id": "V4jqJ6M8mKbT"
   },
   "source": [
    "If we want to insert 2 or more items at the same time, we can just store the dictionary for each separate record we want to insert in a list, and then every item in that list by passing it to the collection object's `.insert_many()` method. "
   ]
  },
  {
   "cell_type": "code",
   "execution_count": 12,
   "id": "6f296173",
   "metadata": {
    "ExecuteTime": {
     "end_time": "2021-07-27T23:03:49.181635Z",
     "start_time": "2021-07-27T23:03:49.176641Z"
    },
    "id": "mEyWTaGgmKbT"
   },
   "outputs": [],
   "source": [
    "customer_2 = {'name': 'Jane Doe', 'address': '234 elm street', 'age': 7}\n",
    "customer_3 = {'name': 'Santa Claus', 'address': 'The North Pole', 'age': 547}\n",
    "customer_4 = {'name': 'John Doe jr.', 'address': '', 'age': 0.5}\n",
    "customer_5 = {'name': 'John Doe jr.', 'address': '', 'age': 0.5}\n",
    "\n",
    "list_of_customers = [customer_2, customer_3, customer_4, customer_5]\n",
    "\n",
    "results_2 = mycollection.insert_many(list_of_customers)"
   ]
  },
  {
   "cell_type": "code",
   "execution_count": 13,
   "id": "0240d88c",
   "metadata": {
    "ExecuteTime": {
     "end_time": "2021-07-27T23:03:50.376919Z",
     "start_time": "2021-07-27T23:03:50.371424Z"
    },
    "id": "rAAhn_UtmKbT",
    "outputId": "53cea40b-16db-4b36-be08-4a50e5a3dda4"
   },
   "outputs": [
    {
     "data": {
      "text/plain": [
       "[ObjectId('610090d5946f447b27a05a2e'),\n",
       " ObjectId('610090d5946f447b27a05a2f'),\n",
       " ObjectId('610090d5946f447b27a05a30'),\n",
       " ObjectId('610090d5946f447b27a05a31')]"
      ]
     },
     "execution_count": 13,
     "metadata": {},
     "output_type": "execute_result"
    }
   ],
   "source": [
    "results_2.inserted_ids"
   ]
  },
  {
   "cell_type": "markdown",
   "id": "7088a16c",
   "metadata": {
    "id": "pyvspdWDmKbT"
   },
   "source": [
    "Note that we are allowed to assign the unique id for each new document ourselves by just including the key `_id` and the value we want to assign as that document's id. However, in general, it is a best practice to let the database create the unique keys for each document itself, and to leave that part alone. "
   ]
  },
  {
   "cell_type": "markdown",
   "id": "f65de22b",
   "metadata": {
    "id": "vQdHWnzFmKbU"
   },
   "source": [
    "### Querying data in Python\n",
    "\n",
    "This is the most important thing we can know how to do in MongoDB -- actually get the data we need! \n",
    "\n",
    "The quickest and easiest way to get data from a collection is to use the collection object's `.find()` method!\n",
    "\n",
    "The following cell contains an example of how we can use this to get all the records from our collection. "
   ]
  },
  {
   "cell_type": "markdown",
   "id": "f43489bc",
   "metadata": {
    "id": "ixPmPMs1mKbU"
   },
   "source": [
    "### 📒📔Using `.find()`\n",
    "- we call .find on collection objects.\n",
    "- To get all results,pass in an empty dictionry:\n",
    "`mycollection.find({})`\n",
    "- We can also/control which columns are returned using a second dictionary\n",
    "\n",
    "- Filtering columns:\n",
    "    - Pass a second dictionary with column names and a `1` as the value if you do want the col\n",
    "    - Pass 0 as value if you don't \n",
    "    - in query 3, we are only excluding age, so taking everything else\n",
    "    `query_3 = mycollection.find({}, {'age': 0})`\n",
    "- You can only choose to include or exclude columsn in any given dictionary ( so all values must be one if you want to select columns, or all must be 0's to exclude columns)"
   ]
  },
  {
   "cell_type": "code",
   "execution_count": 14,
   "id": "3b30b816",
   "metadata": {
    "ExecuteTime": {
     "end_time": "2021-07-27T23:05:11.064942Z",
     "start_time": "2021-07-27T23:05:11.060692Z"
    },
    "id": "KFfASVM4mKbU",
    "outputId": "471f3f9f-1c5c-431a-fc73-ec4b8c11bd41"
   },
   "outputs": [
    {
     "name": "stdout",
     "output_type": "stream",
     "text": [
      "{'_id': ObjectId('6100903a946f447b27a05a2d'), 'name': 'John Doe', 'address': '123 elm street', 'age': 28}\n",
      "{'_id': ObjectId('610090d5946f447b27a05a2e'), 'name': 'Jane Doe', 'address': '234 elm street', 'age': 7}\n",
      "{'_id': ObjectId('610090d5946f447b27a05a2f'), 'name': 'Santa Claus', 'address': 'The North Pole', 'age': 547}\n",
      "{'_id': ObjectId('610090d5946f447b27a05a30'), 'name': 'John Doe jr.', 'address': '', 'age': 0.5}\n",
      "{'_id': ObjectId('610090d5946f447b27a05a31'), 'name': 'John Doe jr.', 'address': '', 'age': 0.5}\n"
     ]
    }
   ],
   "source": [
    "query_1 = mycollection.find({})\n",
    "for x in query_1:\n",
    "    print(x)"
   ]
  },
  {
   "cell_type": "code",
   "execution_count": 15,
   "id": "88807f89",
   "metadata": {
    "ExecuteTime": {
     "end_time": "2021-07-27T23:05:27.261429Z",
     "start_time": "2021-07-27T23:05:27.257486Z"
    }
   },
   "outputs": [
    {
     "data": {
      "text/plain": [
       "<pymongo.cursor.Cursor at 0x7f9705d6a278>"
      ]
     },
     "execution_count": 15,
     "metadata": {},
     "output_type": "execute_result"
    }
   ],
   "source": [
    "query_1"
   ]
  },
  {
   "cell_type": "markdown",
   "id": "c8e4b70b",
   "metadata": {
    "id": "sU6tBOHQmKbU"
   },
   "source": [
    "In the cell above, we grabbed every field from every item in the entire collection. There are times where this is probably too much data for it to be useful for us. \n",
    "\n",
    "So what if we want to get all the names and addresses for each customer, but not the age? There are two ways we can do this. The first is by passing in a dictionary specifying the fields we want, like so:"
   ]
  },
  {
   "cell_type": "markdown",
   "id": "ba958997",
   "metadata": {},
   "source": [
    "***Allow me to interject...***"
   ]
  },
  {
   "cell_type": "code",
   "execution_count": 16,
   "id": "ab8bc784",
   "metadata": {
    "ExecuteTime": {
     "end_time": "2021-07-27T23:06:01.037216Z",
     "start_time": "2021-07-27T23:06:00.454679Z"
    }
   },
   "outputs": [],
   "source": [
    "import pandas as pd"
   ]
  },
  {
   "cell_type": "code",
   "execution_count": 17,
   "id": "233f6f78",
   "metadata": {
    "ExecuteTime": {
     "end_time": "2021-07-27T23:06:02.126252Z",
     "start_time": "2021-07-27T23:06:02.105510Z"
    }
   },
   "outputs": [
    {
     "data": {
      "text/html": [
       "<div>\n",
       "<style scoped>\n",
       "    .dataframe tbody tr th:only-of-type {\n",
       "        vertical-align: middle;\n",
       "    }\n",
       "\n",
       "    .dataframe tbody tr th {\n",
       "        vertical-align: top;\n",
       "    }\n",
       "\n",
       "    .dataframe thead th {\n",
       "        text-align: right;\n",
       "    }\n",
       "</style>\n",
       "<table border=\"1\" class=\"dataframe\">\n",
       "  <thead>\n",
       "    <tr style=\"text-align: right;\">\n",
       "      <th></th>\n",
       "      <th>_id</th>\n",
       "      <th>name</th>\n",
       "      <th>address</th>\n",
       "      <th>age</th>\n",
       "    </tr>\n",
       "  </thead>\n",
       "  <tbody>\n",
       "    <tr>\n",
       "      <th>0</th>\n",
       "      <td>6100903a946f447b27a05a2d</td>\n",
       "      <td>John Doe</td>\n",
       "      <td>123 elm street</td>\n",
       "      <td>28.0</td>\n",
       "    </tr>\n",
       "    <tr>\n",
       "      <th>1</th>\n",
       "      <td>610090d5946f447b27a05a2e</td>\n",
       "      <td>Jane Doe</td>\n",
       "      <td>234 elm street</td>\n",
       "      <td>7.0</td>\n",
       "    </tr>\n",
       "    <tr>\n",
       "      <th>2</th>\n",
       "      <td>610090d5946f447b27a05a2f</td>\n",
       "      <td>Santa Claus</td>\n",
       "      <td>The North Pole</td>\n",
       "      <td>547.0</td>\n",
       "    </tr>\n",
       "    <tr>\n",
       "      <th>3</th>\n",
       "      <td>610090d5946f447b27a05a30</td>\n",
       "      <td>John Doe jr.</td>\n",
       "      <td></td>\n",
       "      <td>0.5</td>\n",
       "    </tr>\n",
       "    <tr>\n",
       "      <th>4</th>\n",
       "      <td>610090d5946f447b27a05a31</td>\n",
       "      <td>John Doe jr.</td>\n",
       "      <td></td>\n",
       "      <td>0.5</td>\n",
       "    </tr>\n",
       "  </tbody>\n",
       "</table>\n",
       "</div>"
      ],
      "text/plain": [
       "                        _id          name         address    age\n",
       "0  6100903a946f447b27a05a2d      John Doe  123 elm street   28.0\n",
       "1  610090d5946f447b27a05a2e      Jane Doe  234 elm street    7.0\n",
       "2  610090d5946f447b27a05a2f   Santa Claus  The North Pole  547.0\n",
       "3  610090d5946f447b27a05a30  John Doe jr.                    0.5\n",
       "4  610090d5946f447b27a05a31  John Doe jr.                    0.5"
      ]
     },
     "execution_count": 17,
     "metadata": {},
     "output_type": "execute_result"
    }
   ],
   "source": [
    "pd.DataFrame(mycollection.find())"
   ]
  },
  {
   "cell_type": "markdown",
   "id": "53b19e6e",
   "metadata": {},
   "source": [
    "***Ahem, okay where was I...***"
   ]
  },
  {
   "cell_type": "code",
   "execution_count": 18,
   "id": "0be10cf4",
   "metadata": {
    "ExecuteTime": {
     "end_time": "2021-07-27T23:07:11.297298Z",
     "start_time": "2021-07-27T23:07:11.283868Z"
    },
    "id": "KbJ2aYanmKbU",
    "outputId": "168506de-112f-493f-878e-41c60ce2dde9"
   },
   "outputs": [
    {
     "name": "stdout",
     "output_type": "stream",
     "text": [
      "{'_id': ObjectId('6100903a946f447b27a05a2d'), 'name': 'John Doe', 'address': '123 elm street'}\n",
      "{'_id': ObjectId('610090d5946f447b27a05a2e'), 'name': 'Jane Doe', 'address': '234 elm street'}\n",
      "{'_id': ObjectId('610090d5946f447b27a05a2f'), 'name': 'Santa Claus', 'address': 'The North Pole'}\n",
      "{'_id': ObjectId('610090d5946f447b27a05a30'), 'name': 'John Doe jr.', 'address': ''}\n",
      "{'_id': ObjectId('610090d5946f447b27a05a31'), 'name': 'John Doe jr.', 'address': ''}\n"
     ]
    }
   ],
   "source": [
    "query_2 = mycollection.find({}, {'_id': 1, 'name': 1, 'address': 1})\n",
    "for item in query_2:\n",
    "    print(item)"
   ]
  },
  {
   "cell_type": "code",
   "execution_count": 19,
   "id": "8a99c603",
   "metadata": {
    "ExecuteTime": {
     "end_time": "2021-07-27T23:07:31.546070Z",
     "start_time": "2021-07-27T23:07:31.535752Z"
    },
    "id": "wGhImxILmKbU",
    "outputId": "7872586d-c529-4b77-fabe-993f304920c1"
   },
   "outputs": [
    {
     "name": "stdout",
     "output_type": "stream",
     "text": [
      "{'age': 28}\n",
      "{'age': 7}\n",
      "{'age': 547}\n",
      "{'age': 0.5}\n",
      "{'age': 0.5}\n"
     ]
    }
   ],
   "source": [
    "query_2 = mycollection.find({}, {'_id': 0, 'name': 0, 'address': 0})\n",
    "for item in query_2:\n",
    "    print(item)"
   ]
  },
  {
   "cell_type": "markdown",
   "id": "7fbc630d",
   "metadata": {
    "id": "Ax2HXauCmKbV"
   },
   "source": [
    "In this method, we created a dictionary with the key of every item we want, and a `1` as the value to make clear that we want that field returned. \n",
    "\n",
    "Conversely, if we'd rather specify the key-value pairs we _don't_ want returned, we can do that too. All we have to do is create a dictionary containing the keys we don't want returned, and set the value for each to `0`, like so:"
   ]
  },
  {
   "cell_type": "code",
   "execution_count": 20,
   "id": "58be0c78",
   "metadata": {
    "ExecuteTime": {
     "end_time": "2021-07-27T23:07:59.888293Z",
     "start_time": "2021-07-27T23:07:59.883639Z"
    },
    "id": "dZ3qUdTbmKbV",
    "outputId": "723d66a9-7703-454b-b144-384526f26931"
   },
   "outputs": [
    {
     "name": "stdout",
     "output_type": "stream",
     "text": [
      "{'_id': ObjectId('6100903a946f447b27a05a2d'), 'name': 'John Doe', 'address': '123 elm street'}\n",
      "{'_id': ObjectId('610090d5946f447b27a05a2e'), 'name': 'Jane Doe', 'address': '234 elm street'}\n",
      "{'_id': ObjectId('610090d5946f447b27a05a2f'), 'name': 'Santa Claus', 'address': 'The North Pole'}\n",
      "{'_id': ObjectId('610090d5946f447b27a05a30'), 'name': 'John Doe jr.', 'address': ''}\n",
      "{'_id': ObjectId('610090d5946f447b27a05a31'), 'name': 'John Doe jr.', 'address': ''}\n"
     ]
    }
   ],
   "source": [
    "query_3 = mycollection.find({}, {'age': 0})\n",
    "for item in query_3:\n",
    "    print(item)"
   ]
  },
  {
   "cell_type": "markdown",
   "id": "adc64e2e",
   "metadata": {
    "id": "9xoSvSCwmKbV"
   },
   "source": [
    "Note that we can't use both methods at the same time. We have to either specify what we do want, and make sure that every value is a 1, or specify what we don't want, and make sure every corresponding value is a 0. If we pass in a dictionary containing both, we'll get an error in return. \n",
    "\n",
    "The one exception to this is the `'_id'` key -- we can set that to 0 or 1 to say if we do or don't want it included. This single value does not need to be the same as all the others in the dictionary. \n",
    "\n",
    "\n",
    "### Filtering Query Results\n",
    "\n",
    "Obviously, we'll rarely want to get all the records at once. There will be many more times where we'll need to get a single record, or to filter records according to their values. Mongo makes these both easy. \n",
    "\n",
    "For instance, if we know the value for a given key, we can pass that key-value pair (or pairs) into `.find()` as a dictionary, and the results will contain the entire document. "
   ]
  },
  {
   "cell_type": "code",
   "execution_count": 22,
   "id": "d1cb3c8f",
   "metadata": {
    "ExecuteTime": {
     "end_time": "2021-07-27T23:09:36.577959Z",
     "start_time": "2021-07-27T23:09:36.569096Z"
    },
    "id": "BiyC9ty-mKbV",
    "outputId": "d6e9fe5d-6b06-40cc-bb7b-4303255f553b"
   },
   "outputs": [
    {
     "name": "stdout",
     "output_type": "stream",
     "text": [
      "{'_id': ObjectId('610090d5946f447b27a05a2f'), 'name': 'Santa Claus'}\n"
     ]
    }
   ],
   "source": [
    "query_4 = mycollection.find({'name': 'Santa Claus'}, {'name': 1})\n",
    "for item in query_4:\n",
    "    print(item)"
   ]
  },
  {
   "cell_type": "markdown",
   "id": "650c17ba",
   "metadata": {
    "id": "0HPdDlC6mKbW"
   },
   "source": [
    "We can also filter queries by using **_Modifiers_**. For instance, let's say we wanted to get record for every person in our collection older than 20. We can signify this with the 'greater than' modifier, `\"$gt\"` and pass in the corresponding value. "
   ]
  },
  {
   "cell_type": "code",
   "execution_count": 23,
   "id": "c283302f",
   "metadata": {
    "ExecuteTime": {
     "end_time": "2021-07-27T23:10:30.882959Z",
     "start_time": "2021-07-27T23:10:30.879148Z"
    },
    "id": "uxY_T_JTmKbW",
    "outputId": "da20bcb4-4352-4bac-8be5-ae040720ebd8"
   },
   "outputs": [
    {
     "name": "stdout",
     "output_type": "stream",
     "text": [
      "{'_id': ObjectId('6100903a946f447b27a05a2d'), 'name': 'John Doe', 'address': '123 elm street', 'age': 28}\n",
      "{'_id': ObjectId('610090d5946f447b27a05a2f'), 'name': 'Santa Claus', 'address': 'The North Pole', 'age': 547}\n"
     ]
    }
   ],
   "source": [
    "query_5 = mycollection.find({\"age\": {\"$gt\": 20}})\n",
    "for item in query_5:\n",
    "    print(item)"
   ]
  },
  {
   "cell_type": "markdown",
   "id": "eb72f751",
   "metadata": {
    "id": "7Uy5lAIPmKbW"
   },
   "source": [
    "## Updating Documents"
   ]
  },
  {
   "cell_type": "markdown",
   "id": "a7edc510",
   "metadata": {
    "id": "H_RUWfuGmKbW"
   },
   "source": [
    "Updating a document in Mongo is just as simple as creating or reading data -- there's a method for that! Updating a record works a bit like filtering a query and getting a record with a specific value, although we also pass in an additional dictionary as the second parameter. This second parameter will contain the modifier `'$set'` as the key, and a dictionary containing the key-value pair we want to update. See the example in the cell below: "
   ]
  },
  {
   "cell_type": "markdown",
   "id": "aebec5f4",
   "metadata": {
    "id": "cQpn36R4mKbW"
   },
   "source": [
    "### 📓 MongoDB Notation/Modifiers\n",
    "\n",
    "https://docs.mongodb.com/manual/reference/operator/query-modifier/\n",
    "\n",
    "| symbol | action |\n",
    "| --- | --- |\n",
    "| \"$gt\" | greater than |\n",
    "| \"\\$lt\" | less than |\n",
    "| \"\\$set\" | setting a specific record, as specified  by <br> a {'col':value_to_insert} dictionary| \n",
    "| \"\\$sum\" |'Sum ' |\n",
    "| \"\\$ne\" | |"
   ]
  },
  {
   "cell_type": "code",
   "execution_count": 24,
   "id": "d9631346",
   "metadata": {
    "ExecuteTime": {
     "end_time": "2021-07-27T23:12:04.900171Z",
     "start_time": "2021-07-27T23:12:04.884514Z"
    },
    "id": "O5NvKhkPmKbW",
    "outputId": "f7a530f2-298c-4693-a1ce-65396144d042"
   },
   "outputs": [
    {
     "name": "stdout",
     "output_type": "stream",
     "text": [
      "{'_id': ObjectId('6100903a946f447b27a05a2d'), 'name': 'John Doe', 'address': '123 elm street', 'age': 29, 'birthday': '02/20/1986'}\n"
     ]
    }
   ],
   "source": [
    "record_to_update = {'name' : 'John Doe'}\n",
    "update_1 = {'$set': {'age': 29}}\n",
    "update_2 = {'$set': {'birthday': '02/20/1986'}}\n",
    "\n",
    "mycollection.update_one(record_to_update, update_1)\n",
    "mycollection.update_one(record_to_update, update_2)\n",
    "\n",
    "query_6 = mycollection.find({'name': 'John Doe'})\n",
    "for item in query_6:\n",
    "    print(item)"
   ]
  },
  {
   "cell_type": "code",
   "execution_count": 25,
   "id": "d6018e65",
   "metadata": {
    "ExecuteTime": {
     "end_time": "2021-07-27T23:12:31.440144Z",
     "start_time": "2021-07-27T23:12:31.429390Z"
    }
   },
   "outputs": [
    {
     "data": {
      "text/html": [
       "<div>\n",
       "<style scoped>\n",
       "    .dataframe tbody tr th:only-of-type {\n",
       "        vertical-align: middle;\n",
       "    }\n",
       "\n",
       "    .dataframe tbody tr th {\n",
       "        vertical-align: top;\n",
       "    }\n",
       "\n",
       "    .dataframe thead th {\n",
       "        text-align: right;\n",
       "    }\n",
       "</style>\n",
       "<table border=\"1\" class=\"dataframe\">\n",
       "  <thead>\n",
       "    <tr style=\"text-align: right;\">\n",
       "      <th></th>\n",
       "      <th>_id</th>\n",
       "      <th>name</th>\n",
       "      <th>address</th>\n",
       "      <th>age</th>\n",
       "      <th>birthday</th>\n",
       "    </tr>\n",
       "  </thead>\n",
       "  <tbody>\n",
       "    <tr>\n",
       "      <th>0</th>\n",
       "      <td>6100903a946f447b27a05a2d</td>\n",
       "      <td>John Doe</td>\n",
       "      <td>123 elm street</td>\n",
       "      <td>29</td>\n",
       "      <td>02/20/1986</td>\n",
       "    </tr>\n",
       "  </tbody>\n",
       "</table>\n",
       "</div>"
      ],
      "text/plain": [
       "                        _id      name         address  age    birthday\n",
       "0  6100903a946f447b27a05a2d  John Doe  123 elm street   29  02/20/1986"
      ]
     },
     "execution_count": 25,
     "metadata": {},
     "output_type": "execute_result"
    }
   ],
   "source": [
    "pd.DataFrame(mycollection.find({'name': 'John Doe'}))"
   ]
  },
  {
   "cell_type": "markdown",
   "id": "3c06d846",
   "metadata": {
    "id": "WXQIgvUAmKbW"
   },
   "source": [
    "In the cell above, the first update we make updates the value for a key that already exists in the document. The second update adds an entirely new key-value pair to the document. As we can see, the syntax for both is the same (just like when we work with Python dictionaries), and is very easy and intuitive to use. \n",
    "\n",
    "### Deleting Records\n",
    "\n",
    "We can delete records by using the collection object's `.delete_*()` methods. Just like for inserting records, you'll find that we can use `delete_one()` for a single deletion, or `delete_many()` for multiple deletions.\n",
    "\n",
    "Let's try deleting the record for `'John Doe'`:"
   ]
  },
  {
   "cell_type": "code",
   "execution_count": 26,
   "id": "a6b66ab6",
   "metadata": {
    "ExecuteTime": {
     "end_time": "2021-07-27T23:13:22.630931Z",
     "start_time": "2021-07-27T23:13:22.618990Z"
    },
    "id": "W9AOHeSTmKbX",
    "outputId": "9e3a0c50-b7a3-461c-8d2f-df64c2f8009a"
   },
   "outputs": [
    {
     "name": "stdout",
     "output_type": "stream",
     "text": [
      "1\n"
     ]
    }
   ],
   "source": [
    "deletion_1 = mycollection.delete_many({'name': 'John Doe'})\n",
    "print(deletion_1.deleted_count)"
   ]
  },
  {
   "cell_type": "markdown",
   "id": "978e73fb",
   "metadata": {
    "id": "FnU5YSyzmKbX"
   },
   "source": [
    "Note that we can also use modifiers here, too! For instance, in the cell below, we'll delete all records for customers younger than 10."
   ]
  },
  {
   "cell_type": "code",
   "execution_count": 27,
   "id": "9af7f975",
   "metadata": {
    "ExecuteTime": {
     "end_time": "2021-07-27T23:13:47.597590Z",
     "start_time": "2021-07-27T23:13:47.593834Z"
    },
    "id": "NLID10sNmKbX",
    "outputId": "6fb830f3-d081-4d8d-f949-b8a9d8c927b4"
   },
   "outputs": [
    {
     "name": "stdout",
     "output_type": "stream",
     "text": [
      "1\n"
     ]
    }
   ],
   "source": [
    "deletion_2 = mycollection.delete_one({'age': {'$lt': 10}})\n",
    "print(deletion_2.deleted_count)"
   ]
  },
  {
   "cell_type": "markdown",
   "id": "a377cbeb",
   "metadata": {
    "id": "EtJv98xEmKbX"
   },
   "source": [
    "### Deleting By ID"
   ]
  },
  {
   "cell_type": "code",
   "execution_count": 28,
   "id": "dbbe3ed0",
   "metadata": {
    "ExecuteTime": {
     "end_time": "2021-07-27T23:14:04.580554Z",
     "start_time": "2021-07-27T23:14:04.573031Z"
    },
    "id": "fMBF_M8UmKbX",
    "outputId": "832d9ddf-68a9-43e6-b33a-d20e599887e5"
   },
   "outputs": [
    {
     "data": {
      "text/plain": [
       "[{'_id': ObjectId('610090d5946f447b27a05a30'),\n",
       "  'name': 'John Doe jr.',\n",
       "  'address': '',\n",
       "  'age': 0.5},\n",
       " {'_id': ObjectId('610090d5946f447b27a05a31'),\n",
       "  'name': 'John Doe jr.',\n",
       "  'address': '',\n",
       "  'age': 0.5}]"
      ]
     },
     "execution_count": 28,
     "metadata": {},
     "output_type": "execute_result"
    }
   ],
   "source": [
    "johns = list(mycollection.find({\"name\": 'John Doe jr.'}))\n",
    "johns"
   ]
  },
  {
   "cell_type": "code",
   "execution_count": 29,
   "id": "0e7e62a3",
   "metadata": {
    "ExecuteTime": {
     "end_time": "2021-07-27T23:14:54.176779Z",
     "start_time": "2021-07-27T23:14:54.173463Z"
    },
    "id": "u5pVBwYCmKbX"
   },
   "outputs": [
    {
     "name": "stdout",
     "output_type": "stream",
     "text": [
      "610090d5946f447b27a05a30\n"
     ]
    }
   ],
   "source": [
    "print(johns[0]['_id'])"
   ]
  },
  {
   "cell_type": "code",
   "execution_count": 30,
   "id": "2e20d5d7",
   "metadata": {
    "ExecuteTime": {
     "end_time": "2021-07-27T23:15:25.879446Z",
     "start_time": "2021-07-27T23:15:25.873444Z"
    },
    "id": "U5vCB_NFmKbX",
    "outputId": "e3700057-2c99-4bd2-df77-853a50e643ea"
   },
   "outputs": [
    {
     "data": {
      "text/plain": [
       "1"
      ]
     },
     "execution_count": 30,
     "metadata": {},
     "output_type": "execute_result"
    }
   ],
   "source": [
    "deleted = mycollection.delete_one({'_id': johns[1]['_id']})\n",
    "deleted.deleted_count"
   ]
  },
  {
   "cell_type": "code",
   "execution_count": 31,
   "id": "170ffa6e",
   "metadata": {
    "ExecuteTime": {
     "end_time": "2021-07-27T23:15:35.528792Z",
     "start_time": "2021-07-27T23:15:35.518074Z"
    },
    "id": "alE9vNz7mKbY",
    "outputId": "da21adcb-9ed0-49d1-cbcc-397f62884c38"
   },
   "outputs": [
    {
     "data": {
      "text/plain": [
       "[{'_id': ObjectId('610090d5946f447b27a05a30'),\n",
       "  'name': 'John Doe jr.',\n",
       "  'address': '',\n",
       "  'age': 0.5}]"
      ]
     },
     "execution_count": 31,
     "metadata": {},
     "output_type": "execute_result"
    }
   ],
   "source": [
    "johns = list(mycollection.find({\"name\":'John Doe jr.'}))\n",
    "johns"
   ]
  },
  {
   "cell_type": "code",
   "execution_count": 32,
   "id": "98890793",
   "metadata": {
    "ExecuteTime": {
     "end_time": "2021-07-27T23:17:17.578952Z",
     "start_time": "2021-07-27T23:17:17.556388Z"
    },
    "id": "_K563zSbmKbY",
    "outputId": "79c686c0-7a56-497b-fe6e-078df8abcd82"
   },
   "outputs": [
    {
     "data": {
      "text/plain": [
       "2"
      ]
     },
     "execution_count": 32,
     "metadata": {},
     "output_type": "execute_result"
    }
   ],
   "source": [
    "deleted = mycollection.delete_many({})\n",
    "deleted.deleted_count"
   ]
  },
  {
   "cell_type": "code",
   "execution_count": 33,
   "id": "063ae351",
   "metadata": {
    "ExecuteTime": {
     "end_time": "2021-07-27T23:17:21.651121Z",
     "start_time": "2021-07-27T23:17:21.644482Z"
    },
    "id": "uDQiSljUmKbY",
    "outputId": "a239f5dd-d493-484f-cd07-214ab50ddefc"
   },
   "outputs": [
    {
     "data": {
      "text/plain": [
       "[]"
      ]
     },
     "execution_count": 33,
     "metadata": {},
     "output_type": "execute_result"
    }
   ],
   "source": [
    "res = mycollection.find({})\n",
    "[print(x) for x in res]"
   ]
  },
  {
   "cell_type": "markdown",
   "id": "ecc3f79a",
   "metadata": {
    "id": "nztlMw5FmKbZ"
   },
   "source": [
    "**_Note:_** Be _very careful_ when using `delete_many()` -- passing in an empty dictionary will delete the entire collection -- it is the mongoDB equivalent of  `DROP TABLE`, and can really ruin your day if you aren't careful!\n",
    "\n",
    "## Summary\n",
    "\n",
    "In this lesson, we learned about how to get mongoDB up and running on our machine, how to connect to it, and how to do some basic CRUD tasks with Python!"
   ]
  }
 ],
 "metadata": {
  "kernelspec": {
   "display_name": "Python 3",
   "language": "python",
   "name": "python3"
  },
  "language_info": {
   "codemirror_mode": {
    "name": "ipython",
    "version": 3
   },
   "file_extension": ".py",
   "mimetype": "text/x-python",
   "name": "python",
   "nbconvert_exporter": "python",
   "pygments_lexer": "ipython3",
   "version": "3.6.9"
  },
  "toc": {
   "base_numbering": 1,
   "nav_menu": {},
   "number_sections": false,
   "sideBar": true,
   "skip_h1_title": false,
   "title_cell": "Table of Contents",
   "title_sidebar": "Contents",
   "toc_cell": false,
   "toc_position": {
    "height": "calc(100% - 180px)",
    "left": "10px",
    "top": "150px",
    "width": "287px"
   },
   "toc_section_display": true,
   "toc_window_display": true
  }
 },
 "nbformat": 4,
 "nbformat_minor": 5
}
