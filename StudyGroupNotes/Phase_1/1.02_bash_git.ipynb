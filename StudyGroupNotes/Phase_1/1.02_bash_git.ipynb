{
 "cells": [
  {
   "cell_type": "markdown",
   "id": "011d2388",
   "metadata": {},
   "source": [
    "# 1.02 Bash / Git\n",
    "\n",
    "## Objectives\n",
    "- **Version Control / git / GitHub**\n",
    "    - Learn about what version control is and how git works.\n",
    "    - Review the workflow you will generally be following whenever working with labs.\n",
    "    \n",
    "    \n",
    "- **Bash/Terminal**:\n",
    "    - Learn about bash commands and your terminal\n",
    "    - Bonus: Learn how to customize your bash terminal and build-in some super powers to your terminal."
   ]
  },
  {
   "cell_type": "markdown",
   "id": "5be0d86c",
   "metadata": {},
   "source": [
    "# Basic Bash\n",
    "\n",
    "> *https://www.educative.io/blog/bash-shell-command-cheat-sheet*\n",
    "\n",
    "- `cd`: change directory\n",
    "- `pwd`: print working directory\n",
    "- `ls`: lists all files and folders\n",
    "- `echo`: prints to terminal OR to a file (eg: `echo print('hello world') > file.py`)\n",
    "- `touch`: creates a new file\n",
    "- `mkdir`: Makes a new folder\n",
    "- `mv`: moves file\n"
   ]
  },
  {
   "cell_type": "markdown",
   "id": "f68ebc43",
   "metadata": {},
   "source": [
    "# Why Version Control?\n",
    "\n",
    "***Have you or a loved one been guilty of something like this?***\n",
    "\n",
    "<img src='https://smac-group.github.io/ds/images/bad-version-control.png'>\n",
    "\n",
    "---\n",
    "\n",
    "***Enter GitHub***\n",
    "\n",
    "<img src='https://imgs.xkcd.com/comics/git.png'>\n",
    "\n",
    "## Git Cheat Sheet\n",
    "> <a href='https://drive.google.com/file/d/1j4pNl4x2onYV6VxA9zi47nqeOSl1M9R8/view?usp=sharing'>*Git Cheat Sheet - GitLab*</a>"
   ]
  },
  {
   "cell_type": "markdown",
   "id": "b752aa81",
   "metadata": {},
   "source": [
    "# Basic Workflow for Labs\n",
    "\n",
    "1. Fork the lesson/lab that you want to work on locally.\n",
    "    - Copy the URL from your forked repo.\n",
    "    \n",
    "    \n",
    "2. In your terminal, `cd` into the folder where you store your repos.\n",
    "\n",
    "\n",
    "3. Type `git clone` into your terminal and then paste the URL from your forked repo.\n",
    "    - `git clone url_from_github`\n",
    "    \n",
    "    \n",
    "4. cd into the repo's folder.\n",
    "    - `cd dsc-the-name-of-the-repo-you-cloned`\n",
    "    \n",
    "    \n",
    "5. Launch Jupyter Notebook and work on the lab.\n",
    "\n",
    "\n",
    "6. Once completed, in your terminal from the same folder as your repo:\n",
    "    - `git add .`  - this adds all of the files in the folder to the tracked files.\n",
    "    - `git commit -m \"Lab completed\"` Will save a snapshot of your files and add the message \"Lab completed\" as your commit message.\n",
    "    - `git push` will push your local changes to your GitHub account."
   ]
  },
  {
   "cell_type": "markdown",
   "id": "a2d4a1c7",
   "metadata": {},
   "source": [
    "# Other GitHub Commands\n",
    "- `git status`: what is staged? working directory?\n",
    "- `git diff`: differences between commits or working directory\n",
    "- `git log`: all the changes\n",
    "- `git fetch`: Check for changes to the GitHub repo\n",
    "- `git pull`: Check for changes AND download the changed files."
   ]
  },
  {
   "cell_type": "markdown",
   "id": "95626423",
   "metadata": {},
   "source": [
    "# Creating a Repo Locally\n",
    "- To create a new repo from inside a folder on your computer, in your terminal type `git init`.\n",
    "\n",
    "```bash\n",
    "git init\n",
    "git add .\n",
    "git commit -m \"First commit\"\n",
    "```\n",
    "\n",
    "\n",
    "- Syncing up with GitHub:\n",
    "    - Create a New repo on GitHub.com and copy the repo's URL\n",
    "    - In your terminal, from inside your repo folder: (note replace the_url_for_the_repo with your actual url)\n",
    "    \n",
    "```bash\n",
    "git remote add origin the_url_for_the_repo\n",
    "git push\n",
    "```"
   ]
  },
  {
   "cell_type": "markdown",
   "id": "fbc92bab",
   "metadata": {},
   "source": [
    "# Collaborating on Git: Branches\n",
    "\n",
    "- Tutorial: *https://www.atlassian.com/git/tutorials/using-branches*\n",
    "\n",
    "```\n",
    "git branch\n",
    "\n",
    "git checkout -b branch_name\n",
    "```\n",
    "\n",
    "`git merge other_branch`: Merges the **other_branch** into your current branch you're on "
   ]
  },
  {
   "cell_type": "markdown",
   "id": "b604b573",
   "metadata": {},
   "source": [
    "# Git and Markdown Resources\n",
    "\n",
    "* Git Basics ([Gist of Git resources](https://gist.github.com/aviflombaum/0d1c335291350a2e4036))\n",
    "  - [Getting Started 1](http://git-scm.com/book/en/Getting-Started-A-Short-History-of-Git)\n",
    "  - [Getting Started 2](http://git-scm.com/book/en/Getting-Started-About-Version-Control)\n",
    "  - [Git Basics 1](http://git-scm.com/book/en/Git-Basics-Recording-Changes-to-the-Repository)\n",
    "  - [Viewing The Commit History](http://git-scm.com/book/en/Git-Basics-Viewing-the-Commit-History)\n",
    "  - [Remotes](http://git-scm.com/book/en/Git-Basics-Working-with-Remotes)\n",
    "  - [Git Kitchen](http://bloggytoons.com/posts/2013/10/10/git-kitchen-wchef-ramsay)\n",
    "  - [Branches](http://git-scm.com/book/en/Git-Branching-What-a-Branch-Is)\n",
    "  - [Merging](http://git-scm.com/book/en/Git-Branching-Basic-Branching-and-Merging)\n",
    "  - [Branch Management](http://git-scm.com/book/en/Git-Branching-Branch-Management)\n",
    "  - [Workflows](http://git-scm.com/book/en/Git-Branching-Branching-Workflows)\n",
    "  - Additional Resources\n",
    "    - [Git Guide](http://rogerdudler.github.io/git-guide/)\n",
    "    - [Git Branching](http://pcottle.github.io/learnGitBranching/)\n",
    "    - [Visual Git](http://marklodato.github.io/visual-git-guide/index-en.html)\n",
    "    - [Public Private Key Video](http://www.youtube.com/watch?v=3QnD2c4Xovk&feature=plcp)\n",
    "* Markdown\n",
    "  - [GitHub Flavored Markdown](http://github.github.com/github-flavored-markdown)\n",
    "  - [Daring Fireball MD Basics](http://daringfireball.net/projects/markdown/basics)\n",
    "  - [Daring Fireball MD Syntax](http://daringfireball.net/projects/markdown/syntax)\n",
    "  - [Byword MultiMarkdown Guide](http://bywordapp.com/markdown/guide.html)\n",
    "  * Markdown plugins and apps\n",
    "    - [Sublime MD Preview Plugin](https://github.com/revolunet/sublimetext-markdown-preview)\n",
    "    - [Mou MD writer app](http://mouapp.com/)\n",
    "    - [Atom text editor](https://atom.io) has a markdown preview built in.\n"
   ]
  },
  {
   "cell_type": "code",
   "execution_count": null,
   "id": "c7522892",
   "metadata": {},
   "outputs": [],
   "source": []
  }
 ],
 "metadata": {
  "kernelspec": {
   "display_name": "Python 3",
   "language": "python",
   "name": "python3"
  },
  "language_info": {
   "codemirror_mode": {
    "name": "ipython",
    "version": 3
   },
   "file_extension": ".py",
   "mimetype": "text/x-python",
   "name": "python",
   "nbconvert_exporter": "python",
   "pygments_lexer": "ipython3",
   "version": "3.6.9"
  },
  "toc": {
   "base_numbering": 1,
   "nav_menu": {},
   "number_sections": false,
   "sideBar": true,
   "skip_h1_title": false,
   "title_cell": "Table of Contents",
   "title_sidebar": "Contents",
   "toc_cell": false,
   "toc_position": {},
   "toc_section_display": true,
   "toc_window_display": true
  }
 },
 "nbformat": 4,
 "nbformat_minor": 5
}
