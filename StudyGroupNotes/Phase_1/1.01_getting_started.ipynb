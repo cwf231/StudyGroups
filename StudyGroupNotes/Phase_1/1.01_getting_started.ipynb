{
 "cells": [
  {
   "cell_type": "markdown",
   "id": "a0fd15aa",
   "metadata": {
    "ExecuteTime": {
     "end_time": "2021-06-23T20:17:23.505195Z",
     "start_time": "2021-06-23T20:17:23.494287Z"
    }
   },
   "source": [
    "## Phase 1.01\n",
    "\n",
    "# Welcome!\n",
    "\n",
    "---\n",
    "\n",
    "## Slack\n",
    "\n",
    "---\n",
    "\n",
    "## Homeroom\n",
    "- Study Group Questions\n",
    "- Study Group Repo\n",
    "- YouTube Playlist\n",
    "- Student Resources (Archive)\n",
    "\n",
    "---\n",
    "\n",
    "## Canvas\n",
    "### *DS Lifecycle*\n",
    "- Phase 1 - Section 1 *(The Data Science Process)*\n",
    "\n",
    "---\n",
    "\n",
    "## Navigating the Terminal\n",
    "### Basics\n",
    "- `ls` \n",
    "    - *list files*\n",
    "- `pwd` \n",
    "    - *print working directory*\n",
    "- `cd`\n",
    "    - *change directory*\n",
    "- `mkdir`\n",
    "    - *make directory*\n",
    "- `touch <filename>`\n",
    "    - *create `filename` in directory*"
   ]
  },
  {
   "cell_type": "markdown",
   "id": "47fd2c6c",
   "metadata": {
    "ExecuteTime": {
     "end_time": "2021-06-23T20:17:23.505195Z",
     "start_time": "2021-06-23T20:17:23.494287Z"
    }
   },
   "source": [
    "---\n",
    "\n",
    "## Setting up Environment\n",
    "### New Terms\n",
    "- Anaconda\n",
    "- Git\n",
    "- Jupyter Notebook *(`.ipynb`)*\n",
    "- Python *(`.py`)*\n",
    "- Virtual Environment\n",
    "\n",
    "---\n",
    "\n",
    "## Installing NBExtensions\n",
    "> Official Documentation: *https://jupyter-contrib-nbextensions.readthedocs.io/en/latest/*\n",
    "\n",
    "\n",
    "*Using Conda*\n",
    "- Open your terminal and make sure learn-env is activated.\n",
    "\n",
    "\n",
    "- Install the Python package.\n",
    "    - `conda install -c conda-forge jupyter_contrib_nbextensions`\n",
    "    \n",
    "    \n",
    "- Install JS & CSS files.\n",
    "    - `jupyter contrib nbextension install --user`\n",
    "    \n",
    "    \n",
    "- Activate the extension configurator.\n",
    "    - `jupyter nbextension enable jupyter_nbextensions_configurator`\n",
    "\n",
    "\n",
    "- When you boot up jupyter notebook, there should be a new tab at the top called `nbextensions`. Click on the tab to open the list of available extensions.\n",
    "    - If not, there should be a `nbextensionsconfig` option under `Edit`\n",
    "\n",
    "\n",
    "> *NOTE: If the list of available notebook extensions is grayed out:*\n",
    ">\n",
    "> *Uncheck `\"disable configuration for nbextensions without explicit compatibility (they may break your notebook environment, but can be useful to show for nbextension development)\"` at the top of the page next to the search box.*\n",
    "\n",
    "\n",
    "- Clicking the name of an extension will load its options menu below the table of extensions.\n",
    "\n",
    "### Recommended Extensions\n",
    "- Collapsible Headings\n",
    "- ExecuteTime\n",
    "- Live Markdown Preview\n",
    "- Ruler\n",
    "- Ruler in Editor\n",
    "- Spellchecker\n",
    "- Table of Contents (2)\n",
    "- Toggle all line numbers\n",
    "\n",
    "---"
   ]
  },
  {
   "cell_type": "markdown",
   "id": "9f3696c5",
   "metadata": {
    "ExecuteTime": {
     "end_time": "2021-06-23T20:17:23.505195Z",
     "start_time": "2021-06-23T20:17:23.494287Z"
    }
   },
   "source": [
    "## Running Notebooks\n",
    "*GitHub workflow!*\n",
    "\n",
    "### On Illumidesk\n",
    "- Any code done on Illumidesk will be saved to Illumidesk ONLY.\n",
    "- In order to save your labs, you will need to follow the instructions on this repo's README:\n",
    "    - *https://github.com/learn-co-curriculum/dsc-saving-illumidesk-work-to-github*\n",
    "    \n",
    "### Locally\n",
    "*From a GitHub repo:*\n",
    "- Fork\n",
    "- Clone\n",
    "    - Terminal: `git clone <url>`\n",
    "    ---\n",
    "- Launch Jupyter Notebook\n",
    "    - Terminal: `jupyter notebook`\n",
    "---\n",
    "\n",
    "*...do work...*\n",
    "\n",
    "---\n",
    "- Save & Checkpoint\n",
    "- Close and Halt\n",
    "> *If you aren't already there, navigate to the repo folder in your terminal.*\n",
    ">\n",
    "> `cd path/to/repo`\n",
    "\n",
    "```bash\n",
    "# Add all files to commit stage.\n",
    "git add .\n",
    "\n",
    "# Commit with comment.\n",
    "git commit -m 'description of the edits'\n",
    "\n",
    "# Push changes to GitHub\n",
    "git push\n",
    "```\n",
    "\n",
    "---\n",
    "---\n",
    "---"
   ]
  },
  {
   "cell_type": "markdown",
   "id": "5e8c1442",
   "metadata": {},
   "source": [
    "## Aliases\n",
    "\n",
    "- You can create shortcuts in your Terminal by creating aliases in your `.bash_profile`.\n",
    "\n",
    "\n",
    "- In `.bash_profile`, you can add a shortcut one line above the line: `conda activate learn-env`\n",
    "\n",
    "\n",
    "- For example:\n",
    "\n",
    "\n",
    "> `alias jnb=\"jupyter notebook\"`\n",
    "\n",
    "---\n",
    "\n",
    "> *You can create as many as you like - set one alias per line.*\n",
    ">\n",
    "> *The shortcuts are of course up to you!*\n",
    "    \n",
    "---\n",
    "    \n",
    "- Now, instead of typing `jupyter notebook`, you only need to type `jnb`."
   ]
  },
  {
   "cell_type": "markdown",
   "id": "40a5ac86",
   "metadata": {},
   "source": [
    "---\n",
    "\n",
    "# Python Review!\n",
    "\n",
    "- Writing a program: **Rock, Paper, Scissors**\n",
    "    - *Data Types, User Input, Flow Control*"
   ]
  },
  {
   "cell_type": "code",
   "execution_count": null,
   "id": "8442b93d",
   "metadata": {
    "ExecuteTime": {
     "end_time": "2021-06-29T12:38:35.439324Z",
     "start_time": "2021-06-29T12:38:35.322463Z"
    }
   },
   "outputs": [],
   "source": [
    "# Importing numpy to use random selection.\n",
    "import numpy as np"
   ]
  },
  {
   "cell_type": "code",
   "execution_count": null,
   "id": "a6a7bdcd",
   "metadata": {
    "ExecuteTime": {
     "end_time": "2021-06-29T12:38:35.443814Z",
     "start_time": "2021-06-29T12:38:35.441256Z"
    }
   },
   "outputs": [],
   "source": [
    "# Writing our function to play Rock, Paper, Scissors\n",
    "def rock_paper_scissors():\n",
    "    \"\"\"Play R-P-S against a computer who plays randomly.\"\"\"\n",
    "    \n",
    "    # Let's code!\n",
    "    pass"
   ]
  },
  {
   "cell_type": "code",
   "execution_count": null,
   "id": "72cdfc70",
   "metadata": {},
   "outputs": [],
   "source": [
    "# Ready to test?\n",
    "rock_paper_scissors()"
   ]
  },
  {
   "cell_type": "code",
   "execution_count": null,
   "id": "848dea82",
   "metadata": {
    "ExecuteTime": {
     "end_time": "2021-06-29T12:38:35.448029Z",
     "start_time": "2021-06-29T12:38:35.446284Z"
    }
   },
   "outputs": [],
   "source": [
    "# We can do some testing here!\n"
   ]
  },
  {
   "cell_type": "code",
   "execution_count": null,
   "id": "1f1ff77a",
   "metadata": {},
   "outputs": [],
   "source": []
  },
  {
   "cell_type": "code",
   "execution_count": null,
   "id": "d1bc239e",
   "metadata": {},
   "outputs": [],
   "source": []
  },
  {
   "cell_type": "code",
   "execution_count": null,
   "id": "0b57804a",
   "metadata": {},
   "outputs": [],
   "source": []
  }
 ],
 "metadata": {
  "kernelspec": {
   "display_name": "Python 3",
   "language": "python",
   "name": "python3"
  },
  "language_info": {
   "codemirror_mode": {
    "name": "ipython",
    "version": 3
   },
   "file_extension": ".py",
   "mimetype": "text/x-python",
   "name": "python",
   "nbconvert_exporter": "python",
   "pygments_lexer": "ipython3",
   "version": "3.6.9"
  },
  "toc": {
   "base_numbering": 1,
   "nav_menu": {},
   "number_sections": false,
   "sideBar": true,
   "skip_h1_title": false,
   "title_cell": "Table of Contents",
   "title_sidebar": "Contents",
   "toc_cell": false,
   "toc_position": {},
   "toc_section_display": true,
   "toc_window_display": true
  }
 },
 "nbformat": 4,
 "nbformat_minor": 5
}
