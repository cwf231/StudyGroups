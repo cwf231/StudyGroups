{
 "cells": [
  {
   "cell_type": "markdown",
   "id": "97ed6667",
   "metadata": {},
   "source": [
    "## Phase 1.04 - 1.05\n",
    "\n",
    "# Essential Pandas\n",
    "\n",
    "> *Official Documentation:* \n",
    ">\n",
    "> *https://pandas.pydata.org/docs/user_guide/index.html#user-guide*"
   ]
  },
  {
   "cell_type": "code",
   "execution_count": null,
   "id": "b183d10b",
   "metadata": {
    "ExecuteTime": {
     "end_time": "2021-07-01T13:00:59.080556Z",
     "start_time": "2021-07-01T13:00:58.557260Z"
    }
   },
   "outputs": [],
   "source": [
    "import pandas as pd"
   ]
  },
  {
   "cell_type": "markdown",
   "id": "65d8b9f4",
   "metadata": {},
   "source": [
    "---\n",
    "\n",
    "## Loading / Saving Data\n",
    "\n",
    "### Loading \n",
    "#### From Libraries\n",
    "`from sklearn.datasets import load_wine`\n",
    "\n",
    "`seaborn.load_dataset()`"
   ]
  },
  {
   "cell_type": "code",
   "execution_count": null,
   "id": "5f790c94",
   "metadata": {},
   "outputs": [],
   "source": []
  },
  {
   "cell_type": "markdown",
   "id": "b9ef46d0",
   "metadata": {},
   "source": [
    "#### From Files\n",
    "`'data/turnstile.csv'`"
   ]
  },
  {
   "cell_type": "code",
   "execution_count": null,
   "id": "54811693",
   "metadata": {},
   "outputs": [],
   "source": []
  },
  {
   "cell_type": "markdown",
   "id": "9fcdb606",
   "metadata": {},
   "source": [
    "#### From Dictionary of Lists"
   ]
  },
  {
   "cell_type": "code",
   "execution_count": null,
   "id": "427f6af9",
   "metadata": {},
   "outputs": [],
   "source": []
  },
  {
   "cell_type": "markdown",
   "id": "a6b13afd",
   "metadata": {},
   "source": [
    "#### From List of Dictionaries"
   ]
  },
  {
   "cell_type": "code",
   "execution_count": null,
   "id": "c17458a9",
   "metadata": {},
   "outputs": [],
   "source": []
  },
  {
   "cell_type": "markdown",
   "id": "81044c25",
   "metadata": {},
   "source": [
    "#### From Lists"
   ]
  },
  {
   "cell_type": "code",
   "execution_count": null,
   "id": "3af996ae",
   "metadata": {},
   "outputs": [],
   "source": []
  },
  {
   "cell_type": "markdown",
   "id": "820a5481",
   "metadata": {},
   "source": [
    "### Saving"
   ]
  },
  {
   "cell_type": "code",
   "execution_count": null,
   "id": "d84aad98",
   "metadata": {},
   "outputs": [],
   "source": []
  },
  {
   "cell_type": "markdown",
   "id": "125cf8a5",
   "metadata": {},
   "source": [
    "---\n",
    "\n",
    "## Basics\n",
    "### DataFrame vs Series"
   ]
  },
  {
   "cell_type": "code",
   "execution_count": null,
   "id": "31e9db00",
   "metadata": {},
   "outputs": [],
   "source": []
  },
  {
   "cell_type": "markdown",
   "id": "41f4e540",
   "metadata": {},
   "source": [
    "### Attributes\n",
    "```\n",
    ".shape, .index, .columns, .dtypes\n",
    "```"
   ]
  },
  {
   "cell_type": "code",
   "execution_count": null,
   "id": "8e20385f",
   "metadata": {},
   "outputs": [],
   "source": []
  },
  {
   "cell_type": "markdown",
   "id": "a6449a38",
   "metadata": {},
   "source": [
    "### Methods\n",
    "\n",
    "```\n",
    "pd.concat()\n",
    "```"
   ]
  },
  {
   "cell_type": "code",
   "execution_count": null,
   "id": "c565ca77",
   "metadata": {},
   "outputs": [],
   "source": []
  },
  {
   "cell_type": "markdown",
   "id": "8a5ce2e8",
   "metadata": {},
   "source": [
    "```\n",
    ".head(), .tail(), .info(), \n",
    ".describe(), .value_counts()\n",
    "```"
   ]
  },
  {
   "cell_type": "code",
   "execution_count": null,
   "id": "441aaf2f",
   "metadata": {},
   "outputs": [],
   "source": []
  },
  {
   "cell_type": "markdown",
   "id": "f2ce17cd",
   "metadata": {},
   "source": [
    "```\n",
    ".sort_values(), .iterrows(), \n",
    ".corr(), .copy()\n",
    "```"
   ]
  },
  {
   "cell_type": "code",
   "execution_count": null,
   "id": "e65bcc9a",
   "metadata": {},
   "outputs": [],
   "source": []
  },
  {
   "cell_type": "markdown",
   "id": "bf1f4e97",
   "metadata": {},
   "source": [
    "```\n",
    ".set_index(), \n",
    ".reset_index(), .astype(), \n",
    ".merge(), .join()\n",
    "```\n",
    "\n",
    "> <a href='https://pandas.pydata.org/pandas-docs/stable/user_guide/merging.html#database-style-dataframe-or-named-series-joining-merging'>*Merge / Join - Documentation*</a>"
   ]
  },
  {
   "cell_type": "code",
   "execution_count": null,
   "id": "1aa9fdc6",
   "metadata": {},
   "outputs": [],
   "source": []
  },
  {
   "cell_type": "markdown",
   "id": "e3508dcc",
   "metadata": {},
   "source": [
    "```\n",
    ".plot()\n",
    "```"
   ]
  },
  {
   "cell_type": "code",
   "execution_count": null,
   "id": "80f54d51",
   "metadata": {},
   "outputs": [],
   "source": []
  },
  {
   "cell_type": "markdown",
   "id": "35bc8d77",
   "metadata": {},
   "source": [
    "```\n",
    ".mode(), .mean(), .std(), .var(), .sum(), .cumsum(), .quantile()\n",
    "```"
   ]
  },
  {
   "cell_type": "code",
   "execution_count": null,
   "id": "5526f80d",
   "metadata": {},
   "outputs": [],
   "source": []
  },
  {
   "cell_type": "markdown",
   "id": "01017e93",
   "metadata": {},
   "source": [
    "### Slicing\n",
    "```\n",
    ".iloc[], .loc[]\n",
    "```"
   ]
  },
  {
   "cell_type": "code",
   "execution_count": null,
   "id": "3d8cc3b9",
   "metadata": {},
   "outputs": [],
   "source": []
  },
  {
   "cell_type": "markdown",
   "id": "ec5ea8b2",
   "metadata": {},
   "source": [
    "---\n",
    "\n",
    "## Operations\n",
    "### Setting Values\n",
    "```\n",
    ".loc[], .fillna()\n",
    "```"
   ]
  },
  {
   "cell_type": "code",
   "execution_count": null,
   "id": "35c35b4b",
   "metadata": {},
   "outputs": [],
   "source": []
  },
  {
   "cell_type": "markdown",
   "id": "00149906",
   "metadata": {},
   "source": [
    "### Transforming Values\n",
    "```\n",
    ".apply(), .map(), pd.qcut()\n",
    "```"
   ]
  },
  {
   "cell_type": "code",
   "execution_count": null,
   "id": "c5418a68",
   "metadata": {},
   "outputs": [],
   "source": []
  },
  {
   "cell_type": "markdown",
   "id": "b6958677",
   "metadata": {},
   "source": [
    "### Creating Columns\n",
    "```\n",
    ".loc[], manually\n",
    "```"
   ]
  },
  {
   "cell_type": "code",
   "execution_count": null,
   "id": "7ed71d88",
   "metadata": {},
   "outputs": [],
   "source": []
  },
  {
   "cell_type": "markdown",
   "id": "c64ff9c2",
   "metadata": {},
   "source": [
    "### Reformatting DataFrame\n",
    "```\n",
    ".groupby()\n",
    "```"
   ]
  },
  {
   "cell_type": "code",
   "execution_count": null,
   "id": "202578a2",
   "metadata": {},
   "outputs": [],
   "source": []
  }
 ],
 "metadata": {
  "kernelspec": {
   "display_name": "Python 3",
   "language": "python",
   "name": "python3"
  },
  "language_info": {
   "codemirror_mode": {
    "name": "ipython",
    "version": 3
   },
   "file_extension": ".py",
   "mimetype": "text/x-python",
   "name": "python",
   "nbconvert_exporter": "python",
   "pygments_lexer": "ipython3",
   "version": "3.6.9"
  },
  "toc": {
   "base_numbering": 1,
   "nav_menu": {},
   "number_sections": false,
   "sideBar": true,
   "skip_h1_title": false,
   "title_cell": "Table of Contents",
   "title_sidebar": "Contents",
   "toc_cell": false,
   "toc_position": {
    "height": "calc(100% - 180px)",
    "left": "10px",
    "top": "150px",
    "width": "271px"
   },
   "toc_section_display": true,
   "toc_window_display": true
  }
 },
 "nbformat": 4,
 "nbformat_minor": 5
}
