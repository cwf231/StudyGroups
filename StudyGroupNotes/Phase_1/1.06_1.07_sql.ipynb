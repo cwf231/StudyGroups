{
 "cells": [
  {
   "cell_type": "markdown",
   "id": "7b25618a",
   "metadata": {},
   "source": [
    "## Phase 1.06 - 1.07\n",
    "\n",
    "# SQL and Relational Databases"
   ]
  },
  {
   "cell_type": "markdown",
   "id": "80ebc4aa",
   "metadata": {},
   "source": [
    "## What is a Database?\n",
    "- In general, databases store sets of data that can be queried for use in other applications. \n",
    "- A database management system supports the development, administration and use of database platforms."
   ]
  },
  {
   "cell_type": "markdown",
   "id": "4d2ebe5e",
   "metadata": {
    "id": "bAXMam2mXlUm"
   },
   "source": [
    "\n",
    "### What is a Relational Database? \n",
    "- A *relational database management system* (**RDBMS**) is a type of DBMS with a row-based table structure that connects related data elements and includes functions that maintain the security, accuracy, integrity and consistency of the data.\n",
    "- The most basic **RDBMS** functions are related to *create, read, update and delete* operations, collectively known as **CRUD**."
   ]
  },
  {
   "cell_type": "markdown",
   "id": "bb991502",
   "metadata": {
    "id": "EHQmpZ0-XlUn"
   },
   "source": [
    "### What is SQL?\n",
    "\n",
    "- **SQL** (usually pronounced like the word “sequel”) stands for Structured Query Language.\n",
    "- A programming language used to communicate with data stored in a **RDBMS** (relational database management system).\n",
    "- SQL syntax is similar to the English language, which makes it relatively easy to write, read, and interpret."
   ]
  },
  {
   "cell_type": "markdown",
   "id": "f7f821b7",
   "metadata": {
    "id": "yZRDCYBXXlUn"
   },
   "source": [
    "### Schema\n",
    "A relational database schema helps you to organize and understand the structure of a database by showing how all of the tables are related to each other.\n",
    "<img src='https://github.com/yishuen/studygroups-070620pt/blob/master/mod-1/images/employees-schema.png?raw=1'>"
   ]
  },
  {
   "cell_type": "markdown",
   "id": "61d3b701",
   "metadata": {},
   "source": [
    "### Relationships\n",
    "\n",
    "The logical association among entities is called relationship. Relationships are mapped between entities in various ways. \n",
    "\n",
    "**Relationship Mappings**\n",
    "\n",
    "- one to one\n",
    "- one to many\n",
    "- many to many\n"
   ]
  },
  {
   "cell_type": "markdown",
   "id": "f0b2c73c",
   "metadata": {
    "id": "C2_Kz8wpXlUo"
   },
   "source": [
    "### One to One Relationship\n",
    "<img src=\"https://github.com/yishuen/studygroups-070620pt/blob/master/mod-1/images/one-to-one.png?raw=1\" >\n"
   ]
  },
  {
   "cell_type": "markdown",
   "id": "054d3437",
   "metadata": {
    "id": "VYndQH3rXlUp"
   },
   "source": [
    "### One to Many Relationship\n",
    "\n",
    "This is the most commonly used type of relationship. Consider an e-commerce website, with the following:\n",
    "\n",
    "Customers can make many orders.\n",
    "Orders can contain many items.\n",
    "Items can have descriptions in many languages.\n",
    "<img src=\"https://github.com/yishuen/studygroups-070620pt/blob/master/mod-1/images/one-to-many.png?raw=1\" >"
   ]
  },
  {
   "cell_type": "markdown",
   "id": "73bf4d2b",
   "metadata": {
    "id": "j4MezWTyXlUp"
   },
   "source": [
    "### Many to Many Relationship\n",
    "\n",
    "In some cases, you may need multiple instances on both sides of the relationship. For example, each order can contain multiple items. And each item can also be in multiple orders.\n",
    "<img src=\"https://github.com/yishuen/studygroups-070620pt/blob/master/mod-1/images/many-to-many.png?raw=1\" >"
   ]
  },
  {
   "cell_type": "markdown",
   "id": "b83ceb51",
   "metadata": {},
   "source": [
    "***For these relationships, we need to create an extra table to track the relationships:***\n",
    "\n",
    "<img src=\"https://github.com/yishuen/studygroups-070620pt/blob/master/mod-1/images/many-to-many-junction.png?raw=1\" >"
   ]
  },
  {
   "cell_type": "markdown",
   "id": "fa754e3b",
   "metadata": {},
   "source": [
    "### SQL Data Types\n",
    "\n",
    "SQL data types can be broadly divided into following categories.\n",
    "\n",
    "- Numeric data types such as int, tinyint, bigint, float, real etc.\n",
    "- Date and Time data types such as Date, Time, Datetime etc.\n",
    "- Character and String data types such as char, varchar, text etc.\n",
    "- Unicode character string data types, for example nchar, nvarchar, ntext etc.\n",
    "- Binary data types such as binary, varbinary etc.\n",
    "- Miscellaneous data types – clob, blob, xml, cursor, table etc.\n",
    "\n",
    "<img src=\"https://github.com/yishuen/studygroups-070620pt/blob/master/mod-1/images/data-type-mapping.png?raw=1\" >"
   ]
  },
  {
   "cell_type": "markdown",
   "id": "58a70fc7",
   "metadata": {},
   "source": [
    "#### SQLite Data Types\n",
    "\n",
    "Any column declared in an SQLite database is assigned a type affinity depending on its declared data type. Here the list of type affinities in SQLite:\n",
    "\n",
    "- TEXT\n",
    "- NUMERIC\n",
    "- INTEGER\n",
    "- REAL\n",
    "- BLOB"
   ]
  },
  {
   "cell_type": "markdown",
   "id": "c4e0de4f",
   "metadata": {},
   "source": [
    "## Using SQL in Python\n",
    "\n",
    "\n",
    "We're going to play around with this Pokemon database!\n",
    "\n",
    "<img src='https://raw.githubusercontent.com/yishuen/studygroups-070620pt/master/mod-1/images/pokemon_db.png'>"
   ]
  },
  {
   "cell_type": "code",
   "execution_count": null,
   "id": "ce8818c6",
   "metadata": {
    "ExecuteTime": {
     "end_time": "2021-07-06T15:21:06.131077Z",
     "start_time": "2021-07-06T15:21:05.475508Z"
    }
   },
   "outputs": [],
   "source": [
    "import pandas as pd\n",
    "import sqlite3"
   ]
  },
  {
   "cell_type": "code",
   "execution_count": null,
   "id": "962221ef",
   "metadata": {
    "ExecuteTime": {
     "end_time": "2021-07-06T15:21:58.067496Z",
     "start_time": "2021-07-06T15:21:58.062351Z"
    }
   },
   "outputs": [],
   "source": [
    "# Connecting to the database.\n",
    "conn = sqlite3.connect('data/pokemon.db')\n",
    "conn"
   ]
  },
  {
   "cell_type": "markdown",
   "id": "016f6d01",
   "metadata": {
    "id": "TnZ2e4qrXlUt"
   },
   "source": [
    "### Parts of a SQL Query\n",
    "* `SELECT ... FROM ...`: Which columns from which table\n",
    "* `WHERE`: Conditions to filter your query by\n",
    "* `JOIN`: Put tables together\n",
    "* `GROUP BY`: Group and aggregate data\n",
    "* `HAVING`: Filtering after a `GROUP BY`\n",
    "* `ORDER BY`: How to sort the table\n",
    "* `LIMIT`: How many rows to query"
   ]
  },
  {
   "cell_type": "markdown",
   "id": "cb105437",
   "metadata": {},
   "source": [
    "#### Q1"
   ]
  },
  {
   "cell_type": "code",
   "execution_count": null,
   "id": "a818efdf",
   "metadata": {
    "ExecuteTime": {
     "end_time": "2021-07-06T15:24:15.914004Z",
     "start_time": "2021-07-06T15:24:15.911789Z"
    }
   },
   "outputs": [],
   "source": [
    "# Select all pokemon from the pokemon table.\n",
    "\n",
    "\n",
    "# Show results in a pandas databrame.\n",
    "\n"
   ]
  },
  {
   "cell_type": "markdown",
   "id": "74daf478",
   "metadata": {},
   "source": [
    "#### Q2"
   ]
  },
  {
   "cell_type": "code",
   "execution_count": null,
   "id": "2242cf74",
   "metadata": {
    "ExecuteTime": {
     "end_time": "2021-07-06T15:27:06.764667Z",
     "start_time": "2021-07-06T15:27:06.762309Z"
    }
   },
   "outputs": [],
   "source": [
    "# Select all the rows from pokemon_types where the type_id is 3.\n"
   ]
  },
  {
   "cell_type": "markdown",
   "id": "2209735b",
   "metadata": {},
   "source": [
    "#### Q3"
   ]
  },
  {
   "cell_type": "code",
   "execution_count": null,
   "id": "56c369b1",
   "metadata": {
    "ExecuteTime": {
     "end_time": "2021-07-06T15:31:33.739569Z",
     "start_time": "2021-07-06T15:31:33.736940Z"
    }
   },
   "outputs": [],
   "source": [
    "# Select the rows from pokemon_types where the associated type is \"water\".\n"
   ]
  },
  {
   "cell_type": "markdown",
   "id": "25c87547",
   "metadata": {},
   "source": [
    "#### Q4"
   ]
  },
  {
   "cell_type": "code",
   "execution_count": null,
   "id": "54bf8ca5",
   "metadata": {
    "ExecuteTime": {
     "end_time": "2021-07-06T15:37:00.646245Z",
     "start_time": "2021-07-06T15:37:00.644051Z"
    }
   },
   "outputs": [],
   "source": [
    "# Find the average weight for each type. \n",
    "### Order the results from highest weight to lowest weight. \n",
    "### Display the type name next to the average weight.\n"
   ]
  },
  {
   "cell_type": "markdown",
   "id": "390f8f2c",
   "metadata": {},
   "source": [
    "#### Q5"
   ]
  },
  {
   "cell_type": "code",
   "execution_count": null,
   "id": "46f6c9b2",
   "metadata": {
    "ExecuteTime": {
     "end_time": "2021-07-06T15:41:49.547637Z",
     "start_time": "2021-07-06T15:41:49.545224Z"
    }
   },
   "outputs": [],
   "source": [
    "# Find the names and ids the pokemon that have more than 1 type.\n"
   ]
  },
  {
   "cell_type": "markdown",
   "id": "abac9f75",
   "metadata": {},
   "source": [
    "#### Q6"
   ]
  },
  {
   "cell_type": "code",
   "execution_count": null,
   "id": "718bfeee",
   "metadata": {
    "ExecuteTime": {
     "end_time": "2021-07-06T15:46:16.785921Z",
     "start_time": "2021-07-06T15:46:16.783539Z"
    }
   },
   "outputs": [],
   "source": [
    "# Find the id of the type that has the most pokemon. \n",
    "### Display type_id next to the number of pokemon having that type.\n"
   ]
  },
  {
   "cell_type": "code",
   "execution_count": null,
   "id": "e61a529c",
   "metadata": {},
   "outputs": [],
   "source": []
  }
 ],
 "metadata": {
  "kernelspec": {
   "display_name": "Python 3",
   "language": "python",
   "name": "python3"
  },
  "language_info": {
   "codemirror_mode": {
    "name": "ipython",
    "version": 3
   },
   "file_extension": ".py",
   "mimetype": "text/x-python",
   "name": "python",
   "nbconvert_exporter": "python",
   "pygments_lexer": "ipython3",
   "version": "3.6.9"
  },
  "toc": {
   "base_numbering": 1,
   "nav_menu": {},
   "number_sections": false,
   "sideBar": true,
   "skip_h1_title": false,
   "title_cell": "Table of Contents",
   "title_sidebar": "Contents",
   "toc_cell": false,
   "toc_position": {},
   "toc_section_display": true,
   "toc_window_display": true
  }
 },
 "nbformat": 4,
 "nbformat_minor": 5
}
