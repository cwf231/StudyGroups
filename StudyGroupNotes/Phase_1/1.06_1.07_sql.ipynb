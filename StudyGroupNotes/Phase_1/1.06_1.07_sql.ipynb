{
 "cells": [
  {
   "cell_type": "markdown",
   "id": "44911b80",
   "metadata": {},
   "source": [
    "## Phase 1.06 - 1.07\n",
    "\n",
    "# SQL and Relational Databases"
   ]
  },
  {
   "cell_type": "markdown",
   "id": "43e2cbe8",
   "metadata": {},
   "source": [
    "## What is a Database?\n",
    "- In general, databases store sets of data that can be queried for use in other applications. \n",
    "- A database management system supports the development, administration and use of database platforms."
   ]
  },
  {
   "cell_type": "markdown",
   "id": "a05060fd",
   "metadata": {
    "id": "bAXMam2mXlUm"
   },
   "source": [
    "\n",
    "### What is a Relational Database? \n",
    "- A *relational database management system* (**RDBMS**) is a type of DBMS with a row-based table structure that connects related data elements and includes functions that maintain the security, accuracy, integrity and consistency of the data.\n",
    "- The most basic **RDBMS** functions are related to *create, read, update and delete* operations, collectively known as **CRUD**."
   ]
  },
  {
   "cell_type": "markdown",
   "id": "027047c6",
   "metadata": {
    "id": "EHQmpZ0-XlUn"
   },
   "source": [
    "### What is SQL?\n",
    "\n",
    "- **SQL** (usually pronounced like the word “sequel”) stands for Structured Query Language.\n",
    "- A programming language used to communicate with data stored in a **RDBMS** (relational database management system).\n",
    "- SQL syntax is similar to the English language, which makes it relatively easy to write, read, and interpret."
   ]
  },
  {
   "cell_type": "markdown",
   "id": "87997aff",
   "metadata": {
    "id": "yZRDCYBXXlUn"
   },
   "source": [
    "### Schema\n",
    "A relational database schema helps you to organize and understand the structure of a database by showing how all of the tables are related to each other.\n",
    "<img src='https://github.com/yishuen/studygroups-070620pt/blob/master/mod-1/images/employees-schema.png?raw=1'>"
   ]
  },
  {
   "cell_type": "markdown",
   "id": "ddf9b1f1",
   "metadata": {},
   "source": [
    "### Relationships\n",
    "\n",
    "The logical association among entities is called relationship. Relationships are mapped between entities in various ways. \n",
    "\n",
    "**Relationship Mappings**\n",
    "\n",
    "- one to one\n",
    "- one to many\n",
    "- many to many\n"
   ]
  },
  {
   "cell_type": "markdown",
   "id": "61037181",
   "metadata": {
    "id": "C2_Kz8wpXlUo"
   },
   "source": [
    "### One to One Relationship\n",
    "<img src=\"https://github.com/yishuen/studygroups-070620pt/blob/master/mod-1/images/one-to-one.png?raw=1\" >\n"
   ]
  },
  {
   "cell_type": "markdown",
   "id": "d8be5cdc",
   "metadata": {
    "id": "VYndQH3rXlUp"
   },
   "source": [
    "### One to Many Relationship\n",
    "\n",
    "This is the most commonly used type of relationship. Consider an e-commerce website, with the following:\n",
    "\n",
    "Customers can make many orders.\n",
    "Orders can contain many items.\n",
    "Items can have descriptions in many languages.\n",
    "<img src=\"https://github.com/yishuen/studygroups-070620pt/blob/master/mod-1/images/one-to-many.png?raw=1\" >"
   ]
  },
  {
   "cell_type": "markdown",
   "id": "5c0808c3",
   "metadata": {
    "id": "j4MezWTyXlUp"
   },
   "source": [
    "### Many to Many Relationship\n",
    "\n",
    "In some cases, you may need multiple instances on both sides of the relationship. For example, each order can contain multiple items. And each item can also be in multiple orders.\n",
    "<img src=\"https://github.com/yishuen/studygroups-070620pt/blob/master/mod-1/images/many-to-many.png?raw=1\" >"
   ]
  },
  {
   "cell_type": "markdown",
   "id": "7da23038",
   "metadata": {},
   "source": [
    "***For these relationships, we need to create an extra table to track the relationships:***\n",
    "\n",
    "<img src=\"https://github.com/yishuen/studygroups-070620pt/blob/master/mod-1/images/many-to-many-junction.png?raw=1\" >"
   ]
  },
  {
   "cell_type": "markdown",
   "id": "37eb3bb1",
   "metadata": {},
   "source": [
    "### SQL Data Types\n",
    "\n",
    "SQL data types can be broadly divided into following categories.\n",
    "\n",
    "- Numeric data types such as int, tinyint, bigint, float, real etc.\n",
    "- Date and Time data types such as Date, Time, Datetime etc.\n",
    "- Character and String data types such as char, varchar, text etc.\n",
    "- Unicode character string data types, for example nchar, nvarchar, ntext etc.\n",
    "- Binary data types such as binary, varbinary etc.\n",
    "- Miscellaneous data types – clob, blob, xml, cursor, table etc.\n",
    "\n",
    "<img src=\"https://github.com/yishuen/studygroups-070620pt/blob/master/mod-1/images/data-type-mapping.png?raw=1\" >"
   ]
  },
  {
   "cell_type": "markdown",
   "id": "c2a1a935",
   "metadata": {},
   "source": [
    "#### SQLite Data Types\n",
    "\n",
    "Any column declared in an SQLite database is assigned a type affinity depending on its declared data type. Here the list of type affinities in SQLite:\n",
    "\n",
    "- TEXT\n",
    "- NUMERIC\n",
    "- INTEGER\n",
    "- REAL\n",
    "- BLOB"
   ]
  },
  {
   "cell_type": "markdown",
   "id": "8d1392bc",
   "metadata": {},
   "source": [
    "## Using SQL in Python\n",
    "\n",
    "\n",
    "We're going to play around with this Pokemon database!\n",
    "\n",
    "<img src='https://raw.githubusercontent.com/yishuen/studygroups-070620pt/master/mod-1/images/pokemon_db.png'>"
   ]
  },
  {
   "cell_type": "code",
   "execution_count": 1,
   "id": "da8d2656",
   "metadata": {
    "ExecuteTime": {
     "end_time": "2021-07-22T22:34:45.349401Z",
     "start_time": "2021-07-22T22:34:44.827056Z"
    }
   },
   "outputs": [],
   "source": [
    "import pandas as pd\n",
    "import sqlite3"
   ]
  },
  {
   "cell_type": "code",
   "execution_count": 2,
   "id": "9f37a9b7",
   "metadata": {
    "ExecuteTime": {
     "end_time": "2021-07-22T22:34:45.363520Z",
     "start_time": "2021-07-22T22:34:45.352102Z"
    }
   },
   "outputs": [
    {
     "data": {
      "text/plain": [
       "<sqlite3.Connection at 0x7fd8b9194c70>"
      ]
     },
     "execution_count": 2,
     "metadata": {},
     "output_type": "execute_result"
    }
   ],
   "source": [
    "# Connecting to the database.\n",
    "conn = sqlite3.connect('data/pokemon.db')\n",
    "conn"
   ]
  },
  {
   "cell_type": "code",
   "execution_count": 3,
   "id": "bba9ad49",
   "metadata": {
    "ExecuteTime": {
     "end_time": "2021-07-22T22:35:01.604068Z",
     "start_time": "2021-07-22T22:35:01.599827Z"
    }
   },
   "outputs": [
    {
     "data": {
      "text/plain": [
       "<sqlite3.Cursor at 0x7fd8ba151c00>"
      ]
     },
     "execution_count": 3,
     "metadata": {},
     "output_type": "execute_result"
    }
   ],
   "source": [
    "# Look at the cursor.\n",
    "cur = conn.cursor()\n",
    "cur"
   ]
  },
  {
   "cell_type": "code",
   "execution_count": 4,
   "id": "104a9076",
   "metadata": {
    "ExecuteTime": {
     "end_time": "2021-07-22T22:35:09.592425Z",
     "start_time": "2021-07-22T22:35:09.587221Z"
    }
   },
   "outputs": [
    {
     "data": {
      "text/plain": [
       "<sqlite3.Cursor at 0x7fd8ba151c00>"
      ]
     },
     "execution_count": 4,
     "metadata": {},
     "output_type": "execute_result"
    }
   ],
   "source": [
    "# Executing a query.\n",
    "cur.execute('SELECT * FROM pokemon')"
   ]
  },
  {
   "cell_type": "code",
   "execution_count": 5,
   "id": "15155ec6",
   "metadata": {
    "ExecuteTime": {
     "end_time": "2021-07-22T22:35:12.905629Z",
     "start_time": "2021-07-22T22:35:12.901508Z"
    }
   },
   "outputs": [
    {
     "data": {
      "text/plain": [
       "(('id', None, None, None, None, None, None),\n",
       " ('name', None, None, None, None, None, None),\n",
       " ('base_experience', None, None, None, None, None, None),\n",
       " ('weight', None, None, None, None, None, None),\n",
       " ('height', None, None, None, None, None, None))"
      ]
     },
     "execution_count": 5,
     "metadata": {},
     "output_type": "execute_result"
    }
   ],
   "source": [
    "# Showing the description.\n",
    "cur.description"
   ]
  },
  {
   "cell_type": "code",
   "execution_count": 6,
   "id": "50c884b6",
   "metadata": {
    "ExecuteTime": {
     "end_time": "2021-07-22T22:35:28.985109Z",
     "start_time": "2021-07-22T22:35:28.980388Z"
    }
   },
   "outputs": [
    {
     "data": {
      "text/plain": [
       "['id', 'name', 'base_experience', 'weight', 'height']"
      ]
     },
     "execution_count": 6,
     "metadata": {},
     "output_type": "execute_result"
    }
   ],
   "source": [
    "# Get column names - longhand.\n",
    "my_lst = []\n",
    "for x in cur.description:\n",
    "    my_lst.append(x[0])\n",
    "my_lst"
   ]
  },
  {
   "cell_type": "code",
   "execution_count": 7,
   "id": "84cf0326",
   "metadata": {
    "ExecuteTime": {
     "end_time": "2021-07-22T22:36:09.462483Z",
     "start_time": "2021-07-22T22:36:09.458655Z"
    }
   },
   "outputs": [
    {
     "data": {
      "text/plain": [
       "['id', 'name', 'base_experience', 'weight', 'height']"
      ]
     },
     "execution_count": 7,
     "metadata": {},
     "output_type": "execute_result"
    }
   ],
   "source": [
    "# Get column names - shorthand.\n",
    "[x[0] for x in cur.description]"
   ]
  },
  {
   "cell_type": "code",
   "execution_count": 8,
   "id": "3497fa4e",
   "metadata": {
    "ExecuteTime": {
     "end_time": "2021-07-22T22:36:21.093008Z",
     "start_time": "2021-07-22T22:36:21.072912Z"
    }
   },
   "outputs": [
    {
     "data": {
      "text/plain": [
       "[(1, 'bulbasaur', 64, 69, 7),\n",
       " (2, 'ivysaur', 142, 130, 10),\n",
       " (3, 'venusaur', 236, 1000, 20),\n",
       " (4, 'charmander', 62, 85, 6),\n",
       " (5, 'charmeleon', 142, 190, 11),\n",
       " (6, 'charizard', 240, 905, 17),\n",
       " (7, 'squirtle', 63, 90, 5),\n",
       " (8, 'wartortle', 142, 225, 10),\n",
       " (9, 'blastoise', 239, 855, 16),\n",
       " (10, 'caterpie', 39, 29, 3),\n",
       " (11, 'metapod', 72, 99, 7),\n",
       " (12, 'butterfree', 178, 320, 11),\n",
       " (13, 'weedle', 39, 32, 3),\n",
       " (14, 'kakuna', 72, 100, 6),\n",
       " (15, 'beedrill', 178, 295, 10),\n",
       " (16, 'pidgey', 50, 18, 3),\n",
       " (17, 'pidgeotto', 122, 300, 11),\n",
       " (18, 'pidgeot', 216, 395, 15),\n",
       " (19, 'rattata', 51, 35, 3),\n",
       " (20, 'raticate', 145, 185, 7),\n",
       " (21, 'spearow', 52, 20, 3),\n",
       " (22, 'fearow', 155, 380, 12),\n",
       " (23, 'ekans', 58, 69, 20),\n",
       " (24, 'arbok', 157, 650, 35),\n",
       " (25, 'pikachu', 112, 60, 4),\n",
       " (26, 'raichu', 218, 300, 8),\n",
       " (27, 'sandshrew', 60, 120, 6),\n",
       " (28, 'sandslash', 158, 295, 10),\n",
       " (29, 'nidoran-f', 55, 70, 4),\n",
       " (30, 'nidorina', 128, 200, 8),\n",
       " (31, 'nidoqueen', 227, 600, 13),\n",
       " (32, 'nidoran-m', 55, 90, 5),\n",
       " (33, 'nidorino', 128, 195, 9),\n",
       " (34, 'nidoking', 227, 620, 14),\n",
       " (35, 'clefairy', 113, 75, 6),\n",
       " (36, 'clefable', 217, 400, 13),\n",
       " (37, 'vulpix', 60, 99, 6),\n",
       " (38, 'ninetales', 177, 199, 11),\n",
       " (39, 'jigglypuff', 95, 55, 5),\n",
       " (40, 'wigglytuff', 196, 120, 10),\n",
       " (41, 'zubat', 49, 75, 8),\n",
       " (42, 'golbat', 159, 550, 16),\n",
       " (43, 'oddish', 64, 54, 5),\n",
       " (44, 'gloom', 138, 86, 8),\n",
       " (45, 'vileplume', 221, 186, 12),\n",
       " (46, 'paras', 57, 54, 3),\n",
       " (47, 'parasect', 142, 295, 10),\n",
       " (48, 'venonat', 61, 300, 10),\n",
       " (49, 'venomoth', 158, 125, 15),\n",
       " (50, 'diglett', 53, 8, 2),\n",
       " (51, 'dugtrio', 149, 333, 7),\n",
       " (52, 'meowth', 58, 42, 4),\n",
       " (53, 'persian', 154, 320, 10),\n",
       " (54, 'psyduck', 64, 196, 8),\n",
       " (55, 'golduck', 175, 766, 17),\n",
       " (56, 'mankey', 61, 280, 5),\n",
       " (57, 'primeape', 159, 320, 10),\n",
       " (58, 'growlithe', 70, 190, 7),\n",
       " (59, 'arcanine', 194, 1550, 19),\n",
       " (60, 'poliwag', 60, 124, 6),\n",
       " (61, 'poliwhirl', 135, 200, 10),\n",
       " (62, 'poliwrath', 230, 540, 13),\n",
       " (63, 'abra', 62, 195, 9),\n",
       " (64, 'kadabra', 140, 565, 13),\n",
       " (65, 'alakazam', 225, 480, 15),\n",
       " (66, 'machop', 61, 195, 8),\n",
       " (67, 'machoke', 142, 705, 15),\n",
       " (68, 'machamp', 227, 1300, 16),\n",
       " (69, 'bellsprout', 60, 40, 7),\n",
       " (70, 'weepinbell', 137, 64, 10),\n",
       " (71, 'victreebel', 221, 155, 17),\n",
       " (72, 'tentacool', 67, 455, 9),\n",
       " (73, 'tentacruel', 180, 550, 16),\n",
       " (74, 'geodude', 60, 200, 4),\n",
       " (75, 'graveler', 137, 1050, 10),\n",
       " (76, 'golem', 223, 3000, 14),\n",
       " (77, 'ponyta', 82, 300, 10),\n",
       " (78, 'rapidash', 175, 950, 17),\n",
       " (79, 'slowpoke', 63, 360, 12),\n",
       " (80, 'slowbro', 172, 785, 16),\n",
       " (81, 'magnemite', 65, 60, 3),\n",
       " (82, 'magneton', 163, 600, 10),\n",
       " (83, 'farfetchd', 132, 150, 8),\n",
       " (84, 'doduo', 62, 392, 14),\n",
       " (85, 'dodrio', 165, 852, 18),\n",
       " (86, 'seel', 65, 900, 11),\n",
       " (87, 'dewgong', 166, 1200, 17),\n",
       " (88, 'grimer', 65, 300, 9),\n",
       " (89, 'muk', 175, 300, 12),\n",
       " (90, 'shellder', 61, 40, 3),\n",
       " (91, 'cloyster', 184, 1325, 15),\n",
       " (92, 'gastly', 62, 1, 13),\n",
       " (93, 'haunter', 142, 1, 16),\n",
       " (94, 'gengar', 225, 405, 15),\n",
       " (95, 'onix', 77, 2100, 88),\n",
       " (96, 'drowzee', 66, 324, 10),\n",
       " (97, 'hypno', 169, 756, 16),\n",
       " (98, 'krabby', 65, 65, 4),\n",
       " (99, 'kingler', 166, 600, 13),\n",
       " (100, 'voltorb', 66, 104, 5),\n",
       " (101, 'electrode', 172, 666, 12),\n",
       " (102, 'exeggcute', 65, 25, 4),\n",
       " (103, 'exeggutor', 186, 1200, 20),\n",
       " (104, 'cubone', 64, 65, 4),\n",
       " (105, 'marowak', 149, 450, 10),\n",
       " (106, 'hitmonlee', 159, 498, 15),\n",
       " (107, 'hitmonchan', 159, 502, 14),\n",
       " (108, 'lickitung', 77, 655, 12),\n",
       " (109, 'koffing', 68, 10, 6),\n",
       " (110, 'weezing', 172, 95, 12),\n",
       " (111, 'rhyhorn', 69, 1150, 10),\n",
       " (112, 'rhydon', 170, 1200, 19),\n",
       " (113, 'chansey', 395, 346, 11),\n",
       " (114, 'tangela', 87, 350, 10),\n",
       " (115, 'kangaskhan', 172, 800, 22),\n",
       " (116, 'horsea', 59, 80, 4),\n",
       " (117, 'seadra', 154, 250, 12),\n",
       " (118, 'goldeen', 64, 150, 6),\n",
       " (119, 'seaking', 158, 390, 13),\n",
       " (120, 'staryu', 68, 345, 8),\n",
       " (121, 'starmie', 182, 800, 11),\n",
       " (122, 'mr-mime', 161, 545, 13),\n",
       " (123, 'scyther', 100, 560, 15),\n",
       " (124, 'jynx', 159, 406, 14),\n",
       " (125, 'electabuzz', 172, 300, 11),\n",
       " (126, 'magmar', 173, 445, 13),\n",
       " (127, 'pinsir', 175, 550, 15),\n",
       " (128, 'tauros', 172, 884, 14),\n",
       " (129, 'magikarp', 40, 100, 9),\n",
       " (130, 'gyarados', 189, 2350, 65),\n",
       " (131, 'lapras', 187, 2200, 25),\n",
       " (132, 'ditto', 101, 40, 3),\n",
       " (133, 'eevee', 65, 65, 3),\n",
       " (134, 'vaporeon', 184, 290, 10),\n",
       " (135, 'jolteon', 184, 245, 8),\n",
       " (136, 'flareon', 184, 250, 9),\n",
       " (137, 'porygon', 79, 365, 8),\n",
       " (138, 'omanyte', 71, 75, 4),\n",
       " (139, 'omastar', 173, 350, 10),\n",
       " (140, 'kabuto', 71, 115, 5),\n",
       " (141, 'kabutops', 173, 405, 13),\n",
       " (142, 'aerodactyl', 180, 590, 18),\n",
       " (143, 'snorlax', 189, 4600, 21),\n",
       " (144, 'articuno', 261, 554, 17),\n",
       " (145, 'zapdos', 261, 526, 16),\n",
       " (146, 'moltres', 261, 600, 20),\n",
       " (147, 'dratini', 60, 33, 18),\n",
       " (148, 'dragonair', 147, 165, 40),\n",
       " (149, 'dragonite', 270, 2100, 22),\n",
       " (150, 'mewtwo', 306, 1220, 20),\n",
       " (151, 'mew', 270, 40, 4)]"
      ]
     },
     "execution_count": 8,
     "metadata": {},
     "output_type": "execute_result"
    }
   ],
   "source": [
    "# Return the query.\n",
    "cur.fetchall()"
   ]
  },
  {
   "cell_type": "code",
   "execution_count": 9,
   "id": "3dd29520",
   "metadata": {
    "ExecuteTime": {
     "end_time": "2021-07-22T22:36:29.590056Z",
     "start_time": "2021-07-22T22:36:29.585002Z"
    }
   },
   "outputs": [
    {
     "data": {
      "text/plain": [
       "[]"
      ]
     },
     "execution_count": 9,
     "metadata": {},
     "output_type": "execute_result"
    }
   ],
   "source": [
    "# Try to return the query again!\n",
    "cur.fetchall()"
   ]
  },
  {
   "cell_type": "markdown",
   "id": "5ed2fba2",
   "metadata": {
    "id": "TnZ2e4qrXlUt"
   },
   "source": [
    "### Parts of a SQL Query\n",
    "* `SELECT ... FROM ...`: Which columns from which table\n",
    "* `WHERE`: Conditions to filter your query by\n",
    "* `JOIN`: Put tables together\n",
    "* `GROUP BY`: Group and aggregate data\n",
    "* `HAVING`: Filtering after a `GROUP BY`\n",
    "* `ORDER BY`: How to sort the table\n",
    "* `LIMIT`: How many rows to query"
   ]
  },
  {
   "cell_type": "markdown",
   "id": "c6d8c4fc",
   "metadata": {},
   "source": [
    "#### Q1"
   ]
  },
  {
   "cell_type": "code",
   "execution_count": 10,
   "id": "e8879eb7",
   "metadata": {
    "ExecuteTime": {
     "end_time": "2021-07-20T23:52:56.901201Z",
     "start_time": "2021-07-20T23:52:56.897831Z"
    }
   },
   "outputs": [],
   "source": [
    "# Select all pokemon from the pokemon table.\n",
    "\n",
    "# Show results in a pandas dataframe.\n"
   ]
  },
  {
   "cell_type": "markdown",
   "id": "41a6ce48",
   "metadata": {},
   "source": [
    "#### Q2"
   ]
  },
  {
   "cell_type": "code",
   "execution_count": 11,
   "id": "af8176de",
   "metadata": {
    "ExecuteTime": {
     "end_time": "2021-07-20T23:52:56.907870Z",
     "start_time": "2021-07-20T23:52:56.904783Z"
    }
   },
   "outputs": [],
   "source": [
    "# Select all the rows from pokemon_types where the type_id is 3.\n"
   ]
  },
  {
   "cell_type": "markdown",
   "id": "62f27ee5",
   "metadata": {},
   "source": [
    "#### Q3"
   ]
  },
  {
   "cell_type": "code",
   "execution_count": 12,
   "id": "f62fc720",
   "metadata": {
    "ExecuteTime": {
     "end_time": "2021-07-20T23:52:56.914767Z",
     "start_time": "2021-07-20T23:52:56.911350Z"
    }
   },
   "outputs": [],
   "source": [
    "# Select the rows from pokemon_types where the associated type is \"water\".\n"
   ]
  },
  {
   "cell_type": "markdown",
   "id": "a2b7d15b",
   "metadata": {},
   "source": [
    "#### Q4"
   ]
  },
  {
   "cell_type": "code",
   "execution_count": 13,
   "id": "4b4d0267",
   "metadata": {
    "ExecuteTime": {
     "end_time": "2021-07-20T23:52:56.920262Z",
     "start_time": "2021-07-20T23:52:56.918034Z"
    }
   },
   "outputs": [],
   "source": [
    "# Find the average weight for each type. \n",
    "### Order the results from highest weight to lowest weight. \n",
    "### Display the type name next to the average weight.\n"
   ]
  },
  {
   "cell_type": "markdown",
   "id": "fa8fce87",
   "metadata": {},
   "source": [
    "#### Q5"
   ]
  },
  {
   "cell_type": "code",
   "execution_count": 14,
   "id": "019ebad7",
   "metadata": {
    "ExecuteTime": {
     "end_time": "2021-07-20T23:52:56.925582Z",
     "start_time": "2021-07-20T23:52:56.922772Z"
    }
   },
   "outputs": [],
   "source": [
    "# Find the names and ids the pokemon that have more than 1 type.\n"
   ]
  },
  {
   "cell_type": "markdown",
   "id": "75a8ee93",
   "metadata": {},
   "source": [
    "#### Q6"
   ]
  },
  {
   "cell_type": "code",
   "execution_count": 15,
   "id": "80a4afb9",
   "metadata": {
    "ExecuteTime": {
     "end_time": "2021-07-20T23:52:56.932889Z",
     "start_time": "2021-07-20T23:52:56.929597Z"
    }
   },
   "outputs": [],
   "source": [
    "# Find the id of the type that has the most pokemon. \n",
    "### Display type_id next to the number of pokemon having that type.\n"
   ]
  },
  {
   "cell_type": "code",
   "execution_count": null,
   "id": "ce7c7a89",
   "metadata": {},
   "outputs": [],
   "source": []
  }
 ],
 "metadata": {
  "kernelspec": {
   "display_name": "Python 3",
   "language": "python",
   "name": "python3"
  },
  "language_info": {
   "codemirror_mode": {
    "name": "ipython",
    "version": 3
   },
   "file_extension": ".py",
   "mimetype": "text/x-python",
   "name": "python",
   "nbconvert_exporter": "python",
   "pygments_lexer": "ipython3",
   "version": "3.6.9"
  },
  "toc": {
   "base_numbering": 1,
   "nav_menu": {},
   "number_sections": false,
   "sideBar": true,
   "skip_h1_title": false,
   "title_cell": "Table of Contents",
   "title_sidebar": "Contents",
   "toc_cell": false,
   "toc_position": {},
   "toc_section_display": true,
   "toc_window_display": true
  }
 },
 "nbformat": 4,
 "nbformat_minor": 5
}
