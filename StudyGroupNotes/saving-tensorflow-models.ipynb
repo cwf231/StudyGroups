{
 "cells": [
  {
   "cell_type": "markdown",
   "id": "8856a5c3",
   "metadata": {},
   "source": [
    "# Save and Load Models - Tensorflow\n",
    "\n",
    "- <a href='https://www.tensorflow.org/tutorials/keras/save_and_load'>*Tensorflow Documentation / Tutorial*</a>"
   ]
  },
  {
   "cell_type": "markdown",
   "id": "15d91a05",
   "metadata": {},
   "source": [
    "## Setup"
   ]
  },
  {
   "cell_type": "code",
   "execution_count": 1,
   "id": "4202d8b6",
   "metadata": {
    "ExecuteTime": {
     "end_time": "2021-05-11T19:27:25.693416Z",
     "start_time": "2021-05-11T19:27:18.540111Z"
    }
   },
   "outputs": [],
   "source": [
    "import os\n",
    "from sklearn.preprocessing import OneHotEncoder\n",
    "import tensorflow as tf\n",
    "from tensorflow.keras import layers, models\n",
    "\n",
    "tf.random.set_seed(51)"
   ]
  },
  {
   "cell_type": "code",
   "execution_count": 2,
   "id": "22b9c369",
   "metadata": {
    "ExecuteTime": {
     "end_time": "2021-05-11T19:27:26.008998Z",
     "start_time": "2021-05-11T19:27:25.695541Z"
    }
   },
   "outputs": [],
   "source": [
    "# Load in MNIST dataset.\n",
    "((train_images, train_labels), \n",
    " (test_images, test_labels)) = tf.keras.datasets.mnist.load_data()\n",
    "\n",
    "train_images = train_images[:1500]\n",
    "train_labels = train_labels[:1500]\n",
    "test_images = test_images[:500]\n",
    "test_labels = test_labels[:500]\n",
    "\n",
    "# Calculate resizing dimension (28 x 28).\n",
    "DIM = 28**2\n",
    "\n",
    "# Flatten images and rescale pixels.\n",
    "train_images = train_images.reshape(-1, DIM) / 255.0\n",
    "test_images = test_images.reshape(-1, DIM) / 255.0"
   ]
  },
  {
   "cell_type": "code",
   "execution_count": 3,
   "id": "4a356400",
   "metadata": {
    "ExecuteTime": {
     "end_time": "2021-05-11T19:27:26.022145Z",
     "start_time": "2021-05-11T19:27:26.011726Z"
    }
   },
   "outputs": [
    {
     "data": {
      "text/plain": [
       "((1500, 784), (500, 784), (1500,), (500,))"
      ]
     },
     "execution_count": 3,
     "metadata": {},
     "output_type": "execute_result"
    }
   ],
   "source": [
    "train_images.shape, test_images.shape, train_labels.shape, test_labels.shape"
   ]
  },
  {
   "cell_type": "code",
   "execution_count": 4,
   "id": "a6888f02",
   "metadata": {
    "ExecuteTime": {
     "end_time": "2021-05-11T19:27:26.029726Z",
     "start_time": "2021-05-11T19:27:26.024755Z"
    }
   },
   "outputs": [],
   "source": [
    "# One Hot Encode target.\n",
    "ohe = OneHotEncoder(sparse=False)\n",
    "train_labels_ohe = ohe.fit_transform(train_labels.reshape(-1, 1))\n",
    "test_labels_ohe = ohe.transform(test_labels.reshape(-1, 1))"
   ]
  },
  {
   "cell_type": "code",
   "execution_count": 5,
   "id": "82ed0c9f",
   "metadata": {
    "ExecuteTime": {
     "end_time": "2021-05-11T19:27:26.036023Z",
     "start_time": "2021-05-11T19:27:26.031893Z"
    }
   },
   "outputs": [
    {
     "data": {
      "text/plain": [
       "((1500, 10), (500, 10))"
      ]
     },
     "execution_count": 5,
     "metadata": {},
     "output_type": "execute_result"
    }
   ],
   "source": [
    "train_labels_ohe.shape, test_labels_ohe.shape"
   ]
  },
  {
   "cell_type": "code",
   "execution_count": 6,
   "id": "9e79e4ff",
   "metadata": {
    "ExecuteTime": {
     "end_time": "2021-05-11T19:27:26.124555Z",
     "start_time": "2021-05-11T19:27:26.038251Z"
    }
   },
   "outputs": [
    {
     "name": "stdout",
     "output_type": "stream",
     "text": [
      "Model: \"sequential\"\n",
      "_________________________________________________________________\n",
      "Layer (type)                 Output Shape              Param #   \n",
      "=================================================================\n",
      "dense (Dense)                (None, 512)               401920    \n",
      "_________________________________________________________________\n",
      "dense_1 (Dense)              (None, 64)                32832     \n",
      "_________________________________________________________________\n",
      "dense_2 (Dense)              (None, 10)                650       \n",
      "=================================================================\n",
      "Total params: 435,402\n",
      "Trainable params: 435,402\n",
      "Non-trainable params: 0\n",
      "_________________________________________________________________\n"
     ]
    }
   ],
   "source": [
    "# Define a simple sequential model\n",
    "def create_model():\n",
    "    \"\"\"Create and return a compiled model.\"\"\"\n",
    "    \n",
    "    model = models.Sequential()\n",
    "    model.add(layers.Dense(512, activation='relu', input_dim=DIM))\n",
    "    model.add(layers.Dense(64, activation='relu'))\n",
    "    model.add(layers.Dense(10, activation='softmax'))\n",
    "\n",
    "    model.compile(\n",
    "        optimizer='adam',\n",
    "        loss='categorical_crossentropy',\n",
    "        metrics=['accuracy']\n",
    "        )\n",
    "\n",
    "    return model\n",
    "\n",
    "# Create a basic model instance\n",
    "model = create_model()\n",
    "\n",
    "# Display the model's architecture\n",
    "model.summary()"
   ]
  },
  {
   "cell_type": "markdown",
   "id": "e1d8e5dd",
   "metadata": {},
   "source": [
    "# `callbacks.ModelCheckpoint`\n",
    "- https://www.tensorflow.org/api_docs/python/tf/keras/callbacks/ModelCheckpoint"
   ]
  },
  {
   "cell_type": "code",
   "execution_count": 7,
   "id": "0dd98551",
   "metadata": {
    "ExecuteTime": {
     "end_time": "2021-05-11T19:27:26.128877Z",
     "start_time": "2021-05-11T19:27:26.126520Z"
    }
   },
   "outputs": [],
   "source": [
    "from tensorflow.keras.callbacks import ModelCheckpoint"
   ]
  },
  {
   "cell_type": "code",
   "execution_count": 8,
   "id": "49433e67",
   "metadata": {
    "ExecuteTime": {
     "end_time": "2021-05-11T19:27:26.139084Z",
     "start_time": "2021-05-11T19:27:26.134630Z"
    }
   },
   "outputs": [
    {
     "data": {
      "text/plain": [
       "<tensorflow.python.keras.callbacks.ModelCheckpoint at 0x7fd43232d588>"
      ]
     },
     "execution_count": 8,
     "metadata": {},
     "output_type": "execute_result"
    }
   ],
   "source": [
    "checkpoint_path = 'test_model_weights/cp.ckpt'\n",
    "\n",
    "# Create a ModelCheckpoint\n",
    "## filepath\n",
    "## save_weights_only\n",
    "## save_best_only\n",
    "checkpoint = ModelCheckpoint(\n",
    "    checkpoint_path,\n",
    "    save_weights_only=True,\n",
    "    save_best_only=True,\n",
    "    verbose=1\n",
    ")\n",
    "\n",
    "checkpoint"
   ]
  },
  {
   "cell_type": "code",
   "execution_count": 9,
   "id": "bb9c85c9",
   "metadata": {
    "ExecuteTime": {
     "end_time": "2021-05-11T19:27:29.343992Z",
     "start_time": "2021-05-11T19:27:26.142735Z"
    }
   },
   "outputs": [
    {
     "name": "stdout",
     "output_type": "stream",
     "text": [
      "Epoch 1/10\n",
      "24/24 [==============================] - 1s 32ms/step - loss: 1.7002 - accuracy: 0.4696 - val_loss: 0.6577 - val_accuracy: 0.8100\n",
      "\n",
      "Epoch 00001: val_loss improved from inf to 0.65773, saving model to test_model_weights/cp.ckpt\n",
      "Epoch 2/10\n",
      "24/24 [==============================] - 0s 6ms/step - loss: 0.4686 - accuracy: 0.8638 - val_loss: 0.4038 - val_accuracy: 0.8840\n",
      "\n",
      "Epoch 00002: val_loss improved from 0.65773 to 0.40383, saving model to test_model_weights/cp.ckpt\n",
      "Epoch 3/10\n",
      "24/24 [==============================] - 0s 6ms/step - loss: 0.2452 - accuracy: 0.9348 - val_loss: 0.4019 - val_accuracy: 0.8840\n",
      "\n",
      "Epoch 00003: val_loss improved from 0.40383 to 0.40189, saving model to test_model_weights/cp.ckpt\n",
      "Epoch 4/10\n",
      "24/24 [==============================] - 0s 6ms/step - loss: 0.1907 - accuracy: 0.9504 - val_loss: 0.3491 - val_accuracy: 0.8980\n",
      "\n",
      "Epoch 00004: val_loss improved from 0.40189 to 0.34912, saving model to test_model_weights/cp.ckpt\n",
      "Epoch 5/10\n",
      "24/24 [==============================] - 0s 6ms/step - loss: 0.1513 - accuracy: 0.9632 - val_loss: 0.3315 - val_accuracy: 0.8980\n",
      "\n",
      "Epoch 00005: val_loss improved from 0.34912 to 0.33149, saving model to test_model_weights/cp.ckpt\n",
      "Epoch 6/10\n",
      "24/24 [==============================] - 0s 6ms/step - loss: 0.0937 - accuracy: 0.9802 - val_loss: 0.3095 - val_accuracy: 0.9020\n",
      "\n",
      "Epoch 00006: val_loss improved from 0.33149 to 0.30949, saving model to test_model_weights/cp.ckpt\n",
      "Epoch 7/10\n",
      "24/24 [==============================] - 0s 6ms/step - loss: 0.0544 - accuracy: 0.9941 - val_loss: 0.2911 - val_accuracy: 0.9140\n",
      "\n",
      "Epoch 00007: val_loss improved from 0.30949 to 0.29105, saving model to test_model_weights/cp.ckpt\n",
      "Epoch 8/10\n",
      "24/24 [==============================] - 0s 6ms/step - loss: 0.0358 - accuracy: 0.9983 - val_loss: 0.2944 - val_accuracy: 0.9200\n",
      "\n",
      "Epoch 00008: val_loss did not improve from 0.29105\n",
      "Epoch 9/10\n",
      "24/24 [==============================] - 0s 6ms/step - loss: 0.0284 - accuracy: 0.9994 - val_loss: 0.2855 - val_accuracy: 0.9140\n",
      "\n",
      "Epoch 00009: val_loss improved from 0.29105 to 0.28550, saving model to test_model_weights/cp.ckpt\n",
      "Epoch 10/10\n",
      "24/24 [==============================] - 0s 6ms/step - loss: 0.0214 - accuracy: 0.9993 - val_loss: 0.2852 - val_accuracy: 0.9180\n",
      "\n",
      "Epoch 00010: val_loss improved from 0.28550 to 0.28522, saving model to test_model_weights/cp.ckpt\n"
     ]
    },
    {
     "data": {
      "text/plain": [
       "<tensorflow.python.keras.callbacks.History at 0x7fd4151f27b8>"
      ]
     },
     "execution_count": 9,
     "metadata": {},
     "output_type": "execute_result"
    }
   ],
   "source": [
    "# Fit the model\n",
    "## train\n",
    "## test\n",
    "## batch\n",
    "## epochs\n",
    "## validation_data\n",
    "## callbacks\n",
    "model.fit(\n",
    "    train_images,\n",
    "    train_labels_ohe,\n",
    "    batch_size=64,\n",
    "    epochs=10,\n",
    "    validation_data=(test_images, test_labels_ohe),\n",
    "    callbacks=[checkpoint]\n",
    ")"
   ]
  },
  {
   "cell_type": "code",
   "execution_count": 10,
   "id": "a120d807",
   "metadata": {
    "ExecuteTime": {
     "end_time": "2021-05-11T19:27:29.352631Z",
     "start_time": "2021-05-11T19:27:29.347046Z"
    }
   },
   "outputs": [
    {
     "name": "stdout",
     "output_type": "stream",
     "text": [
      "There's something in here\n"
     ]
    }
   ],
   "source": [
    "if os.listdir('test_model_weights'):\n",
    "    print(\"There's something in here\")\n",
    "else:\n",
    "    print(\"It's empty\")"
   ]
  },
  {
   "cell_type": "code",
   "execution_count": 11,
   "id": "4610f3ca",
   "metadata": {
    "ExecuteTime": {
     "end_time": "2021-05-11T19:27:29.362010Z",
     "start_time": "2021-05-11T19:27:29.355688Z"
    }
   },
   "outputs": [
    {
     "data": {
      "text/plain": [
       "['cp.ckpt.data-00000-of-00001',\n",
       " 'checkpoint',\n",
       " '.ipynb_checkpoints',\n",
       " 'cp.ckpt.index']"
      ]
     },
     "execution_count": 11,
     "metadata": {},
     "output_type": "execute_result"
    }
   ],
   "source": [
    "# Look inside save folder.\n",
    "os.listdir('test_model_weights')"
   ]
  },
  {
   "cell_type": "code",
   "execution_count": 12,
   "id": "3dd3a724",
   "metadata": {
    "ExecuteTime": {
     "end_time": "2021-05-11T19:27:31.651683Z",
     "start_time": "2021-05-11T19:27:29.364518Z"
    }
   },
   "outputs": [
    {
     "name": "stdout",
     "output_type": "stream",
     "text": [
      "Epoch 1/10\n",
      "24/24 [==============================] - 1s 11ms/step - loss: 1.6907 - accuracy: 0.4764 - val_loss: 0.6467 - val_accuracy: 0.7900\n",
      "\n",
      "Epoch 00001: val_loss improved from inf to 0.64671, saving model to test_model_weights/cp-0001.ckpt\n",
      "Epoch 2/10\n",
      "24/24 [==============================] - 0s 5ms/step - loss: 0.4572 - accuracy: 0.8714 - val_loss: 0.4314 - val_accuracy: 0.8660\n",
      "\n",
      "Epoch 00002: val_loss improved from 0.64671 to 0.43135, saving model to test_model_weights/cp-0002.ckpt\n",
      "Epoch 3/10\n",
      "24/24 [==============================] - 0s 5ms/step - loss: 0.2404 - accuracy: 0.9385 - val_loss: 0.3910 - val_accuracy: 0.8800\n",
      "\n",
      "Epoch 00003: val_loss improved from 0.43135 to 0.39105, saving model to test_model_weights/cp-0003.ckpt\n",
      "Epoch 4/10\n",
      "24/24 [==============================] - 0s 5ms/step - loss: 0.1767 - accuracy: 0.9595 - val_loss: 0.3776 - val_accuracy: 0.8880\n",
      "\n",
      "Epoch 00004: val_loss improved from 0.39105 to 0.37763, saving model to test_model_weights/cp-0004.ckpt\n",
      "Epoch 5/10\n",
      "24/24 [==============================] - 0s 5ms/step - loss: 0.1484 - accuracy: 0.9579 - val_loss: 0.3373 - val_accuracy: 0.9000\n",
      "\n",
      "Epoch 00005: val_loss improved from 0.37763 to 0.33733, saving model to test_model_weights/cp-0005.ckpt\n",
      "Epoch 6/10\n",
      "24/24 [==============================] - 0s 5ms/step - loss: 0.0918 - accuracy: 0.9858 - val_loss: 0.3421 - val_accuracy: 0.8940\n",
      "\n",
      "Epoch 00006: val_loss did not improve from 0.33733\n",
      "Epoch 7/10\n",
      "24/24 [==============================] - 0s 5ms/step - loss: 0.0579 - accuracy: 0.9939 - val_loss: 0.3102 - val_accuracy: 0.9040\n",
      "\n",
      "Epoch 00007: val_loss improved from 0.33733 to 0.31023, saving model to test_model_weights/cp-0007.ckpt\n",
      "Epoch 8/10\n",
      "24/24 [==============================] - 0s 5ms/step - loss: 0.0346 - accuracy: 0.9995 - val_loss: 0.3135 - val_accuracy: 0.9040\n",
      "\n",
      "Epoch 00008: val_loss did not improve from 0.31023\n",
      "Epoch 9/10\n",
      "24/24 [==============================] - 0s 9ms/step - loss: 0.0288 - accuracy: 0.9996 - val_loss: 0.3146 - val_accuracy: 0.9140\n",
      "\n",
      "Epoch 00009: val_loss did not improve from 0.31023\n",
      "Epoch 10/10\n",
      "24/24 [==============================] - 0s 5ms/step - loss: 0.0213 - accuracy: 0.9993 - val_loss: 0.3105 - val_accuracy: 0.9080\n",
      "\n",
      "Epoch 00010: val_loss did not improve from 0.31023\n"
     ]
    },
    {
     "data": {
      "text/plain": [
       "<tensorflow.python.keras.callbacks.History at 0x7fd412450630>"
      ]
     },
     "execution_count": 12,
     "metadata": {},
     "output_type": "execute_result"
    }
   ],
   "source": [
    "checkpoint_path_formatted = 'test_model_weights/cp-{epoch:04d}.ckpt' # (uses `str.format`)\n",
    "\n",
    "# Fit the model again - add formatted string as path.\n",
    "checkpoint = ModelCheckpoint(\n",
    "    checkpoint_path_formatted,\n",
    "    save_weights_only=True,\n",
    "    save_best_only=True,\n",
    "    verbose=1\n",
    ")\n",
    "\n",
    "model = create_model()\n",
    "model.fit(\n",
    "    train_images,\n",
    "    train_labels_ohe,\n",
    "    batch_size=64,\n",
    "    epochs=10,\n",
    "    validation_data=(test_images, test_labels_ohe),\n",
    "    callbacks=[checkpoint]\n",
    ")"
   ]
  },
  {
   "cell_type": "code",
   "execution_count": 13,
   "id": "b0299c27",
   "metadata": {
    "ExecuteTime": {
     "end_time": "2021-05-11T19:27:31.661642Z",
     "start_time": "2021-05-11T19:27:31.655011Z"
    }
   },
   "outputs": [
    {
     "data": {
      "text/plain": [
       "['.ipynb_checkpoints',\n",
       " 'checkpoint',\n",
       " 'cp-0001.ckpt.data-00000-of-00001',\n",
       " 'cp-0001.ckpt.index',\n",
       " 'cp-0002.ckpt.data-00000-of-00001',\n",
       " 'cp-0002.ckpt.index',\n",
       " 'cp-0003.ckpt.data-00000-of-00001',\n",
       " 'cp-0003.ckpt.index',\n",
       " 'cp-0004.ckpt.data-00000-of-00001',\n",
       " 'cp-0004.ckpt.index',\n",
       " 'cp-0005.ckpt.data-00000-of-00001',\n",
       " 'cp-0005.ckpt.index',\n",
       " 'cp-0007.ckpt.data-00000-of-00001',\n",
       " 'cp-0007.ckpt.index',\n",
       " 'cp.ckpt.data-00000-of-00001',\n",
       " 'cp.ckpt.index']"
      ]
     },
     "execution_count": 13,
     "metadata": {},
     "output_type": "execute_result"
    }
   ],
   "source": [
    "# Look inside save folder.\n",
    "sorted(os.listdir('test_model_weights'))"
   ]
  },
  {
   "cell_type": "code",
   "execution_count": 14,
   "id": "96a1aecf",
   "metadata": {
    "ExecuteTime": {
     "end_time": "2021-05-11T19:27:31.740320Z",
     "start_time": "2021-05-11T19:27:31.664929Z"
    }
   },
   "outputs": [
    {
     "name": "stdout",
     "output_type": "stream",
     "text": [
      "16/16 [==============================] - 0s 1ms/step - loss: 0.3105 - accuracy: 0.9080\n",
      "Model Accuracy:\n",
      "\t0.908\n"
     ]
    }
   ],
   "source": [
    "def evaluate_nn(model, X_test, y_test):\n",
    "    \"\"\"Print model accuracy on test set.\"\"\"\n",
    "    \n",
    "    loss, acc = model.evaluate(X_test, y_test)\n",
    "    print(f'Model Accuracy:\\n\\t{round(acc, 3)}')\n",
    "\n",
    "    \n",
    "# Evaluate model\n",
    "evaluate_nn(model, test_images, test_labels_ohe)"
   ]
  },
  {
   "cell_type": "code",
   "execution_count": 15,
   "id": "fd6a079b",
   "metadata": {
    "ExecuteTime": {
     "end_time": "2021-05-11T19:27:32.014898Z",
     "start_time": "2021-05-11T19:27:31.742917Z"
    }
   },
   "outputs": [
    {
     "name": "stdout",
     "output_type": "stream",
     "text": [
      "16/16 [==============================] - 0s 1ms/step - loss: 2.3835 - accuracy: 0.0865\n",
      "Model Accuracy:\n",
      "\t0.1\n"
     ]
    }
   ],
   "source": [
    "# Create new model and evaluate before training.\n",
    "new_model = create_model()\n",
    "\n",
    "evaluate_nn(new_model, test_images, test_labels_ohe)"
   ]
  },
  {
   "cell_type": "code",
   "execution_count": 16,
   "id": "c5bc8c8c",
   "metadata": {
    "ExecuteTime": {
     "end_time": "2021-05-11T19:27:32.156322Z",
     "start_time": "2021-05-11T19:27:32.016796Z"
    }
   },
   "outputs": [
    {
     "name": "stdout",
     "output_type": "stream",
     "text": [
      "16/16 [==============================] - 0s 1ms/step - loss: 0.3102 - accuracy: 0.9040\n",
      "Model Accuracy:\n",
      "\t0.904\n"
     ]
    }
   ],
   "source": [
    "# Load weights from `checkpoint_path`\n",
    "new_model.load_weights('test_model_weights/cp-0007.ckpt')\n",
    "\n",
    "# Evaluate model.\n",
    "evaluate_nn(new_model, test_images, test_labels_ohe)"
   ]
  },
  {
   "cell_type": "code",
   "execution_count": 17,
   "id": "d07c6498",
   "metadata": {
    "ExecuteTime": {
     "end_time": "2021-05-11T19:27:33.156805Z",
     "start_time": "2021-05-11T19:27:32.159051Z"
    }
   },
   "outputs": [
    {
     "name": "stdout",
     "output_type": "stream",
     "text": [
      "Epoch 1/5\n",
      "24/24 [==============================] - 0s 7ms/step - loss: 0.0386 - accuracy: 0.9967 - val_loss: 0.3181 - val_accuracy: 0.9000\n",
      "\n",
      "Epoch 00001: val_loss did not improve from 0.31023\n",
      "Epoch 2/5\n",
      "24/24 [==============================] - 0s 5ms/step - loss: 0.0280 - accuracy: 0.9993 - val_loss: 0.3277 - val_accuracy: 0.9080\n",
      "\n",
      "Epoch 00002: val_loss did not improve from 0.31023\n",
      "Epoch 3/5\n",
      "24/24 [==============================] - 0s 5ms/step - loss: 0.0203 - accuracy: 0.9993 - val_loss: 0.3284 - val_accuracy: 0.9120\n",
      "\n",
      "Epoch 00003: val_loss did not improve from 0.31023\n",
      "Epoch 4/5\n",
      "24/24 [==============================] - 0s 5ms/step - loss: 0.0150 - accuracy: 0.9993 - val_loss: 0.3218 - val_accuracy: 0.9140\n",
      "\n",
      "Epoch 00004: val_loss did not improve from 0.31023\n",
      "Epoch 5/5\n",
      "24/24 [==============================] - 0s 5ms/step - loss: 0.0116 - accuracy: 1.0000 - val_loss: 0.3189 - val_accuracy: 0.9140\n",
      "\n",
      "Epoch 00005: val_loss did not improve from 0.31023\n"
     ]
    },
    {
     "data": {
      "text/plain": [
       "<tensorflow.python.keras.callbacks.History at 0x7fd412c9b588>"
      ]
     },
     "execution_count": 17,
     "metadata": {},
     "output_type": "execute_result"
    }
   ],
   "source": [
    "# Trying to train on top of the pretrained network.\n",
    "new_model.fit(\n",
    "    train_images,\n",
    "    train_labels_ohe,\n",
    "    batch_size=64,\n",
    "    epochs=5,\n",
    "    validation_data=(test_images, test_labels_ohe),\n",
    "    callbacks=[checkpoint]\n",
    ")"
   ]
  },
  {
   "cell_type": "markdown",
   "id": "0f87c2d4",
   "metadata": {},
   "source": [
    "# `''model''.save()` - `models.load_model`"
   ]
  },
  {
   "cell_type": "code",
   "execution_count": 18,
   "id": "18950d07",
   "metadata": {
    "ExecuteTime": {
     "end_time": "2021-05-11T19:27:33.195693Z",
     "start_time": "2021-05-11T19:27:33.158531Z"
    }
   },
   "outputs": [],
   "source": [
    "saved_model_path = 'test_model_weights/saved_model.h5'\n",
    "\n",
    "# Save original model.\n",
    "new_model.save(saved_model_path)\n",
    "\n",
    "# Delete model from memory (`del model`)\n",
    "del new_model"
   ]
  },
  {
   "cell_type": "code",
   "execution_count": 19,
   "id": "bbb55dd7",
   "metadata": {
    "ExecuteTime": {
     "end_time": "2021-05-11T19:27:33.261545Z",
     "start_time": "2021-05-11T19:27:33.197361Z"
    }
   },
   "outputs": [
    {
     "name": "stdout",
     "output_type": "stream",
     "text": [
      "WARNING:tensorflow:Error in loading the saved optimizer state. As a result, your model is starting with a freshly initialized optimizer.\n"
     ]
    }
   ],
   "source": [
    "# Load model from path and evaluate.\n",
    "new_model = models.load_model(saved_model_path)"
   ]
  },
  {
   "cell_type": "code",
   "execution_count": 20,
   "id": "360b7ffe",
   "metadata": {
    "ExecuteTime": {
     "end_time": "2021-05-11T19:27:33.421839Z",
     "start_time": "2021-05-11T19:27:33.263324Z"
    }
   },
   "outputs": [
    {
     "name": "stdout",
     "output_type": "stream",
     "text": [
      "16/16 [==============================] - 0s 931us/step - loss: 0.3189 - accuracy: 0.9140\n",
      "Model Accuracy:\n",
      "\t0.914\n"
     ]
    }
   ],
   "source": [
    "evaluate_nn(new_model, test_images, test_labels_ohe)"
   ]
  },
  {
   "cell_type": "markdown",
   "id": "a5a6080b",
   "metadata": {},
   "source": [
    "# Setting Up Conditionals for Training\n",
    "\n",
    "- *Many different options for conditionals. Pick something that suits your needs.*"
   ]
  },
  {
   "cell_type": "markdown",
   "id": "4d9f9447",
   "metadata": {
    "ExecuteTime": {
     "end_time": "2021-05-11T19:10:43.500664Z",
     "start_time": "2021-05-11T19:10:43.496586Z"
    }
   },
   "source": [
    "```python\n",
    "# # Modeling\n",
    "# # # \n",
    "\n",
    "\n",
    "# Example function.\n",
    "def check_if_file_in_dir(f_name, directory):\n",
    "    if f_name in os.listdir():\n",
    "        return True\n",
    "    return False\n",
    "\n",
    "\n",
    "#####\n",
    "\n",
    "\n",
    "# Example if / else.\n",
    "# For checking if the model exists.\n",
    "if 'model_1.h5' in os.listdir():\n",
    "    model = models.load_model('model_1.h5')\n",
    "else:\n",
    "    model = create_model()\n",
    "    model.fit(...)\n",
    "    model.save('model_1.h5')\n",
    "\n",
    "    \n",
    "#####\n",
    "\n",
    "    \n",
    "# Example global.\n",
    "# Create global variable in the notebook.\n",
    "TRAIN_MY_MODEL = False\n",
    "\n",
    "if TRAIN_MY_MODEL:\n",
    "    model = create_model()\n",
    "    model.fit(...)\n",
    "    model.save('saved_model.h5')\n",
    "else:\n",
    "    model = models.load_model('saved_model.h5')\n",
    "```"
   ]
  },
  {
   "cell_type": "code",
   "execution_count": null,
   "id": "b619d82b",
   "metadata": {},
   "outputs": [],
   "source": []
  }
 ],
 "metadata": {
  "kernelspec": {
   "display_name": "Python [conda env:learn-env] *",
   "language": "python",
   "name": "conda-env-learn-env-py"
  },
  "language_info": {
   "codemirror_mode": {
    "name": "ipython",
    "version": 3
   },
   "file_extension": ".py",
   "mimetype": "text/x-python",
   "name": "python",
   "nbconvert_exporter": "python",
   "pygments_lexer": "ipython3",
   "version": "3.6.9"
  },
  "toc": {
   "base_numbering": 1,
   "nav_menu": {},
   "number_sections": false,
   "sideBar": true,
   "skip_h1_title": false,
   "title_cell": "Table of Contents",
   "title_sidebar": "Contents",
   "toc_cell": false,
   "toc_position": {
    "height": "calc(100% - 180px)",
    "left": "10px",
    "top": "150px",
    "width": "348.797px"
   },
   "toc_section_display": true,
   "toc_window_display": true
  }
 },
 "nbformat": 4,
 "nbformat_minor": 5
}
