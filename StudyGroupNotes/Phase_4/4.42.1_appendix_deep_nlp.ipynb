{
 "cells": [
  {
   "cell_type": "markdown",
   "metadata": {},
   "source": [
    "## Phase 4.42.1 APPENDIX\n",
    "\n",
    "# Deep NLP / Word Embeddings\n"
   ]
  },
  {
   "cell_type": "markdown",
   "metadata": {},
   "source": [
    "# Introduction\n",
    "\n",
    "- As mentioned in previous lessons, NLP is a process we use in order to have computers interpret language (strings).\n",
    "- One of the methods we've learned previously is a **Bag of Words** representation.\n",
    "\n",
    "\n",
    "- Today, we will learn about two other ways to address language. \n",
    "    1. Using **Word Embedding** to represent words in vector space,\n",
    "    2. Using **Sequence Models** to capture the order of words and pick up on patterns that exist in language."
   ]
  },
  {
   "cell_type": "markdown",
   "metadata": {},
   "source": [
    "# Word Embeddings\n",
    "\n",
    "- To begin, let's illustrate a **simple example** of points that can be related in space."
   ]
  },
  {
   "cell_type": "code",
   "execution_count": 1,
   "metadata": {
    "ExecuteTime": {
     "end_time": "2022-02-01T23:48:14.049199Z",
     "start_time": "2022-02-01T23:48:13.467730Z"
    }
   },
   "outputs": [],
   "source": [
    "import matplotlib.pyplot as plt\n",
    "import numpy as np\n",
    "\n",
    "plt.style.use('seaborn-talk')"
   ]
  },
  {
   "cell_type": "code",
   "execution_count": 2,
   "metadata": {
    "ExecuteTime": {
     "end_time": "2022-02-01T23:48:14.341981Z",
     "start_time": "2022-02-01T23:48:14.052532Z"
    }
   },
   "outputs": [
    {
     "data": {
      "image/png": "[encoded data removed]",
      "text/plain": [
       "<Figure size 576x432 with 1 Axes>"
      ]
     },
     "metadata": {
      "needs_background": "light"
     },
     "output_type": "display_data"
    }
   ],
   "source": [
    "# Plot two points in two-dimensional space.\n",
    "P1 = np.array((1, 1))\n",
    "P2 = np.array((5, 3))\n",
    "\n",
    "X, Y = zip(P1, P2)\n",
    "\n",
    "fig, ax = plt.subplots(figsize=(8,6))\n",
    "ax.scatter(X, Y, color='black')\n",
    "ax.set_xlim([-1, 7])\n",
    "ax.set_ylim([-1, 5])\n",
    "ax.set(title='Two Points')\n",
    "fig.tight_layout()"
   ]
  },
  {
   "cell_type": "code",
   "execution_count": 3,
   "metadata": {
    "ExecuteTime": {
     "end_time": "2022-02-01T23:48:22.542131Z",
     "start_time": "2022-02-01T23:48:21.999457Z"
    }
   },
   "outputs": [
    {
     "data": {
      "image/png": "[encoded data removed]",
      "text/plain": [
       "<Figure size 576x432 with 1 Axes>"
      ]
     },
     "metadata": {
      "needs_background": "light"
     },
     "output_type": "display_data"
    }
   ],
   "source": [
    "# Add relative points.\n",
    "TRANSFORMATION = (1, 2)\n",
    "P1_1, P2_1 = P1 + TRANSFORMATION, P2 + TRANSFORMATION\n",
    "X_1, Y_1 = zip(P1_1, P2_1)\n",
    "\n",
    "fig, ax = plt.subplots(figsize=(8,6))\n",
    "ax.scatter(X, Y, color='black')\n",
    "ax.scatter(X_1, Y_1, color='tab:red')\n",
    "ax.set_xlim([-1, 8])\n",
    "ax.set_ylim([-1, 7])\n",
    "\n",
    "POINT_LABELS = [\n",
    "    ('$P_0$', P1),\n",
    "    ('$P_1$', P2),\n",
    "    ('$P_0\\prime$', P1_1),\n",
    "    ('$P_1\\prime$', P2_1)\n",
    "]\n",
    "for label, p in POINT_LABELS:\n",
    "    ax.annotate(label, xy=p, xytext=p+(0.25, -0.25), fontsize=24)\n",
    "    \n",
    "ax.annotate('', xy=P1_1, xytext=P1, arrowprops={'arrowstyle': 'simple'})\n",
    "ax.annotate('', xy=P2_1, xytext=P2, arrowprops={'arrowstyle': 'simple'})\n",
    "\n",
    "ax.set(title='Two Points - Moving Along a Vector')\n",
    "fig.tight_layout()"
   ]
  },
  {
   "cell_type": "markdown",
   "metadata": {},
   "source": [
    "- *The red points are both transformations of the black points along the same vector.*\n",
    "\n",
    "- *In other words (linguistically),*\n",
    "\n",
    "$$ \\LARGE P_0\\prime : \\LARGE P_0 :: \\LARGE P_1\\prime : \\LARGE P_1 $$\n",
    "\n",
    "***This is the fundamental concept as to how Word Embeddings function.***\n",
    "\n",
    "## Capturing Semantic Relationships\n",
    "\n",
    "- Using Similarity Metrics, words can be said to be \"alike\" or \"different\".\n",
    "- Word meanings and relationships can be captured and incorporated in modeling, rather than just a \"lazy\" encoded representation.\n",
    "     - *We can see some great demonstrations and visualizations on the GloVe page: https://nlp.stanford.edu/projects/glove/*"
   ]
  },
  {
   "cell_type": "markdown",
   "metadata": {},
   "source": [
    "*And an image from before...*\n",
    "<img src='./images/embeddings.png'>\n",
    "\n",
    "- Semantics are embedded into the vector space.\n",
    "- The relationship between **King & Queen** is represented by the same vector relationship of **Man & Woman**.\n",
    "\n",
    "---\n",
    "\n",
    "***A different example...***\n",
    "\n",
    "- *Imagine a model that assigned a value $ \\{x | -1 \\leq x \\leq 1\\} $ for each of the following dimensions:*\n",
    "\n",
    "<img src='./images/vectors.png' width=600>"
   ]
  },
  {
   "cell_type": "markdown",
   "metadata": {},
   "source": [
    "### Question:\n",
    "- *When representing words using tf-idf or BoW, what common problem will we run into?*"
   ]
  },
  {
   "cell_type": "markdown",
   "metadata": {},
   "source": [
    "## Word2Vec\n",
    "\n",
    "### Overview\n",
    "- Word2Vec is a deep neural network.\n",
    "    - Includes: *Input Layer, Hidden Layer, Output Layer*\n",
    "- The model examines a sequential \"window\" of words in a sentence.\n",
    "---\n",
    "***Example with a window of 5:***\n",
    "<img src='./images/training_data.png'>\n",
    "\n"
   ]
  },
  {
   "cell_type": "markdown",
   "metadata": {},
   "source": [
    "### What does it do?\n",
    "\n",
    "- A Word2Vec model will use training data to generate word embeddings for each word.\n",
    "- Using these embeddings, the model will be able to associate words together based on similarity metrics (discussed above).\n",
    "    - The model uses a form of *reverse-sequence-generation*.\n",
    "        - Rather than predicting a *word* given a *context*, **the model predicts a context given a word.**\n",
    "        - This means that given the example word \"fox\" from above, the model should learn to predict the words \"quick\", \"brown\", \"jumps\", and \"over\", although crucially, not in any particular order.\n",
    "        \n",
    "\n",
    "- The hidden layer in the model will be used as a lookup table after training is complete.\n",
    "---\n",
    "***One-hot-encoded input. Accesses the word embedding. Returns resulting embedding.***\n",
    "\n",
    "<img src='./images/matrix_mult_w_one_hot.png'>\n",
    "\n",
    "> *For example, consider the sentence \"**we have two cats as pets**\".*\n",
    "> - *You could easily substitute the word \"cats\" for \"dogs\" and the entire sentence would still make perfect sense.*\n",
    "> - *While the meaning of the sentence is undoubtedly changed, there is also a lesson regarding the fact that both are nouns and pets.* \n",
    "> - *Without even worrying about the embedding space, you can easily understand that words that have similar meanings will likely also be used in many of the same kinds of sentences.* \n",
    "> - *The more similar words are, the more sentences in which they are likely to share context windows!* \n",
    ">     - *This is exactly what the model is learning, and this is why words that are similar end up near each other inside the embedding space.*"
   ]
  },
  {
   "cell_type": "markdown",
   "metadata": {},
   "source": [
    "#### Opinion:\n",
    "- ***What is the \"opposite\" of the word BOAT?***"
   ]
  },
  {
   "cell_type": "markdown",
   "metadata": {},
   "source": [
    "### Training a Word2Vec Model\n",
    "\n",
    "```python\n",
    "#### Demo ###\n",
    "# Training the model.\n",
    "from gensim.models import Word2Vec\n",
    "\n",
    "model = Word2Vec(data, size=100, window=5, min_count=1, workers=4)\n",
    "```\n",
    "\n",
    "#### Parameters\n",
    "- the dataset you'll be training on\n",
    "- `size`: the size of the word vectors you want to learn\n",
    "- `window`: the window size to use when training the model\n",
    "- `min_count`: the minimum number of times a word must be used in the corpus in order to be included in the training (for instance, `min_count=5` would only learn word embeddings for words that appear 5 or more times throughout the entire training set)\n",
    "- `workers`: the number of threads to use for training, which can speed up processing (4 is typically used, since most processors nowadays have at least 4 cores).\n",
    "\n",
    "Once you've instantiated the model, you'll still need to call the model's `.train()` method, and pass in the following parameters:\n",
    "\n",
    "- The same dataset that you passed in at instantiation\n",
    "- `total_examples`: the number of words in the model. You don't need to calculate this manually -- instead, you can just pass in the instantiated model's `.corpus_count` attribute for this parameter.\n",
    "- The number of `epochs` to train the model for.\n",
    "\n",
    "```python\n",
    "# Training model.\n",
    "model.train(data, total_examples=model.corpus_count)\n",
    "\n",
    "# Accessing the Word2VecKeyedVectors\n",
    "wv = model.wv\n",
    "\n",
    "wv.most_similar('Cat') # Returns the most similar words to 'Cat'\n",
    "wv.most_similar(negative='Cat') # Returns the least similar words to 'Cat'\n",
    "\n",
    "\n",
    "wv['Cat'] # Returns the embedding array.\n",
    "\n",
    "wv.vectors # Returns all arrays for all words.\n",
    "\n",
    "wv.most_similar(positive=['king', 'woman'], negative=['man']) # Returns 'Queen' (theoretically).\n",
    "```"
   ]
  },
  {
   "cell_type": "markdown",
   "metadata": {},
   "source": [
    "- Additional Resources:\n",
    "    - <a href='http://mccormickml.com/2016/04/19/word2vec-tutorial-the-skip-gram-model/'>Word2Vec Tutorial: P1</a>\n",
    "    - <a href='http://mccormickml.com/2017/01/11/word2vec-tutorial-part-2-negative-sampling/'>Word2Vec Tutorial: P2</a>"
   ]
  },
  {
   "cell_type": "markdown",
   "metadata": {},
   "source": [
    "## GloVe: *Global Vectors for Word Representation*\n",
    "\n",
    "- There are pretrained Word Embedding models that can be downloaded and used.\n",
    "- There are various sizes and types of GloVe models and can be found in the **Download pre-trained word vectors** section of the link.\n",
    "- Because of the computational resources available to Stanford *(the largest model is trained on 840B tokens, 2.2M vocab)*, this model will likely be more comprehensive than the ones we can train at home. However, we *can* get some interesting insights from training a model on a given set of texts.\n",
    "\n",
    "> *https://nlp.stanford.edu/projects/glove/*"
   ]
  },
  {
   "cell_type": "markdown",
   "metadata": {},
   "source": [
    "# Using Word Embeddings\n",
    "\n",
    "There are two common ways to use embedding matrices.\n",
    "1. **Mean Word Embeddings**\n",
    "    - Given a document / text / tweet, you can look at the **mean embedding** for all the words.\n",
    "    - This method will encapsulate the general idea of the sentence as **a single matrix**.\n",
    "*Note: The curriculum advocates for the creation of an object which can be incorporated into a sklearn Pipeline. That code is provided here:*\n",
    "\n",
    "```python\n",
    "class W2vVectorizer:\n",
    "    \n",
    "    def __init__(self, w2v):\n",
    "        # Takes in a dictionary of words and vectors as input\n",
    "        self.w2v = w2v\n",
    "        if len(w2v) == 0:\n",
    "            self.dimensions = 0\n",
    "        else:\n",
    "            self.dimensions = len(w2v[next(iter(glove))])\n",
    "    \n",
    "    # Note: Even though it doesn't do anything, it's required that this object implement a fit method or else\n",
    "    # it can't be used in a scikit-learn pipeline  \n",
    "    def fit(self, X, y):\n",
    "        return self\n",
    "            \n",
    "    def transform(self, X):\n",
    "        return np.array([\n",
    "            np.mean([self.w2v[w] for w in words if w in self.w2v]\n",
    "                   or [np.zeros(self.dimensions)], axis=0) for words in X])\n",
    "```\n",
    "\n",
    "*The downside with this method is clearly that by simply \"rolling the words into a ball\", you are again losing the context and order of the words...*\n",
    "\n",
    "---\n",
    "    "
   ]
  },
  {
   "cell_type": "markdown",
   "metadata": {},
   "source": [
    "2. **Embedding Layers**\n",
    "    - Embedding Layers are *layers* used exclusively in **Sequence Models**.\n",
    "    - This layer stores the word embeddings for a dataset.\n",
    "    \n",
    "***Notes on use:***\n",
    "- The Embedding Layer should always immediately follow the Input Layer.\n",
    "- All words in the text should be label-encoded.\n",
    "- The size of the Embedding Layer should always be greater than the total vocabulary size of the dataset.\n",
    "    - The first parameter denotes the vocabulary size. The second parameter denotes the size of the word vectors.\n",
    "- The size of the sequences (texts) must be converted to **padded sequences** in order to have the same length input.\n",
    "\n",
    "> <a href='https://keras.io/api/layers/core_layers/embedding/'>*Documentation: Embedding Layer in Keras*</a>"
   ]
  },
  {
   "cell_type": "markdown",
   "metadata": {},
   "source": [
    "# Sequence Models\n",
    "\n",
    "**Sequence Models** are a class of neural networks that work with ordered data (ex: *Sentences* and *Time Series*).\n",
    "\n",
    "These models are called **stateful** models, which means that in sequence generation the model *remembers* the most recent output in order to make its next output.\n",
    "- *If a stateful model is generating text data, it will generate some output at timestep $\\large x_t$.*\n",
    "- *It will then use this output as input for its next generated output (timestep $\\large x_t + 1$).*\n",
    "\n",
    "<img src='./images/new-RNN-unrolled.png'>\n",
    "\n",
    "> - *The current timestep is denoted with the input node $\\large X_t$, which makes the previous timestep $\\large X_{t-1}$ and the next timestep $\\large X_{t+1}$.*\n",
    "> - *$\\large H_0$ represents the model's output for timestep $\\large 0$, which will then be passed back into the model in $\\large X_1$.*"
   ]
  },
  {
   "cell_type": "markdown",
   "metadata": {},
   "source": [
    "## Recurrent Neural Networks\n",
    "\n",
    "**Recurrent Neural Networks** are a type of *stateful model* which are very popular and we will be working with in TensorFlow!\n",
    "\n",
    "### Use Cases\n",
    "- **Text Classification**\n",
    "    - RNNs examine one word at a time and *remember* what they've seen at each time step, rather than looking at any kind of *word frequency* (BoW / tf-idf).\n",
    "- **Sequence Generation**\n",
    "    - When trained on texts, a RNN can, given a prompt, generate some $n$-characters given the training data.\n",
    "        - <a href='https://www.tensorflow.org/tutorials/text/text_generation'>TensorFlow Tutorial</a>\n",
    "        \n",
    "       - Below is an example text generated from a model trained on Shakespeare. Input into the model was `'Q'`.\n",
    "       \n",
    "> ```\n",
    "> QUEENE:\n",
    "> I had thought thou hadst a Roman; for the oracle,\n",
    "> Thus by All bids the man against the word,\n",
    "> Which are so weak of care, by old care done;\n",
    "> Your children were in your holy love,\n",
    "> And the precipitation through the bleeding throne.\n",
    "> \n",
    "> BISHOP OF ELY:\n",
    "> Marry, and will, my lord, to weep in such a one were prettiest;\n",
    "> Yet now I was adopted heir\n",
    "> Of the world's lamentable day,\n",
    "> To watch the next way with his father with his face?\n",
    "> \n",
    "> ESCALUS:\n",
    "> The cause why then we are all resolved more sons.\n",
    "> \n",
    "> VOLUMNIA:\n",
    "> O, no, no, no, no, no, no, no, no, no, no, no, no, no, no, no, no, no, no, no, no, it is no sin it should be dead,\n",
    "> And love and pale as any will to that word.\n",
    "> \n",
    "> QUEEN ELIZABETH:\n",
    "> But how long have I heard the soul for this world,\n",
    "> And show his hands of life be proved to stand.\n",
    "> \n",
    "> PETRUCHIO:\n",
    "> I say he look'd on, if I must be content\n",
    "> To stay him from the fatal of our country's bliss.\n",
    "> His lordship pluck'd from this sentence then for prey,\n",
    "> And then let us twain, being the moon,\n",
    "> were she such a case as fills m\n",
    "> ```"
   ]
  },
  {
   "cell_type": "markdown",
   "metadata": {},
   "source": [
    "- **Sequence-to-Sequence Models**\n",
    "    - These models map an *input sequence* to an *output sequence*. *(Think: Google Translate)*\n",
    "\n",
    "***Completing a drawing based on a prompt and subject.***\n",
    "<img src='./images/multi_sketch_mosquito.gif'>\n",
    "\n",
    "***Adding color and content to an image***\n",
    "<img src='./images/pix2pix.gif'>"
   ]
  },
  {
   "cell_type": "markdown",
   "metadata": {},
   "source": [
    "### Backprop Through Time\n",
    "\n",
    "- Rather than using the traditional Back Propagation that we've discussed, RNNs use an altered **BPTT** *(BackProp Through Time)*.\n",
    "- Because the model is trained on sequence data, it has the potential to be right or wrong **at every point in that sequence**. \n",
    "    - *This means that you need to adjust the model's weights at each time point to effectively learn from sequence data.*\n",
    "    \n",
    "    \n",
    "> - *! **Note:** BPTT is much more computationally expensive than traditional back propagation because the model has to update every weight at every time step.*\n",
    ">     - *For instance, if a single data point is a sequence with 1000 time steps, then the model will perform a full round of back propagation for each of the 1000 points in that single sequence.*\n",
    "> \n",
    "> *There is another type of BackProp developed with this in mind, **TBPTT** (Truncated BPTT), which breaks a long sequence into smaller chunks.*\n",
    ">*For example, 1000 time steps gets propagated as 50 sequences of 20 units.*"
   ]
  },
  {
   "cell_type": "markdown",
   "metadata": {},
   "source": [
    "## Layers\n",
    "***The example below is demonstrating the way a RNN interacts with text. What is happening here?***\n",
    "<img src='./images/unrolled.gif'>\n",
    "\n",
    "### Gradient Problems\n",
    "> - *One of the biggest problems with standard Recurrent Neural Networks is that they get **Saturated**.* \n",
    "> - *The problem with this it that they use a `sigmoid` or `tanh` activation function, and there are large areas of each function where the derivative is very, very close to 0.*\n",
    "> - *When the derivatives are low, this means the weight updates are small, which means that the \"learning\" of the model slows to a crawl!*\n",
    ">     - *This happens because after many, many weight updates, many weights will have been pushed into an extremely positive or extremely negative value.*\n",
    "\n",
    "\n",
    "<img src='./images/new_vanishing_gradient.png'>\n",
    "\n",
    "> - *All you have to do is get past -5 or +5 to get to very small values.*\n",
    ">\n",
    "> *When gradients are close to 0 because the values are extremely low, this is called **Vanishing Gradient**. Similarly, networks can also get to the point where the gradients are much, much large, resulting in massive weight updates that cause the model to thrash between 1 extremely wrong answer and another. When this happens, it is called **Exploding Gradient**. In practice, you can easily solve exploding gradients by just \"clipping\" the weight updates by bounding them at a maximum value. However, there's no good solution for vanishing gradients!*\n",
    "\n",
    "---\n",
    "\n",
    "The two layers we will discuss (GRUs and LSTMs) have the ability to retain *and forget* information.\n",
    "\n",
    "As we looked at above, the further in the distance a word (point) gets in a sequence, the less important it gets."
   ]
  },
  {
   "cell_type": "markdown",
   "metadata": {},
   "source": [
    "### Gated Recurrent Units (GRU)\n",
    "- Passes the \"important\" parts of its *initial state* at each time step.\n",
    "- Uses two \"gates\" as a *catch-all* for what information to learn / forget.\n",
    "    1. **Reset Gate**: determines what should be removed from the cell's internal state before passing itself along to the next time step.\n",
    "    2. **Update Gate**: determines how much of the state from the previous time step should be used in the current time step.\n",
    "    \n",
    "<img src='./images/1_7oE-4Wg6bZ7u8yDf5cjJPA.png'>\n",
    "\n",
    "> <a href='https://towardsdatascience.com/understanding-gru-networks-2ef37df6c9be'>*TDS: GRUs*</a>\n",
    "\n",
    "### Long Short Term Memory Cells (LSTM)\n",
    "- Specialized neurons that are able to effectively learn what information to \"remember\" and what to \"forget\".\n",
    "\n",
    "<img src='./images/new_LSTM3_chain.png'>\n",
    "\n",
    "- Uses three \"gates\".\n",
    "    1. **Input Gate**: determines how much of the cell state that was passed along should be kept.\n",
    "    2. **Forget Gate**: determines how much of the current state should be forgotten.\n",
    "    3. **Output Gate**: determines how much of the current state should be exposed to the next layers in the network.\n",
    "\n",
    "---\n",
    "\n",
    "> <a href='https://towardsdatascience.com/illustrated-guide-to-lstms-and-gru-s-a-step-by-step-explanation-44e9eb85bf21'>*TDS: Step by Step Illustrated Guide*</a>"
   ]
  },
  {
   "cell_type": "markdown",
   "metadata": {},
   "source": [
    "# High Level Example: TensorFlow RNN with GloVe Embeddings "
   ]
  },
  {
   "cell_type": "markdown",
   "metadata": {},
   "source": [
    "## Preparing Data: Cleaning / Tokenizing / Padding\n",
    "```\n",
    "********************************************************************************\n",
    "*                           Tokenizer Created & Fit                            *\n",
    "********************************************************************************\n",
    "Ex:\n",
    "[['weather',\n",
    "  'update',\n",
    "  'a',\n",
    "  'cold',\n",
    "  'front',\n",
    "  'from',\n",
    "  'cuba',\n",
    "  'that',\n",
    "  'could',\n",
    "  'pass',\n",
    "  'over',\n",
    "  'haiti'],\n",
    " ['says',\n",
    "  'west',\n",
    "  'side',\n",
    "  'of',\n",
    "  'haiti',\n",
    "  'rest',\n",
    "  'of',\n",
    "  'the',\n",
    "  'country',\n",
    "  'today',\n",
    "  'and',\n",
    "  'tonight']]\n",
    "********************************************************************************\n",
    "*                              Series' Tokenized                               *\n",
    "********************************************************************************\n",
    "Ex:\n",
    "[[191, 1845, 6, 422, 905, 21, 2656, 14, 130, 552, 74, 64],\n",
    " [519, 290, 949, 4, 64, 1315, 4, 1, 78, 265, 2, 1172]]\n",
    "********************************************************************************\n",
    "*                                  Tokenized                                   *\n",
    "********************************************************************************\n",
    "Ex:\n",
    "array([[   0,    0,    0,    0,    0,    0,    0,    0,    0,    0,    0,\n",
    "           0,    0,    0,    0,    0,    0,    0,    0,    0,    0,    0,\n",
    "           0,    0,    0,    0,    0,    0,    0,    0,    0,    0,    0,\n",
    "           0,    0,    0,    0,    0,    0,    0,    0,    0,    0,    0,\n",
    "           0,    0,    0,    0,    0,    0,    0,    0,    0,  191, 1845,\n",
    "           6,  422,  905,   21, 2656,   14,  130,  552,   74,   64],\n",
    "       [   0,    0,    0,    0,    0,    0,    0,    0,    0,    0,    0,\n",
    "           0,    0,    0,    0,    0,    0,    0,    0,    0,    0,    0,\n",
    "           0,    0,    0,    0,    0,    0,    0,    0,    0,    0,    0,\n",
    "           0,    0,    0,    0,    0,    0,    0,    0,    0,    0,    0,\n",
    "           0,    0,    0,    0,    0,    0,    0,    0,    0,  519,  290,\n",
    "         949,    4,   64, 1315,    4,    1,   78,  265,    2, 1172]])\n",
    "********************************************************************************\n",
    "*                                   Finished                                   *\n",
    "********************************************************************************\n",
    "```"
   ]
  },
  {
   "cell_type": "markdown",
   "metadata": {},
   "source": [
    "## Example Model Architecture\n",
    "\n",
    "```python\n",
    "# Import libraries\n",
    "from tensorflow.keras import layers, models\n",
    "\n",
    "# Instantiate model.\n",
    "model = models.Sequential()\n",
    "\n",
    "# Add Embedding Layer\n",
    "model.add(\n",
    "    layers.Embedding(\n",
    "        input_dim=`vocab_length`, # Vocabulary size.\n",
    "        output_dim=`n_dimensions_of_matrix`, # Shape of matrix for each word.\n",
    "        weights=[`matrix`], # GloVe matrix, shape: (`vocab_length`, `n_dimensions_of_matrix`)\n",
    "        input_length=`len_of_padded_sequences`, # Length of each array (sentence).\n",
    "        trainable=False, # Whether we want to retrain the GloVe matrix weights.\n",
    "        mask_zero=True # Showing that `0` is a padding and shouldn't be interpreted.\n",
    "        )\n",
    "    )\n",
    "\n",
    "# Add BiDirectional layer.\n",
    "model.add(layers.Bidirectional(layers.LSTM(`n_dimensions_of_matrix`)))\n",
    "\n",
    "# Add Dense layer.\n",
    "model.add(layers.Dense(64, activation='relu'))\n",
    "\n",
    "# Add Output layer.\n",
    "model.add(layers.Dense(1, activation='sigmoid'))\n",
    "```\n",
    "\n",
    "<img src='./images/bidirectional.png'>\n",
    "\n",
    "---\n",
    "\n",
    "> *BiDirectional*: \n",
    "> - *The main advantage of a bidirectional RNN is that the signal from the beginning of the input doesn't need to be processed all the way through every timestep to affect the output.*\n",
    "> \n",
    "> - *The main disadvantage of a bidirectional RNN is that you can't efficiently stream predictions as words are being added to the end.*\n",
    "\n",
    "> *Documentation: https://www.tensorflow.org/tutorials/text/text_classification_rnn*"
   ]
  }
 ],
 "metadata": {
  "kernelspec": {
   "display_name": "Python [conda env:learn-env] *",
   "language": "python",
   "name": "conda-env-learn-env-py"
  },
  "language_info": {
   "codemirror_mode": {
    "name": "ipython",
    "version": 3
   },
   "file_extension": ".py",
   "mimetype": "text/x-python",
   "name": "python",
   "nbconvert_exporter": "python",
   "pygments_lexer": "ipython3",
   "version": "3.6.9"
  },
  "toc": {
   "base_numbering": 1,
   "nav_menu": {},
   "number_sections": false,
   "sideBar": true,
   "skip_h1_title": false,
   "title_cell": "Table of Contents",
   "title_sidebar": "Contents",
   "toc_cell": false,
   "toc_position": {
    "height": "calc(100% - 180px)",
    "left": "10px",
    "top": "150px",
    "width": "412px"
   },
   "toc_section_display": true,
   "toc_window_display": true
  }
 },
 "nbformat": 4,
 "nbformat_minor": 2
}
