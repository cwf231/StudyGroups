{
 "cells": [
  {
   "cell_type": "markdown",
   "metadata": {},
   "source": [
    "## Phase 4.40\n",
    "\n",
    "# Neural Networks\n",
    "\n",
    "## Objectives\n",
    "\n",
    "- <a href='#intro'>Introduce</a> Neural Network systems.\n",
    "- Discuss basic <a href='#arch'>conceptual architectures</a>.\n",
    "- Dive into the process of training a neural network.\n",
    "    - <a href='#forward'>Forward Prop</a>\n",
    "    - <a href='#back'>Back Prop</a>\n",
    "\n",
    "---"
   ]
  },
  {
   "cell_type": "markdown",
   "metadata": {},
   "source": [
    "<a id='intro'></a>\n",
    "# Neural Networks\n",
    "<img src='./images/dogcat.gif' width=700>\n",
    "\n",
    "## Background\n",
    "> *Neural networks have been around for a while. They are over 70 years old, dating back to  their proposal in 1944 by Warren McCullough and Walter Pitts. These first proposed neural nets had thresholds and weights, but no layers and no specific training mechanisms.*\n",
    "> \n",
    "> *The \"perceptron\", the first trainable neural network, was created by Frank Rosenblatt in 1957. It consisted of a single layer with adjustable weights in the middle of input and output layers.*\n",
    "\n",
    "<img src='./images/perceptron.png' width=500>\n",
    "\n",
    "### Relation to ML Models\n",
    "- **Logistic Regression**\n",
    "    - The *weights* in a neural network are like the *betas*.\n",
    "        - $ \\large \\log_b \\frac{p}{1 - p} = \\beta_0 + \\beta_1 x_1 + \\beta_2 x_2 + ... + \\beta_n x_n \\$.\n",
    "    - The *activation function* in a neural network can be the *sigmoid function*.\n",
    "    \n",
    "    \n",
    "    \n",
    "- **Stacking Ensembles**\n",
    "    - Various base models' predictions are fed into a *meta-estimator* that is trained to aggregate them optimally.\n",
    "        - *Similar to multiple layers in a neural network.*\n",
    "\n",
    "<a id='arch'></a>\n",
    "## Basic Architecture\n",
    "- We'll generally imagine our network to consist of only a few layers, including an input layer (where we feed in our data) an output layer (comprising our predictions). \n",
    "- Significantly, there will also (generally) be one or more layers of neurons between input and output, called **hidden layers**.\n",
    "\n",
    "*One reason these are named hidden layers is that what their output actually represents in not really known.  The activation of node 1 of the first hidden layer may represent a sequence of pixel intensity corresponding to a horizontal line, or a group of dark pixels in the middle of a number's loop.*\n",
    "\n",
    "<img src='./images/Deeper_network.jpeg'>\n",
    "\n",
    "Because we are unaware of how exactly these hidden layers are operating, neural networks are considered **black box** algorithms.  You will not be able to gain much inferential insight from a neural net.\n",
    "\n",
    "Each of our pixels from our digit representation goes to each of our nodes, and each node has a set of weights and a bias term associated with it."
   ]
  },
  {
   "cell_type": "markdown",
   "metadata": {},
   "source": [
    "# <a href='https://playground.tensorflow.org/'>Interactive: Tensorflow Playground</a>\n",
    "\n",
    "> *https://playground.tensorflow.org/*"
   ]
  },
  {
   "cell_type": "markdown",
   "metadata": {},
   "source": [
    "<a id='forward'></a>\n",
    "## Forward Propagation\n",
    "\n",
    "**Forward propagation** on the level of the perceptron.\n",
    "\n",
    "> We will use the built-in dataset of handwritten numbers from `sklearn`, which comes from the UCI Machine Learning collection. Each record is a 64-bit (8x8) image of a handwritten number between 0 and 9. Each pixel value (a number between 0 and 16) represents the relative brightness of the pixel. \n",
    ">\n",
    "> https://archive.ics.uci.edu/ml/datasets/Optical+Recognition+of+Handwritten+Digits"
   ]
  },
  {
   "cell_type": "code",
   "execution_count": 1,
   "metadata": {
    "ExecuteTime": {
     "end_time": "2021-10-07T19:43:55.589760Z",
     "start_time": "2021-10-07T19:43:53.668606Z"
    }
   },
   "outputs": [],
   "source": [
    "import numpy as np\n",
    "from matplotlib import pyplot as plt\n",
    "import matplotlib.image as mpimg\n",
    "from sklearn.model_selection import train_test_split\n",
    "from sklearn.datasets import load_digits"
   ]
  },
  {
   "cell_type": "code",
   "execution_count": 2,
   "metadata": {
    "ExecuteTime": {
     "end_time": "2021-10-07T19:43:55.596454Z",
     "start_time": "2021-10-07T19:43:55.592819Z"
    }
   },
   "outputs": [],
   "source": [
    "plt.style.use('seaborn-talk')"
   ]
  },
  {
   "cell_type": "code",
   "execution_count": 3,
   "metadata": {
    "ExecuteTime": {
     "end_time": "2021-10-07T19:43:55.726355Z",
     "start_time": "2021-10-07T19:43:55.600462Z"
    }
   },
   "outputs": [
    {
     "data": {
      "text/plain": [
       "{'data': array([[ 0.,  0.,  5., ...,  0.,  0.,  0.],\n",
       "        [ 0.,  0.,  0., ..., 10.,  0.,  0.],\n",
       "        [ 0.,  0.,  0., ..., 16.,  9.,  0.],\n",
       "        ...,\n",
       "        [ 0.,  0.,  1., ...,  6.,  0.,  0.],\n",
       "        [ 0.,  0.,  2., ..., 12.,  0.,  0.],\n",
       "        [ 0.,  0., 10., ..., 12.,  1.,  0.]]),\n",
       " 'target': array([0, 1, 2, ..., 8, 9, 8]),\n",
       " 'frame': None,\n",
       " 'feature_names': ['pixel_0_0',\n",
       "  'pixel_0_1',\n",
       "  'pixel_0_2',\n",
       "  'pixel_0_3',\n",
       "  'pixel_0_4',\n",
       "  'pixel_0_5',\n",
       "  'pixel_0_6',\n",
       "  'pixel_0_7',\n",
       "  'pixel_1_0',\n",
       "  'pixel_1_1',\n",
       "  'pixel_1_2',\n",
       "  'pixel_1_3',\n",
       "  'pixel_1_4',\n",
       "  'pixel_1_5',\n",
       "  'pixel_1_6',\n",
       "  'pixel_1_7',\n",
       "  'pixel_2_0',\n",
       "  'pixel_2_1',\n",
       "  'pixel_2_2',\n",
       "  'pixel_2_3',\n",
       "  'pixel_2_4',\n",
       "  'pixel_2_5',\n",
       "  'pixel_2_6',\n",
       "  'pixel_2_7',\n",
       "  'pixel_3_0',\n",
       "  'pixel_3_1',\n",
       "  'pixel_3_2',\n",
       "  'pixel_3_3',\n",
       "  'pixel_3_4',\n",
       "  'pixel_3_5',\n",
       "  'pixel_3_6',\n",
       "  'pixel_3_7',\n",
       "  'pixel_4_0',\n",
       "  'pixel_4_1',\n",
       "  'pixel_4_2',\n",
       "  'pixel_4_3',\n",
       "  'pixel_4_4',\n",
       "  'pixel_4_5',\n",
       "  'pixel_4_6',\n",
       "  'pixel_4_7',\n",
       "  'pixel_5_0',\n",
       "  'pixel_5_1',\n",
       "  'pixel_5_2',\n",
       "  'pixel_5_3',\n",
       "  'pixel_5_4',\n",
       "  'pixel_5_5',\n",
       "  'pixel_5_6',\n",
       "  'pixel_5_7',\n",
       "  'pixel_6_0',\n",
       "  'pixel_6_1',\n",
       "  'pixel_6_2',\n",
       "  'pixel_6_3',\n",
       "  'pixel_6_4',\n",
       "  'pixel_6_5',\n",
       "  'pixel_6_6',\n",
       "  'pixel_6_7',\n",
       "  'pixel_7_0',\n",
       "  'pixel_7_1',\n",
       "  'pixel_7_2',\n",
       "  'pixel_7_3',\n",
       "  'pixel_7_4',\n",
       "  'pixel_7_5',\n",
       "  'pixel_7_6',\n",
       "  'pixel_7_7'],\n",
       " 'target_names': array([0, 1, 2, 3, 4, 5, 6, 7, 8, 9]),\n",
       " 'images': array([[[ 0.,  0.,  5., ...,  1.,  0.,  0.],\n",
       "         [ 0.,  0., 13., ..., 15.,  5.,  0.],\n",
       "         [ 0.,  3., 15., ..., 11.,  8.,  0.],\n",
       "         ...,\n",
       "         [ 0.,  4., 11., ..., 12.,  7.,  0.],\n",
       "         [ 0.,  2., 14., ..., 12.,  0.,  0.],\n",
       "         [ 0.,  0.,  6., ...,  0.,  0.,  0.]],\n",
       " \n",
       "        [[ 0.,  0.,  0., ...,  5.,  0.,  0.],\n",
       "         [ 0.,  0.,  0., ...,  9.,  0.,  0.],\n",
       "         [ 0.,  0.,  3., ...,  6.,  0.,  0.],\n",
       "         ...,\n",
       "         [ 0.,  0.,  1., ...,  6.,  0.,  0.],\n",
       "         [ 0.,  0.,  1., ...,  6.,  0.,  0.],\n",
       "         [ 0.,  0.,  0., ..., 10.,  0.,  0.]],\n",
       " \n",
       "        [[ 0.,  0.,  0., ..., 12.,  0.,  0.],\n",
       "         [ 0.,  0.,  3., ..., 14.,  0.,  0.],\n",
       "         [ 0.,  0.,  8., ..., 16.,  0.,  0.],\n",
       "         ...,\n",
       "         [ 0.,  9., 16., ...,  0.,  0.,  0.],\n",
       "         [ 0.,  3., 13., ..., 11.,  5.,  0.],\n",
       "         [ 0.,  0.,  0., ..., 16.,  9.,  0.]],\n",
       " \n",
       "        ...,\n",
       " \n",
       "        [[ 0.,  0.,  1., ...,  1.,  0.,  0.],\n",
       "         [ 0.,  0., 13., ...,  2.,  1.,  0.],\n",
       "         [ 0.,  0., 16., ..., 16.,  5.,  0.],\n",
       "         ...,\n",
       "         [ 0.,  0., 16., ..., 15.,  0.,  0.],\n",
       "         [ 0.,  0., 15., ..., 16.,  0.,  0.],\n",
       "         [ 0.,  0.,  2., ...,  6.,  0.,  0.]],\n",
       " \n",
       "        [[ 0.,  0.,  2., ...,  0.,  0.,  0.],\n",
       "         [ 0.,  0., 14., ..., 15.,  1.,  0.],\n",
       "         [ 0.,  4., 16., ..., 16.,  7.,  0.],\n",
       "         ...,\n",
       "         [ 0.,  0.,  0., ..., 16.,  2.,  0.],\n",
       "         [ 0.,  0.,  4., ..., 16.,  2.,  0.],\n",
       "         [ 0.,  0.,  5., ..., 12.,  0.,  0.]],\n",
       " \n",
       "        [[ 0.,  0., 10., ...,  1.,  0.,  0.],\n",
       "         [ 0.,  2., 16., ...,  1.,  0.,  0.],\n",
       "         [ 0.,  0., 15., ..., 15.,  0.,  0.],\n",
       "         ...,\n",
       "         [ 0.,  4., 16., ..., 16.,  6.,  0.],\n",
       "         [ 0.,  8., 16., ..., 16.,  8.,  0.],\n",
       "         [ 0.,  1.,  8., ..., 12.,  1.,  0.]]]),\n",
       " 'DESCR': \".. _digits_dataset:\\n\\nOptical recognition of handwritten digits dataset\\n--------------------------------------------------\\n\\n**Data Set Characteristics:**\\n\\n    :Number of Instances: 1797\\n    :Number of Attributes: 64\\n    :Attribute Information: 8x8 image of integer pixels in the range 0..16.\\n    :Missing Attribute Values: None\\n    :Creator: E. Alpaydin (alpaydin '@' boun.edu.tr)\\n    :Date: July; 1998\\n\\nThis is a copy of the test set of the UCI ML hand-written digits datasets\\nhttps://archive.ics.uci.edu/ml/datasets/Optical+Recognition+of+Handwritten+Digits\\n\\nThe data set contains images of hand-written digits: 10 classes where\\neach class refers to a digit.\\n\\nPreprocessing programs made available by NIST were used to extract\\nnormalized bitmaps of handwritten digits from a preprinted form. From a\\ntotal of 43 people, 30 contributed to the training set and different 13\\nto the test set. 32x32 bitmaps are divided into nonoverlapping blocks of\\n4x4 and the number of on pixels are counted in each block. This generates\\nan input matrix of 8x8 where each element is an integer in the range\\n0..16. This reduces dimensionality and gives invariance to small\\ndistortions.\\n\\nFor info on NIST preprocessing routines, see M. D. Garris, J. L. Blue, G.\\nT. Candela, D. L. Dimmick, J. Geist, P. J. Grother, S. A. Janet, and C.\\nL. Wilson, NIST Form-Based Handprint Recognition System, NISTIR 5469,\\n1994.\\n\\n.. topic:: References\\n\\n  - C. Kaynak (1995) Methods of Combining Multiple Classifiers and Their\\n    Applications to Handwritten Digit Recognition, MSc Thesis, Institute of\\n    Graduate Studies in Science and Engineering, Bogazici University.\\n  - E. Alpaydin, C. Kaynak (1998) Cascading Classifiers, Kybernetika.\\n  - Ken Tang and Ponnuthurai N. Suganthan and Xi Yao and A. Kai Qin.\\n    Linear dimensionalityreduction using relevance weighted LDA. School of\\n    Electrical and Electronic Engineering Nanyang Technological University.\\n    2005.\\n  - Claudio Gentile. A New Approximate Maximal Margin Classification\\n    Algorithm. NIPS. 2000.\\n\"}"
      ]
     },
     "execution_count": 3,
     "metadata": {},
     "output_type": "execute_result"
    }
   ],
   "source": [
    "# Loading data.\n",
    "digits = load_digits()\n",
    "digits"
   ]
  },
  {
   "cell_type": "code",
   "execution_count": 4,
   "metadata": {
    "ExecuteTime": {
     "end_time": "2021-10-07T19:43:55.733878Z",
     "start_time": "2021-10-07T19:43:55.729591Z"
    }
   },
   "outputs": [],
   "source": [
    "# Slicing a single image out for exploration.\n",
    "eight_by_eight_image = digits.images[0]"
   ]
  },
  {
   "cell_type": "code",
   "execution_count": 5,
   "metadata": {
    "ExecuteTime": {
     "end_time": "2021-10-07T19:43:55.746614Z",
     "start_time": "2021-10-07T19:43:55.740932Z"
    }
   },
   "outputs": [
    {
     "data": {
      "text/plain": [
       "array([[ 0.,  0.,  5., 13.,  9.,  1.,  0.,  0.],\n",
       "       [ 0.,  0., 13., 15., 10., 15.,  5.,  0.],\n",
       "       [ 0.,  3., 15.,  2.,  0., 11.,  8.,  0.],\n",
       "       [ 0.,  4., 12.,  0.,  0.,  8.,  8.,  0.],\n",
       "       [ 0.,  5.,  8.,  0.,  0.,  9.,  8.,  0.],\n",
       "       [ 0.,  4., 11.,  0.,  1., 12.,  7.,  0.],\n",
       "       [ 0.,  2., 14.,  5., 10., 12.,  0.,  0.],\n",
       "       [ 0.,  0.,  6., 13., 10.,  0.,  0.,  0.]])"
      ]
     },
     "execution_count": 5,
     "metadata": {},
     "output_type": "execute_result"
    }
   ],
   "source": [
    "eight_by_eight_image"
   ]
  },
  {
   "cell_type": "markdown",
   "metadata": {},
   "source": [
    "> It is similar to the famous <a href='http://yann.lecun.com/exdb/mnist/index.html'>**MNIST**</a> dataset which is sometimes referred to the <a href='https://www.kaggle.com/c/digit-recognizer'>\"*hello world*\"</a> of computer vision."
   ]
  },
  {
   "cell_type": "code",
   "execution_count": 6,
   "metadata": {
    "ExecuteTime": {
     "end_time": "2021-10-07T19:43:56.037403Z",
     "start_time": "2021-10-07T19:43:55.752477Z"
    }
   },
   "outputs": [
    {
     "data": {
      "image/png": "[encoded data removed]",
      "text/plain": [
       "<Figure size 748.8x514.8 with 1 Axes>"
      ]
     },
     "metadata": {
      "needs_background": "light"
     },
     "output_type": "display_data"
    }
   ],
   "source": [
    "# Looking at the image.\n",
    "plt.imshow(eight_by_eight_image, cmap='Greys');"
   ]
  },
  {
   "cell_type": "code",
   "execution_count": 7,
   "metadata": {
    "ExecuteTime": {
     "end_time": "2021-10-07T19:43:56.050314Z",
     "start_time": "2021-10-07T19:43:56.042450Z"
    }
   },
   "outputs": [
    {
     "data": {
      "text/plain": [
       "array([[ 0.,  0.,  5., 13.,  9.,  1.,  0.,  0.],\n",
       "       [ 0.,  0., 13., 15., 10., 15.,  5.,  0.],\n",
       "       [ 0.,  3., 15.,  2.,  0., 11.,  8.,  0.],\n",
       "       [ 0.,  4., 12.,  0.,  0.,  8.,  8.,  0.],\n",
       "       [ 0.,  5.,  8.,  0.,  0.,  9.,  8.,  0.],\n",
       "       [ 0.,  4., 11.,  0.,  1., 12.,  7.,  0.],\n",
       "       [ 0.,  2., 14.,  5., 10., 12.,  0.,  0.],\n",
       "       [ 0.,  0.,  6., 13., 10.,  0.,  0.,  0.]])"
      ]
     },
     "execution_count": 7,
     "metadata": {},
     "output_type": "execute_result"
    }
   ],
   "source": [
    "# Looking at the matrix representation.\n",
    "eight_by_eight_image"
   ]
  },
  {
   "cell_type": "code",
   "execution_count": 8,
   "metadata": {
    "ExecuteTime": {
     "end_time": "2021-10-07T19:43:56.064113Z",
     "start_time": "2021-10-07T19:43:56.054867Z"
    }
   },
   "outputs": [
    {
     "data": {
      "text/plain": [
       "array([ 0.,  0.,  5., 13.,  9.,  1.,  0.,  0.,  0.,  0., 13., 15., 10.,\n",
       "       15.,  5.,  0.,  0.,  3., 15.,  2.,  0., 11.,  8.,  0.,  0.,  4.,\n",
       "       12.,  0.,  0.,  8.,  8.,  0.,  0.,  5.,  8.,  0.,  0.,  9.,  8.,\n",
       "        0.,  0.,  4., 11.,  0.,  1., 12.,  7.,  0.,  0.,  2., 14.,  5.,\n",
       "       10., 12.,  0.,  0.,  0.,  0.,  6., 13., 10.,  0.,  0.,  0.])"
      ]
     },
     "execution_count": 8,
     "metadata": {},
     "output_type": "execute_result"
    }
   ],
   "source": [
    "digits.data[0]"
   ]
  },
  {
   "cell_type": "code",
   "execution_count": 9,
   "metadata": {
    "ExecuteTime": {
     "end_time": "2021-10-07T19:43:56.073376Z",
     "start_time": "2021-10-07T19:43:56.068427Z"
    }
   },
   "outputs": [
    {
     "data": {
      "text/plain": [
       "(64,)"
      ]
     },
     "execution_count": 9,
     "metadata": {},
     "output_type": "execute_result"
    }
   ],
   "source": [
    "digits.data[0].shape"
   ]
  },
  {
   "cell_type": "code",
   "execution_count": 10,
   "metadata": {
    "ExecuteTime": {
     "end_time": "2021-10-07T19:43:56.084265Z",
     "start_time": "2021-10-07T19:43:56.076832Z"
    }
   },
   "outputs": [
    {
     "data": {
      "text/plain": [
       "array([ 0.,  0.,  5., 13.,  9.,  1.,  0.,  0.,  0.,  0., 13., 15., 10.,\n",
       "       15.,  5.,  0.,  0.,  3., 15.,  2.,  0., 11.,  8.,  0.,  0.,  4.,\n",
       "       12.,  0.,  0.,  8.,  8.,  0.,  0.,  5.,  8.,  0.,  0.,  9.,  8.,\n",
       "        0.,  0.,  4., 11.,  0.,  1., 12.,  7.,  0.,  0.,  2., 14.,  5.,\n",
       "       10., 12.,  0.,  0.,  0.,  0.,  6., 13., 10.,  0.,  0.,  0.])"
      ]
     },
     "execution_count": 10,
     "metadata": {},
     "output_type": "execute_result"
    }
   ],
   "source": [
    "digits.data[0]"
   ]
  },
  {
   "cell_type": "code",
   "execution_count": 11,
   "metadata": {
    "ExecuteTime": {
     "end_time": "2021-10-07T19:43:56.097169Z",
     "start_time": "2021-10-07T19:43:56.087356Z"
    },
    "scrolled": true
   },
   "outputs": [
    {
     "data": {
      "text/plain": [
       "array([[ 0.],\n",
       "       [ 0.],\n",
       "       [ 5.],\n",
       "       [13.],\n",
       "       [ 9.],\n",
       "       [ 1.],\n",
       "       [ 0.],\n",
       "       [ 0.],\n",
       "       [ 0.],\n",
       "       [ 0.],\n",
       "       [13.],\n",
       "       [15.],\n",
       "       [10.],\n",
       "       [15.],\n",
       "       [ 5.],\n",
       "       [ 0.],\n",
       "       [ 0.],\n",
       "       [ 3.],\n",
       "       [15.],\n",
       "       [ 2.],\n",
       "       [ 0.],\n",
       "       [11.],\n",
       "       [ 8.],\n",
       "       [ 0.],\n",
       "       [ 0.],\n",
       "       [ 4.],\n",
       "       [12.],\n",
       "       [ 0.],\n",
       "       [ 0.],\n",
       "       [ 8.],\n",
       "       [ 8.],\n",
       "       [ 0.],\n",
       "       [ 0.],\n",
       "       [ 5.],\n",
       "       [ 8.],\n",
       "       [ 0.],\n",
       "       [ 0.],\n",
       "       [ 9.],\n",
       "       [ 8.],\n",
       "       [ 0.],\n",
       "       [ 0.],\n",
       "       [ 4.],\n",
       "       [11.],\n",
       "       [ 0.],\n",
       "       [ 1.],\n",
       "       [12.],\n",
       "       [ 7.],\n",
       "       [ 0.],\n",
       "       [ 0.],\n",
       "       [ 2.],\n",
       "       [14.],\n",
       "       [ 5.],\n",
       "       [10.],\n",
       "       [12.],\n",
       "       [ 0.],\n",
       "       [ 0.],\n",
       "       [ 0.],\n",
       "       [ 0.],\n",
       "       [ 6.],\n",
       "       [13.],\n",
       "       [10.],\n",
       "       [ 0.],\n",
       "       [ 0.],\n",
       "       [ 0.]])"
      ]
     },
     "execution_count": 11,
     "metadata": {},
     "output_type": "execute_result"
    }
   ],
   "source": [
    "# When passing this data into this network, \n",
    "# we want it to exist in a single (flattened) dimension.\n",
    "flat_image = np.array(digits.data[0]).reshape(digits.data[0].shape[0], -1)\n",
    "flat_image"
   ]
  },
  {
   "cell_type": "code",
   "execution_count": 12,
   "metadata": {
    "ExecuteTime": {
     "end_time": "2021-10-07T19:43:56.107696Z",
     "start_time": "2021-10-07T19:43:56.101900Z"
    }
   },
   "outputs": [
    {
     "data": {
      "text/plain": [
       "(64, 1)"
      ]
     },
     "execution_count": 12,
     "metadata": {},
     "output_type": "execute_result"
    }
   ],
   "source": [
    "flat_image.shape"
   ]
  },
  {
   "cell_type": "markdown",
   "metadata": {},
   "source": [
    "### Weights\n",
    "Our weights vector will have **the same number of weights as pixels**.\n",
    "<img src='./images/log-reg-nn-ex-w.png' width=500>"
   ]
  },
  {
   "cell_type": "code",
   "execution_count": 13,
   "metadata": {
    "ExecuteTime": {
     "end_time": "2021-10-07T19:43:56.117766Z",
     "start_time": "2021-10-07T19:43:56.111000Z"
    }
   },
   "outputs": [
    {
     "data": {
      "text/plain": [
       "array([[-0.09613357],\n",
       "       [-0.0811912 ],\n",
       "       [-0.0274515 ],\n",
       "       [-0.0432568 ],\n",
       "       [-0.00083315]])"
      ]
     },
     "execution_count": 13,
     "metadata": {},
     "output_type": "execute_result"
    }
   ],
   "source": [
    "# Instantiate the weights with random numbers (between -0.1, 0.1)\n",
    "w = np.random.uniform(-.1, .1, (flat_image.shape[0], 1))\n",
    "w[:5]"
   ]
  },
  {
   "cell_type": "code",
   "execution_count": 14,
   "metadata": {
    "ExecuteTime": {
     "end_time": "2021-10-07T19:43:56.124100Z",
     "start_time": "2021-10-07T19:43:56.121206Z"
    }
   },
   "outputs": [],
   "source": [
    "# Setting the bias (think *constant*).\n",
    "b = 0"
   ]
  },
  {
   "cell_type": "markdown",
   "metadata": {},
   "source": [
    "### Summation\n",
    "<img src='./images/log-reg-nn-ex-sum.png' width=500>\n",
    "\n",
    "Our inputs, the pixels, each are **multiplied by their respective weights** and then **summed together with the bias**. \n",
    "\n",
    "This amounts to the dotproduct of the pixel value and the weights."
   ]
  },
  {
   "cell_type": "code",
   "execution_count": 15,
   "metadata": {
    "ExecuteTime": {
     "end_time": "2021-10-07T19:43:56.134188Z",
     "start_time": "2021-10-07T19:43:56.128313Z"
    }
   },
   "outputs": [
    {
     "data": {
      "text/plain": [
       "array([[-0.3174266]])"
      ]
     },
     "execution_count": 15,
     "metadata": {},
     "output_type": "execute_result"
    }
   ],
   "source": [
    "z = flat_image.T.dot(w) + b\n",
    "z"
   ]
  },
  {
   "cell_type": "markdown",
   "metadata": {},
   "source": [
    "### Activation\n",
    "<img src='./images/log-reg-nn-ex-a.png' width=500>\n",
    "\n",
    "- The activation function converts our summed inputs into an output, which is then passed on to other nodes in hidden layers (or as an end product in the output layer). \n",
    "- *When we build our models in `keras`, we will specify the activation function of both hidden layers and output.*"
   ]
  },
  {
   "cell_type": "code",
   "execution_count": 16,
   "metadata": {
    "ExecuteTime": {
     "end_time": "2021-10-07T19:43:56.143627Z",
     "start_time": "2021-10-07T19:43:56.136963Z"
    }
   },
   "outputs": [],
   "source": [
    "##### Define plotting function for demonstration. #####\n",
    "#######################################################\n",
    "\n",
    "def plot_with(f, title='', X=np.linspace(-10, 10, 20_000)):\n",
    "    \"\"\"Plot a function `f` over a given array of X-values.\"\"\"\n",
    "    \n",
    "    y_vals = [f(x) for x in X]\n",
    "\n",
    "    fig, ax = plt.subplots()\n",
    "    ax.plot(X, y_vals)\n",
    "    ax.axhline(0, ls=':', color='tab:red')\n",
    "    ax.set_title(title)\n",
    "    fig.tight_layout()"
   ]
  },
  {
   "cell_type": "markdown",
   "metadata": {},
   "source": [
    "#### Sigmoid\n",
    "$ \\large f(x) = \\frac{1}{1 + e^{-x}} $"
   ]
  },
  {
   "cell_type": "code",
   "execution_count": 17,
   "metadata": {
    "ExecuteTime": {
     "end_time": "2021-10-07T19:43:56.555245Z",
     "start_time": "2021-10-07T19:43:56.146247Z"
    }
   },
   "outputs": [
    {
     "data": {
      "image/png": "[encoded data removed]",
      "text/plain": [
       "<Figure size 748.8x514.8 with 1 Axes>"
      ]
     },
     "metadata": {
      "needs_background": "light"
     },
     "output_type": "display_data"
    }
   ],
   "source": [
    "# Define activation function.\n",
    "def sigmoid(x): \n",
    "    return 1 / (1+np.exp(-x))\n",
    "\n",
    "# Plot\n",
    "plot_with(sigmoid, title='Sigmoid Activation')"
   ]
  },
  {
   "cell_type": "markdown",
   "metadata": {},
   "source": [
    "#### tanh\n",
    "\n",
    "$ \\large f(x) = tanh(x) = f\\frac{e^x - e^{-x}}{e^x + e^{-x}}  $\n",
    "\n",
    "The hyperbolic tangent function is a shifted version of the sigmoid. \n",
    "\n",
    "- The inflection point passes through 0,0 instead of 0,.5, and the output is between -1 and 1.  This means the mean of the output is centered around 0, which can make learning in the next layer easier. \n",
    "- tanh is almost always better in a **hidden layer** than sigmoid because it <a href='https://stats.stackexchange.com/questions/330559/why-is-tanh-almost-always-better-than-sigmoid-as-an-activation-function'>speeds up learning</a>. \n",
    "- For the output layer, however, sigmoid makes sense for binary outcomes."
   ]
  },
  {
   "cell_type": "code",
   "execution_count": 18,
   "metadata": {
    "ExecuteTime": {
     "end_time": "2021-10-07T19:43:57.013548Z",
     "start_time": "2021-10-07T19:43:56.559011Z"
    }
   },
   "outputs": [
    {
     "data": {
      "image/png": "[encoded data removed]",
      "text/plain": [
       "<Figure size 748.8x514.8 with 1 Axes>"
      ]
     },
     "metadata": {
      "needs_background": "light"
     },
     "output_type": "display_data"
    }
   ],
   "source": [
    "def tanh(x):\n",
    "    return (np.exp(x) - np.exp(-x)) / (np.exp(x) + np.exp(-x))\n",
    "\n",
    "\n",
    "# Plot\n",
    "plot_with(tanh, title='Hyperbolic Tangent Activation')"
   ]
  },
  {
   "cell_type": "markdown",
   "metadata": {},
   "source": [
    "> *One problem with tanh and sigmoid is that **if our input is large, the slope of the activation function flattens out**.*\n",
    ">\n",
    "> *When conducting backpropagation, we will use the derivative of the activation function as one of our terms multiplied by a learning rate to determine how big a step to take when adjusting our weights. If our derivative is close to zero, the step will be very small, so the speed of our learning will be very slow.  This is called the **vanishing gradient** problem.*"
   ]
  },
  {
   "cell_type": "markdown",
   "metadata": {},
   "source": [
    "#### ReLU\n",
    "***Rectified Linear Units***\n",
    "\n",
    "$ \\large f(x) = \\max(0, x)$\n",
    "\n",
    "ReLU is a commonly used and effective activation function because of speed.  \n",
    "\n",
    "Given that the **output** is zero when negative, some nodes become inactive (i.e. produce an output of 0).  Zero outputs take little computational power. Also, the constant gradient leads to faster learning in comparison to sigmoid and tanh, which come close to 0 with large positive and large negative values. Since the speed of our network is linked to the derivative, a derivative close to zero will result in slow learning."
   ]
  },
  {
   "cell_type": "code",
   "execution_count": 19,
   "metadata": {
    "ExecuteTime": {
     "end_time": "2021-10-07T19:43:57.315150Z",
     "start_time": "2021-10-07T19:43:57.015765Z"
    }
   },
   "outputs": [
    {
     "data": {
      "image/png": "[encoded data removed]",
      "text/plain": [
       "<Figure size 748.8x514.8 with 1 Axes>"
      ]
     },
     "metadata": {
      "needs_background": "light"
     },
     "output_type": "display_data"
    }
   ],
   "source": [
    "def relu(x):\n",
    "    return max((0, x))\n",
    "\n",
    "\n",
    "# Plot\n",
    "plot_with(relu, title='ReLU Activation')"
   ]
  },
  {
   "cell_type": "markdown",
   "metadata": {},
   "source": [
    "#### Leaky ReLU"
   ]
  },
  {
   "cell_type": "code",
   "execution_count": 20,
   "metadata": {
    "ExecuteTime": {
     "end_time": "2021-10-07T19:43:57.602771Z",
     "start_time": "2021-10-07T19:43:57.317759Z"
    }
   },
   "outputs": [
    {
     "data": {
      "image/png": "[encoded data removed]",
      "text/plain": [
       "<Figure size 748.8x514.8 with 1 Axes>"
      ]
     },
     "metadata": {
      "needs_background": "light"
     },
     "output_type": "display_data"
    }
   ],
   "source": [
    "def leaky_relu(x, a=0.01):\n",
    "    if x > 0:\n",
    "        return x\n",
    "    return a * x # Adds a small positive gradient to inactive units.\n",
    "\n",
    "\n",
    "# Plot\n",
    "plot_with(leaky_relu, title='Leaky ReLU Activation')"
   ]
  },
  {
   "cell_type": "markdown",
   "metadata": {},
   "source": [
    "#### Swish\n",
    "\n",
    "***New activation function! Thanks Google.***\n",
    "\n",
    "Looks like ReLU, but has a nonzero derivative everywhere.\n",
    "\n",
    "$ \\large f(x) = \\frac{x}{1 + e^{-x}} $"
   ]
  },
  {
   "cell_type": "code",
   "execution_count": 21,
   "metadata": {
    "ExecuteTime": {
     "end_time": "2021-10-07T19:43:57.939860Z",
     "start_time": "2021-10-07T19:43:57.605963Z"
    }
   },
   "outputs": [
    {
     "data": {
      "image/png": "[encoded data removed]",
      "text/plain": [
       "<Figure size 748.8x514.8 with 1 Axes>"
      ]
     },
     "metadata": {
      "needs_background": "light"
     },
     "output_type": "display_data"
    }
   ],
   "source": [
    "def swish(x):\n",
    "    return x / (1 + np.exp(-x))\n",
    "\n",
    "\n",
    "# Plot\n",
    "plot_with(swish, title='Swish Activation')"
   ]
  },
  {
   "cell_type": "markdown",
   "metadata": {},
   "source": [
    "#### Softmax (Output Layer)\n",
    "\n",
    "$ \\large f(x_0) = \\frac{e^{x_0}}{\\Sigma_{x\\epsilon X}e^x} $\n",
    "\n",
    "Because this function relates each value to the sum of all values, this is the appropriate activation in the output layer for **multi-class** classification problems. We can interpret the function as outputting the probabilities of belonging to each class.\n",
    "\n",
    "---\n",
    "\n",
    "<a href='https://towardsdatascience.com/comparison-of-activation-functions-for-deep-neural-networks-706ac4284c8a'>More on Activation Functions: TowardsDataScience</a>"
   ]
  },
  {
   "cell_type": "markdown",
   "metadata": {},
   "source": [
    "## Back to our example..."
   ]
  },
  {
   "cell_type": "code",
   "execution_count": 22,
   "metadata": {
    "ExecuteTime": {
     "end_time": "2021-10-07T19:43:57.951883Z",
     "start_time": "2021-10-07T19:43:57.942958Z"
    }
   },
   "outputs": [
    {
     "data": {
      "text/plain": [
       "((1437, 64), (360, 64), (1437,), (360,))"
      ]
     },
     "execution_count": 22,
     "metadata": {},
     "output_type": "execute_result"
    }
   ],
   "source": [
    "# Train test split.\n",
    "X_train, X_test, y_train, y_test = train_test_split(\n",
    "    digits.data, digits.target, random_state=51, test_size=0.2)\n",
    "\n",
    "X_train.shape, X_test.shape, y_train.shape, y_test.shape"
   ]
  },
  {
   "cell_type": "code",
   "execution_count": 23,
   "metadata": {
    "ExecuteTime": {
     "end_time": "2021-10-07T19:43:57.962638Z",
     "start_time": "2021-10-07T19:43:57.955193Z"
    }
   },
   "outputs": [
    {
     "data": {
      "text/plain": [
       "(1437, 1)"
      ]
     },
     "execution_count": 23,
     "metadata": {},
     "output_type": "execute_result"
    }
   ],
   "source": [
    "# First layer.\n",
    "# Dot product against weight vector and add the bias.\n",
    "z_0 = X_train.dot(w) + b\n",
    "z_0.shape"
   ]
  },
  {
   "cell_type": "code",
   "execution_count": 24,
   "metadata": {
    "ExecuteTime": {
     "end_time": "2021-10-07T19:43:57.972265Z",
     "start_time": "2021-10-07T19:43:57.965814Z"
    }
   },
   "outputs": [
    {
     "data": {
      "text/plain": [
       "array([[-2.76209459],\n",
       "       [ 1.93699956],\n",
       "       [-4.81819914],\n",
       "       [-2.43977877],\n",
       "       [-2.45855884]])"
      ]
     },
     "execution_count": 24,
     "metadata": {},
     "output_type": "execute_result"
    }
   ],
   "source": [
    "z_0[:5]"
   ]
  },
  {
   "cell_type": "code",
   "execution_count": 25,
   "metadata": {
    "ExecuteTime": {
     "end_time": "2021-10-07T19:43:57.982969Z",
     "start_time": "2021-10-07T19:43:57.975264Z"
    }
   },
   "outputs": [
    {
     "data": {
      "text/plain": [
       "array([[0.05940722],\n",
       "       [0.87402214],\n",
       "       [0.00801654],\n",
       "       ...,\n",
       "       [0.14689151],\n",
       "       [0.67366525],\n",
       "       [0.00859821]])"
      ]
     },
     "execution_count": 25,
     "metadata": {},
     "output_type": "execute_result"
    }
   ],
   "source": [
    "# Apply activation function.\n",
    "a_0 = sigmoid(z_0)\n",
    "a_0"
   ]
  },
  {
   "cell_type": "code",
   "execution_count": 26,
   "metadata": {
    "ExecuteTime": {
     "end_time": "2021-10-07T19:43:57.995598Z",
     "start_time": "2021-10-07T19:43:57.986432Z"
    }
   },
   "outputs": [
    {
     "data": {
      "text/plain": [
       "(1437, 1)"
      ]
     },
     "execution_count": 26,
     "metadata": {},
     "output_type": "execute_result"
    }
   ],
   "source": [
    "a_0.shape"
   ]
  },
  {
   "cell_type": "code",
   "execution_count": 27,
   "metadata": {
    "ExecuteTime": {
     "end_time": "2021-10-07T19:43:58.009203Z",
     "start_time": "2021-10-07T19:43:58.002336Z"
    }
   },
   "outputs": [
    {
     "data": {
      "text/plain": [
       "(64, 4)"
      ]
     },
     "execution_count": 27,
     "metadata": {},
     "output_type": "execute_result"
    }
   ],
   "source": [
    "# Next layer.\n",
    "# Taking weights randomly.\n",
    "w_1 = np.random.normal(0, 0.1, (X_train.shape[1], 4))\n",
    "w_1.shape"
   ]
  },
  {
   "cell_type": "code",
   "execution_count": 28,
   "metadata": {
    "ExecuteTime": {
     "end_time": "2021-10-07T19:43:58.016592Z",
     "start_time": "2021-10-07T19:43:58.012945Z"
    }
   },
   "outputs": [],
   "source": [
    "# Making new bias.\n",
    "b_1 = 0"
   ]
  },
  {
   "cell_type": "code",
   "execution_count": 29,
   "metadata": {
    "ExecuteTime": {
     "end_time": "2021-10-07T19:43:58.029919Z",
     "start_time": "2021-10-07T19:43:58.021172Z"
    }
   },
   "outputs": [
    {
     "data": {
      "text/plain": [
       "array([[-6.03114270e-01,  1.44726399e+01, -5.08479811e+00,\n",
       "         1.85992148e-03],\n",
       "       [ 4.88186787e+00,  1.26122809e+01, -9.04333364e-01,\n",
       "         3.63607339e+00],\n",
       "       [ 3.38991595e-01,  1.47182251e+01,  4.91180315e+00,\n",
       "         2.84567254e+00],\n",
       "       ...,\n",
       "       [ 5.65633319e+00,  1.47969728e+01,  4.39891187e+00,\n",
       "         1.15927968e+01],\n",
       "       [-1.93415396e+00,  8.08766503e+00,  4.24934584e+00,\n",
       "         9.31325208e+00],\n",
       "       [ 2.43099372e+00,  1.18340538e+01,  3.78565007e+00,\n",
       "         8.87828677e+00]])"
      ]
     },
     "execution_count": 29,
     "metadata": {},
     "output_type": "execute_result"
    }
   ],
   "source": [
    "z_1 = X_train.dot(w_1) + b_1\n",
    "z_1"
   ]
  },
  {
   "cell_type": "code",
   "execution_count": 30,
   "metadata": {
    "ExecuteTime": {
     "end_time": "2021-10-07T19:43:58.042266Z",
     "start_time": "2021-10-07T19:43:58.033700Z"
    }
   },
   "outputs": [
    {
     "data": {
      "text/plain": [
       "array([[0.35363152, 0.99999948, 0.00615205, 0.50046498],\n",
       "       [0.99247423, 0.99999667, 0.2881608 , 0.97432115],\n",
       "       [0.58394555, 0.99999959, 0.99269456, 0.94509456],\n",
       "       ...,\n",
       "       [0.99651686, 0.99999963, 0.98785852, 0.99999077],\n",
       "       [0.12629151, 0.99969279, 0.9859273 , 0.99990979],\n",
       "       [0.9191604 , 0.99999275, 0.97780949, 0.99986064]])"
      ]
     },
     "execution_count": 30,
     "metadata": {},
     "output_type": "execute_result"
    }
   ],
   "source": [
    "a_1 = sigmoid(z_1)\n",
    "a_1"
   ]
  },
  {
   "cell_type": "markdown",
   "metadata": {},
   "source": [
    "*Now each of these neurons has a set of weights and a bias associated with it.*"
   ]
  },
  {
   "cell_type": "code",
   "execution_count": 31,
   "metadata": {
    "ExecuteTime": {
     "end_time": "2021-10-07T19:43:58.053637Z",
     "start_time": "2021-10-07T19:43:58.045609Z"
    }
   },
   "outputs": [
    {
     "data": {
      "text/plain": [
       "(4, 1)"
      ]
     },
     "execution_count": 31,
     "metadata": {},
     "output_type": "execute_result"
    }
   ],
   "source": [
    "w_1 = np.random.normal(0, 0.1, (a_1.shape[1], 1))\n",
    "\n",
    "w_1.shape"
   ]
  },
  {
   "cell_type": "code",
   "execution_count": 32,
   "metadata": {
    "ExecuteTime": {
     "end_time": "2021-10-07T19:43:58.071428Z",
     "start_time": "2021-10-07T19:43:58.067775Z"
    }
   },
   "outputs": [],
   "source": [
    "z_1 = a_1.dot(w_1)"
   ]
  },
  {
   "cell_type": "code",
   "execution_count": 33,
   "metadata": {
    "ExecuteTime": {
     "end_time": "2021-10-07T19:43:58.084241Z",
     "start_time": "2021-10-07T19:43:58.075548Z"
    }
   },
   "outputs": [
    {
     "data": {
      "text/plain": [
       "array([[0],\n",
       "       [0],\n",
       "       [0],\n",
       "       [0],\n",
       "       [1]])"
      ]
     },
     "execution_count": 33,
     "metadata": {},
     "output_type": "execute_result"
    }
   ],
   "source": [
    "# Output \"layer\"!\n",
    "output = sigmoid(z_1)\n",
    "y_pred = output > .5\n",
    "y_hat = y_pred.astype(int)\n",
    "y_hat[:5]"
   ]
  },
  {
   "cell_type": "code",
   "execution_count": 34,
   "metadata": {
    "ExecuteTime": {
     "end_time": "2021-10-07T19:43:58.095316Z",
     "start_time": "2021-10-07T19:43:58.087986Z"
    }
   },
   "outputs": [
    {
     "data": {
      "text/plain": [
       "array([[0.49014632],\n",
       "       [0.46027191],\n",
       "       [0.4653936 ],\n",
       "       [0.45677494],\n",
       "       [0.50484607]])"
      ]
     },
     "execution_count": 34,
     "metadata": {},
     "output_type": "execute_result"
    }
   ],
   "source": [
    "output[:5]"
   ]
  },
  {
   "cell_type": "markdown",
   "metadata": {},
   "source": [
    "We have successfully manually performed forward propagation for our model.\n",
    "\n",
    "These are actual predictions based on the randomly-generated weights we created.\n",
    "\n",
    "**So what happens next?**..."
   ]
  },
  {
   "cell_type": "markdown",
   "metadata": {},
   "source": [
    "<img src='./images/ff-bb.gif'>\n",
    "\n",
    "<a id='back'></a>\n",
    "## Back Propagation\n",
    "\n",
    "After a certain number of data points (*batch*) have been passed through the model, the weights will be updated with *an eye toward optimizing our loss function*.\n",
    "\n",
    "*Typically, this is done by using some version of gradient descent.*\n",
    "\n",
    "<img src='./images/BackProp_web.png'>\n",
    "\n",
    "- Back prop begins with a **loss function** which assesses how well our predictions were. \n",
    "    - For continuous outputs: **mean_squared_error**.\n",
    "    - For binary outputs: **binary_crossentropy**.\n",
    "    - For multiclass outputs: **categorical_crossentropy** (or log-loss).\n",
    "        - $ \\large \\mathcal{L}{(\\hat{y}, y)}= -\\frac{1}{m} * \\sum\\limits_{i=1}^m y_i\\log{\\hat{y}} + (1-y_i)\\log(1-\\hat{y}) $\n",
    "        \n",
    "        \n",
    "### Gradient Descent\n",
    "Gradient Descent is the process of **calculating the partial derivatives of our loss function** with regard to each tunable parameter of our network. \n",
    "\n",
    "> For a single-hidden-layer network, we have the following parameters to tune:\n",
    ">\n",
    "> - 1 bias (associated with the output layer)\n",
    "> - $n$ weights (attached to the $n$ neurons feeding into our output layer from our hidden layer)\n",
    "> - $n$ biases (associated with each neuron in the hidden layer)\n",
    "> - $m$ x $n$ weights (associated with the number of $m$ input rows into each of the $n$ neurons in the hidden layer)\n",
    "\n",
    "---\n",
    "\n",
    "There are **three main types** of gradient descent that we can implement in our networks. \n",
    "\n",
    "Each differs by the **amount of data pushed through the system in one round of forward propagation**. \n",
    "\n",
    "In all cases, an **epoch** refers to the end point of one cycle of data where all data points have passed through the network.  \n",
    "\n",
    "#### Batch Gradient Descent\n",
    "- Steps:\n",
    "    1. Push all our data through our network at once,\n",
    "    2. initiate back-prop and update the parameters.\n",
    "    \n",
    "    \n",
    "- In this case, *one epoch consists of only one round of forward propagation*.\n",
    "\n",
    "#### Mini-Batch Gradient Descent\n",
    "- Steps:\n",
    "    1. Randomly choose a subset of our data, \n",
    "    2. push it forward through our network, \n",
    "    3. calculate the loss and with gradient descent update our parameters, \n",
    "    4. proceed with a new random subset.  \n",
    "    \n",
    "    \n",
    "- Each example passes once through our network during one epoch.  Once all examples have been processed, the next epoch begins.\n",
    "\n",
    "#### Stochastic Gradient Descent\n",
    "- Steps:\n",
    "    1. Pick a single example from our training set, \n",
    "    2. pass it through the the network, \n",
    "    3. updates the parameters, \n",
    "    4. proceed to the next example.\n",
    "\n",
    "\n",
    "<a href='https://machinelearningmastery.com/gentle-introduction-mini-batch-gradient-descent-configure-batch-size/'>There are pros and cons of each type of gradient descent.</a> For now, we will say that using mini-batch gradient descent can substantially speed up learning. "
   ]
  },
  {
   "cell_type": "markdown",
   "metadata": {},
   "source": [
    "## Keras Optimizers\n",
    "\n",
    "> https://keras.io/api/optimizers/\n",
    ">\n",
    "> **Available Optimizers**\n",
    "> - SGD\n",
    "> - RMSprop\n",
    "> - Adam\n",
    "> - Adadelta\n",
    "> - Adagrad\n",
    "> - Adamax\n",
    "> - Nadam\n",
    "> - Ftrl\n",
    "\n",
    "*We have already been introduced to learning rate during our lectures on gradient descent. We update our parameters with small steps regulated by both the slope of the gradient with respect to the partial derivative and a learning rate.*\n",
    "\n",
    "$ \\large w_1 := w_1 - \\delta w_1 * \\alpha $\n",
    "\n",
    "*We choose $\\alpha$, our learning rate, to be a small number, so that we can make incremental steps down the gradient in the direction of minimizing our loss function.*\n",
    "\n",
    "*Instead of treating each parameter equally, **Adam** adapts the learning rate for every parameter in order to speed up learning. Adam is considered state of the art.*\n",
    "\n",
    "---\n",
    "\n",
    "> Tensorflow Addon: **LAMB** (Layer-wise Adaptive Moments)\n",
    "> - Tensorflow Addon: <a href='https://github.com/tensorflow/addons/blob/master/tensorflow_addons/optimizers/lamb.py'>Tensorflow GitHub</a>\n",
    "> - Paper: <a href='https://arxiv.org/abs/1904.00962'>Large Batch Optimization for Deep Learning: Training BERT in 76 minutes</a>"
   ]
  },
  {
   "cell_type": "markdown",
   "metadata": {},
   "source": [
    "---\n",
    "\n",
    "***Additional Resource:*** \n",
    "> <a href='https://youtu.be/aircAruvnKk'>*3 Blue 1 Brown: But What is a Neural Network?*</a>"
   ]
  }
 ],
 "metadata": {
  "kernelspec": {
   "display_name": "Python [conda env:learn-env] *",
   "language": "python",
   "name": "conda-env-learn-env-py"
  },
  "language_info": {
   "codemirror_mode": {
    "name": "ipython",
    "version": 3
   },
   "file_extension": ".py",
   "mimetype": "text/x-python",
   "name": "python",
   "nbconvert_exporter": "python",
   "pygments_lexer": "ipython3",
   "version": "3.6.9"
  },
  "toc": {
   "base_numbering": 1,
   "nav_menu": {},
   "number_sections": false,
   "sideBar": true,
   "skip_h1_title": false,
   "title_cell": "Table of Contents",
   "title_sidebar": "Contents",
   "toc_cell": false,
   "toc_position": {
    "height": "calc(100% - 180px)",
    "left": "10px",
    "top": "150px",
    "width": "254px"
   },
   "toc_section_display": true,
   "toc_window_display": true
  }
 },
 "nbformat": 4,
 "nbformat_minor": 2
}
