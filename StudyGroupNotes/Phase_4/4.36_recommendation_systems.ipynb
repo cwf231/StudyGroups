{
 "cells": [
  {
   "cell_type": "markdown",
   "metadata": {},
   "source": [
    "## Phase 4.36\n",
    "\n",
    "# Recommendation Systems\n",
    "\n",
    "## Objectives\n",
    "- Look at different <a href='#types'>Types of Recommendation Systems</a>.\n",
    "- <a href='#write'>Write a Recommendation System</a> using `Surprise`.\n",
    "\n",
    "<a id='types'></a>\n",
    "# Types of Recommendation Systems\n",
    "\n",
    "## Non-Personalized\n",
    "\n",
    "> Grouping items based on **overall popularity**.\n",
    "\n",
    "<img src='./images/nonpersonalized.png' width=500>\n",
    "\n",
    "- Top-rated items\n",
    "- Most-bought / watched / consumed content\n",
    "- Items that give companies highest ROI\n",
    "\n",
    "\n",
    "- *Easy and self-explanatory*\n",
    "    - *Same recommendations for everyone*\n",
    "\n",
    "\n",
    "## Content-Based\n",
    "\n",
    "> Grouping items based on **item features**.\n",
    "\n",
    "***Imagine a Dataset like this:***\n",
    "\n",
    "| item_id | feature1 | feature2 | feature3 | feature4 |\n",
    "| ---     | --- | ---|---| ---|\n",
    "| 0 | 0.0  |  0.0| 1.0| 0.0 |\n",
    "| 1 | 1.0  |  1.0| 0.0| 1.0 |\n",
    "\n",
    "- Makes recommendations based on an item's **features**.\n",
    "    - *You shopped for houseplants! We think you might like products like {plants, soil, plant supplements}*\n",
    "\n",
    "## Collaborative Filtering\n",
    "\n",
    "> Grouping items based on **similar customers / items**.\n",
    "> - *User-to-User / Item-to-Item*\n",
    "\n",
    "***Imagine a Dataset like this:***\n",
    "\n",
    "| customer_id | item_0_stars | item_1_stars | item_2_stars | item_3_stars |\n",
    "| ---         | ---    | ---    |---     | ---    |\n",
    "| 0           | 0    |  2   | 5    | 1    |\n",
    "| 1           | 4    |  5   | 2    | 4    |\n",
    "\n",
    "- When a customer is brand new (no history), this typically begins with a non-personalized system.\n",
    "    - *Check out our most popular stuff! It's so popular! You'll love it! Probably.*\n",
    "    \n",
    "    \n",
    "- Once a customer shows interest in a particular product, their preference and association with that product gets stored.\n",
    "    - *I see you liked product_X! People who liked product_X very often also like product_Y! You'll love it! Probably.*\n",
    "    \n",
    "    \n",
    "- *The more data a customer has stored, the more tailored the recommendations become.*\n",
    "    - *Buying a product gives us some (small) idea of what you like to buy!*\n",
    "    - *Buying lots of products gives us a good idea as to what you like to buy.*\n",
    "        - *Binning customers ... Clustering!*\n",
    "\n",
    "---\n",
    "\n",
    "- Content-Based and Customer-Based systems are based on the similarity of one item / customer to another.\n",
    "\n",
    "\n",
    "- Specifically, a Collaborative Filtering Recommendation System will use matrix decomposition into component pieces. These componend pieces can be thought of latent / inherent features of the items and users.\n",
    "\n",
    "<img src='./images/matrixfactorization.png'>\n",
    "\n",
    "> More on Matrix Factorization (Google's Recommendation Systems) and an interactive Colab Notebook: \n",
    ">\n",
    "> https://developers.google.com/machine-learning/recommendation/collaborative/matrix\n",
    ">\n",
    "> https://colab.research.google.com/github/google/eng-edu/blob/main/ml/recommendation-systems/recommendation-systems.ipynb?utm_source=ss-recommendation-systems&utm_campaign=colab-external&utm_medium=referral&utm_content=recommendation-systems#scrollTo=8vRUh2Mzo4s1\n",
    "\n",
    "---\n",
    "\n",
    "## Common Similarity Metrics\n",
    "\n",
    "- Euclidean Distance\n",
    "    - Simple distance metric based on two points represented in vector space.\n",
    "        - $\\sqrt{\\sum (q_i - p_i)^2}$\n",
    "- Jaccard Index\n",
    "    - A comparison of two sample sets.\n",
    "        - $\\large \\frac{Similarity}{Joined Sets}$ (or formally $\\large \\frac{|A \\cap B|}{|A \\cup B|}$)\n",
    "- Pearson Correlation\n",
    "    - Measures the *magnitude of association* between two samples.\n",
    "        - $\\large \\frac{\\sum (x_i - \\overline{x})(y_i - \\overline{y})}{\\sqrt{\\sum (x_i - \\overline{x})^2 \\sum (y_i - \\overline{y})^2}}$\n",
    "            - $x_i$ : Value $i$ in the x-sample.\n",
    "            - $\\overline{x}$ : Mean of the values in the x-sample."
   ]
  },
  {
   "cell_type": "markdown",
   "metadata": {},
   "source": [
    "<a id='write'></a>\n",
    "# Writing a Recommendation System"
   ]
  },
  {
   "cell_type": "code",
   "execution_count": 1,
   "metadata": {
    "ExecuteTime": {
     "end_time": "2021-04-16T19:38:05.600973Z",
     "start_time": "2021-04-16T19:37:59.951834Z"
    }
   },
   "outputs": [],
   "source": [
    "import numpy as np\n",
    "import pandas as pd\n",
    "import matplotlib.pyplot as plt\n",
    "import seaborn as sns"
   ]
  },
  {
   "cell_type": "code",
   "execution_count": 2,
   "metadata": {
    "ExecuteTime": {
     "end_time": "2021-04-16T19:38:05.605764Z",
     "start_time": "2021-04-16T19:38:05.603196Z"
    }
   },
   "outputs": [],
   "source": [
    "# Setting plot style.\n",
    "plt.style.use('seaborn-talk')"
   ]
  },
  {
   "cell_type": "code",
   "execution_count": 3,
   "metadata": {
    "ExecuteTime": {
     "end_time": "2021-04-16T19:38:05.688802Z",
     "start_time": "2021-04-16T19:38:05.608767Z"
    }
   },
   "outputs": [
    {
     "data": {
      "text/plain": [
       "(100000, 4)"
      ]
     },
     "execution_count": 3,
     "metadata": {},
     "output_type": "execute_result"
    }
   ],
   "source": [
    "# Data is a subset (100k-samples) from the dataset here:\n",
    "# https://www.kaggle.com/rounakbanik/the-movies-dataset?select=ratings.csv\n",
    "df = pd.read_csv('./data/ratings.csv', index_col=0)\n",
    "df.shape"
   ]
  },
  {
   "cell_type": "code",
   "execution_count": 4,
   "metadata": {
    "ExecuteTime": {
     "end_time": "2021-04-16T19:38:05.724164Z",
     "start_time": "2021-04-16T19:38:05.691028Z"
    }
   },
   "outputs": [
    {
     "data": {
      "text/html": [
       "<div>\n",
       "<style scoped>\n",
       "    .dataframe tbody tr th:only-of-type {\n",
       "        vertical-align: middle;\n",
       "    }\n",
       "\n",
       "    .dataframe tbody tr th {\n",
       "        vertical-align: top;\n",
       "    }\n",
       "\n",
       "    .dataframe thead th {\n",
       "        text-align: right;\n",
       "    }\n",
       "</style>\n",
       "<table border=\"1\" class=\"dataframe\">\n",
       "  <thead>\n",
       "    <tr style=\"text-align: right;\">\n",
       "      <th></th>\n",
       "      <th>userId</th>\n",
       "      <th>movieId</th>\n",
       "      <th>rating</th>\n",
       "      <th>timestamp</th>\n",
       "    </tr>\n",
       "  </thead>\n",
       "  <tbody>\n",
       "    <tr>\n",
       "      <th>8332275</th>\n",
       "      <td>85912</td>\n",
       "      <td>47044</td>\n",
       "      <td>3.0</td>\n",
       "      <td>1343124797</td>\n",
       "    </tr>\n",
       "    <tr>\n",
       "      <th>14064992</th>\n",
       "      <td>146155</td>\n",
       "      <td>908</td>\n",
       "      <td>3.5</td>\n",
       "      <td>1310362739</td>\n",
       "    </tr>\n",
       "    <tr>\n",
       "      <th>16493606</th>\n",
       "      <td>171469</td>\n",
       "      <td>1408</td>\n",
       "      <td>3.5</td>\n",
       "      <td>1119092725</td>\n",
       "    </tr>\n",
       "    <tr>\n",
       "      <th>16264251</th>\n",
       "      <td>169016</td>\n",
       "      <td>3362</td>\n",
       "      <td>4.0</td>\n",
       "      <td>1169756148</td>\n",
       "    </tr>\n",
       "    <tr>\n",
       "      <th>18318393</th>\n",
       "      <td>190098</td>\n",
       "      <td>2126</td>\n",
       "      <td>3.5</td>\n",
       "      <td>1267547039</td>\n",
       "    </tr>\n",
       "    <tr>\n",
       "      <th>...</th>\n",
       "      <td>...</td>\n",
       "      <td>...</td>\n",
       "      <td>...</td>\n",
       "      <td>...</td>\n",
       "    </tr>\n",
       "    <tr>\n",
       "      <th>3413740</th>\n",
       "      <td>35504</td>\n",
       "      <td>7173</td>\n",
       "      <td>2.5</td>\n",
       "      <td>1092615836</td>\n",
       "    </tr>\n",
       "    <tr>\n",
       "      <th>18274042</th>\n",
       "      <td>189575</td>\n",
       "      <td>4344</td>\n",
       "      <td>3.0</td>\n",
       "      <td>1156234840</td>\n",
       "    </tr>\n",
       "    <tr>\n",
       "      <th>23440699</th>\n",
       "      <td>243363</td>\n",
       "      <td>4232</td>\n",
       "      <td>5.0</td>\n",
       "      <td>1009937143</td>\n",
       "    </tr>\n",
       "    <tr>\n",
       "      <th>7094630</th>\n",
       "      <td>73229</td>\n",
       "      <td>91450</td>\n",
       "      <td>2.0</td>\n",
       "      <td>1470608941</td>\n",
       "    </tr>\n",
       "    <tr>\n",
       "      <th>3270914</th>\n",
       "      <td>33995</td>\n",
       "      <td>3060</td>\n",
       "      <td>1.0</td>\n",
       "      <td>953909692</td>\n",
       "    </tr>\n",
       "  </tbody>\n",
       "</table>\n",
       "<p>100000 rows × 4 columns</p>\n",
       "</div>"
      ],
      "text/plain": [
       "          userId  movieId  rating   timestamp\n",
       "8332275    85912    47044     3.0  1343124797\n",
       "14064992  146155      908     3.5  1310362739\n",
       "16493606  171469     1408     3.5  1119092725\n",
       "16264251  169016     3362     4.0  1169756148\n",
       "18318393  190098     2126     3.5  1267547039\n",
       "...          ...      ...     ...         ...\n",
       "3413740    35504     7173     2.5  1092615836\n",
       "18274042  189575     4344     3.0  1156234840\n",
       "23440699  243363     4232     5.0  1009937143\n",
       "7094630    73229    91450     2.0  1470608941\n",
       "3270914    33995     3060     1.0   953909692\n",
       "\n",
       "[100000 rows x 4 columns]"
      ]
     },
     "execution_count": 4,
     "metadata": {},
     "output_type": "execute_result"
    }
   ],
   "source": [
    "df"
   ]
  },
  {
   "cell_type": "markdown",
   "metadata": {},
   "source": [
    "## Exploration"
   ]
  },
  {
   "cell_type": "code",
   "execution_count": 5,
   "metadata": {
    "ExecuteTime": {
     "end_time": "2021-04-16T19:38:06.003075Z",
     "start_time": "2021-04-16T19:38:05.725987Z"
    }
   },
   "outputs": [
    {
     "data": {
      "image/png": "[encoded data removed]",
      "text/plain": [
       "<Figure size 432x432 with 1 Axes>"
      ]
     },
     "metadata": {
      "needs_background": "light"
     },
     "output_type": "display_data"
    }
   ],
   "source": [
    "# Count of Ratings.\n",
    "rating_counts = (df['rating']\n",
    "                 .value_counts()\n",
    "                 .reset_index()\n",
    "                 .sort_values('index'))\n",
    "rating_counts.columns = ['rating', 'count']\n",
    "\n",
    "fig, ax = plt.subplots(figsize=(6,6))\n",
    "sns.barplot(x='rating', y='count', data=rating_counts, color='tab:blue', ax=ax)\n",
    "ax.set(title='Rating Frequency', xlabel='Rating', ylabel='Count (Millions)')\n",
    "fig.tight_layout()"
   ]
  },
  {
   "cell_type": "code",
   "execution_count": 6,
   "metadata": {
    "ExecuteTime": {
     "end_time": "2021-04-16T19:38:06.009277Z",
     "start_time": "2021-04-16T19:38:06.004863Z"
    }
   },
   "outputs": [],
   "source": [
    "def show_stats_of(series):\n",
    "    \"\"\"Print summary info about a given series.\"\"\"\n",
    "    \n",
    "    n_ = series.shape[0]\n",
    "    mean_ = round(series.mean(), 2)\n",
    "    std_ = round(series.std(), 2)\n",
    "    min_ = round(series.min(), 2)\n",
    "    max_ = round(series.max(), 2)\n",
    "\n",
    "\n",
    "    print(f'Number of Instances:\\n\\t{n_}')\n",
    "    print(f'{series.name.title()}:')\n",
    "    print(f'\\tMean:              \\t{mean_}')\n",
    "    print(f'\\tStandard Deviation:\\t{std_}')\n",
    "    print(f'\\tMinimum:           \\t{min_}')\n",
    "    print(f'\\tMaximum:           \\t{max_}')"
   ]
  },
  {
   "cell_type": "code",
   "execution_count": 7,
   "metadata": {
    "ExecuteTime": {
     "end_time": "2021-04-16T19:38:06.034610Z",
     "start_time": "2021-04-16T19:38:06.010936Z"
    },
    "scrolled": true
   },
   "outputs": [
    {
     "name": "stdout",
     "output_type": "stream",
     "text": [
      "Number of Instances:\n",
      "\t58295\n",
      "Number Of Ratings Given:\n",
      "\tMean:              \t1.72\n",
      "\tStandard Deviation:\t1.55\n",
      "\tMinimum:           \t1\n",
      "\tMaximum:           \t71\n"
     ]
    }
   ],
   "source": [
    "# Users\n",
    "count_by_user = df.groupby('userId').count()['movieId']\n",
    "count_by_user.name = 'Number of Ratings Given'\n",
    "\n",
    "show_stats_of(count_by_user)"
   ]
  },
  {
   "cell_type": "code",
   "execution_count": 8,
   "metadata": {
    "ExecuteTime": {
     "end_time": "2021-04-16T19:38:06.048787Z",
     "start_time": "2021-04-16T19:38:06.038829Z"
    }
   },
   "outputs": [
    {
     "name": "stdout",
     "output_type": "stream",
     "text": [
      "Number of Instances:\n",
      "\t9491\n",
      "Number Of Ratings Received:\n",
      "\tMean:              \t10.54\n",
      "\tStandard Deviation:\t23.84\n",
      "\tMinimum:           \t1\n",
      "\tMaximum:           \t383\n"
     ]
    }
   ],
   "source": [
    "# Movies\n",
    "count_by_movie = df.groupby('movieId').count()['userId']\n",
    "count_by_movie.name = 'Number of Ratings Received'\n",
    "\n",
    "show_stats_of(count_by_movie)"
   ]
  },
  {
   "cell_type": "markdown",
   "metadata": {},
   "source": [
    "> *One of the easiest libraries to use for recommendation systems is Surprise, which stands for **Simple Python Recommendation System Engine**. Here, we'll code a recommendation system using the Surprise Library's Singular Value Decomposition (SVD) algorithm.*\n",
    "> \n",
    "> *SVD is a Collaborative Filtering system.*\n",
    "> \n",
    "> *To read more about Surprise's SVD implementation, and its hyperparameters:*\n",
    "> *https://surprise.readthedocs.io/en/stable/matrix_factorization.html#surprise.prediction_algorithms.matrix_factorization.SVD*\n",
    ">\n",
    "\n",
    "## Scikit Surprise\n",
    "\n",
    "> *Surprise is a Python scikit for building and analyzing recommender systems that deal with explicit rating data.*\n",
    ">\n",
    "> http://surpriselib.com/"
   ]
  },
  {
   "cell_type": "code",
   "execution_count": 9,
   "metadata": {
    "ExecuteTime": {
     "end_time": "2021-04-16T19:38:07.102798Z",
     "start_time": "2021-04-16T19:38:06.051482Z"
    }
   },
   "outputs": [],
   "source": [
    "from surprise import Dataset, Reader\n",
    "from surprise import SVD # Singular Value Decomposition\n",
    "from surprise import accuracy\n",
    "from surprise.model_selection import KFold, train_test_split, cross_validate"
   ]
  },
  {
   "cell_type": "code",
   "execution_count": 10,
   "metadata": {
    "ExecuteTime": {
     "end_time": "2021-04-16T19:38:07.256053Z",
     "start_time": "2021-04-16T19:38:07.104620Z"
    }
   },
   "outputs": [
    {
     "data": {
      "text/plain": [
       "<surprise.dataset.DatasetAutoFolds at 0x7fcdf3569b00>"
      ]
     },
     "execution_count": 10,
     "metadata": {},
     "output_type": "execute_result"
    }
   ],
   "source": [
    "# Recenter data.\n",
    "subset_data = df[['userId', 'movieId', 'rating']].copy()\n",
    "reader = Reader(sep=',')\n",
    "\n",
    "data = Dataset.load_from_df(subset_data, reader=reader)\n",
    "data"
   ]
  },
  {
   "cell_type": "code",
   "execution_count": 11,
   "metadata": {
    "ExecuteTime": {
     "end_time": "2021-04-16T19:38:07.261123Z",
     "start_time": "2021-04-16T19:38:07.257839Z"
    }
   },
   "outputs": [
    {
     "data": {
      "text/plain": [
       "<surprise.model_selection.split.KFold at 0x7fcdf2711390>"
      ]
     },
     "execution_count": 11,
     "metadata": {},
     "output_type": "execute_result"
    }
   ],
   "source": [
    "# KFold\n",
    "kf = KFold(random_state=51)\n",
    "kf"
   ]
  },
  {
   "cell_type": "code",
   "execution_count": 12,
   "metadata": {
    "ExecuteTime": {
     "end_time": "2021-04-16T19:38:30.577283Z",
     "start_time": "2021-04-16T19:38:07.262787Z"
    }
   },
   "outputs": [
    {
     "name": "stdout",
     "output_type": "stream",
     "text": [
      "RMSE: 0.9858\n",
      "RMSE: 0.9819\n",
      "RMSE: 0.9809\n",
      "RMSE: 0.9905\n",
      "RMSE: 0.9793\n"
     ]
    }
   ],
   "source": [
    "# Create SVD\n",
    "svd = SVD()\n",
    "\n",
    "# Fit on folds.\n",
    "for trainset, testset in kf.split(data):\n",
    "    svd.fit(trainset)\n",
    "    predictions = svd.test(testset)\n",
    "    \n",
    "    accuracy.rmse(predictions, verbose=True)"
   ]
  },
  {
   "cell_type": "markdown",
   "metadata": {},
   "source": [
    "## Predicting"
   ]
  },
  {
   "cell_type": "code",
   "execution_count": 13,
   "metadata": {
    "ExecuteTime": {
     "end_time": "2021-04-16T19:38:35.354603Z",
     "start_time": "2021-04-16T19:38:30.579590Z"
    }
   },
   "outputs": [],
   "source": [
    "# Train test split\n",
    "trainset, testset = train_test_split(data, test_size=0.2, random_state=51)\n",
    "\n",
    "# Create and fit.\n",
    "svd = SVD()\n",
    "svd.fit(trainset)\n",
    "\n",
    "# Get predictions\n",
    "predictions = svd.test(testset) # Not `predict`"
   ]
  },
  {
   "cell_type": "code",
   "execution_count": 14,
   "metadata": {
    "ExecuteTime": {
     "end_time": "2021-04-16T19:38:35.358630Z",
     "start_time": "2021-04-16T19:38:35.356642Z"
    }
   },
   "outputs": [],
   "source": [
    "# predictions"
   ]
  },
  {
   "cell_type": "code",
   "execution_count": 15,
   "metadata": {
    "ExecuteTime": {
     "end_time": "2021-04-16T19:38:35.381156Z",
     "start_time": "2021-04-16T19:38:35.360534Z"
    }
   },
   "outputs": [
    {
     "data": {
      "text/plain": [
       "0.9786518775760235"
      ]
     },
     "execution_count": 15,
     "metadata": {},
     "output_type": "execute_result"
    }
   ],
   "source": [
    "accuracy.rmse(predictions, verbose=False)"
   ]
  },
  {
   "cell_type": "markdown",
   "metadata": {},
   "source": [
    "### What do predictions look like?"
   ]
  },
  {
   "cell_type": "code",
   "execution_count": 16,
   "metadata": {
    "ExecuteTime": {
     "end_time": "2021-04-16T19:38:35.386392Z",
     "start_time": "2021-04-16T19:38:35.382990Z"
    }
   },
   "outputs": [
    {
     "data": {
      "text/plain": [
       "[Prediction(uid=257993, iid=112552, r_ui=4.5, est=3.8456411845713565, details={'was_impossible': False}),\n",
       " Prediction(uid=91526, iid=1573, r_ui=3.5, est=3.1217381615088935, details={'was_impossible': False}),\n",
       " Prediction(uid=98206, iid=7438, r_ui=2.5, est=3.626509597079614, details={'was_impossible': False}),\n",
       " Prediction(uid=248656, iid=1381, r_ui=3.0, est=2.7859057020271023, details={'was_impossible': False}),\n",
       " Prediction(uid=94265, iid=161, r_ui=1.0, est=3.587889052897804, details={'was_impossible': False})]"
      ]
     },
     "execution_count": 16,
     "metadata": {},
     "output_type": "execute_result"
    }
   ],
   "source": [
    "predictions[:5]"
   ]
  },
  {
   "cell_type": "code",
   "execution_count": 17,
   "metadata": {
    "ExecuteTime": {
     "end_time": "2021-04-16T19:38:35.392188Z",
     "start_time": "2021-04-16T19:38:35.388586Z"
    }
   },
   "outputs": [
    {
     "data": {
      "text/plain": [
       "Prediction(uid=5, iid=141, r_ui=None, est=3.488300564455451, details={'was_impossible': False})"
      ]
     },
     "execution_count": 17,
     "metadata": {},
     "output_type": "execute_result"
    }
   ],
   "source": [
    "USER = 5\n",
    "ITEM = 141\n",
    "svd.predict(USER, ITEM)"
   ]
  },
  {
   "cell_type": "code",
   "execution_count": null,
   "metadata": {},
   "outputs": [],
   "source": []
  }
 ],
 "metadata": {
  "kernelspec": {
   "display_name": "Python [conda env:learn-env] *",
   "language": "python",
   "name": "conda-env-learn-env-py"
  },
  "language_info": {
   "codemirror_mode": {
    "name": "ipython",
    "version": 3
   },
   "file_extension": ".py",
   "mimetype": "text/x-python",
   "name": "python",
   "nbconvert_exporter": "python",
   "pygments_lexer": "ipython3",
   "version": "3.6.9"
  },
  "toc": {
   "base_numbering": 1,
   "nav_menu": {},
   "number_sections": false,
   "sideBar": true,
   "skip_h1_title": false,
   "title_cell": "Table of Contents",
   "title_sidebar": "Contents",
   "toc_cell": false,
   "toc_position": {
    "height": "calc(100% - 180px)",
    "left": "10px",
    "top": "150px",
    "width": "255.391px"
   },
   "toc_section_display": true,
   "toc_window_display": true
  }
 },
 "nbformat": 4,
 "nbformat_minor": 2
}
