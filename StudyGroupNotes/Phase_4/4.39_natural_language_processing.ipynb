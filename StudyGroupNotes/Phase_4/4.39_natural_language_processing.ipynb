{
 "cells": [
  {
   "cell_type": "markdown",
   "metadata": {},
   "source": [
    "## Phase 4.39\n",
    "\n",
    "#  Natural Language Processing\n",
    "\n",
    "## Objectives\n",
    "- <a href='#intro'>Introduce</a> Natural Language Processing.\n",
    "- Look at some of the common <a href='#preprocessing'>Preprocessing Techniques</a>.\n",
    "- Look at two ways to <a href='#engineering'>represent text</a> data in a DataFrame.\n",
    "\n",
    "\n",
    "- <a href='#modeling'>Practice</a> using these processing skills and train several Bayes models.\n",
    "\n",
    "<a id='intro'></a>\n",
    "# NLP: Intro\n",
    "> *Analytics tasks that deal with natural human language, in the form of text or speech.*\n",
    "\n",
    "- Language Processing is used to allow computers to interact with text data (`string` data).\n",
    "- Since *strings*' meanings are not interpreted by computers, we need to process our data in a way that is understandable.\n",
    "\n",
    "<img src='./images/word_math.png'>\n",
    "\n",
    "- *In order to understand these word-relationships, a computer will need accurate vector-representations of each word.*\n",
    "\n",
    "\n",
    "- *Other common methods of text analysis include **bag of words**, **term frequency-inverse document frequency** (TF-IDF), **word embedding**,  **sequence modeling**.*\n",
    "\n",
    "\n",
    "## Where is NLP Used?\n",
    "- Customer reviews (*Sentiment Analysis*)\n",
    "- AI Assistants / Chatbots\n",
    "- Voice-to-Text\n",
    "- Spam Detection\n",
    "\n",
    "## Overview\n",
    "\n",
    "<img src='./images/overview_nlp.png' width=600>"
   ]
  },
  {
   "cell_type": "code",
   "execution_count": 1,
   "metadata": {
    "ExecuteTime": {
     "end_time": "2021-10-06T18:53:51.341611Z",
     "start_time": "2021-10-06T18:53:48.359967Z"
    }
   },
   "outputs": [],
   "source": [
    "import nltk\n",
    "\n",
    "import pandas as pd\n",
    "import numpy as np\n",
    "import matplotlib.pyplot as plt\n",
    "%matplotlib inline"
   ]
  },
  {
   "cell_type": "code",
   "execution_count": 2,
   "metadata": {
    "ExecuteTime": {
     "end_time": "2021-10-06T18:54:17.995315Z",
     "start_time": "2021-10-06T18:54:17.669236Z"
    }
   },
   "outputs": [
    {
     "name": "stderr",
     "output_type": "stream",
     "text": [
      "[nltk_data] Downloading package stopwords to\n",
      "[nltk_data]     /Users/claudefried/nltk_data...\n",
      "[nltk_data]   Package stopwords is already up-to-date!\n",
      "[nltk_data] Downloading package punkt to\n",
      "[nltk_data]     /Users/claudefried/nltk_data...\n",
      "[nltk_data]   Package punkt is already up-to-date!\n",
      "[nltk_data] Downloading package wordnet to\n",
      "[nltk_data]     /Users/claudefried/nltk_data...\n",
      "[nltk_data]   Package wordnet is already up-to-date!\n"
     ]
    },
    {
     "data": {
      "text/plain": [
       "True"
      ]
     },
     "execution_count": 2,
     "metadata": {},
     "output_type": "execute_result"
    }
   ],
   "source": [
    "nltk.download('stopwords')\n",
    "nltk.download('punkt')\n",
    "nltk.download('wordnet')"
   ]
  },
  {
   "cell_type": "code",
   "execution_count": 3,
   "metadata": {
    "ExecuteTime": {
     "end_time": "2021-10-06T18:54:31.719545Z",
     "start_time": "2021-10-06T18:54:31.716459Z"
    }
   },
   "outputs": [],
   "source": [
    "plt.style.use('seaborn-talk')"
   ]
  },
  {
   "cell_type": "markdown",
   "metadata": {},
   "source": [
    "<a id='preprocessing'></a>\n",
    "# Preprocessing"
   ]
  },
  {
   "cell_type": "code",
   "execution_count": 4,
   "metadata": {
    "ExecuteTime": {
     "end_time": "2021-10-06T18:55:34.080739Z",
     "start_time": "2021-10-06T18:55:34.077861Z"
    }
   },
   "outputs": [],
   "source": [
    "REVIEW = '''From the beginning of the movie, it gives the feeling the director \n",
    "is trying to portray something, what I mean to say that instead of the story \n",
    "dictating the style in which the movie should be made, he has gone in the \n",
    "opposite way, he had a type of move that he wanted to make, and wrote a story \n",
    "to suite it. And he has failed in it very badly. I guess he was trying to make \n",
    "a stylish movie. Any way I think this movie is a total waste of time and effort. \n",
    "In the credit of the director, he knows the media that he is working with, what \n",
    "I am trying to say is I have seen worst movies than this. Here at least the \n",
    "director knows to maintain the continuity in the movie. And the actors also have \n",
    "given a decent performance.'''"
   ]
  },
  {
   "cell_type": "code",
   "execution_count": 5,
   "metadata": {
    "ExecuteTime": {
     "end_time": "2021-10-06T18:55:37.214228Z",
     "start_time": "2021-10-06T18:55:37.210180Z"
    }
   },
   "outputs": [
    {
     "data": {
      "text/plain": [
       "'From the beginning of the movie, it gives the feeling the director \\nis trying to portray something, what I mean to say that instead of the story \\ndictating the style in which the movie should be made, he has gone in the \\nopposite way, he had a type of move that he wanted to make, and wrote a story \\nto suite it. And he has failed in it very badly. I guess he was trying to make \\na stylish movie. Any way I think this movie is a total waste of time and effort. \\nIn the credit of the director, he knows the media that he is working with, what \\nI am trying to say is I have seen worst movies than this. Here at least the \\ndirector knows to maintain the continuity in the movie. And the actors also have \\ngiven a decent performance.'"
      ]
     },
     "execution_count": 5,
     "metadata": {},
     "output_type": "execute_result"
    }
   ],
   "source": [
    "REVIEW"
   ]
  },
  {
   "cell_type": "markdown",
   "metadata": {},
   "source": [
    "## Tokenization\n",
    "\n",
    "- Tokenization is the process of splitting documents into units of observations. \n",
    "- We usually represent the tokens as **$n$-gram**, where n represents the consecutive words occurring in a document. \n",
    "- Most often, tokenization is a **unigram** representation ($n = 1$)\n",
    "\n",
    "> *Ex:*\n",
    "> ```python\n",
    "> s = 'George lives here'\n",
    "> \n",
    "> # 1\n",
    "> ['George', 'lives', 'here']\n",
    "> \n",
    "> # 2\n",
    "> ['George lives', 'lives here']\n",
    "> \n",
    "> # 3\n",
    "> ['George lives here']\n",
    "> ```"
   ]
  },
  {
   "cell_type": "code",
   "execution_count": 6,
   "metadata": {
    "ExecuteTime": {
     "end_time": "2021-10-06T18:57:00.020967Z",
     "start_time": "2021-10-06T18:57:00.017774Z"
    }
   },
   "outputs": [],
   "source": [
    "from nltk.tokenize import RegexpTokenizer\n",
    "from nltk.probability import FreqDist"
   ]
  },
  {
   "cell_type": "code",
   "execution_count": 8,
   "metadata": {
    "ExecuteTime": {
     "end_time": "2021-10-06T18:57:27.472543Z",
     "start_time": "2021-10-06T18:57:27.464908Z"
    }
   },
   "outputs": [
    {
     "data": {
      "text/plain": [
       "['From',\n",
       " 'the',\n",
       " 'beginning',\n",
       " 'of',\n",
       " 'the',\n",
       " 'movie',\n",
       " 'it',\n",
       " 'gives',\n",
       " 'the',\n",
       " 'feeling',\n",
       " 'the',\n",
       " 'director',\n",
       " 'is',\n",
       " 'trying',\n",
       " 'to',\n",
       " 'portray',\n",
       " 'something',\n",
       " 'what',\n",
       " 'I',\n",
       " 'mean',\n",
       " 'to',\n",
       " 'say',\n",
       " 'that',\n",
       " 'instead',\n",
       " 'of',\n",
       " 'the',\n",
       " 'story',\n",
       " 'dictating',\n",
       " 'the',\n",
       " 'style',\n",
       " 'in',\n",
       " 'which',\n",
       " 'the',\n",
       " 'movie',\n",
       " 'should',\n",
       " 'be',\n",
       " 'made',\n",
       " 'he',\n",
       " 'has',\n",
       " 'gone',\n",
       " 'in',\n",
       " 'the',\n",
       " 'opposite',\n",
       " 'way',\n",
       " 'he',\n",
       " 'had',\n",
       " 'a',\n",
       " 'type',\n",
       " 'of',\n",
       " 'move',\n",
       " 'that',\n",
       " 'he',\n",
       " 'wanted',\n",
       " 'to',\n",
       " 'make',\n",
       " 'and',\n",
       " 'wrote',\n",
       " 'a',\n",
       " 'story',\n",
       " 'to',\n",
       " 'suite',\n",
       " 'it',\n",
       " 'And',\n",
       " 'he',\n",
       " 'has',\n",
       " 'failed',\n",
       " 'in',\n",
       " 'it',\n",
       " 'very',\n",
       " 'badly',\n",
       " 'I',\n",
       " 'guess',\n",
       " 'he',\n",
       " 'was',\n",
       " 'trying',\n",
       " 'to',\n",
       " 'make',\n",
       " 'a',\n",
       " 'stylish',\n",
       " 'movie',\n",
       " 'Any',\n",
       " 'way',\n",
       " 'I',\n",
       " 'think',\n",
       " 'this',\n",
       " 'movie',\n",
       " 'is',\n",
       " 'a',\n",
       " 'total',\n",
       " 'waste',\n",
       " 'of',\n",
       " 'time',\n",
       " 'and',\n",
       " 'effort',\n",
       " 'In',\n",
       " 'the',\n",
       " 'credit',\n",
       " 'of',\n",
       " 'the',\n",
       " 'director',\n",
       " 'he',\n",
       " 'knows',\n",
       " 'the',\n",
       " 'media',\n",
       " 'that',\n",
       " 'he',\n",
       " 'is',\n",
       " 'working',\n",
       " 'with',\n",
       " 'what',\n",
       " 'I',\n",
       " 'am',\n",
       " 'trying',\n",
       " 'to',\n",
       " 'say',\n",
       " 'is',\n",
       " 'I',\n",
       " 'have',\n",
       " 'seen',\n",
       " 'worst',\n",
       " 'movies',\n",
       " 'than',\n",
       " 'this',\n",
       " 'Here',\n",
       " 'at',\n",
       " 'least',\n",
       " 'the',\n",
       " 'director',\n",
       " 'knows',\n",
       " 'to',\n",
       " 'maintain',\n",
       " 'the',\n",
       " 'continuity',\n",
       " 'in',\n",
       " 'the',\n",
       " 'movie',\n",
       " 'And',\n",
       " 'the',\n",
       " 'actors',\n",
       " 'also',\n",
       " 'have',\n",
       " 'given',\n",
       " 'a',\n",
       " 'decent',\n",
       " 'performance']"
      ]
     },
     "execution_count": 8,
     "metadata": {},
     "output_type": "execute_result"
    }
   ],
   "source": [
    "tokenizer = RegexpTokenizer(r'[a-zA-Z0-9]+')\n",
    "tokenized_review = tokenizer.tokenize(REVIEW)\n",
    "\n",
    "tokenized_review"
   ]
  },
  {
   "cell_type": "code",
   "execution_count": 9,
   "metadata": {
    "ExecuteTime": {
     "end_time": "2021-10-06T18:59:30.035266Z",
     "start_time": "2021-10-06T18:59:30.030065Z"
    }
   },
   "outputs": [
    {
     "data": {
      "text/plain": [
       "FreqDist({'the': 15, 'to': 7, 'he': 7, 'of': 5, 'movie': 5, 'I': 5, 'a': 5, 'is': 4, 'in': 4, 'it': 3, ...})"
      ]
     },
     "execution_count": 9,
     "metadata": {},
     "output_type": "execute_result"
    }
   ],
   "source": [
    "fd = FreqDist(tokenized_review)\n",
    "fd"
   ]
  },
  {
   "cell_type": "code",
   "execution_count": 10,
   "metadata": {
    "ExecuteTime": {
     "end_time": "2021-10-06T19:00:09.742523Z",
     "start_time": "2021-10-06T19:00:09.461992Z"
    }
   },
   "outputs": [
    {
     "data": {
      "image/png": "[encoded data removed]",
      "text/plain": [
       "<Figure size 748.8x514.8 with 1 Axes>"
      ]
     },
     "metadata": {
      "needs_background": "light"
     },
     "output_type": "display_data"
    }
   ],
   "source": [
    "freq_df = pd.DataFrame(\n",
    "    FreqDist(tokenized_review).items(),\n",
    "    columns=['word', 'frequency'])\n",
    "freq_df.sort_values('frequency', inplace=True)\n",
    "\n",
    "fig, ax = plt.subplots()\n",
    "ax.barh(freq_df['word'].tail(10), freq_df['frequency'].tail(10))\n",
    "ax.set(title='Raw: Word Frequency')\n",
    "fig.tight_layout()"
   ]
  },
  {
   "cell_type": "markdown",
   "metadata": {},
   "source": [
    "***Nobody cares about that graph.***"
   ]
  },
  {
   "cell_type": "markdown",
   "metadata": {},
   "source": [
    "## Stopwords\n",
    "\n",
    "- Stopwords are a set of commonly used words `(it, the, is, a, an ...)` which do not add much or any substance to the sentence (semantically meaningless)."
   ]
  },
  {
   "cell_type": "code",
   "execution_count": 11,
   "metadata": {
    "ExecuteTime": {
     "end_time": "2021-10-06T19:01:18.124897Z",
     "start_time": "2021-10-06T19:01:18.121320Z"
    }
   },
   "outputs": [],
   "source": [
    "from nltk.corpus import stopwords"
   ]
  },
  {
   "cell_type": "code",
   "execution_count": 12,
   "metadata": {
    "ExecuteTime": {
     "end_time": "2021-10-06T19:01:22.824823Z",
     "start_time": "2021-10-06T19:01:22.815071Z"
    }
   },
   "outputs": [
    {
     "data": {
      "text/plain": [
       "['i', 'me', 'my', 'myself', 'we']"
      ]
     },
     "execution_count": 12,
     "metadata": {},
     "output_type": "execute_result"
    }
   ],
   "source": [
    "stopwords.words('english')[:5]"
   ]
  },
  {
   "cell_type": "code",
   "execution_count": 13,
   "metadata": {
    "ExecuteTime": {
     "end_time": "2021-10-06T19:03:07.084891Z",
     "start_time": "2021-10-06T19:03:07.080051Z"
    }
   },
   "outputs": [
    {
     "name": "stdout",
     "output_type": "stream",
     "text": [
      "Tokenized: 145\n",
      "Filtered: 61\n"
     ]
    }
   ],
   "source": [
    "# Creating a set for lookup efficiency\n",
    "stopwords_set = set(stopwords.words('english'))\n",
    "\n",
    "filtered_review = list(filter(lambda x: x.lower() not in stopwords_set, \n",
    "                              tokenized_review))\n",
    "print('Tokenized:', len(tokenized_review))\n",
    "print('Filtered:', len(filtered_review))"
   ]
  },
  {
   "cell_type": "code",
   "execution_count": 14,
   "metadata": {
    "ExecuteTime": {
     "end_time": "2021-10-06T19:03:33.345940Z",
     "start_time": "2021-10-06T19:03:33.120866Z"
    }
   },
   "outputs": [
    {
     "data": {
      "image/png": "[encoded data removed]",
      "text/plain": [
       "<Figure size 748.8x514.8 with 1 Axes>"
      ]
     },
     "metadata": {
      "needs_background": "light"
     },
     "output_type": "display_data"
    }
   ],
   "source": [
    "freq_df = pd.DataFrame(\n",
    "    FreqDist(filtered_review).items(),\n",
    "    columns=['word', 'frequency'])\n",
    "freq_df.sort_values('frequency', inplace=True)\n",
    "\n",
    "fig, ax = plt.subplots()\n",
    "ax.barh(freq_df['word'].tail(10), freq_df['frequency'].tail(10))\n",
    "ax.set(title='Filtered Stop Words: Word Frequency')\n",
    "fig.tight_layout()"
   ]
  },
  {
   "cell_type": "markdown",
   "metadata": {},
   "source": [
    "## Noise in Text Data\n",
    "Like all other data, text data can be filled with noise. Some if the noise comes from typos, character encoding, urls, etc. However, some noise is a part of language as we know it. \n",
    "> *For example, `collect, collection, collected, collecting` are all considered completely independent words even though we know they are related.*\n",
    "\n",
    "There are ways to deal with this latter type of noise. Below we will look at two very popular methods.\n",
    "\n",
    "\n",
    "### Stemming\n",
    "Stemming is a process used in order to identify the \"stem\" of the word and therefore bin words together.\n",
    "\n",
    "*Stems* are created by removing the suffixes or prefixes used with a word.\n",
    "\n",
    "<img src='./images/stemming.png' width=300>"
   ]
  },
  {
   "cell_type": "code",
   "execution_count": 15,
   "metadata": {
    "ExecuteTime": {
     "end_time": "2021-10-06T19:07:11.690804Z",
     "start_time": "2021-10-06T19:07:11.687955Z"
    }
   },
   "outputs": [],
   "source": [
    "from nltk.stem import PorterStemmer"
   ]
  },
  {
   "cell_type": "code",
   "execution_count": 16,
   "metadata": {
    "ExecuteTime": {
     "end_time": "2021-10-06T19:08:20.000880Z",
     "start_time": "2021-10-06T19:08:19.998521Z"
    }
   },
   "outputs": [],
   "source": [
    "stemmer = PorterStemmer()"
   ]
  },
  {
   "cell_type": "code",
   "execution_count": 17,
   "metadata": {
    "ExecuteTime": {
     "end_time": "2021-10-06T19:08:26.158623Z",
     "start_time": "2021-10-06T19:08:26.154311Z"
    }
   },
   "outputs": [],
   "source": [
    "# Define function to print pretty.\n",
    "def format_string(s1, s2, length=25, character='-'):\n",
    "    \"\"\"\n",
    "    Return a combination of two strings to be a given length \n",
    "    separated by a given character.\n",
    "    \"\"\"\n",
    "    \n",
    "    num_given_characters = len(s1) + len(s2)\n",
    "    if num_given_characters > length:\n",
    "        return f'{s1} {s2}'\n",
    "    \n",
    "    middle = character * (length - num_given_characters - 2)\n",
    "    return f'{s1} {middle} {s2}'"
   ]
  },
  {
   "cell_type": "code",
   "execution_count": 18,
   "metadata": {
    "ExecuteTime": {
     "end_time": "2021-10-06T19:08:51.327019Z",
     "start_time": "2021-10-06T19:08:51.319898Z"
    }
   },
   "outputs": [
    {
     "name": "stdout",
     "output_type": "stream",
     "text": [
      "ORIGINAL ----------- STEM\n",
      " *********************** \n",
      "beginning --------- begin\n",
      "movie -------------- movi\n",
      "gives -------------- give\n",
      "feeling ------------ feel\n",
      "trying -------------- tri\n",
      "something -------- someth\n",
      "story ------------- stori\n",
      "dictating -------- dictat\n",
      "movie -------------- movi\n",
      "opposite -------- opposit\n",
      "wanted ------------- want\n",
      "story ------------- stori\n",
      "suite -------------- suit\n",
      "failed ------------- fail\n",
      "badly ------------- badli\n",
      "trying -------------- tri\n",
      "movie -------------- movi\n",
      "movie -------------- movi\n",
      "waste -------------- wast\n",
      "knows -------------- know\n",
      "working ------------ work\n",
      "trying -------------- tri\n",
      "movies ------------- movi\n",
      "knows -------------- know\n",
      "continuity ------ continu\n",
      "movie -------------- movi\n",
      "actors ------------ actor\n",
      "performance ----- perform\n"
     ]
    }
   ],
   "source": [
    "# Show stemming process.\n",
    "print(format_string('ORIGINAL', 'STEM'))\n",
    "print(format_string('', '', character='*'))\n",
    "\n",
    "for word in filtered_review:\n",
    "    stemmed_word = stemmer.stem(word)\n",
    "    if stemmed_word != word:\n",
    "        print(format_string(word, stemmed_word))"
   ]
  },
  {
   "cell_type": "code",
   "execution_count": 19,
   "metadata": {
    "ExecuteTime": {
     "end_time": "2021-10-06T19:10:33.064803Z",
     "start_time": "2021-10-06T19:10:32.826911Z"
    }
   },
   "outputs": [
    {
     "data": {
      "image/png": "[encoded data removed]",
      "text/plain": [
       "<Figure size 748.8x514.8 with 1 Axes>"
      ]
     },
     "metadata": {
      "needs_background": "light"
     },
     "output_type": "display_data"
    }
   ],
   "source": [
    "# Plot stemmed word frequency.\n",
    "stemmed_review = [stemmer.stem(w) for w in filtered_review]\n",
    "\n",
    "freq_df = pd.DataFrame(\n",
    "    FreqDist(stemmed_review).items(),\n",
    "    columns=['word', 'frequency'])\n",
    "freq_df.sort_values('frequency', inplace=True)\n",
    "\n",
    "fig, ax = plt.subplots()\n",
    "ax.barh(freq_df['word'].tail(10), freq_df['frequency'].tail(10))\n",
    "ax.set(title='Stemming: Word Frequency')\n",
    "fig.tight_layout()"
   ]
  },
  {
   "cell_type": "markdown",
   "metadata": {},
   "source": [
    "### Lemmatization\n",
    "\n",
    "Lemmatizing is a very similar process to *Stemming* besides a key difference: it returns actual words. It is a more involved (smarter) process. \n",
    "- In Lemmatization, the root word is called Lemma.\n",
    "- *A lemma (plural lemmas or lemmata) is the canonical form, dictionary form, or citation form of a set of words.*\n",
    "\n",
    "<img src='./images/lemmatization.png' width=300>"
   ]
  },
  {
   "cell_type": "code",
   "execution_count": 20,
   "metadata": {
    "ExecuteTime": {
     "end_time": "2021-10-06T19:13:04.731088Z",
     "start_time": "2021-10-06T19:13:04.728263Z"
    }
   },
   "outputs": [],
   "source": [
    "from nltk.stem import WordNetLemmatizer"
   ]
  },
  {
   "cell_type": "code",
   "execution_count": 21,
   "metadata": {
    "ExecuteTime": {
     "end_time": "2021-10-06T19:13:21.268986Z",
     "start_time": "2021-10-06T19:13:21.266291Z"
    }
   },
   "outputs": [],
   "source": [
    "lemmatizer = WordNetLemmatizer()"
   ]
  },
  {
   "cell_type": "code",
   "execution_count": 22,
   "metadata": {
    "ExecuteTime": {
     "end_time": "2021-10-06T19:13:27.977391Z",
     "start_time": "2021-10-06T19:13:26.158066Z"
    }
   },
   "outputs": [
    {
     "name": "stdout",
     "output_type": "stream",
     "text": [
      "ORIGINAL -- LEMMATIZATION\n",
      " *********************** \n",
      "gives -------------- give\n",
      "knows -------------- know\n",
      "media ------------ medium\n",
      "movies ------------ movie\n",
      "knows -------------- know\n",
      "actors ------------ actor\n"
     ]
    }
   ],
   "source": [
    "# Show lemmatizing process.\n",
    "print(format_string('ORIGINAL', 'LEMMATIZATION'))\n",
    "print(format_string('', '', character='*'))\n",
    "\n",
    "for word in filtered_review:\n",
    "    lemmatized_word = lemmatizer.lemmatize(word)\n",
    "    if lemmatized_word != word:\n",
    "        print(format_string(word, lemmatized_word))"
   ]
  },
  {
   "cell_type": "code",
   "execution_count": 23,
   "metadata": {
    "ExecuteTime": {
     "end_time": "2021-10-06T19:13:51.190584Z",
     "start_time": "2021-10-06T19:13:50.941085Z"
    }
   },
   "outputs": [
    {
     "data": {
      "image/png": "[encoded data removed]",
      "text/plain": [
       "<Figure size 748.8x514.8 with 1 Axes>"
      ]
     },
     "metadata": {
      "needs_background": "light"
     },
     "output_type": "display_data"
    }
   ],
   "source": [
    "# Plot lemmatized word frequency.\n",
    "lemmatized_review = [lemmatizer.lemmatize(w) for w in filtered_review]\n",
    "\n",
    "freq_df = pd.DataFrame(\n",
    "    FreqDist(lemmatized_review).items(),\n",
    "    columns=['word', 'frequency'])\n",
    "freq_df.sort_values('frequency', inplace=True)\n",
    "\n",
    "fig, ax = plt.subplots()\n",
    "ax.barh(freq_df['word'].tail(10), freq_df['frequency'].tail(10))\n",
    "ax.set(title='Lemmatizing: Word Frequency')\n",
    "fig.tight_layout()"
   ]
  },
  {
   "cell_type": "code",
   "execution_count": 24,
   "metadata": {
    "ExecuteTime": {
     "end_time": "2021-10-06T19:14:31.229546Z",
     "start_time": "2021-10-06T19:14:31.224872Z"
    },
    "scrolled": true
   },
   "outputs": [
    {
     "data": {
      "text/plain": [
       "['beginning',\n",
       " 'movie',\n",
       " 'give',\n",
       " 'feeling',\n",
       " 'director',\n",
       " 'trying',\n",
       " 'portray',\n",
       " 'something',\n",
       " 'mean',\n",
       " 'say',\n",
       " 'instead',\n",
       " 'story',\n",
       " 'dictating',\n",
       " 'style',\n",
       " 'movie',\n",
       " 'made',\n",
       " 'gone',\n",
       " 'opposite',\n",
       " 'way',\n",
       " 'type',\n",
       " 'move',\n",
       " 'wanted',\n",
       " 'make',\n",
       " 'wrote',\n",
       " 'story',\n",
       " 'suite',\n",
       " 'failed',\n",
       " 'badly',\n",
       " 'guess',\n",
       " 'trying',\n",
       " 'make',\n",
       " 'stylish',\n",
       " 'movie',\n",
       " 'way',\n",
       " 'think',\n",
       " 'movie',\n",
       " 'total',\n",
       " 'waste',\n",
       " 'time',\n",
       " 'effort',\n",
       " 'credit',\n",
       " 'director',\n",
       " 'know',\n",
       " 'medium',\n",
       " 'working',\n",
       " 'trying',\n",
       " 'say',\n",
       " 'seen',\n",
       " 'worst',\n",
       " 'movie',\n",
       " 'least',\n",
       " 'director',\n",
       " 'know',\n",
       " 'maintain',\n",
       " 'continuity',\n",
       " 'movie',\n",
       " 'actor',\n",
       " 'also',\n",
       " 'given',\n",
       " 'decent',\n",
       " 'performance']"
      ]
     },
     "execution_count": 24,
     "metadata": {},
     "output_type": "execute_result"
    }
   ],
   "source": [
    "lemmatized_review"
   ]
  },
  {
   "cell_type": "markdown",
   "metadata": {},
   "source": [
    "<a id='engineering'></a>\n",
    "# Feature Engineering"
   ]
  },
  {
   "cell_type": "markdown",
   "metadata": {},
   "source": [
    "## Bag of Words\n",
    "\n",
    "***To review***, a bag-of-words (BoW) is a way of extracting features from text for use in modeling. A bag-of-words is a representation of text that describes the occurrence of words within a document. It involves two things:\n",
    "\n",
    "- A vocabulary of known words.\n",
    "- A measure of the presence of known words.\n",
    "\n",
    "It is called a **bag** of words because **any information about the order or structure of words in the document is discarded**. The model is only concerned with whether known words occur in the document, not where in the document."
   ]
  },
  {
   "cell_type": "code",
   "execution_count": 25,
   "metadata": {
    "ExecuteTime": {
     "end_time": "2021-10-06T19:15:17.365790Z",
     "start_time": "2021-10-06T19:15:17.363080Z"
    }
   },
   "outputs": [],
   "source": [
    "from sklearn.feature_extraction.text import CountVectorizer"
   ]
  },
  {
   "cell_type": "code",
   "execution_count": 26,
   "metadata": {
    "ExecuteTime": {
     "end_time": "2021-10-06T19:15:42.080353Z",
     "start_time": "2021-10-06T19:15:42.076018Z"
    }
   },
   "outputs": [
    {
     "data": {
      "text/plain": [
       "'beginning movie gives feeling director trying portray something mean say instead story dictating style movie made gone opposite way type move wanted make wrote story suite failed badly guess trying make stylish movie way think movie total waste time effort credit director knows media working trying say seen worst movies least director knows maintain continuity movie actors also given decent performance'"
      ]
     },
     "execution_count": 26,
     "metadata": {},
     "output_type": "execute_result"
    }
   ],
   "source": [
    "# The CountVectorizer takes in strings.\n",
    "# Since we've already processed the strings into tokens, we have to reverse that.\n",
    "review_lst = [' '.join(r) for r in \n",
    "              [filtered_review, stemmed_review, lemmatized_review]]\n",
    "review_lst[0]"
   ]
  },
  {
   "cell_type": "code",
   "execution_count": 27,
   "metadata": {
    "ExecuteTime": {
     "end_time": "2021-10-06T19:15:45.368089Z",
     "start_time": "2021-10-06T19:15:45.363455Z"
    }
   },
   "outputs": [
    {
     "data": {
      "text/plain": [
       "'begin movi give feel director tri portray someth mean say instead stori dictat style movi made gone opposit way type move want make wrote stori suit fail badli guess tri make stylish movi way think movi total wast time effort credit director know media work tri say seen worst movi least director know maintain continu movi actor also given decent perform'"
      ]
     },
     "execution_count": 27,
     "metadata": {},
     "output_type": "execute_result"
    }
   ],
   "source": [
    "review_lst[1]"
   ]
  },
  {
   "cell_type": "code",
   "execution_count": 28,
   "metadata": {
    "ExecuteTime": {
     "end_time": "2021-10-06T19:15:48.221880Z",
     "start_time": "2021-10-06T19:15:48.217828Z"
    }
   },
   "outputs": [
    {
     "data": {
      "text/plain": [
       "'beginning movie give feeling director trying portray something mean say instead story dictating style movie made gone opposite way type move wanted make wrote story suite failed badly guess trying make stylish movie way think movie total waste time effort credit director know medium working trying say seen worst movie least director know maintain continuity movie actor also given decent performance'"
      ]
     },
     "execution_count": 28,
     "metadata": {},
     "output_type": "execute_result"
    }
   ],
   "source": [
    "review_lst[2]"
   ]
  },
  {
   "cell_type": "code",
   "execution_count": 29,
   "metadata": {
    "ExecuteTime": {
     "end_time": "2021-10-06T19:16:04.975954Z",
     "start_time": "2021-10-06T19:16:04.848187Z"
    },
    "scrolled": true
   },
   "outputs": [
    {
     "data": {
      "text/html": [
       "<div>\n",
       "<style scoped>\n",
       "    .dataframe tbody tr th:only-of-type {\n",
       "        vertical-align: middle;\n",
       "    }\n",
       "\n",
       "    .dataframe tbody tr th {\n",
       "        vertical-align: top;\n",
       "    }\n",
       "\n",
       "    .dataframe thead th {\n",
       "        text-align: right;\n",
       "    }\n",
       "</style>\n",
       "<table border=\"1\" class=\"dataframe\">\n",
       "  <thead>\n",
       "    <tr style=\"text-align: right;\">\n",
       "      <th></th>\n",
       "      <th>actor</th>\n",
       "      <th>actors</th>\n",
       "      <th>also</th>\n",
       "      <th>badli</th>\n",
       "      <th>badly</th>\n",
       "      <th>begin</th>\n",
       "      <th>beginning</th>\n",
       "      <th>continu</th>\n",
       "      <th>continuity</th>\n",
       "      <th>credit</th>\n",
       "      <th>...</th>\n",
       "      <th>type</th>\n",
       "      <th>want</th>\n",
       "      <th>wanted</th>\n",
       "      <th>wast</th>\n",
       "      <th>waste</th>\n",
       "      <th>way</th>\n",
       "      <th>work</th>\n",
       "      <th>working</th>\n",
       "      <th>worst</th>\n",
       "      <th>wrote</th>\n",
       "    </tr>\n",
       "  </thead>\n",
       "  <tbody>\n",
       "    <tr>\n",
       "      <th>0</th>\n",
       "      <td>0</td>\n",
       "      <td>1</td>\n",
       "      <td>1</td>\n",
       "      <td>0</td>\n",
       "      <td>1</td>\n",
       "      <td>0</td>\n",
       "      <td>1</td>\n",
       "      <td>0</td>\n",
       "      <td>1</td>\n",
       "      <td>1</td>\n",
       "      <td>...</td>\n",
       "      <td>1</td>\n",
       "      <td>0</td>\n",
       "      <td>1</td>\n",
       "      <td>0</td>\n",
       "      <td>1</td>\n",
       "      <td>2</td>\n",
       "      <td>0</td>\n",
       "      <td>1</td>\n",
       "      <td>1</td>\n",
       "      <td>1</td>\n",
       "    </tr>\n",
       "    <tr>\n",
       "      <th>1</th>\n",
       "      <td>1</td>\n",
       "      <td>0</td>\n",
       "      <td>1</td>\n",
       "      <td>1</td>\n",
       "      <td>0</td>\n",
       "      <td>1</td>\n",
       "      <td>0</td>\n",
       "      <td>1</td>\n",
       "      <td>0</td>\n",
       "      <td>1</td>\n",
       "      <td>...</td>\n",
       "      <td>1</td>\n",
       "      <td>1</td>\n",
       "      <td>0</td>\n",
       "      <td>1</td>\n",
       "      <td>0</td>\n",
       "      <td>2</td>\n",
       "      <td>1</td>\n",
       "      <td>0</td>\n",
       "      <td>1</td>\n",
       "      <td>1</td>\n",
       "    </tr>\n",
       "    <tr>\n",
       "      <th>2</th>\n",
       "      <td>1</td>\n",
       "      <td>0</td>\n",
       "      <td>1</td>\n",
       "      <td>0</td>\n",
       "      <td>1</td>\n",
       "      <td>0</td>\n",
       "      <td>1</td>\n",
       "      <td>0</td>\n",
       "      <td>1</td>\n",
       "      <td>1</td>\n",
       "      <td>...</td>\n",
       "      <td>1</td>\n",
       "      <td>0</td>\n",
       "      <td>1</td>\n",
       "      <td>0</td>\n",
       "      <td>1</td>\n",
       "      <td>2</td>\n",
       "      <td>0</td>\n",
       "      <td>1</td>\n",
       "      <td>1</td>\n",
       "      <td>1</td>\n",
       "    </tr>\n",
       "  </tbody>\n",
       "</table>\n",
       "<p>3 rows × 68 columns</p>\n",
       "</div>"
      ],
      "text/plain": [
       "   actor  actors  also  badli  badly  begin  beginning  continu  continuity  \\\n",
       "0      0       1     1      0      1      0          1        0           1   \n",
       "1      1       0     1      1      0      1          0        1           0   \n",
       "2      1       0     1      0      1      0          1        0           1   \n",
       "\n",
       "   credit  ...  type  want  wanted  wast  waste  way  work  working  worst  \\\n",
       "0       1  ...     1     0       1     0      1    2     0        1      1   \n",
       "1       1  ...     1     1       0     1      0    2     1        0      1   \n",
       "2       1  ...     1     0       1     0      1    2     0        1      1   \n",
       "\n",
       "   wrote  \n",
       "0      1  \n",
       "1      1  \n",
       "2      1  \n",
       "\n",
       "[3 rows x 68 columns]"
      ]
     },
     "execution_count": 29,
     "metadata": {},
     "output_type": "execute_result"
    }
   ],
   "source": [
    "# We've seen this before...\n",
    "vec = CountVectorizer(stop_words=None)\n",
    "vectorized_review = vec.fit_transform(review_lst)\n",
    "\n",
    "pd.DataFrame(vectorized_review.toarray(), columns=vec.get_feature_names())"
   ]
  },
  {
   "cell_type": "code",
   "execution_count": 30,
   "metadata": {
    "ExecuteTime": {
     "end_time": "2021-10-06T19:17:58.697251Z",
     "start_time": "2021-10-06T19:17:58.692062Z"
    }
   },
   "outputs": [],
   "source": [
    "# Functionalize BoW.\n",
    "def make_bag_of_words_dfs(text_train, text_test, vec=None):\n",
    "    \"\"\"Returns a tuple (X_train_df, X_test_df) of DataFrames.\"\"\"\n",
    "    \n",
    "    if not vec:\n",
    "        vec = CountVectorizer(stop_words='english')\n",
    "    train_processed = vec.fit_transform(text_train)\n",
    "    test_processed = vec.transform(text_test)\n",
    "    \n",
    "    return (\n",
    "        pd.DataFrame(train_processed.todense(), \n",
    "                     columns=vec.get_feature_names()),\n",
    "        pd.DataFrame(test_processed.todense(),\n",
    "                     columns=vec.get_feature_names())\n",
    "    )"
   ]
  },
  {
   "cell_type": "markdown",
   "metadata": {},
   "source": [
    "## TF-IDF\n",
    "\n",
    "TF-IDF normalizes the raw count of the document term matrix and represents **how important a word is in the given document.**\n",
    "\n",
    "- **TF** (Term Frequency) is simply the frequency of words in a document.\n",
    "\n",
    "$$ \\large \\text{TF}(t) = \\frac{\\text{number of times} (t) \\text{appears in a document}}{\\text{total number of terms in the document}} $$\n",
    "\n",
    "- **IDF** (inverse document frequency) represents the measure of how much information the word provides. \n",
    "    - If a word is common or rare across all documents. \n",
    "    - Calculated as the **logarithmically scaled inverse fraction** of the **documents that contain the word** (obtained by dividing the total number of documents by the number of documents containing the term, and then taking the logarithm of that quotient):\n",
    "\n",
    "$$ \\large \\text{idf}(w) = \\log(\\frac{\\text{number of documents}}{\\text{number of documents containing} (w)} ) $$\n",
    "\n",
    "***\n",
    "\n",
    "TF-IDF is the product: $$ \\text{TF} \\times \\text{IDF}$$"
   ]
  },
  {
   "cell_type": "code",
   "execution_count": 31,
   "metadata": {
    "ExecuteTime": {
     "end_time": "2021-10-06T19:21:11.018458Z",
     "start_time": "2021-10-06T19:21:11.015950Z"
    }
   },
   "outputs": [],
   "source": [
    "from sklearn.datasets import fetch_20newsgroups"
   ]
  },
  {
   "cell_type": "code",
   "execution_count": 32,
   "metadata": {
    "ExecuteTime": {
     "end_time": "2021-10-06T19:21:35.393000Z",
     "start_time": "2021-10-06T19:21:32.999925Z"
    }
   },
   "outputs": [],
   "source": [
    "# Download dataset.\n",
    "categories = [\n",
    "    'alt.atheism', \n",
    "    'comp.windows.x', \n",
    "    'rec.sport.hockey', \n",
    "    'sci.crypt', \n",
    "    'talk.politics.guns'\n",
    "]\n",
    "\n",
    "newsgroups_train = fetch_20newsgroups(\n",
    "    subset='train', \n",
    "    categories=categories, \n",
    "    remove=('headers', 'footers', 'quotes'))\n",
    "newsgroups_test = fetch_20newsgroups(\n",
    "    subset='test', \n",
    "    categories=categories, \n",
    "    remove=('headers', 'footers', 'quotes'))\n",
    "\n",
    "X_train = newsgroups_train.data\n",
    "y_train = newsgroups_train.target\n",
    "\n",
    "X_test = newsgroups_test.data\n",
    "y_test = newsgroups_test.target"
   ]
  },
  {
   "cell_type": "code",
   "execution_count": 36,
   "metadata": {
    "ExecuteTime": {
     "end_time": "2021-10-06T19:22:17.513673Z",
     "start_time": "2021-10-06T19:22:17.508454Z"
    },
    "scrolled": true
   },
   "outputs": [
    {
     "data": {
      "text/plain": [
       "'Note: These trial updates are summarized from reports in the\\n_Idaho Statesman_ and the local NBC affiliate television\\nstation, KTVB Channel 7.\\n\\nRandy Weaver/Kevin Harris trial update: Day 4.\\n\\nFriday, April 16, 1993 was the fourth day of the trial.\\n\\nSynopsis: Defense attorney Gerry Spence cross-examined agent\\nCooper under repeated objections from prosecutor Ronald\\nHowen.  Spence moved for a mistrial but was denied.\\n\\nThe day was marked by a caustic cross-examination of Deputy\\nMarshal Larry Cooper by defense attorney Gerry Spence.  Although\\nSpence has not explicitly stated so, one angle of his stategy\\nmust involve destroying the credibility of agent Cooper.  Cooper is\\nthe government\\'s only eyewitness to the death of agent Degan.\\nSpence attacked Cooper\\'s credibility by pointing out discrepancies\\nbetween Cooper\\'s statements last September and those made in court.\\nCooper conceded that, \"You have all these things compressed into\\na few seconds...It\\'s difficult to remember what went on first.\"\\n\\nCooper acknowledged that he carried a \"9mm Colt Commando submachine\\ngun with a silenced barrel.\" [I thought a Colt Commando was a revolver!]\\nCooper continued by stating that the federal agents had no specific\\nplans to use the weapon when they started to kill Weaver\\'s dog.\\n\\nWhen Spence asked how seven cartridges could be fired by Degan\\'s\\nM-16 rifle when Degan was apparently dead, Cooper could not say for\\nsure that Degan did not return fire before going down.\\n\\nSpence continued by asking with how many agents (and to what extent)\\nhad Cooper discussed last August\\'s events, Cooper responded, \"If\\nyou\\'re implying that we got our story together, you\\'re wrong,\\ncounselor.\"  Spence continued to advance the defense\\'s version of\\nthe events: Namely, that a marshal had started the shooting by\\nkilling the Weaver\\'s dog.  Cooper disagreed.\\n\\nAssistant U.S. Attorney Ronald Howen repeatedly objected to Spence\\'s\\nvirulent cross-examination of agent Cooper, arguing that the questions\\nwere repetitive and Spence was wasting time.  Howen also complained \\nthat Spence was improperly using a cross-examination to advance the\\ndefense\\'s version of the events.  U.S. District Judge Edward Lodge\\nsustained many of the objections; however, both lawyers persisted\\nuntil Judge Lodge had the jury leave the room and proceded to\\nadmonish both attorneys.  \"I\\'m not going to play games with either\\ncounsel.  This has been a personality problem from day 1, so start\\nacting like professionals.\"\\n\\nSpence told the judge that, \"When all the evidence is in, we\\'ll see\\nthat ... his [agent Larry Cooper] testimony is not credible, that\\nhe was panicked and cannot remember the sequence of events.\" \\nSpence continued, \"We\\'re going to find...that there is a very unlikely\\nsimilarity - almost as if it had come out of a cookie cutter - between\\nthe testimony of Mr. Cooper and the other witnesses.\"\\n\\nSpence then moved for a mistrial on the grounds that Howen\\'s repeated\\nobjections would prevent a fair trial, \"We can\\'t have a fair trial if the\\njury believes I\\'m some sort of charlatan, if the jury believes I\\'m\\nbending the rules or engaging in some delaying tactic or that I\\'m\\nviolating court orders.\"\\n\\nJudge Lodge called the notion that his repeated sustainings of Howen\\'s\\nobjections had somehow prejudiced the jury was \"preposterous\" and\\ndenied the motion for a mistrial.  Lodge did tell Howen to restrict\\nhis comments when objecting.\\n\\nThe trial resumed with the prosecution calling FBI Special Agent Greg\\nRampton.  The prosecution\\'s purpose was simply to introduce five\\nweapons found in the cabin as evidence: However, the defense seized\\non the opportunity to further address Cooper\\'s credibility.\\n\\nDefense attorney Ellison Matthews (Harris\\' other attorney) questioned\\nRampton about the dog.  Rampton stated that there were no specific\\nplans to kill the Weaver\\'s dog without being detected.  Matthews then\\nhad Rampton read  a Septtember 15, 1992 transcript in which Rampton\\nhad said that Cooper had said that the purpose of the silenced weapon\\nwas to kill the dog without being detected, if the dog chased them.\\nRampton then acknowledged that he believed that Cooper had said that,\\nbut he could not remember when.  He then stated that, \"I did not conduct\\nthe primary interview with Deputy Cooper, but I have had conversations\\nwith him since the interview was conducted.\"'"
      ]
     },
     "execution_count": 36,
     "metadata": {},
     "output_type": "execute_result"
    }
   ],
   "source": [
    "X_train[0]"
   ]
  },
  {
   "cell_type": "code",
   "execution_count": 38,
   "metadata": {
    "ExecuteTime": {
     "end_time": "2021-10-06T19:22:29.370248Z",
     "start_time": "2021-10-06T19:22:29.365245Z"
    }
   },
   "outputs": [
    {
     "data": {
      "text/plain": [
       "2814"
      ]
     },
     "execution_count": 38,
     "metadata": {},
     "output_type": "execute_result"
    }
   ],
   "source": [
    "len(X_train)"
   ]
  },
  {
   "cell_type": "code",
   "execution_count": 39,
   "metadata": {
    "ExecuteTime": {
     "end_time": "2021-10-06T19:22:38.977359Z",
     "start_time": "2021-10-06T19:22:38.967167Z"
    }
   },
   "outputs": [
    {
     "data": {
      "text/plain": [
       "2    0.213220\n",
       "3    0.211443\n",
       "1    0.210732\n",
       "4    0.194030\n",
       "0    0.170576\n",
       "dtype: float64"
      ]
     },
     "execution_count": 39,
     "metadata": {},
     "output_type": "execute_result"
    }
   ],
   "source": [
    "pd.Series(y_train).value_counts(normalize=True)"
   ]
  },
  {
   "cell_type": "code",
   "execution_count": 40,
   "metadata": {
    "ExecuteTime": {
     "end_time": "2021-10-06T19:23:09.958171Z",
     "start_time": "2021-10-06T19:23:09.955362Z"
    }
   },
   "outputs": [],
   "source": [
    "from sklearn.feature_extraction.text import TfidfVectorizer"
   ]
  },
  {
   "cell_type": "code",
   "execution_count": 41,
   "metadata": {
    "ExecuteTime": {
     "end_time": "2021-10-06T19:23:29.808451Z",
     "start_time": "2021-10-06T19:23:28.933824Z"
    }
   },
   "outputs": [],
   "source": [
    "tfidf = TfidfVectorizer()\n",
    "\n",
    "X_train_processed = tfidf.fit_transform(X_train)\n",
    "X_test_processed = tfidf.transform(X_test)"
   ]
  },
  {
   "cell_type": "code",
   "execution_count": 42,
   "metadata": {
    "ExecuteTime": {
     "end_time": "2021-10-06T19:23:36.838495Z",
     "start_time": "2021-10-06T19:23:36.834178Z"
    }
   },
   "outputs": [
    {
     "data": {
      "text/plain": [
       "<2814x36622 sparse matrix of type '<class 'numpy.float64'>'\n",
       "\twith 301887 stored elements in Compressed Sparse Row format>"
      ]
     },
     "execution_count": 42,
     "metadata": {},
     "output_type": "execute_result"
    }
   ],
   "source": [
    "X_train_processed"
   ]
  },
  {
   "cell_type": "code",
   "execution_count": 43,
   "metadata": {
    "ExecuteTime": {
     "end_time": "2021-10-06T19:24:51.781020Z",
     "start_time": "2021-10-06T19:24:51.209976Z"
    }
   },
   "outputs": [
    {
     "data": {
      "text/html": [
       "<div>\n",
       "<style scoped>\n",
       "    .dataframe tbody tr th:only-of-type {\n",
       "        vertical-align: middle;\n",
       "    }\n",
       "\n",
       "    .dataframe tbody tr th {\n",
       "        vertical-align: top;\n",
       "    }\n",
       "\n",
       "    .dataframe thead th {\n",
       "        text-align: right;\n",
       "    }\n",
       "</style>\n",
       "<table border=\"1\" class=\"dataframe\">\n",
       "  <thead>\n",
       "    <tr style=\"text-align: right;\">\n",
       "      <th></th>\n",
       "      <th>00</th>\n",
       "      <th>000</th>\n",
       "      <th>0000</th>\n",
       "      <th>00000000</th>\n",
       "      <th>00000000b</th>\n",
       "      <th>00000001</th>\n",
       "      <th>00000001b</th>\n",
       "      <th>00000010</th>\n",
       "      <th>00000010b</th>\n",
       "      <th>00000011</th>\n",
       "      <th>...</th>\n",
       "      <th>zxp</th>\n",
       "      <th>zxqi</th>\n",
       "      <th>zy</th>\n",
       "      <th>zyg</th>\n",
       "      <th>zysv</th>\n",
       "      <th>zz</th>\n",
       "      <th>zz_g9q3</th>\n",
       "      <th>zzcrm</th>\n",
       "      <th>zzi776</th>\n",
       "      <th>zzzzzz</th>\n",
       "    </tr>\n",
       "  </thead>\n",
       "  <tbody>\n",
       "    <tr>\n",
       "      <th>0</th>\n",
       "      <td>0.0</td>\n",
       "      <td>0.0</td>\n",
       "      <td>0.0</td>\n",
       "      <td>0.0</td>\n",
       "      <td>0.0</td>\n",
       "      <td>0.0</td>\n",
       "      <td>0.0</td>\n",
       "      <td>0.0</td>\n",
       "      <td>0.0</td>\n",
       "      <td>0.0</td>\n",
       "      <td>...</td>\n",
       "      <td>0.0</td>\n",
       "      <td>0.0</td>\n",
       "      <td>0.0</td>\n",
       "      <td>0.0</td>\n",
       "      <td>0.0</td>\n",
       "      <td>0.0</td>\n",
       "      <td>0.0</td>\n",
       "      <td>0.0</td>\n",
       "      <td>0.0</td>\n",
       "      <td>0.0</td>\n",
       "    </tr>\n",
       "    <tr>\n",
       "      <th>1</th>\n",
       "      <td>0.0</td>\n",
       "      <td>0.0</td>\n",
       "      <td>0.0</td>\n",
       "      <td>0.0</td>\n",
       "      <td>0.0</td>\n",
       "      <td>0.0</td>\n",
       "      <td>0.0</td>\n",
       "      <td>0.0</td>\n",
       "      <td>0.0</td>\n",
       "      <td>0.0</td>\n",
       "      <td>...</td>\n",
       "      <td>0.0</td>\n",
       "      <td>0.0</td>\n",
       "      <td>0.0</td>\n",
       "      <td>0.0</td>\n",
       "      <td>0.0</td>\n",
       "      <td>0.0</td>\n",
       "      <td>0.0</td>\n",
       "      <td>0.0</td>\n",
       "      <td>0.0</td>\n",
       "      <td>0.0</td>\n",
       "    </tr>\n",
       "    <tr>\n",
       "      <th>2</th>\n",
       "      <td>0.0</td>\n",
       "      <td>0.0</td>\n",
       "      <td>0.0</td>\n",
       "      <td>0.0</td>\n",
       "      <td>0.0</td>\n",
       "      <td>0.0</td>\n",
       "      <td>0.0</td>\n",
       "      <td>0.0</td>\n",
       "      <td>0.0</td>\n",
       "      <td>0.0</td>\n",
       "      <td>...</td>\n",
       "      <td>0.0</td>\n",
       "      <td>0.0</td>\n",
       "      <td>0.0</td>\n",
       "      <td>0.0</td>\n",
       "      <td>0.0</td>\n",
       "      <td>0.0</td>\n",
       "      <td>0.0</td>\n",
       "      <td>0.0</td>\n",
       "      <td>0.0</td>\n",
       "      <td>0.0</td>\n",
       "    </tr>\n",
       "    <tr>\n",
       "      <th>3</th>\n",
       "      <td>0.0</td>\n",
       "      <td>0.0</td>\n",
       "      <td>0.0</td>\n",
       "      <td>0.0</td>\n",
       "      <td>0.0</td>\n",
       "      <td>0.0</td>\n",
       "      <td>0.0</td>\n",
       "      <td>0.0</td>\n",
       "      <td>0.0</td>\n",
       "      <td>0.0</td>\n",
       "      <td>...</td>\n",
       "      <td>0.0</td>\n",
       "      <td>0.0</td>\n",
       "      <td>0.0</td>\n",
       "      <td>0.0</td>\n",
       "      <td>0.0</td>\n",
       "      <td>0.0</td>\n",
       "      <td>0.0</td>\n",
       "      <td>0.0</td>\n",
       "      <td>0.0</td>\n",
       "      <td>0.0</td>\n",
       "    </tr>\n",
       "    <tr>\n",
       "      <th>4</th>\n",
       "      <td>0.0</td>\n",
       "      <td>0.0</td>\n",
       "      <td>0.0</td>\n",
       "      <td>0.0</td>\n",
       "      <td>0.0</td>\n",
       "      <td>0.0</td>\n",
       "      <td>0.0</td>\n",
       "      <td>0.0</td>\n",
       "      <td>0.0</td>\n",
       "      <td>0.0</td>\n",
       "      <td>...</td>\n",
       "      <td>0.0</td>\n",
       "      <td>0.0</td>\n",
       "      <td>0.0</td>\n",
       "      <td>0.0</td>\n",
       "      <td>0.0</td>\n",
       "      <td>0.0</td>\n",
       "      <td>0.0</td>\n",
       "      <td>0.0</td>\n",
       "      <td>0.0</td>\n",
       "      <td>0.0</td>\n",
       "    </tr>\n",
       "  </tbody>\n",
       "</table>\n",
       "<p>5 rows × 36622 columns</p>\n",
       "</div>"
      ],
      "text/plain": [
       "    00  000  0000  00000000  00000000b  00000001  00000001b  00000010  \\\n",
       "0  0.0  0.0   0.0       0.0        0.0       0.0        0.0       0.0   \n",
       "1  0.0  0.0   0.0       0.0        0.0       0.0        0.0       0.0   \n",
       "2  0.0  0.0   0.0       0.0        0.0       0.0        0.0       0.0   \n",
       "3  0.0  0.0   0.0       0.0        0.0       0.0        0.0       0.0   \n",
       "4  0.0  0.0   0.0       0.0        0.0       0.0        0.0       0.0   \n",
       "\n",
       "   00000010b  00000011  ...  zxp  zxqi   zy  zyg  zysv   zz  zz_g9q3  zzcrm  \\\n",
       "0        0.0       0.0  ...  0.0   0.0  0.0  0.0   0.0  0.0      0.0    0.0   \n",
       "1        0.0       0.0  ...  0.0   0.0  0.0  0.0   0.0  0.0      0.0    0.0   \n",
       "2        0.0       0.0  ...  0.0   0.0  0.0  0.0   0.0  0.0      0.0    0.0   \n",
       "3        0.0       0.0  ...  0.0   0.0  0.0  0.0   0.0  0.0      0.0    0.0   \n",
       "4        0.0       0.0  ...  0.0   0.0  0.0  0.0   0.0  0.0      0.0    0.0   \n",
       "\n",
       "   zzi776  zzzzzz  \n",
       "0     0.0     0.0  \n",
       "1     0.0     0.0  \n",
       "2     0.0     0.0  \n",
       "3     0.0     0.0  \n",
       "4     0.0     0.0  \n",
       "\n",
       "[5 rows x 36622 columns]"
      ]
     },
     "execution_count": 43,
     "metadata": {},
     "output_type": "execute_result"
    }
   ],
   "source": [
    "pd.DataFrame(\n",
    "    X_train_processed.todense(), \n",
    "    columns=tfidf.get_feature_names()\n",
    "    ).head()"
   ]
  },
  {
   "cell_type": "code",
   "execution_count": 44,
   "metadata": {
    "ExecuteTime": {
     "end_time": "2021-10-06T19:25:39.192824Z",
     "start_time": "2021-10-06T19:25:39.189483Z"
    }
   },
   "outputs": [],
   "source": [
    "# Functionalize TF-IDF\n",
    "def make_tfidf_dfs(text_train, text_test, tfidf=None):\n",
    "    \"\"\"Returns a tuple (X_train_df, X_test_df) of DataFrames.\"\"\"\n",
    "    \n",
    "    if not tfidf:\n",
    "        tfidf = TfidfVectorizer(stop_words='english')\n",
    "    \n",
    "    train_processed = tfidf.fit_transform(text_train)\n",
    "    test_processed = tfidf.transform(text_test)\n",
    "    \n",
    "    return (\n",
    "        pd.DataFrame(train_processed.todense(), \n",
    "                     columns=tfidf.get_feature_names()),\n",
    "        pd.DataFrame(test_processed.todense(),\n",
    "                     columns=tfidf.get_feature_names())\n",
    "    )"
   ]
  },
  {
   "cell_type": "markdown",
   "metadata": {},
   "source": [
    "<a id='modeling'></a>\n",
    "# Modeling"
   ]
  },
  {
   "cell_type": "code",
   "execution_count": 45,
   "metadata": {
    "ExecuteTime": {
     "end_time": "2021-10-06T19:25:55.376389Z",
     "start_time": "2021-10-06T19:25:55.368583Z"
    }
   },
   "outputs": [],
   "source": [
    "from sklearn.naive_bayes import MultinomialNB\n",
    "from sklearn.metrics import accuracy_score"
   ]
  },
  {
   "cell_type": "code",
   "execution_count": 46,
   "metadata": {
    "ExecuteTime": {
     "end_time": "2021-10-06T19:26:13.360017Z",
     "start_time": "2021-10-06T19:26:13.355544Z"
    }
   },
   "outputs": [],
   "source": [
    "def train_bayes(bow_data, tfidf_data):\n",
    "    \"\"\"Prints the accuracy score on train and test data.\"\"\"\n",
    "    \n",
    "    data = (\n",
    "        ('BoW', bow_data),\n",
    "        ('TF-IDF', tfidf_data)\n",
    "    )\n",
    "\n",
    "    for name, (train, test) in data:\n",
    "        clf = MultinomialNB()\n",
    "        clf.fit(train, y_train)\n",
    "        print(name)\n",
    "        print(f'\\tTrain\\n\\t{accuracy_score(y_train, clf.predict(train))}')\n",
    "        print(f'\\tTest\\n\\t{accuracy_score(y_test, clf.predict(test))}\\n\\n')"
   ]
  },
  {
   "cell_type": "markdown",
   "metadata": {},
   "source": [
    "## Preprocessing I: Lowercase & Stopword-Filter"
   ]
  },
  {
   "cell_type": "code",
   "execution_count": 47,
   "metadata": {
    "ExecuteTime": {
     "end_time": "2021-10-06T19:26:45.628193Z",
     "start_time": "2021-10-06T19:26:45.625456Z"
    }
   },
   "outputs": [],
   "source": [
    "import string"
   ]
  },
  {
   "cell_type": "code",
   "execution_count": 48,
   "metadata": {
    "ExecuteTime": {
     "end_time": "2021-10-06T19:26:51.295658Z",
     "start_time": "2021-10-06T19:26:51.286527Z"
    }
   },
   "outputs": [
    {
     "data": {
      "text/plain": [
       "'note trial updates summarized reports idaho statesman local nbc affiliate television station ktvb channel 7 randy weaverkevin harris trial update day 4 friday april 16 1993 fourth day trial synopsis defense attorney gerry spence crossexamined agent cooper repeated objections prosecutor ronald howen spence moved mistrial denied day marked caustic crossexamination deputy marshal larry cooper defense attorney gerry spence although spence explicitly stated one angle stategy must involve destroying credibility agent cooper cooper governments eyewitness death agent degan spence attacked coopers credibility pointing discrepancies coopers statements last september made court cooper conceded things compressed secondsits difficult remember went first cooper acknowledged carried 9mm colt commando submachine gun silenced barrel thought colt commando revolver cooper continued stating federal agents specific plans use weapon started kill weavers dog spence asked seven cartridges could fired degans m16 rifle degan apparently dead cooper could say sure degan return fire going spence continued asking many agents extent cooper discussed last augusts events cooper responded youre implying got story together youre wrong counselor spence continued advance defenses version events namely marshal started shooting killing weavers dog cooper disagreed assistant us attorney ronald howen repeatedly objected spences virulent crossexamination agent cooper arguing questions repetitive spence wasting time howen also complained spence improperly using crossexamination advance defenses version events us district judge edward lodge sustained many objections however lawyers persisted judge lodge jury leave room proceded admonish attorneys im going play games either counsel personality problem day 1 start acting like professionals spence told judge evidence well see agent larry cooper testimony credible panicked cannot remember sequence events spence continued going findthat unlikely similarity almost come cookie cutter testimony mr cooper witnesses spence moved mistrial grounds howens repeated objections would prevent fair trial cant fair trial jury believes im sort charlatan jury believes im bending rules engaging delaying tactic im violating court orders judge lodge called notion repeated sustainings howens objections somehow prejudiced jury preposterous denied motion mistrial lodge tell howen restrict comments objecting trial resumed prosecution calling fbi special agent greg rampton prosecutions purpose simply introduce five weapons found cabin evidence however defense seized opportunity address coopers credibility defense attorney ellison matthews harris attorney questioned rampton dog rampton stated specific plans kill weavers dog without detected matthews rampton read septtember 15 1992 transcript rampton said cooper said purpose silenced weapon kill dog without detected dog chased rampton acknowledged believed cooper said could remember stated conduct primary interview deputy cooper conversations since interview conducted'"
      ]
     },
     "execution_count": 48,
     "metadata": {},
     "output_type": "execute_result"
    }
   ],
   "source": [
    "# Lower case & stopword/punctuation filter.\n",
    "def process_lowercase_stopwords_punctuation(text):\n",
    "    \"\"\"Returns a lowercase text with no stopwords or punctuation.\"\"\"\n",
    "    \n",
    "    sw_set = set(stopwords.words('english'))\n",
    "    punct = set(string.punctuation)\n",
    "    text = ''.join([c for c in text.lower() if c not in punct])\n",
    "    return ' '.join(list(filter(lambda w: w not in sw_set, text.split())))\n",
    "    \n",
    "\n",
    "process_lowercase_stopwords_punctuation(X_train[0])"
   ]
  },
  {
   "cell_type": "code",
   "execution_count": 49,
   "metadata": {
    "ExecuteTime": {
     "end_time": "2021-10-06T19:27:17.172876Z",
     "start_time": "2021-10-06T19:27:15.135244Z"
    }
   },
   "outputs": [],
   "source": [
    "X_train_processed_1 = [process_lowercase_stopwords_punctuation(e)\n",
    "                       for e in X_train]\n",
    "X_test_processed_1 = [process_lowercase_stopwords_punctuation(e)\n",
    "                       for e in X_test]"
   ]
  },
  {
   "cell_type": "code",
   "execution_count": 50,
   "metadata": {
    "ExecuteTime": {
     "end_time": "2021-10-06T19:27:25.208433Z",
     "start_time": "2021-10-06T19:27:22.975753Z"
    }
   },
   "outputs": [],
   "source": [
    "bow_data = make_bag_of_words_dfs(X_train_processed_1, X_test_processed_1)\n",
    "tfidf_data = make_tfidf_dfs(X_train_processed_1, X_test_processed_1)"
   ]
  },
  {
   "cell_type": "code",
   "execution_count": 51,
   "metadata": {
    "ExecuteTime": {
     "end_time": "2021-10-06T19:27:38.017573Z",
     "start_time": "2021-10-06T19:27:25.211408Z"
    }
   },
   "outputs": [
    {
     "name": "stdout",
     "output_type": "stream",
     "text": [
      "BoW\n",
      "\tTrain\n",
      "\t0.9538024164889837\n",
      "\tTest\n",
      "\t0.8558462359850507\n",
      "\n",
      "\n",
      "TF-IDF\n",
      "\tTrain\n",
      "\t0.9665955934612651\n",
      "\tTest\n",
      "\t0.8435664709022958\n",
      "\n",
      "\n"
     ]
    }
   ],
   "source": [
    "train_bayes(bow_data, tfidf_data)"
   ]
  },
  {
   "cell_type": "markdown",
   "metadata": {},
   "source": [
    "## Preprocessing II.a: P(I) + Stemming"
   ]
  },
  {
   "cell_type": "code",
   "execution_count": 52,
   "metadata": {
    "ExecuteTime": {
     "end_time": "2021-10-06T19:30:59.761625Z",
     "start_time": "2021-10-06T19:30:59.743689Z"
    }
   },
   "outputs": [
    {
     "data": {
      "text/plain": [
       "'note trial updat summar report idaho statesman local nbc affili televis station ktvb channel 7 randi weaverkevin harri trial updat day 4 friday april 16 1993 fourth day trial synopsi defens attorney gerri spenc crossexamin agent cooper repeat object prosecutor ronald howen spenc move mistrial deni day mark caustic crossexamin deputi marshal larri cooper defens attorney gerri spenc although spenc explicitli state one angl stategi must involv destroy credibl agent cooper cooper govern eyewit death agent degan spenc attack cooper credibl point discrep cooper statement last septemb made court cooper conced thing compress secondsit difficult rememb went first cooper acknowledg carri 9mm colt commando submachin gun silenc barrel thought colt commando revolv cooper continu state feder agent specif plan use weapon start kill weaver dog spenc ask seven cartridg could fire degan m16 rifl degan appar dead cooper could say sure degan return fire go spenc continu ask mani agent extent cooper discuss last august event cooper respond your impli got stori togeth your wrong counselor spenc continu advanc defens version event name marshal start shoot kill weaver dog cooper disagre assist us attorney ronald howen repeatedli object spenc virul crossexamin agent cooper argu question repetit spenc wast time howen also complain spenc improperli use crossexamin advanc defens version event us district judg edward lodg sustain mani object howev lawyer persist judg lodg juri leav room proced admonish attorney im go play game either counsel person problem day 1 start act like profession spenc told judg evid well see agent larri cooper testimoni credibl panick cannot rememb sequenc event spenc continu go findthat unlik similar almost come cooki cutter testimoni mr cooper wit spenc move mistrial ground howen repeat object would prevent fair trial cant fair trial juri believ im sort charlatan juri believ im bend rule engag delay tactic im violat court order judg lodg call notion repeat sustain howen object somehow prejud juri preposter deni motion mistrial lodg tell howen restrict comment object trial resum prosecut call fbi special agent greg rampton prosecut purpos simpli introduc five weapon found cabin evid howev defens seiz opportun address cooper credibl defens attorney ellison matthew harri attorney question rampton dog rampton state specif plan kill weaver dog without detect matthew rampton read septtemb 15 1992 transcript rampton said cooper said purpos silenc weapon kill dog without detect dog chase rampton acknowledg believ cooper said could rememb state conduct primari interview deputi cooper convers sinc interview conduct'"
      ]
     },
     "execution_count": 52,
     "metadata": {},
     "output_type": "execute_result"
    }
   ],
   "source": [
    "def stem_text(text, stemmer=None):\n",
    "    \"\"\"Return a stemmed version of the text.\"\"\"\n",
    "    \n",
    "    if not stemmer:\n",
    "        stemmer = PorterStemmer()\n",
    "    \n",
    "    return ' '.join([stemmer.stem(w) for w in text.split()])\n",
    "\n",
    "\n",
    "stem_text(X_train_processed_1[0])"
   ]
  },
  {
   "cell_type": "code",
   "execution_count": 53,
   "metadata": {
    "ExecuteTime": {
     "end_time": "2021-10-06T19:31:20.247480Z",
     "start_time": "2021-10-06T19:31:09.233682Z"
    }
   },
   "outputs": [],
   "source": [
    "# Stemming.\n",
    "X_train_processed_2a = [stem_text(e) for e in X_train_processed_1]\n",
    "X_test_processed_2a = [stem_text(e) for e in X_test_processed_1]"
   ]
  },
  {
   "cell_type": "code",
   "execution_count": 54,
   "metadata": {
    "ExecuteTime": {
     "end_time": "2021-10-06T19:31:27.165829Z",
     "start_time": "2021-10-06T19:31:25.142226Z"
    }
   },
   "outputs": [],
   "source": [
    "bow_data_stemmed = make_bag_of_words_dfs(\n",
    "    X_train_processed_2a, X_test_processed_2a)\n",
    "tfidf_data_stemmed = make_tfidf_dfs(\n",
    "    X_train_processed_2a, X_test_processed_2a)"
   ]
  },
  {
   "cell_type": "code",
   "execution_count": 55,
   "metadata": {
    "ExecuteTime": {
     "end_time": "2021-10-06T19:31:49.282298Z",
     "start_time": "2021-10-06T19:31:39.156738Z"
    }
   },
   "outputs": [
    {
     "name": "stdout",
     "output_type": "stream",
     "text": [
      "BoW\n",
      "\tTrain\n",
      "\t0.9445628997867804\n",
      "\tTest\n",
      "\t0.8681260010678057\n",
      "\n",
      "\n",
      "TF-IDF\n",
      "\tTrain\n",
      "\t0.9570007107320541\n",
      "\tTest\n",
      "\t0.8457020822210358\n",
      "\n",
      "\n"
     ]
    }
   ],
   "source": [
    "train_bayes(bow_data_stemmed, tfidf_data_stemmed)"
   ]
  },
  {
   "cell_type": "markdown",
   "metadata": {},
   "source": [
    "## Preprocessing II.b: P(I) + Lemmatization"
   ]
  },
  {
   "cell_type": "code",
   "execution_count": 56,
   "metadata": {
    "ExecuteTime": {
     "end_time": "2021-10-06T19:32:33.561853Z",
     "start_time": "2021-10-06T19:32:33.549930Z"
    }
   },
   "outputs": [
    {
     "data": {
      "text/plain": [
       "'note trial update summarized report idaho statesman local nbc affiliate television station ktvb channel 7 randy weaverkevin harris trial update day 4 friday april 16 1993 fourth day trial synopsis defense attorney gerry spence crossexamined agent cooper repeated objection prosecutor ronald howen spence moved mistrial denied day marked caustic crossexamination deputy marshal larry cooper defense attorney gerry spence although spence explicitly stated one angle stategy must involve destroying credibility agent cooper cooper government eyewitness death agent degan spence attacked cooper credibility pointing discrepancy cooper statement last september made court cooper conceded thing compressed secondsits difficult remember went first cooper acknowledged carried 9mm colt commando submachine gun silenced barrel thought colt commando revolver cooper continued stating federal agent specific plan use weapon started kill weaver dog spence asked seven cartridge could fired degans m16 rifle degan apparently dead cooper could say sure degan return fire going spence continued asking many agent extent cooper discussed last august event cooper responded youre implying got story together youre wrong counselor spence continued advance defense version event namely marshal started shooting killing weaver dog cooper disagreed assistant u attorney ronald howen repeatedly objected spences virulent crossexamination agent cooper arguing question repetitive spence wasting time howen also complained spence improperly using crossexamination advance defense version event u district judge edward lodge sustained many objection however lawyer persisted judge lodge jury leave room proceded admonish attorney im going play game either counsel personality problem day 1 start acting like professional spence told judge evidence well see agent larry cooper testimony credible panicked cannot remember sequence event spence continued going findthat unlikely similarity almost come cookie cutter testimony mr cooper witness spence moved mistrial ground howens repeated objection would prevent fair trial cant fair trial jury belief im sort charlatan jury belief im bending rule engaging delaying tactic im violating court order judge lodge called notion repeated sustainings howens objection somehow prejudiced jury preposterous denied motion mistrial lodge tell howen restrict comment objecting trial resumed prosecution calling fbi special agent greg rampton prosecution purpose simply introduce five weapon found cabin evidence however defense seized opportunity address cooper credibility defense attorney ellison matthew harris attorney questioned rampton dog rampton stated specific plan kill weaver dog without detected matthew rampton read septtember 15 1992 transcript rampton said cooper said purpose silenced weapon kill dog without detected dog chased rampton acknowledged believed cooper said could remember stated conduct primary interview deputy cooper conversation since interview conducted'"
      ]
     },
     "execution_count": 56,
     "metadata": {},
     "output_type": "execute_result"
    }
   ],
   "source": [
    "def lemmatize_text(text, lemmatizer=None):\n",
    "    \"\"\"Return a stemmed version of the text.\"\"\"\n",
    "    \n",
    "    if not lemmatizer:\n",
    "        lemmatizer = WordNetLemmatizer()\n",
    "    \n",
    "    return ' '.join([lemmatizer.lemmatize(w) for w in text.split()])\n",
    "\n",
    "\n",
    "lemmatize_text(X_train_processed_1[0])"
   ]
  },
  {
   "cell_type": "code",
   "execution_count": 57,
   "metadata": {
    "ExecuteTime": {
     "end_time": "2021-10-06T19:32:54.092704Z",
     "start_time": "2021-10-06T19:32:51.630873Z"
    }
   },
   "outputs": [],
   "source": [
    "# Lemmatization.\n",
    "X_train_processed_2b = [lemmatize_text(e) for e in X_train_processed_1]\n",
    "X_test_processed_2b = [lemmatize_text(e) for e in X_test_processed_1]"
   ]
  },
  {
   "cell_type": "code",
   "execution_count": 58,
   "metadata": {
    "ExecuteTime": {
     "end_time": "2021-10-06T19:32:56.539894Z",
     "start_time": "2021-10-06T19:32:54.095256Z"
    }
   },
   "outputs": [],
   "source": [
    "bow_data_lemmatized = make_bag_of_words_dfs(\n",
    "    X_train_processed_2b, X_test_processed_2b)\n",
    "tfidf_data_lemmatized = make_tfidf_dfs(\n",
    "    X_train_processed_2b, X_test_processed_2b)"
   ]
  },
  {
   "cell_type": "code",
   "execution_count": 59,
   "metadata": {
    "ExecuteTime": {
     "end_time": "2021-10-06T19:33:08.993434Z",
     "start_time": "2021-10-06T19:32:56.542582Z"
    }
   },
   "outputs": [
    {
     "name": "stdout",
     "output_type": "stream",
     "text": [
      "BoW\n",
      "\tTrain\n",
      "\t0.9509594882729211\n",
      "\tTest\n",
      "\t0.8574479444741057\n",
      "\n",
      "\n",
      "TF-IDF\n",
      "\tTrain\n",
      "\t0.9609097370291401\n",
      "\tTest\n",
      "\t0.8467698878804057\n",
      "\n",
      "\n"
     ]
    }
   ],
   "source": [
    "train_bayes(bow_data_lemmatized, tfidf_data_lemmatized)"
   ]
  },
  {
   "cell_type": "code",
   "execution_count": null,
   "metadata": {},
   "outputs": [],
   "source": []
  }
 ],
 "metadata": {
  "kernelspec": {
   "display_name": "Python [conda env:learn-env] *",
   "language": "python",
   "name": "conda-env-learn-env-py"
  },
  "language_info": {
   "codemirror_mode": {
    "name": "ipython",
    "version": 3
   },
   "file_extension": ".py",
   "mimetype": "text/x-python",
   "name": "python",
   "nbconvert_exporter": "python",
   "pygments_lexer": "ipython3",
   "version": "3.6.9"
  },
  "toc": {
   "base_numbering": 1,
   "nav_menu": {},
   "number_sections": false,
   "sideBar": true,
   "skip_h1_title": false,
   "title_cell": "Table of Contents",
   "title_sidebar": "Contents",
   "toc_cell": false,
   "toc_position": {
    "height": "calc(100% - 180px)",
    "left": "10px",
    "top": "150px",
    "width": "197px"
   },
   "toc_section_display": true,
   "toc_window_display": true
  }
 },
 "nbformat": 4,
 "nbformat_minor": 2
}
