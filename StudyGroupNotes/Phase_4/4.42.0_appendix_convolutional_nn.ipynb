{
 "cells": [
  {
   "cell_type": "markdown",
   "metadata": {},
   "source": [
    "## Phase 4.42.0 APPENDIX\n",
    "\n",
    "# Convolutional Neural Networks\n",
    "\n",
    "*Reference: <a href='https://github.com/tensorflow/docs/tree/master/site/en/tutorials'>Tensorflow GitHub</a>*\n",
    "\n",
    "## Objectives\n",
    "- Describe the unique types of layers used in Convolutional Nets\n",
    "- Use Tensorflow to build CNNs\n",
    "- Evaluating CNNs"
   ]
  },
  {
   "cell_type": "markdown",
   "metadata": {},
   "source": [
    "# What are CNNs?\n",
    "\n",
    "From <a href='https://en.wikipedia.org/wiki/Convolutional_neural_network'>Wikipedia</a>:\n",
    "\n",
    "> \"CNNs are **regularized versions** of multilayer perceptrons. Multilayer perceptrons usually mean fully connected networks, that is, each neuron in one layer is connected to all neurons in the next layer. The \"fully-connectedness\" of these networks makes them prone to **overfitting** data. Typical ways of regularization include adding some form of magnitude measurement of weights to the loss function. However, **CNNs take a different approach towards regularization:** they take advantage of the hierarchical pattern in data and assemble more complex patterns using smaller and simpler patterns.\"\n",
    ">\n",
    ">\n",
    "> \"Convolutional networks were inspired by biological processes in that the connectivity pattern between neurons resembles the organization of the animal visual cortex. Individual cortical neurons respond to stimuli only in a restricted region of the visual field known as the receptive field. The receptive fields of different neurons partially overlap such that they cover the entire visual field.\""
   ]
  },
  {
   "cell_type": "markdown",
   "metadata": {},
   "source": [
    "## Convoluting and Pooling\n",
    "\n",
    "The two distinctive types of layer inside of a typical CNN (and there may be several of each in a single network) are **convolutional** and **pooling** layers. Let's look at each in turn.\n",
    "\n",
    "\n",
    "### Convolution\n",
    "- Convolutional nets employ <a href='https://en.wikipedia.org/wiki/Convolution'>convolutions</a>, which are a certain kind of transformation. \n",
    "- In the context of neural networks processing images, this can be thought of as sliding a filter (of weights) over the image matrix to produce a new matrix of values.\n",
    "- The relative smallness of the filter means both that there will be relatively few parameters to learn and that the values representing certain areas of the image will be affected only by the values of *nearby areas*. \n",
    "    - This helps the network in **feature detection**. \n",
    "\n",
    "> *Resource & Visuals: https://www.freecodecamp.org/news/an-intuitive-guide-to-convolutional-neural-networks-260c2de0a050/*"
   ]
  },
  {
   "cell_type": "markdown",
   "metadata": {},
   "source": [
    "3x3 image and a 2x2 filter:\n",
    "\n",
    "\n",
    "$\\begin{bmatrix}\n",
    "a & b & c \\\\\n",
    "d & e & g \\\\\n",
    "h & j & k\n",
    "\\end{bmatrix} *\n",
    "\\begin{bmatrix}\n",
    "f_1 & f_2 \\\\\n",
    "f_3 & f_4\n",
    "\\end{bmatrix} =\n",
    "\\begin{bmatrix}\n",
    "f_1a + f_2b + f_3d + f_4e & f_1b + f_2c + f_3e + f_4g \\\\\n",
    "f_1d + f_2e + f_3h + f_4j & f_1e + f_2g + f_3j + f_4k\n",
    "\\end{bmatrix}$.\n",
    "\n",
    "\n",
    "- *Line up the filter with the image,*\n",
    "- *multiply all the corresponding pairs,*\n",
    "- *add up those products.* \n",
    "\n",
    "\n",
    "- *Repeat for all positions of the filter as allowed by <a href='https://adeshpande3.github.io/A-Beginner%27s-Guide-To-Understanding-Convolutional-Neural-Networks-Part-2/'>the stride and the padding</a>. The relative position of the filter to the image will tell you which entry in the resultant matrix you're filling in.*"
   ]
  },
  {
   "cell_type": "markdown",
   "metadata": {},
   "source": [
    "Horizontal edge detection filter:\n",
    "\n",
    "$\\begin{bmatrix}\n",
    "10 & 10 & 10 \\\\\n",
    "0 & 0 & 0 \\\\\n",
    "-10 & -10 & -10\n",
    "\\end{bmatrix}$\n",
    "\n",
    "Suppose we apply this filter to (i.e. *convolve*) an image with a clear horizontal edge, such as this one:\n",
    "\n",
    "$\\begin{bmatrix}\n",
    "200 & 200 & 200 & 200 & 200 \\\\\n",
    "200 & 200 & 200 & 200 & 200 \\\\\n",
    "200 & 200 & 200 & 200 & 200 \\\\\n",
    "0 & 0 & 0 & 0 & 0 \\\\\n",
    "0 & 0 & 0 & 0 & 0 \\\\\n",
    "0 & 0 & 0 & 0 & 0\n",
    "\\end{bmatrix}$\n",
    "\n",
    "---\n",
    "\n",
    "Resulting in a *highlighted* horizontal edge:\n",
    "\n",
    "$\\begin{bmatrix}\n",
    "0 & 0 & 0 \\\\\n",
    "6000 & 6000 & 6000 \\\\\n",
    "6000 & 6000 & 6000 \\\\\n",
    "0 & 0 & 0\n",
    "\\end{bmatrix}$"
   ]
  },
  {
   "cell_type": "markdown",
   "metadata": {},
   "source": [
    "### Pooling\n",
    "- The main goal in inserting a *pooling layer* is to reduce dimensionality, which helps to reduce both network computation and model overfitting. \n",
    "- This is generally a matter of reducing a matrix or tensor of values to some smaller size, and the most common way of doing this is by partitioning the large matrix into $n \\times n$ blocks and then replacing each with the largest value in the block. \n",
    "    - Hence: \"*MaxPooling*\"."
   ]
  },
  {
   "cell_type": "markdown",
   "metadata": {},
   "source": [
    "> [***From TensorFlow***]\n",
    ">\n",
    "> *This tutorial demonstrates training a simple <a href='https://developers.google.com/machine-learning/glossary/#convolutional_neural_network'>Convolutional Neural Network</a> (CNN) to classify MNIST digits. This simple network will achieve over 99% accuracy on the MNIST test set. Because this tutorial uses the <a href='https://www.tensorflow.org/guide/keras'>Keras Sequential API</a>, creating and training our model will take just a few lines of code.*\n",
    ">\n",
    "> *Note: CNNs train faster with a GPU. If you are running this notebook with Colab, you can enable the free GPU via **Edit -> Notebook settings -> Hardware accelerator -> GPU**.*"
   ]
  },
  {
   "cell_type": "markdown",
   "metadata": {},
   "source": [
    "# Interactive Visualization\n",
    "\n",
    "> *https://www.cs.ryerson.ca/~aharley/vis/conv/*"
   ]
  },
  {
   "cell_type": "markdown",
   "metadata": {},
   "source": [
    "# Demonstration"
   ]
  },
  {
   "cell_type": "markdown",
   "metadata": {},
   "source": [
    "## Obtain Data"
   ]
  },
  {
   "cell_type": "code",
   "execution_count": 1,
   "metadata": {
    "ExecuteTime": {
     "end_time": "2021-04-27T20:01:33.281775Z",
     "start_time": "2021-04-27T20:01:23.159756Z"
    }
   },
   "outputs": [],
   "source": [
    "import tensorflow as tf\n",
    "from matplotlib import pyplot as plt\n",
    "from tensorflow.keras import datasets, layers, models"
   ]
  },
  {
   "cell_type": "code",
   "execution_count": 2,
   "metadata": {
    "ExecuteTime": {
     "end_time": "2021-04-27T20:01:33.552821Z",
     "start_time": "2021-04-27T20:01:33.284126Z"
    }
   },
   "outputs": [],
   "source": [
    "# Load data.\n",
    "((train_images, train_labels), \n",
    "(test_images, test_labels)) = datasets.mnist.load_data()"
   ]
  },
  {
   "cell_type": "code",
   "execution_count": 3,
   "metadata": {
    "ExecuteTime": {
     "end_time": "2021-04-27T20:01:33.560043Z",
     "start_time": "2021-04-27T20:01:33.555235Z"
    }
   },
   "outputs": [
    {
     "data": {
      "text/plain": [
       "((60000, 28, 28), (10000, 28, 28))"
      ]
     },
     "execution_count": 3,
     "metadata": {},
     "output_type": "execute_result"
    }
   ],
   "source": [
    "# Checking shapes.\n",
    "train_images.shape, test_images.shape"
   ]
  },
  {
   "cell_type": "markdown",
   "metadata": {},
   "source": [
    "## Preprocessing"
   ]
  },
  {
   "cell_type": "code",
   "execution_count": 4,
   "metadata": {
    "ExecuteTime": {
     "end_time": "2021-04-27T20:01:33.565300Z",
     "start_time": "2021-04-27T20:01:33.562339Z"
    }
   },
   "outputs": [],
   "source": [
    "# Needing to pass in a 3-dimensional image into CovNet.\n",
    "train_images = train_images.reshape((60000, 28, 28, 1))\n",
    "test_images = test_images.reshape((10000, 28, 28, 1))"
   ]
  },
  {
   "cell_type": "code",
   "execution_count": 5,
   "metadata": {
    "ExecuteTime": {
     "end_time": "2021-04-27T20:01:33.821289Z",
     "start_time": "2021-04-27T20:01:33.567225Z"
    }
   },
   "outputs": [],
   "source": [
    "# Normalize pixel values to be between 0 and 1.\n",
    "train_images, test_images = train_images / 255, test_images / 255"
   ]
  },
  {
   "cell_type": "markdown",
   "metadata": {},
   "source": [
    "## Create the Convolutional Base\n",
    "\n",
    "> *The 6 lines of code below define the convolutional base using a common pattern: a stack of <a href='https://www.tensorflow.org/api_docs/python/tf/keras/layers/Conv2D'>Conv2D</a> and <a href='https://www.tensorflow.org/api_docs/python/tf/keras/layers/MaxPool2D'>MaxPooling2D</a> layers.*\n",
    "> \n",
    "> - *As input, a CNN takes tensors of shape (image_height, image_width, color_channels), ignoring the batch size.*\n",
    ">    - *If you are new to color channels, MNIST has one (because the images are grayscale), whereas a color image has three (R,G,B).* \n",
    "> - *In this example, we will configure our CNN to process inputs of shape (28, 28, 1), which is the format of MNIST images. We do this by passing the argument `input_shape` to our first layer.*"
   ]
  },
  {
   "cell_type": "code",
   "execution_count": 6,
   "metadata": {
    "ExecuteTime": {
     "end_time": "2021-04-27T20:01:33.826916Z",
     "start_time": "2021-04-27T20:01:33.823307Z"
    }
   },
   "outputs": [
    {
     "data": {
      "text/plain": [
       "(28, 28, 1)"
      ]
     },
     "execution_count": 6,
     "metadata": {},
     "output_type": "execute_result"
    }
   ],
   "source": [
    "train_images[0].shape"
   ]
  },
  {
   "cell_type": "code",
   "execution_count": 7,
   "metadata": {
    "ExecuteTime": {
     "end_time": "2021-04-27T20:01:33.902702Z",
     "start_time": "2021-04-27T20:01:33.828575Z"
    }
   },
   "outputs": [
    {
     "name": "stdout",
     "output_type": "stream",
     "text": [
      "Model: \"sequential\"\n",
      "_________________________________________________________________\n",
      "Layer (type)                 Output Shape              Param #   \n",
      "=================================================================\n",
      "conv2d (Conv2D)              (None, 28, 28, 32)        320       \n",
      "_________________________________________________________________\n",
      "max_pooling2d (MaxPooling2D) (None, 14, 14, 32)        0         \n",
      "_________________________________________________________________\n",
      "conv2d_1 (Conv2D)            (None, 12, 12, 64)        18496     \n",
      "_________________________________________________________________\n",
      "max_pooling2d_1 (MaxPooling2 (None, 6, 6, 64)          0         \n",
      "_________________________________________________________________\n",
      "conv2d_2 (Conv2D)            (None, 4, 4, 64)          36928     \n",
      "=================================================================\n",
      "Total params: 55,744\n",
      "Trainable params: 55,744\n",
      "Non-trainable params: 0\n",
      "_________________________________________________________________\n"
     ]
    }
   ],
   "source": [
    "# Creating a model.\n",
    "model = models.Sequential()\n",
    "\n",
    "# Input layer with `input_shape` parameter.\n",
    "model.add(\n",
    "    layers.Conv2D(\n",
    "        32, \n",
    "        (3, 3), \n",
    "        activation='relu', \n",
    "        input_shape=train_images[0].shape,\n",
    "        padding='same')\n",
    "    )\n",
    "model.add(layers.MaxPooling2D((2, 2)))\n",
    "model.add(layers.Conv2D(64, (3, 3), activation='relu'))\n",
    "model.add(layers.MaxPooling2D((2, 2)))\n",
    "model.add(layers.Conv2D(64, (3, 3), activation='relu'))\n",
    "\n",
    "model.summary()"
   ]
  },
  {
   "cell_type": "markdown",
   "metadata": {},
   "source": [
    "- Above, you can see that the output of every Conv2D and MaxPooling2D layer is a 3D tensor of shape (height, width, channels). \n",
    "- The width and height dimensions tend to shrink as we go deeper in the network. The number of output channels for each Conv2D layer is controlled by the first argument (e.g., 32 or 64). \n",
    "- Typically,  as the width and height shrink, we can afford (computationally) to add more output channels in each Conv2D layer."
   ]
  },
  {
   "cell_type": "markdown",
   "metadata": {},
   "source": [
    "## Adding Dense Layers\n",
    "- To complete our model, we will feed the last output tensor from the convolutional base (of shape (3, 3, 64)) into one or more Dense layers to perform classification. \n",
    "- Dense layers take vectors as input (which are 1D), while the current output is a 3D tensor. \n",
    "- First, we will flatten (or unroll) the 3D output to 1D,  then add one or more Dense layers on top. \n",
    "- MNIST has 10 output classes, so we use a final Dense layer with 10 outputs and a softmax activation."
   ]
  },
  {
   "cell_type": "code",
   "execution_count": 8,
   "metadata": {
    "ExecuteTime": {
     "end_time": "2021-04-27T20:01:33.936659Z",
     "start_time": "2021-04-27T20:01:33.907297Z"
    }
   },
   "outputs": [
    {
     "name": "stdout",
     "output_type": "stream",
     "text": [
      "Model: \"sequential\"\n",
      "_________________________________________________________________\n",
      "Layer (type)                 Output Shape              Param #   \n",
      "=================================================================\n",
      "conv2d (Conv2D)              (None, 28, 28, 32)        320       \n",
      "_________________________________________________________________\n",
      "max_pooling2d (MaxPooling2D) (None, 14, 14, 32)        0         \n",
      "_________________________________________________________________\n",
      "conv2d_1 (Conv2D)            (None, 12, 12, 64)        18496     \n",
      "_________________________________________________________________\n",
      "max_pooling2d_1 (MaxPooling2 (None, 6, 6, 64)          0         \n",
      "_________________________________________________________________\n",
      "conv2d_2 (Conv2D)            (None, 4, 4, 64)          36928     \n",
      "_________________________________________________________________\n",
      "flatten (Flatten)            (None, 1024)              0         \n",
      "_________________________________________________________________\n",
      "dense (Dense)                (None, 64)                65600     \n",
      "_________________________________________________________________\n",
      "dense_1 (Dense)              (None, 10)                650       \n",
      "=================================================================\n",
      "Total params: 121,994\n",
      "Trainable params: 121,994\n",
      "Non-trainable params: 0\n",
      "_________________________________________________________________\n"
     ]
    }
   ],
   "source": [
    "model.add(layers.Flatten())\n",
    "model.add(layers.Dense(64, activation='relu'))\n",
    "model.add(layers.Dense(10, activation='softmax'))\n",
    "\n",
    "model.summary()"
   ]
  },
  {
   "cell_type": "markdown",
   "metadata": {},
   "source": [
    "As you can see, our (3, 3, 64) outputs were flattened into vectors of shape (576) before going through two Dense layers."
   ]
  },
  {
   "cell_type": "code",
   "execution_count": 9,
   "metadata": {
    "ExecuteTime": {
     "end_time": "2021-04-27T20:01:33.961238Z",
     "start_time": "2021-04-27T20:01:33.940199Z"
    }
   },
   "outputs": [],
   "source": [
    "model.compile(optimizer='adam',\n",
    "              loss='sparse_categorical_crossentropy',\n",
    "              metrics=['accuracy'])"
   ]
  },
  {
   "cell_type": "code",
   "execution_count": 10,
   "metadata": {
    "ExecuteTime": {
     "end_time": "2021-04-27T20:02:21.530841Z",
     "start_time": "2021-04-27T20:01:33.963397Z"
    }
   },
   "outputs": [
    {
     "name": "stdout",
     "output_type": "stream",
     "text": [
      "Epoch 1/2\n",
      "938/938 [==============================] - 24s 25ms/step - loss: 0.4039 - accuracy: 0.8772\n",
      "Epoch 2/2\n",
      "938/938 [==============================] - 23s 25ms/step - loss: 0.0450 - accuracy: 0.9860\n"
     ]
    },
    {
     "data": {
      "text/plain": [
       "<tensorflow.python.keras.callbacks.History at 0x7fdf838b8128>"
      ]
     },
     "execution_count": 10,
     "metadata": {},
     "output_type": "execute_result"
    }
   ],
   "source": [
    "model.fit(train_images, train_labels, epochs=2, batch_size=64)"
   ]
  },
  {
   "cell_type": "markdown",
   "metadata": {},
   "source": [
    "## Evaluating the Model"
   ]
  },
  {
   "cell_type": "code",
   "execution_count": 11,
   "metadata": {
    "ExecuteTime": {
     "end_time": "2021-04-27T20:02:22.602606Z",
     "start_time": "2021-04-27T20:02:21.533264Z"
    }
   },
   "outputs": [
    {
     "name": "stdout",
     "output_type": "stream",
     "text": [
      "313/313 [==============================] - 1s 3ms/step - loss: 0.0310 - accuracy: 0.9898\n",
      "Loss\n",
      "\t0.031029198318719864\n",
      "Accuracy\n",
      "\t0.989799976348877\n"
     ]
    }
   ],
   "source": [
    "test_loss, test_acc = model.evaluate(test_images, test_labels)\n",
    "\n",
    "print(f'Loss\\n\\t{test_loss}\\nAccuracy\\n\\t{test_acc}')"
   ]
  },
  {
   "cell_type": "code",
   "execution_count": 12,
   "metadata": {
    "ExecuteTime": {
     "end_time": "2021-04-27T20:02:22.873673Z",
     "start_time": "2021-04-27T20:02:22.604171Z"
    }
   },
   "outputs": [
    {
     "data": {
      "image/png": "[encoded data removed]",
      "text/plain": [
       "<Figure size 432x288 with 1 Axes>"
      ]
     },
     "metadata": {
      "needs_background": "light"
     },
     "output_type": "display_data"
    }
   ],
   "source": [
    "# Show prediction probabilities.\n",
    "plt.bar(\n",
    "    range(10), \n",
    "    (model.predict(test_images[0].reshape(1, 28, 28, 1))).flatten()\n",
    "    );"
   ]
  },
  {
   "cell_type": "code",
   "execution_count": 13,
   "metadata": {
    "ExecuteTime": {
     "end_time": "2021-04-27T20:02:22.995974Z",
     "start_time": "2021-04-27T20:02:22.875619Z"
    }
   },
   "outputs": [
    {
     "data": {
      "image/png": "[encoded data removed]",
      "text/plain": [
       "<Figure size 432x288 with 1 Axes>"
      ]
     },
     "metadata": {
      "needs_background": "light"
     },
     "output_type": "display_data"
    }
   ],
   "source": [
    "# Show actual image.\n",
    "plt.imshow(test_images[0].reshape(28, 28));"
   ]
  },
  {
   "cell_type": "markdown",
   "metadata": {},
   "source": [
    "# Common Image Processing / Augmentation\n",
    "\n",
    "The `ImageDataGenerator` is commonly used to bolster and enhance your training images by rotating and shifting"
   ]
  },
  {
   "cell_type": "code",
   "execution_count": 14,
   "metadata": {
    "ExecuteTime": {
     "end_time": "2021-04-27T20:02:22.999662Z",
     "start_time": "2021-04-27T20:02:22.997455Z"
    }
   },
   "outputs": [],
   "source": [
    "from tensorflow.keras.preprocessing.image import ImageDataGenerator"
   ]
  },
  {
   "cell_type": "code",
   "execution_count": 15,
   "metadata": {
    "ExecuteTime": {
     "end_time": "2021-04-27T20:02:23.004180Z",
     "start_time": "2021-04-27T20:02:23.001155Z"
    }
   },
   "outputs": [
    {
     "data": {
      "text/plain": [
       "<tensorflow.python.keras.preprocessing.image.ImageDataGenerator at 0x7fdf7b23bd68>"
      ]
     },
     "execution_count": 15,
     "metadata": {},
     "output_type": "execute_result"
    }
   ],
   "source": [
    "ImageDataGenerator()"
   ]
  },
  {
   "cell_type": "markdown",
   "metadata": {},
   "source": [
    "```\n",
    "Generate batches of tensor image data with real-time data augmentation.\n",
    "\n",
    " The data will be looped over (in batches).\n",
    "```"
   ]
  },
  {
   "cell_type": "code",
   "execution_count": 16,
   "metadata": {
    "ExecuteTime": {
     "end_time": "2021-04-27T20:02:23.008355Z",
     "start_time": "2021-04-27T20:02:23.005783Z"
    }
   },
   "outputs": [],
   "source": [
    "# Create data generator.\n",
    "datagen = ImageDataGenerator(\n",
    "    featurewise_center=True,\n",
    "    featurewise_std_normalization=True,\n",
    "    rotation_range=20,\n",
    "    width_shift_range=0.2,\n",
    "    height_shift_range=0.2,\n",
    "    horizontal_flip=True)"
   ]
  },
  {
   "cell_type": "code",
   "execution_count": 17,
   "metadata": {
    "ExecuteTime": {
     "end_time": "2021-04-27T20:02:23.012202Z",
     "start_time": "2021-04-27T20:02:23.009973Z"
    }
   },
   "outputs": [],
   "source": [
    "# datagen.fit(train_images)"
   ]
  },
  {
   "cell_type": "markdown",
   "metadata": {},
   "source": [
    "*Example:*\n",
    "<img src='./images/cat_data_augmentation.png'>"
   ]
  },
  {
   "cell_type": "markdown",
   "metadata": {},
   "source": [
    "### Notes:\n",
    "#### Flow / Flow from DataFrame\n",
    "- If the data is loaded into memory, you can use `.flow()` or `.flow_from_dataframe()` to access it:\n",
    "\n",
    "> ```python\n",
    "> train_generator = datagen.flow(train_images, train_labels, batch_size=32)\n",
    "> \n",
    "> model.fit(\n",
    ">     train_generator,\n",
    ">     steps_per_epoch=train_images.shape[0] // 32, \n",
    ">     epochs=10\n",
    ">     )\n",
    "> ```\n",
    "#### Flow from Directory\n",
    "- If the data is in a directory and not loaded into memory, you can use `.flow_from_directory()` to access it:\n",
    "\n",
    "> ```\n",
    "> train_generator = train_datagen.flow_from_directory('data/train')\n",
    "> validation_generator = test_datagen.flow_from_directory('data/validation')\n",
    "> \n",
    "> model.fit(\n",
    ">         train_generator,\n",
    ">         epochs=50,\n",
    ">         validation_data=validation_generator,\n",
    ">         validation_steps=800)\n",
    "> ```\n",
    "\n",
    "> **directory:**\n",
    "> \n",
    "> **string, path to the target directory. It should contain one subdirectory per class. Any PNG, JPG, BMP, PPM or TIF images inside each of the subdirectories directory tree will be included in the generator.**\n",
    "\n",
    "In summary, this is our directory structure:\n",
    "```\n",
    "data/\n",
    "    train/\n",
    "        dogs/\n",
    "            dog001.jpg\n",
    "            dog002.jpg\n",
    "            ...\n",
    "        cats/\n",
    "            cat001.jpg\n",
    "            cat002.jpg\n",
    "            ...\n",
    "    validation/\n",
    "        dogs/\n",
    "            dog001.jpg\n",
    "            dog002.jpg\n",
    "            ...\n",
    "        cats/\n",
    "            cat001.jpg\n",
    "            cat002.jpg\n",
    "            ...\n",
    "```"
   ]
  }
 ],
 "metadata": {
  "kernelspec": {
   "display_name": "Python [conda env:learn-env] *",
   "language": "python",
   "name": "conda-env-learn-env-py"
  },
  "language_info": {
   "codemirror_mode": {
    "name": "ipython",
    "version": 3
   },
   "file_extension": ".py",
   "mimetype": "text/x-python",
   "name": "python",
   "nbconvert_exporter": "python",
   "pygments_lexer": "ipython3",
   "version": "3.6.9"
  },
  "toc": {
   "base_numbering": 1,
   "nav_menu": {},
   "number_sections": false,
   "sideBar": true,
   "skip_h1_title": false,
   "title_cell": "Table of Contents",
   "title_sidebar": "Contents",
   "toc_cell": false,
   "toc_position": {
    "height": "calc(100% - 180px)",
    "left": "10px",
    "top": "150px",
    "width": "336px"
   },
   "toc_section_display": true,
   "toc_window_display": true
  }
 },
 "nbformat": 4,
 "nbformat_minor": 2
}
