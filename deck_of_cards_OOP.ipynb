{
 "cells": [
  {
   "cell_type": "markdown",
   "metadata": {},
   "source": [
    "# Building a Deck of Cards"
   ]
  },
  {
   "cell_type": "code",
   "execution_count": 1,
   "metadata": {
    "ExecuteTime": {
     "end_time": "2021-03-17T21:46:25.642994Z",
     "start_time": "2021-03-17T21:46:25.542221Z"
    }
   },
   "outputs": [],
   "source": [
    "# Used for shuffling only! Everything else is pure python.\n",
    "import numpy as np"
   ]
  },
  {
   "cell_type": "markdown",
   "metadata": {},
   "source": [
    "## The Cards\n",
    "\n",
    "***Card:***\n",
    "- *Strength / Value / Name*\n",
    "- *Suit*\n",
    "- *Color*"
   ]
  },
  {
   "cell_type": "code",
   "execution_count": 2,
   "metadata": {
    "ExecuteTime": {
     "end_time": "2021-03-17T21:46:25.651066Z",
     "start_time": "2021-03-17T21:46:25.644679Z"
    }
   },
   "outputs": [],
   "source": [
    "class Card:\n",
    "    \"\"\"\n",
    "    Create a Card object.\n",
    "    `name` must be one of ('2', '3', '4', ..., 'J', 'Q', 'K', 'A')\n",
    "    `suit` must be one of ('S', 'C', 'D', 'H')\n",
    "    \"\"\"\n",
    "    \n",
    "    def __init__(self, name, suit):\n",
    "        if suit not in ('S', 'C', 'D', 'H'):\n",
    "            # We'll just call it a 'Spade' for now.\n",
    "            # Normally, I'd write a bit more code here to make sure the User\n",
    "            # is following the rules...\n",
    "            suit = 'S'\n",
    "            \n",
    "        if name not in ('2','3','4','5','6','7','8','9','10','J','Q','K','A'):\n",
    "            # Same as above.\n",
    "            name = 'A'\n",
    "        \n",
    "        # Setting attributes\n",
    "        self.name = name\n",
    "        self.suit = suit\n",
    "        \n",
    "        # Extracting information from name and suit that are relevant.\n",
    "        value_dct = {\n",
    "            '2': 2,\n",
    "            '3': 3,\n",
    "            '4': 4,\n",
    "            '5': 5,\n",
    "            '6': 6,\n",
    "            '7': 7,\n",
    "            '8': 8,\n",
    "            '9': 9,\n",
    "            '10': 10,\n",
    "            'J': 11,\n",
    "            'Q': 12,\n",
    "            'K': 13,\n",
    "            'A': 14\n",
    "        }\n",
    "        self.value = value_dct.get(self.name, 0) # Check out `.get()` here: https://stackoverflow.com/a/11041421/12166323\n",
    "        self.color = 'Black' if self.suit in ('S', 'C') else 'Red'\n",
    "        \n",
    "    def __str__(self):\n",
    "        return 'A Card (__str__)'\n",
    "    \n",
    "    def __repr__(self):\n",
    "        return 'A Card (__repr__)'\n",
    "        \n",
    "    def show_card(self):\n",
    "        return f'{self.name} of {self.suit}'"
   ]
  },
  {
   "cell_type": "code",
   "execution_count": 3,
   "metadata": {
    "ExecuteTime": {
     "end_time": "2021-03-17T21:46:25.656042Z",
     "start_time": "2021-03-17T21:46:25.653706Z"
    }
   },
   "outputs": [],
   "source": [
    "# Create one!\n",
    "card = Card('A', 'S')"
   ]
  },
  {
   "cell_type": "code",
   "execution_count": 4,
   "metadata": {
    "ExecuteTime": {
     "end_time": "2021-03-17T21:46:25.666562Z",
     "start_time": "2021-03-17T21:46:25.658223Z"
    }
   },
   "outputs": [
    {
     "data": {
      "text/plain": [
       "A Card (__repr__)"
      ]
     },
     "execution_count": 4,
     "metadata": {},
     "output_type": "execute_result"
    }
   ],
   "source": [
    "# How does it display?\n",
    "card"
   ]
  },
  {
   "cell_type": "code",
   "execution_count": 5,
   "metadata": {
    "ExecuteTime": {
     "end_time": "2021-03-17T21:46:25.671622Z",
     "start_time": "2021-03-17T21:46:25.668747Z"
    }
   },
   "outputs": [
    {
     "name": "stdout",
     "output_type": "stream",
     "text": [
      "A Card (__str__)\n"
     ]
    }
   ],
   "source": [
    "# How does it print?\n",
    "print(card)"
   ]
  },
  {
   "cell_type": "markdown",
   "metadata": {},
   "source": [
    "*If you're curious about the difference between `__str__(self)` and `__repr__(self)`, here's a detailed discussion: https://stackoverflow.com/a/2626364/12166323*"
   ]
  },
  {
   "cell_type": "code",
   "execution_count": 6,
   "metadata": {
    "ExecuteTime": {
     "end_time": "2021-03-17T21:46:25.675984Z",
     "start_time": "2021-03-17T21:46:25.673241Z"
    }
   },
   "outputs": [
    {
     "data": {
      "text/plain": [
       "'A of S'"
      ]
     },
     "execution_count": 6,
     "metadata": {},
     "output_type": "execute_result"
    }
   ],
   "source": [
    "# Using its function.\n",
    "card.show_card()"
   ]
  },
  {
   "cell_type": "markdown",
   "metadata": {},
   "source": [
    "*Checking attributes*"
   ]
  },
  {
   "cell_type": "code",
   "execution_count": 7,
   "metadata": {
    "ExecuteTime": {
     "end_time": "2021-03-17T21:46:25.680474Z",
     "start_time": "2021-03-17T21:46:25.677750Z"
    }
   },
   "outputs": [
    {
     "data": {
      "text/plain": [
       "'A'"
      ]
     },
     "execution_count": 7,
     "metadata": {},
     "output_type": "execute_result"
    }
   ],
   "source": [
    "card.name"
   ]
  },
  {
   "cell_type": "code",
   "execution_count": 8,
   "metadata": {
    "ExecuteTime": {
     "end_time": "2021-03-17T21:46:25.687021Z",
     "start_time": "2021-03-17T21:46:25.683894Z"
    }
   },
   "outputs": [
    {
     "data": {
      "text/plain": [
       "14"
      ]
     },
     "execution_count": 8,
     "metadata": {},
     "output_type": "execute_result"
    }
   ],
   "source": [
    "card.value"
   ]
  },
  {
   "cell_type": "code",
   "execution_count": 9,
   "metadata": {
    "ExecuteTime": {
     "end_time": "2021-03-17T21:46:25.693622Z",
     "start_time": "2021-03-17T21:46:25.690218Z"
    }
   },
   "outputs": [
    {
     "data": {
      "text/plain": [
       "'S'"
      ]
     },
     "execution_count": 9,
     "metadata": {},
     "output_type": "execute_result"
    }
   ],
   "source": [
    "card.suit"
   ]
  },
  {
   "cell_type": "code",
   "execution_count": 10,
   "metadata": {
    "ExecuteTime": {
     "end_time": "2021-03-17T21:46:25.698517Z",
     "start_time": "2021-03-17T21:46:25.695496Z"
    }
   },
   "outputs": [
    {
     "data": {
      "text/plain": [
       "'Black'"
      ]
     },
     "execution_count": 10,
     "metadata": {},
     "output_type": "execute_result"
    }
   ],
   "source": [
    "card.color"
   ]
  },
  {
   "cell_type": "markdown",
   "metadata": {},
   "source": [
    "## Deck\n",
    "\n",
    "***A Deck***\n",
    "- \"a collection of Cards\""
   ]
  },
  {
   "cell_type": "markdown",
   "metadata": {},
   "source": [
    "### A `shuffle` function?"
   ]
  },
  {
   "cell_type": "code",
   "execution_count": 11,
   "metadata": {
    "ExecuteTime": {
     "end_time": "2021-03-17T21:46:25.702621Z",
     "start_time": "2021-03-17T21:46:25.700166Z"
    }
   },
   "outputs": [],
   "source": [
    "lst = ['A',2,3,4,5]\n",
    "np.random.shuffle(lst)"
   ]
  },
  {
   "cell_type": "code",
   "execution_count": 12,
   "metadata": {
    "ExecuteTime": {
     "end_time": "2021-03-17T21:46:25.707427Z",
     "start_time": "2021-03-17T21:46:25.704428Z"
    }
   },
   "outputs": [
    {
     "data": {
      "text/plain": [
       "[5, 'A', 3, 4, 2]"
      ]
     },
     "execution_count": 12,
     "metadata": {},
     "output_type": "execute_result"
    }
   ],
   "source": [
    "lst"
   ]
  },
  {
   "cell_type": "code",
   "execution_count": 13,
   "metadata": {
    "ExecuteTime": {
     "end_time": "2021-03-17T21:46:25.716218Z",
     "start_time": "2021-03-17T21:46:25.709304Z"
    }
   },
   "outputs": [],
   "source": [
    "class Deck:\n",
    "    \"\"\"\n",
    "    Creates a Deck of Cards.\n",
    "    If `complete_deck` is False, the Deck will contain no cards.\n",
    "    \"\"\"\n",
    "    \n",
    "    def __init__(self, complete_deck=True):\n",
    "        if not complete_deck:\n",
    "            self.cards = []\n",
    "            return\n",
    "        \n",
    "        names = ['2','3','4','5','6','7','8','9','10','J','Q','K','A']\n",
    "        suits = ['S', 'C', 'D', 'H']\n",
    "        \n",
    "        self.cards = []\n",
    "        for suit in suits:\n",
    "            for name in names:\n",
    "                self.cards.append(Card(name, suit))\n",
    "                \n",
    "        # We could also do the above loops in a list comprehension:\n",
    "        # self.cards = [Card(name, suit) for name in names for suit in suits]\n",
    "                \n",
    "    def __str__(self):\n",
    "        return 'A Deck (__str__)'\n",
    "    \n",
    "    def __repr__(self):\n",
    "        num_cards = len(self.cards)\n",
    "        return f'A Deck with {num_cards} Cards! (__repr__)'\n",
    "                \n",
    "    def shuffle_deck(self):\n",
    "        np.random.shuffle(self.cards)\n",
    "        \n",
    "    def shuffle_and_deal(self, n=5):\n",
    "        # Make a \"hand\" which will be \"dealt\" (returned) back to us.\n",
    "        my_hand = []\n",
    "        self.shuffle_deck()\n",
    "        for _ in range(n):\n",
    "            card = self.cards.pop()\n",
    "            my_hand.append(card)\n",
    "            \n",
    "        # When we return this, we have to make sure \n",
    "        # we save it in a variable to use it!\n",
    "        return my_hand"
   ]
  },
  {
   "cell_type": "code",
   "execution_count": 14,
   "metadata": {
    "ExecuteTime": {
     "end_time": "2021-03-17T21:46:25.721458Z",
     "start_time": "2021-03-17T21:46:25.718635Z"
    }
   },
   "outputs": [],
   "source": [
    "# Make one!\n",
    "deck = Deck()"
   ]
  },
  {
   "cell_type": "code",
   "execution_count": 15,
   "metadata": {
    "ExecuteTime": {
     "end_time": "2021-03-17T21:46:25.726694Z",
     "start_time": "2021-03-17T21:46:25.723464Z"
    }
   },
   "outputs": [
    {
     "data": {
      "text/plain": [
       "A Deck with 52 Cards! (__repr__)"
      ]
     },
     "execution_count": 15,
     "metadata": {},
     "output_type": "execute_result"
    }
   ],
   "source": [
    "# How does it display?\n",
    "deck"
   ]
  },
  {
   "cell_type": "code",
   "execution_count": 16,
   "metadata": {
    "ExecuteTime": {
     "end_time": "2021-03-17T21:46:25.731172Z",
     "start_time": "2021-03-17T21:46:25.728503Z"
    }
   },
   "outputs": [
    {
     "name": "stdout",
     "output_type": "stream",
     "text": [
      "A Deck (__str__)\n"
     ]
    }
   ],
   "source": [
    "# How does it print?\n",
    "print(deck)"
   ]
  },
  {
   "cell_type": "code",
   "execution_count": 17,
   "metadata": {
    "ExecuteTime": {
     "end_time": "2021-03-17T21:46:25.736261Z",
     "start_time": "2021-03-17T21:46:25.732899Z"
    }
   },
   "outputs": [
    {
     "data": {
      "text/plain": [
       "52"
      ]
     },
     "execution_count": 17,
     "metadata": {},
     "output_type": "execute_result"
    }
   ],
   "source": [
    "# How many elements (Cards) are in the deck's `cards` attribute?\n",
    "len(deck.cards)"
   ]
  },
  {
   "cell_type": "code",
   "execution_count": 18,
   "metadata": {
    "ExecuteTime": {
     "end_time": "2021-03-17T21:46:25.743154Z",
     "start_time": "2021-03-17T21:46:25.738388Z"
    },
    "scrolled": true
   },
   "outputs": [
    {
     "name": "stdout",
     "output_type": "stream",
     "text": [
      "2 of S\n",
      "3 of S\n",
      "4 of S\n",
      "5 of S\n",
      "6 of S\n",
      "7 of S\n",
      "8 of S\n",
      "9 of S\n",
      "10 of S\n",
      "J of S\n",
      "Q of S\n",
      "K of S\n",
      "A of S\n",
      "2 of C\n",
      "3 of C\n",
      "4 of C\n",
      "5 of C\n",
      "6 of C\n",
      "7 of C\n",
      "8 of C\n",
      "9 of C\n",
      "10 of C\n",
      "J of C\n",
      "Q of C\n",
      "K of C\n",
      "A of C\n",
      "2 of D\n",
      "3 of D\n",
      "4 of D\n",
      "5 of D\n",
      "6 of D\n",
      "7 of D\n",
      "8 of D\n",
      "9 of D\n",
      "10 of D\n",
      "J of D\n",
      "Q of D\n",
      "K of D\n",
      "A of D\n",
      "2 of H\n",
      "3 of H\n",
      "4 of H\n",
      "5 of H\n",
      "6 of H\n",
      "7 of H\n",
      "8 of H\n",
      "9 of H\n",
      "10 of H\n",
      "J of H\n",
      "Q of H\n",
      "K of H\n",
      "A of H\n"
     ]
    }
   ],
   "source": [
    "# \"Flip over\" each card in the deck.\n",
    "for card in deck.cards:\n",
    "    print(card.show_card())"
   ]
  },
  {
   "cell_type": "code",
   "execution_count": 19,
   "metadata": {
    "ExecuteTime": {
     "end_time": "2021-03-17T21:46:25.747814Z",
     "start_time": "2021-03-17T21:46:25.745412Z"
    }
   },
   "outputs": [],
   "source": [
    "# The Deck's cards are in order. We should shuffle...\n",
    "deck.shuffle_deck()"
   ]
  },
  {
   "cell_type": "code",
   "execution_count": 20,
   "metadata": {
    "ExecuteTime": {
     "end_time": "2021-03-17T21:46:25.755310Z",
     "start_time": "2021-03-17T21:46:25.749819Z"
    }
   },
   "outputs": [
    {
     "name": "stdout",
     "output_type": "stream",
     "text": [
      "2 of C\n",
      "J of H\n",
      "A of S\n",
      "Q of H\n",
      "A of H\n",
      "2 of S\n",
      "10 of H\n",
      "K of C\n",
      "9 of C\n",
      "2 of D\n",
      "A of C\n",
      "Q of C\n",
      "K of S\n",
      "9 of S\n",
      "5 of H\n",
      "5 of S\n",
      "Q of D\n",
      "K of H\n",
      "6 of H\n",
      "2 of H\n",
      "K of D\n",
      "3 of S\n",
      "8 of S\n",
      "Q of S\n",
      "7 of D\n",
      "3 of C\n",
      "6 of D\n",
      "9 of D\n",
      "7 of C\n",
      "8 of H\n",
      "3 of D\n",
      "4 of H\n",
      "6 of S\n",
      "10 of C\n",
      "4 of D\n",
      "4 of C\n",
      "7 of H\n",
      "A of D\n",
      "5 of D\n",
      "J of C\n",
      "5 of C\n",
      "10 of S\n",
      "J of S\n",
      "3 of H\n",
      "9 of H\n",
      "8 of C\n",
      "4 of S\n",
      "J of D\n",
      "7 of S\n",
      "6 of C\n",
      "8 of D\n",
      "10 of D\n"
     ]
    }
   ],
   "source": [
    "# Did the shuffle work?\n",
    "for card in deck.cards:\n",
    "    print(card.show_card())"
   ]
  },
  {
   "cell_type": "code",
   "execution_count": 21,
   "metadata": {
    "ExecuteTime": {
     "end_time": "2021-03-17T21:46:25.759878Z",
     "start_time": "2021-03-17T21:46:25.757175Z"
    }
   },
   "outputs": [],
   "source": [
    "# Deal a hand!\n",
    "my_hand = deck.shuffle_and_deal(7)"
   ]
  },
  {
   "cell_type": "code",
   "execution_count": 22,
   "metadata": {
    "ExecuteTime": {
     "end_time": "2021-03-17T21:46:25.764651Z",
     "start_time": "2021-03-17T21:46:25.761776Z"
    }
   },
   "outputs": [
    {
     "name": "stdout",
     "output_type": "stream",
     "text": [
      "8 of H\n",
      "10 of D\n",
      "3 of C\n",
      "8 of C\n",
      "A of D\n",
      "K of C\n",
      "K of S\n"
     ]
    }
   ],
   "source": [
    "# Let's see the hards in our hand.\n",
    "for card in my_hand:\n",
    "    print(card.show_card())"
   ]
  },
  {
   "cell_type": "markdown",
   "metadata": {},
   "source": [
    "# Nice!\n",
    "\n",
    "## To recap, we:\n",
    "\n",
    "1. Built a Card object using `class`.\n",
    "    - Used `__init__(self)` to set attributes and run processes when the object is created.\n",
    "    - Created a method `show_card(self)` which \"flips the card over\" (shows the name and suit).\n",
    "    - Experimented with `__str__` and `__repr__`.\n",
    "\n",
    "  \n",
    "2. Built a Deck object that uses `Cards`!\n",
    "    - Decks can `shuffle` and `shuffle_and_deal`.\n",
    "    \n",
    "---\n",
    "\n",
    "There are some points which we missed for the sake of drawing up the example.\n",
    "\n",
    "- We could clean up the Card functions for deciding what to do if a user tries to create a Card without a real `name` or `suit`.\n",
    "\n",
    "- We also don't have a plan for what happens if the Deck uses `shuffle_and_deal` but doesn't have enough cards left!"
   ]
  },
  {
   "cell_type": "code",
   "execution_count": 23,
   "metadata": {
    "ExecuteTime": {
     "end_time": "2021-03-17T21:46:25.879674Z",
     "start_time": "2021-03-17T21:46:25.769884Z"
    }
   },
   "outputs": [
    {
     "ename": "IndexError",
     "evalue": "pop from empty list",
     "output_type": "error",
     "traceback": [
      "\u001b[0;31m---------------------------------------------------------------------------\u001b[0m",
      "\u001b[0;31mIndexError\u001b[0m                                Traceback (most recent call last)",
      "\u001b[0;32m<ipython-input-23-b25b4e7d4f73>\u001b[0m in \u001b[0;36m<module>\u001b[0;34m\u001b[0m\n\u001b[1;32m      2\u001b[0m \u001b[0mdeck\u001b[0m \u001b[0;34m=\u001b[0m \u001b[0mDeck\u001b[0m\u001b[0;34m(\u001b[0m\u001b[0;34m)\u001b[0m\u001b[0;34m\u001b[0m\u001b[0;34m\u001b[0m\u001b[0m\n\u001b[1;32m      3\u001b[0m \u001b[0;32mfor\u001b[0m \u001b[0m_\u001b[0m \u001b[0;32min\u001b[0m \u001b[0mrange\u001b[0m\u001b[0;34m(\u001b[0m\u001b[0;36m20\u001b[0m\u001b[0;34m)\u001b[0m\u001b[0;34m:\u001b[0m\u001b[0;34m\u001b[0m\u001b[0;34m\u001b[0m\u001b[0m\n\u001b[0;32m----> 4\u001b[0;31m     \u001b[0mdeck\u001b[0m\u001b[0;34m.\u001b[0m\u001b[0mshuffle_and_deal\u001b[0m\u001b[0;34m(\u001b[0m\u001b[0;34m)\u001b[0m\u001b[0;34m\u001b[0m\u001b[0;34m\u001b[0m\u001b[0m\n\u001b[0m",
      "\u001b[0;32m<ipython-input-13-9dbd2283e221>\u001b[0m in \u001b[0;36mshuffle_and_deal\u001b[0;34m(self, n)\u001b[0m\n\u001b[1;32m     36\u001b[0m         \u001b[0mself\u001b[0m\u001b[0;34m.\u001b[0m\u001b[0mshuffle_deck\u001b[0m\u001b[0;34m(\u001b[0m\u001b[0;34m)\u001b[0m\u001b[0;34m\u001b[0m\u001b[0;34m\u001b[0m\u001b[0m\n\u001b[1;32m     37\u001b[0m         \u001b[0;32mfor\u001b[0m \u001b[0m_\u001b[0m \u001b[0;32min\u001b[0m \u001b[0mrange\u001b[0m\u001b[0;34m(\u001b[0m\u001b[0mn\u001b[0m\u001b[0;34m)\u001b[0m\u001b[0;34m:\u001b[0m\u001b[0;34m\u001b[0m\u001b[0;34m\u001b[0m\u001b[0m\n\u001b[0;32m---> 38\u001b[0;31m             \u001b[0mcard\u001b[0m \u001b[0;34m=\u001b[0m \u001b[0mself\u001b[0m\u001b[0;34m.\u001b[0m\u001b[0mcards\u001b[0m\u001b[0;34m.\u001b[0m\u001b[0mpop\u001b[0m\u001b[0;34m(\u001b[0m\u001b[0;34m)\u001b[0m\u001b[0;34m\u001b[0m\u001b[0;34m\u001b[0m\u001b[0m\n\u001b[0m\u001b[1;32m     39\u001b[0m             \u001b[0mmy_hand\u001b[0m\u001b[0;34m.\u001b[0m\u001b[0mappend\u001b[0m\u001b[0;34m(\u001b[0m\u001b[0mcard\u001b[0m\u001b[0;34m)\u001b[0m\u001b[0;34m\u001b[0m\u001b[0;34m\u001b[0m\u001b[0m\n\u001b[1;32m     40\u001b[0m \u001b[0;34m\u001b[0m\u001b[0m\n",
      "\u001b[0;31mIndexError\u001b[0m: pop from empty list"
     ]
    }
   ],
   "source": [
    "# This will break because we will run out of cards!\n",
    "deck = Deck()\n",
    "for _ in range(20):\n",
    "    deck.shuffle_and_deal()"
   ]
  },
  {
   "cell_type": "markdown",
   "metadata": {},
   "source": [
    "***The `IndexError: pop from empty list` explains it all!***"
   ]
  },
  {
   "cell_type": "code",
   "execution_count": null,
   "metadata": {},
   "outputs": [],
   "source": []
  }
 ],
 "metadata": {
  "kernelspec": {
   "display_name": "Python [conda env:learn-env] *",
   "language": "python",
   "name": "conda-env-learn-env-py"
  },
  "language_info": {
   "codemirror_mode": {
    "name": "ipython",
    "version": 3
   },
   "file_extension": ".py",
   "mimetype": "text/x-python",
   "name": "python",
   "nbconvert_exporter": "python",
   "pygments_lexer": "ipython3",
   "version": "3.6.9"
  },
  "toc": {
   "base_numbering": 1,
   "nav_menu": {},
   "number_sections": true,
   "sideBar": true,
   "skip_h1_title": false,
   "title_cell": "Table of Contents",
   "title_sidebar": "Contents",
   "toc_cell": false,
   "toc_position": {},
   "toc_section_display": true,
   "toc_window_display": false
  }
 },
 "nbformat": 4,
 "nbformat_minor": 2
}
